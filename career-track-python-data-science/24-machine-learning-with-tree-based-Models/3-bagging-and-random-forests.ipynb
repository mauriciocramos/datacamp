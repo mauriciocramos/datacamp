{
 "cells": [
  {
   "cell_type": "markdown",
   "id": "9bd6e526-c663-481d-b4c6-64a85b2cfc28",
   "metadata": {},
   "source": [
    "# Bagging (Boostrap Aggregation)"
   ]
  },
  {
   "cell_type": "markdown",
   "id": "335c382a-7df5-49cb-9cde-de6c0f06da52",
   "metadata": {
    "execution": {
     "iopub.execute_input": "2023-01-07T01:08:08.667170Z",
     "iopub.status.busy": "2023-01-07T01:08:08.666960Z",
     "iopub.status.idle": "2023-01-07T01:08:08.672970Z",
     "shell.execute_reply": "2023-01-07T01:08:08.672319Z",
     "shell.execute_reply.started": "2023-01-07T01:08:08.667153Z"
    }
   },
   "source": [
    "## Ensemble Methods\n",
    "**Voting Classifier**\n",
    "* same training set,\n",
    "* ≠ algorithms.\n",
    "**Bagging**\n",
    "* one algorithm,\n",
    "* ≠ subsets of the training set."
   ]
  },
  {
   "cell_type": "markdown",
   "id": "5514bf2d-3726-4db7-ad1c-f96878cdfbca",
   "metadata": {},
   "source": [
    "## Bagging\n",
    "* Bagging: Bootstrap Aggregation.\n",
    "* Uses a technique known as the bootstrap.\n",
    "* Reduces variance of individual models in the ensemble."
   ]
  },
  {
   "cell_type": "markdown",
   "id": "3d728ddf-4a0d-49b1-9a0d-0559fca70cfc",
   "metadata": {},
   "source": [
    "## Bagging: Classification & Regression\n",
    "**Classification:**\n",
    "* Aggregates predictions by majority voting.\n",
    "* BaggingClassifier in scikit-learn.\n",
    "\n",
    "**Regression:**\n",
    "* Aggregates predictions through averaging.\n",
    "* BaggingRegressor in scikit-learn"
   ]
  },
  {
   "cell_type": "markdown",
   "id": "23e1c06b-838c-45ea-a848-41ee6fe61f05",
   "metadata": {},
   "source": [
    "## Bagging Classifier in sklearn (Breast-Cancer dataset)"
   ]
  },
  {
   "cell_type": "code",
   "execution_count": 1,
   "id": "d5ca5da5-673c-44bc-83f5-5933a0f86940",
   "metadata": {
    "execution": {
     "iopub.execute_input": "2023-09-02T17:27:30.536614Z",
     "iopub.status.busy": "2023-09-02T17:27:30.535947Z",
     "iopub.status.idle": "2023-09-02T17:27:30.952827Z",
     "shell.execute_reply": "2023-09-02T17:27:30.952550Z",
     "shell.execute_reply.started": "2023-09-02T17:27:30.536536Z"
    },
    "tags": []
   },
   "outputs": [
    {
     "data": {
      "text/plain": [
       "(569, 30)"
      ]
     },
     "execution_count": 1,
     "metadata": {},
     "output_type": "execute_result"
    }
   ],
   "source": [
    "import pandas as pd\n",
    "wbc = pd.read_csv('wbc.zip')\n",
    "X = wbc.iloc[:, 2:-1]\n",
    "y = pd.Categorical(wbc['diagnosis']).codes\n",
    "X.shape"
   ]
  },
  {
   "cell_type": "code",
   "execution_count": 2,
   "id": "735987c6-338e-48e4-b73d-560c2c01f856",
   "metadata": {
    "execution": {
     "iopub.execute_input": "2023-09-02T17:27:30.953433Z",
     "iopub.status.busy": "2023-09-02T17:27:30.953294Z",
     "iopub.status.idle": "2023-09-02T17:27:31.336778Z",
     "shell.execute_reply": "2023-09-02T17:27:31.336480Z",
     "shell.execute_reply.started": "2023-09-02T17:27:30.953410Z"
    },
    "tags": []
   },
   "outputs": [],
   "source": [
    "# Import models and utility functions\n",
    "from sklearn.ensemble import BaggingClassifier\n",
    "from sklearn.tree import DecisionTreeClassifier\n",
    "from sklearn.linear_model import LogisticRegression\n",
    "from sklearn.metrics import accuracy_score\n",
    "from sklearn.model_selection import train_test_split\n",
    "# Set seed for reproducibility\n",
    "SEED = 1\n",
    "# Split data into 70% train and 30% test\n",
    "X_train, X_test, y_train, y_test = train_test_split(X, y, test_size=0.3,\n",
    "                                                    stratify=y,\n",
    "                                                    random_state=SEED)"
   ]
  },
  {
   "cell_type": "code",
   "execution_count": 3,
   "id": "b4461cc6-5bde-44d3-a9ee-63e46ebb698c",
   "metadata": {
    "execution": {
     "iopub.execute_input": "2023-09-02T17:27:31.337397Z",
     "iopub.status.busy": "2023-09-02T17:27:31.337230Z",
     "iopub.status.idle": "2023-09-02T17:27:31.344455Z",
     "shell.execute_reply": "2023-09-02T17:27:31.344055Z",
     "shell.execute_reply.started": "2023-09-02T17:27:31.337385Z"
    },
    "tags": []
   },
   "outputs": [
    {
     "name": "stdout",
     "output_type": "stream",
     "text": [
      "Accuracy of Decision Tree Classifier: 0.889\n"
     ]
    }
   ],
   "source": [
    "# Instantiate a classification-tree 'dt'\n",
    "dt = DecisionTreeClassifier(max_depth=4, min_samples_leaf=0.16, random_state=SEED)\n",
    "dt.fit(X_train, y_train)\n",
    "y_pred = dt.predict(X_test)\n",
    "# Evaluate and print test-set accuracy\n",
    "accuracy = accuracy_score(y_test, y_pred)\n",
    "print('Accuracy of Decision Tree Classifier: {:.3f}'.format(accuracy))"
   ]
  },
  {
   "cell_type": "code",
   "execution_count": 4,
   "id": "b56b431e-b80f-4a94-9f22-b987019390b7",
   "metadata": {
    "execution": {
     "iopub.execute_input": "2023-09-02T17:27:31.345501Z",
     "iopub.status.busy": "2023-09-02T17:27:31.345342Z",
     "iopub.status.idle": "2023-09-02T17:27:32.104082Z",
     "shell.execute_reply": "2023-09-02T17:27:32.102457Z",
     "shell.execute_reply.started": "2023-09-02T17:27:31.345489Z"
    },
    "tags": []
   },
   "outputs": [
    {
     "name": "stdout",
     "output_type": "stream",
     "text": [
      "Accuracy of Bagging Classifier: 0.936\n"
     ]
    }
   ],
   "source": [
    "# Instantiate a BaggingClassifier 'bc'\n",
    "bc = BaggingClassifier(estimator=dt, n_estimators=300, n_jobs=-1, random_state=SEED)\n",
    "# Fit 'bc' to the training set\n",
    "bc.fit(X_train, y_train)\n",
    "# Predict test set labels\n",
    "y_pred = bc.predict(X_test)\n",
    "# Evaluate and print test-set accuracy\n",
    "accuracy = accuracy_score(y_test, y_pred)\n",
    "print('Accuracy of Bagging Classifier: {:.3f}'.format(accuracy))"
   ]
  },
  {
   "cell_type": "markdown",
   "id": "8b72ac25-9c4d-4bc7-8e30-86c4b71139d5",
   "metadata": {},
   "source": [
    "## Bagging Classifier in sklearn (Indian liver pacient)"
   ]
  },
  {
   "cell_type": "code",
   "execution_count": 5,
   "id": "d766767b-51c7-46f9-80e8-06e654686479",
   "metadata": {
    "execution": {
     "iopub.execute_input": "2023-09-02T17:27:32.107414Z",
     "iopub.status.busy": "2023-09-02T17:27:32.106545Z",
     "iopub.status.idle": "2023-09-02T17:27:32.176987Z",
     "shell.execute_reply": "2023-09-02T17:27:32.174470Z",
     "shell.execute_reply.started": "2023-09-02T17:27:32.107342Z"
    },
    "tags": []
   },
   "outputs": [
    {
     "data": {
      "text/html": [
       "<div>\n",
       "<style scoped>\n",
       "    .dataframe tbody tr th:only-of-type {\n",
       "        vertical-align: middle;\n",
       "    }\n",
       "\n",
       "    .dataframe tbody tr th {\n",
       "        vertical-align: top;\n",
       "    }\n",
       "\n",
       "    .dataframe thead th {\n",
       "        text-align: right;\n",
       "    }\n",
       "</style>\n",
       "<table border=\"1\" class=\"dataframe\">\n",
       "  <thead>\n",
       "    <tr style=\"text-align: right;\">\n",
       "      <th></th>\n",
       "      <th>Age</th>\n",
       "      <th>Gender</th>\n",
       "      <th>Total_Bilirubin</th>\n",
       "      <th>Direct_Bilirubin</th>\n",
       "      <th>Alkaline_Phosphotase</th>\n",
       "      <th>Alamine_Aminotransferase</th>\n",
       "      <th>Aspartate_Aminotransferase</th>\n",
       "      <th>Total_Protiens</th>\n",
       "      <th>Albumin</th>\n",
       "      <th>Albumin_and_Globulin_Ratio</th>\n",
       "      <th>Dataset</th>\n",
       "    </tr>\n",
       "  </thead>\n",
       "  <tbody>\n",
       "    <tr>\n",
       "      <th>0</th>\n",
       "      <td>65</td>\n",
       "      <td>0</td>\n",
       "      <td>0.7</td>\n",
       "      <td>0.1</td>\n",
       "      <td>187</td>\n",
       "      <td>16</td>\n",
       "      <td>18</td>\n",
       "      <td>6.8</td>\n",
       "      <td>3.3</td>\n",
       "      <td>0.90</td>\n",
       "      <td>1</td>\n",
       "    </tr>\n",
       "    <tr>\n",
       "      <th>1</th>\n",
       "      <td>62</td>\n",
       "      <td>1</td>\n",
       "      <td>10.9</td>\n",
       "      <td>5.5</td>\n",
       "      <td>699</td>\n",
       "      <td>64</td>\n",
       "      <td>100</td>\n",
       "      <td>7.5</td>\n",
       "      <td>3.2</td>\n",
       "      <td>0.74</td>\n",
       "      <td>1</td>\n",
       "    </tr>\n",
       "    <tr>\n",
       "      <th>2</th>\n",
       "      <td>62</td>\n",
       "      <td>1</td>\n",
       "      <td>7.3</td>\n",
       "      <td>4.1</td>\n",
       "      <td>490</td>\n",
       "      <td>60</td>\n",
       "      <td>68</td>\n",
       "      <td>7.0</td>\n",
       "      <td>3.3</td>\n",
       "      <td>0.89</td>\n",
       "      <td>1</td>\n",
       "    </tr>\n",
       "    <tr>\n",
       "      <th>3</th>\n",
       "      <td>58</td>\n",
       "      <td>1</td>\n",
       "      <td>1.0</td>\n",
       "      <td>0.4</td>\n",
       "      <td>182</td>\n",
       "      <td>14</td>\n",
       "      <td>20</td>\n",
       "      <td>6.8</td>\n",
       "      <td>3.4</td>\n",
       "      <td>1.00</td>\n",
       "      <td>1</td>\n",
       "    </tr>\n",
       "    <tr>\n",
       "      <th>4</th>\n",
       "      <td>72</td>\n",
       "      <td>1</td>\n",
       "      <td>3.9</td>\n",
       "      <td>2.0</td>\n",
       "      <td>195</td>\n",
       "      <td>27</td>\n",
       "      <td>59</td>\n",
       "      <td>7.3</td>\n",
       "      <td>2.4</td>\n",
       "      <td>0.40</td>\n",
       "      <td>1</td>\n",
       "    </tr>\n",
       "    <tr>\n",
       "      <th>...</th>\n",
       "      <td>...</td>\n",
       "      <td>...</td>\n",
       "      <td>...</td>\n",
       "      <td>...</td>\n",
       "      <td>...</td>\n",
       "      <td>...</td>\n",
       "      <td>...</td>\n",
       "      <td>...</td>\n",
       "      <td>...</td>\n",
       "      <td>...</td>\n",
       "      <td>...</td>\n",
       "    </tr>\n",
       "    <tr>\n",
       "      <th>578</th>\n",
       "      <td>60</td>\n",
       "      <td>1</td>\n",
       "      <td>0.5</td>\n",
       "      <td>0.1</td>\n",
       "      <td>500</td>\n",
       "      <td>20</td>\n",
       "      <td>34</td>\n",
       "      <td>5.9</td>\n",
       "      <td>1.6</td>\n",
       "      <td>0.37</td>\n",
       "      <td>2</td>\n",
       "    </tr>\n",
       "    <tr>\n",
       "      <th>579</th>\n",
       "      <td>40</td>\n",
       "      <td>1</td>\n",
       "      <td>0.6</td>\n",
       "      <td>0.1</td>\n",
       "      <td>98</td>\n",
       "      <td>35</td>\n",
       "      <td>31</td>\n",
       "      <td>6.0</td>\n",
       "      <td>3.2</td>\n",
       "      <td>1.10</td>\n",
       "      <td>1</td>\n",
       "    </tr>\n",
       "    <tr>\n",
       "      <th>580</th>\n",
       "      <td>52</td>\n",
       "      <td>1</td>\n",
       "      <td>0.8</td>\n",
       "      <td>0.2</td>\n",
       "      <td>245</td>\n",
       "      <td>48</td>\n",
       "      <td>49</td>\n",
       "      <td>6.4</td>\n",
       "      <td>3.2</td>\n",
       "      <td>1.00</td>\n",
       "      <td>1</td>\n",
       "    </tr>\n",
       "    <tr>\n",
       "      <th>581</th>\n",
       "      <td>31</td>\n",
       "      <td>1</td>\n",
       "      <td>1.3</td>\n",
       "      <td>0.5</td>\n",
       "      <td>184</td>\n",
       "      <td>29</td>\n",
       "      <td>32</td>\n",
       "      <td>6.8</td>\n",
       "      <td>3.4</td>\n",
       "      <td>1.00</td>\n",
       "      <td>1</td>\n",
       "    </tr>\n",
       "    <tr>\n",
       "      <th>582</th>\n",
       "      <td>38</td>\n",
       "      <td>1</td>\n",
       "      <td>1.0</td>\n",
       "      <td>0.3</td>\n",
       "      <td>216</td>\n",
       "      <td>21</td>\n",
       "      <td>24</td>\n",
       "      <td>7.3</td>\n",
       "      <td>4.4</td>\n",
       "      <td>1.50</td>\n",
       "      <td>2</td>\n",
       "    </tr>\n",
       "  </tbody>\n",
       "</table>\n",
       "<p>579 rows × 11 columns</p>\n",
       "</div>"
      ],
      "text/plain": [
       "     Age  Gender  Total_Bilirubin  Direct_Bilirubin  Alkaline_Phosphotase  \\\n",
       "0     65       0              0.7               0.1                   187   \n",
       "1     62       1             10.9               5.5                   699   \n",
       "2     62       1              7.3               4.1                   490   \n",
       "3     58       1              1.0               0.4                   182   \n",
       "4     72       1              3.9               2.0                   195   \n",
       "..   ...     ...              ...               ...                   ...   \n",
       "578   60       1              0.5               0.1                   500   \n",
       "579   40       1              0.6               0.1                    98   \n",
       "580   52       1              0.8               0.2                   245   \n",
       "581   31       1              1.3               0.5                   184   \n",
       "582   38       1              1.0               0.3                   216   \n",
       "\n",
       "     Alamine_Aminotransferase  Aspartate_Aminotransferase  Total_Protiens  \\\n",
       "0                          16                          18             6.8   \n",
       "1                          64                         100             7.5   \n",
       "2                          60                          68             7.0   \n",
       "3                          14                          20             6.8   \n",
       "4                          27                          59             7.3   \n",
       "..                        ...                         ...             ...   \n",
       "578                        20                          34             5.9   \n",
       "579                        35                          31             6.0   \n",
       "580                        48                          49             6.4   \n",
       "581                        29                          32             6.8   \n",
       "582                        21                          24             7.3   \n",
       "\n",
       "     Albumin  Albumin_and_Globulin_Ratio  Dataset  \n",
       "0        3.3                        0.90        1  \n",
       "1        3.2                        0.74        1  \n",
       "2        3.3                        0.89        1  \n",
       "3        3.4                        1.00        1  \n",
       "4        2.4                        0.40        1  \n",
       "..       ...                         ...      ...  \n",
       "578      1.6                        0.37        2  \n",
       "579      3.2                        1.10        1  \n",
       "580      3.2                        1.00        1  \n",
       "581      3.4                        1.00        1  \n",
       "582      4.4                        1.50        2  \n",
       "\n",
       "[579 rows x 11 columns]"
      ]
     },
     "execution_count": 5,
     "metadata": {},
     "output_type": "execute_result"
    }
   ],
   "source": [
    "indian = pd.read_csv('indian_liver_patient.zip').dropna()\n",
    "indian['Gender'] = pd.Categorical(indian['Gender']).codes\n",
    "indian"
   ]
  },
  {
   "cell_type": "code",
   "execution_count": 6,
   "id": "44d89da6-0629-4919-948d-4688b4f641d6",
   "metadata": {
    "execution": {
     "iopub.execute_input": "2023-09-02T17:27:32.180430Z",
     "iopub.status.busy": "2023-09-02T17:27:32.179689Z",
     "iopub.status.idle": "2023-09-02T17:27:32.189022Z",
     "shell.execute_reply": "2023-09-02T17:27:32.187679Z",
     "shell.execute_reply.started": "2023-09-02T17:27:32.180272Z"
    },
    "tags": []
   },
   "outputs": [],
   "source": [
    "X = indian.iloc[:, :-1]\n",
    "y = indian['Dataset']"
   ]
  },
  {
   "cell_type": "code",
   "execution_count": 7,
   "id": "fe169450-5986-430d-be80-8c907f8e80a1",
   "metadata": {
    "execution": {
     "iopub.execute_input": "2023-09-02T17:27:32.190639Z",
     "iopub.status.busy": "2023-09-02T17:27:32.190457Z",
     "iopub.status.idle": "2023-09-02T17:27:32.194740Z",
     "shell.execute_reply": "2023-09-02T17:27:32.194441Z",
     "shell.execute_reply.started": "2023-09-02T17:27:32.190623Z"
    },
    "tags": []
   },
   "outputs": [],
   "source": [
    "X_train, X_test, y_train, y_test = train_test_split(X, y, test_size=0.2,\n",
    "                                                    stratify=y,\n",
    "                                                    random_state=SEED)"
   ]
  },
  {
   "cell_type": "code",
   "execution_count": 8,
   "id": "dcc48d6d-e339-4eb6-8ffd-bfad8766f786",
   "metadata": {
    "execution": {
     "iopub.execute_input": "2023-09-02T17:27:32.195408Z",
     "iopub.status.busy": "2023-09-02T17:27:32.195182Z",
     "iopub.status.idle": "2023-09-02T17:27:32.197128Z",
     "shell.execute_reply": "2023-09-02T17:27:32.196807Z",
     "shell.execute_reply.started": "2023-09-02T17:27:32.195396Z"
    },
    "tags": []
   },
   "outputs": [],
   "source": [
    "# Instantiate dt\n",
    "dt = DecisionTreeClassifier(random_state=1)"
   ]
  },
  {
   "cell_type": "code",
   "execution_count": 9,
   "id": "f1c243d0-b8f8-43d7-850f-e6e09c564794",
   "metadata": {
    "execution": {
     "iopub.execute_input": "2023-09-02T17:27:32.197766Z",
     "iopub.status.busy": "2023-09-02T17:27:32.197649Z",
     "iopub.status.idle": "2023-09-02T17:27:32.204611Z",
     "shell.execute_reply": "2023-09-02T17:27:32.204309Z",
     "shell.execute_reply.started": "2023-09-02T17:27:32.197754Z"
    },
    "tags": []
   },
   "outputs": [
    {
     "name": "stdout",
     "output_type": "stream",
     "text": [
      "Accuracy of Decision Tree Classifier: 0.716\n"
     ]
    }
   ],
   "source": [
    "dt.fit(X_train, y_train)\n",
    "y_pred = dt.predict(X_test)\n",
    "# Evaluate and print test-set accuracy\n",
    "accuracy = accuracy_score(y_test, y_pred)\n",
    "print('Accuracy of Decision Tree Classifier: {:.3f}'.format(accuracy))"
   ]
  },
  {
   "cell_type": "code",
   "execution_count": 10,
   "id": "548f3572-d83e-408b-a8a9-cb6a74bdbf3f",
   "metadata": {
    "execution": {
     "iopub.execute_input": "2023-09-02T17:27:32.205262Z",
     "iopub.status.busy": "2023-09-02T17:27:32.205056Z",
     "iopub.status.idle": "2023-09-02T17:27:32.450547Z",
     "shell.execute_reply": "2023-09-02T17:27:32.450204Z",
     "shell.execute_reply.started": "2023-09-02T17:27:32.205250Z"
    },
    "tags": []
   },
   "outputs": [
    {
     "name": "stdout",
     "output_type": "stream",
     "text": [
      "Test set accuracy of bc: 0.73\n"
     ]
    }
   ],
   "source": [
    "# Instantiate bc\n",
    "bc = BaggingClassifier(estimator=dt, n_estimators=100, random_state=1)\n",
    "# Fit bc to the training set\n",
    "bc.fit(X_train, y_train)\n",
    "# Predict test set labels\n",
    "y_pred = bc.predict(X_test)\n",
    "# Evaluate acc_test\n",
    "acc_test = accuracy_score(y_test, y_pred)\n",
    "print('Test set accuracy of bc: {:.2f}'.format(acc_test)) "
   ]
  },
  {
   "cell_type": "markdown",
   "id": "b0077bc2-f6a6-4f01-a8cb-edbd72e3b991",
   "metadata": {},
   "source": [
    "## Out of Bag Evaluation"
   ]
  },
  {
   "cell_type": "markdown",
   "id": "85268107-0750-4d58-ae8f-406e0eaeefc6",
   "metadata": {},
   "source": [
    "## Bagging\n",
    "* some instances may be sampled several times for one model,\n",
    "* other instances may not be sampled at all."
   ]
  },
  {
   "cell_type": "markdown",
   "id": "ae8e1851-8380-46f2-810c-2509dd164276",
   "metadata": {},
   "source": [
    "## Out Of Bag (OOB) instances\n",
    "* On average, for each model, 63% of the training instances are sampled.\n",
    "* The remaining 37% constitute the OOB instances."
   ]
  },
  {
   "cell_type": "markdown",
   "id": "c0d07da3-250d-46ec-8e50-cf2ac1a11a8d",
   "metadata": {},
   "source": [
    "## OOB Evaluation in sklearn (Breast Cancer Dataset)"
   ]
  },
  {
   "cell_type": "code",
   "execution_count": 11,
   "id": "4b2119e3-90a6-4b57-964e-206d6b936a4c",
   "metadata": {
    "execution": {
     "iopub.execute_input": "2023-09-02T17:27:32.451122Z",
     "iopub.status.busy": "2023-09-02T17:27:32.450957Z",
     "iopub.status.idle": "2023-09-02T17:27:32.457867Z",
     "shell.execute_reply": "2023-09-02T17:27:32.457582Z",
     "shell.execute_reply.started": "2023-09-02T17:27:32.451081Z"
    },
    "tags": []
   },
   "outputs": [
    {
     "data": {
      "text/plain": [
       "(569, 30)"
      ]
     },
     "execution_count": 11,
     "metadata": {},
     "output_type": "execute_result"
    }
   ],
   "source": [
    "import pandas as pd\n",
    "wbc = pd.read_csv('wbc.zip')\n",
    "X = wbc.iloc[:, 2:-1]\n",
    "y = pd.Categorical(wbc['diagnosis']).codes\n",
    "X.shape"
   ]
  },
  {
   "cell_type": "code",
   "execution_count": 12,
   "id": "9414ef34-cab8-4384-86cd-34fa3d7d8ff0",
   "metadata": {
    "execution": {
     "iopub.execute_input": "2023-09-02T17:27:32.458370Z",
     "iopub.status.busy": "2023-09-02T17:27:32.458268Z",
     "iopub.status.idle": "2023-09-02T17:27:32.461994Z",
     "shell.execute_reply": "2023-09-02T17:27:32.461676Z",
     "shell.execute_reply.started": "2023-09-02T17:27:32.458360Z"
    },
    "tags": []
   },
   "outputs": [],
   "source": [
    "# Import models and split utility function\n",
    "from sklearn.ensemble import BaggingClassifier\n",
    "from sklearn.tree import DecisionTreeClassifier\n",
    "from sklearn.metrics import accuracy_score\n",
    "from sklearn.model_selection import train_test_split\n",
    "# Set seed for reproducibility\n",
    "SEED = 1\n",
    "# Split data into 70% train and 30% test\n",
    "X_train, X_test, y_train, y_test = train_test_split(X, y, test_size=0.3,\n",
    "                                                    stratify=y,\n",
    "                                                    random_state=SEED)"
   ]
  },
  {
   "cell_type": "code",
   "execution_count": 13,
   "id": "524ac965-0433-4692-bdd0-ab106290dfd4",
   "metadata": {
    "execution": {
     "iopub.execute_input": "2023-09-02T17:27:32.463635Z",
     "iopub.status.busy": "2023-09-02T17:27:32.463461Z",
     "iopub.status.idle": "2023-09-02T17:27:32.470154Z",
     "shell.execute_reply": "2023-09-02T17:27:32.469793Z",
     "shell.execute_reply.started": "2023-09-02T17:27:32.463624Z"
    },
    "tags": []
   },
   "outputs": [
    {
     "name": "stdout",
     "output_type": "stream",
     "text": [
      "Accuracy of Decision Tree Classifier: 0.889\n"
     ]
    }
   ],
   "source": [
    "# Instantiate a classification-tree 'dt'\n",
    "dt = DecisionTreeClassifier(max_depth=4,\n",
    "                            min_samples_leaf=0.16,\n",
    "                            random_state=SEED)\n",
    "dt.fit(X_train, y_train)\n",
    "y_pred = dt.predict(X_test)\n",
    "# Evaluate and print test-set accuracy\n",
    "accuracy = accuracy_score(y_test, y_pred)\n",
    "print('Accuracy of Decision Tree Classifier: {:.3f}'.format(accuracy))"
   ]
  },
  {
   "cell_type": "code",
   "execution_count": 14,
   "id": "d555abc4-740b-4b8e-bbef-9dc7d8895ac3",
   "metadata": {
    "execution": {
     "iopub.execute_input": "2023-09-02T17:27:32.470773Z",
     "iopub.status.busy": "2023-09-02T17:27:32.470613Z",
     "iopub.status.idle": "2023-09-02T17:27:32.820309Z",
     "shell.execute_reply": "2023-09-02T17:27:32.819101Z",
     "shell.execute_reply.started": "2023-09-02T17:27:32.470761Z"
    },
    "tags": []
   },
   "outputs": [
    {
     "name": "stdout",
     "output_type": "stream",
     "text": [
      "Test set accuracy: 0.936\n"
     ]
    }
   ],
   "source": [
    "# Instantiate a BaggingClassifier 'bc'; set oob_score = True\n",
    "bc = BaggingClassifier(estimator=dt, n_estimators=300,\n",
    "                       oob_score=True, n_jobs=-1)\n",
    "# Fit 'bc' to the training set\n",
    "bc.fit(X_train, y_train)\n",
    "\n",
    "# Predict the test set labels\n",
    "y_pred = bc.predict(X_test)\n",
    "# Evaluate test set accuracy\n",
    "test_accuracy = accuracy_score(y_test, y_pred)\n",
    "# Print test set accuracy\n",
    "print('Test set accuracy: {:.3f}'.format(test_accuracy))"
   ]
  },
  {
   "cell_type": "code",
   "execution_count": 15,
   "id": "fbf8ade1-81db-48f9-8f38-6b3e8d9ad82e",
   "metadata": {
    "execution": {
     "iopub.execute_input": "2023-09-02T17:27:32.822210Z",
     "iopub.status.busy": "2023-09-02T17:27:32.821813Z",
     "iopub.status.idle": "2023-09-02T17:27:32.831780Z",
     "shell.execute_reply": "2023-09-02T17:27:32.829533Z",
     "shell.execute_reply.started": "2023-09-02T17:27:32.822172Z"
    },
    "tags": []
   },
   "outputs": [
    {
     "name": "stdout",
     "output_type": "stream",
     "text": [
      "OOB accuracy: 0.922\n"
     ]
    }
   ],
   "source": [
    "# Extract the OOB accuracy from 'bc'\n",
    "oob_accuracy = bc.oob_score_\n",
    "# Print OOB accuracy\n",
    "print('OOB accuracy: {:.3f}'.format(oob_accuracy))"
   ]
  },
  {
   "cell_type": "markdown",
   "id": "5bcc8dcb-3f25-4636-b62d-aa01ab293409",
   "metadata": {},
   "source": [
    "> Note that in scikit-learn, the OOB-score corresponds to the accuracy for classifiers and the r-squared score for regressors.\n",
    "\n",
    "> These results highlight how OOB-evaluation can be an efficient technique to obtain a performance estimate of a bagged-ensemble on unseen data without performing cross-validation. "
   ]
  },
  {
   "cell_type": "markdown",
   "id": "54e16a18-67ec-44de-9ff1-84d4e40be02c",
   "metadata": {},
   "source": [
    "## OOB Evaluation in sklearn (Breast Cancer Dataset)"
   ]
  },
  {
   "cell_type": "code",
   "execution_count": 16,
   "id": "095c6223-0a81-4344-b3f2-294c0a3725cc",
   "metadata": {
    "execution": {
     "iopub.execute_input": "2023-09-02T17:27:32.834500Z",
     "iopub.status.busy": "2023-09-02T17:27:32.833916Z",
     "iopub.status.idle": "2023-09-02T17:27:32.854815Z",
     "shell.execute_reply": "2023-09-02T17:27:32.853111Z",
     "shell.execute_reply.started": "2023-09-02T17:27:32.834444Z"
    },
    "tags": []
   },
   "outputs": [],
   "source": [
    "indian = pd.read_csv('indian_liver_patient.zip').dropna()\n",
    "indian['Gender'] = pd.Categorical(indian['Gender']).codes\n",
    "X = indian.iloc[:, :-1]\n",
    "y = indian['Dataset']"
   ]
  },
  {
   "cell_type": "code",
   "execution_count": 17,
   "id": "521b8f1f-cc49-4c4c-a76a-b59bd83b1439",
   "metadata": {
    "execution": {
     "iopub.execute_input": "2023-09-02T17:27:32.857870Z",
     "iopub.status.busy": "2023-09-02T17:27:32.857250Z",
     "iopub.status.idle": "2023-09-02T17:27:32.899508Z",
     "shell.execute_reply": "2023-09-02T17:27:32.897528Z",
     "shell.execute_reply.started": "2023-09-02T17:27:32.857812Z"
    },
    "tags": []
   },
   "outputs": [
    {
     "name": "stdout",
     "output_type": "stream",
     "text": [
      "Accuracy of Decision Tree Classifier: 0.924\n"
     ]
    }
   ],
   "source": [
    "# Instantiate dt\n",
    "dt = DecisionTreeClassifier(min_samples_leaf=8, random_state=1)\n",
    "dt.fit(X_train, y_train)\n",
    "y_pred = dt.predict(X_test)\n",
    "# Evaluate and print test-set accuracy\n",
    "accuracy = accuracy_score(y_test, y_pred)\n",
    "print('Accuracy of Decision Tree Classifier: {:.3f}'.format(accuracy))"
   ]
  },
  {
   "cell_type": "code",
   "execution_count": 18,
   "id": "8aaa3e6a-6967-4b85-aad6-4ea3b6d612eb",
   "metadata": {
    "execution": {
     "iopub.execute_input": "2023-09-02T17:27:32.902278Z",
     "iopub.status.busy": "2023-09-02T17:27:32.901700Z",
     "iopub.status.idle": "2023-09-02T17:27:33.108918Z",
     "shell.execute_reply": "2023-09-02T17:27:33.108542Z",
     "shell.execute_reply.started": "2023-09-02T17:27:32.902223Z"
    },
    "tags": []
   },
   "outputs": [
    {
     "name": "stdout",
     "output_type": "stream",
     "text": [
      "Test set accuracy: 0.942\n"
     ]
    }
   ],
   "source": [
    "# Instantiate bc\n",
    "bc = BaggingClassifier(estimator=dt,\n",
    "                       n_estimators=50,\n",
    "                       oob_score=True,\n",
    "                       random_state=1)\n",
    "# Fit 'bc' to the training set\n",
    "bc.fit(X_train, y_train)\n",
    "\n",
    "# Predict the test set labels\n",
    "y_pred = bc.predict(X_test)\n",
    "# Evaluate test set accuracy\n",
    "test_accuracy = accuracy_score(y_test, y_pred)\n",
    "# Print test set accuracy\n",
    "print('Test set accuracy: {:.3f}'.format(test_accuracy))"
   ]
  },
  {
   "cell_type": "code",
   "execution_count": 19,
   "id": "e5cfd4eb-733e-46d9-a8bc-3c7b00ba1630",
   "metadata": {
    "execution": {
     "iopub.execute_input": "2023-09-02T17:27:33.109702Z",
     "iopub.status.busy": "2023-09-02T17:27:33.109522Z",
     "iopub.status.idle": "2023-09-02T17:27:33.112480Z",
     "shell.execute_reply": "2023-09-02T17:27:33.112043Z",
     "shell.execute_reply.started": "2023-09-02T17:27:33.109686Z"
    },
    "tags": []
   },
   "outputs": [
    {
     "name": "stdout",
     "output_type": "stream",
     "text": [
      "OOB accuracy: 0.947\n"
     ]
    }
   ],
   "source": [
    "# Extract the OOB accuracy from 'bc'\n",
    "oob_accuracy = bc.oob_score_\n",
    "# Print OOB accuracy\n",
    "print('OOB accuracy: {:.3f}'.format(oob_accuracy))"
   ]
  },
  {
   "cell_type": "markdown",
   "id": "0ffa730b-9efa-447f-8f8d-0612fadd3028",
   "metadata": {
    "tags": []
   },
   "source": [
    "# Random Forests"
   ]
  },
  {
   "cell_type": "markdown",
   "id": "cb0c4c97-cb72-4221-a74c-18975683cfbe",
   "metadata": {},
   "source": [
    "## Bagging\n",
    "* Base estimator: Decision Tree, Logistic Regression, Neural Net, ...\n",
    "* Each estimator is trained on a distinct bootstrap sample of the training set\n",
    "* Estimators use all features for training and prediction"
   ]
  },
  {
   "cell_type": "markdown",
   "id": "c675ee88-03d3-44f0-a327-de23971be623",
   "metadata": {},
   "source": [
    "## Further Diversity with Random Forests\n",
    "* Base estimator: Decision Tree\n",
    "* Each estimator is trained on a different bootstrap sample having the same size as the training set\n",
    "* RF introduces further randomization in the training of individual trees: **feature sampling**\n",
    "* When each tree is trained, only $d$ features can be sampled at each node without replacement, where $d$ is a number smaller than the total number of features.\n",
    "    * $d$ features are sampled at each node without replacement  \n",
    "    ($d$ < total number of features )\n",
    "    \n",
    ">  In scikit-learn $d$ defaults to the square-root of the number of features"
   ]
  },
  {
   "cell_type": "markdown",
   "id": "090dac41-4350-446d-8a11-c6e60fa10d46",
   "metadata": {},
   "source": [
    "## Random Forests: Classification & Regression\n",
    "**Classification:**\n",
    "* Aggregates predictions by majority voting\n",
    "* RandomForestClassifier in scikit-learn\n",
    "\n",
    "**Regression:**\n",
    "* Aggregates predictions through averaging\n",
    "* RandomForestRegressor in scikit-learn\n",
    "\n",
    "> In general, Random Forests achieves a lower variance than individual trees. "
   ]
  },
  {
   "cell_type": "markdown",
   "id": "e2228410-8a38-4f57-a086-3561a2f3a4eb",
   "metadata": {},
   "source": [
    "## Random Forests Regressor in sklearn (auto dataset)"
   ]
  },
  {
   "cell_type": "code",
   "execution_count": 20,
   "id": "ac2c5b07-dc8d-45c2-9d80-c4256322f9c5",
   "metadata": {
    "execution": {
     "iopub.execute_input": "2023-09-02T17:27:33.113325Z",
     "iopub.status.busy": "2023-09-02T17:27:33.113094Z",
     "iopub.status.idle": "2023-09-02T17:27:33.118258Z",
     "shell.execute_reply": "2023-09-02T17:27:33.117856Z",
     "shell.execute_reply.started": "2023-09-02T17:27:33.113309Z"
    },
    "tags": []
   },
   "outputs": [],
   "source": [
    "auto = pd.read_csv('auto.zip')\n",
    "X = auto.iloc[:, 1:]\n",
    "X['origin'] = pd.Categorical(X['origin']).codes\n",
    "y = auto['mpg']"
   ]
  },
  {
   "cell_type": "code",
   "execution_count": 21,
   "id": "f79c55d6-03ab-4474-b070-1951c49ac03a",
   "metadata": {
    "execution": {
     "iopub.execute_input": "2023-09-02T17:27:33.119225Z",
     "iopub.status.busy": "2023-09-02T17:27:33.118865Z",
     "iopub.status.idle": "2023-09-02T17:27:33.122739Z",
     "shell.execute_reply": "2023-09-02T17:27:33.122341Z",
     "shell.execute_reply.started": "2023-09-02T17:27:33.119207Z"
    }
   },
   "outputs": [],
   "source": [
    "# Basic imports\n",
    "from sklearn.ensemble import RandomForestRegressor\n",
    "from sklearn.model_selection import train_test_split\n",
    "from sklearn.metrics import mean_squared_error as MSE\n",
    "# Set seed for reproducibility\n",
    "SEED = 1\n",
    "# Split dataset into 70% train and 30% test\n",
    "X_train, X_test, y_train, y_test = train_test_split(X, y, test_size=0.3, random_state=SEED)"
   ]
  },
  {
   "cell_type": "code",
   "execution_count": 22,
   "id": "68af6e6e-a902-4d10-8227-1de678d7e206",
   "metadata": {
    "execution": {
     "iopub.execute_input": "2023-09-02T17:27:33.123736Z",
     "iopub.status.busy": "2023-09-02T17:27:33.123456Z",
     "iopub.status.idle": "2023-09-02T17:27:33.339990Z",
     "shell.execute_reply": "2023-09-02T17:27:33.339591Z",
     "shell.execute_reply.started": "2023-09-02T17:27:33.123719Z"
    }
   },
   "outputs": [
    {
     "name": "stdout",
     "output_type": "stream",
     "text": [
      "Test set RMSE of rf: 3.98\n"
     ]
    }
   ],
   "source": [
    "# Instantiate a random forests regressor 'rf' 400 estimators\n",
    "rf = RandomForestRegressor(n_estimators=400,\n",
    "                           min_samples_leaf=0.12,\n",
    "                           random_state=SEED)\n",
    "# Fit 'rf' to the training set\n",
    "rf.fit(X_train, y_train)\n",
    "# Predict the test set labels 'y_pred'\n",
    "y_pred = rf.predict(X_test)\n",
    "# Evaluate the test set RMSE\n",
    "rmse_test = MSE(y_test, y_pred)**(1/2)\n",
    "# Print the test set RMSE\n",
    "print('Test set RMSE of rf: {:.2f}'.format(rmse_test))"
   ]
  },
  {
   "cell_type": "markdown",
   "id": "e99317e0-6d58-4be6-9701-b57134bb0285",
   "metadata": {},
   "source": [
    "## Random Forests Regressor in sklearn (Bike Sharing Demand)"
   ]
  },
  {
   "cell_type": "code",
   "execution_count": 23,
   "id": "8ce6492d-34cd-4057-b17a-d242e905563c",
   "metadata": {
    "execution": {
     "iopub.execute_input": "2023-09-02T17:27:33.340860Z",
     "iopub.status.busy": "2023-09-02T17:27:33.340529Z",
     "iopub.status.idle": "2023-09-02T17:27:33.345866Z",
     "shell.execute_reply": "2023-09-02T17:27:33.345368Z",
     "shell.execute_reply.started": "2023-09-02T17:27:33.340842Z"
    },
    "tags": []
   },
   "outputs": [],
   "source": [
    "bikes = pd.read_csv('bikes.zip')\n",
    "X = bikes.drop(columns=['cnt'])\n",
    "y = bikes['cnt']"
   ]
  },
  {
   "cell_type": "code",
   "execution_count": 24,
   "id": "eb29806f-f6ed-4cfa-aa10-5626bf1149e6",
   "metadata": {
    "execution": {
     "iopub.execute_input": "2023-09-02T17:27:33.346882Z",
     "iopub.status.busy": "2023-09-02T17:27:33.346455Z",
     "iopub.status.idle": "2023-09-02T17:27:33.350254Z",
     "shell.execute_reply": "2023-09-02T17:27:33.349930Z",
     "shell.execute_reply.started": "2023-09-02T17:27:33.346853Z"
    }
   },
   "outputs": [],
   "source": [
    "X_train, X_test, y_train, y_test = train_test_split(X, y, test_size=0.2, random_state=1)"
   ]
  },
  {
   "cell_type": "code",
   "execution_count": 25,
   "id": "9ca4925c-7b95-4024-a3ee-a73668b41e91",
   "metadata": {
    "execution": {
     "iopub.execute_input": "2023-09-02T17:27:33.351012Z",
     "iopub.status.busy": "2023-09-02T17:27:33.350732Z",
     "iopub.status.idle": "2023-09-02T17:27:33.422942Z",
     "shell.execute_reply": "2023-09-02T17:27:33.422491Z",
     "shell.execute_reply.started": "2023-09-02T17:27:33.350995Z"
    }
   },
   "outputs": [
    {
     "name": "stdout",
     "output_type": "stream",
     "text": [
      "Test set RMSE of rf: 51.84\n"
     ]
    }
   ],
   "source": [
    "# Instantiate rf\n",
    "rf = RandomForestRegressor(n_estimators=25, random_state=2)\n",
    "# Fit rf to the training set    \n",
    "rf.fit(X_train, y_train)\n",
    "# Predict the test set labels 'y_pred'\n",
    "y_pred = rf.predict(X_test)\n",
    "# Evaluate the test set RMSE\n",
    "rmse_test = MSE(y_test, y_pred)**(1/2)\n",
    "# Print the test set RMSE\n",
    "print('Test set RMSE of rf: {:.2f}'.format(rmse_test))"
   ]
  },
  {
   "cell_type": "markdown",
   "id": "28834824-2f7a-4b86-9fb3-873c5a973d8d",
   "metadata": {},
   "source": [
    "## Feature Importance\n",
    "Tree-based methods: enable measuring the importance of each feature in prediction.  \n",
    "In sklearn:\n",
    "* how much the tree nodes use a particular feature (weighted average) to reduce impurity\n",
    "* accessed using the attribute `feature_importance_`"
   ]
  },
  {
   "cell_type": "markdown",
   "id": "e024c6e9-3014-4e5d-b813-2168115e466b",
   "metadata": {},
   "source": [
    "## Feature Importance in sklearn"
   ]
  },
  {
   "cell_type": "code",
   "execution_count": 26,
   "id": "7114a813-b5bc-4963-b0cc-4d2e1778006f",
   "metadata": {
    "execution": {
     "iopub.execute_input": "2023-09-02T17:27:33.423877Z",
     "iopub.status.busy": "2023-09-02T17:27:33.423497Z",
     "iopub.status.idle": "2023-09-02T17:27:33.721294Z",
     "shell.execute_reply": "2023-09-02T17:27:33.720898Z",
     "shell.execute_reply.started": "2023-09-02T17:27:33.423859Z"
    },
    "tags": []
   },
   "outputs": [
    {
     "data": {
      "image/png": "[encoded data removed]",
      "text/plain": [
       "<Figure size 640x480 with 1 Axes>"
      ]
     },
     "metadata": {},
     "output_type": "display_data"
    }
   ],
   "source": [
    "import pandas as pd\n",
    "import matplotlib.pyplot as plt\n",
    "plt.style.use('dark_background')\n",
    "# Create a pd.Series of features importances\n",
    "importances_rf = pd.Series(rf.feature_importances_, index = X.columns)\n",
    "# Sort importances_rf\n",
    "sorted_importances_rf = importances_rf.sort_values()\n",
    "# Make a horizontal bar plot\n",
    "sorted_importances_rf.plot(kind='barh', color='lightgreen'); plt.show()"
   ]
  }
 ],
 "metadata": {
  "kernelspec": {
   "display_name": "Python 3 (ipykernel)",
   "language": "python",
   "name": "python3"
  },
  "language_info": {
   "codemirror_mode": {
    "name": "ipython",
    "version": 3
   },
   "file_extension": ".py",
   "mimetype": "text/x-python",
   "name": "python",
   "nbconvert_exporter": "python",
   "pygments_lexer": "ipython3",
   "version": "3.10.12"
  }
 },
 "nbformat": 4,
 "nbformat_minor": 5
}
