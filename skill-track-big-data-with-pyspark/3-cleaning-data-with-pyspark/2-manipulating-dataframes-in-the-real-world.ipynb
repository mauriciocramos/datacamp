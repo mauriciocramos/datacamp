{
 "cells": [
  {
   "cell_type": "code",
   "execution_count": 1,
   "id": "e62f3786-0da0-463b-8a13-ddf10797651b",
   "metadata": {
    "execution": {
     "iopub.execute_input": "2023-05-02T22:01:37.623725Z",
     "iopub.status.busy": "2023-05-02T22:01:37.623607Z",
     "iopub.status.idle": "2023-05-02T22:01:37.963509Z",
     "shell.execute_reply": "2023-05-02T22:01:37.963093Z",
     "shell.execute_reply.started": "2023-05-02T22:01:37.623713Z"
    },
    "tags": []
   },
   "outputs": [],
   "source": [
    "import matplotlib.pyplot as plt\n",
    "import pandas as pd\n",
    "import numpy as np\n",
    "plt.style.use('dark_background')"
   ]
  },
  {
   "cell_type": "code",
   "execution_count": 2,
   "id": "7de10da1-0b95-48e6-b394-db6927b0c28d",
   "metadata": {
    "execution": {
     "iopub.execute_input": "2023-05-02T22:01:37.964006Z",
     "iopub.status.busy": "2023-05-02T22:01:37.963871Z",
     "iopub.status.idle": "2023-05-02T22:01:39.667724Z",
     "shell.execute_reply": "2023-05-02T22:01:39.667259Z",
     "shell.execute_reply.started": "2023-05-02T22:01:37.963995Z"
    },
    "tags": []
   },
   "outputs": [
    {
     "name": "stderr",
     "output_type": "stream",
     "text": [
      "23/05/02 19:01:38 WARN Utils: Your hostname, rig resolves to a loopback address: 127.0.1.1; using 192.168.0.102 instead (on interface enp6s0)\n",
      "23/05/02 19:01:38 WARN Utils: Set SPARK_LOCAL_IP if you need to bind to another address\n",
      "Setting default log level to \"WARN\".\n",
      "To adjust logging level use sc.setLogLevel(newLevel). For SparkR, use setLogLevel(newLevel).\n",
      "23/05/02 19:01:39 WARN NativeCodeLoader: Unable to load native-hadoop library for your platform... using builtin-java classes where applicable\n"
     ]
    }
   ],
   "source": [
    "from pyspark import SparkContext\n",
    "sc = SparkContext.getOrCreate()\n",
    "from pyspark.sql import SparkSession\n",
    "spark = SparkSession.builder.getOrCreate()"
   ]
  },
  {
   "cell_type": "markdown",
   "id": "40f8167a-cebc-4666-8937-61e7c18af162",
   "metadata": {},
   "source": [
    "# Dataframe column operations"
   ]
  },
  {
   "cell_type": "markdown",
   "id": "6cee51ff-3016-4e29-bc83-bf610b40f30e",
   "metadata": {},
   "source": [
    "## Filtering column content with Python"
   ]
  },
  {
   "cell_type": "code",
   "execution_count": 3,
   "id": "1aab56dc-af7b-4ff3-a22d-62d9171b760c",
   "metadata": {
    "execution": {
     "iopub.execute_input": "2023-05-02T22:01:39.668314Z",
     "iopub.status.busy": "2023-05-02T22:01:39.668209Z",
     "iopub.status.idle": "2023-05-02T22:01:40.866024Z",
     "shell.execute_reply": "2023-05-02T22:01:40.865677Z",
     "shell.execute_reply.started": "2023-05-02T22:01:39.668302Z"
    },
    "tags": []
   },
   "outputs": [],
   "source": [
    "from pyspark.sql.types import *\n",
    "voter_schema = StructType([\n",
    "  # Define a StructField for each field\n",
    "  StructField('DATE', DateType(), False),\n",
    "  StructField('TITLE', StringType(), False),\n",
    "  StructField('VOTER_NAME', StringType(), False)\n",
    "])\n",
    "voter_df = spark.read.format('csv').options(Header=True).option(\"dateFormat\", \"mm/dd/yyyy\")\\\n",
    "    .load('DallasCouncilVoters.csv.gz', schema=voter_schema)"
   ]
  },
  {
   "cell_type": "code",
   "execution_count": 4,
   "id": "1c0822f6-637e-45b3-b509-a7e21b5402fc",
   "metadata": {
    "execution": {
     "iopub.execute_input": "2023-05-02T22:01:40.867060Z",
     "iopub.status.busy": "2023-05-02T22:01:40.866952Z",
     "iopub.status.idle": "2023-05-02T22:01:41.751572Z",
     "shell.execute_reply": "2023-05-02T22:01:41.751113Z",
     "shell.execute_reply.started": "2023-05-02T22:01:40.867049Z"
    }
   },
   "outputs": [
    {
     "name": "stdout",
     "output_type": "stream",
     "text": [
      "+----------+-------------+-------------------+\n",
      "|      DATE|        TITLE|         VOTER_NAME|\n",
      "+----------+-------------+-------------------+\n",
      "|2017-01-08|Councilmember|  Jennifer S. Gates|\n",
      "|2017-01-08|Councilmember| Philip T. Kingston|\n",
      "|2017-01-08|        Mayor|Michael S. Rawlings|\n",
      "|2017-01-08|Councilmember|       Adam Medrano|\n",
      "|2017-01-08|Councilmember|       Casey Thomas|\n",
      "|2017-01-08|Councilmember|Carolyn King Arnold|\n",
      "|2017-01-08|Councilmember|       Scott Griggs|\n",
      "|2017-01-08|Councilmember|   B. Adam  McGough|\n",
      "|2017-01-08|Councilmember|       Lee Kleinman|\n",
      "|2017-01-08|Councilmember|      Sandy Greyson|\n",
      "|2017-01-08|Councilmember|  Jennifer S. Gates|\n",
      "|2017-01-08|Councilmember| Philip T. Kingston|\n",
      "|2017-01-08|        Mayor|Michael S. Rawlings|\n",
      "|2017-01-08|Councilmember|       Adam Medrano|\n",
      "|2017-01-08|Councilmember|       Casey Thomas|\n",
      "|2017-01-08|Councilmember|Carolyn King Arnold|\n",
      "|2017-01-08|Councilmember| Rickey D. Callahan|\n",
      "|2017-01-11|Councilmember|  Jennifer S. Gates|\n",
      "|2018-01-25|Councilmember|     Sandy  Greyson|\n",
      "|2018-01-25|Councilmember| Jennifer S.  Gates|\n",
      "+----------+-------------+-------------------+\n",
      "only showing top 20 rows\n",
      "\n"
     ]
    }
   ],
   "source": [
    "voter_df.show()"
   ]
  },
  {
   "cell_type": "code",
   "execution_count": 5,
   "id": "179f1cd9-a179-4f36-83be-648cbb733ec1",
   "metadata": {
    "execution": {
     "iopub.execute_input": "2023-05-02T22:01:41.752626Z",
     "iopub.status.busy": "2023-05-02T22:01:41.752231Z",
     "iopub.status.idle": "2023-05-02T22:01:41.755003Z",
     "shell.execute_reply": "2023-05-02T22:01:41.754547Z",
     "shell.execute_reply.started": "2023-05-02T22:01:41.752603Z"
    },
    "tags": []
   },
   "outputs": [],
   "source": [
    "from pyspark.sql import functions as F"
   ]
  },
  {
   "cell_type": "code",
   "execution_count": 6,
   "id": "139fb5ad-4669-47f6-a6a0-de98a7b906b0",
   "metadata": {
    "execution": {
     "iopub.execute_input": "2023-05-02T22:01:41.755921Z",
     "iopub.status.busy": "2023-05-02T22:01:41.755595Z",
     "iopub.status.idle": "2023-05-02T22:01:42.231182Z",
     "shell.execute_reply": "2023-05-02T22:01:42.230701Z",
     "shell.execute_reply.started": "2023-05-02T22:01:41.755903Z"
    },
    "scrolled": true,
    "tags": []
   },
   "outputs": [
    {
     "name": "stdout",
     "output_type": "stream",
     "text": [
      "+---------------------------------------------------------------------------------------------------------------------------------------------------------------------------------------------------------------------------------------------------------------------------------------------------------------------------------------------------------------------------------------------------------------------------+\n",
      "|VOTER_NAME                                                                                                                                                                                                                                                                                                                                                                                                                 |\n",
      "+---------------------------------------------------------------------------------------------------------------------------------------------------------------------------------------------------------------------------------------------------------------------------------------------------------------------------------------------------------------------------------------------------------------------------+\n",
      "|Tennell Atkins                                                                                                                                                                                                                                                                                                                                                                                                             |\n",
      "|  the  final   2018 Assessment Plan and the 2018 Assessment  Roll  (to  be  kept  on  file  with  the  City  Secretary);  establishing  classifications  for   the   apportionment   of   costs and the methods of assessing special assessments for the services and improvements to property in the District;  closing  the  hearing  and  levying  a  special  assessment  on  property  in  the  District              |\n",
      "|Scott Griggs                                                                                                                                                                                                                                                                                                                                                                                                               |\n",
      "|Scott  Griggs                                                                                                                                                                                                                                                                                                                                                                                                              |\n",
      "|Sandy Greyson                                                                                                                                                                                                                                                                                                                                                                                                              |\n",
      "|Michael S. Rawlings                                                                                                                                                                                                                                                                                                                                                                                                        |\n",
      "| the final 2018 Assessment Plan and the 2018 Assessment  Roll  (to  be  kept  on  file  with  the  City  Secretary);  establishing  classifications  for  the   apportionment   of   costs and  the  methods  of  assessing  special  assessments  on  Dallas  hotels  with    100 or more rooms                                                                                                                           |\n",
      "|Kevin Felder                                                                                                                                                                                                                                                                                                                                                                                                               |\n",
      "|Adam Medrano                                                                                                                                                                                                                                                                                                                                                                                                               |\n",
      "|Casey  Thomas                                                                                                                                                                                                                                                                                                                                                                                                              |\n",
      "|null                                                                                                                                                                                                                                                                                                                                                                                                                       |\n",
      "|   the   final  2018 Assessment  Plan  and  the  2018 Assessment  Roll  (to  be  kept  on  file   with the City Secretary); establishing classifications  for  the  apportionment  of  costs  and  the  methods  of  assessing  special  assessments  for  the  services  and  improvements  to  property  in  the  District;  closing  the  hearing  and  levying  a special  assessment  on  property  in  the  District |\n",
      "|011018__42                                                                                                                                                                                                                                                                                                                                                                                                                 |\n",
      "|Mark  Clayton                                                                                                                                                                                                                                                                                                                                                                                                              |\n",
      "|Casey Thomas                                                                                                                                                                                                                                                                                                                                                                                                               |\n",
      "|Sandy  Greyson                                                                                                                                                                                                                                                                                                                                                                                                             |\n",
      "|Mark Clayton                                                                                                                                                                                                                                                                                                                                                                                                               |\n",
      "|Jennifer S.  Gates                                                                                                                                                                                                                                                                                                                                                                                                         |\n",
      "|Tiffinni A. Young                                                                                                                                                                                                                                                                                                                                                                                                          |\n",
      "|  the  final  2018 Assessment  Plan   and   the   2018 Assessment   Roll  (to  be  kept  on  file  with  the  City  Secretary);  establishing   classifications  for the apportionment of costs and the  methods  of  assessing  special  assessments for the services and improvements  to  property  in  the  District;  closing the hearing and  levying  a  special  assessment  on  property  in  the  District       |\n",
      "|B. Adam  McGough                                                                                                                                                                                                                                                                                                                                                                                                           |\n",
      "|Omar Narvaez                                                                                                                                                                                                                                                                                                                                                                                                               |\n",
      "|Philip T. Kingston                                                                                                                                                                                                                                                                                                                                                                                                         |\n",
      "|Rickey D. Callahan                                                                                                                                                                                                                                                                                                                                                                                                         |\n",
      "|Dwaine R. Caraway                                                                                                                                                                                                                                                                                                                                                                                                          |\n",
      "|Philip T.  Kingston                                                                                                                                                                                                                                                                                                                                                                                                        |\n",
      "|Jennifer S. Gates                                                                                                                                                                                                                                                                                                                                                                                                          |\n",
      "|Lee M. Kleinman                                                                                                                                                                                                                                                                                                                                                                                                            |\n",
      "|Monica R. Alonzo                                                                                                                                                                                                                                                                                                                                                                                                           |\n",
      "|   the   final  2018 Assessment  Plan  and  the  2018 Assessment  Roll   (to  be  kept  on  file   with the City Secretary); establishing classifications  for  the  apportionment  of  costs  and  the  methods  of  assessing  special  assessments  for  the  services  and  improvements  to  property  in  the  District;  closing  the  hearing  and  levying  a special  assessment  on  property  in  the  District|\n",
      "|Rickey D.  Callahan                                                                                                                                                                                                                                                                                                                                                                                                        |\n",
      "|Carolyn King Arnold                                                                                                                                                                                                                                                                                                                                                                                                        |\n",
      "|  the  final   2018 Assessment Plan and the 2018 Assessment  Roll  (to  be  kept  on  file  with  the  City  Secretary);  establishing  classifications  for  the   apportionment   of   costs and the methods of assessing special assessments for the services and improvements to property in the District;  closing  the  hearing  and  levying  a  special  assessment  on  property  in  the  District               |\n",
      "|Erik Wilson                                                                                                                                                                                                                                                                                                                                                                                                                |\n",
      "|  the  final  2018 Assessment Plan and the 2018 Assessment  Roll  (to  be  kept  on  file  with  the  City  Secretary);  establishing  classifications  for  the   apportionment   of   costs and the methods of assessing special assessments for the services and improvements to property in the District; closing  the  hearing  and  levying  a  special  assessment  on  property  in  the  District                 |\n",
      "|Lee Kleinman                                                                                                                                                                                                                                                                                                                                                                                                               |\n",
      "+---------------------------------------------------------------------------------------------------------------------------------------------------------------------------------------------------------------------------------------------------------------------------------------------------------------------------------------------------------------------------------------------------------------------------+\n",
      "\n"
     ]
    }
   ],
   "source": [
    "# Show the distinct VOTER_NAME entries\n",
    "voter_df.select('VOTER_NAME').distinct().show(40, truncate=False)"
   ]
  },
  {
   "cell_type": "code",
   "execution_count": 7,
   "id": "f4797f1f-cfd7-4586-91f9-7fdb24957bea",
   "metadata": {
    "execution": {
     "iopub.execute_input": "2023-05-02T22:01:42.231759Z",
     "iopub.status.busy": "2023-05-02T22:01:42.231637Z",
     "iopub.status.idle": "2023-05-02T22:01:42.513263Z",
     "shell.execute_reply": "2023-05-02T22:01:42.512894Z",
     "shell.execute_reply.started": "2023-05-02T22:01:42.231747Z"
    },
    "tags": []
   },
   "outputs": [
    {
     "name": "stdout",
     "output_type": "stream",
     "text": [
      "+-------------------+\n",
      "|VOTER_NAME         |\n",
      "+-------------------+\n",
      "|Tennell Atkins     |\n",
      "|Scott Griggs       |\n",
      "|Scott  Griggs      |\n",
      "|Sandy Greyson      |\n",
      "|Michael S. Rawlings|\n",
      "|Kevin Felder       |\n",
      "|Adam Medrano       |\n",
      "|Casey  Thomas      |\n",
      "|Mark  Clayton      |\n",
      "|Casey Thomas       |\n",
      "|Sandy  Greyson     |\n",
      "|Mark Clayton       |\n",
      "|Jennifer S.  Gates |\n",
      "|Tiffinni A. Young  |\n",
      "|B. Adam  McGough   |\n",
      "|Omar Narvaez       |\n",
      "|Philip T. Kingston |\n",
      "|Rickey D. Callahan |\n",
      "|Dwaine R. Caraway  |\n",
      "|Philip T.  Kingston|\n",
      "|Jennifer S. Gates  |\n",
      "|Lee M. Kleinman    |\n",
      "|Monica R. Alonzo   |\n",
      "|Rickey D.  Callahan|\n",
      "|Carolyn King Arnold|\n",
      "|Erik Wilson        |\n",
      "|Lee Kleinman       |\n",
      "+-------------------+\n",
      "\n"
     ]
    }
   ],
   "source": [
    "# Filter voter_df where the VOTER_NAME is 1-20 characters in length\n",
    "voter_df = voter_df.filter('length(VOTER_NAME) > 0 and length(VOTER_NAME) < 20')\n",
    "# Filter out voter_df where the VOTER_NAME contains an underscore\n",
    "voter_df = voter_df.filter(~ F.col('VOTER_NAME').contains('_'))\n",
    "# or voter_df = voter_df.filter(~ voter_df.VOTER_NAME.contains('_'))\n",
    "# Show the distinct VOTER_NAME entries again\n",
    "voter_df.select('VOTER_NAME').distinct().show(40, truncate=False)"
   ]
  },
  {
   "cell_type": "markdown",
   "id": "d77283d8-63e5-45f0-8748-d25cf54252ff",
   "metadata": {},
   "source": [
    "## Returning only names without nullls"
   ]
  },
  {
   "cell_type": "code",
   "execution_count": 8,
   "id": "7e669753-39c9-4723-9bac-c7eae04e82f6",
   "metadata": {
    "execution": {
     "iopub.execute_input": "2023-05-02T22:01:42.513971Z",
     "iopub.status.busy": "2023-05-02T22:01:42.513729Z",
     "iopub.status.idle": "2023-05-02T22:01:42.595197Z",
     "shell.execute_reply": "2023-05-02T22:01:42.594895Z",
     "shell.execute_reply.started": "2023-05-02T22:01:42.513958Z"
    },
    "tags": []
   },
   "outputs": [
    {
     "data": {
      "text/plain": [
       "[Row(DATE=datetime.date(2017, 1, 8), TITLE='Councilmember', VOTER_NAME='Jennifer S. Gates')]"
      ]
     },
     "execution_count": 8,
     "metadata": {},
     "output_type": "execute_result"
    }
   ],
   "source": [
    "voter_df.filter(voter_df.VOTER_NAME.isNotNull()).take(1)"
   ]
  },
  {
   "cell_type": "code",
   "execution_count": 9,
   "id": "1ba5e8cc-f71f-4754-8f65-c3af032d5bf3",
   "metadata": {
    "execution": {
     "iopub.execute_input": "2023-05-02T22:01:42.595733Z",
     "iopub.status.busy": "2023-05-02T22:01:42.595617Z",
     "iopub.status.idle": "2023-05-02T22:01:42.646849Z",
     "shell.execute_reply": "2023-05-02T22:01:42.646590Z",
     "shell.execute_reply.started": "2023-05-02T22:01:42.595719Z"
    },
    "tags": []
   },
   "outputs": [
    {
     "data": {
      "text/plain": [
       "[Row(DATE=datetime.date(2017, 1, 8), TITLE='Councilmember', VOTER_NAME='Jennifer S. Gates')]"
      ]
     },
     "execution_count": 9,
     "metadata": {},
     "output_type": "execute_result"
    }
   ],
   "source": [
    "voter_df.filter(~F.col('VOTER_NAME').isNull()).take(1)"
   ]
  },
  {
   "cell_type": "code",
   "execution_count": 10,
   "id": "54e4c33b-5610-4121-8dd3-aee7d51c9a91",
   "metadata": {
    "execution": {
     "iopub.execute_input": "2023-05-02T22:01:42.647506Z",
     "iopub.status.busy": "2023-05-02T22:01:42.647278Z",
     "iopub.status.idle": "2023-05-02T22:01:42.703114Z",
     "shell.execute_reply": "2023-05-02T22:01:42.702686Z",
     "shell.execute_reply.started": "2023-05-02T22:01:42.647494Z"
    },
    "tags": []
   },
   "outputs": [
    {
     "data": {
      "text/plain": [
       "[Row(DATE=datetime.date(2017, 1, 8), TITLE='Councilmember', VOTER_NAME='Jennifer S. Gates')]"
      ]
     },
     "execution_count": 10,
     "metadata": {},
     "output_type": "execute_result"
    }
   ],
   "source": [
    "voter_df.filter(F.col('VOTER_NAME').isNotNull()).take(1)"
   ]
  },
  {
   "cell_type": "markdown",
   "id": "b51e0e5c-70f3-4197-b7b4-0f50afa5b82c",
   "metadata": {},
   "source": [
    "## Returning rows before 2018"
   ]
  },
  {
   "cell_type": "code",
   "execution_count": 11,
   "id": "0ffa9ab9-00c6-416c-875d-c80002ece5d5",
   "metadata": {
    "execution": {
     "iopub.execute_input": "2023-05-02T22:01:42.703873Z",
     "iopub.status.busy": "2023-05-02T22:01:42.703679Z",
     "iopub.status.idle": "2023-05-02T22:01:42.911056Z",
     "shell.execute_reply": "2023-05-02T22:01:42.910589Z",
     "shell.execute_reply.started": "2023-05-02T22:01:42.703852Z"
    },
    "tags": []
   },
   "outputs": [
    {
     "name": "stdout",
     "output_type": "stream",
     "text": [
      "+----------+-------------+-------------------+\n",
      "|      DATE|        TITLE|         VOTER_NAME|\n",
      "+----------+-------------+-------------------+\n",
      "|2017-01-08|Councilmember|  Jennifer S. Gates|\n",
      "|2017-01-08|Councilmember| Philip T. Kingston|\n",
      "|2017-01-08|        Mayor|Michael S. Rawlings|\n",
      "|2017-01-08|Councilmember|       Adam Medrano|\n",
      "|2017-01-08|Councilmember|       Casey Thomas|\n",
      "|2017-01-08|Councilmember|Carolyn King Arnold|\n",
      "|2017-01-08|Councilmember|       Scott Griggs|\n",
      "|2017-01-08|Councilmember|   B. Adam  McGough|\n",
      "|2017-01-08|Councilmember|       Lee Kleinman|\n",
      "|2017-01-08|Councilmember|      Sandy Greyson|\n",
      "|2017-01-08|Councilmember|  Jennifer S. Gates|\n",
      "|2017-01-08|Councilmember| Philip T. Kingston|\n",
      "|2017-01-08|        Mayor|Michael S. Rawlings|\n",
      "|2017-01-08|Councilmember|       Adam Medrano|\n",
      "|2017-01-08|Councilmember|       Casey Thomas|\n",
      "|2017-01-08|Councilmember|Carolyn King Arnold|\n",
      "|2017-01-08|Councilmember| Rickey D. Callahan|\n",
      "|2017-01-11|Councilmember|  Jennifer S. Gates|\n",
      "|2017-01-04|Councilmember|       Scott Griggs|\n",
      "|2017-01-04|Councilmember|   B. Adam  McGough|\n",
      "+----------+-------------+-------------------+\n",
      "only showing top 20 rows\n",
      "\n"
     ]
    }
   ],
   "source": [
    "voter_df.filter('DATE < \"2018\"').show()"
   ]
  },
  {
   "cell_type": "markdown",
   "id": "8ef6cda0-b8c4-450c-8931-bd2216136f59",
   "metadata": {},
   "source": [
    "## Modifying DataFrame columns"
   ]
  },
  {
   "cell_type": "code",
   "execution_count": 12,
   "id": "bf04bcfb-a0fb-4eb2-a850-7c8590967414",
   "metadata": {
    "execution": {
     "iopub.execute_input": "2023-05-02T22:01:42.911863Z",
     "iopub.status.busy": "2023-05-02T22:01:42.911657Z",
     "iopub.status.idle": "2023-05-02T22:01:43.041148Z",
     "shell.execute_reply": "2023-05-02T22:01:43.040792Z",
     "shell.execute_reply.started": "2023-05-02T22:01:42.911847Z"
    },
    "tags": []
   },
   "outputs": [
    {
     "name": "stdout",
     "output_type": "stream",
     "text": [
      "+----------+-------------+-------------------+----------+---------+\n",
      "|      DATE|        TITLE|         VOTER_NAME|first_name|last_name|\n",
      "+----------+-------------+-------------------+----------+---------+\n",
      "|2017-01-08|Councilmember|  Jennifer S. Gates|  Jennifer|    Gates|\n",
      "|2017-01-08|Councilmember| Philip T. Kingston|    Philip| Kingston|\n",
      "|2017-01-08|        Mayor|Michael S. Rawlings|   Michael| Rawlings|\n",
      "|2017-01-08|Councilmember|       Adam Medrano|      Adam|  Medrano|\n",
      "|2017-01-08|Councilmember|       Casey Thomas|     Casey|   Thomas|\n",
      "|2017-01-08|Councilmember|Carolyn King Arnold|   Carolyn|   Arnold|\n",
      "|2017-01-08|Councilmember|       Scott Griggs|     Scott|   Griggs|\n",
      "|2017-01-08|Councilmember|   B. Adam  McGough|        B.|  McGough|\n",
      "|2017-01-08|Councilmember|       Lee Kleinman|       Lee| Kleinman|\n",
      "|2017-01-08|Councilmember|      Sandy Greyson|     Sandy|  Greyson|\n",
      "|2017-01-08|Councilmember|  Jennifer S. Gates|  Jennifer|    Gates|\n",
      "|2017-01-08|Councilmember| Philip T. Kingston|    Philip| Kingston|\n",
      "|2017-01-08|        Mayor|Michael S. Rawlings|   Michael| Rawlings|\n",
      "|2017-01-08|Councilmember|       Adam Medrano|      Adam|  Medrano|\n",
      "|2017-01-08|Councilmember|       Casey Thomas|     Casey|   Thomas|\n",
      "|2017-01-08|Councilmember|Carolyn King Arnold|   Carolyn|   Arnold|\n",
      "|2017-01-08|Councilmember| Rickey D. Callahan|    Rickey| Callahan|\n",
      "|2017-01-11|Councilmember|  Jennifer S. Gates|  Jennifer|    Gates|\n",
      "|2018-01-25|Councilmember|     Sandy  Greyson|     Sandy|  Greyson|\n",
      "|2018-01-25|Councilmember| Jennifer S.  Gates|  Jennifer|    Gates|\n",
      "+----------+-------------+-------------------+----------+---------+\n",
      "only showing top 20 rows\n",
      "\n"
     ]
    }
   ],
   "source": [
    "# Add a new column called splits separated on whitespace\n",
    "voter_df = voter_df.withColumn('splits', F.split(voter_df.VOTER_NAME, '\\s+'))\n",
    "# Create a new column called first_name based on the first item in splits\n",
    "voter_df = voter_df.withColumn('first_name', voter_df.splits.getItem(0))\n",
    "# Get the last entry of the splits list and create a column called last_name\n",
    "# voter_df = voter_df.withColumn('last_name', voter_df.splits.getItem(F.size('splits') - 1))\n",
    "voter_df = voter_df.withColumn('last_name', F.element_at(F.col('splits'), -1))\n",
    "# Drop the splits column\n",
    "voter_df = voter_df.drop('splits')\n",
    "# Show the voter_df DataFrame\n",
    "voter_df.show()"
   ]
  },
  {
   "cell_type": "markdown",
   "id": "8631beee-0f7b-45bb-8a67-19dc3d6c2472",
   "metadata": {},
   "source": [
    "# Conditional DataFrame column operations"
   ]
  },
  {
   "cell_type": "markdown",
   "id": "72298935-a6fd-44c7-ae5f-e6b8db0b0d5d",
   "metadata": {},
   "source": [
    "## Conditional example"
   ]
  },
  {
   "cell_type": "code",
   "execution_count": 13,
   "id": "f4a374e8-9a42-4dae-a5e2-d0bcd198d58d",
   "metadata": {
    "execution": {
     "iopub.execute_input": "2023-05-02T22:01:43.042813Z",
     "iopub.status.busy": "2023-05-02T22:01:43.042656Z",
     "iopub.status.idle": "2023-05-02T22:01:43.146312Z",
     "shell.execute_reply": "2023-05-02T22:01:43.145685Z",
     "shell.execute_reply.started": "2023-05-02T22:01:43.042801Z"
    },
    "tags": []
   },
   "outputs": [
    {
     "name": "stdout",
     "output_type": "stream",
     "text": [
      "+----------+------+\n",
      "|      DATE|   tip|\n",
      "+----------+------+\n",
      "|2017-01-08|  null|\n",
      "|2017-01-08|  null|\n",
      "|2017-01-08|  null|\n",
      "|2017-01-08|  null|\n",
      "|2017-01-08|  null|\n",
      "|2017-01-08|  null|\n",
      "|2017-01-08|  null|\n",
      "|2017-01-08|  null|\n",
      "|2017-01-08|  null|\n",
      "|2017-01-08|  null|\n",
      "|2017-01-08|  null|\n",
      "|2017-01-08|  null|\n",
      "|2017-01-08|  null|\n",
      "|2017-01-08|  null|\n",
      "|2017-01-08|  null|\n",
      "|2017-01-08|  null|\n",
      "|2017-01-08|  null|\n",
      "|2017-01-11|  null|\n",
      "|2018-01-25|latest|\n",
      "|2018-01-25|latest|\n",
      "+----------+------+\n",
      "only showing top 20 rows\n",
      "\n"
     ]
    }
   ],
   "source": [
    "voter_df.select('DATE', F.when(F.col('DATE')>'2018', 'latest').alias('tip')).show()"
   ]
  },
  {
   "cell_type": "code",
   "execution_count": 14,
   "id": "bb413908-719e-4a76-a622-faa1be1cf6aa",
   "metadata": {
    "execution": {
     "iopub.execute_input": "2023-05-02T22:01:43.147099Z",
     "iopub.status.busy": "2023-05-02T22:01:43.146934Z",
     "iopub.status.idle": "2023-05-02T22:01:43.218798Z",
     "shell.execute_reply": "2023-05-02T22:01:43.218512Z",
     "shell.execute_reply.started": "2023-05-02T22:01:43.147081Z"
    },
    "tags": []
   },
   "outputs": [
    {
     "name": "stdout",
     "output_type": "stream",
     "text": [
      "+----------+------+\n",
      "|      DATE|   tip|\n",
      "+----------+------+\n",
      "|2017-01-08| older|\n",
      "|2017-01-08| older|\n",
      "|2017-01-08| older|\n",
      "|2017-01-08| older|\n",
      "|2017-01-08| older|\n",
      "|2017-01-08| older|\n",
      "|2017-01-08| older|\n",
      "|2017-01-08| older|\n",
      "|2017-01-08| older|\n",
      "|2017-01-08| older|\n",
      "|2017-01-08| older|\n",
      "|2017-01-08| older|\n",
      "|2017-01-08| older|\n",
      "|2017-01-08| older|\n",
      "|2017-01-08| older|\n",
      "|2017-01-08| older|\n",
      "|2017-01-08| older|\n",
      "|2017-01-11| older|\n",
      "|2018-01-25|latest|\n",
      "|2018-01-25|latest|\n",
      "+----------+------+\n",
      "only showing top 20 rows\n",
      "\n"
     ]
    }
   ],
   "source": [
    "voter_df.select('DATE',\n",
    "                F.when(F.col('DATE')>'2018', 'latest')\\\n",
    "                .when(F.col('DATE')<'2018', 'older').alias('tip')\n",
    "               ).show()"
   ]
  },
  {
   "cell_type": "code",
   "execution_count": 15,
   "id": "0819c805-3c79-44fd-92bb-aa58210b3d51",
   "metadata": {
    "execution": {
     "iopub.execute_input": "2023-05-02T22:01:43.219407Z",
     "iopub.status.busy": "2023-05-02T22:01:43.219179Z",
     "iopub.status.idle": "2023-05-02T22:01:43.285870Z",
     "shell.execute_reply": "2023-05-02T22:01:43.285457Z",
     "shell.execute_reply.started": "2023-05-02T22:01:43.219396Z"
    },
    "tags": []
   },
   "outputs": [
    {
     "name": "stdout",
     "output_type": "stream",
     "text": [
      "+----------+------+\n",
      "|      DATE|   tip|\n",
      "+----------+------+\n",
      "|2017-01-08| older|\n",
      "|2017-01-08| older|\n",
      "|2017-01-08| older|\n",
      "|2017-01-08| older|\n",
      "|2017-01-08| older|\n",
      "|2017-01-08| older|\n",
      "|2017-01-08| older|\n",
      "|2017-01-08| older|\n",
      "|2017-01-08| older|\n",
      "|2017-01-08| older|\n",
      "|2017-01-08| older|\n",
      "|2017-01-08| older|\n",
      "|2017-01-08| older|\n",
      "|2017-01-08| older|\n",
      "|2017-01-08| older|\n",
      "|2017-01-08| older|\n",
      "|2017-01-08| older|\n",
      "|2017-01-11| older|\n",
      "|2018-01-25|latest|\n",
      "|2018-01-25|latest|\n",
      "+----------+------+\n",
      "only showing top 20 rows\n",
      "\n"
     ]
    }
   ],
   "source": [
    "voter_df.select('DATE',\n",
    "                F.when(F.col('DATE')>'2018', 'latest')\\\n",
    "                .otherwise('older').alias('tip')\n",
    "               ).show()"
   ]
  },
  {
   "cell_type": "markdown",
   "id": "1455ccd1-03d5-4758-abff-0caeec179eef",
   "metadata": {
    "tags": []
   },
   "source": [
    "## when() example"
   ]
  },
  {
   "cell_type": "code",
   "execution_count": 16,
   "id": "894fa240-fdde-42d8-a007-5d67e8a7ede6",
   "metadata": {
    "execution": {
     "iopub.execute_input": "2023-05-02T22:01:43.286719Z",
     "iopub.status.busy": "2023-05-02T22:01:43.286447Z",
     "iopub.status.idle": "2023-05-02T22:01:43.368665Z",
     "shell.execute_reply": "2023-05-02T22:01:43.368323Z",
     "shell.execute_reply.started": "2023-05-02T22:01:43.286702Z"
    },
    "tags": []
   },
   "outputs": [
    {
     "name": "stdout",
     "output_type": "stream",
     "text": [
      "+----------+-------------+-------------------+----------+---------+-------------------+\n",
      "|      DATE|        TITLE|         VOTER_NAME|first_name|last_name|         random_val|\n",
      "+----------+-------------+-------------------+----------+---------+-------------------+\n",
      "|2017-01-08|Councilmember|  Jennifer S. Gates|  Jennifer|    Gates| 0.6363787615254752|\n",
      "|2017-01-08|Councilmember| Philip T. Kingston|    Philip| Kingston| 0.5993846534021868|\n",
      "|2017-01-08|        Mayor|Michael S. Rawlings|   Michael| Rawlings|               null|\n",
      "|2017-01-08|Councilmember|       Adam Medrano|      Adam|  Medrano|  0.134842710012538|\n",
      "|2017-01-08|Councilmember|       Casey Thomas|     Casey|   Thomas|0.07684163905460906|\n",
      "|2017-01-08|Councilmember|Carolyn King Arnold|   Carolyn|   Arnold| 0.8539211111755448|\n",
      "|2017-01-08|Councilmember|       Scott Griggs|     Scott|   Griggs| 0.7167704217972344|\n",
      "|2017-01-08|Councilmember|   B. Adam  McGough|        B.|  McGough|0.24739024075979754|\n",
      "|2017-01-08|Councilmember|       Lee Kleinman|       Lee| Kleinman|0.13674507418513693|\n",
      "|2017-01-08|Councilmember|      Sandy Greyson|     Sandy|  Greyson| 0.3869569887491171|\n",
      "|2017-01-08|Councilmember|  Jennifer S. Gates|  Jennifer|    Gates| 0.6051540605040805|\n",
      "|2017-01-08|Councilmember| Philip T. Kingston|    Philip| Kingston| 0.5513078894057816|\n",
      "|2017-01-08|        Mayor|Michael S. Rawlings|   Michael| Rawlings|               null|\n",
      "|2017-01-08|Councilmember|       Adam Medrano|      Adam|  Medrano| 0.1452399817642237|\n",
      "|2017-01-08|Councilmember|       Casey Thomas|     Casey|   Thomas|0.26163926627619905|\n",
      "|2017-01-08|Councilmember|Carolyn King Arnold|   Carolyn|   Arnold| 0.8530140462553923|\n",
      "|2017-01-08|Councilmember| Rickey D. Callahan|    Rickey| Callahan| 0.8090257953622899|\n",
      "|2017-01-11|Councilmember|  Jennifer S. Gates|  Jennifer|    Gates| 0.9643107647469807|\n",
      "|2018-01-25|Councilmember|     Sandy  Greyson|     Sandy|  Greyson| 0.7312153295256995|\n",
      "|2018-01-25|Councilmember| Jennifer S.  Gates|  Jennifer|    Gates|  0.950696177240955|\n",
      "+----------+-------------+-------------------+----------+---------+-------------------+\n",
      "only showing top 20 rows\n",
      "\n"
     ]
    }
   ],
   "source": [
    "# Add a column to voter_df for any voter with the title **Councilmember**\n",
    "voter_df = voter_df.withColumn('random_val',\n",
    "                               F.when(voter_df.TITLE=='Councilmember', F.rand(seed=1)))\n",
    "# voter_df = voter_df.withColumn('random_val',\n",
    "#                                F.when(F.col('TITLE')=='Councilmember', F.rand(seed=1)))\n",
    "# Show some of the DataFrame rows, noting whether the when clause worked\n",
    "voter_df.show()"
   ]
  },
  {
   "cell_type": "markdown",
   "id": "5985e799-702c-4418-bd0e-1bbe60ff2582",
   "metadata": {},
   "source": [
    "## When / Otherwise"
   ]
  },
  {
   "cell_type": "code",
   "execution_count": 17,
   "id": "876b9f2d-9bae-48af-acf1-c9c79e596877",
   "metadata": {
    "execution": {
     "iopub.execute_input": "2023-05-02T22:01:43.369253Z",
     "iopub.status.busy": "2023-05-02T22:01:43.369141Z",
     "iopub.status.idle": "2023-05-02T22:01:43.525390Z",
     "shell.execute_reply": "2023-05-02T22:01:43.525092Z",
     "shell.execute_reply.started": "2023-05-02T22:01:43.369242Z"
    },
    "tags": []
   },
   "outputs": [
    {
     "name": "stdout",
     "output_type": "stream",
     "text": [
      "+----------+-------------+-------------------+----------+---------+-------------------+\n",
      "|      DATE|        TITLE|         VOTER_NAME|first_name|last_name|         random_val|\n",
      "+----------+-------------+-------------------+----------+---------+-------------------+\n",
      "|2017-01-08|Councilmember|  Jennifer S. Gates|  Jennifer|    Gates|0.01756797668845078|\n",
      "|2017-01-08|Councilmember| Philip T. Kingston|    Philip| Kingston| 0.8928190978260016|\n",
      "|2017-01-08|        Mayor|Michael S. Rawlings|   Michael| Rawlings|                2.0|\n",
      "|2017-01-08|Councilmember|       Adam Medrano|      Adam|  Medrano|0.30704684751189415|\n",
      "|2017-01-08|Councilmember|       Casey Thomas|     Casey|   Thomas| 0.4096070682426126|\n",
      "|2017-01-08|Councilmember|Carolyn King Arnold|   Carolyn|   Arnold|  0.163249579156727|\n",
      "|2017-01-08|Councilmember|       Scott Griggs|     Scott|   Griggs|0.46390769378598706|\n",
      "|2017-01-08|Councilmember|   B. Adam  McGough|        B.|  McGough| 0.1515774617769755|\n",
      "|2017-01-08|Councilmember|       Lee Kleinman|       Lee| Kleinman| 0.2598023166962763|\n",
      "|2017-01-08|Councilmember|      Sandy Greyson|     Sandy|  Greyson| 0.9097304334071398|\n",
      "|2017-01-08|Councilmember|  Jennifer S. Gates|  Jennifer|    Gates|0.16106897482828897|\n",
      "|2017-01-08|Councilmember| Philip T. Kingston|    Philip| Kingston| 0.9976014891879345|\n",
      "|2017-01-08|        Mayor|Michael S. Rawlings|   Michael| Rawlings|                2.0|\n",
      "|2017-01-08|Councilmember|       Adam Medrano|      Adam|  Medrano|0.33101006738419914|\n",
      "|2017-01-08|Councilmember|       Casey Thomas|     Casey|   Thomas|0.37034189403142614|\n",
      "|2017-01-08|Councilmember|Carolyn King Arnold|   Carolyn|   Arnold|0.31578749703783604|\n",
      "|2017-01-08|Councilmember| Rickey D. Callahan|    Rickey| Callahan| 0.5182713566875986|\n",
      "|2017-01-11|Councilmember|  Jennifer S. Gates|  Jennifer|    Gates| 0.2513744414600648|\n",
      "|2018-01-25|Councilmember|     Sandy  Greyson|     Sandy|  Greyson| 0.2639587329552925|\n",
      "|2018-01-25|Councilmember| Jennifer S.  Gates|  Jennifer|    Gates| 0.5542119796480562|\n",
      "+----------+-------------+-------------------+----------+---------+-------------------+\n",
      "only showing top 20 rows\n",
      "\n",
      "+----------+--------------------+-----------------+----------+---------+----------+\n",
      "|      DATE|               TITLE|       VOTER_NAME|first_name|last_name|random_val|\n",
      "+----------+--------------------+-----------------+----------+---------+----------+\n",
      "|2018-01-25|Deputy Mayor Pro Tem|     Adam Medrano|      Adam|  Medrano|       0.0|\n",
      "|2018-01-25|       Mayor Pro Tem|Dwaine R. Caraway|    Dwaine|  Caraway|       0.0|\n",
      "|2018-01-20|Deputy Mayor Pro Tem|     Adam Medrano|      Adam|  Medrano|       0.0|\n",
      "|2018-01-20|       Mayor Pro Tem|Dwaine R. Caraway|    Dwaine|  Caraway|       0.0|\n",
      "|2018-01-20|Deputy Mayor Pro Tem|     Adam Medrano|      Adam|  Medrano|       0.0|\n",
      "|2018-01-20|       Mayor Pro Tem|Dwaine R. Caraway|    Dwaine|  Caraway|       0.0|\n",
      "|2018-01-15|Deputy Mayor Pro Tem|     Adam Medrano|      Adam|  Medrano|       0.0|\n",
      "|2018-01-15|Deputy Mayor Pro Tem|     Adam Medrano|      Adam|  Medrano|       0.0|\n",
      "|2018-01-18|Deputy Mayor Pro Tem|     Adam Medrano|      Adam|  Medrano|       0.0|\n",
      "|2018-01-18|       Mayor Pro Tem|    Casey  Thomas|     Casey|   Thomas|       0.0|\n",
      "|2018-01-25|Deputy Mayor Pro Tem|     Adam Medrano|      Adam|  Medrano|       0.0|\n",
      "|2018-01-25|       Mayor Pro Tem|Dwaine R. Caraway|    Dwaine|  Caraway|       0.0|\n",
      "|2018-01-11|       Mayor Pro Tem|Dwaine R. Caraway|    Dwaine|  Caraway|       0.0|\n",
      "|2018-01-11|Deputy Mayor Pro Tem|     Adam Medrano|      Adam|  Medrano|       0.0|\n",
      "|2018-01-11|       Mayor Pro Tem|Dwaine R. Caraway|    Dwaine|  Caraway|       0.0|\n",
      "|2018-01-11|Deputy Mayor Pro Tem|     Adam Medrano|      Adam|  Medrano|       0.0|\n",
      "|2018-01-11|       Mayor Pro Tem|Dwaine R. Caraway|    Dwaine|  Caraway|       0.0|\n",
      "|2018-01-13|Deputy Mayor Pro Tem|     Adam Medrano|      Adam|  Medrano|       0.0|\n",
      "|2018-01-13|       Mayor Pro Tem|Dwaine R. Caraway|    Dwaine|  Caraway|       0.0|\n",
      "|2018-01-11|Deputy Mayor Pro Tem|     Adam Medrano|      Adam|  Medrano|       0.0|\n",
      "+----------+--------------------+-----------------+----------+---------+----------+\n",
      "only showing top 20 rows\n",
      "\n"
     ]
    }
   ],
   "source": [
    "# Add a column to voter_df for a voter based on their position\n",
    "voter_df = voter_df.withColumn('random_val',\n",
    "                               F.when(voter_df.TITLE == 'Councilmember', F.rand())\n",
    "                               .when(voter_df.TITLE == 'Mayor', 2)\n",
    "                               .otherwise(0))\n",
    "\n",
    "# Show some of the DataFrame rows\n",
    "voter_df.show()\n",
    "\n",
    "# Use the .filter() clause with random_val\n",
    "voter_df.filter(voter_df.random_val == 0).show()"
   ]
  },
  {
   "cell_type": "markdown",
   "id": "39ff04a9-b030-4561-a52e-de50a37e6adc",
   "metadata": {},
   "source": [
    "# User defined functions"
   ]
  },
  {
   "cell_type": "markdown",
   "id": "a5c82e01-f324-4926-ae9d-ab4b4e6b205d",
   "metadata": {},
   "source": [
    "> The return type from a UDF can be any defined type, even a full `StructType()` schema object."
   ]
  },
  {
   "cell_type": "markdown",
   "id": "61b51896-e619-4158-942a-c43592f878a5",
   "metadata": {},
   "source": [
    "## Reverse string UDF"
   ]
  },
  {
   "cell_type": "code",
   "execution_count": 18,
   "id": "6b5055f5-130c-44c7-9386-66096f1ada94",
   "metadata": {
    "execution": {
     "iopub.execute_input": "2023-05-02T22:01:43.525949Z",
     "iopub.status.busy": "2023-05-02T22:01:43.525803Z",
     "iopub.status.idle": "2023-05-02T22:01:43.978934Z",
     "shell.execute_reply": "2023-05-02T22:01:43.978602Z",
     "shell.execute_reply.started": "2023-05-02T22:01:43.525937Z"
    },
    "tags": []
   },
   "outputs": [
    {
     "name": "stdout",
     "output_type": "stream",
     "text": [
      "+----------+-------------+-------------------+----------+---------+-------------------+-------------------+\n",
      "|      DATE|        TITLE|         VOTER_NAME|first_name|last_name|         random_val|        ReverseName|\n",
      "+----------+-------------+-------------------+----------+---------+-------------------+-------------------+\n",
      "|2017-01-08|Councilmember|  Jennifer S. Gates|  Jennifer|    Gates|0.01756797668845078|  setaG .S refinneJ|\n",
      "|2017-01-08|Councilmember| Philip T. Kingston|    Philip| Kingston| 0.8928190978260016| notsgniK .T pilihP|\n",
      "|2017-01-08|        Mayor|Michael S. Rawlings|   Michael| Rawlings|                2.0|sgnilwaR .S leahciM|\n",
      "|2017-01-08|Councilmember|       Adam Medrano|      Adam|  Medrano|0.30704684751189415|       onardeM madA|\n",
      "|2017-01-08|Councilmember|       Casey Thomas|     Casey|   Thomas| 0.4096070682426126|       samohT yesaC|\n",
      "|2017-01-08|Councilmember|Carolyn King Arnold|   Carolyn|   Arnold|  0.163249579156727|dlonrA gniK nyloraC|\n",
      "|2017-01-08|Councilmember|       Scott Griggs|     Scott|   Griggs|0.46390769378598706|       sggirG ttocS|\n",
      "|2017-01-08|Councilmember|   B. Adam  McGough|        B.|  McGough| 0.1515774617769755|   hguoGcM  madA .B|\n",
      "|2017-01-08|Councilmember|       Lee Kleinman|       Lee| Kleinman| 0.2598023166962763|       namnielK eeL|\n",
      "|2017-01-08|Councilmember|      Sandy Greyson|     Sandy|  Greyson| 0.9097304334071398|      nosyerG ydnaS|\n",
      "|2017-01-08|Councilmember|  Jennifer S. Gates|  Jennifer|    Gates|0.16106897482828897|  setaG .S refinneJ|\n",
      "|2017-01-08|Councilmember| Philip T. Kingston|    Philip| Kingston| 0.9976014891879345| notsgniK .T pilihP|\n",
      "|2017-01-08|        Mayor|Michael S. Rawlings|   Michael| Rawlings|                2.0|sgnilwaR .S leahciM|\n",
      "|2017-01-08|Councilmember|       Adam Medrano|      Adam|  Medrano|0.33101006738419914|       onardeM madA|\n",
      "|2017-01-08|Councilmember|       Casey Thomas|     Casey|   Thomas|0.37034189403142614|       samohT yesaC|\n",
      "|2017-01-08|Councilmember|Carolyn King Arnold|   Carolyn|   Arnold|0.31578749703783604|dlonrA gniK nyloraC|\n",
      "|2017-01-08|Councilmember| Rickey D. Callahan|    Rickey| Callahan| 0.5182713566875986| nahallaC .D yekciR|\n",
      "|2017-01-11|Councilmember|  Jennifer S. Gates|  Jennifer|    Gates| 0.2513744414600648|  setaG .S refinneJ|\n",
      "|2018-01-25|Councilmember|     Sandy  Greyson|     Sandy|  Greyson| 0.2639587329552925|     nosyerG  ydnaS|\n",
      "|2018-01-25|Councilmember| Jennifer S.  Gates|  Jennifer|    Gates| 0.5542119796480562| setaG  .S refinneJ|\n",
      "+----------+-------------+-------------------+----------+---------+-------------------+-------------------+\n",
      "only showing top 20 rows\n",
      "\n"
     ]
    }
   ],
   "source": [
    "from pyspark.sql.functions import udf\n",
    "\n",
    "#Define a Python method\n",
    "def reverseString(mystr):\n",
    "    return mystr[::-1]\n",
    "\n",
    "# Wrap the function and store as a variable\n",
    "udfReverseString = udf(reverseString, StringType())\n",
    "\n",
    "#Use with Spark\n",
    "voter_df.withColumn('ReverseName', udfReverseString(voter_df.VOTER_NAME)).show()"
   ]
  },
  {
   "cell_type": "markdown",
   "id": "9c4ec721-caa0-455c-b49b-d2c6481d2222",
   "metadata": {},
   "source": [
    "## Argument-less example"
   ]
  },
  {
   "cell_type": "code",
   "execution_count": 19,
   "id": "682fe64a-6831-4bbd-9d6e-d33381b0bd54",
   "metadata": {
    "execution": {
     "iopub.execute_input": "2023-05-02T22:01:43.979463Z",
     "iopub.status.busy": "2023-05-02T22:01:43.979351Z",
     "iopub.status.idle": "2023-05-02T22:01:44.086859Z",
     "shell.execute_reply": "2023-05-02T22:01:44.086422Z",
     "shell.execute_reply.started": "2023-05-02T22:01:43.979452Z"
    },
    "tags": []
   },
   "outputs": [
    {
     "name": "stdout",
     "output_type": "stream",
     "text": [
      "+----------+-------------+-------------------+----------+---------+-------------------+-----+\n",
      "|      DATE|        TITLE|         VOTER_NAME|first_name|last_name|         random_val|Class|\n",
      "+----------+-------------+-------------------+----------+---------+-------------------+-----+\n",
      "|2017-01-08|Councilmember|  Jennifer S. Gates|  Jennifer|    Gates|0.01756797668845078|    S|\n",
      "|2017-01-08|Councilmember| Philip T. Kingston|    Philip| Kingston| 0.8928190978260016|    H|\n",
      "|2017-01-08|        Mayor|Michael S. Rawlings|   Michael| Rawlings|                2.0|    G|\n",
      "|2017-01-08|Councilmember|       Adam Medrano|      Adam|  Medrano|0.30704684751189415|    G|\n",
      "|2017-01-08|Councilmember|       Casey Thomas|     Casey|   Thomas| 0.4096070682426126|    S|\n",
      "|2017-01-08|Councilmember|Carolyn King Arnold|   Carolyn|   Arnold|  0.163249579156727|    S|\n",
      "|2017-01-08|Councilmember|       Scott Griggs|     Scott|   Griggs|0.46390769378598706|    H|\n",
      "|2017-01-08|Councilmember|   B. Adam  McGough|        B.|  McGough| 0.1515774617769755|    S|\n",
      "|2017-01-08|Councilmember|       Lee Kleinman|       Lee| Kleinman| 0.2598023166962763|    H|\n",
      "|2017-01-08|Councilmember|      Sandy Greyson|     Sandy|  Greyson| 0.9097304334071398|    G|\n",
      "|2017-01-08|Councilmember|  Jennifer S. Gates|  Jennifer|    Gates|0.16106897482828897|    R|\n",
      "|2017-01-08|Councilmember| Philip T. Kingston|    Philip| Kingston| 0.9976014891879345|    G|\n",
      "|2017-01-08|        Mayor|Michael S. Rawlings|   Michael| Rawlings|                2.0|    G|\n",
      "|2017-01-08|Councilmember|       Adam Medrano|      Adam|  Medrano|0.33101006738419914|    S|\n",
      "|2017-01-08|Councilmember|       Casey Thomas|     Casey|   Thomas|0.37034189403142614|    S|\n",
      "|2017-01-08|Councilmember|Carolyn King Arnold|   Carolyn|   Arnold|0.31578749703783604|    R|\n",
      "|2017-01-08|Councilmember| Rickey D. Callahan|    Rickey| Callahan| 0.5182713566875986|    S|\n",
      "|2017-01-11|Councilmember|  Jennifer S. Gates|  Jennifer|    Gates| 0.2513744414600648|    S|\n",
      "|2018-01-25|Councilmember|     Sandy  Greyson|     Sandy|  Greyson| 0.2639587329552925|    H|\n",
      "|2018-01-25|Councilmember| Jennifer S.  Gates|  Jennifer|    Gates| 0.5542119796480562|    R|\n",
      "+----------+-------------+-------------------+----------+---------+-------------------+-----+\n",
      "only showing top 20 rows\n",
      "\n"
     ]
    }
   ],
   "source": [
    "def sortingCap():\n",
    "    # needs str() because spark doesn't understand numpy.str_ returned by choice\n",
    "    return str(np.random.choice(['G', 'H', 'R', 'S']))\n",
    "udfSortingCap = udf(sortingCap, StringType())\n",
    "voter_df.withColumn('Class', udfSortingCap()).show()"
   ]
  },
  {
   "cell_type": "markdown",
   "id": "1ac705b3-afe3-4149-9cfa-ddb31af20ad5",
   "metadata": {},
   "source": [
    "## Using user defined functions in Spark "
   ]
  },
  {
   "cell_type": "code",
   "execution_count": 20,
   "id": "e0e3f06f-eb8f-4d6f-b706-0a61f2b2cfac",
   "metadata": {
    "execution": {
     "iopub.execute_input": "2023-05-02T22:01:44.087547Z",
     "iopub.status.busy": "2023-05-02T22:01:44.087397Z",
     "iopub.status.idle": "2023-05-02T22:01:44.196393Z",
     "shell.execute_reply": "2023-05-02T22:01:44.196073Z",
     "shell.execute_reply.started": "2023-05-02T22:01:44.087531Z"
    },
    "tags": []
   },
   "outputs": [
    {
     "name": "stdout",
     "output_type": "stream",
     "text": [
      "+----------+-------------+-------------------+----------+---------+-------------------+---------------------+\n",
      "|      DATE|        TITLE|         VOTER_NAME|first_name|last_name|         random_val|first_and_middle_name|\n",
      "+----------+-------------+-------------------+----------+---------+-------------------+---------------------+\n",
      "|2017-01-08|Councilmember|  Jennifer S. Gates|  Jennifer|    Gates|0.01756797668845078|          Jennifer S.|\n",
      "|2017-01-08|Councilmember| Philip T. Kingston|    Philip| Kingston| 0.8928190978260016|            Philip T.|\n",
      "|2017-01-08|        Mayor|Michael S. Rawlings|   Michael| Rawlings|                2.0|           Michael S.|\n",
      "|2017-01-08|Councilmember|       Adam Medrano|      Adam|  Medrano|0.30704684751189415|                 Adam|\n",
      "|2017-01-08|Councilmember|       Casey Thomas|     Casey|   Thomas| 0.4096070682426126|                Casey|\n",
      "|2017-01-08|Councilmember|Carolyn King Arnold|   Carolyn|   Arnold|  0.163249579156727|         Carolyn King|\n",
      "|2017-01-08|Councilmember|       Scott Griggs|     Scott|   Griggs|0.46390769378598706|                Scott|\n",
      "|2017-01-08|Councilmember|   B. Adam  McGough|        B.|  McGough| 0.1515774617769755|              B. Adam|\n",
      "|2017-01-08|Councilmember|       Lee Kleinman|       Lee| Kleinman| 0.2598023166962763|                  Lee|\n",
      "|2017-01-08|Councilmember|      Sandy Greyson|     Sandy|  Greyson| 0.9097304334071398|                Sandy|\n",
      "|2017-01-08|Councilmember|  Jennifer S. Gates|  Jennifer|    Gates|0.16106897482828897|          Jennifer S.|\n",
      "|2017-01-08|Councilmember| Philip T. Kingston|    Philip| Kingston| 0.9976014891879345|            Philip T.|\n",
      "|2017-01-08|        Mayor|Michael S. Rawlings|   Michael| Rawlings|                2.0|           Michael S.|\n",
      "|2017-01-08|Councilmember|       Adam Medrano|      Adam|  Medrano|0.33101006738419914|                 Adam|\n",
      "|2017-01-08|Councilmember|       Casey Thomas|     Casey|   Thomas|0.37034189403142614|                Casey|\n",
      "|2017-01-08|Councilmember|Carolyn King Arnold|   Carolyn|   Arnold|0.31578749703783604|         Carolyn King|\n",
      "|2017-01-08|Councilmember| Rickey D. Callahan|    Rickey| Callahan| 0.5182713566875986|            Rickey D.|\n",
      "|2017-01-11|Councilmember|  Jennifer S. Gates|  Jennifer|    Gates| 0.2513744414600648|          Jennifer S.|\n",
      "|2018-01-25|Councilmember|     Sandy  Greyson|     Sandy|  Greyson| 0.2639587329552925|                Sandy|\n",
      "|2018-01-25|Councilmember| Jennifer S.  Gates|  Jennifer|    Gates| 0.5542119796480562|          Jennifer S.|\n",
      "+----------+-------------+-------------------+----------+---------+-------------------+---------------------+\n",
      "only showing top 20 rows\n",
      "\n"
     ]
    }
   ],
   "source": [
    "def getFirstAndMiddle(names):\n",
    "  # Return a space separated string of names\n",
    "  return ' '.join(names.split()[:-1])\n",
    "\n",
    "# Define the method as a UDF\n",
    "udfFirstAndMiddle = F.udf(getFirstAndMiddle, StringType())\n",
    "\n",
    "# Create a new column using your UDF\n",
    "voter_df = voter_df.withColumn('first_and_middle_name', udfFirstAndMiddle(voter_df.VOTER_NAME))\n",
    "\n",
    "# Show the DataFrame\n",
    "voter_df.show()"
   ]
  },
  {
   "cell_type": "markdown",
   "id": "a9e33f70-278c-43ba-8235-b4588f52fbd2",
   "metadata": {},
   "source": [
    "# Partitioning and lazy processing"
   ]
  },
  {
   "cell_type": "markdown",
   "id": "866db59f-05e1-4a22-b7db-479ef6d87e58",
   "metadata": {},
   "source": [
    "## Partitioning\n",
    "* DataFrames are broken up into partitions\n",
    "* Partition size can vary\n",
    "* Each partition is handled independently\n",
    "\n",
    "> This is part of what provides the performance levels and horizontal scaling ability in Spark.  \n",
    "If a Spark node doesn't need to compete for resources, nor consult with other Spark nodes for answers, it can reliably schedule the processing for the best performance. "
   ]
  },
  {
   "cell_type": "markdown",
   "id": "32bf3a77-d003-46b5-8574-d8bd203ca79d",
   "metadata": {},
   "source": [
    "## Lazy processing\n",
    "* Transformations are lazy\n",
    "    * .withColumn(...)\n",
    "    * .select(...)\n",
    "* Nothing is actually done until an action is performed\n",
    "    * .count()\n",
    "    * .write(...)\n",
    "* Transformations can be re-ordered for best performance\n",
    "* Sometimes causes unexpected behavior"
   ]
  },
  {
   "cell_type": "markdown",
   "id": "3d772a81-a293-43fc-a791-63b848a942e7",
   "metadata": {},
   "source": [
    "## Adding IDs\n",
    "Normal ID fields:\n",
    "* Common in relational databases\n",
    "* Most usually an integer increasing, sequential and unique\n",
    "* Not very parallel\n",
    "\n",
    "> The problem with these IDs is they're not very parallel in nature. Given that the values are given out sequentially, if there are multiple workers, they must all refer to a common source for the next entry. This is OK in a single server environment, but in a distributed platform such as Spark, it creates some undue bottlenecks. Let's take a look at how to generate ID's in Spark."
   ]
  },
  {
   "cell_type": "markdown",
   "id": "1543c420-2ebc-42ee-9f27-fb4ab6872c0d",
   "metadata": {},
   "source": [
    "## Monotonically increasing IDs\n",
    "pyspark.sql.functions.monotonically_increasing_id()\n",
    "* Integer (64-bit), increases in value, unique\n",
    "* Not necessarily sequential (gaps exist)\n",
    "* Completely parallel\n",
    "\n",
    "> Unlike a normal relational ID, Spark's is completely parallel - each partition is allocated up to 8 billion IDs that can be assigned. Notice that the ID fields in the sample table are integers, increasing in value, but are not sequential. It's a little out scope, but the IDs are a 64-bit number effectively split into groups based on the Spark partition. Each group contains 8.4 billion IDs, and there are 2.1 billion possible groups, none of which overlap. "
   ]
  },
  {
   "cell_type": "markdown",
   "id": "4941e1c2-8cf4-49d2-a623-3f6a4c42fec0",
   "metadata": {},
   "source": [
    "## Notes\n",
    "Remember, Spark is lazy!\n",
    "* Occasionally out of order\n",
    "* If performing a join, ID may be assigned after a join\n",
    "* Test your transformations"
   ]
  },
  {
   "cell_type": "markdown",
   "id": "9b4d7078-90e6-4733-9602-f356faeb94bb",
   "metadata": {},
   "source": [
    "## Adding an ID Field"
   ]
  },
  {
   "cell_type": "code",
   "execution_count": 21,
   "id": "01f838bb-7f09-468e-b577-c2c807b96eb4",
   "metadata": {
    "execution": {
     "iopub.execute_input": "2023-05-02T22:01:44.196910Z",
     "iopub.status.busy": "2023-05-02T22:01:44.196800Z",
     "iopub.status.idle": "2023-05-02T22:01:44.518802Z",
     "shell.execute_reply": "2023-05-02T22:01:44.518295Z",
     "shell.execute_reply.started": "2023-05-02T22:01:44.196898Z"
    },
    "tags": []
   },
   "outputs": [
    {
     "name": "stdout",
     "output_type": "stream",
     "text": [
      "\n",
      "There are 27 rows in the voter_df DataFrame.\n",
      "\n",
      "+-------------------+------+\n",
      "|         VOTER_NAME|ROW_ID|\n",
      "+-------------------+------+\n",
      "|       Lee Kleinman|    26|\n",
      "|        Erik Wilson|    25|\n",
      "|Carolyn King Arnold|    24|\n",
      "|Rickey D.  Callahan|    23|\n",
      "|   Monica R. Alonzo|    22|\n",
      "|    Lee M. Kleinman|    21|\n",
      "|  Jennifer S. Gates|    20|\n",
      "|Philip T.  Kingston|    19|\n",
      "|  Dwaine R. Caraway|    18|\n",
      "| Rickey D. Callahan|    17|\n",
      "+-------------------+------+\n",
      "only showing top 10 rows\n",
      "\n"
     ]
    }
   ],
   "source": [
    "# Select all the unique council voters\n",
    "voter_df = voter_df.select(F.col(\"VOTER_NAME\")).distinct()\n",
    "\n",
    "# Count the rows in voter_df\n",
    "print(\"\\nThere are %d rows in the voter_df DataFrame.\\n\" % voter_df.count())\n",
    "\n",
    "# Add a ROW_ID\n",
    "voter_df = voter_df.withColumn('ROW_ID', F.monotonically_increasing_id())\n",
    "\n",
    "# Show the rows with 10 highest IDs in the set\n",
    "voter_df.orderBy(voter_df.ROW_ID.desc()).show(10)"
   ]
  },
  {
   "cell_type": "markdown",
   "id": "8cd57557-d193-443f-9a6b-748c13af6a0a",
   "metadata": {},
   "source": [
    "## IDs with different partitions"
   ]
  },
  {
   "cell_type": "code",
   "execution_count": 22,
   "id": "6b58630a-181f-4b8f-af2f-90f8d74c39a4",
   "metadata": {
    "execution": {
     "iopub.execute_input": "2023-05-02T22:01:44.519731Z",
     "iopub.status.busy": "2023-05-02T22:01:44.519426Z",
     "iopub.status.idle": "2023-05-02T22:01:44.529782Z",
     "shell.execute_reply": "2023-05-02T22:01:44.529417Z",
     "shell.execute_reply.started": "2023-05-02T22:01:44.519712Z"
    }
   },
   "outputs": [],
   "source": [
    "voter_df = spark.read.format('csv').options(Header=True).option(\"dateFormat\", \"mm/dd/yyyy\")\\\n",
    "    .load('DallasCouncilVoters.csv.gz', schema=voter_schema)"
   ]
  },
  {
   "cell_type": "code",
   "execution_count": 23,
   "id": "a58906ad-8583-4e70-864e-99a3797d720d",
   "metadata": {
    "execution": {
     "iopub.execute_input": "2023-05-02T22:01:44.530288Z",
     "iopub.status.busy": "2023-05-02T22:01:44.530180Z",
     "iopub.status.idle": "2023-05-02T22:01:44.824492Z",
     "shell.execute_reply": "2023-05-02T22:01:44.823885Z",
     "shell.execute_reply.started": "2023-05-02T22:01:44.530277Z"
    },
    "tags": []
   },
   "outputs": [
    {
     "name": "stdout",
     "output_type": "stream",
     "text": [
      "\n",
      "There are 1 partitions in the voter_df DataFrame.\n",
      "\n",
      "+----------+--------------------+-------------------+------+\n",
      "|      DATE|               TITLE|         VOTER_NAME|ROW_ID|\n",
      "+----------+--------------------+-------------------+------+\n",
      "|2018-01-20|       Councilmember|      Mark  Clayton| 44624|\n",
      "|2018-01-20|       Councilmember|     Tennell Atkins| 44623|\n",
      "|2018-01-20|       Councilmember|       Kevin Felder| 44622|\n",
      "|2018-01-20|       Councilmember|       Omar Narvaez| 44621|\n",
      "|2018-01-20|       Councilmember|Rickey D.  Callahan| 44620|\n",
      "|2018-01-20|              Vacant|               null| 44619|\n",
      "|2018-01-20|       Mayor Pro Tem|      Casey  Thomas| 44618|\n",
      "|2018-01-20|Deputy Mayor Pro Tem|       Adam Medrano| 44617|\n",
      "|2018-01-20|               Mayor|Michael S. Rawlings| 44616|\n",
      "|2018-01-20|       Councilmember|Philip T.  Kingston| 44615|\n",
      "+----------+--------------------+-------------------+------+\n",
      "only showing top 10 rows\n",
      "\n"
     ]
    }
   ],
   "source": [
    "# Print the number of partitions in each DataFrame\n",
    "print(\"\\nThere are %d partitions in the voter_df DataFrame.\\n\" % voter_df.rdd.getNumPartitions())\n",
    "\n",
    "# Add a ROW_ID field to each DataFrame\n",
    "voter_df = voter_df.withColumn('ROW_ID', F.monotonically_increasing_id())\n",
    "\n",
    "# Show the top 10 IDs in each DataFrame \n",
    "voter_df.orderBy(F.col('ROW_ID').desc()).show(10)"
   ]
  },
  {
   "cell_type": "markdown",
   "id": "b677a801-163a-45bd-b088-632bf574c082",
   "metadata": {},
   "source": [
    "## More ID tricks"
   ]
  },
  {
   "cell_type": "code",
   "execution_count": 24,
   "id": "42ba9df4-e024-4eac-bd88-f4ad6e8f74fb",
   "metadata": {
    "execution": {
     "iopub.execute_input": "2023-05-02T22:01:44.825282Z",
     "iopub.status.busy": "2023-05-02T22:01:44.825034Z",
     "iopub.status.idle": "2023-05-02T22:01:45.369989Z",
     "shell.execute_reply": "2023-05-02T22:01:45.369457Z",
     "shell.execute_reply.started": "2023-05-02T22:01:44.825262Z"
    }
   },
   "outputs": [
    {
     "name": "stdout",
     "output_type": "stream",
     "text": [
      "+------+\n",
      "|ROW_ID|\n",
      "+------+\n",
      "|     0|\n",
      "|     1|\n",
      "|     2|\n",
      "|     3|\n",
      "|     4|\n",
      "|     5|\n",
      "|     6|\n",
      "|     7|\n",
      "|     8|\n",
      "|     9|\n",
      "|    10|\n",
      "|    11|\n",
      "|    12|\n",
      "|    13|\n",
      "|    14|\n",
      "|    15|\n",
      "|    16|\n",
      "|    17|\n",
      "|    18|\n",
      "|    19|\n",
      "+------+\n",
      "only showing top 20 rows\n",
      "\n",
      "+------+\n",
      "|ROW_ID|\n",
      "+------+\n",
      "| 44624|\n",
      "| 44625|\n",
      "| 44626|\n",
      "| 44627|\n",
      "| 44628|\n",
      "| 44629|\n",
      "| 44630|\n",
      "| 44631|\n",
      "| 44632|\n",
      "| 44633|\n",
      "| 44634|\n",
      "| 44635|\n",
      "| 44636|\n",
      "| 44637|\n",
      "| 44638|\n",
      "| 44639|\n",
      "| 44640|\n",
      "| 44641|\n",
      "| 44642|\n",
      "| 44643|\n",
      "+------+\n",
      "only showing top 20 rows\n",
      "\n"
     ]
    }
   ],
   "source": [
    "# Determine the highest ROW_ID and save it in previous_max_ID\n",
    "previous_max_ID = voter_df.select('ROW_ID').rdd.max()[0]\n",
    "\n",
    "# Add a ROW_ID column to voter_df_april starting at the desired value\n",
    "voter_df_new = voter_df.withColumn('ROW_ID', F.monotonically_increasing_id() + previous_max_ID)\n",
    "\n",
    "# Show the ROW_ID from both DataFrames and compare\n",
    "voter_df.select('ROW_ID').show()\n",
    "voter_df_new.select('ROW_ID').show()"
   ]
  },
  {
   "cell_type": "markdown",
   "id": "7aadea0a-17a4-4843-9da5-1ae0de3c2705",
   "metadata": {},
   "source": [
    "It's easy to forget that the output of a Spark method can often be modified before being assigned. This provides a lot of power and flexibility, especially when trying to migrate tasks from various technologies. Consider how you could use everything we've learned in this chapter to create a combination ID containing a name, a new ID, and perhaps a conditional value."
   ]
  }
 ],
 "metadata": {
  "kernelspec": {
   "display_name": "Python 3 (ipykernel)",
   "language": "python",
   "name": "python3"
  },
  "language_info": {
   "codemirror_mode": {
    "name": "ipython",
    "version": 3
   },
   "file_extension": ".py",
   "mimetype": "text/x-python",
   "name": "python",
   "nbconvert_exporter": "python",
   "pygments_lexer": "ipython3",
   "version": "3.10.10"
  }
 },
 "nbformat": 4,
 "nbformat_minor": 5
}
