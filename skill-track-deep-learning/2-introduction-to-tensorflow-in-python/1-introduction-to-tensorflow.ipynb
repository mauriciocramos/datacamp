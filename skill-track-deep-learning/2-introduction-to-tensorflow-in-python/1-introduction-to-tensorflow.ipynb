{
 "cells": [
  {
   "cell_type": "markdown",
   "id": "c02f1a54-7ecf-4cf9-a0ad-a988cc93f790",
   "metadata": {},
   "source": [
    "# Introduction to Tensorflow"
   ]
  },
  {
   "cell_type": "markdown",
   "id": "e3b6395f-8359-44c8-a1a3-724ba4fe211b",
   "metadata": {},
   "source": [
    "## Constants and variables"
   ]
  },
  {
   "cell_type": "markdown",
   "id": "43740827-1e84-463b-b1bc-1dafebf58070",
   "metadata": {},
   "source": [
    "### Defining tensors in TensorFlow"
   ]
  },
  {
   "cell_type": "code",
   "execution_count": 1,
   "id": "187af07b-33e4-4594-afdd-73717afaeea2",
   "metadata": {
    "execution": {
     "iopub.execute_input": "2023-01-24T00:27:15.027128Z",
     "iopub.status.busy": "2023-01-24T00:27:15.026909Z",
     "iopub.status.idle": "2023-01-24T00:27:15.939947Z",
     "shell.execute_reply": "2023-01-24T00:27:15.939540Z",
     "shell.execute_reply.started": "2023-01-24T00:27:15.027111Z"
    },
    "tags": []
   },
   "outputs": [
    {
     "data": {
      "text/plain": [
       "('2.9.1', True)"
      ]
     },
     "execution_count": 1,
     "metadata": {},
     "output_type": "execute_result"
    }
   ],
   "source": [
    "import os\n",
    "os.environ['TF_CPP_MIN_LOG_LEVEL'] = '1'\n",
    "import tensorflow as tf\n",
    "tf.version.VERSION, tf.test.is_built_with_cuda()"
   ]
  },
  {
   "cell_type": "code",
   "execution_count": 2,
   "id": "04c3d3c4-556d-41a3-8841-d2f4fb0f591b",
   "metadata": {
    "execution": {
     "iopub.execute_input": "2023-01-24T00:27:15.940522Z",
     "iopub.status.busy": "2023-01-24T00:27:15.940328Z",
     "iopub.status.idle": "2023-01-24T00:27:16.381853Z",
     "shell.execute_reply": "2023-01-24T00:27:16.381592Z",
     "shell.execute_reply.started": "2023-01-24T00:27:15.940510Z"
    },
    "tags": []
   },
   "outputs": [
    {
     "data": {
      "text/plain": [
       "<tf.Tensor: shape=(1,), dtype=float32, numpy=array([1.], dtype=float32)>"
      ]
     },
     "execution_count": 2,
     "metadata": {},
     "output_type": "execute_result"
    }
   ],
   "source": [
    "# 0D Tensor\n",
    "d0 = tf.ones((1,))\n",
    "d0"
   ]
  },
  {
   "cell_type": "code",
   "execution_count": 3,
   "id": "6dc6c100-47d8-4f0d-9e17-bcad5a4f6fd6",
   "metadata": {
    "execution": {
     "iopub.execute_input": "2023-01-24T00:27:16.382334Z",
     "iopub.status.busy": "2023-01-24T00:27:16.382205Z",
     "iopub.status.idle": "2023-01-24T00:27:16.385127Z",
     "shell.execute_reply": "2023-01-24T00:27:16.384868Z",
     "shell.execute_reply.started": "2023-01-24T00:27:16.382324Z"
    },
    "tags": []
   },
   "outputs": [
    {
     "data": {
      "text/plain": [
       "<tf.Tensor: shape=(2,), dtype=float32, numpy=array([1., 1.], dtype=float32)>"
      ]
     },
     "execution_count": 3,
     "metadata": {},
     "output_type": "execute_result"
    }
   ],
   "source": [
    "# 1D Tensor\n",
    "d1 = tf.ones((2,))\n",
    "d1"
   ]
  },
  {
   "cell_type": "code",
   "execution_count": 4,
   "id": "f9bc641d-0e93-429d-a517-18e4bc748e53",
   "metadata": {
    "execution": {
     "iopub.execute_input": "2023-01-24T00:27:16.385590Z",
     "iopub.status.busy": "2023-01-24T00:27:16.385487Z",
     "iopub.status.idle": "2023-01-24T00:27:16.388173Z",
     "shell.execute_reply": "2023-01-24T00:27:16.387924Z",
     "shell.execute_reply.started": "2023-01-24T00:27:16.385580Z"
    },
    "tags": []
   },
   "outputs": [
    {
     "data": {
      "text/plain": [
       "<tf.Tensor: shape=(2, 2), dtype=float32, numpy=\n",
       "array([[1., 1.],\n",
       "       [1., 1.]], dtype=float32)>"
      ]
     },
     "execution_count": 4,
     "metadata": {},
     "output_type": "execute_result"
    }
   ],
   "source": [
    "# 2D Tensor\n",
    "d2 = tf.ones((2, 2))\n",
    "d2"
   ]
  },
  {
   "cell_type": "code",
   "execution_count": 5,
   "id": "213f4a4b-44c8-46d9-ad2e-dd54d8fbe4fa",
   "metadata": {
    "execution": {
     "iopub.execute_input": "2023-01-24T00:27:16.388744Z",
     "iopub.status.busy": "2023-01-24T00:27:16.388513Z",
     "iopub.status.idle": "2023-01-24T00:27:16.391157Z",
     "shell.execute_reply": "2023-01-24T00:27:16.390895Z",
     "shell.execute_reply.started": "2023-01-24T00:27:16.388734Z"
    },
    "tags": []
   },
   "outputs": [
    {
     "data": {
      "text/plain": [
       "<tf.Tensor: shape=(2, 2, 2), dtype=float32, numpy=\n",
       "array([[[1., 1.],\n",
       "        [1., 1.]],\n",
       "\n",
       "       [[1., 1.],\n",
       "        [1., 1.]]], dtype=float32)>"
      ]
     },
     "execution_count": 5,
     "metadata": {},
     "output_type": "execute_result"
    }
   ],
   "source": [
    "# 3D Tensor\n",
    "d3 = tf.ones((2, 2, 2))\n",
    "d3"
   ]
  },
  {
   "cell_type": "code",
   "execution_count": 6,
   "id": "9cf26d29-9770-48fd-9d71-8bd6d31bd38f",
   "metadata": {
    "execution": {
     "iopub.execute_input": "2023-01-24T00:27:16.392317Z",
     "iopub.status.busy": "2023-01-24T00:27:16.392119Z",
     "iopub.status.idle": "2023-01-24T00:27:16.394425Z",
     "shell.execute_reply": "2023-01-24T00:27:16.394188Z",
     "shell.execute_reply.started": "2023-01-24T00:27:16.392307Z"
    },
    "tags": []
   },
   "outputs": [
    {
     "data": {
      "text/plain": [
       "array([[[1., 1.],\n",
       "        [1., 1.]],\n",
       "\n",
       "       [[1., 1.],\n",
       "        [1., 1.]]], dtype=float32)"
      ]
     },
     "execution_count": 6,
     "metadata": {},
     "output_type": "execute_result"
    }
   ],
   "source": [
    "d3.numpy()"
   ]
  },
  {
   "cell_type": "markdown",
   "id": "59de4b82-3227-4af6-86e7-12325c65f587",
   "metadata": {},
   "source": [
    "### Defining constants in TensorFlow"
   ]
  },
  {
   "cell_type": "code",
   "execution_count": 7,
   "id": "3f6fa4d5-61d7-48e5-b3e3-7035aba90924",
   "metadata": {
    "execution": {
     "iopub.execute_input": "2023-01-24T00:27:16.394834Z",
     "iopub.status.busy": "2023-01-24T00:27:16.394745Z",
     "iopub.status.idle": "2023-01-24T00:27:16.397331Z",
     "shell.execute_reply": "2023-01-24T00:27:16.397073Z",
     "shell.execute_reply.started": "2023-01-24T00:27:16.394825Z"
    },
    "tags": []
   },
   "outputs": [
    {
     "data": {
      "text/plain": [
       "<tf.Tensor: shape=(2, 3), dtype=int32, numpy=\n",
       "array([[3, 3, 3],\n",
       "       [3, 3, 3]], dtype=int32)>"
      ]
     },
     "execution_count": 7,
     "metadata": {},
     "output_type": "execute_result"
    }
   ],
   "source": [
    "# Define a 2x3 constant.\n",
    "a = tf.constant(3, shape=[2, 3])\n",
    "a"
   ]
  },
  {
   "cell_type": "code",
   "execution_count": 8,
   "id": "2396d01c-5c5f-475f-81f3-f48f13229ec2",
   "metadata": {
    "execution": {
     "iopub.execute_input": "2023-01-24T00:27:16.397828Z",
     "iopub.status.busy": "2023-01-24T00:27:16.397730Z",
     "iopub.status.idle": "2023-01-24T00:27:16.400585Z",
     "shell.execute_reply": "2023-01-24T00:27:16.400278Z",
     "shell.execute_reply.started": "2023-01-24T00:27:16.397819Z"
    },
    "tags": []
   },
   "outputs": [
    {
     "data": {
      "text/plain": [
       "<tf.Tensor: shape=(2, 2), dtype=int32, numpy=\n",
       "array([[1, 2],\n",
       "       [3, 4]], dtype=int32)>"
      ]
     },
     "execution_count": 8,
     "metadata": {},
     "output_type": "execute_result"
    }
   ],
   "source": [
    "# Define a 2x2 constant.\n",
    "b = tf.constant([1, 2, 3, 4], shape=[2, 2])\n",
    "b"
   ]
  },
  {
   "cell_type": "markdown",
   "id": "e9b250be-ad28-45e8-b366-19633b49ba51",
   "metadata": {},
   "source": [
    "### Defining and initializing variables"
   ]
  },
  {
   "cell_type": "code",
   "execution_count": 9,
   "id": "a6d5c32c-6d1c-47d5-807d-4baa6be9b967",
   "metadata": {
    "execution": {
     "iopub.execute_input": "2023-01-24T00:27:16.401285Z",
     "iopub.status.busy": "2023-01-24T00:27:16.401048Z",
     "iopub.status.idle": "2023-01-24T00:27:16.404539Z",
     "shell.execute_reply": "2023-01-24T00:27:16.404291Z",
     "shell.execute_reply.started": "2023-01-24T00:27:16.401269Z"
    },
    "tags": []
   },
   "outputs": [],
   "source": [
    "import tensorflow as tf\n",
    "# Define a variable\n",
    "a0 = tf.Variable([1, 2, 3, 4, 5, 6], dtype=tf.float32)\n",
    "a1 = tf.Variable([1, 2, 3, 4, 5, 6], dtype=tf.int16)\n",
    "# Define a constant\n",
    "b = tf.constant(2, tf.float32)"
   ]
  },
  {
   "cell_type": "code",
   "execution_count": 10,
   "id": "b5c01764-969a-4562-b6b3-488fc4255ed8",
   "metadata": {
    "execution": {
     "iopub.execute_input": "2023-01-24T00:27:16.405026Z",
     "iopub.status.busy": "2023-01-24T00:27:16.404875Z",
     "iopub.status.idle": "2023-01-24T00:27:16.407539Z",
     "shell.execute_reply": "2023-01-24T00:27:16.407289Z",
     "shell.execute_reply.started": "2023-01-24T00:27:16.405016Z"
    },
    "tags": []
   },
   "outputs": [
    {
     "name": "stdout",
     "output_type": "stream",
     "text": [
      "tf.Tensor([ 2.  4.  6.  8. 10. 12.], shape=(6,), dtype=float32)\n",
      "tf.Tensor([ 2.  4.  6.  8. 10. 12.], shape=(6,), dtype=float32)\n"
     ]
    }
   ],
   "source": [
    "# Compute their product\n",
    "print(tf.multiply(a0, b))\n",
    "print(a0 * b)"
   ]
  },
  {
   "cell_type": "code",
   "execution_count": 11,
   "id": "2636f57e-a471-46d5-9118-7891eff61a00",
   "metadata": {
    "execution": {
     "iopub.execute_input": "2023-01-24T00:27:16.408041Z",
     "iopub.status.busy": "2023-01-24T00:27:16.407865Z",
     "iopub.status.idle": "2023-01-24T00:27:16.410466Z",
     "shell.execute_reply": "2023-01-24T00:27:16.410202Z",
     "shell.execute_reply.started": "2023-01-24T00:27:16.408031Z"
    },
    "tags": []
   },
   "outputs": [
    {
     "name": "stdout",
     "output_type": "stream",
     "text": [
      "cannot compute Mul as input #1(zero-based) was expected to be a int16 tensor but is a float tensor [Op:Mul]\n"
     ]
    }
   ],
   "source": [
    "# matmul can't mix float and int dtypes\n",
    "try:\n",
    "    print(tf.multiply(a1, b))\n",
    "    print(a1 * b)\n",
    "except Exception as e:\n",
    "    print(e)"
   ]
  },
  {
   "cell_type": "code",
   "execution_count": 12,
   "id": "34d0adec-ca18-47be-8440-5815ef2e6732",
   "metadata": {
    "execution": {
     "iopub.execute_input": "2023-01-24T00:27:16.410980Z",
     "iopub.status.busy": "2023-01-24T00:27:16.410889Z",
     "iopub.status.idle": "2023-01-24T00:27:16.413301Z",
     "shell.execute_reply": "2023-01-24T00:27:16.413054Z",
     "shell.execute_reply.started": "2023-01-24T00:27:16.410971Z"
    },
    "tags": []
   },
   "outputs": [
    {
     "name": "stdout",
     "output_type": "stream",
     "text": [
      "tf.Tensor([ 2  4  6  8 10 12], shape=(6,), dtype=int16)\n",
      "tf.Tensor([ 2  4  6  8 10 12], shape=(6,), dtype=int16)\n"
     ]
    }
   ],
   "source": [
    "b = tf.constant(2, tf.int16)\n",
    "print(tf.multiply(a1, b))\n",
    "print(a1 * b)"
   ]
  },
  {
   "cell_type": "markdown",
   "id": "b77cf734-2ff5-491c-bc09-1c87693edeeb",
   "metadata": {},
   "source": [
    "### Exercises"
   ]
  },
  {
   "cell_type": "markdown",
   "id": "7aa9dac1-d4f6-4040-93fc-1736fd72e60d",
   "metadata": {},
   "source": [
    "#### Defining data as constants"
   ]
  },
  {
   "cell_type": "code",
   "execution_count": 13,
   "id": "d3a4b7dd-0817-412d-bc7d-b0b0cd221c1b",
   "metadata": {
    "execution": {
     "iopub.execute_input": "2023-01-24T00:27:16.413713Z",
     "iopub.status.busy": "2023-01-24T00:27:16.413619Z",
     "iopub.status.idle": "2023-01-24T00:27:16.446972Z",
     "shell.execute_reply": "2023-01-24T00:27:16.446610Z",
     "shell.execute_reply.started": "2023-01-24T00:27:16.413704Z"
    },
    "tags": []
   },
   "outputs": [],
   "source": [
    "import pandas as pd\n",
    "credit = pd.read_csv('uci_credit_card.csv')"
   ]
  },
  {
   "cell_type": "code",
   "execution_count": 14,
   "id": "7d23c1ca-af68-4238-a325-ffb1d5535957",
   "metadata": {
    "execution": {
     "iopub.execute_input": "2023-01-24T00:27:16.447411Z",
     "iopub.status.busy": "2023-01-24T00:27:16.447307Z",
     "iopub.status.idle": "2023-01-24T00:27:16.451196Z",
     "shell.execute_reply": "2023-01-24T00:27:16.450930Z",
     "shell.execute_reply.started": "2023-01-24T00:27:16.447401Z"
    },
    "tags": []
   },
   "outputs": [
    {
     "name": "stdout",
     "output_type": "stream",
     "text": [
      "(30000, 4)\n"
     ]
    },
    {
     "data": {
      "text/plain": [
       "array([[ 2.0000e+00,  1.0000e+00,  2.4000e+01,  3.9130e+03],\n",
       "       [ 2.0000e+00,  2.0000e+00,  2.6000e+01,  2.6820e+03],\n",
       "       [ 2.0000e+00,  2.0000e+00,  3.4000e+01,  2.9239e+04],\n",
       "       ...,\n",
       "       [ 2.0000e+00,  2.0000e+00,  3.7000e+01,  3.5650e+03],\n",
       "       [ 3.0000e+00,  1.0000e+00,  4.1000e+01, -1.6450e+03],\n",
       "       [ 2.0000e+00,  1.0000e+00,  4.6000e+01,  4.7929e+04]])"
      ]
     },
     "execution_count": 14,
     "metadata": {},
     "output_type": "execute_result"
    }
   ],
   "source": [
    "credit_numpy = credit[['EDUCATION', 'MARRIAGE', 'AGE', 'BILL_AMT1']].values\n",
    "print(credit_numpy.shape)\n",
    "credit_numpy"
   ]
  },
  {
   "cell_type": "code",
   "execution_count": 15,
   "id": "bb3a2521-f07c-456b-a5ac-879827a58902",
   "metadata": {
    "execution": {
     "iopub.execute_input": "2023-01-24T00:27:16.451659Z",
     "iopub.status.busy": "2023-01-24T00:27:16.451558Z",
     "iopub.status.idle": "2023-01-24T00:27:16.454213Z",
     "shell.execute_reply": "2023-01-24T00:27:16.453942Z",
     "shell.execute_reply.started": "2023-01-24T00:27:16.451649Z"
    },
    "tags": []
   },
   "outputs": [
    {
     "name": "stdout",
     "output_type": "stream",
     "text": [
      "\n",
      " The datatype is: <dtype: 'float64'>\n",
      "\n",
      " The shape is: (30000, 4)\n"
     ]
    }
   ],
   "source": [
    "from tensorflow import constant\n",
    "# Convert the credit_numpy array into a tensorflow constant\n",
    "credit_constant = constant(credit_numpy)\n",
    "# Print constant datatype\n",
    "print('\\n The datatype is:', credit_constant.dtype)\n",
    "# Print constant shape\n",
    "print('\\n The shape is:', credit_constant.shape)"
   ]
  },
  {
   "cell_type": "markdown",
   "id": "6d3f213f-344e-472f-82e5-81d0dfb18c33",
   "metadata": {},
   "source": [
    "#### Defining variables"
   ]
  },
  {
   "cell_type": "code",
   "execution_count": 16,
   "id": "2a66c1d7-1c7f-4338-9fa2-d9f173446a3d",
   "metadata": {
    "execution": {
     "iopub.execute_input": "2023-01-24T00:27:16.454756Z",
     "iopub.status.busy": "2023-01-24T00:27:16.454574Z",
     "iopub.status.idle": "2023-01-24T00:27:16.457624Z",
     "shell.execute_reply": "2023-01-24T00:27:16.457366Z",
     "shell.execute_reply.started": "2023-01-24T00:27:16.454745Z"
    },
    "tags": []
   },
   "outputs": [
    {
     "name": "stdout",
     "output_type": "stream",
     "text": [
      "\n",
      " A1:  <tf.Variable 'Variable:0' shape=(4,) dtype=int32, numpy=array([1, 2, 3, 4], dtype=int32)>\n",
      "\n",
      " B1:  [1 2 3 4]\n"
     ]
    }
   ],
   "source": [
    "from tensorflow import Variable\n",
    "# Define the 1-dimensional variable A1\n",
    "A1 = Variable([1, 2, 3, 4])\n",
    "# Print the variable A1\n",
    "print('\\n A1: ', A1)\n",
    "# Convert A1 to a numpy array and assign it to B1\n",
    "B1 = A1.numpy()\n",
    "# Print B1\n",
    "print('\\n B1: ', B1)"
   ]
  },
  {
   "cell_type": "markdown",
   "id": "7a988bcd-8f65-47bc-82c6-7cfed1008612",
   "metadata": {},
   "source": [
    "## Basic operations"
   ]
  },
  {
   "cell_type": "markdown",
   "id": "bce63401-8c04-4cac-8291-da2e613b3d84",
   "metadata": {},
   "source": [
    "### Applying the addition operator"
   ]
  },
  {
   "cell_type": "code",
   "execution_count": 17,
   "id": "c14d1b20-ee52-4102-af38-7ba9a1529fc1",
   "metadata": {
    "execution": {
     "iopub.execute_input": "2023-01-24T00:27:16.458161Z",
     "iopub.status.busy": "2023-01-24T00:27:16.457974Z",
     "iopub.status.idle": "2023-01-24T00:27:16.460744Z",
     "shell.execute_reply": "2023-01-24T00:27:16.460326Z",
     "shell.execute_reply.started": "2023-01-24T00:27:16.458151Z"
    },
    "tags": []
   },
   "outputs": [],
   "source": [
    "#Import constant and add from tensorflow\n",
    "from tensorflow import constant, add\n",
    "# Define 0-dimensional tensors\n",
    "A0 = constant([1])\n",
    "B0 = constant([2])\n",
    "# Define 1-dimensional tensors\n",
    "A1 = constant([1, 2])\n",
    "B1 = constant([3, 4])\n",
    "# Define 2-dimensional tensors\n",
    "A2 = constant([[1, 2], [3, 4]])\n",
    "B2 = constant([[5, 6], [7, 8]])"
   ]
  },
  {
   "cell_type": "code",
   "execution_count": 18,
   "id": "935de1e3-54a8-43f9-850f-155b83f5a9bf",
   "metadata": {
    "execution": {
     "iopub.execute_input": "2023-01-24T00:27:16.461328Z",
     "iopub.status.busy": "2023-01-24T00:27:16.461131Z",
     "iopub.status.idle": "2023-01-24T00:27:16.463666Z",
     "shell.execute_reply": "2023-01-24T00:27:16.463419Z",
     "shell.execute_reply.started": "2023-01-24T00:27:16.461317Z"
    },
    "tags": []
   },
   "outputs": [
    {
     "data": {
      "text/plain": [
       "<tf.Tensor: shape=(1,), dtype=int32, numpy=array([3], dtype=int32)>"
      ]
     },
     "execution_count": 18,
     "metadata": {},
     "output_type": "execute_result"
    }
   ],
   "source": [
    "# Perform tensor addition with add()\n",
    "C0 = add(A0, B0)\n",
    "C0"
   ]
  },
  {
   "cell_type": "code",
   "execution_count": 19,
   "id": "f9a4e6dd-9394-4c3b-a51a-9280e9cfe449",
   "metadata": {
    "execution": {
     "iopub.execute_input": "2023-01-24T00:27:16.464088Z",
     "iopub.status.busy": "2023-01-24T00:27:16.463992Z",
     "iopub.status.idle": "2023-01-24T00:27:16.466356Z",
     "shell.execute_reply": "2023-01-24T00:27:16.466108Z",
     "shell.execute_reply.started": "2023-01-24T00:27:16.464078Z"
    },
    "tags": []
   },
   "outputs": [
    {
     "data": {
      "text/plain": [
       "<tf.Tensor: shape=(2,), dtype=int32, numpy=array([4, 6], dtype=int32)>"
      ]
     },
     "execution_count": 19,
     "metadata": {},
     "output_type": "execute_result"
    }
   ],
   "source": [
    "C1 = add(A1, B1)\n",
    "C1"
   ]
  },
  {
   "cell_type": "code",
   "execution_count": 20,
   "id": "a4f1ada5-9b47-48f4-8557-316f67bf0cbe",
   "metadata": {
    "execution": {
     "iopub.execute_input": "2023-01-24T00:27:16.466922Z",
     "iopub.status.busy": "2023-01-24T00:27:16.466730Z",
     "iopub.status.idle": "2023-01-24T00:27:16.469158Z",
     "shell.execute_reply": "2023-01-24T00:27:16.468924Z",
     "shell.execute_reply.started": "2023-01-24T00:27:16.466911Z"
    },
    "tags": []
   },
   "outputs": [
    {
     "data": {
      "text/plain": [
       "<tf.Tensor: shape=(2, 2), dtype=int32, numpy=\n",
       "array([[ 6,  8],\n",
       "       [10, 12]], dtype=int32)>"
      ]
     },
     "execution_count": 20,
     "metadata": {},
     "output_type": "execute_result"
    }
   ],
   "source": [
    "C2 = add(A2, B2)\n",
    "C2"
   ]
  },
  {
   "cell_type": "markdown",
   "id": "e05c90fc-7bd6-4ec9-b1fe-010ed0538a80",
   "metadata": {},
   "source": [
    "### Applying the multiplication operators"
   ]
  },
  {
   "cell_type": "code",
   "execution_count": 21,
   "id": "62f86a4d-75f9-4294-b910-bdb8e5403a55",
   "metadata": {
    "execution": {
     "iopub.execute_input": "2023-01-24T00:27:16.470845Z",
     "iopub.status.busy": "2023-01-24T00:27:16.470643Z",
     "iopub.status.idle": "2023-01-24T00:27:16.472901Z",
     "shell.execute_reply": "2023-01-24T00:27:16.472665Z",
     "shell.execute_reply.started": "2023-01-24T00:27:16.470835Z"
    },
    "tags": []
   },
   "outputs": [],
   "source": [
    "# Import operators from tensorflow\n",
    "from tensorflow import ones, matmul, multiply\n",
    "# Define tensors\n",
    "A0 = ones(1)\n",
    "A31 = ones([3, 1])\n",
    "A34 = ones([3, 4])\n",
    "A43 = ones([4, 3])"
   ]
  },
  {
   "cell_type": "code",
   "execution_count": 22,
   "id": "6728e09f-7248-435d-b5fe-a3ebec6e3161",
   "metadata": {
    "execution": {
     "iopub.execute_input": "2023-01-24T00:27:16.473290Z",
     "iopub.status.busy": "2023-01-24T00:27:16.473198Z",
     "iopub.status.idle": "2023-01-24T00:27:16.475435Z",
     "shell.execute_reply": "2023-01-24T00:27:16.475211Z",
     "shell.execute_reply.started": "2023-01-24T00:27:16.473281Z"
    }
   },
   "outputs": [
    {
     "data": {
      "text/plain": [
       "<tf.Tensor: shape=(1,), dtype=float32, numpy=array([1.], dtype=float32)>"
      ]
     },
     "execution_count": 22,
     "metadata": {},
     "output_type": "execute_result"
    }
   ],
   "source": [
    "A0"
   ]
  },
  {
   "cell_type": "code",
   "execution_count": 23,
   "id": "06257772-8286-4ab6-8261-34ac495e6bc3",
   "metadata": {
    "execution": {
     "iopub.execute_input": "2023-01-24T00:27:16.475922Z",
     "iopub.status.busy": "2023-01-24T00:27:16.475744Z",
     "iopub.status.idle": "2023-01-24T00:27:16.478145Z",
     "shell.execute_reply": "2023-01-24T00:27:16.477847Z",
     "shell.execute_reply.started": "2023-01-24T00:27:16.475910Z"
    },
    "tags": []
   },
   "outputs": [
    {
     "data": {
      "text/plain": [
       "<tf.Tensor: shape=(1,), dtype=float32, numpy=array([1.], dtype=float32)>"
      ]
     },
     "execution_count": 23,
     "metadata": {},
     "output_type": "execute_result"
    }
   ],
   "source": [
    "multiply(A0, A0)"
   ]
  },
  {
   "cell_type": "code",
   "execution_count": 24,
   "id": "7c97a632-e6fd-47df-b43f-8b04ad393042",
   "metadata": {
    "execution": {
     "iopub.execute_input": "2023-01-24T00:27:16.478697Z",
     "iopub.status.busy": "2023-01-24T00:27:16.478514Z",
     "iopub.status.idle": "2023-01-24T00:27:16.481177Z",
     "shell.execute_reply": "2023-01-24T00:27:16.480926Z",
     "shell.execute_reply.started": "2023-01-24T00:27:16.478678Z"
    },
    "tags": []
   },
   "outputs": [
    {
     "data": {
      "text/plain": [
       "<tf.Tensor: shape=(3, 1), dtype=float32, numpy=\n",
       "array([[1.],\n",
       "       [1.],\n",
       "       [1.]], dtype=float32)>"
      ]
     },
     "execution_count": 24,
     "metadata": {},
     "output_type": "execute_result"
    }
   ],
   "source": [
    "# pairwise multiply\n",
    "multiply(A31, A31)"
   ]
  },
  {
   "cell_type": "code",
   "execution_count": 25,
   "id": "e574b96b-25c8-4172-9171-55cc3fc657be",
   "metadata": {
    "execution": {
     "iopub.execute_input": "2023-01-24T00:27:16.481683Z",
     "iopub.status.busy": "2023-01-24T00:27:16.481527Z",
     "iopub.status.idle": "2023-01-24T00:27:16.484054Z",
     "shell.execute_reply": "2023-01-24T00:27:16.483815Z",
     "shell.execute_reply.started": "2023-01-24T00:27:16.481671Z"
    },
    "tags": []
   },
   "outputs": [
    {
     "data": {
      "text/plain": [
       "<tf.Tensor: shape=(3, 4), dtype=float32, numpy=\n",
       "array([[1., 1., 1., 1.],\n",
       "       [1., 1., 1., 1.],\n",
       "       [1., 1., 1., 1.]], dtype=float32)>"
      ]
     },
     "execution_count": 25,
     "metadata": {},
     "output_type": "execute_result"
    }
   ],
   "source": [
    "# paiwise multiply\n",
    "multiply(A34, A34)"
   ]
  },
  {
   "cell_type": "code",
   "execution_count": 26,
   "id": "f22aa9ff-42bd-48b6-a1aa-88d328139de7",
   "metadata": {
    "execution": {
     "iopub.execute_input": "2023-01-24T00:27:16.484593Z",
     "iopub.status.busy": "2023-01-24T00:27:16.484395Z",
     "iopub.status.idle": "2023-01-24T00:27:16.935393Z",
     "shell.execute_reply": "2023-01-24T00:27:16.935089Z",
     "shell.execute_reply.started": "2023-01-24T00:27:16.484582Z"
    },
    "tags": []
   },
   "outputs": [
    {
     "data": {
      "text/plain": [
       "<tf.Tensor: shape=(4, 4), dtype=float32, numpy=\n",
       "array([[3., 3., 3., 3.],\n",
       "       [3., 3., 3., 3.],\n",
       "       [3., 3., 3., 3.],\n",
       "       [3., 3., 3., 3.]], dtype=float32)>"
      ]
     },
     "execution_count": 26,
     "metadata": {},
     "output_type": "execute_result"
    }
   ],
   "source": [
    "# matrix multiply 4x3 X 3x4 = 4x4\n",
    "matmul(A43, A34)"
   ]
  },
  {
   "cell_type": "code",
   "execution_count": 27,
   "id": "b3bad886-2b31-4894-b0ee-24ddef294f98",
   "metadata": {
    "execution": {
     "iopub.execute_input": "2023-01-24T00:27:16.935864Z",
     "iopub.status.busy": "2023-01-24T00:27:16.935762Z",
     "iopub.status.idle": "2023-01-24T00:27:16.938384Z",
     "shell.execute_reply": "2023-01-24T00:27:16.938083Z",
     "shell.execute_reply.started": "2023-01-24T00:27:16.935854Z"
    },
    "tags": []
   },
   "outputs": [
    {
     "name": "stdout",
     "output_type": "stream",
     "text": [
      "Matrix size-incompatible: In[0]: [4,3], In[1]: [4,3] [Op:MatMul]\n"
     ]
    }
   ],
   "source": [
    "try:\n",
    "    matmul(A43, A43)\n",
    "except Exception as e:\n",
    "    print(e)"
   ]
  },
  {
   "cell_type": "markdown",
   "id": "df3e9716-3b27-4cdc-b273-503770e13b37",
   "metadata": {},
   "source": [
    "### Summing over tensor dimensions"
   ]
  },
  {
   "cell_type": "code",
   "execution_count": 28,
   "id": "8bc71ece-0a37-4dbe-b4ed-6ced478f4b9d",
   "metadata": {
    "execution": {
     "iopub.execute_input": "2023-01-24T00:27:16.938965Z",
     "iopub.status.busy": "2023-01-24T00:27:16.938742Z",
     "iopub.status.idle": "2023-01-24T00:27:16.941559Z",
     "shell.execute_reply": "2023-01-24T00:27:16.941290Z",
     "shell.execute_reply.started": "2023-01-24T00:27:16.938954Z"
    },
    "jp-MarkdownHeadingCollapsed": true,
    "tags": []
   },
   "outputs": [
    {
     "data": {
      "text/plain": [
       "<tf.Tensor: shape=(2, 3, 4), dtype=float32, numpy=\n",
       "array([[[1., 1., 1., 1.],\n",
       "        [1., 1., 1., 1.],\n",
       "        [1., 1., 1., 1.]],\n",
       "\n",
       "       [[1., 1., 1., 1.],\n",
       "        [1., 1., 1., 1.],\n",
       "        [1., 1., 1., 1.]]], dtype=float32)>"
      ]
     },
     "execution_count": 28,
     "metadata": {},
     "output_type": "execute_result"
    }
   ],
   "source": [
    "# Import operations from tensorflow\n",
    "from tensorflow import ones, reduce_sum\n",
    "# Define a 2x3x4 tensor of ones\n",
    "A = ones([2, 3, 4])\n",
    "A"
   ]
  },
  {
   "cell_type": "code",
   "execution_count": 29,
   "id": "0109cdff-6af3-4ba8-9f1b-1403446f669a",
   "metadata": {
    "execution": {
     "iopub.execute_input": "2023-01-24T00:27:16.942101Z",
     "iopub.status.busy": "2023-01-24T00:27:16.941900Z",
     "iopub.status.idle": "2023-01-24T00:27:16.944407Z",
     "shell.execute_reply": "2023-01-24T00:27:16.944139Z",
     "shell.execute_reply.started": "2023-01-24T00:27:16.942090Z"
    },
    "jp-MarkdownHeadingCollapsed": true,
    "tags": []
   },
   "outputs": [
    {
     "data": {
      "text/plain": [
       "<tf.Tensor: shape=(), dtype=float32, numpy=24.0>"
      ]
     },
     "execution_count": 29,
     "metadata": {},
     "output_type": "execute_result"
    }
   ],
   "source": [
    "# Sum over all dimensions\n",
    "B = reduce_sum(A)\n",
    "B"
   ]
  },
  {
   "cell_type": "code",
   "execution_count": 30,
   "id": "7278cd97-c2fc-49fd-9d9a-d1194cd9da5c",
   "metadata": {
    "execution": {
     "iopub.execute_input": "2023-01-24T00:27:16.944960Z",
     "iopub.status.busy": "2023-01-24T00:27:16.944750Z",
     "iopub.status.idle": "2023-01-24T00:27:16.947280Z",
     "shell.execute_reply": "2023-01-24T00:27:16.947038Z",
     "shell.execute_reply.started": "2023-01-24T00:27:16.944950Z"
    },
    "jp-MarkdownHeadingCollapsed": true,
    "tags": []
   },
   "outputs": [
    {
     "data": {
      "text/plain": [
       "<tf.Tensor: shape=(3, 4), dtype=float32, numpy=\n",
       "array([[2., 2., 2., 2.],\n",
       "       [2., 2., 2., 2.],\n",
       "       [2., 2., 2., 2.]], dtype=float32)>"
      ]
     },
     "execution_count": 30,
     "metadata": {},
     "output_type": "execute_result"
    }
   ],
   "source": [
    "# Sum over dimensions 0\n",
    "B0 = reduce_sum(A, 0)\n",
    "B0"
   ]
  },
  {
   "cell_type": "code",
   "execution_count": 31,
   "id": "4bd5ff72-ab2c-4b20-865a-ac17c885b068",
   "metadata": {
    "execution": {
     "iopub.execute_input": "2023-01-24T00:27:16.947785Z",
     "iopub.status.busy": "2023-01-24T00:27:16.947626Z",
     "iopub.status.idle": "2023-01-24T00:27:16.950194Z",
     "shell.execute_reply": "2023-01-24T00:27:16.949952Z",
     "shell.execute_reply.started": "2023-01-24T00:27:16.947775Z"
    },
    "jp-MarkdownHeadingCollapsed": true,
    "tags": []
   },
   "outputs": [
    {
     "data": {
      "text/plain": [
       "<tf.Tensor: shape=(2, 4), dtype=float32, numpy=\n",
       "array([[3., 3., 3., 3.],\n",
       "       [3., 3., 3., 3.]], dtype=float32)>"
      ]
     },
     "execution_count": 31,
     "metadata": {},
     "output_type": "execute_result"
    }
   ],
   "source": [
    "# Sum over dimensions 1\n",
    "B1 = reduce_sum(A, 1)\n",
    "B1"
   ]
  },
  {
   "cell_type": "code",
   "execution_count": 32,
   "id": "caeb1808-dec4-484c-90f8-c62bf9001a09",
   "metadata": {
    "execution": {
     "iopub.execute_input": "2023-01-24T00:27:16.950690Z",
     "iopub.status.busy": "2023-01-24T00:27:16.950537Z",
     "iopub.status.idle": "2023-01-24T00:27:16.952924Z",
     "shell.execute_reply": "2023-01-24T00:27:16.952701Z",
     "shell.execute_reply.started": "2023-01-24T00:27:16.950680Z"
    },
    "jp-MarkdownHeadingCollapsed": true,
    "tags": []
   },
   "outputs": [
    {
     "data": {
      "text/plain": [
       "<tf.Tensor: shape=(2, 3), dtype=float32, numpy=\n",
       "array([[4., 4., 4.],\n",
       "       [4., 4., 4.]], dtype=float32)>"
      ]
     },
     "execution_count": 32,
     "metadata": {},
     "output_type": "execute_result"
    }
   ],
   "source": [
    "# Sum over dimensions 2\n",
    "B2 = reduce_sum(A, 2)\n",
    "B2"
   ]
  },
  {
   "cell_type": "markdown",
   "id": "652e1875-f75b-4ee1-a211-c3ceaa41e693",
   "metadata": {},
   "source": [
    "### Exercises"
   ]
  },
  {
   "cell_type": "markdown",
   "id": "601e52d2-423b-4a56-9537-8dcf69ef1ceb",
   "metadata": {},
   "source": [
    "#### Performing element-wise multiplication"
   ]
  },
  {
   "cell_type": "code",
   "execution_count": 33,
   "id": "e985737d-90c0-4cdf-9f36-ba2a7e7f07de",
   "metadata": {
    "execution": {
     "iopub.execute_input": "2023-01-24T00:27:16.953366Z",
     "iopub.status.busy": "2023-01-24T00:27:16.953277Z",
     "iopub.status.idle": "2023-01-24T00:27:16.956049Z",
     "shell.execute_reply": "2023-01-24T00:27:16.955813Z",
     "shell.execute_reply.started": "2023-01-24T00:27:16.953357Z"
    },
    "tags": []
   },
   "outputs": [
    {
     "name": "stdout",
     "output_type": "stream",
     "text": [
      "\n",
      " C1: [1 2 3 4]\n",
      "\n",
      " C23: [[1 2 3]\n",
      " [1 6 4]]\n"
     ]
    }
   ],
   "source": [
    "from tensorflow import ones_like\n",
    "# Define tensors A1 and A23 as constants\n",
    "A1 = constant([1, 2, 3, 4])\n",
    "A23 = constant([[1, 2, 3], [1, 6, 4]])\n",
    "\n",
    "# Define B1 and B23 to have the correct shape\n",
    "B1 = ones_like(A1)\n",
    "B23 = ones_like(A23)\n",
    "\n",
    "# Perform element-wise multiplication\n",
    "C1 = multiply(A1, B1)\n",
    "C23 = multiply(A23, B23)\n",
    "\n",
    "# Print the tensors C1 and C23\n",
    "print('\\n C1: {}'.format(C1.numpy()))\n",
    "print('\\n C23: {}'.format(C23.numpy()))"
   ]
  },
  {
   "cell_type": "markdown",
   "id": "c21fc917-a873-4548-934d-884920d3c1fc",
   "metadata": {},
   "source": [
    "#### Making predictions with matrix multiplication"
   ]
  },
  {
   "cell_type": "code",
   "execution_count": 34,
   "id": "1cea633f-f5fa-4041-9c1c-243a29b291d0",
   "metadata": {
    "execution": {
     "iopub.execute_input": "2023-01-24T00:27:16.956508Z",
     "iopub.status.busy": "2023-01-24T00:27:16.956416Z",
     "iopub.status.idle": "2023-01-24T00:27:16.959830Z",
     "shell.execute_reply": "2023-01-24T00:27:16.959569Z",
     "shell.execute_reply.started": "2023-01-24T00:27:16.956499Z"
    }
   },
   "outputs": [
    {
     "data": {
      "text/plain": [
       "<tf.Tensor: shape=(4, 1), dtype=int32, numpy=\n",
       "array([[ 5600],\n",
       "       [ 5900],\n",
       "       [10550],\n",
       "       [ 6550]], dtype=int32)>"
      ]
     },
     "execution_count": 34,
     "metadata": {},
     "output_type": "execute_result"
    }
   ],
   "source": [
    "# Define features, params, and bill (target) as constants\n",
    "features = constant([[2, 24], [2, 26], [2, 57], [1, 37]])\n",
    "params = constant([[1000], [150]])\n",
    "bill = constant([[3913], [2682], [8617], [64400]])\n",
    "\n",
    "# Compute billpred using features and params\n",
    "billpred = matmul(features, params)\n",
    "billpred"
   ]
  },
  {
   "cell_type": "code",
   "execution_count": 35,
   "id": "b3256331-47fb-430e-8e3a-9af98ccd4e87",
   "metadata": {
    "execution": {
     "iopub.execute_input": "2023-01-24T00:27:16.960296Z",
     "iopub.status.busy": "2023-01-24T00:27:16.960202Z",
     "iopub.status.idle": "2023-01-24T00:27:16.962255Z",
     "shell.execute_reply": "2023-01-24T00:27:16.961984Z",
     "shell.execute_reply.started": "2023-01-24T00:27:16.960287Z"
    },
    "tags": []
   },
   "outputs": [
    {
     "name": "stdout",
     "output_type": "stream",
     "text": [
      "[[-1687]\n",
      " [-3218]\n",
      " [-1933]\n",
      " [57850]]\n"
     ]
    }
   ],
   "source": [
    "# Compute and print the error\n",
    "error = bill - billpred\n",
    "print(error.numpy())"
   ]
  },
  {
   "cell_type": "markdown",
   "id": "8f6212dc-912f-4933-9604-ad36c03d0c2d",
   "metadata": {
    "execution": {
     "iopub.execute_input": "2023-01-13T20:28:16.798504Z",
     "iopub.status.busy": "2023-01-13T20:28:16.798370Z",
     "iopub.status.idle": "2023-01-13T20:28:16.802936Z",
     "shell.execute_reply": "2023-01-13T20:28:16.802591Z",
     "shell.execute_reply.started": "2023-01-13T20:28:16.798494Z"
    },
    "tags": []
   },
   "source": [
    "## Advanced operations\n",
    "* gradient() Computes the slope of a function at a point\n",
    "* reshape() Reshapes a tensor (e.g. 10x10 to 100x1)\n",
    "* random() Populates tensor with entries drawn from a probability distribution"
   ]
  },
  {
   "cell_type": "markdown",
   "id": "109e6de8-81d5-46a0-b241-ba1137c6c7d7",
   "metadata": {},
   "source": [
    "### Gradients in TensorFlow"
   ]
  },
  {
   "cell_type": "code",
   "execution_count": 36,
   "id": "73d4e6b7-0cc4-4768-9cfc-348ad94e7085",
   "metadata": {
    "execution": {
     "iopub.execute_input": "2023-01-24T00:27:16.962668Z",
     "iopub.status.busy": "2023-01-24T00:27:16.962575Z",
     "iopub.status.idle": "2023-01-24T00:27:17.202758Z",
     "shell.execute_reply": "2023-01-24T00:27:17.202510Z",
     "shell.execute_reply.started": "2023-01-24T00:27:16.962659Z"
    },
    "tags": []
   },
   "outputs": [
    {
     "data": {
      "image/png": "[encoded data removed]",
      "text/plain": [
       "<Figure size 640x480 with 1 Axes>"
      ]
     },
     "metadata": {},
     "output_type": "display_data"
    }
   ],
   "source": [
    "import numpy as np\n",
    "import matplotlib.pyplot as plt\n",
    "plt.style.use('dark_background')\n",
    "x = np.linspace(-1,1,17)\n",
    "y = x**2\n",
    "plt.plot(x, y, '.:')\n",
    "plt.show()"
   ]
  },
  {
   "cell_type": "markdown",
   "id": "afee1f5a-f35a-44a4-be39-77b4315683ca",
   "metadata": {},
   "source": [
    "Let's use TensorFlow to compute the gradient. We will start by defining a variable, x, which we initialize to minus one point zero. We will then define y to be x squared within an instance of gradient tape. Note that we apply the watch method to an instance of gradient tape and then pass the variable x. This will allow us to compute the rate of change of y with respect to x."
   ]
  },
  {
   "cell_type": "code",
   "execution_count": 37,
   "id": "5b0c9bc4-7c89-4531-ba23-88667cdea1c4",
   "metadata": {
    "execution": {
     "iopub.execute_input": "2023-01-24T00:27:17.203366Z",
     "iopub.status.busy": "2023-01-24T00:27:17.203151Z",
     "iopub.status.idle": "2023-01-24T00:27:17.206792Z",
     "shell.execute_reply": "2023-01-24T00:27:17.206485Z",
     "shell.execute_reply.started": "2023-01-24T00:27:17.203355Z"
    },
    "tags": []
   },
   "outputs": [],
   "source": [
    "# Import tensorflow under the alias tf\n",
    "import tensorflow as tf\n",
    "# Define x\n",
    "x = tf.Variable(-1.0)\n",
    "# Define y within instance of GradientTape\n",
    "with tf.GradientTape() as tape:\n",
    "    tape.watch(x)\n",
    "    y = tf.multiply(x, x)"
   ]
  },
  {
   "cell_type": "markdown",
   "id": "d4c6518c-b242-427d-a79c-c1c91f5b24fd",
   "metadata": {},
   "source": [
    "Next, we compute the gradient of y with respect to x using the tape instance of gradient tape. Note that y is the first argument and x is the second. As written, the operation computes the slope of y at a point. Running the code and printing, we find that the slope is -2 at x equals -1, which means that y is initially decreasing in x, as we saw on the previous slide. "
   ]
  },
  {
   "cell_type": "code",
   "execution_count": 38,
   "id": "dd122815-476d-4d2b-acdc-cfb610fb28e5",
   "metadata": {
    "execution": {
     "iopub.execute_input": "2023-01-24T00:27:17.207242Z",
     "iopub.status.busy": "2023-01-24T00:27:17.207144Z",
     "iopub.status.idle": "2023-01-24T00:27:17.210191Z",
     "shell.execute_reply": "2023-01-24T00:27:17.209948Z",
     "shell.execute_reply.started": "2023-01-24T00:27:17.207233Z"
    },
    "tags": []
   },
   "outputs": [
    {
     "data": {
      "text/plain": [
       "-2.0"
      ]
     },
     "execution_count": 38,
     "metadata": {},
     "output_type": "execute_result"
    }
   ],
   "source": [
    "# Evaluate the gradient of y at x = -1\n",
    "g = tape.gradient(y, x)\n",
    "g.numpy()"
   ]
  },
  {
   "cell_type": "markdown",
   "id": "9d477118-c235-4e1f-81a8-9135b345820d",
   "metadata": {},
   "source": [
    "Much of the differentiation you do in deep learning models will be handled by high level APIs; however, gradient tape remains an invaluable tool for building advanced and custom models. "
   ]
  },
  {
   "cell_type": "markdown",
   "id": "3025080b-0ffe-4701-a7f7-f867dd826a63",
   "metadata": {},
   "source": [
    "### How to reshape a grayscale image"
   ]
  },
  {
   "cell_type": "code",
   "execution_count": 39,
   "id": "61b7f90b-ecf1-4fb3-94d1-9d3991c1b8e4",
   "metadata": {
    "execution": {
     "iopub.execute_input": "2023-01-24T00:27:19.219319Z",
     "iopub.status.busy": "2023-01-24T00:27:19.219186Z",
     "iopub.status.idle": "2023-01-24T00:27:19.296276Z",
     "shell.execute_reply": "2023-01-24T00:27:19.295835Z",
     "shell.execute_reply.started": "2023-01-24T00:27:19.219309Z"
    },
    "tags": []
   },
   "outputs": [
    {
     "data": {
      "text/plain": [
       "<matplotlib.image.AxesImage at 0x7fcb40a12340>"
      ]
     },
     "execution_count": 39,
     "metadata": {},
     "output_type": "execute_result"
    },
    {
     "data": {
      "image/png": "[encoded data removed]",
      "text/plain": [
       "<Figure size 640x480 with 1 Axes>"
      ]
     },
     "metadata": {},
     "output_type": "display_data"
    }
   ],
   "source": [
    "# Import tensorflow as alias tf\n",
    "import tensorflow as tf\n",
    "# Generate grayscale image\n",
    "gray = tf.random.uniform([2, 2], maxval=255, dtype='int32')\n",
    "plt.imshow(gray, cmap='Greys')"
   ]
  },
  {
   "cell_type": "code",
   "execution_count": 40,
   "id": "465eadd8-e788-469f-ae74-39c1912e921b",
   "metadata": {
    "execution": {
     "iopub.execute_input": "2023-01-24T00:27:24.282909Z",
     "iopub.status.busy": "2023-01-24T00:27:24.282771Z",
     "iopub.status.idle": "2023-01-24T00:27:24.339076Z",
     "shell.execute_reply": "2023-01-24T00:27:24.338806Z",
     "shell.execute_reply.started": "2023-01-24T00:27:24.282898Z"
    },
    "tags": []
   },
   "outputs": [
    {
     "data": {
      "text/plain": [
       "<matplotlib.image.AxesImage at 0x7fcb40992b20>"
      ]
     },
     "execution_count": 40,
     "metadata": {},
     "output_type": "execute_result"
    },
    {
     "data": {
      "image/png": "[encoded data removed]",
      "text/plain": [
       "<Figure size 640x480 with 1 Axes>"
      ]
     },
     "metadata": {},
     "output_type": "display_data"
    }
   ],
   "source": [
    "# Reshape grayscale image\n",
    "gray = tf.reshape(gray, [2*2, 1])\n",
    "plt.imshow(gray, cmap='Greys')"
   ]
  },
  {
   "cell_type": "markdown",
   "id": "0465e325-6689-487b-979e-dbfb7e1a6a01",
   "metadata": {},
   "source": [
    "### How to reshape a color image"
   ]
  },
  {
   "cell_type": "code",
   "execution_count": 74,
   "id": "ef366b8b-df67-4c35-935c-e7e8bcd30661",
   "metadata": {
    "execution": {
     "iopub.execute_input": "2023-01-24T00:43:11.606854Z",
     "iopub.status.busy": "2023-01-24T00:43:11.606318Z",
     "iopub.status.idle": "2023-01-24T00:43:11.617853Z",
     "shell.execute_reply": "2023-01-24T00:43:11.617369Z",
     "shell.execute_reply.started": "2023-01-24T00:43:11.606838Z"
    },
    "tags": []
   },
   "outputs": [
    {
     "name": "stdout",
     "output_type": "stream",
     "text": [
      "[[[ 76 203 119]\n",
      "  [ 54 228  11]]\n",
      "\n",
      " [[ 91 195 133]\n",
      "  [ 29 150  53]]]\n"
     ]
    }
   ],
   "source": [
    "# Generate color image\n",
    "color = tf.random.uniform([2, 2, 3], maxval=255, dtype='int32', seed=1)\n",
    "print(color.numpy())"
   ]
  },
  {
   "cell_type": "code",
   "execution_count": 75,
   "id": "12bf6368-8725-48ce-904f-f99fabb7874b",
   "metadata": {
    "execution": {
     "iopub.execute_input": "2023-01-24T00:43:12.770700Z",
     "iopub.status.busy": "2023-01-24T00:43:12.770560Z",
     "iopub.status.idle": "2023-01-24T00:43:12.807345Z",
     "shell.execute_reply": "2023-01-24T00:43:12.806998Z",
     "shell.execute_reply.started": "2023-01-24T00:43:12.770689Z"
    },
    "tags": []
   },
   "outputs": [
    {
     "data": {
      "image/png": "[encoded data removed]",
      "text/plain": [
       "<Figure size 640x480 with 3 Axes>"
      ]
     },
     "metadata": {},
     "output_type": "display_data"
    }
   ],
   "source": [
    "plt.subplots(1,3)\n",
    "# Red\n",
    "plt.subplot(1,3,1)\n",
    "plt.imshow(color[:,:,0], cmap='Reds')\n",
    "plt.axis('off')\n",
    "# Green\n",
    "plt.subplot(1,3,2)\n",
    "plt.imshow(color[:,:,1], cmap='Greens')\n",
    "plt.axis('off')\n",
    "# Blue\n",
    "plt.subplot(1,3,3)\n",
    "plt.imshow(color[:,:,2], cmap='Blues')\n",
    "plt.axis('off')\n",
    "plt.show()"
   ]
  },
  {
   "cell_type": "code",
   "execution_count": 76,
   "id": "dae99184-0b05-429e-b061-f077cd8b609e",
   "metadata": {
    "execution": {
     "iopub.execute_input": "2023-01-24T00:43:13.721898Z",
     "iopub.status.busy": "2023-01-24T00:43:13.721762Z",
     "iopub.status.idle": "2023-01-24T00:43:13.725224Z",
     "shell.execute_reply": "2023-01-24T00:43:13.724861Z",
     "shell.execute_reply.started": "2023-01-24T00:43:13.721887Z"
    },
    "tags": []
   },
   "outputs": [
    {
     "data": {
      "text/plain": [
       "array([[ 76, 203, 119],\n",
       "       [ 54, 228,  11],\n",
       "       [ 91, 195, 133],\n",
       "       [ 29, 150,  53]], dtype=int32)"
      ]
     },
     "execution_count": 76,
     "metadata": {},
     "output_type": "execute_result"
    }
   ],
   "source": [
    "# Reshape color image\n",
    "color = tf.reshape(color, [2*2, 3])\n",
    "color.numpy()"
   ]
  },
  {
   "cell_type": "code",
   "execution_count": 80,
   "id": "c2da7a34-1b25-4949-b31d-2c7d3d72f75f",
   "metadata": {
    "execution": {
     "iopub.execute_input": "2023-01-24T00:47:08.421286Z",
     "iopub.status.busy": "2023-01-24T00:47:08.421147Z",
     "iopub.status.idle": "2023-01-24T00:47:08.440149Z",
     "shell.execute_reply": "2023-01-24T00:47:08.439718Z",
     "shell.execute_reply.started": "2023-01-24T00:47:08.421274Z"
    },
    "tags": []
   },
   "outputs": [
    {
     "data": {
      "image/png": "[encoded data removed]",
      "text/plain": [
       "<Figure size 640x480 with 1 Axes>"
      ]
     },
     "metadata": {},
     "output_type": "display_data"
    }
   ],
   "source": [
    "plt.imshow(color, cmap='RdBu')\n",
    "plt.axis('off'); plt.show()"
   ]
  },
  {
   "cell_type": "markdown",
   "id": "91e699f6-7afb-4fea-82af-87668b09ab0a",
   "metadata": {},
   "source": [
    "### Exercises"
   ]
  },
  {
   "cell_type": "markdown",
   "id": "c1faaf4a-8ab3-45e0-80b3-7c610baf9eb9",
   "metadata": {},
   "source": [
    "#### Reshaping tensors"
   ]
  },
  {
   "cell_type": "code",
   "execution_count": 82,
   "id": "e30bac89-b45c-4144-8d69-f0ac71b8fd7a",
   "metadata": {
    "execution": {
     "iopub.execute_input": "2023-01-24T00:50:35.509979Z",
     "iopub.status.busy": "2023-01-24T00:50:35.509842Z",
     "iopub.status.idle": "2023-01-24T00:50:35.525696Z",
     "shell.execute_reply": "2023-01-24T00:50:35.525304Z",
     "shell.execute_reply.started": "2023-01-24T00:50:35.509968Z"
    },
    "tags": []
   },
   "outputs": [
    {
     "data": {
      "text/plain": [
       "(28, 28)"
      ]
     },
     "execution_count": 82,
     "metadata": {},
     "output_type": "execute_result"
    }
   ],
   "source": [
    "gray_tensor = np.array([[187, 189, 190, 192, 195, 198, 198, 198, 200, 200, 201, 205, 206,\n",
    "        203, 206, 206, 206, 207, 209, 207, 205, 205, 208, 208, 206, 207,\n",
    "        206, 206],\n",
    "       [189, 191, 193, 195, 197, 199, 200, 199, 200, 201, 202, 206, 206,\n",
    "        208, 204, 204, 210, 209, 208, 208, 207, 206, 208, 208, 207, 207,\n",
    "        207, 207],\n",
    "       [189, 192, 195, 198, 198, 201, 202, 203, 205, 206, 205, 209, 207,\n",
    "        204, 211, 210, 205, 208, 211, 208, 206, 207, 209, 210, 210, 208,\n",
    "        210, 210],\n",
    "       [191, 192, 195, 197, 199, 199, 204, 201, 203, 208, 206, 207, 209,\n",
    "        207, 213, 208, 209, 211, 221, 205, 204, 239, 182, 212, 213, 212,\n",
    "        209, 209],\n",
    "       [193, 195, 195, 199, 201, 201, 203, 205, 206, 216, 223, 203, 207,\n",
    "        239, 225, 193, 188, 230, 232, 195, 176, 239, 191, 205, 215, 212,\n",
    "        211, 213],\n",
    "       [194, 196, 199, 200, 206, 202, 205, 207, 196, 255, 238, 197, 160,\n",
    "        235, 226, 191, 146, 190, 226, 201, 160, 228, 211, 162, 215, 214,\n",
    "        216, 213],\n",
    "       [195, 198, 201, 202, 202, 203, 232, 215, 197, 246, 230, 215, 153,\n",
    "        235, 221, 205, 162, 181, 224, 210, 166, 202, 209, 163, 190, 213,\n",
    "        211, 213],\n",
    "       [196, 198, 201, 208, 202, 243, 240, 215, 166, 246, 233, 223, 171,\n",
    "        235, 212, 214, 165, 206, 224, 199, 152, 126, 206, 199, 170, 165,\n",
    "        214, 215],\n",
    "       [198, 201, 197, 204, 189, 247, 244, 230, 206, 246, 235, 220, 188,\n",
    "        235, 211, 218, 142, 227, 223, 176, 152,  74, 192, 206, 200, 145,\n",
    "        177, 215],\n",
    "       [200, 203, 206, 206, 236, 254, 254, 233, 215, 205, 242, 219, 185,\n",
    "        234, 230, 223, 131, 201, 209, 156, 141,  83, 175, 220, 196, 157,\n",
    "        185, 222],\n",
    "       [201, 200, 201, 193, 253, 231, 245, 246, 209, 159, 241, 214, 176,\n",
    "        219, 234, 212, 133, 132, 175, 149, 109, 100, 225, 226, 209, 147,\n",
    "        219, 221],\n",
    "       [202, 203, 203, 196, 253, 209, 241, 233, 194, 150, 234, 204, 174,\n",
    "        160, 208, 189, 146, 101, 172, 145,  76, 195, 230, 226, 194, 121,\n",
    "        227, 224],\n",
    "       [204, 203, 210, 245, 251, 222, 207, 198, 152, 112, 207, 171, 163,\n",
    "         97, 163, 154, 122, 105, 175, 169, 175, 227, 226, 206, 154, 147,\n",
    "        219, 225],\n",
    "       [204, 205, 201, 250, 246, 217, 167, 204, 146, 116, 192, 170, 161,\n",
    "         78, 151, 165, 115, 181, 228, 225, 223, 215, 203, 181, 144, 202,\n",
    "        220, 227],\n",
    "       [205, 207, 198, 252, 254, 228, 198, 185, 162, 128, 202, 194, 144,\n",
    "         64, 135, 155, 237, 241, 237, 226, 211, 177, 179, 155, 142, 227,\n",
    "        227, 228],\n",
    "       [210, 211, 208, 255, 252, 240, 219, 187, 168, 148, 187, 202, 151,\n",
    "        103, 192, 246, 253, 244, 233, 221, 199, 179, 157, 154, 116, 234,\n",
    "        228, 231],\n",
    "       [208, 211, 209, 254, 254, 248, 231, 216, 193, 175, 178, 201, 208,\n",
    "        240, 253, 254, 249, 238, 222, 206, 185, 160, 143, 143, 214, 231,\n",
    "        230, 230],\n",
    "       [209, 212, 205, 254, 254, 252, 241, 229, 217, 187, 207, 224, 249,\n",
    "        253, 251, 250, 242, 228, 206, 183, 166, 150, 143, 172, 229, 234,\n",
    "        235, 230],\n",
    "       [208, 211, 206, 254, 254, 255, 249, 238, 231, 211, 213, 230, 250,\n",
    "        254, 252, 246, 233, 217, 188, 164, 150, 143, 120, 235, 231, 230,\n",
    "        231, 231],\n",
    "       [209, 213, 211, 253, 255, 255, 252, 244, 233, 222, 217, 224, 246,\n",
    "        251, 242, 234, 225, 195, 173, 153, 134, 116, 225, 232, 235, 232,\n",
    "        233, 233],\n",
    "       [209, 214, 214, 246, 254, 253, 252, 240, 224, 214, 213, 217, 233,\n",
    "        233, 230, 214, 199, 190, 150, 145, 127, 201, 233, 234, 232, 234,\n",
    "        233, 234],\n",
    "       [211, 215, 215, 243, 254, 254, 245, 232, 221, 208, 213, 218, 225,\n",
    "        223, 206, 195, 169, 157, 132, 126, 170, 238, 234, 235, 234, 234,\n",
    "        234, 234],\n",
    "       [214, 216, 217, 209, 254, 250, 236, 229, 212, 197, 206, 210, 221,\n",
    "        210, 196, 170, 148, 140, 118, 134, 240, 235, 234, 235, 235, 236,\n",
    "        235, 236],\n",
    "       [186, 175, 180, 150, 156, 158, 144, 124, 132, 134, 148, 153, 150,\n",
    "        146, 137, 134, 126, 109, 114, 235, 237, 234, 238, 236, 236, 236,\n",
    "        236, 237],\n",
    "       [145, 135, 137, 134, 122, 136, 112,  95,  94,  90,  93,  65,  60,\n",
    "         66,  61,  66,  58,  66,  80, 164, 247, 235, 236, 237, 239, 237,\n",
    "        237, 235],\n",
    "       [140, 146, 136, 132, 129, 134, 100, 103, 100, 100,  87,  64,  66,\n",
    "         65,  57,  57,  61,  61,  64,  65, 177, 242, 238, 238, 239, 238,\n",
    "        238, 238],\n",
    "       [141, 146, 140, 131, 130, 136,  93,  97, 102,  96,  78,  71,  68,\n",
    "         64,  60,  61,  60,  55,  58,  48, 254, 238, 240, 239, 238, 237,\n",
    "        237, 238],\n",
    "       [146, 143, 137, 138, 129, 113,  94,  98, 101,  87,  75,  70,  68,\n",
    "         63,  60,  58,  56,  57,  63,  81, 237, 237, 240, 240, 239, 240,\n",
    "        240, 240]])\n",
    "gray_tensor.shape"
   ]
  },
  {
   "cell_type": "code",
   "execution_count": 83,
   "id": "20ce9dea-41a5-4ba9-852d-fbbd3dc5be88",
   "metadata": {
    "execution": {
     "iopub.execute_input": "2023-01-24T00:50:36.042671Z",
     "iopub.status.busy": "2023-01-24T00:50:36.042532Z",
     "iopub.status.idle": "2023-01-24T00:50:36.063741Z",
     "shell.execute_reply": "2023-01-24T00:50:36.063468Z",
     "shell.execute_reply.started": "2023-01-24T00:50:36.042660Z"
    },
    "tags": []
   },
   "outputs": [
    {
     "data": {
      "image/png": "[encoded data removed]",
      "text/plain": [
       "<Figure size 640x480 with 1 Axes>"
      ]
     },
     "metadata": {},
     "output_type": "display_data"
    }
   ],
   "source": [
    "import matplotlib.image as mpimg\n",
    "plt.imshow(-gray_tensor, cmap='Greys')\n",
    "plt.axis('off')\n",
    "plt.show()"
   ]
  },
  {
   "cell_type": "code",
   "execution_count": 85,
   "id": "87978c2f-fa2e-4b1c-99de-958e925949b2",
   "metadata": {
    "execution": {
     "iopub.execute_input": "2023-01-24T00:50:44.397328Z",
     "iopub.status.busy": "2023-01-24T00:50:44.397190Z",
     "iopub.status.idle": "2023-01-24T00:50:44.400663Z",
     "shell.execute_reply": "2023-01-24T00:50:44.400278Z",
     "shell.execute_reply.started": "2023-01-24T00:50:44.397317Z"
    },
    "tags": []
   },
   "outputs": [
    {
     "data": {
      "text/plain": [
       "TensorShape([784, 1])"
      ]
     },
     "execution_count": 85,
     "metadata": {},
     "output_type": "execute_result"
    }
   ],
   "source": [
    "tf.reshape(gray_tensor, (28*28, 1)).shape"
   ]
  },
  {
   "cell_type": "markdown",
   "id": "4bebdd46-4e62-432c-9ff7-dca48ef0dc0c",
   "metadata": {},
   "source": [
    "#### Optimizing with gradients"
   ]
  },
  {
   "cell_type": "code",
   "execution_count": 87,
   "id": "86bf9cbf-dfd4-41a9-8baf-390a846f5fbe",
   "metadata": {
    "execution": {
     "iopub.execute_input": "2023-01-24T00:55:14.204620Z",
     "iopub.status.busy": "2023-01-24T00:55:14.204484Z",
     "iopub.status.idle": "2023-01-24T00:55:14.209167Z",
     "shell.execute_reply": "2023-01-24T00:55:14.208820Z",
     "shell.execute_reply.started": "2023-01-24T00:55:14.204609Z"
    },
    "tags": []
   },
   "outputs": [
    {
     "name": "stdout",
     "output_type": "stream",
     "text": [
      "-2.0\n",
      "2.0\n",
      "0.0\n"
     ]
    }
   ],
   "source": [
    "def compute_gradient(x0):\n",
    "  \t# Define x as a variable with an initial value of x0\n",
    "\tx = tf.Variable(x0)\n",
    "\twith tf.GradientTape() as tape:\n",
    "\t\ttape.watch(x)\n",
    "        # Define y using the multiply operation\n",
    "\t\ty = tf.multiply(x, x)\n",
    "    # Return the gradient of y with respect to x\n",
    "\treturn tape.gradient(y, x).numpy()\n",
    "\n",
    "# Compute and print gradients at x = -1, 1, and 0\n",
    "print(compute_gradient(-1.0))\n",
    "print(compute_gradient(1.0))\n",
    "print(compute_gradient(0.0))"
   ]
  },
  {
   "cell_type": "markdown",
   "id": "9a98466d-a9fa-459f-b488-4d255c2068d0",
   "metadata": {},
   "source": [
    "#### Working with image data"
   ]
  },
  {
   "cell_type": "code",
   "execution_count": 100,
   "id": "daec9fa1-9e51-4f76-972e-d0a90d240b33",
   "metadata": {
    "execution": {
     "iopub.execute_input": "2023-01-24T01:00:38.062383Z",
     "iopub.status.busy": "2023-01-24T01:00:38.062212Z",
     "iopub.status.idle": "2023-01-24T01:00:38.064974Z",
     "shell.execute_reply": "2023-01-24T01:00:38.064670Z",
     "shell.execute_reply.started": "2023-01-24T01:00:38.062372Z"
    },
    "tags": []
   },
   "outputs": [],
   "source": [
    "letter = np.array([[1., 0., 1.],\n",
    "                   [1., 1., 0.],\n",
    "                   [1., 0., 1.]], dtype='float32')\n",
    "print(letter.shape)\n",
    "plt.imshow(-letter, cmap='Greys')\n",
    "plt.axis('off')\n",
    "plt.show()"
   ]
  },
  {
   "cell_type": "code",
   "execution_count": 101,
   "id": "c1ad08d9-c3e6-4cd2-bfb1-de396c6a1034",
   "metadata": {
    "execution": {
     "iopub.execute_input": "2023-01-24T01:01:20.346265Z",
     "iopub.status.busy": "2023-01-24T01:01:20.346129Z",
     "iopub.status.idle": "2023-01-24T01:01:20.361908Z",
     "shell.execute_reply": "2023-01-24T01:01:20.361569Z",
     "shell.execute_reply.started": "2023-01-24T01:01:20.346254Z"
    }
   },
   "outputs": [
    {
     "data": {
      "text/plain": [
       "<tf.Tensor: shape=(3, 1), dtype=float32, numpy=\n",
       "array([[ 1.],\n",
       "       [ 0.],\n",
       "       [-1.]], dtype=float32)>"
      ]
     },
     "execution_count": 101,
     "metadata": {},
     "output_type": "execute_result"
    }
   ],
   "source": [
    "model = np.array([[ 1.,  0., -1.]], dtype='float32')\n",
    "# Reshape model from a 1x3 to a 3x1 tensor\n",
    "model = tf.reshape(model, (3, 1))\n",
    "model"
   ]
  },
  {
   "cell_type": "markdown",
   "id": "d69ab72c-ca4e-4103-a48f-bf21f22b1cc4",
   "metadata": {},
   "source": [
    "Whether letter is a K"
   ]
  },
  {
   "cell_type": "code",
   "execution_count": 102,
   "id": "5f407ee7-6ee1-400d-8899-78a9fb28ccc2",
   "metadata": {
    "execution": {
     "iopub.execute_input": "2023-01-24T01:02:01.871740Z",
     "iopub.status.busy": "2023-01-24T01:02:01.871601Z",
     "iopub.status.idle": "2023-01-24T01:02:01.884088Z",
     "shell.execute_reply": "2023-01-24T01:02:01.883814Z",
     "shell.execute_reply.started": "2023-01-24T01:02:01.871729Z"
    },
    "tags": []
   },
   "outputs": [
    {
     "data": {
      "text/plain": [
       "<tf.Tensor: shape=(3, 1), dtype=float32, numpy=\n",
       "array([[0.],\n",
       "       [1.],\n",
       "       [0.]], dtype=float32)>"
      ]
     },
     "execution_count": 102,
     "metadata": {},
     "output_type": "execute_result"
    }
   ],
   "source": [
    "# Multiply letter by model\n",
    "output = tf.matmul(letter, model)\n",
    "output"
   ]
  },
  {
   "cell_type": "code",
   "execution_count": 103,
   "id": "4091017a-0e9d-4651-9330-d9c17c6fbe8e",
   "metadata": {
    "execution": {
     "iopub.execute_input": "2023-01-24T01:02:21.375941Z",
     "iopub.status.busy": "2023-01-24T01:02:21.375804Z",
     "iopub.status.idle": "2023-01-24T01:02:21.385932Z",
     "shell.execute_reply": "2023-01-24T01:02:21.385578Z",
     "shell.execute_reply.started": "2023-01-24T01:02:21.375930Z"
    },
    "tags": []
   },
   "outputs": [
    {
     "name": "stdout",
     "output_type": "stream",
     "text": [
      "1.0\n"
     ]
    }
   ],
   "source": [
    "# Sum over output and print prediction using the numpy method\n",
    "prediction = tf.reduce_sum(output)\n",
    "print(prediction.numpy())"
   ]
  }
 ],
 "metadata": {
  "kernelspec": {
   "display_name": "Python 3 (ipykernel)",
   "language": "python",
   "name": "python3"
  },
  "language_info": {
   "codemirror_mode": {
    "name": "ipython",
    "version": 3
   },
   "file_extension": ".py",
   "mimetype": "text/x-python",
   "name": "python",
   "nbconvert_exporter": "python",
   "pygments_lexer": "ipython3",
   "version": "3.9.15"
  },
  "toc-autonumbering": true
 },
 "nbformat": 4,
 "nbformat_minor": 5
}
