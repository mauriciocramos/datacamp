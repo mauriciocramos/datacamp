{
 "cells": [
  {
   "cell_type": "markdown",
   "id": "f2f956a7-6120-42b8-90f8-58a166e3bd27",
   "metadata": {},
   "source": [
    "# Introduction to audio data"
   ]
  },
  {
   "cell_type": "markdown",
   "id": "5454e0b5-a930-4e78-b73a-0b1a81cbb8df",
   "metadata": {},
   "source": [
    "## Locating and opening wave files"
   ]
  },
  {
   "cell_type": "code",
   "execution_count": 1,
   "id": "79c23aed-9da9-418d-9187-656473b5395e",
   "metadata": {
    "execution": {
     "iopub.execute_input": "2023-01-03T06:50:59.848258Z",
     "iopub.status.busy": "2023-01-03T06:50:59.848175Z",
     "iopub.status.idle": "2023-01-03T06:50:59.853962Z",
     "shell.execute_reply": "2023-01-03T06:50:59.853740Z",
     "shell.execute_reply.started": "2023-01-03T06:50:59.848249Z"
    },
    "tags": []
   },
   "outputs": [
    {
     "data": {
      "text/plain": [
       "'/home/mauricio/miniconda3/envs/new'"
      ]
     },
     "execution_count": 1,
     "metadata": {},
     "output_type": "execute_result"
    }
   ],
   "source": [
    "import os\n",
    "conda_prefix = os.getenv('CONDA_PREFIX')\n",
    "conda_prefix"
   ]
  },
  {
   "cell_type": "code",
   "execution_count": 2,
   "id": "e808526f-26be-4d07-aa64-a6e52b932708",
   "metadata": {
    "execution": {
     "iopub.execute_input": "2023-01-03T06:50:59.854740Z",
     "iopub.status.busy": "2023-01-03T06:50:59.854566Z",
     "iopub.status.idle": "2023-01-03T06:50:59.886548Z",
     "shell.execute_reply": "2023-01-03T06:50:59.886238Z",
     "shell.execute_reply.started": "2023-01-03T06:50:59.854730Z"
    },
    "tags": []
   },
   "outputs": [
    {
     "data": {
      "text/plain": [
       "'/home/mauricio/miniconda3/envs/new/lib/python3.9/site-packages/scipy/io/tests/data/*.wav'"
      ]
     },
     "execution_count": 2,
     "metadata": {},
     "output_type": "execute_result"
    }
   ],
   "source": [
    "path = os.path.join(conda_prefix, 'lib/python3.9/site-packages/scipy/io/tests/data/', '*.wav')\n",
    "path"
   ]
  },
  {
   "cell_type": "code",
   "execution_count": 3,
   "id": "907a530d-da0f-4c63-96f0-10b44f5d33be",
   "metadata": {
    "execution": {
     "iopub.execute_input": "2023-01-03T06:50:59.887054Z",
     "iopub.status.busy": "2023-01-03T06:50:59.886953Z",
     "iopub.status.idle": "2023-01-03T06:50:59.889341Z",
     "shell.execute_reply": "2023-01-03T06:50:59.889068Z",
     "shell.execute_reply.started": "2023-01-03T06:50:59.887045Z"
    },
    "tags": []
   },
   "outputs": [],
   "source": [
    "from glob import iglob\n",
    "import wave"
   ]
  },
  {
   "cell_type": "code",
   "execution_count": 4,
   "id": "f03b92db-9b13-4fc4-a0f4-bb9e2ba7096c",
   "metadata": {
    "execution": {
     "iopub.execute_input": "2023-01-03T06:50:59.889922Z",
     "iopub.status.busy": "2023-01-03T06:50:59.889689Z",
     "iopub.status.idle": "2023-01-03T06:50:59.892417Z",
     "shell.execute_reply": "2023-01-03T06:50:59.892159Z",
     "shell.execute_reply.started": "2023-01-03T06:50:59.889912Z"
    },
    "scrolled": true,
    "tags": []
   },
   "outputs": [
    {
     "name": "stdout",
     "output_type": "stream",
     "text": [
      "OPENING /home/mauricio/miniconda3/envs/new/lib/python3.9/site-packages/scipy/io/tests/data/test-44100Hz-2ch-32bit-float-le.wav...\n",
      "OPENING /home/mauricio/miniconda3/envs/new/lib/python3.9/site-packages/scipy/io/tests/data/test-8000Hz-le-1ch-1byte-ulaw.wav...\n",
      "OPENING /home/mauricio/miniconda3/envs/new/lib/python3.9/site-packages/scipy/io/tests/data/test-8000Hz-le-5ch-9S-5bit.wav...\n",
      "\n",
      "\tFIRST 10 BYTES:b'\\x80\\x80\\x80\\x80\\x80\\xd8\\xf8\\xd8\\x80\\xb0'\n",
      "\n",
      "OPENING /home/mauricio/miniconda3/envs/new/lib/python3.9/site-packages/scipy/io/tests/data/test-8000Hz-le-3ch-5S-24bit.wav...\n",
      "\n",
      "\tFIRST 10 BYTES:b'\\x00\\x00\\x80\\x01\\x00\\x80\\xfe\\xff\\xff\\x00'\n",
      "\n",
      "OPENING /home/mauricio/miniconda3/envs/new/lib/python3.9/site-packages/scipy/io/tests/data/test-44100Hz-2ch-32bit-float-be.wav...\n",
      "OPENING /home/mauricio/miniconda3/envs/new/lib/python3.9/site-packages/scipy/io/tests/data/test-8000Hz-le-1ch-10S-20bit-extra.wav...\n",
      "\n",
      "\tFIRST 10 BYTES:b'\\xf0\\xff\\x7f\\x10\\x00\\x80\\xf8\\xff?\\x08'\n",
      "\n",
      "OPENING /home/mauricio/miniconda3/envs/new/lib/python3.9/site-packages/scipy/io/tests/data/test-8000Hz-le-2ch-1byteu.wav...\n",
      "\n",
      "\tFIRST 10 BYTES:b'\\x88\\x88\\xbd\\xbd\\xd9\\xda\\xbf\\xbf\\x80\\x80'\n",
      "\n",
      "OPENING /home/mauricio/miniconda3/envs/new/lib/python3.9/site-packages/scipy/io/tests/data/test-44100Hz-le-1ch-4bytes-incomplete-chunk.wav...\n",
      "OPENING /home/mauricio/miniconda3/envs/new/lib/python3.9/site-packages/scipy/io/tests/data/test-44100Hz-le-1ch-4bytes.wav...\n",
      "OPENING /home/mauricio/miniconda3/envs/new/lib/python3.9/site-packages/scipy/io/tests/data/test-48000Hz-2ch-64bit-float-le-wavex.wav...\n",
      "OPENING /home/mauricio/miniconda3/envs/new/lib/python3.9/site-packages/scipy/io/tests/data/test-44100Hz-le-1ch-4bytes-early-eof-no-data.wav...\n",
      "OPENING /home/mauricio/miniconda3/envs/new/lib/python3.9/site-packages/scipy/io/tests/data/test-8000Hz-be-3ch-5S-24bit.wav...\n",
      "OPENING /home/mauricio/miniconda3/envs/new/lib/python3.9/site-packages/scipy/io/tests/data/test-8000Hz-le-3ch-5S-45bit.wav...\n",
      "\n",
      "\tFIRST 10 BYTES:b'\\x00\\x00\\x00\\x00\\x00\\x80\\x08\\x00\\x00\\x00'\n",
      "\n",
      "OPENING /home/mauricio/miniconda3/envs/new/lib/python3.9/site-packages/scipy/io/tests/data/test-44100Hz-le-1ch-4bytes-early-eof.wav...\n",
      "OPENING /home/mauricio/miniconda3/envs/new/lib/python3.9/site-packages/scipy/io/tests/data/test-8000Hz-le-3ch-5S-53bit.wav...\n",
      "\n",
      "\tFIRST 10 BYTES:b'\\x00\\x00\\x00\\x00\\x00\\x00\\x80\\x08\\x00\\x00'\n",
      "\n",
      "OPENING /home/mauricio/miniconda3/envs/new/lib/python3.9/site-packages/scipy/io/tests/data/test-8000Hz-le-4ch-9S-12bit.wav...\n",
      "\n",
      "\tFIRST 10 BYTES:b'\\x00\\x00\\x00\\x00\\x00\\x00\\x00\\x00\\x80Z'\n",
      "\n",
      "OPENING /home/mauricio/miniconda3/envs/new/lib/python3.9/site-packages/scipy/io/tests/data/test-8000Hz-le-3ch-5S-24bit-inconsistent.wav...\n",
      "\n",
      "\tFIRST 10 BYTES:b'\\x00\\x00\\x80\\x01\\x00\\x80\\xfe\\xff\\xff\\x00'\n",
      "\n",
      "OPENING /home/mauricio/miniconda3/envs/new/lib/python3.9/site-packages/scipy/io/tests/data/test-44100Hz-be-1ch-4bytes.wav...\n",
      "OPENING /home/mauricio/miniconda3/envs/new/lib/python3.9/site-packages/scipy/io/tests/data/test-8000Hz-le-3ch-5S-64bit.wav...\n",
      "\n",
      "\tFIRST 10 BYTES:b'\\x00\\x00\\x00\\x00\\x00\\x00\\x00\\x80\\x01\\x00'\n",
      "\n",
      "OPENING /home/mauricio/miniconda3/envs/new/lib/python3.9/site-packages/scipy/io/tests/data/test-8000Hz-le-3ch-5S-36bit.wav...\n",
      "\n",
      "\tFIRST 10 BYTES:b'\\x00\\x00\\x00\\x00\\x80\\x10\\x00\\x00\\x00\\x80'\n",
      "\n"
     ]
    }
   ],
   "source": [
    "for file_path in iglob(path):\n",
    "    print(f'OPENING {file_path}...')\n",
    "    try:\n",
    "        wave_file = wave.open(file_path, \"r\")\n",
    "    except:\n",
    "        continue\n",
    "    print(f'\\n\\tFIRST 10 BYTES:{wave_file.readframes(-1)[:10]}\\n')\n",
    "    wave_file.close()"
   ]
  },
  {
   "cell_type": "markdown",
   "id": "dc193af6-114c-4159-9eb9-26765af3543c",
   "metadata": {},
   "source": [
    "## Frequency examples\n",
    "* Streaming songs have a frequency of 32 kHz\n",
    "* Audiobooks and spoken language are between 8 and 16 kHz"
   ]
  },
  {
   "cell_type": "markdown",
   "id": "b91b2e5c-b406-4ba6-87b0-33f3e933fefc",
   "metadata": {},
   "source": [
    "> An audio file of 2 seconds duration and frequency 48Khz sampling rate has 96,000 pieces of information (chunks)"
   ]
  },
  {
   "cell_type": "markdown",
   "id": "ce58b234-8119-45cd-b6db-628e37960655",
   "metadata": {},
   "source": [
    "## Importing an audio file"
   ]
  },
  {
   "cell_type": "code",
   "execution_count": 5,
   "id": "cec9f6f4-9850-4ee7-8902-63e9a2d094fa",
   "metadata": {
    "execution": {
     "iopub.execute_input": "2023-01-03T06:50:59.892915Z",
     "iopub.status.busy": "2023-01-03T06:50:59.892735Z",
     "iopub.status.idle": "2023-01-03T06:50:59.999067Z",
     "shell.execute_reply": "2023-01-03T06:50:59.998617Z",
     "shell.execute_reply.started": "2023-01-03T06:50:59.892906Z"
    },
    "tags": []
   },
   "outputs": [
    {
     "name": "stdout",
     "output_type": "stream",
     "text": [
      "-rw-rw-r-- 1 mauricio mauricio 500012 Dec 30 01:23 good-morning.wav\n"
     ]
    }
   ],
   "source": [
    "!ls -la good-morning.wav"
   ]
  },
  {
   "cell_type": "code",
   "execution_count": 6,
   "id": "0ef6c9a7-2f0b-4d67-a9c5-841633611cca",
   "metadata": {
    "execution": {
     "iopub.execute_input": "2023-01-03T06:50:59.999593Z",
     "iopub.status.busy": "2023-01-03T06:50:59.999494Z",
     "iopub.status.idle": "2023-01-03T06:51:00.002263Z",
     "shell.execute_reply": "2023-01-03T06:51:00.001916Z",
     "shell.execute_reply.started": "2023-01-03T06:50:59.999582Z"
    },
    "tags": []
   },
   "outputs": [
    {
     "data": {
      "text/plain": [
       "wave.Wave_read"
      ]
     },
     "execution_count": 6,
     "metadata": {},
     "output_type": "execute_result"
    }
   ],
   "source": [
    "import wave\n",
    "wave_obj = wave.open('good-morning.wav', 'r')\n",
    "type(wave_obj)"
   ]
  },
  {
   "cell_type": "code",
   "execution_count": 7,
   "id": "e9944ea1-586d-44f9-8028-74181509d724",
   "metadata": {
    "execution": {
     "iopub.execute_input": "2023-01-03T06:51:00.003497Z",
     "iopub.status.busy": "2023-01-03T06:51:00.003387Z",
     "iopub.status.idle": "2023-01-03T06:51:00.005627Z",
     "shell.execute_reply": "2023-01-03T06:51:00.005363Z",
     "shell.execute_reply.started": "2023-01-03T06:51:00.003487Z"
    },
    "tags": []
   },
   "outputs": [
    {
     "name": "stdout",
     "output_type": "stream",
     "text": [
      "b'\\xfd\\xff\\xfb\\xff\\xf8\\xff\\xf8\\xff\\xf7\\xff'\n"
     ]
    }
   ],
   "source": [
    "# Read all frames from wave object \n",
    "wave_bytes = wave_obj.readframes(-1)\n",
    "# View first 10 frames\n",
    "print(wave_bytes[:10])"
   ]
  },
  {
   "cell_type": "code",
   "execution_count": 8,
   "id": "9fdc5ef8-dc57-4be6-b726-60a9bc00007b",
   "metadata": {
    "execution": {
     "iopub.execute_input": "2023-01-03T06:51:00.006090Z",
     "iopub.status.busy": "2023-01-03T06:51:00.005989Z",
     "iopub.status.idle": "2023-01-03T06:51:00.008235Z",
     "shell.execute_reply": "2023-01-03T06:51:00.007959Z",
     "shell.execute_reply.started": "2023-01-03T06:51:00.006081Z"
    },
    "tags": []
   },
   "outputs": [
    {
     "data": {
      "text/plain": [
       "499968"
      ]
     },
     "execution_count": 8,
     "metadata": {},
     "output_type": "execute_result"
    }
   ],
   "source": [
    "len(wave_bytes)"
   ]
  },
  {
   "cell_type": "markdown",
   "id": "b3468b00-31b7-4efd-876b-69d3a3628d00",
   "metadata": {},
   "source": [
    "## Get attributes"
   ]
  },
  {
   "cell_type": "code",
   "execution_count": 9,
   "id": "e4df5637-edbb-4887-b99f-ff504a3fdad1",
   "metadata": {
    "execution": {
     "iopub.execute_input": "2023-01-03T06:51:00.008796Z",
     "iopub.status.busy": "2023-01-03T06:51:00.008596Z",
     "iopub.status.idle": "2023-01-03T06:51:00.010860Z",
     "shell.execute_reply": "2023-01-03T06:51:00.010591Z",
     "shell.execute_reply.started": "2023-01-03T06:51:00.008787Z"
    },
    "tags": []
   },
   "outputs": [
    {
     "data": {
      "text/plain": [
       "2"
      ]
     },
     "execution_count": 9,
     "metadata": {},
     "output_type": "execute_result"
    }
   ],
   "source": [
    "wave_obj.getnchannels() # the number of audio channels"
   ]
  },
  {
   "cell_type": "code",
   "execution_count": 10,
   "id": "a9021060-98dd-46d6-af01-083f975443a3",
   "metadata": {
    "execution": {
     "iopub.execute_input": "2023-01-03T06:51:00.011425Z",
     "iopub.status.busy": "2023-01-03T06:51:00.011221Z",
     "iopub.status.idle": "2023-01-03T06:51:00.013454Z",
     "shell.execute_reply": "2023-01-03T06:51:00.013164Z",
     "shell.execute_reply.started": "2023-01-03T06:51:00.011416Z"
    },
    "tags": []
   },
   "outputs": [
    {
     "data": {
      "text/plain": [
       "2"
      ]
     },
     "execution_count": 10,
     "metadata": {},
     "output_type": "execute_result"
    }
   ],
   "source": [
    "wave_obj.getsampwidth() # the number of bytes per audio sample"
   ]
  },
  {
   "cell_type": "code",
   "execution_count": 11,
   "id": "fa2d9bb1-6306-457b-80f9-dd2aec497970",
   "metadata": {
    "execution": {
     "iopub.execute_input": "2023-01-03T06:51:00.014029Z",
     "iopub.status.busy": "2023-01-03T06:51:00.013814Z",
     "iopub.status.idle": "2023-01-03T06:51:00.016024Z",
     "shell.execute_reply": "2023-01-03T06:51:00.015740Z",
     "shell.execute_reply.started": "2023-01-03T06:51:00.014019Z"
    },
    "tags": []
   },
   "outputs": [
    {
     "data": {
      "text/plain": [
       "48000"
      ]
     },
     "execution_count": 11,
     "metadata": {},
     "output_type": "execute_result"
    }
   ],
   "source": [
    "wave_obj.getframerate() # the sampling frequency"
   ]
  },
  {
   "cell_type": "code",
   "execution_count": 12,
   "id": "b8a7b1e4-5407-49fa-bdea-c82c32414c8d",
   "metadata": {
    "execution": {
     "iopub.execute_input": "2023-01-03T06:51:00.016434Z",
     "iopub.status.busy": "2023-01-03T06:51:00.016344Z",
     "iopub.status.idle": "2023-01-03T06:51:00.018457Z",
     "shell.execute_reply": "2023-01-03T06:51:00.018180Z",
     "shell.execute_reply.started": "2023-01-03T06:51:00.016425Z"
    },
    "tags": []
   },
   "outputs": [
    {
     "data": {
      "text/plain": [
       "124992"
      ]
     },
     "execution_count": 12,
     "metadata": {},
     "output_type": "execute_result"
    }
   ],
   "source": [
    "wave_obj.getnframes() # the number of audio frames"
   ]
  },
  {
   "cell_type": "code",
   "execution_count": 13,
   "id": "9dab73da-b5f7-445b-a28b-a683cd7e0186",
   "metadata": {
    "execution": {
     "iopub.execute_input": "2023-01-03T06:51:00.018892Z",
     "iopub.status.busy": "2023-01-03T06:51:00.018800Z",
     "iopub.status.idle": "2023-01-03T06:51:00.021074Z",
     "shell.execute_reply": "2023-01-03T06:51:00.020735Z",
     "shell.execute_reply.started": "2023-01-03T06:51:00.018884Z"
    },
    "tags": []
   },
   "outputs": [
    {
     "data": {
      "text/plain": [
       "'NONE'"
      ]
     },
     "execution_count": 13,
     "metadata": {},
     "output_type": "execute_result"
    }
   ],
   "source": [
    "wave_obj.getcomptype() # the AIFF-C compression type ('NONE' if AIFF)"
   ]
  },
  {
   "cell_type": "markdown",
   "id": "70977727-46b7-47c4-a024-08f9b97fc9eb",
   "metadata": {},
   "source": [
    "## Converting bytes to integers\n",
    "* Can't use bytes\n",
    "* Convert bytes to integers using numpy\n",
    "* Dinamically find the integer type multiplying sample width by 8 bits"
   ]
  },
  {
   "cell_type": "code",
   "execution_count": 14,
   "id": "a1cb1491-9d57-464a-885e-8d47bc5e57f6",
   "metadata": {
    "execution": {
     "iopub.execute_input": "2023-01-03T06:51:00.021663Z",
     "iopub.status.busy": "2023-01-03T06:51:00.021442Z",
     "iopub.status.idle": "2023-01-03T06:51:00.051892Z",
     "shell.execute_reply": "2023-01-03T06:51:00.051602Z",
     "shell.execute_reply.started": "2023-01-03T06:51:00.021653Z"
    },
    "tags": []
   },
   "outputs": [
    {
     "data": {
      "text/plain": [
       "array([ -3,  -5,  -8,  -8,  -9, -13,  -8, -10,  -9, -11], dtype=int16)"
      ]
     },
     "execution_count": 14,
     "metadata": {},
     "output_type": "execute_result"
    }
   ],
   "source": [
    "import numpy as np\n",
    "# Convert from bytes to integers\n",
    "wave_array = np.frombuffer(wave_bytes, dtype=f'int{wave_obj.getsampwidth() * 8}')\n",
    "# Show the first 10 items\n",
    "wave_array[:10]"
   ]
  },
  {
   "cell_type": "code",
   "execution_count": 15,
   "id": "415f33a2-d715-4bc8-9e1c-dd2e60830805",
   "metadata": {
    "execution": {
     "iopub.execute_input": "2023-01-03T06:51:00.052444Z",
     "iopub.status.busy": "2023-01-03T06:51:00.052290Z",
     "iopub.status.idle": "2023-01-03T06:51:00.054642Z",
     "shell.execute_reply": "2023-01-03T06:51:00.054377Z",
     "shell.execute_reply.started": "2023-01-03T06:51:00.052433Z"
    },
    "tags": []
   },
   "outputs": [
    {
     "data": {
      "text/plain": [
       "249984"
      ]
     },
     "execution_count": 15,
     "metadata": {},
     "output_type": "execute_result"
    }
   ],
   "source": [
    "len(wave_array)"
   ]
  },
  {
   "cell_type": "markdown",
   "id": "05cb8edc-3f78-4d25-a2f7-0fc1fe68c6c7",
   "metadata": {
    "execution": {
     "iopub.execute_input": "2022-12-30T05:10:42.757044Z",
     "iopub.status.busy": "2022-12-30T05:10:42.756745Z",
     "iopub.status.idle": "2022-12-30T05:10:42.759588Z",
     "shell.execute_reply": "2022-12-30T05:10:42.759127Z",
     "shell.execute_reply.started": "2022-12-30T05:10:42.757033Z"
    }
   },
   "source": [
    "## Finding the duration"
   ]
  },
  {
   "cell_type": "markdown",
   "id": "f6675ecc-d06a-4983-8343-7e2e95e835e5",
   "metadata": {},
   "source": [
    "$$Duration = length\\ of\\ wave\\ object\\ array \\div Frame\\ rate \\div Number\\ of\\ channels$$"
   ]
  },
  {
   "cell_type": "code",
   "execution_count": 16,
   "id": "3f0a07c4-a1aa-4a26-b345-edaf677cfb2b",
   "metadata": {
    "execution": {
     "iopub.execute_input": "2023-01-03T06:51:00.055209Z",
     "iopub.status.busy": "2023-01-03T06:51:00.054998Z",
     "iopub.status.idle": "2023-01-03T06:51:00.057273Z",
     "shell.execute_reply": "2023-01-03T06:51:00.057006Z",
     "shell.execute_reply.started": "2023-01-03T06:51:00.055200Z"
    },
    "tags": []
   },
   "outputs": [
    {
     "data": {
      "text/plain": [
       "2.604"
      ]
     },
     "execution_count": 16,
     "metadata": {},
     "output_type": "execute_result"
    }
   ],
   "source": [
    "len(wave_array) / wave_obj.getframerate() / wave_obj.getnchannels()"
   ]
  },
  {
   "cell_type": "markdown",
   "id": "a8acd234-6e21-48a8-beed-0170a3fa1165",
   "metadata": {
    "execution": {
     "iopub.execute_input": "2022-12-30T17:21:09.791243Z",
     "iopub.status.busy": "2022-12-30T17:21:09.791113Z",
     "iopub.status.idle": "2022-12-30T17:21:09.793817Z",
     "shell.execute_reply": "2022-12-30T17:21:09.793392Z",
     "shell.execute_reply.started": "2022-12-30T17:21:09.791232Z"
    }
   },
   "source": [
    "$$Duration\\ of\\ audio = Number\\ of\\ frames\\ \\div Frame\\ rate$$"
   ]
  },
  {
   "cell_type": "code",
   "execution_count": 17,
   "id": "5ef49fe9-b1ef-4060-8386-d6a78abe240a",
   "metadata": {
    "execution": {
     "iopub.execute_input": "2023-01-03T06:51:00.057701Z",
     "iopub.status.busy": "2023-01-03T06:51:00.057606Z",
     "iopub.status.idle": "2023-01-03T06:51:00.059950Z",
     "shell.execute_reply": "2023-01-03T06:51:00.059688Z",
     "shell.execute_reply.started": "2023-01-03T06:51:00.057692Z"
    },
    "tags": []
   },
   "outputs": [
    {
     "data": {
      "text/plain": [
       "2.604"
      ]
     },
     "execution_count": 17,
     "metadata": {},
     "output_type": "execute_result"
    }
   ],
   "source": [
    "wave_obj.getnframes() / wave_obj.getframerate()"
   ]
  },
  {
   "cell_type": "markdown",
   "id": "8d486c2a-9801-489c-b03d-def3f473cafa",
   "metadata": {},
   "source": [
    "## Finding sound wave timestamps"
   ]
  },
  {
   "cell_type": "code",
   "execution_count": 18,
   "id": "a79f62f2-b922-49f8-b1c7-fcf17a7cb264",
   "metadata": {
    "execution": {
     "iopub.execute_input": "2023-01-03T06:51:00.060493Z",
     "iopub.status.busy": "2023-01-03T06:51:00.060292Z",
     "iopub.status.idle": "2023-01-03T06:51:00.063508Z",
     "shell.execute_reply": "2023-01-03T06:51:00.063255Z",
     "shell.execute_reply.started": "2023-01-03T06:51:00.060484Z"
    },
    "tags": []
   },
   "outputs": [
    {
     "name": "stdout",
     "output_type": "stream",
     "text": [
      "124992\n"
     ]
    },
    {
     "data": {
      "text/plain": [
       "array([0.000000e+00, 2.083350e-05, 4.166700e-05, 6.250050e-05,\n",
       "       8.333400e-05, 1.041675e-04, 1.250010e-04, 1.458345e-04,\n",
       "       1.666680e-04, 1.875015e-04])"
      ]
     },
     "execution_count": 18,
     "metadata": {},
     "output_type": "execute_result"
    }
   ],
   "source": [
    "# Get the timestamps of the good morning sound wave\n",
    "wave_ts = np.linspace(start=0,\n",
    "                      #stop = len(wave_array) / wave_obj.getframerate() / wave_obj.getnchannels(),\n",
    "                      stop=wave_obj.getnframes() / wave_obj.getframerate(),\n",
    "                      # num=len(wave_array)\n",
    "                      num=wave_obj.getnframes() \n",
    "                     )\n",
    "# wave_ts = np.linspace(start=0,\n",
    "#                       stop=wave_obj.getnframes() / wave_obj.getframerate(),\n",
    "#                       num=wave_obj.getnframes())\n",
    "print(len(wave_ts))\n",
    "wave_ts[:10]"
   ]
  },
  {
   "cell_type": "code",
   "execution_count": 19,
   "id": "141ec3f3-6a11-4584-a734-f5047fcd8152",
   "metadata": {
    "execution": {
     "iopub.execute_input": "2023-01-03T06:51:00.064082Z",
     "iopub.status.busy": "2023-01-03T06:51:00.063882Z",
     "iopub.status.idle": "2023-01-03T06:51:00.066121Z",
     "shell.execute_reply": "2023-01-03T06:51:00.065852Z",
     "shell.execute_reply.started": "2023-01-03T06:51:00.064072Z"
    },
    "tags": []
   },
   "outputs": [
    {
     "data": {
      "text/plain": [
       "2.604"
      ]
     },
     "execution_count": 19,
     "metadata": {},
     "output_type": "execute_result"
    }
   ],
   "source": [
    "wave_ts[-1]"
   ]
  },
  {
   "cell_type": "markdown",
   "id": "0e21a55a-e5a0-496d-90cf-13f09deacbb5",
   "metadata": {},
   "source": [
    "## Visualizing sound waves"
   ]
  },
  {
   "cell_type": "markdown",
   "id": "df5904dc-5e96-4d5c-b4ff-3b1f9a817bd7",
   "metadata": {},
   "source": [
    "### Considering actual number of channels"
   ]
  },
  {
   "cell_type": "code",
   "execution_count": 20,
   "id": "62e938ec-0585-4412-aedf-db0e8befa506",
   "metadata": {
    "execution": {
     "iopub.execute_input": "2023-01-03T06:51:00.066577Z",
     "iopub.status.busy": "2023-01-03T06:51:00.066480Z",
     "iopub.status.idle": "2023-01-03T06:51:00.069072Z",
     "shell.execute_reply": "2023-01-03T06:51:00.068773Z",
     "shell.execute_reply.started": "2023-01-03T06:51:00.066567Z"
    },
    "tags": []
   },
   "outputs": [],
   "source": [
    "wave_ts = np.linspace(start=0,\n",
    "                      stop=wave_obj.getnframes() / wave_obj.getframerate(),\n",
    "                      num=wave_obj.getnframes())"
   ]
  },
  {
   "cell_type": "code",
   "execution_count": 21,
   "id": "ce5d40e6-0961-44bb-b270-f5818179826e",
   "metadata": {
    "execution": {
     "iopub.execute_input": "2023-01-03T06:51:00.069559Z",
     "iopub.status.busy": "2023-01-03T06:51:00.069455Z",
     "iopub.status.idle": "2023-01-03T06:51:00.392039Z",
     "shell.execute_reply": "2023-01-03T06:51:00.391713Z",
     "shell.execute_reply.started": "2023-01-03T06:51:00.069550Z"
    },
    "tags": []
   },
   "outputs": [
    {
     "data": {
      "image/png": "[encoded data removed]",
      "text/plain": [
       "<Figure size 640x480 with 1 Axes>"
      ]
     },
     "metadata": {},
     "output_type": "display_data"
    }
   ],
   "source": [
    "import matplotlib.pyplot as plt\n",
    "plt.style.use('dark_background')\n",
    "plt.xlabel(\"Time (seconds)\")\n",
    "plt.ylabel(\"Amplitude\")\n",
    "plt.plot(wave_ts, wave_array[::2], label='left')\n",
    "plt.plot(wave_ts, wave_array[1::2], label='right', alpha=0.5)\n",
    "plt.legend()\n",
    "plt.show()"
   ]
  },
  {
   "cell_type": "markdown",
   "id": "63a064de-214a-447e-a4fc-dc04af26fd00",
   "metadata": {},
   "source": [
    "### Comparing two audios"
   ]
  },
  {
   "cell_type": "code",
   "execution_count": 22,
   "id": "e6531e42-0eb6-45bd-9459-6a27f318e626",
   "metadata": {
    "execution": {
     "iopub.execute_input": "2023-01-03T06:51:00.394229Z",
     "iopub.status.busy": "2023-01-03T06:51:00.394075Z",
     "iopub.status.idle": "2023-01-03T06:51:00.398098Z",
     "shell.execute_reply": "2023-01-03T06:51:00.397716Z",
     "shell.execute_reply.started": "2023-01-03T06:51:00.394217Z"
    },
    "tags": []
   },
   "outputs": [
    {
     "name": "stdout",
     "output_type": "stream",
     "text": [
      "_wave_params(nchannels=2, sampwidth=2, framerate=48000, nframes=124992, comptype='NONE', compname='not compressed')\n",
      "_wave_params(nchannels=2, sampwidth=2, framerate=48000, nframes=166144, comptype='NONE', compname='not compressed')\n"
     ]
    }
   ],
   "source": [
    "gm_wave = wave.open('good-morning.wav', 'r')\n",
    "print(gm_wave.getparams())\n",
    "gm_array = np.frombuffer(gm_wave.readframes(-1),\n",
    "                         dtype=f'int{gm_wave.getsampwidth() * 8}')\n",
    "gm_ts = np.linspace(start=0,\n",
    "                    stop=gm_wave.getnframes() / gm_wave.getframerate(),\n",
    "                    num=gm_wave.getnframes())\n",
    "\n",
    "ga_wave = wave.open('good-afternoon.wav', 'r')\n",
    "print(ga_wave.getparams())\n",
    "ga_array = np.frombuffer(ga_wave.readframes(-1),\n",
    "                         dtype=f'int{ga_wave.getsampwidth() * 8}')\n",
    "ga_ts = np.linspace(start=0,\n",
    "                    stop=ga_wave.getnframes() / ga_wave.getframerate(),\n",
    "                    num=ga_wave.getnframes())"
   ]
  },
  {
   "cell_type": "code",
   "execution_count": 23,
   "id": "d9530762-ebb6-4597-8087-b3e66bac463b",
   "metadata": {
    "execution": {
     "iopub.execute_input": "2023-01-03T06:51:00.398564Z",
     "iopub.status.busy": "2023-01-03T06:51:00.398466Z",
     "iopub.status.idle": "2023-01-03T06:51:00.400767Z",
     "shell.execute_reply": "2023-01-03T06:51:00.400535Z",
     "shell.execute_reply.started": "2023-01-03T06:51:00.398554Z"
    },
    "tags": []
   },
   "outputs": [
    {
     "data": {
      "text/plain": [
       "(166144, 332288)"
      ]
     },
     "execution_count": 23,
     "metadata": {},
     "output_type": "execute_result"
    }
   ],
   "source": [
    "len(ga_ts), len(ga_array)"
   ]
  },
  {
   "cell_type": "code",
   "execution_count": 24,
   "id": "d64ce886-5d5c-47fa-aa21-722f938bc709",
   "metadata": {
    "execution": {
     "iopub.execute_input": "2023-01-03T06:51:00.401330Z",
     "iopub.status.busy": "2023-01-03T06:51:00.401113Z",
     "iopub.status.idle": "2023-01-03T06:51:00.702855Z",
     "shell.execute_reply": "2023-01-03T06:51:00.702586Z",
     "shell.execute_reply.started": "2023-01-03T06:51:00.401320Z"
    },
    "tags": []
   },
   "outputs": [
    {
     "data": {
      "image/png": "[encoded data removed]",
      "text/plain": [
       "<Figure size 1920x540 with 1 Axes>"
      ]
     },
     "metadata": {},
     "output_type": "display_data"
    }
   ],
   "source": [
    "plt.figure(figsize=(19.2, 10.8/2))\n",
    "plt.title(\"Good Afternoon vs. Good Morning\")\n",
    "plt.xlabel(\"Time (seconds)\")\n",
    "plt.ylabel(\"Amplitude\")\n",
    "# Add good morning and good afternoon values\n",
    "plt.plot(ga_ts, ga_array[::2], label =\"Good Afternoon (L)\" )\n",
    "plt.plot(ga_ts, ga_array[1::2], label =\"Good Afternoon (R)\")\n",
    "plt.plot(gm_ts, gm_array[::2], label=\"Good Morning (L)\", alpha=0.5)\n",
    "plt.plot(gm_ts, gm_array[1::2], label=\"Good Morning (R)\", alpha=0.5)\n",
    "# Create a legend and show our plot\n",
    "plt.legend()\n",
    "plt.show()"
   ]
  },
  {
   "cell_type": "markdown",
   "id": "56468d14-a151-4957-83a2-5e4423852bc0",
   "metadata": {},
   "source": [
    "# SpeechRecognition"
   ]
  },
  {
   "cell_type": "markdown",
   "id": "5968078c-a32c-4223-9d18-fa4327f9c497",
   "metadata": {
    "execution": {
     "iopub.execute_input": "2023-01-02T19:54:36.024296Z",
     "iopub.status.busy": "2023-01-02T19:54:36.024164Z",
     "iopub.status.idle": "2023-01-02T19:54:36.027276Z",
     "shell.execute_reply": "2023-01-02T19:54:36.026671Z",
     "shell.execute_reply.started": "2023-01-02T19:54:36.024285Z"
    }
   },
   "source": [
    "Speech recognition engine/API support:\n",
    "\n",
    "* CMU Sphinx (http://cmusphinx.sourceforge.net/wiki/) (works offline)\n",
    "* Google Speech Recognition\n",
    "* Google Cloud Speech API (https://cloud.google.com/speech/)\n",
    "* Wit.ai (https://wit.ai/)\n",
    "* Microsoft Azure Speech (https://azure.microsoft.com/en-us/services/cognitive-services/speech/)\n",
    "* Microsoft Bing Voice Recognition (Deprecated) (https://www.microsoft.com/cognitive-services/en-us/speech-api)\n",
    "* Houndify API (https://houndify.com/)\n",
    "* IBM Speech to Text (http://www.ibm.com/smarterplanet/us/en/ibmwatson/developercloud/speech-to-text.html)\n",
    "* Snowboy Hotword Detection (https://github.com/seasalt-ai/snowboy) (works offline)\n",
    "* Tensorflow (https://www.tensorflow.org/)\n",
    "* Vosk API (https://github.com/alphacep/vosk-api/) (works offline)\n",
    "* OpenAI whisper (https://github.com/openai/whisper) (works offline)"
   ]
  },
  {
   "cell_type": "code",
   "execution_count": 25,
   "id": "505ca7c0-15c3-4b09-94d9-f7eae7ae7f8a",
   "metadata": {
    "execution": {
     "iopub.execute_input": "2023-01-03T06:51:00.703369Z",
     "iopub.status.busy": "2023-01-03T06:51:00.703235Z",
     "iopub.status.idle": "2023-01-03T06:51:00.726087Z",
     "shell.execute_reply": "2023-01-03T06:51:00.725767Z",
     "shell.execute_reply.started": "2023-01-03T06:51:00.703359Z"
    },
    "tags": []
   },
   "outputs": [],
   "source": [
    "import speech_recognition as sr"
   ]
  },
  {
   "cell_type": "code",
   "execution_count": 26,
   "id": "44b13ddc-0a7c-48a8-adcd-598705d1f6fd",
   "metadata": {
    "execution": {
     "iopub.execute_input": "2023-01-03T06:51:00.726571Z",
     "iopub.status.busy": "2023-01-03T06:51:00.726472Z",
     "iopub.status.idle": "2023-01-03T06:51:00.728276Z",
     "shell.execute_reply": "2023-01-03T06:51:00.728033Z",
     "shell.execute_reply.started": "2023-01-03T06:51:00.726562Z"
    },
    "tags": []
   },
   "outputs": [],
   "source": [
    "# Create an instance of Recognizer\n",
    "recognizer = sr.Recognizer()\n",
    "# Set the energy threshold\n",
    "recognizer.energy_threshold = 300"
   ]
  },
  {
   "cell_type": "markdown",
   "id": "39207786-ad8d-41e4-851a-d614f6e41fc0",
   "metadata": {},
   "source": [
    "The energy threshold can be thought of as the loudness of audio which is considered speech.  \n",
    "Values below the threshold are considered silence, values above are considered speech.  \n",
    "A silent room is typically between 0 and 100.  \n",
    "SpeechRecognition's documentation recommends 300 as a starting value which covers most speech files.  \n",
    "The energy threshold value will adjust automatically as the recognizer listens to an audio file. "
   ]
  },
  {
   "cell_type": "code",
   "execution_count": 27,
   "id": "659716e4-8177-4e8a-b77c-676a153db202",
   "metadata": {
    "execution": {
     "iopub.execute_input": "2023-01-03T06:51:00.728775Z",
     "iopub.status.busy": "2023-01-03T06:51:00.728622Z",
     "iopub.status.idle": "2023-01-03T06:51:00.732038Z",
     "shell.execute_reply": "2023-01-03T06:51:00.731734Z",
     "shell.execute_reply.started": "2023-01-03T06:51:00.728765Z"
    },
    "tags": []
   },
   "outputs": [
    {
     "data": {
      "text/plain": [
       "<speech_recognition.AudioData at 0x7f8a0016f6d0>"
      ]
     },
     "execution_count": 27,
     "metadata": {},
     "output_type": "execute_result"
    }
   ],
   "source": [
    "with sr.AudioFile('clean-support-call.wav') as audio_file:\n",
    "    audio_data = recognizer.record(audio_file) #duration=None, offset=None\n",
    "audio_data"
   ]
  },
  {
   "cell_type": "code",
   "execution_count": 28,
   "id": "b4858e61-1d58-450b-8860-4f3bfb101475",
   "metadata": {
    "execution": {
     "iopub.execute_input": "2023-01-03T06:51:00.732526Z",
     "iopub.status.busy": "2023-01-03T06:51:00.732396Z",
     "iopub.status.idle": "2023-01-03T06:51:01.878410Z",
     "shell.execute_reply": "2023-01-03T06:51:01.877953Z",
     "shell.execute_reply.started": "2023-01-03T06:51:00.732516Z"
    },
    "tags": []
   },
   "outputs": [
    {
     "name": "stdout",
     "output_type": "stream",
     "text": [
      "result2:\n",
      "{   'alternative': [   {   'confidence': 0.987629,\n",
      "                           'transcript': \"hello I'd like to get some help \"\n",
      "                                         'setting up my account please'}],\n",
      "    'final': True}\n"
     ]
    },
    {
     "data": {
      "text/plain": [
       "\"hello I'd like to get some help setting up my account please\""
      ]
     },
     "execution_count": 28,
     "metadata": {},
     "output_type": "execute_result"
    }
   ],
   "source": [
    "recognizer.recognize_google(audio_data=audio_data,\n",
    "                            language=\"en-US\")"
   ]
  },
  {
   "cell_type": "code",
   "execution_count": 29,
   "id": "947964c2-34c7-4a0a-807e-e53e02744a72",
   "metadata": {
    "execution": {
     "iopub.execute_input": "2023-01-03T06:51:01.878983Z",
     "iopub.status.busy": "2023-01-03T06:51:01.878880Z",
     "iopub.status.idle": "2023-01-03T06:51:04.837969Z",
     "shell.execute_reply": "2023-01-03T06:51:04.837503Z",
     "shell.execute_reply.started": "2023-01-03T06:51:01.878973Z"
    }
   },
   "outputs": [
    {
     "name": "stdout",
     "output_type": "stream",
     "text": [
      "result2:\n",
      "{   'alternative': [   {   'confidence': 0.86179978,\n",
      "                           'transcript': 'this ODI fall has 30 seconds of '\n",
      "                                         'nothing at the end of it'},\n",
      "                       {   'transcript': 'this audio fall has 30 seconds of '\n",
      "                                         'nothing at the end of it'},\n",
      "                       {   'transcript': 'this audiophile has 30 seconds of '\n",
      "                                         'nothing at the end of it'},\n",
      "                       {   'transcript': 'this ODI fall has thirty seconds of '\n",
      "                                         'nothing at the end of it'},\n",
      "                       {   'transcript': 'disorder I fall has 30 seconds of '\n",
      "                                         'nothing at the end of it'}],\n",
      "    'final': True}\n"
     ]
    },
    {
     "data": {
      "text/plain": [
       "'this ODI fall has 30 seconds of nothing at the end of it'"
      ]
     },
     "execution_count": 29,
     "metadata": {},
     "output_type": "execute_result"
    }
   ],
   "source": [
    "with sr.AudioFile('30-seconds-of-nothing-16k.wav') as audio_file:\n",
    "    audio_data = recognizer.record(audio_file)\n",
    "recognizer.recognize_google(audio_data=audio_data, language=\"en-US\")"
   ]
  },
  {
   "cell_type": "code",
   "execution_count": 30,
   "id": "b2a37342-ce16-421e-881e-2edc9af2c319",
   "metadata": {
    "execution": {
     "iopub.execute_input": "2023-01-03T06:51:04.838547Z",
     "iopub.status.busy": "2023-01-03T06:51:04.838426Z",
     "iopub.status.idle": "2023-01-03T06:51:06.700845Z",
     "shell.execute_reply": "2023-01-03T06:51:06.700546Z",
     "shell.execute_reply.started": "2023-01-03T06:51:04.838536Z"
    },
    "tags": []
   },
   "outputs": [
    {
     "name": "stdout",
     "output_type": "stream",
     "text": [
      "result2:\n",
      "{   'alternative': [   {   'confidence': 0.94135684,\n",
      "                           'transcript': \"hello I'd like to get some help with \"\n",
      "                                         \"my device please I think it's out of \"\n",
      "                                         'warranty I bought it about 2 years '\n",
      "                                         'ago'},\n",
      "                       {   'transcript': \"hello I'd like to get some help with \"\n",
      "                                         \"my device please I think it's out of \"\n",
      "                                         'warranty I bought it about two years '\n",
      "                                         'ago'},\n",
      "                       {   'transcript': \"hello I'd like to get some help with \"\n",
      "                                         \"my device please I think it's \"\n",
      "                                         'out-of-warranty I bought it about 2 '\n",
      "                                         'years ago'},\n",
      "                       {   'transcript': \"hello I'd like to get some help with \"\n",
      "                                         \"my device please I think it's \"\n",
      "                                         'out-of-warranty I bought it about '\n",
      "                                         'two years ago'}],\n",
      "    'final': True}\n"
     ]
    },
    {
     "data": {
      "text/plain": [
       "\"hello I'd like to get some help with my device please I think it's out of warranty I bought it about 2 years ago\""
      ]
     },
     "execution_count": 30,
     "metadata": {},
     "output_type": "execute_result"
    }
   ],
   "source": [
    "with sr.AudioFile('static-out-of-warranty.wav') as audio_file:\n",
    "    audio_data = recognizer.record(audio_file)\n",
    "recognizer.recognize_google(audio_data=audio_data, language=\"en-US\")"
   ]
  },
  {
   "cell_type": "markdown",
   "id": "f3ac133b-563e-4f1d-8575-99a4ccfa24be",
   "metadata": {},
   "source": [
    "## Noisy audio\n",
    "If you have trouble hearing the speech, so will the APIs.  \n",
    "The SpeechRecognition documentation recommends somewhere between zero point five to one second as a good starting point."
   ]
  },
  {
   "cell_type": "markdown",
   "id": "8385f8ac-e21a-4fb5-9fa9-a5e446704c03",
   "metadata": {
    "execution": {
     "iopub.execute_input": "2023-01-02T20:52:15.588174Z",
     "iopub.status.busy": "2023-01-02T20:52:15.588033Z",
     "iopub.status.idle": "2023-01-02T20:52:15.648117Z",
     "shell.execute_reply": "2023-01-02T20:52:15.647612Z",
     "shell.execute_reply.started": "2023-01-02T20:52:15.588160Z"
    }
   },
   "source": [
    "Import audio file with background nosie\n",
    "```\n",
    "noisy_support_call = sr.AudioFile(noisy_support_call.wav)\n",
    "with noisy_support_call as source:\n",
    "    # Adjust for ambient noise and record\n",
    "    recognizer.adjust_for_ambient_noise(source, duration=0.5)\n",
    "    noisy_support_call_audio = recognizer.record(source)\n",
    "```"
   ]
  },
  {
   "cell_type": "markdown",
   "id": "4da08bd9-7444-4a4a-b465-e3a6a2e84140",
   "metadata": {
    "execution": {
     "iopub.execute_input": "2023-01-02T20:53:05.149112Z",
     "iopub.status.busy": "2023-01-02T20:53:05.148979Z",
     "iopub.status.idle": "2023-01-02T20:53:05.151745Z",
     "shell.execute_reply": "2023-01-02T20:53:05.151418Z",
     "shell.execute_reply.started": "2023-01-02T20:53:05.149101Z"
    },
    "tags": []
   },
   "source": [
    "Recognize the audio\n",
    "```\n",
    "recognizer.recognize_google(noisy_support_call_audio)\n",
    "```"
   ]
  },
  {
   "cell_type": "code",
   "execution_count": 31,
   "id": "c1541f91-24e9-402f-a5ce-7e8473aa5d79",
   "metadata": {
    "execution": {
     "iopub.execute_input": "2023-01-03T06:51:06.701390Z",
     "iopub.status.busy": "2023-01-03T06:51:06.701286Z",
     "iopub.status.idle": "2023-01-03T06:51:07.563624Z",
     "shell.execute_reply": "2023-01-03T06:51:07.563324Z",
     "shell.execute_reply.started": "2023-01-03T06:51:06.701379Z"
    },
    "tags": []
   },
   "outputs": [
    {
     "name": "stdout",
     "output_type": "stream",
     "text": [
      "result2:\n",
      "{   'alternative': [   {   'confidence': 0.98762906,\n",
      "                           'transcript': 'ohayo gozaimasu'}],\n",
      "    'final': True}\n"
     ]
    },
    {
     "data": {
      "text/plain": [
       "'ohayo gozaimasu'"
      ]
     },
     "execution_count": 31,
     "metadata": {},
     "output_type": "execute_result"
    }
   ],
   "source": [
    "with sr.AudioFile('good-morning-japanense.wav') as audio_file:\n",
    "    audio_data = recognizer.record(audio_file)\n",
    "recognizer.recognize_google(audio_data=audio_data, language=\"en-US\")"
   ]
  },
  {
   "cell_type": "code",
   "execution_count": 32,
   "id": "ad569520-7ff9-4360-adbb-d85d46206152",
   "metadata": {
    "execution": {
     "iopub.execute_input": "2023-01-03T06:51:07.564209Z",
     "iopub.status.busy": "2023-01-03T06:51:07.564098Z",
     "iopub.status.idle": "2023-01-03T06:51:08.418528Z",
     "shell.execute_reply": "2023-01-03T06:51:08.418087Z",
     "shell.execute_reply.started": "2023-01-03T06:51:07.564199Z"
    },
    "tags": []
   },
   "outputs": [
    {
     "name": "stdout",
     "output_type": "stream",
     "text": [
      "result2:\n",
      "{   'alternative': [   {'confidence': 0.91118836, 'transcript': 'おはようございます'},\n",
      "                       {'transcript': 'あおはようございます'},\n",
      "                       {'transcript': 'おはようございまーす'},\n",
      "                       {'transcript': 'あおはようございまーす'}],\n",
      "    'final': True}\n"
     ]
    },
    {
     "data": {
      "text/plain": [
       "'おはようございます'"
      ]
     },
     "execution_count": 32,
     "metadata": {},
     "output_type": "execute_result"
    }
   ],
   "source": [
    "with sr.AudioFile('good-morning-japanense.wav') as audio_file:\n",
    "    audio_data = recognizer.record(audio_file)\n",
    "recognizer.recognize_google(audio_data=audio_data, language=\"ja\")"
   ]
  },
  {
   "cell_type": "code",
   "execution_count": 33,
   "id": "6fdba5e7-4b26-4851-bd02-763cbfafcb42",
   "metadata": {
    "execution": {
     "iopub.execute_input": "2023-01-03T06:51:08.419098Z",
     "iopub.status.busy": "2023-01-03T06:51:08.418994Z",
     "iopub.status.idle": "2023-01-03T06:51:09.139749Z",
     "shell.execute_reply": "2023-01-03T06:51:09.139346Z",
     "shell.execute_reply.started": "2023-01-03T06:51:08.419088Z"
    },
    "tags": []
   },
   "outputs": [
    {
     "name": "stdout",
     "output_type": "stream",
     "text": [
      "result2:\n",
      "[]\n",
      "\n",
      "\tERROR err=UnknownValueError(), type(err)=<class 'speech_recognition.UnknownValueError'>\n",
      "\n"
     ]
    }
   ],
   "source": [
    "with sr.AudioFile('leopard.wav') as audio_file:\n",
    "    audio_data = recognizer.record(audio_file)\n",
    "try:\n",
    "    print(recognizer.recognize_google(audio_data=audio_data, language=\"en-US\"))\n",
    "except Exception as err:\n",
    "    print(f\"\\n\\tERROR {err=}, {type(err)=}\\n\")\n"
   ]
  },
  {
   "cell_type": "code",
   "execution_count": 34,
   "id": "c367adb0-66bf-4054-a3d5-bf9c7d3f8a6c",
   "metadata": {
    "execution": {
     "iopub.execute_input": "2023-01-03T06:51:09.140308Z",
     "iopub.status.busy": "2023-01-03T06:51:09.140201Z",
     "iopub.status.idle": "2023-01-03T06:51:09.852702Z",
     "shell.execute_reply": "2023-01-03T06:51:09.852310Z",
     "shell.execute_reply.started": "2023-01-03T06:51:09.140298Z"
    },
    "tags": []
   },
   "outputs": [
    {
     "name": "stdout",
     "output_type": "stream",
     "text": [
      "[]\n"
     ]
    }
   ],
   "source": [
    "with sr.AudioFile('leopard.wav') as audio_file:\n",
    "    audio_data = recognizer.record(audio_file)\n",
    "try:\n",
    "    print(recognizer.recognize_google(audio_data=audio_data, language=\"en-US\", show_all=True))\n",
    "except Exception as err:\n",
    "    print(f\"\\n\\tERROR {err=}, {type(err)=}\\n\")\n"
   ]
  },
  {
   "cell_type": "code",
   "execution_count": 35,
   "id": "cc02e1a8-ed8c-4b0b-83f9-d8e45a195904",
   "metadata": {
    "execution": {
     "iopub.execute_input": "2023-01-03T06:51:09.853291Z",
     "iopub.status.busy": "2023-01-03T06:51:09.853182Z",
     "iopub.status.idle": "2023-01-03T06:51:11.853868Z",
     "shell.execute_reply": "2023-01-03T06:51:11.853454Z",
     "shell.execute_reply.started": "2023-01-03T06:51:09.853280Z"
    },
    "tags": []
   },
   "outputs": [
    {
     "name": "stdout",
     "output_type": "stream",
     "text": [
      "result2:\n",
      "{   'alternative': [   {   'confidence': 0.34499702,\n",
      "                           'transcript': 'charlie bit me'},\n",
      "                       {'transcript': 'Charlie Batman'},\n",
      "                       {'transcript': 'Batman'},\n",
      "                       {'transcript': 'surely Batman'},\n",
      "                       {'transcript': 'Jolly Batman'}],\n",
      "    'final': True}\n",
      "charlie bit me\n"
     ]
    }
   ],
   "source": [
    "with sr.AudioFile('charlie-bit-me-5.wav') as audio_file:\n",
    "    audio_data = recognizer.record(audio_file)\n",
    "try:\n",
    "    print(recognizer.recognize_google(audio_data=audio_data, language=\"en-US\"))\n",
    "except Exception as err:\n",
    "    print(f\"\\n\\tERROR {err=}, {type(err)=}\\n\")"
   ]
  },
  {
   "cell_type": "code",
   "execution_count": 36,
   "id": "09ff0028-ab8e-47bf-93a8-1437264b5555",
   "metadata": {
    "execution": {
     "iopub.execute_input": "2023-01-03T06:51:11.854456Z",
     "iopub.status.busy": "2023-01-03T06:51:11.854345Z",
     "iopub.status.idle": "2023-01-03T06:51:12.952478Z",
     "shell.execute_reply": "2023-01-03T06:51:12.952188Z",
     "shell.execute_reply.started": "2023-01-03T06:51:11.854445Z"
    }
   },
   "outputs": [
    {
     "name": "stdout",
     "output_type": "stream",
     "text": [
      "result2:\n",
      "{   'alternative': [   {   'confidence': 0.987629,\n",
      "                           'transcript': \"hello I'd like to get some help \"\n",
      "                                         'setting up my account please'}],\n",
      "    'final': True}\n"
     ]
    },
    {
     "data": {
      "text/plain": [
       "\"hello I'd like to get some help setting up my account please\""
      ]
     },
     "execution_count": 36,
     "metadata": {},
     "output_type": "execute_result"
    }
   ],
   "source": [
    "with sr.AudioFile('clean-support-call.wav') as source:\n",
    "      clean_support_call_audio = recognizer.record(source)\n",
    "recognizer.recognize_google(clean_support_call_audio, language=\"en-US\")"
   ]
  },
  {
   "cell_type": "code",
   "execution_count": 37,
   "id": "9044df3c-a1b9-4c22-9fe6-41b653f9c07a",
   "metadata": {
    "execution": {
     "iopub.execute_input": "2023-01-03T06:51:12.953009Z",
     "iopub.status.busy": "2023-01-03T06:51:12.952905Z",
     "iopub.status.idle": "2023-01-03T06:51:14.617822Z",
     "shell.execute_reply": "2023-01-03T06:51:14.617459Z",
     "shell.execute_reply.started": "2023-01-03T06:51:12.952999Z"
    },
    "tags": []
   },
   "outputs": [
    {
     "data": {
      "text/plain": [
       "{'alternative': [{'transcript': \"hello I'd like to get to help setting up my account\",\n",
       "   'confidence': 0.94848436},\n",
       "  {'transcript': \"hello I'd like to get to help finding out my account\"},\n",
       "  {'transcript': \"hello I'd like to get to help setting up my calendar\"},\n",
       "  {'transcript': \"hello I'd like to get to help sending out my account\"},\n",
       "  {'transcript': \"hello I'd like to get to help setting up my account.\"}],\n",
       " 'final': True}"
      ]
     },
     "execution_count": 37,
     "metadata": {},
     "output_type": "execute_result"
    }
   ],
   "source": [
    "with sr.AudioFile('noisy-support-call.wav') as source:\n",
    "    noisy_support_call_audio = recognizer.record(source)\n",
    "recognizer.recognize_google(noisy_support_call_audio, language=\"en-US\", show_all=True)"
   ]
  },
  {
   "cell_type": "code",
   "execution_count": 38,
   "id": "3d77cd51-f968-413b-be87-7706b8bfc18e",
   "metadata": {
    "execution": {
     "iopub.execute_input": "2023-01-03T06:51:14.618374Z",
     "iopub.status.busy": "2023-01-03T06:51:14.618268Z",
     "iopub.status.idle": "2023-01-03T06:51:16.162174Z",
     "shell.execute_reply": "2023-01-03T06:51:16.161730Z",
     "shell.execute_reply.started": "2023-01-03T06:51:14.618364Z"
    },
    "tags": []
   },
   "outputs": [
    {
     "data": {
      "text/plain": [
       "{'alternative': [{'transcript': \"I'd like to get to help setting up my account\",\n",
       "   'confidence': 0.87756622},\n",
       "  {'transcript': \"I'd like to get to help setting up my calendar\"},\n",
       "  {'transcript': \"I'd like to get to help setting up my Kelly\"},\n",
       "  {'transcript': 'I like to get to help setting up my account'},\n",
       "  {'transcript': \"I'd like to get to help setting up my account.\"}],\n",
       " 'final': True}"
      ]
     },
     "execution_count": 38,
     "metadata": {},
     "output_type": "execute_result"
    }
   ],
   "source": [
    "with sr.AudioFile('noisy-support-call.wav') as source:\n",
    "\t# Adjust the recognizer energy threshold for ambient noise\n",
    "    recognizer.adjust_for_ambient_noise(source, duration=1)\n",
    "    noisy_support_call_audio = recognizer.record(source)\n",
    "recognizer.recognize_google(noisy_support_call_audio, language=\"en-US\", show_all=True)"
   ]
  },
  {
   "cell_type": "code",
   "execution_count": 39,
   "id": "1811a8de-3f81-44cc-93eb-cf920a073fbf",
   "metadata": {
    "execution": {
     "iopub.execute_input": "2023-01-03T06:51:16.162746Z",
     "iopub.status.busy": "2023-01-03T06:51:16.162640Z",
     "iopub.status.idle": "2023-01-03T06:51:17.951566Z",
     "shell.execute_reply": "2023-01-03T06:51:17.951210Z",
     "shell.execute_reply.started": "2023-01-03T06:51:16.162736Z"
    },
    "tags": []
   },
   "outputs": [
    {
     "data": {
      "text/plain": [
       "{'alternative': [{'transcript': \"hello I'd like to get to help setting up my account\",\n",
       "   'confidence': 0.93192369},\n",
       "  {'transcript': \"hello I'd like to get to help setting up my calendar\"},\n",
       "  {'transcript': \"hello I'd like to get to help setting up my Kelly\"},\n",
       "  {'transcript': \"hello I'd like to get to help setting up my account.\"},\n",
       "  {'transcript': \"hello I'd like to get to help setting up my account please\"}],\n",
       " 'final': True}"
      ]
     },
     "execution_count": 39,
     "metadata": {},
     "output_type": "execute_result"
    }
   ],
   "source": [
    "with sr.AudioFile('noisy-support-call.wav') as source:\n",
    "\t# Adjust the recognizer energy threshold for ambient noise\n",
    "    recognizer.adjust_for_ambient_noise(source, duration=0.5)\n",
    "    noisy_support_call_audio = recognizer.record(source)\n",
    "recognizer.recognize_google(noisy_support_call_audio, language=\"en-US\", show_all=True)"
   ]
  },
  {
   "cell_type": "markdown",
   "id": "60fec312-5d14-4be7-b5e7-d57561cc0e7b",
   "metadata": {},
   "source": [
    "## Multiple speakers"
   ]
  },
  {
   "cell_type": "code",
   "execution_count": 40,
   "id": "f9c6e16e-f182-48f0-a18e-60ea128f15d0",
   "metadata": {
    "execution": {
     "iopub.execute_input": "2023-01-03T06:51:17.952138Z",
     "iopub.status.busy": "2023-01-03T06:51:17.952031Z",
     "iopub.status.idle": "2023-01-03T06:51:19.634304Z",
     "shell.execute_reply": "2023-01-03T06:51:19.633851Z",
     "shell.execute_reply.started": "2023-01-03T06:51:17.952128Z"
    },
    "tags": []
   },
   "outputs": [
    {
     "name": "stdout",
     "output_type": "stream",
     "text": [
      "result2:\n",
      "{   'alternative': [   {   'confidence': 0.75548744,\n",
      "                           'transcript': \"is that it doesn't recognize \"\n",
      "                                         'different speakers invoices it will '\n",
      "                                         'just return it all as one block of '\n",
      "                                         'text'},\n",
      "                       {   'transcript': \"is that it doesn't recognize \"\n",
      "                                         'different speakers invoices it will '\n",
      "                                         'just return it all as one block a '\n",
      "                                         'text'},\n",
      "                       {   'transcript': \"Lottery is that it doesn't recognize \"\n",
      "                                         'different speakers invoices it will '\n",
      "                                         'just return it all as one block of '\n",
      "                                         'text'},\n",
      "                       {   'transcript': \"why is that it doesn't recognize \"\n",
      "                                         'different speakers invoices it will '\n",
      "                                         'just return it all as one block of '\n",
      "                                         'text'},\n",
      "                       {   'transcript': \"is that it doesn't recognize \"\n",
      "                                         'different speakers and voices it '\n",
      "                                         'will just return it all as one block '\n",
      "                                         'of text'}],\n",
      "    'final': True}\n",
      "is that it doesn't recognize different speakers invoices it will just return it all as one block of text\n"
     ]
    }
   ],
   "source": [
    "with sr.AudioFile('multiple-speakers-16k.wav') as audio_file:\n",
    "    audio_data = recognizer.record(audio_file)\n",
    "try:\n",
    "    print(recognizer.recognize_google(audio_data=audio_data, language=\"en-US\"))\n",
    "except Exception as err:\n",
    "    print(f\"\\n\\tERROR {err=}, {type(err)=}\\n\")"
   ]
  },
  {
   "cell_type": "markdown",
   "id": "7b825e4e-6d0f-43bd-be68-f90bf466c1c2",
   "metadata": {},
   "source": [
    "```\n",
    "recognizer = sr.Recognizer()\n",
    "\n",
    "# Multiple speakers on different files\n",
    "speakers = [sr.AudioFile(\"speaker_0.wav\"), \n",
    "            sr.AudioFile(\"speaker_1.wav\"), \n",
    "            sr.AudioFile(\"speaker_2.wav\")]\n",
    "\n",
    "# Transcribe each speaker individually\n",
    "for i, speaker in enumerate(speakers):\n",
    "    with speaker as source:\n",
    "        speaker_audio = recognizer.record(source)\n",
    "    print(f\"Text from speaker {i}:\")\n",
    "    print(recognizer.recognize_google(speaker_audio,\n",
    "         \t\t\t\t  language=\"en-US\"))\n",
    "```"
   ]
  },
  {
   "cell_type": "markdown",
   "id": "51fe30c2-779b-4199-97a0-165ac10e8ece",
   "metadata": {
    "jp-MarkdownHeadingCollapsed": true,
    "tags": []
   },
   "source": [
    "# Manipulating Audio Files with PyDub"
   ]
  },
  {
   "cell_type": "markdown",
   "id": "84f0b3ed-e651-403f-8fb8-2e9f8c25eea8",
   "metadata": {
    "jp-MarkdownHeadingCollapsed": true
   },
   "source": [
    "## PyDub's main class, AudioSegment"
   ]
  },
  {
   "cell_type": "code",
   "execution_count": 41,
   "id": "4d633681-57bf-4d45-9b92-9a5fb0d45dc0",
   "metadata": {
    "execution": {
     "iopub.execute_input": "2023-01-03T06:51:19.634865Z",
     "iopub.status.busy": "2023-01-03T06:51:19.634757Z",
     "iopub.status.idle": "2023-01-03T06:51:19.638550Z",
     "shell.execute_reply": "2023-01-03T06:51:19.638152Z",
     "shell.execute_reply.started": "2023-01-03T06:51:19.634855Z"
    },
    "tags": []
   },
   "outputs": [],
   "source": [
    "# Import PyDub main class\n",
    "from pydub import AudioSegment"
   ]
  },
  {
   "cell_type": "code",
   "execution_count": 42,
   "id": "1cca38b6-08e7-48e4-adf7-0796d6e07193",
   "metadata": {
    "execution": {
     "iopub.execute_input": "2023-01-03T06:51:19.639136Z",
     "iopub.status.busy": "2023-01-03T06:51:19.638968Z",
     "iopub.status.idle": "2023-01-03T06:51:19.641735Z",
     "shell.execute_reply": "2023-01-03T06:51:19.641463Z",
     "shell.execute_reply.started": "2023-01-03T06:51:19.639126Z"
    },
    "tags": []
   },
   "outputs": [
    {
     "data": {
      "text/plain": [
       "pydub.audio_segment.AudioSegment"
      ]
     },
     "execution_count": 42,
     "metadata": {},
     "output_type": "execute_result"
    }
   ],
   "source": [
    "# Format parameter only for readability\n",
    "wav_file = AudioSegment.from_file(file=\"wav_file.wav\")\n",
    "type(wav_file)"
   ]
  },
  {
   "cell_type": "code",
   "execution_count": 43,
   "id": "9f078dbd-2a6b-4ca7-a234-0729770d0f17",
   "metadata": {
    "execution": {
     "iopub.execute_input": "2023-01-03T06:51:19.642204Z",
     "iopub.status.busy": "2023-01-03T06:51:19.642105Z",
     "iopub.status.idle": "2023-01-03T06:51:19.644157Z",
     "shell.execute_reply": "2023-01-03T06:51:19.643786Z",
     "shell.execute_reply.started": "2023-01-03T06:51:19.642194Z"
    },
    "tags": []
   },
   "outputs": [],
   "source": [
    "# Import play function\n",
    "from pydub.playback import play"
   ]
  },
  {
   "cell_type": "code",
   "execution_count": 44,
   "id": "51612eb1-76a8-4c27-8701-acdc6b46d4c9",
   "metadata": {
    "execution": {
     "iopub.execute_input": "2023-01-03T06:51:19.644821Z",
     "iopub.status.busy": "2023-01-03T06:51:19.644699Z",
     "iopub.status.idle": "2023-01-03T06:51:23.225969Z",
     "shell.execute_reply": "2023-01-03T06:51:23.225569Z",
     "shell.execute_reply.started": "2023-01-03T06:51:19.644810Z"
    },
    "tags": []
   },
   "outputs": [
    {
     "name": "stderr",
     "output_type": "stream",
     "text": [
      "Input #0, wav, from '/tmp/tmpcj91zv2f.wav':   0KB sq=    0B f=0/0   \n",
      "  Duration: 00:00:03.28, bitrate: 1536 kb/s\n",
      "  Stream #0:0: Audio: pcm_s16le ([1][0][0][0] / 0x0001), 48000 Hz, 2 channels, s16, 1536 kb/s\n",
      "   3.17 M-A:  0.000 fd=   0 aq=    0KB vq=    0KB sq=    0B f=0/0   \r"
     ]
    },
    {
     "name": "stdout",
     "output_type": "stream",
     "text": [
      "\n"
     ]
    },
    {
     "name": "stderr",
     "output_type": "stream",
     "text": [
      "   3.20 M-A:  0.000 fd=   0 aq=    0KB vq=    0KB sq=    0B f=0/0   \r"
     ]
    }
   ],
   "source": [
    "# Play audio file\n",
    "play(wav_file)"
   ]
  },
  {
   "cell_type": "code",
   "execution_count": 45,
   "id": "eed8b89b-f60c-4502-8176-912df2b95a69",
   "metadata": {
    "execution": {
     "iopub.execute_input": "2023-01-03T06:51:23.226586Z",
     "iopub.status.busy": "2023-01-03T06:51:23.226452Z",
     "iopub.status.idle": "2023-01-03T06:51:23.229246Z",
     "shell.execute_reply": "2023-01-03T06:51:23.228904Z",
     "shell.execute_reply.started": "2023-01-03T06:51:23.226575Z"
    },
    "tags": []
   },
   "outputs": [
    {
     "data": {
      "text/plain": [
       "48000"
      ]
     },
     "execution_count": 45,
     "metadata": {},
     "output_type": "execute_result"
    }
   ],
   "source": [
    "wav_file.frame_rate"
   ]
  },
  {
   "cell_type": "code",
   "execution_count": 46,
   "id": "9bc1674e-b59c-48eb-839a-47b86c332247",
   "metadata": {
    "execution": {
     "iopub.execute_input": "2023-01-03T06:51:23.229757Z",
     "iopub.status.busy": "2023-01-03T06:51:23.229657Z",
     "iopub.status.idle": "2023-01-03T06:51:23.231858Z",
     "shell.execute_reply": "2023-01-03T06:51:23.231612Z",
     "shell.execute_reply.started": "2023-01-03T06:51:23.229748Z"
    },
    "tags": []
   },
   "outputs": [
    {
     "data": {
      "text/plain": [
       "2"
      ]
     },
     "execution_count": 46,
     "metadata": {},
     "output_type": "execute_result"
    }
   ],
   "source": [
    "wav_file.channels"
   ]
  },
  {
   "cell_type": "code",
   "execution_count": 47,
   "id": "de9a74b7-460d-451b-a357-11fb341b0b86",
   "metadata": {
    "execution": {
     "iopub.execute_input": "2023-01-03T06:51:23.232304Z",
     "iopub.status.busy": "2023-01-03T06:51:23.232206Z",
     "iopub.status.idle": "2023-01-03T06:51:23.234419Z",
     "shell.execute_reply": "2023-01-03T06:51:23.234173Z",
     "shell.execute_reply.started": "2023-01-03T06:51:23.232295Z"
    },
    "tags": []
   },
   "outputs": [
    {
     "data": {
      "text/plain": [
       "2"
      ]
     },
     "execution_count": 47,
     "metadata": {},
     "output_type": "execute_result"
    }
   ],
   "source": [
    "wav_file.sample_width"
   ]
  },
  {
   "cell_type": "markdown",
   "id": "09b760f8-db40-4653-8b63-b0c34c4e60c7",
   "metadata": {
    "execution": {
     "iopub.execute_input": "2023-01-02T22:12:54.113433Z",
     "iopub.status.busy": "2023-01-02T22:12:54.113294Z",
     "iopub.status.idle": "2023-01-02T22:12:54.116162Z",
     "shell.execute_reply": "2023-01-02T22:12:54.115883Z",
     "shell.execute_reply.started": "2023-01-02T22:12:54.113422Z"
    },
    "tags": []
   },
   "source": [
    "Max amplitude tell you the max amplitude of your audio file, which can be considered loudness and is useful for normalizing sound levels."
   ]
  },
  {
   "cell_type": "code",
   "execution_count": 48,
   "id": "40cd2911-f18e-4c60-93a4-30fe39884137",
   "metadata": {
    "execution": {
     "iopub.execute_input": "2023-01-03T06:51:23.234877Z",
     "iopub.status.busy": "2023-01-03T06:51:23.234777Z",
     "iopub.status.idle": "2023-01-03T06:51:23.237010Z",
     "shell.execute_reply": "2023-01-03T06:51:23.236787Z",
     "shell.execute_reply.started": "2023-01-03T06:51:23.234867Z"
    },
    "tags": []
   },
   "outputs": [
    {
     "data": {
      "text/plain": [
       "8484"
      ]
     },
     "execution_count": 48,
     "metadata": {},
     "output_type": "execute_result"
    }
   ],
   "source": [
    "wav_file.max"
   ]
  },
  {
   "cell_type": "code",
   "execution_count": 49,
   "id": "949e8733-ab1c-4e52-93c3-88478d2bb55a",
   "metadata": {
    "execution": {
     "iopub.execute_input": "2023-01-03T06:51:23.237442Z",
     "iopub.status.busy": "2023-01-03T06:51:23.237347Z",
     "iopub.status.idle": "2023-01-03T06:51:23.239328Z",
     "shell.execute_reply": "2023-01-03T06:51:23.239113Z",
     "shell.execute_reply.started": "2023-01-03T06:51:23.237433Z"
    },
    "tags": []
   },
   "outputs": [
    {
     "data": {
      "text/plain": [
       "3284"
      ]
     },
     "execution_count": 49,
     "metadata": {},
     "output_type": "execute_result"
    }
   ],
   "source": [
    "# Duration of audio file in milliseconds\n",
    "len(wav_file)"
   ]
  },
  {
   "cell_type": "markdown",
   "id": "3d79f052-cb12-4b02-be97-0859a8090631",
   "metadata": {},
   "source": [
    "## Changing audio parameters"
   ]
  },
  {
   "cell_type": "markdown",
   "id": "a8e5e04e-b7f0-4af9-bc78-7d68f6336ff4",
   "metadata": {},
   "source": [
    "A rule of thumb is the higher the values, excluding channels, the better. You should aim for a minimum of 16,000 Hertz as the frame rate and to have your audio files in wav format. We'll see how to convert audio files using PyDub in a later lesson. "
   ]
  },
  {
   "cell_type": "code",
   "execution_count": 50,
   "id": "fee0a128-6849-486c-8e35-cdf653f85fc1",
   "metadata": {
    "execution": {
     "iopub.execute_input": "2023-01-03T06:51:23.239753Z",
     "iopub.status.busy": "2023-01-03T06:51:23.239662Z",
     "iopub.status.idle": "2023-01-03T06:51:23.242096Z",
     "shell.execute_reply": "2023-01-03T06:51:23.241856Z",
     "shell.execute_reply.started": "2023-01-03T06:51:23.239745Z"
    },
    "tags": []
   },
   "outputs": [
    {
     "data": {
      "text/plain": [
       "1"
      ]
     },
     "execution_count": 50,
     "metadata": {},
     "output_type": "execute_result"
    }
   ],
   "source": [
    "# Change sample width to 1\n",
    "wav_file_width_1 = wav_file.set_sample_width(1)\n",
    "wav_file_width_1.sample_width"
   ]
  },
  {
   "cell_type": "code",
   "execution_count": 51,
   "id": "9402ce95-d8fb-4fdd-ab72-0a03a45c933c",
   "metadata": {
    "execution": {
     "iopub.execute_input": "2023-01-03T06:51:23.242556Z",
     "iopub.status.busy": "2023-01-03T06:51:23.242456Z",
     "iopub.status.idle": "2023-01-03T06:51:23.246416Z",
     "shell.execute_reply": "2023-01-03T06:51:23.246187Z",
     "shell.execute_reply.started": "2023-01-03T06:51:23.242547Z"
    },
    "tags": []
   },
   "outputs": [
    {
     "data": {
      "text/plain": [
       "16000"
      ]
     },
     "execution_count": 51,
     "metadata": {},
     "output_type": "execute_result"
    }
   ],
   "source": [
    "# Change sample rate\n",
    "wav_file_16k = wav_file.set_frame_rate(16000)\n",
    "wav_file_16k.frame_rate"
   ]
  },
  {
   "cell_type": "code",
   "execution_count": 52,
   "id": "87afe978-9aa9-4797-9071-0e86ea1e455d",
   "metadata": {
    "execution": {
     "iopub.execute_input": "2023-01-03T06:51:23.246944Z",
     "iopub.status.busy": "2023-01-03T06:51:23.246756Z",
     "iopub.status.idle": "2023-01-03T06:51:23.249405Z",
     "shell.execute_reply": "2023-01-03T06:51:23.249068Z",
     "shell.execute_reply.started": "2023-01-03T06:51:23.246935Z"
    },
    "tags": []
   },
   "outputs": [
    {
     "data": {
      "text/plain": [
       "1"
      ]
     },
     "execution_count": 52,
     "metadata": {},
     "output_type": "execute_result"
    }
   ],
   "source": [
    "# Change number of channels\n",
    "wav_file_1_channel = wav_file.set_channels(1)\n",
    "wav_file_1_channel.channels"
   ]
  },
  {
   "cell_type": "markdown",
   "id": "98b8d1c4-3486-40b5-bd3d-be3730413926",
   "metadata": {},
   "source": [
    "## Manipulating audio files with PyDub"
   ]
  },
  {
   "cell_type": "code",
   "execution_count": 75,
   "id": "20d0e9bb-e8bc-4916-98fb-3235c20947e2",
   "metadata": {
    "execution": {
     "iopub.execute_input": "2023-01-03T07:06:18.886140Z",
     "iopub.status.busy": "2023-01-03T07:06:18.886004Z",
     "iopub.status.idle": "2023-01-03T07:06:18.889114Z",
     "shell.execute_reply": "2023-01-03T07:06:18.888802Z",
     "shell.execute_reply.started": "2023-01-03T07:06:18.886127Z"
    },
    "tags": []
   },
   "outputs": [
    {
     "data": {
      "text/plain": [
       "pydub.audio_segment.AudioSegment"
      ]
     },
     "execution_count": 75,
     "metadata": {},
     "output_type": "execute_result"
    }
   ],
   "source": [
    "wav_file = AudioSegment.from_file(\"wav_file.wav\", type='wav')\n",
    "type(wav_file)"
   ]
  },
  {
   "cell_type": "code",
   "execution_count": 76,
   "id": "c3c5a622-0884-4b1c-a85f-b9c15e9f1dca",
   "metadata": {
    "execution": {
     "iopub.execute_input": "2023-01-03T07:06:19.760330Z",
     "iopub.status.busy": "2023-01-03T07:06:19.760197Z",
     "iopub.status.idle": "2023-01-03T07:06:19.763209Z",
     "shell.execute_reply": "2023-01-03T07:06:19.762977Z",
     "shell.execute_reply.started": "2023-01-03T07:06:19.760320Z"
    },
    "tags": []
   },
   "outputs": [
    {
     "data": {
      "text/plain": [
       "8484"
      ]
     },
     "execution_count": 76,
     "metadata": {},
     "output_type": "execute_result"
    }
   ],
   "source": [
    "wav_file.max"
   ]
  },
  {
   "cell_type": "code",
   "execution_count": 77,
   "id": "d02c99a2-9214-405b-8736-edef8b32957a",
   "metadata": {
    "execution": {
     "iopub.execute_input": "2023-01-03T07:06:20.416258Z",
     "iopub.status.busy": "2023-01-03T07:06:20.416123Z",
     "iopub.status.idle": "2023-01-03T07:06:20.419808Z",
     "shell.execute_reply": "2023-01-03T07:06:20.419548Z",
     "shell.execute_reply.started": "2023-01-03T07:06:20.416248Z"
    },
    "tags": []
   },
   "outputs": [
    {
     "data": {
      "text/plain": [
       "8"
      ]
     },
     "execution_count": 77,
     "metadata": {},
     "output_type": "execute_result"
    }
   ],
   "source": [
    "# Minus 60 dB\n",
    "quiet_wav_file = wav_file - 60\n",
    "quiet_wav_file.max"
   ]
  },
  {
   "cell_type": "code",
   "execution_count": 78,
   "id": "2a3052b1-aad1-417c-b7bf-4876ad66007a",
   "metadata": {
    "execution": {
     "iopub.execute_input": "2023-01-03T07:06:23.112063Z",
     "iopub.status.busy": "2023-01-03T07:06:23.111930Z",
     "iopub.status.idle": "2023-01-03T07:06:26.701371Z",
     "shell.execute_reply": "2023-01-03T07:06:26.701029Z",
     "shell.execute_reply.started": "2023-01-03T07:06:23.112053Z"
    },
    "tags": []
   },
   "outputs": [
    {
     "name": "stderr",
     "output_type": "stream",
     "text": [
      "Input #0, wav, from '/tmp/tmpzv4bqjd3.wav':   0KB sq=    0B f=0/0   \n",
      "  Duration: 00:00:03.28, bitrate: 1536 kb/s\n",
      "  Stream #0:0: Audio: pcm_s16le ([1][0][0][0] / 0x0001), 48000 Hz, 2 channels, s16, 1536 kb/s\n",
      "   3.18 M-A:  0.000 fd=   0 aq=    0KB vq=    0KB sq=    0B f=0/0   \r"
     ]
    },
    {
     "name": "stdout",
     "output_type": "stream",
     "text": [
      "\n"
     ]
    },
    {
     "name": "stderr",
     "output_type": "stream",
     "text": [
      "   3.21 M-A:  0.000 fd=   0 aq=    0KB vq=    0KB sq=    0B f=0/0   \r"
     ]
    }
   ],
   "source": [
    "play(quiet_wav_file)"
   ]
  },
  {
   "cell_type": "markdown",
   "id": "f83aa894-c76f-47fd-b5c9-bc379afcffeb",
   "metadata": {},
   "source": [
    "This is wrong in course"
   ]
  },
  {
   "cell_type": "code",
   "execution_count": 79,
   "id": "ecb23525-3fbf-4483-9180-d818b37999d1",
   "metadata": {
    "execution": {
     "iopub.execute_input": "2023-01-03T07:06:30.679446Z",
     "iopub.status.busy": "2023-01-03T07:06:30.679268Z",
     "iopub.status.idle": "2023-01-03T07:06:30.743824Z",
     "shell.execute_reply": "2023-01-03T07:06:30.743408Z",
     "shell.execute_reply.started": "2023-01-03T07:06:30.679435Z"
    },
    "tags": []
   },
   "outputs": [
    {
     "ename": "AssertionError",
     "evalue": "``audio_data`` must be audio data",
     "output_type": "error",
     "traceback": [
      "\u001b[0;31m---------------------------------------------------------------------------\u001b[0m",
      "\u001b[0;31mAssertionError\u001b[0m                            Traceback (most recent call last)",
      "Cell \u001b[0;32mIn[79], line 2\u001b[0m\n\u001b[1;32m      1\u001b[0m \u001b[38;5;66;03m# # Try to recognize quiet audio\u001b[39;00m\n\u001b[0;32m----> 2\u001b[0m \u001b[43mrecognizer\u001b[49m\u001b[38;5;241;43m.\u001b[39;49m\u001b[43mrecognize_google\u001b[49m\u001b[43m(\u001b[49m\u001b[43mquiet_wav_file\u001b[49m\u001b[43m)\u001b[49m\n",
      "File \u001b[0;32m~/miniconda3/envs/new/lib/python3.9/site-packages/speech_recognition/__init__.py:875\u001b[0m, in \u001b[0;36mRecognizer.recognize_google\u001b[0;34m(self, audio_data, key, language, pfilter, show_all, with_confidence)\u001b[0m\n\u001b[1;32m    859\u001b[0m \u001b[38;5;28;01mdef\u001b[39;00m \u001b[38;5;21mrecognize_google\u001b[39m(\u001b[38;5;28mself\u001b[39m, audio_data, key\u001b[38;5;241m=\u001b[39m\u001b[38;5;28;01mNone\u001b[39;00m, language\u001b[38;5;241m=\u001b[39m\u001b[38;5;124m\"\u001b[39m\u001b[38;5;124men-US\u001b[39m\u001b[38;5;124m\"\u001b[39m, pfilter\u001b[38;5;241m=\u001b[39m\u001b[38;5;241m0\u001b[39m, show_all\u001b[38;5;241m=\u001b[39m\u001b[38;5;28;01mFalse\u001b[39;00m, with_confidence\u001b[38;5;241m=\u001b[39m\u001b[38;5;28;01mFalse\u001b[39;00m):\n\u001b[1;32m    860\u001b[0m \u001b[38;5;250m    \u001b[39m\u001b[38;5;124;03m\"\"\"\u001b[39;00m\n\u001b[1;32m    861\u001b[0m \u001b[38;5;124;03m    Performs speech recognition on ``audio_data`` (an ``AudioData`` instance), using the Google Speech Recognition API.\u001b[39;00m\n\u001b[1;32m    862\u001b[0m \n\u001b[0;32m   (...)\u001b[0m\n\u001b[1;32m    873\u001b[0m \u001b[38;5;124;03m    Raises a ``speech_recognition.UnknownValueError`` exception if the speech is unintelligible. Raises a ``speech_recognition.RequestError`` exception if the speech recognition operation failed, if the key isn't valid, or if there is no internet connection.\u001b[39;00m\n\u001b[1;32m    874\u001b[0m \u001b[38;5;124;03m    \"\"\"\u001b[39;00m\n\u001b[0;32m--> 875\u001b[0m     \u001b[38;5;28;01massert\u001b[39;00m \u001b[38;5;28misinstance\u001b[39m(audio_data, AudioData), \u001b[38;5;124m\"\u001b[39m\u001b[38;5;124m``audio_data`` must be audio data\u001b[39m\u001b[38;5;124m\"\u001b[39m\n\u001b[1;32m    876\u001b[0m     \u001b[38;5;28;01massert\u001b[39;00m key \u001b[38;5;129;01mis\u001b[39;00m \u001b[38;5;28;01mNone\u001b[39;00m \u001b[38;5;129;01mor\u001b[39;00m \u001b[38;5;28misinstance\u001b[39m(key, \u001b[38;5;28mstr\u001b[39m), \u001b[38;5;124m\"\u001b[39m\u001b[38;5;124m``key`` must be ``None`` or a string\u001b[39m\u001b[38;5;124m\"\u001b[39m\n\u001b[1;32m    877\u001b[0m     \u001b[38;5;28;01massert\u001b[39;00m \u001b[38;5;28misinstance\u001b[39m(language, \u001b[38;5;28mstr\u001b[39m), \u001b[38;5;124m\"\u001b[39m\u001b[38;5;124m``language`` must be a string\u001b[39m\u001b[38;5;124m\"\u001b[39m\n",
      "\u001b[0;31mAssertionError\u001b[0m: ``audio_data`` must be audio data"
     ]
    }
   ],
   "source": [
    "# # Try to recognize quiet audio\n",
    "# recognizer.recognize_google(quiet_wav_file)"
   ]
  },
  {
   "cell_type": "markdown",
   "id": "0b7b50ac-e498-4691-8460-3a0a7efd3f9a",
   "metadata": {},
   "source": [
    "## Normalize audio loudness"
   ]
  },
  {
   "cell_type": "code",
   "execution_count": 58,
   "id": "028dff89-3b0d-4c7f-9714-26b0a2c74b2b",
   "metadata": {
    "execution": {
     "iopub.execute_input": "2023-01-03T06:51:26.566229Z",
     "iopub.status.busy": "2023-01-03T06:51:26.566131Z",
     "iopub.status.idle": "2023-01-03T06:51:37.220008Z",
     "shell.execute_reply": "2023-01-03T06:51:37.219522Z",
     "shell.execute_reply.started": "2023-01-03T06:51:26.566220Z"
    },
    "tags": []
   },
   "outputs": [
    {
     "name": "stderr",
     "output_type": "stream",
     "text": [
      "Input #0, wav, from '/tmp/tmpwywstyyh.wav':   0KB sq=    0B f=0/0   \n",
      "  Duration: 00:00:10.60, bitrate: 1536 kb/s\n",
      "  Stream #0:0: Audio: pcm_s16le ([1][0][0][0] / 0x0001), 48000 Hz, 2 channels, s16, 1536 kb/s\n",
      "   0.07 M-A:  0.000 fd=   0 aq=  188KB vq=    0KB sq=    0B f=0/0   \r"
     ]
    },
    {
     "name": "stdout",
     "output_type": "stream",
     "text": [
      "8680\n"
     ]
    },
    {
     "name": "stderr",
     "output_type": "stream",
     "text": [
      "  10.51 M-A:  0.000 fd=   0 aq=    0KB vq=    0KB sq=    0B f=0/0   \r"
     ]
    },
    {
     "name": "stdout",
     "output_type": "stream",
     "text": [
      "\n"
     ]
    },
    {
     "name": "stderr",
     "output_type": "stream",
     "text": [
      "  10.54 M-A:  0.000 fd=   0 aq=    0KB vq=    0KB sq=    0B f=0/0   \r"
     ]
    }
   ],
   "source": [
    "# Import AudioSegment and normalize\n",
    "from pydub.effects import normalize\n",
    "# Import uneven sound audio file\n",
    "loud_quiet = AudioSegment.from_file(\"loud_then_quiet.wav\")\n",
    "print(loud_quiet.max)\n",
    "play(loud_quiet)"
   ]
  },
  {
   "cell_type": "code",
   "execution_count": 59,
   "id": "d1cd62d3-02a9-49eb-ba61-d6c711e652e6",
   "metadata": {
    "execution": {
     "iopub.execute_input": "2023-01-03T06:51:37.220664Z",
     "iopub.status.busy": "2023-01-03T06:51:37.220542Z",
     "iopub.status.idle": "2023-01-03T06:51:47.875011Z",
     "shell.execute_reply": "2023-01-03T06:51:47.874459Z",
     "shell.execute_reply.started": "2023-01-03T06:51:37.220653Z"
    },
    "tags": []
   },
   "outputs": [
    {
     "name": "stderr",
     "output_type": "stream",
     "text": [
      "Input #0, wav, from '/tmp/tmp8uu1o8gj.wav':   0KB sq=    0B f=0/0   \n",
      "  Duration: 00:00:10.60, bitrate: 1536 kb/s\n",
      "  Stream #0:0: Audio: pcm_s16le ([1][0][0][0] / 0x0001), 48000 Hz, 2 channels, s16, 1536 kb/s\n",
      "   0.07 M-A:  0.000 fd=   0 aq=  188KB vq=    0KB sq=    0B f=0/0   \r"
     ]
    },
    {
     "name": "stdout",
     "output_type": "stream",
     "text": [
      "32392\n"
     ]
    },
    {
     "name": "stderr",
     "output_type": "stream",
     "text": [
      "  10.49 M-A:  0.000 fd=   0 aq=    0KB vq=    0KB sq=    0B f=0/0   \r"
     ]
    },
    {
     "name": "stdout",
     "output_type": "stream",
     "text": [
      "\n"
     ]
    },
    {
     "name": "stderr",
     "output_type": "stream",
     "text": [
      "  10.56 M-A:  0.000 fd=   0 aq=    0KB vq=    0KB sq=    0B f=0/0   \r"
     ]
    }
   ],
   "source": [
    "normalized_loud_quiet = normalize(loud_quiet)\n",
    "print(normalized_loud_quiet.max)\n",
    "play(normalized_loud_quiet)"
   ]
  },
  {
   "cell_type": "markdown",
   "id": "473e6e96-5a81-478a-a00b-132f8ea14ef0",
   "metadata": {},
   "source": [
    "## Remixing your audio files"
   ]
  },
  {
   "cell_type": "code",
   "execution_count": 60,
   "id": "4c0d733a-f143-4d55-abf9-b7b813be8e8f",
   "metadata": {
    "execution": {
     "iopub.execute_input": "2023-01-03T06:51:47.875924Z",
     "iopub.status.busy": "2023-01-03T06:51:47.875735Z",
     "iopub.status.idle": "2023-01-03T06:51:58.467474Z",
     "shell.execute_reply": "2023-01-03T06:51:58.467159Z",
     "shell.execute_reply.started": "2023-01-03T06:51:47.875906Z"
    },
    "tags": []
   },
   "outputs": [
    {
     "name": "stderr",
     "output_type": "stream",
     "text": [
      "Input #0, wav, from '/tmp/tmpyl7vf_xz.wav':   0KB sq=    0B f=0/0   \n",
      "  Duration: 00:00:10.48, bitrate: 1411 kb/s\n",
      "  Stream #0:0: Audio: pcm_s16le ([1][0][0][0] / 0x0001), 44100 Hz, 2 channels, s16, 1411 kb/s\n",
      "  10.41 M-A:  0.000 fd=   0 aq=    0KB vq=    0KB sq=    0B f=0/0   \r"
     ]
    },
    {
     "name": "stdout",
     "output_type": "stream",
     "text": [
      "\n"
     ]
    }
   ],
   "source": [
    "# Import audio with static at start\n",
    "static_at_start = AudioSegment.from_file(\"static-out-of-warranty.wav\")\n",
    "play(static_at_start)"
   ]
  },
  {
   "cell_type": "code",
   "execution_count": 61,
   "id": "f30da9d0-cfe7-4a4c-9992-70e1a4d8c8bf",
   "metadata": {
    "execution": {
     "iopub.execute_input": "2023-01-03T06:51:58.468068Z",
     "iopub.status.busy": "2023-01-03T06:51:58.467956Z",
     "iopub.status.idle": "2023-01-03T06:52:05.965118Z",
     "shell.execute_reply": "2023-01-03T06:52:05.964783Z",
     "shell.execute_reply.started": "2023-01-03T06:51:58.468057Z"
    },
    "tags": []
   },
   "outputs": [
    {
     "name": "stderr",
     "output_type": "stream",
     "text": [
      "Input #0, wav, from '/tmp/tmp7u5j3hy5.wav':   0KB sq=    0B f=0/0   \n",
      "  Duration: 00:00:07.47, bitrate: 1411 kb/s\n",
      "  Stream #0:0: Audio: pcm_s16le ([1][0][0][0] / 0x0001), 44100 Hz, 2 channels, s16, 1411 kb/s\n",
      "   7.39 M-A:  0.000 fd=   0 aq=    0KB vq=    0KB sq=    0B f=0/0   \r"
     ]
    },
    {
     "name": "stdout",
     "output_type": "stream",
     "text": [
      "\n"
     ]
    }
   ],
   "source": [
    "# Remove the static via slicing\n",
    "no_static_at_start = static_at_start[3000:]\n",
    "# Check the new sound\n",
    "play(no_static_at_start)"
   ]
  },
  {
   "cell_type": "markdown",
   "id": "d1f6a81c-17a1-47a6-b1a1-ed368e16d612",
   "metadata": {},
   "source": [
    "## Combining audio files"
   ]
  },
  {
   "cell_type": "code",
   "execution_count": 62,
   "id": "5aa4c185-6e0f-41e5-a622-2b00a5f4c172",
   "metadata": {
    "execution": {
     "iopub.execute_input": "2023-01-03T06:52:05.965708Z",
     "iopub.status.busy": "2023-01-03T06:52:05.965585Z",
     "iopub.status.idle": "2023-01-03T06:52:12.177296Z",
     "shell.execute_reply": "2023-01-03T06:52:12.176813Z",
     "shell.execute_reply.started": "2023-01-03T06:52:05.965697Z"
    },
    "tags": []
   },
   "outputs": [
    {
     "name": "stderr",
     "output_type": "stream",
     "text": [
      "Input #0, wav, from '/tmp/tmp5utcbsm_.wav':   0KB sq=    0B f=0/0   \n",
      "  Duration: 00:00:06.07, bitrate: 1536 kb/s\n",
      "  Stream #0:0: Audio: pcm_s16le ([1][0][0][0] / 0x0001), 48000 Hz, 2 channels, s16, 1536 kb/s\n",
      "   6.01 M-A:  0.000 fd=   0 aq=    0KB vq=    0KB sq=    0B f=0/0   \r"
     ]
    },
    {
     "name": "stdout",
     "output_type": "stream",
     "text": [
      "\n"
     ]
    }
   ],
   "source": [
    "# Import two audio files\n",
    "wav_file_1 = AudioSegment.from_file(\"good-morning.wav\")\n",
    "wav_file_2 = AudioSegment.from_file(\"good-afternoon.wav\")\n",
    "# Combine the two audio files\n",
    "wav_file_3 = wav_file_1 + wav_file_2\n",
    "# Check the sound\n",
    "play(wav_file_3)"
   ]
  },
  {
   "cell_type": "code",
   "execution_count": 63,
   "id": "f2594a26-2ef3-443a-bd08-6f3c16427551",
   "metadata": {
    "execution": {
     "iopub.execute_input": "2023-01-03T06:52:12.177910Z",
     "iopub.status.busy": "2023-01-03T06:52:12.177800Z",
     "iopub.status.idle": "2023-01-03T06:52:18.306846Z",
     "shell.execute_reply": "2023-01-03T06:52:18.306498Z",
     "shell.execute_reply.started": "2023-01-03T06:52:12.177899Z"
    },
    "tags": []
   },
   "outputs": [
    {
     "name": "stderr",
     "output_type": "stream",
     "text": [
      "Input #0, wav, from '/tmp/tmpcwzity3h.wav':   0KB sq=    0B f=0/0   \n",
      "  Duration: 00:00:06.07, bitrate: 1536 kb/s\n",
      "  Stream #0:0: Audio: pcm_s16le ([1][0][0][0] / 0x0001), 48000 Hz, 2 channels, s16, 1536 kb/s\n",
      "   5.94 M-A:  0.000 fd=   0 aq=    0KB vq=    0KB sq=    0B f=0/0   \r"
     ]
    },
    {
     "name": "stdout",
     "output_type": "stream",
     "text": [
      "\n"
     ]
    },
    {
     "name": "stderr",
     "output_type": "stream",
     "text": [
      "   6.03 M-A:  0.000 fd=   0 aq=    0KB vq=    0KB sq=    0B f=0/0   \r"
     ]
    }
   ],
   "source": [
    "# Combine two wav files and make the combination louder\n",
    "louder_wav_file_3 = wav_file_1 + wav_file_2 + 10\n",
    "play(louder_wav_file_3)"
   ]
  },
  {
   "cell_type": "code",
   "execution_count": 64,
   "id": "ff9f69b1-7320-489d-929e-d63133f65d2a",
   "metadata": {
    "execution": {
     "iopub.execute_input": "2023-01-03T06:52:18.307436Z",
     "iopub.status.busy": "2023-01-03T06:52:18.307324Z",
     "iopub.status.idle": "2023-01-03T06:52:26.819518Z",
     "shell.execute_reply": "2023-01-03T06:52:26.819065Z",
     "shell.execute_reply.started": "2023-01-03T06:52:18.307425Z"
    },
    "tags": []
   },
   "outputs": [
    {
     "name": "stderr",
     "output_type": "stream",
     "text": [
      "Input #0, wav, from '/tmp/tmphsvai1xh.wav':   0KB sq=    0B f=0/0   \n",
      "  Duration: 00:00:08.47, bitrate: 3072 kb/s\n",
      "  Stream #0:0: Audio: pcm_s32le ([1][0][0][0] / 0x0001), 48000 Hz, 2 channels, s32, 3072 kb/s\n",
      "   8.35 M-A: -0.000 fd=   0 aq=    0KB vq=    0KB sq=    0B f=0/0   \r"
     ]
    },
    {
     "name": "stdout",
     "output_type": "stream",
     "text": [
      "\n"
     ]
    },
    {
     "name": "stderr",
     "output_type": "stream",
     "text": [
      "   8.42 M-A:  0.000 fd=   0 aq=    0KB vq=    0KB sq=    0B f=0/0   \r"
     ]
    }
   ],
   "source": [
    "part_1 = AudioSegment.from_file('part_1.wav')\n",
    "play(part_1)"
   ]
  },
  {
   "cell_type": "code",
   "execution_count": 65,
   "id": "02a8c5ae-63e6-4d59-b7e3-bfed14e0c33f",
   "metadata": {
    "execution": {
     "iopub.execute_input": "2023-01-03T06:52:26.820113Z",
     "iopub.status.busy": "2023-01-03T06:52:26.820002Z",
     "iopub.status.idle": "2023-01-03T06:52:30.381395Z",
     "shell.execute_reply": "2023-01-03T06:52:30.380967Z",
     "shell.execute_reply.started": "2023-01-03T06:52:26.820102Z"
    },
    "tags": []
   },
   "outputs": [
    {
     "name": "stderr",
     "output_type": "stream",
     "text": [
      "Input #0, wav, from '/tmp/tmp8f2o32ro.wav':   0KB sq=    0B f=0/0   \n",
      "  Duration: 00:00:03.54, bitrate: 3072 kb/s\n",
      "  Stream #0:0: Audio: pcm_s32le ([1][0][0][0] / 0x0001), 48000 Hz, 2 channels, s32, 3072 kb/s\n",
      "   3.45 M-A:  0.000 fd=   0 aq=    0KB vq=    0KB sq=    0B f=0/0   \r"
     ]
    },
    {
     "name": "stdout",
     "output_type": "stream",
     "text": [
      "\n"
     ]
    }
   ],
   "source": [
    "part_2 = AudioSegment.from_file('part_2.wav')\n",
    "play(part_2)"
   ]
  },
  {
   "cell_type": "code",
   "execution_count": 66,
   "id": "5d5602e1-c021-4aec-a3fe-ce935e2e0fe7",
   "metadata": {
    "execution": {
     "iopub.execute_input": "2023-01-03T06:52:30.382048Z",
     "iopub.status.busy": "2023-01-03T06:52:30.381920Z",
     "iopub.status.idle": "2023-01-03T06:52:38.425952Z",
     "shell.execute_reply": "2023-01-03T06:52:38.425493Z",
     "shell.execute_reply.started": "2023-01-03T06:52:30.382036Z"
    },
    "tags": []
   },
   "outputs": [
    {
     "name": "stderr",
     "output_type": "stream",
     "text": [
      "Input #0, wav, from '/tmp/tmpj71nzrty.wav':   0KB sq=    0B f=0/0   \n",
      "  Duration: 00:00:08.01, bitrate: 3072 kb/s\n",
      "  Stream #0:0: Audio: pcm_s32le ([1][0][0][0] / 0x0001), 48000 Hz, 2 channels, s32, 3072 kb/s\n",
      "   7.92 M-A:  0.000 fd=   0 aq=    0KB vq=    0KB sq=    0B f=0/0   \r"
     ]
    },
    {
     "name": "stdout",
     "output_type": "stream",
     "text": [
      "\n"
     ]
    }
   ],
   "source": [
    "# Remove the first four seconds of part 1\n",
    "part_1_removed = part_1[4000:]\n",
    "# Add the remainder of part 1 and part 2 together\n",
    "part_3 = part_1_removed + part_2\n",
    "play(part_3)"
   ]
  },
  {
   "cell_type": "markdown",
   "id": "6509e399-2995-4794-b4c2-8419007d6691",
   "metadata": {},
   "source": [
    "## Splitting your audio"
   ]
  },
  {
   "cell_type": "code",
   "execution_count": 70,
   "id": "58b5fa1a-7760-4272-9d3e-b751b0061e15",
   "metadata": {
    "execution": {
     "iopub.execute_input": "2023-01-03T06:53:47.274220Z",
     "iopub.status.busy": "2023-01-03T06:53:47.274090Z",
     "iopub.status.idle": "2023-01-03T06:53:47.277326Z",
     "shell.execute_reply": "2023-01-03T06:53:47.277012Z",
     "shell.execute_reply.started": "2023-01-03T06:53:47.274210Z"
    },
    "tags": []
   },
   "outputs": [
    {
     "data": {
      "text/plain": [
       "2"
      ]
     },
     "execution_count": 70,
     "metadata": {},
     "output_type": "execute_result"
    }
   ],
   "source": [
    "# Import phone call audio\n",
    "phone_call = AudioSegment.from_file(\"clean-support-call.wav\")\n",
    "# Find number of channels\n",
    "phone_call.channels"
   ]
  },
  {
   "cell_type": "code",
   "execution_count": 71,
   "id": "5fb6757b-6c84-421e-b081-2eed0809dcbf",
   "metadata": {
    "execution": {
     "iopub.execute_input": "2023-01-03T06:53:48.413641Z",
     "iopub.status.busy": "2023-01-03T06:53:48.413510Z",
     "iopub.status.idle": "2023-01-03T06:53:58.371022Z",
     "shell.execute_reply": "2023-01-03T06:53:58.370550Z",
     "shell.execute_reply.started": "2023-01-03T06:53:48.413631Z"
    },
    "tags": []
   },
   "outputs": [
    {
     "name": "stdout",
     "output_type": "stream",
     "text": [
      "<pydub.audio_segment.AudioSegment object at 0x7f89d80380d0>\n"
     ]
    },
    {
     "name": "stderr",
     "output_type": "stream",
     "text": [
      "Input #0, wav, from '/tmp/tmpxpcvjx0a.wav':   0KB sq=    0B f=0/0   \n",
      "  Duration: 00:00:04.79, bitrate: 768 kb/s\n",
      "  Stream #0:0: Audio: pcm_s16le ([1][0][0][0] / 0x0001), 48000 Hz, 1 channels, s16, 768 kb/s\n",
      "Input #0, wav, from '/tmp/tmpf06ydp3d.wav':   0KB sq=    0B f=0/0   \n",
      "  Duration: 00:00:04.79, bitrate: 768 kb/s\n",
      "  Stream #0:0: Audio: pcm_s16le ([1][0][0][0] / 0x0001), 48000 Hz, 1 channels, s16, 768 kb/s\n",
      "   0.06 M-A:  0.000 fd=   0 aq=  104KB vq=    0KB sq=    0B f=0/0   \r"
     ]
    },
    {
     "name": "stdout",
     "output_type": "stream",
     "text": [
      "\n",
      "<pydub.audio_segment.AudioSegment object at 0x7f89d8038d30>\n"
     ]
    },
    {
     "name": "stderr",
     "output_type": "stream",
     "text": [
      "   4.74 M-A:  0.000 fd=   0 aq=    0KB vq=    0KB sq=    0B f=0/0   \r"
     ]
    },
    {
     "name": "stdout",
     "output_type": "stream",
     "text": [
      "\n"
     ]
    }
   ],
   "source": [
    "# Split stereo to mono\n",
    "phone_call_channels = phone_call.split_to_mono()\n",
    "for phone_call in phone_call_channels:\n",
    "    print(phone_call)\n",
    "    play(phone_call)"
   ]
  },
  {
   "cell_type": "code",
   "execution_count": 73,
   "id": "c27a1cd4-d67c-441e-865d-c6dda418d9b7",
   "metadata": {
    "execution": {
     "iopub.execute_input": "2023-01-03T06:55:27.939908Z",
     "iopub.status.busy": "2023-01-03T06:55:27.939758Z",
     "iopub.status.idle": "2023-01-03T06:56:13.728302Z",
     "shell.execute_reply": "2023-01-03T06:56:13.727813Z",
     "shell.execute_reply.started": "2023-01-03T06:55:27.939896Z"
    },
    "tags": []
   },
   "outputs": [
    {
     "name": "stderr",
     "output_type": "stream",
     "text": [
      "Input #0, wav, from '/tmp/tmpall4a6_v.wav':   0KB sq=    0B f=0/0   \n",
      "  Duration: 00:00:45.50, bitrate: 1024 kb/s\n",
      "  Stream #0:0: Audio: pcm_s16le ([1][0][0][0] / 0x0001), 32000 Hz, 2 channels, s16, 1024 kb/s\n",
      "  45.38 M-A:  0.000 fd=   0 aq=    0KB vq=    0KB sq=    0B f=0/0   \r"
     ]
    },
    {
     "name": "stdout",
     "output_type": "stream",
     "text": [
      "\n"
     ]
    }
   ],
   "source": [
    "# Import stereo audio file and check channels\n",
    "stereo_phone_call = AudioSegment.from_file('stereo_call.wav')\n",
    "play(stereo_phone_call)"
   ]
  },
  {
   "cell_type": "code",
   "execution_count": 74,
   "id": "72e0728a-ab21-4b18-8976-7deddf3bd9c4",
   "metadata": {
    "execution": {
     "iopub.execute_input": "2023-01-03T06:57:05.801110Z",
     "iopub.status.busy": "2023-01-03T06:57:05.800893Z",
     "iopub.status.idle": "2023-01-03T06:58:37.115632Z",
     "shell.execute_reply": "2023-01-03T06:58:37.115240Z",
     "shell.execute_reply.started": "2023-01-03T06:57:05.801093Z"
    },
    "tags": []
   },
   "outputs": [
    {
     "name": "stdout",
     "output_type": "stream",
     "text": [
      "Stereo number channels: 2\n",
      "Split number channels: 1, 1\n"
     ]
    },
    {
     "name": "stderr",
     "output_type": "stream",
     "text": [
      "Input #0, wav, from '/tmp/tmpmgctztwz.wav':   0KB sq=    0B f=0/0   \n",
      "  Duration: 00:00:45.50, bitrate: 512 kb/s\n",
      "  Stream #0:0: Audio: pcm_s16le ([1][0][0][0] / 0x0001), 32000 Hz, 1 channels, s16, 512 kb/s\n",
      "Input #0, wav, from '/tmp/tmp08yuif0u.wav':   0KB sq=    0B f=0/0   \n",
      "  Duration: 00:00:45.50, bitrate: 512 kb/s\n",
      "  Stream #0:0: Audio: pcm_s16le ([1][0][0][0] / 0x0001), 32000 Hz, 1 channels, s16, 512 kb/s\n",
      "   0.02 M-A:  0.000 fd=   0 aq=  104KB vq=    0KB sq=    0B f=0/0   \r"
     ]
    },
    {
     "name": "stdout",
     "output_type": "stream",
     "text": [
      "\n"
     ]
    },
    {
     "name": "stderr",
     "output_type": "stream",
     "text": [
      "  45.37 M-A:  0.000 fd=   0 aq=    0KB vq=    0KB sq=    0B f=0/0   \r"
     ]
    },
    {
     "name": "stdout",
     "output_type": "stream",
     "text": [
      "\n"
     ]
    }
   ],
   "source": [
    "print(f\"Stereo number channels: {stereo_phone_call.channels}\")\n",
    "# Split stereo phone call and check channels\n",
    "channels = stereo_phone_call.split_to_mono()\n",
    "print(f\"Split number channels: {channels[0].channels}, {channels[1].channels}\")\n",
    "# Save new channels separately\n",
    "phone_call_channel_1 = channels[0]\n",
    "play(phone_call_channel_1)\n",
    "phone_call_channel_2 = channels[1]\n",
    "play(phone_call_channel_2)"
   ]
  },
  {
   "cell_type": "markdown",
   "id": "6fc05d24-71a1-4e54-a046-12b1f2c15ded",
   "metadata": {},
   "source": [
    "## Turning it down... then up"
   ]
  },
  {
   "cell_type": "code",
   "execution_count": 80,
   "id": "9d78f3d6-dab9-4fbe-af02-e3c1e45368ab",
   "metadata": {
    "execution": {
     "iopub.execute_input": "2023-01-03T07:06:49.892750Z",
     "iopub.status.busy": "2023-01-03T07:06:49.892616Z",
     "iopub.status.idle": "2023-01-03T07:06:59.966268Z",
     "shell.execute_reply": "2023-01-03T07:06:59.965807Z",
     "shell.execute_reply.started": "2023-01-03T07:06:49.892740Z"
    },
    "tags": []
   },
   "outputs": [
    {
     "name": "stderr",
     "output_type": "stream",
     "text": [
      "Input #0, wav, from '/tmp/tmpzjk3y4o7.wav':   0KB sq=    0B f=0/0   \n",
      "  Duration: 00:00:09.77, bitrate: 1536 kb/s\n",
      "  Stream #0:0: Audio: pcm_s16le ([1][0][0][0] / 0x0001), 48000 Hz, 2 channels, s16, 1536 kb/s\n",
      "   9.58 M-A:  0.000 fd=   0 aq=    0KB vq=    0KB sq=    0B f=0/0   \r"
     ]
    },
    {
     "name": "stdout",
     "output_type": "stream",
     "text": [
      "\n"
     ]
    },
    {
     "name": "stderr",
     "output_type": "stream",
     "text": [
      "   9.67 M-A:  0.000 fd=   0 aq=    0KB vq=    0KB sq=    0B f=0/0   \r"
     ]
    }
   ],
   "source": [
    "volume_adjusted = AudioSegment.from_file('volume_adjusted.wav')\n",
    "play(volume_adjusted)"
   ]
  },
  {
   "cell_type": "code",
   "execution_count": 81,
   "id": "067d9b33-bd92-46d5-99e5-11df67b4badf",
   "metadata": {
    "execution": {
     "iopub.execute_input": "2023-01-03T07:07:00.719148Z",
     "iopub.status.busy": "2023-01-03T07:07:00.718655Z",
     "iopub.status.idle": "2023-01-03T07:07:10.515429Z",
     "shell.execute_reply": "2023-01-03T07:07:10.515055Z",
     "shell.execute_reply.started": "2023-01-03T07:07:00.719133Z"
    },
    "tags": []
   },
   "outputs": [
    {
     "name": "stderr",
     "output_type": "stream",
     "text": [
      "Input #0, wav, from '/tmp/tmphurrs9r1.wav':   0KB sq=    0B f=0/0   \n",
      "  Duration: 00:00:09.77, bitrate: 1536 kb/s\n",
      "  Stream #0:0: Audio: pcm_s16le ([1][0][0][0] / 0x0001), 48000 Hz, 2 channels, s16, 1536 kb/s\n",
      "   9.55 M-A:  0.000 fd=   0 aq=    0KB vq=    0KB sq=    0B f=0/0   \r"
     ]
    },
    {
     "name": "stdout",
     "output_type": "stream",
     "text": [
      "\n"
     ]
    },
    {
     "name": "stderr",
     "output_type": "stream",
     "text": [
      "   9.67 M-A:  0.000 fd=   0 aq=    0KB vq=    0KB sq=    0B f=0/0   \r"
     ]
    }
   ],
   "source": [
    "# Lower the volume by 60 dB\n",
    "quiet_volume_adjusted = volume_adjusted - 20\n",
    "play(quiet_volume_adjusted)"
   ]
  },
  {
   "cell_type": "code",
   "execution_count": 82,
   "id": "5fe904e7-cbce-4bc9-8063-dae9ccda9f7f",
   "metadata": {
    "execution": {
     "iopub.execute_input": "2023-01-03T07:07:11.310964Z",
     "iopub.status.busy": "2023-01-03T07:07:11.310614Z",
     "iopub.status.idle": "2023-01-03T07:07:21.114388Z",
     "shell.execute_reply": "2023-01-03T07:07:21.113931Z",
     "shell.execute_reply.started": "2023-01-03T07:07:11.310950Z"
    },
    "tags": []
   },
   "outputs": [
    {
     "name": "stderr",
     "output_type": "stream",
     "text": [
      "Input #0, wav, from '/tmp/tmpp9in01qw.wav':   0KB sq=    0B f=0/0   \n",
      "  Duration: 00:00:09.77, bitrate: 1536 kb/s\n",
      "  Stream #0:0: Audio: pcm_s16le ([1][0][0][0] / 0x0001), 48000 Hz, 2 channels, s16, 1536 kb/s\n",
      "   9.56 M-A:  0.000 fd=   0 aq=    0KB vq=    0KB sq=    0B f=0/0   \r"
     ]
    },
    {
     "name": "stdout",
     "output_type": "stream",
     "text": [
      "\n"
     ]
    },
    {
     "name": "stderr",
     "output_type": "stream",
     "text": [
      "   9.68 M-A:  0.000 fd=   0 aq=    0KB vq=    0KB sq=    0B f=0/0   \r"
     ]
    }
   ],
   "source": [
    "# Increase the volume by 15 dB\n",
    "louder_volume_adjusted = quiet_volume_adjusted + 30\n",
    "play(louder_volume_adjusted)"
   ]
  },
  {
   "cell_type": "markdown",
   "id": "d693461b-39f8-43b7-80d5-75fd912de05f",
   "metadata": {},
   "source": [
    "# Converting and saving audio files with PyDub"
   ]
  },
  {
   "cell_type": "markdown",
   "id": "b7e0bd59-4e9d-4486-97de-4e97d7d18b05",
   "metadata": {},
   "source": [
    "## Exporting audio files"
   ]
  },
  {
   "cell_type": "code",
   "execution_count": 1,
   "id": "699bae9e-46ee-48e1-b5c8-9907af773508",
   "metadata": {
    "execution": {
     "iopub.execute_input": "2023-01-03T07:21:34.000913Z",
     "iopub.status.busy": "2023-01-03T07:21:34.000783Z",
     "iopub.status.idle": "2023-01-03T07:21:34.010631Z",
     "shell.execute_reply": "2023-01-03T07:21:34.010304Z",
     "shell.execute_reply.started": "2023-01-03T07:21:34.000902Z"
    }
   },
   "outputs": [
    {
     "data": {
      "text/plain": [
       "<_io.BufferedRandom name='louder_wav_file.wav'>"
      ]
     },
     "execution_count": 1,
     "metadata": {},
     "output_type": "execute_result"
    }
   ],
   "source": [
    "from pydub import AudioSegment\n",
    "# Import audio file\n",
    "wav_file = AudioSegment.from_file(\"wav_file.wav\")\n",
    "# Increase by 10 decibels\n",
    "louder_wav_file = wav_file + 10\n",
    "# Export louder audio file\n",
    "louder_wav_file.export(out_f=\"louder_wav_file.wav\", format=\"wav\")"
   ]
  },
  {
   "cell_type": "markdown",
   "id": "eac67ee4-e4eb-4a13-a912-2eb41b5192f0",
   "metadata": {},
   "source": [
    "## Reformatting and exporting multiple audio files"
   ]
  },
  {
   "cell_type": "code",
   "execution_count": 5,
   "id": "ab178197-45c5-45f0-8d27-24b5d3f4eb14",
   "metadata": {
    "execution": {
     "iopub.execute_input": "2023-01-03T07:25:11.748108Z",
     "iopub.status.busy": "2023-01-03T07:25:11.747978Z",
     "iopub.status.idle": "2023-01-03T07:25:11.750964Z",
     "shell.execute_reply": "2023-01-03T07:25:11.750703Z",
     "shell.execute_reply.started": "2023-01-03T07:25:11.748098Z"
    },
    "tags": []
   },
   "outputs": [],
   "source": [
    "import os\n",
    "def make_wav(wrong_folder_path, right_folder_path):\n",
    "    # Loop through wrongly formatted files\n",
    "    for file in os.scandir(wrong_folder_path):\n",
    "        # Only work with files with audio extensions we're fixing\n",
    "        if file.path.endswith(\".mp3\") or file.path.endswith(\".flac\"):\n",
    "            # Create the new .wav filename\n",
    "            out_file = right_folder_path + os.path.splitext(os.path.basename(file.path))[0] + \".wav\"\n",
    "            # Read in the audio file and export it in wav format\n",
    "            AudioSegment.from_file(file.path).export(out_file, format=\"wav\")\n",
    "            print(f\"Creating {out_file}\")"
   ]
  },
  {
   "cell_type": "code",
   "execution_count": 8,
   "id": "fbe347c6-2107-4858-9b4e-4433ee2e247b",
   "metadata": {
    "execution": {
     "iopub.execute_input": "2023-01-03T07:25:47.181041Z",
     "iopub.status.busy": "2023-01-03T07:25:47.180911Z",
     "iopub.status.idle": "2023-01-03T07:25:47.213427Z",
     "shell.execute_reply": "2023-01-03T07:25:47.213117Z",
     "shell.execute_reply.started": "2023-01-03T07:25:47.181031Z"
    },
    "tags": []
   },
   "outputs": [
    {
     "name": "stdout",
     "output_type": "stream",
     "text": [
      "Creating ./loud_then_quiet.wav\n"
     ]
    }
   ],
   "source": [
    "make_wav(\"./\", \"./\")"
   ]
  },
  {
   "cell_type": "code",
   "execution_count": 10,
   "id": "c18d3989-3a81-4195-9e8e-f31dbc2a2c8c",
   "metadata": {
    "execution": {
     "iopub.execute_input": "2023-01-03T07:27:00.480454Z",
     "iopub.status.busy": "2023-01-03T07:27:00.480322Z",
     "iopub.status.idle": "2023-01-03T07:27:11.411434Z",
     "shell.execute_reply": "2023-01-03T07:27:11.411066Z",
     "shell.execute_reply.started": "2023-01-03T07:27:00.480444Z"
    },
    "tags": []
   },
   "outputs": [
    {
     "name": "stderr",
     "output_type": "stream",
     "text": [
      "Input #0, wav, from '/tmp/tmpsnhf_cz7.wav':   0KB sq=    0B f=0/0   \n",
      "  Duration: 00:00:10.60, bitrate: 1536 kb/s\n",
      "  Stream #0:0: Audio: pcm_s16le ([1][0][0][0] / 0x0001), 48000 Hz, 2 channels, s16, 1536 kb/s\n",
      "  10.42 M-A:  0.000 fd=   0 aq=    0KB vq=    0KB sq=    0B f=0/0   \r"
     ]
    },
    {
     "name": "stdout",
     "output_type": "stream",
     "text": [
      "\n"
     ]
    },
    {
     "name": "stderr",
     "output_type": "stream",
     "text": [
      "  10.54 M-A:  0.000 fd=   0 aq=    0KB vq=    0KB sq=    0B f=0/0   \r"
     ]
    }
   ],
   "source": [
    "from pydub import AudioSegment\n",
    "from pydub.playback import play\n",
    "play(AudioSegment.from_file('loud_then_quiet.wav'))"
   ]
  },
  {
   "cell_type": "markdown",
   "id": "136d277b-dab0-41c0-9c75-835594703484",
   "metadata": {},
   "source": [
    "## Manipulating and exporting"
   ]
  },
  {
   "cell_type": "code",
   "execution_count": 17,
   "id": "1ab2a9eb-154c-4376-8744-632711add9ef",
   "metadata": {
    "execution": {
     "iopub.execute_input": "2023-01-03T07:34:48.915068Z",
     "iopub.status.busy": "2023-01-03T07:34:48.914939Z",
     "iopub.status.idle": "2023-01-03T07:34:48.917838Z",
     "shell.execute_reply": "2023-01-03T07:34:48.917473Z",
     "shell.execute_reply.started": "2023-01-03T07:34:48.915058Z"
    },
    "tags": []
   },
   "outputs": [],
   "source": [
    "def make_no_static_louder(static_quiet, louder_no_static):\n",
    "    # Loop through files with static and quiet (already in wav format)\n",
    "    for file in os.scandir(static_quiet_folder_path):\n",
    "        # Create new file path\n",
    "        out_file = louder_no_static + os.path.splitext(os.path.basename(file.path))[0] + \".wav\"\n",
    "        # Read the audio file\n",
    "        audio_file = AudioSegment.from_file(file.path)\n",
    "        # Remove first three seconds and add 10 decibels and export\n",
    "        audio_file = (audio_file[3100:] + 10).export(out_file, format=\"wav\")\n",
    "        print(f\"Creating {out_file}\")"
   ]
  },
  {
   "cell_type": "markdown",
   "id": "379dfc2f-9338-4505-b45a-614ec3235b93",
   "metadata": {},
   "source": [
    "## Exporting and reformatting audio files"
   ]
  },
  {
   "cell_type": "code",
   "execution_count": 55,
   "id": "342cbdda-3f54-48e4-80b3-d4b8af18843d",
   "metadata": {
    "execution": {
     "iopub.execute_input": "2023-01-03T08:00:23.223031Z",
     "iopub.status.busy": "2023-01-03T08:00:23.222829Z",
     "iopub.status.idle": "2023-01-03T08:00:23.278226Z",
     "shell.execute_reply": "2023-01-03T08:00:23.277881Z",
     "shell.execute_reply.started": "2023-01-03T08:00:23.223009Z"
    },
    "tags": []
   },
   "outputs": [
    {
     "data": {
      "text/plain": [
       "<_io.BufferedRandom name='good-afternoon_mp3.mp3'>"
      ]
     },
     "execution_count": 55,
     "metadata": {},
     "output_type": "execute_result"
    }
   ],
   "source": [
    "AudioSegment.from_file('good-afternoon.wav').export(out_f='good-afternoon_mp3.mp3', format='mp3')"
   ]
  },
  {
   "cell_type": "code",
   "execution_count": 59,
   "id": "8deddf69-e8c5-48bb-abdb-ae201ab9e93d",
   "metadata": {
    "execution": {
     "iopub.execute_input": "2023-01-03T08:03:30.205172Z",
     "iopub.status.busy": "2023-01-03T08:03:30.205035Z",
     "iopub.status.idle": "2023-01-03T08:03:30.301542Z",
     "shell.execute_reply": "2023-01-03T08:03:30.301114Z",
     "shell.execute_reply.started": "2023-01-03T08:03:30.205157Z"
    },
    "tags": []
   },
   "outputs": [
    {
     "data": {
      "text/plain": [
       "<_io.BufferedRandom name='good-afternoon_ogg.ogg'>"
      ]
     },
     "execution_count": 59,
     "metadata": {},
     "output_type": "execute_result"
    }
   ],
   "source": [
    "AudioSegment.from_file('good-afternoon.wav').export(out_f='good-afternoon_ogg.ogg', format='ipod')"
   ]
  },
  {
   "cell_type": "code",
   "execution_count": 60,
   "id": "4ba2619b-dcf7-433b-ab57-f3030300cdab",
   "metadata": {
    "execution": {
     "iopub.execute_input": "2023-01-03T08:03:32.295318Z",
     "iopub.status.busy": "2023-01-03T08:03:32.295180Z",
     "iopub.status.idle": "2023-01-03T08:03:32.390715Z",
     "shell.execute_reply": "2023-01-03T08:03:32.390356Z",
     "shell.execute_reply.started": "2023-01-03T08:03:32.295304Z"
    },
    "tags": []
   },
   "outputs": [
    {
     "data": {
      "text/plain": [
       "<_io.BufferedRandom name='good-afternoon_m4a.m4a'>"
      ]
     },
     "execution_count": 60,
     "metadata": {},
     "output_type": "execute_result"
    }
   ],
   "source": [
    "AudioSegment.from_file('good-afternoon.wav').export(out_f='good-afternoon_m4a.m4a', format='ipod')"
   ]
  },
  {
   "cell_type": "code",
   "execution_count": 61,
   "id": "ee2510e8-0b29-47ae-8fdd-d58f19ee28f5",
   "metadata": {
    "execution": {
     "iopub.execute_input": "2023-01-03T08:03:33.119675Z",
     "iopub.status.busy": "2023-01-03T08:03:33.119308Z",
     "iopub.status.idle": "2023-01-03T08:03:33.230103Z",
     "shell.execute_reply": "2023-01-03T08:03:33.229769Z",
     "shell.execute_reply.started": "2023-01-03T08:03:33.119653Z"
    },
    "tags": []
   },
   "outputs": [
    {
     "data": {
      "text/plain": [
       "<_io.BufferedRandom name='good-afternoon_aac.aac'>"
      ]
     },
     "execution_count": 61,
     "metadata": {},
     "output_type": "execute_result"
    }
   ],
   "source": [
    "AudioSegment.from_file('good-afternoon.wav').export(out_f='good-afternoon_aac.aac', format='ipod')"
   ]
  },
  {
   "cell_type": "code",
   "execution_count": 75,
   "id": "a29341b6-bb25-40c8-819e-3413da6cea33",
   "metadata": {
    "execution": {
     "iopub.execute_input": "2023-01-03T08:11:37.396171Z",
     "iopub.status.busy": "2023-01-03T08:11:37.395719Z",
     "iopub.status.idle": "2023-01-03T08:11:37.398092Z",
     "shell.execute_reply": "2023-01-03T08:11:37.397785Z",
     "shell.execute_reply.started": "2023-01-03T08:11:37.396158Z"
    },
    "tags": []
   },
   "outputs": [],
   "source": [
    "folder = ['good-afternoon_mp3.mp3', 'good-afternoon_m4a.m4a', 'good-afternoon_aac.aac',\n",
    "          'good-afternoon_ogg.ogg'\n",
    "         ]"
   ]
  },
  {
   "cell_type": "code",
   "execution_count": 76,
   "id": "ea995e8c-1ab7-49dc-8fea-a794c1b510a9",
   "metadata": {
    "execution": {
     "iopub.execute_input": "2023-01-03T08:11:37.879077Z",
     "iopub.status.busy": "2023-01-03T08:11:37.878944Z",
     "iopub.status.idle": "2023-01-03T08:11:37.971337Z",
     "shell.execute_reply": "2023-01-03T08:11:37.970995Z",
     "shell.execute_reply.started": "2023-01-03T08:11:37.879066Z"
    },
    "tags": []
   },
   "outputs": [
    {
     "name": "stdout",
     "output_type": "stream",
     "text": [
      "Creating good-afternoon_mp3.wav...\n",
      "Creating good-afternoon_m4a.wav...\n",
      "Creating good-afternoon_aac.wav...\n",
      "Creating good-afternoon_ogg.wav...\n"
     ]
    }
   ],
   "source": [
    "# Loop through the files in the folder\n",
    "for audio_file in folder:\n",
    "    \n",
    "\t# Create the new .wav filename\n",
    "    wav_filename = os.path.splitext(os.path.basename(audio_file))[0] + \".wav\"\n",
    "        \n",
    "    # Read audio_file and export it in wav format\n",
    "    AudioSegment.from_file(audio_file).export(out_f=wav_filename, format='wav')\n",
    "        \n",
    "    print(f\"Creating {wav_filename}...\")"
   ]
  },
  {
   "cell_type": "markdown",
   "id": "975370c6-749e-44d9-8ff8-ebdc7bd834f3",
   "metadata": {},
   "source": [
    "# An audio processing workflow"
   ]
  },
  {
   "cell_type": "code",
   "execution_count": 21,
   "id": "f10ac104-4448-4c3e-bbb8-93f05066a028",
   "metadata": {},
   "outputs": [],
   "source": [
    "from pydub import AudioSegment\n",
    "import os"
   ]
  },
  {
   "cell_type": "code",
   "execution_count": 22,
   "id": "c1484ad9-0368-4f0f-8270-48d88894a878",
   "metadata": {
    "tags": []
   },
   "outputs": [],
   "source": [
    "file_with_static = AudioSegment.from_file('ex3-static-help-with-account.mp3')\n",
    "\n",
    "# Cut the first 3-seconds of static off\n",
    "file_without_static = file_with_static[3000:]"
   ]
  },
  {
   "cell_type": "code",
   "execution_count": 23,
   "id": "768be916-319c-4283-9bd1-ac7908b2f26e",
   "metadata": {
    "tags": []
   },
   "outputs": [],
   "source": [
    "# Increase the volume by 10dB\n",
    "louder_file_without_static = file_without_static + 10"
   ]
  },
  {
   "cell_type": "code",
   "execution_count": 24,
   "id": "9ff56cde-7c37-488b-8f28-912a8cb7499f",
   "metadata": {},
   "outputs": [],
   "source": [
    "folder = ['good-afternoon_mp3.mp3', 'good-afternoon_m4a.m4a', 'good-afternoon_aac.aac',\n",
    "          'good-afternoon_ogg.ogg'\n",
    "         ]"
   ]
  },
  {
   "cell_type": "code",
   "execution_count": 25,
   "id": "4d92a591-419b-42af-ad10-22816b569c47",
   "metadata": {
    "tags": []
   },
   "outputs": [
    {
     "name": "stdout",
     "output_type": "stream",
     "text": [
      "Creating good-afternoon_mp3.wav...\n",
      "Creating good-afternoon_m4a.wav...\n",
      "Creating good-afternoon_aac.wav...\n",
      "Creating good-afternoon_ogg.wav...\n"
     ]
    }
   ],
   "source": [
    "for audio_file in folder:\n",
    "    file_with_static = AudioSegment.from_file(audio_file)\n",
    "\n",
    "    # Cut the 3-seconds of static off\n",
    "    file_without_static = file_with_static[3000:]\n",
    "\n",
    "    # Increase the volume by 10dB\n",
    "    louder_file_without_static = file_without_static + 10\n",
    "    \n",
    "    # Create the .wav filename for export\n",
    "    wav_filename = os.path.splitext(os.path.basename(audio_file))[0] + \".wav\"\n",
    "    \n",
    "    # Export the louder file without static as .wav\n",
    "    louder_file_without_static.export(wav_filename, format='wav')\n",
    "    print(f\"Creating {wav_filename}...\")"
   ]
  },
  {
   "cell_type": "markdown",
   "id": "bac1d853-6584-476f-a041-83b6eaed73c5",
   "metadata": {},
   "source": [
    "## Creating transcription helper functions"
   ]
  },
  {
   "cell_type": "markdown",
   "id": "47e092b1-f7d8-43e3-b421-2238986d9e61",
   "metadata": {},
   "source": [
    "### Preparing for the proof of concept"
   ]
  },
  {
   "cell_type": "markdown",
   "id": "0c25ba40-3fc7-425d-83b2-26e7c8db0770",
   "metadata": {
    "execution": {
     "iopub.execute_input": "2023-01-03T18:35:30.678989Z",
     "iopub.status.busy": "2023-01-03T18:35:30.678855Z",
     "iopub.status.idle": "2023-01-03T18:35:30.729918Z",
     "shell.execute_reply": "2023-01-03T18:35:30.729348Z",
     "shell.execute_reply.started": "2023-01-03T18:35:30.678978Z"
    }
   },
   "source": [
    "```\n",
    "    import speech_recognition as sr\n",
    "    from pydub import AudioSegment\n",
    "    # Import call 1 and convert to .wav\n",
    "    call_1 = AudioSegment.from_file(\"acme_audio_files/call_1.mp3\")\n",
    "    call_1.export(\"acme_audio_files/call_1.wav\", format=\"wav\")\n",
    "    # Transcribe call 1\n",
    "    recognizer = sr.Recognizer()\n",
    "    call_1_file = sr.AudioFile(\"acme_audio_files/call_1.wav\")\n",
    "    with call_1_file as source:\n",
    "        call_1_audio = recognizer.record(call_1_file)\n",
    "    recognizer.recognize_google(call_1_audio)\n",
    "```"
   ]
  },
  {
   "cell_type": "markdown",
   "id": "d577bba6-a32d-4496-bdec-d421b738f982",
   "metadata": {},
   "source": [
    "### Creating a file format conversion function"
   ]
  },
  {
   "cell_type": "code",
   "execution_count": 26,
   "id": "20ccbbbe-b9e2-4e93-b79b-c3bf006d873d",
   "metadata": {
    "tags": []
   },
   "outputs": [],
   "source": [
    "# Create function to convert audio file to wav\n",
    "def convert_to_wav(filename):\n",
    "    \"Takes an audio file of non .wav format and converts to .wav\"\n",
    "    # Import audio file\n",
    "    audio = AudioSegment.from_file(filename)\n",
    "    # Create new filename\n",
    "    new_filename = filename.split(\".\")[0] + \".wav\"\n",
    "    # Export file as .wav\n",
    "    audio.export(new_filename, format=\"wav\")\n",
    "    print(f\"Converting {filename} to {new_filename}...\")"
   ]
  },
  {
   "cell_type": "code",
   "execution_count": 27,
   "id": "6d6a9b7f-f6ac-4db8-93ce-ee51974bba7d",
   "metadata": {
    "tags": []
   },
   "outputs": [
    {
     "name": "stdout",
     "output_type": "stream",
     "text": [
      "Converting call_1_stereo.mp3 to call_1_stereo.wav...\n"
     ]
    }
   ],
   "source": [
    "convert_to_wav(\"call_1_stereo.mp3\")"
   ]
  },
  {
   "cell_type": "markdown",
   "id": "bc7f4b6e-ea39-4479-b424-8d24b26262ed",
   "metadata": {},
   "source": [
    "### Creating an attribute showing function"
   ]
  },
  {
   "cell_type": "code",
   "execution_count": 28,
   "id": "ff162c73-1713-4982-933e-df52688b462d",
   "metadata": {
    "tags": []
   },
   "outputs": [],
   "source": [
    "def show_pydub_stats(filename):\n",
    "    \"Returns different audio attributes related to an audio file.\"\n",
    "    # Create AudioSegment instance\n",
    "    audio_segment = AudioSegment.from_file(filename)\n",
    "    # Print attributes\n",
    "    print(f\"Channels: {audio_segment.channels}\")\n",
    "    print(f\"Sample width: {audio_segment.sample_width}\")\n",
    "    print(f\"Frame rate (sample rate): {audio_segment.frame_rate}\")\n",
    "    print(f\"Frame width: {audio_segment.frame_width}\")\n",
    "    print(f\"Length (ms): {len(audio_segment)}\")\n",
    "    print(f\"Frame count: {audio_segment.frame_count()}\")"
   ]
  },
  {
   "cell_type": "code",
   "execution_count": 29,
   "id": "1ce9f882-c74a-445a-92a7-6583643bc2cd",
   "metadata": {
    "tags": []
   },
   "outputs": [
    {
     "name": "stdout",
     "output_type": "stream",
     "text": [
      "Channels: 2\n",
      "Sample width: 2\n",
      "Frame rate (sample rate): 32000\n",
      "Frame width: 4\n",
      "Length (ms): 54888\n",
      "Frame count: 1756416.0\n"
     ]
    }
   ],
   "source": [
    "show_pydub_stats('call_1_stereo.wav')"
   ]
  },
  {
   "cell_type": "markdown",
   "id": "7329d572-1747-4808-a325-3e6e091c383f",
   "metadata": {},
   "source": [
    "### Creating a transcribe function"
   ]
  },
  {
   "cell_type": "code",
   "execution_count": 30,
   "id": "0f3d4ab6-d696-4b56-84c3-4858ff4bb6c1",
   "metadata": {
    "tags": []
   },
   "outputs": [],
   "source": [
    "import speech_recognition as sr\n",
    "# Create a function to transcribe audio\n",
    "def transcribe_audio(filename):\n",
    "    \"Takes a .wav format audio file and transcribes it to text.\"\n",
    "    # Setup a recognizer instance\n",
    "    recognizer = sr.Recognizer()\n",
    "    # Import the audio file and convert to audio data\n",
    "    audio_file = sr.AudioFile(filename)\n",
    "    with audio_file as source:\n",
    "        audio_data = recognizer.record(source)\n",
    "    # Return the transcribed text\n",
    "    return recognizer.recognize_google(audio_data)"
   ]
  },
  {
   "cell_type": "code",
   "execution_count": 31,
   "id": "a2dffd40-d9cf-4554-9fea-36e571ceebfd",
   "metadata": {
    "tags": []
   },
   "outputs": [
    {
     "name": "stdout",
     "output_type": "stream",
     "text": [
      "result2:\n",
      "{   'alternative': [   {   'confidence': 0.85781354,\n",
      "                           'transcript': 'hello welcome to Acme Studio support '\n",
      "                                         'lawn mower name is Daniel how can I '\n",
      "                                         'best help you this is John'},\n",
      "                       {   'transcript': 'hello welcome to Acme Studio support '\n",
      "                                         'lawn mower name is Daniel how can I '\n",
      "                                         'best help you this is John.'},\n",
      "                       {   'transcript': 'hello welcome to Acme Studios '\n",
      "                                         'support lawn mower name is Daniel '\n",
      "                                         'how can I best help you this is '\n",
      "                                         'John'},\n",
      "                       {   'transcript': 'hello welcome to Acme Studios '\n",
      "                                         'support lawn mower name is Daniel '\n",
      "                                         'how can I best help you this is '\n",
      "                                         'John.'},\n",
      "                       {   'transcript': 'hello welcome to acne Studios '\n",
      "                                         'support lawn mower name is Daniel '\n",
      "                                         'how can I best help you this is '\n",
      "                                         'John'}],\n",
      "    'final': True}\n"
     ]
    },
    {
     "data": {
      "text/plain": [
       "'hello welcome to Acme Studio support lawn mower name is Daniel how can I best help you this is John'"
      ]
     },
     "execution_count": 31,
     "metadata": {},
     "output_type": "execute_result"
    }
   ],
   "source": [
    "transcribe_audio('call_1_stereo.wav')"
   ]
  },
  {
   "cell_type": "markdown",
   "id": "8a332e75-1234-4066-8cfb-3cc207e0f8b7",
   "metadata": {},
   "source": [
    "## Trying to split the channels"
   ]
  },
  {
   "cell_type": "markdown",
   "id": "9a560336-401f-424d-81aa-1431ce71a91a",
   "metadata": {},
   "source": [
    "```\n",
    "recognizer = sr.Recognizer()\n",
    "\n",
    "# Multiple speakers on different files\n",
    "speakers = [sr.AudioFile(\"speaker_0.wav\"), \n",
    "            sr.AudioFile(\"speaker_1.wav\"), \n",
    "            sr.AudioFile(\"speaker_2.wav\")]\n",
    "\n",
    "# Transcribe each speaker individually\n",
    "for i, speaker in enumerate(speakers):\n",
    "    with speaker as source:\n",
    "        speaker_audio = recognizer.record(source)\n",
    "    print(f\"Text from speaker {i}:\")\n",
    "    print(recognizer.recognize_google(speaker_audio,\n",
    "         \t\t\t\t  language=\"en-US\"))\n",
    "```"
   ]
  },
  {
   "cell_type": "code",
   "execution_count": 33,
   "id": "c9145981-1a33-4125-8587-83663b680cd9",
   "metadata": {
    "execution": {
     "iopub.execute_input": "2023-01-04T23:37:26.416627Z",
     "iopub.status.busy": "2023-01-04T23:37:26.416492Z",
     "iopub.status.idle": "2023-01-04T23:37:26.715945Z",
     "shell.execute_reply": "2023-01-04T23:37:26.715532Z",
     "shell.execute_reply.started": "2023-01-04T23:37:26.416616Z"
    }
   },
   "outputs": [],
   "source": [
    "from nltk.sentiment.vader import SentimentIntensityAnalyzer"
   ]
  },
  {
   "cell_type": "code",
   "execution_count": 34,
   "id": "3e73caaa-cd86-47d4-b7ff-793c2886d0a6",
   "metadata": {
    "execution": {
     "iopub.execute_input": "2023-01-04T23:37:26.750542Z",
     "iopub.status.busy": "2023-01-04T23:37:26.749987Z",
     "iopub.status.idle": "2023-01-04T23:37:51.348677Z",
     "shell.execute_reply": "2023-01-04T23:37:51.348176Z",
     "shell.execute_reply.started": "2023-01-04T23:37:26.750528Z"
    },
    "tags": []
   },
   "outputs": [],
   "source": [
    "sid = SentimentIntensityAnalyzer()\n",
    "recognizer = sr.Recognizer()\n",
    "recognizer.energy_threshold = 300\n",
    "transcribed_text = {}\n",
    "for i, audio_segment in enumerate(AudioSegment.from_file('call_1_stereo.mp3').split_to_mono()):\n",
    "    file_name = f'tmp-{i}.wav'\n",
    "    audio_segment.export(file_name, format='wav')\n",
    "    with sr.AudioFile(file_name) as audio_file:\n",
    "        audio_data = recognizer.record(audio_file)\n",
    "    os.unlink(file_name)\n",
    "    recognition = recognizer.recognize_google(audio_data, show_all=True)['alternative'][0]\n",
    "    recognition['polarity_scores'] = sid.polarity_scores(recognition['transcript'])\n",
    "    transcribed_text[i] = recognition"
   ]
  },
  {
   "cell_type": "code",
   "execution_count": 35,
   "id": "21bb73a5-26c5-4556-b4f0-71c4aa5ebdae",
   "metadata": {
    "execution": {
     "iopub.execute_input": "2023-01-04T23:37:53.349555Z",
     "iopub.status.busy": "2023-01-04T23:37:53.349412Z",
     "iopub.status.idle": "2023-01-04T23:37:53.352447Z",
     "shell.execute_reply": "2023-01-04T23:37:53.352196Z",
     "shell.execute_reply.started": "2023-01-04T23:37:53.349543Z"
    },
    "tags": []
   },
   "outputs": [
    {
     "data": {
      "text/plain": [
       "{0: {'transcript': \"hello welcome to Acme Studio support lawn mower name is Daniel how can I best help you all night that's not good to hear John let's let's get your serial number and then we can we can set up a way to fix it for you well John we're going to try Alabaster I will get the serial number. They support case\",\n",
       "  'confidence': 0.74372208,\n",
       "  'polarity_scores': {'neg': 0.033,\n",
       "   'neu': 0.691,\n",
       "   'pos': 0.276,\n",
       "   'compound': 0.9392}},\n",
       " 1: {'transcript': \"hey Danielle this is John I've recently bought a small fire from 1757 I'm very displeased how long do you reckon this is going to take on me on hold for about an hour now we're on I'm just just really really really really just waiting for this talk time I've been trying to contact the pool at Cintas past 34 days now and I've been coronavirus and then an awesome not really happy I kinda want to get this issue fixed as possible\",\n",
       "  'confidence': 0.84105074,\n",
       "  'polarity_scores': {'neg': 0.097,\n",
       "   'neu': 0.844,\n",
       "   'pos': 0.059,\n",
       "   'compound': -0.5326}}}"
      ]
     },
     "execution_count": 35,
     "metadata": {},
     "output_type": "execute_result"
    }
   ],
   "source": [
    "transcribed_text"
   ]
  },
  {
   "cell_type": "markdown",
   "id": "55ece9d8-6adb-4daf-bad5-33237a0644b5",
   "metadata": {
    "execution": {
     "iopub.execute_input": "2023-01-03T18:41:28.895515Z",
     "iopub.status.busy": "2023-01-03T18:41:28.895335Z",
     "iopub.status.idle": "2023-01-03T18:41:28.897613Z",
     "shell.execute_reply": "2023-01-03T18:41:28.897288Z",
     "shell.execute_reply.started": "2023-01-03T18:41:28.895503Z"
    },
    "tags": []
   },
   "source": [
    "## Sentiment analysis on spoken language text"
   ]
  },
  {
   "cell_type": "code",
   "execution_count": 36,
   "id": "7bbf750b-36d0-4df3-a679-519fd22ebd01",
   "metadata": {
    "execution": {
     "iopub.execute_input": "2023-01-04T23:37:59.618256Z",
     "iopub.status.busy": "2023-01-04T23:37:59.618119Z",
     "iopub.status.idle": "2023-01-04T23:37:59.620215Z",
     "shell.execute_reply": "2023-01-04T23:37:59.619878Z",
     "shell.execute_reply.started": "2023-01-04T23:37:59.618245Z"
    },
    "tags": []
   },
   "outputs": [],
   "source": [
    "import nltk"
   ]
  },
  {
   "cell_type": "code",
   "execution_count": 37,
   "id": "797b4adc-85db-4d7c-90e7-5b1f94c8a501",
   "metadata": {
    "execution": {
     "iopub.execute_input": "2023-01-04T23:38:01.157680Z",
     "iopub.status.busy": "2023-01-04T23:38:01.157533Z",
     "iopub.status.idle": "2023-01-04T23:38:01.163741Z",
     "shell.execute_reply": "2023-01-04T23:38:01.163367Z",
     "shell.execute_reply.started": "2023-01-04T23:38:01.157668Z"
    },
    "tags": []
   },
   "outputs": [
    {
     "name": "stdout",
     "output_type": "stream",
     "text": [
      "{'neg': 0.437, 'neu': 0.563, 'pos': 0.0, 'compound': -0.4767}\n"
     ]
    }
   ],
   "source": [
    "# Import sentiment analysis class\n",
    "from nltk.sentiment.vader import SentimentIntensityAnalyzer\n",
    "# Create sentiment analysis instance\n",
    "sid = SentimentIntensityAnalyzer()\n",
    "# Test sentiment analysis on negative text\n",
    "print(sid.polarity_scores(\"This customer service is terrible.\"))"
   ]
  },
  {
   "cell_type": "code",
   "execution_count": 38,
   "id": "79a5a197-6e6f-4db1-b837-13b00f484bbb",
   "metadata": {
    "execution": {
     "iopub.execute_input": "2023-01-04T23:38:02.845544Z",
     "iopub.status.busy": "2023-01-04T23:38:02.845405Z",
     "iopub.status.idle": "2023-01-04T23:38:09.425929Z",
     "shell.execute_reply": "2023-01-04T23:38:09.425562Z",
     "shell.execute_reply.started": "2023-01-04T23:38:02.845533Z"
    },
    "tags": []
   },
   "outputs": [
    {
     "name": "stdout",
     "output_type": "stream",
     "text": [
      "result2:\n",
      "{   'alternative': [   {   'confidence': 0.85781366,\n",
      "                           'transcript': 'hello welcome to Acme Studio support '\n",
      "                                         'lawn mower name is Daniel how can I '\n",
      "                                         'best help you this is John'},\n",
      "                       {   'transcript': 'hello welcome to Acme Studio support '\n",
      "                                         'lawn mower name is Daniel how can I '\n",
      "                                         'best help you this is John.'},\n",
      "                       {   'transcript': 'hello welcome to Acme Studios '\n",
      "                                         'support lawn mower name is Daniel '\n",
      "                                         'how can I best help you this is '\n",
      "                                         'John'},\n",
      "                       {   'transcript': 'hello welcome to Acme Studios '\n",
      "                                         'support lawn mower name is Daniel '\n",
      "                                         'how can I best help you this is '\n",
      "                                         'John.'},\n",
      "                       {   'transcript': 'hello welcome to acne Studios '\n",
      "                                         'support lawn mower name is Daniel '\n",
      "                                         'how can I best help you this is '\n",
      "                                         'John'}],\n",
      "    'final': True}\n"
     ]
    },
    {
     "data": {
      "text/plain": [
       "{'neg': 0.0, 'neu': 0.543, 'pos': 0.457, 'compound': 0.9118}"
      ]
     },
     "execution_count": 38,
     "metadata": {},
     "output_type": "execute_result"
    }
   ],
   "source": [
    "sid.polarity_scores(transcribe_audio('call_1_stereo.wav'))"
   ]
  },
  {
   "cell_type": "markdown",
   "id": "ac33c034-ebff-4231-bf0e-97c3cf681af6",
   "metadata": {
    "execution": {
     "iopub.execute_input": "2023-01-03T18:45:53.990598Z",
     "iopub.status.busy": "2023-01-03T18:45:53.990453Z",
     "iopub.status.idle": "2023-01-03T18:45:53.992797Z",
     "shell.execute_reply": "2023-01-03T18:45:53.992497Z",
     "shell.execute_reply.started": "2023-01-03T18:45:53.990586Z"
    }
   },
   "source": [
    "# Named entity recognition on transcribed text"
   ]
  },
  {
   "cell_type": "code",
   "execution_count": 39,
   "id": "72ab80e8-a031-481b-8efd-cbe03f329137",
   "metadata": {
    "tags": []
   },
   "outputs": [
    {
     "data": {
      "text/plain": [
       "True"
      ]
     },
     "execution_count": 39,
     "metadata": {},
     "output_type": "execute_result"
    }
   ],
   "source": [
    "import spacy\n",
    "spacy.require_gpu()"
   ]
  },
  {
   "cell_type": "code",
   "execution_count": 40,
   "id": "1ecf1735-8301-4929-abdf-8b657ba0834d",
   "metadata": {
    "tags": []
   },
   "outputs": [],
   "source": [
    "# Load spaCy language model\n",
    "nlp = spacy.load('en_core_web_lg')\n",
    "# Create a spaCy doc\n",
    "text = \"I'd like to talk about a smartphone I ordered on July 31st from your Sydney store, my order number is 40939440. I spoke to Georgia about it last week.\"\n",
    "doc = nlp(text)"
   ]
  },
  {
   "cell_type": "code",
   "execution_count": 41,
   "id": "4c32bb53-a7e6-46c1-94e0-7cd84a2cb56c",
   "metadata": {
    "tags": []
   },
   "outputs": [
    {
     "name": "stdout",
     "output_type": "stream",
     "text": [
      "('I', 0), (\"'d\", 1), ('like', 4), ('to', 9), ('talk', 12), ('about', 17), ('a', 23), ('smartphone', 25), ('I', 36), ('ordered', 38), ('on', 46), ('July', 49), ('31st', 54), ('from', 59), ('your', 64), ('Sydney', 69), ('store', 76), (',', 81), ('my', 83), ('order', 86), ('number', 92), ('is', 99), ('40939440', 102), ('.', 110), ('I', 112), ('spoke', 114), ('to', 120), ('Georgia', 123), ('about', 131), ('it', 137), ('last', 140), ('week', 145), ('.', 149), "
     ]
    }
   ],
   "source": [
    "# Show different tokens and positions\n",
    "for token in doc:\n",
    "    print(f'{(token.text, token.idx)}', end=', ')"
   ]
  },
  {
   "cell_type": "code",
   "execution_count": 42,
   "id": "44fe4c46-831a-4d91-83b9-b867827137f5",
   "metadata": {
    "tags": []
   },
   "outputs": [
    {
     "name": "stdout",
     "output_type": "stream",
     "text": [
      "I'd like to talk about a smartphone I ordered on July 31st from your Sydney store, my order number is 40939440.\n",
      "I spoke to Georgia about it last week.\n"
     ]
    }
   ],
   "source": [
    "# Show sentences in doc\n",
    "for sentence in doc.sents:\n",
    "    print(sentence)"
   ]
  },
  {
   "cell_type": "markdown",
   "id": "868b7749-6dd8-4e42-b3ab-521f32566dae",
   "metadata": {},
   "source": [
    "## spaCy named entities\n",
    "* Some of spaCy's built-in named entities:\n",
    "* PERSON People, including fictional.\n",
    "* ORG Companies, agencies, institutions, etc.\n",
    "* GPE Countries, cities, states.\n",
    "* PRODUCT Objects, vehicles, foods, etc. (Not services.)\n",
    "* DATE Absolute or relative dates or periods.\n",
    "* TIME Times smaller than a day.\n",
    "* ONEY Monetary values, including unit.\n",
    "* CARDINAL Numerals that do not fall under another type."
   ]
  },
  {
   "cell_type": "code",
   "execution_count": 43,
   "id": "c2fb5f9f-0067-4d5d-ad3a-3bfdabebb156",
   "metadata": {
    "tags": []
   },
   "outputs": [
    {
     "name": "stdout",
     "output_type": "stream",
     "text": [
      "July 31st DATE\n",
      "Sydney GPE\n",
      "40939440 ORG\n",
      "Georgia GPE\n",
      "last week DATE\n"
     ]
    }
   ],
   "source": [
    "# Find named entities in doc\n",
    "for entity in doc.ents:\n",
    "    print(entity.text, entity.label_)"
   ]
  },
  {
   "cell_type": "markdown",
   "id": "8ab9c18a-5199-4f27-abf0-5ceee0d1d8f8",
   "metadata": {},
   "source": [
    "## Custom named entities"
   ]
  },
  {
   "cell_type": "code",
   "execution_count": 44,
   "id": "027e4029-2024-4676-ae21-33ef08444386",
   "metadata": {
    "tags": []
   },
   "outputs": [
    {
     "data": {
      "text/plain": [
       "[('tok2vec', <spacy.pipeline.tok2vec.Tok2Vec at 0x7f11357ac820>),\n",
       " ('tagger', <spacy.pipeline.tagger.Tagger at 0x7f11357ac7c0>),\n",
       " ('parser', <spacy.pipeline.dep_parser.DependencyParser at 0x7f11359edb30>),\n",
       " ('attribute_ruler',\n",
       "  <spacy.pipeline.attributeruler.AttributeRuler at 0x7f113574bc80>),\n",
       " ('lemmatizer',\n",
       "  <spacy.lang.en.lemmatizer.EnglishLemmatizer at 0x7f113579bcc0>),\n",
       " ('ner', <spacy.pipeline.ner.EntityRecognizer at 0x7f11359ed970>)]"
      ]
     },
     "execution_count": 44,
     "metadata": {},
     "output_type": "execute_result"
    }
   ],
   "source": [
    "# Import EntityRuler class\n",
    "from spacy.pipeline import EntityRuler\n",
    "# Check spaCy pipeline\n",
    "nlp.pipeline"
   ]
  },
  {
   "cell_type": "markdown",
   "id": "278b56d1-be2b-40b8-9c08-8bd42d924a05",
   "metadata": {},
   "source": [
    "## Changing the pipeline"
   ]
  },
  {
   "cell_type": "code",
   "execution_count": 45,
   "id": "0558453d-a496-4743-8826-0556377fab6d",
   "metadata": {
    "tags": []
   },
   "outputs": [
    {
     "data": {
      "text/plain": [
       "<spacy.pipeline.entityruler.EntityRuler at 0x7f1135ee9580>"
      ]
     },
     "execution_count": 45,
     "metadata": {},
     "output_type": "execute_result"
    }
   ],
   "source": [
    "ruler = nlp.add_pipe('entity_ruler', before='ner')\n",
    "ruler"
   ]
  },
  {
   "cell_type": "code",
   "execution_count": 46,
   "id": "dd73d5f7-e07d-494d-809d-1b8fc326312c",
   "metadata": {
    "tags": []
   },
   "outputs": [
    {
     "data": {
      "text/plain": [
       "[]"
      ]
     },
     "execution_count": 46,
     "metadata": {},
     "output_type": "execute_result"
    }
   ],
   "source": [
    "ruler.patterns"
   ]
  },
  {
   "cell_type": "code",
   "execution_count": 47,
   "id": "84856fa3-9e23-4d26-a4b5-2f5f1faedb52",
   "metadata": {
    "tags": []
   },
   "outputs": [
    {
     "data": {
      "text/plain": [
       "[{'label': 'PRODUCT', 'pattern': 'smartphone'}]"
      ]
     },
     "execution_count": 47,
     "metadata": {},
     "output_type": "execute_result"
    }
   ],
   "source": [
    "# Add token pattern to ruler\n",
    "pattern = [{\"label\":\"PRODUCT\", \"pattern\": \"smartphone\"}]\n",
    "ruler.add_patterns(pattern)\n",
    "ruler.patterns"
   ]
  },
  {
   "cell_type": "code",
   "execution_count": 48,
   "id": "c173b3b8-8aa9-4c30-921d-831b0cbc545c",
   "metadata": {
    "tags": []
   },
   "outputs": [
    {
     "data": {
      "text/plain": [
       "[('tok2vec', <spacy.pipeline.tok2vec.Tok2Vec at 0x7f11357ac820>),\n",
       " ('tagger', <spacy.pipeline.tagger.Tagger at 0x7f11357ac7c0>),\n",
       " ('parser', <spacy.pipeline.dep_parser.DependencyParser at 0x7f11359edb30>),\n",
       " ('attribute_ruler',\n",
       "  <spacy.pipeline.attributeruler.AttributeRuler at 0x7f113574bc80>),\n",
       " ('lemmatizer',\n",
       "  <spacy.lang.en.lemmatizer.EnglishLemmatizer at 0x7f113579bcc0>),\n",
       " ('entity_ruler', <spacy.pipeline.entityruler.EntityRuler at 0x7f1135ee9580>),\n",
       " ('ner', <spacy.pipeline.ner.EntityRecognizer at 0x7f11359ed970>)]"
      ]
     },
     "execution_count": 48,
     "metadata": {},
     "output_type": "execute_result"
    }
   ],
   "source": [
    "nlp.pipeline"
   ]
  },
  {
   "cell_type": "markdown",
   "id": "e23f9f18-d90f-4052-a262-5483ac297a1b",
   "metadata": {},
   "source": [
    "## Testing the new pipeline"
   ]
  },
  {
   "cell_type": "code",
   "execution_count": 49,
   "id": "d0dc9f85-31ee-4dda-8c6c-f8e2cda61b99",
   "metadata": {
    "tags": []
   },
   "outputs": [],
   "source": [
    "# Test new entity rule\n",
    "doc = nlp(text)"
   ]
  },
  {
   "cell_type": "code",
   "execution_count": 50,
   "id": "1aa4e8da-082c-47a5-9c0b-f3d6add82a14",
   "metadata": {
    "tags": []
   },
   "outputs": [
    {
     "name": "stdout",
     "output_type": "stream",
     "text": [
      "smartphone PRODUCT\n",
      "July 31st DATE\n",
      "Sydney GPE\n",
      "40939440 ORG\n",
      "Georgia GPE\n",
      "last week DATE\n"
     ]
    }
   ],
   "source": [
    "for entity in doc.ents:\n",
    "    print(entity.text, entity.label_)"
   ]
  },
  {
   "cell_type": "code",
   "execution_count": 51,
   "id": "f4764568-e2ab-433f-9068-6059a4284c54",
   "metadata": {
    "tags": []
   },
   "outputs": [
    {
     "data": {
      "text/plain": [
       "<spacy.pipeline.ner.EntityRecognizer at 0x7f11359ed970>"
      ]
     },
     "execution_count": 51,
     "metadata": {},
     "output_type": "execute_result"
    }
   ],
   "source": [
    "nlp.pipeline[-1][1]"
   ]
  },
  {
   "cell_type": "markdown",
   "id": "01daec76-dfe9-4d65-b53a-e7e8678fd9a7",
   "metadata": {},
   "source": [
    "# Classifying transcribed speech with Sklearn"
   ]
  },
  {
   "cell_type": "markdown",
   "id": "02a0be6c-895c-4e2d-8a85-0e5ffcec3987",
   "metadata": {
    "execution": {
     "iopub.execute_input": "2023-01-04T23:40:01.511536Z",
     "iopub.status.busy": "2023-01-04T23:40:01.511233Z",
     "iopub.status.idle": "2023-01-04T23:40:01.513978Z",
     "shell.execute_reply": "2023-01-04T23:40:01.513655Z",
     "shell.execute_reply.started": "2023-01-04T23:40:01.511523Z"
    }
   },
   "source": [
    "## Transcribing all phone call excerpts"
   ]
  },
  {
   "cell_type": "code",
   "execution_count": 53,
   "id": "13d0a6b2-2a0a-47d2-ace7-641dd3ee11f7",
   "metadata": {
    "execution": {
     "iopub.execute_input": "2023-01-04T23:40:14.352471Z",
     "iopub.status.busy": "2023-01-04T23:40:14.352331Z",
     "iopub.status.idle": "2023-01-04T23:40:14.354844Z",
     "shell.execute_reply": "2023-01-04T23:40:14.354570Z",
     "shell.execute_reply.started": "2023-01-04T23:40:14.352461Z"
    },
    "tags": []
   },
   "outputs": [],
   "source": [
    "# Transcribe text from wav files\n",
    "def create_text_list(folder):\n",
    "    text_list = []\n",
    "    # Loop through folder\n",
    "    for file in folder:\n",
    "        # Check for .wav extension\n",
    "        if file.endswith(\".wav\"):\n",
    "            # Transcribe audio\n",
    "            text = transcribe_audio(file)\n",
    "            # Add transcribed text to list\n",
    "            text_list.append(text)\n",
    "    return text_list"
   ]
  },
  {
   "cell_type": "markdown",
   "id": "691ca975-eba7-4167-b6a0-341daeedb9e4",
   "metadata": {},
   "source": [
    "# What you've done\n",
    "1. Converted audio files into soundwaves with Python and NumPy.\n",
    "2. Transcribed speech with speech_recognition .\n",
    "3. Prepared and manipulated audio files using PyDub.\n",
    "4. Built a spoken language processing pipeline with NLTK , spaCy and sklearn ."
   ]
  }
 ],
 "metadata": {
  "kernelspec": {
   "display_name": "Python 3 (ipykernel)",
   "language": "python",
   "name": "python3"
  },
  "language_info": {
   "codemirror_mode": {
    "name": "ipython",
    "version": 3
   },
   "file_extension": ".py",
   "mimetype": "text/x-python",
   "name": "python",
   "nbconvert_exporter": "python",
   "pygments_lexer": "ipython3",
   "version": "3.9.15"
  },
  "toc-autonumbering": true
 },
 "nbformat": 4,
 "nbformat_minor": 5
}
