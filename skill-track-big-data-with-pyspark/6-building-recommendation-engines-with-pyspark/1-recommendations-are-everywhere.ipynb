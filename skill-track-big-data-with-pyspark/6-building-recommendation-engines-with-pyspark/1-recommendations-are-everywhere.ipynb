{
 "cells": [
  {
   "cell_type": "markdown",
   "id": "481814f9-7ab5-47ab-9f3c-2df03598f2e1",
   "metadata": {},
   "source": [
    "# Two types of recommendation engines:\n",
    "\n",
    "Collaborative-filtering engines and content-based filtering engines. Both aim to offer meaningful recommendations, but they do so in slightly different ways. \n",
    "\n",
    "**CONTENT-BASED FILTERING**  \n",
    "Based on features of items\n",
    "* Genre: Comedy, Action, Drama\n",
    "* Animation: Animated, Not animated\n",
    "* Language: English, Spanish, Korean\n",
    "* Decade Produced: 1950's, 1980's\n",
    "* Actors: Meryl Streep, Tom Hanks\n",
    "\n",
    "**COLLABORATIVE FILTERING**  \n",
    "Collaborative filtering is a little bit different.  \n",
    "Collaborative filtering is based on user similarity. However, unlike content-based filtering, manually-created tags are not necessary. The features and groupings are created mathematically from patterns in the ratings provided by users. When you provide ratings for a product or item, whether it be a thumbs up or thumbs down, or even if you just watch a video without even giving it a rating, you are providing meaningful insight about your preferences. From this behavior, the ALS algorithm can mathematically group you with similar users, predict your behavior, and help you have a more effective customer experience.\n",
    "\n",
    ">**While ALS can have content-based applications, this course will focus on it's application to collaborative filtering, but many of the principles of collaborative filtering can be applied to content-based applications.**"
   ]
  },
  {
   "cell_type": "markdown",
   "id": "7bacc3db-2d87-4dab-9e31-ad7ffcf4a834",
   "metadata": {},
   "source": [
    "# Two types of ratings\n",
    "**EXPLICIT RATINGS:**  \n",
    "Explicit ratings are pretty straightforward. Examples of these are when you input a number of stars or something like a thumbs up or thumbs down. These are explicit ratings because users explicitly state how much they like or dislike something.  \n",
    "\n",
    "**IMPLICIT RATINGS:**  \n",
    "Implicit ratings are a little bit different. They are based on the passive tracking of your behavior, like the number of movies you've seen in different genres. Fundamentally, implicit ratings are generated from the frequency of your actions.\n",
    "\n",
    "For example, if you watch 30 movies, and of those 30 movies are action movies, and only 1 is a comedy, the low number of comedy views will be converted into low confidence that you like comedies, and the high number of action movie views will be converted into a high confidence that you like action movies. These probabilities are then used as ratings. The logic behind this is, in essence, the more you carry out a behavior, the higher the the likelihood that you like it, and thus a higher rating.\n",
    "\n",
    "Additionally, in some cases you may not have access to behavior counts like this. A simpler form of ratings that still works with the ALS algorithm is the use of simple binary ratings. Rather than having a count of user actions, binary ratings just show whether a user has done something, like watched a comedy, represented by a 1 or not watched a comedy, represented by a 0. These types of ratings aren't nearly as rich, but they still can provide meaningful insight and still work perfectly fine with the ALS algorithm. "
   ]
  },
  {
   "cell_type": "markdown",
   "id": "bc377962-cf82-4705-8125-8eaaf2b21c4b",
   "metadata": {},
   "source": [
    "# Uses for recommendation engines\n",
    "(see Chapter 1 slides)"
   ]
  }
 ],
 "metadata": {
  "kernelspec": {
   "display_name": "Python 3 (ipykernel)",
   "language": "python",
   "name": "python3"
  },
  "language_info": {
   "codemirror_mode": {
    "name": "ipython",
    "version": 3
   },
   "file_extension": ".py",
   "mimetype": "text/x-python",
   "name": "python",
   "nbconvert_exporter": "python",
   "pygments_lexer": "ipython3",
   "version": "3.10.10"
  }
 },
 "nbformat": 4,
 "nbformat_minor": 5
}
