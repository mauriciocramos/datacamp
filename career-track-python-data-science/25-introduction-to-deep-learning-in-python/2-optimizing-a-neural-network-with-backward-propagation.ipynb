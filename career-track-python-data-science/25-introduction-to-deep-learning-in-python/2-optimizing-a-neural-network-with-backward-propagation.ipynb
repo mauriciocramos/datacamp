{
 "cells": [
  {
   "cell_type": "markdown",
   "id": "4e69e5f5-ec0f-49ae-b05b-2dc12263b882",
   "metadata": {},
   "source": [
    "# Predictions with multiple points\n",
    "* Making accurate predictions gets harder with more points\n",
    "* At any set of weights, there are many values of the error\n",
    "* ... corresponding to the many points we make predictions for"
   ]
  },
  {
   "cell_type": "markdown",
   "id": "1cf8bd3e-ebcc-4a9d-b295-c2db0518da44",
   "metadata": {},
   "source": [
    "# Loss function\n",
    "* Aggregates errors in predictions from many data points into single number\n",
    "* Measure of model's predictive performance"
   ]
  },
  {
   "cell_type": "markdown",
   "id": "e94efcd4-435b-4334-8293-a63997ddc040",
   "metadata": {},
   "source": [
    "## Squared error loss function"
   ]
  },
  {
   "cell_type": "code",
   "execution_count": 1,
   "id": "615660ff-ab12-4bbf-ae16-c1abd780a5ae",
   "metadata": {
    "execution": {
     "iopub.execute_input": "2023-09-02T19:13:40.294929Z",
     "iopub.status.busy": "2023-09-02T19:13:40.294805Z",
     "iopub.status.idle": "2023-09-02T19:13:40.647448Z",
     "shell.execute_reply": "2023-09-02T19:13:40.647014Z",
     "shell.execute_reply.started": "2023-09-02T19:13:40.294916Z"
    },
    "tags": []
   },
   "outputs": [
    {
     "data": {
      "text/html": [
       "<div>\n",
       "<style scoped>\n",
       "    .dataframe tbody tr th:only-of-type {\n",
       "        vertical-align: middle;\n",
       "    }\n",
       "\n",
       "    .dataframe tbody tr th {\n",
       "        vertical-align: top;\n",
       "    }\n",
       "\n",
       "    .dataframe thead th {\n",
       "        text-align: right;\n",
       "    }\n",
       "</style>\n",
       "<table border=\"1\" class=\"dataframe\">\n",
       "  <thead>\n",
       "    <tr style=\"text-align: right;\">\n",
       "      <th></th>\n",
       "      <th>prediction</th>\n",
       "      <th>actual</th>\n",
       "      <th>error</th>\n",
       "      <th>squarederror</th>\n",
       "    </tr>\n",
       "  </thead>\n",
       "  <tbody>\n",
       "    <tr>\n",
       "      <th>0</th>\n",
       "      <td>10</td>\n",
       "      <td>20</td>\n",
       "      <td>-10</td>\n",
       "      <td>100</td>\n",
       "    </tr>\n",
       "    <tr>\n",
       "      <th>1</th>\n",
       "      <td>8</td>\n",
       "      <td>3</td>\n",
       "      <td>5</td>\n",
       "      <td>25</td>\n",
       "    </tr>\n",
       "    <tr>\n",
       "      <th>2</th>\n",
       "      <td>6</td>\n",
       "      <td>1</td>\n",
       "      <td>5</td>\n",
       "      <td>25</td>\n",
       "    </tr>\n",
       "  </tbody>\n",
       "</table>\n",
       "</div>"
      ],
      "text/plain": [
       "   prediction  actual  error  squarederror\n",
       "0          10      20    -10           100\n",
       "1           8       3      5            25\n",
       "2           6       1      5            25"
      ]
     },
     "execution_count": 1,
     "metadata": {},
     "output_type": "execute_result"
    }
   ],
   "source": [
    "import pandas as pd\n",
    "errors = pd.DataFrame({'prediction': [10,8,6], 'actual': [20,3,1]})\\\n",
    "    .assign(error = lambda x: x['prediction']-x['actual'],\n",
    "            squarederror = lambda x: x['error']**2)\n",
    "errors"
   ]
  },
  {
   "cell_type": "code",
   "execution_count": 2,
   "id": "20fb703f-e163-4522-b617-7f8ca7bf80f2",
   "metadata": {
    "execution": {
     "iopub.execute_input": "2023-09-02T19:13:40.648127Z",
     "iopub.status.busy": "2023-09-02T19:13:40.647967Z",
     "iopub.status.idle": "2023-09-02T19:13:40.650870Z",
     "shell.execute_reply": "2023-09-02T19:13:40.650487Z",
     "shell.execute_reply.started": "2023-09-02T19:13:40.648115Z"
    },
    "tags": []
   },
   "outputs": [
    {
     "data": {
      "text/plain": [
       "150"
      ]
     },
     "execution_count": 2,
     "metadata": {},
     "output_type": "execute_result"
    }
   ],
   "source": [
    "errors.squarederror.sum()"
   ]
  },
  {
   "cell_type": "markdown",
   "id": "9e3e459e-5d10-4810-8b40-3875e5721205",
   "metadata": {},
   "source": [
    "**Mean Squared Error (MSE)**"
   ]
  },
  {
   "cell_type": "code",
   "execution_count": 3,
   "id": "d74ee5cf-da22-4c44-a032-33022b3a852c",
   "metadata": {
    "execution": {
     "iopub.execute_input": "2023-09-02T19:13:40.651452Z",
     "iopub.status.busy": "2023-09-02T19:13:40.651348Z",
     "iopub.status.idle": "2023-09-02T19:13:40.653918Z",
     "shell.execute_reply": "2023-09-02T19:13:40.653638Z",
     "shell.execute_reply.started": "2023-09-02T19:13:40.651441Z"
    },
    "tags": []
   },
   "outputs": [
    {
     "data": {
      "text/plain": [
       "50.0"
      ]
     },
     "execution_count": 3,
     "metadata": {},
     "output_type": "execute_result"
    }
   ],
   "source": [
    "errors.squarederror.mean()"
   ]
  },
  {
   "cell_type": "markdown",
   "id": "f9ae5e9d-b5c1-4dbd-a047-2fec124bc983",
   "metadata": {},
   "source": [
    "## Loss function\n",
    "* Lower loss function value means a better model\n",
    "* Goal: Find the weghts that give the lowest value for the loss functions\n",
    "* Gradient descent"
   ]
  },
  {
   "cell_type": "markdown",
   "id": "f0b82421-20de-46a1-9794-bc56f42d5410",
   "metadata": {},
   "source": [
    "## Gradient descent\n",
    "* Imagine you are in a pitch dark field\n",
    "* Want to find the lowest point\n",
    "* Feel the ground to see how it slopes\n",
    "* Take a small step downhill\n",
    "* Repeat until it uphill in every direction"
   ]
  },
  {
   "cell_type": "markdown",
   "id": "62473156-3d83-4687-ab08-2b2df29e8e45",
   "metadata": {},
   "source": [
    "## Gradient descent steps\n",
    "* Start at random point\n",
    "* Until you are somewhere flat:\n",
    "    * Find the slope\n",
    "    * Take a step downhil"
   ]
  },
  {
   "cell_type": "markdown",
   "id": "1cde3d4d-5c11-4a40-98e4-9547e8de0b32",
   "metadata": {},
   "source": [
    "## Scaling up to multiple data points"
   ]
  },
  {
   "cell_type": "code",
   "execution_count": 4,
   "id": "490c73e3-7b30-4c96-add6-c9e92b6399ba",
   "metadata": {
    "execution": {
     "iopub.execute_input": "2023-09-02T19:13:40.655150Z",
     "iopub.status.busy": "2023-09-02T19:13:40.654859Z",
     "iopub.status.idle": "2023-09-02T19:13:40.657882Z",
     "shell.execute_reply": "2023-09-02T19:13:40.657333Z",
     "shell.execute_reply.started": "2023-09-02T19:13:40.655135Z"
    },
    "tags": []
   },
   "outputs": [],
   "source": [
    "import numpy as np\n",
    "def predict_with_singlelayer_2nodes_network(input_data_row, weights):\n",
    "    # Calculate node 0 value\n",
    "    node_0_input = input_data_row @ weights['node_0']\n",
    "    node_0_output = relu(node_0_input)\n",
    "    # Calculate node 1 value\n",
    "    node_1_input = input_data_row @ weights['node_1']\n",
    "    node_1_output = relu(node_1_input)\n",
    "    # copy node outputs to hidden layer\n",
    "    hidden_layer_outputs = np.array([node_0_output, node_1_output])\n",
    "    # Calculate model output\n",
    "    input_to_final_layer = hidden_layer_outputs @ weights['output']\n",
    "    model_output = relu(input_to_final_layer )\n",
    "    # Return model output\n",
    "    return model_output"
   ]
  },
  {
   "cell_type": "code",
   "execution_count": 5,
   "id": "f9e4bab3-7ec8-45e5-ae6f-db2068a7d04b",
   "metadata": {
    "execution": {
     "iopub.execute_input": "2023-09-02T19:13:40.658490Z",
     "iopub.status.busy": "2023-09-02T19:13:40.658350Z",
     "iopub.status.idle": "2023-09-02T19:13:40.660298Z",
     "shell.execute_reply": "2023-09-02T19:13:40.659965Z",
     "shell.execute_reply.started": "2023-09-02T19:13:40.658478Z"
    },
    "tags": []
   },
   "outputs": [],
   "source": [
    "def relu(input):\n",
    "    return max(0, input)"
   ]
  },
  {
   "cell_type": "code",
   "execution_count": 6,
   "id": "5b4ce020-b508-4834-93d3-66293cfed743",
   "metadata": {
    "execution": {
     "iopub.execute_input": "2023-09-02T19:13:40.660855Z",
     "iopub.status.busy": "2023-09-02T19:13:40.660661Z",
     "iopub.status.idle": "2023-09-02T19:13:40.663900Z",
     "shell.execute_reply": "2023-09-02T19:13:40.663427Z",
     "shell.execute_reply.started": "2023-09-02T19:13:40.660843Z"
    },
    "tags": []
   },
   "outputs": [],
   "source": [
    "# Does the forward propagantion\n",
    "input_data = [np.array([0, 3]), np.array([1, 2]), np.array([-1, -2]), np.array([4, 0])]\n",
    "# weights for a fully connected model of a single hidden layer of two nodes\n",
    "weights_0 = {\n",
    "    \"node_0\": np.array([2, 1]),\n",
    "    \"node_1\": np.array([1, 2]),\n",
    "    \"output\": np.array([1, 1]),\n",
    "}\n",
    "weights_1 = {\n",
    "    \"node_0\": np.array([2, 1]),\n",
    "    \"node_1\": np.array([1.0, 1.5]),\n",
    "    \"output\": np.array([1.0, 1.5]),\n",
    "}\n",
    "# Create model_output_0 \n",
    "model_output_0 = []\n",
    "# Create model_output_1\n",
    "model_output_1 = []\n",
    "# Loop over input_data\n",
    "for row in input_data:\n",
    "    # Append prediction to model_output_0\n",
    "    model_output_0.append(predict_with_singlelayer_2nodes_network(row, weights_0))\n",
    "    # Append prediction to model_output_1\n",
    "    model_output_1.append(predict_with_singlelayer_2nodes_network(row, weights_1))"
   ]
  },
  {
   "cell_type": "code",
   "execution_count": 7,
   "id": "05aeca6c-7b5f-41c9-99b1-b2a5a692ea1b",
   "metadata": {
    "execution": {
     "iopub.execute_input": "2023-09-02T19:13:40.664754Z",
     "iopub.status.busy": "2023-09-02T19:13:40.664444Z",
     "iopub.status.idle": "2023-09-02T19:13:41.001684Z",
     "shell.execute_reply": "2023-09-02T19:13:41.001368Z",
     "shell.execute_reply.started": "2023-09-02T19:13:40.664736Z"
    },
    "tags": []
   },
   "outputs": [
    {
     "name": "stdout",
     "output_type": "stream",
     "text": [
      "Mean squared error with weights_0: 37.500000\n",
      "Mean squared error with weights_1: 49.890625\n"
     ]
    }
   ],
   "source": [
    "from sklearn.metrics import mean_squared_error\n",
    "\n",
    "target_actuals = [1, 3, 5, 7]  \n",
    "# Calculate the mean squared error for model_output_0: mse_0\n",
    "mse_0 = mean_squared_error(target_actuals, model_output_0)\n",
    "# Calculate the mean squared error for model_output_1: mse_1\n",
    "mse_1 = mean_squared_error(target_actuals, model_output_1)\n",
    "\n",
    "# Print mse_0 and mse_1\n",
    "print(\"Mean squared error with weights_0: %f\" %mse_0)\n",
    "print(\"Mean squared error with weights_1: %f\" %mse_1)"
   ]
  },
  {
   "cell_type": "markdown",
   "id": "f15a70fd-c839-4f50-82ce-4c23ca34f9b2",
   "metadata": {
    "tags": []
   },
   "source": [
    "# Gradient descent\n",
    "* If the slope is positive:\n",
    "    * Going opposite the slope means moving to lower loss numbers\n",
    "    * Subtract the slope from the current value\n",
    "    * Too big a step might lead us astray\n",
    "* Solution: learning rate\n",
    "    * Update each weight by subtracting learning rate * slope\n",
    "    \n",
    "> Learning rate are fequently around 0.01"
   ]
  },
  {
   "cell_type": "markdown",
   "id": "d195dce5-5db1-4d6b-8ff1-c9814fe84a12",
   "metadata": {},
   "source": [
    "## Slope calculation example\n",
    "\n",
    "(3) > 2 > (6) actual target value = 10\n",
    "\n",
    "* To calculate the slope for a weight, need to multiply:\n",
    "1. Slope of the loss function w.r.t value at the node we feed into\n",
    "2. The value of the node that feeds into our weight\n",
    "3. Slope of the activation function w.r.t value we feed into\n",
    "    \n",
    "* Slope of mean-squared loss function w.r.t prediction:\n",
    "    * 2 * error\n",
    "    * 2 * (Predicted Value - Actual Value)\n",
    "    * 2 * -4 = -8\n",
    "    \n",
    "* The value of the node that feeds into our weight\n",
    "    * 3\n",
    "    \n",
    "* Slope of the activation function w.r.t value we feed into\n",
    "    * only if he ave an activation function\n",
    "    * None here"
   ]
  },
  {
   "cell_type": "code",
   "execution_count": 8,
   "id": "520312ea-4fcf-4485-b28d-5d089ea9f80e",
   "metadata": {
    "execution": {
     "iopub.execute_input": "2023-09-02T19:13:41.002268Z",
     "iopub.status.busy": "2023-09-02T19:13:41.002086Z",
     "iopub.status.idle": "2023-09-02T19:13:41.005361Z",
     "shell.execute_reply": "2023-09-02T19:13:41.004996Z",
     "shell.execute_reply.started": "2023-09-02T19:13:41.002256Z"
    },
    "tags": []
   },
   "outputs": [
    {
     "data": {
      "text/plain": [
       "-24"
      ]
     },
     "execution_count": 8,
     "metadata": {},
     "output_type": "execute_result"
    }
   ],
   "source": [
    "#slope\n",
    "2 * (-4 * 3)"
   ]
  },
  {
   "cell_type": "markdown",
   "id": "f45baf4b-353e-42dc-9358-1025db8a8e64",
   "metadata": {},
   "source": [
    "If learning rate is 0.01, the new weight would be:\n",
    "\n",
    "$$new\\_weight = 2 - learning\\_rate \\times slope$$"
   ]
  },
  {
   "cell_type": "code",
   "execution_count": 9,
   "id": "5e5e0e7e-d72b-408d-8f24-d26b73eb877b",
   "metadata": {
    "execution": {
     "iopub.execute_input": "2023-09-02T19:13:41.005961Z",
     "iopub.status.busy": "2023-09-02T19:13:41.005842Z",
     "iopub.status.idle": "2023-09-02T19:13:41.008338Z",
     "shell.execute_reply": "2023-09-02T19:13:41.008082Z",
     "shell.execute_reply.started": "2023-09-02T19:13:41.005950Z"
    }
   },
   "outputs": [
    {
     "data": {
      "text/plain": [
       "2.24"
      ]
     },
     "execution_count": 9,
     "metadata": {},
     "output_type": "execute_result"
    }
   ],
   "source": [
    "# new weight\n",
    "2 - 0.01 * (-24)"
   ]
  },
  {
   "cell_type": "markdown",
   "id": "8d5a9ac1-ebc8-46e7-b66e-544d8ede37a6",
   "metadata": {},
   "source": [
    "## Code to calculate slopes and update weights"
   ]
  },
  {
   "cell_type": "markdown",
   "id": "10f3ee34-1cfb-4579-8bbe-4b4680863810",
   "metadata": {},
   "source": [
    "### \"the neural network\""
   ]
  },
  {
   "cell_type": "markdown",
   "id": "6eeed3c2-6ce8-44c4-8971-0907ff55d3f2",
   "metadata": {},
   "source": [
    "3 ->1-> ( )  \n",
    "4 ->2-^ "
   ]
  },
  {
   "cell_type": "code",
   "execution_count": 10,
   "id": "5ca91b32-47e6-421a-8458-031b17f8798a",
   "metadata": {
    "execution": {
     "iopub.execute_input": "2023-09-02T19:13:41.008882Z",
     "iopub.status.busy": "2023-09-02T19:13:41.008694Z",
     "iopub.status.idle": "2023-09-02T19:13:41.010804Z",
     "shell.execute_reply": "2023-09-02T19:13:41.010505Z",
     "shell.execute_reply.started": "2023-09-02T19:13:41.008865Z"
    },
    "tags": []
   },
   "outputs": [],
   "source": [
    "import numpy as np\n",
    "weights = np.array([1, 2])\n",
    "input_data = np.array([3, 4]) # single data point\n",
    "target = 6\n",
    "learning_rate = 0.01\n",
    "runs=0"
   ]
  },
  {
   "cell_type": "markdown",
   "id": "93091af3-0740-42ed-b50b-70b20ebe7a59",
   "metadata": {
    "execution": {
     "iopub.execute_input": "2023-01-08T00:59:12.863835Z",
     "iopub.status.busy": "2023-01-08T00:59:12.863635Z",
     "iopub.status.idle": "2023-01-08T00:59:12.866563Z",
     "shell.execute_reply": "2023-01-08T00:59:12.866274Z",
     "shell.execute_reply.started": "2023-01-08T00:59:12.863823Z"
    },
    "tags": []
   },
   "source": [
    "### The Gradient Descent Loop"
   ]
  },
  {
   "cell_type": "markdown",
   "id": "d43f9454-c85c-4d96-9382-166295ec5e0a",
   "metadata": {},
   "source": [
    "> Run following cell 55 times or until the gradient is zero, after that, coefficients no longer change"
   ]
  },
  {
   "cell_type": "code",
   "execution_count": 11,
   "id": "6e9a26ac-c20a-4616-8bfe-ceccf76741dd",
   "metadata": {
    "execution": {
     "iopub.execute_input": "2023-09-02T19:13:41.011379Z",
     "iopub.status.busy": "2023-09-02T19:13:41.011270Z",
     "iopub.status.idle": "2023-09-02T19:13:41.014250Z",
     "shell.execute_reply": "2023-09-02T19:13:41.013971Z",
     "shell.execute_reply.started": "2023-09-02T19:13:41.011368Z"
    },
    "tags": []
   },
   "outputs": [
    {
     "name": "stdout",
     "output_type": "stream",
     "text": [
      "preds=11 error=5\n",
      "gradient=array([30, 40])\n",
      "weights=array([0.7, 1.6])\n",
      "runs=1\n"
     ]
    }
   ],
   "source": [
    "# computer error\n",
    "preds = (weights * input_data).sum() # same as weights @ input_data\n",
    "error = preds - target\n",
    "if error !=0:\n",
    "    # Gradient is the mathematical term for this array of slopes\n",
    "    gradient = 2 * input_data * error\n",
    "    # pairwise substraction: weights minus the gradients times learning rate\n",
    "    weights = weights - learning_rate * gradient\n",
    "    runs+=1\n",
    "print(f'{preds=} {error=}')\n",
    "print(f'{gradient=}')\n",
    "print(f'{weights=}')\n",
    "print(f'{runs=}')"
   ]
  },
  {
   "cell_type": "markdown",
   "id": "d1845617-4376-423b-a6f0-172760c3ec6d",
   "metadata": {},
   "source": [
    "## Making multiple updates to weights"
   ]
  },
  {
   "cell_type": "code",
   "execution_count": 12,
   "id": "ed44ce5d-0372-4ed7-9b76-2f61cae4545b",
   "metadata": {
    "execution": {
     "iopub.execute_input": "2023-09-02T19:13:41.014890Z",
     "iopub.status.busy": "2023-09-02T19:13:41.014764Z",
     "iopub.status.idle": "2023-09-02T19:13:41.016630Z",
     "shell.execute_reply": "2023-09-02T19:13:41.016297Z",
     "shell.execute_reply.started": "2023-09-02T19:13:41.014879Z"
    },
    "tags": []
   },
   "outputs": [],
   "source": [
    "import numpy as np"
   ]
  },
  {
   "cell_type": "code",
   "execution_count": 13,
   "id": "9c53db86-87e4-48ec-bfd1-22131623d9ef",
   "metadata": {
    "execution": {
     "iopub.execute_input": "2023-09-02T19:13:41.017859Z",
     "iopub.status.busy": "2023-09-02T19:13:41.017663Z",
     "iopub.status.idle": "2023-09-02T19:13:41.019808Z",
     "shell.execute_reply": "2023-09-02T19:13:41.019344Z",
     "shell.execute_reply.started": "2023-09-02T19:13:41.017843Z"
    },
    "tags": []
   },
   "outputs": [],
   "source": [
    "def get_error(input_data, target, weights):\n",
    "    preds = (weights * input_data).sum()\n",
    "    error = preds - target\n",
    "    return error"
   ]
  },
  {
   "cell_type": "code",
   "execution_count": 14,
   "id": "59cfd984-5a57-48b8-a1a6-cdc29a0885d5",
   "metadata": {
    "execution": {
     "iopub.execute_input": "2023-09-02T19:13:41.020315Z",
     "iopub.status.busy": "2023-09-02T19:13:41.020206Z",
     "iopub.status.idle": "2023-09-02T19:13:41.022339Z",
     "shell.execute_reply": "2023-09-02T19:13:41.022028Z",
     "shell.execute_reply.started": "2023-09-02T19:13:41.020303Z"
    },
    "tags": []
   },
   "outputs": [],
   "source": [
    "def get_mse(input_data, target, weights):\n",
    "    errors = get_error(input_data, target, weights)\n",
    "    mse = np.mean(errors**2)\n",
    "    return mse"
   ]
  },
  {
   "cell_type": "code",
   "execution_count": 15,
   "id": "13b8350c-9cc5-4525-8096-08f1ab091f54",
   "metadata": {
    "execution": {
     "iopub.execute_input": "2023-09-02T19:13:41.022939Z",
     "iopub.status.busy": "2023-09-02T19:13:41.022716Z",
     "iopub.status.idle": "2023-09-02T19:13:41.024735Z",
     "shell.execute_reply": "2023-09-02T19:13:41.024444Z",
     "shell.execute_reply.started": "2023-09-02T19:13:41.022927Z"
    },
    "tags": []
   },
   "outputs": [],
   "source": [
    "def get_slope(input_data, target, weights):\n",
    "    # slop of the loss function w.r.t. to each weight\n",
    "    error = get_error(input_data, target, weights)\n",
    "    slope = 2 * input_data * error\n",
    "    return slope"
   ]
  },
  {
   "cell_type": "code",
   "execution_count": 16,
   "id": "6f5eb6d7-5aec-4a1e-a30e-7a6a95d7f8c7",
   "metadata": {
    "execution": {
     "iopub.execute_input": "2023-09-02T19:13:41.025227Z",
     "iopub.status.busy": "2023-09-02T19:13:41.025116Z",
     "iopub.status.idle": "2023-09-02T19:13:41.029027Z",
     "shell.execute_reply": "2023-09-02T19:13:41.028742Z",
     "shell.execute_reply.started": "2023-09-02T19:13:41.025216Z"
    },
    "tags": []
   },
   "outputs": [
    {
     "name": "stdout",
     "output_type": "stream",
     "text": [
      "target=0\n",
      "n_updates=20\n",
      "final prediction=0.009811783767493754\n",
      "final weights=array([-0.49929916,  1.00140168, -0.49789747])\n",
      "final error=0.009811783767493809\n",
      "final mse=9.627110070005501e-05\n"
     ]
    }
   ],
   "source": [
    "input_data = np.array([1, 2, 3])\n",
    "weights = np.array([0, 2, 1])\n",
    "target = 0\n",
    "n_updates = 20\n",
    "mse_hist = []\n",
    "learning_rate = 0.01\n",
    "print(f'{target=}')\n",
    "print(f'{n_updates=}')\n",
    "\n",
    "# Iterate over the number of updates\n",
    "for i in range(n_updates):\n",
    "    # Calculate the slope: slope\n",
    "    slopes = get_slope(input_data, target, weights)\n",
    "    # print(f'#{i+1} {input_data=:}')\n",
    "    # print(f'  {weights=}')\n",
    "    # print(f'    error={get_error(input_data, target, weights)}')\n",
    "    # print(f'      {slopes=}')\n",
    "    # Update the weights: weights\n",
    "    weights = weights - learning_rate * slopes\n",
    "    # print(f'        {weights=}')\n",
    "    # Calculate mse with new weights: mse\n",
    "    mse = get_mse(input_data, target, weights)\n",
    "    # print(f'          error={get_error(input_data, target, weights)}')\n",
    "    # print(f'            {mse=}', end='\\n')\n",
    "    # Append the mse to mse_hist\n",
    "    mse_hist.append(mse)\n",
    "    \n",
    "prediction = input_data @ weights\n",
    "print(f'final {prediction=}')    \n",
    "print(f'final {weights=}')\n",
    "# Calculate mse with new weights: mse\n",
    "mse = get_mse(input_data, target, weights)\n",
    "print(f'final error={get_error(input_data, target, weights)}')\n",
    "print(f'final {mse=}', end='\\n')    "
   ]
  },
  {
   "cell_type": "code",
   "execution_count": 17,
   "id": "ced107af-7e70-45ee-8ecc-c9e33f939851",
   "metadata": {
    "execution": {
     "iopub.execute_input": "2023-09-02T19:13:41.029904Z",
     "iopub.status.busy": "2023-09-02T19:13:41.029600Z",
     "iopub.status.idle": "2023-09-02T19:13:41.290604Z",
     "shell.execute_reply": "2023-09-02T19:13:41.290323Z",
     "shell.execute_reply.started": "2023-09-02T19:13:41.029885Z"
    },
    "tags": []
   },
   "outputs": [
    {
     "data": {
      "image/png": "[encoded data removed]",
      "text/plain": [
       "<Figure size 640x480 with 1 Axes>"
      ]
     },
     "metadata": {},
     "output_type": "display_data"
    }
   ],
   "source": [
    "# Plot the mse history\n",
    "import matplotlib.pyplot as plt\n",
    "plt.style.use('dark_background')\n",
    "plt.plot(mse_hist, '.:')\n",
    "plt.xlabel('Iterations')\n",
    "plt.ylabel('Mean Squared Error')\n",
    "plt.show()"
   ]
  },
  {
   "cell_type": "markdown",
   "id": "56c8142f-4796-4bbc-800b-e028b77ab8c3",
   "metadata": {},
   "source": [
    "# Backpropagation\n",
    "\n",
    "* Allows gradient descent to update all weights in neural network (by getting gradients for all weights)\n",
    "* Comes from chain rule of calculus\n",
    "* Important to understand the process, but you will generally use a library that implements this"
   ]
  },
  {
   "cell_type": "markdown",
   "id": "3b5a3a5e-3163-4887-b64a-073fce8c726b",
   "metadata": {},
   "source": [
    "## Backpropagation process\n",
    "* Trying to estimate the slope of the loss function w.r.t each weight\n",
    "* Do forward propagation to calculate predictions and errors\n",
    "\n",
    "1. Go back one layer at a time\n",
    "2. Gradients for weight is product of:\n",
    "    1. Node value feeding into that weight\n",
    "    2. Slope of loss function w.r.t node it feeds into\n",
    "    3. Slope of activation function at the node it feeds into\n",
    "    \n",
    "* Need to also keep track of the slopes of the loss function w.r.t node values\n",
    "* Slope of node values are the sum of the slopes for all weights that come out of them\n",
    "\n",
    "> Each time you generate predictions using forward propagation, you update the weights using backward propagation.Each time you generate predictions using forward propagation, you update the weights using backward propagation."
   ]
  },
  {
   "cell_type": "markdown",
   "id": "0ab4cc19-8c6b-411c-8f27-8f7e6dccb784",
   "metadata": {},
   "source": [
    "## Thinking about backward propagation\n",
    "\n",
    "If your predictions were all exactly right, and your errors were all exactly 0, the slope of the loss function with respect to your predictions would also be 0. In that circumstance:\n",
    "\n",
    "> The updates to all weights in the network would indeed also be 0."
   ]
  },
  {
   "cell_type": "markdown",
   "id": "f7d51fca-e245-4461-acad-cd70c66424fe",
   "metadata": {},
   "source": [
    "## Backpropagation in practice"
   ]
  },
  {
   "cell_type": "markdown",
   "id": "5d6d256a-9ee6-4b94-9802-a53a4ddfefdb",
   "metadata": {},
   "source": [
    "## Calculating slopes associated with any weight\n",
    "* Gradients for weight is product of:\n",
    "1. Node value feeding into that weight\n",
    "2. Slope of activation function for the node being fed into\n",
    "3. Slope of loss function w.r.t output node"
   ]
  },
  {
   "cell_type": "markdown",
   "id": "29bab45b-0b89-41b6-8594-813b4913ead3",
   "metadata": {},
   "source": [
    "## Backpropagation: Recap\n",
    "* Start at some random set of weights\n",
    "* Use forward propagation to make a prediction\n",
    "* Use backward propagation to calculate the slope of the loss function w.r.t each weight\n",
    "* Multiply that slope by the learning rate, and subtract from the current weights\n",
    "* Keep going with that cycle until we get to a flat part"
   ]
  },
  {
   "cell_type": "markdown",
   "id": "f9d2517c-0de7-4ed6-bea0-6719eb95b38e",
   "metadata": {},
   "source": [
    "## Stochastic gradient descent\n",
    "* **For computational efficiency** it is common to calculate slopes on only a subset of the data: (a batch)\n",
    "* Use a different batch of data to calculate the next update\n",
    "* Start over from the beginning once all data is used\n",
    "* Each time through the training data is called an epoch\n",
    "* When slopes are calculated on one batch at a time that scalled **stochastic gradient descent**"
   ]
  }
 ],
 "metadata": {
  "kernelspec": {
   "display_name": "Python 3 (ipykernel)",
   "language": "python",
   "name": "python3"
  },
  "language_info": {
   "codemirror_mode": {
    "name": "ipython",
    "version": 3
   },
   "file_extension": ".py",
   "mimetype": "text/x-python",
   "name": "python",
   "nbconvert_exporter": "python",
   "pygments_lexer": "ipython3",
   "version": "3.10.12"
  },
  "toc-autonumbering": true
 },
 "nbformat": 4,
 "nbformat_minor": 5
}
