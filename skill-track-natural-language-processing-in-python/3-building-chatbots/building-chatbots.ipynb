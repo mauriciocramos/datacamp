{
 "cells": [
  {
   "cell_type": "markdown",
   "id": "1a470dbc-73c5-409f-a23e-936a8529bce9",
   "metadata": {},
   "source": [
    "# Chatbots 101"
   ]
  },
  {
   "cell_type": "markdown",
   "id": "66dcc1a4-3f14-4ee6-80b4-401314bd22ad",
   "metadata": {},
   "source": [
    "## Echobot"
   ]
  },
  {
   "cell_type": "code",
   "execution_count": 1,
   "id": "82d79e5e-467b-40a3-b7d8-d962046c6761",
   "metadata": {
    "execution": {
     "iopub.execute_input": "2022-12-23T18:32:18.860263Z",
     "iopub.status.busy": "2022-12-23T18:32:18.860089Z",
     "iopub.status.idle": "2022-12-23T18:32:18.863657Z",
     "shell.execute_reply": "2022-12-23T18:32:18.863415Z",
     "shell.execute_reply.started": "2022-12-23T18:32:18.860253Z"
    },
    "tags": []
   },
   "outputs": [
    {
     "name": "stdout",
     "output_type": "stream",
     "text": [
      "I can hear you! You said: hello!\n"
     ]
    }
   ],
   "source": [
    "bot_template = \"BOT : {0}\"\n",
    "user_template = \"USER : {0}\"\n",
    "\n",
    "def respond(message):\n",
    "    bot_message = \"I can hear you! You said: \" + message\n",
    "    return bot_message\n",
    "\n",
    "print(respond(\"hello!\"))"
   ]
  },
  {
   "cell_type": "code",
   "execution_count": 2,
   "id": "c6ced053-a6c1-4f3b-8258-f584f501e6b9",
   "metadata": {
    "execution": {
     "iopub.execute_input": "2022-12-23T18:32:18.864344Z",
     "iopub.status.busy": "2022-12-23T18:32:18.864245Z",
     "iopub.status.idle": "2022-12-23T18:32:18.901743Z",
     "shell.execute_reply": "2022-12-23T18:32:18.901451Z",
     "shell.execute_reply.started": "2022-12-23T18:32:18.864334Z"
    }
   },
   "outputs": [
    {
     "name": "stdout",
     "output_type": "stream",
     "text": [
      "USER : hello\n",
      "BOT : I can hear you! You said: hello\n"
     ]
    }
   ],
   "source": [
    "def send_message(message):\n",
    "    print(user_template.format(message))\n",
    "    response = respond(message)\n",
    "    print(bot_template.format(response))\n",
    "\n",
    "send_message(\"hello\")"
   ]
  },
  {
   "cell_type": "markdown",
   "id": "8c3ad2c8-32c2-4523-ac6d-18a1bb7facd6",
   "metadata": {},
   "source": [
    "## Creating a personality"
   ]
  },
  {
   "cell_type": "markdown",
   "id": "98dd5b62-1731-4fa7-a8ef-81aab6fe15ca",
   "metadata": {},
   "source": [
    "### Static answer"
   ]
  },
  {
   "cell_type": "code",
   "execution_count": 3,
   "id": "786ad52a-d4bb-4de5-ac1f-bf224b1f95f2",
   "metadata": {
    "execution": {
     "iopub.execute_input": "2022-12-23T18:32:18.902199Z",
     "iopub.status.busy": "2022-12-23T18:32:18.902107Z",
     "iopub.status.idle": "2022-12-23T18:32:18.904570Z",
     "shell.execute_reply": "2022-12-23T18:32:18.904192Z",
     "shell.execute_reply.started": "2022-12-23T18:32:18.902190Z"
    },
    "tags": []
   },
   "outputs": [],
   "source": [
    "name = \"Greg\"\n",
    "weather = \"cloudy\"\n",
    "\n",
    "responses = {\n",
    "  \"what's your name?\": \"my name is {0}\".format(name),\n",
    "  \"what's today's weather?\": \"the weather is {0}\".format(weather),\n",
    "  \"default\": \"default message\"\n",
    "}\n",
    "\n",
    "def respond(message):\n",
    "    if message in responses:\n",
    "        bot_message = responses[message]\n",
    "    else:\n",
    "        bot_message = responses[\"default\"]\n",
    "    return bot_message"
   ]
  },
  {
   "cell_type": "code",
   "execution_count": 4,
   "id": "d5719b91-4d11-4087-9fce-6429be4d3c87",
   "metadata": {
    "execution": {
     "iopub.execute_input": "2022-12-23T18:32:18.904983Z",
     "iopub.status.busy": "2022-12-23T18:32:18.904897Z",
     "iopub.status.idle": "2022-12-23T18:32:18.906925Z",
     "shell.execute_reply": "2022-12-23T18:32:18.906646Z",
     "shell.execute_reply.started": "2022-12-23T18:32:18.904975Z"
    },
    "tags": []
   },
   "outputs": [
    {
     "name": "stdout",
     "output_type": "stream",
     "text": [
      "USER : what's your name?\n",
      "BOT : my name is Greg\n"
     ]
    }
   ],
   "source": [
    "send_message(\"what's your name?\")"
   ]
  },
  {
   "cell_type": "markdown",
   "id": "dd55804f-0b0e-4ef5-a5f9-c6ec4eed239e",
   "metadata": {},
   "source": [
    "### Random answer"
   ]
  },
  {
   "cell_type": "code",
   "execution_count": 5,
   "id": "d444d1ba-1d63-4a66-a252-a22f22c8a494",
   "metadata": {
    "execution": {
     "iopub.execute_input": "2022-12-23T18:32:18.907398Z",
     "iopub.status.busy": "2022-12-23T18:32:18.907250Z",
     "iopub.status.idle": "2022-12-23T18:32:18.909632Z",
     "shell.execute_reply": "2022-12-23T18:32:18.909374Z",
     "shell.execute_reply.started": "2022-12-23T18:32:18.907389Z"
    },
    "tags": []
   },
   "outputs": [],
   "source": [
    "# Import the random module\n",
    "import random\n",
    "\n",
    "responses = {\n",
    "  \"what's your name?\": [\n",
    "      \"my name is {0}\".format(name),\n",
    "      \"they call me {0}\".format(name),\n",
    "      \"I go by {0}\".format(name)\n",
    "   ],\n",
    "  \"what's today's weather?\": [\n",
    "      \"the weather is {0}\".format(weather),\n",
    "      \"it's {0} today\".format(weather)\n",
    "    ],\n",
    "  \"default\": [\"default message\"]\n",
    "}\n",
    "\n",
    "def respond(message):\n",
    "    if message in responses:\n",
    "        bot_message = random.choice(responses[message])\n",
    "    else:\n",
    "        bot_message = random.choice(responses[\"default\"])\n",
    "    return bot_message"
   ]
  },
  {
   "cell_type": "code",
   "execution_count": 6,
   "id": "b459991c-3929-4d91-9c91-5c819a7af886",
   "metadata": {
    "execution": {
     "iopub.execute_input": "2022-12-23T18:32:18.910076Z",
     "iopub.status.busy": "2022-12-23T18:32:18.909990Z",
     "iopub.status.idle": "2022-12-23T18:32:18.911673Z",
     "shell.execute_reply": "2022-12-23T18:32:18.911413Z",
     "shell.execute_reply.started": "2022-12-23T18:32:18.910068Z"
    },
    "tags": []
   },
   "outputs": [
    {
     "name": "stdout",
     "output_type": "stream",
     "text": [
      "USER : what's your name?\n",
      "BOT : my name is Greg\n"
     ]
    }
   ],
   "source": [
    "send_message(\"what's your name?\")"
   ]
  },
  {
   "cell_type": "markdown",
   "id": "7b39cabe-1f26-4bc3-ac33-db5086212f2b",
   "metadata": {},
   "source": [
    "## ELIZA: asking questions"
   ]
  },
  {
   "cell_type": "code",
   "execution_count": 7,
   "id": "7ca16008-3093-4fe3-8f50-acac57607a22",
   "metadata": {
    "execution": {
     "iopub.execute_input": "2022-12-23T18:32:18.912667Z",
     "iopub.status.busy": "2022-12-23T18:32:18.912579Z",
     "iopub.status.idle": "2022-12-23T18:32:18.914465Z",
     "shell.execute_reply": "2022-12-23T18:32:18.914212Z",
     "shell.execute_reply.started": "2022-12-23T18:32:18.912659Z"
    }
   },
   "outputs": [],
   "source": [
    "responses = {'question': [\"I don't know :(\", 'you tell me!'],\n",
    "             'statement': ['tell me more!',\n",
    "                           'why do you think that?',\n",
    "                           'how long have you felt this way?',\n",
    "                           'I find that extremely interesting',\n",
    "                           'can you back that up?',\n",
    "                           'oh wow!',\n",
    "                           ':)']}"
   ]
  },
  {
   "cell_type": "code",
   "execution_count": 8,
   "id": "85e9cd5e-802d-449a-a90e-9db6ace0d6f5",
   "metadata": {
    "execution": {
     "iopub.execute_input": "2022-12-23T18:32:18.914876Z",
     "iopub.status.busy": "2022-12-23T18:32:18.914788Z",
     "iopub.status.idle": "2022-12-23T18:32:18.917028Z",
     "shell.execute_reply": "2022-12-23T18:32:18.916756Z",
     "shell.execute_reply.started": "2022-12-23T18:32:18.914867Z"
    },
    "tags": []
   },
   "outputs": [
    {
     "name": "stdout",
     "output_type": "stream",
     "text": [
      "USER : what's today's weather?\n",
      "BOT : you tell me!\n",
      "USER : what's today's weather?\n",
      "BOT : I don't know :(\n",
      "USER : I love building chatbots\n",
      "BOT : how long have you felt this way?\n",
      "USER : I love building chatbots\n",
      "BOT : :)\n"
     ]
    }
   ],
   "source": [
    "def respond(message):\n",
    "    # Check for a question mark\n",
    "    if message.endswith('?'):\n",
    "        return random.choice(responses[\"question\"])\n",
    "    return random.choice(responses[\"statement\"])\n",
    "\n",
    "send_message(\"what's today's weather?\")\n",
    "send_message(\"what's today's weather?\")\n",
    "send_message(\"I love building chatbots\")\n",
    "send_message(\"I love building chatbots\")"
   ]
  },
  {
   "cell_type": "markdown",
   "id": "a04717d3-7714-4173-8368-d44a01ca0f9a",
   "metadata": {},
   "source": [
    "## Text processing with regular expressions"
   ]
  },
  {
   "cell_type": "code",
   "execution_count": 9,
   "id": "8355aa72-2333-4f87-9bd0-3ddb412e79a1",
   "metadata": {
    "execution": {
     "iopub.execute_input": "2022-12-23T18:32:18.917447Z",
     "iopub.status.busy": "2022-12-23T18:32:18.917354Z",
     "iopub.status.idle": "2022-12-23T18:32:18.919577Z",
     "shell.execute_reply": "2022-12-23T18:32:18.919247Z",
     "shell.execute_reply.started": "2022-12-23T18:32:18.917439Z"
    },
    "tags": []
   },
   "outputs": [],
   "source": [
    "import re\n",
    "rules = {'I want (.*)': ['What would it mean if you got {0}',\n",
    "                         'Why do you want {0}',\n",
    "                         \"What's stopping you from getting {0}\"],\n",
    "         \n",
    "         'do you remember (.*)': ['Did you think I would forget {0}',\n",
    "                                  \"Why haven't you been able to forget {0}\",\n",
    "                                  'What about {0}',\n",
    "                                  'Yes .. and?'],\n",
    "         \n",
    "         'do you think (.*)': ['if {0}? Absolutely.', 'No chance'],\n",
    "         \n",
    "         'if (.*)': [\"Do you really think it's likely that {0}\",\n",
    "                     'Do you wish that {0}',\n",
    "                     'What do you think about {0}',\n",
    "                     'Really--if {0}']}"
   ]
  },
  {
   "cell_type": "code",
   "execution_count": 10,
   "id": "9031246e-49c7-458c-891f-688ab25b7428",
   "metadata": {
    "execution": {
     "iopub.execute_input": "2022-12-23T18:32:18.920022Z",
     "iopub.status.busy": "2022-12-23T18:32:18.919933Z",
     "iopub.status.idle": "2022-12-23T18:32:18.923007Z",
     "shell.execute_reply": "2022-12-23T18:32:18.922616Z",
     "shell.execute_reply.started": "2022-12-23T18:32:18.920013Z"
    },
    "tags": []
   },
   "outputs": [
    {
     "name": "stdout",
     "output_type": "stream",
     "text": [
      "Why haven't you been able to forget your last birthday\n"
     ]
    }
   ],
   "source": [
    "# Define match_rule()\n",
    "def match_rule(rules, message):\n",
    "    response, phrase = \"default\", None\n",
    "    \n",
    "    # Iterate over the rules dictionary\n",
    "    for pattern, responses  in rules.items():\n",
    "        # Create a match object\n",
    "        match = re.search(pattern, message)\n",
    "        if match is not None:\n",
    "            # Choose a random response\n",
    "            response = random.choice(responses)\n",
    "            if '{0}' in response:\n",
    "                phrase = match.group(1)\n",
    "    # Return the response and phrase\n",
    "    return response.format(phrase)\n",
    "\n",
    "# Test match_rule\n",
    "print(match_rule(rules, \"do you remember your last birthday\"))"
   ]
  },
  {
   "cell_type": "code",
   "execution_count": 11,
   "id": "f5b23f72-02dd-4b32-87a2-62cd5034bab6",
   "metadata": {
    "execution": {
     "iopub.execute_input": "2022-12-23T18:32:18.923504Z",
     "iopub.status.busy": "2022-12-23T18:32:18.923399Z",
     "iopub.status.idle": "2022-12-23T18:32:18.926495Z",
     "shell.execute_reply": "2022-12-23T18:32:18.926194Z",
     "shell.execute_reply.started": "2022-12-23T18:32:18.923494Z"
    },
    "tags": []
   },
   "outputs": [
    {
     "name": "stdout",
     "output_type": "stream",
     "text": [
      "your last birthday\n",
      "when me went to florida\n",
      "i had your own castle\n"
     ]
    }
   ],
   "source": [
    "# Define replace_pronouns()\n",
    "def replace_pronouns(message):\n",
    "    message = message.lower()\n",
    "    if 'me' in message:\n",
    "        # Replace 'me' with 'you'\n",
    "        return re.sub('me', 'you', message)\n",
    "    if 'my' in message:\n",
    "        # Replace 'my' with 'your'\n",
    "        return re.sub('my', 'your', message)\n",
    "    if 'your' in message:\n",
    "        # Replace 'your' with 'my'\n",
    "        return re.sub('your', 'my', message)\n",
    "    if 'you' in message:\n",
    "        # Replace 'you' with 'me'\n",
    "        return re.sub('you', 'me', message)\n",
    "\n",
    "    return message\n",
    "\n",
    "print(replace_pronouns(\"my last birthday\"))\n",
    "print(replace_pronouns(\"when you went to Florida\"))\n",
    "print(replace_pronouns(\"I had my own castle\"))"
   ]
  },
  {
   "cell_type": "code",
   "execution_count": 12,
   "id": "11392d5f-f65a-4417-b37e-da295fb9c165",
   "metadata": {
    "execution": {
     "iopub.execute_input": "2022-12-23T18:32:18.926964Z",
     "iopub.status.busy": "2022-12-23T18:32:18.926866Z",
     "iopub.status.idle": "2022-12-23T18:32:18.929125Z",
     "shell.execute_reply": "2022-12-23T18:32:18.928875Z",
     "shell.execute_reply.started": "2022-12-23T18:32:18.926955Z"
    },
    "tags": []
   },
   "outputs": [],
   "source": [
    "def match_rule(rules, message):\n",
    "    for pattern, responses in rules.items():\n",
    "        match = re.search(pattern, message)\n",
    "        if match is not None:\n",
    "            response = random.choice(responses)\n",
    "            var = match.group(1) if '{0}' in response else None\n",
    "            return response, var\n",
    "    return \"default\", None"
   ]
  },
  {
   "cell_type": "code",
   "execution_count": 13,
   "id": "a7a6ac5f-5be2-48d7-965c-bbd360a58bf1",
   "metadata": {
    "execution": {
     "iopub.execute_input": "2022-12-23T18:32:18.929682Z",
     "iopub.status.busy": "2022-12-23T18:32:18.929504Z",
     "iopub.status.idle": "2022-12-23T18:32:18.931982Z",
     "shell.execute_reply": "2022-12-23T18:32:18.931705Z",
     "shell.execute_reply.started": "2022-12-23T18:32:18.929672Z"
    },
    "tags": []
   },
   "outputs": [
    {
     "name": "stdout",
     "output_type": "stream",
     "text": [
      "USER : do you remember your last birthday\n",
      "BOT : Yes .. and?\n",
      "USER : do you think humans should be worried about AI\n",
      "BOT : No chance\n",
      "USER : I want a robot friend\n",
      "BOT : Why do you want a robot friend\n",
      "USER : what if you could be anything you wanted\n",
      "BOT : Do you really think it's likely that me could be anything me wanted\n",
      "USER : test\n",
      "BOT : default\n"
     ]
    }
   ],
   "source": [
    "# Define respond()\n",
    "def respond(message):\n",
    "    # Call match_rule\n",
    "    response, phrase = match_rule(rules, message)\n",
    "    if '{0}' in response:\n",
    "        # Replace the pronouns in the phrase\n",
    "        phrase = replace_pronouns(phrase)\n",
    "        # Include the phrase in the response\n",
    "        response = response.format(phrase)\n",
    "    return response\n",
    "\n",
    "# Send the messages\n",
    "send_message(\"do you remember your last birthday\")\n",
    "send_message(\"do you think humans should be worried about AI\")\n",
    "send_message(\"I want a robot friend\")\n",
    "send_message(\"what if you could be anything you wanted\")\n",
    "send_message('test')"
   ]
  },
  {
   "cell_type": "markdown",
   "id": "1bb7997d-9c8e-43b9-a83f-809d6ff9f2a3",
   "metadata": {},
   "source": [
    "# Understanding natural language"
   ]
  },
  {
   "cell_type": "markdown",
   "id": "6ff93cd7-bd59-407e-a670-4de6d2228284",
   "metadata": {},
   "source": [
    "## Intent classification with regex"
   ]
  },
  {
   "cell_type": "code",
   "execution_count": 14,
   "id": "17438a0e-e5f9-4c75-954b-a1b9348e75ba",
   "metadata": {
    "execution": {
     "iopub.execute_input": "2022-12-23T18:32:18.932513Z",
     "iopub.status.busy": "2022-12-23T18:32:18.932330Z",
     "iopub.status.idle": "2022-12-23T18:32:18.934082Z",
     "shell.execute_reply": "2022-12-23T18:32:18.933857Z",
     "shell.execute_reply.started": "2022-12-23T18:32:18.932504Z"
    }
   },
   "outputs": [],
   "source": [
    "keywords = {'goodbye': ['bye', 'farewell'],\n",
    "            'greet': ['hello', 'hi', 'hey'],\n",
    "            'thankyou': ['thank', 'thx']}"
   ]
  },
  {
   "cell_type": "code",
   "execution_count": 15,
   "id": "a0788c30-d032-4daa-acc6-f889f9785530",
   "metadata": {
    "execution": {
     "iopub.execute_input": "2022-12-23T18:32:18.934572Z",
     "iopub.status.busy": "2022-12-23T18:32:18.934485Z",
     "iopub.status.idle": "2022-12-23T18:32:18.936071Z",
     "shell.execute_reply": "2022-12-23T18:32:18.935826Z",
     "shell.execute_reply.started": "2022-12-23T18:32:18.934563Z"
    },
    "tags": []
   },
   "outputs": [],
   "source": [
    "responses = {'default': 'default message',\n",
    "             'goodbye': 'goodbye for now',\n",
    "             'greet': 'Hello you! :)',\n",
    "             'thankyou': 'you are very welcome'}"
   ]
  },
  {
   "cell_type": "code",
   "execution_count": 16,
   "id": "c6f90fb1-45e0-40e3-a23b-68625e84cee7",
   "metadata": {
    "execution": {
     "iopub.execute_input": "2022-12-23T18:32:18.936555Z",
     "iopub.status.busy": "2022-12-23T18:32:18.936403Z",
     "iopub.status.idle": "2022-12-23T18:32:18.938648Z",
     "shell.execute_reply": "2022-12-23T18:32:18.938185Z",
     "shell.execute_reply.started": "2022-12-23T18:32:18.936546Z"
    },
    "tags": []
   },
   "outputs": [],
   "source": [
    "bot_template = \"BOT : {0}\"\n",
    "user_template = \"USER : {0}\"\n",
    "def send_message(message):\n",
    "    print(user_template.format(message))\n",
    "    response = respond(message)\n",
    "    print(bot_template.format(response))"
   ]
  },
  {
   "cell_type": "code",
   "execution_count": 17,
   "id": "b2ba8135-3742-4422-bd27-e03165828188",
   "metadata": {
    "execution": {
     "iopub.execute_input": "2022-12-23T18:32:18.939152Z",
     "iopub.status.busy": "2022-12-23T18:32:18.939052Z",
     "iopub.status.idle": "2022-12-23T18:32:18.941563Z",
     "shell.execute_reply": "2022-12-23T18:32:18.941295Z",
     "shell.execute_reply.started": "2022-12-23T18:32:18.939142Z"
    },
    "tags": []
   },
   "outputs": [
    {
     "name": "stdout",
     "output_type": "stream",
     "text": [
      "{'goodbye': re.compile('bye|farewell'), 'greet': re.compile('hello|hi|hey'), 'thankyou': re.compile('thank|thx')}\n"
     ]
    }
   ],
   "source": [
    "# Define a dictionary of patterns\n",
    "patterns = {}\n",
    "\n",
    "# Iterate over the keywords dictionary\n",
    "for intent, keys in keywords.items():\n",
    "    # Create regular expressions and compile them into pattern objects\n",
    "    patterns[intent] = re.compile('|'.join(keys))\n",
    "    \n",
    "# Print the patterns\n",
    "print(patterns)"
   ]
  },
  {
   "cell_type": "code",
   "execution_count": 18,
   "id": "f6e06b6f-dbda-4ae3-b3b8-4e0fe94f9e02",
   "metadata": {
    "execution": {
     "iopub.execute_input": "2022-12-23T18:32:18.941992Z",
     "iopub.status.busy": "2022-12-23T18:32:18.941898Z",
     "iopub.status.idle": "2022-12-23T18:32:18.945822Z",
     "shell.execute_reply": "2022-12-23T18:32:18.945526Z",
     "shell.execute_reply.started": "2022-12-23T18:32:18.941983Z"
    },
    "tags": []
   },
   "outputs": [
    {
     "data": {
      "text/plain": [
       "'greet'"
      ]
     },
     "execution_count": 18,
     "metadata": {},
     "output_type": "execute_result"
    }
   ],
   "source": [
    "# Define a function to find the intent of a message\n",
    "def match_intent(message):\n",
    "    matched_intent = None\n",
    "    for intent, pattern in patterns.items():\n",
    "        # Check if the pattern occurs in the message \n",
    "        if pattern.search(message):\n",
    "            matched_intent = intent\n",
    "    return matched_intent\n",
    "\n",
    "match_intent(\"hello!\")"
   ]
  },
  {
   "cell_type": "code",
   "execution_count": 19,
   "id": "082d17c8-12bc-42aa-8a47-bfb64c58d1a0",
   "metadata": {
    "execution": {
     "iopub.execute_input": "2022-12-23T18:32:18.946317Z",
     "iopub.status.busy": "2022-12-23T18:32:18.946200Z",
     "iopub.status.idle": "2022-12-23T18:32:18.948633Z",
     "shell.execute_reply": "2022-12-23T18:32:18.948389Z",
     "shell.execute_reply.started": "2022-12-23T18:32:18.946307Z"
    }
   },
   "outputs": [
    {
     "name": "stdout",
     "output_type": "stream",
     "text": [
      "USER : hello!\n",
      "BOT : Hello you! :)\n",
      "USER : bye byeee\n",
      "BOT : goodbye for now\n",
      "USER : thanks very much!\n",
      "BOT : you are very welcome\n"
     ]
    }
   ],
   "source": [
    "# Define a respond function\n",
    "def respond(message):\n",
    "    # Call the match_intent function\n",
    "    intent = match_intent(message)\n",
    "    # Fall back to the default response\n",
    "    key = \"default\"\n",
    "    if intent in responses:\n",
    "        key = intent\n",
    "    return responses[key]\n",
    "\n",
    "# Send messages\n",
    "send_message(\"hello!\")\n",
    "send_message(\"bye byeee\")\n",
    "send_message(\"thanks very much!\")"
   ]
  },
  {
   "cell_type": "markdown",
   "id": "4c210723-5488-41d7-8ed6-971d9b2d54ff",
   "metadata": {},
   "source": [
    "## Entity extraction with regex"
   ]
  },
  {
   "cell_type": "code",
   "execution_count": 20,
   "id": "41e78dc4-6c23-4556-b586-6fadffbcbf4a",
   "metadata": {
    "execution": {
     "iopub.execute_input": "2022-12-23T18:32:18.949065Z",
     "iopub.status.busy": "2022-12-23T18:32:18.948972Z",
     "iopub.status.idle": "2022-12-23T18:32:18.952449Z",
     "shell.execute_reply": "2022-12-23T18:32:18.952215Z",
     "shell.execute_reply.started": "2022-12-23T18:32:18.949053Z"
    },
    "tags": []
   },
   "outputs": [
    {
     "data": {
      "text/plain": [
       "'David Copperfield'"
      ]
     },
     "execution_count": 20,
     "metadata": {},
     "output_type": "execute_result"
    }
   ],
   "source": [
    "# Define find_name()\n",
    "def find_name(message):\n",
    "    name = None\n",
    "    # Create a pattern for checking if the keywords occur\n",
    "    name_keyword = re.compile(r'name|call')\n",
    "    # Create a pattern for finding capitalized words\n",
    "    name_pattern = re.compile(r'\\b[A-Z]{1}[a-z]*\\b')\n",
    "    if name_keyword.search(message):\n",
    "        # Get the matching words in the string\n",
    "        name_words = name_pattern.findall(message)\n",
    "        if len(name_words) > 0:\n",
    "            # Return the name if the keywords are present\n",
    "            name = ' '.join(name_words)\n",
    "    return name\n",
    "\n",
    "find_name(\"my name is David Copperfield\")"
   ]
  },
  {
   "cell_type": "code",
   "execution_count": 21,
   "id": "cb9dabe9-aa45-4ab7-8217-a92d468a65bc",
   "metadata": {
    "execution": {
     "iopub.execute_input": "2022-12-23T18:32:18.952881Z",
     "iopub.status.busy": "2022-12-23T18:32:18.952787Z",
     "iopub.status.idle": "2022-12-23T18:32:18.955200Z",
     "shell.execute_reply": "2022-12-23T18:32:18.954919Z",
     "shell.execute_reply.started": "2022-12-23T18:32:18.952872Z"
    },
    "tags": []
   },
   "outputs": [
    {
     "name": "stdout",
     "output_type": "stream",
     "text": [
      "USER : my name is David Copperfield\n",
      "BOT : Hello, David Copperfield!\n",
      "USER : call me Ishmael\n",
      "BOT : Hello, Ishmael!\n",
      "USER : People call me Cassandra\n",
      "BOT : Hello, People Cassandra!\n"
     ]
    }
   ],
   "source": [
    "# Define respond()\n",
    "def respond(message):\n",
    "    # Find the name\n",
    "    name = find_name(message)\n",
    "    if name is None:\n",
    "        return \"Hi there!\"\n",
    "    else:\n",
    "        return \"Hello, {0}!\".format(name)\n",
    "\n",
    "# Send messages\n",
    "send_message(\"my name is David Copperfield\")\n",
    "send_message(\"call me Ishmael\")\n",
    "send_message(\"People call me Cassandra\")"
   ]
  },
  {
   "cell_type": "markdown",
   "id": "3380ae36-c9d4-426a-b321-b08db659f45c",
   "metadata": {},
   "source": [
    "## Word vectors"
   ]
  },
  {
   "cell_type": "code",
   "execution_count": 22,
   "id": "87613f84-05ca-430e-a2f3-dee22f4815de",
   "metadata": {
    "execution": {
     "iopub.execute_input": "2022-12-23T18:32:18.957421Z",
     "iopub.status.busy": "2022-12-23T18:32:18.957188Z",
     "iopub.status.idle": "2022-12-23T18:32:21.207056Z",
     "shell.execute_reply": "2022-12-23T18:32:21.206680Z",
     "shell.execute_reply.started": "2022-12-23T18:32:18.957411Z"
    },
    "tags": []
   },
   "outputs": [
    {
     "data": {
      "text/plain": [
       "True"
      ]
     },
     "execution_count": 22,
     "metadata": {},
     "output_type": "execute_result"
    }
   ],
   "source": [
    "import spacy\n",
    "spacy.require_cpu()"
   ]
  },
  {
   "cell_type": "code",
   "execution_count": 23,
   "id": "e9fbc5fd-ed73-42b7-9003-5a752af6af24",
   "metadata": {
    "execution": {
     "iopub.execute_input": "2022-12-23T18:32:21.207594Z",
     "iopub.status.busy": "2022-12-23T18:32:21.207452Z",
     "iopub.status.idle": "2022-12-23T18:32:22.046866Z",
     "shell.execute_reply": "2022-12-23T18:32:22.046510Z",
     "shell.execute_reply.started": "2022-12-23T18:32:21.207584Z"
    },
    "tags": []
   },
   "outputs": [
    {
     "data": {
      "text/plain": [
       "300"
      ]
     },
     "execution_count": 23,
     "metadata": {},
     "output_type": "execute_result"
    }
   ],
   "source": [
    "nlp = spacy.load('en_core_web_lg')\n",
    "nlp.vocab.vectors_length"
   ]
  },
  {
   "cell_type": "code",
   "execution_count": 24,
   "id": "8c3251b0-21bf-4941-9b7a-5f25fb3bc3a3",
   "metadata": {
    "execution": {
     "iopub.execute_input": "2022-12-23T18:32:22.047495Z",
     "iopub.status.busy": "2022-12-23T18:32:22.047260Z",
     "iopub.status.idle": "2022-12-23T18:32:22.053705Z",
     "shell.execute_reply": "2022-12-23T18:32:22.053431Z",
     "shell.execute_reply.started": "2022-12-23T18:32:22.047485Z"
    },
    "tags": []
   },
   "outputs": [
    {
     "name": "stdout",
     "output_type": "stream",
     "text": [
      "hello : [2.2407 1.0389 1.3092]\n",
      "can : [ 11.126    7.0777 -10.742 ]\n",
      "you : [ 1.4499  5.3428 -8.9669]\n",
      "help : [ 6.2703  2.9769 -9.8896]\n",
      "me : [ 3.2542  3.2145 -8.541 ]\n",
      "? : [-3.9971  6.4714 -7.8349]\n"
     ]
    }
   ],
   "source": [
    "doc = nlp('hello can you help me?')\n",
    "# Iterate over the tokens and access their word vectors\n",
    "for token in doc:\n",
    "    print(\"{} : {}\".format(token, token.vector[:3]))"
   ]
  },
  {
   "cell_type": "markdown",
   "id": "3a30197b-9fae-49cd-b5b6-88050655e019",
   "metadata": {},
   "source": [
    "## Similarity"
   ]
  },
  {
   "cell_type": "markdown",
   "id": "645123c4-4def-4962-867f-f5a8d184302a",
   "metadata": {},
   "source": [
    "* Direction of vectors matters\n",
    "* \"Distance\" between words = angle between the vectors\n",
    "* Cosine similarity\n",
    "    * 1: If vectors point in the same direction\n",
    "    * 0: If they are perpendicular\n",
    "    * -1: If they point in opposite directions"
   ]
  },
  {
   "cell_type": "code",
   "execution_count": 25,
   "id": "1525d3c6-edb3-4dad-9686-3fe3bc0635fd",
   "metadata": {
    "execution": {
     "iopub.execute_input": "2022-12-23T18:32:22.054187Z",
     "iopub.status.busy": "2022-12-23T18:32:22.054081Z",
     "iopub.status.idle": "2022-12-23T18:32:22.058997Z",
     "shell.execute_reply": "2022-12-23T18:32:22.058694Z",
     "shell.execute_reply.started": "2022-12-23T18:32:22.054177Z"
    },
    "tags": []
   },
   "outputs": [],
   "source": [
    "doc = nlp('cat')"
   ]
  },
  {
   "cell_type": "code",
   "execution_count": 26,
   "id": "e39537b2-6782-4178-a038-60c293e5382a",
   "metadata": {
    "execution": {
     "iopub.execute_input": "2022-12-23T18:32:22.059652Z",
     "iopub.status.busy": "2022-12-23T18:32:22.059398Z",
     "iopub.status.idle": "2022-12-23T18:32:22.064794Z",
     "shell.execute_reply": "2022-12-23T18:32:22.064545Z",
     "shell.execute_reply.started": "2022-12-23T18:32:22.059641Z"
    },
    "tags": []
   },
   "outputs": [
    {
     "data": {
      "text/plain": [
       "1.0"
      ]
     },
     "execution_count": 26,
     "metadata": {},
     "output_type": "execute_result"
    }
   ],
   "source": [
    "doc.similarity(nlp('cat'))"
   ]
  },
  {
   "cell_type": "code",
   "execution_count": 27,
   "id": "842345fa-4f0b-4aa8-9fce-01a210c535e9",
   "metadata": {
    "execution": {
     "iopub.execute_input": "2022-12-23T18:32:22.065356Z",
     "iopub.status.busy": "2022-12-23T18:32:22.065158Z",
     "iopub.status.idle": "2022-12-23T18:32:22.070342Z",
     "shell.execute_reply": "2022-12-23T18:32:22.070068Z",
     "shell.execute_reply.started": "2022-12-23T18:32:22.065346Z"
    },
    "tags": []
   },
   "outputs": [
    {
     "data": {
      "text/plain": [
       "0.09815447947206758"
      ]
     },
     "execution_count": 27,
     "metadata": {},
     "output_type": "execute_result"
    }
   ],
   "source": [
    "doc.similarity(nlp('can'))"
   ]
  },
  {
   "cell_type": "code",
   "execution_count": 28,
   "id": "d4a318b2-23f3-4267-b531-4fb98eae1e55",
   "metadata": {
    "execution": {
     "iopub.execute_input": "2022-12-23T18:32:22.070980Z",
     "iopub.status.busy": "2022-12-23T18:32:22.070744Z",
     "iopub.status.idle": "2022-12-23T18:32:22.076674Z",
     "shell.execute_reply": "2022-12-23T18:32:22.076309Z",
     "shell.execute_reply.started": "2022-12-23T18:32:22.070964Z"
    },
    "tags": []
   },
   "outputs": [
    {
     "data": {
      "text/plain": [
       "0.82208162391359"
      ]
     },
     "execution_count": 28,
     "metadata": {},
     "output_type": "execute_result"
    }
   ],
   "source": [
    "doc.similarity(nlp('dog'))"
   ]
  },
  {
   "cell_type": "markdown",
   "id": "e79bd68b-6d64-4309-8487-18dfb42a9e87",
   "metadata": {},
   "source": [
    "## ATIS dataset"
   ]
  },
  {
   "cell_type": "code",
   "execution_count": 29,
   "id": "0dcb98bd-40b9-4613-a397-a308d72b5716",
   "metadata": {
    "execution": {
     "iopub.execute_input": "2022-12-23T18:32:22.077177Z",
     "iopub.status.busy": "2022-12-23T18:32:22.077072Z",
     "iopub.status.idle": "2022-12-23T18:32:22.221283Z",
     "shell.execute_reply": "2022-12-23T18:32:22.220865Z",
     "shell.execute_reply.started": "2022-12-23T18:32:22.077167Z"
    },
    "tags": []
   },
   "outputs": [
    {
     "data": {
      "text/html": [
       "<div>\n",
       "<style scoped>\n",
       "    .dataframe tbody tr th:only-of-type {\n",
       "        vertical-align: middle;\n",
       "    }\n",
       "\n",
       "    .dataframe tbody tr th {\n",
       "        vertical-align: top;\n",
       "    }\n",
       "\n",
       "    .dataframe thead th {\n",
       "        text-align: right;\n",
       "    }\n",
       "</style>\n",
       "<table border=\"1\" class=\"dataframe\">\n",
       "  <thead>\n",
       "    <tr style=\"text-align: right;\">\n",
       "      <th></th>\n",
       "      <th>intent</th>\n",
       "      <th>sentence</th>\n",
       "    </tr>\n",
       "  </thead>\n",
       "  <tbody>\n",
       "    <tr>\n",
       "      <th>0</th>\n",
       "      <td>atis_flight</td>\n",
       "      <td>i want to fly from boston at 838 am and arriv...</td>\n",
       "    </tr>\n",
       "    <tr>\n",
       "      <th>1</th>\n",
       "      <td>atis_flight</td>\n",
       "      <td>what flights are available from pittsburgh to...</td>\n",
       "    </tr>\n",
       "    <tr>\n",
       "      <th>2</th>\n",
       "      <td>atis_flight_time</td>\n",
       "      <td>what is the arrival time in san francisco for...</td>\n",
       "    </tr>\n",
       "    <tr>\n",
       "      <th>3</th>\n",
       "      <td>atis_airfare</td>\n",
       "      <td>cheapest airfare from tacoma to orlando</td>\n",
       "    </tr>\n",
       "    <tr>\n",
       "      <th>4</th>\n",
       "      <td>atis_airfare</td>\n",
       "      <td>round trip fares from pittsburgh to philadelp...</td>\n",
       "    </tr>\n",
       "  </tbody>\n",
       "</table>\n",
       "</div>"
      ],
      "text/plain": [
       "             intent                                           sentence\n",
       "0       atis_flight   i want to fly from boston at 838 am and arriv...\n",
       "1       atis_flight   what flights are available from pittsburgh to...\n",
       "2  atis_flight_time   what is the arrival time in san francisco for...\n",
       "3      atis_airfare            cheapest airfare from tacoma to orlando\n",
       "4      atis_airfare   round trip fares from pittsburgh to philadelp..."
      ]
     },
     "execution_count": 29,
     "metadata": {},
     "output_type": "execute_result"
    }
   ],
   "source": [
    "import pandas as pd\n",
    "atis = pd.read_csv('atis/atis_intents.csv', header=None, names=['intent','sentence'])\n",
    "atis_train = pd.read_csv('atis/atis_intents_train.csv', header=None, names=['intent','sentence'])\n",
    "atis_test = pd.read_csv('atis/atis_intents_test.csv', header=None, names=['intent','sentence'])\n",
    "atis.head()"
   ]
  },
  {
   "cell_type": "markdown",
   "id": "ebe53b8e-c476-49bb-a2a4-855c08ca8ab6",
   "metadata": {},
   "source": [
    "## Nearest neighbor classification with sklearn"
   ]
  },
  {
   "cell_type": "markdown",
   "id": "eb471452-4a09-473c-b183-012bbd1c0211",
   "metadata": {},
   "source": [
    "### Single test"
   ]
  },
  {
   "cell_type": "code",
   "execution_count": 30,
   "id": "f5d9cc26-87d1-49ac-9c07-08c108a1a7d4",
   "metadata": {
    "execution": {
     "iopub.execute_input": "2022-12-23T18:32:22.221805Z",
     "iopub.status.busy": "2022-12-23T18:32:22.221696Z",
     "iopub.status.idle": "2022-12-23T18:32:38.387678Z",
     "shell.execute_reply": "2022-12-23T18:32:38.387337Z",
     "shell.execute_reply.started": "2022-12-23T18:32:22.221795Z"
    },
    "tags": []
   },
   "outputs": [
    {
     "data": {
      "text/plain": [
       "((4978, 300), (4978,))"
      ]
     },
     "execution_count": 30,
     "metadata": {},
     "output_type": "execute_result"
    }
   ],
   "source": [
    "import numpy as np\n",
    "X = np.array([nlp(sentence).vector for sentence in atis.sentence])\n",
    "y = atis.intent\n",
    "X.shape, y.shape"
   ]
  },
  {
   "cell_type": "code",
   "execution_count": 31,
   "id": "3346b1fa-ec84-4b8f-8805-35fb696ee63a",
   "metadata": {
    "execution": {
     "iopub.execute_input": "2022-12-23T18:32:38.388218Z",
     "iopub.status.busy": "2022-12-23T18:32:38.388104Z",
     "iopub.status.idle": "2022-12-23T18:32:38.396054Z",
     "shell.execute_reply": "2022-12-23T18:32:38.395731Z",
     "shell.execute_reply.started": "2022-12-23T18:32:38.388208Z"
    },
    "tags": []
   },
   "outputs": [
    {
     "data": {
      "text/plain": [
       "(1, 300)"
      ]
     },
     "execution_count": 31,
     "metadata": {},
     "output_type": "execute_result"
    }
   ],
   "source": [
    "test_message = \"\"\"\n",
    "i would like to find a flight from charlotte\n",
    "to las vegas that makes a stop in st. louis\"\"\"\n",
    "test_x = nlp(test_message).vector.reshape(1, nlp.vocab.vectors_length)\n",
    "test_x.shape"
   ]
  },
  {
   "cell_type": "code",
   "execution_count": 32,
   "id": "2aa7a220-b97e-45bb-a2db-d8a3100e1d57",
   "metadata": {
    "execution": {
     "iopub.execute_input": "2022-12-23T18:32:38.396587Z",
     "iopub.status.busy": "2022-12-23T18:32:38.396472Z",
     "iopub.status.idle": "2022-12-23T18:32:38.531363Z",
     "shell.execute_reply": "2022-12-23T18:32:38.531031Z",
     "shell.execute_reply.started": "2022-12-23T18:32:38.396576Z"
    },
    "tags": []
   },
   "outputs": [
    {
     "data": {
      "text/plain": [
       "(4978, 1)"
      ]
     },
     "execution_count": 32,
     "metadata": {},
     "output_type": "execute_result"
    }
   ],
   "source": [
    "from sklearn.metrics.pairwise import cosine_similarity\n",
    "scores = cosine_similarity(X, test_x)\n",
    "scores.shape"
   ]
  },
  {
   "cell_type": "code",
   "execution_count": 33,
   "id": "6992babf-e894-4d17-af72-f4f0ec09a6df",
   "metadata": {
    "execution": {
     "iopub.execute_input": "2022-12-23T18:32:38.531955Z",
     "iopub.status.busy": "2022-12-23T18:32:38.531763Z",
     "iopub.status.idle": "2022-12-23T18:32:38.534312Z",
     "shell.execute_reply": "2022-12-23T18:32:38.534020Z",
     "shell.execute_reply.started": "2022-12-23T18:32:38.531945Z"
    },
    "tags": []
   },
   "outputs": [
    {
     "data": {
      "text/plain": [
       "'atis_flight'"
      ]
     },
     "execution_count": 33,
     "metadata": {},
     "output_type": "execute_result"
    }
   ],
   "source": [
    "y.iloc[np.argmax(scores)]"
   ]
  },
  {
   "cell_type": "markdown",
   "id": "c86d93a0-9834-41f6-8cb4-a642d8427d11",
   "metadata": {},
   "source": [
    "### Train/test"
   ]
  },
  {
   "cell_type": "code",
   "execution_count": 34,
   "id": "0499f432-ba4a-4742-9115-17c109fcce94",
   "metadata": {
    "execution": {
     "iopub.execute_input": "2022-12-23T18:32:38.534878Z",
     "iopub.status.busy": "2022-12-23T18:32:38.534765Z",
     "iopub.status.idle": "2022-12-23T18:32:56.526415Z",
     "shell.execute_reply": "2022-12-23T18:32:56.526006Z",
     "shell.execute_reply.started": "2022-12-23T18:32:38.534867Z"
    },
    "tags": []
   },
   "outputs": [],
   "source": [
    "X_train = np.array([nlp(sentence).vector for sentence in atis_train.sentence])\n",
    "X_test = np.array([nlp(sentence).vector for sentence in atis_test.sentence])\n",
    "y_train = pd.Categorical(atis_train.intent).codes\n",
    "y_test = pd.Categorical(atis_test.intent).codes"
   ]
  },
  {
   "cell_type": "code",
   "execution_count": 35,
   "id": "11170881-16a1-4d74-a9cb-92dec5f0b17b",
   "metadata": {
    "execution": {
     "iopub.execute_input": "2022-12-23T18:32:56.526904Z",
     "iopub.status.busy": "2022-12-23T18:32:56.526805Z",
     "iopub.status.idle": "2022-12-23T18:32:56.545900Z",
     "shell.execute_reply": "2022-12-23T18:32:56.545572Z",
     "shell.execute_reply.started": "2022-12-23T18:32:56.526895Z"
    },
    "tags": []
   },
   "outputs": [
    {
     "name": "stdout",
     "output_type": "stream",
     "text": [
      "Predicted 727 correctly (91%) out of 800 test examples\n"
     ]
    }
   ],
   "source": [
    "scores = cosine_similarity(X_train, X_test)\n",
    "n_correct = (y_test == y_train[np.apply_along_axis(np.argmax, 0, scores)]).sum()\n",
    "print(f\"Predicted {n_correct} correctly ({n_correct/len(y_test)*100:.0f}%) out of {len(y_test)} test examples\")"
   ]
  },
  {
   "cell_type": "markdown",
   "id": "b5ef2091-0711-49fe-9482-8d5cca668a1c",
   "metadata": {},
   "source": [
    "## Intent classification with sklearn SVC"
   ]
  },
  {
   "cell_type": "code",
   "execution_count": 36,
   "id": "b1d4cba4-68ae-4480-8bcc-41d2a5075932",
   "metadata": {
    "execution": {
     "iopub.execute_input": "2022-12-23T18:32:56.546461Z",
     "iopub.status.busy": "2022-12-23T18:32:56.546345Z",
     "iopub.status.idle": "2022-12-23T18:32:56.562755Z",
     "shell.execute_reply": "2022-12-23T18:32:56.562463Z",
     "shell.execute_reply.started": "2022-12-23T18:32:56.546450Z"
    },
    "tags": []
   },
   "outputs": [],
   "source": [
    "from sklearn.svm import SVC"
   ]
  },
  {
   "cell_type": "code",
   "execution_count": 37,
   "id": "cd69cee5-0a4b-47db-9b78-3a34972d6bb8",
   "metadata": {
    "execution": {
     "iopub.execute_input": "2022-12-23T18:32:56.563376Z",
     "iopub.status.busy": "2022-12-23T18:32:56.563168Z",
     "iopub.status.idle": "2022-12-23T18:32:57.221274Z",
     "shell.execute_reply": "2022-12-23T18:32:57.220957Z",
     "shell.execute_reply.started": "2022-12-23T18:32:56.563365Z"
    },
    "tags": []
   },
   "outputs": [
    {
     "name": "stdout",
     "output_type": "stream",
     "text": [
      "Predicted 771 correctly (96%) out of 800 test examples\n"
     ]
    }
   ],
   "source": [
    "clf = SVC(C=1)\n",
    "clf.fit(X_train, y_train)\n",
    "y_pred = clf.predict(X_test)\n",
    "n_correct = sum(y_pred == y_test)\n",
    "print(f\"Predicted {n_correct} correctly ({n_correct/len(y_test)*100:.0f}%) out of {len(y_test)} test examples\")"
   ]
  },
  {
   "cell_type": "markdown",
   "id": "6c24af1c-3bad-470e-a03f-11eafe61fee2",
   "metadata": {},
   "source": [
    "## Entity extraction"
   ]
  },
  {
   "cell_type": "markdown",
   "id": "fa4f2f0a-ba01-4f5f-98ab-da1e266056b1",
   "metadata": {},
   "source": [
    "### Spacy  pre-built NER"
   ]
  },
  {
   "cell_type": "code",
   "execution_count": 38,
   "id": "20eb536e-4878-45f5-8a67-83e7c9b8fa59",
   "metadata": {
    "execution": {
     "iopub.execute_input": "2022-12-23T18:32:57.221789Z",
     "iopub.status.busy": "2022-12-23T18:32:57.221680Z",
     "iopub.status.idle": "2022-12-23T18:32:57.227957Z",
     "shell.execute_reply": "2022-12-23T18:32:57.227652Z",
     "shell.execute_reply.started": "2022-12-23T18:32:57.221777Z"
    }
   },
   "outputs": [
    {
     "name": "stdout",
     "output_type": "stream",
     "text": [
      "Mary PERSON\n",
      "Google ORG\n",
      "2009 DATE\n"
     ]
    }
   ],
   "source": [
    "doc = nlp(\"my friend Mary has worked at Google since 2009\")\n",
    "for ent in doc.ents:\n",
    "    print(ent.text, ent.label_)"
   ]
  },
  {
   "cell_type": "markdown",
   "id": "ad06177c-12e3-4210-b525-6f0c9459e27c",
   "metadata": {
    "execution": {
     "iopub.execute_input": "2022-12-20T10:22:05.794016Z",
     "iopub.status.busy": "2022-12-20T10:22:05.793867Z",
     "iopub.status.idle": "2022-12-20T10:22:05.801846Z",
     "shell.execute_reply": "2022-12-20T10:22:05.801376Z",
     "shell.execute_reply.started": "2022-12-20T10:22:05.794005Z"
    },
    "tags": []
   },
   "source": [
    "### Roles"
   ]
  },
  {
   "cell_type": "code",
   "execution_count": 39,
   "id": "600507bc-a5f3-4194-99f5-01f14394ab61",
   "metadata": {
    "execution": {
     "iopub.execute_input": "2022-12-23T18:32:57.228566Z",
     "iopub.status.busy": "2022-12-23T18:32:57.228344Z",
     "iopub.status.idle": "2022-12-23T18:32:57.234687Z",
     "shell.execute_reply": "2022-12-23T18:32:57.234384Z",
     "shell.execute_reply.started": "2022-12-23T18:32:57.228555Z"
    },
    "tags": []
   },
   "outputs": [
    {
     "data": {
      "text/plain": [
       "[to, flight]"
      ]
     },
     "execution_count": 39,
     "metadata": {},
     "output_type": "execute_result"
    }
   ],
   "source": [
    "doc = nlp('a flight to Shanghai from Singapore')\n",
    "shanghai, singapore = doc[3], doc[5]\n",
    "list(shanghai.ancestors)"
   ]
  },
  {
   "cell_type": "code",
   "execution_count": 40,
   "id": "83723566-0285-4876-ae20-e0d913ee0e25",
   "metadata": {
    "execution": {
     "iopub.execute_input": "2022-12-23T18:32:57.235240Z",
     "iopub.status.busy": "2022-12-23T18:32:57.235088Z",
     "iopub.status.idle": "2022-12-23T18:32:57.237545Z",
     "shell.execute_reply": "2022-12-23T18:32:57.237232Z",
     "shell.execute_reply.started": "2022-12-23T18:32:57.235229Z"
    },
    "tags": []
   },
   "outputs": [
    {
     "data": {
      "text/plain": [
       "[from, flight]"
      ]
     },
     "execution_count": 40,
     "metadata": {},
     "output_type": "execute_result"
    }
   ],
   "source": [
    "list(singapore.ancestors)"
   ]
  },
  {
   "cell_type": "code",
   "execution_count": 41,
   "id": "d2290681-d5a9-4a17-971c-5968aa334961",
   "metadata": {
    "execution": {
     "iopub.execute_input": "2022-12-23T18:32:57.238145Z",
     "iopub.status.busy": "2022-12-23T18:32:57.237925Z",
     "iopub.status.idle": "2022-12-23T18:32:57.244828Z",
     "shell.execute_reply": "2022-12-23T18:32:57.244559Z",
     "shell.execute_reply.started": "2022-12-23T18:32:57.238135Z"
    },
    "tags": []
   },
   "outputs": [
    {
     "name": "stdout",
     "output_type": "stream",
     "text": [
      "color red belongs to item jacket\n",
      "color blue belongs to item jeans\n"
     ]
    }
   ],
   "source": [
    "doc = nlp(\"let's see that jacket in red and some blue jeans\")\n",
    "items = [doc[4], doc[10]] # [jacket, jeans]\n",
    "colors = [doc[6], doc[9]] # [red, blue]\n",
    "for color in colors:\n",
    "    for tok in color.ancestors:\n",
    "        if tok in items:\n",
    "            print(\"color {} belongs to item {}\".format(color, tok))\n",
    "            break"
   ]
  },
  {
   "cell_type": "code",
   "execution_count": 42,
   "id": "1bd0ffaf-a493-46de-bcb7-52fb2529d76f",
   "metadata": {
    "execution": {
     "iopub.execute_input": "2022-12-23T18:32:57.245276Z",
     "iopub.status.busy": "2022-12-23T18:32:57.245173Z",
     "iopub.status.idle": "2022-12-23T18:32:57.247520Z",
     "shell.execute_reply": "2022-12-23T18:32:57.247289Z",
     "shell.execute_reply.started": "2022-12-23T18:32:57.245267Z"
    }
   },
   "outputs": [
    {
     "data": {
      "text/plain": [
       "[in, jacket, see, let]"
      ]
     },
     "execution_count": 42,
     "metadata": {},
     "output_type": "execute_result"
    }
   ],
   "source": [
    "list(doc[6].ancestors)"
   ]
  },
  {
   "cell_type": "code",
   "execution_count": 43,
   "id": "2f204689-780e-4535-8752-e74c7d22ee91",
   "metadata": {
    "execution": {
     "iopub.execute_input": "2022-12-23T18:32:57.248038Z",
     "iopub.status.busy": "2022-12-23T18:32:57.247948Z",
     "iopub.status.idle": "2022-12-23T18:32:57.249980Z",
     "shell.execute_reply": "2022-12-23T18:32:57.249732Z",
     "shell.execute_reply.started": "2022-12-23T18:32:57.248029Z"
    },
    "tags": []
   },
   "outputs": [
    {
     "data": {
      "text/plain": [
       "[jeans, red, in, jacket, see, let]"
      ]
     },
     "execution_count": 43,
     "metadata": {},
     "output_type": "execute_result"
    }
   ],
   "source": [
    "list(doc[9].ancestors)"
   ]
  },
  {
   "cell_type": "code",
   "execution_count": 44,
   "id": "4f0c3053-50d4-4603-b971-4c1af433daa0",
   "metadata": {
    "execution": {
     "iopub.execute_input": "2022-12-23T18:32:57.250445Z",
     "iopub.status.busy": "2022-12-23T18:32:57.250275Z",
     "iopub.status.idle": "2022-12-23T18:32:57.260575Z",
     "shell.execute_reply": "2022-12-23T18:32:57.260315Z",
     "shell.execute_reply.started": "2022-12-23T18:32:57.250436Z"
    }
   },
   "outputs": [
    {
     "name": "stdout",
     "output_type": "stream",
     "text": [
      "{'DATE': '2010', 'ORG': 'Google', 'PERSON': 'Mary'}\n",
      "{'DATE': '1999', 'ORG': 'MIT', 'PERSON': None}\n"
     ]
    }
   ],
   "source": [
    "# Define included_entities\n",
    "include_entities = ['DATE', 'ORG', 'PERSON']\n",
    "\n",
    "# Define extract_entities()\n",
    "def extract_entities(message):\n",
    "    # Create a dict to hold the entities\n",
    "    ents = dict.fromkeys(include_entities)\n",
    "    # Create a spacy document\n",
    "    doc = nlp(message)\n",
    "    for ent in doc.ents:\n",
    "        if ent.label_ in include_entities:\n",
    "            # Save interesting entities\n",
    "            ents[ent.label_] = ent.text\n",
    "    return ents\n",
    "\n",
    "print(extract_entities('friends called Mary who have worked at Google since 2010'))\n",
    "print(extract_entities('people who graduated from MIT in 1999'))"
   ]
  },
  {
   "cell_type": "markdown",
   "id": "9e689439-5df1-4f48-8fae-6741afa64194",
   "metadata": {},
   "source": [
    "### Assigning roles using spaCy's parser"
   ]
  },
  {
   "cell_type": "code",
   "execution_count": 45,
   "id": "6f80e700-bc8e-4f40-af45-597252773429",
   "metadata": {
    "execution": {
     "iopub.execute_input": "2022-12-23T18:32:57.261036Z",
     "iopub.status.busy": "2022-12-23T18:32:57.260939Z",
     "iopub.status.idle": "2022-12-23T18:32:57.263114Z",
     "shell.execute_reply": "2022-12-23T18:32:57.262889Z",
     "shell.execute_reply.started": "2022-12-23T18:32:57.261027Z"
    },
    "tags": []
   },
   "outputs": [],
   "source": [
    "items = ['shoes', 'handback', 'jacket', 'jeans']\n",
    "colors = ['black', 'red', 'blue']\n",
    "def entity_type(word):\n",
    "    _type = None\n",
    "    if word.text in colors:\n",
    "        _type = \"color\"\n",
    "    elif word.text in items:\n",
    "        _type = \"item\"\n",
    "    return _type"
   ]
  },
  {
   "cell_type": "code",
   "execution_count": 46,
   "id": "714e3646-f542-49cc-8e56-b1c6166164ad",
   "metadata": {
    "execution": {
     "iopub.execute_input": "2022-12-23T18:32:57.263536Z",
     "iopub.status.busy": "2022-12-23T18:32:57.263443Z",
     "iopub.status.idle": "2022-12-23T18:32:57.270154Z",
     "shell.execute_reply": "2022-12-23T18:32:57.269770Z",
     "shell.execute_reply.started": "2022-12-23T18:32:57.263527Z"
    },
    "tags": []
   },
   "outputs": [
    {
     "data": {
      "text/plain": [
       "'jeans'"
      ]
     },
     "execution_count": 46,
     "metadata": {},
     "output_type": "execute_result"
    }
   ],
   "source": [
    "# Create the document\n",
    "doc = nlp(\"let's see that jacket in red and some blue jeans\")\n",
    "# Iterate over parents in parse tree until an item entity is found\n",
    "def find_parent_item(word):\n",
    "    # Iterate over the word's ancestors\n",
    "    for parent in word.ancestors:\n",
    "        # Check for an \"item\" entity\n",
    "        if entity_type(parent) == \"item\":\n",
    "            return parent.text\n",
    "    return None\n",
    "\n",
    "find_parent_item(doc[9])"
   ]
  },
  {
   "cell_type": "code",
   "execution_count": 47,
   "id": "f3ced087-d1a1-425c-b623-6b66643bf9ff",
   "metadata": {
    "execution": {
     "iopub.execute_input": "2022-12-23T18:32:57.270811Z",
     "iopub.status.busy": "2022-12-23T18:32:57.270588Z",
     "iopub.status.idle": "2022-12-23T18:32:57.272912Z",
     "shell.execute_reply": "2022-12-23T18:32:57.272660Z",
     "shell.execute_reply.started": "2022-12-23T18:32:57.270801Z"
    },
    "tags": []
   },
   "outputs": [
    {
     "name": "stdout",
     "output_type": "stream",
     "text": [
      "item: jacket has color : red\n",
      "item: jeans has color : blue\n"
     ]
    }
   ],
   "source": [
    "# For all color entities, find their parent item\n",
    "def assign_colors(doc):\n",
    "    # Iterate over the document\n",
    "    for word in doc:\n",
    "        # Check for \"color\" entities\n",
    "        if entity_type(word) == \"color\":\n",
    "            # Find the parent\n",
    "            item =  find_parent_item(word)\n",
    "            print(\"item: {0} has color : {1}\".format(item, word))\n",
    "\n",
    "assign_colors(doc)"
   ]
  },
  {
   "cell_type": "markdown",
   "id": "c1111b34-a140-45e5-9384-560f9e881b43",
   "metadata": {},
   "source": [
    "## Robust language understanding with rasa NLU"
   ]
  },
  {
   "cell_type": "markdown",
   "id": "b34d12ee-f42b-4e1b-a163-5a5d2b9639a6",
   "metadata": {},
   "source": [
    "> pip3 install rasa in a separate conda dev because it ignores higher version conda packages"
   ]
  },
  {
   "cell_type": "code",
   "execution_count": 48,
   "id": "dd5dbe01-1724-479f-b235-82d81865d91c",
   "metadata": {
    "execution": {
     "iopub.execute_input": "2022-12-23T18:32:57.273465Z",
     "iopub.status.busy": "2022-12-23T18:32:57.273345Z",
     "iopub.status.idle": "2022-12-23T18:32:57.275286Z",
     "shell.execute_reply": "2022-12-23T18:32:57.274995Z",
     "shell.execute_reply.started": "2022-12-23T18:32:57.273454Z"
    },
    "tags": []
   },
   "outputs": [],
   "source": [
    "# # Import necessary modules\n",
    "# from rasa_nlu.converters import load_data\n",
    "# from rasa_nlu.config import RasaNLUConfig\n",
    "# from rasa_nlu.model import Trainer\n",
    "\n",
    "# # Create args dictionary\n",
    "# args = {'pipeline':'spacy_sklearn'}\n",
    "\n",
    "# # Create a configuration and trainer\n",
    "# config = RasaNLUConfig(cmdline_args=args)\n",
    "# trainer = Trainer(config)\n",
    "\n",
    "# # Load the training data\n",
    "# training_data = load_data(\"./training_data.json\")\n",
    "\n",
    "# # Create an interpreter by training the model\n",
    "# interpreter = trainer.train(training_data)\n",
    "\n",
    "# # Test the interpreter\n",
    "# print(interpreter.parse(\"I'm looking for a Mexican restaurant in the North of town\"))"
   ]
  },
  {
   "cell_type": "code",
   "execution_count": 49,
   "id": "6d16e377-644e-4cd8-b099-5c12184bc290",
   "metadata": {
    "execution": {
     "iopub.execute_input": "2022-12-23T18:32:57.275940Z",
     "iopub.status.busy": "2022-12-23T18:32:57.275707Z",
     "iopub.status.idle": "2022-12-23T18:32:57.277551Z",
     "shell.execute_reply": "2022-12-23T18:32:57.277260Z",
     "shell.execute_reply.started": "2022-12-23T18:32:57.275929Z"
    },
    "tags": []
   },
   "outputs": [],
   "source": [
    "# # Import necessary modules\n",
    "# from rasa_nlu.config import RasaNLUConfig\n",
    "# from rasa_nlu.model import Trainer\n",
    "\n",
    "# pipeline = [\n",
    "#     \"nlp_spacy\",\n",
    "#     \"tokenizer_spacy\",\n",
    "#     \"ner_crf\"\n",
    "# ]\n",
    "\n",
    "# # Create a config that uses this pipeline\n",
    "# config = RasaNLUConfig(cmdline_args={'pipeline': pipeline})\n",
    "\n",
    "# # Create a trainer that uses this config\n",
    "# trainer = Trainer(config)\n",
    "\n",
    "# # Create an interpreter by training the model\n",
    "# interpreter = trainer.train(training_data)\n",
    "\n",
    "# # Parse some messages\n",
    "# print(interpreter.parse(\"show me Chinese food in the centre of town\"))\n",
    "# print(interpreter.parse(\"I want an Indian restaurant in the west\"))\n",
    "# print(interpreter.parse(\"are there any good pizza places in the center?\"))"
   ]
  },
  {
   "cell_type": "markdown",
   "id": "71cec9ac-7c3a-451d-8fba-6098374004c2",
   "metadata": {},
   "source": [
    "# Building a virtual assistant"
   ]
  },
  {
   "cell_type": "markdown",
   "id": "e60c04f2-af11-4e72-92b5-f05a970d1021",
   "metadata": {},
   "source": [
    "## SQL basics"
   ]
  },
  {
   "cell_type": "code",
   "execution_count": 50,
   "id": "937fe6fd-bd60-48b3-9c8e-348466f9e8c6",
   "metadata": {
    "execution": {
     "iopub.execute_input": "2022-12-23T18:32:57.277973Z",
     "iopub.status.busy": "2022-12-23T18:32:57.277875Z",
     "iopub.status.idle": "2022-12-23T18:32:57.279877Z",
     "shell.execute_reply": "2022-12-23T18:32:57.279559Z",
     "shell.execute_reply.started": "2022-12-23T18:32:57.277963Z"
    },
    "tags": []
   },
   "outputs": [],
   "source": [
    "import sqlite3\n",
    "conn = sqlite3.connect('hotels.db')\n",
    "c = conn.cursor()"
   ]
  },
  {
   "cell_type": "code",
   "execution_count": 51,
   "id": "d5a40c82-322d-43bc-bf29-5728b1673420",
   "metadata": {
    "execution": {
     "iopub.execute_input": "2022-12-23T18:32:57.280385Z",
     "iopub.status.busy": "2022-12-23T18:32:57.280283Z",
     "iopub.status.idle": "2022-12-23T18:32:57.282420Z",
     "shell.execute_reply": "2022-12-23T18:32:57.282186Z",
     "shell.execute_reply.started": "2022-12-23T18:32:57.280375Z"
    },
    "tags": []
   },
   "outputs": [
    {
     "data": {
      "text/plain": [
       "[('Hotel California',)]"
      ]
     },
     "execution_count": 51,
     "metadata": {},
     "output_type": "execute_result"
    }
   ],
   "source": [
    "c.execute(\"SELECT name from hotels where price = 'mid' AND area = 'north'\")\n",
    "c.fetchall()"
   ]
  },
  {
   "cell_type": "code",
   "execution_count": 52,
   "id": "66e55d78-72ed-4466-b2f0-feec72fdb093",
   "metadata": {
    "execution": {
     "iopub.execute_input": "2022-12-23T18:32:57.283027Z",
     "iopub.status.busy": "2022-12-23T18:32:57.282792Z",
     "iopub.status.idle": "2022-12-23T18:32:57.285470Z",
     "shell.execute_reply": "2022-12-23T18:32:57.285169Z",
     "shell.execute_reply.started": "2022-12-23T18:32:57.283015Z"
    },
    "tags": []
   },
   "outputs": [
    {
     "data": {
      "text/plain": [
       "[('Grand Hotel', 'hi', 'south', 5)]"
      ]
     },
     "execution_count": 52,
     "metadata": {},
     "output_type": "execute_result"
    }
   ],
   "source": [
    "area, price = \"south\", \"hi\"\n",
    "t = (area, price)\n",
    "c.execute('SELECT * FROM hotels WHERE area=? AND price=?', t)\n",
    "c.fetchall()"
   ]
  },
  {
   "cell_type": "code",
   "execution_count": 53,
   "id": "10f3a9a5-fe0a-4fb6-a924-43140bd24243",
   "metadata": {
    "execution": {
     "iopub.execute_input": "2022-12-23T18:32:57.285963Z",
     "iopub.status.busy": "2022-12-23T18:32:57.285851Z",
     "iopub.status.idle": "2022-12-23T18:32:57.298660Z",
     "shell.execute_reply": "2022-12-23T18:32:57.298345Z",
     "shell.execute_reply.started": "2022-12-23T18:32:57.285953Z"
    },
    "tags": []
   },
   "outputs": [],
   "source": [
    "# Define find_hotels()\n",
    "def find_hotels(params={}, neg_params={}):\n",
    "    # Create the base query\n",
    "    query = 'SELECT * FROM hotels'\n",
    "    # Add filter clauses for each of the parameters\n",
    "    if len(params)+len(neg_params) > 0:\n",
    "        filters = [\"{}=?\".format(k) for k in params] + [\"{}!=?\".format(k) for k in neg_params] \n",
    "        query += \" WHERE \" + \" AND \".join(filters)\n",
    "    # Create the tuple of values\n",
    "    t = tuple(list(params.values()) + list(neg_params.values()))\n",
    "    # Open connection to DB\n",
    "    conn = sqlite3.connect(\"hotels.db\")\n",
    "    # Create a cursor\n",
    "    c = conn.cursor()\n",
    "    # Execute the query\n",
    "    print(query, t)\n",
    "    c.execute(query, t)\n",
    "    # Return the results\n",
    "    return c.fetchall()"
   ]
  },
  {
   "cell_type": "code",
   "execution_count": 54,
   "id": "96304e95-1988-4a88-ace3-81c013c3d1ab",
   "metadata": {
    "execution": {
     "iopub.execute_input": "2022-12-23T18:32:57.299184Z",
     "iopub.status.busy": "2022-12-23T18:32:57.299068Z",
     "iopub.status.idle": "2022-12-23T18:32:57.302631Z",
     "shell.execute_reply": "2022-12-23T18:32:57.302331Z",
     "shell.execute_reply.started": "2022-12-23T18:32:57.299174Z"
    },
    "tags": []
   },
   "outputs": [
    {
     "name": "stdout",
     "output_type": "stream",
     "text": [
      "SELECT * FROM hotels ()\n"
     ]
    },
    {
     "data": {
      "text/plain": [
       "[('Hotel for Dogs', 'mid', 'east', 3),\n",
       " ('Hotel California', 'mid', 'north', 3),\n",
       " ('Grand Hotel', 'hi', 'south', 5),\n",
       " ('Cozy Cottage', 'lo', 'south', 2),\n",
       " (\"Ben's BnB\", 'hi', 'north', 4),\n",
       " ('The Grand', 'hi', 'west', 5),\n",
       " ('Central Rooms', 'mid', 'center', 3)]"
      ]
     },
     "execution_count": 54,
     "metadata": {},
     "output_type": "execute_result"
    }
   ],
   "source": [
    "find_hotels()"
   ]
  },
  {
   "cell_type": "code",
   "execution_count": 55,
   "id": "418a9064-84b0-45e9-8b09-5fd9c8e0bb54",
   "metadata": {
    "execution": {
     "iopub.execute_input": "2022-12-23T18:32:57.303210Z",
     "iopub.status.busy": "2022-12-23T18:32:57.303067Z",
     "iopub.status.idle": "2022-12-23T18:32:57.305755Z",
     "shell.execute_reply": "2022-12-23T18:32:57.305510Z",
     "shell.execute_reply.started": "2022-12-23T18:32:57.303200Z"
    },
    "tags": []
   },
   "outputs": [
    {
     "name": "stdout",
     "output_type": "stream",
     "text": [
      "SELECT * FROM hotels WHERE price=? AND area=? ('mid', 'north')\n"
     ]
    },
    {
     "data": {
      "text/plain": [
       "[('Hotel California', 'mid', 'north', 3)]"
      ]
     },
     "execution_count": 55,
     "metadata": {},
     "output_type": "execute_result"
    }
   ],
   "source": [
    "find_hotels(params={'price':'mid', 'area':'north'})"
   ]
  },
  {
   "cell_type": "code",
   "execution_count": 56,
   "id": "4dceda61-c199-42db-a549-358ec4aa19e8",
   "metadata": {
    "execution": {
     "iopub.execute_input": "2022-12-23T18:32:57.306338Z",
     "iopub.status.busy": "2022-12-23T18:32:57.306133Z",
     "iopub.status.idle": "2022-12-23T18:32:57.308807Z",
     "shell.execute_reply": "2022-12-23T18:32:57.308565Z",
     "shell.execute_reply.started": "2022-12-23T18:32:57.306328Z"
    },
    "tags": []
   },
   "outputs": [
    {
     "name": "stdout",
     "output_type": "stream",
     "text": [
      "SELECT * FROM hotels WHERE price!=? AND area!=? ('mid', 'north')\n"
     ]
    },
    {
     "data": {
      "text/plain": [
       "[('Grand Hotel', 'hi', 'south', 5),\n",
       " ('Cozy Cottage', 'lo', 'south', 2),\n",
       " ('The Grand', 'hi', 'west', 5)]"
      ]
     },
     "execution_count": 56,
     "metadata": {},
     "output_type": "execute_result"
    }
   ],
   "source": [
    "find_hotels(neg_params={'price':'mid', 'area':'north'})"
   ]
  },
  {
   "cell_type": "markdown",
   "id": "2949b0d2-492f-47f0-a332-c112183644ab",
   "metadata": {},
   "source": [
    "## Creating SQL from natural language"
   ]
  },
  {
   "cell_type": "code",
   "execution_count": 57,
   "id": "427da48f-880d-41d1-98bf-bb91211a4f6d",
   "metadata": {
    "execution": {
     "iopub.execute_input": "2022-12-23T18:32:57.309344Z",
     "iopub.status.busy": "2022-12-23T18:32:57.309157Z",
     "iopub.status.idle": "2022-12-23T18:32:57.316848Z",
     "shell.execute_reply": "2022-12-23T18:32:57.316600Z",
     "shell.execute_reply.started": "2022-12-23T18:32:57.309334Z"
    },
    "tags": []
   },
   "outputs": [
    {
     "name": "stdout",
     "output_type": "stream",
     "text": [
      "SELECT * FROM hotels WHERE area=? ('south',)\n"
     ]
    },
    {
     "data": {
      "text/plain": [
       "('Grand Hotel or Cozy Cottage would work!', {'area': 'south'})"
      ]
     },
     "execution_count": 57,
     "metadata": {},
     "output_type": "execute_result"
    }
   ],
   "source": [
    "# Define respond()\n",
    "responses = [\"I'm sorry :( I couldn't find anything like that\",\n",
    "             '{} is a great hotel!',\n",
    "             '{} or {} would work!',\n",
    "             '{} is one option, but I know others too :)']\n",
    "\n",
    "# Define respond()\n",
    "def respond(message, params={}):\n",
    "    # Extract the entities\n",
    "    entities = nlp(message).ents\n",
    "    # Initialize an empty params dictionary\n",
    "    params = {}\n",
    "    # Fill the dictionary with entities\n",
    "    for ent in entities:\n",
    "        params['area' if ent.label_=='LOC' else ent.label_] = ent.text.lower()\n",
    "\n",
    "    # Find hotels that match the dictionary\n",
    "    results = find_hotels(params)\n",
    "    # Get the names of the hotels and index of the response\n",
    "    names = [r[0] for r in results]\n",
    "    n = min(len(results),3)\n",
    "    # Select the nth element of the responses array\n",
    "    return responses[n].format(*names), params\n",
    "\n",
    "# Test the respond() function\n",
    "respond(\"I want an expensive hotel in the South of town\")"
   ]
  },
  {
   "cell_type": "markdown",
   "id": "c5bc2dca-78b9-40a2-8044-ec1b3299fad9",
   "metadata": {},
   "source": [
    "## Incremental slot filling and negation"
   ]
  },
  {
   "cell_type": "markdown",
   "id": "b0f0cb03-88b4-4fe5-b1a4-f1dfa5a0afef",
   "metadata": {},
   "source": [
    "Now we'll work on two topics which are really important for the user experience of your hotel booking bot, filtering results incrementally, and handling negation.\n",
    "\n",
    "The process of collecting the users preferences during a conversation is called slot filling."
   ]
  },
  {
   "cell_type": "markdown",
   "id": "5a44e0af-a282-4e0d-85ed-3552d36da572",
   "metadata": {},
   "source": [
    "### Basic memory"
   ]
  },
  {
   "cell_type": "code",
   "execution_count": 58,
   "id": "623aec12-3c5a-48b9-9ba0-ed500c4b341c",
   "metadata": {
    "execution": {
     "iopub.execute_input": "2022-12-23T18:32:57.317394Z",
     "iopub.status.busy": "2022-12-23T18:32:57.317207Z",
     "iopub.status.idle": "2022-12-23T18:32:57.319901Z",
     "shell.execute_reply": "2022-12-23T18:32:57.319636Z",
     "shell.execute_reply.started": "2022-12-23T18:32:57.317384Z"
    },
    "tags": []
   },
   "outputs": [
    {
     "data": {
      "text/plain": [
       "('response', {})"
      ]
     },
     "execution_count": 58,
     "metadata": {},
     "output_type": "execute_result"
    }
   ],
   "source": [
    "def respond(message, params):\n",
    "    # update params with entities in message\n",
    "    # run query\n",
    "    # pick response\n",
    "    return 'response', params\n",
    "\n",
    "# initialise params\n",
    "params = {}\n",
    "# message comes in\n",
    "respond('message', params)"
   ]
  },
  {
   "cell_type": "markdown",
   "id": "15965aa2-ddfb-4ff4-86f6-e9a58cdc6a2a",
   "metadata": {},
   "source": [
    "### Catching negations"
   ]
  },
  {
   "cell_type": "code",
   "execution_count": 59,
   "id": "50eb4244-3820-4b00-b998-638d61b3aa90",
   "metadata": {
    "execution": {
     "iopub.execute_input": "2022-12-23T18:32:57.320353Z",
     "iopub.status.busy": "2022-12-23T18:32:57.320253Z",
     "iopub.status.idle": "2022-12-23T18:32:57.326717Z",
     "shell.execute_reply": "2022-12-23T18:32:57.326447Z",
     "shell.execute_reply.started": "2022-12-23T18:32:57.320343Z"
    },
    "tags": []
   },
   "outputs": [
    {
     "name": "stdout",
     "output_type": "stream",
     "text": [
      "0 1 not\n",
      "2 4 , maybe\n"
     ]
    }
   ],
   "source": [
    "doc = nlp('not sushi, maybe pizza?')\n",
    "indices = [1, 4]\n",
    "ents, negated_ents = [], []\n",
    "start = 0\n",
    "for i in indices:\n",
    "    phrase = \"{}\".format(doc[start:i])\n",
    "    print(start, i, phrase)\n",
    "    if \"not\" in phrase or \"n't\" in phrase:\n",
    "        negated_ents.append(doc[i])\n",
    "    else:\n",
    "        ents.append(doc[i])\n",
    "    start = i+1 # I added +1 to avoid getting the 1st entity in the phrase but it may not be general"
   ]
  },
  {
   "cell_type": "code",
   "execution_count": 60,
   "id": "64ab38d4-0faa-483b-9e2f-5e2d32faf679",
   "metadata": {
    "execution": {
     "iopub.execute_input": "2022-12-23T18:32:57.327306Z",
     "iopub.status.busy": "2022-12-23T18:32:57.327079Z",
     "iopub.status.idle": "2022-12-23T18:32:57.329381Z",
     "shell.execute_reply": "2022-12-23T18:32:57.329084Z",
     "shell.execute_reply.started": "2022-12-23T18:32:57.327296Z"
    },
    "tags": []
   },
   "outputs": [
    {
     "data": {
      "text/plain": [
       "([pizza], [sushi])"
      ]
     },
     "execution_count": 60,
     "metadata": {},
     "output_type": "execute_result"
    }
   ],
   "source": [
    "ents, negated_ents"
   ]
  },
  {
   "cell_type": "markdown",
   "id": "9220cbe4-94fc-4df9-970f-35f2ff117383",
   "metadata": {},
   "source": [
    "### Refining your search"
   ]
  },
  {
   "cell_type": "code",
   "execution_count": 61,
   "id": "6e0054af-4f4b-44ae-bfab-f149512de65e",
   "metadata": {
    "execution": {
     "iopub.execute_input": "2022-12-23T18:32:57.329873Z",
     "iopub.status.busy": "2022-12-23T18:32:57.329715Z",
     "iopub.status.idle": "2022-12-23T18:32:57.331481Z",
     "shell.execute_reply": "2022-12-23T18:32:57.331194Z",
     "shell.execute_reply.started": "2022-12-23T18:32:57.329864Z"
    }
   },
   "outputs": [],
   "source": [
    "# # Define a respond function, taking the message and existing params as input\n",
    "# def respond(message, params):\n",
    "#     # Extract the entities\n",
    "#     entities = interpreter.parse(message)['entities']\n",
    "#     # Fill the dictionary with entities\n",
    "#     for ent in entities:\n",
    "#         params[ent[\"entity\"]] = str(ent[\"value\"])\n",
    "\n",
    "#     # Find the hotels\n",
    "#     results = find_hotels(params)\n",
    "#     names = [r[0] for r in results]\n",
    "#     n = min(len(results), 3)\n",
    "#     # Return the appropriate response\n",
    "#     return responses[n].format(*names), params\n",
    "\n",
    "# # Initialize params dictionary\n",
    "# params = {}\n",
    "\n",
    "# # Pass the messages to the bot\n",
    "# for message in [\"I want an expensive hotel\", \"in the north of town\"]:\n",
    "#     print(\"USER: {}\".format(message))\n",
    "#     response, params = respond(message, params)\n",
    "#     print(\"BOT: {}\".format(response))"
   ]
  },
  {
   "cell_type": "markdown",
   "id": "7e5c2c7b-0ecc-409d-bb50-63bd3e383425",
   "metadata": {},
   "source": [
    "### Basic negation"
   ]
  },
  {
   "cell_type": "code",
   "execution_count": 62,
   "id": "eeeae6a8-c0b1-4b60-8046-9a9efeb1634c",
   "metadata": {
    "execution": {
     "iopub.execute_input": "2022-12-23T18:32:57.332001Z",
     "iopub.status.busy": "2022-12-23T18:32:57.331810Z",
     "iopub.status.idle": "2022-12-23T18:32:57.335318Z",
     "shell.execute_reply": "2022-12-23T18:32:57.335018Z",
     "shell.execute_reply.started": "2022-12-23T18:32:57.331992Z"
    },
    "tags": []
   },
   "outputs": [
    {
     "name": "stdout",
     "output_type": "stream",
     "text": [
      "True\n",
      "True\n",
      "True\n",
      "True\n"
     ]
    }
   ],
   "source": [
    "# Define negated_ents()\n",
    "def negated_ents(phrase, ent_vals=[\"south\", \"north\"]):\n",
    "    # Extract the entities using keyword matching\n",
    "    ents = [e for e in ent_vals if e in phrase]\n",
    "    # Find the index of the final character of each entity\n",
    "    ends = sorted([phrase.index(e) + len(e) for e in ents])\n",
    "    # Initialise a list to store sentence chunks\n",
    "    chunks = []\n",
    "    # Take slices of the sentence up to and including each entitiy\n",
    "    start = 0\n",
    "    for end in ends:\n",
    "        chunks.append(phrase[start:end])\n",
    "        start = end\n",
    "    result = {}\n",
    "    # Iterate over the chunks and look for entities\n",
    "    for chunk in chunks:\n",
    "        for ent in ents:\n",
    "            if ent in chunk:\n",
    "                # If the entity contains a negation, assign the key to be False\n",
    "                if \"not\" in chunk or \"n't\" in chunk:\n",
    "                    result[ent] = False\n",
    "                else:\n",
    "                    result[ent] = True\n",
    "    return result\n",
    "\n",
    "# Check that the entities are correctly assigned as True or False\n",
    "tests = [(\"no I don't want to be in the south\", {'south': False}),\n",
    "         ('no it should be in the south', {'south': True}),\n",
    "         ('no in the south not the north', {'north': False, 'south': True}),\n",
    "         ('not north', {'north': False})]\n",
    "for test in tests:\n",
    "    print(negated_ents(test[0]) == test[1])"
   ]
  },
  {
   "cell_type": "markdown",
   "id": "244fd6c2-cf0d-4927-8649-f13c806bbec4",
   "metadata": {},
   "source": [
    "### Filtering with excluded slots"
   ]
  },
  {
   "cell_type": "code",
   "execution_count": 63,
   "id": "9204de88-973d-4380-b4d5-d1194cf9354c",
   "metadata": {
    "execution": {
     "iopub.execute_input": "2022-12-23T18:32:57.335896Z",
     "iopub.status.busy": "2022-12-23T18:32:57.335762Z",
     "iopub.status.idle": "2022-12-23T18:32:57.337678Z",
     "shell.execute_reply": "2022-12-23T18:32:57.337421Z",
     "shell.execute_reply.started": "2022-12-23T18:32:57.335886Z"
    }
   },
   "outputs": [],
   "source": [
    "# # Define the respond function\n",
    "# def respond(message, params, neg_params):\n",
    "#     # Extract the entities\n",
    "#     entities = interpreter.parse(message)[\"entities\"]\n",
    "#     ent_vals = [e[\"value\"] for e in entities]\n",
    "#     # Look for negated entities\n",
    "#     negated = negated_ents(message, ent_vals)\n",
    "#     for ent in entities:\n",
    "#         if ent[\"value\"] in negated and negated[ent[\"value\"]]:\n",
    "#             neg_params[ent[\"entity\"]] = str(ent[\"value\"])\n",
    "#         else:\n",
    "#             params[ent[\"entity\"]] = str(ent[\"value\"])\n",
    "#     # Find the hotels\n",
    "#     results = find_hotels(params, neg_params)\n",
    "#     names = [r[0] for r in results]\n",
    "#     n = min(len(results),3)\n",
    "#     # Return the correct response\n",
    "#     return responses[n].format(*names), params, neg_params\n",
    "\n",
    "# # Initialize params and neg_params\n",
    "# params = {}\n",
    "# neg_params = {}\n",
    "\n",
    "# # Pass the messages to the bot\n",
    "# for message in [\"I want a cheap hotel\", \"but not in the north of town\"]:\n",
    "#     print(\"USER: {}\".format(message))\n",
    "#     response, params, neg_params = respond(message, params, neg_params)\n",
    "#     print(\"BOT: {}\".format(response))"
   ]
  },
  {
   "cell_type": "markdown",
   "id": "5d048494-942a-4515-9ee7-1f059755126f",
   "metadata": {},
   "source": [
    "# Dialogue"
   ]
  },
  {
   "cell_type": "markdown",
   "id": "d16debc3-d19f-4692-8237-7d3e5751bedf",
   "metadata": {},
   "source": [
    "## Form filling"
   ]
  },
  {
   "cell_type": "code",
   "execution_count": 64,
   "id": "25661b80-32a0-4186-b44b-1c4631e8d211",
   "metadata": {
    "execution": {
     "iopub.execute_input": "2022-12-23T18:32:57.338215Z",
     "iopub.status.busy": "2022-12-23T18:32:57.338056Z",
     "iopub.status.idle": "2022-12-23T18:32:57.340852Z",
     "shell.execute_reply": "2022-12-23T18:32:57.340433Z",
     "shell.execute_reply.started": "2022-12-23T18:32:57.338205Z"
    },
    "tags": []
   },
   "outputs": [],
   "source": [
    "def interpret(message):\n",
    "    # returns an \"intent\"\n",
    "    msg = message.lower()\n",
    "    if 'order' in msg:\n",
    "        return 'order'\n",
    "    if 'kenyan' in msg or 'colombian' in msg:\n",
    "        return 'specify_coffee'\n",
    "    return 'none'\n",
    "\n",
    "def respond(policy, state, message):\n",
    "    (new_state, response) = policy[(state, interpret(message))]\n",
    "    return new_state, response\n",
    "\n",
    "def send_message(policy, state, message):\n",
    "    print(\"USER : {}\".format(message))\n",
    "    new_state, response = respond(policy, state, message)\n",
    "    print(\"BOT : {}\".format(response))\n",
    "    return new_state"
   ]
  },
  {
   "cell_type": "code",
   "execution_count": 65,
   "id": "ce5f46b2-943b-42ba-a2d2-e57830bc4557",
   "metadata": {
    "execution": {
     "iopub.execute_input": "2022-12-23T18:32:57.341343Z",
     "iopub.status.busy": "2022-12-23T18:32:57.341233Z",
     "iopub.status.idle": "2022-12-23T18:32:57.343988Z",
     "shell.execute_reply": "2022-12-23T18:32:57.343708Z",
     "shell.execute_reply.started": "2022-12-23T18:32:57.341333Z"
    },
    "tags": []
   },
   "outputs": [
    {
     "name": "stdout",
     "output_type": "stream",
     "text": [
      "USER : I'd like to become a professional dancer\n",
      "BOT : I'm sorry - I'm not sure how to help you\n",
      "USER : well then I'd like to order some coffee\n",
      "BOT : ok, Colombian or Kenyan?\n",
      "USER : my favourite animal is a zebra\n",
      "BOT : I'm sorry - would you like Colombian or Kenyan?\n",
      "USER : kenyan\n",
      "BOT : perfect, the beans are on their way!\n"
     ]
    }
   ],
   "source": [
    "# Define the INIT state\n",
    "INIT = 0\n",
    "# Define the CHOOSE_COFFEE state\n",
    "CHOOSE_COFFEE = 1\n",
    "# Define the ORDERED state\n",
    "ORDERED = 2\n",
    "\n",
    "# Define the policy rules\n",
    "policy = {\n",
    "    (INIT, \"order\"): (CHOOSE_COFFEE, \"ok, Colombian or Kenyan?\"),\n",
    "    (INIT, \"none\"): (INIT, \"I'm sorry - I'm not sure how to help you\"),\n",
    "    (CHOOSE_COFFEE, \"specify_coffee\"): (ORDERED, \"perfect, the beans are on their way!\"),\n",
    "    (CHOOSE_COFFEE, \"none\"): (CHOOSE_COFFEE, \"I'm sorry - would you like Colombian or Kenyan?\"),\n",
    "}\n",
    "\n",
    "# Create the list of messages\n",
    "messages = [\n",
    "    \"I'd like to become a professional dancer\",\n",
    "    \"well then I'd like to order some coffee\",\n",
    "    \"my favourite animal is a zebra\",\n",
    "    \"kenyan\"\n",
    "]\n",
    "\n",
    "# Call send_message() for each message\n",
    "state = INIT\n",
    "for message in messages:    \n",
    "    state = send_message(policy, state, message)"
   ]
  },
  {
   "cell_type": "markdown",
   "id": "390838f4-046a-4745-aaac-1a8407320bef",
   "metadata": {},
   "source": [
    "## Asking contextual questions"
   ]
  },
  {
   "cell_type": "code",
   "execution_count": 66,
   "id": "813196bd-8299-4912-a495-5ee0cb709db1",
   "metadata": {
    "execution": {
     "iopub.execute_input": "2022-12-23T18:32:57.344573Z",
     "iopub.status.busy": "2022-12-23T18:32:57.344406Z",
     "iopub.status.idle": "2022-12-23T18:32:57.348191Z",
     "shell.execute_reply": "2022-12-23T18:32:57.347918Z",
     "shell.execute_reply.started": "2022-12-23T18:32:57.344564Z"
    },
    "tags": []
   },
   "outputs": [
    {
     "name": "stdout",
     "output_type": "stream",
     "text": [
      "USER : blah\n",
      "BOT : I'm sorry I didn't understand. I'm a bot to help you order coffee beans.\n",
      "USER : what can you do for me?\n",
      "BOT : I'm a bot to help you order coffee beans\n",
      "USER : well then I'd like to order some coffee\n",
      "BOT : ok, Colombian or Kenyan?\n",
      "USER : what do you mean by that?\n",
      "BOT : We have two kinds of coffee beans - the Kenyan ones make a slightly sweeter coffee, and cost $6. The Brazilian beans make a nutty coffee and cost $5.\n",
      "USER : kenyan\n",
      "BOT : perfect, the beans are on their way!\n"
     ]
    }
   ],
   "source": [
    "# Define the states\n",
    "INIT=0 \n",
    "CHOOSE_COFFEE=1\n",
    "ORDERED=2\n",
    "\n",
    "# Define the policy rules dictionary\n",
    "policy_rules = {\n",
    "    (INIT, \"none\"): (INIT, \"I'm sorry I didn't understand. I'm a bot to help you order coffee beans.\"),\n",
    "    (INIT, \"ask_explanation\"): (INIT, \"I'm a bot to help you order coffee beans\"),\n",
    "    (INIT, \"order\"): (CHOOSE_COFFEE, \"ok, Colombian or Kenyan?\"),\n",
    "    (CHOOSE_COFFEE, \"specify_coffee\"): (ORDERED, \"perfect, the beans are on their way!\"),\n",
    "    (CHOOSE_COFFEE, \"ask_explanation\"): (CHOOSE_COFFEE, \"We have two kinds of coffee beans - the Kenyan ones make a slightly sweeter coffee, and cost $6. The Brazilian beans make a nutty coffee and cost $5.\")    \n",
    "}\n",
    "\n",
    "def interpret(message):\n",
    "    msg = message.lower()\n",
    "    if 'order' in msg:\n",
    "        return 'order'\n",
    "    if 'kenyan' in msg or 'colombian' in msg:\n",
    "        return 'specify_coffee'\n",
    "    if 'what' in msg:\n",
    "        return 'ask_explanation'\n",
    "    return 'none'\n",
    "\n",
    "def respond(state, message):\n",
    "    (new_state, response) = policy_rules[(state, interpret(message))]\n",
    "    return new_state, response\n",
    "\n",
    "def send_message(state, message):\n",
    "    print(\"USER : {}\".format(message))\n",
    "    new_state, response = respond(state, message)\n",
    "    print(\"BOT : {}\".format(response))\n",
    "    return new_state\n",
    "\n",
    "def send_messages(messages):\n",
    "    state = INIT\n",
    "    for msg in messages:\n",
    "        state = send_message(state, msg)\n",
    "\n",
    "# Send the messages\n",
    "send_messages([\n",
    "    \"blah\",\n",
    "    \"what can you do for me?\",\n",
    "    \"well then I'd like to order some coffee\",\n",
    "    \"what do you mean by that?\",\n",
    "    \"kenyan\"\n",
    "])"
   ]
  },
  {
   "cell_type": "markdown",
   "id": "5c6ef1dc-fd04-41c8-b920-28596d194ce8",
   "metadata": {
    "tags": []
   },
   "source": [
    "## Dealing with rejection"
   ]
  },
  {
   "cell_type": "code",
   "execution_count": 67,
   "id": "af981959-5ada-432a-8f7c-e8b73f97a401",
   "metadata": {
    "execution": {
     "iopub.execute_input": "2022-12-23T18:32:57.351218Z",
     "iopub.status.busy": "2022-12-23T18:32:57.351005Z",
     "iopub.status.idle": "2022-12-23T18:32:57.353153Z",
     "shell.execute_reply": "2022-12-23T18:32:57.352852Z",
     "shell.execute_reply.started": "2022-12-23T18:32:57.351206Z"
    },
    "tags": []
   },
   "outputs": [],
   "source": [
    "# def interpret(message):\n",
    "#     data = interpreter.parse(message)\n",
    "#     if 'no' in message:\n",
    "#         data[\"intent\"][\"name\"] = \"deny\"\n",
    "#     return data\n",
    "\n",
    "# # Define respond()\n",
    "# def respond(message, params, prev_suggestions, excluded):\n",
    "#     # Interpret the message\n",
    "#     parse_data = interpret(message)\n",
    "#     # Extract the intent\n",
    "#     intent = parse_data['intent']['name']\n",
    "#     # Extract the entities\n",
    "#     entities = parse_data['entities']\n",
    "#     # Add the suggestion to the excluded list if intent is \"deny\"\n",
    "#     if intent == \"deny\":\n",
    "#         excluded.extend(prev_suggestions)\n",
    "#     # Fill the dictionary with entities\t\n",
    "#     for ent in entities:\n",
    "#         params[ent[\"entity\"]] = str(ent[\"value\"])\n",
    "#     # Find matching hotels\n",
    "#     results = [\n",
    "#         r \n",
    "#         for r in find_hotels(params, excluded) \n",
    "#         if r[0] not in excluded\n",
    "#     ]\n",
    "#     # Extract the suggestions\n",
    "#     names = [r[0] for r in results]\n",
    "#     n = min(len(results), 3)\n",
    "#     suggestions = names[:2]\n",
    "#     return responses[n].format(*names), params, suggestions, excluded\n",
    "\n",
    "# # Initialize the empty dictionary and lists\n",
    "# params, suggestions, excluded = {}, [], []\n",
    "\n",
    "# # Send the messages\n",
    "# for message in [\"I want a mid range hotel\", \"no that doesn't work for me\"]:\n",
    "#     print(\"USER: {}\".format(message))\n",
    "#     response, params, suggestions, excluded = respond(message, params, suggestions, excluded)\n",
    "#     print(\"BOT: {}\".format(response))"
   ]
  },
  {
   "cell_type": "markdown",
   "id": "b3807356-85b0-4926-b2cc-42f8a95f7da7",
   "metadata": {
    "tags": []
   },
   "source": [
    "## Asking questions & queuing answers"
   ]
  },
  {
   "cell_type": "markdown",
   "id": "155d66eb-eb32-427c-a097-d5cab351fc3a",
   "metadata": {
    "tags": []
   },
   "source": [
    "### Pending actions"
   ]
  },
  {
   "cell_type": "code",
   "execution_count": 68,
   "id": "db2c1a6c-25ff-4142-b496-4cb93f9b726c",
   "metadata": {
    "execution": {
     "iopub.execute_input": "2022-12-23T18:32:57.353716Z",
     "iopub.status.busy": "2022-12-23T18:32:57.353543Z",
     "iopub.status.idle": "2022-12-23T18:32:57.356962Z",
     "shell.execute_reply": "2022-12-23T18:32:57.356595Z",
     "shell.execute_reply.started": "2022-12-23T18:32:57.353706Z"
    },
    "tags": []
   },
   "outputs": [],
   "source": [
    "# Define policy()\n",
    "def policy(intent):\n",
    "    # Return \"do_pending\" if the intent is \"affirm\"\n",
    "    if intent == \"affirm\":\n",
    "        return \"do_pending\", None\n",
    "    # Return \"Ok\" if the intent is \"deny\"\n",
    "    if intent == \"deny\":\n",
    "        return \"Ok\", None\n",
    "    if intent == \"order\":\n",
    "        return \"Unfortunately, the Kenyan coffee is currently out of stock, would you like to order the Brazilian beans?\", \"Alright, I've ordered that for you!\"\n",
    "    \n",
    "def interpret(message):\n",
    "    msg = message.lower()\n",
    "    if 'order' in msg:\n",
    "        return 'order'\n",
    "    elif 'yes' in msg:\n",
    "        return 'affirm'\n",
    "    elif 'no' in msg:\n",
    "        return 'deny'\n",
    "    return 'none'    \n",
    "\n",
    "# Define send_message()\n",
    "def send_message(pending, message):\n",
    "    print(\"USER : {}\".format(message))\n",
    "    action, pending_action = policy(interpret(message))\n",
    "    if action == \"do_pending\" and pending is not None:\n",
    "        print(\"BOT : {}\".format(pending))\n",
    "    else:\n",
    "        print(\"BOT : {}\".format(action))\n",
    "    return pending_action\n",
    "    \n",
    "# Define send_messages()\n",
    "def send_messages(messages):\n",
    "    pending = None\n",
    "    for msg in messages:\n",
    "        pending = send_message(pending, msg)"
   ]
  },
  {
   "cell_type": "code",
   "execution_count": 69,
   "id": "66c2dc75-f99f-489a-bd93-fcf4accee22c",
   "metadata": {
    "execution": {
     "iopub.execute_input": "2022-12-23T18:32:57.357528Z",
     "iopub.status.busy": "2022-12-23T18:32:57.357349Z",
     "iopub.status.idle": "2022-12-23T18:32:57.359269Z",
     "shell.execute_reply": "2022-12-23T18:32:57.359027Z",
     "shell.execute_reply.started": "2022-12-23T18:32:57.357518Z"
    },
    "tags": []
   },
   "outputs": [
    {
     "name": "stdout",
     "output_type": "stream",
     "text": [
      "USER : I'd like to order some coffee\n",
      "BOT : Unfortunately, the Kenyan coffee is currently out of stock, would you like to order the Brazilian beans?\n",
      "USER : ok yes please\n",
      "BOT : Alright, I've ordered that for you!\n"
     ]
    }
   ],
   "source": [
    "# Send the messages\n",
    "send_messages([\n",
    "    \"I'd like to order some coffee\",\n",
    "    \"ok yes please\"\n",
    "])"
   ]
  },
  {
   "cell_type": "code",
   "execution_count": 70,
   "id": "6b27b1b2-1362-4ee0-ba9d-d13ada5a1a3f",
   "metadata": {
    "execution": {
     "iopub.execute_input": "2022-12-23T18:32:57.359805Z",
     "iopub.status.busy": "2022-12-23T18:32:57.359639Z",
     "iopub.status.idle": "2022-12-23T18:32:57.361523Z",
     "shell.execute_reply": "2022-12-23T18:32:57.361244Z",
     "shell.execute_reply.started": "2022-12-23T18:32:57.359796Z"
    },
    "tags": []
   },
   "outputs": [
    {
     "name": "stdout",
     "output_type": "stream",
     "text": [
      "USER : I'd like to order some coffee\n",
      "BOT : Unfortunately, the Kenyan coffee is currently out of stock, would you like to order the Brazilian beans?\n",
      "USER : no\n",
      "BOT : Ok\n"
     ]
    }
   ],
   "source": [
    "# Send the messages\n",
    "send_messages([\n",
    "    \"I'd like to order some coffee\",\n",
    "    'no'\n",
    "])"
   ]
  },
  {
   "cell_type": "markdown",
   "id": "b3eefa6d-faaf-49fd-bb5f-934ee959e1f7",
   "metadata": {},
   "source": [
    "### Pending state transitions"
   ]
  },
  {
   "cell_type": "code",
   "execution_count": 131,
   "id": "e67823e7-a806-4c12-a74c-330d8c4e6f48",
   "metadata": {
    "execution": {
     "iopub.execute_input": "2022-12-23T18:52:46.325208Z",
     "iopub.status.busy": "2022-12-23T18:52:46.325073Z",
     "iopub.status.idle": "2022-12-23T18:52:46.329177Z",
     "shell.execute_reply": "2022-12-23T18:52:46.328822Z",
     "shell.execute_reply.started": "2022-12-23T18:52:46.325198Z"
    },
    "tags": []
   },
   "outputs": [],
   "source": [
    "# Define the states\n",
    "INIT=0\n",
    "AUTHED=1\n",
    "CHOOSE_COFFEE=2\n",
    "ORDERED=3\n",
    "import string\n",
    "def interpret(message):\n",
    "    msg = message.lower()\n",
    "    ret = 'none'\n",
    "    if 'order' in msg:\n",
    "        ret = 'order'\n",
    "    if 'kenyan' in msg or 'colombian' in msg:\n",
    "        ret = 'specify_coffee'\n",
    "    if any([d in msg for d in string.digits]):\n",
    "        ret = 'number'    \n",
    "    return ret\n",
    "def send_message(state, pending, message):\n",
    "    print(\"\\tUSER : {}\".format(message))\n",
    "    # print(f'\\tINTERPRET:{interpret(message)}')\n",
    "    # print('\\tPOLICY SEARCH: (state={}, interpret={})\\n\\t    new_state: {}\\n\\t    response: {}\\n\\t    pending_state: {}'.format(state, interpret(message), *policy_rules[(state, interpret(message))]))\n",
    "    new_state, response, pending_state = policy_rules[(state, interpret(message))]\n",
    "    print(\"\\tBOT ANSWER FOR THE MESSAGE: {}\".format(response))\n",
    "    if pending is not None:\n",
    "        # print('\\tPENDING POLICY SEARCH: pending={}\\n\\t    new_state: {}\\n\\t    response: {}\\n\\t    pending_state: {}'.format(pending, *policy_rules[pending]))\n",
    "        new_state, response, pending_state = policy_rules[pending]\n",
    "        # this if was include by me otherwise the conversation end-up with a duplicated message of last pending (state, intent)\n",
    "        if pending_state == None:\n",
    "            pending = None\n",
    "        print(\"\\tBOT ANSWER FOR THE PENDING MESSAGE: {}\".format(response))\n",
    "    if pending_state is not None:\n",
    "        # print('\\tPENDING:\\n\\t    pending_state: {}\\n\\t    intent: {}'.format(*(pending_state, interpret(message))))\n",
    "        pending = (pending_state, interpret(message))\n",
    "    print('-'*80)\n",
    "    return new_state, pending"
   ]
  },
  {
   "cell_type": "code",
   "execution_count": 132,
   "id": "c2b6c203-6760-465f-96a1-149efbb23aa3",
   "metadata": {
    "execution": {
     "iopub.execute_input": "2022-12-23T18:52:46.594515Z",
     "iopub.status.busy": "2022-12-23T18:52:46.594372Z",
     "iopub.status.idle": "2022-12-23T18:52:46.597625Z",
     "shell.execute_reply": "2022-12-23T18:52:46.597321Z",
     "shell.execute_reply.started": "2022-12-23T18:52:46.594504Z"
    },
    "tags": []
   },
   "outputs": [
    {
     "name": "stdout",
     "output_type": "stream",
     "text": [
      "\tUSER : I'd like to order some coffee\n",
      "\tBOT ANSWER FOR THE MESSAGE: you'll have to log in first, what's your phone number?\n",
      "--------------------------------------------------------------------------------\n",
      "\tUSER : 555-1234\n",
      "\tBOT ANSWER FOR THE MESSAGE: perfect, welcome back!\n",
      "\tBOT ANSWER FOR THE PENDING MESSAGE: would you like Colombian or Kenyan?\n",
      "--------------------------------------------------------------------------------\n",
      "\tUSER : kenyan\n",
      "\tBOT ANSWER FOR THE MESSAGE: perfect, the beans are on their way!\n",
      "--------------------------------------------------------------------------------\n"
     ]
    }
   ],
   "source": [
    "# Define the policy rules\n",
    "policy_rules = {\n",
    "    ('INIT', \"order\"): ('INIT', \"you'll have to log in first, what's your phone number?\", 'AUTHED'),\n",
    "    ('INIT', \"number\"): ('AUTHED', \"perfect, welcome back!\", None),\n",
    "    ('AUTHED', \"order\"): ('CHOOSE_COFFEE', \"would you like Colombian or Kenyan?\", None),    \n",
    "    ('CHOOSE_COFFEE', \"specify_coffee\"): ('ORDERED', \"perfect, the beans are on their way!\", None)\n",
    "}\n",
    "# Define send_messages()\n",
    "def send_messages(messages):\n",
    "    state = 'INIT'\n",
    "    pending = None\n",
    "    for msg in messages:\n",
    "        # print(f'SEND_MESSAGE: state={state}, pending={pending}\\tmessage={msg}')\n",
    "        state, pending = send_message(state, pending, msg)\n",
    "# Send the messages\n",
    "send_messages([\n",
    "    \"I'd like to order some coffee\",\n",
    "    \"555-1234\",\n",
    "    \"kenyan\"])"
   ]
  },
  {
   "cell_type": "markdown",
   "id": "0d460c1e-54e4-47a8-a773-d64515cbbed6",
   "metadata": {},
   "source": [
    "## Putting it all together"
   ]
  },
  {
   "cell_type": "code",
   "execution_count": 133,
   "id": "9edbded4-a32f-4ed2-8bd9-16fb3cf34d8a",
   "metadata": {
    "execution": {
     "iopub.execute_input": "2022-12-23T18:52:50.252930Z",
     "iopub.status.busy": "2022-12-23T18:52:50.252787Z",
     "iopub.status.idle": "2022-12-23T18:52:50.255974Z",
     "shell.execute_reply": "2022-12-23T18:52:50.255671Z",
     "shell.execute_reply.started": "2022-12-23T18:52:50.252919Z"
    },
    "tags": []
   },
   "outputs": [],
   "source": [
    "eliza_rules = {'I want (.*)': ['What would it mean if you got {0}',\n",
    "                               'Why do you want {0}',\n",
    "                               \"What's stopping you from getting {0}\"],\n",
    "               \n",
    "               'do you remember (.*)': ['Did you think I would forget {0}',\n",
    "                                        \"Why haven't you been able to forget {0}\",\n",
    "                                        'What about {0}',\n",
    "                                        'Yes .. and?'],\n",
    "               \n",
    "               'do you think (.*)': ['if {0}? Absolutely.', 'No chance'],\n",
    "               \n",
    "               'if (.*)': [\"Do you really think it's likely that {0}\",\n",
    "                           'Do you wish that {0}',\n",
    "                           'What do you think about {0}',\n",
    "                           'Really--if {0}']}\n",
    "\n",
    "def replace_pronouns(message):\n",
    "    message = message.lower()\n",
    "    # re.sub all occurrences of:\n",
    "    if 'me' in message:\n",
    "        return re.sub(r'\\bme\\b', 'you', message)\n",
    "    if 'i' in message:\n",
    "        return re.sub(r'\\bi\\b', 'you', message)\n",
    "    elif 'my' in message:\n",
    "        return re.sub(r'\\bmy\\b', 'your', message)\n",
    "    elif 'your' in message:\n",
    "        return re.sub(r'\\byour\\b', 'my', message)\n",
    "    elif 'you' in message:\n",
    "        return re.sub(r'\\byou\\b', 'me', message)\n",
    "    return message"
   ]
  },
  {
   "cell_type": "code",
   "execution_count": 134,
   "id": "7631725d-8336-42b7-ba15-a73081c4566f",
   "metadata": {
    "execution": {
     "iopub.execute_input": "2022-12-23T18:52:50.465598Z",
     "iopub.status.busy": "2022-12-23T18:52:50.465456Z",
     "iopub.status.idle": "2022-12-23T18:52:50.468144Z",
     "shell.execute_reply": "2022-12-23T18:52:50.467722Z",
     "shell.execute_reply.started": "2022-12-23T18:52:50.465588Z"
    },
    "tags": []
   },
   "outputs": [],
   "source": [
    "import re\n",
    "from numpy import random\n",
    "def match_rule(rules, message):\n",
    "    for pattern, responses in rules.items():\n",
    "        match = re.search(pattern, message)\n",
    "        if match is not None:\n",
    "            response = random.choice(responses)\n",
    "            var = match.group(1) if '{0}' in response else None\n",
    "            return response, var\n",
    "    return \"default\", None"
   ]
  },
  {
   "cell_type": "code",
   "execution_count": 135,
   "id": "7e557c87-1164-4b17-b60d-ed42153790ba",
   "metadata": {
    "execution": {
     "iopub.execute_input": "2022-12-23T18:52:50.626293Z",
     "iopub.status.busy": "2022-12-23T18:52:50.626147Z",
     "iopub.status.idle": "2022-12-23T18:52:50.629029Z",
     "shell.execute_reply": "2022-12-23T18:52:50.628605Z",
     "shell.execute_reply.started": "2022-12-23T18:52:50.626282Z"
    },
    "tags": []
   },
   "outputs": [
    {
     "data": {
      "text/plain": [
       "('Why do you want {0}', 'a coffee')"
      ]
     },
     "execution_count": 135,
     "metadata": {},
     "output_type": "execute_result"
    }
   ],
   "source": [
    "match_rule(eliza_rules, \"I want a coffee\")"
   ]
  },
  {
   "cell_type": "code",
   "execution_count": 136,
   "id": "54870641-f162-4552-a3a9-ffafcc7cabff",
   "metadata": {
    "execution": {
     "iopub.execute_input": "2022-12-23T18:52:50.833749Z",
     "iopub.status.busy": "2022-12-23T18:52:50.833604Z",
     "iopub.status.idle": "2022-12-23T18:52:50.836151Z",
     "shell.execute_reply": "2022-12-23T18:52:50.835857Z",
     "shell.execute_reply.started": "2022-12-23T18:52:50.833738Z"
    },
    "tags": []
   },
   "outputs": [],
   "source": [
    "# Define chitchat_response()\n",
    "def chitchat_response(message):\n",
    "    # Call match_rule()\n",
    "    response, var = match_rule(eliza_rules, message)\n",
    "    # Return none if response is \"default\"\n",
    "    if response == \"default\":\n",
    "        return None\n",
    "    if '{0}' in response:\n",
    "        # Replace the pronouns of phrase\n",
    "        var = replace_pronouns(var)\n",
    "        # Calculate the response\n",
    "        response = response.format(var)\n",
    "    return response"
   ]
  },
  {
   "cell_type": "code",
   "execution_count": 137,
   "id": "4afd552b-e3fa-40d8-b507-8ec241c2fe6c",
   "metadata": {
    "execution": {
     "iopub.execute_input": "2022-12-23T18:52:51.026416Z",
     "iopub.status.busy": "2022-12-23T18:52:51.026270Z",
     "iopub.status.idle": "2022-12-23T18:52:51.029355Z",
     "shell.execute_reply": "2022-12-23T18:52:51.028879Z",
     "shell.execute_reply.started": "2022-12-23T18:52:51.026405Z"
    },
    "tags": []
   },
   "outputs": [
    {
     "data": {
      "text/plain": [
       "'What would it mean if you got a coffee'"
      ]
     },
     "execution_count": 137,
     "metadata": {},
     "output_type": "execute_result"
    }
   ],
   "source": [
    "chitchat_response(\"I want a coffee\")"
   ]
  },
  {
   "cell_type": "code",
   "execution_count": 138,
   "id": "1863e529-07c1-412e-80d2-763af2f18e37",
   "metadata": {
    "execution": {
     "iopub.execute_input": "2022-12-23T18:52:51.513856Z",
     "iopub.status.busy": "2022-12-23T18:52:51.513710Z",
     "iopub.status.idle": "2022-12-23T18:52:51.516025Z",
     "shell.execute_reply": "2022-12-23T18:52:51.515726Z",
     "shell.execute_reply.started": "2022-12-23T18:52:51.513845Z"
    },
    "tags": []
   },
   "outputs": [],
   "source": [
    "policy_rules = {(0, 'number'): (1, 'perfect, welcome back!', None),\n",
    "                (0, 'order'): (0,  \"you'll have to log in first, what's your phone number?\", 1),\n",
    "                (1, 'order'): (2, 'would you like Colombian or Kenyan?', None),\n",
    "                (2, 'specify_coffee'): (3, 'perfect, the beans are on their way!', None)}"
   ]
  },
  {
   "cell_type": "code",
   "execution_count": 139,
   "id": "1c0f7631-66ed-49c4-9a81-0ae2e0225e3e",
   "metadata": {
    "execution": {
     "iopub.execute_input": "2022-12-23T18:52:52.153471Z",
     "iopub.status.busy": "2022-12-23T18:52:52.153323Z",
     "iopub.status.idle": "2022-12-23T18:52:52.156208Z",
     "shell.execute_reply": "2022-12-23T18:52:52.155880Z",
     "shell.execute_reply.started": "2022-12-23T18:52:52.153459Z"
    },
    "tags": []
   },
   "outputs": [],
   "source": [
    "def send_message(state, pending, message):\n",
    "    print(\"\\tUSER : {}\".format(message))\n",
    "    new_state, response, pending_state = policy_rules[(state, interpret(message))]\n",
    "    print(\"\\tBOT ANSWER FOR THE MESSAGE: {}\".format(response))\n",
    "    if pending is not None:\n",
    "        new_state, response, pending_state = policy_rules[pending]\n",
    "        if pending_state == None:\n",
    "            pending = None\n",
    "        print(\"\\tBOT ANSWER FOR THE PENDING MESSAGE: {}\".format(response))\n",
    "    if pending_state is not None:\n",
    "        pending = (pending_state, interpret(message))\n",
    "    print('-'*80)\n",
    "    return new_state, pending"
   ]
  },
  {
   "cell_type": "code",
   "execution_count": 142,
   "id": "d20d8d6e-ee48-44ca-86bf-5bac9e02f9d6",
   "metadata": {
    "execution": {
     "iopub.execute_input": "2022-12-23T18:54:29.302544Z",
     "iopub.status.busy": "2022-12-23T18:54:29.302399Z",
     "iopub.status.idle": "2022-12-23T18:54:29.306310Z",
     "shell.execute_reply": "2022-12-23T18:54:29.306024Z",
     "shell.execute_reply.started": "2022-12-23T18:54:29.302533Z"
    },
    "tags": []
   },
   "outputs": [
    {
     "name": "stdout",
     "output_type": "stream",
     "text": [
      "USER : I'd like to order some coffee\n",
      "BOT : you'll have to log in first, what's your phone number?\n",
      "USER : 555-12345\n",
      "BOT : perfect, welcome back!\n",
      "BOT : would you like Colombian or Kenyan?\n",
      "USER : do you remember when I ordered 1000 kilos by accident?\n",
      "BOT : What about when you ordered 1000 kilos by accident?\n",
      "USER : kenyan\n",
      "BOT : perfect, the beans are on their way!\n"
     ]
    }
   ],
   "source": [
    "# Define send_message()\n",
    "def send_message(state, pending, message):\n",
    "    print(\"USER : {}\".format(message))\n",
    "    response = chitchat_response(message)\n",
    "    if response is not None:\n",
    "        print(\"BOT : {}\".format(response))\n",
    "        return state, None\n",
    "    \n",
    "    # Calculate the new_state, response, and pending_state\n",
    "    new_state, response, pending_state = policy_rules[(state, interpret(message))]\n",
    "    print(\"BOT : {}\".format(response))\n",
    "    if pending is not None:\n",
    "        new_state, response, pending_state = policy_rules[pending]\n",
    "        if pending_state == None:\n",
    "            pending = None\n",
    "        print(\"BOT : {}\".format(response))        \n",
    "    if pending_state is not None:\n",
    "        pending = (pending_state, interpret(message))\n",
    "    return new_state, pending\n",
    "\n",
    "# Define send_messages()\n",
    "def send_messages(messages):\n",
    "    state = INIT\n",
    "    pending = None\n",
    "    for msg in messages:\n",
    "        state, pending = send_message(state, pending, msg)\n",
    "\n",
    "# Send the messages\n",
    "send_messages([\n",
    "    \"I'd like to order some coffee\",\n",
    "    \"555-12345\",\n",
    "    \"do you remember when I ordered 1000 kilos by accident?\",\n",
    "    \"kenyan\"\n",
    "])  "
   ]
  },
  {
   "cell_type": "markdown",
   "id": "c364d41b-1903-4458-a028-100e778d1983",
   "metadata": {},
   "source": [
    "## Frontiers of dialogue technology"
   ]
  },
  {
   "cell_type": "markdown",
   "id": "8a26c4e3-0c9f-4eac-bfb9-4de0e2f72e9e",
   "metadata": {},
   "source": [
    "### A neural conversational model"
   ]
  },
  {
   "cell_type": "markdown",
   "id": "a982b58c-ad9f-400c-a1f5-3c3ec9d1ed77",
   "metadata": {
    "execution": {
     "iopub.execute_input": "2022-12-23T19:03:54.872965Z",
     "iopub.status.busy": "2022-12-23T19:03:54.872818Z",
     "iopub.status.idle": "2022-12-23T19:03:54.875713Z",
     "shell.execute_reply": "2022-12-23T19:03:54.875325Z",
     "shell.execute_reply.started": "2022-12-23T19:03:54.872951Z"
    },
    "tags": []
   },
   "source": [
    "https://static.googleusercontent.com/media/research.google.com/en//pubs/archive/44925.pdf"
   ]
  },
  {
   "cell_type": "markdown",
   "id": "c47255ba-079b-4db8-989e-c88092d0e7c2",
   "metadata": {},
   "source": [
    "### Seq2seq\n",
    "* Machine translation\n",
    "* Completely data driven, no hand-crafting\n",
    "* Requires large amount of data\n",
    "* No guarantee that output is coherent\n",
    "* Difficult to integrate DB / API calls & other logic"
   ]
  },
  {
   "cell_type": "markdown",
   "id": "46e2c7c5-2be1-49b5-afa9-020f23ce7ab0",
   "metadata": {
    "execution": {
     "iopub.execute_input": "2022-12-23T19:11:53.476733Z",
     "iopub.status.busy": "2022-12-23T19:11:53.476598Z",
     "iopub.status.idle": "2022-12-23T19:11:53.479374Z",
     "shell.execute_reply": "2022-12-23T19:11:53.479016Z",
     "shell.execute_reply.started": "2022-12-23T19:11:53.476723Z"
    }
   },
   "source": [
    "### Grounded dialogue systems\n",
    "* Systems you've built in this course: hand-crafted\n",
    "* Seq2seq: Data driven\n",
    "* ML based dialogue systems:\n",
    "    * NLU\n",
    "    * Dialogue state manager\n",
    "    * API logic\n",
    "    * Natural language response generator\n",
    "* Human pretend to be a bot: \"Wizard of Oz\" technique\n",
    "* Reinforcement learning\n",
    "    * Receives a reward for a successful conversation"
   ]
  },
  {
   "cell_type": "markdown",
   "id": "9004a2cb-520b-4039-a9a1-b11c46c2acb9",
   "metadata": {},
   "source": [
    "### Generating text with neural networks"
   ]
  },
  {
   "cell_type": "markdown",
   "id": "fd0050d6-dc8d-4cf1-9d1e-c2888b53eb09",
   "metadata": {},
   "source": [
    "```\n",
    "generated = sample_text(\n",
    "    saved_params,\n",
    "    temperature,  \n",
    "    m_letters=num_leters,  \n",
    "    init_text=text)\n",
    "```"
   ]
  },
  {
   "cell_type": "code",
   "execution_count": 149,
   "id": "2321953c-93b3-4d45-8dd9-eda0abe7a7ee",
   "metadata": {
    "execution": {
     "iopub.execute_input": "2022-12-23T19:23:15.325257Z",
     "iopub.status.busy": "2022-12-23T19:23:15.325046Z",
     "iopub.status.idle": "2022-12-23T19:23:15.328223Z",
     "shell.execute_reply": "2022-12-23T19:23:15.327818Z",
     "shell.execute_reply.started": "2022-12-23T19:23:15.325240Z"
    },
    "tags": []
   },
   "outputs": [],
   "source": [
    "generated = {0.2: \"i'm gonna punch lenny in the back of the been a to the on the man to the mother and the father to simpson the father to with the marge in the for the like the fame to the been to the for my bart the don't was in the like the for the father the father a was the father been a say the been to me the do it and the father been to go. i want to the boy i can the from a man to be the for the been a like the father to make my bart of the father\",\n",
    "             0.5: \"i'm gonna punch lenny in the back of the kin't she change and i'm all better it and the was the fad a drivera it? what i want to did hey, he would you would in your bus who know is the like and this don't are for your this all for your manset the for it a man is on the see the will they want to know i'm are for one start of that and i got the better this is. it whoce and i don't are on the mater stop in the from a for the be your mileat\",\n",
    "             1.0: \"i'm gonna punch lenny in the back of the to to macks how screath. firl done we wouldn't wil that kill. of this torshmobote since, i know i ord did, can give crika of sintenn prescoam.whover my me after may? there's right. that up. there's ruining isay.oh.solls.nan'h those off point chuncing car your anal medion.hey, are exallies a off while bea dolk of sure, hello, no in her, we'll rundems... i'm eventy taving me to too the letberngonce\",\n",
    "             .2: \"i'm gonna punch lenny in the back of the burear prespe-nakes, 'lisa to isn't that godios.and when be the bowniday' would lochs meine, mind crikvin' suhle ovotaci!..... hey, a poielyfd othe flancer, this in are rightplouten of of we doll hurrs, truelturone? rake inswaydan justy!we scrikent.ow.. by back hous, smadge, the lighel irely.yes, homer. wel'e esasmoy ryelalrs all wronencay...... nank. i wenth makedyk. come on help cerzind, now, n\"}"
   ]
  },
  {
   "cell_type": "code",
   "execution_count": 150,
   "id": "0434617f-f63c-48f6-9522-4dbe894d3c05",
   "metadata": {
    "execution": {
     "iopub.execute_input": "2022-12-23T19:23:26.595732Z",
     "iopub.status.busy": "2022-12-23T19:23:26.595596Z",
     "iopub.status.idle": "2022-12-23T19:23:26.597978Z",
     "shell.execute_reply": "2022-12-23T19:23:26.597692Z",
     "shell.execute_reply.started": "2022-12-23T19:23:26.595722Z"
    },
    "tags": []
   },
   "outputs": [],
   "source": [
    "#simplified version\n",
    "def sample_text(seed, temperature):\n",
    "    return generated[temperature]"
   ]
  }
 ],
 "metadata": {
  "kernelspec": {
   "display_name": "Python 3 (ipykernel)",
   "language": "python",
   "name": "python3"
  },
  "language_info": {
   "codemirror_mode": {
    "name": "ipython",
    "version": 3
   },
   "file_extension": ".py",
   "mimetype": "text/x-python",
   "name": "python",
   "nbconvert_exporter": "python",
   "pygments_lexer": "ipython3",
   "version": "3.9.15"
  },
  "toc-autonumbering": true
 },
 "nbformat": 4,
 "nbformat_minor": 5
}
