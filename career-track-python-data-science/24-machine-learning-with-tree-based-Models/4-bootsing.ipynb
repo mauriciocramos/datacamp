{
 "cells": [
  {
   "cell_type": "markdown",
   "id": "a8c8b741-5b37-42eb-93a5-d5dc321ab50c",
   "metadata": {},
   "source": [
    "# Boosting\n",
    "* **Boosting:** Ensemble method combining several weak learners to form a strong learner.\n",
    "* **Weak learner:** Model doing slightly better than random guessing.\n",
    "* **Example of weak learner:** Decision stump (CART whose maximum depth is 1).\n",
    "* Train an ensemble of predictors sequentially.\n",
    "* Each predictor tries to correct its predecessor.\n",
    "* Most popular boosting methods:\n",
    "    * AdaBoost,\n",
    "    * Gradient Boosting."
   ]
  },
  {
   "cell_type": "markdown",
   "id": "84bbcdbc-34ac-4c2e-83b2-dd065ca0b2c4",
   "metadata": {},
   "source": [
    "# AdaBoost (Adaptive Boosting)"
   ]
  },
  {
   "cell_type": "markdown",
   "id": "70965ef2-713f-4a48-aa0f-9c7953a58720",
   "metadata": {
    "tags": []
   },
   "source": [
    "## Adaboost\n",
    "* Stands for Adaptive Boosting.\n",
    "* Each predictor pays more attention to the instances wrongly predicted by its predecessor.\n",
    "* Achieved by changing the weights of training instances.\n",
    "* Each predictor is assigned a coefficient $\\alpha$ that weighs its contribution in the ensembleś final prediction.\n",
    "* $\\alpha$ depends on the predictor's training error."
   ]
  },
  {
   "cell_type": "markdown",
   "id": "eae916ed-badd-4907-9088-2c8e4a70cea6",
   "metadata": {
    "execution": {
     "iopub.execute_input": "2023-01-07T03:02:10.475942Z",
     "iopub.status.busy": "2023-01-07T03:02:10.475806Z",
     "iopub.status.idle": "2023-01-07T03:02:10.480207Z",
     "shell.execute_reply": "2023-01-07T03:02:10.479857Z",
     "shell.execute_reply.started": "2023-01-07T03:02:10.475931Z"
    }
   },
   "source": [
    "## Learning Rate\n",
    "\n",
    "* An important parameter used in training is the learning rate called $\\eta$.\n",
    "* $\\eta$ is a number between 0 and 1; it is used to shrink the coefficient alpha of a trained predictor.\n",
    "* It's important to note that there's a trade-off between $\\eta$ and the number of estimators.\n",
    "* A smaller value of $\\eta$ should be compensated by a greater number of estimators."
   ]
  },
  {
   "cell_type": "markdown",
   "id": "29f696d2-68c5-4b29-85ba-e9cac0f6d415",
   "metadata": {},
   "source": [
    "## AdaBoost: Prediction\n",
    "**Classification:**\n",
    "* Weighted majority voting.\n",
    "* In sklearn: AdaBoostClassifier.\n",
    "\n",
    "**Regression:**\n",
    "* Weighted average.\n",
    "* In sklearn: AdaBoostRegressor "
   ]
  },
  {
   "cell_type": "markdown",
   "id": "9fd74e78-3b0b-4166-918c-74973c5aadeb",
   "metadata": {},
   "source": [
    "## AdaBoost Classification in sklearn (Breast Cancer dataset)"
   ]
  },
  {
   "cell_type": "code",
   "execution_count": 1,
   "id": "10a3f2ac-aa61-42e3-88c4-e71407745200",
   "metadata": {
    "execution": {
     "iopub.execute_input": "2023-09-02T17:39:16.204772Z",
     "iopub.status.busy": "2023-09-02T17:39:16.204223Z",
     "iopub.status.idle": "2023-09-02T17:39:16.575528Z",
     "shell.execute_reply": "2023-09-02T17:39:16.575199Z",
     "shell.execute_reply.started": "2023-09-02T17:39:16.204715Z"
    },
    "tags": []
   },
   "outputs": [
    {
     "data": {
      "text/plain": [
       "(569, 30)"
      ]
     },
     "execution_count": 1,
     "metadata": {},
     "output_type": "execute_result"
    }
   ],
   "source": [
    "import pandas as pd\n",
    "wbc = pd.read_csv('wbc.zip')\n",
    "X = wbc.iloc[:, 2:-1]\n",
    "y = pd.Categorical(wbc['diagnosis']).codes\n",
    "X.shape"
   ]
  },
  {
   "cell_type": "code",
   "execution_count": 2,
   "id": "78be0341-8920-4bf3-be83-5b7d2c076508",
   "metadata": {
    "execution": {
     "iopub.execute_input": "2023-09-02T17:39:16.576183Z",
     "iopub.status.busy": "2023-09-02T17:39:16.576051Z",
     "iopub.status.idle": "2023-09-02T17:39:16.791299Z",
     "shell.execute_reply": "2023-09-02T17:39:16.790878Z",
     "shell.execute_reply.started": "2023-09-02T17:39:16.576159Z"
    }
   },
   "outputs": [],
   "source": [
    "# Import models and utility functions\n",
    "from sklearn.ensemble import AdaBoostClassifier\n",
    "from sklearn.tree import DecisionTreeClassifier\n",
    "from sklearn.metrics import roc_auc_score\n",
    "from sklearn.model_selection import train_test_split\n",
    "# Set seed for reproducibility\n",
    "SEED = 1\n",
    "# Split data into 70% train and 30% test\n",
    "X_train, X_test, y_train, y_test = train_test_split(X, y, test_size=0.3, stratify=y, random_state=SEED)"
   ]
  },
  {
   "cell_type": "code",
   "execution_count": 3,
   "id": "3e9ccea4-b572-482e-a8b2-b487ed15d3ad",
   "metadata": {
    "execution": {
     "iopub.execute_input": "2023-09-02T17:39:16.791805Z",
     "iopub.status.busy": "2023-09-02T17:39:16.791667Z",
     "iopub.status.idle": "2023-09-02T17:39:16.974710Z",
     "shell.execute_reply": "2023-09-02T17:39:16.974372Z",
     "shell.execute_reply.started": "2023-09-02T17:39:16.791794Z"
    },
    "tags": []
   },
   "outputs": [],
   "source": [
    "# Instantiate a classification-tree 'dt' (week learner)\n",
    "dt = DecisionTreeClassifier(max_depth=1, random_state=SEED)\n",
    "# Instantiate an AdaBoost classifier 'adab_clf'\n",
    "adb_clf = AdaBoostClassifier(estimator=dt, n_estimators=100)\n",
    "# Fit 'adb_clf' to the training set\n",
    "adb_clf.fit(X_train, y_train)\n",
    "# Predict the test set probabilities of positive class\n",
    "y_pred_proba = adb_clf.predict_proba(X_test)[:,1]\n",
    "# Evaluate test-set roc_auc_score\n",
    "adb_clf_roc_auc_score = roc_auc_score(y_test, y_pred_proba)"
   ]
  },
  {
   "cell_type": "code",
   "execution_count": 4,
   "id": "de87797a-317f-4199-8db2-241133797cf2",
   "metadata": {
    "execution": {
     "iopub.execute_input": "2023-09-02T17:39:16.975822Z",
     "iopub.status.busy": "2023-09-02T17:39:16.975645Z",
     "iopub.status.idle": "2023-09-02T17:39:16.977958Z",
     "shell.execute_reply": "2023-09-02T17:39:16.977604Z",
     "shell.execute_reply.started": "2023-09-02T17:39:16.975811Z"
    },
    "tags": []
   },
   "outputs": [
    {
     "name": "stdout",
     "output_type": "stream",
     "text": [
      "ROC AUC score: 0.99\n"
     ]
    }
   ],
   "source": [
    "# Print adb_clf_roc_auc_score\n",
    "print('ROC AUC score: {:.2f}'.format(adb_clf_roc_auc_score))"
   ]
  },
  {
   "cell_type": "markdown",
   "id": "568d7ce7-cb44-4851-8434-d05fbcf67682",
   "metadata": {},
   "source": [
    "## AdaBoost Classification in sklearn (Indian Liver Patient)"
   ]
  },
  {
   "cell_type": "code",
   "execution_count": 5,
   "id": "bee19a81-6651-4014-beb7-f6044ca01b18",
   "metadata": {
    "execution": {
     "iopub.execute_input": "2023-09-02T17:39:16.978680Z",
     "iopub.status.busy": "2023-09-02T17:39:16.978544Z",
     "iopub.status.idle": "2023-09-02T17:39:16.983261Z",
     "shell.execute_reply": "2023-09-02T17:39:16.982966Z",
     "shell.execute_reply.started": "2023-09-02T17:39:16.978668Z"
    },
    "tags": []
   },
   "outputs": [],
   "source": [
    "indian = pd.read_csv('indian_liver_patient.zip').dropna()\n",
    "indian['Gender'] = pd.Categorical(indian['Gender']).codes\n",
    "X = indian.iloc[:, :-1]\n",
    "y = indian['Dataset']"
   ]
  },
  {
   "cell_type": "code",
   "execution_count": 6,
   "id": "3d6940f4-87c0-48cd-bca0-fbb38ef1895a",
   "metadata": {
    "execution": {
     "iopub.execute_input": "2023-09-02T17:39:16.983823Z",
     "iopub.status.busy": "2023-09-02T17:39:16.983679Z",
     "iopub.status.idle": "2023-09-02T17:39:16.985839Z",
     "shell.execute_reply": "2023-09-02T17:39:16.985506Z",
     "shell.execute_reply.started": "2023-09-02T17:39:16.983811Z"
    },
    "tags": []
   },
   "outputs": [],
   "source": [
    "# Instantiate dt\n",
    "dt = DecisionTreeClassifier(max_depth=2, random_state=1)\n",
    "# Instantiate ada\n",
    "ada = AdaBoostClassifier(estimator=dt, n_estimators=180, random_state=1)"
   ]
  },
  {
   "cell_type": "code",
   "execution_count": 7,
   "id": "82cf10ff-697b-42c1-ad60-c8a4a204eeb5",
   "metadata": {
    "execution": {
     "iopub.execute_input": "2023-09-02T17:39:16.986397Z",
     "iopub.status.busy": "2023-09-02T17:39:16.986253Z",
     "iopub.status.idle": "2023-09-02T17:39:17.471414Z",
     "shell.execute_reply": "2023-09-02T17:39:17.471067Z",
     "shell.execute_reply.started": "2023-09-02T17:39:16.986386Z"
    },
    "tags": []
   },
   "outputs": [],
   "source": [
    "# Fit ada to the training set\n",
    "ada.fit(X_train, y_train)\n",
    "\n",
    "# Compute the probabilities of obtaining the positive class\n",
    "y_pred_proba = ada.predict_proba(X_test,)[:,1]"
   ]
  },
  {
   "cell_type": "code",
   "execution_count": 8,
   "id": "eb979b78-f0b9-431d-879a-278df7b9183e",
   "metadata": {
    "execution": {
     "iopub.execute_input": "2023-09-02T17:39:17.471907Z",
     "iopub.status.busy": "2023-09-02T17:39:17.471786Z",
     "iopub.status.idle": "2023-09-02T17:39:17.475134Z",
     "shell.execute_reply": "2023-09-02T17:39:17.474834Z",
     "shell.execute_reply.started": "2023-09-02T17:39:17.471896Z"
    }
   },
   "outputs": [
    {
     "name": "stdout",
     "output_type": "stream",
     "text": [
      "ROC AUC score: 0.99\n"
     ]
    }
   ],
   "source": [
    "# Import roc_auc_score\n",
    "from sklearn.metrics import roc_auc_score\n",
    "# Evaluate test-set roc_auc_score\n",
    "ada_roc_auc = roc_auc_score(y_test, y_pred_proba)\n",
    "# Print roc_auc_score\n",
    "print('ROC AUC score: {:.2f}'.format(ada_roc_auc))"
   ]
  },
  {
   "cell_type": "markdown",
   "id": "26a9da61-49ad-42ca-9768-5cbe0d07fbe7",
   "metadata": {},
   "source": [
    "# Gradient Boosting (GB)"
   ]
  },
  {
   "cell_type": "markdown",
   "id": "6a617c24-3e09-42d0-ab59-3f780116c263",
   "metadata": {},
   "source": [
    "## Gradient Boosted Trees\n",
    "* Sequential correction of predecessor's errors.\n",
    "* Does not tweak the weights of training instances.\n",
    "* Instead, each predictor is trained using its predecessor's residual errors as labels.\n",
    "* Gradient Boosted Trees: a CART is used as a base learner."
   ]
  },
  {
   "cell_type": "markdown",
   "id": "fbd53be4-b61d-4534-b8fb-8fa9ab9c972e",
   "metadata": {},
   "source": [
    "## Shrinkage\n",
    "\n",
    "* An important parameter used in training gradient boosted trees is shrinkage.\n",
    "* In this context, shrinkage refers to the fact that the prediction of each tree in the ensemble is shrinked after it is multiplied by a learning rate $\\eta$ (eta) which is a number between 0 and 1.\n",
    "* Similarly to AdaBoost, there's a trade-off between $\\eta$ and the number of estimators.\n",
    "* Decreasing the learning rate $\\eta$ needs to be compensated by increasing the number of estimators in order for the ensemble to reach a certain performance."
   ]
  },
  {
   "cell_type": "markdown",
   "id": "3cd52d6b-2a80-4382-a849-2135189ffba6",
   "metadata": {
    "tags": []
   },
   "source": [
    "## Gradient Boosted Trees: Prediction\n",
    "* Regression:\n",
    "    $$y_{pred} = y_1 + \\eta _1r_1 + ... + \\eta r_N$$\n",
    "    * In sklearn: GradientBoostingRegressor\n",
    "* Classification:\n",
    "    * In sklearn: GradientBoostingClassifier"
   ]
  },
  {
   "cell_type": "markdown",
   "id": "8768b862-ee6e-4e23-9b6e-dfa2b4f27dd9",
   "metadata": {
    "tags": []
   },
   "source": [
    "## Gradient Boosting in sklearn (auto dataset)"
   ]
  },
  {
   "cell_type": "code",
   "execution_count": 9,
   "id": "d7f357c5-3766-4c7c-a9b2-ed83d18d2215",
   "metadata": {
    "execution": {
     "iopub.execute_input": "2023-09-02T17:39:17.475724Z",
     "iopub.status.busy": "2023-09-02T17:39:17.475533Z",
     "iopub.status.idle": "2023-09-02T17:39:17.480121Z",
     "shell.execute_reply": "2023-09-02T17:39:17.479827Z",
     "shell.execute_reply.started": "2023-09-02T17:39:17.475712Z"
    },
    "tags": []
   },
   "outputs": [],
   "source": [
    "auto = pd.read_csv('auto.zip')\n",
    "X = auto.iloc[:, 1:]\n",
    "X['origin'] = pd.Categorical(X['origin']).codes\n",
    "y = auto['mpg']"
   ]
  },
  {
   "cell_type": "code",
   "execution_count": 10,
   "id": "8f06d16a-69fc-4efe-9fdb-d8ed682c8425",
   "metadata": {
    "execution": {
     "iopub.execute_input": "2023-09-02T17:39:17.480673Z",
     "iopub.status.busy": "2023-09-02T17:39:17.480553Z",
     "iopub.status.idle": "2023-09-02T17:39:17.483793Z",
     "shell.execute_reply": "2023-09-02T17:39:17.483487Z",
     "shell.execute_reply.started": "2023-09-02T17:39:17.480662Z"
    },
    "tags": []
   },
   "outputs": [],
   "source": [
    "# Import models and utility functions\n",
    "from sklearn.ensemble import GradientBoostingRegressor\n",
    "from sklearn.model_selection import train_test_split\n",
    "from sklearn.metrics import mean_squared_error as MSE\n",
    "# Set seed for reproducibility\n",
    "SEED = 1\n",
    "# Split dataset into 70% train and 30% test\n",
    "X_train, X_test, y_train, y_test = train_test_split(X, y, test_size=0.3, random_state=SEED)"
   ]
  },
  {
   "cell_type": "code",
   "execution_count": 11,
   "id": "84bbea2a-01d8-4801-9b55-6eeb8b10e5d1",
   "metadata": {
    "execution": {
     "iopub.execute_input": "2023-09-02T17:39:17.484396Z",
     "iopub.status.busy": "2023-09-02T17:39:17.484260Z",
     "iopub.status.idle": "2023-09-02T17:39:17.562102Z",
     "shell.execute_reply": "2023-09-02T17:39:17.561741Z",
     "shell.execute_reply.started": "2023-09-02T17:39:17.484384Z"
    },
    "tags": []
   },
   "outputs": [
    {
     "name": "stdout",
     "output_type": "stream",
     "text": [
      "Test set RMSE: 4.00\n"
     ]
    }
   ],
   "source": [
    "# Instantiate a GradientBoostingRegressor 'gbt'\n",
    "gbt = GradientBoostingRegressor(n_estimators=300, max_depth=1, random_state=SEED)\n",
    "# Fit 'gbt' to the training set\n",
    "gbt.fit(X_train, y_train)\n",
    "# Predict the test set labels\n",
    "y_pred = gbt.predict(X_test)\n",
    "# Evaluate the test set RMSE\n",
    "rmse_test = MSE(y_test, y_pred)**(1/2)\n",
    "# Print the test set RMSE\n",
    "print('Test set RMSE: {:.2f}'.format(rmse_test))"
   ]
  },
  {
   "cell_type": "markdown",
   "id": "4891101a-cae0-4190-ac83-feff195591a9",
   "metadata": {
    "tags": []
   },
   "source": [
    "## Gradient Boosting in sklearn (Bike Sharing Demand)"
   ]
  },
  {
   "cell_type": "code",
   "execution_count": 12,
   "id": "598bb6d3-f373-4d00-a8a4-60a52a296c85",
   "metadata": {
    "execution": {
     "iopub.execute_input": "2023-09-02T17:39:17.562676Z",
     "iopub.status.busy": "2023-09-02T17:39:17.562555Z",
     "iopub.status.idle": "2023-09-02T17:39:17.567054Z",
     "shell.execute_reply": "2023-09-02T17:39:17.566753Z",
     "shell.execute_reply.started": "2023-09-02T17:39:17.562665Z"
    },
    "tags": []
   },
   "outputs": [],
   "source": [
    "bikes = pd.read_csv('bikes.zip')\n",
    "X = bikes.drop(columns=['cnt'])\n",
    "y = bikes['cnt']"
   ]
  },
  {
   "cell_type": "code",
   "execution_count": 13,
   "id": "67498264-d144-4254-92ca-de0d5f6d73b7",
   "metadata": {
    "execution": {
     "iopub.execute_input": "2023-09-02T17:39:17.568637Z",
     "iopub.status.busy": "2023-09-02T17:39:17.568464Z",
     "iopub.status.idle": "2023-09-02T17:39:17.571599Z",
     "shell.execute_reply": "2023-09-02T17:39:17.571299Z",
     "shell.execute_reply.started": "2023-09-02T17:39:17.568624Z"
    },
    "tags": []
   },
   "outputs": [],
   "source": [
    "X_train, X_test, y_train, y_test = train_test_split(X, y, test_size=0.2, random_state=1)"
   ]
  },
  {
   "cell_type": "code",
   "execution_count": 14,
   "id": "954a7651-50d9-449b-a14c-b06d300634ca",
   "metadata": {
    "execution": {
     "iopub.execute_input": "2023-09-02T17:39:17.572131Z",
     "iopub.status.busy": "2023-09-02T17:39:17.572020Z",
     "iopub.status.idle": "2023-09-02T17:39:17.573838Z",
     "shell.execute_reply": "2023-09-02T17:39:17.573569Z",
     "shell.execute_reply.started": "2023-09-02T17:39:17.572120Z"
    }
   },
   "outputs": [],
   "source": [
    "# Instantiate gb\n",
    "gb = GradientBoostingRegressor(max_depth=4, n_estimators=200, random_state=2)"
   ]
  },
  {
   "cell_type": "code",
   "execution_count": 15,
   "id": "9cd2880a-fe42-46d5-bc5e-a0489da12ba5",
   "metadata": {
    "execution": {
     "iopub.execute_input": "2023-09-02T17:39:17.574305Z",
     "iopub.status.busy": "2023-09-02T17:39:17.574203Z",
     "iopub.status.idle": "2023-09-02T17:39:17.793018Z",
     "shell.execute_reply": "2023-09-02T17:39:17.792670Z",
     "shell.execute_reply.started": "2023-09-02T17:39:17.574294Z"
    },
    "tags": []
   },
   "outputs": [],
   "source": [
    "# Fit gb to the training set\n",
    "gb.fit(X_train, y_train)\n",
    "# Predict test set labels\n",
    "y_pred = gb.predict(X_test)"
   ]
  },
  {
   "cell_type": "code",
   "execution_count": 16,
   "id": "58aea338-e632-49ec-b20a-2f5af06128ad",
   "metadata": {
    "execution": {
     "iopub.execute_input": "2023-09-02T17:39:17.793549Z",
     "iopub.status.busy": "2023-09-02T17:39:17.793428Z",
     "iopub.status.idle": "2023-09-02T17:39:17.796188Z",
     "shell.execute_reply": "2023-09-02T17:39:17.795927Z",
     "shell.execute_reply.started": "2023-09-02T17:39:17.793538Z"
    }
   },
   "outputs": [
    {
     "name": "stdout",
     "output_type": "stream",
     "text": [
      "Test set RMSE of gb: 43.113\n"
     ]
    }
   ],
   "source": [
    "# Compute MSE\n",
    "mse_test = MSE(y_test, y_pred)\n",
    "# Compute RMSE\n",
    "rmse_test = mse_test ** (1/2)\n",
    "# Print RMSE\n",
    "print('Test set RMSE of gb: {:.3f}'.format(rmse_test))"
   ]
  },
  {
   "cell_type": "markdown",
   "id": "5c251fa8-2fe7-4189-a7aa-d58b81ea10ba",
   "metadata": {},
   "source": [
    "# Stochastic Gradient Boosting (SGB)"
   ]
  },
  {
   "cell_type": "markdown",
   "id": "226d7214-dc8a-42ab-a2d5-83fbe17b5cbe",
   "metadata": {},
   "source": [
    "## Gradient Boosting: Cons\n",
    "* GB involves an exhaustive search procedure.\n",
    "* Each CART is trained to find the best split points and features\n",
    "* May lead to CARTs using the same split points and maybe the same features."
   ]
  },
  {
   "cell_type": "markdown",
   "id": "45a19888-f906-4733-b344-82b43fb1838f",
   "metadata": {},
   "source": [
    "## Stochastic Gradient Boosting\n",
    "* Each tree is trained on a random subset of rows of the training data.\n",
    "* The sampled instances (40%-80% of the training set) are sampled without replacement.  \n",
    "    `subsample` - The fraction of samples to be used for fitting the individual base learners. If smaller than 1.0 this results in Stochastic Gradient Boosting. subsample interacts with the parameter `n_estimators`. Choosing subsample < 1.0 leads to a reduction of variance and an increase in bias.\n",
    "* Features are sampled (without replacement) when choosing split points.  \n",
    "    `max_features` - The number of features to consider when looking for the best split.\n",
    "* Result: further ensemble diversity.\n",
    "* Effect: adding further variance to the ensemble of trees"
   ]
  },
  {
   "cell_type": "markdown",
   "id": "5eb4e357-c74e-484c-9653-2d45877d5c00",
   "metadata": {},
   "source": [
    "## Stochastic Gradient Boosting in sklearn (auto dataset)"
   ]
  },
  {
   "cell_type": "code",
   "execution_count": 17,
   "id": "9d2de98d-710e-4583-81e6-41b8ced09979",
   "metadata": {
    "execution": {
     "iopub.execute_input": "2023-09-02T17:39:17.796801Z",
     "iopub.status.busy": "2023-09-02T17:39:17.796592Z",
     "iopub.status.idle": "2023-09-02T17:39:17.800520Z",
     "shell.execute_reply": "2023-09-02T17:39:17.800181Z",
     "shell.execute_reply.started": "2023-09-02T17:39:17.796790Z"
    },
    "tags": []
   },
   "outputs": [],
   "source": [
    "auto = pd.read_csv('auto.zip')\n",
    "X = auto.iloc[:, 1:]\n",
    "X['origin'] = pd.Categorical(X['origin']).codes\n",
    "y = auto['mpg']"
   ]
  },
  {
   "cell_type": "code",
   "execution_count": 18,
   "id": "1e4df837-7b91-49f5-a501-b17bf1053f54",
   "metadata": {
    "execution": {
     "iopub.execute_input": "2023-09-02T17:39:17.801078Z",
     "iopub.status.busy": "2023-09-02T17:39:17.800953Z",
     "iopub.status.idle": "2023-09-02T17:39:17.804220Z",
     "shell.execute_reply": "2023-09-02T17:39:17.803922Z",
     "shell.execute_reply.started": "2023-09-02T17:39:17.801067Z"
    }
   },
   "outputs": [],
   "source": [
    "# Import models and utility functions\n",
    "from sklearn.ensemble import GradientBoostingRegressor\n",
    "from sklearn.model_selection import train_test_split\n",
    "from sklearn.metrics import mean_squared_error as MSE\n",
    "# Set seed for reproducibility\n",
    "SEED = 1\n",
    "# Split dataset into 70% train and 30% test\n",
    "X_train, X_test, y_train, y_test = train_test_split(X, y, test_size=0.3, random_state=SEED)"
   ]
  },
  {
   "cell_type": "code",
   "execution_count": 19,
   "id": "4a6bd38a-0b4b-4a5a-8205-3b4301d9d135",
   "metadata": {
    "execution": {
     "iopub.execute_input": "2023-09-02T17:39:17.804822Z",
     "iopub.status.busy": "2023-09-02T17:39:17.804608Z",
     "iopub.status.idle": "2023-09-02T17:39:17.877241Z",
     "shell.execute_reply": "2023-09-02T17:39:17.876860Z",
     "shell.execute_reply.started": "2023-09-02T17:39:17.804810Z"
    }
   },
   "outputs": [],
   "source": [
    "# Instantiate a stochastic GradientBoostingRegressor 'sgbt'\n",
    "sgbt = GradientBoostingRegressor(max_depth=1,\n",
    "                                 subsample=0.8,\n",
    "                                 max_features=0.2,\n",
    "                                 n_estimators=300,\n",
    "                                 random_state=SEED)\n",
    "# Fit 'sgbt' to the training set\n",
    "sgbt.fit(X_train, y_train)\n",
    "# Predict the test set labels\n",
    "y_pred = sgbt.predict(X_test)"
   ]
  },
  {
   "cell_type": "code",
   "execution_count": 20,
   "id": "1af35347-65bd-4771-8471-514c9c65732b",
   "metadata": {
    "execution": {
     "iopub.execute_input": "2023-09-02T17:39:17.877752Z",
     "iopub.status.busy": "2023-09-02T17:39:17.877646Z",
     "iopub.status.idle": "2023-09-02T17:39:17.880451Z",
     "shell.execute_reply": "2023-09-02T17:39:17.880011Z",
     "shell.execute_reply.started": "2023-09-02T17:39:17.877741Z"
    }
   },
   "outputs": [
    {
     "name": "stdout",
     "output_type": "stream",
     "text": [
      "Test set RMSE: 4.11\n"
     ]
    }
   ],
   "source": [
    "# Evaluate test set RMSE 'rmse_test'\n",
    "rmse_test = MSE(y_test, y_pred)**(1/2)\n",
    "# Print 'rmse_test'\n",
    "print('Test set RMSE: {:.2f}'.format(rmse_test))"
   ]
  },
  {
   "cell_type": "markdown",
   "id": "c60048af-d8b1-4c9f-9ec0-f0d64a0befa4",
   "metadata": {},
   "source": [
    "## Stochastic Gradient Boosting in sklearn (Bike Sharing Demand)"
   ]
  },
  {
   "cell_type": "code",
   "execution_count": 21,
   "id": "36476304-7ec7-4329-8217-13f2f043180b",
   "metadata": {
    "execution": {
     "iopub.execute_input": "2023-09-02T17:39:17.881028Z",
     "iopub.status.busy": "2023-09-02T17:39:17.880917Z",
     "iopub.status.idle": "2023-09-02T17:39:17.885658Z",
     "shell.execute_reply": "2023-09-02T17:39:17.885242Z",
     "shell.execute_reply.started": "2023-09-02T17:39:17.881017Z"
    },
    "tags": []
   },
   "outputs": [],
   "source": [
    "bikes = pd.read_csv('bikes.zip')\n",
    "X = bikes.drop(columns=['cnt'])\n",
    "y = bikes['cnt']"
   ]
  },
  {
   "cell_type": "code",
   "execution_count": 22,
   "id": "2b803e94-d0d3-4408-9c9b-a8ad28897d78",
   "metadata": {
    "execution": {
     "iopub.execute_input": "2023-09-02T17:39:17.886230Z",
     "iopub.status.busy": "2023-09-02T17:39:17.886096Z",
     "iopub.status.idle": "2023-09-02T17:39:17.889193Z",
     "shell.execute_reply": "2023-09-02T17:39:17.888836Z",
     "shell.execute_reply.started": "2023-09-02T17:39:17.886218Z"
    },
    "tags": []
   },
   "outputs": [],
   "source": [
    "X_train, X_test, y_train, y_test = train_test_split(X, y, test_size=0.2, random_state=1)"
   ]
  },
  {
   "cell_type": "code",
   "execution_count": 23,
   "id": "73f34efb-6d3f-4b98-9601-a2b651c0a840",
   "metadata": {
    "execution": {
     "iopub.execute_input": "2023-09-02T17:39:17.889811Z",
     "iopub.status.busy": "2023-09-02T17:39:17.889590Z",
     "iopub.status.idle": "2023-09-02T17:39:17.891488Z",
     "shell.execute_reply": "2023-09-02T17:39:17.891217Z",
     "shell.execute_reply.started": "2023-09-02T17:39:17.889799Z"
    }
   },
   "outputs": [],
   "source": [
    "# Instantiate sgbr\n",
    "sgbr = GradientBoostingRegressor(max_depth=4,\n",
    "                                 subsample=0.9,\n",
    "                                 max_features=0.75,\n",
    "                                 n_estimators=200,\n",
    "                                 random_state=2)"
   ]
  },
  {
   "cell_type": "code",
   "execution_count": 24,
   "id": "b48e8bc6-bacb-4018-a2c0-76a1a1e953bd",
   "metadata": {
    "execution": {
     "iopub.execute_input": "2023-09-02T17:39:17.892045Z",
     "iopub.status.busy": "2023-09-02T17:39:17.891871Z",
     "iopub.status.idle": "2023-09-02T17:39:18.071311Z",
     "shell.execute_reply": "2023-09-02T17:39:18.070891Z",
     "shell.execute_reply.started": "2023-09-02T17:39:17.892034Z"
    }
   },
   "outputs": [],
   "source": [
    "# Fit sgbr to the training set\n",
    "sgbr.fit(X_train, y_train)\n",
    "# Predict test set labels\n",
    "y_pred = sgbr.predict(X_test)"
   ]
  },
  {
   "cell_type": "code",
   "execution_count": 25,
   "id": "da8ed074-e395-49b1-bde2-0f105b858b76",
   "metadata": {
    "execution": {
     "iopub.execute_input": "2023-09-02T17:39:18.071824Z",
     "iopub.status.busy": "2023-09-02T17:39:18.071711Z",
     "iopub.status.idle": "2023-09-02T17:39:18.074538Z",
     "shell.execute_reply": "2023-09-02T17:39:18.074090Z",
     "shell.execute_reply.started": "2023-09-02T17:39:18.071810Z"
    }
   },
   "outputs": [
    {
     "name": "stdout",
     "output_type": "stream",
     "text": [
      "Test set RMSE of sgbr: 45.143\n"
     ]
    }
   ],
   "source": [
    "# Compute test set MSE\n",
    "mse_test = MSE(y_test, y_pred)\n",
    "# Compute test set RMSE\n",
    "rmse_test = mse_test ** (1/2)\n",
    "# Print rmse_test\n",
    "print('Test set RMSE of sgbr: {:.3f}'.format(rmse_test))"
   ]
  }
 ],
 "metadata": {
  "kernelspec": {
   "display_name": "Python 3 (ipykernel)",
   "language": "python",
   "name": "python3"
  },
  "language_info": {
   "codemirror_mode": {
    "name": "ipython",
    "version": 3
   },
   "file_extension": ".py",
   "mimetype": "text/x-python",
   "name": "python",
   "nbconvert_exporter": "python",
   "pygments_lexer": "ipython3",
   "version": "3.10.12"
  },
  "toc-autonumbering": true
 },
 "nbformat": 4,
 "nbformat_minor": 5
}
