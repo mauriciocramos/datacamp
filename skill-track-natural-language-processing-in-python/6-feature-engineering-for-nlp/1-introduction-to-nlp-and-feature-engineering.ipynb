{
 "cells": [
  {
   "cell_type": "markdown",
   "id": "726d8eb4-37f2-4920-8290-c00b678b3c60",
   "metadata": {},
   "source": [
    "# Basic feature extractions\n",
    "* Number of words\n",
    "* Number of characters\n",
    "* Average length of words\n",
    "* Tweets (how many #hashtags)"
   ]
  },
  {
   "cell_type": "code",
   "execution_count": 1,
   "id": "d5ad5160-a674-4473-9622-b9e0192b57f3",
   "metadata": {
    "execution": {
     "iopub.execute_input": "2023-01-05T00:29:44.347959Z",
     "iopub.status.busy": "2023-01-05T00:29:44.347876Z",
     "iopub.status.idle": "2023-01-05T00:29:44.539581Z",
     "shell.execute_reply": "2023-01-05T00:29:44.539255Z",
     "shell.execute_reply.started": "2023-01-05T00:29:44.347949Z"
    },
    "tags": []
   },
   "outputs": [
    {
     "data": {
      "text/html": [
       "<div>\n",
       "<style scoped>\n",
       "    .dataframe tbody tr th:only-of-type {\n",
       "        vertical-align: middle;\n",
       "    }\n",
       "\n",
       "    .dataframe tbody tr th {\n",
       "        vertical-align: top;\n",
       "    }\n",
       "\n",
       "    .dataframe thead th {\n",
       "        text-align: right;\n",
       "    }\n",
       "</style>\n",
       "<table border=\"1\" class=\"dataframe\">\n",
       "  <thead>\n",
       "    <tr style=\"text-align: right;\">\n",
       "      <th></th>\n",
       "      <th>review</th>\n",
       "      <th>sentiment</th>\n",
       "    </tr>\n",
       "  </thead>\n",
       "  <tbody>\n",
       "    <tr>\n",
       "      <th>0</th>\n",
       "      <td>this anime series starts out great interesting...</td>\n",
       "      <td>0</td>\n",
       "    </tr>\n",
       "    <tr>\n",
       "      <th>1</th>\n",
       "      <td>some may go for a film like this but i most as...</td>\n",
       "      <td>0</td>\n",
       "    </tr>\n",
       "    <tr>\n",
       "      <th>2</th>\n",
       "      <td>i ve seen this piece of perfection during the ...</td>\n",
       "      <td>1</td>\n",
       "    </tr>\n",
       "    <tr>\n",
       "      <th>3</th>\n",
       "      <td>this movie is likely the worst movie i ve ever...</td>\n",
       "      <td>0</td>\n",
       "    </tr>\n",
       "    <tr>\n",
       "      <th>4</th>\n",
       "      <td>it ll soon be 10 yrs since this movie was rele...</td>\n",
       "      <td>1</td>\n",
       "    </tr>\n",
       "    <tr>\n",
       "      <th>...</th>\n",
       "      <td>...</td>\n",
       "      <td>...</td>\n",
       "    </tr>\n",
       "    <tr>\n",
       "      <th>995</th>\n",
       "      <td>this movie turned out to be pretty much what i...</td>\n",
       "      <td>1</td>\n",
       "    </tr>\n",
       "    <tr>\n",
       "      <th>996</th>\n",
       "      <td>from time to time it s very advisable for the ...</td>\n",
       "      <td>0</td>\n",
       "    </tr>\n",
       "    <tr>\n",
       "      <th>997</th>\n",
       "      <td>ed wood is eclipsed and becomes orson welles t...</td>\n",
       "      <td>0</td>\n",
       "    </tr>\n",
       "    <tr>\n",
       "      <th>998</th>\n",
       "      <td>well here we have yet another role reversal mo...</td>\n",
       "      <td>0</td>\n",
       "    </tr>\n",
       "    <tr>\n",
       "      <th>999</th>\n",
       "      <td>there is a lot of obvious hype associated with...</td>\n",
       "      <td>0</td>\n",
       "    </tr>\n",
       "  </tbody>\n",
       "</table>\n",
       "<p>1000 rows × 2 columns</p>\n",
       "</div>"
      ],
      "text/plain": [
       "                                                review  sentiment\n",
       "0    this anime series starts out great interesting...          0\n",
       "1    some may go for a film like this but i most as...          0\n",
       "2    i ve seen this piece of perfection during the ...          1\n",
       "3    this movie is likely the worst movie i ve ever...          0\n",
       "4    it ll soon be 10 yrs since this movie was rele...          1\n",
       "..                                                 ...        ...\n",
       "995  this movie turned out to be pretty much what i...          1\n",
       "996  from time to time it s very advisable for the ...          0\n",
       "997  ed wood is eclipsed and becomes orson welles t...          0\n",
       "998  well here we have yet another role reversal mo...          0\n",
       "999  there is a lot of obvious hype associated with...          0\n",
       "\n",
       "[1000 rows x 2 columns]"
      ]
     },
     "execution_count": 1,
     "metadata": {},
     "output_type": "execute_result"
    }
   ],
   "source": [
    "import pandas as pd\n",
    "df = pd.read_csv('movie_reviews_clean.csv')\n",
    "df"
   ]
  },
  {
   "cell_type": "markdown",
   "id": "2147711e-788f-462c-9629-2b6de7f52482",
   "metadata": {},
   "source": [
    "## Number of characters"
   ]
  },
  {
   "cell_type": "code",
   "execution_count": 2,
   "id": "47ca7924-0df3-4c5b-9ce3-0ffce324bfc1",
   "metadata": {
    "execution": {
     "iopub.execute_input": "2023-01-05T00:29:44.540391Z",
     "iopub.status.busy": "2023-01-05T00:29:44.540287Z",
     "iopub.status.idle": "2023-01-05T00:29:44.542645Z",
     "shell.execute_reply": "2023-01-05T00:29:44.542200Z",
     "shell.execute_reply.started": "2023-01-05T00:29:44.540381Z"
    }
   },
   "outputs": [
    {
     "name": "stdout",
     "output_type": "stream",
     "text": [
      "13\n"
     ]
    }
   ],
   "source": [
    "text = \"I don't know.\"\n",
    "num_char = len(text)\n",
    "# Print the number of characters\n",
    "print(num_char)"
   ]
  },
  {
   "cell_type": "code",
   "execution_count": 3,
   "id": "510f64ec-4ca0-4d97-8248-603f82389978",
   "metadata": {
    "execution": {
     "iopub.execute_input": "2023-01-05T00:29:44.543168Z",
     "iopub.status.busy": "2023-01-05T00:29:44.543065Z",
     "iopub.status.idle": "2023-01-05T00:29:44.548559Z",
     "shell.execute_reply": "2023-01-05T00:29:44.548177Z",
     "shell.execute_reply.started": "2023-01-05T00:29:44.543158Z"
    }
   },
   "outputs": [
    {
     "data": {
      "text/html": [
       "<div>\n",
       "<style scoped>\n",
       "    .dataframe tbody tr th:only-of-type {\n",
       "        vertical-align: middle;\n",
       "    }\n",
       "\n",
       "    .dataframe tbody tr th {\n",
       "        vertical-align: top;\n",
       "    }\n",
       "\n",
       "    .dataframe thead th {\n",
       "        text-align: right;\n",
       "    }\n",
       "</style>\n",
       "<table border=\"1\" class=\"dataframe\">\n",
       "  <thead>\n",
       "    <tr style=\"text-align: right;\">\n",
       "      <th></th>\n",
       "      <th>review</th>\n",
       "      <th>sentiment</th>\n",
       "      <th>num_chars</th>\n",
       "    </tr>\n",
       "  </thead>\n",
       "  <tbody>\n",
       "    <tr>\n",
       "      <th>0</th>\n",
       "      <td>this anime series starts out great interesting...</td>\n",
       "      <td>0</td>\n",
       "      <td>774</td>\n",
       "    </tr>\n",
       "    <tr>\n",
       "      <th>1</th>\n",
       "      <td>some may go for a film like this but i most as...</td>\n",
       "      <td>0</td>\n",
       "      <td>749</td>\n",
       "    </tr>\n",
       "    <tr>\n",
       "      <th>2</th>\n",
       "      <td>i ve seen this piece of perfection during the ...</td>\n",
       "      <td>1</td>\n",
       "      <td>879</td>\n",
       "    </tr>\n",
       "    <tr>\n",
       "      <th>3</th>\n",
       "      <td>this movie is likely the worst movie i ve ever...</td>\n",
       "      <td>0</td>\n",
       "      <td>583</td>\n",
       "    </tr>\n",
       "    <tr>\n",
       "      <th>4</th>\n",
       "      <td>it ll soon be 10 yrs since this movie was rele...</td>\n",
       "      <td>1</td>\n",
       "      <td>417</td>\n",
       "    </tr>\n",
       "    <tr>\n",
       "      <th>...</th>\n",
       "      <td>...</td>\n",
       "      <td>...</td>\n",
       "      <td>...</td>\n",
       "    </tr>\n",
       "    <tr>\n",
       "      <th>995</th>\n",
       "      <td>this movie turned out to be pretty much what i...</td>\n",
       "      <td>1</td>\n",
       "      <td>1165</td>\n",
       "    </tr>\n",
       "    <tr>\n",
       "      <th>996</th>\n",
       "      <td>from time to time it s very advisable for the ...</td>\n",
       "      <td>0</td>\n",
       "      <td>3388</td>\n",
       "    </tr>\n",
       "    <tr>\n",
       "      <th>997</th>\n",
       "      <td>ed wood is eclipsed and becomes orson welles t...</td>\n",
       "      <td>0</td>\n",
       "      <td>677</td>\n",
       "    </tr>\n",
       "    <tr>\n",
       "      <th>998</th>\n",
       "      <td>well here we have yet another role reversal mo...</td>\n",
       "      <td>0</td>\n",
       "      <td>950</td>\n",
       "    </tr>\n",
       "    <tr>\n",
       "      <th>999</th>\n",
       "      <td>there is a lot of obvious hype associated with...</td>\n",
       "      <td>0</td>\n",
       "      <td>1350</td>\n",
       "    </tr>\n",
       "  </tbody>\n",
       "</table>\n",
       "<p>1000 rows × 3 columns</p>\n",
       "</div>"
      ],
      "text/plain": [
       "                                                review  sentiment  num_chars\n",
       "0    this anime series starts out great interesting...          0        774\n",
       "1    some may go for a film like this but i most as...          0        749\n",
       "2    i ve seen this piece of perfection during the ...          1        879\n",
       "3    this movie is likely the worst movie i ve ever...          0        583\n",
       "4    it ll soon be 10 yrs since this movie was rele...          1        417\n",
       "..                                                 ...        ...        ...\n",
       "995  this movie turned out to be pretty much what i...          1       1165\n",
       "996  from time to time it s very advisable for the ...          0       3388\n",
       "997  ed wood is eclipsed and becomes orson welles t...          0        677\n",
       "998  well here we have yet another role reversal mo...          0        950\n",
       "999  there is a lot of obvious hype associated with...          0       1350\n",
       "\n",
       "[1000 rows x 3 columns]"
      ]
     },
     "execution_count": 3,
     "metadata": {},
     "output_type": "execute_result"
    }
   ],
   "source": [
    "# Create a 'num_chars' feature\n",
    "df['num_chars'] = df['review'].apply(len)\n",
    "df"
   ]
  },
  {
   "cell_type": "markdown",
   "id": "661dd4b2-ce2c-4a80-8de6-26a9d3690046",
   "metadata": {},
   "source": [
    "## Number of words"
   ]
  },
  {
   "cell_type": "code",
   "execution_count": 4,
   "id": "93d81982-1c68-40ad-9bf8-aef986dc3639",
   "metadata": {
    "execution": {
     "iopub.execute_input": "2023-01-05T00:29:44.549046Z",
     "iopub.status.busy": "2023-01-05T00:29:44.548942Z",
     "iopub.status.idle": "2023-01-05T00:29:44.551051Z",
     "shell.execute_reply": "2023-01-05T00:29:44.550794Z",
     "shell.execute_reply.started": "2023-01-05T00:29:44.549035Z"
    },
    "tags": []
   },
   "outputs": [
    {
     "name": "stdout",
     "output_type": "stream",
     "text": [
      "['Mary', 'had', 'a', 'little', 'lamb.']\n",
      "5\n"
     ]
    }
   ],
   "source": [
    "# Split the string into words\n",
    "text = \"Mary had a little lamb.\"\n",
    "words = text.split()\n",
    "# Print the list containing words\n",
    "print(words)\n",
    "['Mary', 'had', 'a', 'little', 'lamb.']\n",
    "# Print number of words\n",
    "print(len(words))"
   ]
  },
  {
   "cell_type": "code",
   "execution_count": 5,
   "id": "a56d2ca4-8ef3-42e5-bc5c-a3d76daef290",
   "metadata": {
    "execution": {
     "iopub.execute_input": "2023-01-05T00:29:44.551576Z",
     "iopub.status.busy": "2023-01-05T00:29:44.551410Z",
     "iopub.status.idle": "2023-01-05T00:29:44.563218Z",
     "shell.execute_reply": "2023-01-05T00:29:44.562840Z",
     "shell.execute_reply.started": "2023-01-05T00:29:44.551566Z"
    }
   },
   "outputs": [
    {
     "data": {
      "text/html": [
       "<div>\n",
       "<style scoped>\n",
       "    .dataframe tbody tr th:only-of-type {\n",
       "        vertical-align: middle;\n",
       "    }\n",
       "\n",
       "    .dataframe tbody tr th {\n",
       "        vertical-align: top;\n",
       "    }\n",
       "\n",
       "    .dataframe thead th {\n",
       "        text-align: right;\n",
       "    }\n",
       "</style>\n",
       "<table border=\"1\" class=\"dataframe\">\n",
       "  <thead>\n",
       "    <tr style=\"text-align: right;\">\n",
       "      <th></th>\n",
       "      <th>review</th>\n",
       "      <th>sentiment</th>\n",
       "      <th>num_chars</th>\n",
       "      <th>num_words</th>\n",
       "    </tr>\n",
       "  </thead>\n",
       "  <tbody>\n",
       "    <tr>\n",
       "      <th>0</th>\n",
       "      <td>this anime series starts out great interesting...</td>\n",
       "      <td>0</td>\n",
       "      <td>774</td>\n",
       "      <td>130</td>\n",
       "    </tr>\n",
       "    <tr>\n",
       "      <th>1</th>\n",
       "      <td>some may go for a film like this but i most as...</td>\n",
       "      <td>0</td>\n",
       "      <td>749</td>\n",
       "      <td>138</td>\n",
       "    </tr>\n",
       "    <tr>\n",
       "      <th>2</th>\n",
       "      <td>i ve seen this piece of perfection during the ...</td>\n",
       "      <td>1</td>\n",
       "      <td>879</td>\n",
       "      <td>184</td>\n",
       "    </tr>\n",
       "    <tr>\n",
       "      <th>3</th>\n",
       "      <td>this movie is likely the worst movie i ve ever...</td>\n",
       "      <td>0</td>\n",
       "      <td>583</td>\n",
       "      <td>111</td>\n",
       "    </tr>\n",
       "    <tr>\n",
       "      <th>4</th>\n",
       "      <td>it ll soon be 10 yrs since this movie was rele...</td>\n",
       "      <td>1</td>\n",
       "      <td>417</td>\n",
       "      <td>90</td>\n",
       "    </tr>\n",
       "    <tr>\n",
       "      <th>...</th>\n",
       "      <td>...</td>\n",
       "      <td>...</td>\n",
       "      <td>...</td>\n",
       "      <td>...</td>\n",
       "    </tr>\n",
       "    <tr>\n",
       "      <th>995</th>\n",
       "      <td>this movie turned out to be pretty much what i...</td>\n",
       "      <td>1</td>\n",
       "      <td>1165</td>\n",
       "      <td>238</td>\n",
       "    </tr>\n",
       "    <tr>\n",
       "      <th>996</th>\n",
       "      <td>from time to time it s very advisable for the ...</td>\n",
       "      <td>0</td>\n",
       "      <td>3388</td>\n",
       "      <td>618</td>\n",
       "    </tr>\n",
       "    <tr>\n",
       "      <th>997</th>\n",
       "      <td>ed wood is eclipsed and becomes orson welles t...</td>\n",
       "      <td>0</td>\n",
       "      <td>677</td>\n",
       "      <td>119</td>\n",
       "    </tr>\n",
       "    <tr>\n",
       "      <th>998</th>\n",
       "      <td>well here we have yet another role reversal mo...</td>\n",
       "      <td>0</td>\n",
       "      <td>950</td>\n",
       "      <td>181</td>\n",
       "    </tr>\n",
       "    <tr>\n",
       "      <th>999</th>\n",
       "      <td>there is a lot of obvious hype associated with...</td>\n",
       "      <td>0</td>\n",
       "      <td>1350</td>\n",
       "      <td>267</td>\n",
       "    </tr>\n",
       "  </tbody>\n",
       "</table>\n",
       "<p>1000 rows × 4 columns</p>\n",
       "</div>"
      ],
      "text/plain": [
       "                                                review  sentiment  num_chars  \\\n",
       "0    this anime series starts out great interesting...          0        774   \n",
       "1    some may go for a film like this but i most as...          0        749   \n",
       "2    i ve seen this piece of perfection during the ...          1        879   \n",
       "3    this movie is likely the worst movie i ve ever...          0        583   \n",
       "4    it ll soon be 10 yrs since this movie was rele...          1        417   \n",
       "..                                                 ...        ...        ...   \n",
       "995  this movie turned out to be pretty much what i...          1       1165   \n",
       "996  from time to time it s very advisable for the ...          0       3388   \n",
       "997  ed wood is eclipsed and becomes orson welles t...          0        677   \n",
       "998  well here we have yet another role reversal mo...          0        950   \n",
       "999  there is a lot of obvious hype associated with...          0       1350   \n",
       "\n",
       "     num_words  \n",
       "0          130  \n",
       "1          138  \n",
       "2          184  \n",
       "3          111  \n",
       "4           90  \n",
       "..         ...  \n",
       "995        238  \n",
       "996        618  \n",
       "997        119  \n",
       "998        181  \n",
       "999        267  \n",
       "\n",
       "[1000 rows x 4 columns]"
      ]
     },
     "execution_count": 5,
     "metadata": {},
     "output_type": "execute_result"
    }
   ],
   "source": [
    "# Function that returns number of words in string\n",
    "def word_count(string):\n",
    "    words = string.split()\n",
    "    return len(words)\n",
    "# Create num_words feature in df\n",
    "df['num_words'] = df['review'].apply(word_count)\n",
    "df"
   ]
  },
  {
   "cell_type": "markdown",
   "id": "e9ba662c-0e44-4710-af79-0be128169ff7",
   "metadata": {},
   "source": [
    "## Average word length"
   ]
  },
  {
   "cell_type": "code",
   "execution_count": 6,
   "id": "103fe826-ef5c-4172-bc43-1d213a336322",
   "metadata": {
    "execution": {
     "iopub.execute_input": "2023-01-05T00:29:44.563726Z",
     "iopub.status.busy": "2023-01-05T00:29:44.563609Z",
     "iopub.status.idle": "2023-01-05T00:29:44.584050Z",
     "shell.execute_reply": "2023-01-05T00:29:44.583698Z",
     "shell.execute_reply.started": "2023-01-05T00:29:44.563715Z"
    },
    "tags": []
   },
   "outputs": [
    {
     "data": {
      "text/html": [
       "<div>\n",
       "<style scoped>\n",
       "    .dataframe tbody tr th:only-of-type {\n",
       "        vertical-align: middle;\n",
       "    }\n",
       "\n",
       "    .dataframe tbody tr th {\n",
       "        vertical-align: top;\n",
       "    }\n",
       "\n",
       "    .dataframe thead th {\n",
       "        text-align: right;\n",
       "    }\n",
       "</style>\n",
       "<table border=\"1\" class=\"dataframe\">\n",
       "  <thead>\n",
       "    <tr style=\"text-align: right;\">\n",
       "      <th></th>\n",
       "      <th>review</th>\n",
       "      <th>sentiment</th>\n",
       "      <th>num_chars</th>\n",
       "      <th>num_words</th>\n",
       "      <th>avg_word_length</th>\n",
       "    </tr>\n",
       "  </thead>\n",
       "  <tbody>\n",
       "    <tr>\n",
       "      <th>0</th>\n",
       "      <td>this anime series starts out great interesting...</td>\n",
       "      <td>0</td>\n",
       "      <td>774</td>\n",
       "      <td>130</td>\n",
       "      <td>4.953846</td>\n",
       "    </tr>\n",
       "    <tr>\n",
       "      <th>1</th>\n",
       "      <td>some may go for a film like this but i most as...</td>\n",
       "      <td>0</td>\n",
       "      <td>749</td>\n",
       "      <td>138</td>\n",
       "      <td>4.427536</td>\n",
       "    </tr>\n",
       "    <tr>\n",
       "      <th>2</th>\n",
       "      <td>i ve seen this piece of perfection during the ...</td>\n",
       "      <td>1</td>\n",
       "      <td>879</td>\n",
       "      <td>184</td>\n",
       "      <td>3.782609</td>\n",
       "    </tr>\n",
       "    <tr>\n",
       "      <th>3</th>\n",
       "      <td>this movie is likely the worst movie i ve ever...</td>\n",
       "      <td>0</td>\n",
       "      <td>583</td>\n",
       "      <td>111</td>\n",
       "      <td>4.252252</td>\n",
       "    </tr>\n",
       "    <tr>\n",
       "      <th>4</th>\n",
       "      <td>it ll soon be 10 yrs since this movie was rele...</td>\n",
       "      <td>1</td>\n",
       "      <td>417</td>\n",
       "      <td>90</td>\n",
       "      <td>3.644444</td>\n",
       "    </tr>\n",
       "    <tr>\n",
       "      <th>...</th>\n",
       "      <td>...</td>\n",
       "      <td>...</td>\n",
       "      <td>...</td>\n",
       "      <td>...</td>\n",
       "      <td>...</td>\n",
       "    </tr>\n",
       "    <tr>\n",
       "      <th>995</th>\n",
       "      <td>this movie turned out to be pretty much what i...</td>\n",
       "      <td>1</td>\n",
       "      <td>1165</td>\n",
       "      <td>238</td>\n",
       "      <td>3.894958</td>\n",
       "    </tr>\n",
       "    <tr>\n",
       "      <th>996</th>\n",
       "      <td>from time to time it s very advisable for the ...</td>\n",
       "      <td>0</td>\n",
       "      <td>3388</td>\n",
       "      <td>618</td>\n",
       "      <td>4.482201</td>\n",
       "    </tr>\n",
       "    <tr>\n",
       "      <th>997</th>\n",
       "      <td>ed wood is eclipsed and becomes orson welles t...</td>\n",
       "      <td>0</td>\n",
       "      <td>677</td>\n",
       "      <td>119</td>\n",
       "      <td>4.697479</td>\n",
       "    </tr>\n",
       "    <tr>\n",
       "      <th>998</th>\n",
       "      <td>well here we have yet another role reversal mo...</td>\n",
       "      <td>0</td>\n",
       "      <td>950</td>\n",
       "      <td>181</td>\n",
       "      <td>4.248619</td>\n",
       "    </tr>\n",
       "    <tr>\n",
       "      <th>999</th>\n",
       "      <td>there is a lot of obvious hype associated with...</td>\n",
       "      <td>0</td>\n",
       "      <td>1350</td>\n",
       "      <td>267</td>\n",
       "      <td>4.056180</td>\n",
       "    </tr>\n",
       "  </tbody>\n",
       "</table>\n",
       "<p>1000 rows × 5 columns</p>\n",
       "</div>"
      ],
      "text/plain": [
       "                                                review  sentiment  num_chars  \\\n",
       "0    this anime series starts out great interesting...          0        774   \n",
       "1    some may go for a film like this but i most as...          0        749   \n",
       "2    i ve seen this piece of perfection during the ...          1        879   \n",
       "3    this movie is likely the worst movie i ve ever...          0        583   \n",
       "4    it ll soon be 10 yrs since this movie was rele...          1        417   \n",
       "..                                                 ...        ...        ...   \n",
       "995  this movie turned out to be pretty much what i...          1       1165   \n",
       "996  from time to time it s very advisable for the ...          0       3388   \n",
       "997  ed wood is eclipsed and becomes orson welles t...          0        677   \n",
       "998  well here we have yet another role reversal mo...          0        950   \n",
       "999  there is a lot of obvious hype associated with...          0       1350   \n",
       "\n",
       "     num_words  avg_word_length  \n",
       "0          130         4.953846  \n",
       "1          138         4.427536  \n",
       "2          184         3.782609  \n",
       "3          111         4.252252  \n",
       "4           90         3.644444  \n",
       "..         ...              ...  \n",
       "995        238         3.894958  \n",
       "996        618         4.482201  \n",
       "997        119         4.697479  \n",
       "998        181         4.248619  \n",
       "999        267         4.056180  \n",
       "\n",
       "[1000 rows x 5 columns]"
      ]
     },
     "execution_count": 6,
     "metadata": {},
     "output_type": "execute_result"
    }
   ],
   "source": [
    "#Function that returns average word length\n",
    "def avg_word_length(x):\n",
    "    # Split the string into words\n",
    "    words = x.split()\n",
    "    # Compute length of each word and store in a separate list\n",
    "    word_lengths = [len(word) for word in words]\n",
    "    # Compute average word length\n",
    "    avg_word_length = sum(word_lengths)/len(words)\n",
    "    # Return average word length\n",
    "    return(avg_word_length)\n",
    "\n",
    "# Create a new feature avg_word_length\n",
    "df['avg_word_length'] = df['review'].apply(avg_word_length)\n",
    "df"
   ]
  },
  {
   "cell_type": "markdown",
   "id": "cd6771d2-2da8-4c0e-9de2-bff892f8a3c6",
   "metadata": {},
   "source": [
    "## Hashtags and mentions"
   ]
  },
  {
   "cell_type": "code",
   "execution_count": 7,
   "id": "507c80f5-12aa-49af-8243-5aca7c8a8dff",
   "metadata": {
    "execution": {
     "iopub.execute_input": "2023-01-05T00:29:44.584966Z",
     "iopub.status.busy": "2023-01-05T00:29:44.584794Z",
     "iopub.status.idle": "2023-01-05T00:29:44.587721Z",
     "shell.execute_reply": "2023-01-05T00:29:44.587375Z",
     "shell.execute_reply.started": "2023-01-05T00:29:44.584954Z"
    },
    "tags": []
   },
   "outputs": [
    {
     "data": {
      "text/plain": [
       "2"
      ]
     },
     "execution_count": 7,
     "metadata": {},
     "output_type": "execute_result"
    }
   ],
   "source": [
    "# Function that returns number of hashtags\n",
    "def hashtag_count(string):\n",
    "    # Split the string into words\n",
    "    words = string.split()\n",
    "    # Create a list of hashtags\n",
    "    hashtags = [word for word in words if word.startswith('#')]\n",
    "    # Return number of hashtags\n",
    "    return len(hashtags)\n",
    "\n",
    "hashtag_count(\"@janedoe This is my first tweet! #FirstTweet #Happy\")"
   ]
  },
  {
   "cell_type": "markdown",
   "id": "a9a66edd-21ba-446a-9b5c-39647347b29a",
   "metadata": {},
   "source": [
    "## Character count of Russian tweets"
   ]
  },
  {
   "cell_type": "code",
   "execution_count": 9,
   "id": "30e382df-23d0-4219-9a64-7df0078de46f",
   "metadata": {
    "execution": {
     "iopub.execute_input": "2023-01-05T00:31:53.257043Z",
     "iopub.status.busy": "2023-01-05T00:31:53.256911Z",
     "iopub.status.idle": "2023-01-05T00:31:53.263403Z",
     "shell.execute_reply": "2023-01-05T00:31:53.263149Z",
     "shell.execute_reply.started": "2023-01-05T00:31:53.257032Z"
    },
    "tags": []
   },
   "outputs": [
    {
     "data": {
      "text/html": [
       "<div>\n",
       "<style scoped>\n",
       "    .dataframe tbody tr th:only-of-type {\n",
       "        vertical-align: middle;\n",
       "    }\n",
       "\n",
       "    .dataframe tbody tr th {\n",
       "        vertical-align: top;\n",
       "    }\n",
       "\n",
       "    .dataframe thead th {\n",
       "        text-align: right;\n",
       "    }\n",
       "</style>\n",
       "<table border=\"1\" class=\"dataframe\">\n",
       "  <thead>\n",
       "    <tr style=\"text-align: right;\">\n",
       "      <th></th>\n",
       "      <th>Unnamed: 0</th>\n",
       "      <th>content</th>\n",
       "    </tr>\n",
       "  </thead>\n",
       "  <tbody>\n",
       "    <tr>\n",
       "      <th>0</th>\n",
       "      <td>127447</td>\n",
       "      <td>LIVE STREAM VIDEO=&gt; Donald Trump Rallies in Co...</td>\n",
       "    </tr>\n",
       "    <tr>\n",
       "      <th>1</th>\n",
       "      <td>123642</td>\n",
       "      <td>Muslim Attacks NYPD Cops with Meat Cleaver. Me...</td>\n",
       "    </tr>\n",
       "    <tr>\n",
       "      <th>2</th>\n",
       "      <td>226970</td>\n",
       "      <td>.@vfpatlas well that's a swella word there (di...</td>\n",
       "    </tr>\n",
       "    <tr>\n",
       "      <th>3</th>\n",
       "      <td>138339</td>\n",
       "      <td>RT wehking_pamela: Bobby_Axelrod2k MMFlint don...</td>\n",
       "    </tr>\n",
       "    <tr>\n",
       "      <th>4</th>\n",
       "      <td>161610</td>\n",
       "      <td>Жители обстреливаемых районов Донецка проводят...</td>\n",
       "    </tr>\n",
       "    <tr>\n",
       "      <th>...</th>\n",
       "      <td>...</td>\n",
       "      <td>...</td>\n",
       "    </tr>\n",
       "    <tr>\n",
       "      <th>995</th>\n",
       "      <td>24329</td>\n",
       "      <td>How To Inspire People With Your Music! https:/...</td>\n",
       "    </tr>\n",
       "    <tr>\n",
       "      <th>996</th>\n",
       "      <td>315060</td>\n",
       "      <td>... https://t.co/AfWdTkKQlm</td>\n",
       "    </tr>\n",
       "    <tr>\n",
       "      <th>997</th>\n",
       "      <td>361901</td>\n",
       "      <td>Trevor Noah: Until we start treating racism li...</td>\n",
       "    </tr>\n",
       "    <tr>\n",
       "      <th>998</th>\n",
       "      <td>119948</td>\n",
       "      <td>SenSanders: RT SenJeffMerkley: We must act bol...</td>\n",
       "    </tr>\n",
       "    <tr>\n",
       "      <th>999</th>\n",
       "      <td>242678</td>\n",
       "      <td>Police: Man arrested for February shooting at ...</td>\n",
       "    </tr>\n",
       "  </tbody>\n",
       "</table>\n",
       "<p>1000 rows × 2 columns</p>\n",
       "</div>"
      ],
      "text/plain": [
       "     Unnamed: 0                                            content\n",
       "0        127447  LIVE STREAM VIDEO=> Donald Trump Rallies in Co...\n",
       "1        123642  Muslim Attacks NYPD Cops with Meat Cleaver. Me...\n",
       "2        226970  .@vfpatlas well that's a swella word there (di...\n",
       "3        138339  RT wehking_pamela: Bobby_Axelrod2k MMFlint don...\n",
       "4        161610  Жители обстреливаемых районов Донецка проводят...\n",
       "..          ...                                                ...\n",
       "995       24329  How To Inspire People With Your Music! https:/...\n",
       "996      315060                        ... https://t.co/AfWdTkKQlm\n",
       "997      361901  Trevor Noah: Until we start treating racism li...\n",
       "998      119948  SenSanders: RT SenJeffMerkley: We must act bol...\n",
       "999      242678  Police: Man arrested for February shooting at ...\n",
       "\n",
       "[1000 rows x 2 columns]"
      ]
     },
     "execution_count": 9,
     "metadata": {},
     "output_type": "execute_result"
    }
   ],
   "source": [
    "tweets = pd.read_csv('russian_tweets.csv')\n",
    "tweets"
   ]
  },
  {
   "cell_type": "code",
   "execution_count": 10,
   "id": "2429055c-bde9-4a7e-b34a-09d80015f6c1",
   "metadata": {
    "execution": {
     "iopub.execute_input": "2023-01-05T00:32:02.897359Z",
     "iopub.status.busy": "2023-01-05T00:32:02.897226Z",
     "iopub.status.idle": "2023-01-05T00:32:02.900180Z",
     "shell.execute_reply": "2023-01-05T00:32:02.899910Z",
     "shell.execute_reply.started": "2023-01-05T00:32:02.897348Z"
    }
   },
   "outputs": [
    {
     "name": "stdout",
     "output_type": "stream",
     "text": [
      "103.462\n"
     ]
    }
   ],
   "source": [
    "# Create a feature char_count\n",
    "tweets['char_count'] = tweets['content'].apply(len)\n",
    "\n",
    "# Print the average character count\n",
    "print(tweets['char_count'].mean())"
   ]
  },
  {
   "cell_type": "markdown",
   "id": "e4d19a37-3ac9-4b78-8294-7a4601edd2ce",
   "metadata": {},
   "source": [
    "> Notice that the average character count of these tweets is approximately 104, which is much higher than the overall average tweet length of around 40 characters. Depending on what you're working on, this may be something worth investigating into. For your information, there is research that indicates that fake news articles tend to have longer titles! Therefore, even extremely basic features such as character counts can prove to be very useful in certain applications."
   ]
  },
  {
   "cell_type": "code",
   "execution_count": 11,
   "id": "7ac35043-6c9b-4865-b88f-905ac117dbe8",
   "metadata": {
    "execution": {
     "iopub.execute_input": "2023-01-05T00:35:13.045066Z",
     "iopub.status.busy": "2023-01-05T00:35:13.044930Z",
     "iopub.status.idle": "2023-01-05T00:35:13.078890Z",
     "shell.execute_reply": "2023-01-05T00:35:13.078582Z",
     "shell.execute_reply.started": "2023-01-05T00:35:13.045054Z"
    }
   },
   "outputs": [
    {
     "data": {
      "text/html": [
       "<div>\n",
       "<style scoped>\n",
       "    .dataframe tbody tr th:only-of-type {\n",
       "        vertical-align: middle;\n",
       "    }\n",
       "\n",
       "    .dataframe tbody tr th {\n",
       "        vertical-align: top;\n",
       "    }\n",
       "\n",
       "    .dataframe thead th {\n",
       "        text-align: right;\n",
       "    }\n",
       "</style>\n",
       "<table border=\"1\" class=\"dataframe\">\n",
       "  <thead>\n",
       "    <tr style=\"text-align: right;\">\n",
       "      <th></th>\n",
       "      <th>transcript</th>\n",
       "      <th>url</th>\n",
       "    </tr>\n",
       "  </thead>\n",
       "  <tbody>\n",
       "    <tr>\n",
       "      <th>0</th>\n",
       "      <td>We're going to talk — my — a new lecture, just...</td>\n",
       "      <td>https://www.ted.com/talks/al_seckel_says_our_b...</td>\n",
       "    </tr>\n",
       "    <tr>\n",
       "      <th>1</th>\n",
       "      <td>This is a representation of your brain, and yo...</td>\n",
       "      <td>https://www.ted.com/talks/aaron_o_connell_maki...</td>\n",
       "    </tr>\n",
       "    <tr>\n",
       "      <th>2</th>\n",
       "      <td>It's a great honor today to share with you The...</td>\n",
       "      <td>https://www.ted.com/talks/carter_emmart_demos_...</td>\n",
       "    </tr>\n",
       "    <tr>\n",
       "      <th>3</th>\n",
       "      <td>My passions are music, technology and making t...</td>\n",
       "      <td>https://www.ted.com/talks/jared_ficklin_new_wa...</td>\n",
       "    </tr>\n",
       "    <tr>\n",
       "      <th>4</th>\n",
       "      <td>It used to be that if you wanted to get a comp...</td>\n",
       "      <td>https://www.ted.com/talks/jeremy_howard_the_wo...</td>\n",
       "    </tr>\n",
       "    <tr>\n",
       "      <th>...</th>\n",
       "      <td>...</td>\n",
       "      <td>...</td>\n",
       "    </tr>\n",
       "    <tr>\n",
       "      <th>495</th>\n",
       "      <td>Today I'm going to unpack for you three exampl...</td>\n",
       "      <td>https://www.ted.com/talks/john_hodgman_design_...</td>\n",
       "    </tr>\n",
       "    <tr>\n",
       "      <th>496</th>\n",
       "      <td>Both myself and my brother belong to the under...</td>\n",
       "      <td>https://www.ted.com/talks/sheikha_al_mayassa_g...</td>\n",
       "    </tr>\n",
       "    <tr>\n",
       "      <th>497</th>\n",
       "      <td>John Hockenberry: It's great to be here with y...</td>\n",
       "      <td>https://www.ted.com/talks/tom_shannon_the_pain...</td>\n",
       "    </tr>\n",
       "    <tr>\n",
       "      <th>498</th>\n",
       "      <td>What you're doing, right now, at this very mom...</td>\n",
       "      <td>https://www.ted.com/talks/nilofer_merchant_got...</td>\n",
       "    </tr>\n",
       "    <tr>\n",
       "      <th>499</th>\n",
       "      <td>We've got a real problem with math education r...</td>\n",
       "      <td>https://www.ted.com/talks/conrad_wolfram_teach...</td>\n",
       "    </tr>\n",
       "  </tbody>\n",
       "</table>\n",
       "<p>500 rows × 2 columns</p>\n",
       "</div>"
      ],
      "text/plain": [
       "                                            transcript  \\\n",
       "0    We're going to talk — my — a new lecture, just...   \n",
       "1    This is a representation of your brain, and yo...   \n",
       "2    It's a great honor today to share with you The...   \n",
       "3    My passions are music, technology and making t...   \n",
       "4    It used to be that if you wanted to get a comp...   \n",
       "..                                                 ...   \n",
       "495  Today I'm going to unpack for you three exampl...   \n",
       "496  Both myself and my brother belong to the under...   \n",
       "497  John Hockenberry: It's great to be here with y...   \n",
       "498  What you're doing, right now, at this very mom...   \n",
       "499  We've got a real problem with math education r...   \n",
       "\n",
       "                                                   url  \n",
       "0    https://www.ted.com/talks/al_seckel_says_our_b...  \n",
       "1    https://www.ted.com/talks/aaron_o_connell_maki...  \n",
       "2    https://www.ted.com/talks/carter_emmart_demos_...  \n",
       "3    https://www.ted.com/talks/jared_ficklin_new_wa...  \n",
       "4    https://www.ted.com/talks/jeremy_howard_the_wo...  \n",
       "..                                                 ...  \n",
       "495  https://www.ted.com/talks/john_hodgman_design_...  \n",
       "496  https://www.ted.com/talks/sheikha_al_mayassa_g...  \n",
       "497  https://www.ted.com/talks/tom_shannon_the_pain...  \n",
       "498  https://www.ted.com/talks/nilofer_merchant_got...  \n",
       "499  https://www.ted.com/talks/conrad_wolfram_teach...  \n",
       "\n",
       "[500 rows x 2 columns]"
      ]
     },
     "execution_count": 11,
     "metadata": {},
     "output_type": "execute_result"
    }
   ],
   "source": [
    "ted = pd.read_csv('ted.csv')\n",
    "ted"
   ]
  },
  {
   "cell_type": "code",
   "execution_count": 14,
   "id": "80908682-d577-4029-baab-98cf834f4468",
   "metadata": {
    "execution": {
     "iopub.execute_input": "2023-01-05T00:36:45.970522Z",
     "iopub.status.busy": "2023-01-05T00:36:45.970298Z",
     "iopub.status.idle": "2023-01-05T00:36:46.000379Z",
     "shell.execute_reply": "2023-01-05T00:36:46.000028Z",
     "shell.execute_reply.started": "2023-01-05T00:36:45.970508Z"
    },
    "tags": []
   },
   "outputs": [
    {
     "name": "stdout",
     "output_type": "stream",
     "text": [
      "1987.1\n"
     ]
    }
   ],
   "source": [
    "# Function that returns number of words in a string\n",
    "def count_words(string):\n",
    "\t# Split the string into words\n",
    "    words = string.split()\n",
    "    \n",
    "    # Return the number of words\n",
    "    return len(words)\n",
    "\n",
    "# Create a new feature word_count\n",
    "ted['word_count'] = ted['transcript'].apply(count_words)\n",
    "\n",
    "# Print the average word count of the talks\n",
    "print(ted['word_count'].mean())"
   ]
  },
  {
   "cell_type": "markdown",
   "id": "37ad6490-e930-449b-bf0a-d6611f69f1af",
   "metadata": {
    "execution": {
     "iopub.execute_input": "2023-01-05T00:37:13.688164Z",
     "iopub.status.busy": "2023-01-05T00:37:13.688029Z",
     "iopub.status.idle": "2023-01-05T00:37:13.690786Z",
     "shell.execute_reply": "2023-01-05T00:37:13.690437Z",
     "shell.execute_reply.started": "2023-01-05T00:37:13.688153Z"
    }
   },
   "source": [
    "> You now know how to compute the number of words in a given piece of text. Also, notice that the average length of a talk is close to 2000 words. You can use the word_count feature to compute its correlation with other variables such as number of views, number of comments, etc. and derive extremely interesting insights about TED."
   ]
  },
  {
   "cell_type": "markdown",
   "id": "599a0c6a-b85f-412d-bf80-696c8d27b17e",
   "metadata": {},
   "source": [
    "## Hashtags and mentions in Russian tweets"
   ]
  },
  {
   "cell_type": "code",
   "execution_count": 17,
   "id": "a30ebabe-9121-4266-90c8-dfbbea150dba",
   "metadata": {
    "execution": {
     "iopub.execute_input": "2023-01-05T00:39:50.330927Z",
     "iopub.status.busy": "2023-01-05T00:39:50.330710Z",
     "iopub.status.idle": "2023-01-05T00:39:50.414220Z",
     "shell.execute_reply": "2023-01-05T00:39:50.413787Z",
     "shell.execute_reply.started": "2023-01-05T00:39:50.330908Z"
    },
    "tags": []
   },
   "outputs": [
    {
     "data": {
      "image/png": "[encoded data removed]",
      "text/plain": [
       "<Figure size 640x480 with 1 Axes>"
      ]
     },
     "metadata": {},
     "output_type": "display_data"
    }
   ],
   "source": [
    "import matplotlib.pyplot as plt\n",
    "plt.style.use('dark_background')\n",
    "# Function that returns numner of hashtags in a string\n",
    "def count_hashtags(string):\n",
    "\t# Split the string into words\n",
    "    words = string.split()\n",
    "    \n",
    "    # Create a list of words that are hashtags\n",
    "    hashtags = [word for word in words if word.startswith('#')]\n",
    "    \n",
    "    # Return number of hashtags\n",
    "    return(len(hashtags))\n",
    "\n",
    "# Create a feature hashtag_count and display distribution\n",
    "tweets['hashtag_count'] = tweets['content'].apply(count_hashtags)\n",
    "tweets['hashtag_count'].hist()\n",
    "plt.title('Hashtag count distribution')\n",
    "plt.show()"
   ]
  },
  {
   "cell_type": "code",
   "execution_count": 18,
   "id": "bd55a1e6-2178-44c6-b5b0-7329609953d2",
   "metadata": {
    "execution": {
     "iopub.execute_input": "2023-01-05T00:40:41.061179Z",
     "iopub.status.busy": "2023-01-05T00:40:41.061046Z",
     "iopub.status.idle": "2023-01-05T00:40:41.126360Z",
     "shell.execute_reply": "2023-01-05T00:40:41.126050Z",
     "shell.execute_reply.started": "2023-01-05T00:40:41.061167Z"
    }
   },
   "outputs": [
    {
     "data": {
      "image/png": "[encoded data removed]",
      "text/plain": [
       "<Figure size 640x480 with 1 Axes>"
      ]
     },
     "metadata": {},
     "output_type": "display_data"
    }
   ],
   "source": [
    "# Function that returns number of mentions in a string\n",
    "def count_mentions(string):\n",
    "\t# Split the string into words\n",
    "    words = string.split()\n",
    "    \n",
    "    # Create a list of words that are mentions\n",
    "    mentions = [word for word in words if word.startswith('@')]\n",
    "    \n",
    "    # Return number of mentions\n",
    "    return(len(mentions))\n",
    "\n",
    "# Create a feature mention_count and display distribution\n",
    "tweets['mention_count'] = tweets['content'].apply(count_mentions)\n",
    "tweets['mention_count'].hist()\n",
    "plt.title('Mention count distribution')\n",
    "plt.show()"
   ]
  },
  {
   "cell_type": "markdown",
   "id": "b92e1272-f966-48e7-bd81-2e51b7b14de2",
   "metadata": {},
   "source": [
    "# Readability tests"
   ]
  },
  {
   "cell_type": "markdown",
   "id": "71245622-7caa-4eb9-99ab-5452a43fb8df",
   "metadata": {
    "execution": {
     "iopub.execute_input": "2023-01-05T00:41:50.553518Z",
     "iopub.status.busy": "2023-01-05T00:41:50.553383Z",
     "iopub.status.idle": "2023-01-05T00:41:50.556228Z",
     "shell.execute_reply": "2023-01-05T00:41:50.555767Z",
     "shell.execute_reply.started": "2023-01-05T00:41:50.553507Z"
    }
   },
   "source": [
    "**Overview of readability tests**\n",
    "* Determine readability of an English passage\n",
    "* Scale ranging from primary school up to college graduate level\n",
    "* A mathematical formula utilizing word, syllable and sentence count\n",
    "* Used in fake news and opinion spam detection"
   ]
  },
  {
   "cell_type": "markdown",
   "id": "75d17781-b825-48e4-8c18-c92fc0e6ebf2",
   "metadata": {},
   "source": [
    "**Readability text examples**\n",
    "* Flesch reading ease\n",
    "* Gunning fog index\n",
    "* Simple Measure of Gobbledygook (SMOG)\n",
    "* Dale-Chall score"
   ]
  },
  {
   "cell_type": "markdown",
   "id": "520e3df3-ad88-4981-ac65-1aeb0ced6037",
   "metadata": {
    "execution": {
     "iopub.execute_input": "2023-01-05T00:46:00.267457Z",
     "iopub.status.busy": "2023-01-05T00:46:00.267316Z",
     "iopub.status.idle": "2023-01-05T00:46:00.270291Z",
     "shell.execute_reply": "2023-01-05T00:46:00.269848Z",
     "shell.execute_reply.started": "2023-01-05T00:46:00.267445Z"
    }
   },
   "source": [
    "**Flesch reading ease**\n",
    "* One of the oldest and most widely used tests\n",
    "* Dependent on two factors:\n",
    "    * Greater the average sentence length, harder the text is to read\n",
    "        * \"This is a short sentence.\"\n",
    "        * \"This is longer sentence with more words and it is harder to follow than the first sentence.\n",
    "    * Greater the average number of syllables in a word, harder the text is to read\n",
    "        * \"I live in my home.\"\n",
    "        * \"I reside in my domicile.\"\n",
    "* Higher the score, greater the readability"
   ]
  },
  {
   "cell_type": "markdown",
   "id": "499bed60-a7a3-4174-8aa1-b246dd191515",
   "metadata": {},
   "source": [
    "**Flesch reading ease score interpretation**\n",
    "Reading ease score Grade Level  \n",
    "90-100 5  \n",
    "80-90 6  \n",
    "70-80 7  \n",
    "60-70 8-9  \n",
    "50-60 10-12  \n",
    "30-50 College  \n",
    "0-30 College Graduate"
   ]
  },
  {
   "cell_type": "markdown",
   "id": "d1ae550e-a9cc-41db-9baf-b7931470f2e9",
   "metadata": {
    "execution": {
     "iopub.execute_input": "2023-01-05T00:48:34.897808Z",
     "iopub.status.busy": "2023-01-05T00:48:34.897675Z",
     "iopub.status.idle": "2023-01-05T00:48:34.900360Z",
     "shell.execute_reply": "2023-01-05T00:48:34.899871Z",
     "shell.execute_reply.started": "2023-01-05T00:48:34.897797Z"
    }
   },
   "source": [
    "**Gunning fog index** \n",
    "* Developed in 1954\n",
    "* Also dependent on average sentence length\n",
    "* Greater the percentage of complex words, harder the text is to read\n",
    "* Higher the index, lesser the readability"
   ]
  },
  {
   "cell_type": "markdown",
   "id": "0c4c56e6-92b8-4e7f-9407-82ece850fe2f",
   "metadata": {
    "execution": {
     "iopub.execute_input": "2023-01-05T00:50:46.009146Z",
     "iopub.status.busy": "2023-01-05T00:50:46.008949Z",
     "iopub.status.idle": "2023-01-05T00:50:46.012067Z",
     "shell.execute_reply": "2023-01-05T00:50:46.011726Z",
     "shell.execute_reply.started": "2023-01-05T00:50:46.009129Z"
    }
   },
   "source": [
    "**Gunning fog index interpretation**\n",
    "Fog index Grade level  \n",
    "17 College graduate  \n",
    "16 College senior  \n",
    "15 College junior  \n",
    "14 College sophomore  \n",
    "13 College freshman  \n",
    "12 High school senior  \n",
    "11 High school junior  \n",
    "10 High school sophomore  \n",
    "9 High school freshman  \n",
    "8 Eighth grade  \n",
    "7 Seventh grade  \n",
    "6 Sixth grade"
   ]
  },
  {
   "cell_type": "markdown",
   "id": "4a390287-01c4-40b8-925f-75c979614a0b",
   "metadata": {},
   "source": [
    "## The textatistic library"
   ]
  },
  {
   "cell_type": "code",
   "execution_count": 41,
   "id": "02930a93-7708-47b0-8d0c-61d238590df7",
   "metadata": {
    "execution": {
     "iopub.execute_input": "2023-01-05T01:04:19.094392Z",
     "iopub.status.busy": "2023-01-05T01:04:19.094260Z",
     "iopub.status.idle": "2023-01-05T01:04:19.096532Z",
     "shell.execute_reply": "2023-01-05T01:04:19.096151Z",
     "shell.execute_reply.started": "2023-01-05T01:04:19.094380Z"
    }
   },
   "outputs": [],
   "source": [
    "test_data = (\n",
    "    \"Playing games has always been thought to be important to \"\n",
    "    \"the development of well-balanced and creative children; \"\n",
    "    \"however, what part, if any, they should play in the lives \"\n",
    "    \"of adults has never been researched that deeply. I believe \"\n",
    "    \"that playing games is every bit as important for adults \"\n",
    "    \"as for children. Not only is taking time out to play games \"\n",
    "    \"with our children and other adults valuable to building \"\n",
    "    \"interpersonal relationships but is also a wonderful way \"\n",
    "    \"to release built up tension.\"\n",
    ")"
   ]
  },
  {
   "cell_type": "code",
   "execution_count": 42,
   "id": "1e25dd8a-55e8-4ef2-8ca4-941a0354a679",
   "metadata": {
    "execution": {
     "iopub.execute_input": "2023-01-05T01:04:19.564030Z",
     "iopub.status.busy": "2023-01-05T01:04:19.563898Z",
     "iopub.status.idle": "2023-01-05T01:04:23.043868Z",
     "shell.execute_reply": "2023-01-05T01:04:23.043464Z",
     "shell.execute_reply.started": "2023-01-05T01:04:19.564018Z"
    }
   },
   "outputs": [
    {
     "name": "stdout",
     "output_type": "stream",
     "text": [
      "61.53646586345383\n",
      "13.95823293172691\n"
     ]
    }
   ],
   "source": [
    "# Import the Textatistic class\n",
    "from textatistic import Textatistic\n",
    "# Create a Textatistic Object\n",
    "readability_scores = Textatistic(test_data).scores\n",
    "# Generate scores\n",
    "print(readability_scores['flesch_score'])\n",
    "print(readability_scores['gunningfog_score'])"
   ]
  },
  {
   "cell_type": "markdown",
   "id": "ac819d5d-d3f5-4de0-aeb7-403060cb52d8",
   "metadata": {},
   "source": [
    "## The textstat library"
   ]
  },
  {
   "cell_type": "code",
   "execution_count": 44,
   "id": "85c703ff-d23c-46db-b6aa-6be03a9ce92b",
   "metadata": {},
   "outputs": [],
   "source": [
    "import textstat"
   ]
  },
  {
   "cell_type": "code",
   "execution_count": 45,
   "id": "05655c0d-0684-49f7-b651-7dea4bb216e0",
   "metadata": {},
   "outputs": [
    {
     "data": {
      "text/plain": [
       "52.23"
      ]
     },
     "execution_count": 45,
     "metadata": {},
     "output_type": "execute_result"
    }
   ],
   "source": [
    "textstat.flesch_reading_ease(test_data)"
   ]
  },
  {
   "cell_type": "code",
   "execution_count": 46,
   "id": "3eef13b9-306e-4303-bc11-1b509f528e23",
   "metadata": {},
   "outputs": [
    {
     "data": {
      "text/plain": [
       "12.8"
      ]
     },
     "execution_count": 46,
     "metadata": {},
     "output_type": "execute_result"
    }
   ],
   "source": [
    "textstat.flesch_kincaid_grade(test_data)"
   ]
  },
  {
   "cell_type": "code",
   "execution_count": 47,
   "id": "e0ce387e-252e-48e4-8f6a-e44d5d3f750d",
   "metadata": {},
   "outputs": [
    {
     "data": {
      "text/plain": [
       "12.5"
      ]
     },
     "execution_count": 47,
     "metadata": {},
     "output_type": "execute_result"
    }
   ],
   "source": [
    "textstat.smog_index(test_data)"
   ]
  },
  {
   "cell_type": "code",
   "execution_count": 48,
   "id": "7d12c221-9e2a-4f77-97f5-17ab521354e5",
   "metadata": {},
   "outputs": [
    {
     "data": {
      "text/plain": [
       "11.03"
      ]
     },
     "execution_count": 48,
     "metadata": {},
     "output_type": "execute_result"
    }
   ],
   "source": [
    "textstat.coleman_liau_index(test_data)"
   ]
  },
  {
   "cell_type": "code",
   "execution_count": 49,
   "id": "5f961702-1b5a-417b-86fc-57a34cd975f7",
   "metadata": {},
   "outputs": [
    {
     "data": {
      "text/plain": [
       "15.5"
      ]
     },
     "execution_count": 49,
     "metadata": {},
     "output_type": "execute_result"
    }
   ],
   "source": [
    "textstat.automated_readability_index(test_data)"
   ]
  },
  {
   "cell_type": "code",
   "execution_count": 50,
   "id": "44a5e990-62fd-4a03-bf93-4e7b4a93e73e",
   "metadata": {},
   "outputs": [
    {
     "data": {
      "text/plain": [
       "7.3"
      ]
     },
     "execution_count": 50,
     "metadata": {},
     "output_type": "execute_result"
    }
   ],
   "source": [
    "textstat.dale_chall_readability_score(test_data)"
   ]
  },
  {
   "cell_type": "code",
   "execution_count": 51,
   "id": "7e0a02e1-e296-4a2c-ab6c-a675741052b5",
   "metadata": {},
   "outputs": [
    {
     "data": {
      "text/plain": [
       "9"
      ]
     },
     "execution_count": 51,
     "metadata": {},
     "output_type": "execute_result"
    }
   ],
   "source": [
    "textstat.difficult_words(test_data)"
   ]
  },
  {
   "cell_type": "code",
   "execution_count": 52,
   "id": "a747e054-53eb-4d79-97e4-31e4ee238648",
   "metadata": {},
   "outputs": [
    {
     "data": {
      "text/plain": [
       "16.333333333333332"
      ]
     },
     "execution_count": 52,
     "metadata": {},
     "output_type": "execute_result"
    }
   ],
   "source": [
    "textstat.linsear_write_formula(test_data)"
   ]
  },
  {
   "cell_type": "code",
   "execution_count": 53,
   "id": "d2a3d60e-1e45-4587-a39f-8d6be606ef31",
   "metadata": {},
   "outputs": [
    {
     "data": {
      "text/plain": [
       "12.38"
      ]
     },
     "execution_count": 53,
     "metadata": {},
     "output_type": "execute_result"
    }
   ],
   "source": [
    "textstat.gunning_fog(test_data)"
   ]
  },
  {
   "cell_type": "code",
   "execution_count": 54,
   "id": "13b82211-cd30-46f5-b5cb-1fd1db405493",
   "metadata": {},
   "outputs": [
    {
     "data": {
      "text/plain": [
       "'12th and 13th grade'"
      ]
     },
     "execution_count": 54,
     "metadata": {},
     "output_type": "execute_result"
    }
   ],
   "source": [
    "textstat.text_standard(test_data)"
   ]
  },
  {
   "cell_type": "code",
   "execution_count": 55,
   "id": "95024722-6d52-47c6-b770-ebe3febc6751",
   "metadata": {},
   "outputs": [
    {
     "data": {
      "text/plain": [
       "89.0"
      ]
     },
     "execution_count": 55,
     "metadata": {},
     "output_type": "execute_result"
    }
   ],
   "source": [
    "textstat.fernandez_huerta(test_data)"
   ]
  },
  {
   "cell_type": "code",
   "execution_count": 56,
   "id": "a1a9deb4-9761-4b22-bdc2-db4e42ed259b",
   "metadata": {},
   "outputs": [
    {
     "data": {
      "text/plain": [
       "87.57"
      ]
     },
     "execution_count": 56,
     "metadata": {},
     "output_type": "execute_result"
    }
   ],
   "source": [
    "textstat.szigriszt_pazos(test_data)"
   ]
  },
  {
   "cell_type": "code",
   "execution_count": 57,
   "id": "88f370eb-75c0-4d93-b8cd-f2fbede77d5a",
   "metadata": {},
   "outputs": [
    {
     "data": {
      "text/plain": [
       "38.79"
      ]
     },
     "execution_count": 57,
     "metadata": {},
     "output_type": "execute_result"
    }
   ],
   "source": [
    "textstat.gutierrez_polini(test_data)"
   ]
  },
  {
   "cell_type": "code",
   "execution_count": 58,
   "id": "d601f919-f2eb-482e-abaa-3957708b7349",
   "metadata": {},
   "outputs": [
    {
     "data": {
      "text/plain": [
       "3.1"
      ]
     },
     "execution_count": 58,
     "metadata": {},
     "output_type": "execute_result"
    }
   ],
   "source": [
    "textstat.crawford(test_data)"
   ]
  },
  {
   "cell_type": "code",
   "execution_count": 59,
   "id": "e741dad2-68de-4fea-9666-94ef5a772b8d",
   "metadata": {},
   "outputs": [
    {
     "data": {
      "text/plain": [
       "50.707317073170735"
      ]
     },
     "execution_count": 59,
     "metadata": {},
     "output_type": "execute_result"
    }
   ],
   "source": [
    "textstat.gulpease_index(test_data)"
   ]
  },
  {
   "cell_type": "code",
   "execution_count": 60,
   "id": "03c893a3-074a-4b8c-9d9c-9231044c5bca",
   "metadata": {},
   "outputs": [
    {
     "data": {
      "text/plain": [
       "48.01"
      ]
     },
     "execution_count": 60,
     "metadata": {},
     "output_type": "execute_result"
    }
   ],
   "source": [
    "textstat.osman(test_data)"
   ]
  },
  {
   "cell_type": "markdown",
   "id": "f8ec4e16-a435-4e73-a11e-a781bb2e91be",
   "metadata": {},
   "source": [
    "## Readability of 'The Myth of Sisyphus'"
   ]
  },
  {
   "cell_type": "code",
   "execution_count": 63,
   "id": "01fa21cd-8571-451a-b1aa-fc2159c97692",
   "metadata": {
    "execution": {
     "iopub.execute_input": "2023-01-05T01:09:27.317326Z",
     "iopub.status.busy": "2023-01-05T01:09:27.317192Z",
     "iopub.status.idle": "2023-01-05T01:09:27.320985Z",
     "shell.execute_reply": "2023-01-05T01:09:27.320548Z",
     "shell.execute_reply.started": "2023-01-05T01:09:27.317315Z"
    },
    "tags": []
   },
   "outputs": [],
   "source": [
    "sisyphus_essay = \"\\nThe gods had condemned Sisyphus to ceaselessly rolling a rock to the top of a mountain, whence the stone would fall back of its own weight. They had thought with some reason that there is no more dreadful punishment than futile and hopeless labor. If one believes Homer, Sisyphus was the wisest and most prudent of mortals. According to another tradition, however, he was disposed to practice the profession of highwayman. I see no contradiction in this. Opinions differ as to the reasons why he became the futile laborer of the underworld. To begin with, he is accused of a certain levity in regard to the gods. He stole their secrets. Egina, the daughter of Esopus, was carried off by Jupiter. The father was shocked by that disappearance and complained to Sisyphus. He, who knew of the abduction, offered to tell about it on condition that Esopus would give water to the citadel of Corinth. To the celestial thunderbolts he preferred the benediction of water. He was punished for this in the underworld. Homer tells us also that Sisyphus had put Death in chains. Pluto could not endure the sight of his deserted, silent empire. He dispatched the god of war, who liberated Death from the hands of her conqueror. It is said that Sisyphus, being near to death, rashly wanted to test his wife's love. He ordered her to cast his unburied body into the middle of the public square. Sisyphus woke up in the underworld. And there, annoyed by an obedience so contrary to human love, he obtained from Pluto permission to return to earth in order to chastise his wife. But when he had seen again the face of this world, enjoyed water and sun, warm stones and the sea, he no longer wanted to go back to the infernal darkness. Recalls, signs of anger, warnings were of no avail. Many years more he lived facing the curve of the gulf, the sparkling sea, and the smiles of earth. A decree of the gods was necessary. Mercury came and seized the impudent man by the collar and, snatching him from his joys, lead him forcibly back to the underworld, where his rock was ready for him. You have already grasped that Sisyphus is the absurd hero. He is, as much through his passions as through his torture. His scorn of the gods, his hatred of death, and his passion for life won him that unspeakable penalty in which the whole being is exerted toward accomplishing nothing. This is the price that must be paid for the passions of this earth. Nothing is told us about Sisyphus in the underworld. Myths are made for the imagination to breathe life into them. As for this myth, one sees merely the whole effort of a body straining to raise the huge stone, to roll it, and push it up a slope a hundred times over; one sees the face screwed up, the cheek tight against the stone, the shoulder bracing the clay-covered mass, the foot wedging it, the fresh start with arms outstretched, the wholly human security of two earth-clotted hands. At the very end of his long effort measured by skyless space and time without depth, the purpose is achieved. Then Sisyphus watches the stone rush down in a few moments toward tlower world whence he will have to push it up again toward the summit. He goes back down to the plain. It is during that return, that pause, that Sisyphus interests me. A face that toils so close to stones is already stone itself! I see that man going back down with a heavy yet measured step toward the torment of which he will never know the end. That hour like a breathing-space which returns as surely as his suffering, that is the hour of consciousness. At each of those moments when he leaves the heights and gradually sinks toward the lairs of the gods, he is superior to his fate. He is stronger than his rock. If this myth is tragic, that is because its hero is conscious. Where would his torture be, indeed, if at every step the hope of succeeding upheld him? The workman of today works everyday in his life at the same tasks, and his fate is no less absurd. But it is tragic only at the rare moments when it becomes conscious. Sisyphus, proletarian of the gods, powerless and rebellious, knows the whole extent of his wretched condition: it is what he thinks of during his descent. The lucidity that was to constitute his torture at the same time crowns his victory. There is no fate that can not be surmounted by scorn. If the descent is thus sometimes performed in sorrow, it can also take place in joy. This word is not too much. Again I fancy Sisyphus returning toward his rock, and the sorrow was in the beginning. When the images of earth cling too tightly to memory, when the call of happiness becomes too insistent, it happens that melancholy arises in man's heart: this is the rock's victory, this is the rock itself. The boundless grief is too heavy to bear. These are our nights of Gethsemane. But crushing truths perish from being acknowledged. Thus, Edipus at the outset obeys fate without knowing it. But from the moment he knows, his tragedy begins. Yet at the same moment, blind and desperate, he realizes that the only bond linking him to the world is the cool hand of a girl. Then a tremendous remark rings out: \\\"Despite so many ordeals, my advanced age and the nobility of my soul make me conclude that all is well.\\\" Sophocles' Edipus, like Dostoevsky's Kirilov, thus gives the recipe for the absurd victory. Ancient wisdom confirms modern heroism. One does not discover the absurd without being tempted to write a manual of happiness. \\\"What!---by such narrow ways--?\\\" There is but one world, however. Happiness and the absurd are two sons of the same earth. They are inseparable. It would be a mistake to say that happiness necessarily springs from the absurd. Discovery. It happens as well that the felling of the absurd springs from happiness. \\\"I conclude that all is well,\\\" says Edipus, and that remark is sacred. It echoes in the wild and limited universe of man. It teaches that all is not, has not been, exhausted. It drives out of this world a god who had come into it with dissatisfaction and a preference for futile suffering. It makes of fate a human matter, which must be settled among men. All Sisyphus' silent joy is contained therein. His fate belongs to him. His rock is a thing. Likewise, the absurd man, when he contemplates his torment, silences all the idols. In the universe suddenly restored to its silence, the myriad wondering little voices of the earth rise up. Unconscious, secret calls, invitations from all the faces, they are the necessary reverse and price of victory. There is no sun without shadow, and it is essential to know the night. The absurd man says yes and his efforts will henceforth be unceasing. If there is a personal fate, there is no higher destiny, or at least there is, but one which he concludes is inevitable and despicable. For the rest, he knows himself to be the master of his days. At that subtle moment when man glances backward over his life, Sisyphus returning toward his rock, in that slight pivoting he contemplates that series of unrelated actions which become his fate, created by him, combined under his memory's eye and soon sealed by his death. Thus, convinced of the wholly human origin of all that is human, a blind man eager to see who knows that the night has no end, he is still on the go. The rock is still rolling. I leave Sisyphus at the foot of the mountain! One always finds one's burden again. But Sisyphus teaches the higher fidelity that negates the gods and raises rocks. He too concludes that all is well. This universe henceforth without a master seems to him neither sterile nor futile. Each atom of that stone, each mineral flake of that night filled mountain, in itself forms a world. The struggle itself toward the heights is enough to fill a man's heart. One must imagine Sisyphus happy.\\n\""
   ]
  },
  {
   "cell_type": "code",
   "execution_count": 64,
   "id": "e2561144-f093-4537-b164-b0655a5dd91d",
   "metadata": {
    "execution": {
     "iopub.execute_input": "2023-01-05T01:09:47.809591Z",
     "iopub.status.busy": "2023-01-05T01:09:47.809461Z",
     "iopub.status.idle": "2023-01-05T01:09:47.866393Z",
     "shell.execute_reply": "2023-01-05T01:09:47.866029Z",
     "shell.execute_reply.started": "2023-01-05T01:09:47.809580Z"
    }
   },
   "outputs": [
    {
     "name": "stdout",
     "output_type": "stream",
     "text": [
      "The Flesch Reading Ease is 81.67\n"
     ]
    }
   ],
   "source": [
    "# Compute the readability scores \n",
    "readability_scores = Textatistic(sisyphus_essay).scores\n",
    "# Print the flesch reading ease score\n",
    "flesch = readability_scores['flesch_score']\n",
    "print(\"The Flesch Reading Ease is %.2f\" % (flesch))"
   ]
  },
  {
   "cell_type": "markdown",
   "id": "cb9b0809-b2f8-4692-bfa3-64e2948c8462",
   "metadata": {},
   "source": [
    "> Notice that the score for this essay is approximately 81.67. This indicates that the essay is at the readability level of a 6th grade American student."
   ]
  },
  {
   "cell_type": "code",
   "execution_count": 65,
   "id": "3ef1d0c3-81c9-4aaf-8da5-7e4aa0c5e119",
   "metadata": {
    "execution": {
     "iopub.execute_input": "2023-01-05T01:10:13.906738Z",
     "iopub.status.busy": "2023-01-05T01:10:13.906607Z",
     "iopub.status.idle": "2023-01-05T01:10:13.909521Z",
     "shell.execute_reply": "2023-01-05T01:10:13.909118Z",
     "shell.execute_reply.started": "2023-01-05T01:10:13.906728Z"
    }
   },
   "outputs": [
    {
     "data": {
      "text/plain": [
       "52.23"
      ]
     },
     "execution_count": 65,
     "metadata": {},
     "output_type": "execute_result"
    }
   ],
   "source": [
    "textstat.flesch_reading_ease(test_data)"
   ]
  },
  {
   "cell_type": "markdown",
   "id": "99513d4d-a4ba-4214-bfd6-fa5da5c90277",
   "metadata": {
    "execution": {
     "iopub.execute_input": "2023-01-05T01:11:30.354145Z",
     "iopub.status.busy": "2023-01-05T01:11:30.354010Z",
     "iopub.status.idle": "2023-01-05T01:11:30.356377Z",
     "shell.execute_reply": "2023-01-05T01:11:30.355980Z",
     "shell.execute_reply.started": "2023-01-05T01:11:30.354134Z"
    }
   },
   "source": [
    "> Notice the score difference between libraries"
   ]
  },
  {
   "cell_type": "markdown",
   "id": "d45d8c1b-1fa2-47ee-a274-6639be390754",
   "metadata": {},
   "source": [
    "## Readability of various publications"
   ]
  },
  {
   "cell_type": "code",
   "execution_count": 69,
   "id": "1ebf3373-47f0-4c19-a427-abfd14a465c1",
   "metadata": {
    "execution": {
     "iopub.execute_input": "2023-01-05T01:14:09.441904Z",
     "iopub.status.busy": "2023-01-05T01:14:09.441773Z",
     "iopub.status.idle": "2023-01-05T01:14:09.444893Z",
     "shell.execute_reply": "2023-01-05T01:14:09.444600Z",
     "shell.execute_reply.started": "2023-01-05T01:14:09.441893Z"
    },
    "tags": []
   },
   "outputs": [],
   "source": [
    "excerpts = [\n",
    "    forbes := '\\nThe idea is to create more transparency about companies and individuals that are breaking the law or are non-compliant with official obligations and incentivize the right behaviors with the overall goal of improving governance and market order. The Chinese Communist Party intends the social credit score system to “allow the trustworthy to roam freely under heaven while making it hard for the discredited to take a single step.” Even though the system is still under development it currently plays out in real life in myriad ways for private citizens, businesses and government officials. Generally, higher credit scores give people a variety of advantages. Individuals are often given perks such as discounted energy bills and access or better visibility on dating websites. Often, those with higher social credit scores are able to forgo deposits on rental properties, bicycles, and umbrellas. They can even get better travel deals. In addition, Chinese hospitals are currently experimenting with social credit scores. A social credit score above 650 at one hospital allows an individual to see a doctor without lining up to pay.\\n',\n",
    "    harvard_law := '\\nIn his important new book, The Schoolhouse Gate: Public Education, the Supreme Court, and the Battle for the American Mind, Professor Justin Driver reminds us that private controversies that arise within the confines of public schools are part of a broader historical arc — one that tracks a range of cultural and intellectual flashpoints in U.S. history. Moreover, Driver explains, these tensions are reflected in constitutional law, and indeed in the history and jurisprudence of the Supreme Court. As such, debates that arise in the context of public education are not simply about the conflict between academic freedom, public safety, and student rights. They mirror our persistent struggle to reconcile our interest in fostering a pluralistic society, rooted in the ideal of individual autonomy, with our desire to cultivate a sense of national unity and shared identity (or, put differently, our effort to reconcile our desire to forge common norms of citizenship with our fear of state indoctrination and overencroachment). In this regard, these debates reflect the unique role that both the school and the courts have played in defining and enforcing the boundaries of American citizenship. \\n',\n",
    "    r_digest := '\\nThis week 30 passengers were reportedly injured when a Turkish Airlines flight landing at John F. Kennedy International Airport encountered turbulent conditions. Injuries included bruises, bloody noses, and broken bones. In mid-February, a Delta Airlines flight made an emergency landing to assist three passengers in getting to the nearest hospital after some sudden and unexpected turbulence. Doctors treated 15 passengers after a flight from Miami to Buenos Aires last October for everything from severe bruising to nosebleeds after the plane caught some rough winds over Brazil. In 2016, 23 passengers were injured on a United Airlines flight after severe turbulence threw people into the cabin ceiling. The list goes on. Turbulence has been become increasingly common, with painful outcomes for those on board. And more costly to the airlines, too. Forbes estimates that the cost of turbulence has risen to over $500 million each year in damages and delays. And there are no signs the increase in turbulence will be stopping anytime soon.\\n',\n",
    "    time_kids := '\\nThat, of course, is easier said than done. The more you eat salty foods, the more you develop a taste for them. The key to changing your diet is to start small. “Small changes in sodium in foods are not usually noticed,” Quader says. Eventually, she adds, the effort will reset a kid’s taste buds so the salt cravings stop. Bridget Murphy is a dietitian at New York University’s Langone Medical Center. She suggests kids try adding spices to their food instead of salt. Eating fruits and veggies and cutting back on packaged foods will also help. Need a little inspiration? Murphy offers this tip: Focus on the immediate effects of a diet that is high in sodium. High blood pressure can make it difficult to be active. “Do you want to be able to think clearly and perform well in school?” she asks. “If you’re an athlete, do you want to run faster?” If you answered yes to these questions, then it’s time to shake the salt habit.\\n'\n",
    "]"
   ]
  },
  {
   "cell_type": "code",
   "execution_count": 71,
   "id": "47ee14cf-5bfb-49a1-9c17-c60e9d997eb7",
   "metadata": {
    "execution": {
     "iopub.execute_input": "2023-01-05T01:15:38.555647Z",
     "iopub.status.busy": "2023-01-05T01:15:38.555097Z",
     "iopub.status.idle": "2023-01-05T01:15:38.586290Z",
     "shell.execute_reply": "2023-01-05T01:15:38.585895Z",
     "shell.execute_reply.started": "2023-01-05T01:15:38.555633Z"
    }
   },
   "outputs": [
    {
     "name": "stdout",
     "output_type": "stream",
     "text": [
      "[14.436002482929858, 20.735401069518716, 11.085587583148559, 5.926785009861934]\n"
     ]
    }
   ],
   "source": [
    "# Loop through excerpts and compute gunning fog index\n",
    "gunning_fog_scores = []\n",
    "for excerpt in excerpts:\n",
    "    readability_scores = Textatistic(excerpt).scores\n",
    "    gunning_fog = readability_scores['gunningfog_score']\n",
    "    gunning_fog_scores.append(gunning_fog)\n",
    "# Print the gunning fog indices\n",
    "print(gunning_fog_scores)"
   ]
  },
  {
   "cell_type": "markdown",
   "id": "34be3766-5dd0-494d-b046-06db6c734edd",
   "metadata": {},
   "source": [
    "> Notice that the Harvard Law Review excerpt has the highest Gunning fog index; indicating that it can be comprehended only by readers who have graduated college.\n",
    "\n",
    "> On the other hand, the Time for Kids article, intended for children, has a much lower fog index and can be comprehended by 5th grade students."
   ]
  },
  {
   "cell_type": "code",
   "execution_count": 73,
   "id": "7e4e1e29-0ee2-4e55-9cde-ddd6eb33515a",
   "metadata": {
    "execution": {
     "iopub.execute_input": "2023-01-05T01:18:23.727644Z",
     "iopub.status.busy": "2023-01-05T01:18:23.727495Z",
     "iopub.status.idle": "2023-01-05T01:18:23.733740Z",
     "shell.execute_reply": "2023-01-05T01:18:23.733387Z",
     "shell.execute_reply.started": "2023-01-05T01:18:23.727632Z"
    },
    "tags": []
   },
   "outputs": [
    {
     "name": "stdout",
     "output_type": "stream",
     "text": [
      "[16.11, 20.52, 9.11, 9.13]\n"
     ]
    }
   ],
   "source": [
    "# Loop through excerpts and compute gunning fog index\n",
    "gunning_fog_scores = []\n",
    "for excerpt in excerpts:\n",
    "    gunning_fog_scores.append(textstat.gunning_fog(excerpt))\n",
    "# Print the gunning fog indices\n",
    "print(gunning_fog_scores)"
   ]
  },
  {
   "cell_type": "markdown",
   "id": "c355ac77-e29c-4e9e-aea2-e6a4c523fa74",
   "metadata": {
    "execution": {
     "iopub.execute_input": "2023-01-05T01:11:30.354145Z",
     "iopub.status.busy": "2023-01-05T01:11:30.354010Z",
     "iopub.status.idle": "2023-01-05T01:11:30.356377Z",
     "shell.execute_reply": "2023-01-05T01:11:30.355980Z",
     "shell.execute_reply.started": "2023-01-05T01:11:30.354134Z"
    }
   },
   "source": [
    "> Notice the score difference between libraries"
   ]
  }
 ],
 "metadata": {
  "kernelspec": {
   "display_name": "Python 3 (ipykernel)",
   "language": "python",
   "name": "python3"
  },
  "language_info": {
   "codemirror_mode": {
    "name": "ipython",
    "version": 3
   },
   "file_extension": ".py",
   "mimetype": "text/x-python",
   "name": "python",
   "nbconvert_exporter": "python",
   "pygments_lexer": "ipython3",
   "version": "3.9.15"
  },
  "toc-autonumbering": true
 },
 "nbformat": 4,
 "nbformat_minor": 5
}
