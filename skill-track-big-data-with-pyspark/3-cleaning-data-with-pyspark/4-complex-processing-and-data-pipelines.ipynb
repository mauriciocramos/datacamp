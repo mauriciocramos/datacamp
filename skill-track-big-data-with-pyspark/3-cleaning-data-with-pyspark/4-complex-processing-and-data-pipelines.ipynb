{
 "cells": [
  {
   "cell_type": "code",
   "execution_count": 1,
   "id": "53382983-5597-47bc-a0af-0d665d4befd2",
   "metadata": {
    "execution": {
     "iopub.execute_input": "2023-05-02T22:10:36.204938Z",
     "iopub.status.busy": "2023-05-02T22:10:36.204701Z",
     "iopub.status.idle": "2023-05-02T22:10:38.218080Z",
     "shell.execute_reply": "2023-05-02T22:10:38.217673Z",
     "shell.execute_reply.started": "2023-05-02T22:10:36.204927Z"
    },
    "tags": []
   },
   "outputs": [
    {
     "name": "stderr",
     "output_type": "stream",
     "text": [
      "23/05/02 19:10:37 WARN Utils: Your hostname, rig resolves to a loopback address: 127.0.1.1; using 192.168.0.102 instead (on interface enp6s0)\n",
      "23/05/02 19:10:37 WARN Utils: Set SPARK_LOCAL_IP if you need to bind to another address\n",
      "Setting default log level to \"WARN\".\n",
      "To adjust logging level use sc.setLogLevel(newLevel). For SparkR, use setLogLevel(newLevel).\n",
      "23/05/02 19:10:37 WARN NativeCodeLoader: Unable to load native-hadoop library for your platform... using builtin-java classes where applicable\n"
     ]
    }
   ],
   "source": [
    "import matplotlib.pyplot as plt\n",
    "import pandas as pd\n",
    "import numpy as np\n",
    "plt.style.use('dark_background')\n",
    "\n",
    "from pyspark import SparkContext\n",
    "sc = SparkContext.getOrCreate()\n",
    "from pyspark.sql import SparkSession\n",
    "spark = SparkSession.builder.getOrCreate()\n",
    "\n",
    "from pyspark.sql import functions as F\n",
    "from pyspark.sql.types import *"
   ]
  },
  {
   "cell_type": "markdown",
   "id": "e5c9caa5-893c-40ef-8dd0-55f5ec6707dc",
   "metadata": {},
   "source": [
    "# Introduction to data pipelines"
   ]
  },
  {
   "cell_type": "markdown",
   "id": "4008f796-6e7c-428e-99c4-d84a3f9622ea",
   "metadata": {},
   "source": [
    "## Quick pipeline"
   ]
  },
  {
   "cell_type": "code",
   "execution_count": 2,
   "id": "a1bad0fc-77e9-4ff4-95d5-2c023237e1fc",
   "metadata": {
    "execution": {
     "iopub.execute_input": "2023-05-02T22:10:38.218766Z",
     "iopub.status.busy": "2023-05-02T22:10:38.218568Z",
     "iopub.status.idle": "2023-05-02T22:10:40.824660Z",
     "shell.execute_reply": "2023-05-02T22:10:40.824362Z",
     "shell.execute_reply.started": "2023-05-02T22:10:38.218756Z"
    },
    "tags": []
   },
   "outputs": [],
   "source": [
    "# Import the data to a DataFrame\n",
    "departures_df = spark.read.csv('AA_DFW_2015_Departures_Short.csv.gz', header=True)\n",
    "\n",
    "# Remove any duration of 0\n",
    "departures_df = departures_df.filter(departures_df[3] > 0)\n",
    "\n",
    "# Add an ID column\n",
    "departures_df = departures_df.withColumn('id', F.monotonically_increasing_id())\n",
    "\n",
    "# Write the file out to JSON format\n",
    "departures_df.write.json('output.json', mode='overwrite')"
   ]
  },
  {
   "cell_type": "code",
   "execution_count": 3,
   "id": "91dd0f27-86cb-4eed-bed9-7b7f4273d13b",
   "metadata": {
    "execution": {
     "iopub.execute_input": "2023-05-02T22:10:40.825355Z",
     "iopub.status.busy": "2023-05-02T22:10:40.825077Z",
     "iopub.status.idle": "2023-05-02T22:10:40.827962Z",
     "shell.execute_reply": "2023-05-02T22:10:40.827614Z",
     "shell.execute_reply.started": "2023-05-02T22:10:40.825342Z"
    }
   },
   "outputs": [
    {
     "name": "stdout",
     "output_type": "stream",
     "text": [
      "root\n",
      " |-- Date (MM/DD/YYYY): string (nullable = true)\n",
      " |-- Flight Number: string (nullable = true)\n",
      " |-- Destination Airport: string (nullable = true)\n",
      " |-- Actual elapsed time (Minutes): string (nullable = true)\n",
      " |-- id: long (nullable = false)\n",
      "\n"
     ]
    }
   ],
   "source": [
    "departures_df.printSchema()"
   ]
  },
  {
   "cell_type": "code",
   "execution_count": 4,
   "id": "0612c6bd-da0c-4464-b25b-fd16b6c2a697",
   "metadata": {
    "execution": {
     "iopub.execute_input": "2023-05-02T22:10:40.828991Z",
     "iopub.status.busy": "2023-05-02T22:10:40.828812Z",
     "iopub.status.idle": "2023-05-02T22:10:40.936586Z",
     "shell.execute_reply": "2023-05-02T22:10:40.936202Z",
     "shell.execute_reply.started": "2023-05-02T22:10:40.828981Z"
    },
    "tags": []
   },
   "outputs": [
    {
     "name": "stdout",
     "output_type": "stream",
     "text": [
      "+-----------------+-------------+-------------------+-----------------------------+---+\n",
      "|Date (MM/DD/YYYY)|Flight Number|Destination Airport|Actual elapsed time (Minutes)| id|\n",
      "+-----------------+-------------+-------------------+-----------------------------+---+\n",
      "|       01/01/2015|         0005|                HNL|                          526|  0|\n",
      "|       01/01/2015|         0007|                OGG|                          517|  1|\n",
      "|       01/01/2015|         0023|                SFO|                          233|  2|\n",
      "+-----------------+-------------+-------------------+-----------------------------+---+\n",
      "only showing top 3 rows\n",
      "\n"
     ]
    }
   ],
   "source": [
    "departures_df.show(3)"
   ]
  },
  {
   "cell_type": "markdown",
   "id": "95f5095e-4678-4163-9541-974e17dbb597",
   "metadata": {},
   "source": [
    "## Data handling techniques"
   ]
  },
  {
   "cell_type": "markdown",
   "id": "4c908a7f-b2f8-402b-909b-4a767239b77c",
   "metadata": {},
   "source": [
    "## Removing commented lines"
   ]
  },
  {
   "cell_type": "code",
   "execution_count": 5,
   "id": "41a6af0a-e04e-4756-962d-2e88463bdfee",
   "metadata": {
    "execution": {
     "iopub.execute_input": "2023-05-02T22:10:40.937197Z",
     "iopub.status.busy": "2023-05-02T22:10:40.937046Z",
     "iopub.status.idle": "2023-05-02T22:10:41.517185Z",
     "shell.execute_reply": "2023-05-02T22:10:41.516745Z",
     "shell.execute_reply.started": "2023-05-02T22:10:40.937181Z"
    },
    "tags": []
   },
   "outputs": [
    {
     "name": "stdout",
     "output_type": "stream",
     "text": [
      "Full count: 100\n",
      "Comment count: 4\n",
      "Remaining count: 96\n"
     ]
    }
   ],
   "source": [
    "# Import the file to a DataFrame and perform a row count\n",
    "annotations_df = spark.read.csv('annotations.csv', sep='|')\n",
    "full_count = annotations_df.count()\n",
    "# Count the number of rows beginning with '#'\n",
    "comment_count = annotations_df.where(F.col('_c0').startswith('#')).count()\n",
    "# Import the file to a new DataFrame, without commented rows\n",
    "no_comments_df = spark.read.csv('annotations.csv', sep='|', comment='#')\n",
    "# Count the new DataFrame and verify the difference is as expected\n",
    "no_comments_count = no_comments_df.count()\n",
    "print(\"Full count: %d\\nComment count: %d\\nRemaining count: %d\" % (full_count, comment_count, no_comments_count))"
   ]
  },
  {
   "cell_type": "markdown",
   "id": "53a8e255-a2ef-4e11-aa5a-4a759352ae7b",
   "metadata": {},
   "source": [
    "## Removing invalid rows"
   ]
  },
  {
   "cell_type": "code",
   "execution_count": 6,
   "id": "77a356db-3565-4ce9-be3e-2d5cf9f61701",
   "metadata": {
    "execution": {
     "iopub.execute_input": "2023-05-02T22:10:41.517954Z",
     "iopub.status.busy": "2023-05-02T22:10:41.517775Z",
     "iopub.status.idle": "2023-05-02T22:10:41.607453Z",
     "shell.execute_reply": "2023-05-02T22:10:41.606873Z",
     "shell.execute_reply.started": "2023-05-02T22:10:41.517937Z"
    },
    "tags": []
   },
   "outputs": [
    {
     "name": "stdout",
     "output_type": "stream",
     "text": [
      "Initial count: 96\n",
      "Final count: 65\n"
     ]
    }
   ],
   "source": [
    "# Split _c0 on the tab character and store the list in a variable\n",
    "tmp_fields = F.split(annotations_df['_c0'], '\\t')\n",
    "\n",
    "# Create the colcount column on the DataFrame\n",
    "annotations_df = annotations_df.withColumn('colcount', F.size(tmp_fields))\n",
    "\n",
    "# Remove any rows containing fewer than 5 fields\n",
    "annotations_df_filtered = annotations_df.filter(~ (F.col('colcount') < 5))\n",
    "\n",
    "# Count the number of rows\n",
    "final_count = annotations_df_filtered.count()\n",
    "print(\"Initial count: %d\\nFinal count: %d\" % (no_comments_count, final_count))"
   ]
  },
  {
   "cell_type": "markdown",
   "id": "7d07fcda-e0eb-4c85-b3e9-46f0871c5ee6",
   "metadata": {},
   "source": [
    "## Splitting into columns"
   ]
  },
  {
   "cell_type": "code",
   "execution_count": 7,
   "id": "57dd1571-0548-4b40-9a00-b81774eee650",
   "metadata": {
    "execution": {
     "iopub.execute_input": "2023-05-02T22:10:41.608487Z",
     "iopub.status.busy": "2023-05-02T22:10:41.608154Z",
     "iopub.status.idle": "2023-05-02T22:10:41.721932Z",
     "shell.execute_reply": "2023-05-02T22:10:41.721463Z",
     "shell.execute_reply.started": "2023-05-02T22:10:41.608470Z"
    },
    "tags": []
   },
   "outputs": [
    {
     "name": "stdout",
     "output_type": "stream",
     "text": [
      "+------------------------------------------------------------+--------+--------+---------------+-----+------+------------------------------------------------------------+\n",
      "|                                                         _c0|colcount|  folder|       filename|width|height|                                                  split_cols|\n",
      "+------------------------------------------------------------+--------+--------+---------------+-----+------+------------------------------------------------------------+\n",
      "|02110627\\tn02110627_12938\\t200\\t300\\taffenpinscher,0,9,17...|       5|02110627|n02110627_12938|  200|   300|[02110627, n02110627_12938, 200, 300, affenpinscher,0,9,1...|\n",
      "|02093754\\tn02093754_1148\\t500\\t378\\tBorder_terrier,73,127...|       5|02093754| n02093754_1148|  500|   378|[02093754, n02093754_1148, 500, 378, Border_terrier,73,12...|\n",
      "|          %s\\t%s\\t800\\t600\\tShetland_sheepdog,124,87,576,514|       5|      %s|             %s|  800|   600|        [%s, %s, 800, 600, Shetland_sheepdog,124,87,576,514]|\n",
      "|        02104029\\tn02104029_63\\t500\\t375\\tkuvasz,0,0,499,327|       5|02104029|   n02104029_63|  500|   375|      [02104029, n02104029_63, 500, 375, kuvasz,0,0,499,327]|\n",
      "|02111500\\tn02111500_5137\\t500\\t375\\tGreat_Pyrenees,124,22...|       5|02111500| n02111500_5137|  500|   375|[02111500, n02111500_5137, 500, 375, Great_Pyrenees,124,2...|\n",
      "|02104365\\tn02104365_7518\\t500\\t333\\tschipperke,146,29,416...|       5|02104365| n02104365_7518|  500|   333|[02104365, n02104365_7518, 500, 333, schipperke,146,29,41...|\n",
      "|02105056\\tn02105056_2834\\t500\\t375\\tgroenendael,168,0,469...|       5|02105056| n02105056_2834|  500|   375|[02105056, n02105056_2834, 500, 375, groenendael,168,0,46...|\n",
      "|02093647\\tn02093647_541\\t500\\t333\\tBedlington_terrier,10,...|       5|02093647|  n02093647_541|  500|   333|[02093647, n02093647_541, 500, 333, Bedlington_terrier,10...|\n",
      "|      02098413\\tn02098413_1355\\t500\\t375\\tLhasa,39,1,499,373|       5|02098413| n02098413_1355|  500|   375|    [02098413, n02098413_1355, 500, 375, Lhasa,39,1,499,373]|\n",
      "|02093859\\tn02093859_2309\\t330\\t500\\tKerry_blue_terrier,17...|       5|02093859| n02093859_2309|  330|   500|[02093859, n02093859_2309, 330, 500, Kerry_blue_terrier,1...|\n",
      "|    02100583\\tn02100583_702\\t500\\t333\\tvizsla,112,93,276,236|       5|02100583|  n02100583_702|  500|   333|  [02100583, n02100583_702, 500, 333, vizsla,112,93,276,236]|\n",
      "|02109961\\tn02109961_1017\\t475\\t500\\tEskimo_dog,43,20,472,461|       5|02109961| n02109961_1017|  475|   500|[02109961, n02109961_1017, 475, 500, Eskimo_dog,43,20,472...|\n",
      "|     02096177\\tn02096177_11642\\t500\\t375\\tcairn,71,2,319,302|       5|02096177|n02096177_11642|  500|   375|   [02096177, n02096177_11642, 500, 375, cairn,71,2,319,302]|\n",
      "|02108000\\tn02108000_3491\\t600\\t450\\tEntleBucher,307,94,51...|       6|02108000| n02108000_3491|  600|   450|[02108000, n02108000_3491, 600, 450, EntleBucher,307,94,5...|\n",
      "|02085782\\tn02085782_1731\\t600\\t449\\tJapanese_spaniel,23,0...|       5|02085782| n02085782_1731|  600|   449|[02085782, n02085782_1731, 600, 449, Japanese_spaniel,23,...|\n",
      "| 02109047\\tn02109047_888\\t410\\t368\\tGreat_Dane,51,36,355,332|       5|02109047|  n02109047_888|  410|   368|[02109047, n02109047_888, 410, 368, Great_Dane,51,36,355,...|\n",
      "|02110185\\tn02110185_2736\\t259\\t500\\tSiberian_husky,7,2,23...|       5|02110185| n02110185_2736|  259|   500|[02110185, n02110185_2736, 259, 500, Siberian_husky,7,2,2...|\n",
      "|02086646\\tn02086646_2970\\t500\\t400\\tBlenheim_spaniel,25,6...|       5|02086646| n02086646_2970|  500|   400|[02086646, n02086646_2970, 500, 400, Blenheim_spaniel,25,...|\n",
      "|      02096177\\tn02096177_6751\\t500\\t375\\tcairn,82,2,472,369|       5|02096177| n02096177_6751|  500|   375|    [02096177, n02096177_6751, 500, 375, cairn,82,2,472,369]|\n",
      "|    02098413\\tn02098413_1713\\t500\\t333\\tLhasa,141,40,423,185|       5|02098413| n02098413_1713|  500|   333|  [02098413, n02098413_1713, 500, 333, Lhasa,141,40,423,185]|\n",
      "+------------------------------------------------------------+--------+--------+---------------+-----+------+------------------------------------------------------------+\n",
      "only showing top 20 rows\n",
      "\n"
     ]
    }
   ],
   "source": [
    "# Split the content of _c0 on the tab character (aka, '\\t')\n",
    "split_cols = F.split(annotations_df_filtered['_c0'], '\\t')\n",
    "\n",
    "# Add the columns folder, filename, width, and height\n",
    "split_df = annotations_df_filtered.withColumn('folder', split_cols.getItem(0))\n",
    "split_df = split_df.withColumn('filename', split_cols.getItem(1))\n",
    "split_df = split_df.withColumn('width', split_cols.getItem(2))\n",
    "split_df = split_df.withColumn('height', split_cols.getItem(3))\n",
    "\n",
    "# Add split_cols as a column\n",
    "split_df = split_df.withColumn('split_cols', split_cols)\n",
    "\n",
    "split_df.show(truncate=60)"
   ]
  },
  {
   "cell_type": "markdown",
   "id": "718dbf4c-fbff-4f69-a6bc-ea65a2ec54ce",
   "metadata": {},
   "source": [
    "## Further parsing"
   ]
  },
  {
   "cell_type": "code",
   "execution_count": 8,
   "id": "d7e4542b-7c9f-4078-a3bb-4b8422406547",
   "metadata": {
    "execution": {
     "iopub.execute_input": "2023-05-02T22:10:41.722863Z",
     "iopub.status.busy": "2023-05-02T22:10:41.722402Z",
     "iopub.status.idle": "2023-05-02T22:10:42.249874Z",
     "shell.execute_reply": "2023-05-02T22:10:42.249575Z",
     "shell.execute_reply.started": "2023-05-02T22:10:41.722847Z"
    },
    "tags": []
   },
   "outputs": [
    {
     "name": "stdout",
     "output_type": "stream",
     "text": [
      "+--------+---------------+-----+------+--------------------------------------------------------+\n",
      "|  folder|       filename|width|height|                                                dog_list|\n",
      "+--------+---------------+-----+------+--------------------------------------------------------+\n",
      "|02110627|n02110627_12938|  200|   300|                             [affenpinscher,0,9,173,298]|\n",
      "|02093754| n02093754_1148|  500|   378|                         [Border_terrier,73,127,341,335]|\n",
      "|      %s|             %s|  800|   600|                      [Shetland_sheepdog,124,87,576,514]|\n",
      "|02104029|   n02104029_63|  500|   375|                                    [kuvasz,0,0,499,327]|\n",
      "|02111500| n02111500_5137|  500|   375|                        [Great_Pyrenees,124,225,403,374]|\n",
      "|02104365| n02104365_7518|  500|   333|                             [schipperke,146,29,416,309]|\n",
      "|02105056| n02105056_2834|  500|   375|                             [groenendael,168,0,469,374]|\n",
      "|02093647|  n02093647_541|  500|   333|                      [Bedlington_terrier,10,12,462,332]|\n",
      "|02098413| n02098413_1355|  500|   375|                                    [Lhasa,39,1,499,373]|\n",
      "|02093859| n02093859_2309|  330|   500|                      [Kerry_blue_terrier,17,16,300,482]|\n",
      "|02100583|  n02100583_702|  500|   333|                                 [vizsla,112,93,276,236]|\n",
      "|02109961| n02109961_1017|  475|   500|                              [Eskimo_dog,43,20,472,461]|\n",
      "|02096177|n02096177_11642|  500|   375|                                    [cairn,71,2,319,302]|\n",
      "|02108000| n02108000_3491|  600|   450|[EntleBucher,307,94,515,448, EntleBucher,101,33,330,448]|\n",
      "|02085782| n02085782_1731|  600|   449|                         [Japanese_spaniel,23,0,598,435]|\n",
      "|02109047|  n02109047_888|  410|   368|                              [Great_Dane,51,36,355,332]|\n",
      "|02110185| n02110185_2736|  259|   500|                            [Siberian_husky,7,2,235,498]|\n",
      "|02086646| n02086646_2970|  500|   400|                        [Blenheim_spaniel,25,66,401,387]|\n",
      "|02096177| n02096177_6751|  500|   375|                                    [cairn,82,2,472,369]|\n",
      "|02098413| n02098413_1713|  500|   333|                                  [Lhasa,141,40,423,185]|\n",
      "+--------+---------------+-----+------+--------------------------------------------------------+\n",
      "only showing top 20 rows\n",
      "\n"
     ]
    }
   ],
   "source": [
    "def retriever(cols, colcount):\n",
    "  # Return a list of dog data\n",
    "  return cols[4:colcount]\n",
    "\n",
    "# Define the method as a UDF\n",
    "udfRetriever = F.udf(retriever, ArrayType(StringType()))\n",
    "\n",
    "# Create a new column using your UDF\n",
    "split_df = split_df.withColumn('dog_list', udfRetriever(split_df.split_cols, split_df.colcount))\n",
    "\n",
    "# Remove the original column, split_cols, and the colcount\n",
    "split_df = split_df.drop('_c0').drop('split_cols').drop('colcount')\n",
    "split_df.show(truncate=60)"
   ]
  },
  {
   "cell_type": "markdown",
   "id": "5f0b99d1-7672-46d7-8b43-8b76379d2c98",
   "metadata": {
    "tags": []
   },
   "source": [
    "# Data validation"
   ]
  },
  {
   "cell_type": "markdown",
   "id": "48d08b86-6d78-4ebc-8347-cbcc33ac3120",
   "metadata": {},
   "source": [
    "## Validating via joins\n",
    "* Compares data against known values\n",
    "* Easy to find data in a given set\n",
    "* Comparatively fast\n",
    "\n",
    "        parsed_df = spark.read.parquet('parsed_data.parquet')\n",
    "        company_df = spark.read.parquet('companies.parquet')\n",
    "        verified_df = parsed_df.join(company_df, parsed_df.company == company_df.company)\n",
    "        \n",
    "This automatically removes any rows with a company not in the valid_df "
   ]
  },
  {
   "cell_type": "code",
   "execution_count": 9,
   "id": "cb214713-b137-4332-9e32-557a21a76551",
   "metadata": {
    "execution": {
     "iopub.execute_input": "2023-05-02T22:10:42.250376Z",
     "iopub.status.busy": "2023-05-02T22:10:42.250265Z",
     "iopub.status.idle": "2023-05-02T22:10:42.267867Z",
     "shell.execute_reply": "2023-05-02T22:10:42.267497Z",
     "shell.execute_reply.started": "2023-05-02T22:10:42.250365Z"
    },
    "tags": []
   },
   "outputs": [],
   "source": [
    "valid_folders_df = split_df.select('folder').withColumn('folder', F.col('folder').cast('int')).filter(F.col('folder').isNotNull()).distinct()"
   ]
  },
  {
   "cell_type": "code",
   "execution_count": 10,
   "id": "54662345-92be-472e-a86a-fa600058386c",
   "metadata": {
    "execution": {
     "iopub.execute_input": "2023-05-02T22:10:42.268598Z",
     "iopub.status.busy": "2023-05-02T22:10:42.268434Z",
     "iopub.status.idle": "2023-05-02T22:10:42.592230Z",
     "shell.execute_reply": "2023-05-02T22:10:42.591641Z",
     "shell.execute_reply.started": "2023-05-02T22:10:42.268581Z"
    },
    "tags": []
   },
   "outputs": [
    {
     "name": "stdout",
     "output_type": "stream",
     "text": [
      "Before: 65\n",
      "After: 64\n"
     ]
    }
   ],
   "source": [
    "# Count the number of rows in split_df\n",
    "split_count = split_df.count()\n",
    "\n",
    "# Join the DataFrames\n",
    "joined_df = split_df.join(F.broadcast(valid_folders_df), \"folder\")\n",
    "\n",
    "# Compare the number of rows remaining\n",
    "joined_count = joined_df.count()\n",
    "print(\"Before: %d\\nAfter: %d\" % (split_count, joined_count))"
   ]
  },
  {
   "cell_type": "markdown",
   "id": "645e7767-7ebf-4c22-82dc-1daef6c52162",
   "metadata": {},
   "source": [
    "## Examining invalid rows"
   ]
  },
  {
   "cell_type": "code",
   "execution_count": 11,
   "id": "e9b1ed9b-ddce-45fb-a0ae-08d0a19f72da",
   "metadata": {
    "execution": {
     "iopub.execute_input": "2023-05-02T22:10:42.593178Z",
     "iopub.status.busy": "2023-05-02T22:10:42.592926Z",
     "iopub.status.idle": "2023-05-02T22:10:43.232538Z",
     "shell.execute_reply": "2023-05-02T22:10:43.231973Z",
     "shell.execute_reply.started": "2023-05-02T22:10:42.593155Z"
    }
   },
   "outputs": [
    {
     "name": "stdout",
     "output_type": "stream",
     "text": [
      " split_df:\t65\n",
      " joined_df:\t64\n",
      " invalid_df: \t1\n",
      "1 distinct invalid folders found\n"
     ]
    }
   ],
   "source": [
    "# Determine the row counts for each DataFrame\n",
    "split_count = split_df.count()\n",
    "joined_count = joined_df.count()\n",
    "\n",
    "# Create a DataFrame containing the invalid rows\n",
    "invalid_df = split_df.join(F.broadcast(joined_df), 'folder', 'left_anti')\n",
    "\n",
    "# Validate the count of the new DataFrame is as expected\n",
    "invalid_count = invalid_df.count()\n",
    "print(\" split_df:\\t%d\\n joined_df:\\t%d\\n invalid_df: \\t%d\" % (split_count, joined_count, invalid_count))\n",
    "\n",
    "# Determine the number of distinct folder rows removed\n",
    "invalid_folder_count = invalid_df.select('folder').distinct().count()\n",
    "print(\"%d distinct invalid folders found\" % invalid_folder_count)"
   ]
  },
  {
   "cell_type": "markdown",
   "id": "33bc192d-13cc-4d21-bb93-4b3991d3431f",
   "metadata": {},
   "source": [
    "# Final analysis and delivery"
   ]
  },
  {
   "cell_type": "markdown",
   "id": "dd326242-9ff8-40e0-9129-ec6b6916f103",
   "metadata": {},
   "source": [
    "## Analysis calculations (UDF)\n",
    "Calculations using UDF\n",
    "\n",
    "``` \n",
    "def getAvgSale(saleslist):\n",
    "    totalsales = 0\n",
    "    count = 0\n",
    "    for sale in saleslist:\n",
    "        totalsales += sale[2] + sale[3]\n",
    "    count += 2\n",
    "    return totalsales / count\n",
    "\n",
    "udfGetAvgSale = udf(getAvgSale, DoubleType())\n",
    "df = df.withColumn('avg_sale', udfGetAvgSale(df.sales_list))\n",
    "```"
   ]
  },
  {
   "cell_type": "markdown",
   "id": "e90ade64-123a-43d1-ad80-a37d4b84f5a6",
   "metadata": {},
   "source": [
    "## Analysis calculations (inline)\n",
    "Inline calculations\n",
    "\n",
    "        df = df.read.csv('datafile')\n",
    "        df = df.withColumn('avg', (df.total_sales / df.sales_count))\n",
    "        df = df.withColumn('sq_ft', df.width * df.length)\n",
    "        df = df.withColumn('total_avg_size', udfComputeTotal(df.entries) / df.numEntries)"
   ]
  },
  {
   "cell_type": "markdown",
   "id": "1ef9af3c-8d92-42cb-b18d-fc76b170b378",
   "metadata": {},
   "source": [
    "## Dog parsing"
   ]
  },
  {
   "cell_type": "code",
   "execution_count": 12,
   "id": "1da30ceb-6880-4112-82f0-3d6dd7b79984",
   "metadata": {
    "execution": {
     "iopub.execute_input": "2023-05-02T22:10:43.233264Z",
     "iopub.status.busy": "2023-05-02T22:10:43.233067Z",
     "iopub.status.idle": "2023-05-02T22:10:43.405961Z",
     "shell.execute_reply": "2023-05-02T22:10:43.405355Z",
     "shell.execute_reply.started": "2023-05-02T22:10:43.233251Z"
    },
    "tags": []
   },
   "outputs": [
    {
     "name": "stdout",
     "output_type": "stream",
     "text": [
      "+--------+---------------+-----+------+--------------------------------------------------------+\n",
      "|folder  |filename       |width|height|dog_list                                                |\n",
      "+--------+---------------+-----+------+--------------------------------------------------------+\n",
      "|02110627|n02110627_12938|200  |300   |[affenpinscher,0,9,173,298]                             |\n",
      "|02093754|n02093754_1148 |500  |378   |[Border_terrier,73,127,341,335]                         |\n",
      "|02104029|n02104029_63   |500  |375   |[kuvasz,0,0,499,327]                                    |\n",
      "|02111500|n02111500_5137 |500  |375   |[Great_Pyrenees,124,225,403,374]                        |\n",
      "|02104365|n02104365_7518 |500  |333   |[schipperke,146,29,416,309]                             |\n",
      "|02105056|n02105056_2834 |500  |375   |[groenendael,168,0,469,374]                             |\n",
      "|02093647|n02093647_541  |500  |333   |[Bedlington_terrier,10,12,462,332]                      |\n",
      "|02098413|n02098413_1355 |500  |375   |[Lhasa,39,1,499,373]                                    |\n",
      "|02093859|n02093859_2309 |330  |500   |[Kerry_blue_terrier,17,16,300,482]                      |\n",
      "|02100583|n02100583_702  |500  |333   |[vizsla,112,93,276,236]                                 |\n",
      "|02109961|n02109961_1017 |475  |500   |[Eskimo_dog,43,20,472,461]                              |\n",
      "|02096177|n02096177_11642|500  |375   |[cairn,71,2,319,302]                                    |\n",
      "|02108000|n02108000_3491 |600  |450   |[EntleBucher,307,94,515,448, EntleBucher,101,33,330,448]|\n",
      "|02085782|n02085782_1731 |600  |449   |[Japanese_spaniel,23,0,598,435]                         |\n",
      "|02109047|n02109047_888  |410  |368   |[Great_Dane,51,36,355,332]                              |\n",
      "|02110185|n02110185_2736 |259  |500   |[Siberian_husky,7,2,235,498]                            |\n",
      "|02086646|n02086646_2970 |500  |400   |[Blenheim_spaniel,25,66,401,387]                        |\n",
      "|02096177|n02096177_6751 |500  |375   |[cairn,82,2,472,369]                                    |\n",
      "|02098413|n02098413_1713 |500  |333   |[Lhasa,141,40,423,185]                                  |\n",
      "|02097130|n02097130_2135 |500  |375   |[giant_schnauzer,227,130,339,367]                       |\n",
      "+--------+---------------+-----+------+--------------------------------------------------------+\n",
      "only showing top 20 rows\n",
      "\n"
     ]
    }
   ],
   "source": [
    "# Select the dog details and show 10 untruncated rows\n",
    "joined_df.show(truncate=False)"
   ]
  },
  {
   "cell_type": "code",
   "execution_count": 13,
   "id": "6f5dac80-e0ee-4b6f-a01f-ec72a2cef7e5",
   "metadata": {
    "execution": {
     "iopub.execute_input": "2023-05-02T22:10:43.407234Z",
     "iopub.status.busy": "2023-05-02T22:10:43.407077Z",
     "iopub.status.idle": "2023-05-02T22:10:43.409422Z",
     "shell.execute_reply": "2023-05-02T22:10:43.409078Z",
     "shell.execute_reply.started": "2023-05-02T22:10:43.407221Z"
    }
   },
   "outputs": [
    {
     "name": "stdout",
     "output_type": "stream",
     "text": [
      "root\n",
      " |-- folder: string (nullable = true)\n",
      " |-- filename: string (nullable = true)\n",
      " |-- width: string (nullable = true)\n",
      " |-- height: string (nullable = true)\n",
      " |-- dog_list: array (nullable = true)\n",
      " |    |-- element: string (containsNull = true)\n",
      "\n"
     ]
    }
   ],
   "source": [
    "joined_df.printSchema()"
   ]
  },
  {
   "cell_type": "code",
   "execution_count": 14,
   "id": "c55e372c-a237-4b57-b41d-0cac19125d31",
   "metadata": {
    "execution": {
     "iopub.execute_input": "2023-05-02T22:10:43.409929Z",
     "iopub.status.busy": "2023-05-02T22:10:43.409826Z",
     "iopub.status.idle": "2023-05-02T22:10:43.414005Z",
     "shell.execute_reply": "2023-05-02T22:10:43.413648Z",
     "shell.execute_reply.started": "2023-05-02T22:10:43.409919Z"
    },
    "tags": []
   },
   "outputs": [
    {
     "data": {
      "text/plain": [
       "StructType([StructField('breed', StringType(), False), StructField('start_x', IntegerType(), False), StructField('start_y', IntegerType(), False), StructField('end_x', IntegerType(), False), StructField('end_y', IntegerType(), False)])"
      ]
     },
     "execution_count": 14,
     "metadata": {},
     "output_type": "execute_result"
    }
   ],
   "source": [
    "# Define a schema type for the details in the dog list\n",
    "DogType = StructType([\n",
    "\tStructField(\"breed\", StringType(), False),\n",
    "    StructField(\"start_x\", IntegerType(), False),\n",
    "    StructField(\"start_y\", IntegerType(), False),\n",
    "    StructField(\"end_x\", IntegerType(), False),\n",
    "    StructField(\"end_y\", IntegerType(), False)\n",
    "])\n",
    "DogType"
   ]
  },
  {
   "cell_type": "markdown",
   "id": "60ade2b1-3462-4ac5-a255-8ed85f175345",
   "metadata": {},
   "source": [
    "> If you're wondering why we didn't just define a full schema for the import, the Spark CSV parser is not capable of using complex schema types using lists."
   ]
  },
  {
   "cell_type": "markdown",
   "id": "0fa1970c-5ee0-4451-bed2-88fc8e9a6e04",
   "metadata": {},
   "source": [
    "## Per image count"
   ]
  },
  {
   "cell_type": "code",
   "execution_count": 15,
   "id": "6995f16e-b9aa-4d58-af3d-f73136670f51",
   "metadata": {
    "execution": {
     "iopub.execute_input": "2023-05-02T22:10:43.414490Z",
     "iopub.status.busy": "2023-05-02T22:10:43.414388Z",
     "iopub.status.idle": "2023-05-02T22:10:43.459838Z",
     "shell.execute_reply": "2023-05-02T22:10:43.459406Z",
     "shell.execute_reply.started": "2023-05-02T22:10:43.414480Z"
    },
    "tags": []
   },
   "outputs": [],
   "source": [
    "# Create a function to return the number and type of dogs as a tuple\n",
    "def dogParse(doglist):\n",
    "    dogs = []\n",
    "    for dog in doglist:\n",
    "        (breed, start_x, start_y, end_x, end_y) = dog.split(',')\n",
    "        dogs.append((breed, int(start_x), int(start_y), int(end_x), int(end_y)))\n",
    "    return dogs\n",
    "\n",
    "# Create a UDF\n",
    "udfDogParse = F.udf(dogParse, ArrayType(DogType))\n",
    "\n",
    "# Use the UDF to list of dogs and drop the old column\n",
    "joined_df = joined_df.withColumn('dogs', udfDogParse('dog_list')).drop('dog_list')"
   ]
  },
  {
   "cell_type": "code",
   "execution_count": 16,
   "id": "2e82d677-0c02-4e84-83f8-8ab276dd1af7",
   "metadata": {
    "execution": {
     "iopub.execute_input": "2023-05-02T22:10:43.460336Z",
     "iopub.status.busy": "2023-05-02T22:10:43.460235Z",
     "iopub.status.idle": "2023-05-02T22:10:43.648183Z",
     "shell.execute_reply": "2023-05-02T22:10:43.647752Z",
     "shell.execute_reply.started": "2023-05-02T22:10:43.460326Z"
    },
    "tags": []
   },
   "outputs": [
    {
     "name": "stdout",
     "output_type": "stream",
     "text": [
      "+--------+---------------+-----+------+--------------------------------------------------------------------+---------+\n",
      "|folder  |filename       |width|height|dogs                                                                |dog_count|\n",
      "+--------+---------------+-----+------+--------------------------------------------------------------------+---------+\n",
      "|02110627|n02110627_12938|200  |300   |[{affenpinscher, 0, 9, 173, 298}]                                   |1        |\n",
      "|02093754|n02093754_1148 |500  |378   |[{Border_terrier, 73, 127, 341, 335}]                               |1        |\n",
      "|02104029|n02104029_63   |500  |375   |[{kuvasz, 0, 0, 499, 327}]                                          |1        |\n",
      "|02111500|n02111500_5137 |500  |375   |[{Great_Pyrenees, 124, 225, 403, 374}]                              |1        |\n",
      "|02104365|n02104365_7518 |500  |333   |[{schipperke, 146, 29, 416, 309}]                                   |1        |\n",
      "|02105056|n02105056_2834 |500  |375   |[{groenendael, 168, 0, 469, 374}]                                   |1        |\n",
      "|02093647|n02093647_541  |500  |333   |[{Bedlington_terrier, 10, 12, 462, 332}]                            |1        |\n",
      "|02098413|n02098413_1355 |500  |375   |[{Lhasa, 39, 1, 499, 373}]                                          |1        |\n",
      "|02093859|n02093859_2309 |330  |500   |[{Kerry_blue_terrier, 17, 16, 300, 482}]                            |1        |\n",
      "|02100583|n02100583_702  |500  |333   |[{vizsla, 112, 93, 276, 236}]                                       |1        |\n",
      "|02109961|n02109961_1017 |475  |500   |[{Eskimo_dog, 43, 20, 472, 461}]                                    |1        |\n",
      "|02096177|n02096177_11642|500  |375   |[{cairn, 71, 2, 319, 302}]                                          |1        |\n",
      "|02108000|n02108000_3491 |600  |450   |[{EntleBucher, 307, 94, 515, 448}, {EntleBucher, 101, 33, 330, 448}]|2        |\n",
      "|02085782|n02085782_1731 |600  |449   |[{Japanese_spaniel, 23, 0, 598, 435}]                               |1        |\n",
      "|02109047|n02109047_888  |410  |368   |[{Great_Dane, 51, 36, 355, 332}]                                    |1        |\n",
      "|02110185|n02110185_2736 |259  |500   |[{Siberian_husky, 7, 2, 235, 498}]                                  |1        |\n",
      "|02086646|n02086646_2970 |500  |400   |[{Blenheim_spaniel, 25, 66, 401, 387}]                              |1        |\n",
      "|02096177|n02096177_6751 |500  |375   |[{cairn, 82, 2, 472, 369}]                                          |1        |\n",
      "|02098413|n02098413_1713 |500  |333   |[{Lhasa, 141, 40, 423, 185}]                                        |1        |\n",
      "|02097130|n02097130_2135 |500  |375   |[{giant_schnauzer, 227, 130, 339, 367}]                             |1        |\n",
      "+--------+---------------+-----+------+--------------------------------------------------------------------+---------+\n",
      "only showing top 20 rows\n",
      "\n"
     ]
    }
   ],
   "source": [
    "# Show the number of dogs in the first 10 rows\n",
    "joined_df.withColumn('dog_count', F.size('dogs')).show(truncate=False)"
   ]
  },
  {
   "cell_type": "code",
   "execution_count": 17,
   "id": "42d97bbc-c5b4-497a-a03d-e27c875da69a",
   "metadata": {
    "execution": {
     "iopub.execute_input": "2023-05-02T22:10:43.648766Z",
     "iopub.status.busy": "2023-05-02T22:10:43.648644Z",
     "iopub.status.idle": "2023-05-02T22:10:43.651431Z",
     "shell.execute_reply": "2023-05-02T22:10:43.651057Z",
     "shell.execute_reply.started": "2023-05-02T22:10:43.648754Z"
    },
    "tags": []
   },
   "outputs": [
    {
     "name": "stdout",
     "output_type": "stream",
     "text": [
      "root\n",
      " |-- folder: string (nullable = true)\n",
      " |-- filename: string (nullable = true)\n",
      " |-- width: string (nullable = true)\n",
      " |-- height: string (nullable = true)\n",
      " |-- dogs: array (nullable = true)\n",
      " |    |-- element: struct (containsNull = true)\n",
      " |    |    |-- breed: string (nullable = false)\n",
      " |    |    |-- start_x: integer (nullable = false)\n",
      " |    |    |-- start_y: integer (nullable = false)\n",
      " |    |    |-- end_x: integer (nullable = false)\n",
      " |    |    |-- end_y: integer (nullable = false)\n",
      "\n"
     ]
    }
   ],
   "source": [
    "joined_df.printSchema()"
   ]
  },
  {
   "cell_type": "code",
   "execution_count": 18,
   "id": "3bc30dca-13d0-46fd-82c9-044949c86b53",
   "metadata": {
    "execution": {
     "iopub.execute_input": "2023-05-02T22:10:43.652006Z",
     "iopub.status.busy": "2023-05-02T22:10:43.651896Z",
     "iopub.status.idle": "2023-05-02T22:10:43.846310Z",
     "shell.execute_reply": "2023-05-02T22:10:43.845817Z",
     "shell.execute_reply.started": "2023-05-02T22:10:43.651995Z"
    },
    "tags": []
   },
   "outputs": [
    {
     "name": "stdout",
     "output_type": "stream",
     "text": [
      "+--------+---------------+-----+------+--------------------------------------------------------------------+\n",
      "|folder  |filename       |width|height|dogs                                                                |\n",
      "+--------+---------------+-----+------+--------------------------------------------------------------------+\n",
      "|02110627|n02110627_12938|200  |300   |[{affenpinscher, 0, 9, 173, 298}]                                   |\n",
      "|02093754|n02093754_1148 |500  |378   |[{Border_terrier, 73, 127, 341, 335}]                               |\n",
      "|02104029|n02104029_63   |500  |375   |[{kuvasz, 0, 0, 499, 327}]                                          |\n",
      "|02111500|n02111500_5137 |500  |375   |[{Great_Pyrenees, 124, 225, 403, 374}]                              |\n",
      "|02104365|n02104365_7518 |500  |333   |[{schipperke, 146, 29, 416, 309}]                                   |\n",
      "|02105056|n02105056_2834 |500  |375   |[{groenendael, 168, 0, 469, 374}]                                   |\n",
      "|02093647|n02093647_541  |500  |333   |[{Bedlington_terrier, 10, 12, 462, 332}]                            |\n",
      "|02098413|n02098413_1355 |500  |375   |[{Lhasa, 39, 1, 499, 373}]                                          |\n",
      "|02093859|n02093859_2309 |330  |500   |[{Kerry_blue_terrier, 17, 16, 300, 482}]                            |\n",
      "|02100583|n02100583_702  |500  |333   |[{vizsla, 112, 93, 276, 236}]                                       |\n",
      "|02109961|n02109961_1017 |475  |500   |[{Eskimo_dog, 43, 20, 472, 461}]                                    |\n",
      "|02096177|n02096177_11642|500  |375   |[{cairn, 71, 2, 319, 302}]                                          |\n",
      "|02108000|n02108000_3491 |600  |450   |[{EntleBucher, 307, 94, 515, 448}, {EntleBucher, 101, 33, 330, 448}]|\n",
      "|02085782|n02085782_1731 |600  |449   |[{Japanese_spaniel, 23, 0, 598, 435}]                               |\n",
      "|02109047|n02109047_888  |410  |368   |[{Great_Dane, 51, 36, 355, 332}]                                    |\n",
      "|02110185|n02110185_2736 |259  |500   |[{Siberian_husky, 7, 2, 235, 498}]                                  |\n",
      "|02086646|n02086646_2970 |500  |400   |[{Blenheim_spaniel, 25, 66, 401, 387}]                              |\n",
      "|02096177|n02096177_6751 |500  |375   |[{cairn, 82, 2, 472, 369}]                                          |\n",
      "|02098413|n02098413_1713 |500  |333   |[{Lhasa, 141, 40, 423, 185}]                                        |\n",
      "|02097130|n02097130_2135 |500  |375   |[{giant_schnauzer, 227, 130, 339, 367}]                             |\n",
      "+--------+---------------+-----+------+--------------------------------------------------------------------+\n",
      "only showing top 20 rows\n",
      "\n"
     ]
    }
   ],
   "source": [
    "joined_df.show(truncate=False)"
   ]
  },
  {
   "cell_type": "markdown",
   "id": "4befcd8f-24b1-40ab-bf89-d99de7d1c89f",
   "metadata": {},
   "source": [
    "## Percentage dog pixels"
   ]
  },
  {
   "cell_type": "code",
   "execution_count": 19,
   "id": "22ec35a6-5f6e-43b3-abb3-b17b631c6499",
   "metadata": {
    "execution": {
     "iopub.execute_input": "2023-05-02T22:10:43.846882Z",
     "iopub.status.busy": "2023-05-02T22:10:43.846757Z",
     "iopub.status.idle": "2023-05-02T22:10:44.134398Z",
     "shell.execute_reply": "2023-05-02T22:10:44.133921Z",
     "shell.execute_reply.started": "2023-05-02T22:10:43.846866Z"
    },
    "tags": []
   },
   "outputs": [
    {
     "name": "stdout",
     "output_type": "stream",
     "text": [
      "+--------+---------------+-----+------+--------------------+----------+-----------------+\n",
      "|  folder|       filename|width|height|                dogs|dog_pixels|      dog_percent|\n",
      "+--------+---------------+-----+------+--------------------+----------+-----------------+\n",
      "|02110627|n02110627_12938|  200|   300|[{affenpinscher, ...|     49997|83.32833333333333|\n",
      "|02104029|   n02104029_63|  500|   375|[{kuvasz, 0, 0, 4...|    163173|          87.0256|\n",
      "|02105056| n02105056_2834|  500|   375|[{groenendael, 16...|    112574|60.03946666666666|\n",
      "|02093647|  n02093647_541|  500|   333|[{Bedlington_terr...|    144640|86.87087087087087|\n",
      "|02098413| n02098413_1355|  500|   375|[{Lhasa, 39, 1, 4...|    171120|           91.264|\n",
      "|02093859| n02093859_2309|  330|   500|[{Kerry_blue_terr...|    131878|79.92606060606062|\n",
      "|02109961| n02109961_1017|  475|   500|[{Eskimo_dog, 43,...|    189189|79.65852631578947|\n",
      "|02108000| n02108000_3491|  600|   450|[{EntleBucher, 30...|    168667|62.46925925925926|\n",
      "|02085782| n02085782_1731|  600|   449|[{Japanese_spanie...|    250125|92.84521158129176|\n",
      "|02110185| n02110185_2736|  259|   500|[{Siberian_husky,...|    113088|87.32664092664093|\n",
      "+--------+---------------+-----+------+--------------------+----------+-----------------+\n",
      "only showing top 10 rows\n",
      "\n"
     ]
    }
   ],
   "source": [
    "# Define a UDF to determine the number of pixels per image\n",
    "def dogPixelCount(doglist):\n",
    "    totalpixels = 0\n",
    "    for dog in doglist:\n",
    "        totalpixels += (dog[3] - dog[1]) * (dog[4] - dog[2])\n",
    "    return totalpixels\n",
    "\n",
    "# Define a UDF for the pixel count\n",
    "udfDogPixelCount = F.udf(dogPixelCount, IntegerType())\n",
    "joined_df = joined_df.withColumn('dog_pixels', udfDogPixelCount('dogs'))\n",
    "\n",
    "# Create a column representing the percentage of pixels\n",
    "joined_df = joined_df.withColumn('dog_percent', (joined_df.dog_pixels / (joined_df.width * joined_df.height)) * 100)\n",
    "\n",
    "joined_df.where('dog_percent > 60').show(10)"
   ]
  }
 ],
 "metadata": {
  "kernelspec": {
   "display_name": "Python 3 (ipykernel)",
   "language": "python",
   "name": "python3"
  },
  "language_info": {
   "codemirror_mode": {
    "name": "ipython",
    "version": 3
   },
   "file_extension": ".py",
   "mimetype": "text/x-python",
   "name": "python",
   "nbconvert_exporter": "python",
   "pygments_lexer": "ipython3",
   "version": "3.10.10"
  },
  "toc-autonumbering": true,
  "toc-showcode": false,
  "toc-showmarkdowntxt": false
 },
 "nbformat": 4,
 "nbformat_minor": 5
}
