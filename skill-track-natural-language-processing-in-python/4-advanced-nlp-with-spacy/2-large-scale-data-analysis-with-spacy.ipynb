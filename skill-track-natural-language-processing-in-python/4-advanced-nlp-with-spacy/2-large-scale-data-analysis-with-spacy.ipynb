{
 "cells": [
  {
   "cell_type": "markdown",
   "id": "a786c2ce-66a8-4a63-b762-7da127f2a1d8",
   "metadata": {},
   "source": [
    "# Data Structures: Vocab, Lexemes and StringStore"
   ]
  },
  {
   "cell_type": "markdown",
   "id": "d9d016e7-9063-4467-85b0-7657ca268098",
   "metadata": {},
   "source": [
    "## Shared vocab and string store"
   ]
  },
  {
   "cell_type": "code",
   "execution_count": 1,
   "id": "3d61ea25-5bc0-4b6f-818e-391ddb45237f",
   "metadata": {
    "execution": {
     "iopub.execute_input": "2022-12-28T14:19:40.478490Z",
     "iopub.status.busy": "2022-12-28T14:19:40.478407Z",
     "iopub.status.idle": "2022-12-28T14:19:43.462654Z",
     "shell.execute_reply": "2022-12-28T14:19:43.462354Z",
     "shell.execute_reply.started": "2022-12-28T14:19:40.478480Z"
    },
    "tags": []
   },
   "outputs": [
    {
     "data": {
      "text/plain": [
       "('en', 'core_web_md')"
      ]
     },
     "execution_count": 1,
     "metadata": {},
     "output_type": "execute_result"
    }
   ],
   "source": [
    "import spacy\n",
    "\n",
    "nlp = spacy.load(\"en_core_web_md\")\n",
    "nlp.meta[\"lang\"], nlp.meta[\"name\"]"
   ]
  },
  {
   "cell_type": "markdown",
   "id": "4937eef1-bfee-4f1d-a64c-9ddf0dbfe33d",
   "metadata": {
    "execution": {
     "iopub.execute_input": "2022-12-28T01:00:00.760790Z",
     "iopub.status.busy": "2022-12-28T01:00:00.760652Z",
     "iopub.status.idle": "2022-12-28T01:00:00.763270Z",
     "shell.execute_reply": "2022-12-28T01:00:00.763016Z",
     "shell.execute_reply.started": "2022-12-28T01:00:00.760779Z"
    }
   },
   "source": [
    "### nlp object (spacy.lang.en.English)"
   ]
  },
  {
   "cell_type": "code",
   "execution_count": 2,
   "id": "f8d1048d-4dff-4f48-a00f-87c31fb54c2d",
   "metadata": {
    "execution": {
     "iopub.execute_input": "2022-12-28T14:19:43.463465Z",
     "iopub.status.busy": "2022-12-28T14:19:43.463322Z",
     "iopub.status.idle": "2022-12-28T14:19:43.465790Z",
     "shell.execute_reply": "2022-12-28T14:19:43.465495Z",
     "shell.execute_reply.started": "2022-12-28T14:19:43.463454Z"
    },
    "tags": []
   },
   "outputs": [
    {
     "data": {
      "text/plain": [
       "spacy.lang.en.English"
      ]
     },
     "execution_count": 2,
     "metadata": {},
     "output_type": "execute_result"
    }
   ],
   "source": [
    "type(nlp)"
   ]
  },
  {
   "cell_type": "code",
   "execution_count": 3,
   "id": "a54a15a1-f925-4162-8d9f-fc2c47490ab8",
   "metadata": {
    "execution": {
     "iopub.execute_input": "2022-12-28T14:19:43.466270Z",
     "iopub.status.busy": "2022-12-28T14:19:43.466166Z",
     "iopub.status.idle": "2022-12-28T14:19:43.468519Z",
     "shell.execute_reply": "2022-12-28T14:19:43.468240Z",
     "shell.execute_reply.started": "2022-12-28T14:19:43.466261Z"
    },
    "tags": []
   },
   "outputs": [
    {
     "data": {
      "text/plain": [
       "3197928453018144401"
      ]
     },
     "execution_count": 3,
     "metadata": {},
     "output_type": "execute_result"
    }
   ],
   "source": [
    "coffee_hash = nlp.vocab.strings[\"coffee\"]\n",
    "coffee_hash"
   ]
  },
  {
   "cell_type": "code",
   "execution_count": 4,
   "id": "2d3de4ff-187c-4e4d-824d-ba14b0f88f16",
   "metadata": {
    "execution": {
     "iopub.execute_input": "2022-12-28T14:19:43.468997Z",
     "iopub.status.busy": "2022-12-28T14:19:43.468892Z",
     "iopub.status.idle": "2022-12-28T14:19:43.471439Z",
     "shell.execute_reply": "2022-12-28T14:19:43.470979Z",
     "shell.execute_reply.started": "2022-12-28T14:19:43.468988Z"
    },
    "tags": []
   },
   "outputs": [
    {
     "data": {
      "text/plain": [
       "'coffee'"
      ]
     },
     "execution_count": 4,
     "metadata": {},
     "output_type": "execute_result"
    }
   ],
   "source": [
    "coffee_string = nlp.vocab.strings[coffee_hash]\n",
    "coffee_string"
   ]
  },
  {
   "cell_type": "markdown",
   "id": "bdc230a0-b8b9-4511-8758-8ae3a07f031e",
   "metadata": {},
   "source": [
    "### doc object (spacy.tokens.doc.Doc)"
   ]
  },
  {
   "cell_type": "code",
   "execution_count": 5,
   "id": "99494cee-aa8d-44f6-bf4d-ecd749c6286e",
   "metadata": {
    "execution": {
     "iopub.execute_input": "2022-12-28T14:19:43.472148Z",
     "iopub.status.busy": "2022-12-28T14:19:43.471986Z",
     "iopub.status.idle": "2022-12-28T14:19:43.479064Z",
     "shell.execute_reply": "2022-12-28T14:19:43.478826Z",
     "shell.execute_reply.started": "2022-12-28T14:19:43.472133Z"
    },
    "tags": []
   },
   "outputs": [
    {
     "data": {
      "text/plain": [
       "spacy.tokens.doc.Doc"
      ]
     },
     "execution_count": 5,
     "metadata": {},
     "output_type": "execute_result"
    }
   ],
   "source": [
    "doc = nlp(\"I love coffee\")\n",
    "type(doc)"
   ]
  },
  {
   "cell_type": "code",
   "execution_count": 6,
   "id": "ad0ff1fd-dff3-4b2c-8891-f6ecbfdae32e",
   "metadata": {
    "execution": {
     "iopub.execute_input": "2022-12-28T14:19:43.479522Z",
     "iopub.status.busy": "2022-12-28T14:19:43.479425Z",
     "iopub.status.idle": "2022-12-28T14:19:43.481356Z",
     "shell.execute_reply": "2022-12-28T14:19:43.481102Z",
     "shell.execute_reply.started": "2022-12-28T14:19:43.479512Z"
    },
    "tags": []
   },
   "outputs": [
    {
     "name": "stdout",
     "output_type": "stream",
     "text": [
      "hash value: 3197928453018144401\n"
     ]
    }
   ],
   "source": [
    "coffee_hash = doc.vocab.strings[\"coffee\"]\n",
    "print(\"hash value:\", coffee_hash)"
   ]
  },
  {
   "cell_type": "code",
   "execution_count": 7,
   "id": "eee0a9dc-f0ed-49a2-b240-f7ee512cca0d",
   "metadata": {
    "execution": {
     "iopub.execute_input": "2022-12-28T14:19:43.482573Z",
     "iopub.status.busy": "2022-12-28T14:19:43.482467Z",
     "iopub.status.idle": "2022-12-28T14:19:43.484442Z",
     "shell.execute_reply": "2022-12-28T14:19:43.484180Z",
     "shell.execute_reply.started": "2022-12-28T14:19:43.482564Z"
    },
    "tags": []
   },
   "outputs": [
    {
     "name": "stdout",
     "output_type": "stream",
     "text": [
      "hash string: coffee\n"
     ]
    }
   ],
   "source": [
    "print(\"hash string:\", doc.vocab.strings[coffee_hash])"
   ]
  },
  {
   "cell_type": "markdown",
   "id": "ee498b99-96e6-458f-9c16-033d21e9faa1",
   "metadata": {},
   "source": [
    "## Lexemes: entries in vocabulary"
   ]
  },
  {
   "cell_type": "code",
   "execution_count": 8,
   "id": "577b3208-17c4-4485-8b43-d49559223d41",
   "metadata": {
    "execution": {
     "iopub.execute_input": "2022-12-28T14:19:43.484922Z",
     "iopub.status.busy": "2022-12-28T14:19:43.484821Z",
     "iopub.status.idle": "2022-12-28T14:19:43.490096Z",
     "shell.execute_reply": "2022-12-28T14:19:43.489845Z",
     "shell.execute_reply.started": "2022-12-28T14:19:43.484912Z"
    },
    "tags": []
   },
   "outputs": [
    {
     "name": "stdout",
     "output_type": "stream",
     "text": [
      "coffee 3197928453018144401 True\n"
     ]
    }
   ],
   "source": [
    "doc = nlp(\"I love coffee\")\n",
    "lexeme = nlp.vocab[\"coffee\"]\n",
    "# print the lexical attributes: word text, the hash, lexical attributes\n",
    "print(lexeme.text, lexeme.orth, lexeme.is_alpha)"
   ]
  },
  {
   "cell_type": "markdown",
   "id": "7b6cde84-0b22-420c-9d9a-f593c03f4863",
   "metadata": {},
   "source": [
    "No context-dependent part-of-speech tags, dependencies or entity labels"
   ]
  },
  {
   "cell_type": "markdown",
   "id": "bc7f2e3d-d12f-4dd5-b681-92af7e3e6e58",
   "metadata": {},
   "source": [
    "# Data Structures: Doc, Span and Token"
   ]
  },
  {
   "cell_type": "markdown",
   "id": "64867453-3f6b-4fba-8fcc-a26324d2fd87",
   "metadata": {},
   "source": [
    "## The Doc object"
   ]
  },
  {
   "cell_type": "code",
   "execution_count": 9,
   "id": "b5bf6cf9-2cf4-484b-8c91-6443ee048ce2",
   "metadata": {
    "execution": {
     "iopub.execute_input": "2022-12-28T14:19:43.490542Z",
     "iopub.status.busy": "2022-12-28T14:19:43.490446Z",
     "iopub.status.idle": "2022-12-28T14:19:43.555122Z",
     "shell.execute_reply": "2022-12-28T14:19:43.554700Z",
     "shell.execute_reply.started": "2022-12-28T14:19:43.490532Z"
    }
   },
   "outputs": [],
   "source": [
    "# Create an nlp object\n",
    "from spacy.lang.en import English\n",
    "\n",
    "nlp = English()\n",
    "# Import the Doc class\n",
    "from spacy.tokens import Doc\n",
    "\n",
    "# The words and spaces to create the doc from\n",
    "words = [\"Hello\", \"world\", \"!\"]\n",
    "spaces = [True, False, False]\n",
    "# Create a doc manually\n",
    "doc = Doc(nlp.vocab, words=words, spaces=spaces)"
   ]
  },
  {
   "cell_type": "code",
   "execution_count": 10,
   "id": "3659a1e6-7e4d-44e8-bbf3-1a54d2a385f8",
   "metadata": {
    "execution": {
     "iopub.execute_input": "2022-12-28T14:19:43.555598Z",
     "iopub.status.busy": "2022-12-28T14:19:43.555497Z",
     "iopub.status.idle": "2022-12-28T14:19:43.557905Z",
     "shell.execute_reply": "2022-12-28T14:19:43.557529Z",
     "shell.execute_reply.started": "2022-12-28T14:19:43.555588Z"
    },
    "tags": []
   },
   "outputs": [
    {
     "data": {
      "text/plain": [
       "'Hello world!'"
      ]
     },
     "execution_count": 10,
     "metadata": {},
     "output_type": "execute_result"
    }
   ],
   "source": [
    "doc.text"
   ]
  },
  {
   "cell_type": "markdown",
   "id": "13af2f7e-b801-4e9a-9254-f200acd56a70",
   "metadata": {},
   "source": [
    "## The Span object"
   ]
  },
  {
   "cell_type": "code",
   "execution_count": 11,
   "id": "e719ebba-4f53-4e73-a055-4759f51a1450",
   "metadata": {
    "execution": {
     "iopub.execute_input": "2022-12-28T14:19:43.558345Z",
     "iopub.status.busy": "2022-12-28T14:19:43.558247Z",
     "iopub.status.idle": "2022-12-28T14:19:43.559958Z",
     "shell.execute_reply": "2022-12-28T14:19:43.559717Z",
     "shell.execute_reply.started": "2022-12-28T14:19:43.558336Z"
    },
    "tags": []
   },
   "outputs": [],
   "source": [
    "# Import the Doc and Span classes\n",
    "from spacy.tokens import Doc, Span"
   ]
  },
  {
   "cell_type": "code",
   "execution_count": 12,
   "id": "e2e8680b-7181-422e-b02b-58286d4e5909",
   "metadata": {
    "execution": {
     "iopub.execute_input": "2022-12-28T14:19:43.560436Z",
     "iopub.status.busy": "2022-12-28T14:19:43.560331Z",
     "iopub.status.idle": "2022-12-28T14:19:43.562736Z",
     "shell.execute_reply": "2022-12-28T14:19:43.562429Z",
     "shell.execute_reply.started": "2022-12-28T14:19:43.560426Z"
    },
    "tags": []
   },
   "outputs": [],
   "source": [
    "# The words and spaces to create the doc from\n",
    "words = [\"Hello\", \"world\", \"!\"]\n",
    "spaces = [True, False, False]\n",
    "# Create a doc manually\n",
    "doc = Doc(nlp.vocab, words=words, spaces=spaces)\n",
    "# Create a span manually\n",
    "span = Span(doc, 0, 2)\n",
    "# Create a span with an entity label\n",
    "span_with_label = Span(doc, 0, 2, label=\"GREETING\")\n",
    "# Add span to the doc.ents\n",
    "doc.ents = [span_with_label]"
   ]
  },
  {
   "cell_type": "code",
   "execution_count": 13,
   "id": "620f109b-c3b2-49e4-a4f5-d8958964057e",
   "metadata": {
    "execution": {
     "iopub.execute_input": "2022-12-28T14:19:43.563222Z",
     "iopub.status.busy": "2022-12-28T14:19:43.563098Z",
     "iopub.status.idle": "2022-12-28T14:19:43.565715Z",
     "shell.execute_reply": "2022-12-28T14:19:43.565443Z",
     "shell.execute_reply.started": "2022-12-28T14:19:43.563212Z"
    },
    "tags": []
   },
   "outputs": [
    {
     "data": {
      "text/plain": [
       "('Hello world', '')"
      ]
     },
     "execution_count": 13,
     "metadata": {},
     "output_type": "execute_result"
    }
   ],
   "source": [
    "span.text, span.label_"
   ]
  },
  {
   "cell_type": "code",
   "execution_count": 14,
   "id": "da0dce18-2269-4b42-9d98-68e30d3a90c3",
   "metadata": {
    "execution": {
     "iopub.execute_input": "2022-12-28T14:19:43.566196Z",
     "iopub.status.busy": "2022-12-28T14:19:43.566091Z",
     "iopub.status.idle": "2022-12-28T14:19:43.568384Z",
     "shell.execute_reply": "2022-12-28T14:19:43.568120Z",
     "shell.execute_reply.started": "2022-12-28T14:19:43.566186Z"
    },
    "tags": []
   },
   "outputs": [
    {
     "data": {
      "text/plain": [
       "('Hello world', 'GREETING')"
      ]
     },
     "execution_count": 14,
     "metadata": {},
     "output_type": "execute_result"
    }
   ],
   "source": [
    "span_with_label.text, span_with_label.label_"
   ]
  },
  {
   "cell_type": "code",
   "execution_count": 15,
   "id": "9bf66080-4618-42da-8d58-01c18c3fb468",
   "metadata": {
    "execution": {
     "iopub.execute_input": "2022-12-28T14:19:43.568845Z",
     "iopub.status.busy": "2022-12-28T14:19:43.568739Z",
     "iopub.status.idle": "2022-12-28T14:19:43.571181Z",
     "shell.execute_reply": "2022-12-28T14:19:43.570912Z",
     "shell.execute_reply.started": "2022-12-28T14:19:43.568836Z"
    },
    "tags": []
   },
   "outputs": [
    {
     "data": {
      "text/plain": [
       "{'Hello world': 'GREETING'}"
      ]
     },
     "execution_count": 15,
     "metadata": {},
     "output_type": "execute_result"
    }
   ],
   "source": [
    "{e.text: e.label_ for e in doc.ents}"
   ]
  },
  {
   "cell_type": "markdown",
   "id": "ebaf3d77-ad93-4f57-8433-243ce9eba838",
   "metadata": {},
   "source": [
    "## Data structures best practices"
   ]
  },
  {
   "cell_type": "code",
   "execution_count": 16,
   "id": "7bc1d8ca-e8c2-47db-bc39-8a74eab7e31a",
   "metadata": {
    "execution": {
     "iopub.execute_input": "2022-12-28T14:19:43.571597Z",
     "iopub.status.busy": "2022-12-28T14:19:43.571499Z",
     "iopub.status.idle": "2022-12-28T14:19:44.178263Z",
     "shell.execute_reply": "2022-12-28T14:19:44.177930Z",
     "shell.execute_reply.started": "2022-12-28T14:19:43.571588Z"
    },
    "tags": []
   },
   "outputs": [],
   "source": [
    "nlp = spacy.load(\"en_core_web_md\")\n",
    "doc = nlp(\"Berlin is a nice city\")"
   ]
  },
  {
   "cell_type": "markdown",
   "id": "6c42c375-893d-4853-b1ef-f1b701fa5abe",
   "metadata": {},
   "source": [
    "### Bad code"
   ]
  },
  {
   "cell_type": "code",
   "execution_count": 17,
   "id": "e70f424e-c03d-4164-9b50-4fdc4b410d0a",
   "metadata": {
    "execution": {
     "iopub.execute_input": "2022-12-28T14:19:44.178743Z",
     "iopub.status.busy": "2022-12-28T14:19:44.178646Z",
     "iopub.status.idle": "2022-12-28T14:19:44.181261Z",
     "shell.execute_reply": "2022-12-28T14:19:44.180874Z",
     "shell.execute_reply.started": "2022-12-28T14:19:44.178734Z"
    },
    "tags": []
   },
   "outputs": [
    {
     "name": "stdout",
     "output_type": "stream",
     "text": [
      "Found a verb after a proper noun!\n"
     ]
    }
   ],
   "source": [
    "# Get all tokens and part-of-speech tags\n",
    "pos_tags = [token.pos_ for token in doc]\n",
    "for index, pos in enumerate(pos_tags):\n",
    "    # Check if the current token is a proper noun\n",
    "    if pos == \"PROPN\":\n",
    "        # Check if the next token is a verb\n",
    "        if pos_tags[index + 1] in (\"VERB\", \"AUX\"):\n",
    "            print(\"Found a verb after a proper noun!\")"
   ]
  },
  {
   "cell_type": "markdown",
   "id": "13a96248-4b61-4314-b371-af650d1726cc",
   "metadata": {
    "execution": {
     "iopub.execute_input": "2022-12-28T01:43:05.614267Z",
     "iopub.status.busy": "2022-12-28T01:43:05.614132Z",
     "iopub.status.idle": "2022-12-28T01:43:05.616841Z",
     "shell.execute_reply": "2022-12-28T01:43:05.616439Z",
     "shell.execute_reply.started": "2022-12-28T01:43:05.614256Z"
    }
   },
   "source": [
    "### Good code"
   ]
  },
  {
   "cell_type": "code",
   "execution_count": 18,
   "id": "3ff5f0e3-de5c-425f-8d88-3ba8206bc2a6",
   "metadata": {
    "execution": {
     "iopub.execute_input": "2022-12-28T14:19:44.181726Z",
     "iopub.status.busy": "2022-12-28T14:19:44.181625Z",
     "iopub.status.idle": "2022-12-28T14:19:44.183788Z",
     "shell.execute_reply": "2022-12-28T14:19:44.183523Z",
     "shell.execute_reply.started": "2022-12-28T14:19:44.181716Z"
    },
    "tags": []
   },
   "outputs": [
    {
     "name": "stdout",
     "output_type": "stream",
     "text": [
      "Found a verb after a proper noun!\n"
     ]
    }
   ],
   "source": [
    "for token in doc:\n",
    "    # Check if the current token is a proper noun\n",
    "    if token.pos_ == \"PROPN\":\n",
    "        # Check if the next token is a verb\n",
    "        if doc[token.i + 1].pos_ in (\"VERB\", \"AUX\"):\n",
    "            print(\"Found a verb after a proper noun!\")"
   ]
  },
  {
   "cell_type": "markdown",
   "id": "fd71525c-3f17-4642-b7ba-073b09c90e17",
   "metadata": {
    "tags": []
   },
   "source": [
    "## Word vectors and semantic similarity"
   ]
  },
  {
   "cell_type": "markdown",
   "id": "af87d5af-19e0-4b03-b076-079541487d4e",
   "metadata": {
    "execution": {
     "iopub.execute_input": "2022-12-28T02:09:01.356857Z",
     "iopub.status.busy": "2022-12-28T02:09:01.356714Z",
     "iopub.status.idle": "2022-12-28T02:09:01.945150Z",
     "shell.execute_reply": "2022-12-28T02:09:01.944753Z",
     "shell.execute_reply.started": "2022-12-28T02:09:01.356846Z"
    }
   },
   "source": [
    "### Compare two documents"
   ]
  },
  {
   "cell_type": "code",
   "execution_count": 19,
   "id": "c5442d5a-0c44-48cd-831f-1e4ab8c0a857",
   "metadata": {
    "execution": {
     "iopub.execute_input": "2022-12-28T14:19:44.184230Z",
     "iopub.status.busy": "2022-12-28T14:19:44.184130Z",
     "iopub.status.idle": "2022-12-28T14:19:44.192862Z",
     "shell.execute_reply": "2022-12-28T14:19:44.192567Z",
     "shell.execute_reply.started": "2022-12-28T14:19:44.184220Z"
    }
   },
   "outputs": [
    {
     "data": {
      "text/plain": [
       "0.869833325851152"
      ]
     },
     "execution_count": 19,
     "metadata": {},
     "output_type": "execute_result"
    }
   ],
   "source": [
    "doc1 = nlp(\"I like fast food\")\n",
    "doc2 = nlp(\"I like pizza\")\n",
    "doc1.similarity(doc2)"
   ]
  },
  {
   "cell_type": "markdown",
   "id": "31cb6572-dcba-42ab-96ca-3d5e1339cbaf",
   "metadata": {
    "execution": {
     "iopub.execute_input": "2022-12-28T02:09:06.300825Z",
     "iopub.status.busy": "2022-12-28T02:09:06.300609Z",
     "iopub.status.idle": "2022-12-28T02:09:06.309651Z",
     "shell.execute_reply": "2022-12-28T02:09:06.309191Z",
     "shell.execute_reply.started": "2022-12-28T02:09:06.300806Z"
    }
   },
   "source": [
    "### Compare two tokens"
   ]
  },
  {
   "cell_type": "code",
   "execution_count": 20,
   "id": "c0173c19-15c4-469f-9081-b5d1c70f41eb",
   "metadata": {
    "execution": {
     "iopub.execute_input": "2022-12-28T14:19:44.193358Z",
     "iopub.status.busy": "2022-12-28T14:19:44.193231Z",
     "iopub.status.idle": "2022-12-28T14:19:44.199309Z",
     "shell.execute_reply": "2022-12-28T14:19:44.198904Z",
     "shell.execute_reply.started": "2022-12-28T14:19:44.193348Z"
    }
   },
   "outputs": [
    {
     "data": {
      "text/plain": [
       "0.6850197911262512"
      ]
     },
     "execution_count": 20,
     "metadata": {},
     "output_type": "execute_result"
    }
   ],
   "source": [
    "doc = nlp(\"I like pizza and pasta\")\n",
    "token1 = doc[2]\n",
    "token2 = doc[4]\n",
    "token1.similarity(token2)"
   ]
  },
  {
   "cell_type": "markdown",
   "id": "b1449453-c2ed-48be-9a5c-7a4984e6187a",
   "metadata": {},
   "source": [
    "### Compare a document with a token"
   ]
  },
  {
   "cell_type": "code",
   "execution_count": 21,
   "id": "8669c5d6-2a42-41e8-b1b6-c218234df492",
   "metadata": {
    "execution": {
     "iopub.execute_input": "2022-12-28T14:19:44.199797Z",
     "iopub.status.busy": "2022-12-28T14:19:44.199691Z",
     "iopub.status.idle": "2022-12-28T14:19:44.208531Z",
     "shell.execute_reply": "2022-12-28T14:19:44.208280Z",
     "shell.execute_reply.started": "2022-12-28T14:19:44.199787Z"
    },
    "tags": []
   },
   "outputs": [
    {
     "data": {
      "text/plain": [
       "0.18213694934365615"
      ]
     },
     "execution_count": 21,
     "metadata": {},
     "output_type": "execute_result"
    }
   ],
   "source": [
    "doc = nlp(\"I like pizza\")\n",
    "token = nlp(\"soap\")[0]\n",
    "doc.similarity(token)"
   ]
  },
  {
   "cell_type": "markdown",
   "id": "96ae9a93-0195-4785-8dab-0deceb3adbce",
   "metadata": {},
   "source": [
    "### Compare a span with a document"
   ]
  },
  {
   "cell_type": "code",
   "execution_count": 22,
   "id": "61cac3ba-b94e-4e44-afce-271e604fcb5a",
   "metadata": {
    "execution": {
     "iopub.execute_input": "2022-12-28T14:19:44.210034Z",
     "iopub.status.busy": "2022-12-28T14:19:44.209874Z",
     "iopub.status.idle": "2022-12-28T14:19:44.219019Z",
     "shell.execute_reply": "2022-12-28T14:19:44.218770Z",
     "shell.execute_reply.started": "2022-12-28T14:19:44.210024Z"
    },
    "tags": []
   },
   "outputs": [
    {
     "data": {
      "text/plain": [
       "0.4719003666806404"
      ]
     },
     "execution_count": 22,
     "metadata": {},
     "output_type": "execute_result"
    }
   ],
   "source": [
    "span = nlp(\"I like pizza and pasta\")[2:5]\n",
    "doc = nlp(\"McDonalds sells burgers\")\n",
    "span.similarity(doc)"
   ]
  },
  {
   "cell_type": "markdown",
   "id": "10480423-3a1f-4aa1-8ad9-64c9394744fa",
   "metadata": {},
   "source": [
    "### Word vectors in spaCy"
   ]
  },
  {
   "cell_type": "code",
   "execution_count": 23,
   "id": "110fc115-3fd3-494c-a784-6c26bf5d8a9a",
   "metadata": {
    "execution": {
     "iopub.execute_input": "2022-12-28T14:19:44.219610Z",
     "iopub.status.busy": "2022-12-28T14:19:44.219376Z",
     "iopub.status.idle": "2022-12-28T14:19:44.830978Z",
     "shell.execute_reply": "2022-12-28T14:19:44.830570Z",
     "shell.execute_reply.started": "2022-12-28T14:19:44.219600Z"
    },
    "scrolled": true,
    "tags": []
   },
   "outputs": [
    {
     "name": "stdout",
     "output_type": "stream",
     "text": [
      "[ 0.20778  -2.4151    0.36605   2.0139   -0.23752  -3.1952   -0.2952\n",
      "  1.2272   -3.4129   -0.54969   0.32634  -1.0813    0.55626   1.5195\n",
      "  0.97797  -3.1816   -0.37207  -0.86093   2.1509   -4.0845    0.035405\n",
      "  3.5702   -0.79413  -1.7025   -1.6371   -3.198    -1.9387    0.91166\n",
      "  0.85409   1.8039   -1.103    -2.5274    1.6365   -0.82082   1.0278\n",
      " -1.705     1.5511   -0.95633  -1.4702   -1.865    -0.19324  -0.49123\n",
      "  2.2361    2.2119    3.6654    1.7943   -0.20601   1.5483   -1.3964\n",
      " -0.50819   2.1288   -2.332     1.3539   -2.1917    1.8923    0.28472\n",
      "  0.54285   1.2309    0.26027   1.9542    1.1739   -0.40348   3.2028\n",
      "  0.75381  -2.7179   -1.3587   -1.1965   -2.0923    2.2855   -0.3058\n",
      " -0.63174   0.70083   0.16899   1.2325    0.97006  -0.23356  -2.094\n",
      " -1.737     3.6075   -1.511    -0.9135    0.53878   0.49268   0.44751\n",
      "  0.6315    1.4963    4.1725    2.1961   -1.2409    0.4214    2.9678\n",
      "  1.841     3.0133   -4.4652    0.96521  -0.29787   4.3386   -1.2527\n",
      " -1.7734   -3.5637   -0.20035  -3.3013    0.99951  -0.92888  -0.94594\n",
      "  1.5124   -3.9385    2.7935   -3.1042    3.3382    0.54513  -0.37663\n",
      "  2.5151    0.51468  -0.88907   1.011     3.4705   -3.6037    1.3702\n",
      "  2.3468    1.6674    1.3904   -2.8112    2.237    -1.0344   -0.57164\n",
      "  1.0641   -1.6919    1.958    -0.78305   0.14741   0.51083   1.8278\n",
      " -0.69638   0.90548   0.62282  -1.8315   -2.8587    0.48424  -2.0527\n",
      " -0.53808  -2.3472    1.0354   -1.8257   -0.3892   -0.24943   0.8651\n",
      " -1.5195    1.2166   -2.698    -0.96698   2.2175   -0.16089  -0.49677\n",
      " -0.19646   1.3284    4.0824    1.3919    0.80669  -1.0316   -0.28056\n",
      " -1.8632    0.47716  -0.53628   1.3853   -2.1755   -0.2354    2.4933\n",
      " -0.87255   1.4493   -0.10778  -0.44159   1.3462    4.4211   -1.8385\n",
      "  0.3985    0.47637  -0.60074   3.3583   -0.15006  -0.40495   2.7225\n",
      " -1.6297    0.86797  -4.1445   -2.7793    1.1535   -0.011691  0.9792\n",
      " -1.0141    0.80134   0.43642   1.4337    2.8927    0.82871  -1.1827\n",
      " -1.3838    2.3903   -0.89323   1.1461   -1.7435    0.8654   -0.27075\n",
      " -0.78698   1.5631   -0.5923    0.098082 -0.26682   1.6282   -0.77495\n",
      "  3.2552    1.7964   -1.4314    1.2336    2.3102   -1.6328    2.8366\n",
      " -0.71384   0.43967   1.5627    3.079    -0.922    -0.43981  -0.7659\n",
      "  1.9362   -2.2479    1.041     0.63206   1.5855    3.4097   -2.9204\n",
      " -1.4751   -0.59534  -1.688    -4.1362    2.745    -2.8515    3.6509\n",
      " -0.66993  -2.8794    2.0733    1.1779   -2.0307    2.595    -0.12246\n",
      "  1.5844    1.1855    0.022385 -2.2916   -2.2684   -2.7537    0.34981\n",
      " -4.6243   -0.96521  -1.1435   -2.8894   -0.12619   2.9577   -1.7227\n",
      "  0.24757   1.2149    3.5349   -0.95802   0.080346 -1.6553   -0.6734\n",
      "  2.2918   -1.8229   -1.1336    1.8884    2.4789   -0.66061   2.0529\n",
      " -0.76687   0.32362  -2.2579    0.91278   0.36231   0.61562  -0.15396\n",
      " -0.42917  -0.89848   0.17298  -0.76978  -2.0222   -1.7127   -1.5632\n",
      "  0.56631  -1.354     2.6261    1.9156   -1.5651    1.8315   -1.4257\n",
      " -1.6861   -0.51953   1.7635   -0.50722   1.388    -1.1012  ]\n"
     ]
    }
   ],
   "source": [
    "# Load a larger model with vectors\n",
    "nlp = spacy.load(\"en_core_web_md\")\n",
    "doc = nlp(\"I have a banana\")\n",
    "# Access the vector via the token.vector attribute\n",
    "print(doc[3].vector)"
   ]
  },
  {
   "cell_type": "markdown",
   "id": "02db512e-793c-4905-8fe2-7d65843a7276",
   "metadata": {},
   "source": [
    "### Similarity depends on the application context"
   ]
  },
  {
   "cell_type": "code",
   "execution_count": 24,
   "id": "dda0bb89-bb19-471e-8c57-0d0ddd406098",
   "metadata": {
    "execution": {
     "iopub.execute_input": "2022-12-28T14:19:44.831446Z",
     "iopub.status.busy": "2022-12-28T14:19:44.831346Z",
     "iopub.status.idle": "2022-12-28T14:19:44.839916Z",
     "shell.execute_reply": "2022-12-28T14:19:44.839673Z",
     "shell.execute_reply.started": "2022-12-28T14:19:44.831437Z"
    }
   },
   "outputs": [
    {
     "data": {
      "text/plain": [
       "0.9530093158841214"
      ]
     },
     "execution_count": 24,
     "metadata": {},
     "output_type": "execute_result"
    }
   ],
   "source": [
    "doc1 = nlp(\"I like cats\")\n",
    "doc2 = nlp(\"I hate cats\")\n",
    "doc1.similarity(doc2)"
   ]
  },
  {
   "cell_type": "markdown",
   "id": "40fec700-19cb-41e2-b4f7-f2e7c0b2aebe",
   "metadata": {},
   "source": [
    "### Inspecting word vectors"
   ]
  },
  {
   "cell_type": "code",
   "execution_count": 25,
   "id": "98542773-e2f0-46c9-8953-271f95d65dd0",
   "metadata": {
    "execution": {
     "iopub.execute_input": "2022-12-28T14:19:44.840392Z",
     "iopub.status.busy": "2022-12-28T14:19:44.840265Z",
     "iopub.status.idle": "2022-12-28T14:19:44.842518Z",
     "shell.execute_reply": "2022-12-28T14:19:44.842273Z",
     "shell.execute_reply.started": "2022-12-28T14:19:44.840382Z"
    },
    "tags": []
   },
   "outputs": [
    {
     "data": {
      "text/plain": [
       "20000"
      ]
     },
     "execution_count": 25,
     "metadata": {},
     "output_type": "execute_result"
    }
   ],
   "source": [
    "len(nlp.vocab.vectors)"
   ]
  },
  {
   "cell_type": "markdown",
   "id": "987f862e-9a58-4c2d-ba23-3ac5e7c4a98b",
   "metadata": {
    "tags": []
   },
   "source": [
    "## Combining models and rules"
   ]
  },
  {
   "cell_type": "markdown",
   "id": "a49dfaa1-a7cb-4477-9cc9-7da7245fd27a",
   "metadata": {},
   "source": [
    "### Recap: Rule-based Matching"
   ]
  },
  {
   "cell_type": "code",
   "execution_count": 26,
   "id": "5acaf3c5-e215-419a-b455-eb0e9fc67f2b",
   "metadata": {
    "execution": {
     "iopub.execute_input": "2022-12-28T14:19:44.843019Z",
     "iopub.status.busy": "2022-12-28T14:19:44.842836Z",
     "iopub.status.idle": "2022-12-28T14:19:44.848878Z",
     "shell.execute_reply": "2022-12-28T14:19:44.848604Z",
     "shell.execute_reply.started": "2022-12-28T14:19:44.843010Z"
    },
    "tags": []
   },
   "outputs": [],
   "source": [
    "# Initialize with the shared vocab\n",
    "from spacy.matcher import Matcher\n",
    "\n",
    "matcher = Matcher(nlp.vocab)\n",
    "\n",
    "# Patterns are lists of dictionaries describing the tokens\n",
    "pattern = [{\"LEMMA\": \"love\", \"POS\": \"VERB\"}, {\"LOWER\": \"cats\"}]\n",
    "matcher.add(\"LOVE_CATS\", [pattern])\n",
    "\n",
    "# Operators can specify how often a token should be matched\n",
    "pattern = [{\"TEXT\": \"very\", \"OP\": \"+\"}, {\"TEXT\": \"happy\"}]\n",
    "matcher.add(\"VERY_HAPPY\", [pattern])\n",
    "\n",
    "# Calling matcher on doc returns list of (match_id, start, end) tuples\n",
    "doc = nlp(\"I love cats and I'm very very happy\")\n",
    "matches = matcher(doc)"
   ]
  },
  {
   "cell_type": "code",
   "execution_count": 27,
   "id": "8a82f593-276f-437b-80b6-fad165c9dbd2",
   "metadata": {
    "execution": {
     "iopub.execute_input": "2022-12-28T14:19:44.849335Z",
     "iopub.status.busy": "2022-12-28T14:19:44.849233Z",
     "iopub.status.idle": "2022-12-28T14:19:44.851424Z",
     "shell.execute_reply": "2022-12-28T14:19:44.851158Z",
     "shell.execute_reply.started": "2022-12-28T14:19:44.849325Z"
    },
    "tags": []
   },
   "outputs": [
    {
     "name": "stdout",
     "output_type": "stream",
     "text": [
      "Match found: love cats\n",
      "Match found: very happy\n",
      "Match found: very very happy\n"
     ]
    }
   ],
   "source": [
    "# Iterate over the matches and print the span text\n",
    "for match_id, start, end in matches:\n",
    "    print(\"Match found:\", doc[start:end].text)"
   ]
  },
  {
   "cell_type": "markdown",
   "id": "c3dd487a-ccbc-4f26-bb08-501d06a30828",
   "metadata": {},
   "source": [
    "### Adding statistical predictions"
   ]
  },
  {
   "cell_type": "code",
   "execution_count": 28,
   "id": "1a8577b2-f3a7-434d-830c-916df63fd522",
   "metadata": {
    "execution": {
     "iopub.execute_input": "2022-12-28T14:19:44.851860Z",
     "iopub.status.busy": "2022-12-28T14:19:44.851762Z",
     "iopub.status.idle": "2022-12-28T14:19:44.858408Z",
     "shell.execute_reply": "2022-12-28T14:19:44.858153Z",
     "shell.execute_reply.started": "2022-12-28T14:19:44.851851Z"
    },
    "tags": []
   },
   "outputs": [
    {
     "name": "stdout",
     "output_type": "stream",
     "text": [
      "I have a Golden Retriever\n",
      "Matched id: 2951553348639939143\n",
      "Matched span: Golden Retriever\n",
      "Root token: Retriever\n",
      "Root head token: have\n",
      "Previous token: a [DET] determiner\n"
     ]
    }
   ],
   "source": [
    "matcher = Matcher(nlp.vocab)\n",
    "matcher.add(\"DOG\", [[{\"LOWER\": \"golden\"}, {\"LOWER\": \"retriever\"}]])\n",
    "doc = nlp(\"I have a Golden Retriever\")\n",
    "print(doc.text)\n",
    "for match_id, start, end in matcher(doc):\n",
    "    span = doc[start:end]\n",
    "    print(\"Matched id:\", match_id)\n",
    "    print(\"Matched span:\", span.text)\n",
    "    # Get the span's root token\n",
    "    print(\n",
    "        \"Root token:\", span.root.text\n",
    "    )  # if the span consists of more than on token, this will be the token that decides the category of the phrase\n",
    "    # Get root head token\n",
    "    print(\n",
    "        \"Root head token:\", span.root.head.text\n",
    "    )  # This is the syntatic \"parent\" that governs the phrase\n",
    "    # Get the previous token and its POS tag\n",
    "    print(\n",
    "        \"Previous token:\",\n",
    "        doc[start - 1].text,\n",
    "        f\"[{doc[start - 1].pos_}]\",\n",
    "        spacy.explain(doc[start - 1].pos_),\n",
    "    )"
   ]
  },
  {
   "cell_type": "markdown",
   "id": "0eb4381b-5e22-4a73-b008-d90457c7d7b4",
   "metadata": {},
   "source": [
    "### Efficient phrase matching"
   ]
  },
  {
   "cell_type": "code",
   "execution_count": 29,
   "id": "6a2bff47-9fcf-4afc-8a34-5609624b7bfa",
   "metadata": {
    "execution": {
     "iopub.execute_input": "2022-12-28T14:19:44.858928Z",
     "iopub.status.busy": "2022-12-28T14:19:44.858754Z",
     "iopub.status.idle": "2022-12-28T14:19:44.867851Z",
     "shell.execute_reply": "2022-12-28T14:19:44.867579Z",
     "shell.execute_reply.started": "2022-12-28T14:19:44.858918Z"
    },
    "tags": []
   },
   "outputs": [
    {
     "name": "stdout",
     "output_type": "stream",
     "text": [
      "Matched span: Golden Retriever\n"
     ]
    }
   ],
   "source": [
    "from spacy.matcher import PhraseMatcher\n",
    "\n",
    "matcher = PhraseMatcher(nlp.vocab)\n",
    "pattern = nlp(\"Golden Retriever\")\n",
    "matcher.add(\"DOG\", [pattern])\n",
    "doc = nlp(\"I have a Golden Retriever\")\n",
    "# iterate over the matches\n",
    "for match_id, start, end in matcher(doc):\n",
    "    # get the matched span\n",
    "    span = doc[start:end]\n",
    "    print(\"Matched span:\", span.text)"
   ]
  },
  {
   "cell_type": "markdown",
   "id": "cbef155a-c2e5-46ef-92b2-55e95e989bae",
   "metadata": {
    "execution": {
     "iopub.execute_input": "2022-12-28T03:11:59.011314Z",
     "iopub.status.busy": "2022-12-28T03:11:59.011005Z",
     "iopub.status.idle": "2022-12-28T03:11:59.013864Z",
     "shell.execute_reply": "2022-12-28T03:11:59.013431Z",
     "shell.execute_reply.started": "2022-12-28T03:11:59.011300Z"
    }
   },
   "source": [
    "### Debugging patterns"
   ]
  },
  {
   "cell_type": "code",
   "execution_count": 30,
   "id": "12e51acd-c98e-4797-9c41-64332c3506a3",
   "metadata": {
    "execution": {
     "iopub.execute_input": "2022-12-28T14:19:44.868358Z",
     "iopub.status.busy": "2022-12-28T14:19:44.868225Z",
     "iopub.status.idle": "2022-12-28T14:19:44.884666Z",
     "shell.execute_reply": "2022-12-28T14:19:44.884254Z",
     "shell.execute_reply.started": "2022-12-28T14:19:44.868348Z"
    },
    "tags": []
   },
   "outputs": [
    {
     "name": "stdout",
     "output_type": "stream",
     "text": [
      "PATTERN1 Amazon Prime\n",
      "PATTERN2 ad-free viewing\n",
      "PATTERN1 Amazon Prime\n",
      "PATTERN2 ad-free viewing\n",
      "PATTERN2 ad-free viewing\n",
      "PATTERN2 ad-free viewing\n"
     ]
    }
   ],
   "source": [
    "# Create the match patterns\n",
    "pattern1 = [{\"LOWER\": \"amazon\"}, {\"IS_TITLE\": True, \"POS\": \"PROPN\"}]\n",
    "pattern2 = [{\"LOWER\": \"ad\"}, {\"TEXT\": \"-\"}, {\"LOWER\": \"free\"}, {\"POS\": \"NOUN\"}]\n",
    "\n",
    "# Initialize the Matcher and add the patterns\n",
    "matcher = Matcher(nlp.vocab)\n",
    "matcher.add(\"PATTERN1\", [pattern1])\n",
    "matcher.add(\"PATTERN2\", [pattern2])\n",
    "\n",
    "doc = nlp(\n",
    "    \"Twitch Prime, the perks program for Amazon Prime members offering free loot, games and other benefits, is ditching one of its best features: ad-free viewing. According to an email sent out to Amazon Prime members today, ad-free viewing will no longer be included as a part of Twitch Prime for new members, beginning on September 14. However, members with existing annual subscriptions will be able to continue to enjoy ad-free viewing until their subscription comes up for renewal. Those with monthly subscriptions will have access to ad-free viewing until October 15.\"\n",
    ")\n",
    "# Iterate over the matches\n",
    "for match_id, start, end in matcher(doc):\n",
    "    # Print pattern string name and text of matched span\n",
    "    print(doc.vocab.strings[match_id], doc[start:end].text)"
   ]
  },
  {
   "cell_type": "markdown",
   "id": "cf5a034f-701d-4f0e-8690-d40f9d2a0f0e",
   "metadata": {},
   "source": [
    "### Efficient phrase matching"
   ]
  },
  {
   "cell_type": "code",
   "execution_count": 31,
   "id": "57ebcbe4-220f-4a30-b377-3b8d674f31bf",
   "metadata": {
    "execution": {
     "iopub.execute_input": "2022-12-28T14:19:44.885216Z",
     "iopub.status.busy": "2022-12-28T14:19:44.885113Z",
     "iopub.status.idle": "2022-12-28T14:19:44.892829Z",
     "shell.execute_reply": "2022-12-28T14:19:44.892482Z",
     "shell.execute_reply.started": "2022-12-28T14:19:44.885206Z"
    },
    "tags": []
   },
   "outputs": [],
   "source": [
    "COUNTRIES = [\n",
    "    \"Afghanistan\",\n",
    "    \"Åland Islands\",\n",
    "    \"Albania\",\n",
    "    \"Algeria\",\n",
    "    \"American Samoa\",\n",
    "    \"Andorra\",\n",
    "    \"Angola\",\n",
    "    \"Anguilla\",\n",
    "    \"Antarctica\",\n",
    "    \"Antigua and Barbuda\",\n",
    "    \"Argentina\",\n",
    "    \"Armenia\",\n",
    "    \"Aruba\",\n",
    "    \"Australia\",\n",
    "    \"Austria\",\n",
    "    \"Azerbaijan\",\n",
    "    \"Bahamas\",\n",
    "    \"Bahrain\",\n",
    "    \"Bangladesh\",\n",
    "    \"Barbados\",\n",
    "    \"Belarus\",\n",
    "    \"Belgium\",\n",
    "    \"Belize\",\n",
    "    \"Benin\",\n",
    "    \"Bermuda\",\n",
    "    \"Bhutan\",\n",
    "    \"Bolivia (Plurinational State of)\",\n",
    "    \"Bonaire, Sint Eustatius and Saba\",\n",
    "    \"Bosnia and Herzegovina\",\n",
    "    \"Botswana\",\n",
    "    \"Bouvet Island\",\n",
    "    \"Brasil\",\n",
    "    \"British Indian Ocean Territory\",\n",
    "    \"United States Minor Outlying Islands\",\n",
    "    \"Virgin Islands (British)\",\n",
    "    \"Virgin Islands (U.S.)\",\n",
    "    \"Brunei Darussalam\",\n",
    "    \"Bulgaria\",\n",
    "    \"Burkina Faso\",\n",
    "    \"Burundi\",\n",
    "    \"Cambodia\",\n",
    "    \"Cameroon\",\n",
    "    \"Canada\",\n",
    "    \"Cabo Verde\",\n",
    "    \"Cayman Islands\",\n",
    "    \"Central African Republic\",\n",
    "    \"Chad\",\n",
    "    \"Chile\",\n",
    "    \"China\",\n",
    "    \"Christmas Island\",\n",
    "    \"Cocos (Keeling) Islands\",\n",
    "    \"Colombia\",\n",
    "    \"Comoros\",\n",
    "    \"Congo\",\n",
    "    \"Congo (Democratic Republic of the)\",\n",
    "    \"Cook Islands\",\n",
    "    \"Costa Rica\",\n",
    "    \"Croatia\",\n",
    "    \"Cuba\",\n",
    "    \"Curaçao\",\n",
    "    \"Cyprus\",\n",
    "    \"Czech Republic\",\n",
    "    \"Denmark\",\n",
    "    \"Djibouti\",\n",
    "    \"Dominica\",\n",
    "    \"Dominican Republic\",\n",
    "    \"Ecuador\",\n",
    "    \"Egypt\",\n",
    "    \"El Salvador\",\n",
    "    \"Equatorial Guinea\",\n",
    "    \"Eritrea\",\n",
    "    \"Estonia\",\n",
    "    \"Ethiopia\",\n",
    "    \"Falkland Islands (Malvinas)\",\n",
    "    \"Faroe Islands\",\n",
    "    \"Fiji\",\n",
    "    \"Finland\",\n",
    "    \"France\",\n",
    "    \"French Guiana\",\n",
    "    \"French Polynesia\",\n",
    "    \"French Southern Territories\",\n",
    "    \"Gabon\",\n",
    "    \"Gambia\",\n",
    "    \"Georgia\",\n",
    "    \"Germany\",\n",
    "    \"Ghana\",\n",
    "    \"Gibraltar\",\n",
    "    \"Greece\",\n",
    "    \"Greenland\",\n",
    "    \"Grenada\",\n",
    "    \"Guadeloupe\",\n",
    "    \"Guam\",\n",
    "    \"Guatemala\",\n",
    "    \"Guernsey\",\n",
    "    \"Guinea\",\n",
    "    \"Guinea-Bissau\",\n",
    "    \"Guyana\",\n",
    "    \"Haiti\",\n",
    "    \"Heard Island and McDonald Islands\",\n",
    "    \"Holy See\",\n",
    "    \"Honduras\",\n",
    "    \"Hong Kong\",\n",
    "    \"Hungary\",\n",
    "    \"Iceland\",\n",
    "    \"India\",\n",
    "    \"Indonesia\",\n",
    "    \"Côte d'Ivoire\",\n",
    "    \"Iran (Islamic Republic of)\",\n",
    "    \"Iraq\",\n",
    "    \"Ireland\",\n",
    "    \"Isle of Man\",\n",
    "    \"Israel\",\n",
    "    \"Italy\",\n",
    "    \"Jamaica\",\n",
    "    \"Japan\",\n",
    "    \"Jersey\",\n",
    "    \"Jordan\",\n",
    "    \"Kazakhstan\",\n",
    "    \"Kenya\",\n",
    "    \"Kiribati\",\n",
    "    \"Kuwait\",\n",
    "    \"Kyrgyzstan\",\n",
    "    \"Lao People's Democratic Republic\",\n",
    "    \"Latvia\",\n",
    "    \"Lebanon\",\n",
    "    \"Lesotho\",\n",
    "    \"Liberia\",\n",
    "    \"Libya\",\n",
    "    \"Liechtenstein\",\n",
    "    \"Lithuania\",\n",
    "    \"Luxembourg\",\n",
    "    \"Macao\",\n",
    "    \"Macedonia (the former Yugoslav Republic of)\",\n",
    "    \"Madagascar\",\n",
    "    \"Malawi\",\n",
    "    \"Malaysia\",\n",
    "    \"Maldives\",\n",
    "    \"Mali\",\n",
    "    \"Malta\",\n",
    "    \"Marshall Islands\",\n",
    "    \"Martinique\",\n",
    "    \"Mauritania\",\n",
    "    \"Mauritius\",\n",
    "    \"Mayotte\",\n",
    "    \"Mexico\",\n",
    "    \"Micronesia (Federated States of)\",\n",
    "    \"Moldova (Republic of)\",\n",
    "    \"Monaco\",\n",
    "    \"Mongolia\",\n",
    "    \"Montenegro\",\n",
    "    \"Montserrat\",\n",
    "    \"Morocco\",\n",
    "    \"Mozambique\",\n",
    "    \"Myanmar\",\n",
    "    \"Namibia\",\n",
    "    \"Nauru\",\n",
    "    \"Nepal\",\n",
    "    \"Netherlands\",\n",
    "    \"New Caledonia\",\n",
    "    \"New Zealand\",\n",
    "    \"Nicaragua\",\n",
    "    \"Niger\",\n",
    "    \"Nigeria\",\n",
    "    \"Niue\",\n",
    "    \"Norfolk Island\",\n",
    "    \"Korea (Democratic People's Republic of)\",\n",
    "    \"Northern Mariana Islands\",\n",
    "    \"Norway\",\n",
    "    \"Oman\",\n",
    "    \"Pakistan\",\n",
    "    \"Palau\",\n",
    "    \"Palestine, State of\",\n",
    "    \"Panama\",\n",
    "    \"Papua New Guinea\",\n",
    "    \"Paraguay\",\n",
    "    \"Peru\",\n",
    "    \"Philippines\",\n",
    "    \"Pitcairn\",\n",
    "    \"Poland\",\n",
    "    \"Portugal\",\n",
    "    \"Puerto Rico\",\n",
    "    \"Qatar\",\n",
    "    \"Republic of Kosovo\",\n",
    "    \"Réunion\",\n",
    "    \"Romania\",\n",
    "    \"Russian Federation\",\n",
    "    \"Rwanda\",\n",
    "    \"Saint Barthélemy\",\n",
    "    \"Saint Helena, Ascension and Tristan da Cunha\",\n",
    "    \"Saint Kitts and Nevis\",\n",
    "    \"Saint Lucia\",\n",
    "    \"Saint Martin (French part)\",\n",
    "    \"Saint Pierre and Miquelon\",\n",
    "    \"Saint Vincent and the Grenadines\",\n",
    "    \"Samoa\",\n",
    "    \"San Marino\",\n",
    "    \"Sao Tome and Principe\",\n",
    "    \"Saudi Arabia\",\n",
    "    \"Senegal\",\n",
    "    \"Serbia\",\n",
    "    \"Seychelles\",\n",
    "    \"Sierra Leone\",\n",
    "    \"Singapore\",\n",
    "    \"Sint Maarten (Dutch part)\",\n",
    "    \"Slovakia\",\n",
    "    \"Slovenia\",\n",
    "    \"Solomon Islands\",\n",
    "    \"Somalia\",\n",
    "    \"South Africa\",\n",
    "    \"South Georgia and the South Sandwich Islands\",\n",
    "    \"Korea (Republic of)\",\n",
    "    \"South Sudan\",\n",
    "    \"Spain\",\n",
    "    \"Sri Lanka\",\n",
    "    \"Sudan\",\n",
    "    \"Suriname\",\n",
    "    \"Svalbard and Jan Mayen\",\n",
    "    \"Swaziland\",\n",
    "    \"Sweden\",\n",
    "    \"Switzerland\",\n",
    "    \"Syrian Arab Republic\",\n",
    "    \"Taiwan\",\n",
    "    \"Tajikistan\",\n",
    "    \"Tanzania, United Republic of\",\n",
    "    \"Thailand\",\n",
    "    \"Timor-Leste\",\n",
    "    \"Togo\",\n",
    "    \"Tokelau\",\n",
    "    \"Tonga\",\n",
    "    \"Trinidad and Tobago\",\n",
    "    \"Tunisia\",\n",
    "    \"Turkey\",\n",
    "    \"Turkmenistan\",\n",
    "    \"Turks and Caicos Islands\",\n",
    "    \"Tuvalu\",\n",
    "    \"Uganda\",\n",
    "    \"Ukraine\",\n",
    "    \"United Arab Emirates\",\n",
    "    \"United Kingdom of Great Britain and Northern Ireland\",\n",
    "    \"United States of America\",\n",
    "    \"Uruguay\",\n",
    "    \"Uzbekistan\",\n",
    "    \"Vanuatu\",\n",
    "    \"Venezuela (Bolivarian Republic of)\",\n",
    "    \"Viet Nam\",\n",
    "    \"Wallis and Futuna\",\n",
    "    \"Western Sahara\",\n",
    "    \"Yemen\",\n",
    "    \"Zambia\",\n",
    "    \"Zimbabwe\",\n",
    "]"
   ]
  },
  {
   "cell_type": "code",
   "execution_count": 32,
   "id": "75ebe286-107c-41a6-bcfb-0c1fc5bb3bbd",
   "metadata": {
    "execution": {
     "iopub.execute_input": "2022-12-28T14:19:44.893333Z",
     "iopub.status.busy": "2022-12-28T14:19:44.893227Z",
     "iopub.status.idle": "2022-12-28T14:19:44.899832Z",
     "shell.execute_reply": "2022-12-28T14:19:44.899318Z",
     "shell.execute_reply.started": "2022-12-28T14:19:44.893323Z"
    },
    "tags": []
   },
   "outputs": [],
   "source": [
    "doc = nlp('Czech Republic may help Slovakia protect its airspace')"
   ]
  },
  {
   "cell_type": "code",
   "execution_count": 33,
   "id": "581ec5cd-206c-45ea-b5b1-7d365a02e1ca",
   "metadata": {
    "execution": {
     "iopub.execute_input": "2022-12-28T14:19:44.932883Z",
     "iopub.status.busy": "2022-12-28T14:19:44.932688Z",
     "iopub.status.idle": "2022-12-28T14:19:45.001339Z",
     "shell.execute_reply": "2022-12-28T14:19:45.001015Z",
     "shell.execute_reply.started": "2022-12-28T14:19:44.932872Z"
    },
    "tags": []
   },
   "outputs": [
    {
     "name": "stdout",
     "output_type": "stream",
     "text": [
      "['Czech Republic', 'Slovakia']\n"
     ]
    }
   ],
   "source": [
    "# Import the PhraseMatcher and initialize it\n",
    "matcher = PhraseMatcher(nlp.vocab)\n",
    "\n",
    "# Create pattern Doc objects and add them to the matcher\n",
    "# This is the faster version of: [nlp(country) for country in COUNTRIES]\n",
    "patterns = nlp.pipe(COUNTRIES)\n",
    "matcher.add('COUNTRY', patterns)\n",
    "\n",
    "# Call the matcher on the test document and print the result\n",
    "matches = matcher(doc)\n",
    "print([doc[start:end].text for match_id, start, end in matches])"
   ]
  },
  {
   "cell_type": "markdown",
   "id": "7caeeeeb-1993-4c97-b7be-5f25d8cc4e36",
   "metadata": {},
   "source": [
    "### Extracting countries and relationships"
   ]
  },
  {
   "cell_type": "code",
   "execution_count": 468,
   "id": "ff8c4bd9-dcd1-4cad-b61b-b3a9edc88e39",
   "metadata": {
    "execution": {
     "iopub.execute_input": "2022-12-28T07:30:45.009828Z",
     "iopub.status.busy": "2022-12-28T07:30:45.009631Z",
     "iopub.status.idle": "2022-12-28T07:30:45.068099Z",
     "shell.execute_reply": "2022-12-28T07:30:45.067603Z",
     "shell.execute_reply.started": "2022-12-28T07:30:45.009816Z"
    },
    "tags": []
   },
   "outputs": [
    {
     "name": "stdout",
     "output_type": "stream",
     "text": [
      "After the Cold War, the UN saw a radical expansion in its peacekeeping duties, taking on more missions in ten years than it had in the previous four decades.Between 1988 and 2000, the number of adopted Security Council resolutions more than doubled, and the peacekeeping budget increased more than tenfold. The UN negotiated an end to the Salvadoran Civil War, launched a successful peacekeeping mission in Namibia, and oversaw democratic elections in post-apartheid South Africa and post-Khmer Rouge Cambodia. In 1991, the UN authorized a US-led coalition that repulsed the Iraqi invasion of Kuwait. Brian Urquhart, Under-Secretary-General from 1971 to 1985, later described the hopes raised by these successes as a \"false renaissance\" for the organization, given the more troubled missions that followed. Though the UN Charter had been written primarily to prevent aggression by one nation against another, in the early 1990s the UN faced a number of simultaneous, serious crises within nations such as Somalia, Haiti, Mozambique, and the former Yugoslavia. The UN mission in Somalia was widely viewed as a failure after the US withdrawal following casualties in the Battle of Mogadishu, and the UN mission to Bosnia faced \"worldwide ridicule\" for its indecisive and confused mission in the face of ethnic cleansing. In 1994, the UN Assistance Mission for Rwanda failed to intervene in the Rwandan genocide amid indecision in the Security Council. Beginning in the last decades of the Cold War, American and European critics of the UN condemned the organization for perceived mismanagement and corruption. In 1984, the US President, Ronald Reagan, withdrew his nation's funding from UNESCO (the United Nations Educational, Scientific and Cultural Organization, founded 1946) over allegations of mismanagement, followed by Britain and Singapore. Boutros Boutros-Ghali, Secretary-General from 1992 to 1996, initiated a reform of the Secretariat, reducing the size of the organization somewhat. His successor, Kofi Annan (1997–2006), initiated further management reforms in the face of threats from the United States to withhold its UN dues. In the late 1990s and 2000s, international interventions authorized by the UN took a wider variety of forms. The UN mission in the Sierra Leone Civil War of 1991–2002 was supplemented by British Royal Marines, and the invasion of Afghanistan in 2001 was overseen by NATO. In 2003, the United States invaded Iraq despite failing to pass a UN Security Council resolution for authorization, prompting a new round of questioning of the organization's effectiveness. Under the eighth Secretary-General, Ban Ki-moon, the UN has intervened with peacekeepers in crises including the War in Darfur in Sudan and the Kivu conflict in the Democratic Republic of Congo and sent observers and chemical weapons inspectors to the Syrian Civil War. In 2013, an internal review of UN actions in the final battles of the Sri Lankan Civil War in 2009 concluded that the organization had suffered \"systemic failure\". One hundred and one UN personnel died in the 2010 Haiti earthquake, the worst loss of life in the organization's history. The Millennium Summit was held in 2000 to discuss the UN's role in the 21st century. The three day meeting was the largest gathering of world leaders in history, and culminated in the adoption by all member states of the Millennium Development Goals (MDGs), a commitment to achieve international development in areas such as poverty reduction, gender equality, and public health. Progress towards these goals, which were to be met by 2015, was ultimately uneven. The 2005 World Summit reaffirmed the UN's focus on promoting development, peacekeeping, human rights, and global security. The Sustainable Development Goals were launched in 2015 to succeed the Millennium Development Goals. In addition to addressing global challenges, the UN has sought to improve its accountability and democratic legitimacy by engaging more with civil society and fostering a global constituency. In an effort to enhance transparency, in 2016 the organization held its first public debate between candidates for Secretary-General. On 1 January 2017, Portuguese diplomat António Guterres, who previously served as UN High Commissioner for Refugees, became the ninth Secretary-General. Guterres has highlighted several key goals for his administration, including an emphasis on diplomacy for preventing conflicts, more effective peacekeeping efforts, and streamlining the organization to be more responsive and versatile to global needs.\n"
     ]
    }
   ],
   "source": [
    "text = 'After the Cold War, the UN saw a radical expansion in its peacekeeping duties, taking on more missions in ten years than it had in the previous four decades.Between 1988 and 2000, the number of adopted Security Council resolutions more than doubled, and the peacekeeping budget increased more than tenfold. The UN negotiated an end to the Salvadoran Civil War, launched a successful peacekeeping mission in Namibia, and oversaw democratic elections in post-apartheid South Africa and post-Khmer Rouge Cambodia. In 1991, the UN authorized a US-led coalition that repulsed the Iraqi invasion of Kuwait. Brian Urquhart, Under-Secretary-General from 1971 to 1985, later described the hopes raised by these successes as a \"false renaissance\" for the organization, given the more troubled missions that followed. Though the UN Charter had been written primarily to prevent aggression by one nation against another, in the early 1990s the UN faced a number of simultaneous, serious crises within nations such as Somalia, Haiti, Mozambique, and the former Yugoslavia. The UN mission in Somalia was widely viewed as a failure after the US withdrawal following casualties in the Battle of Mogadishu, and the UN mission to Bosnia faced \"worldwide ridicule\" for its indecisive and confused mission in the face of ethnic cleansing. In 1994, the UN Assistance Mission for Rwanda failed to intervene in the Rwandan genocide amid indecision in the Security Council. Beginning in the last decades of the Cold War, American and European critics of the UN condemned the organization for perceived mismanagement and corruption. In 1984, the US President, Ronald Reagan, withdrew his nation\\'s funding from UNESCO (the United Nations Educational, Scientific and Cultural Organization, founded 1946) over allegations of mismanagement, followed by Britain and Singapore. Boutros Boutros-Ghali, Secretary-General from 1992 to 1996, initiated a reform of the Secretariat, reducing the size of the organization somewhat. His successor, Kofi Annan (1997–2006), initiated further management reforms in the face of threats from the United States to withhold its UN dues. In the late 1990s and 2000s, international interventions authorized by the UN took a wider variety of forms. The UN mission in the Sierra Leone Civil War of 1991–2002 was supplemented by British Royal Marines, and the invasion of Afghanistan in 2001 was overseen by NATO. In 2003, the United States invaded Iraq despite failing to pass a UN Security Council resolution for authorization, prompting a new round of questioning of the organization\\'s effectiveness. Under the eighth Secretary-General, Ban Ki-moon, the UN has intervened with peacekeepers in crises including the War in Darfur in Sudan and the Kivu conflict in the Democratic Republic of Congo and sent observers and chemical weapons inspectors to the Syrian Civil War. In 2013, an internal review of UN actions in the final battles of the Sri Lankan Civil War in 2009 concluded that the organization had suffered \"systemic failure\". One hundred and one UN personnel died in the 2010 Haiti earthquake, the worst loss of life in the organization\\'s history. The Millennium Summit was held in 2000 to discuss the UN\\'s role in the 21st century. The three day meeting was the largest gathering of world leaders in history, and culminated in the adoption by all member states of the Millennium Development Goals (MDGs), a commitment to achieve international development in areas such as poverty reduction, gender equality, and public health. Progress towards these goals, which were to be met by 2015, was ultimately uneven. The 2005 World Summit reaffirmed the UN\\'s focus on promoting development, peacekeeping, human rights, and global security. The Sustainable Development Goals were launched in 2015 to succeed the Millennium Development Goals. In addition to addressing global challenges, the UN has sought to improve its accountability and democratic legitimacy by engaging more with civil society and fostering a global constituency. In an effort to enhance transparency, in 2016 the organization held its first public debate between candidates for Secretary-General. On 1 January 2017, Portuguese diplomat António Guterres, who previously served as UN High Commissioner for Refugees, became the ninth Secretary-General. Guterres has highlighted several key goals for his administration, including an emphasis on diplomacy for preventing conflicts, more effective peacekeeping efforts, and streamlining the organization to be more responsive and versatile to global needs.'\n",
    "print(text)\n",
    "doc = nlp(text)"
   ]
  },
  {
   "cell_type": "code",
   "execution_count": 469,
   "id": "2e14feb6-946f-4a52-85e1-24f4de94887f",
   "metadata": {
    "execution": {
     "iopub.execute_input": "2022-12-28T07:30:46.784126Z",
     "iopub.status.busy": "2022-12-28T07:30:46.783989Z",
     "iopub.status.idle": "2022-12-28T07:30:46.787066Z",
     "shell.execute_reply": "2022-12-28T07:30:46.786722Z",
     "shell.execute_reply.started": "2022-12-28T07:30:46.784116Z"
    },
    "tags": []
   },
   "outputs": [
    {
     "name": "stdout",
     "output_type": "stream",
     "text": [
      "[('Namibia', 'GPE', 74, 75), ('South Africa', 'GPE', 84, 86), ('US', 'GPE', 100, 101), ('Kuwait', 'GPE', 110, 111), ('Somalia', 'GPE', 186, 187), ('Haiti', 'GPE', 188, 189), ('Mozambique', 'GPE', 190, 191), ('Yugoslavia', 'GPE', 195, 196), ('Somalia', 'GPE', 201, 202), ('US', 'GPE', 210, 211), ('Bosnia', 'GPE', 225, 226), ('Rwanda', 'GPE', 252, 253), ('US', 'GPE', 297, 298), ('Britain', 'GPE', 331, 332), ('Singapore', 'GPE', 333, 334), ('the United States', 'GPE', 382, 385), ('Afghanistan', 'GPE', 433, 434), ('the United States', 'GPE', 444, 447), ('Iraq', 'GPE', 448, 449), ('Darfur', 'GPE', 497, 498), ('Sudan', 'GPE', 499, 500), ('Kivu', 'GPE', 502, 503), ('the Democratic Republic of Congo', 'GPE', 505, 510), ('Haiti', 'GPE', 565, 566)]\n"
     ]
    }
   ],
   "source": [
    "# original spacy ents\n",
    "print([(ent.text, ent.label_, ent.start, ent.end) for ent in doc.ents if ent.label_ == 'GPE'])"
   ]
  },
  {
   "cell_type": "code",
   "execution_count": 474,
   "id": "aba9540e-4b77-447b-855f-97a77f38df24",
   "metadata": {
    "execution": {
     "iopub.execute_input": "2022-12-28T07:31:35.555777Z",
     "iopub.status.busy": "2022-12-28T07:31:35.555638Z",
     "iopub.status.idle": "2022-12-28T07:31:35.561904Z",
     "shell.execute_reply": "2022-12-28T07:31:35.561553Z",
     "shell.execute_reply.started": "2022-12-28T07:31:35.555766Z"
    },
    "tags": []
   },
   "outputs": [],
   "source": [
    "from spacy.util import filter_spans\n",
    "# Iterate over the matches\n",
    "for match_id, start, end in matcher(doc):\n",
    "    # Create a Span with the label for \"GPE\"\n",
    "    span = Span(doc, start, end, label='GPE')\n",
    "    # Overwrite the doc.ents and add the span\n",
    "    doc.ents = filter_spans(list(doc.ents) + [span])\n",
    "    # if span not in doc.ents:\n",
    "    #     doc.ents = filter_spans(list(doc.ents) + [span])"
   ]
  },
  {
   "cell_type": "code",
   "execution_count": 476,
   "id": "9cd58b14-f7f3-4d37-9e6a-5699722d2232",
   "metadata": {
    "execution": {
     "iopub.execute_input": "2022-12-28T07:31:53.303747Z",
     "iopub.status.busy": "2022-12-28T07:31:53.303609Z",
     "iopub.status.idle": "2022-12-28T07:31:53.306206Z",
     "shell.execute_reply": "2022-12-28T07:31:53.305953Z",
     "shell.execute_reply.started": "2022-12-28T07:31:53.303736Z"
    },
    "tags": []
   },
   "outputs": [
    {
     "name": "stdout",
     "output_type": "stream",
     "text": [
      "[('Namibia', 'GPE', 74, 75), ('South Africa', 'GPE', 84, 86), ('US', 'GPE', 100, 101), ('Kuwait', 'GPE', 110, 111), ('Somalia', 'GPE', 186, 187), ('Haiti', 'GPE', 188, 189), ('Mozambique', 'GPE', 190, 191), ('Yugoslavia', 'GPE', 195, 196), ('Somalia', 'GPE', 201, 202), ('US', 'GPE', 210, 211), ('Bosnia', 'GPE', 225, 226), ('Rwanda', 'GPE', 252, 253), ('US', 'GPE', 297, 298), ('Britain', 'GPE', 331, 332), ('Singapore', 'GPE', 333, 334), ('the United States', 'GPE', 382, 385), ('Afghanistan', 'GPE', 433, 434), ('the United States', 'GPE', 444, 447), ('Iraq', 'GPE', 448, 449), ('Darfur', 'GPE', 497, 498), ('Sudan', 'GPE', 499, 500), ('Kivu', 'GPE', 502, 503), ('the Democratic Republic of Congo', 'GPE', 505, 510), ('Haiti', 'GPE', 565, 566)]\n"
     ]
    }
   ],
   "source": [
    "# replace spacy entities\n",
    "# doc.ents = filter_spans(original_ents)\n",
    "# Print the entities in the document\n",
    "print([(ent.text, ent.label_, ent.start, ent.end) for ent in doc.ents if ent.label_ == 'GPE'])"
   ]
  },
  {
   "cell_type": "code",
   "execution_count": 477,
   "id": "4f82385a-8eb7-49c2-a6f0-d02b578d9a85",
   "metadata": {
    "execution": {
     "iopub.execute_input": "2022-12-28T07:31:55.439928Z",
     "iopub.status.busy": "2022-12-28T07:31:55.439790Z",
     "iopub.status.idle": "2022-12-28T07:31:55.442865Z",
     "shell.execute_reply": "2022-12-28T07:31:55.442512Z",
     "shell.execute_reply.started": "2022-12-28T07:31:55.439917Z"
    },
    "tags": []
   },
   "outputs": [
    {
     "name": "stdout",
     "output_type": "stream",
     "text": [
      "[('Namibia', 'GPE'), ('South Africa', 'GPE'), ('Cambodia', 'GPE'), ('Kuwait', 'GPE'), ('Somalia', 'GPE'), ('Haiti', 'GPE'), ('Mozambique', 'GPE'), ('Somalia', 'GPE'), ('Rwanda', 'GPE'), ('Singapore', 'GPE'), ('Sierra Leone', 'GPE'), ('Afghanistan', 'GPE'), ('Iraq', 'GPE'), ('Sudan', 'GPE'), ('Congo', 'GPE'), ('Haiti', 'GPE')]\n"
     ]
    }
   ],
   "source": [
    "# Expected results\n",
    "print([('Namibia', 'GPE'), ('South Africa', 'GPE'), ('Cambodia', 'GPE'), ('Kuwait', 'GPE'), ('Somalia', 'GPE'), ('Haiti', 'GPE'), ('Mozambique', 'GPE'), ('Somalia', 'GPE'), ('Rwanda', 'GPE'), ('Singapore', 'GPE'), ('Sierra Leone', 'GPE'), ('Afghanistan', 'GPE'), ('Iraq', 'GPE'), ('Sudan', 'GPE'), ('Congo', 'GPE'), ('Haiti', 'GPE')])"
   ]
  },
  {
   "cell_type": "code",
   "execution_count": null,
   "id": "b6e47752-5d02-42f5-915c-8ce4c10b502a",
   "metadata": {},
   "outputs": [],
   "source": []
  }
 ],
 "metadata": {
  "kernelspec": {
   "display_name": "Python 3 (ipykernel)",
   "language": "python",
   "name": "python3"
  },
  "language_info": {
   "codemirror_mode": {
    "name": "ipython",
    "version": 3
   },
   "file_extension": ".py",
   "mimetype": "text/x-python",
   "name": "python",
   "nbconvert_exporter": "python",
   "pygments_lexer": "ipython3",
   "version": "3.9.15"
  },
  "toc-autonumbering": true
 },
 "nbformat": 4,
 "nbformat_minor": 5
}
