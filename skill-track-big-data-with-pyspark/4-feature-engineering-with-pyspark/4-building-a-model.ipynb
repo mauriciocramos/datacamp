{
 "cells": [
  {
   "cell_type": "markdown",
   "id": "7c93bc11-aec3-4773-87be-f7f384284a2c",
   "metadata": {
    "tags": []
   },
   "source": [
    "# Setup"
   ]
  },
  {
   "cell_type": "code",
   "execution_count": 1,
   "id": "18fd037a-62e4-4d04-a163-f302845980fb",
   "metadata": {
    "execution": {
     "iopub.execute_input": "2023-05-02T22:30:40.266067Z",
     "iopub.status.busy": "2023-05-02T22:30:40.265970Z",
     "iopub.status.idle": "2023-05-02T22:30:42.486347Z",
     "shell.execute_reply": "2023-05-02T22:30:42.485988Z",
     "shell.execute_reply.started": "2023-05-02T22:30:40.266057Z"
    },
    "tags": []
   },
   "outputs": [
    {
     "name": "stderr",
     "output_type": "stream",
     "text": [
      "23/05/02 19:30:41 WARN Utils: Your hostname, rig resolves to a loopback address: 127.0.1.1; using 192.168.0.102 instead (on interface enp6s0)\n",
      "23/05/02 19:30:41 WARN Utils: Set SPARK_LOCAL_IP if you need to bind to another address\n",
      "Setting default log level to \"WARN\".\n",
      "To adjust logging level use sc.setLogLevel(newLevel). For SparkR, use setLogLevel(newLevel).\n",
      "23/05/02 19:30:41 WARN NativeCodeLoader: Unable to load native-hadoop library for your platform... using builtin-java classes where applicable\n"
     ]
    }
   ],
   "source": [
    "import matplotlib.pyplot as plt\n",
    "import seaborn as sns\n",
    "import pandas as pd\n",
    "import numpy as np\n",
    "import datetime\n",
    "plt.style.use('dark_background')\n",
    "import sys\n",
    "sys.path.insert(1, '/home/mauricio/code/mcr')\n",
    "from mcr.util import glimpse, plot_value_counts, plot_value_counts_timeseries, missing_report, plot_missing, plot_unique, plot_duplicates, size\n",
    "\n",
    "from pyspark import SparkContext\n",
    "sc = SparkContext.getOrCreate()\n",
    "from pyspark.sql import SparkSession\n",
    "spark = SparkSession.builder.getOrCreate()\n",
    "\n",
    "from pyspark.sql import functions as F\n",
    "from pyspark.sql.types import *"
   ]
  },
  {
   "cell_type": "code",
   "execution_count": 2,
   "id": "32b4b438-7a69-4c3a-bcf7-22783f731a4e",
   "metadata": {
    "execution": {
     "iopub.execute_input": "2023-05-02T22:30:42.487143Z",
     "iopub.status.busy": "2023-05-02T22:30:42.486907Z",
     "iopub.status.idle": "2023-05-02T22:30:42.494659Z",
     "shell.execute_reply": "2023-05-02T22:30:42.494238Z",
     "shell.execute_reply.started": "2023-05-02T22:30:42.487130Z"
    },
    "tags": []
   },
   "outputs": [],
   "source": [
    "# Define a new schema using the StructType method\n",
    "schema = StructType(\n",
    "    [\n",
    "        StructField(\"No.\", LongType(), True),\n",
    "        StructField(\"MLSID\", StringType(), True),\n",
    "        StructField(\"StreetNumberNumeric\", LongType(), True),\n",
    "        StructField(\"streetaddress\", StringType(), True),\n",
    "        StructField(\"STREETNAME\", StringType(), True),\n",
    "        StructField(\"PostalCode\", LongType(), True),\n",
    "        StructField(\"StateOrProvince\", StringType(), True),\n",
    "        StructField(\"City\", StringType(), True),\n",
    "        StructField(\"SalesClosePrice\", LongType(), True),\n",
    "        StructField(\"LISTDATE\", DateType(), True),\n",
    "        StructField(\"LISTPRICE\", LongType(), True),\n",
    "        StructField(\"LISTTYPE\", StringType(), True),\n",
    "        StructField(\"OriginalListPrice\", LongType(), True),\n",
    "        StructField(\"PricePerTSFT\", DoubleType(), True),\n",
    "        StructField(\"FOUNDATIONSIZE\", LongType(), True),\n",
    "        StructField(\"FENCE\", StringType(), True),\n",
    "        StructField(\"MapLetter\", StringType(), True),\n",
    "        StructField(\"LotSizeDimensions\", StringType(), True),\n",
    "        StructField(\"SchoolDistrictNumber\", StringType(), True),\n",
    "        StructField(\"DAYSONMARKET\", LongType(), True),\n",
    "        StructField(\"offmarketdate\", DateType(), True),\n",
    "        StructField(\"Fireplaces\", LongType(), True),\n",
    "        StructField(\"RoomArea4\", StringType(), True),\n",
    "        StructField(\"roomtype\", StringType(), True),\n",
    "        StructField(\"ROOF\", StringType(), True),\n",
    "        StructField(\"RoomFloor4\", StringType(), True),\n",
    "        StructField(\"PotentialShortSale\", StringType(), True),\n",
    "        StructField(\"PoolDescription\", StringType(), True),\n",
    "        StructField(\"PDOM\", LongType(), True),\n",
    "        StructField(\"GarageDescription\", StringType(), True),\n",
    "        StructField(\"SQFTABOVEGROUND\", LongType(), True),\n",
    "        StructField(\"Taxes\", LongType(), True),\n",
    "        StructField(\"RoomFloor1\", StringType(), True),\n",
    "        StructField(\"RoomArea1\", StringType(), True),\n",
    "        StructField(\"TAXWITHASSESSMENTS\", DoubleType(), True),\n",
    "        StructField(\"TAXYEAR\", LongType(), True),\n",
    "        StructField(\"LivingArea\", LongType(), True),\n",
    "        StructField(\"UNITNUMBER\", StringType(), True),\n",
    "        StructField(\"YEARBUILT\", LongType(), True),\n",
    "        StructField(\"ZONING\", StringType(), True),\n",
    "        StructField(\"STYLE\", StringType(), True),\n",
    "        StructField(\"ACRES\", DoubleType(), True),\n",
    "        StructField(\"CoolingDescription\", StringType(), True),\n",
    "        StructField(\"APPLIANCES\", StringType(), True),\n",
    "        StructField(\"backonmarketdate\", DateType(), True),\n",
    "        StructField(\"ROOMFAMILYCHAR\", StringType(), True),\n",
    "        StructField(\"RoomArea3\", StringType(), True),\n",
    "        StructField(\"EXTERIOR\", StringType(), True),\n",
    "        StructField(\"RoomFloor3\", StringType(), True),\n",
    "        StructField(\"RoomFloor2\", StringType(), True),\n",
    "        StructField(\"RoomArea2\", StringType(), True),\n",
    "        StructField(\"DiningRoomDescription\", StringType(), True),\n",
    "        StructField(\"BASEMENT\", StringType(), True),\n",
    "        StructField(\"BathsFull\", LongType(), True),\n",
    "        StructField(\"BathsHalf\", LongType(), True),\n",
    "        StructField(\"BATHQUARTER\", LongType(), True),\n",
    "        StructField(\"BATHSTHREEQUARTER\", LongType(), True), # Pandas turns to float64 due to missing values\n",
    "        StructField(\"Class\", StringType(), True),\n",
    "        StructField(\"BATHSTOTAL\", LongType(), True),\n",
    "        StructField(\"BATHDESC\", StringType(), True),\n",
    "        StructField(\"RoomArea5\", StringType(), True),\n",
    "        StructField(\"RoomFloor5\", StringType(), True),\n",
    "        StructField(\"RoomArea6\", StringType(), True),\n",
    "        StructField(\"RoomFloor6\", StringType(), True),\n",
    "        StructField(\"RoomArea7\", StringType(), True),\n",
    "        StructField(\"RoomFloor7\", StringType(), True),\n",
    "        StructField(\"RoomArea8\", StringType(), True),\n",
    "        StructField(\"RoomFloor8\", StringType(), True),\n",
    "        StructField(\"Bedrooms\", LongType(), True),\n",
    "        StructField(\"SQFTBELOWGROUND\", LongType(), True),\n",
    "        StructField(\"AssumableMortgage\", StringType(), True),\n",
    "        StructField(\"AssociationFee\", LongType(), True),\n",
    "        StructField(\"ASSESSMENTPENDING\", StringType(), True),\n",
    "        StructField(\"AssessedValuation\", DoubleType(), True),\n",
    "    ]\n",
    ")"
   ]
  },
  {
   "cell_type": "code",
   "execution_count": 3,
   "id": "76ed8ee6-a95e-4ef6-9d43-c5848a98eaf5",
   "metadata": {
    "execution": {
     "iopub.execute_input": "2023-05-02T22:30:42.495160Z",
     "iopub.status.busy": "2023-05-02T22:30:42.495058Z",
     "iopub.status.idle": "2023-05-02T22:30:43.769787Z",
     "shell.execute_reply": "2023-05-02T22:30:43.769477Z",
     "shell.execute_reply.started": "2023-05-02T22:30:42.495150Z"
    },
    "scrolled": true,
    "tags": []
   },
   "outputs": [],
   "source": [
    "# Load the CSV file\n",
    "# inferSchema doesn't parse dates:\n",
    "# df = spark.read.format('csv').options(Header=True).options(inferSchema=True).options(dateFormat='M/d/y H:m').load('2017_StPaul_MN_Real_Estate.csv', dateFormat='M/d/y H:m')\n",
    "# schema does parse dates:\n",
    "df = spark.read.format('csv').options(Header=True).options(dateFormat='M/d/y H:m').load('2017_StPaul_MN_Real_Estate.csv', schema=schema)\n",
    "# In case we want to cast StringType to TimestampType or DateType after read\n",
    "# df = df.withColumn('LISTDATE', F.to_timestamp('LISTDATE', format='M/d/y H:m'))\n",
    "# df = df.withColumn('LISTDATE', F.to_date('LISTDATE', format='M/d/y H:m'))\n",
    "# df = df.withColumn('offmarketdate', F.to_timestamp('offmarketdate', format='M/d/y H:m'))\n",
    "# df = df.withColumn('offmarketdate', F.to_date('offmarketdate', format='M/d/y H:m'))"
   ]
  },
  {
   "cell_type": "code",
   "execution_count": 4,
   "id": "bed219b6-b669-4a5e-bd87-b1a1d0780676",
   "metadata": {
    "execution": {
     "iopub.execute_input": "2023-05-02T22:30:43.770748Z",
     "iopub.status.busy": "2023-05-02T22:30:43.770637Z",
     "iopub.status.idle": "2023-05-02T22:30:43.880084Z",
     "shell.execute_reply": "2023-05-02T22:30:43.879679Z",
     "shell.execute_reply.started": "2023-05-02T22:30:43.770737Z"
    },
    "tags": []
   },
   "outputs": [],
   "source": [
    "# Stanrdaize column names\n",
    "from re import sub\n",
    "df = df.selectExpr([f\"`{c}` as \" + sub(r'\\.', '', c).upper() for c in df.columns])"
   ]
  },
  {
   "cell_type": "code",
   "execution_count": 5,
   "id": "77880f2c-b651-4b72-8cc3-5d721c98e619",
   "metadata": {
    "execution": {
     "iopub.execute_input": "2023-05-02T22:30:43.881067Z",
     "iopub.status.busy": "2023-05-02T22:30:43.880723Z",
     "iopub.status.idle": "2023-05-02T22:30:45.582798Z",
     "shell.execute_reply": "2023-05-02T22:30:45.582106Z",
     "shell.execute_reply.started": "2023-05-02T22:30:43.881048Z"
    },
    "scrolled": true,
    "tags": []
   },
   "outputs": [
    {
     "name": "stderr",
     "output_type": "stream",
     "text": [
      "23/05/02 19:30:44 WARN package: Truncated the string representation of a plan since it was too large. This behavior can be adjusted by setting 'spark.sql.debug.maxToStringFields'.\n",
      "[Stage 0:>                                                          (0 + 1) / 1]\r"
     ]
    },
    {
     "name": "stdout",
     "output_type": "stream",
     "text": [
      "root\n",
      " |-- NO: long (nullable = true)\n",
      " |-- MLSID: string (nullable = true)\n",
      " |-- STREETNUMBERNUMERIC: long (nullable = true)\n",
      " |-- STREETADDRESS: string (nullable = true)\n",
      " |-- STREETNAME: string (nullable = true)\n",
      " |-- POSTALCODE: long (nullable = true)\n",
      " |-- STATEORPROVINCE: string (nullable = true)\n",
      " |-- CITY: string (nullable = true)\n",
      " |-- SALESCLOSEPRICE: long (nullable = true)\n",
      " |-- LISTDATE: date (nullable = true)\n",
      " |-- LISTPRICE: long (nullable = true)\n",
      " |-- LISTTYPE: string (nullable = true)\n",
      " |-- ORIGINALLISTPRICE: long (nullable = true)\n",
      " |-- PRICEPERTSFT: double (nullable = true)\n",
      " |-- FOUNDATIONSIZE: long (nullable = true)\n",
      " |-- FENCE: string (nullable = true)\n",
      " |-- MAPLETTER: string (nullable = true)\n",
      " |-- LOTSIZEDIMENSIONS: string (nullable = true)\n",
      " |-- SCHOOLDISTRICTNUMBER: string (nullable = true)\n",
      " |-- DAYSONMARKET: long (nullable = true)\n",
      " |-- OFFMARKETDATE: date (nullable = true)\n",
      " |-- FIREPLACES: long (nullable = true)\n",
      " |-- ROOMAREA4: string (nullable = true)\n",
      " |-- ROOMTYPE: string (nullable = true)\n",
      " |-- ROOF: string (nullable = true)\n",
      " |-- ROOMFLOOR4: string (nullable = true)\n",
      " |-- POTENTIALSHORTSALE: string (nullable = true)\n",
      " |-- POOLDESCRIPTION: string (nullable = true)\n",
      " |-- PDOM: long (nullable = true)\n",
      " |-- GARAGEDESCRIPTION: string (nullable = true)\n",
      " |-- SQFTABOVEGROUND: long (nullable = true)\n",
      " |-- TAXES: long (nullable = true)\n",
      " |-- ROOMFLOOR1: string (nullable = true)\n",
      " |-- ROOMAREA1: string (nullable = true)\n",
      " |-- TAXWITHASSESSMENTS: double (nullable = true)\n",
      " |-- TAXYEAR: long (nullable = true)\n",
      " |-- LIVINGAREA: long (nullable = true)\n",
      " |-- UNITNUMBER: string (nullable = true)\n",
      " |-- YEARBUILT: long (nullable = true)\n",
      " |-- ZONING: string (nullable = true)\n",
      " |-- STYLE: string (nullable = true)\n",
      " |-- ACRES: double (nullable = true)\n",
      " |-- COOLINGDESCRIPTION: string (nullable = true)\n",
      " |-- APPLIANCES: string (nullable = true)\n",
      " |-- BACKONMARKETDATE: date (nullable = true)\n",
      " |-- ROOMFAMILYCHAR: string (nullable = true)\n",
      " |-- ROOMAREA3: string (nullable = true)\n",
      " |-- EXTERIOR: string (nullable = true)\n",
      " |-- ROOMFLOOR3: string (nullable = true)\n",
      " |-- ROOMFLOOR2: string (nullable = true)\n",
      " |-- ROOMAREA2: string (nullable = true)\n",
      " |-- DININGROOMDESCRIPTION: string (nullable = true)\n",
      " |-- BASEMENT: string (nullable = true)\n",
      " |-- BATHSFULL: long (nullable = true)\n",
      " |-- BATHSHALF: long (nullable = true)\n",
      " |-- BATHQUARTER: long (nullable = true)\n",
      " |-- BATHSTHREEQUARTER: long (nullable = true)\n",
      " |-- CLASS: string (nullable = true)\n",
      " |-- BATHSTOTAL: long (nullable = true)\n",
      " |-- BATHDESC: string (nullable = true)\n",
      " |-- ROOMAREA5: string (nullable = true)\n",
      " |-- ROOMFLOOR5: string (nullable = true)\n",
      " |-- ROOMAREA6: string (nullable = true)\n",
      " |-- ROOMFLOOR6: string (nullable = true)\n",
      " |-- ROOMAREA7: string (nullable = true)\n",
      " |-- ROOMFLOOR7: string (nullable = true)\n",
      " |-- ROOMAREA8: string (nullable = true)\n",
      " |-- ROOMFLOOR8: string (nullable = true)\n",
      " |-- BEDROOMS: long (nullable = true)\n",
      " |-- SQFTBELOWGROUND: long (nullable = true)\n",
      " |-- ASSUMABLEMORTGAGE: string (nullable = true)\n",
      " |-- ASSOCIATIONFEE: long (nullable = true)\n",
      " |-- ASSESSMENTPENDING: string (nullable = true)\n",
      " |-- ASSESSEDVALUATION: double (nullable = true)\n",
      "\n"
     ]
    },
    {
     "name": "stderr",
     "output_type": "stream",
     "text": [
      "                                                                                \r"
     ]
    }
   ],
   "source": [
    "# Save imported CSV->Dataframe to Parquet and read it back\n",
    "df.write.parquet('Real_Estate.parq', mode='overwrite')\n",
    "df = spark.read.parquet('Real_Estate.parq')\n",
    "df.printSchema()"
   ]
  },
  {
   "cell_type": "code",
   "execution_count": 6,
   "id": "3e7ee5f7-807b-4454-af99-f5aa766ac507",
   "metadata": {
    "execution": {
     "iopub.execute_input": "2023-05-02T22:30:45.583916Z",
     "iopub.status.busy": "2023-05-02T22:30:45.583457Z",
     "iopub.status.idle": "2023-05-02T22:30:46.302531Z",
     "shell.execute_reply": "2023-05-02T22:30:46.302178Z",
     "shell.execute_reply.started": "2023-05-02T22:30:45.583890Z"
    },
    "tags": []
   },
   "outputs": [
    {
     "name": "stdout",
     "output_type": "stream",
     "text": [
      "<class 'pandas.core.frame.DataFrame'>\n",
      "RangeIndex: 5000 entries, 0 to 4999\n",
      "Columns: 74 entries, NO to ASSESSEDVALUATION\n",
      "dtypes: float64(5), int64(22), object(47)\n",
      "memory usage: 15.3 MB\n"
     ]
    },
    {
     "data": {
      "text/html": [
       "<div>\n",
       "<style scoped>\n",
       "    .dataframe tbody tr th:only-of-type {\n",
       "        vertical-align: middle;\n",
       "    }\n",
       "\n",
       "    .dataframe tbody tr th {\n",
       "        vertical-align: top;\n",
       "    }\n",
       "\n",
       "    .dataframe thead th {\n",
       "        text-align: right;\n",
       "    }\n",
       "</style>\n",
       "<table border=\"1\" class=\"dataframe\">\n",
       "  <thead>\n",
       "    <tr style=\"text-align: right;\">\n",
       "      <th></th>\n",
       "      <th>field</th>\n",
       "      <th>non-null count</th>\n",
       "      <th>missing ratio</th>\n",
       "      <th>data type</th>\n",
       "      <th>unique count</th>\n",
       "      <th>unique preview</th>\n",
       "    </tr>\n",
       "  </thead>\n",
       "  <tbody>\n",
       "    <tr>\n",
       "      <th>0</th>\n",
       "      <td>ACRES</td>\n",
       "      <td>5000</td>\n",
       "      <td>0.0</td>\n",
       "      <td>float64</td>\n",
       "      <td>570</td>\n",
       "      <td>[0.0, 0.002, 0.005, 0.007, 0.01, ..., 5.41, 6.0, 6.035, 9.27, 9.47]</td>\n",
       "    </tr>\n",
       "    <tr>\n",
       "      <th>1</th>\n",
       "      <td>APPLIANCES</td>\n",
       "      <td>4669</td>\n",
       "      <td>0.0662</td>\n",
       "      <td>object</td>\n",
       "      <td>743</td>\n",
       "      <td>[Cooktop, Dishwasher, Refrigerator, Cooktop, Dishwasher, Refrigerator, Washer, Dryer, Cooktop, Dishwasher, Refrigerator, Washer, Dryer, Disposal, Cooktop, Exhaust Fan/Hood, Dishwasher, Refrigerator, Washer, Dryer, Water Softener - Owned, Cooktop, Exhaust Fan/Hood, Refrigerator, Washer, Dryer, ..., Wall Oven, Microwave, Exhaust Fan/Hood, Dishwasher, Refrigerator, Washer, Dryer, Disposal, Wall Oven, Microwave, Exhaust Fan/Hood, Dishwasher, Refrigerator, Washer, Dryer, Water Softener - Owned, Disposal, Washer, Dryer, Water Softener - Owned, Water Softener - Owned, Disposal, Air-To-Air Exchanger, Furnace Humidifier]</td>\n",
       "    </tr>\n",
       "    <tr>\n",
       "      <th>2</th>\n",
       "      <td>ASSESSEDVALUATION</td>\n",
       "      <td>5000</td>\n",
       "      <td>0.0</td>\n",
       "      <td>float64</td>\n",
       "      <td>756</td>\n",
       "      <td>[0.0, 1.0, 100.0, 1000.0, 1001.0, ..., 930.0, 940.0, 952.56, 978.0, 980.58]</td>\n",
       "    </tr>\n",
       "    <tr>\n",
       "      <th>3</th>\n",
       "      <td>ASSESSMENTPENDING</td>\n",
       "      <td>5000</td>\n",
       "      <td>0.0</td>\n",
       "      <td>object</td>\n",
       "      <td>3</td>\n",
       "      <td>[No, Unknown, Yes]</td>\n",
       "    </tr>\n",
       "    <tr>\n",
       "      <th>4</th>\n",
       "      <td>ASSOCIATIONFEE</td>\n",
       "      <td>5000</td>\n",
       "      <td>0.0</td>\n",
       "      <td>int64</td>\n",
       "      <td>332</td>\n",
       "      <td>[0, 10, 100, 1000, 101, ..., 957, 96, 98, 983, 99]</td>\n",
       "    </tr>\n",
       "    <tr>\n",
       "      <th>5</th>\n",
       "      <td>ASSUMABLEMORTGAGE</td>\n",
       "      <td>1896</td>\n",
       "      <td>0.6208</td>\n",
       "      <td>object</td>\n",
       "      <td>4</td>\n",
       "      <td>[Information Coming, Not Assumable, Yes w/ Qualifying, Yes w/No Qualifying]</td>\n",
       "    </tr>\n",
       "    <tr>\n",
       "      <th>6</th>\n",
       "      <td>BACKONMARKETDATE</td>\n",
       "      <td>0</td>\n",
       "      <td>1.0</td>\n",
       "      <td>object</td>\n",
       "      <td>0</td>\n",
       "      <td>[]</td>\n",
       "    </tr>\n",
       "    <tr>\n",
       "      <th>7</th>\n",
       "      <td>BASEMENT</td>\n",
       "      <td>5000</td>\n",
       "      <td>0.0</td>\n",
       "      <td>object</td>\n",
       "      <td>670</td>\n",
       "      <td>[Concrete Block, Concrete Block, Poured Concrete, Concrete Block, Slab, Unfinished, Concrete Block, Unfinished, Crawl Space, ..., Walkout, Sump Pump, Walkout, Sump Pump, Concrete Block, Walkout, Sump Pump, Day/Lookout Windows, Walkout, Sump Pump, Poured Concrete, Unfinished, Walkout, Unfinished]</td>\n",
       "    </tr>\n",
       "    <tr>\n",
       "      <th>8</th>\n",
       "      <td>BATHDESC</td>\n",
       "      <td>4634</td>\n",
       "      <td>0.0732</td>\n",
       "      <td>object</td>\n",
       "      <td>887</td>\n",
       "      <td>[1/2 Basement, 1/2 Basement, Basement, 1/2 Basement, Rough In, Basement, 3/4 Basement, 3/4 Basement, Basement, ..., Upper Level Full Bath , Walk-In Shower, Upper Level Full Bath , Walk-In Shower, 3/4 Basement, Upper Level Full Bath , Walk-In Shower, Basement, Upper Level Full Bath , Whirlpool, Whirlpool]</td>\n",
       "    </tr>\n",
       "    <tr>\n",
       "      <th>9</th>\n",
       "      <td>BATHQUARTER</td>\n",
       "      <td>5000</td>\n",
       "      <td>0.0</td>\n",
       "      <td>int64</td>\n",
       "      <td>3</td>\n",
       "      <td>[0, 1, 2]</td>\n",
       "    </tr>\n",
       "    <tr>\n",
       "      <th>10</th>\n",
       "      <td>BATHSFULL</td>\n",
       "      <td>5000</td>\n",
       "      <td>0.0</td>\n",
       "      <td>int64</td>\n",
       "      <td>6</td>\n",
       "      <td>[0, 1, 2, 3, 4, 5]</td>\n",
       "    </tr>\n",
       "    <tr>\n",
       "      <th>11</th>\n",
       "      <td>BATHSHALF</td>\n",
       "      <td>5000</td>\n",
       "      <td>0.0</td>\n",
       "      <td>int64</td>\n",
       "      <td>4</td>\n",
       "      <td>[0, 1, 2, 4]</td>\n",
       "    </tr>\n",
       "    <tr>\n",
       "      <th>12</th>\n",
       "      <td>BATHSTHREEQUARTER</td>\n",
       "      <td>4999</td>\n",
       "      <td>0.0002</td>\n",
       "      <td>float64</td>\n",
       "      <td>5</td>\n",
       "      <td>[0.0, 1.0, 2.0, 3.0, 4.0]</td>\n",
       "    </tr>\n",
       "    <tr>\n",
       "      <th>13</th>\n",
       "      <td>BATHSTOTAL</td>\n",
       "      <td>5000</td>\n",
       "      <td>0.0</td>\n",
       "      <td>int64</td>\n",
       "      <td>7</td>\n",
       "      <td>[1, 2, 3, 4, 5, 6, 7]</td>\n",
       "    </tr>\n",
       "    <tr>\n",
       "      <th>14</th>\n",
       "      <td>BEDROOMS</td>\n",
       "      <td>5000</td>\n",
       "      <td>0.0</td>\n",
       "      <td>int64</td>\n",
       "      <td>10</td>\n",
       "      <td>[0, 1, 2, 3, 4, 5, 6, 7, 8, 9]</td>\n",
       "    </tr>\n",
       "    <tr>\n",
       "      <th>15</th>\n",
       "      <td>CITY</td>\n",
       "      <td>5000</td>\n",
       "      <td>0.0</td>\n",
       "      <td>object</td>\n",
       "      <td>5</td>\n",
       "      <td>[LELM - Lake Elmo, MAPW - Maplewood, OAKD - Oakdale, STP - Saint Paul, WB - Woodbury]</td>\n",
       "    </tr>\n",
       "    <tr>\n",
       "      <th>16</th>\n",
       "      <td>CLASS</td>\n",
       "      <td>5000</td>\n",
       "      <td>0.0</td>\n",
       "      <td>object</td>\n",
       "      <td>1</td>\n",
       "      <td>[SF]</td>\n",
       "    </tr>\n",
       "    <tr>\n",
       "      <th>17</th>\n",
       "      <td>COOLINGDESCRIPTION</td>\n",
       "      <td>5000</td>\n",
       "      <td>0.0</td>\n",
       "      <td>object</td>\n",
       "      <td>13</td>\n",
       "      <td>[Central, Central, Ductless Mini-Split, Central, Wall, Central, Window, Central, Window, Wall, ..., Wall, Wall, Ductless Mini-Split, Window, Window, Ductless Mini-Split, Window, Wall]</td>\n",
       "    </tr>\n",
       "    <tr>\n",
       "      <th>18</th>\n",
       "      <td>DAYSONMARKET</td>\n",
       "      <td>5000</td>\n",
       "      <td>0.0</td>\n",
       "      <td>int64</td>\n",
       "      <td>165</td>\n",
       "      <td>[0, 1, 10, 100, 101, ..., 94, 95, 96, 97, 98]</td>\n",
       "    </tr>\n",
       "    <tr>\n",
       "      <th>19</th>\n",
       "      <td>DININGROOMDESCRIPTION</td>\n",
       "      <td>4352</td>\n",
       "      <td>0.1296</td>\n",
       "      <td>object</td>\n",
       "      <td>73</td>\n",
       "      <td>[Breakfast Area, Breakfast Area, Kitchen/Dining Room, Breakfast Area, Kitchen/Dining Room, Living/Dining Room, Breakfast Area, Living/Dining Room, Breakfast Area, Other, ..., Separate/Formal Dining Room, Informal Dining Room, Other, Separate/Formal Dining Room, Kitchen/Dining Room, Separate/Formal Dining Room, Kitchen/Dining Room, Living/Dining Room, Separate/Formal Dining Room, Living/Dining Room, Separate/Formal Dining Room, Other]</td>\n",
       "    </tr>\n",
       "    <tr>\n",
       "      <th>20</th>\n",
       "      <td>EXTERIOR</td>\n",
       "      <td>5000</td>\n",
       "      <td>0.0</td>\n",
       "      <td>object</td>\n",
       "      <td>131</td>\n",
       "      <td>[Block, Brick/Stone, Brick/Stone, Block, Brick/Stone, Cement Board, Brick/Stone, Cement Board, Other, ..., Wood, Vinyl, Brick/Stone, Cement Board, Wood, Vinyl, Brick/Stone, Cement Board, Fiber Board, Wood, Vinyl, Engineered Wood, Wood, Vinyl, Stucco, Wood, Vinyl, Stucco, Brick/Stone]</td>\n",
       "    </tr>\n",
       "    <tr>\n",
       "      <th>21</th>\n",
       "      <td>FENCE</td>\n",
       "      <td>2972</td>\n",
       "      <td>0.4056</td>\n",
       "      <td>object</td>\n",
       "      <td>71</td>\n",
       "      <td>[Chain Link, Chain Link, Full, Chain Link, Full, Other, Chain Link, Full, Partial, Chain Link, Invisible, Full, ..., Wood, Wire, Chain Link, Wood, Wire, Chain Link, Full, Wood, Wire, Full, Wood, Wire, Partial, Wood, Wire, Privacy, Full]</td>\n",
       "    </tr>\n",
       "    <tr>\n",
       "      <th>22</th>\n",
       "      <td>FIREPLACES</td>\n",
       "      <td>5000</td>\n",
       "      <td>0.0</td>\n",
       "      <td>int64</td>\n",
       "      <td>9</td>\n",
       "      <td>[0, 1, 2, 3, 4, 5, 6, 7, 8]</td>\n",
       "    </tr>\n",
       "    <tr>\n",
       "      <th>23</th>\n",
       "      <td>FOUNDATIONSIZE</td>\n",
       "      <td>5000</td>\n",
       "      <td>0.0</td>\n",
       "      <td>int64</td>\n",
       "      <td>1115</td>\n",
       "      <td>[1, 1000, 1001, 1002, 1003, ..., 995, 996, 997, 998, 999]</td>\n",
       "    </tr>\n",
       "    <tr>\n",
       "      <th>24</th>\n",
       "      <td>GARAGEDESCRIPTION</td>\n",
       "      <td>5000</td>\n",
       "      <td>0.0</td>\n",
       "      <td>object</td>\n",
       "      <td>478</td>\n",
       "      <td>[Assigned, Assigned, On-Street Parking Only, Attached Garage, Attached Garage, Assigned, Attached Garage, Assigned, Garage Door Opener, ..., Underground Garage, Secured, Assigned, Garage Door Opener, Underground Garage, Secured, Assigned, Units Vary, Garage Door Opener, Underground Garage, Secured, Contract Pkg Required, Other, Underground Garage, Secured, More Parking Offsite for Fee, Valet Parking for Fee, Garage Door Opener, Valet Parking for Fee]</td>\n",
       "    </tr>\n",
       "    <tr>\n",
       "      <th>25</th>\n",
       "      <td>LISTDATE</td>\n",
       "      <td>5000</td>\n",
       "      <td>0.0</td>\n",
       "      <td>object</td>\n",
       "      <td>292</td>\n",
       "      <td>[2017-02-23, 2017-02-24, 2017-02-25, 2017-02-27, 2017-02-28, ..., 2017-12-18, 2017-12-27, 2017-12-28, 2017-12-29, 2018-01-10]</td>\n",
       "    </tr>\n",
       "    <tr>\n",
       "      <th>26</th>\n",
       "      <td>LISTPRICE</td>\n",
       "      <td>5000</td>\n",
       "      <td>0.0</td>\n",
       "      <td>int64</td>\n",
       "      <td>981</td>\n",
       "      <td>[100000, 1000000, 102900, 103000, 104900, ..., 99700, 99900, 999000, 99990, 99999]</td>\n",
       "    </tr>\n",
       "    <tr>\n",
       "      <th>27</th>\n",
       "      <td>LISTTYPE</td>\n",
       "      <td>5000</td>\n",
       "      <td>0.0</td>\n",
       "      <td>object</td>\n",
       "      <td>5</td>\n",
       "      <td>[Exclusive Agency, Exclusive Right, Exclusive Right with Exclusions, Other, Service Agreement]</td>\n",
       "    </tr>\n",
       "    <tr>\n",
       "      <th>28</th>\n",
       "      <td>LIVINGAREA</td>\n",
       "      <td>5000</td>\n",
       "      <td>0.0</td>\n",
       "      <td>int64</td>\n",
       "      <td>2057</td>\n",
       "      <td>[1, 1000, 1001, 1002, 1004, ..., 991, 992, 994, 995, 998]</td>\n",
       "    </tr>\n",
       "    <tr>\n",
       "      <th>29</th>\n",
       "      <td>LOTSIZEDIMENSIONS</td>\n",
       "      <td>5000</td>\n",
       "      <td>0.0</td>\n",
       "      <td>object</td>\n",
       "      <td>2352</td>\n",
       "      <td>[-, ., .0379 Acres, .250 Acres, .33 acre, ..., tbd, to follow, typical, xxxx, zero lot line]</td>\n",
       "    </tr>\n",
       "    <tr>\n",
       "      <th>30</th>\n",
       "      <td>MAPLETTER</td>\n",
       "      <td>5000</td>\n",
       "      <td>0.0</td>\n",
       "      <td>object</td>\n",
       "      <td>20</td>\n",
       "      <td>[A1, A2, A3, A4, B1, ..., D4, E1, E2, E3, E4]</td>\n",
       "    </tr>\n",
       "    <tr>\n",
       "      <th>31</th>\n",
       "      <td>MLSID</td>\n",
       "      <td>5000</td>\n",
       "      <td>0.0</td>\n",
       "      <td>object</td>\n",
       "      <td>1</td>\n",
       "      <td>[RMLS]</td>\n",
       "    </tr>\n",
       "    <tr>\n",
       "      <th>32</th>\n",
       "      <td>NO</td>\n",
       "      <td>5000</td>\n",
       "      <td>0.0</td>\n",
       "      <td>int64</td>\n",
       "      <td>5000</td>\n",
       "      <td>[1, 10, 100, 1000, 1001, ..., 995, 996, 997, 998, 999]</td>\n",
       "    </tr>\n",
       "    <tr>\n",
       "      <th>33</th>\n",
       "      <td>OFFMARKETDATE</td>\n",
       "      <td>5000</td>\n",
       "      <td>0.0</td>\n",
       "      <td>object</td>\n",
       "      <td>321</td>\n",
       "      <td>[2017-02-24, 2017-02-25, 2017-02-27, 2017-02-28, 2017-03-02, ..., 2018-01-17, 2018-01-18, 2018-01-19, 2018-01-22, 2018-01-24]</td>\n",
       "    </tr>\n",
       "    <tr>\n",
       "      <th>34</th>\n",
       "      <td>ORIGINALLISTPRICE</td>\n",
       "      <td>5000</td>\n",
       "      <td>0.0</td>\n",
       "      <td>int64</td>\n",
       "      <td>958</td>\n",
       "      <td>[100000, 1000000, 103000, 104900, 105000, ..., 99700, 99900, 999000, 99990, 99999]</td>\n",
       "    </tr>\n",
       "    <tr>\n",
       "      <th>35</th>\n",
       "      <td>PDOM</td>\n",
       "      <td>5000</td>\n",
       "      <td>0.0</td>\n",
       "      <td>int64</td>\n",
       "      <td>124</td>\n",
       "      <td>[0, 1, 10, 100, 101, ..., 93, 94, 96, 97, 98]</td>\n",
       "    </tr>\n",
       "    <tr>\n",
       "      <th>36</th>\n",
       "      <td>POOLDESCRIPTION</td>\n",
       "      <td>1707</td>\n",
       "      <td>0.6586</td>\n",
       "      <td>object</td>\n",
       "      <td>25</td>\n",
       "      <td>[Above Ground, Above Ground, Heated, Above Ground, Outdoor, Below Ground, Below Ground, Heated, ..., Outdoor, Outdoor, Heated, Outdoor, Heated, Shared, Outdoor, Shared, Shared]</td>\n",
       "    </tr>\n",
       "    <tr>\n",
       "      <th>37</th>\n",
       "      <td>POSTALCODE</td>\n",
       "      <td>5000</td>\n",
       "      <td>0.0</td>\n",
       "      <td>int64</td>\n",
       "      <td>20</td>\n",
       "      <td>[55042, 55101, 55102, 55103, 55104, ..., 55119, 55125, 55128, 55129, 55130]</td>\n",
       "    </tr>\n",
       "    <tr>\n",
       "      <th>38</th>\n",
       "      <td>POTENTIALSHORTSALE</td>\n",
       "      <td>5000</td>\n",
       "      <td>0.0</td>\n",
       "      <td>object</td>\n",
       "      <td>2</td>\n",
       "      <td>[No, Not Disclosed]</td>\n",
       "    </tr>\n",
       "    <tr>\n",
       "      <th>39</th>\n",
       "      <td>PRICEPERTSFT</td>\n",
       "      <td>5000</td>\n",
       "      <td>0.0</td>\n",
       "      <td>float64</td>\n",
       "      <td>4704</td>\n",
       "      <td>[100.0, 100.0972, 100.1011, 100.1267, 100.1559, ..., 99.8464, 99.8631, 99.8751, 99.9587, 99.9765]</td>\n",
       "    </tr>\n",
       "    <tr>\n",
       "      <th>40</th>\n",
       "      <td>ROOF</td>\n",
       "      <td>4235</td>\n",
       "      <td>0.153</td>\n",
       "      <td>object</td>\n",
       "      <td>73</td>\n",
       "      <td>[Age 8 Years or Less, Age 8 Years or Less, Metal, Age Over 8 Years, Age Over 8 Years, Other, Age Over 8 Years, Shakes, ..., Tile, Unspecified Shingle, Unspecified Shingle, Age 8 Years or Less, Unspecified Shingle, Age Over 8 Years, Wood Shingles]</td>\n",
       "    </tr>\n",
       "    <tr>\n",
       "      <th>41</th>\n",
       "      <td>ROOMAREA1</td>\n",
       "      <td>4543</td>\n",
       "      <td>0.0914</td>\n",
       "      <td>object</td>\n",
       "      <td>781</td>\n",
       "      <td>[\"13'6\"\"x21\", 1 9x 15, 10 X 13, 10 X 16, 10 x 10, ..., 9x10, 9x14, 9x15, 9x21, x 13]</td>\n",
       "    </tr>\n",
       "    <tr>\n",
       "      <th>42</th>\n",
       "      <td>ROOMAREA2</td>\n",
       "      <td>3875</td>\n",
       "      <td>0.225</td>\n",
       "      <td>object</td>\n",
       "      <td>570</td>\n",
       "      <td>[\"9'2\"\"x7\", 0, 08x07, 08x08, 09X09, ..., 9x7, 9x8, 9x8.5, 9x9, 9x9.5]</td>\n",
       "    </tr>\n",
       "    <tr>\n",
       "      <th>43</th>\n",
       "      <td>ROOMAREA3</td>\n",
       "      <td>2688</td>\n",
       "      <td>0.4624</td>\n",
       "      <td>object</td>\n",
       "      <td>880</td>\n",
       "      <td>[\"14'6\"\"X11\", \"21'9\"\"x27\", 0, 08x11, 10 x 12, ..., 9.5x17, 9x10, 9x15, 9x21, 9x9]</td>\n",
       "    </tr>\n",
       "    <tr>\n",
       "      <th>44</th>\n",
       "      <td>ROOMAREA4</td>\n",
       "      <td>4697</td>\n",
       "      <td>0.0606</td>\n",
       "      <td>object</td>\n",
       "      <td>780</td>\n",
       "      <td>[\"9'2\"\"x11\", 08x08, 09x08, 09x09, 09x17, ..., 9x7, 9x8, 9x8.5, 9x8.6, 9x9]</td>\n",
       "    </tr>\n",
       "    <tr>\n",
       "      <th>45</th>\n",
       "      <td>ROOMAREA5</td>\n",
       "      <td>4754</td>\n",
       "      <td>0.0492</td>\n",
       "      <td>object</td>\n",
       "      <td>733</td>\n",
       "      <td>[07x11, 08x10, 09X13, 10 X 11, 10 X 13, ..., 9x14, 9x17, 9x22, 9x8, 9x9]</td>\n",
       "    </tr>\n",
       "    <tr>\n",
       "      <th>46</th>\n",
       "      <td>ROOMAREA6</td>\n",
       "      <td>4609</td>\n",
       "      <td>0.0782</td>\n",
       "      <td>object</td>\n",
       "      <td>556</td>\n",
       "      <td>[08x10, 09 x 08, 09x09, 09x11, 10 X 10, ..., 9x5, 9x7, 9x8, 9x9, 9x9.5]</td>\n",
       "    </tr>\n",
       "    <tr>\n",
       "      <th>47</th>\n",
       "      <td>ROOMAREA7</td>\n",
       "      <td>3473</td>\n",
       "      <td>0.3054</td>\n",
       "      <td>object</td>\n",
       "      <td>630</td>\n",
       "      <td>[07x16, 09X09, 09x09, 09x11, 10 X 10, ..., 9x6, 9x7, 9x8, 9x9, 9x9.5]</td>\n",
       "    </tr>\n",
       "    <tr>\n",
       "      <th>48</th>\n",
       "      <td>ROOMAREA8</td>\n",
       "      <td>1515</td>\n",
       "      <td>0.697</td>\n",
       "      <td>object</td>\n",
       "      <td>373</td>\n",
       "      <td>[09x09, 09x11, 10 X 10, 10 X 11, 10 x 10, ..., 9x17, 9x7, 9x8, 9x9, TBD]</td>\n",
       "    </tr>\n",
       "    <tr>\n",
       "      <th>49</th>\n",
       "      <td>ROOMFAMILYCHAR</td>\n",
       "      <td>3040</td>\n",
       "      <td>0.392</td>\n",
       "      <td>object</td>\n",
       "      <td>104</td>\n",
       "      <td>[2 Story/High/Vaulted Ceilings, 2 Story/High/Vaulted Ceilings, 2 or More, Family Room, 2 Story/High/Vaulted Ceilings, 2 or More, Great Room, 2 Story/High/Vaulted Ceilings, Great Room, 2 Story/High/Vaulted Ceilings, Great Room, Loft, ..., Main Level, Lower Level, Great Room, Family Room, Main Level, Lower Level, Great Room, Family Room, Entertainment/Media Center, Main Level, Lower Level, Great Room, Family Room, Loft, Main Level, Lower Level, Great Room, Loft, Main Level, Lower Level, Loft]</td>\n",
       "    </tr>\n",
       "    <tr>\n",
       "      <th>50</th>\n",
       "      <td>ROOMFLOOR1</td>\n",
       "      <td>4651</td>\n",
       "      <td>0.0698</td>\n",
       "      <td>object</td>\n",
       "      <td>4</td>\n",
       "      <td>[Lower, Main, Third Story, Upper]</td>\n",
       "    </tr>\n",
       "    <tr>\n",
       "      <th>51</th>\n",
       "      <td>ROOMFLOOR2</td>\n",
       "      <td>4018</td>\n",
       "      <td>0.1964</td>\n",
       "      <td>object</td>\n",
       "      <td>3</td>\n",
       "      <td>[Lower, Main, Upper]</td>\n",
       "    </tr>\n",
       "    <tr>\n",
       "      <th>52</th>\n",
       "      <td>ROOMFLOOR3</td>\n",
       "      <td>2799</td>\n",
       "      <td>0.4402</td>\n",
       "      <td>object</td>\n",
       "      <td>5</td>\n",
       "      <td>[Basement, Lower, Main, Third Story, Upper]</td>\n",
       "    </tr>\n",
       "    <tr>\n",
       "      <th>53</th>\n",
       "      <td>ROOMFLOOR4</td>\n",
       "      <td>4847</td>\n",
       "      <td>0.0306</td>\n",
       "      <td>object</td>\n",
       "      <td>3</td>\n",
       "      <td>[Lower, Main, Upper]</td>\n",
       "    </tr>\n",
       "    <tr>\n",
       "      <th>54</th>\n",
       "      <td>ROOMFLOOR5</td>\n",
       "      <td>4855</td>\n",
       "      <td>0.029</td>\n",
       "      <td>object</td>\n",
       "      <td>5</td>\n",
       "      <td>[Basement, Lower, Main, Third Story, Upper]</td>\n",
       "    </tr>\n",
       "    <tr>\n",
       "      <th>55</th>\n",
       "      <td>ROOMFLOOR6</td>\n",
       "      <td>4707</td>\n",
       "      <td>0.0586</td>\n",
       "      <td>object</td>\n",
       "      <td>5</td>\n",
       "      <td>[Basement, Lower, Main, Third Story, Upper]</td>\n",
       "    </tr>\n",
       "    <tr>\n",
       "      <th>56</th>\n",
       "      <td>ROOMFLOOR7</td>\n",
       "      <td>3559</td>\n",
       "      <td>0.2882</td>\n",
       "      <td>object</td>\n",
       "      <td>5</td>\n",
       "      <td>[Basement, Lower, Main, Third Story, Upper]</td>\n",
       "    </tr>\n",
       "    <tr>\n",
       "      <th>57</th>\n",
       "      <td>ROOMFLOOR8</td>\n",
       "      <td>1561</td>\n",
       "      <td>0.6878</td>\n",
       "      <td>object</td>\n",
       "      <td>5</td>\n",
       "      <td>[Basement, Lower, Main, Third Story, Upper]</td>\n",
       "    </tr>\n",
       "    <tr>\n",
       "      <th>58</th>\n",
       "      <td>ROOMTYPE</td>\n",
       "      <td>5000</td>\n",
       "      <td>0.0</td>\n",
       "      <td>object</td>\n",
       "      <td>2167</td>\n",
       "      <td>[, , Family Room, Kitchen, First (1st) Bedroom, Second (2nd) Bedroom, Third (3rd) Bedroom, Fourth (4th) Bedroom, Fifth (5th) Bedroom, Den, Loft, Laundry, Informal Dining Room, , , Family Room, Kitchen, First (1st) Bedroom, Second (2nd) Bedroom, Third (3rd) Bedroom, Fourth (4th) Bedroom, Fifth (5th) Bedroom, Informal Dining Room, Bonus Room, Recreation Room, Study, Computer Room, , , Family Room, Kitchen, First (1st) Bedroom, Second (2nd) Bedroom, Third (3rd) Bedroom, Fourth (4th) Bedroom, Flex Room, Bonus Room, Laundry, Informal Dining Room, , , Family Room, Kitchen, First (1st) Bedroom, Second (2nd) Bedroom, Third (3rd) Bedroom, Fourth (4th) Bedroom, Flex Room, Informal Dining Room, Loft, Laundry, , , Family Room, Kitchen, First (1st) Bedroom, Second (2nd) Bedroom, Third (3rd) Bedroom, Fourth (4th) Bedroom, Flex Room, Loft, Laundry, Informal Dining Room, ..., Living Room, Dining Room, Kitchen, First (1st) Bedroom, Second (2nd) Bedroom, Third (3rd) Bedroom, Loft, Laundry, Living Ro...</td>\n",
       "    </tr>\n",
       "    <tr>\n",
       "      <th>59</th>\n",
       "      <td>SALESCLOSEPRICE</td>\n",
       "      <td>5000</td>\n",
       "      <td>0.0</td>\n",
       "      <td>int64</td>\n",
       "      <td>1423</td>\n",
       "      <td>[100000, 101700, 102000, 102165, 102500, ..., 98100, 98500, 99000, 996000, 99900]</td>\n",
       "    </tr>\n",
       "    <tr>\n",
       "      <th>60</th>\n",
       "      <td>SCHOOLDISTRICTNUMBER</td>\n",
       "      <td>5000</td>\n",
       "      <td>0.0</td>\n",
       "      <td>object</td>\n",
       "      <td>8</td>\n",
       "      <td>[6 - South St. Paul, 622 - North St Paul-Maplewood, 623 - Roseville, 624 - White Bear Lake, 625 - St. Paul, 832 - Mahtomedi, 833 - South Washington County, 834 - Stillwater]</td>\n",
       "    </tr>\n",
       "    <tr>\n",
       "      <th>61</th>\n",
       "      <td>SQFTABOVEGROUND</td>\n",
       "      <td>5000</td>\n",
       "      <td>0.0</td>\n",
       "      <td>int64</td>\n",
       "      <td>1649</td>\n",
       "      <td>[1, 1000, 1001, 1002, 1003, ..., 993, 994, 995, 996, 998]</td>\n",
       "    </tr>\n",
       "    <tr>\n",
       "      <th>62</th>\n",
       "      <td>SQFTBELOWGROUND</td>\n",
       "      <td>5000</td>\n",
       "      <td>0.0</td>\n",
       "      <td>int64</td>\n",
       "      <td>924</td>\n",
       "      <td>[0, 100, 1000, 1001, 1002, ..., 991, 995, 996, 997, 998]</td>\n",
       "    </tr>\n",
       "    <tr>\n",
       "      <th>63</th>\n",
       "      <td>STATEORPROVINCE</td>\n",
       "      <td>5000</td>\n",
       "      <td>0.0</td>\n",
       "      <td>object</td>\n",
       "      <td>1</td>\n",
       "      <td>[MN]</td>\n",
       "    </tr>\n",
       "    <tr>\n",
       "      <th>64</th>\n",
       "      <td>STREETADDRESS</td>\n",
       "      <td>5000</td>\n",
       "      <td>0.0</td>\n",
       "      <td>object</td>\n",
       "      <td>4985</td>\n",
       "      <td>[1 Irvine Park, 1B, 1000 Scheffer Ave, 1001 Fuller Ave, 1001 Geranium Ave E, 1001 Orchard Ave, ..., 997 Barrett St, 997 McClelland St S, 998 Ashland Ave, 2, 998 Linwood Ave, 999 Kohlman Ln]</td>\n",
       "    </tr>\n",
       "    <tr>\n",
       "      <th>65</th>\n",
       "      <td>STREETNAME</td>\n",
       "      <td>5000</td>\n",
       "      <td>0.0</td>\n",
       "      <td>object</td>\n",
       "      <td>1169</td>\n",
       "      <td>[10th, 10th Street, 10th Street W, 11th, 12th, ..., York Bay, Yorkshire, Youngman, dieter, mcafee circle]</td>\n",
       "    </tr>\n",
       "    <tr>\n",
       "      <th>66</th>\n",
       "      <td>STREETNUMBERNUMERIC</td>\n",
       "      <td>5000</td>\n",
       "      <td>0.0</td>\n",
       "      <td>int64</td>\n",
       "      <td>3015</td>\n",
       "      <td>[1, 1000, 1001, 1002, 10024, ..., 9964, 9965, 997, 998, 999]</td>\n",
       "    </tr>\n",
       "    <tr>\n",
       "      <th>67</th>\n",
       "      <td>STYLE</td>\n",
       "      <td>5000</td>\n",
       "      <td>0.0</td>\n",
       "      <td>object</td>\n",
       "      <td>18</td>\n",
       "      <td>[(CC) Converted Mansion, (CC) High Rise (4+ Levels), (CC) Low Rise (3- Levels), (CC) Manor/Village, (CC) Two Unit, ..., (SF) Two Stories, (TH) Detached, (TH) Quad/4 Corners, (TH) Side x Side, (TW) Twin Home]</td>\n",
       "    </tr>\n",
       "    <tr>\n",
       "      <th>68</th>\n",
       "      <td>TAXES</td>\n",
       "      <td>5000</td>\n",
       "      <td>0.0</td>\n",
       "      <td>int64</td>\n",
       "      <td>2783</td>\n",
       "      <td>[0, 1, 10007, 10030, 1004, ..., 990, 993, 9940, 996, 998]</td>\n",
       "    </tr>\n",
       "    <tr>\n",
       "      <th>69</th>\n",
       "      <td>TAXWITHASSESSMENTS</td>\n",
       "      <td>5000</td>\n",
       "      <td>0.0</td>\n",
       "      <td>float64</td>\n",
       "      <td>2374</td>\n",
       "      <td>[0.0, 1.0, 10030.0, 1004.0, 10048.0, ..., 993.0, 994.0, 996.0, 998.0, 9998.0]</td>\n",
       "    </tr>\n",
       "    <tr>\n",
       "      <th>70</th>\n",
       "      <td>TAXYEAR</td>\n",
       "      <td>5000</td>\n",
       "      <td>0.0</td>\n",
       "      <td>int64</td>\n",
       "      <td>3</td>\n",
       "      <td>[2015, 2016, 2017]</td>\n",
       "    </tr>\n",
       "    <tr>\n",
       "      <th>71</th>\n",
       "      <td>UNITNUMBER</td>\n",
       "      <td>606</td>\n",
       "      <td>0.8788</td>\n",
       "      <td>object</td>\n",
       "      <td>237</td>\n",
       "      <td>[#203, #B, #C, 0, 1, ..., R1803, R2810, R3401, R401, R903]</td>\n",
       "    </tr>\n",
       "    <tr>\n",
       "      <th>72</th>\n",
       "      <td>YEARBUILT</td>\n",
       "      <td>5000</td>\n",
       "      <td>0.0</td>\n",
       "      <td>int64</td>\n",
       "      <td>150</td>\n",
       "      <td>[1850, 1858, 1865, 1868, 1871, ..., 2014, 2015, 2016, 2017, 2018]</td>\n",
       "    </tr>\n",
       "    <tr>\n",
       "      <th>73</th>\n",
       "      <td>ZONING</td>\n",
       "      <td>5000</td>\n",
       "      <td>0.0</td>\n",
       "      <td>object</td>\n",
       "      <td>9</td>\n",
       "      <td>[Business/Commercial, Industrial, Other, Residential-Multi-Family, Residential-Multi-Family, Business/Commercial, Residential-Single, Residential-Single, Business/Commercial, Residential-Single, Other, Residential-Single, Residential-Multi-Family]</td>\n",
       "    </tr>\n",
       "  </tbody>\n",
       "</table>\n",
       "</div>"
      ],
      "text/plain": [
       "                    field non-null count missing ratio data type unique count   \n",
       "0                   ACRES           5000           0.0   float64          570  \\\n",
       "1              APPLIANCES           4669        0.0662    object          743   \n",
       "2       ASSESSEDVALUATION           5000           0.0   float64          756   \n",
       "3       ASSESSMENTPENDING           5000           0.0    object            3   \n",
       "4          ASSOCIATIONFEE           5000           0.0     int64          332   \n",
       "5       ASSUMABLEMORTGAGE           1896        0.6208    object            4   \n",
       "6        BACKONMARKETDATE              0           1.0    object            0   \n",
       "7                BASEMENT           5000           0.0    object          670   \n",
       "8                BATHDESC           4634        0.0732    object          887   \n",
       "9             BATHQUARTER           5000           0.0     int64            3   \n",
       "10              BATHSFULL           5000           0.0     int64            6   \n",
       "11              BATHSHALF           5000           0.0     int64            4   \n",
       "12      BATHSTHREEQUARTER           4999        0.0002   float64            5   \n",
       "13             BATHSTOTAL           5000           0.0     int64            7   \n",
       "14               BEDROOMS           5000           0.0     int64           10   \n",
       "15                   CITY           5000           0.0    object            5   \n",
       "16                  CLASS           5000           0.0    object            1   \n",
       "17     COOLINGDESCRIPTION           5000           0.0    object           13   \n",
       "18           DAYSONMARKET           5000           0.0     int64          165   \n",
       "19  DININGROOMDESCRIPTION           4352        0.1296    object           73   \n",
       "20               EXTERIOR           5000           0.0    object          131   \n",
       "21                  FENCE           2972        0.4056    object           71   \n",
       "22             FIREPLACES           5000           0.0     int64            9   \n",
       "23         FOUNDATIONSIZE           5000           0.0     int64         1115   \n",
       "24      GARAGEDESCRIPTION           5000           0.0    object          478   \n",
       "25               LISTDATE           5000           0.0    object          292   \n",
       "26              LISTPRICE           5000           0.0     int64          981   \n",
       "27               LISTTYPE           5000           0.0    object            5   \n",
       "28             LIVINGAREA           5000           0.0     int64         2057   \n",
       "29      LOTSIZEDIMENSIONS           5000           0.0    object         2352   \n",
       "30              MAPLETTER           5000           0.0    object           20   \n",
       "31                  MLSID           5000           0.0    object            1   \n",
       "32                     NO           5000           0.0     int64         5000   \n",
       "33          OFFMARKETDATE           5000           0.0    object          321   \n",
       "34      ORIGINALLISTPRICE           5000           0.0     int64          958   \n",
       "35                   PDOM           5000           0.0     int64          124   \n",
       "36        POOLDESCRIPTION           1707        0.6586    object           25   \n",
       "37             POSTALCODE           5000           0.0     int64           20   \n",
       "38     POTENTIALSHORTSALE           5000           0.0    object            2   \n",
       "39           PRICEPERTSFT           5000           0.0   float64         4704   \n",
       "40                   ROOF           4235         0.153    object           73   \n",
       "41              ROOMAREA1           4543        0.0914    object          781   \n",
       "42              ROOMAREA2           3875         0.225    object          570   \n",
       "43              ROOMAREA3           2688        0.4624    object          880   \n",
       "44              ROOMAREA4           4697        0.0606    object          780   \n",
       "45              ROOMAREA5           4754        0.0492    object          733   \n",
       "46              ROOMAREA6           4609        0.0782    object          556   \n",
       "47              ROOMAREA7           3473        0.3054    object          630   \n",
       "48              ROOMAREA8           1515         0.697    object          373   \n",
       "49         ROOMFAMILYCHAR           3040         0.392    object          104   \n",
       "50             ROOMFLOOR1           4651        0.0698    object            4   \n",
       "51             ROOMFLOOR2           4018        0.1964    object            3   \n",
       "52             ROOMFLOOR3           2799        0.4402    object            5   \n",
       "53             ROOMFLOOR4           4847        0.0306    object            3   \n",
       "54             ROOMFLOOR5           4855         0.029    object            5   \n",
       "55             ROOMFLOOR6           4707        0.0586    object            5   \n",
       "56             ROOMFLOOR7           3559        0.2882    object            5   \n",
       "57             ROOMFLOOR8           1561        0.6878    object            5   \n",
       "58               ROOMTYPE           5000           0.0    object         2167   \n",
       "59        SALESCLOSEPRICE           5000           0.0     int64         1423   \n",
       "60   SCHOOLDISTRICTNUMBER           5000           0.0    object            8   \n",
       "61        SQFTABOVEGROUND           5000           0.0     int64         1649   \n",
       "62        SQFTBELOWGROUND           5000           0.0     int64          924   \n",
       "63        STATEORPROVINCE           5000           0.0    object            1   \n",
       "64          STREETADDRESS           5000           0.0    object         4985   \n",
       "65             STREETNAME           5000           0.0    object         1169   \n",
       "66    STREETNUMBERNUMERIC           5000           0.0     int64         3015   \n",
       "67                  STYLE           5000           0.0    object           18   \n",
       "68                  TAXES           5000           0.0     int64         2783   \n",
       "69     TAXWITHASSESSMENTS           5000           0.0   float64         2374   \n",
       "70                TAXYEAR           5000           0.0     int64            3   \n",
       "71             UNITNUMBER            606        0.8788    object          237   \n",
       "72              YEARBUILT           5000           0.0     int64          150   \n",
       "73                 ZONING           5000           0.0    object            9   \n",
       "\n",
       "                                                                                                                                                                                                                                                                                                                                                                                                                                                                                                                                                                                                                                                                                                                                                                                                                                                                                                                                                                                                                             unique preview  \n",
       "0                                                                                                                                                                                                                                                                                                                                                                                                                                                                                                                                                                                                                                                                                                                                                                                                                                                                                                                                                                       [0.0, 0.002, 0.005, 0.007, 0.01, ..., 5.41, 6.0, 6.035, 9.27, 9.47]  \n",
       "1                                                                                                                                                                                                                                                                                                                                                                                               [Cooktop, Dishwasher, Refrigerator, Cooktop, Dishwasher, Refrigerator, Washer, Dryer, Cooktop, Dishwasher, Refrigerator, Washer, Dryer, Disposal, Cooktop, Exhaust Fan/Hood, Dishwasher, Refrigerator, Washer, Dryer, Water Softener - Owned, Cooktop, Exhaust Fan/Hood, Refrigerator, Washer, Dryer, ..., Wall Oven, Microwave, Exhaust Fan/Hood, Dishwasher, Refrigerator, Washer, Dryer, Disposal, Wall Oven, Microwave, Exhaust Fan/Hood, Dishwasher, Refrigerator, Washer, Dryer, Water Softener - Owned, Disposal, Washer, Dryer, Water Softener - Owned, Water Softener - Owned, Disposal, Air-To-Air Exchanger, Furnace Humidifier]  \n",
       "2                                                                                                                                                                                                                                                                                                                                                                                                                                                                                                                                                                                                                                                                                                                                                                                                                                                                                                                                                               [0.0, 1.0, 100.0, 1000.0, 1001.0, ..., 930.0, 940.0, 952.56, 978.0, 980.58]  \n",
       "3                                                                                                                                                                                                                                                                                                                                                                                                                                                                                                                                                                                                                                                                                                                                                                                                                                                                                                                                                                                                                        [No, Unknown, Yes]  \n",
       "4                                                                                                                                                                                                                                                                                                                                                                                                                                                                                                                                                                                                                                                                                                                                                                                                                                                                                                                                                                                        [0, 10, 100, 1000, 101, ..., 957, 96, 98, 983, 99]  \n",
       "5                                                                                                                                                                                                                                                                                                                                                                                                                                                                                                                                                                                                                                                                                                                                                                                                                                                                                                                                                               [Information Coming, Not Assumable, Yes w/ Qualifying, Yes w/No Qualifying]  \n",
       "6                                                                                                                                                                                                                                                                                                                                                                                                                                                                                                                                                                                                                                                                                                                                                                                                                                                                                                                                                                                                                                        []  \n",
       "7                                                                                                                                                                                                                                                                                                                                                                                                                                                                                                                                                                                                                                                                                                                                  [Concrete Block, Concrete Block, Poured Concrete, Concrete Block, Slab, Unfinished, Concrete Block, Unfinished, Crawl Space, ..., Walkout, Sump Pump, Walkout, Sump Pump, Concrete Block, Walkout, Sump Pump, Day/Lookout Windows, Walkout, Sump Pump, Poured Concrete, Unfinished, Walkout, Unfinished]  \n",
       "8                                                                                                                                                                                                                                                                                                                                                                                                                                                                                                                                                                                                                                                                                                                         [1/2 Basement, 1/2 Basement, Basement, 1/2 Basement, Rough In, Basement, 3/4 Basement, 3/4 Basement, Basement, ..., Upper Level Full Bath , Walk-In Shower, Upper Level Full Bath , Walk-In Shower, 3/4 Basement, Upper Level Full Bath , Walk-In Shower, Basement, Upper Level Full Bath , Whirlpool, Whirlpool]  \n",
       "9                                                                                                                                                                                                                                                                                                                                                                                                                                                                                                                                                                                                                                                                                                                                                                                                                                                                                                                                                                                                                                 [0, 1, 2]  \n",
       "10                                                                                                                                                                                                                                                                                                                                                                                                                                                                                                                                                                                                                                                                                                                                                                                                                                                                                                                                                                                                                       [0, 1, 2, 3, 4, 5]  \n",
       "11                                                                                                                                                                                                                                                                                                                                                                                                                                                                                                                                                                                                                                                                                                                                                                                                                                                                                                                                                                                                                             [0, 1, 2, 4]  \n",
       "12                                                                                                                                                                                                                                                                                                                                                                                                                                                                                                                                                                                                                                                                                                                                                                                                                                                                                                                                                                                                                [0.0, 1.0, 2.0, 3.0, 4.0]  \n",
       "13                                                                                                                                                                                                                                                                                                                                                                                                                                                                                                                                                                                                                                                                                                                                                                                                                                                                                                                                                                                                                    [1, 2, 3, 4, 5, 6, 7]  \n",
       "14                                                                                                                                                                                                                                                                                                                                                                                                                                                                                                                                                                                                                                                                                                                                                                                                                                                                                                                                                                                                           [0, 1, 2, 3, 4, 5, 6, 7, 8, 9]  \n",
       "15                                                                                                                                                                                                                                                                                                                                                                                                                                                                                                                                                                                                                                                                                                                                                                                                                                                                                                                                                    [LELM - Lake Elmo, MAPW - Maplewood, OAKD - Oakdale, STP - Saint Paul, WB - Woodbury]  \n",
       "16                                                                                                                                                                                                                                                                                                                                                                                                                                                                                                                                                                                                                                                                                                                                                                                                                                                                                                                                                                                                                                     [SF]  \n",
       "17                                                                                                                                                                                                                                                                                                                                                                                                                                                                                                                                                                                                                                                                                                                                                                                                                                                  [Central, Central, Ductless Mini-Split, Central, Wall, Central, Window, Central, Window, Wall, ..., Wall, Wall, Ductless Mini-Split, Window, Window, Ductless Mini-Split, Window, Wall]  \n",
       "18                                                                                                                                                                                                                                                                                                                                                                                                                                                                                                                                                                                                                                                                                                                                                                                                                                                                                                                                                                                            [0, 1, 10, 100, 101, ..., 94, 95, 96, 97, 98]  \n",
       "19                                                                                                                                                                                                                                                                                                                                                                                                                                                                                                                                                                                    [Breakfast Area, Breakfast Area, Kitchen/Dining Room, Breakfast Area, Kitchen/Dining Room, Living/Dining Room, Breakfast Area, Living/Dining Room, Breakfast Area, Other, ..., Separate/Formal Dining Room, Informal Dining Room, Other, Separate/Formal Dining Room, Kitchen/Dining Room, Separate/Formal Dining Room, Kitchen/Dining Room, Living/Dining Room, Separate/Formal Dining Room, Living/Dining Room, Separate/Formal Dining Room, Other]  \n",
       "20                                                                                                                                                                                                                                                                                                                                                                                                                                                                                                                                                                                                                                                                                                                                             [Block, Brick/Stone, Brick/Stone, Block, Brick/Stone, Cement Board, Brick/Stone, Cement Board, Other, ..., Wood, Vinyl, Brick/Stone, Cement Board, Wood, Vinyl, Brick/Stone, Cement Board, Fiber Board, Wood, Vinyl, Engineered Wood, Wood, Vinyl, Stucco, Wood, Vinyl, Stucco, Brick/Stone]  \n",
       "21                                                                                                                                                                                                                                                                                                                                                                                                                                                                                                                                                                                                                                                                                                                                                                                             [Chain Link, Chain Link, Full, Chain Link, Full, Other, Chain Link, Full, Partial, Chain Link, Invisible, Full, ..., Wood, Wire, Chain Link, Wood, Wire, Chain Link, Full, Wood, Wire, Full, Wood, Wire, Partial, Wood, Wire, Privacy, Full]  \n",
       "22                                                                                                                                                                                                                                                                                                                                                                                                                                                                                                                                                                                                                                                                                                                                                                                                                                                                                                                                                                                                              [0, 1, 2, 3, 4, 5, 6, 7, 8]  \n",
       "23                                                                                                                                                                                                                                                                                                                                                                                                                                                                                                                                                                                                                                                                                                                                                                                                                                                                                                                                                                                [1, 1000, 1001, 1002, 1003, ..., 995, 996, 997, 998, 999]  \n",
       "24                                                                                                                                                                                                                                                                                                                                                                                                                                                                                                                                                                   [Assigned, Assigned, On-Street Parking Only, Attached Garage, Attached Garage, Assigned, Attached Garage, Assigned, Garage Door Opener, ..., Underground Garage, Secured, Assigned, Garage Door Opener, Underground Garage, Secured, Assigned, Units Vary, Garage Door Opener, Underground Garage, Secured, Contract Pkg Required, Other, Underground Garage, Secured, More Parking Offsite for Fee, Valet Parking for Fee, Garage Door Opener, Valet Parking for Fee]  \n",
       "25                                                                                                                                                                                                                                                                                                                                                                                                                                                                                                                                                                                                                                                                                                                                                                                                                                                                                                            [2017-02-23, 2017-02-24, 2017-02-25, 2017-02-27, 2017-02-28, ..., 2017-12-18, 2017-12-27, 2017-12-28, 2017-12-29, 2018-01-10]  \n",
       "26                                                                                                                                                                                                                                                                                                                                                                                                                                                                                                                                                                                                                                                                                                                                                                                                                                                                                                                                                       [100000, 1000000, 102900, 103000, 104900, ..., 99700, 99900, 999000, 99990, 99999]  \n",
       "27                                                                                                                                                                                                                                                                                                                                                                                                                                                                                                                                                                                                                                                                                                                                                                                                                                                                                                                                           [Exclusive Agency, Exclusive Right, Exclusive Right with Exclusions, Other, Service Agreement]  \n",
       "28                                                                                                                                                                                                                                                                                                                                                                                                                                                                                                                                                                                                                                                                                                                                                                                                                                                                                                                                                                                [1, 1000, 1001, 1002, 1004, ..., 991, 992, 994, 995, 998]  \n",
       "29                                                                                                                                                                                                                                                                                                                                                                                                                                                                                                                                                                                                                                                                                                                                                                                                                                                                                                                                             [-, ., .0379 Acres, .250 Acres, .33 acre, ..., tbd, to follow, typical, xxxx, zero lot line]  \n",
       "30                                                                                                                                                                                                                                                                                                                                                                                                                                                                                                                                                                                                                                                                                                                                                                                                                                                                                                                                                                                            [A1, A2, A3, A4, B1, ..., D4, E1, E2, E3, E4]  \n",
       "31                                                                                                                                                                                                                                                                                                                                                                                                                                                                                                                                                                                                                                                                                                                                                                                                                                                                                                                                                                                                                                   [RMLS]  \n",
       "32                                                                                                                                                                                                                                                                                                                                                                                                                                                                                                                                                                                                                                                                                                                                                                                                                                                                                                                                                                                   [1, 10, 100, 1000, 1001, ..., 995, 996, 997, 998, 999]  \n",
       "33                                                                                                                                                                                                                                                                                                                                                                                                                                                                                                                                                                                                                                                                                                                                                                                                                                                                                                            [2017-02-24, 2017-02-25, 2017-02-27, 2017-02-28, 2017-03-02, ..., 2018-01-17, 2018-01-18, 2018-01-19, 2018-01-22, 2018-01-24]  \n",
       "34                                                                                                                                                                                                                                                                                                                                                                                                                                                                                                                                                                                                                                                                                                                                                                                                                                                                                                                                                       [100000, 1000000, 103000, 104900, 105000, ..., 99700, 99900, 999000, 99990, 99999]  \n",
       "35                                                                                                                                                                                                                                                                                                                                                                                                                                                                                                                                                                                                                                                                                                                                                                                                                                                                                                                                                                                            [0, 1, 10, 100, 101, ..., 93, 94, 96, 97, 98]  \n",
       "36                                                                                                                                                                                                                                                                                                                                                                                                                                                                                                                                                                                                                                                                                                                                                                                                                                                         [Above Ground, Above Ground, Heated, Above Ground, Outdoor, Below Ground, Below Ground, Heated, ..., Outdoor, Outdoor, Heated, Outdoor, Heated, Shared, Outdoor, Shared, Shared]  \n",
       "37                                                                                                                                                                                                                                                                                                                                                                                                                                                                                                                                                                                                                                                                                                                                                                                                                                                                                                                                                              [55042, 55101, 55102, 55103, 55104, ..., 55119, 55125, 55128, 55129, 55130]  \n",
       "38                                                                                                                                                                                                                                                                                                                                                                                                                                                                                                                                                                                                                                                                                                                                                                                                                                                                                                                                                                                                                      [No, Not Disclosed]  \n",
       "39                                                                                                                                                                                                                                                                                                                                                                                                                                                                                                                                                                                                                                                                                                                                                                                                                                                                                                                                        [100.0, 100.0972, 100.1011, 100.1267, 100.1559, ..., 99.8464, 99.8631, 99.8751, 99.9587, 99.9765]  \n",
       "40                                                                                                                                                                                                                                                                                                                                                                                                                                                                                                                                                                                                                                                                                                                                                                                   [Age 8 Years or Less, Age 8 Years or Less, Metal, Age Over 8 Years, Age Over 8 Years, Other, Age Over 8 Years, Shakes, ..., Tile, Unspecified Shingle, Unspecified Shingle, Age 8 Years or Less, Unspecified Shingle, Age Over 8 Years, Wood Shingles]  \n",
       "41                                                                                                                                                                                                                                                                                                                                                                                                                                                                                                                                                                                                                                                                                                                                                                                                                                                                                                                                                     [\"13'6\"\"x21\", 1 9x 15, 10 X 13, 10 X 16, 10 x 10, ..., 9x10, 9x14, 9x15, 9x21, x 13]  \n",
       "42                                                                                                                                                                                                                                                                                                                                                                                                                                                                                                                                                                                                                                                                                                                                                                                                                                                                                                                                                                    [\"9'2\"\"x7\", 0, 08x07, 08x08, 09X09, ..., 9x7, 9x8, 9x8.5, 9x9, 9x9.5]  \n",
       "43                                                                                                                                                                                                                                                                                                                                                                                                                                                                                                                                                                                                                                                                                                                                                                                                                                                                                                                                                        [\"14'6\"\"X11\", \"21'9\"\"x27\", 0, 08x11, 10 x 12, ..., 9.5x17, 9x10, 9x15, 9x21, 9x9]  \n",
       "44                                                                                                                                                                                                                                                                                                                                                                                                                                                                                                                                                                                                                                                                                                                                                                                                                                                                                                                                                               [\"9'2\"\"x11\", 08x08, 09x08, 09x09, 09x17, ..., 9x7, 9x8, 9x8.5, 9x8.6, 9x9]  \n",
       "45                                                                                                                                                                                                                                                                                                                                                                                                                                                                                                                                                                                                                                                                                                                                                                                                                                                                                                                                                                 [07x11, 08x10, 09X13, 10 X 11, 10 X 13, ..., 9x14, 9x17, 9x22, 9x8, 9x9]  \n",
       "46                                                                                                                                                                                                                                                                                                                                                                                                                                                                                                                                                                                                                                                                                                                                                                                                                                                                                                                                                                  [08x10, 09 x 08, 09x09, 09x11, 10 X 10, ..., 9x5, 9x7, 9x8, 9x9, 9x9.5]  \n",
       "47                                                                                                                                                                                                                                                                                                                                                                                                                                                                                                                                                                                                                                                                                                                                                                                                                                                                                                                                                                    [07x16, 09X09, 09x09, 09x11, 10 X 10, ..., 9x6, 9x7, 9x8, 9x9, 9x9.5]  \n",
       "48                                                                                                                                                                                                                                                                                                                                                                                                                                                                                                                                                                                                                                                                                                                                                                                                                                                                                                                                                                 [09x09, 09x11, 10 X 10, 10 X 11, 10 x 10, ..., 9x17, 9x7, 9x8, 9x9, TBD]  \n",
       "49                                                                                                                                                                                                                                                                                                                                                                                                                                                                                                                          [2 Story/High/Vaulted Ceilings, 2 Story/High/Vaulted Ceilings, 2 or More, Family Room, 2 Story/High/Vaulted Ceilings, 2 or More, Great Room, 2 Story/High/Vaulted Ceilings, Great Room, 2 Story/High/Vaulted Ceilings, Great Room, Loft, ..., Main Level, Lower Level, Great Room, Family Room, Main Level, Lower Level, Great Room, Family Room, Entertainment/Media Center, Main Level, Lower Level, Great Room, Family Room, Loft, Main Level, Lower Level, Great Room, Loft, Main Level, Lower Level, Loft]  \n",
       "50                                                                                                                                                                                                                                                                                                                                                                                                                                                                                                                                                                                                                                                                                                                                                                                                                                                                                                                                                                                                        [Lower, Main, Third Story, Upper]  \n",
       "51                                                                                                                                                                                                                                                                                                                                                                                                                                                                                                                                                                                                                                                                                                                                                                                                                                                                                                                                                                                                                     [Lower, Main, Upper]  \n",
       "52                                                                                                                                                                                                                                                                                                                                                                                                                                                                                                                                                                                                                                                                                                                                                                                                                                                                                                                                                                                              [Basement, Lower, Main, Third Story, Upper]  \n",
       "53                                                                                                                                                                                                                                                                                                                                                                                                                                                                                                                                                                                                                                                                                                                                                                                                                                                                                                                                                                                                                     [Lower, Main, Upper]  \n",
       "54                                                                                                                                                                                                                                                                                                                                                                                                                                                                                                                                                                                                                                                                                                                                                                                                                                                                                                                                                                                              [Basement, Lower, Main, Third Story, Upper]  \n",
       "55                                                                                                                                                                                                                                                                                                                                                                                                                                                                                                                                                                                                                                                                                                                                                                                                                                                                                                                                                                                              [Basement, Lower, Main, Third Story, Upper]  \n",
       "56                                                                                                                                                                                                                                                                                                                                                                                                                                                                                                                                                                                                                                                                                                                                                                                                                                                                                                                                                                                              [Basement, Lower, Main, Third Story, Upper]  \n",
       "57                                                                                                                                                                                                                                                                                                                                                                                                                                                                                                                                                                                                                                                                                                                                                                                                                                                                                                                                                                                              [Basement, Lower, Main, Third Story, Upper]  \n",
       "58  [, , Family Room, Kitchen, First (1st) Bedroom, Second (2nd) Bedroom, Third (3rd) Bedroom, Fourth (4th) Bedroom, Fifth (5th) Bedroom, Den, Loft, Laundry, Informal Dining Room, , , Family Room, Kitchen, First (1st) Bedroom, Second (2nd) Bedroom, Third (3rd) Bedroom, Fourth (4th) Bedroom, Fifth (5th) Bedroom, Informal Dining Room, Bonus Room, Recreation Room, Study, Computer Room, , , Family Room, Kitchen, First (1st) Bedroom, Second (2nd) Bedroom, Third (3rd) Bedroom, Fourth (4th) Bedroom, Flex Room, Bonus Room, Laundry, Informal Dining Room, , , Family Room, Kitchen, First (1st) Bedroom, Second (2nd) Bedroom, Third (3rd) Bedroom, Fourth (4th) Bedroom, Flex Room, Informal Dining Room, Loft, Laundry, , , Family Room, Kitchen, First (1st) Bedroom, Second (2nd) Bedroom, Third (3rd) Bedroom, Fourth (4th) Bedroom, Flex Room, Loft, Laundry, Informal Dining Room, ..., Living Room, Dining Room, Kitchen, First (1st) Bedroom, Second (2nd) Bedroom, Third (3rd) Bedroom, Loft, Laundry, Living Ro...  \n",
       "59                                                                                                                                                                                                                                                                                                                                                                                                                                                                                                                                                                                                                                                                                                                                                                                                                                                                                                                                                        [100000, 101700, 102000, 102165, 102500, ..., 98100, 98500, 99000, 996000, 99900]  \n",
       "60                                                                                                                                                                                                                                                                                                                                                                                                                                                                                                                                                                                                                                                                                                                                                                                                                                                            [6 - South St. Paul, 622 - North St Paul-Maplewood, 623 - Roseville, 624 - White Bear Lake, 625 - St. Paul, 832 - Mahtomedi, 833 - South Washington County, 834 - Stillwater]  \n",
       "61                                                                                                                                                                                                                                                                                                                                                                                                                                                                                                                                                                                                                                                                                                                                                                                                                                                                                                                                                                                [1, 1000, 1001, 1002, 1003, ..., 993, 994, 995, 996, 998]  \n",
       "62                                                                                                                                                                                                                                                                                                                                                                                                                                                                                                                                                                                                                                                                                                                                                                                                                                                                                                                                                                                 [0, 100, 1000, 1001, 1002, ..., 991, 995, 996, 997, 998]  \n",
       "63                                                                                                                                                                                                                                                                                                                                                                                                                                                                                                                                                                                                                                                                                                                                                                                                                                                                                                                                                                                                                                     [MN]  \n",
       "64                                                                                                                                                                                                                                                                                                                                                                                                                                                                                                                                                                                                                                                                                                                                                                                                                                            [1 Irvine Park, 1B, 1000 Scheffer Ave, 1001 Fuller Ave, 1001 Geranium Ave E, 1001 Orchard Ave, ..., 997 Barrett St, 997 McClelland St S, 998 Ashland Ave, 2, 998 Linwood Ave, 999 Kohlman Ln]  \n",
       "65                                                                                                                                                                                                                                                                                                                                                                                                                                                                                                                                                                                                                                                                                                                                                                                                                                                                                                                                [10th, 10th Street, 10th Street W, 11th, 12th, ..., York Bay, Yorkshire, Youngman, dieter, mcafee circle]  \n",
       "66                                                                                                                                                                                                                                                                                                                                                                                                                                                                                                                                                                                                                                                                                                                                                                                                                                                                                                                                                                             [1, 1000, 1001, 1002, 10024, ..., 9964, 9965, 997, 998, 999]  \n",
       "67                                                                                                                                                                                                                                                                                                                                                                                                                                                                                                                                                                                                                                                                                                                                                                                                                          [(CC) Converted Mansion, (CC) High Rise (4+ Levels), (CC) Low Rise (3- Levels), (CC) Manor/Village, (CC) Two Unit, ..., (SF) Two Stories, (TH) Detached, (TH) Quad/4 Corners, (TH) Side x Side, (TW) Twin Home]  \n",
       "68                                                                                                                                                                                                                                                                                                                                                                                                                                                                                                                                                                                                                                                                                                                                                                                                                                                                                                                                                                                [0, 1, 10007, 10030, 1004, ..., 990, 993, 9940, 996, 998]  \n",
       "69                                                                                                                                                                                                                                                                                                                                                                                                                                                                                                                                                                                                                                                                                                                                                                                                                                                                                                                                                            [0.0, 1.0, 10030.0, 1004.0, 10048.0, ..., 993.0, 994.0, 996.0, 998.0, 9998.0]  \n",
       "70                                                                                                                                                                                                                                                                                                                                                                                                                                                                                                                                                                                                                                                                                                                                                                                                                                                                                                                                                                                                                       [2015, 2016, 2017]  \n",
       "71                                                                                                                                                                                                                                                                                                                                                                                                                                                                                                                                                                                                                                                                                                                                                                                                                                                                                                                                                                               [#203, #B, #C, 0, 1, ..., R1803, R2810, R3401, R401, R903]  \n",
       "72                                                                                                                                                                                                                                                                                                                                                                                                                                                                                                                                                                                                                                                                                                                                                                                                                                                                                                                                                                        [1850, 1858, 1865, 1868, 1871, ..., 2014, 2015, 2016, 2017, 2018]  \n",
       "73                                                                                                                                                                                                                                                                                                                                                                                                                                                                                                                                                                                                                                                                                                                                                                                  [Business/Commercial, Industrial, Other, Residential-Multi-Family, Residential-Multi-Family, Business/Commercial, Residential-Single, Residential-Single, Business/Commercial, Residential-Single, Other, Residential-Single, Residential-Multi-Family]  "
      ]
     },
     "metadata": {},
     "output_type": "display_data"
    }
   ],
   "source": [
    "with pd.option_context('display.max_rows', 100, 'display.max_colwidth',1000):\n",
    "    display(glimpse(df.toPandas()))"
   ]
  },
  {
   "cell_type": "markdown",
   "id": "41a4aa4e-76ef-43b5-94e4-af8ccbe2b51d",
   "metadata": {},
   "source": [
    "# Choosing the Algorithm"
   ]
  },
  {
   "cell_type": "markdown",
   "id": "2a6fb2f5-e54b-4eb6-a8b7-8d677fdff058",
   "metadata": {},
   "source": [
    "## pySpark ML\n",
    "\n",
    "    Predict Category\n",
    "    \n",
    "        Unlabeled data -> Clustering -> ml.clustering\n",
    "        Labeled data ->  Classification -> ml.classification\n",
    "\n",
    "    Predicty Quantity\n",
    "    \n",
    "        Regression -> ml.regression\n",
    "\n",
    "    Predict Similarity\n",
    "\n",
    "        Basket Based -> Association Rules -> ml.fpm\n",
    "        User Based -> Collaboration Filtering -> ml.recommendation"
   ]
  },
  {
   "cell_type": "markdown",
   "id": "46f15c74-3794-4835-9f00-61cde9bb580e",
   "metadata": {},
   "source": [
    "## PySpark Regression Methods\n",
    "Methods in ml.regression :\n",
    "\n",
    "* GeneralizedLinearRegression\n",
    "* IsotonicRegression\n",
    "* LinearRegression\n",
    "\n",
    "These first methods differ mostly in how they regularize, which means how they prevent themselves from finding overly complex solutions that are likely to overfit the data. While these methods can be powerful if used correctly, they require a lot of upfront work to ensure their assumptions are met.\n",
    "\n",
    "* DecisionTreeRegression\n",
    "* GBTRegression\n",
    "* RandomForestRegression\n",
    "\n",
    "ml regression also contains tree-based methods which have the ability to easily handle things like missing and categorical values right out of the box. Decision Trees are easy to interpret but a lot of work needs to go in to prevent overfitting. So now we are down to two algorithms, RandomForest, and GBTRegression which differ in how they handle the error reduction.\n",
    "\n",
    "Both Random Forest and Gradient Boosted Trees models are examples of ensemble models. They combine many smaller models together to create a more powerful model."
   ]
  },
  {
   "cell_type": "markdown",
   "id": "0262e359-976d-4596-8a84-2b430554f48a",
   "metadata": {
    "tags": []
   },
   "source": [
    "## Test and Train Splits for Time Series\n",
    "\n",
    "If you've had some exposure to machine learning you may have seen the crucial step of splitting your data into test and training sets, **which needs to be done before applying feature transformations**.\n",
    "\n",
    "Commonly data is split randomly. **Ours contains a time component so splitting randomly would leak information about what happens in the future.**\n",
    "\n",
    "To **prevent** this you can **split your data sequentially and train your model on the first sequences and then test it with the last.**\n",
    "\n",
    "The **size of your sets depends on how far out you need to forecast**. Doing **incremental testing is called step-forward optimization.**"
   ]
  },
  {
   "cell_type": "markdown",
   "id": "d4acbbcb-050b-4baa-a4cc-c84e5e6b412b",
   "metadata": {},
   "source": [
    "[Avoiding Data Leakage in Machine Learning](https://www.kaggle.com/c/santander-value-prediction-challenge/discussion/61408)\n",
    "\n",
    "Special Case: Time Series\n",
    "\n",
    "Data leakage can be especially tricky with time series. Not only do we have to worry about the pitfalls above, we also need to make sure we are not leaking information from the future into the past. When dealing with time series, it would be a mistake to randomly split the data into train and test sets. That would lead to, for example, making predictions about 2016 using data from 2017.\n",
    "\n",
    "**Walk-Forward optimization for time series**\n",
    "\n",
    "![Image](https://conlanscientific.com/media/content/walk-forward-optimization.png)\n",
    "\n",
    "The data from 2017 was obviously not available in 2016. When the final model is deployed, no data from the subsequent year will be available. Like other forms of data leakage, predicting the past with the future will cause us to overestimate the performance of the model. In time series, we use walk-forward optimization to dynamically (and chronologically) split training and test data. Walk-forward optimization mimics the appearance of training your model once each year for use in the following year, which is a realistic application."
   ]
  },
  {
   "cell_type": "markdown",
   "id": "ba86dcc2-b624-441f-a7b5-f79f3f6c32e3",
   "metadata": {},
   "source": [
    "## 10. Test and Train Splits for Time Series (II)\n",
    "\n",
    "Here, we'll create **just one of the sequential test/train splits**, with some added logic you could build out **walk-forward optimization** seen previously."
   ]
  },
  {
   "cell_type": "markdown",
   "id": "1c533f9b-da44-4150-9499-ece7f8492461",
   "metadata": {},
   "source": [
    "### According to the course"
   ]
  },
  {
   "cell_type": "code",
   "execution_count": 7,
   "id": "67757925-ea85-484b-a412-9ba2fc36f9db",
   "metadata": {
    "execution": {
     "iopub.execute_input": "2023-05-02T22:30:46.303058Z",
     "iopub.status.busy": "2023-05-02T22:30:46.302943Z",
     "iopub.status.idle": "2023-05-02T22:30:47.323347Z",
     "shell.execute_reply": "2023-05-02T22:30:47.322788Z",
     "shell.execute_reply.started": "2023-05-02T22:30:46.303047Z"
    },
    "tags": []
   },
   "outputs": [
    {
     "name": "stdout",
     "output_type": "stream",
     "text": [
      "Total: 5000 Train: 4585 Test: 345 Ignored: 70\n"
     ]
    }
   ],
   "source": [
    "# Create variables for max and min dates in our dataset\n",
    "max_date = F.lit(df.agg({'OFFMARKETDATE': 'max'}).collect()[0][0])\n",
    "min_date = F.lit(df.agg({'OFFMARKETDATE': 'min'}).collect()[0][0])\n",
    "# print(f'{min_date=}, {max_date=}')\n",
    "# Find how many days our data spans\n",
    "range_in_days = F.datediff(max_date, min_date)\n",
    "# print(f'{range_in_days=}')\n",
    "# Find the date to split the dataset on\n",
    "split_in_days = F.round(range_in_days * 0.8).cast('integer')\n",
    "# print(f'{split_in_days=}')\n",
    "split_date = F.date_add(min_date, split_in_days)\n",
    "# print(f'{split_date=}')\n",
    "\n",
    "# Split the data into 80% train, 20% test\n",
    "train_df = df.select('NO').where(df['OFFMARKETDATE'] < split_date)\n",
    "# Here we also avoid test set OFFMARKETDATE whose LISTDATE occurs before split_date avoiding information leakage\n",
    "test_df = df.select('NO').where(df['OFFMARKETDATE'] >= split_date).where(df['LISTDATE'] <= split_date)\n",
    "print(f'Total: {df.count()} Train: {train_df.count()} Test: {test_df.count()} Ignored: {df.count()-train_df.count()-test_df.count()}')"
   ]
  },
  {
   "cell_type": "markdown",
   "id": "8934b924-91fb-4e55-954a-261f18fddcb9",
   "metadata": {
    "tags": []
   },
   "source": [
    "### My alternative seems better\n",
    "\n",
    "* Avoids selecting all fields to just aggregate one.\n",
    "* Aggregates min() and max() at once and get data via first() rathen then twice collect()[0][0].\n",
    "* Uses pre-evaluated constants rather than lazy `col()` evaluation from Spark.\n",
    "\n",
    "Results:\n",
    "\n",
    "* Less tasks (8 to 10)\n",
    "* Same time (6s)\n",
    "* Less Input (8.6MiB to 8.7MiB)\n",
    "* Less shuffle read (64B to 118B)\n",
    "* Less Storage Memory (291.1KiB to 338.6 KiB)\n",
    "* Less Query Duration (0.21s to 0.381s)"
   ]
  },
  {
   "cell_type": "code",
   "execution_count": 8,
   "id": "d2fe745f-9ae4-4374-bfed-e1f1e2a49584",
   "metadata": {
    "execution": {
     "iopub.execute_input": "2023-05-02T22:30:47.324058Z",
     "iopub.status.busy": "2023-05-02T22:30:47.323910Z",
     "iopub.status.idle": "2023-05-02T22:30:47.833838Z",
     "shell.execute_reply": "2023-05-02T22:30:47.833304Z",
     "shell.execute_reply.started": "2023-05-02T22:30:47.324041Z"
    },
    "tags": []
   },
   "outputs": [
    {
     "name": "stdout",
     "output_type": "stream",
     "text": [
      "split_date=datetime.date(2017, 11, 18)\n",
      "Total: 5000 Train: 4585 Test: 345 Ignored: 70\n"
     ]
    }
   ],
   "source": [
    "# Create variables for max and min dates in our dataset\n",
    "min_date, max_date = df.select('OFFMARKETDATE').agg(F.min('OFFMARKETDATE'), F.max('OFFMARKETDATE')).first()\n",
    "# print(f'{min_date=}, {max_date=}')\n",
    "# Find how many days our data spans\n",
    "range_in_days = (max_date - min_date).days\n",
    "# print(f'{range_in_days=}')\n",
    "# Find the date to split the dataset on\n",
    "split_in_days = int(range_in_days * 0.8)\n",
    "# print(f'{split_in_days=}')\n",
    "split_date = min_date + datetime.timedelta(days=split_in_days)\n",
    "print(f'{split_date=}')\n",
    "\n",
    "# Split the data into 80% train, 20% test\n",
    "train_df = df.select('NO').where(df['OFFMARKETDATE'] < split_date)\n",
    "# Here we also avoid test set OFFMARKETDATE whose LISTDATE occurs before split_date avoiding information leakage\n",
    "test_df = df.select('NO').where(df['OFFMARKETDATE'] >= split_date).where(df['LISTDATE'] <= split_date)\n",
    "print(f'Total: {df.count()} Train: {train_df.count()} Test: {test_df.count()} Ignored: {df.count()-train_df.count()-test_df.count()}')"
   ]
  },
  {
   "cell_type": "markdown",
   "id": "72a2956e-b569-4a5d-9668-33a1daa1951e",
   "metadata": {
    "tags": []
   },
   "source": [
    "## Exercises"
   ]
  },
  {
   "cell_type": "markdown",
   "id": "1c8d0b7b-0b39-4639-a460-f1830e2f04d9",
   "metadata": {},
   "source": [
    "### Creating Time Splits"
   ]
  },
  {
   "cell_type": "code",
   "execution_count": 9,
   "id": "af12690f-e3bf-4f47-9e29-f6268953d21f",
   "metadata": {
    "execution": {
     "iopub.execute_input": "2023-05-02T22:30:47.834593Z",
     "iopub.status.busy": "2023-05-02T22:30:47.834433Z",
     "iopub.status.idle": "2023-05-02T22:30:47.838463Z",
     "shell.execute_reply": "2023-05-02T22:30:47.838011Z",
     "shell.execute_reply.started": "2023-05-02T22:30:47.834577Z"
    },
    "tags": []
   },
   "outputs": [],
   "source": [
    "def train_test_split_date(df, split_col, test_days):\n",
    "    split_date = None\n",
    "    if isinstance(test_days, float):\n",
    "        print('is float')\n",
    "        max_date = df.agg({split_col: 'max'}).collect()[0][0]\n",
    "        min_date = df.agg({split_col: 'min'}).collect()[0][0]\n",
    "        split_in_days = int((max_date - min_date).days * test_days) + 1\n",
    "        split_date = max_date - datetime.timedelta(days=split_in_days)\n",
    "    elif isinstance(test_days, int):\n",
    "        print('is int')\n",
    "        max_date = df.agg({split_col: 'max'}).collect()[0][0]\n",
    "        split_date = max_date - datetime.timedelta(days=test_days)\n",
    "    return split_date"
   ]
  },
  {
   "cell_type": "code",
   "execution_count": 10,
   "id": "aff30810-f742-44a4-a112-325d0ca5613d",
   "metadata": {
    "execution": {
     "iopub.execute_input": "2023-05-02T22:30:47.839240Z",
     "iopub.status.busy": "2023-05-02T22:30:47.838989Z",
     "iopub.status.idle": "2023-05-02T22:30:48.197440Z",
     "shell.execute_reply": "2023-05-02T22:30:48.197080Z",
     "shell.execute_reply.started": "2023-05-02T22:30:47.839223Z"
    },
    "tags": []
   },
   "outputs": [
    {
     "name": "stdout",
     "output_type": "stream",
     "text": [
      "is int\n",
      "split_date=datetime.date(2017, 12, 10)\n",
      "Total: 5000 Train: 4828 Test: 154 Ignored: 18\n"
     ]
    }
   ],
   "source": [
    "# Find the date to use in spitting test and train\n",
    "split_date = train_test_split_date(df, 'OFFMARKETDATE', 45)\n",
    "print(f'{split_date=}')\n",
    "# Create Sequential Test and Training Sets\n",
    "train_df = df.where(df['OFFMARKETDATE'] < split_date) \n",
    "test_df = df.where(df['OFFMARKETDATE'] >= split_date).where(df['LISTDATE'] <= split_date)\n",
    "print(f'Total: {df.count()} Train: {train_df.count()} Test: {test_df.count()} Ignored: {df.count()-train_df.count()-test_df.count()}')"
   ]
  },
  {
   "cell_type": "code",
   "execution_count": 11,
   "id": "39f082d5-46f7-4ddd-8204-e7c2c3663247",
   "metadata": {
    "execution": {
     "iopub.execute_input": "2023-05-02T22:30:48.197857Z",
     "iopub.status.busy": "2023-05-02T22:30:48.197759Z",
     "iopub.status.idle": "2023-05-02T22:30:48.525601Z",
     "shell.execute_reply": "2023-05-02T22:30:48.525320Z",
     "shell.execute_reply.started": "2023-05-02T22:30:48.197847Z"
    },
    "tags": []
   },
   "outputs": [
    {
     "name": "stdout",
     "output_type": "stream",
     "text": [
      "is float\n",
      "split_date=datetime.date(2017, 12, 10)\n",
      "Total: 5000 Train: 4828 Test: 154 Ignored: 18\n"
     ]
    }
   ],
   "source": [
    "# Find the date to use in spitting test and train\n",
    "split_date = train_test_split_date(df, 'OFFMARKETDATE', 0.132)\n",
    "print(f'{split_date=}')\n",
    "# Create Sequential Test and Training Sets\n",
    "train_df = df.where(df['OFFMARKETDATE'] < split_date) \n",
    "test_df = df.where(df['OFFMARKETDATE'] >= split_date).where(df['LISTDATE'] <= split_date)\n",
    "print(f'Total: {df.count()} Train: {train_df.count()} Test: {test_df.count()} Ignored: {df.count()-train_df.count()-test_df.count()}')"
   ]
  },
  {
   "cell_type": "markdown",
   "id": "d1467675-3e4b-44a5-9eb5-a2bd3d6ab942",
   "metadata": {},
   "source": [
    "### Adjusting Time Features\n",
    "\n",
    "We have mentioned throughout this course some of the dangers of leaking information to your model during training. Data leakage will cause your model to have very optimistic metrics for accuracy but once real data is run through it the results are often very disappointing.\n",
    "\n",
    "In this exercise, we are going to ensure that DAYSONMARKET only reflects what information we have at the time of predicting the value. I.e., if the house is still on the market, we don't know how many more days it will stay on the market. We need to adjust our test_df to reflect what information we currently have as of 2017-12-10. "
   ]
  },
  {
   "cell_type": "code",
   "execution_count": 12,
   "id": "ff4148f0-87a3-4489-a2ba-cd26ab765c41",
   "metadata": {
    "execution": {
     "iopub.execute_input": "2023-05-02T22:30:48.526257Z",
     "iopub.status.busy": "2023-05-02T22:30:48.526012Z",
     "iopub.status.idle": "2023-05-02T22:30:48.637512Z",
     "shell.execute_reply": "2023-05-02T22:30:48.636900Z",
     "shell.execute_reply.started": "2023-05-02T22:30:48.526245Z"
    },
    "tags": []
   },
   "outputs": [
    {
     "name": "stdout",
     "output_type": "stream",
     "text": [
      "+----------+-------------+---------------------+------------+\n",
      "|  LISTDATE|OFFMARKETDATE|DAYSONMARKET_Original|DAYSONMARKET|\n",
      "+----------+-------------+---------------------+------------+\n",
      "|2017-10-06|   2018-01-24|                  110|          65|\n",
      "|2017-09-18|   2017-12-12|                   82|          83|\n",
      "|2017-11-07|   2017-12-12|                   35|          33|\n",
      "|2017-10-30|   2017-12-11|                   42|          41|\n",
      "|2017-07-14|   2017-12-19|                  158|         149|\n",
      "|2017-10-25|   2017-12-20|                   45|          46|\n",
      "|2017-12-07|   2017-12-23|                   16|           3|\n",
      "|2017-11-22|   2017-12-16|                   24|          18|\n",
      "|2017-10-27|   2017-12-13|                   47|          44|\n",
      "|2017-09-29|   2017-12-12|                   12|          72|\n",
      "|2017-11-28|   2017-12-11|                   13|          12|\n",
      "|2017-09-09|   2018-01-17|                  119|          92|\n",
      "|2017-11-18|   2017-12-15|                   26|          22|\n",
      "|2017-12-07|   2017-12-18|                   11|           3|\n",
      "|2017-11-25|   2018-01-02|                   38|          15|\n",
      "|2017-11-09|   2018-01-03|                   55|          31|\n",
      "|2017-10-18|   2017-12-26|                   69|          53|\n",
      "|2017-10-03|   2017-12-15|                   40|          68|\n",
      "|2017-10-16|   2017-12-15|                   60|          55|\n",
      "|2017-11-18|   2017-12-28|                   40|          22|\n",
      "+----------+-------------+---------------------+------------+\n",
      "only showing top 20 rows\n",
      "\n"
     ]
    }
   ],
   "source": [
    "split_date = F.to_date(F.lit('2017-12-10'))\n",
    "# Create Sequential Test set\n",
    "test_df = df.where(df['OFFMARKETDATE'] >= split_date).where(df['LISTDATE'] <= split_date)\n",
    "\n",
    "# Create a copy of DAYSONMARKET to review later\n",
    "test_df = test_df.withColumn('DAYSONMARKET_Original', test_df['DAYSONMARKET'])\n",
    "\n",
    "# Recalculate DAYSONMARKET from what we know on our split date\n",
    "test_df = test_df.withColumn('DAYSONMARKET', F.datediff(split_date, 'LISTDATE'))\n",
    "\n",
    "# Review the difference\n",
    "test_df[['LISTDATE', 'OFFMARKETDATE', 'DAYSONMARKET_Original', 'DAYSONMARKET']].show()"
   ]
  },
  {
   "cell_type": "markdown",
   "id": "0fbe345d-bcf1-443b-92b8-92b94ccb1ae0",
   "metadata": {},
   "source": [
    "### Evaluating a Model\n",
    "from pyspark.ml.evaluation import RegressionEvaluator\n",
    "# Select columns to compute test error\n",
    "evaluator = RegressionEvaluator(labelCol=\"SALESCLOSEPRICE\",\n",
    "predictionCol=\"Prediction_Price\")\n",
    "# Create evaluation metrics\n",
    "rmse = evaluator.evaluate(predictions, {evaluator.metricName: \"rmse\"})\n",
    "r2 = evaluator.evaluate(predictions, {evaluator.metricName: \"r2\"})\n",
    "# Print Model Metrics\n",
    "print('RMSE: ' + str(rmse))\n",
    "print('R^2: ' + str(r2))"
   ]
  },
  {
   "cell_type": "markdown",
   "id": "fd2e58ed-efae-45a1-90bd-05bd4861d6fa",
   "metadata": {},
   "source": [
    "# Feature Engineering Assumptions for RFR"
   ]
  },
  {
   "cell_type": "markdown",
   "id": "9b696e24-27ad-4693-ac38-60ae4c734fa8",
   "metadata": {},
   "source": [
    "## Assumptions Needed for Features\n",
    "**Random Forest Regression**\n",
    "\n",
    "The lack of assumptions needed for Random Forest Regression make it and its related methods some of the most popular choices for predicting continuous values! \n",
    "\n",
    "* Skewed/Non Normal Data? OK\n",
    "* Unscaled? OK\n",
    "* Missing Data? OK\n",
    "* Categorical Data? OK"
   ]
  },
  {
   "cell_type": "markdown",
   "id": "741d0b68-9481-4953-b52f-b1136027b18d",
   "metadata": {},
   "source": [
    "## Appended Features\n",
    "**Economic**\n",
    "* 30 Year Mortgage Rates\n",
    "    * 30 year Mortgage Rate to see how much people are willing to pay depending on their rate.\n",
    "\n",
    "**Governmental**  \n",
    "City data to see how unique a house is in the area or if it is exceptionally cheap or expensive.\n",
    "* Median Home Price for City\n",
    "* Home Age Percentages for City\n",
    "* Home Size Percentages for City\n",
    "\n",
    "**Social**  \n",
    "Transportation metrics can help us understand how much people are willing to pay for a convenient location.\n",
    "* Walk Score\n",
    "* Bike Score\n",
    "\n",
    "**Seasonal**  \n",
    "Bank holidays to see if that impacted how or when houses were sold.\n",
    "* Bank Holidays"
   ]
  },
  {
   "cell_type": "markdown",
   "id": "3b8cf4eb-fa2a-49d1-ae4a-b2d515a141db",
   "metadata": {},
   "source": [
    "pyspark how to create a column from a list of values## Engineered Features\n",
    "**Temporal Features**  \n",
    "Time components like the month or the week that a holiday falls on are needed help attribute seasonal effects.\n",
    "* Limited value with one year of data\n",
    "* Holiday Weeks\n",
    "\n",
    "**Rates, Ratios, Sums**  \n",
    "Valuable but often the hardest to create features are rates, ratios and other generated features that need either business or personal context to create.\n",
    "* Business Context\n",
    "* Personal Context\n",
    "\n",
    "**Expanded Features**  \n",
    "Lastly, choosing whether or not to expand compound fields is ultimately a judgment call and may be something to consider in the second iteration of modeling.\n",
    "* Non-Free Form Text Columns\n",
    "* Need to Remove Low Observations"
   ]
  },
  {
   "cell_type": "code",
   "execution_count": 13,
   "id": "27714ab3-0581-47fc-8fb1-096511e5cf46",
   "metadata": {
    "execution": {
     "iopub.execute_input": "2023-05-02T22:30:48.639440Z",
     "iopub.status.busy": "2023-05-02T22:30:48.639276Z",
     "iopub.status.idle": "2023-05-02T22:30:48.696644Z",
     "shell.execute_reply": "2023-05-02T22:30:48.696274Z",
     "shell.execute_reply.started": "2023-05-02T22:30:48.639425Z"
    }
   },
   "outputs": [
    {
     "name": "stdout",
     "output_type": "stream",
     "text": [
      "(5000, 74)\n"
     ]
    }
   ],
   "source": [
    "# What is shape of our data?\n",
    "print((df.count(), len(df.columns)))"
   ]
  },
  {
   "cell_type": "markdown",
   "id": "d5ebfee3-9f73-42fc-9d6b-8fb1d4efb969",
   "metadata": {},
   "source": [
    "## Dataframe Columns to Feature Vectors\n",
    "Pyspark ML algorithms require all of the features to be provided in a single column of type vector.\n",
    "\n",
    "We will need to convert our columns for Random Forest Regression to work.\n",
    "\n",
    "To do this we need to import the VectorAssembler transformer to use it later. Sadly, while Random Forest Regression can handle missing values, vectors cannot.\n",
    "\n",
    "**Due to the nature of how tree-based machine learning partitions data, we can just assign missings a value that is outside the existing range of the variable to replace nulls with, in this case, 1.**\n",
    "\n",
    "But first, we need to know which columns to convert. We can take the list of column names and remove our dependent variable so the vector contains only features."
   ]
  },
  {
   "cell_type": "code",
   "execution_count": 14,
   "id": "a4693d52-5946-48c7-b98a-e20394949380",
   "metadata": {
    "execution": {
     "iopub.execute_input": "2023-05-02T22:30:48.697208Z",
     "iopub.status.busy": "2023-05-02T22:30:48.697060Z",
     "iopub.status.idle": "2023-05-02T22:30:48.755710Z",
     "shell.execute_reply": "2023-05-02T22:30:48.755032Z",
     "shell.execute_reply.started": "2023-05-02T22:30:48.697194Z"
    },
    "tags": []
   },
   "outputs": [
    {
     "name": "stdout",
     "output_type": "stream",
     "text": [
      "24\n",
      "['POSTALCODE', 'LISTPRICE', 'ORIGINALLISTPRICE', 'PRICEPERTSFT', 'FOUNDATIONSIZE', 'DAYSONMARKET', 'FIREPLACES', 'PDOM', 'SQFTABOVEGROUND', 'TAXES', 'TAXWITHASSESSMENTS', 'TAXYEAR', 'LIVINGAREA', 'YEARBUILT', 'ACRES', 'BATHSFULL', 'BATHSHALF', 'BATHQUARTER', 'BATHSTHREEQUARTER', 'BATHSTOTAL', 'BEDROOMS', 'SQFTBELOWGROUND', 'ASSOCIATIONFEE', 'ASSESSEDVALUATION']\n"
     ]
    }
   ],
   "source": [
    "from pyspark.ml.feature import VectorAssembler\n",
    "# Replace Missing values\n",
    "df = df.fillna(-1)\n",
    "# Define the columns to be converted to vectors\n",
    "# features_cols = df.columns\n",
    "features_cols = [col for col, dtype in df.dtypes if dtype not in(['string', 'date'])]\n",
    "# Remove the dependent variable from the list\n",
    "features_cols = [col for col in features_cols if col not in ['SALESCLOSEPRICE', 'NO', 'STREETNUMBERNUMERIC']]\n",
    "print(len(features_cols))\n",
    "print(features_cols)"
   ]
  },
  {
   "cell_type": "code",
   "execution_count": 15,
   "id": "49a25014-25ee-432b-b313-a2d614ad40f0",
   "metadata": {
    "execution": {
     "iopub.execute_input": "2023-05-02T22:30:48.756542Z",
     "iopub.status.busy": "2023-05-02T22:30:48.756344Z",
     "iopub.status.idle": "2023-05-02T22:30:48.956722Z",
     "shell.execute_reply": "2023-05-02T22:30:48.956440Z",
     "shell.execute_reply.started": "2023-05-02T22:30:48.756526Z"
    },
    "tags": []
   },
   "outputs": [
    {
     "name": "stdout",
     "output_type": "stream",
     "text": [
      "(5000, 75)\n"
     ]
    }
   ],
   "source": [
    "# Create the vector assembler transformer\n",
    "vec = VectorAssembler(inputCols=features_cols, outputCol='features')\n",
    "# Apply the vector transformer to data\n",
    "df = vec.transform(df)\n",
    "print((df.count(), len(df.columns)))"
   ]
  },
  {
   "cell_type": "code",
   "execution_count": 16,
   "id": "f0abb5f5-bbff-4ccb-9621-61b837447ac7",
   "metadata": {
    "execution": {
     "iopub.execute_input": "2023-05-02T22:30:48.957194Z",
     "iopub.status.busy": "2023-05-02T22:30:48.957080Z",
     "iopub.status.idle": "2023-05-02T22:30:49.145212Z",
     "shell.execute_reply": "2023-05-02T22:30:49.144783Z",
     "shell.execute_reply.started": "2023-05-02T22:30:48.957184Z"
    },
    "tags": []
   },
   "outputs": [
    {
     "name": "stdout",
     "output_type": "stream",
     "text": [
      "+---------------+----------------------------------------------------------------------------------------------------------------------------------------------+\n",
      "|SALESCLOSEPRICE|features                                                                                                                                      |\n",
      "+---------------+----------------------------------------------------------------------------------------------------------------------------------------------+\n",
      "|143000         |[55042.0,139900.0,139900.0,145.9184,980.0,10.0,0.0,10.0,980.0,1858.0,1858.0,2017.0,980.0,1950.0,1.28,1.0,1.0,0.0,0.0,2.0,3.0,0.0,0.0,0.0]     |\n",
      "|190000         |[55042.0,210000.0,210000.0,85.2783,1144.0,4.0,0.0,4.0,1268.0,1640.0,1640.0,2017.0,2228.0,1971.0,0.32,1.0,0.0,0.0,2.0,3.0,4.0,960.0,0.0,0.0]   |\n",
      "|225000         |[55042.0,225000.0,225000.0,204.1742,1102.0,28.0,0.0,28.0,1102.0,2390.0,2390.0,2016.0,1102.0,1949.0,0.822,1.0,0.0,0.0,0.0,1.0,2.0,0.0,0.0,0.0] |\n",
      "|265000         |[55042.0,230000.0,230000.0,162.3775,959.0,19.0,1.0,19.0,1284.0,2146.0,2146.0,2017.0,1632.0,1960.0,0.94,1.0,1.0,0.0,0.0,2.0,2.0,348.0,0.0,0.0] |\n",
      "|249900         |[55042.0,239900.0,239900.0,121.7836,1026.0,21.0,1.0,21.0,1026.0,2010.0,2010.0,2017.0,2052.0,1978.0,0.0,1.0,0.0,0.0,1.0,2.0,3.0,1026.0,0.0,0.0]|\n",
      "+---------------+----------------------------------------------------------------------------------------------------------------------------------------------+\n",
      "only showing top 5 rows\n",
      "\n"
     ]
    }
   ],
   "source": [
    "# Select only the feature vectors and the dependent variable\n",
    "ml_ready_df = df.select(['SALESCLOSEPRICE', 'features'])\n",
    "# Inspect Results\n",
    "ml_ready_df.show(5, truncate=False)"
   ]
  },
  {
   "cell_type": "markdown",
   "id": "b2b2bebd-7d45-41ed-ac04-b20e8bfad8d7",
   "metadata": {},
   "source": [
    "## Exercises"
   ]
  },
  {
   "cell_type": "markdown",
   "id": "618aaccf-ec1a-477c-9466-45f7848f86ef",
   "metadata": {},
   "source": [
    "* Missing values are handled by Random Forests internally where they partition on missing values. As long as you replace them with something outside of the range of normal values, they will be handled correctly.\n",
    "\n",
    "* Likewise, categorical features only need to be mapped to numbers, they are fine to stay all in one column by using a StringIndexer as we saw in chapter 3.\n",
    "\n",
    "* OneHot encoding which converts each possible value to its own boolean feature is not needed."
   ]
  },
  {
   "cell_type": "code",
   "execution_count": 17,
   "id": "8c808c00-55de-4fe8-9180-f12e1329b9df",
   "metadata": {
    "execution": {
     "iopub.execute_input": "2023-05-02T22:30:49.145930Z",
     "iopub.status.busy": "2023-05-02T22:30:49.145752Z",
     "iopub.status.idle": "2023-05-02T22:30:49.148904Z",
     "shell.execute_reply": "2023-05-02T22:30:49.148583Z",
     "shell.execute_reply.started": "2023-05-02T22:30:49.145912Z"
    },
    "tags": []
   },
   "outputs": [
    {
     "data": {
      "text/plain": [
       "75"
      ]
     },
     "execution_count": 17,
     "metadata": {},
     "output_type": "execute_result"
    }
   ],
   "source": [
    "len(df.columns)"
   ]
  },
  {
   "cell_type": "markdown",
   "id": "bc4cd5d4-c9d2-4fd8-8279-4032c1786b53",
   "metadata": {},
   "source": [
    "### Reproducing exercise columns: 253"
   ]
  },
  {
   "cell_type": "code",
   "execution_count": 18,
   "id": "a2bc82f6-f021-4ea6-abd2-b57632de2c6a",
   "metadata": {
    "execution": {
     "iopub.execute_input": "2023-05-02T22:30:49.149662Z",
     "iopub.status.busy": "2023-05-02T22:30:49.149512Z",
     "iopub.status.idle": "2023-05-02T22:30:49.162304Z",
     "shell.execute_reply": "2023-05-02T22:30:49.161964Z",
     "shell.execute_reply.started": "2023-05-02T22:30:49.149647Z"
    },
    "tags": []
   },
   "outputs": [
    {
     "data": {
      "text/plain": [
       "253"
      ]
     },
     "execution_count": 18,
     "metadata": {},
     "output_type": "execute_result"
    }
   ],
   "source": [
    "# copied from Datacamp\n",
    "exercise_columns = [\n",
    "    \"SALESCLOSEPRICE\",\n",
    "    \"LISTPRICE\",\n",
    "    \"ORIGINALLISTPRICE\",\n",
    "    \"FOUNDATIONSIZE\",\n",
    "    \"DAYSONMARKET\",\n",
    "    \"FIREPLACES\",\n",
    "    \"SQFTABOVEGROUND\",\n",
    "    \"TAXES\",\n",
    "    \"TAXWITHASSESSMENTS\",\n",
    "    \"LIVINGAREA\",\n",
    "    \"YEARBUILT\",\n",
    "    \"ACRES\",\n",
    "    \"BATHSFULL\",\n",
    "    \"BATHSHALF\",\n",
    "    \"BATHQUARTER\",\n",
    "    \"BATHSTHREEQUARTER\",\n",
    "    \"BATHSTOTAL\",\n",
    "    \"BEDROOMS\",\n",
    "    \"SQFTBELOWGROUND\",\n",
    "    \"ASSOCIATIONFEE\",\n",
    "    \"ASSESSEDVALUATION\",\n",
    "    \"LIST_YEAR\",\n",
    "    \"LIST_MONTH\",\n",
    "    \"LIST_WEEKOFYEAR\",\n",
    "    \"LIST_DAYOFMONTH\",\n",
    "    \"LIST_DAYOFYEAR\",\n",
    "    \"WALKSCORE\",\n",
    "    \"BIKESCORE\",\n",
    "    \"MORTGAGE30US\",\n",
    "    \"MORTGAGE30US-1WK\",\n",
    "    \"MORTGAGE30US-2WK\",\n",
    "    \"MORTGAGE30US-3WK\",\n",
    "    \"MORTGAGE30US-4WK\",\n",
    "    \"PERCENT_OLDER_AGE_HOMES\",\n",
    "    \"PERCENT_SIMILAR_AGE_HOMES\",\n",
    "    \"PERCENT_NEWER_AGE_HOMES\",\n",
    "    \"PERCENT_BIGGER_SIZE_HOMES\",\n",
    "    \"PERCENT_SIMILAR_SIZE_HOMES\",\n",
    "    \"PERCENT_SMALLER_SIZE_HOMES\",\n",
    "    \"LISTING_TO_MEDIAN_RATIO\",\n",
    "    \"LISTING_PRICE_PER_SQFT\",\n",
    "    \"SQFT_TOTAL\",\n",
    "    \"ASSESSED_TO_LIST\",\n",
    "    \"TAX_TO_LIST\",\n",
    "    \"BED_TO_BATHS\",\n",
    "    \"PRICE_REDUCTION_PERCENT\",\n",
    "    \"FENCE_WIRE\",\n",
    "    \"FENCE_ELECTRIC\",\n",
    "    \"FENCE_NAN\",\n",
    "    \"FENCE_PARTIAL\",\n",
    "    \"FENCE_RAIL\",\n",
    "    \"FENCE_OTHER\",\n",
    "    \"FENCE_CHAIN LINK\",\n",
    "    \"FENCE_FULL\",\n",
    "    \"FENCE_NONE\",\n",
    "    \"FENCE_PRIVACY\",\n",
    "    \"FENCE_WOOD\",\n",
    "    \"FENCE_INVISIBLE\",\n",
    "    \"ROOF_ASPHALT SHINGLES\",\n",
    "    \"ROOF_SHAKES\",\n",
    "    \"ROOF_NAN\",\n",
    "    \"ROOF_UNSPECIFIED SHINGLE\",\n",
    "    \"ROOF_SLATE\",\n",
    "    \"ROOF_PITCHED\",\n",
    "    \"ROOF_FLAT\",\n",
    "    \"ROOF_TAR/GRAVEL\",\n",
    "    \"ROOF_OTHER\",\n",
    "    \"ROOF_METAL\",\n",
    "    \"ROOF_TILE\",\n",
    "    \"ROOF_RUBBER\",\n",
    "    \"ROOF_WOOD SHINGLES\",\n",
    "    \"ROOF_AGE OVER 8 YEARS\",\n",
    "    \"ROOF_AGE 8 YEARS OR LESS\",\n",
    "    \"POOLDESCRIPTION_NAN\",\n",
    "    \"POOLDESCRIPTION_HEATED\",\n",
    "    \"POOLDESCRIPTION_NONE\",\n",
    "    \"POOLDESCRIPTION_SHARED\",\n",
    "    \"POOLDESCRIPTION_INDOOR\",\n",
    "    \"POOLDESCRIPTION_OUTDOOR\",\n",
    "    \"POOLDESCRIPTION_ABOVE GROUND\",\n",
    "    \"POOLDESCRIPTION_BELOW GROUND\",\n",
    "    \"GARAGEDESCRIPTION_ASSIGNED\",\n",
    "    \"GARAGEDESCRIPTION_TANDEM\",\n",
    "    \"GARAGEDESCRIPTION_UNCOVERED/OPEN\",\n",
    "    \"GARAGEDESCRIPTION_TUCKUNDER\",\n",
    "    \"GARAGEDESCRIPTION_DRIVEWAY - ASPHALT\",\n",
    "    \"GARAGEDESCRIPTION_HEATED GARAGE\",\n",
    "    \"GARAGEDESCRIPTION_UNDERGROUND GARAGE\",\n",
    "    \"GARAGEDESCRIPTION_DRIVEWAY - SHARED\",\n",
    "    \"GARAGEDESCRIPTION_CONTRACT PKG REQUIRED\",\n",
    "    \"GARAGEDESCRIPTION_GARAGE DOOR OPENER\",\n",
    "    \"GARAGEDESCRIPTION_MORE PARKING OFFSITE FOR FEE\",\n",
    "    \"GARAGEDESCRIPTION_VALET PARKING FOR FEE\",\n",
    "    \"GARAGEDESCRIPTION_OTHER\",\n",
    "    \"GARAGEDESCRIPTION_MORE PARKING ONSITE FOR FEE\",\n",
    "    \"GARAGEDESCRIPTION_DRIVEWAY - OTHER SURFACE\",\n",
    "    \"GARAGEDESCRIPTION_DETACHED GARAGE\",\n",
    "    \"GARAGEDESCRIPTION_SECURED\",\n",
    "    \"GARAGEDESCRIPTION_CARPORT\",\n",
    "    \"GARAGEDESCRIPTION_DRIVEWAY - CONCRETE\",\n",
    "    \"GARAGEDESCRIPTION_ON-STREET PARKING ONLY\",\n",
    "    \"GARAGEDESCRIPTION_COVERED\",\n",
    "    \"GARAGEDESCRIPTION_INSULATED GARAGE\",\n",
    "    \"GARAGEDESCRIPTION_UNASSIGNED\",\n",
    "    \"GARAGEDESCRIPTION_NONE\",\n",
    "    \"GARAGEDESCRIPTION_DRIVEWAY - GRAVEL\",\n",
    "    \"GARAGEDESCRIPTION_NO INT ACCESS TO DWELLING\",\n",
    "    \"GARAGEDESCRIPTION_UNITS VARY\",\n",
    "    \"GARAGEDESCRIPTION_ATTACHED GARAGE\",\n",
    "    \"APPLIANCES_NAN\",\n",
    "    \"APPLIANCES_COOKTOP\",\n",
    "    \"APPLIANCES_WALL OVEN\",\n",
    "    \"APPLIANCES_WATER SOFTENER - OWNED\",\n",
    "    \"APPLIANCES_DISPOSAL\",\n",
    "    \"APPLIANCES_DISHWASHER\",\n",
    "    \"APPLIANCES_OTHER\",\n",
    "    \"APPLIANCES_INDOOR GRILL\",\n",
    "    \"APPLIANCES_WASHER\",\n",
    "    \"APPLIANCES_RANGE\",\n",
    "    \"APPLIANCES_REFRIGERATOR\",\n",
    "    \"APPLIANCES_FURNACE HUMIDIFIER\",\n",
    "    \"APPLIANCES_TANKLESS WATER  HEATER\",\n",
    "    \"APPLIANCES_ELECTRONIC AIR FILTER\",\n",
    "    \"APPLIANCES_MICROWAVE\",\n",
    "    \"APPLIANCES_EXHAUST FAN/HOOD\",\n",
    "    \"APPLIANCES_NONE\",\n",
    "    \"APPLIANCES_CENTRAL VACUUM\",\n",
    "    \"APPLIANCES_TRASH COMPACTOR\",\n",
    "    \"APPLIANCES_AIR-TO-AIR EXCHANGER\",\n",
    "    \"APPLIANCES_DRYER\",\n",
    "    \"APPLIANCES_FREEZER\",\n",
    "    \"APPLIANCES_WATER SOFTENER - RENTED\",\n",
    "    \"EXTERIOR_SHAKES\",\n",
    "    \"EXTERIOR_CEMENT BOARD\",\n",
    "    \"EXTERIOR_BLOCK\",\n",
    "    \"EXTERIOR_VINYL\",\n",
    "    \"EXTERIOR_FIBER BOARD\",\n",
    "    \"EXTERIOR_OTHER\",\n",
    "    \"EXTERIOR_METAL\",\n",
    "    \"EXTERIOR_BRICK/STONE\",\n",
    "    \"EXTERIOR_STUCCO\",\n",
    "    \"EXTERIOR_ENGINEERED WOOD\",\n",
    "    \"EXTERIOR_WOOD\",\n",
    "    \"DININGROOMDESCRIPTION_EAT IN KITCHEN\",\n",
    "    \"DININGROOMDESCRIPTION_NAN\",\n",
    "    \"DININGROOMDESCRIPTION_OTHER\",\n",
    "    \"DININGROOMDESCRIPTION_LIVING/DINING ROOM\",\n",
    "    \"DININGROOMDESCRIPTION_SEPARATE/FORMAL DINING ROOM\",\n",
    "    \"DININGROOMDESCRIPTION_KITCHEN/DINING ROOM\",\n",
    "    \"DININGROOMDESCRIPTION_INFORMAL DINING ROOM\",\n",
    "    \"DININGROOMDESCRIPTION_BREAKFAST AREA\",\n",
    "    \"BASEMENT_FINISHED (LIVABLE)\",\n",
    "    \"BASEMENT_PARTIAL\",\n",
    "    \"BASEMENT_SUMP PUMP\",\n",
    "    \"BASEMENT_INSULATING CONCRETE FORMS\",\n",
    "    \"BASEMENT_CRAWL SPACE\",\n",
    "    \"BASEMENT_PARTIAL FINISHED\",\n",
    "    \"BASEMENT_CONCRETE BLOCK\",\n",
    "    \"BASEMENT_DRAINAGE SYSTEM\",\n",
    "    \"BASEMENT_POURED CONCRETE\",\n",
    "    \"BASEMENT_UNFINISHED\",\n",
    "    \"BASEMENT_DRAIN TILED\",\n",
    "    \"BASEMENT_WOOD\",\n",
    "    \"BASEMENT_FULL\",\n",
    "    \"BASEMENT_EGRESS WINDOWS\",\n",
    "    \"BASEMENT_DAY/LOOKOUT WINDOWS\",\n",
    "    \"BASEMENT_SLAB\",\n",
    "    \"BASEMENT_STONE\",\n",
    "    \"BASEMENT_NONE\",\n",
    "    \"BASEMENT_WALKOUT\",\n",
    "    \"BATHDESC_MAIN FLOOR 1/2 BATH\",\n",
    "    \"BATHDESC_TWO MASTER BATHS\",\n",
    "    \"BATHDESC_MASTER WALK-THRU\",\n",
    "    \"BATHDESC_WHIRLPOOL\",\n",
    "    \"BATHDESC_NAN\",\n",
    "    \"BATHDESC_3/4 BASEMENT\",\n",
    "    \"BATHDESC_TWO BASEMENT BATHS\",\n",
    "    \"BATHDESC_OTHER\",\n",
    "    \"BATHDESC_3/4 MASTER\",\n",
    "    \"BATHDESC_MAIN FLOOR 3/4 BATH\",\n",
    "    \"BATHDESC_FULL MASTER\",\n",
    "    \"BATHDESC_MAIN FLOOR FULL BATH\",\n",
    "    \"BATHDESC_WALK-IN SHOWER\",\n",
    "    \"BATHDESC_SEPARATE TUB & SHOWER\",\n",
    "    \"BATHDESC_FULL BASEMENT\",\n",
    "    \"BATHDESC_BASEMENT\",\n",
    "    \"BATHDESC_WALK THRU\",\n",
    "    \"BATHDESC_BATHROOM ENSUITE\",\n",
    "    \"BATHDESC_PRIVATE MASTER\",\n",
    "    \"BATHDESC_JACK & JILL 3/4\",\n",
    "    \"BATHDESC_UPPER LEVEL 1/2 BATH\",\n",
    "    \"BATHDESC_ROUGH IN\",\n",
    "    \"BATHDESC_UPPER LEVEL FULL BATH\",\n",
    "    \"BATHDESC_1/2 MASTER\",\n",
    "    \"BATHDESC_1/2 BASEMENT\",\n",
    "    \"BATHDESC_JACK AND JILL\",\n",
    "    \"BATHDESC_UPPER LEVEL 3/4 BATH\",\n",
    "    \"ZONING_INDUSTRIAL\",\n",
    "    \"ZONING_BUSINESS/COMMERCIAL\",\n",
    "    \"ZONING_OTHER\",\n",
    "    \"ZONING_RESIDENTIAL-SINGLE\",\n",
    "    \"ZONING_RESIDENTIAL-MULTI-FAMILY\",\n",
    "    \"COOLINGDESCRIPTION_WINDOW\",\n",
    "    \"COOLINGDESCRIPTION_WALL\",\n",
    "    \"COOLINGDESCRIPTION_DUCTLESS MINI-SPLIT\",\n",
    "    \"COOLINGDESCRIPTION_NONE\",\n",
    "    \"COOLINGDESCRIPTION_GEOTHERMAL\",\n",
    "    \"COOLINGDESCRIPTION_CENTRAL\",\n",
    "    \"CITY:LELM - LAKE ELMO\",\n",
    "    \"CITY:MAPW - MAPLEWOOD\",\n",
    "    \"CITY:OAKD - OAKDALE\",\n",
    "    \"CITY:STP - SAINT PAUL\",\n",
    "    \"CITY:WB - WOODBURY\",\n",
    "    \"LISTTYPE:EXCLUSIVE AGENCY\",\n",
    "    \"LISTTYPE:EXCLUSIVE RIGHT\",\n",
    "    \"LISTTYPE:EXCLUSIVE RIGHT WITH EXCLUSIONS\",\n",
    "    \"LISTTYPE:OTHER\",\n",
    "    \"LISTTYPE:SERVICE AGREEMENT\",\n",
    "    \"SCHOOLDISTRICTNUMBER:6 - SOUTH ST. PAUL\",\n",
    "    \"SCHOOLDISTRICTNUMBER:622 - NORTH ST PAUL-MAPLEWOOD\",\n",
    "    \"SCHOOLDISTRICTNUMBER:623 - ROSEVILLE\",\n",
    "    \"SCHOOLDISTRICTNUMBER:624 - WHITE BEAR LAKE\",\n",
    "    \"SCHOOLDISTRICTNUMBER:625 - ST. PAUL\",\n",
    "    \"SCHOOLDISTRICTNUMBER:832 - MAHTOMEDI\",\n",
    "    \"SCHOOLDISTRICTNUMBER:833 - SOUTH WASHINGTON COUNTY\",\n",
    "    \"SCHOOLDISTRICTNUMBER:834 - STILLWATER\",\n",
    "    \"POTENTIALSHORTSALE:NO\",\n",
    "    \"POTENTIALSHORTSALE:NOT DISCLOSED\",\n",
    "    \"STYLE:(CC) CONVERTED MANSION\",\n",
    "    \"STYLE:(CC) HIGH RISE (4+ LEVELS)\",\n",
    "    \"STYLE:(CC) LOW RISE (3- LEVELS)\",\n",
    "    \"STYLE:(CC) MANOR/VILLAGE\",\n",
    "    \"STYLE:(CC) TWO UNIT\",\n",
    "    \"STYLE:(SF) FOUR OR MORE LEVEL SPLIT\",\n",
    "    \"STYLE:(SF) MODIFIED TWO STORY\",\n",
    "    \"STYLE:(SF) MORE THAN TWO STORIES\",\n",
    "    \"STYLE:(SF) ONE 1/2 STORIES\",\n",
    "    \"STYLE:(SF) ONE STORY\",\n",
    "    \"STYLE:(SF) OTHER\",\n",
    "    \"STYLE:(SF) SPLIT ENTRY (BI-LEVEL)\",\n",
    "    \"STYLE:(SF) THREE LEVEL SPLIT\",\n",
    "    \"STYLE:(SF) TWO STORIES\",\n",
    "    \"STYLE:(TH) DETACHED\",\n",
    "    \"STYLE:(TH) QUAD/4 CORNERS\",\n",
    "    \"STYLE:(TH) SIDE X SIDE\",\n",
    "    \"STYLE:(TW) TWIN HOME\",\n",
    "    \"ASSUMABLEMORTGAGE:INFORMATION COMING\",\n",
    "    \"ASSUMABLEMORTGAGE:NOT ASSUMABLE\",\n",
    "    \"ASSUMABLEMORTGAGE:YES W/ QUALIFYING\",\n",
    "    \"ASSUMABLEMORTGAGE:YES W/NO QUALIFYING\",\n",
    "    \"ASSESSMENTPENDING:NO\",\n",
    "    \"ASSESSMENTPENDING:UNKNOWN\",\n",
    "    \"ASSESSMENTPENDING:YES\",\n",
    "]\n",
    "len(exercise_columns)"
   ]
  },
  {
   "cell_type": "code",
   "execution_count": 19,
   "id": "c35b46c2-da62-4b69-ab56-2efd4476d814",
   "metadata": {
    "execution": {
     "iopub.execute_input": "2023-05-02T22:30:49.163179Z",
     "iopub.status.busy": "2023-05-02T22:30:49.163007Z",
     "iopub.status.idle": "2023-05-02T22:30:49.312801Z",
     "shell.execute_reply": "2023-05-02T22:30:49.312359Z",
     "shell.execute_reply.started": "2023-05-02T22:30:49.163164Z"
    },
    "tags": []
   },
   "outputs": [],
   "source": [
    "walk_score = [25.0, 2.0, 25.0, 2.0, 40.0, 11.0, 11.0, 11.0, 11.0, 11.0, 11.0, 11.0, 11.0, 0.0, 11.0, 11.0, 11.0, 11.0, 11.0, 8.0, 8.0, 0.0, 5.0, 1.0, 5.0, 0.0, 2.0, 2.0, 8.0, 8.0, 1.0, 1.0, 5.0, 8.0, 0.0, 1.0, 0.0, 2.0, 1.0, 0.0, 21.0, 6.0, 14.0, 21.0, 21.0, 18.0, 4.0, 21.0, 12.0, 4.0, 21.0, 0.0, 0.0, 6.0, 20.0, None, 0.0, 21.0, 5.0, 0.0, 21.0, 21.0, 21.0, 0.0, None, 9.0, 20.0, 0.0, 0.0, 0.0, 0.0, 5.0, 21.0, 14.0, 11.0, 14.0, 22.0, 11.0, 2.0, 21.0, 14.0, 0.0, 10.0, 7.0, 12.0, 0.0, 0.0, None, 20.0, 6.0, 20.0, 1.0, 0.0, 0.0, 16.0, 0.0, 14.0, 0.0, 12.0, 4.0, 21.0, 21.0, 0.0, 10.0, 29.0, 14.0, 21.0, None, 7.0, 4.0, 22.0, 10.0, 17.0, 0.0, 17.0, 0.0, 11.0, 0.0, 14.0, 0.0, 0.0, 16.0, 8.0, 11.0, 0.0, 17.0, 1.0, 17.0, None, 0.0, None, None, 9.0, 17.0, 6.0, 10.0, 17.0, None, 0.0, 8.0, 0.0, 9.0, 1.0, 4.0, 0.0, 1.0, 9.0, 0.0, 0.0, 1.0, 4.0, 0.0, 0.0, 0.0, None, 14.0, 16.0, 13.0, None, 13.0, 21.0, 17.0, 21.0, 17.0, 30.0, 16.0, 22.0, 16.0, 18.0, 13.0, 17.0, None, 21.0, 19.0, 25.0, 8.0, 39.0, 22.0, 19.0, 21.0, 23.0, 19.0, 6.0, 28.0, 3.0, 19.0, 27.0, 19.0, 20.0, 19.0, 27.0, 19.0, 42.0, 47.0, 47.0, 42.0, 6.0, 27.0, 18.0, 9.0, 21.0, 3.0, 42.0, 19.0, 22.0, 30.0, 6.0, 11.0, 6.0, 27.0, 14.0, 14.0, 14.0, 28.0, 27.0, 29.0, 4.0, 8.0, 55.0, None, 13.0, 34.0, 6.0, 16.0, 19.0, 29.0, 42.0, 18.0, 46.0, 23.0, 5.0, 4.0, 51.0, 12.0, 29.0, 5.0, 5.0, 22.0, 18.0, 32.0, 26.0, 28.0, 13.0, 29.0, 22.0, 27.0, 28.0, 26.0, 70.0, 26.0, 40.0, 7.0, 29.0, 50.0, 55.0, 19.0, 14.0, 50.0, 22.0, 50.0, 14.0, 50.0, 8.0, 35.0, 12.0, 50.0, 13.0, 23.0, 28.0, 15.0, 13.0, 7.0, 40.0, 13.0, 56.0, 50.0, 29.0, 17.0, 32.0, 50.0, 29.0, 17.0, 40.0, 26.0, 60.0, 21.0, 26.0, 11.0, 5.0, 38.0, 50.0, 50.0, 50.0, 55.0, 13.0, 55.0, 38.0, 34.0, 24.0, 13.0, 55.0, 36.0, 28.0, 35.0, 29.0, 17.0, 36.0, 24.0, 33.0, 29.0, 34.0, 21.0, 17.0, 36.0, 17.0, 30.0, 46.0, 18.0, 28.0, 13.0, 23.0, 25.0, 28.0, 55.0, 13.0, 16.0, 27.0, 38.0, 16.0, 28.0, 26.0, 22.0, 25.0, 28.0, 35.0, 15.0, 22.0, 28.0, 13.0, 5.0, 29.0, 16.0, 21.0, 31.0, 30.0, 24.0, 50.0, 24.0, 32.0, 48.0, 5.0, 27.0, 54.0, 32.0, 13.0, None, 50.0, 34.0, 17.0, 24.0, 50.0, 13.0, 5.0, 16.0, 19.0, 4.0, 31.0, 53.0, 19.0, 39.0, 29.0, 22.0, 12.0, 40.0, 28.0, 55.0, 28.0, 16.0, 20.0, 19.0, 9.0, 30.0, 40.0, 34.0, 25.0, 5.0, 14.0, 17.0, 44.0, 4.0, 54.0, 33.0, 41.0, 24.0, 19.0, 19.0, 12.0, 26.0, 30.0, 27.0, 14.0, 52.0, 22.0, 42.0, 13.0, 19.0, 41.0, 14.0, 13.0, 47.0, 20.0, 24.0, 31.0, 25.0, 22.0, 21.0, 22.0, 48.0, 33.0, 30.0, 15.0, 11.0, 29.0, 28.0, 12.0, 36.0, 29.0, 30.0, 38.0, 24.0, 10.0, 8.0, 21.0, 27.0, 54.0, 26.0, 41.0, 50.0, 36.0, 18.0, 14.0, 12.0, 13.0, 40.0, 48.0, 45.0, 30.0, 27.0, 20.0, 15.0, 30.0, 19.0, 9.0, 41.0, 19.0, 23.0, 21.0, 8.0, 24.0, 32.0, 32.0, 24.0, 47.0, 16.0, 29.0, 30.0, 24.0, 35.0, 22.0, 2.0, 10.0, 2.0, 58.0, 10.0, 24.0, 5.0, 17.0, 29.0, 28.0, 1.0, 11.0, 36.0, 33.0, 17.0, 23.0, 34.0, 13.0, 6.0, 48.0, 2.0, 36.0, 38.0, 14.0, 18.0, 17.0, 7.0, 2.0, 5.0, 31.0, 58.0, 28.0, 41.0, 36.0, 2.0, 30.0, 34.0, 9.0, 54.0, 12.0, 5.0, 15.0, 24.0, 10.0, 24.0, 14.0, 15.0, 37.0, 30.0, 12.0, 2.0, 15.0, 7.0, None, 4.0, 14.0, 2.0, 37.0, 15.0, 38.0, 38.0, 28.0, 28.0, 30.0, 36.0, 16.0, 2.0, 8.0, 13.0, 2.0, 11.0, 1.0, 9.0, 15.0, 3.0, 26.0, 3.0, 15.0, 5.0, 17.0, 1.0, 5.0, 16.0, 5.0, 20.0, 5.0, 9.0, 6.0, 10.0, 17.0, 22.0, 3.0, 2.0, 17.0, 1.0, 12.0, 2.0, 9.0, 9.0, 12.0, 9.0, 11.0, 2.0, 22.0, 27.0, 22.0, 12.0, 2.0, 1.0, 1.0, 10.0, 16.0, 2.0, 16.0, 17.0, 13.0, 29.0, 16.0, 4.0, 15.0, 24.0, 7.0, 20.0, 1.0, 0.0, 35.0, 24.0, 19.0, 12.0, 27.0, 1.0, 12.0, 1.0, 4.0, 5.0, 8.0, 15.0, 13.0, 2.0, 3.0, 4.0, 5.0, 4.0, 0.0, 2.0, 9.0, 3.0, 7.0, 5.0, 1.0, 15.0, 11.0, 1.0, 3.0, 19.0, 5.0, 2.0, 7.0, 22.0, 22.0, 9.0, 9.0, 33.0, 14.0, 28.0, 29.0, 28.0, 9.0, 29.0, 29.0, 9.0, 34.0, 8.0, 14.0, 35.0, 3.0, None, 6.0, 3.0, None, 3.0, 24.0, 29.0, 29.0, 22.0, 3.0, 29.0, 9.0, 35.0, 26.0, 3.0, 34.0, 28.0, 26.0, 28.0, 28.0, 14.0, 3.0, 6.0, 10.0, 9.0, 35.0, 25.0, 9.0, 11.0, 12.0, 2.0, 25.0, 35.0, 9.0, 14.0, 14.0, 9.0, 10.0, 10.0, 3.0, 10.0, 1.0, 1.0, 5.0, 9.0, 33.0, 14.0, 33.0, 3.0, 12.0, 3.0, 9.0, 35.0, 9.0, 9.0, 10.0, 33.0, 20.0, 12.0, 1.0, 25.0, 18.0, 33.0, 32.0, 1.0, 9.0, 9.0, 1.0, 36.0, 2.0, 18.0, 3.0, 22.0, 12.0, 32.0, 43.0, 20.0, 15.0, 9.0, 35.0, 26.0, None, 18.0, 8.0, 9.0, 12.0, 4.0, 1.0, 29.0, 12.0, 9.0, 41.0, 10.0, 0.0, 30.0, 10.0, 2.0, 34.0, 15.0, 9.0, 46.0, 44.0, 34.0, 2.0, 10.0, 8.0, 34.0, 11.0, 32.0, 12.0, 1.0, 37.0, 34.0, 20.0, 9.0, 40.0, 1.0, 8.0, 41.0, 35.0, 14.0, 42.0, 9.0, 18.0, 51.0, 30.0, 18.0, 43.0, 8.0, 36.0, 0.0, 21.0, 8.0, 25.0, 17.0, 26.0, 3.0, 34.0, 18.0, 22.0, 36.0, 25.0, 52.0, 25.0, 25.0, 9.0, 11.0, 3.0, 26.0, 12.0, 3.0, 3.0, 14.0, 34.0, 29.0, 31.0, 11.0, 3.0, 34.0, 34.0, 31.0, 20.0, 30.0, 20.0, 45.0, 34.0, 21.0, 18.0, 37.0, 3.0, 55.0, 37.0, 46.0, 35.0, 27.0, 1.0, 25.0, 41.0, 24.0, 44.0, 42.0, 12.0, 45.0, 7.0, 43.0, 53.0, 5.0, 43.0, 41.0, 44.0, 9.0, 3.0, 42.0, 10.0, 25.0, 29.0, 34.0, 12.0, 7.0, 3.0, 22.0, 38.0, 15.0, 24.0, 5.0, 38.0, 3.0, 1.0, 3.0, 12.0, 9.0, 3.0, 7.0, 45.0, 22.0, 2.0, 28.0, 15.0, 25.0, 42.0, 0.0, 4.0, 24.0, 9.0, 22.0, 2.0, 10.0, 41.0, 38.0, 37.0, 1.0, 53.0, 24.0, 9.0, 35.0, 4.0, 25.0, 43.0, 1.0, 1.0, 1.0, 9.0, 3.0, 37.0, 10.0, 10.0, 0.0, 37.0, 10.0, 35.0, 1.0, 15.0, 3.0, 42.0, 9.0, 14.0, 1.0, 42.0, 3.0, 1.0, 5.0, 9.0, 3.0, 1.0, 5.0, 22.0, 25.0, 18.0, 22.0, 3.0, 7.0, 4.0, 5.0, 16.0, 44.0, 35.0, 12.0, 3.0, 42.0, 16.0, 25.0, 4.0, 2.0, 2.0, 7.0, 8.0, 30.0, 8.0, 22.0, 10.0, 3.0, 14.0, 4.0, 7.0, 30.0, 2.0, 14.0, 36.0, 6.0, 0.0, 2.0, 2.0, 2.0, 3.0, 2.0, 30.0, 1.0, 3.0, 2.0, 10.0, 7.0, 37.0, 8.0, 16.0, 2.0, 1.0, 27.0, 0.0, 9.0, 12.0, 8.0, 1.0, 3.0, 29.0, 0.0, 3.0, 0.0, 5.0, 9.0, 7.0, 8.0, 24.0, 7.0, 8.0, 13.0, 8.0, 2.0, 28.0, 9.0, 25.0, 8.0, 25.0, 5.0, 39.0, 7.0, 0.0, 28.0, 1.0, 5.0, 8.0, 27.0, 0.0, 28.0, 5.0, 8.0, 1.0, 1.0, 18.0, 10.0, 38.0, 3.0, 20.0, 15.0, 27.0, 46.0, 0.0, 27.0, 0.0, 18.0, 2.0, 21.0, 27.0, 0.0, 1.0, 32.0, 29.0, 29.0, 24.0, 23.0, 29.0, 0.0, 46.0, 79.0, 73.0, None, 64.0, 77.0, 63.0, 79.0, 71.0, 12.0, 57.0, 57.0, 54.0, 49.0, 57.0, 65.0, 71.0, 54.0, 45.0, 97.0, 83.0, 53.0, 64.0, 82.0, 69.0, 57.0, 63.0, 57.0, 63.0, 33.0, 51.0, 38.0, 79.0, 55.0, 75.0, 40.0, 57.0, 54.0, 50.0, 59.0, 38.0, 61.0, 65.0, 40.0, 85.0, 57.0, 79.0, 62.0, 38.0, 39.0, 96.0, 57.0, 79.0, 79.0, 86.0, 97.0, 86.0, 28.0, 40.0, 50.0, 79.0, 46.0, 61.0, 40.0, 45.0, 84.0, 46.0, 57.0, 82.0, 86.0, 57.0, 75.0, 62.0, 74.0, 98.0, 42.0, 38.0, 49.0, 96.0, 71.0, 55.0, 64.0, 70.0, 43.0, 60.0, 39.0, 68.0, 68.0, 70.0, 78.0, 52.0, 72.0, 77.0, 51.0, 34.0, 22.0, 43.0, 48.0, 57.0, 52.0, 96.0, 37.0, None, 13.0, 42.0, 65.0, 64.0, 57.0, 80.0, 43.0, 33.0, 26.0, 40.0, 30.0, 44.0, 96.0, 57.0, 78.0, None, 61.0, 34.0, 63.0, 64.0, 61.0, 28.0, 40.0, 57.0, 39.0, 70.0, 68.0, 30.0, 85.0, 62.0, 79.0, 57.0, 42.0, 38.0, 40.0, 76.0, 18.0, 43.0, 55.0, 60.0, 33.0, 56.0, 35.0, 88.0, 23.0, 83.0, 51.0, 52.0, 65.0, 48.0, None, 63.0, 48.0, 96.0, 71.0, 96.0, 64.0, 83.0, 83.0, 70.0, None, 22.0, 79.0, 43.0, 78.0, 96.0, 78.0, 41.0, 21.0, 72.0, 83.0, 63.0, 19.0, 50.0, 60.0, 54.0, 35.0, 55.0, 84.0, 81.0, 96.0, 98.0, 60.0, 35.0, 43.0, 73.0, 44.0, 70.0, 77.0, 68.0, 68.0, 96.0, 56.0, 60.0, 51.0, 63.0, 76.0, 36.0, 51.0, None, 49.0, 72.0, 56.0, 64.0, 86.0, 6.0, 43.0, 59.0, 83.0, 43.0, 70.0, 43.0, 75.0, 41.0, 70.0, 96.0, 83.0, 59.0, 53.0, 41.0, 52.0, None, 59.0, 59.0, 77.0, 39.0, 52.0, None, None, 5.0, 22.0, 67.0, 70.0, 96.0, None, 63.0, 57.0, 40.0, 70.0, 51.0, None, 40.0, 44.0, 77.0, 83.0, 98.0, 56.0, 31.0, 41.0, 80.0, 75.0, 96.0, 58.0, 78.0, 51.0, 42.0, 28.0, 46.0, 60.0, 38.0, 63.0, 81.0, 55.0, 33.0, 54.0, 39.0, 50.0, 39.0, 21.0, 81.0, 67.0, 46.0, 39.0, 33.0, 96.0, 40.0, 68.0, 77.0, 58.0, 60.0, 69.0, 42.0, None, 57.0, None, 47.0, 81.0, 54.0, 49.0, 70.0, 43.0, 38.0, 29.0, 37.0, 45.0, 42.0, 81.0, 69.0, 64.0, 72.0, 46.0, 66.0, 47.0, 63.0, 47.0, 40.0, 60.0, 53.0, 63.0, 50.0, 65.0, 69.0, 48.0, 42.0, None, 58.0, 76.0, 77.0, 39.0, 38.0, 77.0, 75.0, 39.0, 53.0, 70.0, 81.0, 58.0, 38.0, 52.0, None, 62.0, 74.0, 51.0, 64.0, 57.0, None, 46.0, 61.0, 70.0, 84.0, 24.0, 64.0, 60.0, 45.0, 39.0, 68.0, 77.0, 65.0, 22.0, 83.0, 51.0, 69.0, 74.0, 66.0, 40.0, 59.0, 69.0, 52.0, 77.0, 27.0, 25.0, 58.0, 45.0, 67.0, 67.0, 40.0, 75.0, 96.0, 62.0, 63.0, 57.0, 44.0, 47.0, 77.0, 64.0, 38.0, 70.0, 62.0, 76.0, 41.0, 84.0, 52.0, 84.0, 78.0, 71.0, 69.0, 54.0, 35.0, 46.0, 42.0, 65.0, 70.0, 70.0, 79.0, 38.0, 54.0, 69.0, 98.0, 61.0, None, 83.0, 81.0, 85.0, 43.0, 34.0, 72.0, 84.0, 63.0, 41.0, 78.0, 35.0, 28.0, 46.0, None, 70.0, 18.0, 45.0, 54.0, 55.0, 49.0, 63.0, 63.0, 78.0, 62.0, 33.0, 54.0, 64.0, 50.0, 37.0, 53.0, 55.0, 45.0, 42.0, 54.0, 42.0, 42.0, 62.0, 48.0, 50.0, 51.0, 30.0, 69.0, 55.0, 41.0, 82.0, 57.0, 67.0, 75.0, 61.0, 86.0, 33.0, 35.0, 67.0, 84.0, 42.0, 41.0, 72.0, 60.0, 51.0, 52.0, 52.0, 59.0, 38.0, 66.0, 39.0, 78.0, 42.0, 44.0, 54.0, 86.0, 83.0, 52.0, None, 50.0, 43.0, 86.0, 80.0, 77.0, 42.0, 63.0, 47.0, 64.0, 47.0, 57.0, 58.0, 38.0, 34.0, 57.0, 56.0, 23.0, 96.0, 52.0, 81.0, 74.0, 67.0, 57.0, 42.0, 63.0, 34.0, 66.0, None, 74.0, 30.0, 61.0, 18.0, 68.0, 39.0, 38.0, 43.0, 44.0, 63.0, 56.0, 9.0, 45.0, 76.0, 43.0, 50.0, 33.0, 43.0, 31.0, 70.0, 79.0, 79.0, 13.0, 37.0, 59.0, 56.0, 33.0, None, 75.0, 96.0, 66.0, 65.0, 80.0, 36.0, 55.0, 81.0, 61.0, 83.0, 82.0, 19.0, 74.0, 49.0, 63.0, 64.0, 45.0, 89.0, 77.0, 82.0, 73.0, 61.0, 51.0, 61.0, 95.0, 38.0, 67.0, 41.0, 65.0, None, 38.0, 76.0, 65.0, 35.0, 97.0, 95.0, None, 42.0, 56.0, 43.0, 84.0, 61.0, 37.0, 53.0, 78.0, 40.0, 63.0, 60.0, 53.0, 68.0, 82.0, 76.0, 80.0, 76.0, 66.0, 62.0, 81.0, 78.0, 67.0, None, 45.0, 46.0, None, 22.0, 77.0, 61.0, 63.0, None, 44.0, 42.0, 39.0, None, 49.0, 17.0, 67.0, None, 63.0, 50.0, 96.0, 36.0, 43.0, 70.0, 71.0, 38.0, 36.0, 95.0, 42.0, 72.0, 50.0, None, 61.0, 83.0, 69.0, 49.0, 66.0, 38.0, 67.0, 62.0, 36.0, 70.0, 80.0, 48.0, 34.0, 46.0, 59.0, 95.0, 57.0, 40.0, 45.0, 71.0, 41.0, 62.0, 51.0, 45.0, 21.0, 35.0, 70.0, 42.0, 43.0, 55.0, 49.0, 64.0, 33.0, 71.0, 71.0, 51.0, 71.0, 26.0, 44.0, 63.0, 84.0, 66.0, 46.0, 13.0, 35.0, 67.0, 89.0, 35.0, 69.0, 45.0, 6.0, 54.0, 95.0, 36.0, 37.0, 52.0, 84.0, 97.0, 37.0, 70.0, 35.0, 39.0, 29.0, 56.0, 85.0, 75.0, 83.0, 62.0, 41.0, 28.0, 55.0, 72.0, 75.0, 66.0, 66.0, 50.0, 66.0, 26.0, 54.0, 44.0, 80.0, 46.0, 37.0, 29.0, None, 26.0, 45.0, 63.0, 41.0, 19.0, 75.0, 62.0, 46.0, 66.0, 30.0, 61.0, 46.0, 37.0, 95.0, 80.0, 29.0, 69.0, 27.0, 95.0, 81.0, 46.0, 43.0, 46.0, 78.0, 63.0, 69.0, 47.0, 63.0, 7.0, 55.0, 74.0, 15.0, 76.0, 56.0, 76.0, 47.0, 89.0, 39.0, 47.0, 52.0, 74.0, 65.0, 42.0, 59.0, None, 43.0, 67.0, 51.0, 64.0, 66.0, None, 61.0, 62.0, 76.0, 64.0, 3.0, 56.0, 60.0, 36.0, 74.0, 78.0, 77.0, None, 36.0, 58.0, 62.0, 31.0, 37.0, 53.0, 26.0, 47.0, 40.0, 41.0, 41.0, 57.0, 51.0, 42.0, 49.0, 56.0, 62.0, 69.0, 58.0, 85.0, 79.0, 55.0, 21.0, 50.0, 50.0, 52.0, 66.0, 69.0, 40.0, 24.0, 56.0, 42.0, 59.0, 69.0, 64.0, 37.0, 45.0, 69.0, 40.0, 41.0, 65.0, 34.0, 43.0, 35.0, 76.0, 52.0, 47.0, 84.0, 79.0, 56.0, 79.0, 84.0, 22.0, 65.0, 36.0, 35.0, 75.0, 44.0, 51.0, 57.0, 39.0, 71.0, 35.0, 38.0, 46.0, 56.0, 64.0, 44.0, 43.0, 37.0, 35.0, 36.0, 43.0, 41.0, 94.0, 59.0, 64.0, 46.0, 44.0, 41.0, 62.0, 83.0, 59.0, 19.0, 48.0, 9.0, 72.0, 65.0, 56.0, 70.0, 46.0, 67.0, 71.0, 61.0, 51.0, 39.0, 65.0, 59.0, 69.0, 24.0, 77.0, None, 69.0, 43.0, 31.0, 60.0, 59.0, 84.0, 53.0, 76.0, 70.0, 35.0, 34.0, 72.0, 72.0, 17.0, 76.0, 37.0, 51.0, 38.0, 47.0, 79.0, 87.0, 50.0, 50.0, 28.0, 48.0, 22.0, 49.0, 60.0, 71.0, 77.0, 71.0, 46.0, 27.0, 61.0, 71.0, 39.0, 34.0, 51.0, 26.0, 43.0, 47.0, 36.0, 18.0, 79.0, 51.0, 44.0, 49.0, 71.0, 40.0, 75.0, 67.0, 87.0, 57.0, 65.0, 33.0, 51.0, 43.0, 67.0, 59.0, 42.0, 28.0, 19.0, 58.0, 67.0, 96.0, 41.0, 49.0, 20.0, 50.0, 44.0, 53.0, 70.0, 39.0, 72.0, 43.0, 82.0, 64.0, 63.0, 64.0, 70.0, 38.0, 21.0, 42.0, 59.0, 40.0, 41.0, 59.0, 47.0, 49.0, 37.0, 34.0, 70.0, 35.0, 80.0, 78.0, 37.0, 67.0, 65.0, 75.0, 72.0, 70.0, 56.0, 70.0, 25.0, 46.0, 62.0, 59.0, 56.0, 46.0, 12.0, 64.0, 36.0, 26.0, 83.0, 51.0, 16.0, 78.0, 33.0, 59.0, 36.0, 41.0, 95.0, 46.0, 70.0, 86.0, 62.0, 47.0, 36.0, 17.0, 78.0, 70.0, 40.0, 43.0, 64.0, 26.0, 42.0, None, 38.0, 38.0, 37.0, 50.0, 38.0, 62.0, 33.0, None, 6.0, None, 59.0, None, None, None, None, None, None, 13.0, 22.0, 48.0, None, 42.0, 45.0, None, 43.0, None, None, 47.0, 57.0, 43.0, None, 71.0, 41.0, 56.0, None, 40.0, 47.0, 26.0, 57.0, 40.0, 47.0, 42.0, None, None, 64.0, None, None, None, None, 80.0, None, 83.0, 44.0, 79.0, 45.0, None, 67.0, 56.0, 40.0, 39.0, 47.0, None, 39.0, 40.0, 61.0, 42.0, 35.0, 28.0, None, 18.0, None, 39.0, 24.0, 26.0, 59.0, 31.0, 34.0, 47.0, 65.0, 54.0, 50.0, 62.0, 57.0, 55.0, 70.0, 68.0, 47.0, 74.0, 43.0, 47.0, 46.0, 83.0, 13.0, 95.0, 56.0, 66.0, 43.0, 69.0, 51.0, 40.0, 96.0, 42.0, 19.0, 55.0, 62.0, 60.0, 48.0, 31.0, 62.0, 78.0, 64.0, 23.0, 51.0, 18.0, 37.0, None, 52.0, 87.0, 56.0, 49.0, 57.0, 46.0, 39.0, 47.0, 57.0, 34.0, 43.0, 77.0, 49.0, None, 83.0, 67.0, 35.0, 45.0, 44.0, 47.0, 53.0, 37.0, 43.0, 77.0, 28.0, 68.0, 36.0, 65.0, 49.0, 31.0, 5.0, 12.0, 46.0, 65.0, 81.0, 46.0, 67.0, 55.0, 65.0, 42.0, 45.0, 26.0, 67.0, 72.0, 56.0, 57.0, 85.0, 55.0, 63.0, 22.0, 19.0, 42.0, 66.0, 62.0, 97.0, 58.0, 77.0, 76.0, 68.0, 51.0, 74.0, 94.0, 96.0, 73.0, 12.0, 70.0, 43.0, 34.0, 58.0, 63.0, 66.0, 36.0, 97.0, 64.0, 33.0, 22.0, 63.0, 44.0, 43.0, 51.0, 17.0, 3.0, 4.0, 56.0, 60.0, 90.0, 72.0, 47.0, 54.0, 37.0, 25.0, 44.0, 36.0, 71.0, 37.0, 51.0, 47.0, 72.0, 5.0, 4.0, 87.0, 57.0, 85.0, 82.0, 77.0, 34.0, 27.0, 96.0, 36.0, 82.0, 47.0, 38.0, 74.0, 64.0, 53.0, 71.0, 68.0, 63.0, 71.0, 39.0, 37.0, 47.0, 36.0, 42.0, 46.0, 40.0, 46.0, None, 71.0, 64.0, 42.0, 6.0, 88.0, 64.0, 63.0, 42.0, 43.0, 46.0, 40.0, 71.0, 69.0, 38.0, 47.0, 35.0, 43.0, 67.0, 19.0, 31.0, 65.0, 42.0, 70.0, 46.0, 47.0, 25.0, 78.0, 43.0, 76.0, 49.0, 68.0, 41.0, 83.0, 45.0, 45.0, 53.0, 48.0, 42.0, 70.0, 56.0, 67.0, 96.0, 59.0, 70.0, 26.0, 74.0, 9.0, 42.0, 39.0, 48.0, 59.0, 52.0, 70.0, 40.0, 40.0, 65.0, 25.0, 46.0, 94.0, None, 17.0, 62.0, 86.0, 36.0, 43.0, 60.0, 87.0, 75.0, None, 48.0, 32.0, 73.0, 54.0, 71.0, 25.0, 40.0, 56.0, 84.0, 35.0, 51.0, 17.0, 76.0, 58.0, 52.0, 67.0, 61.0, 58.0, 75.0, 49.0, 82.0, 31.0, 49.0, 57.0, 33.0, 36.0, 62.0, 54.0, 37.0, 39.0, 71.0, 49.0, 39.0, 71.0, 55.0, 84.0, 53.0, 36.0, 41.0, 52.0, 64.0, 77.0, 35.0, None, 69.0, 41.0, 34.0, 66.0, None, 96.0, 40.0, 56.0, 63.0, 71.0, 58.0, 32.0, 48.0, 67.0, 64.0, 40.0, 54.0, 1.0, 74.0, 43.0, 43.0, 31.0, 65.0, 47.0, 57.0, 47.0, 24.0, 69.0, 49.0, None, 57.0, 56.0, 76.0, 43.0, 40.0, 33.0, 66.0, 39.0, 59.0, 94.0, 57.0, 49.0, 73.0, 48.0, 45.0, 69.0, 66.0, 55.0, 42.0, 38.0, 52.0, 52.0, 40.0, 75.0, 40.0, 43.0, 58.0, 29.0, 22.0, 95.0, 22.0, 37.0, 16.0, 67.0, 37.0, 74.0, 70.0, 49.0, 83.0, 61.0, 58.0, 39.0, 65.0, 59.0, 53.0, 43.0, 53.0, 47.0, 56.0, 43.0, 16.0, 40.0, 25.0, 27.0, 39.0, 37.0, 73.0, 62.0, 64.0, 64.0, 57.0, 34.0, 61.0, 53.0, 4.0, 83.0, 54.0, 52.0, 72.0, 35.0, 18.0, 84.0, 78.0, 82.0, 71.0, 26.0, 43.0, 53.0, None, 47.0, 49.0, 74.0, 43.0, 40.0, 58.0, 61.0, 73.0, 65.0, 81.0, 75.0, 56.0, 77.0, 98.0, 61.0, 49.0, 43.0, 96.0, 88.0, 57.0, 40.0, None, 41.0, 63.0, 53.0, 62.0, 39.0, 63.0, 16.0, 71.0, 38.0, 6.0, 65.0, 58.0, 74.0, 71.0, 49.0, 32.0, 67.0, 95.0, 69.0, None, 43.0, 69.0, 46.0, 66.0, 69.0, 65.0, 59.0, 40.0, 43.0, 63.0, 65.0, 41.0, 63.0, 20.0, 56.0, 44.0, 41.0, 85.0, 58.0, 76.0, 35.0, 61.0, 37.0, 49.0, 45.0, 44.0, 74.0, 52.0, 38.0, 50.0, 56.0, 83.0, 53.0, 63.0, 62.0, 18.0, 33.0, 20.0, 69.0, 57.0, 21.0, 36.0, 71.0, 4.0, 57.0, 43.0, 34.0, 32.0, 27.0, 33.0, 22.0, 81.0, 60.0, 49.0, 60.0, None, 43.0, 49.0, 53.0, 43.0, 51.0, 82.0, 57.0, 54.0, 64.0, 53.0, 47.0, 70.0, 42.0, 69.0, 42.0, 36.0, 87.0, 66.0, 63.0, 5.0, 9.0, 36.0, 62.0, 26.0, 82.0, 65.0, 69.0, 78.0, 43.0, 86.0, 41.0, 96.0, 57.0, 39.0, 43.0, 64.0, 45.0, 56.0, 60.0, 45.0, 45.0, 61.0, 78.0, 59.0, 48.0, 28.0, 81.0, 82.0, 65.0, 74.0, 62.0, 72.0, 32.0, 61.0, 47.0, 79.0, 78.0, 48.0, 65.0, 12.0, 55.0, 63.0, 64.0, 65.0, 70.0, 25.0, 62.0, 93.0, 81.0, 83.0, 82.0, 65.0, 25.0, 75.0, 73.0, 41.0, 22.0, 67.0, 90.0, 45.0, 53.0, 68.0, 20.0, 63.0, 73.0, 54.0, 49.0, 56.0, 87.0, 66.0, 78.0, 58.0, 60.0, 37.0, 51.0, 42.0, 71.0, 62.0, 96.0, 52.0, 63.0, 63.0, 61.0, 53.0, 84.0, 34.0, 74.0, 36.0, None, None, 78.0, 72.0, 70.0, 22.0, 59.0, 81.0, 74.0, 66.0, 51.0, 39.0, 41.0, 64.0, 22.0, 60.0, 20.0, None, 79.0, 37.0, 39.0, 21.0, 76.0, 71.0, None, 69.0, 61.0, 33.0, 74.0, 93.0, 26.0, 28.0, 33.0, 70.0, 51.0, 40.0, 66.0, 36.0, 72.0, 53.0, 47.0, 40.0, 39.0, 78.0, 28.0, 33.0, 13.0, 61.0, 40.0, 36.0, 77.0, 15.0, 39.0, 38.0, 81.0, 45.0, 57.0, 76.0, 30.0, 56.0, 70.0, 54.0, 66.0, 45.0, 66.0, 67.0, 47.0, 71.0, 61.0, 80.0, 32.0, 41.0, 94.0, 37.0, 81.0, 42.0, None, 84.0, 81.0, 59.0, 41.0, 49.0, 47.0, 43.0, 63.0, 69.0, 63.0, 73.0, 71.0, 59.0, 47.0, 64.0, 46.0, 62.0, 52.0, 59.0, 83.0, 33.0, 65.0, 95.0, 51.0, 23.0, 40.0, 18.0, 51.0, 34.0, 14.0, 49.0, 41.0, 52.0, 63.0, 40.0, 59.0, 63.0, 33.0, 65.0, 76.0, 25.0, 80.0, 32.0, None, 61.0, 71.0, 65.0, 56.0, 56.0, 82.0, 95.0, 70.0, 68.0, 61.0, 45.0, 70.0, 21.0, 39.0, 50.0, 80.0, 74.0, 94.0, 28.0, 96.0, 41.0, 4.0, 63.0, 31.0, 56.0, 66.0, 57.0, 20.0, 18.0, 71.0, 19.0, 53.0, 78.0, 38.0, 32.0, 50.0, 73.0, 57.0, 47.0, 53.0, 60.0, 90.0, 40.0, 41.0, 46.0, 56.0, 67.0, 0.0, 33.0, 60.0, 61.0, 38.0, 75.0, 25.0, 29.0, 46.0, None, 86.0, 67.0, 61.0, 45.0, 43.0, 65.0, 64.0, 19.0, 72.0, 72.0, 76.0, 84.0, 34.0, 54.0, 48.0, 68.0, 65.0, 43.0, 57.0, None, 83.0, 56.0, 58.0, 46.0, 51.0, 31.0, 52.0, 68.0, 47.0, 53.0, 64.0, 64.0, 72.0, 60.0, 49.0, 56.0, 46.0, 12.0, 19.0, 63.0, 70.0, 79.0, 74.0, 54.0, 53.0, 56.0, 33.0, 73.0, 82.0, 71.0, 73.0, 52.0, 51.0, 56.0, 47.0, 56.0, 56.0, 16.0, 73.0, 59.0, 75.0, 67.0, 25.0, 67.0, 71.0, 69.0, 60.0, 75.0, 79.0, 31.0, 59.0, 54.0, 62.0, 39.0, 53.0, 84.0, 75.0, None, 95.0, 54.0, 72.0, 60.0, 53.0, 25.0, 75.0, 42.0, 63.0, 32.0, 45.0, None, None, 69.0, 87.0, 61.0, 62.0, 41.0, 47.0, 72.0, 77.0, 55.0, 52.0, 65.0, 86.0, 65.0, 87.0, 39.0, 69.0, 70.0, 49.0, 30.0, 34.0, 69.0, 82.0, 60.0, 24.0, 82.0, 59.0, 41.0, 45.0, 78.0, 5.0, 27.0, 57.0, 94.0, 67.0, 18.0, 74.0, 82.0, 70.0, None, 53.0, 51.0, 53.0, 48.0, 14.0, 46.0, 49.0, 54.0, 35.0, 18.0, 53.0, 16.0, 43.0, 36.0, 80.0, 12.0, 64.0, 23.0, 56.0, 66.0, 18.0, 2.0, 65.0, 67.0, 64.0, 49.0, 66.0, 58.0, 71.0, 28.0, 52.0, 55.0, 57.0, 72.0, 22.0, 55.0, None, 63.0, 42.0, 89.0, 23.0, 66.0, 96.0, 79.0, 65.0, 80.0, 69.0, 62.0, 95.0, 96.0, 74.0, 70.0, 90.0, 60.0, 70.0, 65.0, 73.0, 2.0, 57.0, 49.0, 46.0, 59.0, 92.0, 66.0, 45.0, 12.0, 43.0, 81.0, 51.0, 59.0, 77.0, 69.0, 59.0, 73.0, 77.0, 57.0, 24.0, 48.0, 69.0, 71.0, 61.0, 37.0, 71.0, 19.0, 61.0, 61.0, None, 42.0, 52.0, 95.0, 34.0, 87.0, 19.0, 18.0, 47.0, 69.0, 79.0, 75.0, 61.0, 40.0, 45.0, 45.0, 59.0, 54.0, 73.0, 76.0, 33.0, 69.0, 70.0, 70.0, 51.0, 67.0, 45.0, 2.0, 81.0, 65.0, 84.0, 61.0, 66.0, 45.0, 81.0, 59.0, 65.0, 88.0, 84.0, 64.0, 56.0, 96.0, 47.0, 73.0, 29.0, 69.0, 46.0, 66.0, 20.0, 4.0, 63.0, 71.0, 71.0, None, 52.0, 56.0, 97.0, 62.0, 21.0, 51.0, 40.0, 83.0, 96.0, 56.0, None, 32.0, 49.0, 47.0, 12.0, 84.0, 32.0, 68.0, 25.0, 40.0, 37.0, 62.0, 51.0, 69.0, 62.0, 59.0, 22.0, 77.0, 82.0, 68.0, 43.0, 39.0, 19.0, 73.0, 55.0, 82.0, 63.0, None, 95.0, 42.0, 46.0, 67.0, 60.0, 22.0, 61.0, 89.0, 45.0, 42.0, 59.0, 82.0, 39.0, 59.0, 87.0, 66.0, None, 52.0, 60.0, 80.0, 65.0, 94.0, 66.0, 22.0, 90.0, 80.0, 1.0, 65.0, 59.0, 73.0, 48.0, 28.0, 27.0, 59.0, 51.0, 65.0, 64.0, 46.0, 56.0, 7.0, 83.0, 76.0, 71.0, 46.0, 69.0, 61.0, 64.0, 69.0, 56.0, 46.0, 56.0, None, 63.0, None, 67.0, 62.0, 61.0, 50.0, 42.0, 48.0, 77.0, 74.0, 26.0, 75.0, 67.0, 61.0, 67.0, 46.0, 53.0, 80.0, 52.0, 24.0, 56.0, 65.0, 45.0, 5.0, 70.0, 75.0, 32.0, 22.0, 87.0, 6.0, 53.0, 96.0, 52.0, 66.0, 73.0, 56.0, 45.0, 74.0, 75.0, 63.0, 44.0, 29.0, 69.0, 56.0, 87.0, 57.0, 78.0, 42.0, 34.0, 71.0, 50.0, 72.0, 76.0, 81.0, 41.0, 59.0, 83.0, 44.0, 71.0, 21.0, None, 58.0, 55.0, 52.0, 18.0, 69.0, 63.0, 72.0, 77.0, 45.0, None, 61.0, 94.0, 65.0, 29.0, 22.0, 69.0, 67.0, 94.0, 23.0, 63.0, 71.0, 72.0, 51.0, 55.0, 47.0, 54.0, 25.0, 72.0, 59.0, 87.0, None, 49.0, 46.0, 65.0, None, 71.0, 57.0, 45.0, 54.0, 41.0, 18.0, 64.0, 42.0, 83.0, 73.0, 73.0, 80.0, 75.0, 52.0, 48.0, 30.0, 53.0, 60.0, 61.0, 72.0, 44.0, 50.0, 45.0, 77.0, 26.0, 25.0, 73.0, 60.0, 89.0, 45.0, 28.0, 78.0, 68.0, 59.0, 71.0, 55.0, 87.0, 82.0, 51.0, 69.0, 67.0, 72.0, 70.0, 66.0, 71.0, 73.0, 77.0, 72.0, 72.0, 59.0, 83.0, 29.0, 51.0, 82.0, 78.0, 71.0, 59.0, 65.0, 50.0, 71.0, 70.0, 83.0, 39.0, 75.0, 40.0, 67.0, 75.0, 50.0, 67.0, 67.0, 47.0, 76.0, 34.0, 87.0, None, 87.0, 54.0, 27.0, 82.0, 45.0, 70.0, 45.0, 72.0, 56.0, 64.0, 63.0, 73.0, 64.0, 65.0, 72.0, 59.0, 78.0, 67.0, 8.0, 75.0, 62.0, 74.0, 60.0, 56.0, 14.0, 66.0, 71.0, 80.0, 65.0, 25.0, 19.0, 63.0, 66.0, 74.0, None, None, 62.0, 32.0, 82.0, 2.0, 74.0, 61.0, 74.0, 65.0, 71.0, 72.0, 44.0, 75.0, 67.0, 59.0, 58.0, 65.0, 73.0, 34.0, 5.0, 35.0, 96.0, 42.0, 73.0, None, 56.0, 65.0, 72.0, 46.0, 41.0, 84.0, None, None, 59.0, 69.0, 64.0, 77.0, 39.0, 94.0, 65.0, 67.0, 65.0, 59.0, None, None, 64.0, None, 95.0, 7.0, 97.0, 74.0, 50.0, 75.0, None, 68.0, None, None, 74.0, None, 59.0, 52.0, None, 58.0, 50.0, 61.0, 27.0, 71.0, 65.0, 79.0, 69.0, None, None, 79.0, None, None, 68.0, 73.0, 70.0, 43.0, 73.0, 69.0, 67.0, 66.0, 58.0, 19.0, 59.0, 63.0, 86.0, 47.0, 82.0, 45.0, 81.0, 63.0, 81.0, 84.0, 66.0, 63.0, 84.0, 69.0, 56.0, 45.0, 59.0, 64.0, 72.0, 51.0, 78.0, 49.0, 83.0, 55.0, 65.0, 66.0, 66.0, 63.0, 63.0, 87.0, 65.0, 65.0, 45.0, 23.0, None, 75.0, 51.0, 59.0, 81.0, 63.0, 82.0, 70.0, 70.0, 62.0, 76.0, 14.0, 65.0, 78.0, 56.0, 61.0, 71.0, 73.0, 81.0, 82.0, 76.0, 45.0, 80.0, 56.0, 45.0, 72.0, 69.0, 46.0, 80.0, 71.0, 56.0, 56.0, 59.0, 59.0, 79.0, 63.0, 60.0, 84.0, 65.0, 78.0, 65.0, 81.0, 67.0, 44.0, 46.0, 51.0, 48.0, 56.0, 65.0, 25.0, 74.0, 60.0, 59.0, 72.0, 66.0, 72.0, 59.0, 59.0, 67.0, None, 49.0, 66.0, 65.0, 69.0, 46.0, 55.0, 72.0, 56.0, 56.0, 56.0, 41.0, 58.0, 71.0, 66.0, 51.0, 56.0, 71.0, 83.0, 61.0, 42.0, 65.0, 21.0, 70.0, 41.0, 65.0, 81.0, 73.0, 62.0, 67.0, 81.0, 71.0, 81.0, 78.0, 80.0, 72.0, 73.0, 64.0, 2.0, 41.0, 70.0, 79.0, 71.0, 61.0, 67.0, None, 79.0, 75.0, 56.0, 44.0, 43.0, 73.0, 94.0, 57.0, 66.0, 56.0, 71.0, 65.0, 55.0, 46.0, 69.0, 71.0, 69.0, 73.0, 66.0, 43.0, 31.0, 66.0, 56.0, 86.0, 71.0, 75.0, 59.0, 94.0, 30.0, 45.0, 85.0, 65.0, 65.0, 66.0, 56.0, 65.0, 66.0, 63.0, 1.0, 67.0, 70.0, 88.0, 65.0, 80.0, 68.0, 65.0, 67.0, 59.0, 75.0, 72.0, 86.0, 73.0, 38.0, 79.0, 84.0, 73.0, 65.0, 46.0, 65.0, 76.0, 80.0, 51.0, 72.0, 61.0, 49.0, 56.0, 70.0, 56.0, 41.0, 63.0, 83.0, 43.0, 59.0, 55.0, 89.0, 57.0, 30.0, 89.0, 59.0, 66.0, 75.0, 65.0, 65.0, 69.0, 46.0, 69.0, 77.0, 87.0, 67.0, 65.0, 39.0, 74.0, 63.0, 87.0, 70.0, 62.0, 69.0, 94.0, 32.0, 45.0, 55.0, 75.0, 65.0, 97.0, 56.0, 12.0, 45.0, 59.0, 80.0, 53.0, 56.0, 40.0, 45.0, 89.0, 31.0, 69.0, 66.0, 86.0, 71.0, 57.0, 80.0, 45.0, 56.0, 45.0, 84.0, 89.0, 75.0, 75.0, 88.0, 81.0, 53.0, 46.0, 46.0, 78.0, 63.0, None, 54.0, 69.0, 62.0, 47.0, 78.0, 84.0, 76.0, 65.0, 94.0, 72.0, 72.0, 81.0, 54.0, 83.0, 82.0, 69.0, 30.0, 36.0, 59.0, 63.0, 35.0, 78.0, 14.0, 82.0, 77.0, 72.0, 65.0, 29.0, 65.0, 85.0, 86.0, 84.0, 70.0, 75.0, 88.0, 30.0, 72.0, 26.0, 65.0, 88.0, 88.0, 14.0, 27.0, 27.0, 28.0, 31.0, 28.0, 28.0, 26.0, 36.0, 53.0, 14.0, 36.0, 34.0, 35.0, 36.0, 26.0, 49.0, 27.0, 35.0, 28.0, 41.0, 53.0, 36.0, 14.0, 55.0, 28.0, 14.0, 55.0, 58.0, 53.0, 58.0, 55.0, 57.0, 44.0, 55.0, 14.0, 58.0, 34.0, 58.0, 53.0, 36.0, 17.0, 21.0, 21.0, 49.0, 6.0, 28.0, 45.0, 27.0, 55.0, 23.0, 28.0, 24.0, 31.0, 21.0, 35.0, 44.0, 24.0, 26.0, 52.0, 41.0, 23.0, 36.0, 41.0, 7.0, 24.0, 6.0, 55.0, 27.0, 35.0, 39.0, 21.0, 42.0, 21.0, 21.0, 16.0, 16.0, 23.0, 35.0, 35.0, 7.0, 30.0, 23.0, 51.0, 58.0, 3.0, 3.0, 21.0, 7.0, 6.0, 30.0, 23.0, 27.0, 55.0, 18.0, 21.0, 50.0, 23.0, 48.0, 17.0, 27.0, 52.0, 52.0, 39.0, 4.0, 27.0, 48.0, 44.0, 52.0, 28.0, 31.0, 42.0, 56.0, 17.0, 40.0, 46.0, 16.0, 58.0, 52.0, 46.0, 48.0, 56.0, 58.0, None, 16.0, 39.0, None, 16.0, 36.0, None, 3.0, 34.0, None, 52.0, 44.0, 56.0, 48.0, 7.0, 23.0, 48.0, None, 3.0, 6.0, 25.0, 16.0, 3.0, 16.0, 17.0, None, 52.0, 7.0, 21.0, 53.0, 26.0, 16.0, 53.0, 53.0, 11.0, 6.0, 6.0, 36.0, 46.0, 23.0, 53.0, 26.0, 41.0, 14.0, 7.0, 17.0, 40.0, 21.0, 17.0, 42.0, 8.0, 49.0, 52.0, 12.0, 4.0, 31.0, 35.0, 23.0, 47.0, 2.0, 40.0, 47.0, 35.0, 26.0, 18.0, 16.0, 4.0, 4.0, 14.0, 21.0, 22.0, 31.0, 11.0, 6.0, 21.0, 36.0, 49.0, 26.0, 4.0, 58.0, 21.0, 21.0, 5.0, 7.0, 3.0, 49.0, 18.0, 7.0, 18.0, 52.0, 23.0, 4.0, 23.0, 3.0, 3.0, 21.0, 4.0, 5.0, 17.0, 21.0, 13.0, 12.0, 18.0, 5.0, 5.0, 12.0, 5.0, 11.0, 15.0, 17.0, 17.0, 17.0, 36.0, 17.0, 36.0, 44.0, 18.0, 2.0, 5.0, 1.0, 18.0, 2.0, 11.0, 53.0, 10.0, 1.0, 3.0, 3.0, 33.0, 2.0, 20.0, 3.0, 4.0, 17.0, 23.0, 23.0, 1.0, 3.0, 14.0, 11.0, 5.0, 10.0, 11.0, 20.0, 2.0, 3.0, 2.0, 45.0, 22.0, 2.0, 34.0, 4.0, 3.0, 5.0, 26.0, 9.0, 49.0, 12.0, 1.0, 3.0, 1.0, 13.0, 48.0, 17.0, 28.0, 2.0, None, 3.0, 34.0, 2.0, 36.0, 9.0, 12.0, 18.0, 2.0, 27.0, 21.0, 1.0, 0.0, 20.0, 53.0, 6.0, 2.0, 2.0, 2.0, 1.0, 20.0, 22.0, 3.0, 4.0, 15.0, 22.0, 4.0, 25.0, 11.0, 49.0, 4.0, 3.0, 2.0, 1.0, 1.0, 1.0, 12.0, 1.0, 15.0, 4.0, 2.0, 8.0, 8.0, 1.0, 0.0, 2.0, 1.0, 10.0, 2.0, 2.0, 1.0, 20.0, 10.0, 3.0, 9.0, 4.0, 22.0, 17.0, 1.0, 9.0, 30.0, 23.0, 26.0, 22.0, 22.0, 4.0, 4.0, 2.0, 23.0, 18.0, 1.0, 13.0, 6.0, 4.0, 2.0, 8.0, 15.0, 33.0, 5.0, 9.0, 22.0, 2.0, 1.0, 22.0, 1.0, 11.0, 57.0, 5.0, 0.0, None, 11.0, 62.0, 13.0, 1.0, 6.0, 20.0, 11.0, 0.0, 39.0, 2.0, 48.0, 2.0, 2.0, 8.0, 20.0, 2.0, 53.0, 2.0, 7.0, 9.0, 30.0, 5.0, 25.0, 58.0, 14.0, 11.0, 8.0, 3.0, 7.0, 1.0, 13.0, 30.0, 21.0, 3.0, 36.0, 37.0, 5.0, 3.0, 32.0, 14.0, 43.0, 20.0, 9.0, 35.0, 20.0, 53.0, 20.0, 39.0, 8.0, 2.0, 13.0, 2.0, 38.0, 1.0, 23.0, 11.0, 23.0, 15.0, 30.0, 36.0, 22.0, 0.0, 49.0, 20.0, 53.0, 45.0, 44.0, 15.0, 23.0, 29.0, 30.0, 23.0, 30.0, 53.0, 13.0, 30.0, 10.0, 2.0, 3.0, 27.0, 1.0, 10.0, 64.0, 30.0, 21.0, 8.0, 13.0, 28.0, 19.0, 15.0, 39.0, 25.0, 30.0, 12.0, 7.0, 25.0, 11.0, 38.0, 7.0, 11.0, 64.0, 1.0, 38.0, 17.0, 2.0, 32.0, 17.0, 5.0, 64.0, 30.0, 12.0, 4.0, 53.0, 4.0, 14.0, 53.0, 8.0, 11.0, 8.0, 30.0, 36.0, 2.0, 11.0, 5.0, 1.0, 17.0, 5.0, 12.0, 11.0, 6.0, 6.0, 36.0, 36.0, 33.0, 4.0, 40.0, 47.0, 19.0, 5.0, 10.0, 20.0, 15.0, 62.0, 3.0, 6.0, 11.0, 39.0, 33.0, 10.0, 10.0, 10.0, 3.0, 5.0, 13.0, 56.0, 8.0, 15.0, 6.0, 24.0, 8.0, 5.0, 10.0, 45.0, 1.0, 6.0, 21.0, 6.0, 45.0, 22.0, 51.0, 8.0, 14.0, 8.0, 8.0, 38.0, 11.0, 8.0, 3.0, 27.0, 6.0, 6.0, 19.0, 12.0, 2.0, 9.0, 5.0, 17.0, 11.0, 26.0, 33.0, 2.0, 7.0, 8.0, 10.0, 8.0, 2.0, 37.0, 4.0, 32.0, 6.0, 1.0, 10.0, 27.0, 3.0, 8.0, 3.0, 21.0, 6.0, 6.0, 1.0, 7.0, 17.0, 11.0, 8.0, 14.0, 38.0, 24.0, 6.0, 6.0, 59.0, 27.0, 40.0, 16.0, 2.0, 24.0, 6.0, 39.0, 14.0, 20.0, 6.0, 15.0, 10.0, 6.0, 12.0, 12.0, 38.0, 14.0, 52.0, 14.0, 38.0, 10.0, 6.0, 2.0, 38.0, 3.0, 51.0, 6.0, 31.0, 4.0, 4.0, 4.0, 28.0, 45.0, 1.0, 4.0, 2.0, 41.0, 3.0, 11.0, 56.0, 39.0, 1.0, 24.0, 6.0, 6.0, 4.0, 5.0, 3.0, 30.0, 12.0, 13.0, 5.0, 56.0, 6.0, 30.0, 21.0, 19.0, 7.0, 11.0, 32.0, 2.0, 7.0, 3.0, 18.0, 13.0, 7.0, 32.0, 47.0, 5.0, 8.0, 3.0, 59.0, 2.0, 12.0, 24.0, 10.0, 19.0, 4.0, 10.0, 9.0, 41.0, 21.0, 2.0, 3.0, 4.0, 14.0, 41.0, 7.0, 56.0, 8.0, 7.0, 39.0, 18.0, 4.0, 6.0, 6.0, 7.0, 4.0, 1.0, 5.0, 7.0, 18.0, 4.0, 4.0, 6.0, 4.0, 12.0, 30.0, 6.0, 6.0, 24.0, 4.0, 4.0, 23.0, 14.0, 14.0, 21.0, 17.0, 7.0, 7.0, 41.0, 7.0, 9.0, 13.0, 41.0, 3.0, 4.0, 16.0, 17.0, 62.0, 7.0, 39.0, 38.0, 5.0, 15.0, 8.0, 6.0, 11.0, 57.0, 9.0, 14.0, 7.0, 11.0, 9.0, 9.0, 21.0, 5.0, 5.0, 6.0, 7.0, 8.0, 5.0, 54.0, 24.0, 34.0, 8.0, 4.0, None, 7.0, 41.0, 35.0, 6.0, 10.0, 6.0, 5.0, 23.0, 24.0, 15.0, 5.0, 5.0, 3.0, 2.0, 13.0, 34.0, 5.0, 3.0, 55.0, 59.0, 4.0, 4.0, 43.0, 15.0, 8.0, 9.0, 2.0, 0.0, 6.0, 6.0, 4.0, 35.0, 2.0, 11.0, 5.0, 41.0, None, 6.0, 5.0, 7.0, 6.0, 4.0, 4.0, 5.0, 9.0, 5.0, 2.0, 7.0, None, 0.0, 42.0, 6.0, 6.0, 6.0, 16.0, 42.0, 36.0, 12.0, 7.0, 50.0, 14.0, 0.0, 0.0, 11.0, 5.0, 12.0, 9.0, 0.0, 8.0, 8.0, 6.0, 5.0, 21.0, 29.0, 2.0, 2.0, 35.0, 0.0, 7.0, 1.0, 7.0, 11.0, 2.0, 11.0, 18.0, 0.0, 4.0, 5.0, 4.0, 0.0, 4.0, 24.0, 12.0, 13.0, 21.0, 2.0, 9.0, 24.0, 4.0, 5.0, 5.0, 5.0, 31.0, 6.0, 5.0, 6.0, 4.0, 2.0, 9.0, 3.0, 4.0, 9.0, 10.0, 9.0, 0.0, 27.0, 4.0, 14.0, 9.0, 6.0, 4.0, 2.0, 0.0, 9.0, 3.0, 13.0, 36.0, 8.0, 5.0, 5.0, 1.0, 10.0, 11.0, 10.0, 38.0, 3.0, 0.0, 26.0, 9.0, 11.0, 8.0, 4.0, 3.0, 30.0, 12.0, 24.0, 29.0, 4.0, 10.0, 4.0, 11.0, 12.0, 11.0, 16.0, 0.0, 0.0, 0.0, 2.0, 8.0, 4.0, 5.0, 1.0, 6.0, 5.0, 0.0, 7.0, 3.0, 7.0, 4.0, 5.0, 4.0, 17.0, 4.0, 7.0, 1.0, 3.0, 0.0, 0.0, 9.0, 10.0, 0.0, 17.0, 1.0, 1.0, 17.0, 9.0, 6.0, 1.0, 0.0, 1.0, 5.0, 1.0, 8.0, 2.0, 7.0, 10.0, 3.0, 14.0, 7.0, 1.0, 0.0, 0.0, 0.0, 0.0, 1.0, 9.0, 0.0, 0.0, 0.0, 8.0, 4.0, 0.0, None, 0.0, 7.0, None, 4.0, 0.0, 2.0, None, 3.0, 1.0, 1.0, 13.0, 10.0, 0.0, 5.0, 0.0, 0.0, 37.0, 0.0, 1.0, 8.0, 6.0, 6.0, 12.0, 1.0, 6.0, 1.0, 0.0, 5.0, 0.0, 0.0, 0.0, 0.0, 51.0, 11.0, 0.0, 11.0, 6.0, 1.0, 6.0, 0.0, 38.0, 9.0, 5.0, 10.0, 1.0, 0.0, 0.0, 3.0, 7.0, 0.0, 5.0, 0.0, 7.0, 7.0, 3.0, 9.0, 6.0, 2.0, 4.0, 6.0, 3.0, 1.0, 0.0, 7.0, 3.0, 13.0, 1.0, 10.0, 4.0, 3.0, 6.0, 2.0, 3.0, 0.0, 2.0, 11.0, 6.0, 0.0, 0.0, 13.0, 11.0, 1.0, 1.0, 5.0, 30.0, 5.0, 12.0, 3.0, 4.0, 0.0, 6.0, 3.0, 0.0, 0.0, 2.0, 8.0, 1.0, 24.0, 12.0, 4.0, 13.0, 0.0, 12.0, 3.0, 1.0, 3.0, 1.0, 1.0, 33.0, 1.0, 0.0, 11.0, 0.0, 0.0, 2.0, 0.0, 2.0, 13.0, 12.0, 13.0, 1.0, 13.0, 2.0, 0.0, 33.0, 7.0, 0.0, 3.0, 1.0, 4.0, 1.0, 11.0, 3.0, 0.0, 3.0, 8.0, 4.0, 1.0, 13.0, 1.0, 13.0, 3.0, 4.0, 1.0, 1.0, 3.0, 11.0, 6.0, 1.0, 0.0, 5.0, None, 1.0, 0.0, 3.0, 10.0, 1.0, 1.0, 0.0, 1.0, 0.0, 0.0, None, 1.0, 1.0, 11.0, 0.0, 3.0, 10.0, 8.0, 5.0, 7.0, 0.0, 4.0, 4.0, 0.0, 0.0, None]\n",
    "bike_score = [None, None, None, None, None, None, None, None, None, None, None, None, None, None, None, None, None, None, None, None, None, None, None, None, None, None, None, None, None, None, None, None, None, None, None, None, None, None, None, None, None, None, None, None, None, None, None, None, None, None, None, None, None, None, None, None, None, None, None, None, None, None, None, None, None, None, None, None, None, None, None, None, None, None, None, None, None, None, None, None, None, None, None, None, None, None, None, None, None, None, None, None, None, None, None, None, None, None, None, None, None, None, None, None, None, None, None, None, None, None, None, None, None, None, None, None, None, None, None, None, None, None, None, None, None, None, None, None, None, None, None, None, None, None, None, None, None, None, None, None, None, None, None, None, None, None, None, None, None, None, None, None, None, None, None, None, None, None, None, None, None, None, None, None, None, None, None, None, None, None, None, None, None, None, None, None, None, None, None, None, None, None, None, None, None, None, None, None, None, None, None, None, None, None, None, None, None, None, None, None, None, None, None, None, None, None, None, None, None, None, None, None, None, None, None, None, None, None, None, None, None, None, None, None, None, None, None, None, None, None, None, None, None, None, None, None, None, None, None, None, None, None, None, None, None, None, None, None, None, None, None, None, None, None, None, None, None, None, None, None, None, None, None, None, None, None, None, None, None, None, None, None, None, None, None, None, None, None, None, None, None, None, None, None, None, None, None, None, None, None, None, None, None, None, None, None, None, None, None, None, None, None, None, None, None, None, None, None, None, 54.0, None, None, None, None, None, None, None, None, None, None, None, None, None, None, None, None, None, None, None, None, None, None, None, None, None, None, None, None, None, None, None, None, None, None, None, None, None, None, None, None, None, None, None, None, None, None, None, None, None, None, None, None, None, None, None, None, None, None, None, None, None, None, None, None, None, None, None, None, None, None, None, None, None, None, None, None, None, None, None, None, None, None, None, None, None, None, None, None, None, None, None, None, None, None, None, None, None, None, None, None, None, None, None, None, None, None, None, None, None, None, None, None, None, None, None, None, None, None, None, None, None, None, None, None, None, None, None, None, None, None, None, None, None, None, None, None, None, None, None, None, None, None, None, None, None, None, None, None, None, None, None, None, None, None, None, None, None, None, None, None, None, None, None, None, None, None, None, None, None, None, None, None, None, None, None, None, None, None, None, None, None, None, None, None, None, None, None, None, None, None, None, None, None, None, None, None, None, None, None, None, None, None, None, None, None, None, None, None, None, None, None, None, None, None, None, None, None, None, None, None, None, None, None, None, 27.0, None, None, None, None, None, None, None, None, None, None, None, None, None, None, None, None, None, None, None, None, None, None, None, None, None, None, None, None, None, None, None, None, None, None, None, None, None, None, None, None, None, None, None, None, None, None, None, None, None, None, None, None, None, None, None, None, None, None, None, None, None, None, None, None, None, None, None, None, None, None, None, None, None, None, None, None, None, None, None, None, None, None, None, None, None, 53.0, None, None, None, None, None, None, None, None, None, None, None, None, None, None, None, None, None, None, None, None, None, None, None, None, None, None, None, None, None, None, None, None, None, None, None, None, None, None, None, None, None, None, None, None, None, None, None, None, None, None, None, None, None, None, None, None, None, None, None, None, None, None, None, None, None, None, None, None, None, None, None, None, None, None, None, None, None, None, None, None, None, None, None, None, None, None, None, None, None, None, None, None, None, None, None, None, None, None, None, None, None, None, None, None, None, None, None, None, None, None, None, None, None, None, None, None, None, None, None, None, None, None, None, None, None, None, None, None, None, None, None, None, None, None, None, None, None, None, None, None, None, None, None, None, None, None, None, None, None, None, None, None, None, None, None, None, None, None, None, None, None, None, None, None, None, None, None, None, None, None, None, None, None, None, None, None, None, None, None, None, None, None, None, None, None, None, None, None, None, None, None, None, None, None, None, None, None, None, None, None, None, None, None, None, None, None, None, None, None, None, None, None, None, None, None, None, None, None, None, None, None, None, None, None, None, None, None, None, None, None, None, None, None, None, None, None, None, None, None, None, None, None, None, None, None, None, None, None, None, None, None, None, None, None, None, None, None, None, None, None, None, None, None, None, None, None, None, None, None, None, None, None, None, None, None, None, None, None, None, None, None, None, None, None, None, None, None, None, None, None, None, None, None, None, None, None, None, None, None, None, None, None, None, None, None, None, None, None, None, None, None, None, None, None, None, None, None, None, None, None, None, None, None, None, None, None, None, None, None, None, None, None, None, None, None, None, None, None, None, None, None, None, None, None, None, None, None, None, None, None, None, None, None, None, None, None, None, None, None, None, None, None, None, None, None, None, None, None, None, None, None, None, None, None, None, None, None, None, None, None, None, None, None, None, None, None, None, None, None, None, None, None, None, None, None, None, None, None, None, None, None, None, None, None, None, None, 69.0, 58.0, None, 54.0, 78.0, 51.0, 67.0, 70.0, None, 68.0, 68.0, 70.0, 58.0, 68.0, 80.0, 61.0, 70.0, 40.0, 59.0, 73.0, 69.0, 55.0, 77.0, 52.0, 68.0, 74.0, 68.0, None, 55.0, 43.0, 63.0, 70.0, 47.0, 64.0, 54.0, 68.0, 70.0, 68.0, 57.0, 55.0, 54.0, 56.0, 63.0, 79.0, 68.0, 56.0, 69.0, 52.0, 57.0, 60.0, 78.0, 78.0, 71.0, 83.0, 59.0, 73.0, 63.0, 54.0, 60.0, 54.0, 37.0, 54.0, 54.0, 61.0, 72.0, 67.0, 68.0, 76.0, 83.0, 68.0, 64.0, 69.0, 74.0, 60.0, 62.0, 57.0, 34.0, 60.0, 58.0, 79.0, 68.0, 65.0, 52.0, 73.0, 44.0, 64.0, 73.0, 40.0, 75.0, 72.0, 59.0, 45.0, 43.0, 46.0, 27.0, 64.0, 55.0, 39.0, 51.0, 60.0, 71.0, None, None, 64.0, 69.0, 59.0, 68.0, 74.0, 64.0, 55.0, 58.0, 53.0, 57.0, 53.0, 76.0, 70.0, 66.0, None, 66.0, 66.0, None, 68.0, 66.0, 44.0, 66.0, 68.0, 37.0, 65.0, 65.0, 68.0, 83.0, 69.0, 71.0, 62.0, 64.0, 52.0, 70.0, 74.0, 26.0, 64.0, 76.0, 73.0, 60.0, 44.0, 68.0, 84.0, 22.0, 60.0, 68.0, 62.0, 56.0, 54.0, None, 63.0, 45.0, 60.0, 73.0, 60.0, 68.0, 53.0, 53.0, 65.0, None, 27.0, 67.0, 52.0, 83.0, 60.0, 79.0, 68.0, 22.0, 73.0, 73.0, 63.0, 51.0, 71.0, 73.0, 56.0, 60.0, 50.0, 67.0, 70.0, 60.0, 60.0, 75.0, 60.0, 64.0, 56.0, 53.0, 58.0, 65.0, 55.0, 73.0, 60.0, 78.0, 51.0, 64.0, None, 75.0, 41.0, 68.0, None, 46.0, 79.0, 60.0, 72.0, 55.0, 48.0, 52.0, 54.0, 53.0, 64.0, 65.0, 54.0, 64.0, 48.0, 65.0, 60.0, 73.0, 68.0, 65.0, 37.0, 48.0, None, 55.0, 53.0, 66.0, 40.0, 62.0, None, None, 21.0, 27.0, 53.0, 65.0, 60.0, None, None, 68.0, 54.0, 48.0, 56.0, None, 70.0, 62.0, 45.0, 73.0, 60.0, 59.0, 52.0, 43.0, 46.0, 40.0, 65.0, 63.0, 74.0, 72.0, 64.0, 26.0, 66.0, 73.0, 51.0, 54.0, 70.0, 48.0, 60.0, 70.0, 61.0, 46.0, 61.0, 22.0, 70.0, 72.0, 61.0, 57.0, 55.0, 60.0, 63.0, 58.0, 45.0, 71.0, 53.0, 76.0, 57.0, None, 53.0, None, 58.0, 73.0, 56.0, 58.0, 58.0, 53.0, 52.0, 43.0, 51.0, 56.0, 61.0, 67.0, 66.0, 57.0, 59.0, 49.0, 61.0, 36.0, 64.0, 59.0, 63.0, 71.0, 56.0, 56.0, 60.0, 62.0, 60.0, 62.0, 64.0, None, 52.0, 67.0, 54.0, 49.0, 64.0, 54.0, 64.0, 61.0, 56.0, 68.0, 56.0, 59.0, 52.0, 53.0, None, 51.0, 78.0, 62.0, 57.0, 65.0, None, 54.0, 45.0, 72.0, 79.0, 56.0, 49.0, 68.0, 57.0, 62.0, 64.0, 45.0, 56.0, 27.0, 73.0, 57.0, 50.0, 53.0, 67.0, 47.0, None, 50.0, 45.0, 54.0, 58.0, 43.0, 55.0, 58.0, 56.0, 57.0, 54.0, 74.0, 64.0, 51.0, 75.0, 54.0, 52.0, 56.0, 78.0, 58.0, 52.0, 51.0, 57.0, 75.0, 48.0, 72.0, 65.0, 74.0, 77.0, 62.0, 61.0, 60.0, 60.0, 34.0, 41.0, 49.0, 61.0, 63.0, 70.0, 63.0, 60.0, 70.0, 60.0, 61.0, None, 48.0, 53.0, 65.0, 64.0, 53.0, 60.0, 60.0, 65.0, 65.0, 64.0, 60.0, 52.0, 60.0, None, 48.0, 26.0, 47.0, 51.0, 73.0, 78.0, None, 68.0, 75.0, 55.0, 64.0, 60.0, 59.0, 47.0, 57.0, 64.0, 48.0, 64.0, 60.0, 54.0, 65.0, 64.0, 69.0, 44.0, 62.0, 60.0, 68.0, 74.0, 60.0, 63.0, 48.0, 60.0, 56.0, 64.0, 71.0, 76.0, 46.0, 60.0, 57.0, 65.0, 64.0, 57.0, 59.0, 65.0, 57.0, 57.0, 51.0, 53.0, 52.0, 69.0, 61.0, 55.0, 65.0, 65.0, 61.0, 61.0, 68.0, 57.0, None, 60.0, 64.0, 73.0, 72.0, 68.0, 65.0, 53.0, 70.0, 56.0, 60.0, 62.0, 63.0, 63.0, 57.0, 53.0, 55.0, 47.0, 60.0, 45.0, 67.0, 73.0, 53.0, 69.0, 45.0, None, 55.0, 41.0, None, 83.0, 52.0, 68.0, 38.0, 77.0, 56.0, 63.0, 64.0, 52.0, None, 64.0, 51.0, 41.0, 66.0, 64.0, 46.0, 58.0, 64.0, 52.0, 53.0, 71.0, 71.0, None, 58.0, 64.0, 58.0, 32.0, None, 64.0, 64.0, 78.0, 53.0, 71.0, 31.0, 79.0, 53.0, 72.0, 53.0, 53.0, 43.0, 83.0, 48.0, 65.0, 64.0, 68.0, 74.0, 68.0, 53.0, 74.0, 78.0, 60.0, 71.0, 53.0, 52.0, 57.0, 60.0, 77.0, None, 69.0, 70.0, 64.0, 60.0, 57.0, 53.0, None, 53.0, 55.0, 64.0, 50.0, 68.0, 55.0, 63.0, 73.0, 63.0, 74.0, 51.0, 53.0, 81.0, 76.0, 54.0, 78.0, 54.0, 69.0, 49.0, 73.0, 64.0, 57.0, None, 40.0, 47.0, None, 27.0, 80.0, 72.0, None, None, 52.0, 64.0, 61.0, None, 57.0, 50.0, 65.0, None, 53.0, 46.0, 60.0, 37.0, 64.0, 58.0, 62.0, 47.0, 36.0, 53.0, 64.0, 50.0, 60.0, None, 61.0, 53.0, 66.0, 54.0, 73.0, 52.0, 62.0, 69.0, 41.0, 58.0, 71.0, 61.0, 59.0, 34.0, 74.0, 56.0, 59.0, 63.0, 66.0, 58.0, 61.0, 64.0, 58.0, 40.0, 54.0, 43.0, 65.0, 64.0, 64.0, 79.0, 58.0, 54.0, 58.0, 58.0, 62.0, 64.0, 70.0, 52.0, 55.0, 51.0, 73.0, 52.0, 51.0, None, 60.0, 62.0, 69.0, 60.0, 61.0, 61.0, 48.0, 51.0, 53.0, 53.0, 52.0, 52.0, 77.0, 57.0, 57.0, 76.0, 25.0, 61.0, 54.0, 55.0, 59.0, 74.0, 53.0, 61.0, 56.0, 63.0, 51.0, 75.0, 80.0, 57.0, 73.0, 42.0, 69.0, 52.0, 54.0, 34.0, 78.0, 35.0, 49.0, 56.0, None, 65.0, 68.0, 72.0, 64.0, 57.0, 44.0, 59.0, 48.0, 52.0, 54.0, 62.0, 42.0, 41.0, 53.0, 46.0, 59.0, 54.0, 44.0, 53.0, 73.0, 48.0, 53.0, 44.0, 77.0, 71.0, 53.0, 60.0, 65.0, 48.0, 65.0, 46.0, 50.0, 70.0, 72.0, 65.0, 50.0, 74.0, 61.0, 49.0, 36.0, 63.0, 48.0, 65.0, 58.0, None, 64.0, 62.0, 58.0, 63.0, 56.0, None, 77.0, 57.0, 79.0, 45.0, 46.0, 63.0, 64.0, 59.0, 55.0, 75.0, 77.0, None, 37.0, 71.0, 64.0, 49.0, 40.0, 52.0, 52.0, 71.0, 63.0, 68.0, 48.0, 64.0, 52.0, 56.0, 45.0, 53.0, 51.0, 68.0, 64.0, 75.0, 70.0, 73.0, 57.0, 49.0, 47.0, 36.0, 66.0, 52.0, 63.0, 53.0, 65.0, 58.0, 46.0, 70.0, 56.0, 58.0, 47.0, 61.0, 63.0, 51.0, 56.0, 53.0, 64.0, 60.0, 64.0, 61.0, 43.0, 65.0, 77.0, 61.0, 66.0, 65.0, 48.0, 56.0, 37.0, 55.0, 40.0, 62.0, 66.0, 47.0, 55.0, 46.0, 60.0, 63.0, 48.0, 60.0, 61.0, 44.0, 56.0, 63.0, 55.0, 41.0, 64.0, 62.0, 75.0, 50.0, 59.0, 61.0, 47.0, 60.0, 69.0, 73.0, 50.0, 59.0, 60.0, 51.0, 63.0, 73.0, 55.0, 58.0, 67.0, 67.0, 58.0, 64.0, 51.0, 62.0, 61.0, 56.0, 50.0, 50.0, 53.0, None, 70.0, 64.0, 52.0, 67.0, 53.0, 60.0, 63.0, 74.0, 57.0, 60.0, 55.0, 63.0, 75.0, 51.0, 54.0, 68.0, 44.0, 58.0, 60.0, 70.0, 74.0, 60.0, 60.0, 56.0, 61.0, 48.0, 58.0, 45.0, 71.0, 76.0, 45.0, 58.0, 58.0, 60.0, 58.0, 37.0, 58.0, 44.0, 52.0, 64.0, 50.0, 64.0, 38.0, 77.0, 44.0, 67.0, 58.0, 83.0, 44.0, 66.0, 75.0, 65.0, 74.0, 50.0, 57.0, 44.0, 64.0, 64.0, 63.0, 65.0, 59.0, 53.0, 64.0, 57.0, 64.0, 56.0, 64.0, 53.0, 54.0, 47.0, 56.0, 58.0, 61.0, 63.0, 64.0, 76.0, 68.0, 67.0, 58.0, 40.0, 42.0, 55.0, 64.0, 63.0, 70.0, 49.0, 51.0, 51.0, 58.0, 57.0, 50.0, 61.0, 60.0, 67.0, 64.0, 70.0, 65.0, 70.0, 49.0, 63.0, 73.0, 70.0, 63.0, 55.0, 68.0, 63.0, 50.0, 60.0, 61.0, 51.0, 58.0, 47.0, 31.0, 73.0, 57.0, 49.0, 80.0, 55.0, 77.0, 40.0, 60.0, 53.0, 61.0, 74.0, 80.0, 69.0, 50.0, 59.0, 57.0, 55.0, 73.0, 65.0, 54.0, 55.0, 52.0, 57.0, None, 47.0, 52.0, 49.0, 60.0, 64.0, 69.0, 46.0, None, 47.0, None, 59.0, None, None, None, None, None, None, 50.0, None, 50.0, None, 58.0, 40.0, None, 64.0, None, None, 48.0, 46.0, 42.0, None, 71.0, 63.0, 63.0, None, 54.0, 49.0, 52.0, 55.0, 54.0, 43.0, 56.0, None, None, 55.0, None, None, None, None, 51.0, None, 73.0, 33.0, 71.0, 67.0, None, 65.0, 55.0, 63.0, 48.0, 48.0, None, 55.0, 46.0, 65.0, 47.0, 55.0, 26.0, None, 38.0, None, 61.0, 58.0, 63.0, 53.0, 43.0, 37.0, 47.0, 50.0, 62.0, 38.0, 58.0, 60.0, 65.0, 63.0, 65.0, None, 73.0, 64.0, 56.0, 51.0, 78.0, 50.0, 53.0, 61.0, 63.0, 64.0, 70.0, 69.0, 63.0, 54.0, 61.0, 32.0, 50.0, 41.0, 63.0, 46.0, 63.0, 69.0, 75.0, 49.0, 47.0, 56.0, 50.0, 57.0, None, 60.0, 72.0, 68.0, 45.0, 47.0, 47.0, 61.0, 39.0, 54.0, 36.0, 52.0, 78.0, 58.0, None, 76.0, 57.0, 43.0, 43.0, 70.0, 58.0, 63.0, 30.0, 64.0, 76.0, 60.0, 64.0, 41.0, 61.0, 61.0, 63.0, 48.0, None, 51.0, 69.0, 63.0, 48.0, 63.0, 51.0, 51.0, 64.0, 48.0, 47.0, 56.0, 71.0, 53.0, 59.0, 79.0, 68.0, 73.0, 52.0, 43.0, 58.0, 75.0, 69.0, 57.0, 70.0, 60.0, 79.0, 64.0, 43.0, 68.0, 75.0, 64.0, 80.0, 51.0, 57.0, 64.0, 53.0, 68.0, 57.0, 73.0, 72.0, 57.0, 68.0, 64.0, 53.0, 67.0, 57.0, 63.0, 57.0, 51.0, 46.0, 46.0, 52.0, 53.0, 69.0, 76.0, 41.0, 70.0, 54.0, 62.0, 33.0, 72.0, 56.0, 49.0, 67.0, 41.0, 67.0, 48.0, 27.0, 75.0, 68.0, 82.0, 82.0, 76.0, 58.0, 50.0, 64.0, 72.0, 76.0, 60.0, 57.0, 65.0, 58.0, 69.0, 60.0, 49.0, 65.0, 56.0, 40.0, 58.0, 47.0, 53.0, 65.0, 66.0, 63.0, 58.0, None, 71.0, 55.0, 58.0, 48.0, 74.0, 57.0, 65.0, 69.0, 63.0, 68.0, 63.0, 63.0, 57.0, 58.0, 48.0, 64.0, 63.0, 51.0, 39.0, 44.0, 55.0, 65.0, 74.0, 48.0, 53.0, 62.0, 67.0, 38.0, 78.0, 58.0, 50.0, 32.0, 78.0, 49.0, 67.0, 40.0, 65.0, 56.0, 58.0, 44.0, 57.0, 64.0, 64.0, 73.0, 52.0, 50.0, 48.0, 58.0, 61.0, 51.0, 64.0, 62.0, 58.0, 54.0, 70.0, 55.0, 54.0, 50.0, 75.0, None, 50.0, 49.0, 64.0, 36.0, 64.0, 73.0, 74.0, 69.0, None, 54.0, 62.0, 80.0, 52.0, 58.0, 42.0, 63.0, 60.0, 73.0, 48.0, 58.0, 50.0, 52.0, 68.0, 52.0, 64.0, 53.0, 52.0, 64.0, 42.0, 53.0, 70.0, 70.0, 65.0, 60.0, 39.0, 73.0, 58.0, 48.0, 54.0, 70.0, 63.0, 48.0, 62.0, 67.0, 79.0, 69.0, 44.0, 74.0, 51.0, 58.0, 76.0, 71.0, None, 52.0, 68.0, 55.0, 69.0, None, 64.0, 65.0, 60.0, 69.0, 72.0, 64.0, 54.0, 50.0, 64.0, 75.0, 44.0, 56.0, 13.0, 83.0, 64.0, 64.0, 37.0, 49.0, 60.0, 71.0, 56.0, 51.0, 70.0, 60.0, None, 58.0, 60.0, 74.0, 62.0, 54.0, 64.0, 73.0, 49.0, 53.0, 75.0, 65.0, 58.0, 54.0, 54.0, 48.0, 53.0, 71.0, 54.0, 58.0, 69.0, 68.0, 40.0, 54.0, 79.0, 59.0, 64.0, 65.0, 54.0, 53.0, 56.0, 50.0, 58.0, 58.0, 65.0, 55.0, 83.0, 71.0, 64.0, 53.0, 76.0, 70.0, 48.0, 66.0, 53.0, 64.0, 64.0, 55.0, 47.0, 55.0, 62.0, 54.0, 63.0, 61.0, 59.0, None, 71.0, 52.0, 72.0, 58.0, 68.0, 54.0, 36.0, 67.0, 63.0, 46.0, 78.0, 71.0, 47.0, 75.0, 54.0, 39.0, 64.0, 81.0, 70.0, 65.0, 52.0, 64.0, 58.0, None, 46.0, 70.0, 73.0, 64.0, 59.0, 67.0, 70.0, 71.0, 69.0, 71.0, 74.0, 60.0, 72.0, 60.0, 65.0, 56.0, 41.0, 64.0, 74.0, 59.0, 54.0, None, 32.0, 63.0, 56.0, 73.0, 61.0, 59.0, 49.0, 80.0, 63.0, 48.0, 80.0, 71.0, 83.0, 85.0, 42.0, 50.0, 74.0, 53.0, 69.0, None, 64.0, 69.0, 35.0, 60.0, 66.0, 61.0, 71.0, 63.0, 64.0, 39.0, 53.0, 56.0, None, 61.0, 66.0, 53.0, 52.0, 81.0, 68.0, 74.0, 66.0, 76.0, 70.0, 64.0, 56.0, 65.0, 83.0, 53.0, 50.0, 73.0, 60.0, 73.0, 63.0, 72.0, 75.0, 56.0, 61.0, 41.0, 71.0, 62.0, 57.0, 44.0, 76.0, 34.0, 39.0, 62.0, 53.0, 42.0, 58.0, 60.0, 27.0, 71.0, 73.0, 48.0, 75.0, None, 64.0, 58.0, 40.0, 64.0, 64.0, 76.0, 56.0, 48.0, 70.0, 69.0, 49.0, 73.0, 64.0, 66.0, 65.0, 72.0, 74.0, 66.0, 73.0, 47.0, 48.0, 43.0, 72.0, 31.0, 68.0, 62.0, 70.0, 75.0, 59.0, 70.0, 56.0, 64.0, 65.0, 70.0, 62.0, 70.0, 65.0, 72.0, 62.0, 65.0, 65.0, 77.0, 80.0, 51.0, 55.0, 45.0, 69.0, 53.0, 60.0, 83.0, 41.0, 60.0, 45.0, 71.0, 43.0, 77.0, 75.0, 46.0, 43.0, None, 66.0, 76.0, 61.0, 62.0, 68.0, 66.0, 58.0, 72.0, 63.0, 63.0, 76.0, 53.0, 66.0, 65.0, 80.0, 63.0, 27.0, 63.0, 69.0, 48.0, 59.0, 71.0, 53.0, 71.0, 80.0, 78.0, 76.0, 58.0, 74.0, 73.0, 58.0, 70.0, 67.0, 71.0, 72.0, 47.0, 45.0, 69.0, 64.0, 72.0, 65.0, 57.0, 73.0, 64.0, 79.0, 46.0, 83.0, 58.0, None, None, 75.0, 59.0, 73.0, 27.0, 77.0, 80.0, 83.0, 77.0, 72.0, 72.0, 61.0, 46.0, 48.0, 81.0, 60.0, None, 78.0, 73.0, 70.0, 42.0, 64.0, 69.0, None, 54.0, 72.0, 55.0, 83.0, 72.0, 52.0, 44.0, 46.0, 80.0, 57.0, 35.0, 69.0, 42.0, 69.0, 70.0, 60.0, 73.0, 37.0, 75.0, 26.0, 68.0, 50.0, 75.0, 42.0, 37.0, 80.0, 29.0, 54.0, 58.0, 79.0, 56.0, 69.0, 64.0, 59.0, 60.0, 77.0, 55.0, 63.0, 48.0, 73.0, 70.0, 67.0, 85.0, 78.0, 72.0, 54.0, 69.0, 75.0, 45.0, 80.0, 41.0, None, 73.0, 63.0, 69.0, 66.0, 47.0, 46.0, 64.0, 74.0, 70.0, 72.0, 65.0, 85.0, 72.0, 70.0, 68.0, 76.0, 83.0, 67.0, 53.0, 73.0, 58.0, 58.0, 53.0, 36.0, 50.0, 59.0, 56.0, 42.0, 50.0, 51.0, 70.0, 39.0, 67.0, 74.0, None, 67.0, 71.0, 64.0, 73.0, 64.0, 43.0, 75.0, 47.0, None, 60.0, 85.0, 83.0, 60.0, 60.0, 70.0, 53.0, 74.0, 76.0, 65.0, 65.0, 78.0, 46.0, 52.0, 69.0, 72.0, 71.0, 60.0, 65.0, 64.0, 52.0, 34.0, 71.0, 43.0, 71.0, 75.0, 65.0, 60.0, 60.0, 69.0, 39.0, 64.0, 75.0, 52.0, 64.0, 47.0, 77.0, 72.0, 46.0, 63.0, 37.0, 69.0, 63.0, 63.0, 60.0, 60.0, 81.0, None, 64.0, 80.0, 57.0, 71.0, 79.0, 52.0, 66.0, 60.0, None, 61.0, 77.0, 66.0, 67.0, 74.0, 73.0, 82.0, 46.0, 80.0, 56.0, 64.0, 76.0, 46.0, 78.0, 60.0, 68.0, 73.0, 42.0, 72.0, None, 63.0, 66.0, 39.0, 72.0, 65.0, 63.0, 68.0, 49.0, 59.0, 59.0, 79.0, 75.0, 63.0, 73.0, 76.0, 66.0, 35.0, None, 44.0, 64.0, 78.0, 71.0, 59.0, 70.0, 55.0, 60.0, 56.0, 80.0, 79.0, 71.0, 80.0, 77.0, 64.0, 63.0, 58.0, 63.0, 63.0, 14.0, 81.0, 64.0, 79.0, 81.0, 62.0, 71.0, 85.0, 67.0, 75.0, 64.0, 73.0, 43.0, 57.0, 65.0, 62.0, 35.0, 69.0, 81.0, 64.0, None, 53.0, 55.0, 70.0, 63.0, 65.0, 43.0, 64.0, 43.0, 68.0, 57.0, 69.0, None, None, 74.0, 67.0, 70.0, 69.0, 61.0, 36.0, 79.0, 76.0, 73.0, 72.0, 68.0, 61.0, 83.0, 83.0, 62.0, 69.0, 80.0, 64.0, 35.0, 37.0, 70.0, 81.0, 75.0, 44.0, 79.0, 71.0, 64.0, 40.0, 58.0, 33.0, 52.0, 73.0, 60.0, 68.0, 60.0, 73.0, 67.0, 57.0, None, 67.0, 62.0, 55.0, 69.0, 12.0, 52.0, 78.0, 48.0, 58.0, 38.0, 69.0, 45.0, 63.0, 31.0, 75.0, 23.0, 67.0, 22.0, 66.0, 75.0, 38.0, 29.0, 64.0, 67.0, None, 60.0, 83.0, 52.0, 58.0, 44.0, 53.0, 68.0, 56.0, 60.0, 60.0, 62.0, None, 57.0, 43.0, 69.0, 45.0, 71.0, 65.0, 74.0, 73.0, 75.0, 79.0, 61.0, 56.0, 64.0, 82.0, 69.0, 64.0, 67.0, 58.0, 73.0, 72.0, 26.0, 40.0, 60.0, 61.0, 57.0, 73.0, 68.0, 69.0, None, 63.0, 70.0, 61.0, 71.0, 77.0, 67.0, 57.0, 58.0, 79.0, 68.0, 45.0, 67.0, 72.0, 68.0, 69.0, 71.0, 85.0, 60.0, 45.0, 68.0, None, 62.0, 65.0, 56.0, 65.0, 67.0, 41.0, 41.0, 49.0, 60.0, 78.0, 80.0, 68.0, 63.0, 69.0, 40.0, 55.0, 56.0, 68.0, 61.0, 68.0, 69.0, 69.0, 80.0, 56.0, 69.0, 44.0, 23.0, 70.0, 83.0, 80.0, 67.0, 67.0, 68.0, 77.0, 78.0, 73.0, 74.0, 65.0, 68.0, 72.0, 65.0, 60.0, 80.0, 56.0, 71.0, 61.0, 78.0, 41.0, 34.0, 66.0, 69.0, 70.0, None, 67.0, 58.0, 57.0, 58.0, 59.0, 76.0, 45.0, 73.0, 65.0, 61.0, None, 64.0, 64.0, 67.0, 33.0, 80.0, 50.0, 70.0, 42.0, 63.0, 71.0, 68.0, 56.0, 67.0, 68.0, 57.0, 42.0, 64.0, 75.0, 63.0, 67.0, 52.0, 39.0, 81.0, 67.0, 79.0, 65.0, None, 56.0, 44.0, 77.0, 70.0, 64.0, 41.0, 66.0, 69.0, 42.0, 54.0, 55.0, 69.0, 45.0, 65.0, 67.0, 63.0, None, 51.0, 76.0, 79.0, 45.0, 60.0, 78.0, 57.0, 69.0, 65.0, 27.0, 62.0, 64.0, 73.0, 59.0, 66.0, 72.0, 67.0, 76.0, 45.0, 69.0, 61.0, 66.0, 27.0, 80.0, 61.0, 83.0, 61.0, 69.0, 69.0, 83.0, 57.0, 58.0, 63.0, 60.0, None, 66.0, None, 70.0, 68.0, 59.0, 81.0, 40.0, 35.0, 77.0, 73.0, 51.0, 69.0, 58.0, 71.0, 70.0, 63.0, 51.0, 77.0, 53.0, 62.0, 55.0, 83.0, 45.0, 26.0, 74.0, 60.0, 64.0, 27.0, 71.0, 29.0, 70.0, 74.0, 67.0, 64.0, 60.0, 71.0, 52.0, 83.0, 60.0, 57.0, 46.0, 65.0, 54.0, 66.0, 65.0, 74.0, 78.0, 40.0, 57.0, 69.0, 79.0, 63.0, 77.0, 56.0, 52.0, 54.0, 80.0, 57.0, 73.0, 39.0, None, 67.0, 67.0, 71.0, 48.0, 71.0, 63.0, 82.0, 79.0, 52.0, None, 70.0, 60.0, 73.0, None, 27.0, 71.0, 67.0, 60.0, 44.0, 67.0, 49.0, 67.0, 59.0, 57.0, 57.0, 56.0, 55.0, 72.0, 78.0, 67.0, None, 69.0, 49.0, 69.0, None, 70.0, 68.0, 52.0, 55.0, 61.0, 41.0, 68.0, 56.0, 70.0, 57.0, 71.0, 73.0, 72.0, 65.0, 69.0, 63.0, 61.0, 75.0, 70.0, 72.0, 69.0, 73.0, 44.0, 73.0, 51.0, 48.0, 73.0, 69.0, 69.0, 52.0, 66.0, 88.0, 71.0, 57.0, 68.0, 52.0, 74.0, 70.0, 75.0, 71.0, 69.0, 76.0, 63.0, 69.0, 69.0, 80.0, 64.0, 70.0, 80.0, 57.0, 63.0, 54.0, 80.0, 75.0, 72.0, 69.0, 57.0, 73.0, 50.0, 67.0, 59.0, 80.0, 59.0, 77.0, 45.0, 70.0, 60.0, 66.0, 73.0, 54.0, 67.0, 72.0, 44.0, 67.0, None, 67.0, 58.0, 64.0, 75.0, 40.0, 59.0, 52.0, 69.0, 55.0, 67.0, 57.0, 80.0, 68.0, 83.0, 72.0, 67.0, 79.0, 70.0, 37.0, 60.0, 64.0, 73.0, 72.0, 66.0, 21.0, 68.0, 78.0, 74.0, 69.0, 64.0, 32.0, 59.0, 69.0, 72.0, None, None, 64.0, 64.0, 75.0, 29.0, 80.0, 72.0, 78.0, 73.0, 72.0, 72.0, 46.0, 77.0, 70.0, 57.0, 65.0, 69.0, 67.0, 46.0, 26.0, 46.0, 64.0, 54.0, 75.0, None, 75.0, 63.0, 67.0, 61.0, 81.0, 83.0, None, None, 61.0, 68.0, 68.0, 67.0, 52.0, 75.0, 75.0, 69.0, 56.0, 57.0, None, None, 71.0, None, 56.0, 27.0, 70.0, 71.0, 49.0, 72.0, None, 70.0, None, None, 71.0, None, 57.0, 65.0, None, 72.0, 82.0, 72.0, 64.0, 67.0, 69.0, 80.0, 72.0, None, None, 78.0, None, None, 78.0, 67.0, 63.0, 50.0, 71.0, 71.0, 58.0, 64.0, 62.0, 32.0, 57.0, 68.0, 65.0, 47.0, 70.0, 52.0, 69.0, 73.0, 64.0, 67.0, 68.0, 57.0, 68.0, 71.0, 66.0, 52.0, 57.0, 59.0, 72.0, 56.0, 72.0, 64.0, 64.0, 61.0, 66.0, 67.0, 67.0, 66.0, 72.0, 72.0, 69.0, 73.0, 52.0, 62.0, None, 61.0, 57.0, 57.0, 63.0, 71.0, 75.0, 63.0, None, 63.0, 77.0, 58.0, 69.0, 78.0, 76.0, 67.0, 78.0, 72.0, 67.0, 75.0, 77.0, 47.0, 71.0, 55.0, 52.0, 72.0, 79.0, 61.0, 75.0, 69.0, 54.0, 71.0, 54.0, 51.0, 72.0, 67.0, 56.0, 76.0, 83.0, 77.0, 73.0, 69.0, 79.0, 77.0, 61.0, 79.0, 67.0, 66.0, 69.0, 42.0, 78.0, 76.0, 51.0, 80.0, 63.0, 77.0, 57.0, 51.0, 70.0, None, 69.0, 78.0, 58.0, 56.0, 61.0, 63.0, 71.0, 66.0, 67.0, 71.0, 81.0, 62.0, 69.0, 67.0, 51.0, 66.0, 71.0, 64.0, 56.0, 45.0, 80.0, 41.0, 63.0, 74.0, 73.0, 79.0, 77.0, 72.0, 57.0, 77.0, 76.0, 64.0, 74.0, 78.0, 72.0, 72.0, 69.0, 27.0, None, 62.0, 73.0, 72.0, 69.0, 72.0, None, 80.0, 61.0, 58.0, 79.0, 31.0, 75.0, 75.0, 72.0, 78.0, 71.0, 68.0, 73.0, 56.0, 61.0, 72.0, 72.0, 72.0, 74.0, 78.0, 31.0, 33.0, 67.0, 71.0, 68.0, 79.0, 78.0, 57.0, 75.0, 68.0, 52.0, 63.0, 73.0, 69.0, 74.0, 66.0, 63.0, 78.0, 67.0, 27.0, 70.0, 75.0, 74.0, 69.0, 76.0, 73.0, 82.0, 70.0, 58.0, 72.0, 72.0, 71.0, 75.0, 67.0, 74.0, 73.0, 75.0, 69.0, 78.0, 69.0, 73.0, 79.0, 55.0, 80.0, 56.0, 60.0, 66.0, 67.0, 66.0, 81.0, 68.0, 78.0, 50.0, 70.0, 71.0, 69.0, 55.0, 68.0, 69.0, 57.0, 72.0, 61.0, 69.0, 51.0, 72.0, 61.0, 72.0, 60.0, 68.0, 70.0, 69.0, 80.0, 78.0, 68.0, 67.0, 63.0, 61.0, 77.0, 75.0, 71.0, 52.0, 54.0, 64.0, 51.0, 70.0, 66.0, None, 82.0, 58.0, 74.0, 61.0, 66.0, 71.0, 82.0, 70.0, 33.0, 72.0, 78.0, 74.0, 65.0, 72.0, 74.0, 52.0, 66.0, 82.0, 73.0, 73.0, 72.0, 64.0, 70.0, 70.0, 71.0, 61.0, 61.0, 77.0, 68.0, None, 78.0, 71.0, 56.0, 52.0, 68.0, 73.0, 75.0, 69.0, 75.0, 80.0, 80.0, 70.0, 78.0, 78.0, 70.0, 72.0, 68.0, 68.0, 58.0, 55.0, 76.0, 66.0, 58.0, 73.0, 72.0, 62.0, 69.0, 26.0, 69.0, 68.0, 76.0, 70.0, 59.0, 70.0, 72.0, 68.0, 71.0, 67.0, 69.0, 73.0, 73.0, None, None, None, None, None, None, None, None, None, None, None, None, None, None, None, None, None, None, None, None, None, None, None, None, None, None, None, None, None, None, None, None, None, None, None, None, None, None, None, None, None, None, None, None, None, None, None, None, None, None, None, None, None, None, None, None, None, None, None, None, None, None, None, None, None, None, None, None, None, None, None, None, None, None, None, None, None, None, None, None, None, None, None, None, None, None, None, None, None, None, None, None, None, None, None, None, None, None, None, None, None, None, None, None, None, None, None, None, None, None, None, None, None, None, None, None, None, None, None, None, None, None, None, None, None, None, None, None, None, None, None, None, None, None, None, None, None, None, None, None, None, None, None, None, None, None, None, None, None, None, None, None, None, None, None, None, None, None, None, None, None, None, None, None, None, None, None, None, None, None, None, None, None, None, None, None, None, None, None, None, None, None, None, None, None, None, None, None, None, None, None, None, None, None, None, None, None, None, None, None, None, None, None, None, None, None, None, None, None, None, None, None, None, None, None, None, None, None, None, None, None, None, None, None, None, None, None, None, None, None, None, None, None, None, None, None, None, None, None, None, None, None, None, None, None, None, None, None, None, None, None, None, None, None, None, None, None, None, None, None, None, None, None, None, None, None, None, None, None, None, None, None, None, None, None, None, None, None, None, None, None, None, None, None, None, None, None, None, None, None, None, None, None, None, None, None, None, None, None, None, None, None, None, None, None, None, None, None, None, None, None, None, None, None, None, None, None, None, None, None, None, None, None, None, None, None, None, None, None, None, None, None, None, None, None, None, None, None, None, None, None, None, None, None, None, None, None, None, None, None, None, None, None, None, None, None, None, None, None, None, None, None, None, None, None, None, None, None, None, None, None, None, None, None, None, None, None, None, None, None, None, None, None, None, None, None, None, None, None, None, None, None, None, None, None, None, None, None, None, None, None, None, None, None, None, None, None, None, None, None, None, None, None, None, None, None, None, None, None, None, None, None, None, None, None, None, None, None, None, None, None, None, None, None, None, None, None, None, None, None, None, None, None, None, None, None, None, None, None, None, None, None, None, None, None, None, None, None, None, None, None, None, None, None, None, None, None, None, None, None, None, None, None, None, None, None, None, None, None, None, None, None, None, None, None, None, None, None, None, None, None, None, None, None, None, None, None, None, None, None, None, None, None, None, None, None, None, None, None, None, None, None, None, None, None, None, None, None, None, None, None, None, None, None, None, None, None, None, None, None, None, None, None, None, None, None, None, None, None, None, None, None, None, None, None, None, None, None, None, None, None, None, None, None, None, None, None, None, None, None, None, None, None, None, None, None, None, None, None, None, None, None, None, None, None, None, None, None, None, None, None, None, None, None, None, None, None, None, None, None, None, None, None, None, None, None, None, None, None, None, None, None, None, None, None, None, None, None, None, None, None, None, None, None, None, None, None, None, None, None, None, None, None, None, None, None, None, None, None, None, None, None, None, None, None, None, None, None, None, None, None, None, None, None, None, None, None, None, None, None, None, None, None, None, None, None, None, None, None, None, None, None, None, None, None, None, None, None, None, None, None, None, None, None, None, None, None, None, None, None, None, None, None, None, None, None, None, None, None, None, None, None, None, None, None, None, None, None, None, None, None, None, None, None, None, None, None, None, None, None, None, None, None, None, None, None, None, None, None, None, None, None, None, None, None, None, None, None, None, None, None, None, None, None, None, None, None, None, None, None, None, None, None, None, None, None, None, None, None, None, None, None, None, None, None, None, None, None, None, None, None, None, None, None, None, None, None, None, None, None, None, None, None, None, None, None, None, None, None, None, None, None, None, None, None, None, None, None, None, None, None, None, None, None, None, None, None, None, None, None, None, None, None, None, None, None, None, None, None, None, None, None, None, None, None, None, None, None, None, None, None, None, None, None, None, None, None, None, None, None, None, None, None, None, None, None, None, None, None, None, None, None, None, None, None, None, None, None, None, None, None, None, None, None, None, None, None, None, None, None, None, None, None, None, None, None, None, None, None, None, None, None, None, None, None, None, None, None, None, None, None, None, None, None, None, None, None, None, None, None, None, None, None, None, None, None, None, None, None, None, None, None, None, None, None, None, None, None, None, None, None, None, None, None, None, None, None, None, None, None, None, None, None, None, None, None, None, None, None, None, None, None, None, None, None, None, None, None, None, None, None, None, None, None, None, None, None, None, None, None, None, None, None, None, None, None, None, None, None, None, None, None, None, None, None, None, None, None, None, None, None, None, None, None, None, None, None, None, None, None, None, None, None, None, None, None, None, None, None, None, None, None, None, None, None, None, None, None, None, None, None, None, None, None, None, None, None, None, None, None, None, None, None, None, None, None, None, None, None, None, None, None, None, None, None, None, None, None, None, None, None, None, None, None, None, None, None, None, None, None, None, None, None, None, None, None, None, None, None, None, None, None, None, None, None, None, None, None, None, None, None, None, None, None, None, None, None, None, None, None, None, None, None, None, None, None, None, None, None, None, None, None, None, None, None, None, None, None, None, None, None, None, None, None, None, None, None, None, None, None, None, None, None, None, None, None, None, None, None, None, None, None, None, None, None, None, None, None, None, None, None, None, None, None, None, None, None, None, None, None, None, None, None, None, None, None, None, None, None, None, None, None, None, None, None, None, None, None]"
   ]
  },
  {
   "cell_type": "code",
   "execution_count": 20,
   "id": "96409b28-fe53-448b-b9e6-246a9211abf8",
   "metadata": {
    "execution": {
     "iopub.execute_input": "2023-05-02T22:30:49.313302Z",
     "iopub.status.busy": "2023-05-02T22:30:49.313199Z",
     "iopub.status.idle": "2023-05-02T22:30:49.444251Z",
     "shell.execute_reply": "2023-05-02T22:30:49.443793Z",
     "shell.execute_reply.started": "2023-05-02T22:30:49.313293Z"
    },
    "tags": []
   },
   "outputs": [],
   "source": [
    "external_df = spark.createDataFrame(df[['NO']].toPandas().assign(WALKSCORE=walk_score, BIKESCORE=bike_score))\n",
    "df = df.join(external_df, on='NO', how='left')"
   ]
  },
  {
   "cell_type": "code",
   "execution_count": 21,
   "id": "fbe780f5-9c4d-44c2-959f-ed61ca3a77de",
   "metadata": {
    "execution": {
     "iopub.execute_input": "2023-05-02T22:30:49.445123Z",
     "iopub.status.busy": "2023-05-02T22:30:49.444837Z",
     "iopub.status.idle": "2023-05-02T22:30:49.489988Z",
     "shell.execute_reply": "2023-05-02T22:30:49.489510Z",
     "shell.execute_reply.started": "2023-05-02T22:30:49.445106Z"
    },
    "tags": []
   },
   "outputs": [
    {
     "name": "stdout",
     "output_type": "stream",
     "text": [
      "85\n"
     ]
    }
   ],
   "source": [
    "df = df.withColumns(\n",
    "    {\n",
    "        \"LIST_YEAR\": F.year('LISTDATE'),\n",
    "        \"LIST_MONTH\": F.month('LISTDATE'),\n",
    "        \"LIST_WEEKOFYEAR\": F.weekofyear('LISTDATE'),\n",
    "        \"LIST_DAYOFMONTH\": F.dayofmonth('LISTDATE'),\n",
    "        \"LIST_DAYOFYEAR\": F.dayofyear('LISTDATE')\n",
    "    }\n",
    ")\n",
    "df = df.withColumn('BED_TO_BATHS', df['BEDROOMS'] / df['BATHSTOTAL'])\n",
    "df = df.withColumn('SQFT_TOTAL', df['SQFTABOVEGROUND'] + df['SQFTBELOWGROUND'])\n",
    "df = df.withColumn('LISTING_PRICE_PER_SQFT', df['LISTPRICE'] / df['SQFT_TOTAL'])\n",
    "print(len(df.columns))"
   ]
  },
  {
   "cell_type": "code",
   "execution_count": 22,
   "id": "d98728a2-8946-4e74-8ac7-5d09a759ce20",
   "metadata": {
    "execution": {
     "iopub.execute_input": "2023-05-02T22:30:49.490612Z",
     "iopub.status.busy": "2023-05-02T22:30:49.490499Z",
     "iopub.status.idle": "2023-05-02T22:30:49.493483Z",
     "shell.execute_reply": "2023-05-02T22:30:49.493091Z",
     "shell.execute_reply.started": "2023-05-02T22:30:49.490602Z"
    },
    "tags": []
   },
   "outputs": [],
   "source": [
    "def split_explode_join(df, groupby, column, sep=', ', concat_sep='_'):\n",
    "    exploded_df = df[[groupby, column]]\\\n",
    "        .fillna('NaN', subset=column)\\\n",
    "        .withColumn(f'{column}_LIST' , F.split(F.upper(column), sep))\\\n",
    "        .withColumn(f'EXPLODED_{column}_LIST', F.explode(f'{column}_LIST'))\\\n",
    "        .withColumn(f'EXPLODED_{column}_LIST', F.concat(F.lit(f'{column}{concat_sep}'), F.trim(f'EXPLODED_{column}_LIST')))\\\n",
    "        .withColumn('ONE', F.lit(1))\\\n",
    "        .groupBy(groupby).pivot(f'EXPLODED_{column}_LIST').agg(F.coalesce(F.first('ONE')))\n",
    "    return df.join(exploded_df, on=groupby, how='left')"
   ]
  },
  {
   "cell_type": "code",
   "execution_count": 23,
   "id": "4658f58e-30a2-4a22-a834-099207c0a4a3",
   "metadata": {
    "execution": {
     "iopub.execute_input": "2023-05-02T22:30:49.494021Z",
     "iopub.status.busy": "2023-05-02T22:30:49.493911Z",
     "iopub.status.idle": "2023-05-02T22:30:58.175458Z",
     "shell.execute_reply": "2023-05-02T22:30:58.175014Z",
     "shell.execute_reply.started": "2023-05-02T22:30:49.494011Z"
    },
    "tags": []
   },
   "outputs": [
    {
     "name": "stdout",
     "output_type": "stream",
     "text": [
      "247\n"
     ]
    }
   ],
   "source": [
    "sc.setCheckpointDir('.')\n",
    "split_ohe_columns = ['FENCE', 'ROOF', 'POOLDESCRIPTION', 'GARAGEDESCRIPTION', 'APPLIANCES', 'EXTERIOR', 'DININGROOMDESCRIPTION', 'BASEMENT', 'BATHDESC', 'ZONING', 'COOLINGDESCRIPTION']\n",
    "for column in split_ohe_columns:\n",
    "    df = split_explode_join(df, 'NO', column).checkpoint()\n",
    "print(len(df.columns))"
   ]
  },
  {
   "cell_type": "code",
   "execution_count": 24,
   "id": "aa99036e-2852-47d9-b3dc-9d5aaf8ef7fa",
   "metadata": {
    "execution": {
     "iopub.execute_input": "2023-05-02T22:30:58.175957Z",
     "iopub.status.busy": "2023-05-02T22:30:58.175845Z",
     "iopub.status.idle": "2023-05-02T22:30:58.178825Z",
     "shell.execute_reply": "2023-05-02T22:30:58.178368Z",
     "shell.execute_reply.started": "2023-05-02T22:30:58.175946Z"
    },
    "tags": []
   },
   "outputs": [],
   "source": [
    "def prefixed_join(df, groupby, column, concat_sep=':'):\n",
    "    prefixed_df = df[[groupby, column]]\\\n",
    "        .dropna(subset=column)\\\n",
    "        .withColumn(f'{column.upper()}_PREFIXED', F.concat(F.lit(f'{column}{concat_sep}'), F.upper(F.trim(column))))\\\n",
    "        .withColumn('ONE', F.lit(1))\\\n",
    "        .groupBy(groupby).pivot(f'{column}_PREFIXED').agg(F.coalesce(F.first('ONE')))\n",
    "    return df.join(prefixed_df, on=groupby, how='left')  "
   ]
  },
  {
   "cell_type": "code",
   "execution_count": 25,
   "id": "1fe5e08d-a537-4579-bc82-6991c712e71c",
   "metadata": {
    "execution": {
     "iopub.execute_input": "2023-05-02T22:30:58.179322Z",
     "iopub.status.busy": "2023-05-02T22:30:58.179214Z",
     "iopub.status.idle": "2023-05-02T22:31:03.083497Z",
     "shell.execute_reply": "2023-05-02T22:31:03.083057Z",
     "shell.execute_reply.started": "2023-05-02T22:30:58.179311Z"
    },
    "tags": []
   },
   "outputs": [
    {
     "name": "stdout",
     "output_type": "stream",
     "text": [
      "292\n"
     ]
    }
   ],
   "source": [
    "ohe_columns = ['CITY', 'LISTTYPE', 'SCHOOLDISTRICTNUMBER', 'POTENTIALSHORTSALE', 'STYLE', 'ASSUMABLEMORTGAGE', 'ASSESSMENTPENDING']\n",
    "for column in ohe_columns:\n",
    "    df = prefixed_join(df, 'NO', column).checkpoint()\n",
    "print(len(df.columns))"
   ]
  },
  {
   "cell_type": "code",
   "execution_count": 26,
   "id": "b2a3fc63-b849-4bc2-95e0-7dc592769b65",
   "metadata": {
    "execution": {
     "iopub.execute_input": "2023-05-02T22:31:03.083973Z",
     "iopub.status.busy": "2023-05-02T22:31:03.083869Z",
     "iopub.status.idle": "2023-05-02T22:31:03.089018Z",
     "shell.execute_reply": "2023-05-02T22:31:03.088758Z",
     "shell.execute_reply.started": "2023-05-02T22:31:03.083964Z"
    },
    "scrolled": true,
    "tags": []
   },
   "outputs": [
    {
     "name": "stdout",
     "output_type": "stream",
     "text": [
      "15\n"
     ]
    },
    {
     "data": {
      "text/plain": [
       "['MORTGAGE30US',\n",
       " 'MORTGAGE30US-1WK',\n",
       " 'MORTGAGE30US-2WK',\n",
       " 'MORTGAGE30US-3WK',\n",
       " 'MORTGAGE30US-4WK',\n",
       " 'PERCENT_OLDER_AGE_HOMES',\n",
       " 'PERCENT_SIMILAR_AGE_HOMES',\n",
       " 'PERCENT_NEWER_AGE_HOMES',\n",
       " 'PERCENT_BIGGER_SIZE_HOMES',\n",
       " 'PERCENT_SIMILAR_SIZE_HOMES',\n",
       " 'PERCENT_SMALLER_SIZE_HOMES',\n",
       " 'LISTING_TO_MEDIAN_RATIO',\n",
       " 'ASSESSED_TO_LIST',\n",
       " 'TAX_TO_LIST',\n",
       " 'PRICE_REDUCTION_PERCENT']"
      ]
     },
     "execution_count": 26,
     "metadata": {},
     "output_type": "execute_result"
    }
   ],
   "source": [
    "# Columns that could not be reproduced\n",
    "not_reproduced_columns = [c for c in exercise_columns if c not in df.columns]\n",
    "print(len(not_reproduced_columns))\n",
    "not_reproduced_columns"
   ]
  },
  {
   "cell_type": "code",
   "execution_count": 27,
   "id": "df4d0d07-badf-420a-b4c0-8d1294210dab",
   "metadata": {
    "execution": {
     "iopub.execute_input": "2023-05-02T22:31:03.089547Z",
     "iopub.status.busy": "2023-05-02T22:31:03.089440Z",
     "iopub.status.idle": "2023-05-02T22:31:03.092562Z",
     "shell.execute_reply": "2023-05-02T22:31:03.092303Z",
     "shell.execute_reply.started": "2023-05-02T22:31:03.089537Z"
    },
    "scrolled": true,
    "tags": []
   },
   "outputs": [
    {
     "name": "stdout",
     "output_type": "stream",
     "text": [
      "54\n"
     ]
    },
    {
     "data": {
      "text/plain": [
       "['NO',\n",
       " 'MLSID',\n",
       " 'STREETNUMBERNUMERIC',\n",
       " 'STREETADDRESS',\n",
       " 'STREETNAME',\n",
       " 'POSTALCODE',\n",
       " 'STATEORPROVINCE',\n",
       " 'CITY',\n",
       " 'LISTDATE',\n",
       " 'LISTTYPE',\n",
       " 'PRICEPERTSFT',\n",
       " 'FENCE',\n",
       " 'MAPLETTER',\n",
       " 'LOTSIZEDIMENSIONS',\n",
       " 'SCHOOLDISTRICTNUMBER',\n",
       " 'OFFMARKETDATE',\n",
       " 'ROOMAREA4',\n",
       " 'ROOMTYPE',\n",
       " 'ROOF',\n",
       " 'ROOMFLOOR4',\n",
       " 'POTENTIALSHORTSALE',\n",
       " 'POOLDESCRIPTION',\n",
       " 'PDOM',\n",
       " 'GARAGEDESCRIPTION',\n",
       " 'ROOMFLOOR1',\n",
       " 'ROOMAREA1',\n",
       " 'TAXYEAR',\n",
       " 'UNITNUMBER',\n",
       " 'ZONING',\n",
       " 'STYLE',\n",
       " 'COOLINGDESCRIPTION',\n",
       " 'APPLIANCES',\n",
       " 'BACKONMARKETDATE',\n",
       " 'ROOMFAMILYCHAR',\n",
       " 'ROOMAREA3',\n",
       " 'EXTERIOR',\n",
       " 'ROOMFLOOR3',\n",
       " 'ROOMFLOOR2',\n",
       " 'ROOMAREA2',\n",
       " 'DININGROOMDESCRIPTION',\n",
       " 'BASEMENT',\n",
       " 'CLASS',\n",
       " 'BATHDESC',\n",
       " 'ROOMAREA5',\n",
       " 'ROOMFLOOR5',\n",
       " 'ROOMAREA6',\n",
       " 'ROOMFLOOR6',\n",
       " 'ROOMAREA7',\n",
       " 'ROOMFLOOR7',\n",
       " 'ROOMAREA8',\n",
       " 'ROOMFLOOR8',\n",
       " 'ASSUMABLEMORTGAGE',\n",
       " 'ASSESSMENTPENDING',\n",
       " 'features']"
      ]
     },
     "execution_count": 27,
     "metadata": {},
     "output_type": "execute_result"
    }
   ],
   "source": [
    "# Columns not in the exercise\n",
    "unwanted_columns = [c for c in df.columns if c not in exercise_columns]\n",
    "print(len(unwanted_columns))\n",
    "unwanted_columns"
   ]
  },
  {
   "cell_type": "code",
   "execution_count": 28,
   "id": "982eaee4-29d1-4809-850c-dc337f23fb4a",
   "metadata": {
    "execution": {
     "iopub.execute_input": "2023-05-02T22:31:03.093001Z",
     "iopub.status.busy": "2023-05-02T22:31:03.092895Z",
     "iopub.status.idle": "2023-05-02T22:31:03.095453Z",
     "shell.execute_reply": "2023-05-02T22:31:03.095100Z",
     "shell.execute_reply.started": "2023-05-02T22:31:03.092991Z"
    },
    "tags": []
   },
   "outputs": [
    {
     "data": {
      "text/plain": [
       "253"
      ]
     },
     "execution_count": 28,
     "metadata": {},
     "output_type": "execute_result"
    }
   ],
   "source": [
    "# Checksum\n",
    "len(df.columns) - len(unwanted_columns) + len(not_reproduced_columns)"
   ]
  },
  {
   "cell_type": "code",
   "execution_count": 29,
   "id": "6d580a70-ab76-4f5e-b27e-ea8516f200f4",
   "metadata": {
    "execution": {
     "iopub.execute_input": "2023-05-02T22:31:03.095974Z",
     "iopub.status.busy": "2023-05-02T22:31:03.095872Z",
     "iopub.status.idle": "2023-05-02T22:31:03.097597Z",
     "shell.execute_reply": "2023-05-02T22:31:03.097340Z",
     "shell.execute_reply.started": "2023-05-02T22:31:03.095964Z"
    },
    "tags": []
   },
   "outputs": [],
   "source": [
    "# Droping columns not specified by the exercise (irrelevant, leakage, etc)\n",
    "# df = df.drop(*unwanted_columns)\n",
    "# len(df.columns)"
   ]
  },
  {
   "cell_type": "markdown",
   "id": "2c95fb8b-af5e-455a-973f-ece613375b80",
   "metadata": {
    "tags": []
   },
   "source": [
    "### Dropping Columns with Low Observations\n",
    "\n",
    "> In this exercise, we are going to remove columns that have less than 30 observations. 30 is a common minimum number of observations for statistical significance. Any less than that and the relationships cause overfitting because of a sheer coincidence!In this exercise, we are going to remove columns that have less than 30 observations. 30 is a common minimum number of observations for statistical significance. Any less than that and the relationships cause overfitting because of a sheer coincidence!"
   ]
  },
  {
   "cell_type": "code",
   "execution_count": 30,
   "id": "08e44e34-5e2f-45fa-917c-88a35388a1f3",
   "metadata": {
    "execution": {
     "iopub.execute_input": "2023-05-02T22:31:03.098004Z",
     "iopub.status.busy": "2023-05-02T22:31:03.097915Z",
     "iopub.status.idle": "2023-05-02T22:31:03.100380Z",
     "shell.execute_reply": "2023-05-02T22:31:03.100037Z",
     "shell.execute_reply.started": "2023-05-02T22:31:03.097995Z"
    },
    "tags": []
   },
   "outputs": [
    {
     "name": "stdout",
     "output_type": "stream",
     "text": [
      "['FENCE_CHAIN LINK', 'FENCE_ELECTRIC', 'FENCE_FULL', 'FENCE_INVISIBLE', 'FENCE_NAN', 'FENCE_NONE', 'FENCE_OTHER', 'FENCE_PARTIAL', 'FENCE_PRIVACY', 'FENCE_RAIL', 'FENCE_WIRE', 'FENCE_WOOD', 'ROOF_AGE 8 YEARS OR LESS', 'ROOF_AGE OVER 8 YEARS', 'ROOF_ASPHALT SHINGLES', 'ROOF_FLAT', 'ROOF_METAL', 'ROOF_NAN', 'ROOF_OTHER', 'ROOF_PITCHED', 'ROOF_RUBBER', 'ROOF_SHAKES', 'ROOF_SLATE', 'ROOF_TAR/GRAVEL', 'ROOF_TILE', 'ROOF_UNSPECIFIED SHINGLE', 'ROOF_WOOD SHINGLES', 'POOLDESCRIPTION_ABOVE GROUND', 'POOLDESCRIPTION_BELOW GROUND', 'POOLDESCRIPTION_HEATED', 'POOLDESCRIPTION_INDOOR', 'POOLDESCRIPTION_NAN', 'POOLDESCRIPTION_NONE', 'POOLDESCRIPTION_OUTDOOR', 'POOLDESCRIPTION_SHARED', 'GARAGEDESCRIPTION_ASSIGNED', 'GARAGEDESCRIPTION_ATTACHED GARAGE', 'GARAGEDESCRIPTION_CARPORT', 'GARAGEDESCRIPTION_CONTRACT PKG REQUIRED', 'GARAGEDESCRIPTION_COVERED', 'GARAGEDESCRIPTION_DETACHED GARAGE', 'GARAGEDESCRIPTION_DRIVEWAY - ASPHALT', 'GARAGEDESCRIPTION_DRIVEWAY - CONCRETE', 'GARAGEDESCRIPTION_DRIVEWAY - GRAVEL', 'GARAGEDESCRIPTION_DRIVEWAY - OTHER SURFACE', 'GARAGEDESCRIPTION_DRIVEWAY - SHARED', 'GARAGEDESCRIPTION_GARAGE DOOR OPENER', 'GARAGEDESCRIPTION_HEATED GARAGE', 'GARAGEDESCRIPTION_INSULATED GARAGE', 'GARAGEDESCRIPTION_MORE PARKING OFFSITE FOR FEE', 'GARAGEDESCRIPTION_MORE PARKING ONSITE FOR FEE', 'GARAGEDESCRIPTION_NO INT ACCESS TO DWELLING', 'GARAGEDESCRIPTION_NONE', 'GARAGEDESCRIPTION_ON-STREET PARKING ONLY', 'GARAGEDESCRIPTION_OTHER', 'GARAGEDESCRIPTION_SECURED', 'GARAGEDESCRIPTION_TANDEM', 'GARAGEDESCRIPTION_TUCKUNDER', 'GARAGEDESCRIPTION_UNASSIGNED', 'GARAGEDESCRIPTION_UNCOVERED/OPEN', 'GARAGEDESCRIPTION_UNDERGROUND GARAGE', 'GARAGEDESCRIPTION_UNITS VARY', 'GARAGEDESCRIPTION_VALET PARKING FOR FEE', 'APPLIANCES_AIR-TO-AIR EXCHANGER', 'APPLIANCES_CENTRAL VACUUM', 'APPLIANCES_COOKTOP', 'APPLIANCES_DISHWASHER', 'APPLIANCES_DISPOSAL', 'APPLIANCES_DRYER', 'APPLIANCES_ELECTRONIC AIR FILTER', 'APPLIANCES_EXHAUST FAN/HOOD', 'APPLIANCES_FREEZER', 'APPLIANCES_FURNACE HUMIDIFIER', 'APPLIANCES_INDOOR GRILL', 'APPLIANCES_MICROWAVE', 'APPLIANCES_NAN', 'APPLIANCES_NONE', 'APPLIANCES_OTHER', 'APPLIANCES_RANGE', 'APPLIANCES_REFRIGERATOR', 'APPLIANCES_TANKLESS WATER  HEATER', 'APPLIANCES_TRASH COMPACTOR', 'APPLIANCES_WALL OVEN', 'APPLIANCES_WASHER', 'APPLIANCES_WATER SOFTENER - OWNED', 'APPLIANCES_WATER SOFTENER - RENTED', 'EXTERIOR_BLOCK', 'EXTERIOR_BRICK/STONE', 'EXTERIOR_CEMENT BOARD', 'EXTERIOR_ENGINEERED WOOD', 'EXTERIOR_FIBER BOARD', 'EXTERIOR_METAL', 'EXTERIOR_OTHER', 'EXTERIOR_SHAKES', 'EXTERIOR_STUCCO', 'EXTERIOR_VINYL', 'EXTERIOR_WOOD', 'DININGROOMDESCRIPTION_BREAKFAST AREA', 'DININGROOMDESCRIPTION_EAT IN KITCHEN', 'DININGROOMDESCRIPTION_INFORMAL DINING ROOM', 'DININGROOMDESCRIPTION_KITCHEN/DINING ROOM', 'DININGROOMDESCRIPTION_LIVING/DINING ROOM', 'DININGROOMDESCRIPTION_NAN', 'DININGROOMDESCRIPTION_OTHER', 'DININGROOMDESCRIPTION_SEPARATE/FORMAL DINING ROOM', 'BASEMENT_CONCRETE BLOCK', 'BASEMENT_CRAWL SPACE', 'BASEMENT_DAY/LOOKOUT WINDOWS', 'BASEMENT_DRAIN TILED', 'BASEMENT_DRAINAGE SYSTEM', 'BASEMENT_EGRESS WINDOWS', 'BASEMENT_FINISHED (LIVABLE)', 'BASEMENT_FULL', 'BASEMENT_INSULATING CONCRETE FORMS', 'BASEMENT_NONE', 'BASEMENT_PARTIAL', 'BASEMENT_PARTIAL FINISHED', 'BASEMENT_POURED CONCRETE', 'BASEMENT_SLAB', 'BASEMENT_STONE', 'BASEMENT_SUMP PUMP', 'BASEMENT_UNFINISHED', 'BASEMENT_WALKOUT', 'BASEMENT_WOOD', 'BATHDESC_1/2 BASEMENT', 'BATHDESC_1/2 MASTER', 'BATHDESC_3/4 BASEMENT', 'BATHDESC_3/4 MASTER', 'BATHDESC_BASEMENT', 'BATHDESC_BATHROOM ENSUITE', 'BATHDESC_FULL BASEMENT', 'BATHDESC_FULL MASTER', 'BATHDESC_JACK & JILL 3/4', 'BATHDESC_JACK AND JILL', 'BATHDESC_MAIN FLOOR 1/2 BATH', 'BATHDESC_MAIN FLOOR 3/4 BATH', 'BATHDESC_MAIN FLOOR FULL BATH', 'BATHDESC_MASTER WALK-THRU', 'BATHDESC_NAN', 'BATHDESC_OTHER', 'BATHDESC_PRIVATE MASTER', 'BATHDESC_ROUGH IN', 'BATHDESC_SEPARATE TUB & SHOWER', 'BATHDESC_TWO BASEMENT BATHS', 'BATHDESC_TWO MASTER BATHS', 'BATHDESC_UPPER LEVEL 1/2 BATH', 'BATHDESC_UPPER LEVEL 3/4 BATH', 'BATHDESC_UPPER LEVEL FULL BATH', 'BATHDESC_WALK THRU', 'BATHDESC_WALK-IN SHOWER', 'BATHDESC_WHIRLPOOL', 'ZONING_BUSINESS/COMMERCIAL', 'ZONING_INDUSTRIAL', 'ZONING_OTHER', 'ZONING_RESIDENTIAL-MULTI-FAMILY', 'ZONING_RESIDENTIAL-SINGLE', 'COOLINGDESCRIPTION_CENTRAL', 'COOLINGDESCRIPTION_DUCTLESS MINI-SPLIT', 'COOLINGDESCRIPTION_GEOTHERMAL', 'COOLINGDESCRIPTION_NONE', 'COOLINGDESCRIPTION_WALL', 'COOLINGDESCRIPTION_WINDOW', 'CITY:LELM - LAKE ELMO', 'CITY:MAPW - MAPLEWOOD', 'CITY:OAKD - OAKDALE', 'CITY:STP - SAINT PAUL', 'CITY:WB - WOODBURY', 'LISTTYPE:EXCLUSIVE AGENCY', 'LISTTYPE:EXCLUSIVE RIGHT', 'LISTTYPE:EXCLUSIVE RIGHT WITH EXCLUSIONS', 'LISTTYPE:OTHER', 'LISTTYPE:SERVICE AGREEMENT', 'SCHOOLDISTRICTNUMBER:6 - SOUTH ST. PAUL', 'SCHOOLDISTRICTNUMBER:622 - NORTH ST PAUL-MAPLEWOOD', 'SCHOOLDISTRICTNUMBER:623 - ROSEVILLE', 'SCHOOLDISTRICTNUMBER:624 - WHITE BEAR LAKE', 'SCHOOLDISTRICTNUMBER:625 - ST. PAUL', 'SCHOOLDISTRICTNUMBER:832 - MAHTOMEDI', 'SCHOOLDISTRICTNUMBER:833 - SOUTH WASHINGTON COUNTY', 'SCHOOLDISTRICTNUMBER:834 - STILLWATER', 'POTENTIALSHORTSALE:NO', 'POTENTIALSHORTSALE:NOT DISCLOSED', 'STYLE:(CC) CONVERTED MANSION', 'STYLE:(CC) HIGH RISE (4+ LEVELS)', 'STYLE:(CC) LOW RISE (3- LEVELS)', 'STYLE:(CC) MANOR/VILLAGE', 'STYLE:(CC) TWO UNIT', 'STYLE:(SF) FOUR OR MORE LEVEL SPLIT', 'STYLE:(SF) MODIFIED TWO STORY', 'STYLE:(SF) MORE THAN TWO STORIES', 'STYLE:(SF) ONE 1/2 STORIES', 'STYLE:(SF) ONE STORY', 'STYLE:(SF) OTHER', 'STYLE:(SF) SPLIT ENTRY (BI-LEVEL)', 'STYLE:(SF) THREE LEVEL SPLIT', 'STYLE:(SF) TWO STORIES', 'STYLE:(TH) DETACHED', 'STYLE:(TH) QUAD/4 CORNERS', 'STYLE:(TH) SIDE X SIDE', 'STYLE:(TW) TWIN HOME', 'ASSUMABLEMORTGAGE:INFORMATION COMING', 'ASSUMABLEMORTGAGE:NOT ASSUMABLE', 'ASSUMABLEMORTGAGE:YES W/ QUALIFYING', 'ASSUMABLEMORTGAGE:YES W/NO QUALIFYING', 'ASSESSMENTPENDING:NO', 'ASSESSMENTPENDING:UNKNOWN', 'ASSESSMENTPENDING:YES']\n"
     ]
    }
   ],
   "source": [
    "binary_prefixes = [x+'_' for x in split_ohe_columns] + [x+':' for x in ohe_columns]\n",
    "binary_cols = [col for col in df.columns if any(col.startswith(prefix) for prefix in binary_prefixes)]\n",
    "print(binary_cols)"
   ]
  },
  {
   "cell_type": "code",
   "execution_count": 31,
   "id": "a5513dbd-f519-41ed-a7a7-1c3a1b0b2980",
   "metadata": {
    "execution": {
     "iopub.execute_input": "2023-05-02T22:31:03.100831Z",
     "iopub.status.busy": "2023-05-02T22:31:03.100733Z",
     "iopub.status.idle": "2023-05-02T22:31:14.467122Z",
     "shell.execute_reply": "2023-05-02T22:31:14.466815Z",
     "shell.execute_reply.started": "2023-05-02T22:31:03.100822Z"
    },
    "tags": []
   },
   "outputs": [
    {
     "name": "stdout",
     "output_type": "stream",
     "text": [
      "Rows: 5000 Columns: 292\n",
      "Rows: 5000 Columns: 244\n"
     ]
    }
   ],
   "source": [
    "def drop_low_observation_columns(df, columns, threshold=30):\n",
    "    return df.drop(*np.array(columns)[np.array([df.agg({f'`{col}`': 'sum'}).collect()[0][0] < threshold for col in columns])])\n",
    "\n",
    "new_df = drop_low_observation_columns(df, binary_cols)\n",
    "\n",
    "print('Rows: ' + str(df.count()) + ' Columns: ' + str(len(df.columns)))\n",
    "print('Rows: ' + str(new_df.count()) + ' Columns: ' + str(len(new_df.columns)))"
   ]
  },
  {
   "cell_type": "markdown",
   "id": "4001c827-81d3-4a94-b8bc-07055a39261a",
   "metadata": {},
   "source": [
    "> Removing low observation features is helpful in many ways. It can improve processing speed of model training, prevent overfitting by coincidence and help interpretability by reducing the number of things to consider."
   ]
  },
  {
   "cell_type": "markdown",
   "id": "42eee9e5-01c1-4d8e-ba92-b3d11e55840b",
   "metadata": {},
   "source": [
    "### Naively Handling Missing and Categorical Values\n",
    "\n",
    "Random Forest Regression is robust enough to allow us to ignore many of the more time consuming and tedious data preparation steps. While some implementations of Random Forest handle missing and categorical values automatically, PySpark's does not. The math remains the same however so we can get away with some naive value replacements.\n",
    "\n",
    "For missing values since our data is strictly positive, we will assign `-1`. The random forest will split on this value and handle it differently than the rest of the values in the same feature.\n",
    "\n",
    "For categorical values, we can just map the text values to numbers and again the random forest will appropriately handle them by splitting on them. In this example, we will dust off `pipelines` from Introduction to PySpark to write our code more concisely. Please note that the exercise will start by displaying the `dtypes` of the columns in the dataframe, compare them to the results at the end of this exercise."
   ]
  },
  {
   "cell_type": "code",
   "execution_count": 32,
   "id": "9f335fa5-a643-4496-8fd5-f0d870dbb0ba",
   "metadata": {
    "execution": {
     "iopub.execute_input": "2023-05-02T22:31:14.467619Z",
     "iopub.status.busy": "2023-05-02T22:31:14.467512Z",
     "iopub.status.idle": "2023-05-02T22:31:15.467948Z",
     "shell.execute_reply": "2023-05-02T22:31:15.467626Z",
     "shell.execute_reply.started": "2023-05-02T22:31:14.467608Z"
    },
    "scrolled": true,
    "tags": []
   },
   "outputs": [],
   "source": [
    "categorical_cols = [\n",
    "    \"CITY\",\n",
    "    \"LISTTYPE\",\n",
    "    \"SCHOOLDISTRICTNUMBER\",\n",
    "    \"POTENTIALSHORTSALE\",\n",
    "    \"STYLE\",\n",
    "    \"ASSUMABLEMORTGAGE\",\n",
    "    \"ASSESSMENTPENDING\",\n",
    "]\n",
    "\n",
    "from pyspark.ml import Pipeline\n",
    "from pyspark.ml.feature import StringIndexer\n",
    "\n",
    "# Replace missing values\n",
    "df = df.fillna(-1, subset=['WALKSCORE', 'BIKESCORE'])\n",
    "# Create list of StringIndexers using list comprehension\n",
    "indexers = [StringIndexer(inputCol=col, outputCol=col+\"_IDX\")\\\n",
    "            .setHandleInvalid(\"keep\") for col in categorical_cols]\n",
    "# Create pipeline of indexers\n",
    "indexer_pipeline = Pipeline(stages=indexers)\n",
    "# Fit and Transform the pipeline to the original data\n",
    "df_indexed = indexer_pipeline.fit(df).transform(df)"
   ]
  },
  {
   "cell_type": "code",
   "execution_count": 33,
   "id": "225fbdb2-4c2d-47f7-aa02-caacc5e7daff",
   "metadata": {
    "execution": {
     "iopub.execute_input": "2023-05-02T22:31:15.468456Z",
     "iopub.status.busy": "2023-05-02T22:31:15.468351Z",
     "iopub.status.idle": "2023-05-02T22:31:15.527493Z",
     "shell.execute_reply": "2023-05-02T22:31:15.527188Z",
     "shell.execute_reply.started": "2023-05-02T22:31:15.468446Z"
    },
    "scrolled": true,
    "tags": []
   },
   "outputs": [
    {
     "name": "stdout",
     "output_type": "stream",
     "text": [
      "[('NO', 'bigint'), ('MLSID', 'string'), ('STREETNUMBERNUMERIC', 'bigint'), ('STREETADDRESS', 'string'), ('STREETNAME', 'string'), ('POSTALCODE', 'bigint'), ('STATEORPROVINCE', 'string'), ('SALESCLOSEPRICE', 'bigint'), ('LISTDATE', 'date'), ('LISTPRICE', 'bigint'), ('ORIGINALLISTPRICE', 'bigint'), ('PRICEPERTSFT', 'double'), ('FOUNDATIONSIZE', 'bigint'), ('FENCE', 'string'), ('MAPLETTER', 'string'), ('LOTSIZEDIMENSIONS', 'string'), ('DAYSONMARKET', 'bigint'), ('OFFMARKETDATE', 'date'), ('FIREPLACES', 'bigint'), ('ROOMAREA4', 'string'), ('ROOMTYPE', 'string'), ('ROOF', 'string'), ('ROOMFLOOR4', 'string'), ('POOLDESCRIPTION', 'string'), ('PDOM', 'bigint'), ('GARAGEDESCRIPTION', 'string'), ('SQFTABOVEGROUND', 'bigint'), ('TAXES', 'bigint'), ('ROOMFLOOR1', 'string'), ('ROOMAREA1', 'string'), ('TAXWITHASSESSMENTS', 'double'), ('TAXYEAR', 'bigint'), ('LIVINGAREA', 'bigint'), ('UNITNUMBER', 'string'), ('YEARBUILT', 'bigint'), ('ZONING', 'string'), ('ACRES', 'double'), ('COOLINGDESCRIPTION', 'string'), ('APPLIANCES', 'string'), ('BACKONMARKETDATE', 'date'), ('ROOMFAMILYCHAR', 'string'), ('ROOMAREA3', 'string'), ('EXTERIOR', 'string'), ('ROOMFLOOR3', 'string'), ('ROOMFLOOR2', 'string'), ('ROOMAREA2', 'string'), ('DININGROOMDESCRIPTION', 'string'), ('BASEMENT', 'string'), ('BATHSFULL', 'bigint'), ('BATHSHALF', 'bigint'), ('BATHQUARTER', 'bigint'), ('BATHSTHREEQUARTER', 'bigint'), ('CLASS', 'string'), ('BATHSTOTAL', 'bigint'), ('BATHDESC', 'string'), ('ROOMAREA5', 'string'), ('ROOMFLOOR5', 'string'), ('ROOMAREA6', 'string'), ('ROOMFLOOR6', 'string'), ('ROOMAREA7', 'string'), ('ROOMFLOOR7', 'string'), ('ROOMAREA8', 'string'), ('ROOMFLOOR8', 'string'), ('BEDROOMS', 'bigint'), ('SQFTBELOWGROUND', 'bigint'), ('ASSOCIATIONFEE', 'bigint'), ('ASSESSEDVALUATION', 'double'), ('features', 'vector'), ('WALKSCORE', 'double'), ('BIKESCORE', 'double'), ('LIST_YEAR', 'int'), ('LIST_MONTH', 'int'), ('LIST_WEEKOFYEAR', 'int'), ('LIST_DAYOFMONTH', 'int'), ('LIST_DAYOFYEAR', 'int'), ('BED_TO_BATHS', 'double'), ('SQFT_TOTAL', 'bigint'), ('LISTING_PRICE_PER_SQFT', 'double'), ('FENCE_CHAIN LINK', 'int'), ('FENCE_ELECTRIC', 'int'), ('FENCE_FULL', 'int'), ('FENCE_INVISIBLE', 'int'), ('FENCE_NAN', 'int'), ('FENCE_NONE', 'int'), ('FENCE_OTHER', 'int'), ('FENCE_PARTIAL', 'int'), ('FENCE_PRIVACY', 'int'), ('FENCE_RAIL', 'int'), ('FENCE_WIRE', 'int'), ('FENCE_WOOD', 'int'), ('ROOF_AGE 8 YEARS OR LESS', 'int'), ('ROOF_AGE OVER 8 YEARS', 'int'), ('ROOF_ASPHALT SHINGLES', 'int'), ('ROOF_FLAT', 'int'), ('ROOF_METAL', 'int'), ('ROOF_NAN', 'int'), ('ROOF_OTHER', 'int'), ('ROOF_PITCHED', 'int'), ('ROOF_RUBBER', 'int'), ('ROOF_SHAKES', 'int'), ('ROOF_SLATE', 'int'), ('ROOF_TAR/GRAVEL', 'int'), ('ROOF_TILE', 'int'), ('ROOF_UNSPECIFIED SHINGLE', 'int'), ('ROOF_WOOD SHINGLES', 'int'), ('POOLDESCRIPTION_ABOVE GROUND', 'int'), ('POOLDESCRIPTION_BELOW GROUND', 'int'), ('POOLDESCRIPTION_HEATED', 'int'), ('POOLDESCRIPTION_INDOOR', 'int'), ('POOLDESCRIPTION_NAN', 'int'), ('POOLDESCRIPTION_NONE', 'int'), ('POOLDESCRIPTION_OUTDOOR', 'int'), ('POOLDESCRIPTION_SHARED', 'int'), ('GARAGEDESCRIPTION_ASSIGNED', 'int'), ('GARAGEDESCRIPTION_ATTACHED GARAGE', 'int'), ('GARAGEDESCRIPTION_CARPORT', 'int'), ('GARAGEDESCRIPTION_CONTRACT PKG REQUIRED', 'int'), ('GARAGEDESCRIPTION_COVERED', 'int'), ('GARAGEDESCRIPTION_DETACHED GARAGE', 'int'), ('GARAGEDESCRIPTION_DRIVEWAY - ASPHALT', 'int'), ('GARAGEDESCRIPTION_DRIVEWAY - CONCRETE', 'int'), ('GARAGEDESCRIPTION_DRIVEWAY - GRAVEL', 'int'), ('GARAGEDESCRIPTION_DRIVEWAY - OTHER SURFACE', 'int'), ('GARAGEDESCRIPTION_DRIVEWAY - SHARED', 'int'), ('GARAGEDESCRIPTION_GARAGE DOOR OPENER', 'int'), ('GARAGEDESCRIPTION_HEATED GARAGE', 'int'), ('GARAGEDESCRIPTION_INSULATED GARAGE', 'int'), ('GARAGEDESCRIPTION_MORE PARKING OFFSITE FOR FEE', 'int'), ('GARAGEDESCRIPTION_MORE PARKING ONSITE FOR FEE', 'int'), ('GARAGEDESCRIPTION_NO INT ACCESS TO DWELLING', 'int'), ('GARAGEDESCRIPTION_NONE', 'int'), ('GARAGEDESCRIPTION_ON-STREET PARKING ONLY', 'int'), ('GARAGEDESCRIPTION_OTHER', 'int'), ('GARAGEDESCRIPTION_SECURED', 'int'), ('GARAGEDESCRIPTION_TANDEM', 'int'), ('GARAGEDESCRIPTION_TUCKUNDER', 'int'), ('GARAGEDESCRIPTION_UNASSIGNED', 'int'), ('GARAGEDESCRIPTION_UNCOVERED/OPEN', 'int'), ('GARAGEDESCRIPTION_UNDERGROUND GARAGE', 'int'), ('GARAGEDESCRIPTION_UNITS VARY', 'int'), ('GARAGEDESCRIPTION_VALET PARKING FOR FEE', 'int'), ('APPLIANCES_AIR-TO-AIR EXCHANGER', 'int'), ('APPLIANCES_CENTRAL VACUUM', 'int'), ('APPLIANCES_COOKTOP', 'int'), ('APPLIANCES_DISHWASHER', 'int'), ('APPLIANCES_DISPOSAL', 'int'), ('APPLIANCES_DRYER', 'int'), ('APPLIANCES_ELECTRONIC AIR FILTER', 'int'), ('APPLIANCES_EXHAUST FAN/HOOD', 'int'), ('APPLIANCES_FREEZER', 'int'), ('APPLIANCES_FURNACE HUMIDIFIER', 'int'), ('APPLIANCES_INDOOR GRILL', 'int'), ('APPLIANCES_MICROWAVE', 'int'), ('APPLIANCES_NAN', 'int'), ('APPLIANCES_NONE', 'int'), ('APPLIANCES_OTHER', 'int'), ('APPLIANCES_RANGE', 'int'), ('APPLIANCES_REFRIGERATOR', 'int'), ('APPLIANCES_TANKLESS WATER  HEATER', 'int'), ('APPLIANCES_TRASH COMPACTOR', 'int'), ('APPLIANCES_WALL OVEN', 'int'), ('APPLIANCES_WASHER', 'int'), ('APPLIANCES_WATER SOFTENER - OWNED', 'int'), ('APPLIANCES_WATER SOFTENER - RENTED', 'int'), ('EXTERIOR_BLOCK', 'int'), ('EXTERIOR_BRICK/STONE', 'int'), ('EXTERIOR_CEMENT BOARD', 'int'), ('EXTERIOR_ENGINEERED WOOD', 'int'), ('EXTERIOR_FIBER BOARD', 'int'), ('EXTERIOR_METAL', 'int'), ('EXTERIOR_OTHER', 'int'), ('EXTERIOR_SHAKES', 'int'), ('EXTERIOR_STUCCO', 'int'), ('EXTERIOR_VINYL', 'int'), ('EXTERIOR_WOOD', 'int'), ('DININGROOMDESCRIPTION_BREAKFAST AREA', 'int'), ('DININGROOMDESCRIPTION_EAT IN KITCHEN', 'int'), ('DININGROOMDESCRIPTION_INFORMAL DINING ROOM', 'int'), ('DININGROOMDESCRIPTION_KITCHEN/DINING ROOM', 'int'), ('DININGROOMDESCRIPTION_LIVING/DINING ROOM', 'int'), ('DININGROOMDESCRIPTION_NAN', 'int'), ('DININGROOMDESCRIPTION_OTHER', 'int'), ('DININGROOMDESCRIPTION_SEPARATE/FORMAL DINING ROOM', 'int'), ('BASEMENT_CONCRETE BLOCK', 'int'), ('BASEMENT_CRAWL SPACE', 'int'), ('BASEMENT_DAY/LOOKOUT WINDOWS', 'int'), ('BASEMENT_DRAIN TILED', 'int'), ('BASEMENT_DRAINAGE SYSTEM', 'int'), ('BASEMENT_EGRESS WINDOWS', 'int'), ('BASEMENT_FINISHED (LIVABLE)', 'int'), ('BASEMENT_FULL', 'int'), ('BASEMENT_INSULATING CONCRETE FORMS', 'int'), ('BASEMENT_NONE', 'int'), ('BASEMENT_PARTIAL', 'int'), ('BASEMENT_PARTIAL FINISHED', 'int'), ('BASEMENT_POURED CONCRETE', 'int'), ('BASEMENT_SLAB', 'int'), ('BASEMENT_STONE', 'int'), ('BASEMENT_SUMP PUMP', 'int'), ('BASEMENT_UNFINISHED', 'int'), ('BASEMENT_WALKOUT', 'int'), ('BASEMENT_WOOD', 'int'), ('BATHDESC_1/2 BASEMENT', 'int'), ('BATHDESC_1/2 MASTER', 'int'), ('BATHDESC_3/4 BASEMENT', 'int'), ('BATHDESC_3/4 MASTER', 'int'), ('BATHDESC_BASEMENT', 'int'), ('BATHDESC_BATHROOM ENSUITE', 'int'), ('BATHDESC_FULL BASEMENT', 'int'), ('BATHDESC_FULL MASTER', 'int'), ('BATHDESC_JACK & JILL 3/4', 'int'), ('BATHDESC_JACK AND JILL', 'int'), ('BATHDESC_MAIN FLOOR 1/2 BATH', 'int'), ('BATHDESC_MAIN FLOOR 3/4 BATH', 'int'), ('BATHDESC_MAIN FLOOR FULL BATH', 'int'), ('BATHDESC_MASTER WALK-THRU', 'int'), ('BATHDESC_NAN', 'int'), ('BATHDESC_OTHER', 'int'), ('BATHDESC_PRIVATE MASTER', 'int'), ('BATHDESC_ROUGH IN', 'int'), ('BATHDESC_SEPARATE TUB & SHOWER', 'int'), ('BATHDESC_TWO BASEMENT BATHS', 'int'), ('BATHDESC_TWO MASTER BATHS', 'int'), ('BATHDESC_UPPER LEVEL 1/2 BATH', 'int'), ('BATHDESC_UPPER LEVEL 3/4 BATH', 'int'), ('BATHDESC_UPPER LEVEL FULL BATH', 'int'), ('BATHDESC_WALK THRU', 'int'), ('BATHDESC_WALK-IN SHOWER', 'int'), ('BATHDESC_WHIRLPOOL', 'int'), ('ZONING_BUSINESS/COMMERCIAL', 'int'), ('ZONING_INDUSTRIAL', 'int'), ('ZONING_OTHER', 'int'), ('ZONING_RESIDENTIAL-MULTI-FAMILY', 'int'), ('ZONING_RESIDENTIAL-SINGLE', 'int'), ('COOLINGDESCRIPTION_CENTRAL', 'int'), ('COOLINGDESCRIPTION_DUCTLESS MINI-SPLIT', 'int'), ('COOLINGDESCRIPTION_GEOTHERMAL', 'int'), ('COOLINGDESCRIPTION_NONE', 'int'), ('COOLINGDESCRIPTION_WALL', 'int'), ('COOLINGDESCRIPTION_WINDOW', 'int'), ('CITY:LELM - LAKE ELMO', 'int'), ('CITY:MAPW - MAPLEWOOD', 'int'), ('CITY:OAKD - OAKDALE', 'int'), ('CITY:STP - SAINT PAUL', 'int'), ('CITY:WB - WOODBURY', 'int'), ('LISTTYPE:EXCLUSIVE AGENCY', 'int'), ('LISTTYPE:EXCLUSIVE RIGHT', 'int'), ('LISTTYPE:EXCLUSIVE RIGHT WITH EXCLUSIONS', 'int'), ('LISTTYPE:OTHER', 'int'), ('LISTTYPE:SERVICE AGREEMENT', 'int'), ('SCHOOLDISTRICTNUMBER:6 - SOUTH ST. PAUL', 'int'), ('SCHOOLDISTRICTNUMBER:622 - NORTH ST PAUL-MAPLEWOOD', 'int'), ('SCHOOLDISTRICTNUMBER:623 - ROSEVILLE', 'int'), ('SCHOOLDISTRICTNUMBER:624 - WHITE BEAR LAKE', 'int'), ('SCHOOLDISTRICTNUMBER:625 - ST. PAUL', 'int'), ('SCHOOLDISTRICTNUMBER:832 - MAHTOMEDI', 'int'), ('SCHOOLDISTRICTNUMBER:833 - SOUTH WASHINGTON COUNTY', 'int'), ('SCHOOLDISTRICTNUMBER:834 - STILLWATER', 'int'), ('POTENTIALSHORTSALE:NO', 'int'), ('POTENTIALSHORTSALE:NOT DISCLOSED', 'int'), ('STYLE:(CC) CONVERTED MANSION', 'int'), ('STYLE:(CC) HIGH RISE (4+ LEVELS)', 'int'), ('STYLE:(CC) LOW RISE (3- LEVELS)', 'int'), ('STYLE:(CC) MANOR/VILLAGE', 'int'), ('STYLE:(CC) TWO UNIT', 'int'), ('STYLE:(SF) FOUR OR MORE LEVEL SPLIT', 'int'), ('STYLE:(SF) MODIFIED TWO STORY', 'int'), ('STYLE:(SF) MORE THAN TWO STORIES', 'int'), ('STYLE:(SF) ONE 1/2 STORIES', 'int'), ('STYLE:(SF) ONE STORY', 'int'), ('STYLE:(SF) OTHER', 'int'), ('STYLE:(SF) SPLIT ENTRY (BI-LEVEL)', 'int'), ('STYLE:(SF) THREE LEVEL SPLIT', 'int'), ('STYLE:(SF) TWO STORIES', 'int'), ('STYLE:(TH) DETACHED', 'int'), ('STYLE:(TH) QUAD/4 CORNERS', 'int'), ('STYLE:(TH) SIDE X SIDE', 'int'), ('STYLE:(TW) TWIN HOME', 'int'), ('ASSUMABLEMORTGAGE:INFORMATION COMING', 'int'), ('ASSUMABLEMORTGAGE:NOT ASSUMABLE', 'int'), ('ASSUMABLEMORTGAGE:YES W/ QUALIFYING', 'int'), ('ASSUMABLEMORTGAGE:YES W/NO QUALIFYING', 'int'), ('ASSESSMENTPENDING:NO', 'int'), ('ASSESSMENTPENDING:UNKNOWN', 'int'), ('ASSESSMENTPENDING:YES', 'int'), ('CITY_IDX', 'double'), ('LISTTYPE_IDX', 'double'), ('SCHOOLDISTRICTNUMBER_IDX', 'double'), ('POTENTIALSHORTSALE_IDX', 'double'), ('STYLE_IDX', 'double'), ('ASSUMABLEMORTGAGE_IDX', 'double'), ('ASSESSMENTPENDING_IDX', 'double')]\n"
     ]
    }
   ],
   "source": [
    "# Clean up redundant columns\n",
    "df_indexed = df_indexed.drop(*categorical_cols)\n",
    "# Inspect data transformations\n",
    "print(df_indexed.dtypes)"
   ]
  },
  {
   "cell_type": "markdown",
   "id": "9f6f9c48-430b-4ecf-91e0-9cb019d55a18",
   "metadata": {},
   "source": [
    "> As you can hopefully see, handling missing and categorical values for Random Forest Regression is fairly painless compared to some of the other things we would have had to do if we chose a different algorithm!"
   ]
  },
  {
   "cell_type": "markdown",
   "id": "df14ad29-7ee9-4f77-8e0b-d36b15f62cc7",
   "metadata": {},
   "source": [
    "# Building a Model"
   ]
  },
  {
   "cell_type": "markdown",
   "id": "20de124f-04dc-4725-9927-0183924fbf86",
   "metadata": {},
   "source": [
    "## RandomForestRegressor\n",
    "**Basic Model Parameters**\n",
    "* featuresCol=\"features\"\n",
    "* labelCol=\"label\"\n",
    "* predictionCol=\"prediction\"  \n",
    "* seed=None\n",
    "\n",
    "**Our Model Parameter values**\n",
    "* featuresCol=\"features\"\n",
    "* labelCol=\"SALESCLOSEPRICE\"\n",
    "* predictionCol=\"Prediction_Price\"\n",
    "* seed=42"
   ]
  },
  {
   "cell_type": "markdown",
   "id": "cb17291c-7934-4418-8e42-d4e532838a66",
   "metadata": {
    "tags": []
   },
   "source": [
    "## Training a Random Forest"
   ]
  },
  {
   "cell_type": "code",
   "execution_count": 34,
   "id": "c83022db-bcc4-415c-b041-8fdac77db49e",
   "metadata": {
    "execution": {
     "iopub.execute_input": "2023-05-02T22:31:15.527977Z",
     "iopub.status.busy": "2023-05-02T22:31:15.527868Z",
     "iopub.status.idle": "2023-05-02T22:31:15.973339Z",
     "shell.execute_reply": "2023-05-02T22:31:15.972947Z",
     "shell.execute_reply.started": "2023-05-02T22:31:15.527967Z"
    },
    "tags": []
   },
   "outputs": [
    {
     "name": "stdout",
     "output_type": "stream",
     "text": [
      "is float\n",
      "split_date=datetime.date(2017, 12, 10)\n",
      "Total: 5000 Train: 4828 Test: 154 Ignored: 18\n"
     ]
    }
   ],
   "source": [
    "# Find the date to use in spitting test and train\n",
    "split_date = train_test_split_date(df, 'OFFMARKETDATE', 0.132)\n",
    "print(f'{split_date=}')\n",
    "# Create Sequential Test and Training Sets\n",
    "train_df = df.where(df['OFFMARKETDATE'] < split_date) \n",
    "test_df = df.where(df['OFFMARKETDATE'] >= split_date).where(df['LISTDATE'] <= split_date)\n",
    "print(f'Total: {df.count()} Train: {train_df.count()} Test: {test_df.count()} Ignored: {df.count()-train_df.count()-test_df.count()}')"
   ]
  },
  {
   "cell_type": "code",
   "execution_count": 35,
   "id": "697b1a2b-537f-4bfb-b6c3-69463fe2d8de",
   "metadata": {
    "execution": {
     "iopub.execute_input": "2023-05-02T22:31:15.973879Z",
     "iopub.status.busy": "2023-05-02T22:31:15.973768Z",
     "iopub.status.idle": "2023-05-02T22:31:16.753816Z",
     "shell.execute_reply": "2023-05-02T22:31:16.753452Z",
     "shell.execute_reply.started": "2023-05-02T22:31:15.973869Z"
    },
    "tags": []
   },
   "outputs": [],
   "source": [
    "from pyspark.ml.regression import RandomForestRegressor\n",
    "\n",
    "# Initialize model with columns to utilize\n",
    "rf_model = RandomForestRegressor(\n",
    "    featuresCol=\"features\",\n",
    "    labelCol=\"SALESCLOSEPRICE\",\n",
    "    predictionCol=\"Prediction_Price\",\n",
    "    seed=42\n",
    ")\n",
    "# Train model\n",
    "rf_model = rf_model.fit(train_df)"
   ]
  },
  {
   "cell_type": "markdown",
   "id": "b3259b1c-86aa-4411-92c8-514f6ea4868e",
   "metadata": {},
   "source": [
    "## Predicting with a Model"
   ]
  },
  {
   "cell_type": "code",
   "execution_count": 36,
   "id": "6df31796-0856-4b17-842e-8401357f0307",
   "metadata": {
    "execution": {
     "iopub.execute_input": "2023-05-02T22:31:16.754469Z",
     "iopub.status.busy": "2023-05-02T22:31:16.754310Z",
     "iopub.status.idle": "2023-05-02T22:31:16.886096Z",
     "shell.execute_reply": "2023-05-02T22:31:16.885695Z",
     "shell.execute_reply.started": "2023-05-02T22:31:16.754454Z"
    },
    "tags": []
   },
   "outputs": [
    {
     "name": "stdout",
     "output_type": "stream",
     "text": [
      "+------------------+---------------+\n",
      "|  Prediction_Price|SALESCLOSEPRICE|\n",
      "+------------------+---------------+\n",
      "| 171639.4528586283|         165000|\n",
      "| 260900.1474134571|         247000|\n",
      "|142444.87873712316|         152500|\n",
      "| 205748.0335092715|         197000|\n",
      "|260026.97684505762|         243000|\n",
      "+------------------+---------------+\n",
      "only showing top 5 rows\n",
      "\n"
     ]
    },
    {
     "name": "stderr",
     "output_type": "stream",
     "text": [
      "WARNING: An illegal reflective access operation has occurred\n",
      "WARNING: Illegal reflective access by org.apache.spark.util.SizeEstimator$ (file:/home/mauricio/miniconda3/envs/dev/lib/python3.10/site-packages/pyspark/jars/spark-core_2.12-3.4.0.jar) to field java.nio.charset.Charset.name\n",
      "WARNING: Please consider reporting this to the maintainers of org.apache.spark.util.SizeEstimator$\n",
      "WARNING: Use --illegal-access=warn to enable warnings of further illegal reflective access operations\n",
      "WARNING: All illegal access operations will be denied in a future release\n"
     ]
    }
   ],
   "source": [
    "# Make predictions\n",
    "rfr_predictions = rf_model.transform(test_df)\n",
    "# Inspect results\n",
    "rfr_predictions.select(\"Prediction_Price\", \"SALESCLOSEPRICE\").show(5)"
   ]
  },
  {
   "cell_type": "markdown",
   "id": "e8195fa2-2ff9-4197-ac55-fffd6debd39a",
   "metadata": {},
   "source": [
    "### Evaluating a Model"
   ]
  },
  {
   "cell_type": "code",
   "execution_count": 37,
   "id": "c569254f-871a-425f-ad74-086498156630",
   "metadata": {
    "execution": {
     "iopub.execute_input": "2023-05-02T22:31:16.886694Z",
     "iopub.status.busy": "2023-05-02T22:31:16.886568Z",
     "iopub.status.idle": "2023-05-02T22:31:17.028749Z",
     "shell.execute_reply": "2023-05-02T22:31:17.028367Z",
     "shell.execute_reply.started": "2023-05-02T22:31:16.886682Z"
    },
    "tags": []
   },
   "outputs": [
    {
     "name": "stdout",
     "output_type": "stream",
     "text": [
      "RMSE: 19917.033228039953\n",
      "R^2: 0.974771400412479\n"
     ]
    }
   ],
   "source": [
    "from pyspark.ml.evaluation import RegressionEvaluator\n",
    "# Select columns to compute test error\n",
    "evaluator = RegressionEvaluator(labelCol=\"SALESCLOSEPRICE\",\n",
    "                                predictionCol=\"Prediction_Price\")\n",
    "# Create evaluation metrics\n",
    "rmse = evaluator.evaluate(rfr_predictions, {evaluator.metricName: \"rmse\"})\n",
    "r2 = evaluator.evaluate(rfr_predictions, {evaluator.metricName: \"r2\"})\n",
    "# Print Model Metrics\n",
    "print('RMSE: ' + str(rmse))\n",
    "print('R^2: ' + str(r2))"
   ]
  },
  {
   "cell_type": "markdown",
   "id": "0f545b82-4bb3-4e9b-acf0-810d6a01dbd4",
   "metadata": {},
   "source": [
    "## Exercises"
   ]
  },
  {
   "cell_type": "markdown",
   "id": "c686b66a-4faf-4a71-bbe5-d1c1ebf99f35",
   "metadata": {},
   "source": [
    "### Building a Gradient Boosted Trees Regression Model"
   ]
  },
  {
   "cell_type": "code",
   "execution_count": 38,
   "id": "edb7114d-30e0-4d1d-ac5f-bbfbcbf67367",
   "metadata": {
    "execution": {
     "iopub.execute_input": "2023-05-02T22:31:17.029452Z",
     "iopub.status.busy": "2023-05-02T22:31:17.029284Z",
     "iopub.status.idle": "2023-05-02T22:31:19.476500Z",
     "shell.execute_reply": "2023-05-02T22:31:19.476125Z",
     "shell.execute_reply.started": "2023-05-02T22:31:17.029435Z"
    },
    "tags": []
   },
   "outputs": [],
   "source": [
    "from pyspark.ml.regression import GBTRegressor\n",
    "\n",
    "# Train a Gradient Boosted Trees (GBT) model.\n",
    "gbt_model = GBTRegressor(featuresCol='features',\n",
    "                           labelCol='SALESCLOSEPRICE',\n",
    "                           predictionCol=\"Prediction_Price\",\n",
    "                           seed=42\n",
    "                           )\n",
    "\n",
    "# Train model.\n",
    "gbt_model = gbt_model.fit(train_df)"
   ]
  },
  {
   "cell_type": "code",
   "execution_count": 39,
   "id": "73b3b953-880c-413b-bf2d-48da2f8fe614",
   "metadata": {
    "execution": {
     "iopub.execute_input": "2023-05-02T22:31:19.477025Z",
     "iopub.status.busy": "2023-05-02T22:31:19.476923Z",
     "iopub.status.idle": "2023-05-02T22:31:19.569050Z",
     "shell.execute_reply": "2023-05-02T22:31:19.568695Z",
     "shell.execute_reply.started": "2023-05-02T22:31:19.477016Z"
    },
    "tags": []
   },
   "outputs": [
    {
     "name": "stdout",
     "output_type": "stream",
     "text": [
      "+------------------+---------------+\n",
      "|  Prediction_Price|SALESCLOSEPRICE|\n",
      "+------------------+---------------+\n",
      "|163912.95890436717|         165000|\n",
      "| 258152.4635674858|         247000|\n",
      "|148179.98836945827|         152500|\n",
      "|202149.65878374162|         197000|\n",
      "|259771.60385521356|         243000|\n",
      "+------------------+---------------+\n",
      "only showing top 5 rows\n",
      "\n"
     ]
    }
   ],
   "source": [
    "# Make predictions\n",
    "gbt_predictions = gbt_model.transform(test_df)\n",
    "# Inspect results\n",
    "gbt_predictions.select(\"Prediction_Price\", \"SALESCLOSEPRICE\").show(5)"
   ]
  },
  {
   "cell_type": "markdown",
   "id": "5abe9b03-a7bd-4378-b0ea-73fca139476a",
   "metadata": {},
   "source": [
    "### Evaluating & Comparing Algorithms"
   ]
  },
  {
   "cell_type": "code",
   "execution_count": 40,
   "id": "63bc1f23-5f22-4d2e-b43c-66e2a0ed4c0e",
   "metadata": {
    "execution": {
     "iopub.execute_input": "2023-05-02T22:31:19.571078Z",
     "iopub.status.busy": "2023-05-02T22:31:19.570950Z",
     "iopub.status.idle": "2023-05-02T22:31:19.803366Z",
     "shell.execute_reply": "2023-05-02T22:31:19.803043Z",
     "shell.execute_reply.started": "2023-05-02T22:31:19.571068Z"
    },
    "tags": []
   },
   "outputs": [
    {
     "name": "stdout",
     "output_type": "stream",
     "text": [
      "Gradient Boosted Trees RMSE: 21797.462201608305\n",
      "Gradient Boosted Trees R^2: 0.9697826959431237\n",
      "Random Forest Regression RMSE: 19917.033228039953\n",
      "Random Forest Regression R^2: 0.974771400412479\n"
     ]
    }
   ],
   "source": [
    "from pyspark.ml.evaluation import RegressionEvaluator\n",
    "\n",
    "# Select columns to compute test error\n",
    "evaluator = RegressionEvaluator(labelCol=\"SALESCLOSEPRICE\", \n",
    "                                predictionCol=\"Prediction_Price\")\n",
    "# Dictionary of model predictions to loop over\n",
    "models = {'Gradient Boosted Trees': gbt_predictions, 'Random Forest Regression': rfr_predictions}\n",
    "for key, preds in models.items():\n",
    "    # Create evaluation metrics\n",
    "    rmse = evaluator.evaluate(preds, {evaluator.metricName: \"rmse\"})\n",
    "    r2 = evaluator.evaluate(preds, {evaluator.metricName: \"r2\"})\n",
    "\n",
    "    # Print Model Metrics\n",
    "    print(key + ' RMSE: ' + str(rmse))\n",
    "    print(key + ' R^2: ' + str(r2))"
   ]
  },
  {
   "cell_type": "markdown",
   "id": "0d1e6ea3-20cd-4ba5-9aed-63ed9603f0eb",
   "metadata": {},
   "source": [
    "# Interpreting, Saving & Loading"
   ]
  },
  {
   "cell_type": "markdown",
   "id": "a71456e5-632f-4fc2-9ba3-2706d3b51511",
   "metadata": {},
   "source": [
    "## Interpreting a Model"
   ]
  },
  {
   "cell_type": "code",
   "execution_count": 41,
   "id": "347a0f3f-e836-4b57-811b-0d2014967c8f",
   "metadata": {
    "execution": {
     "iopub.execute_input": "2023-05-02T22:31:19.803830Z",
     "iopub.status.busy": "2023-05-02T22:31:19.803727Z",
     "iopub.status.idle": "2023-05-02T22:31:19.816873Z",
     "shell.execute_reply": "2023-05-02T22:31:19.816565Z",
     "shell.execute_reply.started": "2023-05-02T22:31:19.803820Z"
    },
    "tags": []
   },
   "outputs": [],
   "source": [
    "import pandas as pd\n",
    "# Convert feature importances to a pandas column\n",
    "fi_df = pd.DataFrame(rf_model.featureImportances.toArray(),\n",
    "                     columns=['importance'])\n",
    "# Convert list of feature names to pandas column\n",
    "fi_df['feature'] = pd.Series(features_cols)\n",
    "# Sort the data based on feature importance\n",
    "fi_df.sort_values(by=['importance'], ascending=False, inplace=True)"
   ]
  },
  {
   "cell_type": "code",
   "execution_count": 42,
   "id": "aa00a777-3db6-421d-94d6-9ca3968789aa",
   "metadata": {
    "execution": {
     "iopub.execute_input": "2023-05-02T22:31:19.817361Z",
     "iopub.status.busy": "2023-05-02T22:31:19.817260Z",
     "iopub.status.idle": "2023-05-02T22:31:19.821047Z",
     "shell.execute_reply": "2023-05-02T22:31:19.820804Z",
     "shell.execute_reply.started": "2023-05-02T22:31:19.817351Z"
    },
    "tags": []
   },
   "outputs": [
    {
     "data": {
      "text/html": [
       "<div>\n",
       "<style scoped>\n",
       "    .dataframe tbody tr th:only-of-type {\n",
       "        vertical-align: middle;\n",
       "    }\n",
       "\n",
       "    .dataframe tbody tr th {\n",
       "        vertical-align: top;\n",
       "    }\n",
       "\n",
       "    .dataframe thead th {\n",
       "        text-align: right;\n",
       "    }\n",
       "</style>\n",
       "<table border=\"1\" class=\"dataframe\">\n",
       "  <thead>\n",
       "    <tr style=\"text-align: right;\">\n",
       "      <th></th>\n",
       "      <th>importance</th>\n",
       "      <th>feature</th>\n",
       "    </tr>\n",
       "  </thead>\n",
       "  <tbody>\n",
       "    <tr>\n",
       "      <th>1</th>\n",
       "      <td>0.343282</td>\n",
       "      <td>LISTPRICE</td>\n",
       "    </tr>\n",
       "    <tr>\n",
       "      <th>2</th>\n",
       "      <td>0.219893</td>\n",
       "      <td>ORIGINALLISTPRICE</td>\n",
       "    </tr>\n",
       "    <tr>\n",
       "      <th>12</th>\n",
       "      <td>0.090295</td>\n",
       "      <td>LIVINGAREA</td>\n",
       "    </tr>\n",
       "    <tr>\n",
       "      <th>19</th>\n",
       "      <td>0.079788</td>\n",
       "      <td>BATHSTOTAL</td>\n",
       "    </tr>\n",
       "    <tr>\n",
       "      <th>9</th>\n",
       "      <td>0.075346</td>\n",
       "      <td>TAXES</td>\n",
       "    </tr>\n",
       "    <tr>\n",
       "      <th>8</th>\n",
       "      <td>0.067342</td>\n",
       "      <td>SQFTABOVEGROUND</td>\n",
       "    </tr>\n",
       "    <tr>\n",
       "      <th>3</th>\n",
       "      <td>0.041688</td>\n",
       "      <td>PRICEPERTSFT</td>\n",
       "    </tr>\n",
       "    <tr>\n",
       "      <th>10</th>\n",
       "      <td>0.032333</td>\n",
       "      <td>TAXWITHASSESSMENTS</td>\n",
       "    </tr>\n",
       "    <tr>\n",
       "      <th>6</th>\n",
       "      <td>0.016859</td>\n",
       "      <td>FIREPLACES</td>\n",
       "    </tr>\n",
       "  </tbody>\n",
       "</table>\n",
       "</div>"
      ],
      "text/plain": [
       "    importance             feature\n",
       "1     0.343282           LISTPRICE\n",
       "2     0.219893   ORIGINALLISTPRICE\n",
       "12    0.090295          LIVINGAREA\n",
       "19    0.079788          BATHSTOTAL\n",
       "9     0.075346               TAXES\n",
       "8     0.067342     SQFTABOVEGROUND\n",
       "3     0.041688        PRICEPERTSFT\n",
       "10    0.032333  TAXWITHASSESSMENTS\n",
       "6     0.016859          FIREPLACES"
      ]
     },
     "execution_count": 42,
     "metadata": {},
     "output_type": "execute_result"
    }
   ],
   "source": [
    "# Interpret results\n",
    "fi_df.head(9)"
   ]
  },
  {
   "cell_type": "markdown",
   "id": "cf6309c3-a16b-4bde-900e-0abc5ccb1853",
   "metadata": {
    "tags": []
   },
   "source": [
    "## Saving & Loading Models"
   ]
  },
  {
   "cell_type": "code",
   "execution_count": 44,
   "id": "737243c6-94bc-49d6-8bf6-d400f8e89ffc",
   "metadata": {
    "execution": {
     "iopub.execute_input": "2023-05-02T22:33:19.897963Z",
     "iopub.status.busy": "2023-05-02T22:33:19.897826Z",
     "iopub.status.idle": "2023-05-02T22:33:20.481539Z",
     "shell.execute_reply": "2023-05-02T22:33:20.481047Z",
     "shell.execute_reply.started": "2023-05-02T22:33:19.897952Z"
    },
    "tags": []
   },
   "outputs": [],
   "source": [
    "# Save model\n",
    "! rm -rf rfr_real_estate_model/\n",
    "rf_model.save('rfr_real_estate_model')\n",
    "from pyspark.ml.regression import RandomForestRegressionModel\n",
    "# Load model from\n",
    "model2 = RandomForestRegressionModel.load('rfr_real_estate_model')"
   ]
  },
  {
   "cell_type": "markdown",
   "id": "146da88a-56d3-4970-8a91-0f61de978071",
   "metadata": {},
   "source": [
    "## Exercises"
   ]
  },
  {
   "cell_type": "markdown",
   "id": "2e1a3f1a-3c5a-4f05-aff1-d64db60a2c7f",
   "metadata": {},
   "source": [
    "### Interpreting Results"
   ]
  },
  {
   "cell_type": "code",
   "execution_count": 45,
   "id": "d4dd3fee-dbe5-4ae3-a4ac-bcc511110e74",
   "metadata": {
    "execution": {
     "iopub.execute_input": "2023-05-02T22:33:26.160136Z",
     "iopub.status.busy": "2023-05-02T22:33:26.159989Z",
     "iopub.status.idle": "2023-05-02T22:33:26.167973Z",
     "shell.execute_reply": "2023-05-02T22:33:26.167711Z",
     "shell.execute_reply.started": "2023-05-02T22:33:26.160123Z"
    },
    "tags": []
   },
   "outputs": [
    {
     "data": {
      "text/html": [
       "<div>\n",
       "<style scoped>\n",
       "    .dataframe tbody tr th:only-of-type {\n",
       "        vertical-align: middle;\n",
       "    }\n",
       "\n",
       "    .dataframe tbody tr th {\n",
       "        vertical-align: top;\n",
       "    }\n",
       "\n",
       "    .dataframe thead th {\n",
       "        text-align: right;\n",
       "    }\n",
       "</style>\n",
       "<table border=\"1\" class=\"dataframe\">\n",
       "  <thead>\n",
       "    <tr style=\"text-align: right;\">\n",
       "      <th></th>\n",
       "      <th>importance</th>\n",
       "      <th>feature</th>\n",
       "    </tr>\n",
       "  </thead>\n",
       "  <tbody>\n",
       "    <tr>\n",
       "      <th>1</th>\n",
       "      <td>0.343282</td>\n",
       "      <td>LISTPRICE</td>\n",
       "    </tr>\n",
       "    <tr>\n",
       "      <th>2</th>\n",
       "      <td>0.219893</td>\n",
       "      <td>ORIGINALLISTPRICE</td>\n",
       "    </tr>\n",
       "    <tr>\n",
       "      <th>12</th>\n",
       "      <td>0.090295</td>\n",
       "      <td>LIVINGAREA</td>\n",
       "    </tr>\n",
       "    <tr>\n",
       "      <th>19</th>\n",
       "      <td>0.079788</td>\n",
       "      <td>BATHSTOTAL</td>\n",
       "    </tr>\n",
       "    <tr>\n",
       "      <th>9</th>\n",
       "      <td>0.075346</td>\n",
       "      <td>TAXES</td>\n",
       "    </tr>\n",
       "    <tr>\n",
       "      <th>8</th>\n",
       "      <td>0.067342</td>\n",
       "      <td>SQFTABOVEGROUND</td>\n",
       "    </tr>\n",
       "    <tr>\n",
       "      <th>3</th>\n",
       "      <td>0.041688</td>\n",
       "      <td>PRICEPERTSFT</td>\n",
       "    </tr>\n",
       "    <tr>\n",
       "      <th>10</th>\n",
       "      <td>0.032333</td>\n",
       "      <td>TAXWITHASSESSMENTS</td>\n",
       "    </tr>\n",
       "    <tr>\n",
       "      <th>6</th>\n",
       "      <td>0.016859</td>\n",
       "      <td>FIREPLACES</td>\n",
       "    </tr>\n",
       "    <tr>\n",
       "      <th>13</th>\n",
       "      <td>0.005787</td>\n",
       "      <td>YEARBUILT</td>\n",
       "    </tr>\n",
       "  </tbody>\n",
       "</table>\n",
       "</div>"
      ],
      "text/plain": [
       "    importance             feature\n",
       "1     0.343282           LISTPRICE\n",
       "2     0.219893   ORIGINALLISTPRICE\n",
       "12    0.090295          LIVINGAREA\n",
       "19    0.079788          BATHSTOTAL\n",
       "9     0.075346               TAXES\n",
       "8     0.067342     SQFTABOVEGROUND\n",
       "3     0.041688        PRICEPERTSFT\n",
       "10    0.032333  TAXWITHASSESSMENTS\n",
       "6     0.016859          FIREPLACES\n",
       "13    0.005787           YEARBUILT"
      ]
     },
     "execution_count": 45,
     "metadata": {},
     "output_type": "execute_result"
    }
   ],
   "source": [
    "# Convert feature importances to a pandas column\n",
    "fi_df = pd.DataFrame(rf_model.featureImportances.toArray(), columns=['importance'])\n",
    "\n",
    "# Convert list of feature names to pandas column\n",
    "fi_df['feature'] = pd.Series(features_cols)\n",
    "\n",
    "# Sort the data based on feature importance\n",
    "fi_df.sort_values(by=['importance'], ascending=False, inplace=True)\n",
    "\n",
    "# Inspect Results\n",
    "fi_df.head(10)"
   ]
  },
  {
   "cell_type": "markdown",
   "id": "d2a84761-f9ce-457e-a62e-b3dfd239dea0",
   "metadata": {},
   "source": [
    "### Saving & Loading Models"
   ]
  },
  {
   "cell_type": "code",
   "execution_count": 47,
   "id": "7d54e7ab-8c16-4feb-ac32-61a0386e7aeb",
   "metadata": {
    "execution": {
     "iopub.execute_input": "2023-05-02T22:33:42.602339Z",
     "iopub.status.busy": "2023-05-02T22:33:42.601997Z",
     "iopub.status.idle": "2023-05-02T22:33:43.023583Z",
     "shell.execute_reply": "2023-05-02T22:33:43.023118Z",
     "shell.execute_reply.started": "2023-05-02T22:33:42.602325Z"
    },
    "tags": []
   },
   "outputs": [],
   "source": [
    "from pyspark.ml.regression import RandomForestRegressionModel\n",
    "\n",
    "# Save model\n",
    "! rm -rf rfr_no_listprice/\n",
    "rf_model.save('rfr_no_listprice')\n",
    "\n",
    "# Load model\n",
    "loaded_model = RandomForestRegressionModel.load('rfr_no_listprice')"
   ]
  }
 ],
 "metadata": {
  "kernelspec": {
   "display_name": "Python 3 (ipykernel)",
   "language": "python",
   "name": "python3"
  },
  "language_info": {
   "codemirror_mode": {
    "name": "ipython",
    "version": 3
   },
   "file_extension": ".py",
   "mimetype": "text/x-python",
   "name": "python",
   "nbconvert_exporter": "python",
   "pygments_lexer": "ipython3",
   "version": "3.10.10"
  },
  "toc-autonumbering": true
 },
 "nbformat": 4,
 "nbformat_minor": 5
}
