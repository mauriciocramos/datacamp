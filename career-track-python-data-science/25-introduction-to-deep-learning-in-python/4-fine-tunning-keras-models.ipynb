{
 "cells": [
  {
   "cell_type": "markdown",
   "id": "4a958480-c3a2-44d1-a8c5-52a3b8803004",
   "metadata": {
    "tags": []
   },
   "source": [
    "# Understanding model optimization"
   ]
  },
  {
   "cell_type": "markdown",
   "id": "b3723d06-179f-464e-9a31-0c7059a6545e",
   "metadata": {},
   "source": [
    "## Why optimization is hard\n",
    "* Simultaneously optimizing 1000s of parameters with complex relationships\n",
    "* Updates may not improve model meaningfully\n",
    "* Updates too small (if learning rate is low) or too large (if learning rate is high)"
   ]
  },
  {
   "cell_type": "markdown",
   "id": "18b27008-9e65-4cb7-869a-98fd461b8838",
   "metadata": {},
   "source": [
    "## Stochastic gradient descent"
   ]
  },
  {
   "cell_type": "code",
   "execution_count": 1,
   "id": "cdc2f0b4-8868-4123-852d-bc4dafc34818",
   "metadata": {
    "execution": {
     "iopub.execute_input": "2023-01-23T23:03:03.139126Z",
     "iopub.status.busy": "2023-01-23T23:03:03.139031Z",
     "iopub.status.idle": "2023-01-23T23:03:04.217791Z",
     "shell.execute_reply": "2023-01-23T23:03:04.217501Z",
     "shell.execute_reply.started": "2023-01-23T23:03:03.139115Z"
    },
    "tags": []
   },
   "outputs": [],
   "source": [
    "import os\n",
    "os.environ['TF_CPP_MIN_LOG_LEVEL'] = '1'\n",
    "from tensorflow.keras.layers import Dense\n",
    "from tensorflow.keras.models import Sequential\n",
    "from tensorflow.keras.utils import to_categorical\n",
    "import pandas as pd\n",
    "from sklearn.model_selection import train_test_split"
   ]
  },
  {
   "cell_type": "code",
   "execution_count": 2,
   "id": "91d096b7-4ef0-4c8b-ab32-33faee69dfb1",
   "metadata": {
    "execution": {
     "iopub.execute_input": "2023-01-23T23:03:04.218750Z",
     "iopub.status.busy": "2023-01-23T23:03:04.218510Z",
     "iopub.status.idle": "2023-01-23T23:03:04.225518Z",
     "shell.execute_reply": "2023-01-23T23:03:04.225098Z",
     "shell.execute_reply.started": "2023-01-23T23:03:04.218739Z"
    },
    "tags": []
   },
   "outputs": [
    {
     "data": {
      "text/plain": [
       "((891, 10), (891, 2))"
      ]
     },
     "execution_count": 2,
     "metadata": {},
     "output_type": "execute_result"
    }
   ],
   "source": [
    "df = pd.read_csv('titanic_all_numeric.csv')\n",
    "X = df.drop(['survived'], axis=1).values.astype('float64')\n",
    "y = to_categorical(df.survived)\n",
    "X.shape, y.shape"
   ]
  },
  {
   "cell_type": "code",
   "execution_count": 3,
   "id": "25fabe68-6c09-443c-89fc-782447b36a22",
   "metadata": {
    "execution": {
     "iopub.execute_input": "2023-01-23T23:03:04.225964Z",
     "iopub.status.busy": "2023-01-23T23:03:04.225852Z",
     "iopub.status.idle": "2023-01-23T23:03:06.326343Z",
     "shell.execute_reply": "2023-01-23T23:03:06.326064Z",
     "shell.execute_reply.started": "2023-01-23T23:03:04.225953Z"
    },
    "tags": []
   },
   "outputs": [
    {
     "name": "stdout",
     "output_type": "stream",
     "text": [
      "lr=1e-06\n",
      "28/28 [==============================] - 1s 876us/step - loss: 2.9858 - accuracy: 0.3838\n",
      "lr=1e-05\n",
      "28/28 [==============================] - 0s 849us/step - loss: 3.4295 - accuracy: 0.4400\n",
      "lr=0.0001\n",
      "28/28 [==============================] - 0s 802us/step - loss: 1.8595 - accuracy: 0.3749\n",
      "lr=0.001\n",
      "28/28 [==============================] - 0s 795us/step - loss: 0.8564 - accuracy: 0.6667\n",
      "lr=0.01\n",
      "28/28 [==============================] - 0s 824us/step - loss: 1.4417 - accuracy: 0.6330\n",
      "lr=0.1\n",
      "28/28 [==============================] - 0s 766us/step - loss: 5.3964 - accuracy: 0.5960\n",
      "lr=1\n",
      "28/28 [==============================] - 0s 785us/step - loss: 117940512.0000 - accuracy: 0.5915\n"
     ]
    }
   ],
   "source": [
    "from tensorflow.keras.optimizers import SGD\n",
    "def get_new_model(input_shape):\n",
    "    model = Sequential()\n",
    "    model.add(Dense(100, activation='relu', input_shape = input_shape))\n",
    "    model.add(Dense(100, activation='relu'))\n",
    "    model.add(Dense(2, activation='softmax'))\n",
    "    return(model)\n",
    "\n",
    "learning_rates = [0.000001, 0.00001, 0.0001, 0.001, 0.01, 0.1, 1]\n",
    "\n",
    "# Loop over learning rates\n",
    "for lr in learning_rates:\n",
    "    model = get_new_model((X.shape[1],))\n",
    "    my_optimizer = SGD(learning_rate=lr)\n",
    "    model.compile(optimizer = my_optimizer, loss = 'categorical_crossentropy', metrics=['accuracy'])\n",
    "    print(f'{lr=}')\n",
    "    model.fit(X, y)"
   ]
  },
  {
   "cell_type": "markdown",
   "id": "0f2466f4-c841-4ebc-ad06-a5206b1ab608",
   "metadata": {},
   "source": [
    "## The dying neuron problem\n",
    "\n",
    "This problem occurs when a neuron takes a value less than 0 for all rows of your data.\n",
    "\n",
    "Recall that, with the ReLU activation function, any node with a negative input value produces an output of 0, and it also has a slope of 0 as you see in this graph.\n",
    "\n",
    "Because the slope is 0, the slope of any weights flowing into that node are also 0. So those weights don't get updated.\n",
    "\n",
    "In other words, once the node starts always getting negative inputs, it may continue only getting negative inputs.\n",
    "\n",
    "It's contributing nothing to the model at this point, and hence the claim that the node or neuron is \"dead\".\n",
    "\n",
    "At first, this might suggest using an activation function whose slope is never exactly zero. However, those types of functions were used for many years."
   ]
  },
  {
   "cell_type": "markdown",
   "id": "fe0218fc-c461-4284-a40c-eaf70637ef6a",
   "metadata": {},
   "source": [
    "## Vanishing gradients\n",
    "* Occurs when many layers have very small slopes (e.g. due to being on flat part of tanh curve)\n",
    "* In deep networks, updates to backprop were close to 0"
   ]
  },
  {
   "cell_type": "code",
   "execution_count": 4,
   "id": "2f7b2d8d-c780-4e86-886a-ed39b1a53673",
   "metadata": {
    "execution": {
     "iopub.execute_input": "2023-01-23T23:03:06.326867Z",
     "iopub.status.busy": "2023-01-23T23:03:06.326763Z",
     "iopub.status.idle": "2023-01-23T23:03:06.575057Z",
     "shell.execute_reply": "2023-01-23T23:03:06.574728Z",
     "shell.execute_reply.started": "2023-01-23T23:03:06.326857Z"
    },
    "tags": []
   },
   "outputs": [
    {
     "data": {
      "image/png": "[encoded data removed]",
      "text/plain": [
       "<Figure size 300x200 with 1 Axes>"
      ]
     },
     "metadata": {},
     "output_type": "display_data"
    }
   ],
   "source": [
    "import matplotlib.pyplot as plt\n",
    "import numpy as np\n",
    "plt.style.use('dark_background')\n",
    "ls = np.linspace(-4, 4, 11)\n",
    "plt.figure(figsize=(3,2)); plt.plot(ls, np.tanh(ls), '.:'); plt.xlabel('tanh function'); plt.show()"
   ]
  },
  {
   "cell_type": "markdown",
   "id": "3507ee4b-13cf-41b0-a534-2dbd91a47ed2",
   "metadata": {},
   "source": [
    "For example, in an earlier video we used an s-shaped function called tanh. However, values that were outside the middle of the S were relatively flat, or had small slopes.  \n",
    "A small but non-zero slope might work in a network with only a few hidden layers. But in a deep network, one with many layers, the repeated multiplication of small slopes causes the slopes to get close to 0, which meant updates in backprop were close to 0.  \n",
    "This is called the vanishing gradient problem. This in turn might suggest using an activation function that isn't even close to flat anywhere.\n",
    "There is research in this area, including variations on ReLU. Those aren't widely used though.\n",
    "For now, it's a phenomenon worth keeping in mind if you are ever pondering why your model isn't training better. If it happens, changing the activation function may be the solution."
   ]
  },
  {
   "cell_type": "markdown",
   "id": "a664d15f-8561-4654-8972-f43936d37cf0",
   "metadata": {
    "tags": []
   },
   "source": [
    "# Model validation"
   ]
  },
  {
   "cell_type": "markdown",
   "id": "9a06f0e0-554b-4303-a703-8e5dff60194a",
   "metadata": {},
   "source": [
    "## Validation in deep learning\n",
    "* Commonly use validation split rather than cross-validation\n",
    "* Deep learning widely used on large datasets\n",
    "* Single validation score is based on large amount of data, and is reliable\n",
    "* Repeated training from cross-validation would take long time"
   ]
  },
  {
   "cell_type": "code",
   "execution_count": 5,
   "id": "9d2a9358-a530-4061-8109-ed01e37b7f59",
   "metadata": {
    "execution": {
     "iopub.execute_input": "2023-01-23T23:03:06.575693Z",
     "iopub.status.busy": "2023-01-23T23:03:06.575503Z",
     "iopub.status.idle": "2023-01-23T23:03:07.419218Z",
     "shell.execute_reply": "2023-01-23T23:03:07.418938Z",
     "shell.execute_reply.started": "2023-01-23T23:03:06.575682Z"
    },
    "tags": []
   },
   "outputs": [
    {
     "name": "stdout",
     "output_type": "stream",
     "text": [
      "Epoch 1/20\n",
      "20/20 [==============================] - 0s 5ms/step - loss: 1.3843 - accuracy: 0.6132 - val_loss: 0.8263 - val_accuracy: 0.7015\n",
      "Epoch 2/20\n",
      "20/20 [==============================] - 0s 1ms/step - loss: 0.7434 - accuracy: 0.6388 - val_loss: 0.5579 - val_accuracy: 0.7090\n",
      "Epoch 3/20\n",
      "20/20 [==============================] - 0s 1ms/step - loss: 0.7324 - accuracy: 0.6517 - val_loss: 0.5359 - val_accuracy: 0.7351\n",
      "Epoch 4/20\n",
      "20/20 [==============================] - 0s 1ms/step - loss: 0.6294 - accuracy: 0.6758 - val_loss: 0.5650 - val_accuracy: 0.6903\n",
      "Epoch 5/20\n",
      "20/20 [==============================] - 0s 1ms/step - loss: 0.6177 - accuracy: 0.6742 - val_loss: 0.5315 - val_accuracy: 0.7537\n",
      "Epoch 6/20\n",
      "20/20 [==============================] - 0s 1ms/step - loss: 0.6575 - accuracy: 0.6790 - val_loss: 0.5767 - val_accuracy: 0.6754\n",
      "Epoch 7/20\n",
      "20/20 [==============================] - 0s 2ms/step - loss: 0.5830 - accuracy: 0.6790 - val_loss: 0.5733 - val_accuracy: 0.6791\n",
      "Epoch 8/20\n",
      "20/20 [==============================] - 0s 1ms/step - loss: 0.5943 - accuracy: 0.7095 - val_loss: 0.5272 - val_accuracy: 0.7313\n",
      "Epoch 9/20\n",
      "20/20 [==============================] - 0s 2ms/step - loss: 0.5911 - accuracy: 0.7030 - val_loss: 0.4822 - val_accuracy: 0.7500\n",
      "Epoch 10/20\n",
      "20/20 [==============================] - 0s 1ms/step - loss: 0.5539 - accuracy: 0.7271 - val_loss: 0.4805 - val_accuracy: 0.7537\n",
      "Epoch 11/20\n",
      "20/20 [==============================] - 0s 1ms/step - loss: 0.5716 - accuracy: 0.7014 - val_loss: 0.5758 - val_accuracy: 0.7649\n",
      "Epoch 12/20\n",
      "20/20 [==============================] - 0s 1ms/step - loss: 0.5817 - accuracy: 0.7271 - val_loss: 0.5051 - val_accuracy: 0.7090\n",
      "Epoch 13/20\n",
      "20/20 [==============================] - 0s 2ms/step - loss: 0.5532 - accuracy: 0.7335 - val_loss: 0.4867 - val_accuracy: 0.7799\n",
      "Epoch 14/20\n",
      "20/20 [==============================] - 0s 2ms/step - loss: 0.5480 - accuracy: 0.7400 - val_loss: 0.6080 - val_accuracy: 0.7015\n",
      "Epoch 15/20\n",
      "20/20 [==============================] - 0s 2ms/step - loss: 0.5228 - accuracy: 0.7721 - val_loss: 0.4618 - val_accuracy: 0.7985\n",
      "Epoch 16/20\n",
      "20/20 [==============================] - 0s 2ms/step - loss: 0.5080 - accuracy: 0.7689 - val_loss: 0.4506 - val_accuracy: 0.7873\n",
      "Epoch 17/20\n",
      "20/20 [==============================] - 0s 1ms/step - loss: 0.5073 - accuracy: 0.7657 - val_loss: 0.5689 - val_accuracy: 0.7537\n",
      "Epoch 18/20\n",
      "20/20 [==============================] - 0s 2ms/step - loss: 0.5102 - accuracy: 0.7753 - val_loss: 0.4420 - val_accuracy: 0.7761\n",
      "Epoch 19/20\n",
      "20/20 [==============================] - 0s 2ms/step - loss: 0.5455 - accuracy: 0.7255 - val_loss: 0.4313 - val_accuracy: 0.7799\n",
      "Epoch 20/20\n",
      "20/20 [==============================] - 0s 2ms/step - loss: 0.5323 - accuracy: 0.7528 - val_loss: 0.4768 - val_accuracy: 0.7873\n"
     ]
    },
    {
     "data": {
      "text/plain": [
       "<keras.callbacks.History at 0x7fd050bb6040>"
      ]
     },
     "execution_count": 5,
     "metadata": {},
     "output_type": "execute_result"
    }
   ],
   "source": [
    "model = get_new_model((X.shape[1],))\n",
    "model.compile(optimizer='adam', loss='categorical_crossentropy', metrics=['accuracy'])\n",
    "model.fit(X, y, validation_split=0.3, epochs=20)"
   ]
  },
  {
   "cell_type": "markdown",
   "id": "3411341a-2d4a-41a3-a06d-aae84611bf33",
   "metadata": {},
   "source": [
    "## Early Stopping"
   ]
  },
  {
   "cell_type": "code",
   "execution_count": 6,
   "id": "cf959925-157f-4741-8346-66c9bf34fd58",
   "metadata": {
    "execution": {
     "iopub.execute_input": "2023-01-23T23:03:07.419846Z",
     "iopub.status.busy": "2023-01-23T23:03:07.419601Z",
     "iopub.status.idle": "2023-01-23T23:03:07.768009Z",
     "shell.execute_reply": "2023-01-23T23:03:07.767730Z",
     "shell.execute_reply.started": "2023-01-23T23:03:07.419836Z"
    },
    "tags": []
   },
   "outputs": [
    {
     "name": "stdout",
     "output_type": "stream",
     "text": [
      "Epoch 1/20\n",
      "20/20 [==============================] - 0s 4ms/step - loss: 0.9528 - accuracy: 0.6019 - val_loss: 0.6296 - val_accuracy: 0.6642\n",
      "Epoch 2/20\n",
      "20/20 [==============================] - 0s 1ms/step - loss: 0.6794 - accuracy: 0.6629 - val_loss: 0.5344 - val_accuracy: 0.7761\n",
      "Epoch 3/20\n",
      "20/20 [==============================] - 0s 1ms/step - loss: 0.6056 - accuracy: 0.6934 - val_loss: 0.5387 - val_accuracy: 0.7239\n",
      "Epoch 4/20\n",
      "20/20 [==============================] - 0s 2ms/step - loss: 0.6238 - accuracy: 0.6726 - val_loss: 0.5509 - val_accuracy: 0.7761\n"
     ]
    },
    {
     "data": {
      "text/plain": [
       "<keras.callbacks.History at 0x7fd004c7fc10>"
      ]
     },
     "execution_count": 6,
     "metadata": {},
     "output_type": "execute_result"
    }
   ],
   "source": [
    "from tensorflow.keras.callbacks import EarlyStopping\n",
    "\n",
    "model = get_new_model((X.shape[1],))\n",
    "model.compile(optimizer='adam', loss='categorical_crossentropy', metrics=['accuracy'])\n",
    "\n",
    "# patience: how many epochs the model can go without improving before we stop training\n",
    "# 2 or 3 are reasonable values for patience\n",
    "early_stopping_monitor = EarlyStopping(patience=2)\n",
    "\n",
    "# by default Keras trains for 10 epochs\n",
    "model.fit(X, y, validation_split=0.3, epochs=20,\n",
    "          callbacks = [early_stopping_monitor])"
   ]
  },
  {
   "cell_type": "markdown",
   "id": "93a0d566-7016-4a2c-8eb0-070580b98341",
   "metadata": {},
   "source": [
    "## Experimentation\n",
    "* Experiment with different architectures\n",
    "* More layers\n",
    "* Fewer layers\n",
    "* Layers with more nodes\n",
    "* Layers with fewer nodes\n",
    "* Creating a great model requires experimentation"
   ]
  },
  {
   "cell_type": "markdown",
   "id": "d033a281-1604-4da4-83a8-f3bb12b23f0a",
   "metadata": {},
   "source": [
    "## Evaluating model accuracy on validation dataset"
   ]
  },
  {
   "cell_type": "code",
   "execution_count": 7,
   "id": "038a51b2-655d-4683-9dda-e3777daf7c9c",
   "metadata": {
    "execution": {
     "iopub.execute_input": "2023-01-23T23:03:07.769042Z",
     "iopub.status.busy": "2023-01-23T23:03:07.768807Z",
     "iopub.status.idle": "2023-01-23T23:03:08.036203Z",
     "shell.execute_reply": "2023-01-23T23:03:08.035925Z",
     "shell.execute_reply.started": "2023-01-23T23:03:07.769031Z"
    },
    "tags": []
   },
   "outputs": [
    {
     "name": "stdout",
     "output_type": "stream",
     "text": [
      "20/20 [==============================] - 0s 4ms/step - loss: 1.3252 - accuracy: 0.5891 - val_loss: 0.8122 - val_accuracy: 0.7313\n"
     ]
    }
   ],
   "source": [
    "# Specify the model\n",
    "model = Sequential()\n",
    "model.add(Dense(100, activation='relu', input_shape = (X.shape[1], )))\n",
    "model.add(Dense(100, activation='relu'))\n",
    "model.add(Dense(2, activation='softmax'))\n",
    "\n",
    "# Compile the model\n",
    "model.compile(optimizer='adam', loss='categorical_crossentropy', metrics=['accuracy'])\n",
    "\n",
    "# Fit the model\n",
    "hist = model.fit(X, y, validation_split=0.3)"
   ]
  },
  {
   "cell_type": "markdown",
   "id": "34f2f8b6-5820-449a-92ed-202b3791d390",
   "metadata": {},
   "source": [
    "## Early stopping: Optimizing the optimization"
   ]
  },
  {
   "cell_type": "code",
   "execution_count": 8,
   "id": "f182d07c-031d-4968-be61-4c631573a842",
   "metadata": {
    "execution": {
     "iopub.execute_input": "2023-01-23T23:03:08.036875Z",
     "iopub.status.busy": "2023-01-23T23:03:08.036660Z",
     "iopub.status.idle": "2023-01-23T23:03:08.421014Z",
     "shell.execute_reply": "2023-01-23T23:03:08.420700Z",
     "shell.execute_reply.started": "2023-01-23T23:03:08.036864Z"
    },
    "tags": []
   },
   "outputs": [
    {
     "name": "stdout",
     "output_type": "stream",
     "text": [
      "Epoch 1/30\n",
      "20/20 [==============================] - 0s 4ms/step - loss: 1.2886 - accuracy: 0.5811 - val_loss: 0.5467 - val_accuracy: 0.7388\n",
      "Epoch 2/30\n",
      "20/20 [==============================] - 0s 2ms/step - loss: 0.7972 - accuracy: 0.6083 - val_loss: 0.6013 - val_accuracy: 0.6978\n",
      "Epoch 3/30\n",
      "20/20 [==============================] - 0s 1ms/step - loss: 0.6609 - accuracy: 0.6645 - val_loss: 0.5122 - val_accuracy: 0.7351\n",
      "Epoch 4/30\n",
      "20/20 [==============================] - 0s 2ms/step - loss: 0.6052 - accuracy: 0.6645 - val_loss: 0.5173 - val_accuracy: 0.7388\n",
      "Epoch 5/30\n",
      "20/20 [==============================] - 0s 2ms/step - loss: 0.5828 - accuracy: 0.6870 - val_loss: 0.5783 - val_accuracy: 0.7388\n"
     ]
    },
    {
     "data": {
      "text/plain": [
       "<keras.callbacks.History at 0x7fd00449ef70>"
      ]
     },
     "execution_count": 8,
     "metadata": {},
     "output_type": "execute_result"
    }
   ],
   "source": [
    "# Import EarlyStopping\n",
    "from tensorflow.keras.callbacks import EarlyStopping\n",
    "\n",
    "# Specify the model\n",
    "model = Sequential()\n",
    "model.add(Dense(100, activation='relu', input_shape = (X.shape[1], )))\n",
    "model.add(Dense(100, activation='relu'))\n",
    "model.add(Dense(2, activation='softmax'))\n",
    "\n",
    "# Compile the model\n",
    "model.compile(optimizer='adam', loss='categorical_crossentropy', metrics=['accuracy'])\n",
    "\n",
    "# Define early_stopping_monitor\n",
    "early_stopping_monitor = EarlyStopping(patience=2)\n",
    "\n",
    "# Fit the model\n",
    "model.fit(X, y , epochs=30, validation_split=0.3, callbacks=[early_stopping_monitor])"
   ]
  },
  {
   "cell_type": "markdown",
   "id": "48f67da5-1938-4857-8d2b-6e4a4a0c4910",
   "metadata": {},
   "source": [
    "## Experimenting with wider networks"
   ]
  },
  {
   "cell_type": "code",
   "execution_count": 9,
   "id": "34992b57-ccbf-4074-83d1-f2710184a8d5",
   "metadata": {
    "execution": {
     "iopub.execute_input": "2023-01-23T23:03:08.421563Z",
     "iopub.status.busy": "2023-01-23T23:03:08.421421Z",
     "iopub.status.idle": "2023-01-23T23:03:08.441154Z",
     "shell.execute_reply": "2023-01-23T23:03:08.440874Z",
     "shell.execute_reply.started": "2023-01-23T23:03:08.421553Z"
    },
    "tags": []
   },
   "outputs": [
    {
     "name": "stdout",
     "output_type": "stream",
     "text": [
      "Model: \"sequential_11\"\n",
      "_________________________________________________________________\n",
      " Layer (type)                Output Shape              Param #   \n",
      "=================================================================\n",
      " dense_33 (Dense)            (None, 10)                110       \n",
      "                                                                 \n",
      " dense_34 (Dense)            (None, 10)                110       \n",
      "                                                                 \n",
      " dense_35 (Dense)            (None, 2)                 22        \n",
      "                                                                 \n",
      "=================================================================\n",
      "Total params: 242\n",
      "Trainable params: 242\n",
      "Non-trainable params: 0\n",
      "_________________________________________________________________\n"
     ]
    }
   ],
   "source": [
    "# Define early_stopping_monitor\n",
    "early_stopping_monitor = EarlyStopping(patience=2)\n",
    "# Create the new model: model_2\n",
    "model_1 = Sequential()\n",
    "# Add the first and second layers\n",
    "model_1.add(Dense(10, activation='relu', input_shape=(X.shape[1], )))\n",
    "model_1.add(Dense(10, activation='relu', input_shape=(X.shape[1], )))\n",
    "# Add the output layer\n",
    "model_1.add(Dense(2, activation='softmax'))\n",
    "# Compile model_2\n",
    "model_1.compile(optimizer='adam', loss='categorical_crossentropy', metrics=['accuracy'])\n",
    "model_1.summary()"
   ]
  },
  {
   "cell_type": "code",
   "execution_count": 10,
   "id": "474c35e6-b5c7-4fc3-b6b4-ffe208fdf466",
   "metadata": {
    "execution": {
     "iopub.execute_input": "2023-01-23T23:03:08.441814Z",
     "iopub.status.busy": "2023-01-23T23:03:08.441586Z",
     "iopub.status.idle": "2023-01-23T23:03:08.459298Z",
     "shell.execute_reply": "2023-01-23T23:03:08.459010Z",
     "shell.execute_reply.started": "2023-01-23T23:03:08.441803Z"
    },
    "tags": []
   },
   "outputs": [
    {
     "name": "stdout",
     "output_type": "stream",
     "text": [
      "Model: \"sequential_12\"\n",
      "_________________________________________________________________\n",
      " Layer (type)                Output Shape              Param #   \n",
      "=================================================================\n",
      " dense_36 (Dense)            (None, 100)               1100      \n",
      "                                                                 \n",
      " dense_37 (Dense)            (None, 100)               10100     \n",
      "                                                                 \n",
      " dense_38 (Dense)            (None, 2)                 202       \n",
      "                                                                 \n",
      "=================================================================\n",
      "Total params: 11,402\n",
      "Trainable params: 11,402\n",
      "Non-trainable params: 0\n",
      "_________________________________________________________________\n"
     ]
    }
   ],
   "source": [
    "# Create the new model: model_2\n",
    "model_2 = Sequential()\n",
    "# Add the first and second layers\n",
    "model_2.add(Dense(100, activation='relu', input_shape=(X.shape[1], )))\n",
    "model_2.add(Dense(100, activation='relu', input_shape=(X.shape[1], )))\n",
    "# Add the output layer\n",
    "model_2.add(Dense(2, activation='softmax'))\n",
    "# Compile model_2\n",
    "model_2.compile(optimizer='adam', loss='categorical_crossentropy', metrics=['accuracy'])\n",
    "model_2.summary()"
   ]
  },
  {
   "cell_type": "code",
   "execution_count": 24,
   "id": "0efcfae4-3ee0-40a1-95d9-c3e17b18f91c",
   "metadata": {
    "execution": {
     "iopub.execute_input": "2023-01-23T23:05:48.545130Z",
     "iopub.status.busy": "2023-01-23T23:05:48.544859Z",
     "iopub.status.idle": "2023-01-23T23:05:48.897817Z",
     "shell.execute_reply": "2023-01-23T23:05:48.897349Z",
     "shell.execute_reply.started": "2023-01-23T23:05:48.545111Z"
    },
    "tags": []
   },
   "outputs": [
    {
     "data": {
      "image/png": "[encoded data removed]",
      "text/plain": [
       "<Figure size 640x480 with 1 Axes>"
      ]
     },
     "metadata": {},
     "output_type": "display_data"
    }
   ],
   "source": [
    "# Fit model_1\n",
    "model_1_training = model_1.fit(X, y, epochs=15, validation_split=0.2, callbacks=[early_stopping_monitor], verbose=False)\n",
    "# Fit model_2\n",
    "model_2_training = model_2.fit(X, y, epochs=15, validation_split=0.2, callbacks=[early_stopping_monitor], verbose=False)\n",
    "# Create the plot\n",
    "plt.plot(model_1_training.history['val_loss'], label='10 nodes')\n",
    "plt.plot(model_2_training.history['val_loss'], label='100 nodes')\n",
    "plt.xlabel('Epochs')\n",
    "plt.ylabel('Validation loss')\n",
    "plt.legend()\n",
    "plt.show()"
   ]
  },
  {
   "cell_type": "markdown",
   "id": "133e322f-4c52-461a-a42e-c9c001ca6baa",
   "metadata": {},
   "source": [
    "## Adding layers to a network"
   ]
  },
  {
   "cell_type": "code",
   "execution_count": 25,
   "id": "fa305fb1-3253-4030-9349-ec3c386b1b1e",
   "metadata": {
    "execution": {
     "iopub.execute_input": "2023-01-23T23:08:22.724155Z",
     "iopub.status.busy": "2023-01-23T23:08:22.724016Z",
     "iopub.status.idle": "2023-01-23T23:08:22.753091Z",
     "shell.execute_reply": "2023-01-23T23:08:22.752821Z",
     "shell.execute_reply.started": "2023-01-23T23:08:22.724144Z"
    },
    "tags": []
   },
   "outputs": [
    {
     "name": "stdout",
     "output_type": "stream",
     "text": [
      "Model: \"sequential_13\"\n",
      "_________________________________________________________________\n",
      " Layer (type)                Output Shape              Param #   \n",
      "=================================================================\n",
      " dense_39 (Dense)            (None, 10)                110       \n",
      "                                                                 \n",
      " dense_40 (Dense)            (None, 2)                 22        \n",
      "                                                                 \n",
      "=================================================================\n",
      "Total params: 132\n",
      "Trainable params: 132\n",
      "Non-trainable params: 0\n",
      "_________________________________________________________________\n"
     ]
    }
   ],
   "source": [
    "model_1 = Sequential()\n",
    "model_1.add(Dense(10, activation='relu', input_shape=(X.shape[1], )))\n",
    "model_1.add(Dense(2, activation='softmax'))\n",
    "model_1.compile(optimizer='adam', loss='categorical_crossentropy', metrics=['accuracy'])\n",
    "model_1.summary()"
   ]
  },
  {
   "cell_type": "code",
   "execution_count": 26,
   "id": "e456fc30-0a88-477d-87f7-2255dc916d89",
   "metadata": {
    "execution": {
     "iopub.execute_input": "2023-01-23T23:08:23.361072Z",
     "iopub.status.busy": "2023-01-23T23:08:23.360933Z",
     "iopub.status.idle": "2023-01-23T23:08:23.384215Z",
     "shell.execute_reply": "2023-01-23T23:08:23.383920Z",
     "shell.execute_reply.started": "2023-01-23T23:08:23.361061Z"
    },
    "tags": []
   },
   "outputs": [
    {
     "name": "stdout",
     "output_type": "stream",
     "text": [
      "Model: \"sequential_14\"\n",
      "_________________________________________________________________\n",
      " Layer (type)                Output Shape              Param #   \n",
      "=================================================================\n",
      " dense_41 (Dense)            (None, 10)                110       \n",
      "                                                                 \n",
      " dense_42 (Dense)            (None, 10)                110       \n",
      "                                                                 \n",
      " dense_43 (Dense)            (None, 10)                110       \n",
      "                                                                 \n",
      " dense_44 (Dense)            (None, 2)                 22        \n",
      "                                                                 \n",
      "=================================================================\n",
      "Total params: 352\n",
      "Trainable params: 352\n",
      "Non-trainable params: 0\n",
      "_________________________________________________________________\n"
     ]
    }
   ],
   "source": [
    "model_2 = Sequential()\n",
    "model_2.add(Dense(10, activation='relu', input_shape=(X.shape[1], )))\n",
    "model_2.add(Dense(10, activation='relu', input_shape=(X.shape[1], )))\n",
    "model_2.add(Dense(10, activation='relu', input_shape=(X.shape[1], )))\n",
    "model_2.add(Dense(2, activation='softmax'))\n",
    "\n",
    "model_2.compile(optimizer='adam', loss='categorical_crossentropy', metrics=['accuracy'])\n",
    "model_2.summary()"
   ]
  },
  {
   "cell_type": "code",
   "execution_count": 27,
   "id": "84ddbcd7-7f9c-4e11-ac5b-d485f43b8c28",
   "metadata": {
    "execution": {
     "iopub.execute_input": "2023-01-23T23:08:24.145367Z",
     "iopub.status.busy": "2023-01-23T23:08:24.145228Z",
     "iopub.status.idle": "2023-01-23T23:08:25.433590Z",
     "shell.execute_reply": "2023-01-23T23:08:25.433155Z",
     "shell.execute_reply.started": "2023-01-23T23:08:24.145356Z"
    },
    "tags": []
   },
   "outputs": [
    {
     "data": {
      "image/png": "[encoded data removed]",
      "text/plain": [
       "<Figure size 640x480 with 1 Axes>"
      ]
     },
     "metadata": {},
     "output_type": "display_data"
    }
   ],
   "source": [
    "model_1_training = model_1.fit(X, y, epochs=15, validation_split=0.4, verbose=False)\n",
    "model_2_training = model_2.fit(X, y, epochs=15, validation_split=0.4, verbose=False)\n",
    "\n",
    "# Create the plot\n",
    "plt.plot(model_1_training.history['val_loss'], label='1 layer')\n",
    "plt.plot(model_2_training.history['val_loss'], label='3 layers')\n",
    "plt.xlabel('Epochs')\n",
    "plt.ylabel('Validation loss')\n",
    "plt.legend()\n",
    "plt.show()"
   ]
  },
  {
   "cell_type": "markdown",
   "id": "78e7ee98-cedc-4c84-8b2d-e4bf5e6cf088",
   "metadata": {},
   "source": [
    "# Thinking about model capacity"
   ]
  },
  {
   "cell_type": "markdown",
   "id": "aee6d640-00eb-49bd-9764-afb21be55b66",
   "metadata": {},
   "source": [
    "* Model capacity is a model's ability to capture predictive patterns in your data.\n",
    "* The more capacity a model, the lower the bias and the higher the variance.\n",
    "* If you had a network, and you increased the number of nodes or neurons in a hidden layer, that would increase model capacity.\n",
    "* And if you add layers, that increases capacity.\n",
    "* Said another way, making larger layers or increasing the number of layers will lower the bias and increase the variance."
   ]
  },
  {
   "cell_type": "markdown",
   "id": "688cc46d-138b-4cbc-b50e-e0bc7e7877b9",
   "metadata": {},
   "source": [
    "## Workflow for optimizing model capacity\n",
    "* Start with a small network\n",
    "* Gradually increase capacity\n",
    "* Keep increasing capacity until validation score is no longer improving\n",
    "* Once it stops improving, you can decrease capacity slighty, but you are probably near the ideal."
   ]
  },
  {
   "cell_type": "markdown",
   "id": "706365d2-011b-4cdd-bcfb-4a6688b6cd98",
   "metadata": {},
   "source": [
    "# Stepping up to images"
   ]
  },
  {
   "cell_type": "markdown",
   "id": "72b55c3f-d7cc-44a3-8eff-3049d1dcdaca",
   "metadata": {},
   "source": [
    "## Recognizing handwritten digits\n",
    "MNIST dataset\n",
    "* 28 x 28 grid  flattened to 784 values for each image\n",
    "* Value in each part of array denotes darkness of that pixel"
   ]
  },
  {
   "cell_type": "code",
   "execution_count": 28,
   "id": "0e8c8382-2924-45d3-9b9a-3284c70aaaed",
   "metadata": {
    "execution": {
     "iopub.execute_input": "2023-01-23T23:28:11.984939Z",
     "iopub.status.busy": "2023-01-23T23:28:11.984798Z",
     "iopub.status.idle": "2023-01-23T23:28:12.062216Z",
     "shell.execute_reply": "2023-01-23T23:28:12.061899Z",
     "shell.execute_reply.started": "2023-01-23T23:28:11.984928Z"
    },
    "tags": []
   },
   "outputs": [
    {
     "data": {
      "text/html": [
       "<div>\n",
       "<style scoped>\n",
       "    .dataframe tbody tr th:only-of-type {\n",
       "        vertical-align: middle;\n",
       "    }\n",
       "\n",
       "    .dataframe tbody tr th {\n",
       "        vertical-align: top;\n",
       "    }\n",
       "\n",
       "    .dataframe thead th {\n",
       "        text-align: right;\n",
       "    }\n",
       "</style>\n",
       "<table border=\"1\" class=\"dataframe\">\n",
       "  <thead>\n",
       "    <tr style=\"text-align: right;\">\n",
       "      <th></th>\n",
       "      <th>0</th>\n",
       "      <th>1</th>\n",
       "      <th>2</th>\n",
       "      <th>3</th>\n",
       "      <th>4</th>\n",
       "      <th>5</th>\n",
       "      <th>6</th>\n",
       "      <th>7</th>\n",
       "      <th>8</th>\n",
       "      <th>9</th>\n",
       "      <th>...</th>\n",
       "      <th>775</th>\n",
       "      <th>776</th>\n",
       "      <th>777</th>\n",
       "      <th>778</th>\n",
       "      <th>779</th>\n",
       "      <th>780</th>\n",
       "      <th>781</th>\n",
       "      <th>782</th>\n",
       "      <th>783</th>\n",
       "      <th>784</th>\n",
       "    </tr>\n",
       "  </thead>\n",
       "  <tbody>\n",
       "    <tr>\n",
       "      <th>0</th>\n",
       "      <td>5</td>\n",
       "      <td>0</td>\n",
       "      <td>0.1</td>\n",
       "      <td>0.2</td>\n",
       "      <td>0.3</td>\n",
       "      <td>0.4</td>\n",
       "      <td>0.5</td>\n",
       "      <td>0.6</td>\n",
       "      <td>0.7</td>\n",
       "      <td>0.8</td>\n",
       "      <td>...</td>\n",
       "      <td>0.608</td>\n",
       "      <td>0.609</td>\n",
       "      <td>0.61</td>\n",
       "      <td>0.611</td>\n",
       "      <td>0.612</td>\n",
       "      <td>0.613</td>\n",
       "      <td>0.614</td>\n",
       "      <td>0.615</td>\n",
       "      <td>0.616</td>\n",
       "      <td>0.617</td>\n",
       "    </tr>\n",
       "    <tr>\n",
       "      <th>1</th>\n",
       "      <td>4</td>\n",
       "      <td>0</td>\n",
       "      <td>0.0</td>\n",
       "      <td>0.0</td>\n",
       "      <td>0.0</td>\n",
       "      <td>0.0</td>\n",
       "      <td>0.0</td>\n",
       "      <td>0.0</td>\n",
       "      <td>0.0</td>\n",
       "      <td>0.0</td>\n",
       "      <td>...</td>\n",
       "      <td>0.000</td>\n",
       "      <td>0.000</td>\n",
       "      <td>0.00</td>\n",
       "      <td>0.000</td>\n",
       "      <td>0.000</td>\n",
       "      <td>0.000</td>\n",
       "      <td>0.000</td>\n",
       "      <td>0.000</td>\n",
       "      <td>0.000</td>\n",
       "      <td>0.000</td>\n",
       "    </tr>\n",
       "    <tr>\n",
       "      <th>2</th>\n",
       "      <td>3</td>\n",
       "      <td>0</td>\n",
       "      <td>0.0</td>\n",
       "      <td>0.0</td>\n",
       "      <td>0.0</td>\n",
       "      <td>0.0</td>\n",
       "      <td>0.0</td>\n",
       "      <td>0.0</td>\n",
       "      <td>0.0</td>\n",
       "      <td>0.0</td>\n",
       "      <td>...</td>\n",
       "      <td>0.000</td>\n",
       "      <td>0.000</td>\n",
       "      <td>0.00</td>\n",
       "      <td>0.000</td>\n",
       "      <td>0.000</td>\n",
       "      <td>0.000</td>\n",
       "      <td>0.000</td>\n",
       "      <td>0.000</td>\n",
       "      <td>0.000</td>\n",
       "      <td>0.000</td>\n",
       "    </tr>\n",
       "    <tr>\n",
       "      <th>3</th>\n",
       "      <td>0</td>\n",
       "      <td>0</td>\n",
       "      <td>0.0</td>\n",
       "      <td>0.0</td>\n",
       "      <td>0.0</td>\n",
       "      <td>0.0</td>\n",
       "      <td>0.0</td>\n",
       "      <td>0.0</td>\n",
       "      <td>0.0</td>\n",
       "      <td>0.0</td>\n",
       "      <td>...</td>\n",
       "      <td>0.000</td>\n",
       "      <td>0.000</td>\n",
       "      <td>0.00</td>\n",
       "      <td>0.000</td>\n",
       "      <td>0.000</td>\n",
       "      <td>0.000</td>\n",
       "      <td>0.000</td>\n",
       "      <td>0.000</td>\n",
       "      <td>0.000</td>\n",
       "      <td>0.000</td>\n",
       "    </tr>\n",
       "    <tr>\n",
       "      <th>4</th>\n",
       "      <td>2</td>\n",
       "      <td>0</td>\n",
       "      <td>0.0</td>\n",
       "      <td>0.0</td>\n",
       "      <td>0.0</td>\n",
       "      <td>0.0</td>\n",
       "      <td>0.0</td>\n",
       "      <td>0.0</td>\n",
       "      <td>0.0</td>\n",
       "      <td>0.0</td>\n",
       "      <td>...</td>\n",
       "      <td>0.000</td>\n",
       "      <td>0.000</td>\n",
       "      <td>0.00</td>\n",
       "      <td>0.000</td>\n",
       "      <td>0.000</td>\n",
       "      <td>0.000</td>\n",
       "      <td>0.000</td>\n",
       "      <td>0.000</td>\n",
       "      <td>0.000</td>\n",
       "      <td>0.000</td>\n",
       "    </tr>\n",
       "    <tr>\n",
       "      <th>...</th>\n",
       "      <td>...</td>\n",
       "      <td>...</td>\n",
       "      <td>...</td>\n",
       "      <td>...</td>\n",
       "      <td>...</td>\n",
       "      <td>...</td>\n",
       "      <td>...</td>\n",
       "      <td>...</td>\n",
       "      <td>...</td>\n",
       "      <td>...</td>\n",
       "      <td>...</td>\n",
       "      <td>...</td>\n",
       "      <td>...</td>\n",
       "      <td>...</td>\n",
       "      <td>...</td>\n",
       "      <td>...</td>\n",
       "      <td>...</td>\n",
       "      <td>...</td>\n",
       "      <td>...</td>\n",
       "      <td>...</td>\n",
       "      <td>...</td>\n",
       "    </tr>\n",
       "    <tr>\n",
       "      <th>1996</th>\n",
       "      <td>2</td>\n",
       "      <td>0</td>\n",
       "      <td>0.0</td>\n",
       "      <td>0.0</td>\n",
       "      <td>0.0</td>\n",
       "      <td>0.0</td>\n",
       "      <td>0.0</td>\n",
       "      <td>0.0</td>\n",
       "      <td>0.0</td>\n",
       "      <td>0.0</td>\n",
       "      <td>...</td>\n",
       "      <td>0.000</td>\n",
       "      <td>0.000</td>\n",
       "      <td>0.00</td>\n",
       "      <td>0.000</td>\n",
       "      <td>0.000</td>\n",
       "      <td>0.000</td>\n",
       "      <td>0.000</td>\n",
       "      <td>0.000</td>\n",
       "      <td>0.000</td>\n",
       "      <td>0.000</td>\n",
       "    </tr>\n",
       "    <tr>\n",
       "      <th>1997</th>\n",
       "      <td>2</td>\n",
       "      <td>0</td>\n",
       "      <td>0.0</td>\n",
       "      <td>0.0</td>\n",
       "      <td>0.0</td>\n",
       "      <td>0.0</td>\n",
       "      <td>0.0</td>\n",
       "      <td>0.0</td>\n",
       "      <td>0.0</td>\n",
       "      <td>0.0</td>\n",
       "      <td>...</td>\n",
       "      <td>0.000</td>\n",
       "      <td>0.000</td>\n",
       "      <td>0.00</td>\n",
       "      <td>0.000</td>\n",
       "      <td>0.000</td>\n",
       "      <td>0.000</td>\n",
       "      <td>0.000</td>\n",
       "      <td>0.000</td>\n",
       "      <td>0.000</td>\n",
       "      <td>0.000</td>\n",
       "    </tr>\n",
       "    <tr>\n",
       "      <th>1998</th>\n",
       "      <td>8</td>\n",
       "      <td>0</td>\n",
       "      <td>0.0</td>\n",
       "      <td>0.0</td>\n",
       "      <td>0.0</td>\n",
       "      <td>0.0</td>\n",
       "      <td>0.0</td>\n",
       "      <td>0.0</td>\n",
       "      <td>0.0</td>\n",
       "      <td>0.0</td>\n",
       "      <td>...</td>\n",
       "      <td>0.000</td>\n",
       "      <td>0.000</td>\n",
       "      <td>0.00</td>\n",
       "      <td>0.000</td>\n",
       "      <td>0.000</td>\n",
       "      <td>0.000</td>\n",
       "      <td>0.000</td>\n",
       "      <td>0.000</td>\n",
       "      <td>0.000</td>\n",
       "      <td>0.000</td>\n",
       "    </tr>\n",
       "    <tr>\n",
       "      <th>1999</th>\n",
       "      <td>9</td>\n",
       "      <td>0</td>\n",
       "      <td>0.0</td>\n",
       "      <td>0.0</td>\n",
       "      <td>0.0</td>\n",
       "      <td>0.0</td>\n",
       "      <td>0.0</td>\n",
       "      <td>0.0</td>\n",
       "      <td>0.0</td>\n",
       "      <td>0.0</td>\n",
       "      <td>...</td>\n",
       "      <td>0.000</td>\n",
       "      <td>0.000</td>\n",
       "      <td>0.00</td>\n",
       "      <td>0.000</td>\n",
       "      <td>0.000</td>\n",
       "      <td>0.000</td>\n",
       "      <td>0.000</td>\n",
       "      <td>0.000</td>\n",
       "      <td>0.000</td>\n",
       "      <td>0.000</td>\n",
       "    </tr>\n",
       "    <tr>\n",
       "      <th>2000</th>\n",
       "      <td>9</td>\n",
       "      <td>0</td>\n",
       "      <td>0.0</td>\n",
       "      <td>0.0</td>\n",
       "      <td>0.0</td>\n",
       "      <td>0.0</td>\n",
       "      <td>0.0</td>\n",
       "      <td>0.0</td>\n",
       "      <td>0.0</td>\n",
       "      <td>0.0</td>\n",
       "      <td>...</td>\n",
       "      <td>0.000</td>\n",
       "      <td>0.000</td>\n",
       "      <td>0.00</td>\n",
       "      <td>0.000</td>\n",
       "      <td>0.000</td>\n",
       "      <td>0.000</td>\n",
       "      <td>0.000</td>\n",
       "      <td>0.000</td>\n",
       "      <td>0.000</td>\n",
       "      <td>0.000</td>\n",
       "    </tr>\n",
       "  </tbody>\n",
       "</table>\n",
       "<p>2001 rows × 785 columns</p>\n",
       "</div>"
      ],
      "text/plain": [
       "      0    1    2    3    4    5    6    7    8    9    ...    775    776  \\\n",
       "0       5    0  0.1  0.2  0.3  0.4  0.5  0.6  0.7  0.8  ...  0.608  0.609   \n",
       "1       4    0  0.0  0.0  0.0  0.0  0.0  0.0  0.0  0.0  ...  0.000  0.000   \n",
       "2       3    0  0.0  0.0  0.0  0.0  0.0  0.0  0.0  0.0  ...  0.000  0.000   \n",
       "3       0    0  0.0  0.0  0.0  0.0  0.0  0.0  0.0  0.0  ...  0.000  0.000   \n",
       "4       2    0  0.0  0.0  0.0  0.0  0.0  0.0  0.0  0.0  ...  0.000  0.000   \n",
       "...   ...  ...  ...  ...  ...  ...  ...  ...  ...  ...  ...    ...    ...   \n",
       "1996    2    0  0.0  0.0  0.0  0.0  0.0  0.0  0.0  0.0  ...  0.000  0.000   \n",
       "1997    2    0  0.0  0.0  0.0  0.0  0.0  0.0  0.0  0.0  ...  0.000  0.000   \n",
       "1998    8    0  0.0  0.0  0.0  0.0  0.0  0.0  0.0  0.0  ...  0.000  0.000   \n",
       "1999    9    0  0.0  0.0  0.0  0.0  0.0  0.0  0.0  0.0  ...  0.000  0.000   \n",
       "2000    9    0  0.0  0.0  0.0  0.0  0.0  0.0  0.0  0.0  ...  0.000  0.000   \n",
       "\n",
       "       777    778    779    780    781    782    783    784  \n",
       "0     0.61  0.611  0.612  0.613  0.614  0.615  0.616  0.617  \n",
       "1     0.00  0.000  0.000  0.000  0.000  0.000  0.000  0.000  \n",
       "2     0.00  0.000  0.000  0.000  0.000  0.000  0.000  0.000  \n",
       "3     0.00  0.000  0.000  0.000  0.000  0.000  0.000  0.000  \n",
       "4     0.00  0.000  0.000  0.000  0.000  0.000  0.000  0.000  \n",
       "...    ...    ...    ...    ...    ...    ...    ...    ...  \n",
       "1996  0.00  0.000  0.000  0.000  0.000  0.000  0.000  0.000  \n",
       "1997  0.00  0.000  0.000  0.000  0.000  0.000  0.000  0.000  \n",
       "1998  0.00  0.000  0.000  0.000  0.000  0.000  0.000  0.000  \n",
       "1999  0.00  0.000  0.000  0.000  0.000  0.000  0.000  0.000  \n",
       "2000  0.00  0.000  0.000  0.000  0.000  0.000  0.000  0.000  \n",
       "\n",
       "[2001 rows x 785 columns]"
      ]
     },
     "execution_count": 28,
     "metadata": {},
     "output_type": "execute_result"
    }
   ],
   "source": [
    "df = pd.read_csv('mnist.csv', header=None)\n",
    "df"
   ]
  },
  {
   "cell_type": "markdown",
   "id": "bf09f418-65d5-438b-a762-89a828384330",
   "metadata": {},
   "source": [
    "## Building your own digit recognition model"
   ]
  },
  {
   "cell_type": "markdown",
   "id": "e728edcb-cbd1-4a37-a47c-23560944a0ff",
   "metadata": {},
   "source": [
    "### 2001x784 samples"
   ]
  },
  {
   "cell_type": "code",
   "execution_count": 29,
   "id": "03fcd606-3079-43a9-a377-c6c4b494a9b7",
   "metadata": {
    "execution": {
     "iopub.execute_input": "2023-01-23T23:28:13.586933Z",
     "iopub.status.busy": "2023-01-23T23:28:13.586794Z",
     "iopub.status.idle": "2023-01-23T23:28:13.623424Z",
     "shell.execute_reply": "2023-01-23T23:28:13.623154Z",
     "shell.execute_reply.started": "2023-01-23T23:28:13.586922Z"
    },
    "tags": []
   },
   "outputs": [
    {
     "name": "stdout",
     "output_type": "stream",
     "text": [
      "X.shape=(2001, 784) y.shape=(2001, 10)\n",
      "Model: \"sequential_15\"\n",
      "_________________________________________________________________\n",
      " Layer (type)                Output Shape              Param #   \n",
      "=================================================================\n",
      " dense_45 (Dense)            (None, 50)                39250     \n",
      "                                                                 \n",
      " dense_46 (Dense)            (None, 50)                2550      \n",
      "                                                                 \n",
      " dense_47 (Dense)            (None, 10)                510       \n",
      "                                                                 \n",
      "=================================================================\n",
      "Total params: 42,310\n",
      "Trainable params: 42,310\n",
      "Non-trainable params: 0\n",
      "_________________________________________________________________\n"
     ]
    }
   ],
   "source": [
    "X = df.drop(columns=[0]).values\n",
    "y = to_categorical(df[0])\n",
    "print(f'{X.shape=} {y.shape=}')\n",
    "model = Sequential()\n",
    "model.add(Dense(50, activation='relu', input_shape=(X.shape[1], )))\n",
    "model.add(Dense(50, activation='relu'))\n",
    "model.add(Dense(10, activation='softmax'))\n",
    "\n",
    "model.compile(optimizer='adam', loss='categorical_crossentropy', metrics=['accuracy'])\n",
    "model.summary()"
   ]
  },
  {
   "cell_type": "code",
   "execution_count": 30,
   "id": "34008bf6-a770-47a2-be98-af9cef7b8b05",
   "metadata": {
    "execution": {
     "iopub.execute_input": "2023-01-23T23:28:21.314775Z",
     "iopub.status.busy": "2023-01-23T23:28:21.314635Z",
     "iopub.status.idle": "2023-01-23T23:28:22.081101Z",
     "shell.execute_reply": "2023-01-23T23:28:22.080756Z",
     "shell.execute_reply.started": "2023-01-23T23:28:21.314765Z"
    },
    "tags": []
   },
   "outputs": [
    {
     "name": "stdout",
     "output_type": "stream",
     "text": [
      "Epoch 1/10\n",
      "44/44 [==============================] - 0s 3ms/step - loss: 21.3067 - accuracy: 0.4157 - val_loss: 9.9328 - val_accuracy: 0.5225\n",
      "Epoch 2/10\n",
      "44/44 [==============================] - 0s 1ms/step - loss: 4.3133 - accuracy: 0.6964 - val_loss: 5.1190 - val_accuracy: 0.6439\n",
      "Epoch 3/10\n",
      "44/44 [==============================] - 0s 1ms/step - loss: 1.8701 - accuracy: 0.8271 - val_loss: 4.5672 - val_accuracy: 0.6805\n",
      "Epoch 4/10\n",
      "44/44 [==============================] - 0s 1ms/step - loss: 1.0565 - accuracy: 0.8771 - val_loss: 4.4296 - val_accuracy: 0.7155\n",
      "Epoch 5/10\n",
      "44/44 [==============================] - 0s 1ms/step - loss: 0.6019 - accuracy: 0.9107 - val_loss: 4.3147 - val_accuracy: 0.7205\n",
      "Epoch 6/10\n",
      "44/44 [==============================] - 0s 1ms/step - loss: 0.3689 - accuracy: 0.9329 - val_loss: 4.1782 - val_accuracy: 0.7304\n",
      "Epoch 7/10\n",
      "44/44 [==============================] - 0s 1ms/step - loss: 0.4387 - accuracy: 0.9343 - val_loss: 3.8361 - val_accuracy: 0.7454\n",
      "Epoch 8/10\n",
      "44/44 [==============================] - 0s 1ms/step - loss: 0.1570 - accuracy: 0.9679 - val_loss: 3.9431 - val_accuracy: 0.7571\n",
      "Epoch 9/10\n",
      "44/44 [==============================] - 0s 1ms/step - loss: 0.0538 - accuracy: 0.9843 - val_loss: 3.5983 - val_accuracy: 0.7554\n",
      "Epoch 10/10\n",
      "44/44 [==============================] - 0s 1ms/step - loss: 0.0451 - accuracy: 0.9871 - val_loss: 3.4034 - val_accuracy: 0.7837\n"
     ]
    },
    {
     "data": {
      "text/plain": [
       "<keras.callbacks.History at 0x7fcf94d57be0>"
      ]
     },
     "execution_count": 30,
     "metadata": {},
     "output_type": "execute_result"
    }
   ],
   "source": [
    "model.fit(X, y, validation_split=0.3, epochs=10)"
   ]
  },
  {
   "cell_type": "markdown",
   "id": "44048573-1804-4407-89c5-ca3d8ce84a29",
   "metadata": {},
   "source": [
    "### 60000x28x28 samples"
   ]
  },
  {
   "cell_type": "code",
   "execution_count": 32,
   "id": "55fb7765-b611-46a6-9fb1-18d07e64dda3",
   "metadata": {
    "execution": {
     "iopub.execute_input": "2023-01-23T23:28:50.155970Z",
     "iopub.status.busy": "2023-01-23T23:28:50.155758Z",
     "iopub.status.idle": "2023-01-23T23:28:50.342387Z",
     "shell.execute_reply": "2023-01-23T23:28:50.342016Z",
     "shell.execute_reply.started": "2023-01-23T23:28:50.155952Z"
    },
    "tags": []
   },
   "outputs": [
    {
     "name": "stdout",
     "output_type": "stream",
     "text": [
      "X_train.shape=(60000, 28, 28) y_train.shape=(60000, 10), X_test.shape=(10000, 28, 28) y_test.shape=(10000, 10)\n",
      "Model: \"sequential_16\"\n",
      "_________________________________________________________________\n",
      " Layer (type)                Output Shape              Param #   \n",
      "=================================================================\n",
      " flatten (Flatten)           (None, 784)               0         \n",
      "                                                                 \n",
      " dense_48 (Dense)            (None, 50)                39250     \n",
      "                                                                 \n",
      " dense_49 (Dense)            (None, 50)                2550      \n",
      "                                                                 \n",
      " dense_50 (Dense)            (None, 10)                510       \n",
      "                                                                 \n",
      "=================================================================\n",
      "Total params: 42,310\n",
      "Trainable params: 42,310\n",
      "Non-trainable params: 0\n",
      "_________________________________________________________________\n"
     ]
    }
   ],
   "source": [
    "import tensorflow as tf\n",
    "from tensorflow.keras.layers import Flatten\n",
    "mnist = tf.keras.datasets.mnist\n",
    "(X_train, y_train), (X_test, y_test) = mnist.load_data()\n",
    "y_train = to_categorical(y_train)\n",
    "y_test = to_categorical(y_test)\n",
    "# why /255? probably make image negative\n",
    "# X_train, X_test = X_train / 255.0, X_test / 255.0\n",
    "print(f'{X_train.shape=} {y_train.shape=}, {X_test.shape=} {y_test.shape=}')\n",
    "\n",
    "model = Sequential()\n",
    "model.add(Flatten(input_shape=X_train.shape[1:]))\n",
    "model.add(Dense(50, activation='relu'))\n",
    "model.add(Dense(50, activation='relu'))\n",
    "model.add(Dense(10, activation='softmax'))\n",
    "\n",
    "model.compile(optimizer='adam', loss='categorical_crossentropy', metrics=['accuracy'])\n",
    "model.summary()"
   ]
  },
  {
   "cell_type": "code",
   "execution_count": 33,
   "id": "361aa5bd-7006-44b9-a087-b3bd8944d8a4",
   "metadata": {
    "execution": {
     "iopub.execute_input": "2023-01-23T23:28:51.082789Z",
     "iopub.status.busy": "2023-01-23T23:28:51.082577Z",
     "iopub.status.idle": "2023-01-23T23:29:04.042916Z",
     "shell.execute_reply": "2023-01-23T23:29:04.042564Z",
     "shell.execute_reply.started": "2023-01-23T23:28:51.082771Z"
    },
    "tags": []
   },
   "outputs": [
    {
     "name": "stdout",
     "output_type": "stream",
     "text": [
      "Epoch 1/10\n",
      "1313/1313 [==============================] - 1s 1ms/step - loss: 1.9405 - accuracy: 0.8031 - val_loss: 0.5555 - val_accuracy: 0.8745\n",
      "Epoch 2/10\n",
      "1313/1313 [==============================] - 1s 962us/step - loss: 0.4341 - accuracy: 0.8942 - val_loss: 0.3865 - val_accuracy: 0.9073\n",
      "Epoch 3/10\n",
      "1313/1313 [==============================] - 1s 981us/step - loss: 0.3252 - accuracy: 0.9165 - val_loss: 0.3669 - val_accuracy: 0.9152\n",
      "Epoch 4/10\n",
      "1313/1313 [==============================] - 1s 954us/step - loss: 0.2823 - accuracy: 0.9263 - val_loss: 0.3461 - val_accuracy: 0.9198\n",
      "Epoch 5/10\n",
      "1313/1313 [==============================] - 1s 975us/step - loss: 0.2500 - accuracy: 0.9344 - val_loss: 0.2953 - val_accuracy: 0.9283\n",
      "Epoch 6/10\n",
      "1313/1313 [==============================] - 1s 960us/step - loss: 0.2263 - accuracy: 0.9403 - val_loss: 0.2779 - val_accuracy: 0.9334\n",
      "Epoch 7/10\n",
      "1313/1313 [==============================] - 1s 977us/step - loss: 0.2019 - accuracy: 0.9459 - val_loss: 0.2581 - val_accuracy: 0.9398\n",
      "Epoch 8/10\n",
      "1313/1313 [==============================] - 1s 959us/step - loss: 0.1824 - accuracy: 0.9501 - val_loss: 0.2320 - val_accuracy: 0.9447\n",
      "Epoch 9/10\n",
      "1313/1313 [==============================] - 1s 959us/step - loss: 0.1635 - accuracy: 0.9535 - val_loss: 0.2081 - val_accuracy: 0.9496\n",
      "Epoch 10/10\n",
      "1313/1313 [==============================] - 1s 974us/step - loss: 0.1558 - accuracy: 0.9561 - val_loss: 0.2831 - val_accuracy: 0.9340\n"
     ]
    },
    {
     "data": {
      "text/plain": [
       "<keras.callbacks.History at 0x7fcf9453ed60>"
      ]
     },
     "execution_count": 33,
     "metadata": {},
     "output_type": "execute_result"
    }
   ],
   "source": [
    "model.fit(X_train, y_train, validation_split=0.3, epochs=10)"
   ]
  },
  {
   "cell_type": "code",
   "execution_count": 34,
   "id": "a30f9925-18f7-4169-bc96-8617d4a4a402",
   "metadata": {
    "execution": {
     "iopub.execute_input": "2023-01-23T23:29:19.252802Z",
     "iopub.status.busy": "2023-01-23T23:29:19.252661Z",
     "iopub.status.idle": "2023-01-23T23:29:19.483911Z",
     "shell.execute_reply": "2023-01-23T23:29:19.483558Z",
     "shell.execute_reply.started": "2023-01-23T23:29:19.252791Z"
    },
    "tags": []
   },
   "outputs": [
    {
     "name": "stdout",
     "output_type": "stream",
     "text": [
      "313/313 [==============================] - 0s 638us/step - loss: 0.2852 - accuracy: 0.9322\n"
     ]
    },
    {
     "data": {
      "text/plain": [
       "[0.2851737439632416, 0.932200014591217]"
      ]
     },
     "execution_count": 34,
     "metadata": {},
     "output_type": "execute_result"
    }
   ],
   "source": [
    "model.evaluate(X_test, y_test)"
   ]
  },
  {
   "cell_type": "markdown",
   "id": "a388d079-b520-43cc-88d1-303d214e5bf8",
   "metadata": {},
   "source": [
    "# Next steps\n",
    "* Start with standard prediction problems on tables of numbers\n",
    "* Images (with convolutional neural networks) are common next steps\n",
    "* keras.io for excellent documentation\n",
    "* Graphical processing unit (GPU) provides dramatic speedups in model training times\n",
    "* Need a CUDA compatible GPU\n",
    "* For training on using GPUs in the cloud look here:\n",
    "    * https://www.datacamp.com/community/tutorials/deep-learning-jupyter-aws"
   ]
  },
  {
   "cell_type": "code",
   "execution_count": null,
   "id": "35fd5d6b-37c2-4f82-89d8-fdda6726c41e",
   "metadata": {},
   "outputs": [],
   "source": []
  }
 ],
 "metadata": {
  "kernelspec": {
   "display_name": "Python 3 (ipykernel)",
   "language": "python",
   "name": "python3"
  },
  "language_info": {
   "codemirror_mode": {
    "name": "ipython",
    "version": 3
   },
   "file_extension": ".py",
   "mimetype": "text/x-python",
   "name": "python",
   "nbconvert_exporter": "python",
   "pygments_lexer": "ipython3",
   "version": "3.10.12"
  }
 },
 "nbformat": 4,
 "nbformat_minor": 5
}
