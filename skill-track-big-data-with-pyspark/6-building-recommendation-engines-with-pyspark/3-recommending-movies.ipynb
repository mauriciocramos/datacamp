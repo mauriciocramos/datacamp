{
 "cells": [
  {
   "cell_type": "code",
   "execution_count": 1,
   "id": "c8d42527-b054-45a5-965f-0016baa20ab7",
   "metadata": {
    "execution": {
     "iopub.execute_input": "2023-04-28T14:38:01.407648Z",
     "iopub.status.busy": "2023-04-28T14:38:01.407563Z",
     "iopub.status.idle": "2023-04-28T14:38:04.041231Z",
     "shell.execute_reply": "2023-04-28T14:38:04.040776Z",
     "shell.execute_reply.started": "2023-04-28T14:38:01.407638Z"
    },
    "tags": []
   },
   "outputs": [
    {
     "name": "stdout",
     "output_type": "stream",
     "text": [
      "23/04/28 11:38:03 WARN Utils: Your hostname, rig resolves to a loopback address: 127.0.1.1; using 192.168.0.105 instead (on interface enp6s0)\n",
      "23/04/28 11:38:03 WARN Utils: Set SPARK_LOCAL_IP if you need to bind to another address\n"
     ]
    },
    {
     "name": "stderr",
     "output_type": "stream",
     "text": [
      "Setting default log level to \"WARN\".\n",
      "To adjust logging level use sc.setLogLevel(newLevel). For SparkR, use setLogLevel(newLevel).\n"
     ]
    },
    {
     "name": "stdout",
     "output_type": "stream",
     "text": [
      "23/04/28 11:38:03 WARN NativeCodeLoader: Unable to load native-hadoop library for your platform... using builtin-java classes where applicable\n",
      "3.3.2\n"
     ]
    }
   ],
   "source": [
    "import matplotlib.pyplot as plt\n",
    "import seaborn as sns\n",
    "import pandas as pd\n",
    "import numpy as np\n",
    "import datetime\n",
    "plt.style.use('dark_background')\n",
    "import sys\n",
    "sys.path.insert(1, '/home/mauricio/code/mcr')\n",
    "from mcr.util import glimpse, plot_value_counts, plot_value_counts_timeseries, missing_report, plot_missing, plot_unique, plot_duplicates, size\n",
    "\n",
    "from pyspark import SparkContext\n",
    "# SparkContext.getOrCreate(conf: Optional[pyspark.conf.SparkConf] = None) -> 'SparkContext'\n",
    "sc = SparkContext.getOrCreate()\n",
    "# sc.setLogLevel('DEBUG')\n",
    "\n",
    "from pyspark.sql import SparkSession\n",
    "spark = SparkSession.builder.master('local[*]').appName('spark_application').getOrCreate()\n",
    "print(spark.version)\n",
    "\n",
    "from pyspark.sql import functions as F\n",
    "from pyspark.sql.types import *"
   ]
  },
  {
   "cell_type": "markdown",
   "id": "41044a1c-e78d-41a7-89c9-ca01b12d209e",
   "metadata": {},
   "source": [
    "# Introduction to the MovieLens dataset"
   ]
  },
  {
   "cell_type": "markdown",
   "id": "30f1739e-5956-4536-8e29-66e1f7cb5280",
   "metadata": {},
   "source": [
    "## MovieLens dataset\n",
    "F. Maxwell Harper and Joseph A. Konstan. 2015  \n",
    "The MovieLens Datasets: History and Context.  \n",
    "ACM Transitions on Interactive Intelligent Systems (TiiS) 5, 4, Article 19 (December 2015), 19  \n",
    "Pages. DOI=http://dx.doi.org/10.1145/2827872"
   ]
  },
  {
   "cell_type": "markdown",
   "id": "d652b9dc-bcaa-42ae-bdfa-9082bbf53425",
   "metadata": {},
   "source": [
    "## MovieLens summary stats\n",
    "        Ratings: 20,000,000+\n",
    "        Users: 138,493\n",
    "        Movies: 27,278"
   ]
  },
  {
   "cell_type": "markdown",
   "id": "f3073de3-aee3-4bb6-abd9-edd0ff72bb7e",
   "metadata": {},
   "source": [
    "## Explore the data"
   ]
  },
  {
   "cell_type": "code",
   "execution_count": 2,
   "id": "4706e94b-22c7-40c8-ad95-161b410960f5",
   "metadata": {
    "execution": {
     "iopub.execute_input": "2023-04-28T14:38:04.042866Z",
     "iopub.status.busy": "2023-04-28T14:38:04.042413Z",
     "iopub.status.idle": "2023-04-28T14:38:06.560144Z",
     "shell.execute_reply": "2023-04-28T14:38:06.559690Z",
     "shell.execute_reply.started": "2023-04-28T14:38:04.042846Z"
    },
    "tags": []
   },
   "outputs": [
    {
     "name": "stdout",
     "output_type": "stream",
     "text": [
      "+------+-------+------+\n",
      "|userId|movieId|rating|\n",
      "+------+-------+------+\n",
      "|     1|     31|   2.5|\n",
      "|     1|   1029|   3.0|\n",
      "|     1|   1061|   3.0|\n",
      "+------+-------+------+\n",
      "only showing top 3 rows\n",
      "\n",
      "root\n",
      " |-- userId: integer (nullable = true)\n",
      " |-- movieId: integer (nullable = true)\n",
      " |-- rating: double (nullable = true)\n",
      "\n"
     ]
    }
   ],
   "source": [
    "# Read data from CSV file\n",
    "ratings = spark.read.csv('ratings.csv',\n",
    "                         sep=',',\n",
    "                         header=True,\n",
    "                         inferSchema=True).drop('timestamp')\n",
    "ratings.show(3)\n",
    "ratings.printSchema()"
   ]
  },
  {
   "cell_type": "markdown",
   "id": "60ddcb7c-6343-45c8-9091-3701ef8e0fa4",
   "metadata": {},
   "source": [
    "## MovieLens sparsity\n",
    "$$Sparsity = 1 - \\frac{Number\\ of\\ Ratings\\ in\\ Matrix}{Number\\ of\\ Users \\times Number\\ of\\ Movies}$$"
   ]
  },
  {
   "cell_type": "markdown",
   "id": "5750bd84-a125-4783-b12f-fdf3329d1a16",
   "metadata": {},
   "source": [
    "## Sparsity"
   ]
  },
  {
   "cell_type": "code",
   "execution_count": 3,
   "id": "38b9cae4-60dc-4f2b-a613-e4ffc61426f8",
   "metadata": {
    "execution": {
     "iopub.execute_input": "2023-04-28T14:38:06.561062Z",
     "iopub.status.busy": "2023-04-28T14:38:06.560739Z",
     "iopub.status.idle": "2023-04-28T14:38:06.822512Z",
     "shell.execute_reply": "2023-04-28T14:38:06.822094Z",
     "shell.execute_reply.started": "2023-04-28T14:38:06.561039Z"
    },
    "tags": []
   },
   "outputs": [
    {
     "data": {
      "text/plain": [
       "100004"
      ]
     },
     "execution_count": 3,
     "metadata": {},
     "output_type": "execute_result"
    }
   ],
   "source": [
    "# Number of ratings in matrix\n",
    "number_of_ratings = ratings.count()\n",
    "number_of_ratings"
   ]
  },
  {
   "cell_type": "code",
   "execution_count": 4,
   "id": "07d07ec5-f374-4626-bc4b-e55f3003e3b6",
   "metadata": {
    "execution": {
     "iopub.execute_input": "2023-04-28T14:38:06.823491Z",
     "iopub.status.busy": "2023-04-28T14:38:06.823139Z",
     "iopub.status.idle": "2023-04-28T14:38:07.191673Z",
     "shell.execute_reply": "2023-04-28T14:38:07.191018Z",
     "shell.execute_reply.started": "2023-04-28T14:38:06.823470Z"
    },
    "tags": []
   },
   "outputs": [
    {
     "data": {
      "text/plain": [
       "671"
      ]
     },
     "execution_count": 4,
     "metadata": {},
     "output_type": "execute_result"
    }
   ],
   "source": [
    "# Distinct users\n",
    "number_of_users = ratings.select(\"userId\").distinct().count()\n",
    "number_of_users"
   ]
  },
  {
   "cell_type": "code",
   "execution_count": 5,
   "id": "cf01e16c-1618-4a55-a3b4-e46e27f7ca13",
   "metadata": {
    "execution": {
     "iopub.execute_input": "2023-04-28T14:38:07.192886Z",
     "iopub.status.busy": "2023-04-28T14:38:07.192619Z",
     "iopub.status.idle": "2023-04-28T14:38:07.470171Z",
     "shell.execute_reply": "2023-04-28T14:38:07.469467Z",
     "shell.execute_reply.started": "2023-04-28T14:38:07.192861Z"
    },
    "tags": []
   },
   "outputs": [
    {
     "data": {
      "text/plain": [
       "9066"
      ]
     },
     "execution_count": 5,
     "metadata": {},
     "output_type": "execute_result"
    }
   ],
   "source": [
    "# Distinct movies\n",
    "number_of_movies = ratings.select(\"movieId\").distinct().count()\n",
    "number_of_movies"
   ]
  },
  {
   "cell_type": "code",
   "execution_count": 6,
   "id": "78758adb-e2c7-4b49-8034-d262ed56e6ba",
   "metadata": {
    "execution": {
     "iopub.execute_input": "2023-04-28T14:38:07.470968Z",
     "iopub.status.busy": "2023-04-28T14:38:07.470796Z",
     "iopub.status.idle": "2023-04-28T14:38:07.473625Z",
     "shell.execute_reply": "2023-04-28T14:38:07.472999Z",
     "shell.execute_reply.started": "2023-04-28T14:38:07.470954Z"
    },
    "tags": []
   },
   "outputs": [
    {
     "name": "stdout",
     "output_type": "stream",
     "text": [
      "Sparsity:  0.9835608583913366\n"
     ]
    }
   ],
   "source": [
    "#Calculating sparsity\n",
    "print(\"Sparsity: \", 1 - (number_of_ratings / (number_of_users * number_of_movies)))"
   ]
  },
  {
   "cell_type": "markdown",
   "id": "88e42c47-21e3-406f-a3ad-ed28e9d3f5c4",
   "metadata": {},
   "source": [
    "## The .distinct() method"
   ]
  },
  {
   "cell_type": "code",
   "execution_count": 7,
   "id": "7b4208ee-006d-4165-af83-949a23c2313e",
   "metadata": {
    "execution": {
     "iopub.execute_input": "2023-04-28T14:38:07.475051Z",
     "iopub.status.busy": "2023-04-28T14:38:07.474849Z",
     "iopub.status.idle": "2023-04-28T14:38:07.682978Z",
     "shell.execute_reply": "2023-04-28T14:38:07.682415Z",
     "shell.execute_reply.started": "2023-04-28T14:38:07.475035Z"
    },
    "tags": []
   },
   "outputs": [
    {
     "data": {
      "text/plain": [
       "671"
      ]
     },
     "execution_count": 7,
     "metadata": {},
     "output_type": "execute_result"
    }
   ],
   "source": [
    "ratings.select(\"userId\").distinct().count()"
   ]
  },
  {
   "cell_type": "markdown",
   "id": "29a6e49c-265a-4e76-ad17-75c8db20922b",
   "metadata": {},
   "source": [
    "## GroupBy method"
   ]
  },
  {
   "cell_type": "code",
   "execution_count": 8,
   "id": "7d734377-0c88-41d0-9530-5a7003825ac1",
   "metadata": {
    "execution": {
     "iopub.execute_input": "2023-04-28T14:38:07.683622Z",
     "iopub.status.busy": "2023-04-28T14:38:07.683477Z",
     "iopub.status.idle": "2023-04-28T14:38:07.913047Z",
     "shell.execute_reply": "2023-04-28T14:38:07.912569Z",
     "shell.execute_reply.started": "2023-04-28T14:38:07.683607Z"
    },
    "tags": []
   },
   "outputs": [
    {
     "name": "stdout",
     "output_type": "stream",
     "text": [
      "+------+-----+\n",
      "|userId|count|\n",
      "+------+-----+\n",
      "|   148|  132|\n",
      "|   463|  483|\n",
      "|   471|  216|\n",
      "|   496|  126|\n",
      "|   243|  307|\n",
      "|   392|   25|\n",
      "|   540|   20|\n",
      "|   623|  103|\n",
      "|    31|   69|\n",
      "|   516|  149|\n",
      "|    85|  107|\n",
      "|   137|   80|\n",
      "|   251|  119|\n",
      "|   451|   52|\n",
      "|   580|  922|\n",
      "|    65|   27|\n",
      "|   458|   76|\n",
      "|    53|   46|\n",
      "|   255|  145|\n",
      "|   481|  436|\n",
      "+------+-----+\n",
      "only showing top 20 rows\n",
      "\n"
     ]
    }
   ],
   "source": [
    "# Num of song plays by userId\n",
    "ratings.groupBy(\"userId\").count().show()"
   ]
  },
  {
   "cell_type": "markdown",
   "id": "087b4f5b-4df6-4552-b916-3f6e254eee43",
   "metadata": {},
   "source": [
    "## GroupBy method min"
   ]
  },
  {
   "cell_type": "code",
   "execution_count": 9,
   "id": "6d03a829-c0f5-4e2c-bd9c-590177867397",
   "metadata": {
    "execution": {
     "iopub.execute_input": "2023-04-28T14:38:07.913908Z",
     "iopub.status.busy": "2023-04-28T14:38:07.913663Z",
     "iopub.status.idle": "2023-04-28T14:38:08.166232Z",
     "shell.execute_reply": "2023-04-28T14:38:08.165806Z",
     "shell.execute_reply.started": "2023-04-28T14:38:07.913894Z"
    },
    "tags": []
   },
   "outputs": [
    {
     "name": "stdout",
     "output_type": "stream",
     "text": [
      "+----------+\n",
      "|min(count)|\n",
      "+----------+\n",
      "|        20|\n",
      "+----------+\n",
      "\n"
     ]
    }
   ],
   "source": [
    "#from pyspark.sql.functions import min, max, avg\n",
    "# Min num of song plays by userId\n",
    "ratings.groupBy(\"userId\").count().select(F.min(\"count\")).show()"
   ]
  },
  {
   "cell_type": "markdown",
   "id": "fc0347d4-92a0-42ab-84d5-7c33382bf5e7",
   "metadata": {},
   "source": [
    "## GroupBy method max"
   ]
  },
  {
   "cell_type": "code",
   "execution_count": 10,
   "id": "467a10b0-356d-4e5c-a765-8c320fcdad81",
   "metadata": {
    "execution": {
     "iopub.execute_input": "2023-04-28T14:38:08.167247Z",
     "iopub.status.busy": "2023-04-28T14:38:08.166876Z",
     "iopub.status.idle": "2023-04-28T14:38:08.339320Z",
     "shell.execute_reply": "2023-04-28T14:38:08.338907Z",
     "shell.execute_reply.started": "2023-04-28T14:38:08.167222Z"
    },
    "tags": []
   },
   "outputs": [
    {
     "name": "stdout",
     "output_type": "stream",
     "text": [
      "+----------+\n",
      "|max(count)|\n",
      "+----------+\n",
      "|      2391|\n",
      "+----------+\n",
      "\n"
     ]
    }
   ],
   "source": [
    "# Max num of song plays by userId\n",
    "ratings.groupBy(\"userId\").count().select(F.max(\"count\")).show()"
   ]
  },
  {
   "cell_type": "markdown",
   "id": "99ad6517-3ade-48aa-aa49-0d2ac793cc1e",
   "metadata": {},
   "source": [
    "## GroupBy method avg"
   ]
  },
  {
   "cell_type": "code",
   "execution_count": 11,
   "id": "270072f3-2e72-493a-853e-b45ee55119d2",
   "metadata": {
    "execution": {
     "iopub.execute_input": "2023-04-28T14:38:08.339925Z",
     "iopub.status.busy": "2023-04-28T14:38:08.339773Z",
     "iopub.status.idle": "2023-04-28T14:38:08.515469Z",
     "shell.execute_reply": "2023-04-28T14:38:08.515034Z",
     "shell.execute_reply.started": "2023-04-28T14:38:08.339911Z"
    },
    "tags": []
   },
   "outputs": [
    {
     "name": "stdout",
     "output_type": "stream",
     "text": [
      "+------------------+\n",
      "|        avg(count)|\n",
      "+------------------+\n",
      "|149.03725782414307|\n",
      "+------------------+\n",
      "\n"
     ]
    }
   ],
   "source": [
    "# Avg num of song plays by userId\n",
    "ratings.groupBy(\"userId\").count().select(F.avg(\"count\")).show()"
   ]
  },
  {
   "cell_type": "markdown",
   "id": "14ecb97f-cfa2-4818-978a-5df4efb83236",
   "metadata": {},
   "source": [
    "## Filter method"
   ]
  },
  {
   "cell_type": "code",
   "execution_count": 12,
   "id": "ba3cebbf-031e-4f35-9775-c2941465b7c8",
   "metadata": {
    "execution": {
     "iopub.execute_input": "2023-04-28T14:38:08.516298Z",
     "iopub.status.busy": "2023-04-28T14:38:08.516027Z",
     "iopub.status.idle": "2023-04-28T14:38:08.701683Z",
     "shell.execute_reply": "2023-04-28T14:38:08.701363Z",
     "shell.execute_reply.started": "2023-04-28T14:38:08.516279Z"
    },
    "tags": []
   },
   "outputs": [
    {
     "name": "stdout",
     "output_type": "stream",
     "text": [
      "+------+-----+\n",
      "|userId|count|\n",
      "+------+-----+\n",
      "|   148|  132|\n",
      "|   463|  483|\n",
      "|   471|  216|\n",
      "|   496|  126|\n",
      "|   243|  307|\n",
      "|   392|   25|\n",
      "|   540|   20|\n",
      "|   623|  103|\n",
      "|    31|   69|\n",
      "|   516|  149|\n",
      "|    85|  107|\n",
      "|   137|   80|\n",
      "|   251|  119|\n",
      "|   451|   52|\n",
      "|   580|  922|\n",
      "|    65|   27|\n",
      "|   458|   76|\n",
      "|    53|   46|\n",
      "|   255|  145|\n",
      "|   481|  436|\n",
      "+------+-----+\n",
      "only showing top 20 rows\n",
      "\n"
     ]
    }
   ],
   "source": [
    "# Removes users with less than 20 ratings\n",
    "ratings.groupBy(\"userId\").count().filter(F.col(\"count\") >= 20).show()"
   ]
  },
  {
   "cell_type": "markdown",
   "id": "718cdb55-ad5e-4b6e-ab42-ccd5c3f0af64",
   "metadata": {
    "tags": []
   },
   "source": [
    "## Exercises"
   ]
  },
  {
   "cell_type": "markdown",
   "id": "44194e12-2b04-4e9e-a121-7db392f99ee7",
   "metadata": {},
   "source": [
    "# ALS model buildout on MovieLens Data"
   ]
  },
  {
   "cell_type": "markdown",
   "id": "2b40745e-7cf3-4d27-a932-7995931c3505",
   "metadata": {},
   "source": [
    "## Fitting a basic model"
   ]
  },
  {
   "cell_type": "code",
   "execution_count": 13,
   "id": "85e35055-ca4b-418b-8700-439cdb44a2af",
   "metadata": {
    "execution": {
     "iopub.execute_input": "2023-04-28T14:38:08.702220Z",
     "iopub.status.busy": "2023-04-28T14:38:08.702086Z",
     "iopub.status.idle": "2023-04-28T14:38:19.271642Z",
     "shell.execute_reply": "2023-04-28T14:38:19.271140Z",
     "shell.execute_reply.started": "2023-04-28T14:38:08.702208Z"
    },
    "tags": []
   },
   "outputs": [
    {
     "name": "stdout",
     "output_type": "stream",
     "text": [
      "RMSE:  0.9656497242107647\n"
     ]
    }
   ],
   "source": [
    "from pyspark.ml.recommendation import ALS\n",
    "from pyspark.ml.evaluation import RegressionEvaluator\n",
    "\n",
    "# Split data\n",
    "(training_data, test_data) = ratings.randomSplit([0.8, 0.2])\n",
    "# Build ALS model\n",
    "als = ALS(userCol=\"userId\", itemCol=\"movieId\", ratingCol=\"rating\",\n",
    "          rank=25, maxIter=100, regParam=0.05,\n",
    "          nonnegative=True, coldStartStrategy=\"drop\", implicitPrefs=False)\n",
    "\n",
    "# https://intellipaat.com/community/18452/spark-gives-a-stackoverflowerror-when-training-using-als\n",
    "sc.setCheckpointDir('checkpoint/')\n",
    "# ALS.checkpointInterval = 2\n",
    "# Fit model to training data\n",
    "model = als.fit(training_data)\n",
    "\n",
    "# Generate predictions on test_data\n",
    "predictions = model.transform(test_data)\n",
    "# Tell Spark how to evaluate predictions\n",
    "evaluator = RegressionEvaluator(metricName=\"rmse\", labelCol=\"rating\", predictionCol=\"prediction\")\n",
    "# Obtain and print RMSE\n",
    "rmse = evaluator.evaluate(predictions)\n",
    "print(\"RMSE: \", rmse)"
   ]
  },
  {
   "cell_type": "markdown",
   "id": "5d4d157c-2ef0-47d6-9180-2a044fea0642",
   "metadata": {},
   "source": [
    "## Build generic ALS model without hyperparameters"
   ]
  },
  {
   "cell_type": "code",
   "execution_count": 14,
   "id": "bfa0b45f-e937-4119-be2c-3fc09df6c5b7",
   "metadata": {
    "execution": {
     "iopub.execute_input": "2023-04-28T14:38:19.272515Z",
     "iopub.status.busy": "2023-04-28T14:38:19.272307Z",
     "iopub.status.idle": "2023-04-28T14:38:19.298438Z",
     "shell.execute_reply": "2023-04-28T14:38:19.298021Z",
     "shell.execute_reply.started": "2023-04-28T14:38:19.272495Z"
    }
   },
   "outputs": [],
   "source": [
    "# Build generic ALS model without hyperparameters\n",
    "als = ALS(userCol=\"userId\", itemCol=\"movieId\", ratingCol=\"rating\",\n",
    "          coldStartStrategy=\"drop\", nonnegative = True, implicitPrefs = False)"
   ]
  },
  {
   "cell_type": "markdown",
   "id": "b36c9498-ba5d-4c18-b05d-a62e7efa3844",
   "metadata": {},
   "source": [
    "## Adding Hyperparameter Values to the ParamGridBuilder"
   ]
  },
  {
   "cell_type": "code",
   "execution_count": 15,
   "id": "57c05835-c20b-442a-99cb-86f2ba024963",
   "metadata": {
    "execution": {
     "iopub.execute_input": "2023-04-28T14:38:19.299165Z",
     "iopub.status.busy": "2023-04-28T14:38:19.298932Z",
     "iopub.status.idle": "2023-04-28T14:38:19.302040Z",
     "shell.execute_reply": "2023-04-28T14:38:19.301630Z",
     "shell.execute_reply.started": "2023-04-28T14:38:19.299152Z"
    },
    "tags": []
   },
   "outputs": [],
   "source": [
    "# Imports ParamGridBuilder package\n",
    "from pyspark.ml.tuning import ParamGridBuilder\n",
    "\n",
    "# Creates a ParamGridBuilder, and adds hyperparameters and values\n",
    "# param_grid = ParamGridBuilder()\\\n",
    "#     .addGrid(als.rank, [5, 40, 80, 120])\\\n",
    "#     .addGrid(als.maxIter, [5, 100, 250, 500])\\\n",
    "#     .addGrid(als.regParam, [.05, .1, 1.5])\\\n",
    "#     .build()\n",
    "param_grid = ParamGridBuilder()\\\n",
    "    .addGrid(als.rank, [5, 10, 20])\\\n",
    "    .addGrid(als.maxIter, [5, 10, 20])\\\n",
    "    .addGrid(als.regParam, [.05, .1, 1.5])\\\n",
    "    .build()"
   ]
  },
  {
   "cell_type": "markdown",
   "id": "8fda5182-c027-4975-9d3b-e021209e7ac9",
   "metadata": {
    "tags": []
   },
   "source": [
    "## CrossValidator"
   ]
  },
  {
   "cell_type": "code",
   "execution_count": 16,
   "id": "04710c80-50c5-4a1a-8593-e33c242fe441",
   "metadata": {
    "execution": {
     "iopub.execute_input": "2023-04-28T14:38:19.302674Z",
     "iopub.status.busy": "2023-04-28T14:38:19.302455Z",
     "iopub.status.idle": "2023-04-28T14:38:19.304742Z",
     "shell.execute_reply": "2023-04-28T14:38:19.304365Z",
     "shell.execute_reply.started": "2023-04-28T14:38:19.302662Z"
    },
    "tags": []
   },
   "outputs": [],
   "source": [
    "from pyspark.ml.tuning import CrossValidator\n",
    "\n",
    "# Build cross validation step using CrossValidator\n",
    "cv = CrossValidator(estimator=als, estimatorParamMaps=param_grid,\n",
    "                    evaluator=evaluator, numFolds=5)"
   ]
  },
  {
   "cell_type": "markdown",
   "id": "a79d3677-8081-4753-aaa8-673756c979d5",
   "metadata": {},
   "source": [
    "## Best model"
   ]
  },
  {
   "cell_type": "code",
   "execution_count": 17,
   "id": "7c77fc6a-3ce4-4c1e-b978-460b1c47f719",
   "metadata": {
    "execution": {
     "iopub.execute_input": "2023-04-28T14:38:19.305253Z",
     "iopub.status.busy": "2023-04-28T14:38:19.305139Z",
     "iopub.status.idle": "2023-04-28T14:40:27.236592Z",
     "shell.execute_reply": "2023-04-28T14:40:27.236246Z",
     "shell.execute_reply.started": "2023-04-28T14:38:19.305241Z"
    },
    "tags": []
   },
   "outputs": [],
   "source": [
    "# Tell Spark what values to try for each hyperparameter\n",
    "# Run the cv on the training data\n",
    "model = cv.fit(training_data)\n",
    "# Extract best combination of values from cross validation\n",
    "best_model = model.bestModel"
   ]
  },
  {
   "cell_type": "markdown",
   "id": "161eb765-7872-4105-8d50-3c606432e87d",
   "metadata": {},
   "source": [
    "**Last executed at 2023-04-26 15:50:24 in 1m 59.83s**"
   ]
  },
  {
   "cell_type": "code",
   "execution_count": 18,
   "id": "f0e4bbaf-3681-4b99-9d1e-fda78af255d3",
   "metadata": {
    "execution": {
     "iopub.execute_input": "2023-04-28T14:40:27.237163Z",
     "iopub.status.busy": "2023-04-28T14:40:27.237023Z",
     "iopub.status.idle": "2023-04-28T14:40:27.239485Z",
     "shell.execute_reply": "2023-04-28T14:40:27.239184Z",
     "shell.execute_reply.started": "2023-04-28T14:40:27.237151Z"
    }
   },
   "outputs": [
    {
     "data": {
      "text/plain": [
       "pyspark.ml.recommendation.ALSModel"
      ]
     },
     "execution_count": 18,
     "metadata": {},
     "output_type": "execute_result"
    }
   ],
   "source": [
    "type(best_model)"
   ]
  },
  {
   "cell_type": "markdown",
   "id": "d2fe4aa8-bf0d-45d6-983b-f538cfb5b62c",
   "metadata": {},
   "source": [
    "## Predictions and performance evaluation"
   ]
  },
  {
   "cell_type": "code",
   "execution_count": 19,
   "id": "6f125eb0-304d-485a-a706-c1406243d3ee",
   "metadata": {
    "execution": {
     "iopub.execute_input": "2023-04-28T14:40:27.240324Z",
     "iopub.status.busy": "2023-04-28T14:40:27.240036Z",
     "iopub.status.idle": "2023-04-28T14:40:27.423720Z",
     "shell.execute_reply": "2023-04-28T14:40:27.423300Z",
     "shell.execute_reply.started": "2023-04-28T14:40:27.240310Z"
    },
    "tags": []
   },
   "outputs": [],
   "source": [
    "# Generate test set predictions and evaluate using RMSE\n",
    "predictions = best_model.transform(test_data)\n",
    "rmse = evaluator.evaluate(predictions)"
   ]
  },
  {
   "cell_type": "code",
   "execution_count": 20,
   "id": "5074a5b9-aca1-4fc9-a05f-01f3b3207662",
   "metadata": {
    "execution": {
     "iopub.execute_input": "2023-04-28T14:40:27.435002Z",
     "iopub.status.busy": "2023-04-28T14:40:27.434797Z",
     "iopub.status.idle": "2023-04-28T14:40:27.438037Z",
     "shell.execute_reply": "2023-04-28T14:40:27.437695Z",
     "shell.execute_reply.started": "2023-04-28T14:40:27.434989Z"
    },
    "tags": []
   },
   "outputs": [
    {
     "name": "stdout",
     "output_type": "stream",
     "text": [
      "**Best Model**\n",
      "RMSE =  0.9113623121523982\n",
      " Rank:  20\n",
      " MaxIter:  5\n",
      " RegParam:  0.1\n"
     ]
    }
   ],
   "source": [
    "# Print evaluation metrics and model parameters\n",
    "print(\"**Best Model**\")\n",
    "print(\"RMSE = \", rmse)\n",
    "print(\" Rank: \", best_model.rank)\n",
    "print(\" MaxIter: \", best_model._java_obj.parent().getMaxIter())\n",
    "print(\" RegParam: \", best_model._java_obj.parent().getRegParam())"
   ]
  },
  {
   "cell_type": "markdown",
   "id": "95264483-ab05-4182-9b7d-7b6f5c6ff3cb",
   "metadata": {},
   "source": [
    "## Exercises"
   ]
  },
  {
   "cell_type": "markdown",
   "id": "5039d97c-db91-4614-bd39-15f0906918e6",
   "metadata": {},
   "source": [
    "### Create test/train splits and build your ALS model"
   ]
  },
  {
   "cell_type": "code",
   "execution_count": 24,
   "id": "08a55e75-1b54-46f8-b7f9-3b6f582b9018",
   "metadata": {
    "execution": {
     "iopub.execute_input": "2023-04-28T14:53:26.802263Z",
     "iopub.status.busy": "2023-04-28T14:53:26.802120Z",
     "iopub.status.idle": "2023-04-28T14:53:26.818275Z",
     "shell.execute_reply": "2023-04-28T14:53:26.817999Z",
     "shell.execute_reply.started": "2023-04-28T14:53:26.802250Z"
    },
    "tags": []
   },
   "outputs": [
    {
     "data": {
      "text/plain": [
       "pyspark.ml.recommendation.ALS"
      ]
     },
     "execution_count": 24,
     "metadata": {},
     "output_type": "execute_result"
    }
   ],
   "source": [
    "# Import the required functions\n",
    "from pyspark.ml.evaluation import RegressionEvaluator\n",
    "from pyspark.ml.recommendation import ALS\n",
    "from pyspark.ml.tuning import ParamGridBuilder, CrossValidator\n",
    "\n",
    "# Create test and train set\n",
    "(train, test) = ratings.randomSplit([0.8, 0.2], seed = 1234)\n",
    "\n",
    "# Create ALS model\n",
    "als = ALS(userCol=\"userId\", itemCol=\"movieId\", ratingCol=\"rating\", nonnegative = True, coldStartStrategy='drop', implicitPrefs = False)\n",
    "\n",
    "# Confirm that a model called \"als\" was created\n",
    "type(als)"
   ]
  },
  {
   "cell_type": "markdown",
   "id": "55625f28-e44b-4874-b533-7487bd14ab70",
   "metadata": {},
   "source": [
    "### Tell Spark how to tune your ALS model"
   ]
  },
  {
   "cell_type": "code",
   "execution_count": 25,
   "id": "467c03ad-d344-4a7c-ae37-c13888869d74",
   "metadata": {
    "execution": {
     "iopub.execute_input": "2023-04-28T14:53:26.818926Z",
     "iopub.status.busy": "2023-04-28T14:53:26.818814Z",
     "iopub.status.idle": "2023-04-28T14:53:26.822899Z",
     "shell.execute_reply": "2023-04-28T14:53:26.822575Z",
     "shell.execute_reply.started": "2023-04-28T14:53:26.818915Z"
    },
    "tags": []
   },
   "outputs": [
    {
     "name": "stdout",
     "output_type": "stream",
     "text": [
      "Num models to be tested:  64\n"
     ]
    }
   ],
   "source": [
    "# Import the requisite items\n",
    "from pyspark.ml.evaluation import RegressionEvaluator\n",
    "from pyspark.ml.tuning import ParamGridBuilder, CrossValidator\n",
    "\n",
    "# Add hyperparameters and their respective values to param_grid\n",
    "param_grid = ParamGridBuilder() \\\n",
    "            .addGrid(als.rank, [10, 50, 100, 150]) \\\n",
    "            .addGrid(als.maxIter, [5, 50, 100, 200]) \\\n",
    "            .addGrid(als.regParam, [.01, .05, .1, 1.5]) \\\n",
    "            .build()\n",
    "           \n",
    "# Define evaluator as RMSE and print length of evaluator\n",
    "evaluator = RegressionEvaluator(metricName=\"rmse\", labelCol=\"rating\", predictionCol=\"prediction\") \n",
    "print (\"Num models to be tested: \", len(param_grid))"
   ]
  },
  {
   "cell_type": "markdown",
   "id": "f84517dd-482d-499d-a903-a90ce99b88ef",
   "metadata": {},
   "source": [
    "### Build your cross validation pipeline"
   ]
  },
  {
   "cell_type": "code",
   "execution_count": 26,
   "id": "8132c120-1928-428d-b379-f9df4e023141",
   "metadata": {
    "execution": {
     "iopub.execute_input": "2023-04-28T14:53:26.823291Z",
     "iopub.status.busy": "2023-04-28T14:53:26.823193Z",
     "iopub.status.idle": "2023-04-28T14:53:26.825357Z",
     "shell.execute_reply": "2023-04-28T14:53:26.825108Z",
     "shell.execute_reply.started": "2023-04-28T14:53:26.823280Z"
    },
    "tags": []
   },
   "outputs": [
    {
     "name": "stdout",
     "output_type": "stream",
     "text": [
      "CrossValidator_3f639e395316\n"
     ]
    }
   ],
   "source": [
    "# Build cross validation using CrossValidator\n",
    "cv = CrossValidator(estimator=als, estimatorParamMaps=param_grid, evaluator=evaluator, numFolds=5)\n",
    "\n",
    "# Confirm cv was built\n",
    "print(cv)"
   ]
  },
  {
   "cell_type": "markdown",
   "id": "8ef49a69-2a13-4807-a14e-f57f4740af6b",
   "metadata": {},
   "source": [
    "### Fit the best model"
   ]
  },
  {
   "cell_type": "code",
   "execution_count": 42,
   "id": "2550d3d4-687b-4184-b174-39cfd9ea5f11",
   "metadata": {
    "execution": {
     "iopub.execute_input": "2023-04-28T20:58:54.545880Z",
     "iopub.status.busy": "2023-04-28T20:58:54.545743Z",
     "iopub.status.idle": "2023-04-28T20:58:54.548212Z",
     "shell.execute_reply": "2023-04-28T20:58:54.547950Z",
     "shell.execute_reply.started": "2023-04-28T20:58:54.545869Z"
    },
    "tags": []
   },
   "outputs": [],
   "source": [
    "from os.path import isdir\n",
    "from pyspark.ml.tuning import CrossValidatorModel"
   ]
  },
  {
   "cell_type": "code",
   "execution_count": 27,
   "id": "6500abde-1410-48d0-a6e1-484204a7cf23",
   "metadata": {
    "execution": {
     "iopub.execute_input": "2023-04-28T14:53:26.826122Z",
     "iopub.status.busy": "2023-04-28T14:53:26.826020Z",
     "iopub.status.idle": "2023-04-28T17:00:29.843454Z",
     "shell.execute_reply": "2023-04-28T17:00:29.842975Z",
     "shell.execute_reply.started": "2023-04-28T14:53:26.826112Z"
    },
    "tags": []
   },
   "outputs": [],
   "source": []
  },
  {
   "cell_type": "code",
   "execution_count": 60,
   "id": "23adb4f9-820b-43b5-9d52-d2137bd86761",
   "metadata": {
    "execution": {
     "iopub.execute_input": "2023-04-28T21:07:08.760822Z",
     "iopub.status.busy": "2023-04-28T21:07:08.760682Z",
     "iopub.status.idle": "2023-04-28T21:07:09.306996Z",
     "shell.execute_reply": "2023-04-28T21:07:09.306702Z",
     "shell.execute_reply.started": "2023-04-28T21:07:08.760810Z"
    },
    "tags": []
   },
   "outputs": [
    {
     "name": "stdout",
     "output_type": "stream",
     "text": [
      "Loading saved_model\n"
     ]
    }
   ],
   "source": [
    "path = 'saved_model'\n",
    "if not isdir(path):\n",
    "    print(f'Saving {path}')\n",
    "    #Fit cross validator to the 'train' dataset\n",
    "    model = cv.fit(train)\n",
    "    model.save(path)\n",
    "else:\n",
    "    print(f'Loading {path}')\n",
    "    model = CrossValidatorModel.load(path)"
   ]
  },
  {
   "cell_type": "code",
   "execution_count": 61,
   "id": "67c00a29-69f7-4d68-bd4a-08592d216622",
   "metadata": {
    "execution": {
     "iopub.execute_input": "2023-04-28T21:07:12.072294Z",
     "iopub.status.busy": "2023-04-28T21:07:12.072113Z",
     "iopub.status.idle": "2023-04-28T21:07:12.074257Z",
     "shell.execute_reply": "2023-04-28T21:07:12.073892Z",
     "shell.execute_reply.started": "2023-04-28T21:07:12.072281Z"
    },
    "tags": []
   },
   "outputs": [],
   "source": [
    "#Extract best model from the cv model above\n",
    "best_model = model.bestModel"
   ]
  },
  {
   "cell_type": "markdown",
   "id": "46f210e7-a9cb-497d-8383-5adbd08f0593",
   "metadata": {},
   "source": [
    "**Last executed at 2023-04-26 18:31:13 in 2h 4m 20s**"
   ]
  },
  {
   "cell_type": "markdown",
   "id": "4ec1c3fd-de01-44a0-a27d-d42ad5ee1247",
   "metadata": {},
   "source": [
    "### Best Model and Best Parameters"
   ]
  },
  {
   "cell_type": "code",
   "execution_count": 63,
   "id": "5d62a227-2554-4124-b6c0-51bcdac6fe1a",
   "metadata": {
    "execution": {
     "iopub.execute_input": "2023-04-28T21:07:21.472686Z",
     "iopub.status.busy": "2023-04-28T21:07:21.472551Z",
     "iopub.status.idle": "2023-04-28T21:07:21.482755Z",
     "shell.execute_reply": "2023-04-28T21:07:21.482282Z",
     "shell.execute_reply.started": "2023-04-28T21:07:21.472674Z"
    },
    "tags": []
   },
   "outputs": [
    {
     "name": "stdout",
     "output_type": "stream",
     "text": [
      "<class 'pyspark.ml.recommendation.ALSModel'>\n",
      "**Best Model**\n"
     ]
    },
    {
     "ename": "AttributeError",
     "evalue": "'NoneType' object has no attribute 'getRank'",
     "output_type": "error",
     "traceback": [
      "\u001b[0;31m---------------------------------------------------------------------------\u001b[0m",
      "\u001b[0;31mAttributeError\u001b[0m                            Traceback (most recent call last)",
      "Cell \u001b[0;32mIn[63], line 8\u001b[0m\n\u001b[1;32m      5\u001b[0m \u001b[38;5;28mprint\u001b[39m(\u001b[38;5;124m\"\u001b[39m\u001b[38;5;124m**Best Model**\u001b[39m\u001b[38;5;124m\"\u001b[39m)\n\u001b[1;32m      7\u001b[0m \u001b[38;5;66;03m# Print \"Rank\"\u001b[39;00m\n\u001b[0;32m----> 8\u001b[0m \u001b[38;5;28mprint\u001b[39m(\u001b[38;5;124m\"\u001b[39m\u001b[38;5;124m  Rank:\u001b[39m\u001b[38;5;124m\"\u001b[39m, \u001b[43mbest_model\u001b[49m\u001b[38;5;241;43m.\u001b[39;49m\u001b[43m_java_obj\u001b[49m\u001b[38;5;241;43m.\u001b[39;49m\u001b[43mparent\u001b[49m\u001b[43m(\u001b[49m\u001b[43m)\u001b[49m\u001b[38;5;241;43m.\u001b[39;49m\u001b[43mgetRank\u001b[49m())\n\u001b[1;32m     10\u001b[0m \u001b[38;5;66;03m# Print \"MaxIter\"\u001b[39;00m\n\u001b[1;32m     11\u001b[0m \u001b[38;5;28mprint\u001b[39m(\u001b[38;5;124m\"\u001b[39m\u001b[38;5;124m  MaxIter:\u001b[39m\u001b[38;5;124m\"\u001b[39m, best_model\u001b[38;5;241m.\u001b[39m_java_obj\u001b[38;5;241m.\u001b[39mparent()\u001b[38;5;241m.\u001b[39mgetMaxIter())\n",
      "\u001b[0;31mAttributeError\u001b[0m: 'NoneType' object has no attribute 'getRank'"
     ]
    }
   ],
   "source": [
    "# # Print best_model\n",
    "# print(type(best_model))\n",
    "\n",
    "# # Complete the code below to extract the ALS model parameters\n",
    "# print(\"**Best Model**\")\n",
    "\n",
    "# # Print \"Rank\"\n",
    "# print(\"  Rank:\", best_model._java_obj.parent().getRank())\n",
    "\n",
    "# # Print \"MaxIter\"\n",
    "# print(\"  MaxIter:\", best_model._java_obj.parent().getMaxIter())\n",
    "\n",
    "# # Print \"RegParam\"\n",
    "# print(\"  RegParam:\", best_model._java_obj.parent().getRegParam())"
   ]
  },
  {
   "cell_type": "markdown",
   "id": "2d1e5cd7-d94d-45b4-a668-2e0438175ace",
   "metadata": {},
   "source": [
    "        <class 'pyspark.ml.recommendation.ALSModel'>\n",
    "        **Best Model**\n",
    "          Rank: 100\n",
    "          MaxIter: 5\n",
    "          RegParam: 0.1"
   ]
  },
  {
   "cell_type": "markdown",
   "id": "e890fb2f-5703-4c77-8f1a-dbd40582347a",
   "metadata": {},
   "source": [
    "# Model Performance Evaluation and Output Cleanup"
   ]
  },
  {
   "cell_type": "markdown",
   "id": "895c5b10-ccd5-49ce-8308-10f653c0afcc",
   "metadata": {},
   "source": [
    "## Exercises"
   ]
  },
  {
   "cell_type": "markdown",
   "id": "e1417ef8-f567-47d2-be5c-f47aef03d21e",
   "metadata": {
    "execution": {
     "iopub.status.busy": "2023-04-28T17:00:29.845559Z",
     "iopub.status.idle": "2023-04-28T17:00:29.845848Z",
     "shell.execute_reply": "2023-04-28T17:00:29.845745Z",
     "shell.execute_reply.started": "2023-04-28T17:00:29.845733Z"
    },
    "tags": []
   },
   "source": [
    "### Generate predictions and calculate RMSE"
   ]
  },
  {
   "cell_type": "code",
   "execution_count": 66,
   "id": "62f1fd3f-13df-4e26-a0ed-ffeb776c2e2a",
   "metadata": {
    "execution": {
     "iopub.execute_input": "2023-04-28T21:59:15.950126Z",
     "iopub.status.busy": "2023-04-28T21:59:15.949986Z",
     "iopub.status.idle": "2023-04-28T21:59:16.304801Z",
     "shell.execute_reply": "2023-04-28T21:59:16.304308Z",
     "shell.execute_reply.started": "2023-04-28T21:59:15.950114Z"
    },
    "tags": []
   },
   "outputs": [
    {
     "data": {
      "text/plain": [
       "0.8982861635120967"
      ]
     },
     "execution_count": 66,
     "metadata": {},
     "output_type": "execute_result"
    }
   ],
   "source": [
    "# Generate predictions on test_data\n",
    "predictions = best_model.transform(test)\n",
    "# Tell Spark how to evaluate predictions\n",
    "evaluator = RegressionEvaluator(metricName=\"rmse\", labelCol=\"rating\", predictionCol=\"prediction\")\n",
    "# Obtain and print RMSE\n",
    "evaluator.evaluate(predictions)"
   ]
  },
  {
   "cell_type": "markdown",
   "id": "923bc1f4-2fdf-4c58-aa02-c238d2c7b775",
   "metadata": {},
   "source": [
    "### Do recommendations make sense"
   ]
  },
  {
   "cell_type": "code",
   "execution_count": 71,
   "id": "520e0575-6b25-40ac-b7f1-08c6d86b8cfe",
   "metadata": {
    "execution": {
     "iopub.execute_input": "2023-04-28T22:05:28.393960Z",
     "iopub.status.busy": "2023-04-28T22:05:28.393820Z",
     "iopub.status.idle": "2023-04-28T22:05:29.053125Z",
     "shell.execute_reply": "2023-04-28T22:05:29.052816Z",
     "shell.execute_reply.started": "2023-04-28T22:05:28.393947Z"
    },
    "tags": []
   },
   "outputs": [
    {
     "name": "stdout",
     "output_type": "stream",
     "text": [
      "User 60's Ratings:\n",
      "+------+-------+------+\n",
      "|userId|movieId|rating|\n",
      "+------+-------+------+\n",
      "|    60|    541|   5.0|\n",
      "|    60|   1653|   5.0|\n",
      "|    60|   1732|   5.0|\n",
      "|    60|   2324|   5.0|\n",
      "|    60|   3949|   5.0|\n",
      "|    60|    235|   5.0|\n",
      "|    60|   5995|   5.0|\n",
      "|    60|   6350|   5.0|\n",
      "|    60|   7361|   5.0|\n",
      "|    60|   8638|   5.0|\n",
      "|    60|   8981|   5.0|\n",
      "|    60|  27803|   5.0|\n",
      "|    60|  30749|   5.0|\n",
      "|    60|   5060|   5.0|\n",
      "|    60|    858|   5.0|\n",
      "|    60|   5690|   5.0|\n",
      "|    60|   1221|   5.0|\n",
      "|    60|   1673|   4.5|\n",
      "|    60|   1080|   4.5|\n",
      "|    60|   1208|   4.5|\n",
      "+------+-------+------+\n",
      "only showing top 20 rows\n",
      "\n",
      "User 60s Recommendations:\n",
      "+------+-------+------+----------+\n",
      "|userId|movieId|rating|prediction|\n",
      "+------+-------+------+----------+\n",
      "|    60|     21|   3.0|  3.548698|\n",
      "|    60|    163|   4.0| 3.6403236|\n",
      "|    60|    466|   4.0| 3.0087955|\n",
      "|    60|    745|   3.5| 4.0264053|\n",
      "|    60|   1080|   4.5| 4.1969285|\n",
      "|    60|   1090|   4.0| 4.2307177|\n",
      "|    60|   1221|   5.0| 4.4486976|\n",
      "|    60|   3160|   3.5|  4.087518|\n",
      "|    60|   3608|   4.0| 3.3153565|\n",
      "|    60|   3726|   3.0| 2.4272728|\n",
      "|    60|   5060|   5.0| 3.7457924|\n",
      "|    60|   5959|   4.5| 3.9514587|\n",
      "|    60|   7361|   5.0| 4.6246796|\n",
      "|    60|  27801|   3.0| 3.7696207|\n",
      "+------+-------+------+----------+\n",
      "\n",
      "User 63's Ratings:\n",
      "+------+-------+------+\n",
      "|userId|movieId|rating|\n",
      "+------+-------+------+\n",
      "|    63|      1|   5.0|\n",
      "|    63|     16|   5.0|\n",
      "|    63|    260|   5.0|\n",
      "|    63|    318|   5.0|\n",
      "|    63|    592|   5.0|\n",
      "|    63|   1193|   5.0|\n",
      "|    63|   1198|   5.0|\n",
      "|    63|   1214|   5.0|\n",
      "|    63|   1221|   5.0|\n",
      "|    63|   1259|   5.0|\n",
      "|    63|   1356|   5.0|\n",
      "|    63|   1639|   5.0|\n",
      "|    63|   2797|   5.0|\n",
      "|    63|   2858|   5.0|\n",
      "|    63|   2918|   5.0|\n",
      "|    63|   3114|   5.0|\n",
      "|    63|   3176|   5.0|\n",
      "|    63|   3481|   5.0|\n",
      "|    63|   3578|   5.0|\n",
      "|    63|   4306|   5.0|\n",
      "+------+-------+------+\n",
      "only showing top 20 rows\n",
      "\n",
      "User 63's Recommendations:\n",
      "+------+-------+------+----------+\n",
      "|userId|movieId|rating|prediction|\n",
      "+------+-------+------+----------+\n",
      "|    63|    151|   0.5| 3.1465476|\n",
      "|    63|    315|   1.0| 3.0100884|\n",
      "|    63|    380|   3.5| 4.0285764|\n",
      "|    63|    480|   4.5|  3.855207|\n",
      "|    63|    592|   5.0| 3.5392327|\n",
      "|    63|    593|   4.5| 4.4361544|\n",
      "|    63|   1015|   1.5|  3.830668|\n",
      "|    63|   1080|   4.5| 3.4286718|\n",
      "|    63|   1193|   5.0| 3.5990126|\n",
      "|    63|   1198|   5.0| 4.4080515|\n",
      "|    63|   1372|   3.0| 3.5871964|\n",
      "|    63|   1517|   4.0| 3.4552784|\n",
      "|    63|   1610|   4.5|  4.300189|\n",
      "|    63|   1639|   5.0| 3.6084552|\n",
      "|    63|   1954|   4.5| 3.6237686|\n",
      "|    63|   1961|   3.5|  3.941697|\n",
      "|    63|   2116|   2.5| 3.3492708|\n",
      "|    63|   2268|   4.0| 3.9415712|\n",
      "|    63|   2710|   4.0| 2.3545656|\n",
      "|    63|   2762|   3.0|   4.18709|\n",
      "+------+-------+------+----------+\n",
      "only showing top 20 rows\n",
      "\n"
     ]
    }
   ],
   "source": [
    "# Look at user 60's ratings\n",
    "print(\"User 60's Ratings:\")\n",
    "ratings.filter(F.col(\"userId\") == 60).sort(\"rating\", ascending = False).show()\n",
    "\n",
    "# Look at the movies recommended to user 60\n",
    "print(\"User 60s Recommendations:\")\n",
    "predictions.filter(F.col(\"userId\") == 60).show()\n",
    "\n",
    "# Look at user 63's ratings\n",
    "print(\"User 63's Ratings:\")\n",
    "ratings.filter(F.col(\"userId\") == 63).sort(\"rating\", ascending = False).show()\n",
    "\n",
    "# Look at the movies recommended to user 63\n",
    "print(\"User 63's Recommendations:\")\n",
    "predictions.filter(F.col(\"userId\") == 63).show()"
   ]
  },
  {
   "cell_type": "code",
   "execution_count": null,
   "id": "0993e350-474c-416e-8c24-88b52a172225",
   "metadata": {},
   "outputs": [],
   "source": []
  }
 ],
 "metadata": {
  "kernelspec": {
   "display_name": "Python 3 (ipykernel)",
   "language": "python",
   "name": "python3"
  },
  "language_info": {
   "codemirror_mode": {
    "name": "ipython",
    "version": 3
   },
   "file_extension": ".py",
   "mimetype": "text/x-python",
   "name": "python",
   "nbconvert_exporter": "python",
   "pygments_lexer": "ipython3",
   "version": "3.10.10"
  },
  "toc-autonumbering": true
 },
 "nbformat": 4,
 "nbformat_minor": 5
}
