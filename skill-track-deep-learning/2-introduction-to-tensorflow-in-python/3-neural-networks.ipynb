{
 "cells": [
  {
   "cell_type": "code",
   "execution_count": 1,
   "id": "f0994ca4-1b2f-4e41-b218-4a64a2d75efc",
   "metadata": {
    "execution": {
     "iopub.execute_input": "2023-02-03T03:55:51.147009Z",
     "iopub.status.busy": "2023-02-03T03:55:51.146924Z",
     "iopub.status.idle": "2023-02-03T03:55:52.343771Z",
     "shell.execute_reply": "2023-02-03T03:55:52.343347Z",
     "shell.execute_reply.started": "2023-02-03T03:55:51.146999Z"
    },
    "tags": []
   },
   "outputs": [],
   "source": [
    "import os\n",
    "os.environ['TF_CPP_MIN_LOG_LEVEL'] = '1'\n",
    "# os.environ['TF_ENABLE_ONEDNN_OPTS'] = '0'\n",
    "import numpy as np\n",
    "import tensorflow as tf\n",
    "import matplotlib.pyplot as plt\n",
    "plt.style.use('dark_background')"
   ]
  },
  {
   "cell_type": "markdown",
   "id": "ec22809f-39a1-480e-95b0-3b415d1d4d46",
   "metadata": {},
   "source": [
    "# Dataset: UCI credit card default"
   ]
  },
  {
   "cell_type": "code",
   "execution_count": 2,
   "id": "0051ee86-d8be-45bc-95c1-0e061e90c464",
   "metadata": {
    "execution": {
     "iopub.execute_input": "2023-02-03T03:55:52.344712Z",
     "iopub.status.busy": "2023-02-03T03:55:52.344521Z",
     "iopub.status.idle": "2023-02-03T03:55:52.394622Z",
     "shell.execute_reply": "2023-02-03T03:55:52.394224Z",
     "shell.execute_reply.started": "2023-02-03T03:55:52.344700Z"
    },
    "tags": []
   },
   "outputs": [
    {
     "data": {
      "text/html": [
       "<div>\n",
       "<style scoped>\n",
       "    .dataframe tbody tr th:only-of-type {\n",
       "        vertical-align: middle;\n",
       "    }\n",
       "\n",
       "    .dataframe tbody tr th {\n",
       "        vertical-align: top;\n",
       "    }\n",
       "\n",
       "    .dataframe thead th {\n",
       "        text-align: right;\n",
       "    }\n",
       "</style>\n",
       "<table border=\"1\" class=\"dataframe\">\n",
       "  <thead>\n",
       "    <tr style=\"text-align: right;\">\n",
       "      <th></th>\n",
       "      <th>ID</th>\n",
       "      <th>LIMIT_BAL</th>\n",
       "      <th>SEX</th>\n",
       "      <th>EDUCATION</th>\n",
       "      <th>MARRIAGE</th>\n",
       "      <th>AGE</th>\n",
       "      <th>PAY_0</th>\n",
       "      <th>PAY_2</th>\n",
       "      <th>PAY_3</th>\n",
       "      <th>PAY_4</th>\n",
       "      <th>...</th>\n",
       "      <th>BILL_AMT4</th>\n",
       "      <th>BILL_AMT5</th>\n",
       "      <th>BILL_AMT6</th>\n",
       "      <th>PAY_AMT1</th>\n",
       "      <th>PAY_AMT2</th>\n",
       "      <th>PAY_AMT3</th>\n",
       "      <th>PAY_AMT4</th>\n",
       "      <th>PAY_AMT5</th>\n",
       "      <th>PAY_AMT6</th>\n",
       "      <th>default.payment.next.month</th>\n",
       "    </tr>\n",
       "  </thead>\n",
       "  <tbody>\n",
       "    <tr>\n",
       "      <th>0</th>\n",
       "      <td>1</td>\n",
       "      <td>20000.0</td>\n",
       "      <td>2</td>\n",
       "      <td>2</td>\n",
       "      <td>1</td>\n",
       "      <td>24</td>\n",
       "      <td>2</td>\n",
       "      <td>2</td>\n",
       "      <td>-1</td>\n",
       "      <td>-1</td>\n",
       "      <td>...</td>\n",
       "      <td>0.0</td>\n",
       "      <td>0.0</td>\n",
       "      <td>0.0</td>\n",
       "      <td>0.0</td>\n",
       "      <td>689.0</td>\n",
       "      <td>0.0</td>\n",
       "      <td>0.0</td>\n",
       "      <td>0.0</td>\n",
       "      <td>0.0</td>\n",
       "      <td>1</td>\n",
       "    </tr>\n",
       "    <tr>\n",
       "      <th>1</th>\n",
       "      <td>2</td>\n",
       "      <td>120000.0</td>\n",
       "      <td>2</td>\n",
       "      <td>2</td>\n",
       "      <td>2</td>\n",
       "      <td>26</td>\n",
       "      <td>-1</td>\n",
       "      <td>2</td>\n",
       "      <td>0</td>\n",
       "      <td>0</td>\n",
       "      <td>...</td>\n",
       "      <td>3272.0</td>\n",
       "      <td>3455.0</td>\n",
       "      <td>3261.0</td>\n",
       "      <td>0.0</td>\n",
       "      <td>1000.0</td>\n",
       "      <td>1000.0</td>\n",
       "      <td>1000.0</td>\n",
       "      <td>0.0</td>\n",
       "      <td>2000.0</td>\n",
       "      <td>1</td>\n",
       "    </tr>\n",
       "    <tr>\n",
       "      <th>2</th>\n",
       "      <td>3</td>\n",
       "      <td>90000.0</td>\n",
       "      <td>2</td>\n",
       "      <td>2</td>\n",
       "      <td>2</td>\n",
       "      <td>34</td>\n",
       "      <td>0</td>\n",
       "      <td>0</td>\n",
       "      <td>0</td>\n",
       "      <td>0</td>\n",
       "      <td>...</td>\n",
       "      <td>14331.0</td>\n",
       "      <td>14948.0</td>\n",
       "      <td>15549.0</td>\n",
       "      <td>1518.0</td>\n",
       "      <td>1500.0</td>\n",
       "      <td>1000.0</td>\n",
       "      <td>1000.0</td>\n",
       "      <td>1000.0</td>\n",
       "      <td>5000.0</td>\n",
       "      <td>0</td>\n",
       "    </tr>\n",
       "    <tr>\n",
       "      <th>3</th>\n",
       "      <td>4</td>\n",
       "      <td>50000.0</td>\n",
       "      <td>2</td>\n",
       "      <td>2</td>\n",
       "      <td>1</td>\n",
       "      <td>37</td>\n",
       "      <td>0</td>\n",
       "      <td>0</td>\n",
       "      <td>0</td>\n",
       "      <td>0</td>\n",
       "      <td>...</td>\n",
       "      <td>28314.0</td>\n",
       "      <td>28959.0</td>\n",
       "      <td>29547.0</td>\n",
       "      <td>2000.0</td>\n",
       "      <td>2019.0</td>\n",
       "      <td>1200.0</td>\n",
       "      <td>1100.0</td>\n",
       "      <td>1069.0</td>\n",
       "      <td>1000.0</td>\n",
       "      <td>0</td>\n",
       "    </tr>\n",
       "    <tr>\n",
       "      <th>4</th>\n",
       "      <td>5</td>\n",
       "      <td>50000.0</td>\n",
       "      <td>1</td>\n",
       "      <td>2</td>\n",
       "      <td>1</td>\n",
       "      <td>57</td>\n",
       "      <td>-1</td>\n",
       "      <td>0</td>\n",
       "      <td>-1</td>\n",
       "      <td>0</td>\n",
       "      <td>...</td>\n",
       "      <td>20940.0</td>\n",
       "      <td>19146.0</td>\n",
       "      <td>19131.0</td>\n",
       "      <td>2000.0</td>\n",
       "      <td>36681.0</td>\n",
       "      <td>10000.0</td>\n",
       "      <td>9000.0</td>\n",
       "      <td>689.0</td>\n",
       "      <td>679.0</td>\n",
       "      <td>0</td>\n",
       "    </tr>\n",
       "    <tr>\n",
       "      <th>...</th>\n",
       "      <td>...</td>\n",
       "      <td>...</td>\n",
       "      <td>...</td>\n",
       "      <td>...</td>\n",
       "      <td>...</td>\n",
       "      <td>...</td>\n",
       "      <td>...</td>\n",
       "      <td>...</td>\n",
       "      <td>...</td>\n",
       "      <td>...</td>\n",
       "      <td>...</td>\n",
       "      <td>...</td>\n",
       "      <td>...</td>\n",
       "      <td>...</td>\n",
       "      <td>...</td>\n",
       "      <td>...</td>\n",
       "      <td>...</td>\n",
       "      <td>...</td>\n",
       "      <td>...</td>\n",
       "      <td>...</td>\n",
       "      <td>...</td>\n",
       "    </tr>\n",
       "    <tr>\n",
       "      <th>29995</th>\n",
       "      <td>29996</td>\n",
       "      <td>220000.0</td>\n",
       "      <td>1</td>\n",
       "      <td>3</td>\n",
       "      <td>1</td>\n",
       "      <td>39</td>\n",
       "      <td>0</td>\n",
       "      <td>0</td>\n",
       "      <td>0</td>\n",
       "      <td>0</td>\n",
       "      <td>...</td>\n",
       "      <td>88004.0</td>\n",
       "      <td>31237.0</td>\n",
       "      <td>15980.0</td>\n",
       "      <td>8500.0</td>\n",
       "      <td>20000.0</td>\n",
       "      <td>5003.0</td>\n",
       "      <td>3047.0</td>\n",
       "      <td>5000.0</td>\n",
       "      <td>1000.0</td>\n",
       "      <td>0</td>\n",
       "    </tr>\n",
       "    <tr>\n",
       "      <th>29996</th>\n",
       "      <td>29997</td>\n",
       "      <td>150000.0</td>\n",
       "      <td>1</td>\n",
       "      <td>3</td>\n",
       "      <td>2</td>\n",
       "      <td>43</td>\n",
       "      <td>-1</td>\n",
       "      <td>-1</td>\n",
       "      <td>-1</td>\n",
       "      <td>-1</td>\n",
       "      <td>...</td>\n",
       "      <td>8979.0</td>\n",
       "      <td>5190.0</td>\n",
       "      <td>0.0</td>\n",
       "      <td>1837.0</td>\n",
       "      <td>3526.0</td>\n",
       "      <td>8998.0</td>\n",
       "      <td>129.0</td>\n",
       "      <td>0.0</td>\n",
       "      <td>0.0</td>\n",
       "      <td>0</td>\n",
       "    </tr>\n",
       "    <tr>\n",
       "      <th>29997</th>\n",
       "      <td>29998</td>\n",
       "      <td>30000.0</td>\n",
       "      <td>1</td>\n",
       "      <td>2</td>\n",
       "      <td>2</td>\n",
       "      <td>37</td>\n",
       "      <td>4</td>\n",
       "      <td>3</td>\n",
       "      <td>2</td>\n",
       "      <td>-1</td>\n",
       "      <td>...</td>\n",
       "      <td>20878.0</td>\n",
       "      <td>20582.0</td>\n",
       "      <td>19357.0</td>\n",
       "      <td>0.0</td>\n",
       "      <td>0.0</td>\n",
       "      <td>22000.0</td>\n",
       "      <td>4200.0</td>\n",
       "      <td>2000.0</td>\n",
       "      <td>3100.0</td>\n",
       "      <td>1</td>\n",
       "    </tr>\n",
       "    <tr>\n",
       "      <th>29998</th>\n",
       "      <td>29999</td>\n",
       "      <td>80000.0</td>\n",
       "      <td>1</td>\n",
       "      <td>3</td>\n",
       "      <td>1</td>\n",
       "      <td>41</td>\n",
       "      <td>1</td>\n",
       "      <td>-1</td>\n",
       "      <td>0</td>\n",
       "      <td>0</td>\n",
       "      <td>...</td>\n",
       "      <td>52774.0</td>\n",
       "      <td>11855.0</td>\n",
       "      <td>48944.0</td>\n",
       "      <td>85900.0</td>\n",
       "      <td>3409.0</td>\n",
       "      <td>1178.0</td>\n",
       "      <td>1926.0</td>\n",
       "      <td>52964.0</td>\n",
       "      <td>1804.0</td>\n",
       "      <td>1</td>\n",
       "    </tr>\n",
       "    <tr>\n",
       "      <th>29999</th>\n",
       "      <td>30000</td>\n",
       "      <td>50000.0</td>\n",
       "      <td>1</td>\n",
       "      <td>2</td>\n",
       "      <td>1</td>\n",
       "      <td>46</td>\n",
       "      <td>0</td>\n",
       "      <td>0</td>\n",
       "      <td>0</td>\n",
       "      <td>0</td>\n",
       "      <td>...</td>\n",
       "      <td>36535.0</td>\n",
       "      <td>32428.0</td>\n",
       "      <td>15313.0</td>\n",
       "      <td>2078.0</td>\n",
       "      <td>1800.0</td>\n",
       "      <td>1430.0</td>\n",
       "      <td>1000.0</td>\n",
       "      <td>1000.0</td>\n",
       "      <td>1000.0</td>\n",
       "      <td>1</td>\n",
       "    </tr>\n",
       "  </tbody>\n",
       "</table>\n",
       "<p>30000 rows × 25 columns</p>\n",
       "</div>"
      ],
      "text/plain": [
       "          ID  LIMIT_BAL  SEX  EDUCATION  MARRIAGE  AGE  PAY_0  PAY_2  PAY_3  \\\n",
       "0          1    20000.0    2          2         1   24      2      2     -1   \n",
       "1          2   120000.0    2          2         2   26     -1      2      0   \n",
       "2          3    90000.0    2          2         2   34      0      0      0   \n",
       "3          4    50000.0    2          2         1   37      0      0      0   \n",
       "4          5    50000.0    1          2         1   57     -1      0     -1   \n",
       "...      ...        ...  ...        ...       ...  ...    ...    ...    ...   \n",
       "29995  29996   220000.0    1          3         1   39      0      0      0   \n",
       "29996  29997   150000.0    1          3         2   43     -1     -1     -1   \n",
       "29997  29998    30000.0    1          2         2   37      4      3      2   \n",
       "29998  29999    80000.0    1          3         1   41      1     -1      0   \n",
       "29999  30000    50000.0    1          2         1   46      0      0      0   \n",
       "\n",
       "       PAY_4  ...  BILL_AMT4  BILL_AMT5  BILL_AMT6  PAY_AMT1  PAY_AMT2  \\\n",
       "0         -1  ...        0.0        0.0        0.0       0.0     689.0   \n",
       "1          0  ...     3272.0     3455.0     3261.0       0.0    1000.0   \n",
       "2          0  ...    14331.0    14948.0    15549.0    1518.0    1500.0   \n",
       "3          0  ...    28314.0    28959.0    29547.0    2000.0    2019.0   \n",
       "4          0  ...    20940.0    19146.0    19131.0    2000.0   36681.0   \n",
       "...      ...  ...        ...        ...        ...       ...       ...   \n",
       "29995      0  ...    88004.0    31237.0    15980.0    8500.0   20000.0   \n",
       "29996     -1  ...     8979.0     5190.0        0.0    1837.0    3526.0   \n",
       "29997     -1  ...    20878.0    20582.0    19357.0       0.0       0.0   \n",
       "29998      0  ...    52774.0    11855.0    48944.0   85900.0    3409.0   \n",
       "29999      0  ...    36535.0    32428.0    15313.0    2078.0    1800.0   \n",
       "\n",
       "       PAY_AMT3  PAY_AMT4  PAY_AMT5  PAY_AMT6  default.payment.next.month  \n",
       "0           0.0       0.0       0.0       0.0                           1  \n",
       "1        1000.0    1000.0       0.0    2000.0                           1  \n",
       "2        1000.0    1000.0    1000.0    5000.0                           0  \n",
       "3        1200.0    1100.0    1069.0    1000.0                           0  \n",
       "4       10000.0    9000.0     689.0     679.0                           0  \n",
       "...         ...       ...       ...       ...                         ...  \n",
       "29995    5003.0    3047.0    5000.0    1000.0                           0  \n",
       "29996    8998.0     129.0       0.0       0.0                           0  \n",
       "29997   22000.0    4200.0    2000.0    3100.0                           1  \n",
       "29998    1178.0    1926.0   52964.0    1804.0                           1  \n",
       "29999    1430.0    1000.0    1000.0    1000.0                           1  \n",
       "\n",
       "[30000 rows x 25 columns]"
      ]
     },
     "execution_count": 2,
     "metadata": {},
     "output_type": "execute_result"
    }
   ],
   "source": [
    "import pandas as pd\n",
    "credit = pd.read_csv('uci_credit_card.csv')\n",
    "credit"
   ]
  },
  {
   "cell_type": "markdown",
   "id": "fa495e56-6650-433d-bd7d-b308898114b6",
   "metadata": {},
   "source": [
    "# Neural Networks"
   ]
  },
  {
   "cell_type": "markdown",
   "id": "338cfe40-2fb5-4d28-8336-4958054b56f8",
   "metadata": {},
   "source": [
    "## Dense layers"
   ]
  },
  {
   "cell_type": "markdown",
   "id": "18a88cc9-0b41-444a-ab6f-3a0445040f50",
   "metadata": {},
   "source": [
    "### The linear regression model"
   ]
  },
  {
   "cell_type": "markdown",
   "id": "9dac6a8a-005c-4f30-b488-34fc665c75fc",
   "metadata": {},
   "source": [
    "### A simple dense layer"
   ]
  },
  {
   "cell_type": "code",
   "execution_count": 3,
   "id": "75541972-ef30-4ac5-b688-de4c58d4824f",
   "metadata": {
    "execution": {
     "iopub.execute_input": "2023-02-03T03:55:52.395117Z",
     "iopub.status.busy": "2023-02-03T03:55:52.395016Z",
     "iopub.status.idle": "2023-02-03T03:55:52.402338Z",
     "shell.execute_reply": "2023-02-03T03:55:52.401990Z",
     "shell.execute_reply.started": "2023-02-03T03:55:52.395107Z"
    },
    "tags": []
   },
   "outputs": [
    {
     "name": "stderr",
     "output_type": "stream",
     "text": [
      "2023-02-03 00:55:52.398058: E tensorflow/stream_executor/cuda/cuda_driver.cc:271] failed call to cuInit: CUDA_ERROR_UNKNOWN: unknown error\n"
     ]
    },
    {
     "data": {
      "text/plain": [
       "<tf.Tensor: shape=(1, 2), dtype=float32, numpy=array([[ 1., 35.]], dtype=float32)>"
      ]
     },
     "execution_count": 3,
     "metadata": {},
     "output_type": "execute_result"
    }
   ],
   "source": [
    "# Define inputs (features)\n",
    "inputs = tf.constant([[1, 35]], dtype='float32')\n",
    "inputs"
   ]
  },
  {
   "cell_type": "code",
   "execution_count": 4,
   "id": "317709bc-134d-4557-96cd-3c4ed62704e7",
   "metadata": {
    "execution": {
     "iopub.execute_input": "2023-02-03T03:55:52.402783Z",
     "iopub.status.busy": "2023-02-03T03:55:52.402680Z",
     "iopub.status.idle": "2023-02-03T03:55:52.406223Z",
     "shell.execute_reply": "2023-02-03T03:55:52.405981Z",
     "shell.execute_reply.started": "2023-02-03T03:55:52.402773Z"
    },
    "tags": []
   },
   "outputs": [
    {
     "data": {
      "text/plain": [
       "<tf.Variable 'Variable:0' shape=(2, 1) dtype=float32, numpy=\n",
       "array([[-0.05],\n",
       "       [-0.01]], dtype=float32)>"
      ]
     },
     "execution_count": 4,
     "metadata": {},
     "output_type": "execute_result"
    }
   ],
   "source": [
    "# Define weights\n",
    "weights = tf.Variable([[-0.05], [-0.01]])\n",
    "weights"
   ]
  },
  {
   "cell_type": "code",
   "execution_count": 5,
   "id": "60f5f722-538b-4467-bc0d-50b202e7dfb9",
   "metadata": {
    "execution": {
     "iopub.execute_input": "2023-02-03T03:55:52.406657Z",
     "iopub.status.busy": "2023-02-03T03:55:52.406564Z",
     "iopub.status.idle": "2023-02-03T03:55:52.409119Z",
     "shell.execute_reply": "2023-02-03T03:55:52.408881Z",
     "shell.execute_reply.started": "2023-02-03T03:55:52.406647Z"
    },
    "tags": []
   },
   "outputs": [
    {
     "data": {
      "text/plain": [
       "<tf.Variable 'Variable:0' shape=(1,) dtype=float32, numpy=array([0.5], dtype=float32)>"
      ]
     },
     "execution_count": 5,
     "metadata": {},
     "output_type": "execute_result"
    }
   ],
   "source": [
    "# Define the bias\n",
    "bias = tf.Variable([0.5])\n",
    "bias"
   ]
  },
  {
   "cell_type": "code",
   "execution_count": 6,
   "id": "882cc96b-04db-4346-8aad-262dde2b931e",
   "metadata": {
    "execution": {
     "iopub.execute_input": "2023-02-03T03:55:52.409618Z",
     "iopub.status.busy": "2023-02-03T03:55:52.409433Z",
     "iopub.status.idle": "2023-02-03T03:55:52.416118Z",
     "shell.execute_reply": "2023-02-03T03:55:52.415864Z",
     "shell.execute_reply.started": "2023-02-03T03:55:52.409608Z"
    },
    "tags": []
   },
   "outputs": [
    {
     "data": {
      "text/plain": [
       "<tf.Tensor: shape=(1, 1), dtype=float32, numpy=array([[0.5249792]], dtype=float32)>"
      ]
     },
     "execution_count": 6,
     "metadata": {},
     "output_type": "execute_result"
    }
   ],
   "source": [
    "# Multiply inputs (features) by the weights\n",
    "product = tf.matmul(inputs, weights)\n",
    "# Define dense layer\n",
    "dense = tf.keras.activations.sigmoid(product+bias)\n",
    "dense"
   ]
  },
  {
   "cell_type": "markdown",
   "id": "6c26f44e-e240-4423-859c-77c24dcff7c6",
   "metadata": {},
   "source": [
    "### Defining a complete model"
   ]
  },
  {
   "cell_type": "code",
   "execution_count": 7,
   "id": "f8702444-b3d3-4683-af0d-48e2fa201e66",
   "metadata": {
    "execution": {
     "iopub.execute_input": "2023-02-03T03:55:52.417274Z",
     "iopub.status.busy": "2023-02-03T03:55:52.417164Z",
     "iopub.status.idle": "2023-02-03T03:55:52.424618Z",
     "shell.execute_reply": "2023-02-03T03:55:52.424369Z",
     "shell.execute_reply.started": "2023-02-03T03:55:52.417263Z"
    },
    "tags": []
   },
   "outputs": [
    {
     "data": {
      "text/plain": [
       "<keras.layers.core.dense.Dense at 0x7fe551929d30>"
      ]
     },
     "execution_count": 7,
     "metadata": {},
     "output_type": "execute_result"
    }
   ],
   "source": [
    "# Define input (features) layer\n",
    "data=credit.iloc[:,1:-1].values\n",
    "inputs = tf.constant(data, tf.float32)\n",
    "# Define first dense layer\n",
    "dense1 = tf.keras.layers.Dense(10, activation='sigmoid')\n",
    "dense1"
   ]
  },
  {
   "cell_type": "code",
   "execution_count": 8,
   "id": "af385b71-6dfb-4a48-8cb6-e1bd66830eb8",
   "metadata": {
    "execution": {
     "iopub.execute_input": "2023-02-03T03:55:52.425200Z",
     "iopub.status.busy": "2023-02-03T03:55:52.424968Z",
     "iopub.status.idle": "2023-02-03T03:55:52.450056Z",
     "shell.execute_reply": "2023-02-03T03:55:52.449751Z",
     "shell.execute_reply.started": "2023-02-03T03:55:52.425189Z"
    },
    "tags": []
   },
   "outputs": [
    {
     "data": {
      "text/plain": [
       "<tf.Tensor: shape=(30000, 10), dtype=float32, numpy=\n",
       "array([[1., 1., 0., ..., 1., 0., 0.],\n",
       "       [1., 1., 0., ..., 1., 0., 0.],\n",
       "       [1., 0., 0., ..., 1., 0., 0.],\n",
       "       ...,\n",
       "       [1., 0., 0., ..., 1., 1., 0.],\n",
       "       [1., 1., 0., ..., 1., 0., 0.],\n",
       "       [1., 0., 0., ..., 1., 0., 0.]], dtype=float32)>"
      ]
     },
     "execution_count": 8,
     "metadata": {},
     "output_type": "execute_result"
    }
   ],
   "source": [
    "dense1 = dense1(inputs)\n",
    "dense1"
   ]
  },
  {
   "cell_type": "code",
   "execution_count": 9,
   "id": "f87840cf-95ff-4ce7-8b87-668ae5c93ee8",
   "metadata": {
    "execution": {
     "iopub.execute_input": "2023-02-03T03:55:52.450538Z",
     "iopub.status.busy": "2023-02-03T03:55:52.450436Z",
     "iopub.status.idle": "2023-02-03T03:55:52.453405Z",
     "shell.execute_reply": "2023-02-03T03:55:52.453145Z",
     "shell.execute_reply.started": "2023-02-03T03:55:52.450528Z"
    },
    "tags": []
   },
   "outputs": [
    {
     "data": {
      "text/plain": [
       "<keras.layers.core.dense.Dense at 0x7fe5518cb4f0>"
      ]
     },
     "execution_count": 9,
     "metadata": {},
     "output_type": "execute_result"
    }
   ],
   "source": [
    "# Define second dense layer\n",
    "dense2 = tf.keras.layers.Dense(5, activation='sigmoid')\n",
    "dense2"
   ]
  },
  {
   "cell_type": "code",
   "execution_count": 10,
   "id": "2a0cdb93-fc27-405b-99ef-a91cfd90a851",
   "metadata": {
    "execution": {
     "iopub.execute_input": "2023-02-03T03:55:52.453847Z",
     "iopub.status.busy": "2023-02-03T03:55:52.453748Z",
     "iopub.status.idle": "2023-02-03T03:55:52.457943Z",
     "shell.execute_reply": "2023-02-03T03:55:52.457688Z",
     "shell.execute_reply.started": "2023-02-03T03:55:52.453837Z"
    },
    "tags": []
   },
   "outputs": [
    {
     "data": {
      "text/plain": [
       "<tf.Tensor: shape=(30000, 5), dtype=float32, numpy=\n",
       "array([[0.49385005, 0.30658865, 0.14536503, 0.42213428, 0.23339957],\n",
       "       [0.49385005, 0.30658865, 0.14536503, 0.42213428, 0.23339957],\n",
       "       [0.38051793, 0.3946194 , 0.20912471, 0.5070648 , 0.3345345 ],\n",
       "       ...,\n",
       "       [0.25983927, 0.4089863 , 0.18776475, 0.4956566 , 0.3022782 ],\n",
       "       [0.49385005, 0.30658865, 0.14536503, 0.42213428, 0.23339957],\n",
       "       [0.44987175, 0.32439822, 0.18925014, 0.43251112, 0.42675564]],\n",
       "      dtype=float32)>"
      ]
     },
     "execution_count": 10,
     "metadata": {},
     "output_type": "execute_result"
    }
   ],
   "source": [
    "dense2 = dense2(dense1)\n",
    "dense2"
   ]
  },
  {
   "cell_type": "code",
   "execution_count": 11,
   "id": "cc0103ca-d9bc-4d51-9535-5c1372981d7c",
   "metadata": {
    "execution": {
     "iopub.execute_input": "2023-02-03T03:55:52.458381Z",
     "iopub.status.busy": "2023-02-03T03:55:52.458280Z",
     "iopub.status.idle": "2023-02-03T03:55:52.461190Z",
     "shell.execute_reply": "2023-02-03T03:55:52.460902Z",
     "shell.execute_reply.started": "2023-02-03T03:55:52.458372Z"
    },
    "tags": []
   },
   "outputs": [
    {
     "data": {
      "text/plain": [
       "<keras.layers.core.dense.Dense at 0x7fe5518b7250>"
      ]
     },
     "execution_count": 11,
     "metadata": {},
     "output_type": "execute_result"
    }
   ],
   "source": [
    "# Define output (predictions) layer\n",
    "outputs = tf.keras.layers.Dense(1, activation='sigmoid')\n",
    "outputs"
   ]
  },
  {
   "cell_type": "code",
   "execution_count": 12,
   "id": "d93c879a-4398-4b92-a048-576aa3fd4128",
   "metadata": {
    "execution": {
     "iopub.execute_input": "2023-02-03T03:55:52.461667Z",
     "iopub.status.busy": "2023-02-03T03:55:52.461564Z",
     "iopub.status.idle": "2023-02-03T03:55:52.465458Z",
     "shell.execute_reply": "2023-02-03T03:55:52.465213Z",
     "shell.execute_reply.started": "2023-02-03T03:55:52.461657Z"
    },
    "tags": []
   },
   "outputs": [
    {
     "data": {
      "text/plain": [
       "<tf.Tensor: shape=(30000, 1), dtype=float32, numpy=\n",
       "array([[0.3905689 ],\n",
       "       [0.3905689 ],\n",
       "       [0.38115737],\n",
       "       ...,\n",
       "       [0.39609477],\n",
       "       [0.3905689 ],\n",
       "       [0.3608697 ]], dtype=float32)>"
      ]
     },
     "execution_count": 12,
     "metadata": {},
     "output_type": "execute_result"
    }
   ],
   "source": [
    "outputs = outputs(dense2)\n",
    "outputs"
   ]
  },
  {
   "cell_type": "markdown",
   "id": "952d70aa-abf1-482c-85f6-bae39a0fca06",
   "metadata": {},
   "source": [
    "### High-level versus low-level approach\n",
    "* High-level approach\n",
    "    * High-level API operations  \n",
    "    `dense = keras.layers.Dense(10, activation='sigmoid')`\n",
    "* Low-level approach\n",
    "    * Linear-algebraic operations  \n",
    "    `prod = matmul(inputs, weights)`  \n",
    "    `dense = keras.activations.sigmoid(prod)`"
   ]
  },
  {
   "cell_type": "markdown",
   "id": "b259784f-9664-4300-8c77-bffea7434fdc",
   "metadata": {},
   "source": [
    "### The linear algebra of dense layers"
   ]
  },
  {
   "cell_type": "code",
   "execution_count": 13,
   "id": "0835a367-24d7-42dc-a299-e27a97cccea7",
   "metadata": {
    "execution": {
     "iopub.execute_input": "2023-02-03T03:55:52.465905Z",
     "iopub.status.busy": "2023-02-03T03:55:52.465810Z",
     "iopub.status.idle": "2023-02-03T03:55:52.469128Z",
     "shell.execute_reply": "2023-02-03T03:55:52.468874Z",
     "shell.execute_reply.started": "2023-02-03T03:55:52.465896Z"
    },
    "tags": []
   },
   "outputs": [
    {
     "data": {
      "text/plain": [
       "<tf.Tensor: shape=(30000, 3), dtype=float32, numpy=\n",
       "array([[ 2.,  1., 24.],\n",
       "       [ 2.,  2., 26.],\n",
       "       [ 2.,  2., 34.],\n",
       "       ...,\n",
       "       [ 2.,  2., 37.],\n",
       "       [ 3.,  1., 41.],\n",
       "       [ 2.,  1., 46.]], dtype=float32)>"
      ]
     },
     "execution_count": 13,
     "metadata": {},
     "output_type": "execute_result"
    }
   ],
   "source": [
    "borrower_features = tf.constant(credit[['EDUCATION', 'MARRIAGE', 'AGE']].values, dtype='float32')\n",
    "borrower_features"
   ]
  },
  {
   "cell_type": "code",
   "execution_count": 14,
   "id": "1e5e7373-796c-4e62-a4d5-31d9a168f47f",
   "metadata": {
    "execution": {
     "iopub.execute_input": "2023-02-03T03:55:52.469565Z",
     "iopub.status.busy": "2023-02-03T03:55:52.469469Z",
     "iopub.status.idle": "2023-02-03T03:55:52.472378Z",
     "shell.execute_reply": "2023-02-03T03:55:52.472063Z",
     "shell.execute_reply.started": "2023-02-03T03:55:52.469555Z"
    },
    "tags": []
   },
   "outputs": [
    {
     "data": {
      "text/plain": [
       "<tf.Variable 'Variable:0' shape=(1,) dtype=float32, numpy=array([1.], dtype=float32)>"
      ]
     },
     "execution_count": 14,
     "metadata": {},
     "output_type": "execute_result"
    }
   ],
   "source": [
    "# Initialize bias1\n",
    "bias1 = tf.Variable([1.0])\n",
    "bias1"
   ]
  },
  {
   "cell_type": "code",
   "execution_count": 15,
   "id": "9a609585-ed0e-479a-be96-c203059711f1",
   "metadata": {
    "execution": {
     "iopub.execute_input": "2023-02-03T03:55:52.472861Z",
     "iopub.status.busy": "2023-02-03T03:55:52.472756Z",
     "iopub.status.idle": "2023-02-03T03:55:52.475964Z",
     "shell.execute_reply": "2023-02-03T03:55:52.475697Z",
     "shell.execute_reply.started": "2023-02-03T03:55:52.472851Z"
    },
    "tags": []
   },
   "outputs": [
    {
     "data": {
      "text/plain": [
       "<tf.Variable 'Variable:0' shape=(3, 2) dtype=float32, numpy=\n",
       "array([[1., 1.],\n",
       "       [1., 1.],\n",
       "       [1., 1.]], dtype=float32)>"
      ]
     },
     "execution_count": 15,
     "metadata": {},
     "output_type": "execute_result"
    }
   ],
   "source": [
    "# Initialize weights1 as 3x2 variable of ones\n",
    "weights1 = tf.Variable(tf.ones((3, 2)), dtype='float32')\n",
    "weights1"
   ]
  },
  {
   "cell_type": "code",
   "execution_count": 16,
   "id": "75b2e07b-90c9-4161-8423-160aa20b22ef",
   "metadata": {
    "execution": {
     "iopub.execute_input": "2023-02-03T03:55:52.476420Z",
     "iopub.status.busy": "2023-02-03T03:55:52.476323Z",
     "iopub.status.idle": "2023-02-03T03:55:52.479012Z",
     "shell.execute_reply": "2023-02-03T03:55:52.478744Z",
     "shell.execute_reply.started": "2023-02-03T03:55:52.476410Z"
    },
    "tags": []
   },
   "outputs": [
    {
     "name": "stdout",
     "output_type": "stream",
     "text": [
      "\n",
      " dense1's output shape: (30000, 2)\n"
     ]
    }
   ],
   "source": [
    "# Perform matrix multiplication of borrower_features and weights1\n",
    "product1 = tf.matmul(borrower_features, weights1)\n",
    "# Apply sigmoid activation function to product1 + bias1\n",
    "dense1 = tf.keras.activations.sigmoid(product1 + bias1)\n",
    "# Print shape of dense1\n",
    "print(\"\\n dense1's output shape: {}\".format(dense1.shape))"
   ]
  },
  {
   "cell_type": "code",
   "execution_count": 17,
   "id": "85aee2d6-ae56-4056-a5cb-3c6f7bee7605",
   "metadata": {
    "execution": {
     "iopub.execute_input": "2023-02-03T03:55:52.479480Z",
     "iopub.status.busy": "2023-02-03T03:55:52.479377Z",
     "iopub.status.idle": "2023-02-03T03:55:52.482998Z",
     "shell.execute_reply": "2023-02-03T03:55:52.482729Z",
     "shell.execute_reply.started": "2023-02-03T03:55:52.479469Z"
    },
    "tags": []
   },
   "outputs": [
    {
     "data": {
      "text/plain": [
       "<tf.Tensor: shape=(30000, 1), dtype=float32, numpy=\n",
       "array([[2.],\n",
       "       [2.],\n",
       "       [2.],\n",
       "       ...,\n",
       "       [2.],\n",
       "       [2.],\n",
       "       [2.]], dtype=float32)>"
      ]
     },
     "execution_count": 17,
     "metadata": {},
     "output_type": "execute_result"
    }
   ],
   "source": [
    "# Initialize bias2 and weights2\n",
    "bias2 = tf.Variable(1.0)\n",
    "weights2 = tf.Variable(tf.ones((2, 1)))\n",
    "\n",
    "# Perform matrix multiplication of dense1 and weights2\n",
    "product2 = tf.matmul(dense1, weights2)\n",
    "product2"
   ]
  },
  {
   "cell_type": "code",
   "execution_count": 18,
   "id": "6e67b8a6-ee3d-4205-83e7-971b851dab5d",
   "metadata": {
    "execution": {
     "iopub.execute_input": "2023-02-03T03:55:52.483454Z",
     "iopub.status.busy": "2023-02-03T03:55:52.483354Z",
     "iopub.status.idle": "2023-02-03T03:55:52.485818Z",
     "shell.execute_reply": "2023-02-03T03:55:52.485537Z",
     "shell.execute_reply.started": "2023-02-03T03:55:52.483444Z"
    },
    "tags": []
   },
   "outputs": [
    {
     "name": "stdout",
     "output_type": "stream",
     "text": [
      "\n",
      " prediction: 0.9525741338729858\n",
      "\n",
      " actual: 1\n"
     ]
    }
   ],
   "source": [
    "# Apply activation to product2 + bias2 and print the prediction\n",
    "prediction = tf.keras.activations.sigmoid(product2 + bias2)\n",
    "print('\\n prediction: {}'.format(prediction.numpy()[0,0]))\n",
    "print('\\n actual: 1')"
   ]
  },
  {
   "cell_type": "markdown",
   "id": "423938ca-7652-4073-9969-6c3fb0b4aef7",
   "metadata": {},
   "source": [
    "### Exercises"
   ]
  },
  {
   "cell_type": "markdown",
   "id": "46f3e146-8b3c-4a3b-8851-e6f9d9dff880",
   "metadata": {},
   "source": [
    "#### The low-level approach with multiple examples"
   ]
  },
  {
   "cell_type": "code",
   "execution_count": 19,
   "id": "001c18e8-5883-447a-97e0-4f571a823720",
   "metadata": {
    "execution": {
     "iopub.execute_input": "2023-02-03T03:55:52.486291Z",
     "iopub.status.busy": "2023-02-03T03:55:52.486183Z",
     "iopub.status.idle": "2023-02-03T03:55:52.490721Z",
     "shell.execute_reply": "2023-02-03T03:55:52.490452Z",
     "shell.execute_reply.started": "2023-02-03T03:55:52.486281Z"
    },
    "tags": []
   },
   "outputs": [
    {
     "name": "stdout",
     "output_type": "stream",
     "text": [
      "\n",
      " shape of borrower_features:  (30000, 3)\n",
      "\n",
      " shape of weights1:  (3, 2)\n",
      "\n",
      " shape of bias1:  (1,)\n",
      "\n",
      " shape of dense1:  (30000, 2)\n"
     ]
    }
   ],
   "source": [
    "borrower_features = tf.constant(credit[['EDUCATION', 'MARRIAGE', 'AGE']].values, dtype='float32')\n",
    "\n",
    "bias1 = tf.Variable([0.1])\n",
    "\n",
    "weights1 = tf.Variable([[-0.6, 0.6],\n",
    "                        [0.8, -0.3],\n",
    "                        [-0.09, -0.08]], dtype='float32')\n",
    "\n",
    "# Compute the product of borrower_features and weights1\n",
    "products1 = tf.matmul(borrower_features, weights1)\n",
    "\n",
    "# Apply a sigmoid activation function to products1 + bias1\n",
    "dense1 = tf.keras.activations.sigmoid(products1 + bias1)\n",
    "\n",
    "# Print the shapes of borrower_features, weights1, bias1, and dense1\n",
    "print('\\n shape of borrower_features: ', borrower_features.shape)\n",
    "print('\\n shape of weights1: ', weights1.shape)\n",
    "print('\\n shape of bias1: ', bias1.shape)\n",
    "print('\\n shape of dense1: ', dense1.shape)"
   ]
  },
  {
   "cell_type": "markdown",
   "id": "34eb21ad-7bb8-4b78-a8fc-a3446e0430fa",
   "metadata": {
    "tags": []
   },
   "source": [
    "#### Using the dense layer operation"
   ]
  },
  {
   "cell_type": "code",
   "execution_count": 20,
   "id": "c819326e-59b4-481f-a1ca-3fc655d3e697",
   "metadata": {
    "execution": {
     "iopub.execute_input": "2023-02-03T03:55:52.491187Z",
     "iopub.status.busy": "2023-02-03T03:55:52.491082Z",
     "iopub.status.idle": "2023-02-03T03:55:52.499927Z",
     "shell.execute_reply": "2023-02-03T03:55:52.499666Z",
     "shell.execute_reply.started": "2023-02-03T03:55:52.491177Z"
    },
    "tags": []
   },
   "outputs": [
    {
     "name": "stdout",
     "output_type": "stream",
     "text": [
      "\n",
      " shape of dense1:  (30000, 7)\n",
      "\n",
      " shape of dense2:  (30000, 3)\n",
      "\n",
      " shape of predictions:  (30000, 1)\n"
     ]
    }
   ],
   "source": [
    "borrower_features = tf.constant(credit.iloc[:, 1:11].values, dtype='float32')\n",
    "\n",
    "# Define the first dense layer\n",
    "dense1 = tf.keras.layers.Dense(7, activation='sigmoid')(borrower_features)\n",
    "\n",
    "# Define a dense layer with 3 output nodes\n",
    "dense2 = tf.keras.layers.Dense(3, activation='sigmoid')(dense1)\n",
    "\n",
    "# Define a dense layer with 1 output node\n",
    "predictions = tf.keras.layers.Dense(1, activation='sigmoid')(dense2)\n",
    "\n",
    "# Print the shapes of dense1, dense2, and predictions\n",
    "print('\\n shape of dense1: ', dense1.shape)\n",
    "print('\\n shape of dense2: ', dense2.shape)\n",
    "print('\\n shape of predictions: ', predictions.shape)"
   ]
  },
  {
   "cell_type": "markdown",
   "id": "6c054f22-8a75-4645-b9db-48c192a6565a",
   "metadata": {},
   "source": [
    "##  Activation functions"
   ]
  },
  {
   "cell_type": "markdown",
   "id": "f0573834-17b3-4d81-b428-164a5a8a39d9",
   "metadata": {},
   "source": [
    "### What is an activation function?\n",
    "* Components of a typical hidden layer\n",
    "    * Linear: Matrix multiplication\n",
    "    * Nonlinear: Activation function"
   ]
  },
  {
   "cell_type": "markdown",
   "id": "c00be6d4-41f2-4bae-b585-1fe105cb3bf0",
   "metadata": {},
   "source": [
    "### Why nonlinearities are important?"
   ]
  },
  {
   "cell_type": "markdown",
   "id": "93c5a30b-f823-4688-88ce-37521eaaab8b",
   "metadata": {},
   "source": [
    "Consider a simple model using the credit card data. The features are borrower age and credit card bill amount. The target variable is default. \n",
    "\n",
    "We can see that bill amount usually increases early in life and decreases later in life. This suggests that a high bill for young and older borrowers may mean something different for default."
   ]
  },
  {
   "cell_type": "code",
   "execution_count": 21,
   "id": "ebe7d061-afb0-4bf1-89d0-875256d2fac9",
   "metadata": {
    "execution": {
     "iopub.execute_input": "2023-02-03T03:55:52.500388Z",
     "iopub.status.busy": "2023-02-03T03:55:52.500288Z",
     "iopub.status.idle": "2023-02-03T03:55:52.621092Z",
     "shell.execute_reply": "2023-02-03T03:55:52.620671Z",
     "shell.execute_reply.started": "2023-02-03T03:55:52.500378Z"
    },
    "tags": []
   },
   "outputs": [
    {
     "data": {
      "image/png": "[encoded data removed]",
      "text/plain": [
       "<Figure size 640x480 with 1 Axes>"
      ]
     },
     "metadata": {},
     "output_type": "display_data"
    }
   ],
   "source": [
    "age_bill = credit[['AGE']]\\\n",
    "    .join(credit.loc[:, credit.columns.str.contains('BILL_AMT')].mean(axis=1).rename('Bill Amount'))\n",
    "_ = age_bill.plot.scatter(x='AGE', y='Bill Amount')"
   ]
  },
  {
   "cell_type": "code",
   "execution_count": 22,
   "id": "d6af05aa-491b-4393-9f6f-a8d3ea40390b",
   "metadata": {
    "execution": {
     "iopub.execute_input": "2023-02-03T03:55:52.623084Z",
     "iopub.status.busy": "2023-02-03T03:55:52.622968Z",
     "iopub.status.idle": "2023-02-03T03:55:52.748224Z",
     "shell.execute_reply": "2023-02-03T03:55:52.747799Z",
     "shell.execute_reply.started": "2023-02-03T03:55:52.623074Z"
    },
    "tags": []
   },
   "outputs": [
    {
     "data": {
      "text/plain": [
       "array([[<AxesSubplot:title={'center':'AGE'}>,\n",
       "        <AxesSubplot:title={'center':'Bill Amount'}>]], dtype=object)"
      ]
     },
     "execution_count": 22,
     "metadata": {},
     "output_type": "execute_result"
    },
    {
     "data": {
      "image/png": "[encoded data removed]",
      "text/plain": [
       "<Figure size 1000x500 with 2 Axes>"
      ]
     },
     "metadata": {},
     "output_type": "display_data"
    }
   ],
   "source": [
    "age_bill.hist(figsize=(10,5), grid=False)"
   ]
  },
  {
   "cell_type": "markdown",
   "id": "3be2b72e-b44b-48b2-9f33-f1b41dc5fa90",
   "metadata": {},
   "source": [
    "### A simple example"
   ]
  },
  {
   "cell_type": "markdown",
   "id": "02bd41ab-2933-43f9-9936-cdea05e48d4c",
   "metadata": {},
   "source": [
    "Let's look at a simple example, where we assume that the weight on age is 1 and the weight on the bill amount is 2. Note that ages are divided by 100 and the bill's amount is divided by 10000.\n",
    "\n",
    "We then perform the matrix multiplication step for all combinations of features: young with a high bill, young with a low bill, old with a high bill, and old with a low bill. "
   ]
  },
  {
   "cell_type": "code",
   "execution_count": 23,
   "id": "4fbae471-55f9-476a-ab14-21feac875486",
   "metadata": {
    "execution": {
     "iopub.execute_input": "2023-02-03T03:55:52.748727Z",
     "iopub.status.busy": "2023-02-03T03:55:52.748621Z",
     "iopub.status.idle": "2023-02-03T03:55:52.751070Z",
     "shell.execute_reply": "2023-02-03T03:55:52.750663Z",
     "shell.execute_reply.started": "2023-02-03T03:55:52.748717Z"
    },
    "tags": []
   },
   "outputs": [],
   "source": [
    "# Define example borrower features\n",
    "young, old = 0.3, 0.6\n",
    "# Define example coefficients\n",
    "low_bill, high_bill = 0.1, 0.5\n",
    "# Apply matrix multiplication step for all feature combinations\n",
    "young_high = 1.0*young + 2.0*high_bill\n",
    "young_low = 1.0*young + 2.0*low_bill\n",
    "old_high = 1.0*old + 2.0*high_bill\n",
    "old_low = 1.0*old + 2.0*low_bill"
   ]
  },
  {
   "cell_type": "code",
   "execution_count": 24,
   "id": "0e030209-fd79-4704-9b7b-c9a642ac6d14",
   "metadata": {
    "execution": {
     "iopub.execute_input": "2023-02-03T03:55:52.751509Z",
     "iopub.status.busy": "2023-02-03T03:55:52.751405Z",
     "iopub.status.idle": "2023-02-03T03:55:52.753409Z",
     "shell.execute_reply": "2023-02-03T03:55:52.753158Z",
     "shell.execute_reply.started": "2023-02-03T03:55:52.751499Z"
    },
    "tags": []
   },
   "outputs": [
    {
     "name": "stdout",
     "output_type": "stream",
     "text": [
      "Young high and low: 1.3 0.5\n",
      "Old high and low  : 1.6 0.8\n"
     ]
    }
   ],
   "source": [
    "print('Young high and low:', young_high, young_low)\n",
    "print('Old high and low  :', old_high, old_low)"
   ]
  },
  {
   "cell_type": "markdown",
   "id": "1da55dc8-8ccb-4c47-b909-1681296fe1a1",
   "metadata": {},
   "source": [
    "If we don't apply an activation function and we assume the bias is zero, we find that the impact of bill size on default does not depend on age. In both cases, we predict a value of 0 point 8.\n",
    "\n",
    "Note that our target is a binary variable that is equal to 1 when the borrower defaults; however, predictions will be real numbers between 0 and 1, where values over 0 point 5 will be treated as predicting default."
   ]
  },
  {
   "cell_type": "code",
   "execution_count": 25,
   "id": "8763b680-7afd-4d59-9297-1deee08775c6",
   "metadata": {
    "execution": {
     "iopub.execute_input": "2023-02-03T03:55:52.753869Z",
     "iopub.status.busy": "2023-02-03T03:55:52.753774Z",
     "iopub.status.idle": "2023-02-03T03:55:52.755721Z",
     "shell.execute_reply": "2023-02-03T03:55:52.755472Z",
     "shell.execute_reply.started": "2023-02-03T03:55:52.753859Z"
    },
    "tags": []
   },
   "outputs": [
    {
     "name": "stdout",
     "output_type": "stream",
     "text": [
      "0.8\n",
      "0.8\n"
     ]
    }
   ],
   "source": [
    "# Difference in default predictions for young\n",
    "print(young_high - young_low)\n",
    "# Difference in default predictions for old\n",
    "print(old_high - old_low)"
   ]
  },
  {
   "cell_type": "markdown",
   "id": "d52629f3-9463-4a6a-a37b-d14fb4a6ecbe",
   "metadata": {},
   "source": [
    "But what if we apply a sigmoid activation function?\n",
    "\n",
    "The impact of bill amount on default now depends on the borrower's age."
   ]
  },
  {
   "cell_type": "code",
   "execution_count": 26,
   "id": "2056a38d-3a3b-4a2e-b04c-ba8f46ea78db",
   "metadata": {
    "execution": {
     "iopub.execute_input": "2023-02-03T03:55:52.756261Z",
     "iopub.status.busy": "2023-02-03T03:55:52.756052Z",
     "iopub.status.idle": "2023-02-03T03:55:52.758461Z",
     "shell.execute_reply": "2023-02-03T03:55:52.758222Z",
     "shell.execute_reply.started": "2023-02-03T03:55:52.756250Z"
    },
    "tags": []
   },
   "outputs": [
    {
     "name": "stdout",
     "output_type": "stream",
     "text": [
      "Young high and low: 0.785835 0.62245935\n",
      "Old high and low  : 0.8320184 0.6899745\n"
     ]
    }
   ],
   "source": [
    "print('Young high and low:', tf.keras.activations.sigmoid(young_high).numpy(), tf.keras.activations.sigmoid(young_low).numpy())\n",
    "print('Old high and low  :', tf.keras.activations.sigmoid(old_high).numpy(), tf.keras.activations.sigmoid(old_low).numpy())"
   ]
  },
  {
   "cell_type": "markdown",
   "id": "fcc38f7c-0f0c-4123-aaab-13803771124e",
   "metadata": {},
   "source": [
    "In particular, we can see that the change in the predicted value for default is larger for young borrowers than it is for old borrowers. "
   ]
  },
  {
   "cell_type": "code",
   "execution_count": 27,
   "id": "e36cb504-bea2-4354-8bdf-cee9c44a1662",
   "metadata": {
    "execution": {
     "iopub.execute_input": "2023-02-03T03:55:52.758852Z",
     "iopub.status.busy": "2023-02-03T03:55:52.758759Z",
     "iopub.status.idle": "2023-02-03T03:55:52.761081Z",
     "shell.execute_reply": "2023-02-03T03:55:52.760808Z",
     "shell.execute_reply.started": "2023-02-03T03:55:52.758843Z"
    },
    "tags": []
   },
   "outputs": [
    {
     "name": "stdout",
     "output_type": "stream",
     "text": [
      "0.16337568\n",
      "0.14204389\n"
     ]
    }
   ],
   "source": [
    "# Difference in default predictions for young\n",
    "print(tf.keras.activations.sigmoid(young_high).numpy() -\n",
    "tf.keras.activations.sigmoid(young_low).numpy())\n",
    "# Difference in default predictions for old\n",
    "print(tf.keras.activations.sigmoid(old_high).numpy() -\n",
    "tf.keras.activations.sigmoid(old_low).numpy())"
   ]
  },
  {
   "cell_type": "markdown",
   "id": "7479c54a-ad52-402a-b5d9-85b06116db84",
   "metadata": {},
   "source": [
    "### The sigmoid activation function\n",
    "\n",
    "The sigmoid activation function is used primarily in the output layer of binary classification problems. When we use the low-level approach, we'll pass the sum of the product of weights and inputs into tf dot keras dot activations dot sigmoid. When we use the high-level approach, we'll simply pass sigmoid as a parameter to a keras dense layer.\n",
    "\n",
    "* Sigmoid activation function\n",
    "    * Binary classification\n",
    "    * Low-level: `tf.keras.activations.sigmoid()`\n",
    "    * High-level: `sigmoid`"
   ]
  },
  {
   "cell_type": "markdown",
   "id": "07537c30-6859-4dcf-bbf0-c8456c9f9515",
   "metadata": {},
   "source": [
    "### The relu activation function\n",
    "\n",
    "We'll typically use the rectified linear unit or relu activation in all layers other than the output layer. This activation simply takes the maximum of the value passed to it and 0.\n",
    "\n",
    "* ReLu activation function\n",
    "    * Hidden layers\n",
    "    * Low-level: `tf.keras.activations.relu()`\n",
    "    * High-level: `relu`"
   ]
  },
  {
   "cell_type": "markdown",
   "id": "acb795f4-6726-461e-9d6c-fa1d9ce4b1cf",
   "metadata": {},
   "source": [
    "### The softmax activation function\n",
    "\n",
    "The softmax activation function is used in the output layer in classification problems with more than two classes. The outputs from a softmax activation function can be interpreted as predicted class probabilities in multiclass classification problems.\n",
    "\n",
    "* Softmax activation function\n",
    "    * Output layer (>2 classes)\n",
    "    * Low-level: `tf.keras.activations.softmax()`\n",
    "    * High-level: `softmax`"
   ]
  },
  {
   "cell_type": "markdown",
   "id": "970c9655-d001-45e9-bc46-7e1bc23b59a4",
   "metadata": {
    "execution": {
     "iopub.execute_input": "2023-01-24T03:30:01.375410Z",
     "iopub.status.busy": "2023-01-24T03:30:01.375275Z",
     "iopub.status.idle": "2023-01-24T03:30:01.377689Z",
     "shell.execute_reply": "2023-01-24T03:30:01.377283Z",
     "shell.execute_reply.started": "2023-01-24T03:30:01.375398Z"
    }
   },
   "source": [
    "### Activation functions in neural networks"
   ]
  },
  {
   "cell_type": "code",
   "execution_count": 28,
   "id": "3383e3f8-70f2-480f-8c50-7db314ab6ca5",
   "metadata": {
    "execution": {
     "iopub.execute_input": "2023-02-03T03:55:52.761533Z",
     "iopub.status.busy": "2023-02-03T03:55:52.761434Z",
     "iopub.status.idle": "2023-02-03T03:55:52.770730Z",
     "shell.execute_reply": "2023-02-03T03:55:52.770476Z",
     "shell.execute_reply.started": "2023-02-03T03:55:52.761523Z"
    },
    "tags": []
   },
   "outputs": [
    {
     "data": {
      "text/plain": [
       "<tf.Tensor: shape=(30000, 4), dtype=float32, numpy=\n",
       "array([[0.11397551, 0.10099815, 0.35263735, 0.43238902],\n",
       "       [0.11397551, 0.10099815, 0.35263735, 0.43238902],\n",
       "       [0.11397551, 0.10099815, 0.35263735, 0.43238902],\n",
       "       ...,\n",
       "       [0.11397551, 0.10099815, 0.35263735, 0.43238902],\n",
       "       [0.11397551, 0.10099815, 0.35263735, 0.43238902],\n",
       "       [0.11397551, 0.10099815, 0.35263735, 0.43238902]], dtype=float32)>"
      ]
     },
     "execution_count": 28,
     "metadata": {},
     "output_type": "execute_result"
    }
   ],
   "source": [
    "# Define input layer\n",
    "inputs = tf.constant(borrower_features, tf.float32)\n",
    "# Define dense layer 1\n",
    "dense1 = tf.keras.layers.Dense(16, activation='relu')(inputs)\n",
    "# Define dense layer 2\n",
    "dense2 = tf.keras.layers.Dense(8, activation='sigmoid')(dense1)\n",
    "# Define output layer\n",
    "outputs = tf.keras.layers.Dense(4, activation='softmax')(dense2)\n",
    "outputs"
   ]
  },
  {
   "cell_type": "markdown",
   "id": "2cc8848f-6786-4f27-b5b6-e3059b9061ed",
   "metadata": {},
   "source": [
    "### Exercises"
   ]
  },
  {
   "cell_type": "markdown",
   "id": "eaf1d501-c266-41c4-8756-437cd54b2ef7",
   "metadata": {},
   "source": [
    "#### Binary classification problems"
   ]
  },
  {
   "cell_type": "code",
   "execution_count": 29,
   "id": "57fd46e8-079c-4075-b4b7-f1f8494818c0",
   "metadata": {
    "execution": {
     "iopub.execute_input": "2023-02-03T03:55:52.771193Z",
     "iopub.status.busy": "2023-02-03T03:55:52.771093Z",
     "iopub.status.idle": "2023-02-03T03:55:52.779328Z",
     "shell.execute_reply": "2023-02-03T03:55:52.779050Z",
     "shell.execute_reply.started": "2023-02-03T03:55:52.771182Z"
    },
    "tags": []
   },
   "outputs": [
    {
     "name": "stdout",
     "output_type": "stream",
     "text": [
      "tf.Tensor(\n",
      "[[0.]\n",
      " [0.]\n",
      " [0.]\n",
      " ...\n",
      " [0.]\n",
      " [0.]\n",
      " [0.]], shape=(30000, 1), dtype=float32)\n",
      "[[1.]\n",
      " [1.]\n",
      " [0.]\n",
      " [0.]\n",
      " [0.]]\n"
     ]
    }
   ],
   "source": [
    "default = credit[['default.payment.next.month']].values\n",
    "bill_amounts = credit[credit.columns[credit.columns.str.contains(r'BILL_AMT[123]', regex=True)]].values\n",
    "\n",
    "# Construct input layer from features\n",
    "inputs = tf.constant(bill_amounts, dtype='float32')\n",
    "\n",
    "# Define first dense layer\n",
    "dense1 = tf.keras.layers.Dense(6, activation='relu')(inputs)\n",
    "\n",
    "# Define second dense layer\n",
    "dense2 = tf.keras.layers.Dense(2, activation='relu')(dense1)\n",
    "\n",
    "# Define output layer\n",
    "outputs = tf.keras.layers.Dense(1, activation='sigmoid')(dense2)\n",
    "\n",
    "print(outputs)\n",
    "\n",
    "# Print error for first five examples\n",
    "error = default[:5] - outputs.numpy()[:5]\n",
    "print(error)"
   ]
  },
  {
   "cell_type": "markdown",
   "id": "4ebfe2cc-695e-42b9-83ad-7e7303ef4f48",
   "metadata": {},
   "source": [
    "If you run the code several times, you'll notice that the errors change each time.\n",
    "\n",
    "**This is because you're using an untrained model with randomly initialized parameters.**\n",
    "\n",
    "Furthermore, the errors fall on the interval between -1 and 1 because default is a binary variable that takes on values of 0 and 1 and outputs is a probability between 0 and 1."
   ]
  },
  {
   "cell_type": "markdown",
   "id": "41b06b64-328a-495e-9b74-39d26694ff29",
   "metadata": {},
   "source": [
    "#### Multiclass classification problems"
   ]
  },
  {
   "cell_type": "code",
   "execution_count": 30,
   "id": "def171ce-4fd5-4e12-9893-97b760a24fd5",
   "metadata": {
    "execution": {
     "iopub.execute_input": "2023-02-03T03:55:52.779800Z",
     "iopub.status.busy": "2023-02-03T03:55:52.779692Z",
     "iopub.status.idle": "2023-02-03T03:55:52.789078Z",
     "shell.execute_reply": "2023-02-03T03:55:52.788812Z",
     "shell.execute_reply.started": "2023-02-03T03:55:52.779789Z"
    },
    "tags": []
   },
   "outputs": [
    {
     "name": "stdout",
     "output_type": "stream",
     "text": [
      "[[0.36818108 0.01896472 0.39990318 0.02354562 0.03773895 0.03561711\n",
      "  0.11604937]\n",
      " [0.36818108 0.01896472 0.39990318 0.02354562 0.03773895 0.03561711\n",
      "  0.11604937]\n",
      " [0.36818108 0.01896472 0.39990318 0.02354562 0.03773895 0.03561711\n",
      "  0.11604937]\n",
      " [0.36818108 0.01896472 0.39990318 0.02354562 0.03773895 0.03561711\n",
      "  0.11604937]\n",
      " [0.36818108 0.01896472 0.39990318 0.02354562 0.03773895 0.03561711\n",
      "  0.11604937]]\n"
     ]
    }
   ],
   "source": [
    "borrower_features = tf.constant(credit.iloc[:, 1:11].values, dtype='float32')\n",
    "\n",
    "# Construct input layer from borrower features\n",
    "inputs = tf.constant(borrower_features, dtype='float32')\n",
    "\n",
    "# Define first dense layer\n",
    "dense1 = tf.keras.layers.Dense(10, activation='sigmoid')(inputs)  # shouldn't be relu?\n",
    "\n",
    "# Define second dense layer\n",
    "dense2 = tf.keras.layers.Dense(8, activation='relu')(dense1)\n",
    "\n",
    "# Define output layer\n",
    "outputs = tf.keras.layers.Dense(len(credit.EDUCATION.unique()), activation='softmax')(dense2)\n",
    "\n",
    "# Print first five predictions\n",
    "print(outputs.numpy()[:5])"
   ]
  },
  {
   "cell_type": "markdown",
   "id": "4854e69d-ad55-42a5-9409-ec0125338c9d",
   "metadata": {},
   "source": [
    "Notice that each row of outputs sums to (almost) one.  This is because a row contains the predicted class probabilities for one example. "
   ]
  },
  {
   "cell_type": "code",
   "execution_count": 31,
   "id": "2ad30d3c-2c19-424d-9166-7469c9a5037c",
   "metadata": {
    "execution": {
     "iopub.execute_input": "2023-02-03T03:55:52.789650Z",
     "iopub.status.busy": "2023-02-03T03:55:52.789438Z",
     "iopub.status.idle": "2023-02-03T03:55:52.792278Z",
     "shell.execute_reply": "2023-02-03T03:55:52.792052Z",
     "shell.execute_reply.started": "2023-02-03T03:55:52.789639Z"
    },
    "tags": []
   },
   "outputs": [
    {
     "data": {
      "text/plain": [
       "array([1.0000001, 1.0000001, 1.0000001, ..., 1.0000001, 1.0000001,\n",
       "       1.0000001], dtype=float32)"
      ]
     },
     "execution_count": 31,
     "metadata": {},
     "output_type": "execute_result"
    }
   ],
   "source": [
    "outputs.numpy().sum(axis=1)"
   ]
  },
  {
   "cell_type": "markdown",
   "id": "93ac2a08-b28d-492e-860d-0e4466bc13dd",
   "metadata": {},
   "source": [
    "## Optimizers"
   ]
  },
  {
   "cell_type": "markdown",
   "id": "b40a48f6-a87f-4490-85ca-d00c901deac1",
   "metadata": {},
   "source": [
    "### How to find a minimum"
   ]
  },
  {
   "cell_type": "markdown",
   "id": "1fcdb01d-f6c4-40b5-8e27-b7b0e05ec83a",
   "metadata": {},
   "source": [
    "### The gradient descent optimizer\n",
    "* Stochastic gradient descent (SGD) optimizer\n",
    "    * `tf.keras.optimizers.SGD()`\n",
    "    * `learning_rate`\n",
    "* Simple and easy to interpret"
   ]
  },
  {
   "cell_type": "markdown",
   "id": "726f3d29-3b9f-4a55-bc79-b5c1ffa94ea1",
   "metadata": {},
   "source": [
    "### The RMS prop optimizer\n",
    "* Root mean squared (RMS) propagation optimizer\n",
    "    * Applies different learning rates to each fature\n",
    "    * `tf.keras.optimizers.RMSprop()`\n",
    "    * `learning_rate`\n",
    "    * `momentum`\n",
    "    * `decay`\n",
    "* Allows for momentum to both build and decay\n",
    "* Setting a low value for the decay parameter will prevent momentum from accumulating over long periods during the training process."
   ]
  },
  {
   "cell_type": "markdown",
   "id": "bb93e43e-8209-437f-a1f4-d83796ffacab",
   "metadata": {},
   "source": [
    "### The adam optimizer\n",
    "* Adaptive moment (adam) optimizer\n",
    "    * `tf.keras.optimizers.Adam()`\n",
    "    * `learning_rate`\n",
    "    * `beta1`\n",
    "* Perrforms well with default parameter values\n",
    "*  Similar to RMS propagation optimizer, you can set the momentum to decay faster by lowering the beta1 parameter. Relative to RMS propagation optimizer, the adam optimizer will tend to perform better with the default parameter values, which we will typically use."
   ]
  },
  {
   "cell_type": "markdown",
   "id": "c83a2d00-6f26-4bfd-9166-873b8741af1c",
   "metadata": {},
   "source": [
    "### A complete example"
   ]
  },
  {
   "cell_type": "code",
   "execution_count": 32,
   "id": "32ee8c4d-8645-49a6-a3f1-5364c3067f59",
   "metadata": {
    "execution": {
     "iopub.execute_input": "2023-02-03T03:55:52.792797Z",
     "iopub.status.busy": "2023-02-03T03:55:52.792598Z",
     "iopub.status.idle": "2023-02-03T03:55:52.795224Z",
     "shell.execute_reply": "2023-02-03T03:55:52.794986Z",
     "shell.execute_reply.started": "2023-02-03T03:55:52.792787Z"
    },
    "tags": []
   },
   "outputs": [
    {
     "data": {
      "text/plain": [
       "array([[1],\n",
       "       [1],\n",
       "       [0],\n",
       "       ...,\n",
       "       [1],\n",
       "       [1],\n",
       "       [1]])"
      ]
     },
     "execution_count": 32,
     "metadata": {},
     "output_type": "execute_result"
    }
   ],
   "source": [
    "default = credit[['default.payment.next.month']].values\n",
    "default"
   ]
  },
  {
   "cell_type": "code",
   "execution_count": 33,
   "id": "0573e423-41e6-4d9c-9356-7d5c05230286",
   "metadata": {
    "execution": {
     "iopub.execute_input": "2023-02-03T03:55:52.795727Z",
     "iopub.status.busy": "2023-02-03T03:55:52.795570Z",
     "iopub.status.idle": "2023-02-03T03:55:52.798913Z",
     "shell.execute_reply": "2023-02-03T03:55:52.798666Z",
     "shell.execute_reply.started": "2023-02-03T03:55:52.795717Z"
    },
    "tags": []
   },
   "outputs": [
    {
     "data": {
      "text/plain": [
       "<tf.Tensor: shape=(30000, 10), dtype=float32, numpy=\n",
       "array([[ 2.0e+04,  2.0e+00,  2.0e+00, ..., -1.0e+00, -1.0e+00, -2.0e+00],\n",
       "       [ 1.2e+05,  2.0e+00,  2.0e+00, ...,  0.0e+00,  0.0e+00,  0.0e+00],\n",
       "       [ 9.0e+04,  2.0e+00,  2.0e+00, ...,  0.0e+00,  0.0e+00,  0.0e+00],\n",
       "       ...,\n",
       "       [ 3.0e+04,  1.0e+00,  2.0e+00, ...,  2.0e+00, -1.0e+00,  0.0e+00],\n",
       "       [ 8.0e+04,  1.0e+00,  3.0e+00, ...,  0.0e+00,  0.0e+00,  0.0e+00],\n",
       "       [ 5.0e+04,  1.0e+00,  2.0e+00, ...,  0.0e+00,  0.0e+00,  0.0e+00]],\n",
       "      dtype=float32)>"
      ]
     },
     "execution_count": 33,
     "metadata": {},
     "output_type": "execute_result"
    }
   ],
   "source": [
    "borrower_features = tf.constant(credit.iloc[:, 1:11].values, dtype='float32')\n",
    "borrower_features"
   ]
  },
  {
   "cell_type": "code",
   "execution_count": 34,
   "id": "d95f5983-e866-41ad-ac20-9b79b8f8d45f",
   "metadata": {
    "execution": {
     "iopub.execute_input": "2023-02-03T03:55:52.799351Z",
     "iopub.status.busy": "2023-02-03T03:55:52.799252Z",
     "iopub.status.idle": "2023-02-03T03:55:52.801947Z",
     "shell.execute_reply": "2023-02-03T03:55:52.801725Z",
     "shell.execute_reply.started": "2023-02-03T03:55:52.799341Z"
    },
    "tags": []
   },
   "outputs": [
    {
     "data": {
      "text/plain": [
       "<tf.Variable 'Variable:0' shape=(1,) dtype=float32, numpy=array([1.], dtype=float32)>"
      ]
     },
     "execution_count": 34,
     "metadata": {},
     "output_type": "execute_result"
    }
   ],
   "source": [
    "bias = tf.Variable([1], dtype='float32')\n",
    "bias"
   ]
  },
  {
   "cell_type": "code",
   "execution_count": 35,
   "id": "fbda65d7-0dd1-4df6-aeea-5384dbe04c8f",
   "metadata": {
    "execution": {
     "iopub.execute_input": "2023-02-03T03:55:52.802359Z",
     "iopub.status.busy": "2023-02-03T03:55:52.802265Z",
     "iopub.status.idle": "2023-02-03T03:55:52.805194Z",
     "shell.execute_reply": "2023-02-03T03:55:52.804952Z",
     "shell.execute_reply.started": "2023-02-03T03:55:52.802349Z"
    },
    "tags": []
   },
   "outputs": [
    {
     "data": {
      "text/plain": [
       "<tf.Variable 'Variable:0' shape=(10, 1) dtype=float32, numpy=\n",
       "array([[-0.21526305],\n",
       "       [ 0.08934043],\n",
       "       [ 0.24098487],\n",
       "       [-1.8267981 ],\n",
       "       [-0.4796724 ],\n",
       "       [-0.27811703],\n",
       "       [-1.433218  ],\n",
       "       [ 1.2536969 ],\n",
       "       [ 0.30186906],\n",
       "       [-0.488701  ]], dtype=float32)>"
      ]
     },
     "execution_count": 35,
     "metadata": {},
     "output_type": "execute_result"
    }
   ],
   "source": [
    "weights = tf.Variable(tf.random.normal([10, 1]))\n",
    "weights"
   ]
  },
  {
   "cell_type": "code",
   "execution_count": 36,
   "id": "1af8b2d6-660c-422f-aa7f-bb471e7de247",
   "metadata": {
    "execution": {
     "iopub.execute_input": "2023-02-03T03:55:52.805707Z",
     "iopub.status.busy": "2023-02-03T03:55:52.805536Z",
     "iopub.status.idle": "2023-02-03T03:55:52.822629Z",
     "shell.execute_reply": "2023-02-03T03:55:52.822222Z",
     "shell.execute_reply.started": "2023-02-03T03:55:52.805696Z"
    },
    "tags": []
   },
   "outputs": [
    {
     "data": {
      "text/plain": [
       "<tf.Variable 'UnreadVariable' shape=() dtype=int64, numpy=1>"
      ]
     },
     "execution_count": 36,
     "metadata": {},
     "output_type": "execute_result"
    }
   ],
   "source": [
    "# Define the model function\n",
    "def model(bias, weights, features = borrower_features):\n",
    "    product = tf.matmul(features, weights)\n",
    "    return tf.keras.activations.sigmoid(product+bias)\n",
    "\n",
    "# Compute the predicted values and loss\n",
    "def loss_function(bias, weights, targets = default, features = borrower_features):\n",
    "    predictions = model(bias, weights)\n",
    "    return tf.keras.losses.binary_crossentropy(targets, predictions)\n",
    "\n",
    "# Minimize the loss function with RMS propagation\n",
    "opt = tf.keras.optimizers.RMSprop(learning_rate=0.01, momentum=0.9)\n",
    "opt.minimize(lambda: loss_function(bias, weights, default, borrower_features), var_list=[bias, weights])"
   ]
  },
  {
   "cell_type": "code",
   "execution_count": 37,
   "id": "5cb3f329-2912-40d8-955c-c002a3f2c107",
   "metadata": {
    "execution": {
     "iopub.execute_input": "2023-02-03T03:55:52.823109Z",
     "iopub.status.busy": "2023-02-03T03:55:52.823007Z",
     "iopub.status.idle": "2023-02-03T03:55:52.825537Z",
     "shell.execute_reply": "2023-02-03T03:55:52.825292Z",
     "shell.execute_reply.started": "2023-02-03T03:55:52.823099Z"
    },
    "tags": []
   },
   "outputs": [
    {
     "data": {
      "text/plain": [
       "<tf.Variable 'Variable:0' shape=(1,) dtype=float32, numpy=array([1.0316228], dtype=float32)>"
      ]
     },
     "execution_count": 37,
     "metadata": {},
     "output_type": "execute_result"
    }
   ],
   "source": [
    "bias"
   ]
  },
  {
   "cell_type": "code",
   "execution_count": 38,
   "id": "80304252-ec79-4806-a888-c665a183e3fb",
   "metadata": {
    "execution": {
     "iopub.execute_input": "2023-02-03T03:55:52.825966Z",
     "iopub.status.busy": "2023-02-03T03:55:52.825873Z",
     "iopub.status.idle": "2023-02-03T03:55:52.828645Z",
     "shell.execute_reply": "2023-02-03T03:55:52.828375Z",
     "shell.execute_reply.started": "2023-02-03T03:55:52.825957Z"
    },
    "tags": []
   },
   "outputs": [
    {
     "data": {
      "text/plain": [
       "<tf.Variable 'Variable:0' shape=(10, 1) dtype=float32, numpy=\n",
       "array([[-0.18364029],\n",
       "       [ 0.1209632 ],\n",
       "       [ 0.27260765],\n",
       "       [-1.7951753 ],\n",
       "       [-0.44804963],\n",
       "       [-0.24649426],\n",
       "       [-1.4015952 ],\n",
       "       [ 1.2853197 ],\n",
       "       [ 0.33349183],\n",
       "       [-0.45707822]], dtype=float32)>"
      ]
     },
     "execution_count": 38,
     "metadata": {},
     "output_type": "execute_result"
    }
   ],
   "source": [
    "weights"
   ]
  },
  {
   "cell_type": "markdown",
   "id": "b9d687ae-2e62-4570-9861-9c6a8b1cd432",
   "metadata": {},
   "source": [
    "### Exercises"
   ]
  },
  {
   "cell_type": "markdown",
   "id": "2a7d1610-ae2b-4468-a78f-c4cc2afb94f6",
   "metadata": {},
   "source": [
    "#### The dangers of local minima (confuse!)"
   ]
  },
  {
   "cell_type": "markdown",
   "id": "22e653a3-bdfe-4aa8-ac1c-7e63cb9e81f7",
   "metadata": {},
   "source": [
    "Notice that we used the same optimizer and loss function, but two different initial values. When we started at 6.0 with x_1, we found the global minimum at 6.027515. When we started at 0.3, we stopped around 0.25 with x_2, the local minimum."
   ]
  },
  {
   "cell_type": "code",
   "execution_count": 39,
   "id": "644bbf6a-6b98-4790-8888-f61d731bf938",
   "metadata": {
    "execution": {
     "iopub.execute_input": "2023-02-03T03:55:52.829100Z",
     "iopub.status.busy": "2023-02-03T03:55:52.829001Z",
     "iopub.status.idle": "2023-02-03T03:55:52.990738Z",
     "shell.execute_reply": "2023-02-03T03:55:52.990289Z",
     "shell.execute_reply.started": "2023-02-03T03:55:52.829090Z"
    },
    "tags": []
   },
   "outputs": [
    {
     "name": "stdout",
     "output_type": "stream",
     "text": [
      "6.000278 0.2656648\n",
      "6.0005555 0.2517417\n",
      "6.000833 0.25001493\n",
      "6.0011106 0.24999991\n",
      "6.001388 0.25\n",
      "6.0016656 0.25\n",
      "6.001943 0.25\n",
      "6.0022206 0.25\n",
      "6.002498 0.25\n",
      "6.0027757 0.25\n",
      "6.003053 0.25\n",
      "6.0033307 0.25\n",
      "6.003608 0.25\n",
      "6.0038857 0.25\n",
      "6.0041633 0.25\n",
      "6.004441 0.25\n",
      "6.004718 0.25\n",
      "6.004995 0.25\n",
      "6.005272 0.25\n",
      "6.005549 0.25\n",
      "6.005826 0.25\n",
      "6.006103 0.25\n",
      "6.00638 0.25\n",
      "6.006657 0.25\n",
      "6.006934 0.25\n",
      "6.007211 0.25\n",
      "6.0074883 0.25\n",
      "6.007765 0.25\n",
      "6.0080414 0.25\n",
      "6.008318 0.25\n",
      "6.0085945 0.25\n",
      "6.008871 0.25\n",
      "6.0091476 0.25\n",
      "6.009424 0.25\n",
      "6.009701 0.25\n",
      "6.0099773 0.25\n",
      "6.0102534 0.25\n",
      "6.0105295 0.25\n",
      "6.0108056 0.25\n",
      "6.0110817 0.25\n",
      "6.011358 0.25\n",
      "6.011634 0.25\n",
      "6.01191 0.25\n",
      "6.012186 0.25\n",
      "6.0124617 0.25\n",
      "6.0127373 0.25\n",
      "6.013013 0.25\n",
      "6.0132885 0.25\n",
      "6.013564 0.25\n",
      "6.0138397 0.25\n",
      "6.0141153 0.25\n",
      "6.014391 0.25\n",
      "6.014666 0.25\n",
      "6.014941 0.25\n",
      "6.0152164 0.25\n",
      "6.0154915 0.25\n",
      "6.0157666 0.25\n",
      "6.0160418 0.25\n",
      "6.0163164 0.25\n",
      "6.016591 0.25\n",
      "6.0168657 0.25\n",
      "6.0171404 0.25\n",
      "6.017415 0.25\n",
      "6.0176897 0.25\n",
      "6.0179644 0.25\n",
      "6.0182385 0.25\n",
      "6.0185127 0.25\n",
      "6.018787 0.25\n",
      "6.019061 0.25\n",
      "6.0193353 0.25\n",
      "6.0196095 0.25\n",
      "6.019883 0.25\n",
      "6.020157 0.25\n",
      "6.0204306 0.25\n",
      "6.0207043 0.25\n",
      "6.020978 0.25\n",
      "6.021251 0.25\n",
      "6.0215244 0.25\n",
      "6.0217977 0.25\n",
      "6.022071 0.25\n",
      "6.022344 0.25\n",
      "6.0226173 0.25\n",
      "6.02289 0.25\n",
      "6.023163 0.25\n",
      "6.0234356 0.25\n",
      "6.0237083 0.25\n",
      "6.023981 0.25\n",
      "6.0242534 0.25\n",
      "6.0245256 0.25\n",
      "6.024798 0.25\n",
      "6.02507 0.25\n",
      "6.0253425 0.25\n",
      "6.0256143 0.25\n",
      "6.025886 0.25\n",
      "6.026158 0.25\n",
      "6.0264297 0.25\n",
      "6.026701 0.25\n",
      "6.0269723 0.25\n",
      "6.0272436 0.25\n",
      "6.027515 0.25\n"
     ]
    }
   ],
   "source": [
    "import math\n",
    "def loss_function(x):\n",
    "\treturn 4.0*math.cos(x-1) + tf.divide(math.cos(2.0*math.pi*x),x)\n",
    "\n",
    "# Initialize x_1 and x_2\n",
    "x_1 = tf.Variable(6.0, tf.float32)\n",
    "x_2 = tf.Variable(0.3, tf.float32)\n",
    "\n",
    "# Define the optimization operation\n",
    "opt = tf.keras.optimizers.SGD(learning_rate=0.01)\n",
    "\n",
    "for j in range(100):\n",
    "\t# Perform minimization using the loss function and x_1\n",
    "    opt.minimize(lambda: loss_function(x_1), var_list=[x_1])\n",
    "    # Perform minimization using the loss function and x_2\n",
    "    opt.minimize(lambda: loss_function(x_2), var_list=[x_2])\n",
    "    # Print x_1 and x_2 as numpy arrays\n",
    "    print(x_1.numpy(), x_2.numpy())"
   ]
  },
  {
   "cell_type": "markdown",
   "id": "246ce8dd-d955-422f-aed4-151bb1bfb358",
   "metadata": {},
   "source": [
    "##### Avoiding local minima\n",
    "\n",
    "The previous problem showed how easy it is to get stuck in local minima. We had a simple optimization problem in one variable and gradient descent still failed to deliver the global minimum when we had to travel through local minima first. One way to avoid this problem is to use momentum, which allows the optimizer to break through local minima.\n",
    "\n",
    "Several optimizers in tensorflow have a momentum parameter, including SGD and RMSprop. You will make use of RMSprop in this exercise. Note that x_1 and x_2 have been initialized to the same value this time. "
   ]
  },
  {
   "cell_type": "code",
   "execution_count": 40,
   "id": "12eb4bc5-e88f-4d42-aaee-5bea28c1380b",
   "metadata": {
    "execution": {
     "iopub.execute_input": "2023-02-03T03:55:52.991332Z",
     "iopub.status.busy": "2023-02-03T03:55:52.991220Z",
     "iopub.status.idle": "2023-02-03T03:55:53.189358Z",
     "shell.execute_reply": "2023-02-03T03:55:53.189080Z",
     "shell.execute_reply.started": "2023-02-03T03:55:52.991321Z"
    },
    "tags": []
   },
   "outputs": [
    {
     "name": "stdout",
     "output_type": "stream",
     "text": [
      "0.08162277 0.08162277\n",
      "0.12370357 0.09239703\n",
      "0.16937593 0.10061011\n",
      "0.21612528 0.10748637\n",
      "0.26283938 0.11351728\n",
      "0.3089688 0.11895749\n",
      "0.35423416 0.12395829\n",
      "0.3985036 0.12861769\n",
      "0.44173357 0.13300318\n",
      "0.48393637 0.13716331\n",
      "0.52516055 0.14113423\n",
      "0.565478 0.14494357\n",
      "0.60497516 0.14861287\n",
      "0.6437461 0.15215927\n",
      "0.68188775 0.15559654\n",
      "0.71949583 0.15893586\n",
      "0.7566618 0.1621864\n",
      "0.79346985 0.16535574\n",
      "0.8299954 0.16845016\n",
      "0.86630285 0.17147484\n",
      "0.9024445 0.17443411\n",
      "0.9384595 0.17733152\n",
      "0.9743735 0.18017003\n",
      "1.0101985 0.18295202\n",
      "1.0459329 0.18567942\n",
      "1.0815629 0.18835376\n",
      "1.1170632 0.1909762\n",
      "1.1523991 0.19354758\n",
      "1.187528 0.19606848\n",
      "1.2224023 0.19853921\n",
      "1.2569712 0.20095988\n",
      "1.2911835 0.20333037\n",
      "1.3249896 0.2056504\n",
      "1.3583438 0.20791954\n",
      "1.3912065 0.21013717\n",
      "1.4235448 0.2123026\n",
      "1.4553342 0.21441497\n",
      "1.4865594 0.21647336\n",
      "1.5172143 0.21847674\n",
      "1.5473021 0.22042404\n",
      "1.5768352 0.22231409\n",
      "1.6058341 0.22414573\n",
      "1.6343275 0.22591771\n",
      "1.6623507 0.22762884\n",
      "1.689945 0.2292779\n",
      "1.7171565 0.23086368\n",
      "1.7440354 0.23238505\n",
      "1.7706342 0.23384096\n",
      "1.797007 0.23523042\n",
      "1.8232081 0.23655254\n",
      "1.849291 0.2378066\n",
      "1.8753068 0.23899204\n",
      "1.9013036 0.24010845\n",
      "1.9273243 0.24115568\n",
      "1.9534059 0.2421338\n",
      "1.9795781 0.24304312\n",
      "2.0058625 0.24388428\n",
      "2.0322704 0.24465819\n",
      "2.0588033 0.2453661\n",
      "2.0854514 0.24600957\n",
      "2.1121929 0.24659054\n",
      "2.138995 0.24711126\n",
      "2.1658132 0.24757431\n",
      "2.1925929 0.24798262\n",
      "2.21927 0.24833937\n",
      "2.2457726 0.24864802\n",
      "2.2720234 0.24891222\n",
      "2.2979414 0.2491358\n",
      "2.3234441 0.24932271\n",
      "2.3484504 0.24947688\n",
      "2.3728821 0.24960224\n",
      "2.3966665 0.24970262\n",
      "2.4197378 0.24978165\n",
      "2.4420383 0.24984278\n",
      "2.463519 0.24988915\n",
      "2.4841413 0.2499236\n",
      "2.5038755 0.24994862\n",
      "2.5227017 0.24996635\n",
      "2.5406094 0.24997859\n",
      "2.557596 0.2499868\n",
      "2.5736673 0.24999213\n",
      "2.5888355 0.24999548\n",
      "2.6031191 0.24999751\n",
      "2.6165419 0.24999869\n",
      "2.6291316 0.24999934\n",
      "2.6409204 0.24999969\n",
      "2.6519432 0.24999985\n",
      "2.6622372 0.24999994\n",
      "2.6718416 0.24999997\n",
      "2.6807978 0.24999999\n",
      "2.689148 0.25\n",
      "2.6969354 0.25\n",
      "2.7042043 0.25\n",
      "2.7110002 0.25\n",
      "2.717369 0.25\n",
      "2.7233584 0.25\n",
      "2.7290163 0.25\n",
      "2.734393 0.25\n",
      "2.7395399 0.25\n",
      "2.7445114 0.24999999\n"
     ]
    }
   ],
   "source": [
    "# Initialize x_1 and x_2\n",
    "x_1 = tf.Variable(0.05, tf.float32)\n",
    "x_2 = tf.Variable(0.05, tf.float32)\n",
    "\n",
    "# Define the optimization operation for opt_1 and opt_2\n",
    "opt_1 = tf.keras.optimizers.RMSprop(learning_rate=0.01, momentum=0.99)\n",
    "opt_2 = tf.keras.optimizers.RMSprop(learning_rate=0.01, momentum=0.0)\n",
    "\n",
    "for j in range(100):\n",
    "    opt_1.minimize(lambda: loss_function(x_1), var_list=[x_1])\n",
    "    # Define the minimization operation for opt_2\n",
    "    opt_2.minimize(lambda: loss_function(x_2), var_list=[x_2])\n",
    "    # Print x_1 and x_2 as numpy arrays\n",
    "    print(x_1.numpy(), x_2.numpy())"
   ]
  },
  {
   "cell_type": "markdown",
   "id": "3e32e575-c473-4b03-b0cb-2810f9b9c05d",
   "metadata": {},
   "source": [
    "Notice that opt_1 built momentum, bringing x_1 closer to the global minimum. To the contrary, opt_2, which had a momentum parameter of 0.0, got stuck in the local minimum."
   ]
  },
  {
   "cell_type": "markdown",
   "id": "c5f66180-3108-454c-8dc4-73c9ad7f6013",
   "metadata": {},
   "source": [
    "## Training a network in Tensorflow"
   ]
  },
  {
   "cell_type": "markdown",
   "id": "b564ac69-0de1-48d7-9a11-350668459736",
   "metadata": {},
   "source": [
    "### Random initializers\n",
    "* Often need to initialize thousands of variables\n",
    "    * `tf.ones()` may perform poorly\n",
    "    * Tedious and difficult to initialize variables individually\n",
    "* Alternatively, draw initial values from distribution\n",
    "    * `Normal`\n",
    "    * `Uniform`\n",
    "    * `Glorot` initializer"
   ]
  },
  {
   "cell_type": "markdown",
   "id": "a2c1e08e-b1dd-44a9-968e-4c1b2549ed84",
   "metadata": {},
   "source": [
    "### Initializing variables in TensorFlow"
   ]
  },
  {
   "cell_type": "code",
   "execution_count": 41,
   "id": "2bbec201-d3e3-408a-a10a-209a0147d045",
   "metadata": {
    "execution": {
     "iopub.execute_input": "2023-02-03T03:55:53.189889Z",
     "iopub.status.busy": "2023-02-03T03:55:53.189788Z",
     "iopub.status.idle": "2023-02-03T03:55:53.194016Z",
     "shell.execute_reply": "2023-02-03T03:55:53.193717Z",
     "shell.execute_reply.started": "2023-02-03T03:55:53.189878Z"
    },
    "tags": []
   },
   "outputs": [
    {
     "data": {
      "text/plain": [
       "<tf.Variable 'Variable:0' shape=(500, 500) dtype=float32, numpy=\n",
       "array([[-0.8113182 ,  1.4845988 ,  0.06532937, ...,  1.3535147 ,\n",
       "         0.05761741, -0.8454021 ],\n",
       "       [-0.85459584, -1.718887  ,  1.2649354 , ..., -1.487472  ,\n",
       "         1.2056005 , -1.416987  ],\n",
       "       [-0.75563353, -1.0772663 ,  0.34951594, ...,  0.7500002 ,\n",
       "        -1.1421514 , -1.4180522 ],\n",
       "       ...,\n",
       "       [-1.8275657 ,  1.5023036 ,  0.04237651, ...,  1.280315  ,\n",
       "        -1.6652114 ,  1.7865646 ],\n",
       "       [-0.03093798, -1.1143426 ,  0.44247365, ...,  0.90157366,\n",
       "         0.92424047,  0.08544604],\n",
       "       [ 0.2325353 , -0.4583389 ,  0.29482397, ...,  0.85037494,\n",
       "        -0.61481994, -0.97650796]], dtype=float32)>"
      ]
     },
     "execution_count": 41,
     "metadata": {},
     "output_type": "execute_result"
    }
   ],
   "source": [
    "# Define 500x500 random normal variable\n",
    "weights = tf.Variable(tf.random.normal([500, 500], seed=1))\n",
    "weights"
   ]
  },
  {
   "cell_type": "markdown",
   "id": "92af9708-f5b0-4b42-b0d0-b3830dc1de82",
   "metadata": {},
   "source": [
    "Alternatively, we could use the truncated random normal distribution, which discards very large and very small draws.\n",
    "\n",
    "The values are drawn from a normal distribution with specified mean and standard deviation, discarding and re-drawing any samples that are more than two standard deviations from the mean."
   ]
  },
  {
   "cell_type": "code",
   "execution_count": 42,
   "id": "9bae3eb4-6cb2-43b5-8dfe-0970d1c33d08",
   "metadata": {
    "execution": {
     "iopub.execute_input": "2023-02-03T03:55:53.194496Z",
     "iopub.status.busy": "2023-02-03T03:55:53.194388Z",
     "iopub.status.idle": "2023-02-03T03:55:53.198167Z",
     "shell.execute_reply": "2023-02-03T03:55:53.197874Z",
     "shell.execute_reply.started": "2023-02-03T03:55:53.194486Z"
    },
    "tags": []
   },
   "outputs": [
    {
     "data": {
      "text/plain": [
       "<tf.Variable 'Variable:0' shape=(500, 500) dtype=float32, numpy=\n",
       "array([[-0.8113182 ,  1.4845988 ,  0.06532937, ...,  0.26607603,\n",
       "        -1.1521063 ,  0.65844756],\n",
       "       [ 0.00534202, -1.0460438 , -1.6427648 , ...,  0.4255401 ,\n",
       "        -0.7020646 , -0.02812   ],\n",
       "       [-0.10106638,  0.46920854, -1.0703483 , ...,  0.69410753,\n",
       "        -1.1040059 , -0.92811704],\n",
       "       ...,\n",
       "       [ 0.73306364,  0.8298194 ,  0.16535152, ...,  1.1693199 ,\n",
       "        -1.4613376 ,  0.3995474 ],\n",
       "       [ 1.40874   ,  0.35279596,  0.2599991 , ...,  0.05891023,\n",
       "        -0.2668419 , -1.1651356 ],\n",
       "       [ 0.11793835,  0.45683753, -0.01006938, ..., -1.9923282 ,\n",
       "         1.233091  , -0.66922677]], dtype=float32)>"
      ]
     },
     "execution_count": 42,
     "metadata": {},
     "output_type": "execute_result"
    }
   ],
   "source": [
    "# Define 500x500 truncated random normal variable\n",
    "weights = tf.Variable(tf.random.truncated_normal([500, 500], seed=1))\n",
    "weights"
   ]
  },
  {
   "cell_type": "markdown",
   "id": "dd8ddb93-e696-4fd4-ac4e-3d45b49c6d20",
   "metadata": {},
   "source": [
    "We can also use the high-level approach by initializing a dense layer using the default keras option, currently the `'glorot_uniform'` initializer."
   ]
  },
  {
   "cell_type": "code",
   "execution_count": 43,
   "id": "2073e75a-ac64-492e-9c7f-ad15e50a7638",
   "metadata": {
    "execution": {
     "iopub.execute_input": "2023-02-03T03:55:53.198622Z",
     "iopub.status.busy": "2023-02-03T03:55:53.198516Z",
     "iopub.status.idle": "2023-02-03T03:55:53.200978Z",
     "shell.execute_reply": "2023-02-03T03:55:53.200663Z",
     "shell.execute_reply.started": "2023-02-03T03:55:53.198612Z"
    },
    "tags": []
   },
   "outputs": [],
   "source": [
    "# Define a dense layer with the default initializer\n",
    "dense = tf.keras.layers.Dense(32, activation='relu')"
   ]
  },
  {
   "cell_type": "markdown",
   "id": "ec2e398e-c4d9-4f19-9cb9-bd59f237c9e2",
   "metadata": {},
   "source": [
    "If we instead wish to initialize values to zero, we can do this using the kernel initializer parameter."
   ]
  },
  {
   "cell_type": "code",
   "execution_count": 44,
   "id": "64971feb-d50e-400c-b683-fe173a4bdb68",
   "metadata": {
    "execution": {
     "iopub.execute_input": "2023-02-03T03:55:53.201484Z",
     "iopub.status.busy": "2023-02-03T03:55:53.201385Z",
     "iopub.status.idle": "2023-02-03T03:55:53.203687Z",
     "shell.execute_reply": "2023-02-03T03:55:53.203390Z",
     "shell.execute_reply.started": "2023-02-03T03:55:53.201474Z"
    }
   },
   "outputs": [],
   "source": [
    "# Define a dense layer with the zeros initializer\n",
    "dense = tf.keras.layers.Dense(32, activation='relu',\n",
    "                              kernel_initializer='zeros')"
   ]
  },
  {
   "cell_type": "markdown",
   "id": "1a5d9b7a-9337-45b3-a3f8-94d4b726c3cf",
   "metadata": {},
   "source": [
    "### Neural networks and overfitting"
   ]
  },
  {
   "cell_type": "markdown",
   "id": "77cb19b1-0544-4b76-acd1-bd8d763e06ea",
   "metadata": {},
   "source": [
    "### Applying dropout"
   ]
  },
  {
   "cell_type": "markdown",
   "id": "2a2d4f10-5f19-4076-b9ea-0e00b5f663cc",
   "metadata": {},
   "source": [
    "A simple solution to the overfitting problem is to use dropout, an operation that will randomly drop the weights connected to certain nodes in a layer during the training process. This will force your network to develop more robust rules for classification, since it cannot rely on any particular nodes being passed to an activation function. This will tend to improve out-of-sample performance. "
   ]
  },
  {
   "cell_type": "markdown",
   "id": "d0720e80-2cc9-41f3-8ce7-c61052221139",
   "metadata": {},
   "source": [
    "### Implementing dropout in a network"
   ]
  },
  {
   "cell_type": "markdown",
   "id": "46004f48-9e0b-4747-9cec-8baf3bee95e2",
   "metadata": {},
   "source": [
    "We then pass the input layer to a dense layer, which has 32 nodes and uses a relu activation function. "
   ]
  },
  {
   "cell_type": "code",
   "execution_count": 45,
   "id": "5f494f86-47e9-4704-b050-7a5a6eb4e821",
   "metadata": {
    "execution": {
     "iopub.execute_input": "2023-02-03T03:55:53.204125Z",
     "iopub.status.busy": "2023-02-03T03:55:53.204028Z",
     "iopub.status.idle": "2023-02-03T03:55:53.209217Z",
     "shell.execute_reply": "2023-02-03T03:55:53.208962Z",
     "shell.execute_reply.started": "2023-02-03T03:55:53.204115Z"
    },
    "tags": []
   },
   "outputs": [
    {
     "data": {
      "text/plain": [
       "<tf.Tensor: shape=(30000, 32), dtype=float32, numpy=\n",
       "array([[ 6275.2266,     0.    ,     0.    , ...,  3331.2205,  1222.7361,\n",
       "            0.    ],\n",
       "       [37666.824 ,     0.    ,     0.    , ..., 19981.797 ,  7352.1313,\n",
       "            0.    ],\n",
       "       [28248.414 ,     0.    ,     0.    , ..., 14986.199 ,  5512.2188,\n",
       "            0.    ],\n",
       "       ...,\n",
       "       [ 9412.353 ,     0.    ,     0.    , ...,  4997.448 ,  1831.609 ,\n",
       "            0.    ],\n",
       "       [25108.22  ,     0.    ,     0.    , ..., 13320.705 ,  4898.119 ,\n",
       "            0.    ],\n",
       "       [15689.846 ,     0.    ,     0.    , ...,  8324.676 ,  3057.8914,\n",
       "            0.    ]], dtype=float32)>"
      ]
     },
     "execution_count": 45,
     "metadata": {},
     "output_type": "execute_result"
    }
   ],
   "source": [
    "# Define input data\n",
    "inputs = np.array(borrower_features, np.float32)\n",
    "# Define dense layer 1\n",
    "dense1 = tf.keras.layers.Dense(32, activation='relu')(inputs)\n",
    "dense1"
   ]
  },
  {
   "cell_type": "markdown",
   "id": "8e5c0972-dbd9-479a-86e9-f671655ffb49",
   "metadata": {},
   "source": [
    "We'll next pass the first dense layer to a second layer, which reduces the number of output nodes to 16."
   ]
  },
  {
   "cell_type": "code",
   "execution_count": 46,
   "id": "911720ae-6ae2-47eb-a62d-d282f9148928",
   "metadata": {
    "execution": {
     "iopub.execute_input": "2023-02-03T03:55:53.209680Z",
     "iopub.status.busy": "2023-02-03T03:55:53.209572Z",
     "iopub.status.idle": "2023-02-03T03:55:53.214425Z",
     "shell.execute_reply": "2023-02-03T03:55:53.214155Z",
     "shell.execute_reply.started": "2023-02-03T03:55:53.209670Z"
    },
    "tags": []
   },
   "outputs": [
    {
     "data": {
      "text/plain": [
       "<tf.Tensor: shape=(30000, 16), dtype=float32, numpy=\n",
       "array([[    0.    ,  2717.7083,     0.    , ...,   942.2713,     0.    ,\n",
       "         9054.275 ],\n",
       "       [    0.    , 16306.292 ,     0.    , ...,  5627.471 ,     0.    ,\n",
       "        54306.88  ],\n",
       "       [    0.    , 12230.002 ,     0.    , ...,  4223.4814,     0.    ,\n",
       "        40731.73  ],\n",
       "       ...,\n",
       "       [    0.    ,  4076.1985,     0.    , ...,  1414.3334,     0.    ,\n",
       "        13579.784 ],\n",
       "       [    0.    , 10871.303 ,     0.    , ...,  3756.3625,     0.    ,\n",
       "        36207.57  ],\n",
       "       [    0.    ,  6794.0435,     0.    , ...,  2351.5996,     0.    ,\n",
       "        22630.791 ]], dtype=float32)>"
      ]
     },
     "execution_count": 46,
     "metadata": {},
     "output_type": "execute_result"
    }
   ],
   "source": [
    "# Define dense layer 2\n",
    "dense2 = tf.keras.layers.Dense(16, activation='relu')(dense1)\n",
    "dense2"
   ]
  },
  {
   "cell_type": "markdown",
   "id": "d561c71e-da2f-45d4-8b24-8df1f6522af1",
   "metadata": {},
   "source": [
    "Before passing those nodes to the output layer, we'll apply a dropout layer. The only argument specifies that we want to drop the weights connected to 25% of nodes randomly."
   ]
  },
  {
   "cell_type": "code",
   "execution_count": 47,
   "id": "bea86c1b-58ad-4fb7-8ee5-389f79ae6162",
   "metadata": {
    "execution": {
     "iopub.execute_input": "2023-02-03T03:55:53.214887Z",
     "iopub.status.busy": "2023-02-03T03:55:53.214783Z",
     "iopub.status.idle": "2023-02-03T03:55:53.218196Z",
     "shell.execute_reply": "2023-02-03T03:55:53.217946Z",
     "shell.execute_reply.started": "2023-02-03T03:55:53.214877Z"
    },
    "tags": []
   },
   "outputs": [
    {
     "data": {
      "text/plain": [
       "<tf.Tensor: shape=(30000, 16), dtype=float32, numpy=\n",
       "array([[    0.    ,  2717.7083,     0.    , ...,   942.2713,     0.    ,\n",
       "         9054.275 ],\n",
       "       [    0.    , 16306.292 ,     0.    , ...,  5627.471 ,     0.    ,\n",
       "        54306.88  ],\n",
       "       [    0.    , 12230.002 ,     0.    , ...,  4223.4814,     0.    ,\n",
       "        40731.73  ],\n",
       "       ...,\n",
       "       [    0.    ,  4076.1985,     0.    , ...,  1414.3334,     0.    ,\n",
       "        13579.784 ],\n",
       "       [    0.    , 10871.303 ,     0.    , ...,  3756.3625,     0.    ,\n",
       "        36207.57  ],\n",
       "       [    0.    ,  6794.0435,     0.    , ...,  2351.5996,     0.    ,\n",
       "        22630.791 ]], dtype=float32)>"
      ]
     },
     "execution_count": 47,
     "metadata": {},
     "output_type": "execute_result"
    }
   ],
   "source": [
    "# Apply dropout operation\n",
    "dropout1 = tf.keras.layers.Dropout(0.25)(dense2)\n",
    "dropout1"
   ]
  },
  {
   "cell_type": "markdown",
   "id": "18d51751-cfc5-4766-8fe0-cc4197ee83c0",
   "metadata": {},
   "source": [
    "We'll then pass this to the output layer, which reduces the 16 nodes to 1 and applies a sigmoid activation function. "
   ]
  },
  {
   "cell_type": "code",
   "execution_count": 48,
   "id": "802c1337-69a3-4b9c-90d6-402949f936d9",
   "metadata": {
    "execution": {
     "iopub.execute_input": "2023-02-03T03:55:53.218637Z",
     "iopub.status.busy": "2023-02-03T03:55:53.218536Z",
     "iopub.status.idle": "2023-02-03T03:55:53.222668Z",
     "shell.execute_reply": "2023-02-03T03:55:53.222426Z",
     "shell.execute_reply.started": "2023-02-03T03:55:53.218627Z"
    },
    "tags": []
   },
   "outputs": [
    {
     "data": {
      "text/plain": [
       "<tf.Tensor: shape=(30000, 1), dtype=float32, numpy=\n",
       "array([[0.],\n",
       "       [0.],\n",
       "       [0.],\n",
       "       ...,\n",
       "       [0.],\n",
       "       [0.],\n",
       "       [0.]], dtype=float32)>"
      ]
     },
     "execution_count": 48,
     "metadata": {},
     "output_type": "execute_result"
    }
   ],
   "source": [
    "# Define output layer\n",
    "outputs = tf.keras.layers.Dense(1, activation='sigmoid')(dropout1)\n",
    "outputs"
   ]
  },
  {
   "cell_type": "markdown",
   "id": "75292366-6cea-4fa4-8d61-016fc61a7255",
   "metadata": {},
   "source": [
    "### Exercises"
   ]
  },
  {
   "cell_type": "markdown",
   "id": "d1f7b3b6-87a0-4712-a2c4-d7c0c28f4534",
   "metadata": {},
   "source": [
    "#### Initialization in TensorFlow\n",
    "\n",
    "A good initialization can reduce the amount of time needed to find the global minimum. In this exercise, we will initialize weights and biases for a neural network that will be used to predict credit card default decisions. To build intuition, we will use the low-level, linear algebraic approach, rather than making use of convenience functions and high-level keras operations. We will also expand the set of input features from 3 to 23."
   ]
  },
  {
   "cell_type": "code",
   "execution_count": 49,
   "id": "7944d6e3-51c8-44e2-b9f8-03c779bcd34b",
   "metadata": {
    "execution": {
     "iopub.execute_input": "2023-02-03T03:55:53.223099Z",
     "iopub.status.busy": "2023-02-03T03:55:53.223003Z",
     "iopub.status.idle": "2023-02-03T03:55:53.225922Z",
     "shell.execute_reply": "2023-02-03T03:55:53.225684Z",
     "shell.execute_reply.started": "2023-02-03T03:55:53.223089Z"
    },
    "tags": []
   },
   "outputs": [],
   "source": [
    "# Define the layer 1 weights\n",
    "w1 = tf.Variable(tf.random.normal([23, 7]))\n",
    "\n",
    "# Initialize the layer 1 bias\n",
    "b1 = tf.Variable(tf.ones([7]))\n",
    "\n",
    "# Define the layer 2 weights\n",
    "w2 = tf.Variable(tf.random.normal([7, 1]))\n",
    "\n",
    "# Define the layer 2 bias\n",
    "b2 = tf.Variable([0.0])"
   ]
  },
  {
   "cell_type": "markdown",
   "id": "1d7098b6-b0db-4f5f-b2ae-8dfc3aeb64ec",
   "metadata": {
    "tags": []
   },
   "source": [
    "#### Defining the model and loss function\n",
    "\n",
    "In this exercise, you will train a neural network to predict whether a credit card holder will default. You defined the weights and biases in the previous exercise.\n",
    "\n",
    "Note that the predictions layer is defined as $\\sigma(layer1*w2+b2)$, where $\\sigma$ is the sigmoid activation, $layer1$ is a tensor of nodes for the first hidden dense layer, $w2$ is a tensor of weights, and $b2$ is the bias tensor.\n",
    "\n",
    "The trainable variables are $w1$, $b1$, $w2$, and $b2$."
   ]
  },
  {
   "cell_type": "code",
   "execution_count": 50,
   "id": "023d5c4c-c539-4ddc-a235-18b3051f102c",
   "metadata": {
    "execution": {
     "iopub.execute_input": "2023-02-03T03:55:53.226360Z",
     "iopub.status.busy": "2023-02-03T03:55:53.226259Z",
     "iopub.status.idle": "2023-02-03T03:55:53.228744Z",
     "shell.execute_reply": "2023-02-03T03:55:53.228479Z",
     "shell.execute_reply.started": "2023-02-03T03:55:53.226350Z"
    },
    "tags": []
   },
   "outputs": [],
   "source": [
    "# Define the model\n",
    "def model(w1, b1, w2, b2, features):\n",
    "\t# Apply relu activation functions to layer 1\n",
    "\tlayer1 = tf.keras.activations.relu(tf.matmul(features, w1) + b1)\n",
    "    # Apply dropout rate of 0.25\n",
    "\tdropout = tf.keras.layers.Dropout(0.25)(layer1)\n",
    "\treturn tf.keras.activations.sigmoid(tf.matmul(dropout, w2) + b2)\n",
    "\n",
    "# Define the loss function\n",
    "def loss_function(w1, b1, w2, b2, features, targets):\n",
    "\tpredictions = model(w1, b1, w2, b2, features)\n",
    "\t# Pass targets and predictions to the cross entropy loss\n",
    "\treturn tf.keras.losses.binary_crossentropy(targets, predictions)"
   ]
  },
  {
   "cell_type": "markdown",
   "id": "7fb7b5d4-6918-429c-a747-591ef5b7bc96",
   "metadata": {},
   "source": [
    "One of the benefits of using `tensorflow` is that you have the option to customize models down to the linear algebraic-level, as we've shown in the last two exercises. If you print `w1`, you can see that the objects we're working with are simply tensors."
   ]
  },
  {
   "cell_type": "markdown",
   "id": "0b0a9746-69b0-4358-a99c-d8203eebc823",
   "metadata": {
    "tags": []
   },
   "source": [
    "#### Training neural networks with TensorFlow\n",
    "\n",
    "In the previous exercise, you defined a model, model(w1, b1, w2, b2, features), and a loss function, loss_function(w1, b1, w2, b2, features, targets), both of which are available to you in this exercise.\n",
    "\n",
    "You will now train the model and then evaluate its performance by predicting default outcomes in a test set, which consists of test_features and test_targets and is available to you.\n",
    "\n",
    "The trainable variables are w1, b1, w2, and b2. Additionally, the following operations have been imported for you: keras.activations.relu() and keras.layers.Dropout()."
   ]
  },
  {
   "cell_type": "code",
   "execution_count": 52,
   "id": "1084548b-d59d-4beb-a613-17cad5fbb8af",
   "metadata": {
    "execution": {
     "iopub.execute_input": "2023-02-03T04:00:04.347590Z",
     "iopub.status.busy": "2023-02-03T04:00:04.347274Z",
     "iopub.status.idle": "2023-02-03T04:00:04.918544Z",
     "shell.execute_reply": "2023-02-03T04:00:04.918178Z",
     "shell.execute_reply.started": "2023-02-03T04:00:04.347576Z"
    },
    "tags": []
   },
   "outputs": [],
   "source": [
    "from sklearn.model_selection import train_test_split\n",
    "from sklearn.metrics import confusion_matrix, accuracy_score\n",
    "# proposedly reducing training sample to demonstrate confusion matrix otherwise accuracy is easily 1.0\n",
    "borrower_features, test_features, default, test_targets = \\\n",
    "    train_test_split(credit.iloc[:, 1:-1],\n",
    "                     credit[['default.payment.next.month']],\n",
    "                     test_size=500,\n",
    "                     random_state=1)\n",
    "borrower_features = tf.constant(borrower_features, dtype='float32')\n",
    "default = tf.constant(default, dtype='float32')\n",
    "test_features = tf.constant(test_features, dtype='float32')\n",
    "test_targets = tf.constant(test_targets, dtype='float32')\n",
    "\n",
    "w1 = tf.Variable(tf.random.normal([23, 7]))\n",
    "b1 = tf.Variable(tf.ones([7]))\n",
    "w2 = tf.Variable(tf.random.normal([7, 1]))\n",
    "b2 = tf.Variable([0.0])\n",
    "\n",
    "# import pandas as pd\n",
    "# import seaborn as sns\n",
    "# def confusion_matrix(default, model_predictions):\n",
    "# \tdf = pd.DataFrame(np.hstack([default, model_predictions.numpy() > 0.5]), columns = ['Actual','Predicted'])\n",
    "# \tconfusion_matrix = pd.crosstab(df['Actual'], df['Predicted'], rownames=['Actual'], colnames=['Predicted'], dropna=False).fillna(0)\n",
    "# \tsns.heatmap(confusion_matrix, cmap=\"Greys\", fmt=\"d\", annot=True, cbar=False)\n",
    "# \tplt.show()\n",
    "\n",
    "# Train the model\n",
    "for j in range(100):\n",
    "    # Complete the optimizer\n",
    "\topt.minimize(lambda: loss_function(w1, b1, w2, b2, borrower_features, default), \n",
    "                 var_list=[w1, b1, w2, b2])"
   ]
  },
  {
   "cell_type": "code",
   "execution_count": 53,
   "id": "6216546b-b4f3-48c9-aad2-8cbf0d92c61f",
   "metadata": {
    "execution": {
     "iopub.execute_input": "2023-02-03T04:00:04.919246Z",
     "iopub.status.busy": "2023-02-03T04:00:04.919099Z",
     "iopub.status.idle": "2023-02-03T04:00:04.932931Z",
     "shell.execute_reply": "2023-02-03T04:00:04.932580Z",
     "shell.execute_reply.started": "2023-02-03T04:00:04.919235Z"
    },
    "tags": []
   },
   "outputs": [
    {
     "data": {
      "text/plain": [
       "array([[22970,     0],\n",
       "       [ 6530,     0]])"
      ]
     },
     "execution_count": 53,
     "metadata": {},
     "output_type": "execute_result"
    }
   ],
   "source": [
    "# Make predictions with model using train features\n",
    "model_predictions = model(w1, b1, w2, b2, borrower_features)\n",
    "\n",
    "# Construct the confusion matrix\n",
    "confusion_matrix(default.numpy(), model_predictions.numpy()>0.5)"
   ]
  },
  {
   "cell_type": "code",
   "execution_count": 54,
   "id": "7090164e-c0ea-4ec3-910c-80b5f56c8a53",
   "metadata": {
    "execution": {
     "iopub.execute_input": "2023-02-03T04:00:04.933535Z",
     "iopub.status.busy": "2023-02-03T04:00:04.933349Z",
     "iopub.status.idle": "2023-02-03T04:00:04.937446Z",
     "shell.execute_reply": "2023-02-03T04:00:04.937204Z",
     "shell.execute_reply.started": "2023-02-03T04:00:04.933524Z"
    },
    "tags": []
   },
   "outputs": [
    {
     "data": {
      "text/plain": [
       "0.7786440677966102"
      ]
     },
     "execution_count": 54,
     "metadata": {},
     "output_type": "execute_result"
    }
   ],
   "source": [
    "accuracy_score(default.numpy(), model_predictions.numpy()>0.5)"
   ]
  },
  {
   "cell_type": "code",
   "execution_count": 55,
   "id": "74ce1425-2563-4739-83bd-2318af55404b",
   "metadata": {
    "execution": {
     "iopub.execute_input": "2023-02-03T04:00:04.938182Z",
     "iopub.status.busy": "2023-02-03T04:00:04.937993Z",
     "iopub.status.idle": "2023-02-03T04:00:04.941936Z",
     "shell.execute_reply": "2023-02-03T04:00:04.941694Z",
     "shell.execute_reply.started": "2023-02-03T04:00:04.938172Z"
    },
    "tags": []
   },
   "outputs": [
    {
     "data": {
      "text/plain": [
       "array([[394,   0],\n",
       "       [106,   0]])"
      ]
     },
     "execution_count": 55,
     "metadata": {},
     "output_type": "execute_result"
    }
   ],
   "source": [
    "# Make predictions with model using test features\n",
    "model_predictions = model(w1, b1, w2, b2, test_features)\n",
    "\n",
    "# Construct the confusion matrix\n",
    "confusion_matrix(test_targets.numpy(), model_predictions.numpy()>0.5)"
   ]
  },
  {
   "cell_type": "code",
   "execution_count": 56,
   "id": "8bd9d8ef-41ab-4bf9-942c-c6e2a75af4ee",
   "metadata": {
    "execution": {
     "iopub.execute_input": "2023-02-03T04:00:04.942369Z",
     "iopub.status.busy": "2023-02-03T04:00:04.942269Z",
     "iopub.status.idle": "2023-02-03T04:00:04.944824Z",
     "shell.execute_reply": "2023-02-03T04:00:04.944587Z",
     "shell.execute_reply.started": "2023-02-03T04:00:04.942359Z"
    },
    "tags": []
   },
   "outputs": [
    {
     "data": {
      "text/plain": [
       "0.788"
      ]
     },
     "execution_count": 56,
     "metadata": {},
     "output_type": "execute_result"
    }
   ],
   "source": [
    "accuracy_score(test_targets.numpy(), model_predictions.numpy()>0.5)"
   ]
  },
  {
   "cell_type": "markdown",
   "id": "fde28a88-021c-44e3-88a6-1ffbce036c44",
   "metadata": {},
   "source": [
    "The diagonal elements show the number of correct predictions.\n",
    "\n",
    "The off-diagonal elements show the number of incorrect predictions. We can see that the model performs reasonably-well, but does so by overpredicting non-default.\n",
    "\n",
    "This suggests that we may need to train longer, tune the model's hyperparameters, or change the model's architecture."
   ]
  }
 ],
 "metadata": {
  "kernelspec": {
   "display_name": "Python 3 (ipykernel)",
   "language": "python",
   "name": "python3"
  },
  "language_info": {
   "codemirror_mode": {
    "name": "ipython",
    "version": 3
   },
   "file_extension": ".py",
   "mimetype": "text/x-python",
   "name": "python",
   "nbconvert_exporter": "python",
   "pygments_lexer": "ipython3",
   "version": "3.9.15"
  },
  "toc-autonumbering": true
 },
 "nbformat": 4,
 "nbformat_minor": 5
}
