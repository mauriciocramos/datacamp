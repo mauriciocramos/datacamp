{
 "cells": [
  {
   "cell_type": "code",
   "execution_count": 1,
   "id": "735af263-b7d8-45eb-8359-9c6a595b43c8",
   "metadata": {
    "execution": {
     "iopub.execute_input": "2023-05-02T22:00:25.609284Z",
     "iopub.status.busy": "2023-05-02T22:00:25.609189Z",
     "iopub.status.idle": "2023-05-02T22:00:25.950278Z",
     "shell.execute_reply": "2023-05-02T22:00:25.949862Z",
     "shell.execute_reply.started": "2023-05-02T22:00:25.609274Z"
    },
    "tags": []
   },
   "outputs": [],
   "source": [
    "import matplotlib.pyplot as plt\n",
    "import pandas as pd\n",
    "import numpy as np\n",
    "plt.style.use('dark_background')"
   ]
  },
  {
   "cell_type": "code",
   "execution_count": 2,
   "id": "1e9f8f81-926e-4473-b4ed-9c9f55a13a85",
   "metadata": {
    "execution": {
     "iopub.execute_input": "2023-05-02T22:00:25.950781Z",
     "iopub.status.busy": "2023-05-02T22:00:25.950644Z",
     "iopub.status.idle": "2023-05-02T22:00:27.686669Z",
     "shell.execute_reply": "2023-05-02T22:00:27.686211Z",
     "shell.execute_reply.started": "2023-05-02T22:00:25.950771Z"
    },
    "tags": []
   },
   "outputs": [
    {
     "name": "stderr",
     "output_type": "stream",
     "text": [
      "23/05/02 19:00:26 WARN Utils: Your hostname, rig resolves to a loopback address: 127.0.1.1; using 192.168.0.102 instead (on interface enp6s0)\n",
      "23/05/02 19:00:26 WARN Utils: Set SPARK_LOCAL_IP if you need to bind to another address\n",
      "Setting default log level to \"WARN\".\n",
      "To adjust logging level use sc.setLogLevel(newLevel). For SparkR, use setLogLevel(newLevel).\n",
      "23/05/02 19:00:27 WARN NativeCodeLoader: Unable to load native-hadoop library for your platform... using builtin-java classes where applicable\n"
     ]
    }
   ],
   "source": [
    "from pyspark import SparkContext\n",
    "sc = SparkContext.getOrCreate()\n",
    "from pyspark.sql import SparkSession\n",
    "spark = SparkSession.builder.getOrCreate()"
   ]
  },
  {
   "cell_type": "markdown",
   "id": "1985fb6d-2c6a-4f7a-ac2e-3a79bedef783",
   "metadata": {
    "tags": []
   },
   "source": [
    "# Defining a schema"
   ]
  },
  {
   "cell_type": "code",
   "execution_count": 3,
   "id": "2782b635-d8af-4571-b5e6-f788404fb452",
   "metadata": {
    "execution": {
     "iopub.execute_input": "2023-05-02T22:00:27.687540Z",
     "iopub.status.busy": "2023-05-02T22:00:27.687266Z",
     "iopub.status.idle": "2023-05-02T22:00:27.690041Z",
     "shell.execute_reply": "2023-05-02T22:00:27.689665Z",
     "shell.execute_reply.started": "2023-05-02T22:00:27.687522Z"
    }
   },
   "outputs": [],
   "source": [
    "# Import the pyspark.sql.types library\n",
    "from pyspark.sql.types import *\n",
    "\n",
    "# Define a new schema using the StructType method\n",
    "people_schema = StructType([\n",
    "  # Define a StructField for each field\n",
    "  StructField('name', StringType(), False),\n",
    "  StructField('age', IntegerType(), False),\n",
    "  StructField('city', StringType(), False)\n",
    "])"
   ]
  },
  {
   "cell_type": "markdown",
   "id": "db5d8b21-2468-4960-a97c-8da1f1bb3c58",
   "metadata": {},
   "source": [
    "# Using lazy processing"
   ]
  },
  {
   "cell_type": "code",
   "execution_count": 4,
   "id": "e29af24c-5ea0-42e1-958e-143f96c48c43",
   "metadata": {
    "execution": {
     "iopub.execute_input": "2023-05-02T22:00:27.691532Z",
     "iopub.status.busy": "2023-05-02T22:00:27.691228Z",
     "iopub.status.idle": "2023-05-02T22:00:27.693506Z",
     "shell.execute_reply": "2023-05-02T22:00:27.693085Z",
     "shell.execute_reply.started": "2023-05-02T22:00:27.691515Z"
    }
   },
   "outputs": [],
   "source": [
    "from pyspark.sql import functions as F"
   ]
  },
  {
   "cell_type": "code",
   "execution_count": 5,
   "id": "49bf8fa4-a9f2-4d63-a3e4-60b3d507b416",
   "metadata": {
    "execution": {
     "iopub.execute_input": "2023-05-02T22:00:27.694062Z",
     "iopub.status.busy": "2023-05-02T22:00:27.693918Z",
     "iopub.status.idle": "2023-05-02T22:00:29.907654Z",
     "shell.execute_reply": "2023-05-02T22:00:29.907237Z",
     "shell.execute_reply.started": "2023-05-02T22:00:27.694046Z"
    },
    "tags": []
   },
   "outputs": [
    {
     "name": "stdout",
     "output_type": "stream",
     "text": [
      "+-----------------+-------------+-----------------------------+-------+\n",
      "|Date (MM/DD/YYYY)|Flight Number|Actual elapsed time (Minutes)|airport|\n",
      "+-----------------+-------------+-----------------------------+-------+\n",
      "|       01/01/2017|         0005|                          537|    hnl|\n",
      "|       01/01/2017|         0007|                          498|    ogg|\n",
      "|       01/01/2017|         0037|                          241|    sfo|\n",
      "|       01/01/2017|         0043|                          134|    dtw|\n",
      "|       01/01/2017|         0051|                           88|    stl|\n",
      "|       01/01/2017|         0060|                          149|    mia|\n",
      "|       01/01/2017|         0071|                          203|    lax|\n",
      "|       01/01/2017|         0074|                           76|    mem|\n",
      "|       01/01/2017|         0081|                          123|    den|\n",
      "|       01/01/2017|         0089|                          161|    slc|\n",
      "|       01/01/2017|         0096|                           84|    stl|\n",
      "|       01/01/2017|         0103|                          216|    sjc|\n",
      "|       01/01/2017|         0119|                          514|    ogg|\n",
      "|       01/01/2017|         0123|                          529|    hnl|\n",
      "|       01/01/2017|         0126|                          171|    lga|\n",
      "|       01/01/2017|         0132|                          188|    ewr|\n",
      "|       01/01/2017|         0140|                          231|    sjc|\n",
      "|       01/01/2017|         0174|                          145|    rdu|\n",
      "|       01/01/2017|         0176|                          184|    bos|\n",
      "|       01/01/2017|         0190|                           76|    sat|\n",
      "+-----------------+-------------+-----------------------------+-------+\n",
      "only showing top 20 rows\n",
      "\n"
     ]
    }
   ],
   "source": [
    "# Load the CSV file\n",
    "aa_dfw_df = spark.read.format('csv').options(Header=True).load('AA_DFW_2017_Departures_Short.csv.gz')\n",
    "\n",
    "# Add the airport column using the F.lower() method\n",
    "aa_dfw_df = aa_dfw_df.withColumn('airport', F.lower(aa_dfw_df['Destination Airport']))\n",
    "\n",
    "# Drop the Destination Airport column\n",
    "aa_dfw_df = aa_dfw_df.drop(aa_dfw_df['Destination Airport'])\n",
    "\n",
    "# Show the DataFrame\n",
    "aa_dfw_df.show()"
   ]
  },
  {
   "cell_type": "markdown",
   "id": "e36c973a-6771-4112-9190-39d27b116234",
   "metadata": {},
   "source": [
    "# The Parquet Format\n",
    "* A columnar data format\n",
    "* Supported in Spark and other data processing frameworks\n",
    "* Supports predicate pushdown\n",
    "* Automatically stores schema information"
   ]
  },
  {
   "cell_type": "markdown",
   "id": "008b92f1-f4f1-46b2-8dd2-9d094bdc3a32",
   "metadata": {},
   "source": [
    "# Saving a DataFrame in Parquet format"
   ]
  },
  {
   "cell_type": "code",
   "execution_count": 6,
   "id": "5691f84c-dd07-4259-980d-8eeff0595620",
   "metadata": {
    "execution": {
     "iopub.execute_input": "2023-05-02T22:00:29.908539Z",
     "iopub.status.busy": "2023-05-02T22:00:29.908252Z",
     "iopub.status.idle": "2023-05-02T22:00:30.095713Z",
     "shell.execute_reply": "2023-05-02T22:00:30.095282Z",
     "shell.execute_reply.started": "2023-05-02T22:00:29.908521Z"
    },
    "tags": []
   },
   "outputs": [],
   "source": [
    "df1 = spark.read.format('csv').options(Header=True).load('AA_DFW_2016_Departures_Short.csv.gz')\n",
    "df2 = spark.read.format('csv').options(Header=True).load('AA_DFW_2017_Departures_Short.csv.gz')"
   ]
  },
  {
   "cell_type": "code",
   "execution_count": 9,
   "id": "ad11c9e5-5c09-4090-bf33-95e166891442",
   "metadata": {
    "execution": {
     "iopub.execute_input": "2023-05-02T22:01:17.268556Z",
     "iopub.status.busy": "2023-05-02T22:01:17.268427Z",
     "iopub.status.idle": "2023-05-02T22:01:17.851009Z",
     "shell.execute_reply": "2023-05-02T22:01:17.850438Z",
     "shell.execute_reply.started": "2023-05-02T22:01:17.268546Z"
    },
    "tags": []
   },
   "outputs": [
    {
     "name": "stdout",
     "output_type": "stream",
     "text": [
      "df1 Count: 140604\n",
      "df2 Count: 139358\n",
      "df3 Count: 279962\n"
     ]
    }
   ],
   "source": [
    "# View the row count of df1 and df2\n",
    "print(\"df1 Count: %d\" % df1.count())\n",
    "print(\"df2 Count: %d\" % df2.count())\n",
    "# Combine the DataFrames into one\n",
    "df3 = df1.union(df2).selectExpr('`Date (MM/DD/YYYY)` as date',\n",
    "                                '`Flight Number` as flight_number',\n",
    "                                '`Destination Airport` as destination',\n",
    "                                '`Actual elapsed time (Minutes)` as flight_duration')\n",
    "# Save the df3 DataFrame in Parquet format\n",
    "df3.write.parquet('AA_DFW_ALL.parquet', mode='overwrite')\n",
    "# Read the Parquet file into a new DataFrame and run a count\n",
    "print(\"df3 Count: %d\" % spark.read.parquet('AA_DFW_ALL.parquet').count())"
   ]
  },
  {
   "cell_type": "markdown",
   "id": "6b9799b6-79c3-42cc-b886-dcfb6bf050b0",
   "metadata": {},
   "source": [
    "# SQL and Parquet"
   ]
  },
  {
   "cell_type": "code",
   "execution_count": 8,
   "id": "6c3afa01-7cdc-4471-be0d-53c82d756cc8",
   "metadata": {
    "execution": {
     "iopub.execute_input": "2023-05-02T22:00:31.511842Z",
     "iopub.status.busy": "2023-05-02T22:00:31.511548Z",
     "iopub.status.idle": "2023-05-02T22:00:31.796932Z",
     "shell.execute_reply": "2023-05-02T22:00:31.796557Z",
     "shell.execute_reply.started": "2023-05-02T22:00:31.511825Z"
    },
    "tags": []
   },
   "outputs": [
    {
     "name": "stdout",
     "output_type": "stream",
     "text": [
      "The average flight time is: 151\n"
     ]
    }
   ],
   "source": [
    "# Read the Parquet file into flights_df\n",
    "flights_df = spark.read.parquet('AA_DFW_ALL.parquet')\n",
    "\n",
    "# Register the temp table\n",
    "flights_df.createOrReplaceTempView('flights')\n",
    "\n",
    "# Run a SQL query of the average flight duration\n",
    "avg_duration = spark.sql('SELECT avg(flight_duration) from flights').collect()[0]\n",
    "print('The average flight time is: %d' % avg_duration)"
   ]
  }
 ],
 "metadata": {
  "kernelspec": {
   "display_name": "Python 3 (ipykernel)",
   "language": "python",
   "name": "python3"
  },
  "language_info": {
   "codemirror_mode": {
    "name": "ipython",
    "version": 3
   },
   "file_extension": ".py",
   "mimetype": "text/x-python",
   "name": "python",
   "nbconvert_exporter": "python",
   "pygments_lexer": "ipython3",
   "version": "3.10.10"
  }
 },
 "nbformat": 4,
 "nbformat_minor": 5
}
