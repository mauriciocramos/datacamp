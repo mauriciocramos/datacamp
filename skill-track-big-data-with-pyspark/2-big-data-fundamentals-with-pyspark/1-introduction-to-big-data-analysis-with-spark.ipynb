{
 "cells": [
  {
   "cell_type": "markdown",
   "id": "dd077757-63d8-4cbb-a0e8-159bddcd578d",
   "metadata": {},
   "source": [
    "# Understanding SparkContext"
   ]
  },
  {
   "cell_type": "code",
   "execution_count": 1,
   "id": "500f8ca6-cbce-4abd-a8b2-185866be5d53",
   "metadata": {
    "execution": {
     "iopub.execute_input": "2023-05-02T20:59:12.316523Z",
     "iopub.status.busy": "2023-05-02T20:59:12.316207Z",
     "iopub.status.idle": "2023-05-02T20:59:12.380335Z",
     "shell.execute_reply": "2023-05-02T20:59:12.380014Z",
     "shell.execute_reply.started": "2023-05-02T20:59:12.316512Z"
    },
    "tags": []
   },
   "outputs": [],
   "source": [
    "from pyspark import SparkContext"
   ]
  },
  {
   "cell_type": "code",
   "execution_count": 2,
   "id": "fbe404a4-edbf-4d7a-92f1-711aa9a3313d",
   "metadata": {
    "execution": {
     "iopub.execute_input": "2023-05-02T20:59:12.381158Z",
     "iopub.status.busy": "2023-05-02T20:59:12.380881Z",
     "iopub.status.idle": "2023-05-02T20:59:14.023338Z",
     "shell.execute_reply": "2023-05-02T20:59:14.022922Z",
     "shell.execute_reply.started": "2023-05-02T20:59:12.381142Z"
    },
    "tags": []
   },
   "outputs": [
    {
     "name": "stderr",
     "output_type": "stream",
     "text": [
      "23/05/02 17:59:13 WARN Utils: Your hostname, rig resolves to a loopback address: 127.0.1.1; using 192.168.0.102 instead (on interface enp6s0)\n",
      "23/05/02 17:59:13 WARN Utils: Set SPARK_LOCAL_IP if you need to bind to another address\n",
      "Setting default log level to \"WARN\".\n",
      "To adjust logging level use sc.setLogLevel(newLevel). For SparkR, use setLogLevel(newLevel).\n",
      "23/05/02 17:59:13 WARN NativeCodeLoader: Unable to load native-hadoop library for your platform... using builtin-java classes where applicable\n"
     ]
    }
   ],
   "source": [
    "sc = SparkContext.getOrCreate()"
   ]
  },
  {
   "cell_type": "code",
   "execution_count": 3,
   "id": "3101fad8-b285-45b7-924e-82af28aac7dc",
   "metadata": {
    "execution": {
     "iopub.execute_input": "2023-05-02T20:59:14.023886Z",
     "iopub.status.busy": "2023-05-02T20:59:14.023782Z",
     "iopub.status.idle": "2023-05-02T20:59:14.026392Z",
     "shell.execute_reply": "2023-05-02T20:59:14.026081Z",
     "shell.execute_reply.started": "2023-05-02T20:59:14.023874Z"
    },
    "tags": []
   },
   "outputs": [
    {
     "name": "stdout",
     "output_type": "stream",
     "text": [
      "The version of Spark Context in the PySpark shell is 3.4.0\n",
      "The Python version of Spark Context in the PySpark shell is 3.10\n",
      "The master of Spark Context in the PySpark shell is local[*]\n"
     ]
    }
   ],
   "source": [
    "# Print the version of SparkContext\n",
    "print(\"The version of Spark Context in the PySpark shell is\", sc.version)\n",
    "# Print the Python version of SparkContext\n",
    "print(\"The Python version of Spark Context in the PySpark shell is\", sc.pythonVer)\n",
    "# Print the master of SparkContext\n",
    "print(\"The master of Spark Context in the PySpark shell is\", sc.master)"
   ]
  },
  {
   "cell_type": "markdown",
   "id": "692b48ac-bb14-4d90-baa9-f3ed25a4aca7",
   "metadata": {},
   "source": [
    "# Interactive Use of PySpark"
   ]
  },
  {
   "cell_type": "code",
   "execution_count": 4,
   "id": "6990007f-c839-430f-9243-805d07dac2b1",
   "metadata": {
    "execution": {
     "iopub.execute_input": "2023-05-02T20:59:14.026978Z",
     "iopub.status.busy": "2023-05-02T20:59:14.026771Z",
     "iopub.status.idle": "2023-05-02T20:59:14.168895Z",
     "shell.execute_reply": "2023-05-02T20:59:14.168530Z",
     "shell.execute_reply.started": "2023-05-02T20:59:14.026967Z"
    }
   },
   "outputs": [],
   "source": [
    "# Create a Python list of numbers from 1 to 100 \n",
    "numb = range(1, 10)\n",
    "# Load the list into PySpark  \n",
    "spark_data = sc.parallelize(numb)"
   ]
  },
  {
   "cell_type": "markdown",
   "id": "cfaed236-6f19-4cdf-b0d6-0853dd203bef",
   "metadata": {},
   "source": [
    "# Loading data in PySpark shell"
   ]
  },
  {
   "cell_type": "code",
   "execution_count": 5,
   "id": "b3ab3e23-5142-47b5-bf48-01e4e4f3f54a",
   "metadata": {
    "execution": {
     "iopub.execute_input": "2023-05-02T20:59:14.169849Z",
     "iopub.status.busy": "2023-05-02T20:59:14.169734Z",
     "iopub.status.idle": "2023-05-02T20:59:14.290146Z",
     "shell.execute_reply": "2023-05-02T20:59:14.289818Z",
     "shell.execute_reply.started": "2023-05-02T20:59:14.169838Z"
    },
    "tags": []
   },
   "outputs": [],
   "source": [
    "# Load a local file into PySpark shell\n",
    "lines = sc.textFile('ham.txt')"
   ]
  },
  {
   "cell_type": "markdown",
   "id": "376d37aa-70a9-4c23-b0ef-24cde00f3aae",
   "metadata": {},
   "source": [
    "# Use of lambda() with map() "
   ]
  },
  {
   "cell_type": "code",
   "execution_count": 6,
   "id": "158c2456-b61f-4b06-80d8-1d282bac9b9d",
   "metadata": {
    "execution": {
     "iopub.execute_input": "2023-05-02T20:59:14.290654Z",
     "iopub.status.busy": "2023-05-02T20:59:14.290550Z",
     "iopub.status.idle": "2023-05-02T20:59:14.293620Z",
     "shell.execute_reply": "2023-05-02T20:59:14.293219Z",
     "shell.execute_reply.started": "2023-05-02T20:59:14.290644Z"
    },
    "tags": []
   },
   "outputs": [
    {
     "name": "stdout",
     "output_type": "stream",
     "text": [
      "Input list is [1, 2, 3, 4, 5, 6, 7, 8, 9, 10]\n",
      "The squared numbers are [1, 4, 9, 16, 25, 36, 49, 64, 81, 100]\n"
     ]
    }
   ],
   "source": [
    "my_list = [1, 2, 3, 4, 5, 6, 7, 8, 9, 10]\n",
    "# Print my_list in the console\n",
    "print(\"Input list is\", my_list)\n",
    "# Square all numbers in my_list\n",
    "squared_list_lambda = list(map(lambda x: x**2, my_list))\n",
    "# Print the result of the map function\n",
    "print(\"The squared numbers are\", squared_list_lambda)"
   ]
  },
  {
   "cell_type": "markdown",
   "id": "2b6e7019-c54c-4d09-84db-cfea35d5f643",
   "metadata": {},
   "source": [
    "# Use of lambda() with filter()"
   ]
  },
  {
   "cell_type": "code",
   "execution_count": 7,
   "id": "95e8e694-4269-4e7b-b5ef-7628831ccb9a",
   "metadata": {
    "execution": {
     "iopub.execute_input": "2023-05-02T20:59:14.294145Z",
     "iopub.status.busy": "2023-05-02T20:59:14.293980Z",
     "iopub.status.idle": "2023-05-02T20:59:14.296410Z",
     "shell.execute_reply": "2023-05-02T20:59:14.296076Z",
     "shell.execute_reply.started": "2023-05-02T20:59:14.294135Z"
    },
    "tags": []
   },
   "outputs": [
    {
     "name": "stdout",
     "output_type": "stream",
     "text": [
      "Input list is: [10, 21, 31, 40, 51, 60, 72, 80, 93, 101]\n",
      "Numbers divisible by 10 are: [10, 40, 60, 80]\n"
     ]
    }
   ],
   "source": [
    "my_list2 = [10, 21, 31, 40, 51, 60, 72, 80, 93, 101]\n",
    "# Print my_list2 in the console\n",
    "print(\"Input list is:\", my_list2)\n",
    "# Filter numbers divisible by 10\n",
    "filtered_list = list(filter(lambda x: (x%10 == 0), my_list2))\n",
    "# Print the numbers divisible by 10\n",
    "print(\"Numbers divisible by 10 are:\", filtered_list)"
   ]
  },
  {
   "cell_type": "code",
   "execution_count": null,
   "id": "87393b96-d6ba-458c-952a-50b3e1e58565",
   "metadata": {},
   "outputs": [],
   "source": []
  }
 ],
 "metadata": {
  "kernelspec": {
   "display_name": "Python 3 (ipykernel)",
   "language": "python",
   "name": "python3"
  },
  "language_info": {
   "codemirror_mode": {
    "name": "ipython",
    "version": 3
   },
   "file_extension": ".py",
   "mimetype": "text/x-python",
   "name": "python",
   "nbconvert_exporter": "python",
   "pygments_lexer": "ipython3",
   "version": "3.10.10"
  }
 },
 "nbformat": 4,
 "nbformat_minor": 5
}
