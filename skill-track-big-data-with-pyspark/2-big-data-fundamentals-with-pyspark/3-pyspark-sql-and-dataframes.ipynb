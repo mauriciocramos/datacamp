{
 "cells": [
  {
   "cell_type": "code",
   "execution_count": 1,
   "id": "1897ba20-125f-47bb-bd80-b81932288036",
   "metadata": {
    "execution": {
     "iopub.execute_input": "2023-05-02T21:52:08.016419Z",
     "iopub.status.busy": "2023-05-02T21:52:08.016198Z",
     "iopub.status.idle": "2023-05-02T21:52:08.227695Z",
     "shell.execute_reply": "2023-05-02T21:52:08.227168Z",
     "shell.execute_reply.started": "2023-05-02T21:52:08.016408Z"
    },
    "tags": []
   },
   "outputs": [],
   "source": [
    "import matplotlib.pyplot as plt\n",
    "plt.style.use('dark_background')"
   ]
  },
  {
   "cell_type": "code",
   "execution_count": 2,
   "id": "177af729-92c2-4c82-87a6-6cc090059494",
   "metadata": {
    "execution": {
     "iopub.execute_input": "2023-05-02T21:52:08.228181Z",
     "iopub.status.busy": "2023-05-02T21:52:08.228057Z",
     "iopub.status.idle": "2023-05-02T21:52:09.918901Z",
     "shell.execute_reply": "2023-05-02T21:52:09.918578Z",
     "shell.execute_reply.started": "2023-05-02T21:52:08.228171Z"
    },
    "tags": []
   },
   "outputs": [
    {
     "name": "stderr",
     "output_type": "stream",
     "text": [
      "23/05/02 18:52:08 WARN Utils: Your hostname, rig resolves to a loopback address: 127.0.1.1; using 192.168.0.102 instead (on interface enp6s0)\n",
      "23/05/02 18:52:08 WARN Utils: Set SPARK_LOCAL_IP if you need to bind to another address\n",
      "Setting default log level to \"WARN\".\n",
      "To adjust logging level use sc.setLogLevel(newLevel). For SparkR, use setLogLevel(newLevel).\n",
      "23/05/02 18:52:09 WARN NativeCodeLoader: Unable to load native-hadoop library for your platform... using builtin-java classes where applicable\n"
     ]
    }
   ],
   "source": [
    "from pyspark import SparkContext\n",
    "sc = SparkContext.getOrCreate()\n",
    "from pyspark.sql import SparkSession\n",
    "spark = SparkSession.builder.getOrCreate()"
   ]
  },
  {
   "cell_type": "markdown",
   "id": "1add7d1f-3909-47e9-989a-14a5d2f19bed",
   "metadata": {},
   "source": [
    "# RDD to Spark DataFrame"
   ]
  },
  {
   "cell_type": "code",
   "execution_count": 3,
   "id": "22cf363c-6f16-4013-b478-f0617bf807dd",
   "metadata": {
    "execution": {
     "iopub.execute_input": "2023-05-02T21:52:09.919459Z",
     "iopub.status.busy": "2023-05-02T21:52:09.919358Z",
     "iopub.status.idle": "2023-05-02T21:52:11.924283Z",
     "shell.execute_reply": "2023-05-02T21:52:11.923943Z",
     "shell.execute_reply.started": "2023-05-02T21:52:09.919448Z"
    }
   },
   "outputs": [
    {
     "name": "stdout",
     "output_type": "stream",
     "text": [
      "The type of names_df is <class 'pyspark.sql.dataframe.DataFrame'>\n"
     ]
    }
   ],
   "source": [
    "sample_list = [('Mona', 20), ('Jennifer', 34), ('John', 20), ('Jim', 26)]\n",
    "# Create an RDD from the list\n",
    "rdd = sc.parallelize(sample_list)\n",
    "# Create a PySpark DataFrame\n",
    "names_df = spark.createDataFrame(rdd, schema=['Name', 'Age'])\n",
    "# Check the type of names_df\n",
    "print(\"The type of names_df is\", type(names_df))"
   ]
  },
  {
   "cell_type": "markdown",
   "id": "d6c5ef16-124e-4b07-8b65-ac172252498c",
   "metadata": {},
   "source": [
    "# Loading CSV into DataFrame"
   ]
  },
  {
   "cell_type": "code",
   "execution_count": 4,
   "id": "0160801c-2545-40bb-b1fd-e41443aa948a",
   "metadata": {
    "execution": {
     "iopub.execute_input": "2023-05-02T21:52:11.925314Z",
     "iopub.status.busy": "2023-05-02T21:52:11.925154Z",
     "iopub.status.idle": "2023-05-02T21:52:11.927918Z",
     "shell.execute_reply": "2023-05-02T21:52:11.927580Z",
     "shell.execute_reply.started": "2023-05-02T21:52:11.925302Z"
    },
    "tags": []
   },
   "outputs": [],
   "source": [
    "from pyspark.sql.types import *\n",
    "schema = StructType(\n",
    "    [\n",
    "        StructField(\"_c0\", IntegerType(), True),\n",
    "        StructField(\"person_id\", IntegerType(), True),\n",
    "        StructField(\"name\", StringType(), True),\n",
    "        StructField(\"sex\", StringType(), True),\n",
    "        StructField(\"date of birth\", DateType(), True),\n",
    "    ]\n",
    ")"
   ]
  },
  {
   "cell_type": "code",
   "execution_count": 5,
   "id": "0c52b4b8-c8c2-4a27-a727-fd54d7219997",
   "metadata": {
    "execution": {
     "iopub.execute_input": "2023-05-02T21:52:11.928369Z",
     "iopub.status.busy": "2023-05-02T21:52:11.928271Z",
     "iopub.status.idle": "2023-05-02T21:52:12.025519Z",
     "shell.execute_reply": "2023-05-02T21:52:12.025248Z",
     "shell.execute_reply.started": "2023-05-02T21:52:11.928358Z"
    },
    "tags": []
   },
   "outputs": [
    {
     "name": "stdout",
     "output_type": "stream",
     "text": [
      "The type of people_df is <class 'pyspark.sql.dataframe.DataFrame'>\n"
     ]
    }
   ],
   "source": [
    "# Create an DataFrame from file_path\n",
    "people_df = spark.read.csv('people.csv', header=True, schema=schema)\n",
    "# Check the type of people_df\n",
    "print(\"The type of people_df is\", type(people_df))"
   ]
  },
  {
   "cell_type": "code",
   "execution_count": 6,
   "id": "968b8170-cd81-4c46-b7ae-85488618b576",
   "metadata": {
    "execution": {
     "iopub.execute_input": "2023-05-02T21:52:12.026235Z",
     "iopub.status.busy": "2023-05-02T21:52:12.025923Z",
     "iopub.status.idle": "2023-05-02T21:52:12.036435Z",
     "shell.execute_reply": "2023-05-02T21:52:12.036162Z",
     "shell.execute_reply.started": "2023-05-02T21:52:12.026224Z"
    },
    "tags": []
   },
   "outputs": [
    {
     "name": "stdout",
     "output_type": "stream",
     "text": [
      "root\n",
      " |-- _c0: integer (nullable = true)\n",
      " |-- person_id: integer (nullable = true)\n",
      " |-- name: string (nullable = true)\n",
      " |-- sex: string (nullable = true)\n",
      " |-- date of birth: date (nullable = true)\n",
      "\n"
     ]
    }
   ],
   "source": [
    "people_df.printSchema()"
   ]
  },
  {
   "cell_type": "code",
   "execution_count": 7,
   "id": "8ecc8f8d-3d41-4b1e-abc0-09d4af2dc2ef",
   "metadata": {
    "execution": {
     "iopub.execute_input": "2023-05-02T21:52:12.037033Z",
     "iopub.status.busy": "2023-05-02T21:52:12.036812Z",
     "iopub.status.idle": "2023-05-02T21:52:13.623574Z",
     "shell.execute_reply": "2023-05-02T21:52:13.622912Z",
     "shell.execute_reply.started": "2023-05-02T21:52:12.037023Z"
    },
    "tags": []
   },
   "outputs": [
    {
     "name": "stderr",
     "output_type": "stream",
     "text": [
      "23/05/02 18:52:12 WARN package: Truncated the string representation of a plan since it was too large. This behavior can be adjusted by setting 'spark.sql.debug.maxToStringFields'.\n",
      "23/05/02 18:52:12 WARN CSVHeaderChecker: CSV header does not conform to the schema.\n",
      " Header: , person_id, name, sex\n",
      " Schema: _c0, person_id, name, sex\n",
      "Expected: _c0 but found: \n",
      "CSV file: file:///home/mauricio/code/big-data-with-pyspark/2-big-data-fundamentals-with-pyspark/people.csv\n",
      "[Stage 2:=============================>                             (1 + 1) / 2]\r"
     ]
    },
    {
     "name": "stdout",
     "output_type": "stream",
     "text": [
      "+-------+-----------------+-----------------+-------------+------+\n",
      "|summary|              _c0|        person_id|         name|   sex|\n",
      "+-------+-----------------+-----------------+-------------+------+\n",
      "|  count|           100000|           100000|       100000| 98080|\n",
      "|   mean|          49999.5|          50099.5|         null|  null|\n",
      "| stddev|28867.65779668774|28867.65779668774|         null|  null|\n",
      "|    min|                0|              100|Aaron Addesso|female|\n",
      "|    max|            99999|           100099|  Zulma Biggs|  male|\n",
      "+-------+-----------------+-----------------+-------------+------+\n",
      "\n"
     ]
    },
    {
     "name": "stderr",
     "output_type": "stream",
     "text": [
      "                                                                                \r"
     ]
    }
   ],
   "source": [
    "people_df.describe().show()"
   ]
  },
  {
   "cell_type": "markdown",
   "id": "1e5afdd2-97fc-4a48-8f10-39cace664622",
   "metadata": {},
   "source": [
    "# Inspecting data in PySpark DataFrame"
   ]
  },
  {
   "cell_type": "code",
   "execution_count": 8,
   "id": "42efe562-db92-472c-81f5-54abf5aa581d",
   "metadata": {
    "execution": {
     "iopub.execute_input": "2023-05-02T21:52:13.624927Z",
     "iopub.status.busy": "2023-05-02T21:52:13.624516Z",
     "iopub.status.idle": "2023-05-02T21:52:13.886745Z",
     "shell.execute_reply": "2023-05-02T21:52:13.886427Z",
     "shell.execute_reply.started": "2023-05-02T21:52:13.624900Z"
    },
    "tags": []
   },
   "outputs": [
    {
     "name": "stderr",
     "output_type": "stream",
     "text": [
      "23/05/02 18:52:13 WARN CSVHeaderChecker: CSV header does not conform to the schema.\n",
      " Header: , person_id, name, sex, date of birth\n",
      " Schema: _c0, person_id, name, sex, date of birth\n",
      "Expected: _c0 but found: \n",
      "CSV file: file:///home/mauricio/code/big-data-with-pyspark/2-big-data-fundamentals-with-pyspark/people.csv\n"
     ]
    },
    {
     "name": "stdout",
     "output_type": "stream",
     "text": [
      "+---+---------+----------------+------+-------------+\n",
      "|_c0|person_id|            name|   sex|date of birth|\n",
      "+---+---------+----------------+------+-------------+\n",
      "|  0|      100|  Penelope Lewis|female|   1990-08-31|\n",
      "|  1|      101|   David Anthony|  male|   1971-10-14|\n",
      "|  2|      102|       Ida Shipp|female|   1962-05-24|\n",
      "|  3|      103|    Joanna Moore|female|   2017-03-10|\n",
      "|  4|      104|  Lisandra Ortiz|female|   2020-08-05|\n",
      "|  5|      105|   David Simmons|  male|   1999-12-30|\n",
      "|  6|      106|   Edward Hudson|  male|   1983-05-09|\n",
      "|  7|      107|    Albert Jones|  male|   1990-09-13|\n",
      "|  8|      108|Leonard Cavender|  male|   1958-08-08|\n",
      "|  9|      109|  Everett Vadala|  male|   2005-05-24|\n",
      "+---+---------+----------------+------+-------------+\n",
      "only showing top 10 rows\n",
      "\n",
      "There are 100000 rows in the people_df DataFrame.\n",
      "There are 5 columns in the people_df DataFrame and their names are ['_c0', 'person_id', 'name', 'sex', 'date of birth']\n"
     ]
    }
   ],
   "source": [
    "# Print the first 10 observations \n",
    "people_df.show(10)\n",
    "# Count the number of rows \n",
    "print(\"There are {} rows in the people_df DataFrame.\".format(people_df.count()))\n",
    "# Count the number of columns and their names\n",
    "print(\"There are {} columns in the people_df DataFrame and their names are {}\".format(len(people_df.columns), people_df.columns))"
   ]
  },
  {
   "cell_type": "markdown",
   "id": "34ddc3b4-7917-45be-b1d8-ab21f8273b4e",
   "metadata": {},
   "source": [
    "## Spurious date"
   ]
  },
  {
   "cell_type": "code",
   "execution_count": 9,
   "id": "558cd64c-3ff8-48ef-8c09-b0f7603e2aa5",
   "metadata": {
    "execution": {
     "iopub.execute_input": "2023-05-02T21:52:13.887260Z",
     "iopub.status.busy": "2023-05-02T21:52:13.887151Z",
     "iopub.status.idle": "2023-05-02T21:52:14.302799Z",
     "shell.execute_reply": "2023-05-02T21:52:14.302122Z",
     "shell.execute_reply.started": "2023-05-02T21:52:13.887248Z"
    },
    "tags": []
   },
   "outputs": [
    {
     "name": "stdout",
     "output_type": "stream",
     "text": [
      "+------------------+\n",
      "|max(date of birth)|\n",
      "+------------------+\n",
      "|+20175-02-28      |\n",
      "+------------------+\n",
      "\n"
     ]
    }
   ],
   "source": [
    "people_df.select('date of birth').groupby().agg({'date of birth': 'max'}).show(truncate=False)"
   ]
  },
  {
   "cell_type": "code",
   "execution_count": 10,
   "id": "b500f4bc-e5d8-4d37-9d37-a7156203ac50",
   "metadata": {
    "execution": {
     "iopub.execute_input": "2023-05-02T21:52:14.303531Z",
     "iopub.status.busy": "2023-05-02T21:52:14.303346Z",
     "iopub.status.idle": "2023-05-02T21:52:14.332625Z",
     "shell.execute_reply": "2023-05-02T21:52:14.331899Z",
     "shell.execute_reply.started": "2023-05-02T21:52:14.303517Z"
    },
    "tags": []
   },
   "outputs": [],
   "source": [
    "people_df = people_df.filter('`date of birth` < \"20175\"')"
   ]
  },
  {
   "cell_type": "markdown",
   "id": "9b7c2442-dd4c-4767-96d1-89be2db65f12",
   "metadata": {
    "tags": []
   },
   "source": [
    "# PySpark DataFrame subsetting and cleaning"
   ]
  },
  {
   "cell_type": "code",
   "execution_count": 11,
   "id": "9fede713-05e2-450a-ad1e-7652a54992f6",
   "metadata": {
    "execution": {
     "iopub.execute_input": "2023-05-02T21:52:14.333818Z",
     "iopub.status.busy": "2023-05-02T21:52:14.333370Z",
     "iopub.status.idle": "2023-05-02T21:52:15.272756Z",
     "shell.execute_reply": "2023-05-02T21:52:15.272277Z",
     "shell.execute_reply.started": "2023-05-02T21:52:14.333799Z"
    },
    "tags": []
   },
   "outputs": [
    {
     "name": "stdout",
     "output_type": "stream",
     "text": [
      "+----------------+------+-------------+\n",
      "|            name|   sex|date of birth|\n",
      "+----------------+------+-------------+\n",
      "|  Penelope Lewis|female|   1990-08-31|\n",
      "|   David Anthony|  male|   1971-10-14|\n",
      "|       Ida Shipp|female|   1962-05-24|\n",
      "|    Joanna Moore|female|   2017-03-10|\n",
      "|  Lisandra Ortiz|female|   2020-08-05|\n",
      "|   David Simmons|  male|   1999-12-30|\n",
      "|   Edward Hudson|  male|   1983-05-09|\n",
      "|    Albert Jones|  male|   1990-09-13|\n",
      "|Leonard Cavender|  male|   1958-08-08|\n",
      "|  Everett Vadala|  male|   2005-05-24|\n",
      "+----------------+------+-------------+\n",
      "only showing top 10 rows\n",
      "\n",
      "There were 98005 rows before removing duplicates, and 98005 rows after removing duplicates\n"
     ]
    }
   ],
   "source": [
    "# Select name, sex and date of birth columns\n",
    "people_df_sub = people_df.select('name', 'sex', 'date of birth')\n",
    "# Print the first 10 observations from people_df_sub\n",
    "people_df_sub.show(10)\n",
    "# Remove duplicate entries from people_df_sub\n",
    "people_df_sub_nodup = people_df_sub.dropDuplicates()\n",
    "# Count the number of rows\n",
    "print(\"There were {} rows before removing duplicates, and {} rows after removing duplicates\".format(people_df_sub.count(), people_df_sub_nodup.count()))"
   ]
  },
  {
   "cell_type": "markdown",
   "id": "221345cc-b6d1-4c7b-93cf-7ccf93ee3ebd",
   "metadata": {},
   "source": [
    "# Filtering your DataFrame"
   ]
  },
  {
   "cell_type": "code",
   "execution_count": 12,
   "id": "9ba7bc6b-15ce-44b3-82fb-6136a729da93",
   "metadata": {
    "execution": {
     "iopub.execute_input": "2023-05-02T21:52:15.273436Z",
     "iopub.status.busy": "2023-05-02T21:52:15.273258Z",
     "iopub.status.idle": "2023-05-02T21:52:15.600586Z",
     "shell.execute_reply": "2023-05-02T21:52:15.600065Z",
     "shell.execute_reply.started": "2023-05-02T21:52:15.273423Z"
    },
    "tags": []
   },
   "outputs": [
    {
     "name": "stdout",
     "output_type": "stream",
     "text": [
      "There are 48049 rows in the people_df_female DataFrame and 48078 rows in the people_df_male DataFrame\n"
     ]
    }
   ],
   "source": [
    "# Filter people_df to select females \n",
    "people_df_female = people_df.filter(people_df.sex == \"female\")\n",
    "# Filter people_df to select males\n",
    "people_df_male = people_df.filter(people_df.sex == \"male\")\n",
    "# Count the number of rows \n",
    "print(\"There are {} rows in the people_df_female DataFrame and {} rows in the people_df_male DataFrame\".format(people_df_female.count(), people_df_male.count()))"
   ]
  },
  {
   "cell_type": "markdown",
   "id": "ee85572a-cb1a-45bc-9682-613b5d7304ca",
   "metadata": {},
   "source": [
    "# Running SQL Queries Programmatically"
   ]
  },
  {
   "cell_type": "code",
   "execution_count": 13,
   "id": "530061d0-d505-4238-bc8c-784195651284",
   "metadata": {
    "execution": {
     "iopub.execute_input": "2023-05-02T21:52:15.602981Z",
     "iopub.status.busy": "2023-05-02T21:52:15.602622Z",
     "iopub.status.idle": "2023-05-02T21:52:15.678532Z",
     "shell.execute_reply": "2023-05-02T21:52:15.678123Z",
     "shell.execute_reply.started": "2023-05-02T21:52:15.602961Z"
    },
    "tags": []
   },
   "outputs": [
    {
     "name": "stdout",
     "output_type": "stream",
     "text": [
      "+----------------+\n",
      "|            name|\n",
      "+----------------+\n",
      "|  Penelope Lewis|\n",
      "|   David Anthony|\n",
      "|       Ida Shipp|\n",
      "|    Joanna Moore|\n",
      "|  Lisandra Ortiz|\n",
      "|   David Simmons|\n",
      "|   Edward Hudson|\n",
      "|    Albert Jones|\n",
      "|Leonard Cavender|\n",
      "|  Everett Vadala|\n",
      "+----------------+\n",
      "only showing top 10 rows\n",
      "\n"
     ]
    }
   ],
   "source": [
    "# Create a temporary table \"people\"\n",
    "people_df.createOrReplaceTempView(\"people\")\n",
    "# Construct a query to select the names of the people from the temporary table \"people\"\n",
    "query = '''SELECT name FROM people'''\n",
    "# Assign the result of Spark's query to people_df_names\n",
    "people_df_names = spark.sql(query)\n",
    "# Print the top 10 names of the people\n",
    "people_df_names.show(10)"
   ]
  },
  {
   "cell_type": "markdown",
   "id": "5f7afd93-ebbb-4f97-bbe9-bed9912998d0",
   "metadata": {},
   "source": [
    "# SQL queries for filtering Table"
   ]
  },
  {
   "cell_type": "code",
   "execution_count": 14,
   "id": "e4f8f5d2-8762-4468-822d-cfad17effcde",
   "metadata": {
    "execution": {
     "iopub.execute_input": "2023-05-02T21:52:15.679289Z",
     "iopub.status.busy": "2023-05-02T21:52:15.679110Z",
     "iopub.status.idle": "2023-05-02T21:52:15.979199Z",
     "shell.execute_reply": "2023-05-02T21:52:15.978846Z",
     "shell.execute_reply.started": "2023-05-02T21:52:15.679272Z"
    },
    "tags": []
   },
   "outputs": [
    {
     "name": "stdout",
     "output_type": "stream",
     "text": [
      "There are 48049 rows in the people_female_df and 48078 rows in the people_male_df DataFrames\n"
     ]
    }
   ],
   "source": [
    "# Filter the people table to select female sex \n",
    "people_female_df = spark.sql('SELECT * FROM people WHERE sex==\"female\"')\n",
    "# Filter the people table DataFrame to select male sex\n",
    "people_male_df = spark.sql('SELECT * FROM people WHERE sex==\"male\"')\n",
    "# Count the number of rows in both DataFrames\n",
    "print(\"There are {} rows in the people_female_df and {} rows in the people_male_df DataFrames\".format(people_female_df.count(), people_male_df.count()))"
   ]
  },
  {
   "cell_type": "markdown",
   "id": "2f0434fa-7fa9-4ac9-8c88-30887330c8aa",
   "metadata": {},
   "source": [
    "# What is Data visualization?\n",
    "Data visualization is a way of representing your data in graphs or charts\n",
    "Open source plotting tools to aid visualization in Python:\n",
    "Matplotlib, Seaborn, Bokeh etc.,\n",
    "Plotting graphs using PySpark DataFrames is done using three methods\n",
    "* `pyspark_dist_explore` library\n",
    "* `toPandas()` method\n",
    "* `HandySpark` library"
   ]
  },
  {
   "cell_type": "code",
   "execution_count": 15,
   "id": "518784f6-e4c1-4794-98ed-d3b594ce4f92",
   "metadata": {
    "execution": {
     "iopub.execute_input": "2023-05-02T21:52:15.980013Z",
     "iopub.status.busy": "2023-05-02T21:52:15.979726Z",
     "iopub.status.idle": "2023-05-02T21:52:15.982472Z",
     "shell.execute_reply": "2023-05-02T21:52:15.982117Z",
     "shell.execute_reply.started": "2023-05-02T21:52:15.979996Z"
    },
    "tags": []
   },
   "outputs": [
    {
     "name": "stdout",
     "output_type": "stream",
     "text": [
      "root\n",
      " |-- _c0: integer (nullable = true)\n",
      " |-- person_id: integer (nullable = true)\n",
      " |-- name: string (nullable = true)\n",
      " |-- sex: string (nullable = true)\n",
      " |-- date of birth: date (nullable = true)\n",
      "\n"
     ]
    }
   ],
   "source": [
    "people_df.printSchema()"
   ]
  },
  {
   "cell_type": "code",
   "execution_count": 16,
   "id": "7a436320-4f8d-4719-b365-bc9fbc21c1b7",
   "metadata": {
    "execution": {
     "iopub.execute_input": "2023-05-02T21:52:15.983269Z",
     "iopub.status.busy": "2023-05-02T21:52:15.982987Z",
     "iopub.status.idle": "2023-05-02T21:52:16.534777Z",
     "shell.execute_reply": "2023-05-02T21:52:16.534444Z",
     "shell.execute_reply.started": "2023-05-02T21:52:15.983253Z"
    },
    "tags": []
   },
   "outputs": [
    {
     "data": {
      "text/plain": [
       "array([[<Axes: title={'center': 'date of birth'}>]], dtype=object)"
      ]
     },
     "execution_count": 16,
     "metadata": {},
     "output_type": "execute_result"
    },
    {
     "data": {
      "image/png": "[encoded data removed]",
      "text/plain": [
       "<Figure size 640x480 with 1 Axes>"
      ]
     },
     "metadata": {},
     "output_type": "display_data"
    }
   ],
   "source": [
    "people_df.select('date of birth').toPandas().astype({'date of birth':'datetime64[ns]'}).hist()\n",
    "# plt.show()"
   ]
  },
  {
   "cell_type": "markdown",
   "id": "8f800b12-9fa5-4386-b2e5-2c8d0cd0350f",
   "metadata": {},
   "source": [
    "# PySpark DataFrame visualization"
   ]
  },
  {
   "cell_type": "code",
   "execution_count": 17,
   "id": "dda1bec2-f493-461d-a481-0183a7ea6fb2",
   "metadata": {
    "execution": {
     "iopub.execute_input": "2023-05-02T21:52:16.535273Z",
     "iopub.status.busy": "2023-05-02T21:52:16.535172Z",
     "iopub.status.idle": "2023-05-02T21:52:16.690076Z",
     "shell.execute_reply": "2023-05-02T21:52:16.689664Z",
     "shell.execute_reply.started": "2023-05-02T21:52:16.535263Z"
    },
    "tags": []
   },
   "outputs": [
    {
     "name": "stdout",
     "output_type": "stream",
     "text": [
      "The type of people_df is <class 'pyspark.sql.dataframe.DataFrame'>\n"
     ]
    }
   ],
   "source": [
    "names_df = spark.read.csv('names.csv', header=True, inferSchema=True)\n",
    "# Check the type of people_df\n",
    "print(\"The type of people_df is\", type(people_df))"
   ]
  },
  {
   "cell_type": "code",
   "execution_count": 18,
   "id": "c6137fe6-74ae-4700-8ee6-ddd26e0aa2c2",
   "metadata": {
    "execution": {
     "iopub.execute_input": "2023-05-02T21:52:16.690567Z",
     "iopub.status.busy": "2023-05-02T21:52:16.690460Z",
     "iopub.status.idle": "2023-05-02T21:52:16.740810Z",
     "shell.execute_reply": "2023-05-02T21:52:16.740473Z",
     "shell.execute_reply.started": "2023-05-02T21:52:16.690556Z"
    },
    "tags": []
   },
   "outputs": [
    {
     "name": "stdout",
     "output_type": "stream",
     "text": [
      "+--------+----+\n",
      "|    Name| Age|\n",
      "+--------+----+\n",
      "|    Mona|20.0|\n",
      "|Jennifer|34.0|\n",
      "|    John|20.0|\n",
      "|     Jim|26.0|\n",
      "+--------+----+\n",
      "\n"
     ]
    }
   ],
   "source": [
    "names_df.show()"
   ]
  },
  {
   "cell_type": "code",
   "execution_count": 19,
   "id": "2a94156d-15f6-467b-a909-d694d10c30e7",
   "metadata": {
    "execution": {
     "iopub.execute_input": "2023-05-02T21:52:16.741353Z",
     "iopub.status.busy": "2023-05-02T21:52:16.741232Z",
     "iopub.status.idle": "2023-05-02T21:52:16.743860Z",
     "shell.execute_reply": "2023-05-02T21:52:16.743406Z",
     "shell.execute_reply.started": "2023-05-02T21:52:16.741342Z"
    },
    "tags": []
   },
   "outputs": [
    {
     "name": "stdout",
     "output_type": "stream",
     "text": [
      "root\n",
      " |-- Name: string (nullable = true)\n",
      " |-- Age: double (nullable = true)\n",
      "\n"
     ]
    }
   ],
   "source": [
    "names_df.printSchema()"
   ]
  },
  {
   "cell_type": "code",
   "execution_count": 20,
   "id": "1fc40fea-c649-421f-84a8-a8614b2af105",
   "metadata": {
    "execution": {
     "iopub.execute_input": "2023-05-02T21:52:16.744584Z",
     "iopub.status.busy": "2023-05-02T21:52:16.744419Z",
     "iopub.status.idle": "2023-05-02T21:52:16.847309Z",
     "shell.execute_reply": "2023-05-02T21:52:16.846990Z",
     "shell.execute_reply.started": "2023-05-02T21:52:16.744569Z"
    },
    "tags": []
   },
   "outputs": [
    {
     "name": "stdout",
     "output_type": "stream",
     "text": [
      "The column names of names_df are ['Name', 'Age']\n"
     ]
    },
    {
     "data": {
      "image/png": "[encoded data removed]",
      "text/plain": [
       "<Figure size 640x480 with 1 Axes>"
      ]
     },
     "metadata": {},
     "output_type": "display_data"
    }
   ],
   "source": [
    "# Check the column names of names_df\n",
    "print(\"The column names of names_df are\", names_df.columns)\n",
    "# Convert to Pandas DataFrame  \n",
    "df_pandas = names_df.toPandas()\n",
    "# Create a horizontal bar plot\n",
    "df_pandas.plot(kind='barh', x='Name', y='Age', colormap='winter_r')\n",
    "plt.show()"
   ]
  },
  {
   "cell_type": "markdown",
   "id": "7a5d1c7f-861d-4ca4-94da-e3030aae56f1",
   "metadata": {},
   "source": [
    "# Part 1: Create a DataFrame from CSV file"
   ]
  },
  {
   "cell_type": "code",
   "execution_count": 21,
   "id": "6358c995-bf20-44fd-a87a-1edceb18cff4",
   "metadata": {
    "execution": {
     "iopub.execute_input": "2023-05-02T21:52:16.847810Z",
     "iopub.status.busy": "2023-05-02T21:52:16.847706Z",
     "iopub.status.idle": "2023-05-02T21:52:17.267086Z",
     "shell.execute_reply": "2023-05-02T21:52:17.266691Z",
     "shell.execute_reply.started": "2023-05-02T21:52:16.847799Z"
    },
    "scrolled": true,
    "tags": []
   },
   "outputs": [
    {
     "name": "stdout",
     "output_type": "stream",
     "text": [
      "root\n",
      " |-- _c0: integer (nullable = true)\n",
      " |-- Name: string (nullable = true)\n",
      " |-- Age: integer (nullable = true)\n",
      " |-- Photo: string (nullable = true)\n",
      " |-- Nationality: string (nullable = true)\n",
      " |-- Flag: string (nullable = true)\n",
      " |-- Overall: integer (nullable = true)\n",
      " |-- Potential: integer (nullable = true)\n",
      " |-- Club: string (nullable = true)\n",
      " |-- Club Logo: string (nullable = true)\n",
      " |-- Value: string (nullable = true)\n",
      " |-- Wage: string (nullable = true)\n",
      " |-- Special: integer (nullable = true)\n",
      " |-- Acceleration: string (nullable = true)\n",
      " |-- Aggression: string (nullable = true)\n",
      " |-- Agility: string (nullable = true)\n",
      " |-- Balance: string (nullable = true)\n",
      " |-- Ball control: string (nullable = true)\n",
      " |-- Composure: string (nullable = true)\n",
      " |-- Crossing: string (nullable = true)\n",
      " |-- Curve: string (nullable = true)\n",
      " |-- Dribbling: string (nullable = true)\n",
      " |-- Finishing: string (nullable = true)\n",
      " |-- Free kick accuracy: string (nullable = true)\n",
      " |-- GK diving: string (nullable = true)\n",
      " |-- GK handling: string (nullable = true)\n",
      " |-- GK kicking: string (nullable = true)\n",
      " |-- GK positioning: string (nullable = true)\n",
      " |-- GK reflexes: string (nullable = true)\n",
      " |-- Heading accuracy: string (nullable = true)\n",
      " |-- Interceptions: string (nullable = true)\n",
      " |-- Jumping: string (nullable = true)\n",
      " |-- Long passing: string (nullable = true)\n",
      " |-- Long shots: string (nullable = true)\n",
      " |-- Marking: string (nullable = true)\n",
      " |-- Penalties: string (nullable = true)\n",
      " |-- Positioning: string (nullable = true)\n",
      " |-- Reactions: string (nullable = true)\n",
      " |-- Short passing: string (nullable = true)\n",
      " |-- Shot power: string (nullable = true)\n",
      " |-- Sliding tackle: string (nullable = true)\n",
      " |-- Sprint speed: string (nullable = true)\n",
      " |-- Stamina: string (nullable = true)\n",
      " |-- Standing tackle: string (nullable = true)\n",
      " |-- Strength: string (nullable = true)\n",
      " |-- Vision: string (nullable = true)\n",
      " |-- Volleys: string (nullable = true)\n",
      " |-- CAM: double (nullable = true)\n",
      " |-- CB: double (nullable = true)\n",
      " |-- CDM: double (nullable = true)\n",
      " |-- CF: double (nullable = true)\n",
      " |-- CM: double (nullable = true)\n",
      " |-- ID: integer (nullable = true)\n",
      " |-- LAM: double (nullable = true)\n",
      " |-- LB: double (nullable = true)\n",
      " |-- LCB: double (nullable = true)\n",
      " |-- LCM: double (nullable = true)\n",
      " |-- LDM: double (nullable = true)\n",
      " |-- LF: double (nullable = true)\n",
      " |-- LM: double (nullable = true)\n",
      " |-- LS: double (nullable = true)\n",
      " |-- LW: double (nullable = true)\n",
      " |-- LWB: double (nullable = true)\n",
      " |-- Preferred Positions: string (nullable = true)\n",
      " |-- RAM: double (nullable = true)\n",
      " |-- RB: double (nullable = true)\n",
      " |-- RCB: double (nullable = true)\n",
      " |-- RCM: double (nullable = true)\n",
      " |-- RDM: double (nullable = true)\n",
      " |-- RF: double (nullable = true)\n",
      " |-- RM: double (nullable = true)\n",
      " |-- RS: double (nullable = true)\n",
      " |-- RW: double (nullable = true)\n",
      " |-- RWB: double (nullable = true)\n",
      " |-- ST: double (nullable = true)\n",
      "\n",
      "+---+-----------------+---+--------------------+-----------+--------------------+-------+---------+-------------------+--------------------+------+-----+-------+------------+----------+-------+-------+------------+---------+--------+-----+---------+---------+------------------+---------+-----------+----------+--------------+-----------+----------------+-------------+-------+------------+----------+-------+---------+-----------+---------+-------------+----------+--------------+------------+-------+---------------+--------+------+-------+----+----+----+----+----+------+----+----+----+----+----+----+----+----+----+----+-------------------+----+----+----+----+----+----+----+----+----+----+----+\n",
      "|_c0|             Name|Age|               Photo|Nationality|                Flag|Overall|Potential|               Club|           Club Logo| Value| Wage|Special|Acceleration|Aggression|Agility|Balance|Ball control|Composure|Crossing|Curve|Dribbling|Finishing|Free kick accuracy|GK diving|GK handling|GK kicking|GK positioning|GK reflexes|Heading accuracy|Interceptions|Jumping|Long passing|Long shots|Marking|Penalties|Positioning|Reactions|Short passing|Shot power|Sliding tackle|Sprint speed|Stamina|Standing tackle|Strength|Vision|Volleys| CAM|  CB| CDM|  CF|  CM|    ID| LAM|  LB| LCB| LCM| LDM|  LF|  LM|  LS|  LW| LWB|Preferred Positions| RAM|  RB| RCB| RCM| RDM|  RF|  RM|  RS|  RW| RWB|  ST|\n",
      "+---+-----------------+---+--------------------+-----------+--------------------+-------+---------+-------------------+--------------------+------+-----+-------+------------+----------+-------+-------+------------+---------+--------+-----+---------+---------+------------------+---------+-----------+----------+--------------+-----------+----------------+-------------+-------+------------+----------+-------+---------+-----------+---------+-------------+----------+--------------+------------+-------+---------------+--------+------+-------+----+----+----+----+----+------+----+----+----+----+----+----+----+----+----+----+-------------------+----+----+----+----+----+----+----+----+----+----+----+\n",
      "|  0|Cristiano Ronaldo| 32|https://cdn.sofif...|   Portugal|https://cdn.sofif...|     94|       94|     Real Madrid CF|https://cdn.sofif...|€95.5M|€565K|   2228|          89|        63|     89|     63|          93|       95|      85|   81|       91|       94|                76|        7|         11|        15|            14|         11|              88|           29|     95|          77|        92|     22|       85|         95|       96|           83|        94|            23|          91|     92|             31|      80|    85|     88|89.0|53.0|62.0|91.0|82.0| 20801|89.0|61.0|53.0|82.0|62.0|91.0|89.0|92.0|91.0|66.0|             ST LW |89.0|61.0|53.0|82.0|62.0|91.0|89.0|92.0|91.0|66.0|92.0|\n",
      "|  1|         L. Messi| 30|https://cdn.sofif...|  Argentina|https://cdn.sofif...|     93|       93|       FC Barcelona|https://cdn.sofif...| €105M|€565K|   2154|          92|        48|     90|     95|          95|       96|      77|   89|       97|       95|                90|        6|         11|        15|            14|          8|              71|           22|     68|          87|        88|     13|       74|         93|       95|           88|        85|            26|          87|     73|             28|      59|    90|     85|92.0|45.0|59.0|92.0|84.0|158023|92.0|57.0|45.0|84.0|59.0|92.0|90.0|88.0|91.0|62.0|                RW |92.0|57.0|45.0|84.0|59.0|92.0|90.0|88.0|91.0|62.0|88.0|\n",
      "|  2|           Neymar| 25|https://cdn.sofif...|     Brazil|https://cdn.sofif...|     92|       94|Paris Saint-Germain|https://cdn.sofif...| €123M|€280K|   2100|          94|        56|     96|     82|          95|       92|      75|   81|       96|       89|                84|        9|          9|        15|            15|         11|              62|           36|     61|          75|        77|     21|       81|         90|       88|           81|        80|            33|          90|     78|             24|      53|    80|     83|88.0|46.0|59.0|88.0|79.0|190871|88.0|59.0|46.0|79.0|59.0|88.0|87.0|84.0|89.0|64.0|                LW |88.0|59.0|46.0|79.0|59.0|88.0|87.0|84.0|89.0|64.0|84.0|\n",
      "|  3|        L. Suárez| 30|https://cdn.sofif...|    Uruguay|https://cdn.sofif...|     92|       92|       FC Barcelona|https://cdn.sofif...|  €97M|€510K|   2291|          88|        78|     86|     60|          91|       83|      77|   86|       86|       94|                84|       27|         25|        31|            33|         37|              77|           41|     69|          64|        86|     30|       85|         92|       93|           83|        87|            38|          77|     89|             45|      80|    84|     88|87.0|58.0|65.0|88.0|80.0|176580|87.0|64.0|58.0|80.0|65.0|88.0|85.0|88.0|87.0|68.0|                ST |87.0|64.0|58.0|80.0|65.0|88.0|85.0|88.0|87.0|68.0|88.0|\n",
      "|  4|         M. Neuer| 31|https://cdn.sofif...|    Germany|https://cdn.sofif...|     92|       92|   FC Bayern Munich|https://cdn.sofif...|  €61M|€230K|   1493|          58|        29|     52|     35|          48|       70|      15|   14|       30|       13|                11|       91|         90|        95|            91|         89|              25|           30|     78|          59|        16|     10|       47|         12|       85|           55|        25|            11|          61|     44|             10|      83|    70|     11|null|null|null|null|null|167495|null|null|null|null|null|null|null|null|null|null|                GK |null|null|null|null|null|null|null|null|null|null|null|\n",
      "|  5|   R. Lewandowski| 28|https://cdn.sofif...|     Poland|https://cdn.sofif...|     91|       91|   FC Bayern Munich|https://cdn.sofif...|  €92M|€355K|   2143|          79|        80|     78|     80|          89|       87|      62|   77|       85|       91|                84|       15|          6|        12|             8|         10|              85|           39|     84|          65|        83|     25|       81|         91|       91|           83|        88|            19|          83|     79|             42|      84|    78|     87|84.0|57.0|62.0|87.0|78.0|188545|84.0|58.0|57.0|78.0|62.0|87.0|82.0|88.0|84.0|61.0|                ST |84.0|58.0|57.0|78.0|62.0|87.0|82.0|88.0|84.0|61.0|88.0|\n",
      "|  6|           De Gea| 26|https://cdn.sofif...|      Spain|https://cdn.sofif...|     90|       92|  Manchester United|https://cdn.sofif...|€64.5M|€215K|   1458|          57|        38|     60|     43|          42|       64|      17|   21|       18|       13|                19|       90|         85|        87|            86|         90|              21|           30|     67|          51|        12|     13|       40|         12|       88|           50|        31|            13|          58|     40|             21|      64|    68|     13|null|null|null|null|null|193080|null|null|null|null|null|null|null|null|null|null|                GK |null|null|null|null|null|null|null|null|null|null|null|\n",
      "|  7|        E. Hazard| 26|https://cdn.sofif...|    Belgium|https://cdn.sofif...|     90|       91|            Chelsea|https://cdn.sofif...|€90.5M|€295K|   2096|          93|        54|     93|     91|          92|       87|      80|   82|       93|       83|                79|       11|         12|         6|             8|          8|              57|           41|     59|          81|        82|     25|       86|         85|       85|           86|        79|            22|          87|     79|             27|      65|    86|     79|88.0|47.0|61.0|87.0|81.0|183277|88.0|59.0|47.0|81.0|61.0|87.0|87.0|82.0|88.0|64.0|                LW |88.0|59.0|47.0|81.0|61.0|87.0|87.0|82.0|88.0|64.0|82.0|\n",
      "|  8|         T. Kroos| 27|https://cdn.sofif...|    Germany|https://cdn.sofif...|     90|       90|     Real Madrid CF|https://cdn.sofif...|  €79M|€340K|   2165|          60|        60|     71|     69|          89|       85|      85|   85|       79|       76|                84|       10|         11|        13|             7|         10|              54|           85|     32|          93|        90|     63|       73|         79|       86|           90|        87|            69|          52|     77|             82|      74|    88|     82|83.0|72.0|82.0|81.0|87.0|182521|83.0|76.0|72.0|87.0|82.0|81.0|81.0|77.0|80.0|78.0|            CDM CM |83.0|76.0|72.0|87.0|82.0|81.0|81.0|77.0|80.0|78.0|77.0|\n",
      "|  9|       G. Higuaín| 29|https://cdn.sofif...|  Argentina|https://cdn.sofif...|     90|       90|           Juventus|https://cdn.sofif...|  €77M|€275K|   1961|          78|        50|     75|     69|          85|       86|      68|   74|       84|       91|                62|        5|         12|         7|             5|         10|              86|           20|     79|          59|        82|     12|       70|         92|       88|           75|        88|            18|          80|     72|             22|      85|    70|     88|81.0|46.0|52.0|84.0|71.0|167664|81.0|51.0|46.0|71.0|52.0|84.0|79.0|87.0|82.0|55.0|                ST |81.0|51.0|46.0|71.0|52.0|84.0|79.0|87.0|82.0|55.0|87.0|\n",
      "+---+-----------------+---+--------------------+-----------+--------------------+-------+---------+-------------------+--------------------+------+-----+-------+------------+----------+-------+-------+------------+---------+--------+-----+---------+---------+------------------+---------+-----------+----------+--------------+-----------+----------------+-------------+-------+------------+----------+-------+---------+-----------+---------+-------------+----------+--------------+------------+-------+---------------+--------+------+-------+----+----+----+----+----+------+----+----+----+----+----+----+----+----+----+----+-------------------+----+----+----+----+----+----+----+----+----+----+----+\n",
      "only showing top 10 rows\n",
      "\n",
      "There are 17981 rows in the fifa_df DataFrame\n"
     ]
    },
    {
     "name": "stderr",
     "output_type": "stream",
     "text": [
      "23/05/02 18:52:17 WARN CSVHeaderChecker: CSV header does not conform to the schema.\n",
      " Header: , Name, Age, Photo, Nationality, Flag, Overall, Potential, Club, Club Logo, Value, Wage, Special, Acceleration, Aggression, Agility, Balance, Ball control, Composure, Crossing, Curve, Dribbling, Finishing, Free kick accuracy, GK diving, GK handling, GK kicking, GK positioning, GK reflexes, Heading accuracy, Interceptions, Jumping, Long passing, Long shots, Marking, Penalties, Positioning, Reactions, Short passing, Shot power, Sliding tackle, Sprint speed, Stamina, Standing tackle, Strength, Vision, Volleys, CAM, CB, CDM, CF, CM, ID, LAM, LB, LCB, LCM, LDM, LF, LM, LS, LW, LWB, Preferred Positions, RAM, RB, RCB, RCM, RDM, RF, RM, RS, RW, RWB, ST\n",
      " Schema: _c0, Name, Age, Photo, Nationality, Flag, Overall, Potential, Club, Club Logo, Value, Wage, Special, Acceleration, Aggression, Agility, Balance, Ball control, Composure, Crossing, Curve, Dribbling, Finishing, Free kick accuracy, GK diving, GK handling, GK kicking, GK positioning, GK reflexes, Heading accuracy, Interceptions, Jumping, Long passing, Long shots, Marking, Penalties, Positioning, Reactions, Short passing, Shot power, Sliding tackle, Sprint speed, Stamina, Standing tackle, Strength, Vision, Volleys, CAM, CB, CDM, CF, CM, ID, LAM, LB, LCB, LCM, LDM, LF, LM, LS, LW, LWB, Preferred Positions, RAM, RB, RCB, RCM, RDM, RF, RM, RS, RW, RWB, ST\n",
      "Expected: _c0 but found: \n",
      "CSV file: file:///home/mauricio/code/big-data-with-pyspark/2-big-data-fundamentals-with-pyspark/Fifa2018_dataset.csv\n"
     ]
    }
   ],
   "source": [
    "# Load the Dataframe\n",
    "fifa_df = spark.read.csv('Fifa2018_dataset.csv', header=True, inferSchema=True)\n",
    "# Check the schema of columns\n",
    "fifa_df.printSchema()\n",
    "# Show the first 10 observations\n",
    "fifa_df.show(10)\n",
    "# Print the total number of rows\n",
    "print(\"There are {} rows in the fifa_df DataFrame\".format(fifa_df.count()))"
   ]
  },
  {
   "cell_type": "markdown",
   "id": "db96dd47-bed7-46e3-838a-6345c909318f",
   "metadata": {
    "tags": []
   },
   "source": [
    "# Part 2: SQL Queries on DataFrame"
   ]
  },
  {
   "cell_type": "code",
   "execution_count": 22,
   "id": "baa3a507-2a22-460a-ad9b-9f44bd5b3acf",
   "metadata": {
    "execution": {
     "iopub.execute_input": "2023-05-02T21:52:17.267851Z",
     "iopub.status.busy": "2023-05-02T21:52:17.267676Z",
     "iopub.status.idle": "2023-05-02T21:52:17.415970Z",
     "shell.execute_reply": "2023-05-02T21:52:17.415585Z",
     "shell.execute_reply.started": "2023-05-02T21:52:17.267830Z"
    }
   },
   "outputs": [
    {
     "name": "stdout",
     "output_type": "stream",
     "text": [
      "+-------+-----------------+\n",
      "|summary|              Age|\n",
      "+-------+-----------------+\n",
      "|  count|             1140|\n",
      "|   mean|24.20263157894737|\n",
      "| stddev|4.197096712293752|\n",
      "|    min|               16|\n",
      "|    max|               36|\n",
      "+-------+-----------------+\n",
      "\n"
     ]
    }
   ],
   "source": [
    "# Create a temporary view of fifa_df\n",
    "fifa_df.createOrReplaceTempView('fifa_df_table')\n",
    "# Construct the \"query\"\n",
    "query = '''SELECT Age FROM fifa_df_table WHERE Nationality == \"Germany\"'''\n",
    "# Apply the SQL \"query\"\n",
    "fifa_df_germany_age = spark.sql(query)\n",
    "# Generate basic statistics\n",
    "fifa_df_germany_age.describe().show()"
   ]
  },
  {
   "cell_type": "markdown",
   "id": "973b1886-c527-4b34-9e29-bc6eb7d6af0a",
   "metadata": {},
   "source": [
    "# Part 3: Data visualization"
   ]
  },
  {
   "cell_type": "code",
   "execution_count": 23,
   "id": "a147ed28-3297-4f56-85db-7522eeeaadab",
   "metadata": {
    "execution": {
     "iopub.execute_input": "2023-05-02T21:52:17.416470Z",
     "iopub.status.busy": "2023-05-02T21:52:17.416361Z",
     "iopub.status.idle": "2023-05-02T21:52:17.696456Z",
     "shell.execute_reply": "2023-05-02T21:52:17.696044Z",
     "shell.execute_reply.started": "2023-05-02T21:52:17.416460Z"
    },
    "tags": []
   },
   "outputs": [
    {
     "data": {
      "image/png": "[encoded data removed]",
      "text/plain": [
       "<Figure size 640x480 with 1 Axes>"
      ]
     },
     "metadata": {},
     "output_type": "display_data"
    }
   ],
   "source": [
    "# Convert fifa_df to fifa_df_germany_age_pandas DataFrame\n",
    "fifa_df_germany_age_pandas = fifa_df_germany_age.toPandas()\n",
    "\n",
    "# Plot the 'Age' density of Germany Players\n",
    "fifa_df_germany_age_pandas.plot(kind='density')\n",
    "plt.show()"
   ]
  }
 ],
 "metadata": {
  "kernelspec": {
   "display_name": "Python 3 (ipykernel)",
   "language": "python",
   "name": "python3"
  },
  "language_info": {
   "codemirror_mode": {
    "name": "ipython",
    "version": 3
   },
   "file_extension": ".py",
   "mimetype": "text/x-python",
   "name": "python",
   "nbconvert_exporter": "python",
   "pygments_lexer": "ipython3",
   "version": "3.10.10"
  }
 },
 "nbformat": 4,
 "nbformat_minor": 5
}
