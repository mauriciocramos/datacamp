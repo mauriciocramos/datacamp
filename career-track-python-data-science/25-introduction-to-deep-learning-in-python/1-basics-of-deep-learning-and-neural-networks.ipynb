{
 "cells": [
  {
   "cell_type": "code",
   "execution_count": 1,
   "id": "1d1f16c3-8bd5-400c-bf18-42fca3b13e8e",
   "metadata": {
    "execution": {
     "iopub.execute_input": "2023-09-02T19:13:00.896794Z",
     "iopub.status.busy": "2023-09-02T19:13:00.896693Z",
     "iopub.status.idle": "2023-09-02T19:13:01.214536Z",
     "shell.execute_reply": "2023-09-02T19:13:01.214188Z",
     "shell.execute_reply.started": "2023-09-02T19:13:00.896783Z"
    },
    "tags": []
   },
   "outputs": [],
   "source": [
    "import matplotlib.pyplot as plt\n",
    "plt.style.use('dark_background')"
   ]
  },
  {
   "cell_type": "markdown",
   "id": "4cff2998-ca15-4f96-b081-a0f0f7ddb1d9",
   "metadata": {},
   "source": [
    "# Forward propagation code"
   ]
  },
  {
   "cell_type": "markdown",
   "id": "7940f243-a0c5-4f96-b91f-3f0fc5059da8",
   "metadata": {
    "tags": []
   },
   "source": [
    "## Bank transactions example\n",
    "* Make predictions based on:\n",
    "* Number of children = 2\n",
    "* Number of existing accounts = 3"
   ]
  },
  {
   "cell_type": "markdown",
   "id": "8e848d7b-ec6d-4c9b-bb2a-2f371d194253",
   "metadata": {},
   "source": [
    "![Image](forward-propagation.png)"
   ]
  },
  {
   "cell_type": "markdown",
   "id": "bf594da4-f531-433c-bc72-a2b94829b668",
   "metadata": {},
   "source": [
    "## Input"
   ]
  },
  {
   "cell_type": "code",
   "execution_count": 2,
   "id": "4263d1f0-93bd-40dd-8c3c-eda1ff435ba1",
   "metadata": {
    "execution": {
     "iopub.execute_input": "2023-09-02T19:13:01.215064Z",
     "iopub.status.busy": "2023-09-02T19:13:01.214940Z",
     "iopub.status.idle": "2023-09-02T19:13:01.218797Z",
     "shell.execute_reply": "2023-09-02T19:13:01.218457Z",
     "shell.execute_reply.started": "2023-09-02T19:13:01.215054Z"
    },
    "tags": []
   },
   "outputs": [
    {
     "data": {
      "text/plain": [
       "array([2, 3])"
      ]
     },
     "execution_count": 2,
     "metadata": {},
     "output_type": "execute_result"
    }
   ],
   "source": [
    "import numpy as np\n",
    "input_data = np.array([2, 3])\n",
    "input_data"
   ]
  },
  {
   "cell_type": "markdown",
   "id": "b9f9b8f8-3cd7-4cdb-bc09-3e647dc82e87",
   "metadata": {},
   "source": [
    "## Weights"
   ]
  },
  {
   "cell_type": "code",
   "execution_count": 3,
   "id": "4f56212b-cdf2-4631-aa85-d01f6f77cb4d",
   "metadata": {
    "execution": {
     "iopub.execute_input": "2023-09-02T19:13:01.219367Z",
     "iopub.status.busy": "2023-09-02T19:13:01.219253Z",
     "iopub.status.idle": "2023-09-02T19:13:01.222293Z",
     "shell.execute_reply": "2023-09-02T19:13:01.222014Z",
     "shell.execute_reply.started": "2023-09-02T19:13:01.219357Z"
    },
    "tags": []
   },
   "outputs": [
    {
     "data": {
      "text/plain": [
       "{'node_0': array([1, 1]), 'node_1': array([-1,  1]), 'output': array([ 2, -1])}"
      ]
     },
     "execution_count": 3,
     "metadata": {},
     "output_type": "execute_result"
    }
   ],
   "source": [
    "weights = {\n",
    "    \"node_0\": np.array([1, 1]),\n",
    "    \"node_1\": np.array([-1, 1]),\n",
    "    \"output\": np.array([2, -1]),\n",
    "}\n",
    "weights"
   ]
  },
  {
   "cell_type": "markdown",
   "id": "e09819ae-1154-4bb0-8e28-71951b2510bc",
   "metadata": {},
   "source": [
    "## Hidden layers"
   ]
  },
  {
   "cell_type": "code",
   "execution_count": 4,
   "id": "37d114f7-bfe3-4fbb-8850-9a39e167ce30",
   "metadata": {
    "execution": {
     "iopub.execute_input": "2023-09-02T19:13:01.223223Z",
     "iopub.status.busy": "2023-09-02T19:13:01.223110Z",
     "iopub.status.idle": "2023-09-02T19:13:01.226052Z",
     "shell.execute_reply": "2023-09-02T19:13:01.225770Z",
     "shell.execute_reply.started": "2023-09-02T19:13:01.223212Z"
    },
    "tags": []
   },
   "outputs": [
    {
     "data": {
      "text/plain": [
       "array([5, 1])"
      ]
     },
     "execution_count": 4,
     "metadata": {},
     "output_type": "execute_result"
    }
   ],
   "source": [
    "node_0_value = (input_data * weights[\"node_0\"]).sum()\n",
    "node_1_value = (input_data * weights[\"node_1\"]).sum()\n",
    "hidden_layer_values = np.array([node_0_value, node_1_value])\n",
    "hidden_layer_values"
   ]
  },
  {
   "cell_type": "markdown",
   "id": "8d2d1642-0d51-4ec3-abaa-c26efdc1a59b",
   "metadata": {},
   "source": [
    "## Outputs"
   ]
  },
  {
   "cell_type": "code",
   "execution_count": 5,
   "id": "f430f212-bbac-4a9b-b421-84dce486411b",
   "metadata": {
    "execution": {
     "iopub.execute_input": "2023-09-02T19:13:01.226657Z",
     "iopub.status.busy": "2023-09-02T19:13:01.226440Z",
     "iopub.status.idle": "2023-09-02T19:13:01.228879Z",
     "shell.execute_reply": "2023-09-02T19:13:01.228624Z",
     "shell.execute_reply.started": "2023-09-02T19:13:01.226645Z"
    },
    "tags": []
   },
   "outputs": [
    {
     "data": {
      "text/plain": [
       "9"
      ]
     },
     "execution_count": 5,
     "metadata": {},
     "output_type": "execute_result"
    }
   ],
   "source": [
    "output = (hidden_layer_values * weights['output']).sum()\n",
    "output"
   ]
  },
  {
   "cell_type": "markdown",
   "id": "ab4bb6ec-e635-4d08-a260-ee7a29b8e944",
   "metadata": {},
   "source": [
    "# Activation functions"
   ]
  },
  {
   "cell_type": "markdown",
   "id": "666ae0d2-f112-47ea-84ef-cbab59f8c327",
   "metadata": {},
   "source": [
    "## Hyperbolic Tangent"
   ]
  },
  {
   "cell_type": "markdown",
   "id": "280f7d92-2a43-4a63-bf84-aeafa0b9cdf9",
   "metadata": {},
   "source": [
    "For a long time, an s-shaped function called tanh was a popular activation function. "
   ]
  },
  {
   "cell_type": "code",
   "execution_count": 6,
   "id": "94536c5d-2081-450e-ab9c-5711e995ef5b",
   "metadata": {
    "execution": {
     "iopub.execute_input": "2023-09-02T19:13:01.229453Z",
     "iopub.status.busy": "2023-09-02T19:13:01.229269Z",
     "iopub.status.idle": "2023-09-02T19:13:01.310776Z",
     "shell.execute_reply": "2023-09-02T19:13:01.310359Z",
     "shell.execute_reply.started": "2023-09-02T19:13:01.229441Z"
    },
    "tags": []
   },
   "outputs": [
    {
     "data": {
      "image/png": "[encoded data removed]",
      "text/plain": [
       "<Figure size 640x480 with 1 Axes>"
      ]
     },
     "metadata": {},
     "output_type": "display_data"
    }
   ],
   "source": [
    "ls = np.linspace(-2, 2, 10)\n",
    "plt.plot(ls, np.tanh(ls), '.:'); plt.show()"
   ]
  },
  {
   "cell_type": "code",
   "execution_count": 7,
   "id": "768462a7-af5e-4841-8f7b-ee2afdbf1919",
   "metadata": {
    "execution": {
     "iopub.execute_input": "2023-09-02T19:13:01.311430Z",
     "iopub.status.busy": "2023-09-02T19:13:01.311208Z",
     "iopub.status.idle": "2023-09-02T19:13:01.314529Z",
     "shell.execute_reply": "2023-09-02T19:13:01.314225Z",
     "shell.execute_reply.started": "2023-09-02T19:13:01.311419Z"
    },
    "tags": []
   },
   "outputs": [
    {
     "name": "stdout",
     "output_type": "stream",
     "text": [
      "1.2382242525694254\n"
     ]
    }
   ],
   "source": [
    "import numpy as np\n",
    "# input_data = np.array([-1, 2])\n",
    "# weights = {'node_0': np.array([3, 3]),\n",
    "#            'node_1': np.array([1, 5]),\n",
    "#            'output': np.array([2, -1])}\n",
    "node_0_input = (input_data * weights['node_0']).sum()\n",
    "node_0_output = np.tanh(node_0_input)\n",
    "node_0_output\n",
    "\n",
    "node_1_input = (input_data * weights['node_1']).sum()\n",
    "node_1_output = np.tanh(node_1_input)\n",
    "node_1_output\n",
    "\n",
    "hidden_layer_outputs = np.array([node_0_output, node_1_output])\n",
    "hidden_layer_outputs\n",
    "\n",
    "output = (hidden_layer_outputs * weights['output']).sum()\n",
    "print(output)"
   ]
  },
  {
   "cell_type": "markdown",
   "id": "1c937511-1f23-4bd2-9514-efaceab190d5",
   "metadata": {},
   "source": [
    "* Today, the standard in both industry and research applications is something called ReLU (Rectified Linear Activation)"
   ]
  },
  {
   "cell_type": "markdown",
   "id": "b8a85d9e-490d-41fc-8ee0-df2c47832b1c",
   "metadata": {
    "tags": []
   },
   "source": [
    "## ReLU (Rectified Linear Activation)"
   ]
  },
  {
   "cell_type": "markdown",
   "id": "e105e64e-bf86-42b5-ab91-0dad6bec8ed8",
   "metadata": {
    "execution": {
     "iopub.execute_input": "2023-01-07T22:18:10.769786Z",
     "iopub.status.busy": "2023-01-07T22:18:10.769651Z",
     "iopub.status.idle": "2023-01-07T22:18:10.772035Z",
     "shell.execute_reply": "2023-01-07T22:18:10.771692Z",
     "shell.execute_reply.started": "2023-01-07T22:18:10.769775Z"
    }
   },
   "source": [
    "$$RELU(x) = \n",
    "\\begin{cases}\n",
    "0\\ \\ if \\ x \\ \\lt 0\\\\\n",
    "x\\ \\ if \\ x \\ \\ge 0\n",
    "\\end{cases}$$"
   ]
  },
  {
   "cell_type": "code",
   "execution_count": 8,
   "id": "9c3d6b84-862e-4350-bd3a-bb0014505143",
   "metadata": {
    "execution": {
     "iopub.execute_input": "2023-09-02T19:13:01.315009Z",
     "iopub.status.busy": "2023-09-02T19:13:01.314908Z",
     "iopub.status.idle": "2023-09-02T19:13:01.316657Z",
     "shell.execute_reply": "2023-09-02T19:13:01.316410Z",
     "shell.execute_reply.started": "2023-09-02T19:13:01.314999Z"
    },
    "tags": []
   },
   "outputs": [],
   "source": [
    "def relu(input):\n",
    "    return max(0, input)"
   ]
  },
  {
   "cell_type": "code",
   "execution_count": 9,
   "id": "8e80f07b-224f-4cd4-91b0-3f165dbb41a7",
   "metadata": {
    "execution": {
     "iopub.execute_input": "2023-09-02T19:13:01.317166Z",
     "iopub.status.busy": "2023-09-02T19:13:01.317063Z",
     "iopub.status.idle": "2023-09-02T19:13:01.400487Z",
     "shell.execute_reply": "2023-09-02T19:13:01.400212Z",
     "shell.execute_reply.started": "2023-09-02T19:13:01.317156Z"
    },
    "tags": []
   },
   "outputs": [
    {
     "data": {
      "image/png": "[encoded data removed]",
      "text/plain": [
       "<Figure size 640x480 with 1 Axes>"
      ]
     },
     "metadata": {},
     "output_type": "display_data"
    }
   ],
   "source": [
    "ls = np.linspace(-4, 4, 11)\n",
    "# plt.figure(figsize=(10,5)); \n",
    "relus = [relu(i) for i in ls]\n",
    "plt.plot(ls, relus, 'o-')\n",
    "for r in relus:\n",
    "    plt.axhline(r, linestyle=':', color='gray')\n",
    "    plt.axvline(r, linestyle=':', color='gray')\n",
    "plt.show()"
   ]
  },
  {
   "cell_type": "code",
   "execution_count": 10,
   "id": "6536c5b2-afae-44d0-b59c-711a6172adfa",
   "metadata": {
    "execution": {
     "iopub.execute_input": "2023-09-02T19:13:01.401121Z",
     "iopub.status.busy": "2023-09-02T19:13:01.400900Z",
     "iopub.status.idle": "2023-09-02T19:13:01.403247Z",
     "shell.execute_reply": "2023-09-02T19:13:01.402930Z",
     "shell.execute_reply.started": "2023-09-02T19:13:01.401109Z"
    },
    "tags": []
   },
   "outputs": [],
   "source": [
    "input_data = np.array([3, 5])"
   ]
  },
  {
   "cell_type": "code",
   "execution_count": 11,
   "id": "70940c21-0259-40ca-a6d3-c938ed3f7d8c",
   "metadata": {
    "execution": {
     "iopub.execute_input": "2023-09-02T19:13:01.403862Z",
     "iopub.status.busy": "2023-09-02T19:13:01.403748Z",
     "iopub.status.idle": "2023-09-02T19:13:01.405917Z",
     "shell.execute_reply": "2023-09-02T19:13:01.405570Z",
     "shell.execute_reply.started": "2023-09-02T19:13:01.403850Z"
    },
    "tags": []
   },
   "outputs": [],
   "source": [
    "weights = {'node_0': np.array([2, 4]), 'node_1': np.array([ 4, -5]), 'output': np.array([2, 7])}"
   ]
  },
  {
   "cell_type": "code",
   "execution_count": 12,
   "id": "66437405-eb40-4fa0-b179-501188a9a83f",
   "metadata": {
    "execution": {
     "iopub.execute_input": "2023-09-02T19:13:01.406434Z",
     "iopub.status.busy": "2023-09-02T19:13:01.406317Z",
     "iopub.status.idle": "2023-09-02T19:13:01.409125Z",
     "shell.execute_reply": "2023-09-02T19:13:01.408766Z",
     "shell.execute_reply.started": "2023-09-02T19:13:01.406422Z"
    },
    "tags": []
   },
   "outputs": [
    {
     "name": "stdout",
     "output_type": "stream",
     "text": [
      "52\n"
     ]
    }
   ],
   "source": [
    "# Calculate node 0 value: node_0_output\n",
    "node_0_input = (input_data * weights['node_0']).sum()\n",
    "node_0_output = (node_0_input)\n",
    "# Calculate node 1 value: node_1_output\n",
    "node_1_input = (input_data * weights['node_1']).sum()\n",
    "node_1_output = relu(node_1_input)\n",
    "# Put node values into array: hidden_layer_outputs\n",
    "hidden_layer_outputs = np.array([node_0_output, node_1_output])\n",
    "# Calculate model output (do not apply relu)\n",
    "model_output = (hidden_layer_outputs * weights['output']).sum()\n",
    "# Print model output\n",
    "print(model_output)"
   ]
  },
  {
   "cell_type": "markdown",
   "id": "58bf1f5f-616e-4b24-b0a2-ec1b8fe76982",
   "metadata": {},
   "source": [
    "> You predicted 52 transactions. Without this activation function, you would have predicted a negative number!"
   ]
  },
  {
   "cell_type": "markdown",
   "id": "7b3c0740-e8e4-4500-a993-6e56bcd636e7",
   "metadata": {},
   "source": [
    "## Applying the network to many observations/rows of data"
   ]
  },
  {
   "cell_type": "code",
   "execution_count": 13,
   "id": "7bc6f117-7143-4f91-bfe4-03e4ea331d1b",
   "metadata": {
    "execution": {
     "iopub.execute_input": "2023-09-02T19:13:01.410504Z",
     "iopub.status.busy": "2023-09-02T19:13:01.410244Z",
     "iopub.status.idle": "2023-09-02T19:13:01.413171Z",
     "shell.execute_reply": "2023-09-02T19:13:01.412884Z",
     "shell.execute_reply.started": "2023-09-02T19:13:01.410491Z"
    }
   },
   "outputs": [
    {
     "data": {
      "text/plain": [
       "[array([3, 5]), array([ 1, -1]), array([0, 0]), array([8, 4])]"
      ]
     },
     "execution_count": 13,
     "metadata": {},
     "output_type": "execute_result"
    }
   ],
   "source": [
    "input_data = [np.array([3, 5]), np.array([ 1, -1]), np.array([0, 0]), np.array([8, 4])]\n",
    "input_data"
   ]
  },
  {
   "cell_type": "code",
   "execution_count": 14,
   "id": "288b99ae-dfc5-4847-aedc-a4a81a4ed84f",
   "metadata": {
    "execution": {
     "iopub.execute_input": "2023-09-02T19:13:01.413802Z",
     "iopub.status.busy": "2023-09-02T19:13:01.413569Z",
     "iopub.status.idle": "2023-09-02T19:13:01.416439Z",
     "shell.execute_reply": "2023-09-02T19:13:01.416162Z",
     "shell.execute_reply.started": "2023-09-02T19:13:01.413789Z"
    },
    "tags": []
   },
   "outputs": [
    {
     "data": {
      "text/plain": [
       "{'node_0': array([2, 4]), 'node_1': array([ 4, -5]), 'output': array([2, 7])}"
      ]
     },
     "execution_count": 14,
     "metadata": {},
     "output_type": "execute_result"
    }
   ],
   "source": [
    "weights = {'node_0': np.array([2, 4]), 'node_1': np.array([ 4, -5]), 'output': np.array([2, 7])}\n",
    "weights"
   ]
  },
  {
   "cell_type": "code",
   "execution_count": 15,
   "id": "be8c51ce-86e6-4e6b-8216-892d97e5a306",
   "metadata": {
    "execution": {
     "iopub.execute_input": "2023-09-02T19:13:01.417096Z",
     "iopub.status.busy": "2023-09-02T19:13:01.416837Z",
     "iopub.status.idle": "2023-09-02T19:13:01.419845Z",
     "shell.execute_reply": "2023-09-02T19:13:01.419493Z",
     "shell.execute_reply.started": "2023-09-02T19:13:01.417078Z"
    }
   },
   "outputs": [
    {
     "name": "stdout",
     "output_type": "stream",
     "text": [
      "[52, 63, 0, 148]\n"
     ]
    }
   ],
   "source": [
    "# Define predict_with_network()\n",
    "def predict_with_network(input_data_row, weights):\n",
    "\n",
    "    # Calculate node 0 value\n",
    "    node_0_input = input_data_row @ weights['node_0']\n",
    "    node_0_output = relu(node_0_input)\n",
    "\n",
    "    # Calculate node 1 value\n",
    "    node_1_input = input_data_row @ weights['node_1']\n",
    "    node_1_output = relu(node_1_input)\n",
    "\n",
    "    # Put node values into array: hidden_layer_outputs\n",
    "    hidden_layer_outputs = np.array([node_0_output, node_1_output])\n",
    "    \n",
    "    # Calculate model output\n",
    "    input_to_final_layer = hidden_layer_outputs @ weights['output']\n",
    "    model_output = relu(input_to_final_layer )\n",
    "\n",
    "    # Return model output\n",
    "    return(model_output)\n",
    "\n",
    "# Create empty list to store prediction results\n",
    "results = []\n",
    "for input_data_row in input_data:\n",
    "    # Append prediction to results\n",
    "    results.append(predict_with_network(input_data_row, weights))\n",
    "\n",
    "# Print results\n",
    "print(results)   "
   ]
  },
  {
   "cell_type": "markdown",
   "id": "522510f7-7b62-4687-a2cf-cbda5501a60a",
   "metadata": {
    "tags": []
   },
   "source": [
    "# Deeper networks"
   ]
  },
  {
   "cell_type": "markdown",
   "id": "d62a6d40-2830-41aa-8489-6de536b0d8fe",
   "metadata": {
    "execution": {
     "iopub.execute_input": "2023-01-07T23:05:39.185166Z",
     "iopub.status.busy": "2023-01-07T23:05:39.185030Z",
     "iopub.status.idle": "2023-01-07T23:05:39.293150Z",
     "shell.execute_reply": "2023-01-07T23:05:39.292662Z",
     "shell.execute_reply.started": "2023-01-07T23:05:39.185155Z"
    }
   },
   "source": [
    "![Image](multiple-hidden-layers.png)"
   ]
  },
  {
   "cell_type": "markdown",
   "id": "749a46ac-a53c-41a0-8300-27e4c1993fdf",
   "metadata": {},
   "source": [
    "## Representation learning\n",
    "* Deep networks internally build representations of patterns in the data\n",
    "* Partially replace the need for feature engineering\n",
    "* Subsequent layers build increasingly sophisticated representations of raw data"
   ]
  },
  {
   "cell_type": "markdown",
   "id": "ec3ba334-850c-43b4-89a2-dd7d01e26152",
   "metadata": {},
   "source": [
    "## Forward propagation in a deeper network"
   ]
  },
  {
   "cell_type": "markdown",
   "id": "95cd6ce1-26f4-4235-917c-b3cc0618c4e0",
   "metadata": {
    "execution": {
     "iopub.execute_input": "2023-01-07T23:26:25.604046Z",
     "iopub.status.busy": "2023-01-07T23:26:25.603844Z",
     "iopub.status.idle": "2023-01-07T23:26:25.712454Z",
     "shell.execute_reply": "2023-01-07T23:26:25.711924Z",
     "shell.execute_reply.started": "2023-01-07T23:26:25.604034Z"
    }
   },
   "source": [
    "![Image](ch1ex9.png)"
   ]
  },
  {
   "cell_type": "code",
   "execution_count": 16,
   "id": "9661cfca-1cf2-4037-ad59-5899c0e008dd",
   "metadata": {
    "execution": {
     "iopub.execute_input": "2023-09-02T19:13:01.420464Z",
     "iopub.status.busy": "2023-09-02T19:13:01.420260Z",
     "iopub.status.idle": "2023-09-02T19:13:01.423633Z",
     "shell.execute_reply": "2023-09-02T19:13:01.423212Z",
     "shell.execute_reply.started": "2023-09-02T19:13:01.420453Z"
    },
    "tags": []
   },
   "outputs": [
    {
     "data": {
      "text/plain": [
       "0"
      ]
     },
     "execution_count": 16,
     "metadata": {},
     "output_type": "execute_result"
    }
   ],
   "source": [
    "hl1 = np.array([np.array([1,1]) @ np.array([2,4]),\n",
    "                np.array([1,1]) @ np.array([4,-5])])\n",
    "hl2 = np.array([hl1 @ np.array([0,1]),\n",
    "                hl1 @ np.array([1,1])])\n",
    "hl2 @ np.array([5,1])"
   ]
  },
  {
   "cell_type": "markdown",
   "id": "09714d46-9fe0-4c8a-9960-b28dcf5627e9",
   "metadata": {
    "tags": []
   },
   "source": [
    "## Multi-layer neural networks"
   ]
  },
  {
   "cell_type": "markdown",
   "id": "0fd3576d-02d3-44f0-83f6-65fb840e1dc2",
   "metadata": {
    "execution": {
     "iopub.execute_input": "2023-01-07T23:26:25.604046Z",
     "iopub.status.busy": "2023-01-07T23:26:25.603844Z",
     "iopub.status.idle": "2023-01-07T23:26:25.712454Z",
     "shell.execute_reply": "2023-01-07T23:26:25.711924Z",
     "shell.execute_reply.started": "2023-01-07T23:26:25.604034Z"
    }
   },
   "source": [
    "![Image](ch1ex10.png)"
   ]
  },
  {
   "cell_type": "code",
   "execution_count": 17,
   "id": "e1016933-a606-4421-a5f6-34217dc62f4e",
   "metadata": {
    "execution": {
     "iopub.execute_input": "2023-09-02T19:13:01.424153Z",
     "iopub.status.busy": "2023-09-02T19:13:01.424042Z",
     "iopub.status.idle": "2023-09-02T19:13:01.427855Z",
     "shell.execute_reply": "2023-09-02T19:13:01.427516Z",
     "shell.execute_reply.started": "2023-09-02T19:13:01.424142Z"
    },
    "tags": []
   },
   "outputs": [
    {
     "name": "stdout",
     "output_type": "stream",
     "text": [
      "182\n"
     ]
    }
   ],
   "source": [
    "def predict_with_network(input_data):\n",
    "    # Calculate node 0 in the first hidden layer\n",
    "    node_0_0_input = (input_data * weights[\"node_0_0\"]).sum()\n",
    "    node_0_0_output = relu(node_0_0_input)\n",
    "    # Calculate node 1 in the first hidden layer\n",
    "    node_0_1_input = (input_data * weights[\"node_0_1\"]).sum()\n",
    "    node_0_1_output = relu(node_0_1_input)\n",
    "    # Put node values into array: hidden_0_outputs\n",
    "    hidden_0_outputs = np.array([node_0_0_output, node_0_1_output])\n",
    "    # Calculate node 0 in the second hidden layer\n",
    "    node_1_0_input = (hidden_0_outputs * weights[\"node_1_0\"]).sum()\n",
    "    node_1_0_output = relu(node_1_0_input)\n",
    "    # Calculate node 1 in the second hidden layer\n",
    "    node_1_1_input = (hidden_0_outputs * weights[\"node_1_1\"]).sum()\n",
    "    node_1_1_output = relu(node_1_1_input)\n",
    "    # Put node values into array: hidden_1_outputs\n",
    "    hidden_1_outputs = np.array([node_1_0_output, node_1_1_output])\n",
    "    # Calculate model output: model_output\n",
    "    model_output = (hidden_1_outputs * weights[\"output\"]).sum()\n",
    "    # Return model_output\n",
    "    return model_output\n",
    "\n",
    "input_data = np.array([3, 5])\n",
    "weights = {\n",
    "    \"node_0_0\": np.array([2, 4]),\n",
    "    \"node_0_1\": np.array([4, -5]),\n",
    "    \"node_1_0\": np.array([-1, 2]),\n",
    "    \"node_1_1\": np.array([1, 2]),\n",
    "    \"output\": np.array([2, 7]),\n",
    "}\n",
    "output = predict_with_network(input_data)\n",
    "print(output)"
   ]
  },
  {
   "cell_type": "markdown",
   "id": "c8956dc5-89c1-4047-a74d-4189f71453d4",
   "metadata": {},
   "source": [
    "## Deep learning\n",
    "* Modeler doesn´t need to specify the interactions\n",
    "* When you train the model, the neural network gets weights that find the relevant patterns to make better predictions"
   ]
  }
 ],
 "metadata": {
  "kernelspec": {
   "display_name": "Python 3 (ipykernel)",
   "language": "python",
   "name": "python3"
  },
  "language_info": {
   "codemirror_mode": {
    "name": "ipython",
    "version": 3
   },
   "file_extension": ".py",
   "mimetype": "text/x-python",
   "name": "python",
   "nbconvert_exporter": "python",
   "pygments_lexer": "ipython3",
   "version": "3.10.12"
  },
  "toc-autonumbering": true
 },
 "nbformat": 4,
 "nbformat_minor": 5
}
