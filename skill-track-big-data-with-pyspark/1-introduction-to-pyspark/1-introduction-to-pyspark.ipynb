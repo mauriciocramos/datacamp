{
 "cells": [
  {
   "cell_type": "markdown",
   "id": "32bd928a-ef21-40d9-bbf8-87fa75be0bcd",
   "metadata": {
    "tags": []
   },
   "source": [
    "# Packages and datasets"
   ]
  },
  {
   "cell_type": "code",
   "execution_count": 1,
   "id": "7a5d6ba4-6e4d-4df1-919b-100bf12089d9",
   "metadata": {
    "execution": {
     "iopub.execute_input": "2023-05-02T20:52:53.846058Z",
     "iopub.status.busy": "2023-05-02T20:52:53.845962Z",
     "iopub.status.idle": "2023-05-02T20:52:54.389476Z",
     "shell.execute_reply": "2023-05-02T20:52:54.389025Z",
     "shell.execute_reply.started": "2023-05-02T20:52:53.846047Z"
    },
    "tags": []
   },
   "outputs": [],
   "source": [
    "import pandas as pd\n",
    "import numpy as np\n",
    "import sys\n",
    "sys.path.insert(1, '/home/mauricio/code/mcr')\n",
    "from mcr.util import glimpse"
   ]
  },
  {
   "cell_type": "markdown",
   "id": "b96dff20-d2e6-4a71-90be-87a9c01e458d",
   "metadata": {},
   "source": [
    "# Getting to know PySpark"
   ]
  },
  {
   "cell_type": "markdown",
   "id": "2ac9cd18-431b-464c-a008-d27f958cef83",
   "metadata": {
    "tags": []
   },
   "source": [
    "## Examining The SparkContext"
   ]
  },
  {
   "cell_type": "code",
   "execution_count": 2,
   "id": "687a438e-a6ff-4fb2-b2c6-61adb556ee21",
   "metadata": {
    "execution": {
     "iopub.execute_input": "2023-05-02T20:52:54.390020Z",
     "iopub.status.busy": "2023-05-02T20:52:54.389864Z",
     "iopub.status.idle": "2023-05-02T20:52:54.443441Z",
     "shell.execute_reply": "2023-05-02T20:52:54.443038Z",
     "shell.execute_reply.started": "2023-05-02T20:52:54.390008Z"
    },
    "tags": []
   },
   "outputs": [
    {
     "data": {
      "text/plain": [
       "'3.4.0'"
      ]
     },
     "execution_count": 2,
     "metadata": {},
     "output_type": "execute_result"
    }
   ],
   "source": [
    "from pyspark import version\n",
    "version.__version__"
   ]
  },
  {
   "cell_type": "code",
   "execution_count": 3,
   "id": "d929feb6-38d8-46ec-af01-9a5e81c35864",
   "metadata": {
    "execution": {
     "iopub.execute_input": "2023-05-02T20:52:54.443907Z",
     "iopub.status.busy": "2023-05-02T20:52:54.443807Z",
     "iopub.status.idle": "2023-05-02T20:52:54.445728Z",
     "shell.execute_reply": "2023-05-02T20:52:54.445410Z",
     "shell.execute_reply.started": "2023-05-02T20:52:54.443897Z"
    },
    "tags": []
   },
   "outputs": [],
   "source": [
    "from pyspark import SparkContext as sc"
   ]
  },
  {
   "cell_type": "code",
   "execution_count": 4,
   "id": "8a463583-0e0e-42c1-a280-63e92494a538",
   "metadata": {
    "execution": {
     "iopub.execute_input": "2023-05-02T20:52:54.446721Z",
     "iopub.status.busy": "2023-05-02T20:52:54.446513Z",
     "iopub.status.idle": "2023-05-02T20:52:54.448832Z",
     "shell.execute_reply": "2023-05-02T20:52:54.448545Z",
     "shell.execute_reply.started": "2023-05-02T20:52:54.446709Z"
    },
    "tags": []
   },
   "outputs": [
    {
     "name": "stdout",
     "output_type": "stream",
     "text": [
      "<class 'pyspark.context.SparkContext'>\n"
     ]
    }
   ],
   "source": [
    "print(sc)"
   ]
  },
  {
   "cell_type": "markdown",
   "id": "a2899fe7-bd9d-4e0f-84b2-1a50d8267096",
   "metadata": {
    "tags": []
   },
   "source": [
    "## Creating a SparkSession"
   ]
  },
  {
   "cell_type": "code",
   "execution_count": 5,
   "id": "fe8c5414-9575-4fbf-a3e4-98733d293a14",
   "metadata": {
    "execution": {
     "iopub.execute_input": "2023-05-02T20:52:54.449401Z",
     "iopub.status.busy": "2023-05-02T20:52:54.449300Z",
     "iopub.status.idle": "2023-05-02T20:52:56.179627Z",
     "shell.execute_reply": "2023-05-02T20:52:56.179249Z",
     "shell.execute_reply.started": "2023-05-02T20:52:54.449391Z"
    },
    "tags": []
   },
   "outputs": [
    {
     "name": "stderr",
     "output_type": "stream",
     "text": [
      "23/05/02 17:52:55 WARN Utils: Your hostname, rig resolves to a loopback address: 127.0.1.1; using 192.168.0.102 instead (on interface enp6s0)\n",
      "23/05/02 17:52:55 WARN Utils: Set SPARK_LOCAL_IP if you need to bind to another address\n",
      "Setting default log level to \"WARN\".\n",
      "To adjust logging level use sc.setLogLevel(newLevel). For SparkR, use setLogLevel(newLevel).\n",
      "23/05/02 17:52:55 WARN NativeCodeLoader: Unable to load native-hadoop library for your platform... using builtin-java classes where applicable\n"
     ]
    },
    {
     "name": "stdout",
     "output_type": "stream",
     "text": [
      "<pyspark.sql.session.SparkSession object at 0x7f2520002680>\n"
     ]
    }
   ],
   "source": [
    "# Import SparkSession from pyspark.sql\n",
    "from pyspark.sql import SparkSession\n",
    "# Create my_spark\n",
    "spark = SparkSession.builder.getOrCreate()\n",
    "# Print my_spark\n",
    "print(spark)"
   ]
  },
  {
   "cell_type": "markdown",
   "id": "c8019c7c-1240-4db7-956e-ca86f97d27e3",
   "metadata": {},
   "source": [
    "## Creating tables"
   ]
  },
  {
   "cell_type": "code",
   "execution_count": 6,
   "id": "21e5215c-cff6-4fa4-82ea-c30088da68a9",
   "metadata": {
    "execution": {
     "iopub.execute_input": "2023-05-02T20:52:56.180225Z",
     "iopub.status.busy": "2023-05-02T20:52:56.180110Z",
     "iopub.status.idle": "2023-05-02T20:52:56.290398Z",
     "shell.execute_reply": "2023-05-02T20:52:56.289981Z",
     "shell.execute_reply.started": "2023-05-02T20:52:56.180213Z"
    },
    "tags": []
   },
   "outputs": [],
   "source": [
    "# Removing the spark-warehouse to recreate tables from second run on\n",
    "! rm -rf spark-warehouse/"
   ]
  },
  {
   "cell_type": "markdown",
   "id": "f536c5e2-a624-49aa-a6a7-eff89da1a445",
   "metadata": {},
   "source": [
    "### Creating Spark table from a Spark Dataframe from a CSV"
   ]
  },
  {
   "cell_type": "code",
   "execution_count": 7,
   "id": "f8a7a6b3-92dd-4916-a333-7582d3eb7774",
   "metadata": {
    "execution": {
     "iopub.execute_input": "2023-05-02T20:52:56.291175Z",
     "iopub.status.busy": "2023-05-02T20:52:56.290915Z",
     "iopub.status.idle": "2023-05-02T20:52:58.536206Z",
     "shell.execute_reply": "2023-05-02T20:52:58.535764Z",
     "shell.execute_reply.started": "2023-05-02T20:52:56.291161Z"
    },
    "tags": []
   },
   "outputs": [
    {
     "data": {
      "text/plain": [
       "pyspark.sql.dataframe.DataFrame"
      ]
     },
     "execution_count": 7,
     "metadata": {},
     "output_type": "execute_result"
    }
   ],
   "source": [
    "pdf = spark.read.csv(\"airports.csv\", header=True, inferSchema=True, nanValue='NA')\n",
    "type(pdf)"
   ]
  },
  {
   "cell_type": "code",
   "execution_count": 8,
   "id": "0b453f80-cbaa-4453-9e03-3d691c1c51ff",
   "metadata": {
    "execution": {
     "iopub.execute_input": "2023-05-02T20:52:58.536790Z",
     "iopub.status.busy": "2023-05-02T20:52:58.536642Z",
     "iopub.status.idle": "2023-05-02T20:52:58.687055Z",
     "shell.execute_reply": "2023-05-02T20:52:58.686322Z",
     "shell.execute_reply.started": "2023-05-02T20:52:58.536776Z"
    },
    "tags": []
   },
   "outputs": [
    {
     "name": "stdout",
     "output_type": "stream",
     "text": [
      "+---+--------------------+----------------+-----------------+----+---+---+\n",
      "|faa|                name|             lat|              lon| alt| tz|dst|\n",
      "+---+--------------------+----------------+-----------------+----+---+---+\n",
      "|04G|   Lansdowne Airport|      41.1304722|      -80.6195833|1044| -5|  A|\n",
      "|06A|Moton Field Munic...|      32.4605722|      -85.6800278| 264| -5|  A|\n",
      "|06C| Schaumburg Regional|      41.9893408|      -88.1012428| 801| -6|  A|\n",
      "|06N|     Randall Airport|       41.431912|      -74.3915611| 523| -5|  A|\n",
      "|09J|Jekyll Island Air...|      31.0744722|      -81.4277778|  11| -4|  A|\n",
      "|0A9|Elizabethton Muni...|      36.3712222|      -82.1734167|1593| -4|  A|\n",
      "|0G6|Williams County A...|      41.4673056|      -84.5067778| 730| -5|  A|\n",
      "|0G7|Finger Lakes Regi...|      42.8835647|      -76.7812318| 492| -5|  A|\n",
      "|0P2|Shoestring Aviati...|      39.7948244|      -76.6471914|1000| -5|  U|\n",
      "|0S9|Jefferson County ...|      48.0538086|     -122.8106436| 108| -8|  A|\n",
      "|0W3|Harford County Ai...|      39.5668378|      -76.2024028| 409| -5|  A|\n",
      "|10C|  Galt Field Airport|      42.4028889|      -88.3751111| 875| -6|  U|\n",
      "|17G|Port Bucyrus-Craw...|      40.7815556|      -82.9748056|1003| -5|  A|\n",
      "|19A|Jackson County Ai...|      34.1758638|      -83.5615972| 951| -4|  U|\n",
      "|1A3|Martin Campbell F...|      35.0158056|      -84.3468333|1789| -4|  A|\n",
      "|1B9| Mansfield Municipal|      42.0001331|      -71.1967714| 122| -5|  A|\n",
      "|1C9|Frazier Lake Airpark|54.0133333333333|-124.768333333333| 152| -8|  A|\n",
      "|1CS|Clow Internationa...|      41.6959744|      -88.1292306| 670| -6|  U|\n",
      "|1G3|  Kent State Airport|      41.1513889|      -81.4151111|1134| -4|  A|\n",
      "|1OH|     Fortman Airport|      40.5553253|      -84.3866186| 885| -5|  U|\n",
      "+---+--------------------+----------------+-----------------+----+---+---+\n",
      "only showing top 20 rows\n",
      "\n"
     ]
    }
   ],
   "source": [
    "pdf.show()"
   ]
  },
  {
   "cell_type": "code",
   "execution_count": 9,
   "id": "2eef59fd-a119-4a79-8ad5-b014f9dbc704",
   "metadata": {
    "execution": {
     "iopub.execute_input": "2023-05-02T20:52:58.688370Z",
     "iopub.status.busy": "2023-05-02T20:52:58.687918Z",
     "iopub.status.idle": "2023-05-02T20:52:59.178088Z",
     "shell.execute_reply": "2023-05-02T20:52:59.177739Z",
     "shell.execute_reply.started": "2023-05-02T20:52:58.688340Z"
    },
    "tags": []
   },
   "outputs": [],
   "source": [
    "pdf.write.saveAsTable(\"airports\", mode='overwrite')"
   ]
  },
  {
   "cell_type": "code",
   "execution_count": 10,
   "id": "bf96bc0a-d2d7-4973-9ee7-6a84e0dcbf46",
   "metadata": {
    "execution": {
     "iopub.execute_input": "2023-05-02T20:52:59.178560Z",
     "iopub.status.busy": "2023-05-02T20:52:59.178463Z",
     "iopub.status.idle": "2023-05-02T20:52:59.337030Z",
     "shell.execute_reply": "2023-05-02T20:52:59.336662Z",
     "shell.execute_reply.started": "2023-05-02T20:52:59.178550Z"
    },
    "tags": []
   },
   "outputs": [
    {
     "name": "stdout",
     "output_type": "stream",
     "text": [
      "+---+--------------------+----------------+-----------------+----+---+---+\n",
      "|faa|                name|             lat|              lon| alt| tz|dst|\n",
      "+---+--------------------+----------------+-----------------+----+---+---+\n",
      "|04G|   Lansdowne Airport|      41.1304722|      -80.6195833|1044| -5|  A|\n",
      "|06A|Moton Field Munic...|      32.4605722|      -85.6800278| 264| -5|  A|\n",
      "|06C| Schaumburg Regional|      41.9893408|      -88.1012428| 801| -6|  A|\n",
      "|06N|     Randall Airport|       41.431912|      -74.3915611| 523| -5|  A|\n",
      "|09J|Jekyll Island Air...|      31.0744722|      -81.4277778|  11| -4|  A|\n",
      "|0A9|Elizabethton Muni...|      36.3712222|      -82.1734167|1593| -4|  A|\n",
      "|0G6|Williams County A...|      41.4673056|      -84.5067778| 730| -5|  A|\n",
      "|0G7|Finger Lakes Regi...|      42.8835647|      -76.7812318| 492| -5|  A|\n",
      "|0P2|Shoestring Aviati...|      39.7948244|      -76.6471914|1000| -5|  U|\n",
      "|0S9|Jefferson County ...|      48.0538086|     -122.8106436| 108| -8|  A|\n",
      "|0W3|Harford County Ai...|      39.5668378|      -76.2024028| 409| -5|  A|\n",
      "|10C|  Galt Field Airport|      42.4028889|      -88.3751111| 875| -6|  U|\n",
      "|17G|Port Bucyrus-Craw...|      40.7815556|      -82.9748056|1003| -5|  A|\n",
      "|19A|Jackson County Ai...|      34.1758638|      -83.5615972| 951| -4|  U|\n",
      "|1A3|Martin Campbell F...|      35.0158056|      -84.3468333|1789| -4|  A|\n",
      "|1B9| Mansfield Municipal|      42.0001331|      -71.1967714| 122| -5|  A|\n",
      "|1C9|Frazier Lake Airpark|54.0133333333333|-124.768333333333| 152| -8|  A|\n",
      "|1CS|Clow Internationa...|      41.6959744|      -88.1292306| 670| -6|  U|\n",
      "|1G3|  Kent State Airport|      41.1513889|      -81.4151111|1134| -4|  A|\n",
      "|1OH|     Fortman Airport|      40.5553253|      -84.3866186| 885| -5|  U|\n",
      "+---+--------------------+----------------+-----------------+----+---+---+\n",
      "only showing top 20 rows\n",
      "\n"
     ]
    }
   ],
   "source": [
    "spark.table('airports').show()"
   ]
  },
  {
   "cell_type": "markdown",
   "id": "802aa764-9abd-4adb-9690-eb8772e1fdbc",
   "metadata": {},
   "source": [
    "## Create Spark tables from a CSV"
   ]
  },
  {
   "cell_type": "code",
   "execution_count": 11,
   "id": "c1d71182-f72c-4a17-a282-ad8fb6be9c8b",
   "metadata": {
    "execution": {
     "iopub.execute_input": "2023-05-02T20:52:59.337924Z",
     "iopub.status.busy": "2023-05-02T20:52:59.337610Z",
     "iopub.status.idle": "2023-05-02T20:52:59.770358Z",
     "shell.execute_reply": "2023-05-02T20:52:59.769818Z",
     "shell.execute_reply.started": "2023-05-02T20:52:59.337911Z"
    },
    "tags": []
   },
   "outputs": [
    {
     "name": "stdout",
     "output_type": "stream",
     "text": [
      "+-------+------+--------------------+----------------+--------+-------+-----+-----+---------+\n",
      "|tailnum|  year|                type|    manufacturer|   model|engines|seats|speed|   engine|\n",
      "+-------+------+--------------------+----------------+--------+-------+-----+-----+---------+\n",
      "| N102UW|1998.0|Fixed wing multi ...|AIRBUS INDUSTRIE|A320-214|      2|  182|  NaN|Turbo-fan|\n",
      "| N103US|1999.0|Fixed wing multi ...|AIRBUS INDUSTRIE|A320-214|      2|  182|  NaN|Turbo-fan|\n",
      "| N104UW|1999.0|Fixed wing multi ...|AIRBUS INDUSTRIE|A320-214|      2|  182|  NaN|Turbo-fan|\n",
      "| N105UW|1999.0|Fixed wing multi ...|AIRBUS INDUSTRIE|A320-214|      2|  182|  NaN|Turbo-fan|\n",
      "| N107US|1999.0|Fixed wing multi ...|AIRBUS INDUSTRIE|A320-214|      2|  182|  NaN|Turbo-fan|\n",
      "| N108UW|1999.0|Fixed wing multi ...|AIRBUS INDUSTRIE|A320-214|      2|  182|  NaN|Turbo-fan|\n",
      "| N109UW|1999.0|Fixed wing multi ...|AIRBUS INDUSTRIE|A320-214|      2|  182|  NaN|Turbo-fan|\n",
      "| N110UW|1999.0|Fixed wing multi ...|AIRBUS INDUSTRIE|A320-214|      2|  182|  NaN|Turbo-fan|\n",
      "| N111US|1999.0|Fixed wing multi ...|AIRBUS INDUSTRIE|A320-214|      2|  182|  NaN|Turbo-fan|\n",
      "| N11206|2000.0|Fixed wing multi ...|          BOEING| 737-824|      2|  149|  NaN|Turbo-fan|\n",
      "| N112US|1999.0|Fixed wing multi ...|AIRBUS INDUSTRIE|A320-214|      2|  182|  NaN|Turbo-fan|\n",
      "| N113UW|1999.0|Fixed wing multi ...|AIRBUS INDUSTRIE|A320-214|      2|  182|  NaN|Turbo-fan|\n",
      "| N114UW|1999.0|Fixed wing multi ...|AIRBUS INDUSTRIE|A320-214|      2|  182|  NaN|Turbo-fan|\n",
      "| N117UW|2000.0|Fixed wing multi ...|AIRBUS INDUSTRIE|A320-214|      2|  182|  NaN|Turbo-fan|\n",
      "| N118US|2000.0|Fixed wing multi ...|AIRBUS INDUSTRIE|A320-214|      2|  182|  NaN|Turbo-fan|\n",
      "| N119US|2000.0|Fixed wing multi ...|AIRBUS INDUSTRIE|A320-214|      2|  182|  NaN|Turbo-fan|\n",
      "| N1200K|1998.0|Fixed wing multi ...|          BOEING| 767-332|      2|  330|  NaN|Turbo-fan|\n",
      "| N1201P|1998.0|Fixed wing multi ...|          BOEING| 767-332|      2|  330|  NaN|Turbo-fan|\n",
      "| N12114|1995.0|Fixed wing multi ...|          BOEING| 757-224|      2|  178|  NaN|Turbo-jet|\n",
      "| N121DE|1987.0|Fixed wing multi ...|          BOEING| 767-332|      2|  330|  NaN|Turbo-fan|\n",
      "+-------+------+--------------------+----------------+--------+-------+-----+-----+---------+\n",
      "only showing top 20 rows\n",
      "\n"
     ]
    }
   ],
   "source": [
    "spark.read.csv(\"planes.csv\", header=True, inferSchema=True, nanValue='NA')\\\n",
    "    .write.saveAsTable(\"planes\", mode='overwrite')\n",
    "spark.table('planes').show()"
   ]
  },
  {
   "cell_type": "code",
   "execution_count": 12,
   "id": "890556a1-d6f9-48f8-91e1-d04ef480c659",
   "metadata": {
    "execution": {
     "iopub.execute_input": "2023-05-02T20:52:59.771401Z",
     "iopub.status.busy": "2023-05-02T20:52:59.771060Z",
     "iopub.status.idle": "2023-05-02T20:53:00.251690Z",
     "shell.execute_reply": "2023-05-02T20:53:00.251050Z",
     "shell.execute_reply.started": "2023-05-02T20:52:59.771379Z"
    },
    "tags": []
   },
   "outputs": [
    {
     "name": "stdout",
     "output_type": "stream",
     "text": [
      "+----+-----+---+--------+---------+--------+---------+-------+-------+------+------+----+--------+--------+----+------+\n",
      "|year|month|day|dep_time|dep_delay|arr_time|arr_delay|carrier|tailnum|flight|origin|dest|air_time|distance|hour|minute|\n",
      "+----+-----+---+--------+---------+--------+---------+-------+-------+------+------+----+--------+--------+----+------+\n",
      "|2014|   12|  8|   658.0|     -7.0|   935.0|     -5.0|     VX| N846VA|  1780|   SEA| LAX|   132.0|     954| 6.0|  58.0|\n",
      "|2014|    1| 22|  1040.0|      5.0|  1505.0|      5.0|     AS| N559AS|   851|   SEA| HNL|   360.0|    2677|10.0|  40.0|\n",
      "|2014|    3|  9|  1443.0|     -2.0|  1652.0|      2.0|     VX| N847VA|   755|   SEA| SFO|   111.0|     679|14.0|  43.0|\n",
      "|2014|    4|  9|  1705.0|     45.0|  1839.0|     34.0|     WN| N360SW|   344|   PDX| SJC|    83.0|     569|17.0|   5.0|\n",
      "|2014|    3|  9|   754.0|     -1.0|  1015.0|      1.0|     AS| N612AS|   522|   SEA| BUR|   127.0|     937| 7.0|  54.0|\n",
      "|2014|    1| 15|  1037.0|      7.0|  1352.0|      2.0|     WN| N646SW|    48|   PDX| DEN|   121.0|     991|10.0|  37.0|\n",
      "|2014|    7|  2|   847.0|     42.0|  1041.0|     51.0|     WN| N422WN|  1520|   PDX| OAK|    90.0|     543| 8.0|  47.0|\n",
      "|2014|    5| 12|  1655.0|     -5.0|  1842.0|    -18.0|     VX| N361VA|   755|   SEA| SFO|    98.0|     679|16.0|  55.0|\n",
      "|2014|    4| 19|  1236.0|     -4.0|  1508.0|     -7.0|     AS| N309AS|   490|   SEA| SAN|   135.0|    1050|12.0|  36.0|\n",
      "|2014|   11| 19|  1812.0|     -3.0|  2352.0|     -4.0|     AS| N564AS|    26|   SEA| ORD|   198.0|    1721|18.0|  12.0|\n",
      "|2014|   11|  8|  1653.0|     -2.0|  1924.0|     -1.0|     AS| N323AS|   448|   SEA| LAX|   130.0|     954|16.0|  53.0|\n",
      "|2014|    8|  3|  1120.0|      0.0|  1415.0|      2.0|     AS| N305AS|   656|   SEA| PHX|   154.0|    1107|11.0|  20.0|\n",
      "|2014|   10| 30|   811.0|     21.0|  1038.0|     29.0|     AS| N433AS|   608|   SEA| LAS|   127.0|     867| 8.0|  11.0|\n",
      "|2014|   11| 12|  2346.0|     -4.0|   217.0|    -28.0|     AS| N765AS|   121|   SEA| ANC|   183.0|    1448|23.0|  46.0|\n",
      "|2014|   10| 31|  1314.0|     89.0|  1544.0|    111.0|     AS| N713AS|   306|   SEA| SFO|   129.0|     679|13.0|  14.0|\n",
      "|2014|    1| 29|  2009.0|      3.0|  2159.0|      9.0|     UA| N27205|  1458|   PDX| SFO|    90.0|     550|20.0|   9.0|\n",
      "|2014|   12| 17|  2015.0|     50.0|  2150.0|     41.0|     AS| N626AS|   368|   SEA| SMF|    76.0|     605|20.0|  15.0|\n",
      "|2014|    8| 11|  1017.0|     -3.0|  1613.0|     -7.0|     WN| N8634A|   827|   SEA| MDW|   216.0|    1733|10.0|  17.0|\n",
      "|2014|    1| 13|  2156.0|     -9.0|   607.0|    -15.0|     AS| N597AS|    24|   SEA| BOS|   290.0|    2496|21.0|  56.0|\n",
      "|2014|    6|  5|  1733.0|    -12.0|  1945.0|    -10.0|     OO| N215AG|  3488|   PDX| BUR|   111.0|     817|17.0|  33.0|\n",
      "+----+-----+---+--------+---------+--------+---------+-------+-------+------+------+----+--------+--------+----+------+\n",
      "only showing top 20 rows\n",
      "\n"
     ]
    }
   ],
   "source": [
    "spark.read.csv(\"flights_small.csv\", header=True, inferSchema=True, nanValue='NA')\\\n",
    "    .write.saveAsTable(\"flights\", mode='overwrite')\n",
    "spark.table('flights').show()"
   ]
  },
  {
   "cell_type": "markdown",
   "id": "0f37095e-0365-45a6-a782-572bd71fb0b7",
   "metadata": {},
   "source": [
    "## Viewing tables"
   ]
  },
  {
   "cell_type": "code",
   "execution_count": 13,
   "id": "a3da88af-3fa4-41fb-8f99-9ee58230a70a",
   "metadata": {
    "execution": {
     "iopub.execute_input": "2023-05-02T20:53:00.255127Z",
     "iopub.status.busy": "2023-05-02T20:53:00.254662Z",
     "iopub.status.idle": "2023-05-02T20:53:00.355842Z",
     "shell.execute_reply": "2023-05-02T20:53:00.355325Z",
     "shell.execute_reply.started": "2023-05-02T20:53:00.255096Z"
    },
    "tags": []
   },
   "outputs": [
    {
     "name": "stdout",
     "output_type": "stream",
     "text": [
      "CatalogMetadata(name=<py4j.java_gateway.JavaMember object at 0x7f2520003ca0>, description=<py4j.java_gateway.JavaMember object at 0x7f2520003bb0>)\n"
     ]
    }
   ],
   "source": [
    "for catalog in spark.catalog.listCatalogs():\n",
    "    print(catalog)"
   ]
  },
  {
   "cell_type": "code",
   "execution_count": 14,
   "id": "2bea8438-2971-4a1a-bb58-ef92146da466",
   "metadata": {
    "execution": {
     "iopub.execute_input": "2023-05-02T20:53:00.356524Z",
     "iopub.status.busy": "2023-05-02T20:53:00.356272Z",
     "iopub.status.idle": "2023-05-02T20:53:00.476806Z",
     "shell.execute_reply": "2023-05-02T20:53:00.476452Z",
     "shell.execute_reply.started": "2023-05-02T20:53:00.356512Z"
    }
   },
   "outputs": [
    {
     "name": "stdout",
     "output_type": "stream",
     "text": [
      "Database(name='default', catalog='spark_catalog', description='default database', locationUri='file:/home/mauricio/code/big-data-with-pyspark/1-introduction-to-pyspark/spark-warehouse')\n"
     ]
    }
   ],
   "source": [
    "for database in spark.catalog.listDatabases():\n",
    "    print(database)"
   ]
  },
  {
   "cell_type": "code",
   "execution_count": 15,
   "id": "1f436cee-9260-4dc6-8c05-747978139a09",
   "metadata": {
    "execution": {
     "iopub.execute_input": "2023-05-02T20:53:00.477362Z",
     "iopub.status.busy": "2023-05-02T20:53:00.477235Z",
     "iopub.status.idle": "2023-05-02T20:53:00.658577Z",
     "shell.execute_reply": "2023-05-02T20:53:00.658154Z",
     "shell.execute_reply.started": "2023-05-02T20:53:00.477349Z"
    },
    "tags": []
   },
   "outputs": [
    {
     "name": "stdout",
     "output_type": "stream",
     "text": [
      "Table(name='airports', catalog='spark_catalog', namespace=['default'], description=None, tableType='MANAGED', isTemporary=False)\n",
      "Table(name='flights', catalog='spark_catalog', namespace=['default'], description=None, tableType='MANAGED', isTemporary=False)\n",
      "Table(name='planes', catalog='spark_catalog', namespace=['default'], description=None, tableType='MANAGED', isTemporary=False)\n"
     ]
    }
   ],
   "source": [
    "for table in spark.catalog.listTables():\n",
    "    print(table)"
   ]
  },
  {
   "cell_type": "markdown",
   "id": "2867deaf-df4b-46b2-9b58-74e4930f31e4",
   "metadata": {},
   "source": [
    "## Query tables (Spark DataFrames)"
   ]
  },
  {
   "cell_type": "code",
   "execution_count": 16,
   "id": "b828aa06-9383-4485-b85b-616031742d17",
   "metadata": {
    "execution": {
     "iopub.execute_input": "2023-05-02T20:53:00.659210Z",
     "iopub.status.busy": "2023-05-02T20:53:00.659079Z",
     "iopub.status.idle": "2023-05-02T20:53:00.692637Z",
     "shell.execute_reply": "2023-05-02T20:53:00.691941Z",
     "shell.execute_reply.started": "2023-05-02T20:53:00.659198Z"
    },
    "tags": []
   },
   "outputs": [
    {
     "data": {
      "text/plain": [
       "pyspark.sql.dataframe.DataFrame"
      ]
     },
     "execution_count": 16,
     "metadata": {},
     "output_type": "execute_result"
    }
   ],
   "source": [
    "# Don't change this query\n",
    "query = \"FROM flights SELECT * LIMIT 10\"\n",
    "# Get the first 10 rows of flights\n",
    "flights10 = spark.sql(query)\n",
    "type(flights10)"
   ]
  },
  {
   "cell_type": "code",
   "execution_count": 17,
   "id": "473af7fc-0217-4c1f-8614-ba7f4c215283",
   "metadata": {
    "execution": {
     "iopub.execute_input": "2023-05-02T20:53:00.693334Z",
     "iopub.status.busy": "2023-05-02T20:53:00.693172Z",
     "iopub.status.idle": "2023-05-02T20:53:00.778840Z",
     "shell.execute_reply": "2023-05-02T20:53:00.778192Z",
     "shell.execute_reply.started": "2023-05-02T20:53:00.693321Z"
    },
    "tags": []
   },
   "outputs": [
    {
     "name": "stdout",
     "output_type": "stream",
     "text": [
      "+----+-----+---+--------+---------+--------+---------+-------+-------+------+------+----+--------+--------+----+------+\n",
      "|year|month|day|dep_time|dep_delay|arr_time|arr_delay|carrier|tailnum|flight|origin|dest|air_time|distance|hour|minute|\n",
      "+----+-----+---+--------+---------+--------+---------+-------+-------+------+------+----+--------+--------+----+------+\n",
      "|2014|   12|  8|   658.0|     -7.0|   935.0|     -5.0|     VX| N846VA|  1780|   SEA| LAX|   132.0|     954| 6.0|  58.0|\n",
      "|2014|    1| 22|  1040.0|      5.0|  1505.0|      5.0|     AS| N559AS|   851|   SEA| HNL|   360.0|    2677|10.0|  40.0|\n",
      "|2014|    3|  9|  1443.0|     -2.0|  1652.0|      2.0|     VX| N847VA|   755|   SEA| SFO|   111.0|     679|14.0|  43.0|\n",
      "|2014|    4|  9|  1705.0|     45.0|  1839.0|     34.0|     WN| N360SW|   344|   PDX| SJC|    83.0|     569|17.0|   5.0|\n",
      "|2014|    3|  9|   754.0|     -1.0|  1015.0|      1.0|     AS| N612AS|   522|   SEA| BUR|   127.0|     937| 7.0|  54.0|\n",
      "|2014|    1| 15|  1037.0|      7.0|  1352.0|      2.0|     WN| N646SW|    48|   PDX| DEN|   121.0|     991|10.0|  37.0|\n",
      "|2014|    7|  2|   847.0|     42.0|  1041.0|     51.0|     WN| N422WN|  1520|   PDX| OAK|    90.0|     543| 8.0|  47.0|\n",
      "|2014|    5| 12|  1655.0|     -5.0|  1842.0|    -18.0|     VX| N361VA|   755|   SEA| SFO|    98.0|     679|16.0|  55.0|\n",
      "|2014|    4| 19|  1236.0|     -4.0|  1508.0|     -7.0|     AS| N309AS|   490|   SEA| SAN|   135.0|    1050|12.0|  36.0|\n",
      "|2014|   11| 19|  1812.0|     -3.0|  2352.0|     -4.0|     AS| N564AS|    26|   SEA| ORD|   198.0|    1721|18.0|  12.0|\n",
      "+----+-----+---+--------+---------+--------+---------+-------+-------+------+------+----+--------+--------+----+------+\n",
      "\n"
     ]
    }
   ],
   "source": [
    "# Show the results\n",
    "flights10.show()"
   ]
  },
  {
   "cell_type": "markdown",
   "id": "c91471f6-274f-47d1-a2a4-ae2a6b8fe896",
   "metadata": {},
   "source": [
    "## Query table (Spark Dataframes) into Pandas"
   ]
  },
  {
   "cell_type": "code",
   "execution_count": 18,
   "id": "05c1c284-042e-4dd2-81b8-3e5f2af8972a",
   "metadata": {
    "execution": {
     "iopub.execute_input": "2023-05-02T20:53:00.779787Z",
     "iopub.status.busy": "2023-05-02T20:53:00.779576Z",
     "iopub.status.idle": "2023-05-02T20:53:00.818870Z",
     "shell.execute_reply": "2023-05-02T20:53:00.818319Z",
     "shell.execute_reply.started": "2023-05-02T20:53:00.779766Z"
    },
    "tags": []
   },
   "outputs": [
    {
     "data": {
      "text/plain": [
       "pyspark.sql.dataframe.DataFrame"
      ]
     },
     "execution_count": 18,
     "metadata": {},
     "output_type": "execute_result"
    }
   ],
   "source": [
    "# Don't change this query\n",
    "query = \"SELECT origin, dest, COUNT(*) as N FROM flights GROUP BY origin, dest\"\n",
    "# Run the query\n",
    "flight_counts = spark.sql(query)\n",
    "type(flight_counts)"
   ]
  },
  {
   "cell_type": "code",
   "execution_count": 19,
   "id": "a955e319-ffbd-4862-b969-fa6453d5d3ce",
   "metadata": {
    "execution": {
     "iopub.execute_input": "2023-05-02T20:53:00.819851Z",
     "iopub.status.busy": "2023-05-02T20:53:00.819605Z",
     "iopub.status.idle": "2023-05-02T20:53:01.291030Z",
     "shell.execute_reply": "2023-05-02T20:53:01.290645Z",
     "shell.execute_reply.started": "2023-05-02T20:53:00.819827Z"
    },
    "tags": []
   },
   "outputs": [
    {
     "data": {
      "text/html": [
       "<div>\n",
       "<style scoped>\n",
       "    .dataframe tbody tr th:only-of-type {\n",
       "        vertical-align: middle;\n",
       "    }\n",
       "\n",
       "    .dataframe tbody tr th {\n",
       "        vertical-align: top;\n",
       "    }\n",
       "\n",
       "    .dataframe thead th {\n",
       "        text-align: right;\n",
       "    }\n",
       "</style>\n",
       "<table border=\"1\" class=\"dataframe\">\n",
       "  <thead>\n",
       "    <tr style=\"text-align: right;\">\n",
       "      <th></th>\n",
       "      <th>origin</th>\n",
       "      <th>dest</th>\n",
       "      <th>N</th>\n",
       "    </tr>\n",
       "  </thead>\n",
       "  <tbody>\n",
       "    <tr>\n",
       "      <th>0</th>\n",
       "      <td>SEA</td>\n",
       "      <td>RNO</td>\n",
       "      <td>8</td>\n",
       "    </tr>\n",
       "    <tr>\n",
       "      <th>1</th>\n",
       "      <td>SEA</td>\n",
       "      <td>DTW</td>\n",
       "      <td>98</td>\n",
       "    </tr>\n",
       "    <tr>\n",
       "      <th>2</th>\n",
       "      <td>SEA</td>\n",
       "      <td>CLE</td>\n",
       "      <td>2</td>\n",
       "    </tr>\n",
       "    <tr>\n",
       "      <th>3</th>\n",
       "      <td>SEA</td>\n",
       "      <td>LAX</td>\n",
       "      <td>450</td>\n",
       "    </tr>\n",
       "    <tr>\n",
       "      <th>4</th>\n",
       "      <td>PDX</td>\n",
       "      <td>SEA</td>\n",
       "      <td>144</td>\n",
       "    </tr>\n",
       "  </tbody>\n",
       "</table>\n",
       "</div>"
      ],
      "text/plain": [
       "  origin dest    N\n",
       "0    SEA  RNO    8\n",
       "1    SEA  DTW   98\n",
       "2    SEA  CLE    2\n",
       "3    SEA  LAX  450\n",
       "4    PDX  SEA  144"
      ]
     },
     "execution_count": 19,
     "metadata": {},
     "output_type": "execute_result"
    }
   ],
   "source": [
    "# Convert the results to a pandas DataFrame\n",
    "pd_counts = flight_counts.toPandas()\n",
    "# Print the head of pd_counts\n",
    "pd_counts.head()"
   ]
  },
  {
   "cell_type": "markdown",
   "id": "8acbfa4a-945f-4113-974e-7afd88c00aa1",
   "metadata": {},
   "source": [
    "## Create a TempView from Spark DataFrame from Pandas"
   ]
  },
  {
   "cell_type": "code",
   "execution_count": 20,
   "id": "048263fe-7c51-4fcd-8823-9647e56f3b22",
   "metadata": {
    "execution": {
     "iopub.execute_input": "2023-05-02T20:53:01.291955Z",
     "iopub.status.busy": "2023-05-02T20:53:01.291653Z",
     "iopub.status.idle": "2023-05-02T20:53:01.321490Z",
     "shell.execute_reply": "2023-05-02T20:53:01.321101Z",
     "shell.execute_reply.started": "2023-05-02T20:53:01.291936Z"
    },
    "tags": []
   },
   "outputs": [],
   "source": [
    "# Create pd_temp\n",
    "pd_temp = pd.DataFrame(np.random.random(10))\n",
    "# Create spark_temp from pd_temp\n",
    "spark_temp = spark.createDataFrame(pd_temp)"
   ]
  },
  {
   "cell_type": "code",
   "execution_count": 21,
   "id": "58dac622-3d0a-46af-a84f-8f271be991b3",
   "metadata": {
    "execution": {
     "iopub.execute_input": "2023-05-02T20:53:01.322373Z",
     "iopub.status.busy": "2023-05-02T20:53:01.322084Z",
     "iopub.status.idle": "2023-05-02T20:53:01.325375Z",
     "shell.execute_reply": "2023-05-02T20:53:01.324846Z",
     "shell.execute_reply.started": "2023-05-02T20:53:01.322353Z"
    },
    "tags": []
   },
   "outputs": [
    {
     "data": {
      "text/plain": [
       "pyspark.sql.dataframe.DataFrame"
      ]
     },
     "execution_count": 21,
     "metadata": {},
     "output_type": "execute_result"
    }
   ],
   "source": [
    "type(spark_temp)"
   ]
  },
  {
   "cell_type": "code",
   "execution_count": 22,
   "id": "7c45c01a-abbc-4f5b-845b-231b7f2d56c0",
   "metadata": {
    "execution": {
     "iopub.execute_input": "2023-05-02T20:53:01.326215Z",
     "iopub.status.busy": "2023-05-02T20:53:01.325947Z",
     "iopub.status.idle": "2023-05-02T20:53:01.420134Z",
     "shell.execute_reply": "2023-05-02T20:53:01.419801Z",
     "shell.execute_reply.started": "2023-05-02T20:53:01.326195Z"
    },
    "tags": []
   },
   "outputs": [
    {
     "data": {
      "text/plain": [
       "[Table(name='airports', catalog='spark_catalog', namespace=['default'], description=None, tableType='MANAGED', isTemporary=False),\n",
       " Table(name='flights', catalog='spark_catalog', namespace=['default'], description=None, tableType='MANAGED', isTemporary=False),\n",
       " Table(name='planes', catalog='spark_catalog', namespace=['default'], description=None, tableType='MANAGED', isTemporary=False)]"
      ]
     },
     "execution_count": 22,
     "metadata": {},
     "output_type": "execute_result"
    }
   ],
   "source": [
    "# Examine the tables in the catalog\n",
    "spark.catalog.listTables()"
   ]
  },
  {
   "cell_type": "code",
   "execution_count": 23,
   "id": "36984155-8116-4468-a3ba-8978a1632cdb",
   "metadata": {
    "execution": {
     "iopub.execute_input": "2023-05-02T20:53:01.420624Z",
     "iopub.status.busy": "2023-05-02T20:53:01.420516Z",
     "iopub.status.idle": "2023-05-02T20:53:01.515580Z",
     "shell.execute_reply": "2023-05-02T20:53:01.515291Z",
     "shell.execute_reply.started": "2023-05-02T20:53:01.420613Z"
    },
    "tags": []
   },
   "outputs": [
    {
     "data": {
      "text/plain": [
       "[Table(name='airports', catalog='spark_catalog', namespace=['default'], description=None, tableType='MANAGED', isTemporary=False),\n",
       " Table(name='flights', catalog='spark_catalog', namespace=['default'], description=None, tableType='MANAGED', isTemporary=False),\n",
       " Table(name='planes', catalog='spark_catalog', namespace=['default'], description=None, tableType='MANAGED', isTemporary=False),\n",
       " Table(name='temp', catalog=None, namespace=[], description=None, tableType='TEMPORARY', isTemporary=True)]"
      ]
     },
     "execution_count": 23,
     "metadata": {},
     "output_type": "execute_result"
    }
   ],
   "source": [
    "# Add spark_temp to the catalog\n",
    "spark_temp.createOrReplaceTempView('temp')\n",
    "# Examine the tables in the catalog again\n",
    "spark.catalog.listTables()"
   ]
  },
  {
   "cell_type": "markdown",
   "id": "f5875158-f29f-4939-9384-20b977cae27c",
   "metadata": {},
   "source": [
    "## Create a Spark DataFrame from CSV"
   ]
  },
  {
   "cell_type": "code",
   "execution_count": 24,
   "id": "e981d2c8-9afe-4405-8a0b-037d46b03ab0",
   "metadata": {
    "execution": {
     "iopub.execute_input": "2023-05-02T20:53:01.516211Z",
     "iopub.status.busy": "2023-05-02T20:53:01.515971Z",
     "iopub.status.idle": "2023-05-02T20:53:01.579834Z",
     "shell.execute_reply": "2023-05-02T20:53:01.579451Z",
     "shell.execute_reply.started": "2023-05-02T20:53:01.516200Z"
    },
    "tags": []
   },
   "outputs": [
    {
     "data": {
      "text/plain": [
       "pyspark.sql.dataframe.DataFrame"
      ]
     },
     "execution_count": 24,
     "metadata": {},
     "output_type": "execute_result"
    }
   ],
   "source": [
    "# Don't change this file path\n",
    "file_path = \"airports.csv\"\n",
    "# Read in the airports data\n",
    "airports = spark.read.csv(file_path, header=True)\n",
    "type(airports)"
   ]
  },
  {
   "cell_type": "code",
   "execution_count": 25,
   "id": "a56cf069-06a5-423a-b1df-cb5234909e83",
   "metadata": {
    "execution": {
     "iopub.execute_input": "2023-05-02T20:53:01.580329Z",
     "iopub.status.busy": "2023-05-02T20:53:01.580224Z",
     "iopub.status.idle": "2023-05-02T20:53:01.621776Z",
     "shell.execute_reply": "2023-05-02T20:53:01.621045Z",
     "shell.execute_reply.started": "2023-05-02T20:53:01.580319Z"
    },
    "tags": []
   },
   "outputs": [
    {
     "name": "stdout",
     "output_type": "stream",
     "text": [
      "+---+--------------------+----------------+-----------------+----+---+---+\n",
      "|faa|                name|             lat|              lon| alt| tz|dst|\n",
      "+---+--------------------+----------------+-----------------+----+---+---+\n",
      "|04G|   Lansdowne Airport|      41.1304722|      -80.6195833|1044| -5|  A|\n",
      "|06A|Moton Field Munic...|      32.4605722|      -85.6800278| 264| -5|  A|\n",
      "|06C| Schaumburg Regional|      41.9893408|      -88.1012428| 801| -6|  A|\n",
      "|06N|     Randall Airport|       41.431912|      -74.3915611| 523| -5|  A|\n",
      "|09J|Jekyll Island Air...|      31.0744722|      -81.4277778|  11| -4|  A|\n",
      "|0A9|Elizabethton Muni...|      36.3712222|      -82.1734167|1593| -4|  A|\n",
      "|0G6|Williams County A...|      41.4673056|      -84.5067778| 730| -5|  A|\n",
      "|0G7|Finger Lakes Regi...|      42.8835647|      -76.7812318| 492| -5|  A|\n",
      "|0P2|Shoestring Aviati...|      39.7948244|      -76.6471914|1000| -5|  U|\n",
      "|0S9|Jefferson County ...|      48.0538086|     -122.8106436| 108| -8|  A|\n",
      "|0W3|Harford County Ai...|      39.5668378|      -76.2024028| 409| -5|  A|\n",
      "|10C|  Galt Field Airport|      42.4028889|      -88.3751111| 875| -6|  U|\n",
      "|17G|Port Bucyrus-Craw...|      40.7815556|      -82.9748056|1003| -5|  A|\n",
      "|19A|Jackson County Ai...|      34.1758638|      -83.5615972| 951| -4|  U|\n",
      "|1A3|Martin Campbell F...|      35.0158056|      -84.3468333|1789| -4|  A|\n",
      "|1B9| Mansfield Municipal|      42.0001331|      -71.1967714| 122| -5|  A|\n",
      "|1C9|Frazier Lake Airpark|54.0133333333333|-124.768333333333| 152| -8|  A|\n",
      "|1CS|Clow Internationa...|      41.6959744|      -88.1292306| 670| -6|  U|\n",
      "|1G3|  Kent State Airport|      41.1513889|      -81.4151111|1134| -4|  A|\n",
      "|1OH|     Fortman Airport|      40.5553253|      -84.3866186| 885| -5|  U|\n",
      "+---+--------------------+----------------+-----------------+----+---+---+\n",
      "only showing top 20 rows\n",
      "\n"
     ]
    }
   ],
   "source": [
    "# Show the data\n",
    "airports.show()"
   ]
  },
  {
   "cell_type": "markdown",
   "id": "4789cee7-e73f-492c-828a-438774868412",
   "metadata": {},
   "source": [
    "# Manipulating data"
   ]
  },
  {
   "cell_type": "markdown",
   "id": "04a0b098-540f-41d8-9844-82dee01fd3a5",
   "metadata": {},
   "source": [
    "## Creating columns in a Spark Dataframe"
   ]
  },
  {
   "cell_type": "code",
   "execution_count": 26,
   "id": "04fa3561-e745-43b2-aa86-5d609f9a4996",
   "metadata": {
    "execution": {
     "iopub.execute_input": "2023-05-02T20:53:01.622674Z",
     "iopub.status.busy": "2023-05-02T20:53:01.622469Z",
     "iopub.status.idle": "2023-05-02T20:53:01.686655Z",
     "shell.execute_reply": "2023-05-02T20:53:01.686230Z",
     "shell.execute_reply.started": "2023-05-02T20:53:01.622653Z"
    },
    "tags": []
   },
   "outputs": [
    {
     "name": "stdout",
     "output_type": "stream",
     "text": [
      "+----+-----+---+--------+---------+--------+---------+-------+-------+------+------+----+--------+--------+----+------+\n",
      "|year|month|day|dep_time|dep_delay|arr_time|arr_delay|carrier|tailnum|flight|origin|dest|air_time|distance|hour|minute|\n",
      "+----+-----+---+--------+---------+--------+---------+-------+-------+------+------+----+--------+--------+----+------+\n",
      "|2014|   12|  8|   658.0|     -7.0|   935.0|     -5.0|     VX| N846VA|  1780|   SEA| LAX|   132.0|     954| 6.0|  58.0|\n",
      "|2014|    1| 22|  1040.0|      5.0|  1505.0|      5.0|     AS| N559AS|   851|   SEA| HNL|   360.0|    2677|10.0|  40.0|\n",
      "|2014|    3|  9|  1443.0|     -2.0|  1652.0|      2.0|     VX| N847VA|   755|   SEA| SFO|   111.0|     679|14.0|  43.0|\n",
      "|2014|    4|  9|  1705.0|     45.0|  1839.0|     34.0|     WN| N360SW|   344|   PDX| SJC|    83.0|     569|17.0|   5.0|\n",
      "|2014|    3|  9|   754.0|     -1.0|  1015.0|      1.0|     AS| N612AS|   522|   SEA| BUR|   127.0|     937| 7.0|  54.0|\n",
      "|2014|    1| 15|  1037.0|      7.0|  1352.0|      2.0|     WN| N646SW|    48|   PDX| DEN|   121.0|     991|10.0|  37.0|\n",
      "|2014|    7|  2|   847.0|     42.0|  1041.0|     51.0|     WN| N422WN|  1520|   PDX| OAK|    90.0|     543| 8.0|  47.0|\n",
      "|2014|    5| 12|  1655.0|     -5.0|  1842.0|    -18.0|     VX| N361VA|   755|   SEA| SFO|    98.0|     679|16.0|  55.0|\n",
      "|2014|    4| 19|  1236.0|     -4.0|  1508.0|     -7.0|     AS| N309AS|   490|   SEA| SAN|   135.0|    1050|12.0|  36.0|\n",
      "|2014|   11| 19|  1812.0|     -3.0|  2352.0|     -4.0|     AS| N564AS|    26|   SEA| ORD|   198.0|    1721|18.0|  12.0|\n",
      "|2014|   11|  8|  1653.0|     -2.0|  1924.0|     -1.0|     AS| N323AS|   448|   SEA| LAX|   130.0|     954|16.0|  53.0|\n",
      "|2014|    8|  3|  1120.0|      0.0|  1415.0|      2.0|     AS| N305AS|   656|   SEA| PHX|   154.0|    1107|11.0|  20.0|\n",
      "|2014|   10| 30|   811.0|     21.0|  1038.0|     29.0|     AS| N433AS|   608|   SEA| LAS|   127.0|     867| 8.0|  11.0|\n",
      "|2014|   11| 12|  2346.0|     -4.0|   217.0|    -28.0|     AS| N765AS|   121|   SEA| ANC|   183.0|    1448|23.0|  46.0|\n",
      "|2014|   10| 31|  1314.0|     89.0|  1544.0|    111.0|     AS| N713AS|   306|   SEA| SFO|   129.0|     679|13.0|  14.0|\n",
      "|2014|    1| 29|  2009.0|      3.0|  2159.0|      9.0|     UA| N27205|  1458|   PDX| SFO|    90.0|     550|20.0|   9.0|\n",
      "|2014|   12| 17|  2015.0|     50.0|  2150.0|     41.0|     AS| N626AS|   368|   SEA| SMF|    76.0|     605|20.0|  15.0|\n",
      "|2014|    8| 11|  1017.0|     -3.0|  1613.0|     -7.0|     WN| N8634A|   827|   SEA| MDW|   216.0|    1733|10.0|  17.0|\n",
      "|2014|    1| 13|  2156.0|     -9.0|   607.0|    -15.0|     AS| N597AS|    24|   SEA| BOS|   290.0|    2496|21.0|  56.0|\n",
      "|2014|    6|  5|  1733.0|    -12.0|  1945.0|    -10.0|     OO| N215AG|  3488|   PDX| BUR|   111.0|     817|17.0|  33.0|\n",
      "+----+-----+---+--------+---------+--------+---------+-------+-------+------+------+----+--------+--------+----+------+\n",
      "only showing top 20 rows\n",
      "\n"
     ]
    }
   ],
   "source": [
    "# Create a Spark DataFrame from Spark table flights\n",
    "flights = spark.table('flights')\n",
    "# Show the head\n",
    "flights.show()"
   ]
  },
  {
   "cell_type": "code",
   "execution_count": 27,
   "id": "5b017a7a-e127-42b3-a785-7ab400847528",
   "metadata": {
    "execution": {
     "iopub.execute_input": "2023-05-02T20:53:01.687262Z",
     "iopub.status.busy": "2023-05-02T20:53:01.687138Z",
     "iopub.status.idle": "2023-05-02T20:53:01.782813Z",
     "shell.execute_reply": "2023-05-02T20:53:01.782320Z",
     "shell.execute_reply.started": "2023-05-02T20:53:01.687249Z"
    },
    "tags": []
   },
   "outputs": [
    {
     "name": "stdout",
     "output_type": "stream",
     "text": [
      "+----+-----+---+--------+---------+--------+---------+-------+-------+------+------+----+--------+--------+----+------+------------------+\n",
      "|year|month|day|dep_time|dep_delay|arr_time|arr_delay|carrier|tailnum|flight|origin|dest|air_time|distance|hour|minute|      duration_hrs|\n",
      "+----+-----+---+--------+---------+--------+---------+-------+-------+------+------+----+--------+--------+----+------+------------------+\n",
      "|2014|   12|  8|   658.0|     -7.0|   935.0|     -5.0|     VX| N846VA|  1780|   SEA| LAX|   132.0|     954| 6.0|  58.0|               2.2|\n",
      "|2014|    1| 22|  1040.0|      5.0|  1505.0|      5.0|     AS| N559AS|   851|   SEA| HNL|   360.0|    2677|10.0|  40.0|               6.0|\n",
      "|2014|    3|  9|  1443.0|     -2.0|  1652.0|      2.0|     VX| N847VA|   755|   SEA| SFO|   111.0|     679|14.0|  43.0|              1.85|\n",
      "|2014|    4|  9|  1705.0|     45.0|  1839.0|     34.0|     WN| N360SW|   344|   PDX| SJC|    83.0|     569|17.0|   5.0|1.3833333333333333|\n",
      "|2014|    3|  9|   754.0|     -1.0|  1015.0|      1.0|     AS| N612AS|   522|   SEA| BUR|   127.0|     937| 7.0|  54.0|2.1166666666666667|\n",
      "|2014|    1| 15|  1037.0|      7.0|  1352.0|      2.0|     WN| N646SW|    48|   PDX| DEN|   121.0|     991|10.0|  37.0|2.0166666666666666|\n",
      "|2014|    7|  2|   847.0|     42.0|  1041.0|     51.0|     WN| N422WN|  1520|   PDX| OAK|    90.0|     543| 8.0|  47.0|               1.5|\n",
      "|2014|    5| 12|  1655.0|     -5.0|  1842.0|    -18.0|     VX| N361VA|   755|   SEA| SFO|    98.0|     679|16.0|  55.0|1.6333333333333333|\n",
      "|2014|    4| 19|  1236.0|     -4.0|  1508.0|     -7.0|     AS| N309AS|   490|   SEA| SAN|   135.0|    1050|12.0|  36.0|              2.25|\n",
      "|2014|   11| 19|  1812.0|     -3.0|  2352.0|     -4.0|     AS| N564AS|    26|   SEA| ORD|   198.0|    1721|18.0|  12.0|               3.3|\n",
      "|2014|   11|  8|  1653.0|     -2.0|  1924.0|     -1.0|     AS| N323AS|   448|   SEA| LAX|   130.0|     954|16.0|  53.0|2.1666666666666665|\n",
      "|2014|    8|  3|  1120.0|      0.0|  1415.0|      2.0|     AS| N305AS|   656|   SEA| PHX|   154.0|    1107|11.0|  20.0| 2.566666666666667|\n",
      "|2014|   10| 30|   811.0|     21.0|  1038.0|     29.0|     AS| N433AS|   608|   SEA| LAS|   127.0|     867| 8.0|  11.0|2.1166666666666667|\n",
      "|2014|   11| 12|  2346.0|     -4.0|   217.0|    -28.0|     AS| N765AS|   121|   SEA| ANC|   183.0|    1448|23.0|  46.0|              3.05|\n",
      "|2014|   10| 31|  1314.0|     89.0|  1544.0|    111.0|     AS| N713AS|   306|   SEA| SFO|   129.0|     679|13.0|  14.0|              2.15|\n",
      "|2014|    1| 29|  2009.0|      3.0|  2159.0|      9.0|     UA| N27205|  1458|   PDX| SFO|    90.0|     550|20.0|   9.0|               1.5|\n",
      "|2014|   12| 17|  2015.0|     50.0|  2150.0|     41.0|     AS| N626AS|   368|   SEA| SMF|    76.0|     605|20.0|  15.0|1.2666666666666666|\n",
      "|2014|    8| 11|  1017.0|     -3.0|  1613.0|     -7.0|     WN| N8634A|   827|   SEA| MDW|   216.0|    1733|10.0|  17.0|               3.6|\n",
      "|2014|    1| 13|  2156.0|     -9.0|   607.0|    -15.0|     AS| N597AS|    24|   SEA| BOS|   290.0|    2496|21.0|  56.0| 4.833333333333333|\n",
      "|2014|    6|  5|  1733.0|    -12.0|  1945.0|    -10.0|     OO| N215AG|  3488|   PDX| BUR|   111.0|     817|17.0|  33.0|              1.85|\n",
      "+----+-----+---+--------+---------+--------+---------+-------+-------+------+------+----+--------+--------+----+------+------------------+\n",
      "only showing top 20 rows\n",
      "\n"
     ]
    }
   ],
   "source": [
    "# Add duration_hrs to Spark Dataframe (not the Spark table)\n",
    "flights = flights.withColumn('duration_hrs', flights.air_time / 60)\n",
    "flights.show()"
   ]
  },
  {
   "cell_type": "markdown",
   "id": "3ff8d456-0331-432d-85a4-2b1632c8e6fd",
   "metadata": {},
   "source": [
    "## Equivalent result using only SQL"
   ]
  },
  {
   "cell_type": "code",
   "execution_count": 28,
   "id": "bd2e86f3-979c-441f-9a65-5118bbddfa77",
   "metadata": {
    "execution": {
     "iopub.execute_input": "2023-05-02T20:53:01.783857Z",
     "iopub.status.busy": "2023-05-02T20:53:01.783478Z",
     "iopub.status.idle": "2023-05-02T20:53:01.847533Z",
     "shell.execute_reply": "2023-05-02T20:53:01.847225Z",
     "shell.execute_reply.started": "2023-05-02T20:53:01.783831Z"
    },
    "tags": []
   },
   "outputs": [
    {
     "name": "stdout",
     "output_type": "stream",
     "text": [
      "+----+-----+---+--------+---------+--------+---------+-------+-------+------+------+----+--------+--------+----+------+------------------+\n",
      "|year|month|day|dep_time|dep_delay|arr_time|arr_delay|carrier|tailnum|flight|origin|dest|air_time|distance|hour|minute|      duration_hrs|\n",
      "+----+-----+---+--------+---------+--------+---------+-------+-------+------+------+----+--------+--------+----+------+------------------+\n",
      "|2014|   12|  8|   658.0|     -7.0|   935.0|     -5.0|     VX| N846VA|  1780|   SEA| LAX|   132.0|     954| 6.0|  58.0|               2.2|\n",
      "|2014|    1| 22|  1040.0|      5.0|  1505.0|      5.0|     AS| N559AS|   851|   SEA| HNL|   360.0|    2677|10.0|  40.0|               6.0|\n",
      "|2014|    3|  9|  1443.0|     -2.0|  1652.0|      2.0|     VX| N847VA|   755|   SEA| SFO|   111.0|     679|14.0|  43.0|              1.85|\n",
      "|2014|    4|  9|  1705.0|     45.0|  1839.0|     34.0|     WN| N360SW|   344|   PDX| SJC|    83.0|     569|17.0|   5.0|1.3833333333333333|\n",
      "|2014|    3|  9|   754.0|     -1.0|  1015.0|      1.0|     AS| N612AS|   522|   SEA| BUR|   127.0|     937| 7.0|  54.0|2.1166666666666667|\n",
      "|2014|    1| 15|  1037.0|      7.0|  1352.0|      2.0|     WN| N646SW|    48|   PDX| DEN|   121.0|     991|10.0|  37.0|2.0166666666666666|\n",
      "|2014|    7|  2|   847.0|     42.0|  1041.0|     51.0|     WN| N422WN|  1520|   PDX| OAK|    90.0|     543| 8.0|  47.0|               1.5|\n",
      "|2014|    5| 12|  1655.0|     -5.0|  1842.0|    -18.0|     VX| N361VA|   755|   SEA| SFO|    98.0|     679|16.0|  55.0|1.6333333333333333|\n",
      "|2014|    4| 19|  1236.0|     -4.0|  1508.0|     -7.0|     AS| N309AS|   490|   SEA| SAN|   135.0|    1050|12.0|  36.0|              2.25|\n",
      "|2014|   11| 19|  1812.0|     -3.0|  2352.0|     -4.0|     AS| N564AS|    26|   SEA| ORD|   198.0|    1721|18.0|  12.0|               3.3|\n",
      "|2014|   11|  8|  1653.0|     -2.0|  1924.0|     -1.0|     AS| N323AS|   448|   SEA| LAX|   130.0|     954|16.0|  53.0|2.1666666666666665|\n",
      "|2014|    8|  3|  1120.0|      0.0|  1415.0|      2.0|     AS| N305AS|   656|   SEA| PHX|   154.0|    1107|11.0|  20.0| 2.566666666666667|\n",
      "|2014|   10| 30|   811.0|     21.0|  1038.0|     29.0|     AS| N433AS|   608|   SEA| LAS|   127.0|     867| 8.0|  11.0|2.1166666666666667|\n",
      "|2014|   11| 12|  2346.0|     -4.0|   217.0|    -28.0|     AS| N765AS|   121|   SEA| ANC|   183.0|    1448|23.0|  46.0|              3.05|\n",
      "|2014|   10| 31|  1314.0|     89.0|  1544.0|    111.0|     AS| N713AS|   306|   SEA| SFO|   129.0|     679|13.0|  14.0|              2.15|\n",
      "|2014|    1| 29|  2009.0|      3.0|  2159.0|      9.0|     UA| N27205|  1458|   PDX| SFO|    90.0|     550|20.0|   9.0|               1.5|\n",
      "|2014|   12| 17|  2015.0|     50.0|  2150.0|     41.0|     AS| N626AS|   368|   SEA| SMF|    76.0|     605|20.0|  15.0|1.2666666666666666|\n",
      "|2014|    8| 11|  1017.0|     -3.0|  1613.0|     -7.0|     WN| N8634A|   827|   SEA| MDW|   216.0|    1733|10.0|  17.0|               3.6|\n",
      "|2014|    1| 13|  2156.0|     -9.0|   607.0|    -15.0|     AS| N597AS|    24|   SEA| BOS|   290.0|    2496|21.0|  56.0| 4.833333333333333|\n",
      "|2014|    6|  5|  1733.0|    -12.0|  1945.0|    -10.0|     OO| N215AG|  3488|   PDX| BUR|   111.0|     817|17.0|  33.0|              1.85|\n",
      "+----+-----+---+--------+---------+--------+---------+-------+-------+------+------+----+--------+--------+----+------+------------------+\n",
      "only showing top 20 rows\n",
      "\n"
     ]
    }
   ],
   "source": [
    "spark.sql('select *, air_time/60 as duration_hrs from flights').show()"
   ]
  },
  {
   "cell_type": "markdown",
   "id": "5afe6930-0206-4b60-858d-9f753be249ce",
   "metadata": {},
   "source": [
    "## Other SQL examples"
   ]
  },
  {
   "cell_type": "code",
   "execution_count": 29,
   "id": "a1a466a1-ae5c-4459-986e-ce8ec98a2fd7",
   "metadata": {
    "execution": {
     "iopub.execute_input": "2023-05-02T20:53:01.848155Z",
     "iopub.status.busy": "2023-05-02T20:53:01.847949Z",
     "iopub.status.idle": "2023-05-02T20:53:01.960914Z",
     "shell.execute_reply": "2023-05-02T20:53:01.960447Z",
     "shell.execute_reply.started": "2023-05-02T20:53:01.848143Z"
    },
    "tags": []
   },
   "outputs": [
    {
     "name": "stdout",
     "output_type": "stream",
     "text": [
      "+------+----+--------+\n",
      "|origin|dest|count(1)|\n",
      "+------+----+--------+\n",
      "|   SEA| RNO|       8|\n",
      "|   SEA| DTW|      98|\n",
      "|   SEA| CLE|       2|\n",
      "|   SEA| LAX|     450|\n",
      "|   PDX| SEA|     144|\n",
      "|   SEA| BLI|       5|\n",
      "|   PDX| IAH|      57|\n",
      "|   PDX| PHX|     209|\n",
      "|   SEA| SLC|     225|\n",
      "|   SEA| SBA|      23|\n",
      "|   SEA| BWI|      29|\n",
      "|   PDX| IAD|      23|\n",
      "|   PDX| SFO|     305|\n",
      "|   SEA| KOA|      40|\n",
      "|   PDX| MCI|      15|\n",
      "|   SEA| SJC|     213|\n",
      "|   SEA| ABQ|      43|\n",
      "|   SEA| SAT|      18|\n",
      "|   PDX| ONT|      57|\n",
      "|   SEA| LAS|     364|\n",
      "+------+----+--------+\n",
      "only showing top 20 rows\n",
      "\n"
     ]
    }
   ],
   "source": [
    "spark.sql('SELECT origin, dest, COUNT(*) FROM flights GROUP BY origin, dest').show()"
   ]
  },
  {
   "cell_type": "code",
   "execution_count": 30,
   "id": "00e82f22-efeb-4fb1-b379-e98fece6cd54",
   "metadata": {
    "execution": {
     "iopub.execute_input": "2023-05-02T20:53:01.961857Z",
     "iopub.status.busy": "2023-05-02T20:53:01.961547Z",
     "iopub.status.idle": "2023-05-02T20:53:02.102028Z",
     "shell.execute_reply": "2023-05-02T20:53:02.101614Z",
     "shell.execute_reply.started": "2023-05-02T20:53:01.961837Z"
    },
    "tags": []
   },
   "outputs": [
    {
     "name": "stdout",
     "output_type": "stream",
     "text": [
      "+------+-------+------------------+\n",
      "|origin|carrier|      avg_air_time|\n",
      "+------+-------+------------------+\n",
      "|   PDX|     US| 2.641062801932367|\n",
      "|   SEA|     AA|               NaN|\n",
      "|   PDX|     AS|               NaN|\n",
      "|   PDX|     DL|               NaN|\n",
      "|   SEA|     OO|               NaN|\n",
      "|   SEA|     B6|               NaN|\n",
      "|   PDX|     OO|               NaN|\n",
      "|   PDX|     UA|               NaN|\n",
      "|   SEA|     US|               NaN|\n",
      "|   PDX|     F9|2.1333333333333333|\n",
      "|   PDX|     AA|               NaN|\n",
      "|   SEA|     UA|               NaN|\n",
      "|   PDX|     VX|1.4189814814814814|\n",
      "|   PDX|     B6| 3.008447488584475|\n",
      "|   SEA|     VX|1.8805555555555555|\n",
      "|   PDX|     WN|               NaN|\n",
      "|   SEA|     DL|               NaN|\n",
      "|   SEA|     HA|               NaN|\n",
      "|   SEA|     F9|2.1505747126436785|\n",
      "|   SEA|     AS|               NaN|\n",
      "+------+-------+------------------+\n",
      "only showing top 20 rows\n",
      "\n"
     ]
    }
   ],
   "source": [
    "spark.sql('SELECT origin, carrier, AVG(air_time) / 60 AS avg_air_time FROM flights GROUP BY origin, carrier').show()"
   ]
  },
  {
   "cell_type": "markdown",
   "id": "02170799-6ee2-4e1a-8267-b7873a256a7f",
   "metadata": {},
   "source": [
    "## Filtering Data"
   ]
  },
  {
   "cell_type": "code",
   "execution_count": 31,
   "id": "758193e6-3faf-4f0e-a8f8-5ea37971578b",
   "metadata": {
    "execution": {
     "iopub.execute_input": "2023-05-02T20:53:02.102923Z",
     "iopub.status.busy": "2023-05-02T20:53:02.102582Z",
     "iopub.status.idle": "2023-05-02T20:53:02.224938Z",
     "shell.execute_reply": "2023-05-02T20:53:02.224536Z",
     "shell.execute_reply.started": "2023-05-02T20:53:02.102903Z"
    },
    "tags": []
   },
   "outputs": [
    {
     "name": "stdout",
     "output_type": "stream",
     "text": [
      "+----+-----+---+--------+---------+--------+---------+-------+-------+------+------+----+--------+--------+----+------+------------------+\n",
      "|year|month|day|dep_time|dep_delay|arr_time|arr_delay|carrier|tailnum|flight|origin|dest|air_time|distance|hour|minute|      duration_hrs|\n",
      "+----+-----+---+--------+---------+--------+---------+-------+-------+------+------+----+--------+--------+----+------+------------------+\n",
      "|2014|    1| 22|  1040.0|      5.0|  1505.0|      5.0|     AS| N559AS|   851|   SEA| HNL|   360.0|    2677|10.0|  40.0|               6.0|\n",
      "|2014|    4| 19|  1236.0|     -4.0|  1508.0|     -7.0|     AS| N309AS|   490|   SEA| SAN|   135.0|    1050|12.0|  36.0|              2.25|\n",
      "|2014|   11| 19|  1812.0|     -3.0|  2352.0|     -4.0|     AS| N564AS|    26|   SEA| ORD|   198.0|    1721|18.0|  12.0|               3.3|\n",
      "|2014|    8|  3|  1120.0|      0.0|  1415.0|      2.0|     AS| N305AS|   656|   SEA| PHX|   154.0|    1107|11.0|  20.0| 2.566666666666667|\n",
      "|2014|   11| 12|  2346.0|     -4.0|   217.0|    -28.0|     AS| N765AS|   121|   SEA| ANC|   183.0|    1448|23.0|  46.0|              3.05|\n",
      "|2014|    8| 11|  1017.0|     -3.0|  1613.0|     -7.0|     WN| N8634A|   827|   SEA| MDW|   216.0|    1733|10.0|  17.0|               3.6|\n",
      "|2014|    1| 13|  2156.0|     -9.0|   607.0|    -15.0|     AS| N597AS|    24|   SEA| BOS|   290.0|    2496|21.0|  56.0| 4.833333333333333|\n",
      "|2014|    9| 26|   610.0|     -5.0|  1523.0|     65.0|     US| N127UW|   616|   SEA| PHL|   293.0|    2378| 6.0|  10.0| 4.883333333333334|\n",
      "|2014|   12|  4|   954.0|     -6.0|  1348.0|    -17.0|     HA| N395HA|    29|   SEA| OGG|   333.0|    2640| 9.0|  54.0|              5.55|\n",
      "|2014|    6|  4|  1115.0|      0.0|  1346.0|     -3.0|     AS| N461AS|   488|   SEA| SAN|   133.0|    1050|11.0|  15.0| 2.216666666666667|\n",
      "|2014|    6| 26|  2054.0|     -1.0|  2318.0|     -6.0|     B6| N590JB|   907|   SEA| ANC|   179.0|    1448|20.0|  54.0|2.9833333333333334|\n",
      "|2014|    6|  7|  1823.0|     -7.0|  2112.0|    -28.0|     AS| N512AS|   815|   SEA| LIH|   335.0|    2701|18.0|  23.0| 5.583333333333333|\n",
      "|2014|    4| 30|   801.0|      1.0|  1757.0|     90.0|     AS| N407AS|    18|   SEA| MCO|   342.0|    2554| 8.0|   1.0|               5.7|\n",
      "|2014|   11| 29|   905.0|    155.0|  1655.0|    170.0|     DL| N824DN|  1598|   SEA| ATL|   229.0|    2182| 9.0|   5.0| 3.816666666666667|\n",
      "|2014|    6|  2|  2222.0|      7.0|    55.0|     15.0|     AS| N402AS|    99|   SEA| ANC|   190.0|    1448|22.0|  22.0|3.1666666666666665|\n",
      "|2014|   11| 15|  1034.0|     -6.0|  1414.0|    -26.0|     AS| N589AS|   794|   SEA| ABQ|   139.0|    1180|10.0|  34.0| 2.316666666666667|\n",
      "|2014|   10| 20|  1328.0|     -1.0|  1949.0|      4.0|     UA| N68805|  1212|   SEA| IAH|   228.0|    1874|13.0|  28.0|               3.8|\n",
      "|2014|   12| 16|  1500.0|      0.0|  1906.0|     19.0|     US| N662AW|   500|   SEA| PHX|   151.0|    1107|15.0|   0.0|2.5166666666666666|\n",
      "|2014|   11| 19|  1319.0|     -6.0|  1821.0|    -14.0|     DL| N309US|  2164|   PDX| MSP|   169.0|    1426|13.0|  19.0| 2.816666666666667|\n",
      "|2014|    5| 21|   515.0|      0.0|   757.0|      0.0|     US| N172US|   593|   SEA| PHX|   143.0|    1107| 5.0|  15.0|2.3833333333333333|\n",
      "+----+-----+---+--------+---------+--------+---------+-------+-------+------+------+----+--------+--------+----+------+------------------+\n",
      "only showing top 20 rows\n",
      "\n"
     ]
    }
   ],
   "source": [
    "flights.filter(\"distance > 1000\").show()"
   ]
  },
  {
   "cell_type": "code",
   "execution_count": 32,
   "id": "07f05182-ad63-46a0-a1d3-2eab61783ac1",
   "metadata": {
    "execution": {
     "iopub.execute_input": "2023-05-02T20:53:02.225830Z",
     "iopub.status.busy": "2023-05-02T20:53:02.225545Z",
     "iopub.status.idle": "2023-05-02T20:53:02.279313Z",
     "shell.execute_reply": "2023-05-02T20:53:02.278874Z",
     "shell.execute_reply.started": "2023-05-02T20:53:02.225812Z"
    },
    "tags": []
   },
   "outputs": [
    {
     "name": "stdout",
     "output_type": "stream",
     "text": [
      "+----+-----+---+--------+---------+--------+---------+-------+-------+------+------+----+--------+--------+----+------+------------------+\n",
      "|year|month|day|dep_time|dep_delay|arr_time|arr_delay|carrier|tailnum|flight|origin|dest|air_time|distance|hour|minute|      duration_hrs|\n",
      "+----+-----+---+--------+---------+--------+---------+-------+-------+------+------+----+--------+--------+----+------+------------------+\n",
      "|2014|    1| 22|  1040.0|      5.0|  1505.0|      5.0|     AS| N559AS|   851|   SEA| HNL|   360.0|    2677|10.0|  40.0|               6.0|\n",
      "|2014|    4| 19|  1236.0|     -4.0|  1508.0|     -7.0|     AS| N309AS|   490|   SEA| SAN|   135.0|    1050|12.0|  36.0|              2.25|\n",
      "|2014|   11| 19|  1812.0|     -3.0|  2352.0|     -4.0|     AS| N564AS|    26|   SEA| ORD|   198.0|    1721|18.0|  12.0|               3.3|\n",
      "|2014|    8|  3|  1120.0|      0.0|  1415.0|      2.0|     AS| N305AS|   656|   SEA| PHX|   154.0|    1107|11.0|  20.0| 2.566666666666667|\n",
      "|2014|   11| 12|  2346.0|     -4.0|   217.0|    -28.0|     AS| N765AS|   121|   SEA| ANC|   183.0|    1448|23.0|  46.0|              3.05|\n",
      "|2014|    8| 11|  1017.0|     -3.0|  1613.0|     -7.0|     WN| N8634A|   827|   SEA| MDW|   216.0|    1733|10.0|  17.0|               3.6|\n",
      "|2014|    1| 13|  2156.0|     -9.0|   607.0|    -15.0|     AS| N597AS|    24|   SEA| BOS|   290.0|    2496|21.0|  56.0| 4.833333333333333|\n",
      "|2014|    9| 26|   610.0|     -5.0|  1523.0|     65.0|     US| N127UW|   616|   SEA| PHL|   293.0|    2378| 6.0|  10.0| 4.883333333333334|\n",
      "|2014|   12|  4|   954.0|     -6.0|  1348.0|    -17.0|     HA| N395HA|    29|   SEA| OGG|   333.0|    2640| 9.0|  54.0|              5.55|\n",
      "|2014|    6|  4|  1115.0|      0.0|  1346.0|     -3.0|     AS| N461AS|   488|   SEA| SAN|   133.0|    1050|11.0|  15.0| 2.216666666666667|\n",
      "|2014|    6| 26|  2054.0|     -1.0|  2318.0|     -6.0|     B6| N590JB|   907|   SEA| ANC|   179.0|    1448|20.0|  54.0|2.9833333333333334|\n",
      "|2014|    6|  7|  1823.0|     -7.0|  2112.0|    -28.0|     AS| N512AS|   815|   SEA| LIH|   335.0|    2701|18.0|  23.0| 5.583333333333333|\n",
      "|2014|    4| 30|   801.0|      1.0|  1757.0|     90.0|     AS| N407AS|    18|   SEA| MCO|   342.0|    2554| 8.0|   1.0|               5.7|\n",
      "|2014|   11| 29|   905.0|    155.0|  1655.0|    170.0|     DL| N824DN|  1598|   SEA| ATL|   229.0|    2182| 9.0|   5.0| 3.816666666666667|\n",
      "|2014|    6|  2|  2222.0|      7.0|    55.0|     15.0|     AS| N402AS|    99|   SEA| ANC|   190.0|    1448|22.0|  22.0|3.1666666666666665|\n",
      "|2014|   11| 15|  1034.0|     -6.0|  1414.0|    -26.0|     AS| N589AS|   794|   SEA| ABQ|   139.0|    1180|10.0|  34.0| 2.316666666666667|\n",
      "|2014|   10| 20|  1328.0|     -1.0|  1949.0|      4.0|     UA| N68805|  1212|   SEA| IAH|   228.0|    1874|13.0|  28.0|               3.8|\n",
      "|2014|   12| 16|  1500.0|      0.0|  1906.0|     19.0|     US| N662AW|   500|   SEA| PHX|   151.0|    1107|15.0|   0.0|2.5166666666666666|\n",
      "|2014|   11| 19|  1319.0|     -6.0|  1821.0|    -14.0|     DL| N309US|  2164|   PDX| MSP|   169.0|    1426|13.0|  19.0| 2.816666666666667|\n",
      "|2014|    5| 21|   515.0|      0.0|   757.0|      0.0|     US| N172US|   593|   SEA| PHX|   143.0|    1107| 5.0|  15.0|2.3833333333333333|\n",
      "+----+-----+---+--------+---------+--------+---------+-------+-------+------+------+----+--------+--------+----+------+------------------+\n",
      "only showing top 20 rows\n",
      "\n"
     ]
    }
   ],
   "source": [
    "# same as\n",
    "flights.filter(flights.distance > 1000).show()"
   ]
  },
  {
   "cell_type": "markdown",
   "id": "c656cd1a-60d4-4575-977d-f98032f86940",
   "metadata": {},
   "source": [
    "## Selecting"
   ]
  },
  {
   "cell_type": "code",
   "execution_count": 33,
   "id": "01b35872-41c3-455c-abf2-c906ea00669b",
   "metadata": {
    "execution": {
     "iopub.execute_input": "2023-05-02T20:53:02.280324Z",
     "iopub.status.busy": "2023-05-02T20:53:02.279971Z",
     "iopub.status.idle": "2023-05-02T20:53:02.346791Z",
     "shell.execute_reply": "2023-05-02T20:53:02.346321Z",
     "shell.execute_reply.started": "2023-05-02T20:53:02.280303Z"
    },
    "tags": []
   },
   "outputs": [
    {
     "name": "stdout",
     "output_type": "stream",
     "text": [
      "+------+----+-------+\n",
      "|origin|dest|carrier|\n",
      "+------+----+-------+\n",
      "|   SEA| PDX|     OO|\n",
      "|   SEA| PDX|     OO|\n",
      "|   SEA| PDX|     OO|\n",
      "|   SEA| PDX|     OO|\n",
      "|   SEA| PDX|     OO|\n",
      "|   SEA| PDX|     AS|\n",
      "|   SEA| PDX|     OO|\n",
      "|   SEA| PDX|     OO|\n",
      "|   SEA| PDX|     OO|\n",
      "|   SEA| PDX|     OO|\n",
      "|   SEA| PDX|     OO|\n",
      "|   SEA| PDX|     OO|\n",
      "|   SEA| PDX|     OO|\n",
      "|   SEA| PDX|     OO|\n",
      "|   SEA| PDX|     AS|\n",
      "|   SEA| PDX|     OO|\n",
      "|   SEA| PDX|     OO|\n",
      "|   SEA| PDX|     OO|\n",
      "|   SEA| PDX|     OO|\n",
      "|   SEA| PDX|     OO|\n",
      "+------+----+-------+\n",
      "only showing top 20 rows\n",
      "\n"
     ]
    }
   ],
   "source": [
    "# Select the second set of columns\n",
    "temp = flights.select(flights.origin, flights.dest, flights.carrier)\n",
    "\n",
    "# Define first filter\n",
    "filterA = flights.origin == \"SEA\"\n",
    "\n",
    "# Define second filter\n",
    "filterB = flights.dest == \"PDX\"\n",
    "\n",
    "# Filter the data, first by filterA then by filterB\n",
    "selected = temp.filter(filterA).filter(filterB)\n",
    "\n",
    "selected.show()"
   ]
  },
  {
   "cell_type": "code",
   "execution_count": 34,
   "id": "fc2c457b-cbd9-4757-9aa4-45b9a71fa69d",
   "metadata": {
    "execution": {
     "iopub.execute_input": "2023-05-02T20:53:02.347773Z",
     "iopub.status.busy": "2023-05-02T20:53:02.347394Z",
     "iopub.status.idle": "2023-05-02T20:53:02.423650Z",
     "shell.execute_reply": "2023-05-02T20:53:02.423035Z",
     "shell.execute_reply.started": "2023-05-02T20:53:02.347743Z"
    },
    "tags": []
   },
   "outputs": [
    {
     "name": "stdout",
     "output_type": "stream",
     "text": [
      "+------+----+-------+\n",
      "|origin|dest|carrier|\n",
      "+------+----+-------+\n",
      "|   SEA| PDX|     OO|\n",
      "|   SEA| PDX|     OO|\n",
      "|   SEA| PDX|     OO|\n",
      "|   SEA| PDX|     OO|\n",
      "|   SEA| PDX|     OO|\n",
      "|   SEA| PDX|     AS|\n",
      "|   SEA| PDX|     OO|\n",
      "|   SEA| PDX|     OO|\n",
      "|   SEA| PDX|     OO|\n",
      "|   SEA| PDX|     OO|\n",
      "|   SEA| PDX|     OO|\n",
      "|   SEA| PDX|     OO|\n",
      "|   SEA| PDX|     OO|\n",
      "|   SEA| PDX|     OO|\n",
      "|   SEA| PDX|     AS|\n",
      "|   SEA| PDX|     OO|\n",
      "|   SEA| PDX|     OO|\n",
      "|   SEA| PDX|     OO|\n",
      "|   SEA| PDX|     OO|\n",
      "|   SEA| PDX|     OO|\n",
      "+------+----+-------+\n",
      "only showing top 20 rows\n",
      "\n"
     ]
    }
   ],
   "source": [
    "# inliner\n",
    "flights.select('origin', 'dest', 'carrier').filter(flights.origin=='SEA').filter(flights.dest=='PDX').show()"
   ]
  },
  {
   "cell_type": "markdown",
   "id": "25c0003f-0a90-4d49-8e36-7e1e735caa76",
   "metadata": {},
   "source": [
    "## Selecting II"
   ]
  },
  {
   "cell_type": "code",
   "execution_count": 35,
   "id": "b492bc7e-c917-4c63-9850-52bc25bd96f2",
   "metadata": {
    "execution": {
     "iopub.execute_input": "2023-05-02T20:53:02.424324Z",
     "iopub.status.busy": "2023-05-02T20:53:02.424184Z",
     "iopub.status.idle": "2023-05-02T20:53:02.481398Z",
     "shell.execute_reply": "2023-05-02T20:53:02.480964Z",
     "shell.execute_reply.started": "2023-05-02T20:53:02.424311Z"
    },
    "tags": []
   },
   "outputs": [
    {
     "name": "stdout",
     "output_type": "stream",
     "text": [
      "+------+----+-------+------------------+\n",
      "|origin|dest|tailnum|         avg_speed|\n",
      "+------+----+-------+------------------+\n",
      "|   SEA| LAX| N846VA| 433.6363636363636|\n",
      "|   SEA| HNL| N559AS| 446.1666666666667|\n",
      "|   SEA| SFO| N847VA|367.02702702702703|\n",
      "|   PDX| SJC| N360SW| 411.3253012048193|\n",
      "|   SEA| BUR| N612AS| 442.6771653543307|\n",
      "|   PDX| DEN| N646SW|491.40495867768595|\n",
      "|   PDX| OAK| N422WN|             362.0|\n",
      "|   SEA| SFO| N361VA| 415.7142857142857|\n",
      "|   SEA| SAN| N309AS| 466.6666666666667|\n",
      "|   SEA| ORD| N564AS| 521.5151515151515|\n",
      "|   SEA| LAX| N323AS| 440.3076923076923|\n",
      "|   SEA| PHX| N305AS|431.29870129870125|\n",
      "|   SEA| LAS| N433AS| 409.6062992125984|\n",
      "|   SEA| ANC| N765AS|474.75409836065575|\n",
      "|   SEA| SFO| N713AS| 315.8139534883721|\n",
      "|   PDX| SFO| N27205| 366.6666666666667|\n",
      "|   SEA| SMF| N626AS|477.63157894736844|\n",
      "|   SEA| MDW| N8634A|481.38888888888886|\n",
      "|   SEA| BOS| N597AS| 516.4137931034483|\n",
      "|   PDX| BUR| N215AG| 441.6216216216216|\n",
      "+------+----+-------+------------------+\n",
      "only showing top 20 rows\n",
      "\n"
     ]
    }
   ],
   "source": [
    "# Define avg_speed\n",
    "avg_speed = (flights.distance/(flights.air_time/60)).alias(\"avg_speed\")\n",
    "# Select the correct columns\n",
    "speed1 = flights.select(\"origin\", \"dest\", \"tailnum\", avg_speed)\n",
    "\n",
    "speed1.show()"
   ]
  },
  {
   "cell_type": "code",
   "execution_count": 36,
   "id": "9af7ea49-8af4-4f29-a56d-494844b3558d",
   "metadata": {
    "execution": {
     "iopub.execute_input": "2023-05-02T20:53:02.482274Z",
     "iopub.status.busy": "2023-05-02T20:53:02.481941Z",
     "iopub.status.idle": "2023-05-02T20:53:02.524134Z",
     "shell.execute_reply": "2023-05-02T20:53:02.523832Z",
     "shell.execute_reply.started": "2023-05-02T20:53:02.482253Z"
    },
    "tags": []
   },
   "outputs": [
    {
     "name": "stdout",
     "output_type": "stream",
     "text": [
      "+------+----+-------+------------------+\n",
      "|origin|dest|tailnum|         avg_speed|\n",
      "+------+----+-------+------------------+\n",
      "|   SEA| LAX| N846VA| 433.6363636363636|\n",
      "|   SEA| HNL| N559AS| 446.1666666666667|\n",
      "|   SEA| SFO| N847VA|367.02702702702703|\n",
      "|   PDX| SJC| N360SW| 411.3253012048193|\n",
      "|   SEA| BUR| N612AS| 442.6771653543307|\n",
      "|   PDX| DEN| N646SW|491.40495867768595|\n",
      "|   PDX| OAK| N422WN|             362.0|\n",
      "|   SEA| SFO| N361VA| 415.7142857142857|\n",
      "|   SEA| SAN| N309AS| 466.6666666666667|\n",
      "|   SEA| ORD| N564AS| 521.5151515151515|\n",
      "|   SEA| LAX| N323AS| 440.3076923076923|\n",
      "|   SEA| PHX| N305AS|431.29870129870125|\n",
      "|   SEA| LAS| N433AS| 409.6062992125984|\n",
      "|   SEA| ANC| N765AS|474.75409836065575|\n",
      "|   SEA| SFO| N713AS| 315.8139534883721|\n",
      "|   PDX| SFO| N27205| 366.6666666666667|\n",
      "|   SEA| SMF| N626AS|477.63157894736844|\n",
      "|   SEA| MDW| N8634A|481.38888888888886|\n",
      "|   SEA| BOS| N597AS| 516.4137931034483|\n",
      "|   PDX| BUR| N215AG| 441.6216216216216|\n",
      "+------+----+-------+------------------+\n",
      "only showing top 20 rows\n",
      "\n"
     ]
    }
   ],
   "source": [
    "# Create the same table using a SQL expression\n",
    "speed2 = flights.selectExpr(\"origin\", \"dest\", \"tailnum\", \"distance/(air_time/60) as avg_speed\")\n",
    "\n",
    "speed2.show()"
   ]
  },
  {
   "cell_type": "markdown",
   "id": "2bdf0795-6d84-49bc-8352-d2687bbcda4b",
   "metadata": {},
   "source": [
    "## Aggregating"
   ]
  },
  {
   "cell_type": "code",
   "execution_count": 37,
   "id": "6b0279ab-4a5d-4568-9c67-a62eaf5035c9",
   "metadata": {
    "execution": {
     "iopub.execute_input": "2023-05-02T20:53:02.524758Z",
     "iopub.status.busy": "2023-05-02T20:53:02.524511Z",
     "iopub.status.idle": "2023-05-02T20:53:02.599048Z",
     "shell.execute_reply": "2023-05-02T20:53:02.598652Z",
     "shell.execute_reply.started": "2023-05-02T20:53:02.524746Z"
    },
    "tags": []
   },
   "outputs": [
    {
     "name": "stdout",
     "output_type": "stream",
     "text": [
      "+-------------+\n",
      "|min(distance)|\n",
      "+-------------+\n",
      "|          106|\n",
      "+-------------+\n",
      "\n"
     ]
    }
   ],
   "source": [
    "# Find the shortest flight from PDX in terms of distance\n",
    "flights.filter(flights.origin == 'PDX').groupBy().min('distance').show()"
   ]
  },
  {
   "cell_type": "code",
   "execution_count": 38,
   "id": "4100c9c4-9c8f-435a-b47c-d1885fcadc83",
   "metadata": {
    "execution": {
     "iopub.execute_input": "2023-05-02T20:53:02.599877Z",
     "iopub.status.busy": "2023-05-02T20:53:02.599610Z",
     "iopub.status.idle": "2023-05-02T20:53:02.602393Z",
     "shell.execute_reply": "2023-05-02T20:53:02.601861Z",
     "shell.execute_reply.started": "2023-05-02T20:53:02.599858Z"
    },
    "tags": []
   },
   "outputs": [],
   "source": [
    "from pyspark.sql.functions import isnan"
   ]
  },
  {
   "cell_type": "code",
   "execution_count": 39,
   "id": "3571ac41-14c0-42bf-90d3-959d46796c5c",
   "metadata": {
    "execution": {
     "iopub.execute_input": "2023-05-02T20:53:02.603203Z",
     "iopub.status.busy": "2023-05-02T20:53:02.602945Z",
     "iopub.status.idle": "2023-05-02T20:53:02.675672Z",
     "shell.execute_reply": "2023-05-02T20:53:02.675269Z",
     "shell.execute_reply.started": "2023-05-02T20:53:02.603186Z"
    },
    "tags": []
   },
   "outputs": [
    {
     "name": "stdout",
     "output_type": "stream",
     "text": [
      "+-------------+\n",
      "|max(air_time)|\n",
      "+-------------+\n",
      "|        409.0|\n",
      "+-------------+\n",
      "\n"
     ]
    }
   ],
   "source": [
    "# Find the longest flight from SEA in terms of air time (which contains NaN)\n",
    "flights.filter((flights.origin == 'SEA') & ~isnan(flights.air_time)).groupBy().max('air_time').show()"
   ]
  },
  {
   "cell_type": "code",
   "execution_count": 40,
   "id": "7f4032a0-f476-4418-829a-21007474c88a",
   "metadata": {
    "execution": {
     "iopub.execute_input": "2023-05-02T20:53:02.679631Z",
     "iopub.status.busy": "2023-05-02T20:53:02.679395Z",
     "iopub.status.idle": "2023-05-02T20:53:02.748386Z",
     "shell.execute_reply": "2023-05-02T20:53:02.748026Z",
     "shell.execute_reply.started": "2023-05-02T20:53:02.679619Z"
    },
    "tags": []
   },
   "outputs": [
    {
     "name": "stdout",
     "output_type": "stream",
     "text": [
      "+-------------+\n",
      "|max(air_time)|\n",
      "+-------------+\n",
      "|        409.0|\n",
      "+-------------+\n",
      "\n"
     ]
    }
   ],
   "source": [
    "# or \n",
    "flights.select('air_time').filter(flights.origin == 'SEA').na.fill(0).groupBy().max('air_time').show()"
   ]
  },
  {
   "cell_type": "markdown",
   "id": "8b4c0aa4-ace0-4ef8-9b50-a3411501383b",
   "metadata": {},
   "source": [
    "## Aggregating II"
   ]
  },
  {
   "cell_type": "code",
   "execution_count": 41,
   "id": "fd666c6c-de35-44a7-855d-d204e48216b8",
   "metadata": {
    "execution": {
     "iopub.execute_input": "2023-05-02T20:53:02.748920Z",
     "iopub.status.busy": "2023-05-02T20:53:02.748801Z",
     "iopub.status.idle": "2023-05-02T20:53:02.816813Z",
     "shell.execute_reply": "2023-05-02T20:53:02.816453Z",
     "shell.execute_reply.started": "2023-05-02T20:53:02.748908Z"
    },
    "tags": []
   },
   "outputs": [
    {
     "name": "stdout",
     "output_type": "stream",
     "text": [
      "+------------------+\n",
      "|     avg(air_time)|\n",
      "+------------------+\n",
      "|188.20689655172413|\n",
      "+------------------+\n",
      "\n"
     ]
    }
   ],
   "source": [
    "# Average duration of Delta flights that left Seattle ignoring missing\n",
    "flights.filter((flights.carrier == \"DL\") & (flights.origin == \"SEA\") & ~isnan(flights.air_time)).groupBy().avg(\"air_time\").show()"
   ]
  },
  {
   "cell_type": "code",
   "execution_count": 42,
   "id": "8dd3a7ce-0653-42fa-8409-33eed04a65ae",
   "metadata": {
    "execution": {
     "iopub.execute_input": "2023-05-02T20:53:02.817665Z",
     "iopub.status.busy": "2023-05-02T20:53:02.817398Z",
     "iopub.status.idle": "2023-05-02T20:53:02.913470Z",
     "shell.execute_reply": "2023-05-02T20:53:02.913096Z",
     "shell.execute_reply.started": "2023-05-02T20:53:02.817647Z"
    },
    "tags": []
   },
   "outputs": [
    {
     "name": "stdout",
     "output_type": "stream",
     "text": [
      "+------------------+\n",
      "| sum(duration_hrs)|\n",
      "+------------------+\n",
      "|25289.600000000126|\n",
      "+------------------+\n",
      "\n"
     ]
    }
   ],
   "source": [
    "# Total hours in the air\n",
    "flights.withColumn(\"duration_hrs\", flights.air_time/60).na.drop(subset='duration_hrs').groupBy().sum(\"duration_hrs\").show()"
   ]
  },
  {
   "cell_type": "code",
   "execution_count": 43,
   "id": "b68e4bee-6285-4ce7-b6ff-a2edf4afce04",
   "metadata": {
    "execution": {
     "iopub.execute_input": "2023-05-02T20:53:02.914245Z",
     "iopub.status.busy": "2023-05-02T20:53:02.913989Z",
     "iopub.status.idle": "2023-05-02T20:53:02.987529Z",
     "shell.execute_reply": "2023-05-02T20:53:02.986919Z",
     "shell.execute_reply.started": "2023-05-02T20:53:02.914229Z"
    },
    "tags": []
   },
   "outputs": [
    {
     "name": "stdout",
     "output_type": "stream",
     "text": [
      "+------------------+\n",
      "| sum(duration_hrs)|\n",
      "+------------------+\n",
      "|25289.600000000126|\n",
      "+------------------+\n",
      "\n"
     ]
    }
   ],
   "source": [
    "# Total hours in the air\n",
    "flights.withColumn(\"duration_hrs\", flights.air_time/60).filter(~isnan(flights.duration_hrs)).groupBy().sum(\"duration_hrs\").show()"
   ]
  },
  {
   "cell_type": "code",
   "execution_count": 44,
   "id": "fd53753c-a65f-478f-a1b1-f0eed64e9871",
   "metadata": {
    "execution": {
     "iopub.execute_input": "2023-05-02T20:53:02.988715Z",
     "iopub.status.busy": "2023-05-02T20:53:02.988117Z",
     "iopub.status.idle": "2023-05-02T20:53:03.057578Z",
     "shell.execute_reply": "2023-05-02T20:53:03.057098Z",
     "shell.execute_reply.started": "2023-05-02T20:53:02.988692Z"
    },
    "tags": []
   },
   "outputs": [
    {
     "name": "stdout",
     "output_type": "stream",
     "text": [
      "+------------------+\n",
      "| sum(duration_hrs)|\n",
      "+------------------+\n",
      "|25289.600000000126|\n",
      "+------------------+\n",
      "\n"
     ]
    }
   ],
   "source": [
    "# Total hours in the air\n",
    "flights.withColumn(\"duration_hrs\", flights.air_time/60).na.fill(0).groupBy().sum(\"duration_hrs\").show()"
   ]
  },
  {
   "cell_type": "markdown",
   "id": "057caaba-7d3c-484b-b9c0-4793f8e04e64",
   "metadata": {},
   "source": [
    "## Grouping and Aggregating I"
   ]
  },
  {
   "cell_type": "code",
   "execution_count": 45,
   "id": "379a07a3-2977-4827-8715-4137921509c0",
   "metadata": {
    "execution": {
     "iopub.execute_input": "2023-05-02T20:53:03.058404Z",
     "iopub.status.busy": "2023-05-02T20:53:03.058095Z",
     "iopub.status.idle": "2023-05-02T20:53:03.222422Z",
     "shell.execute_reply": "2023-05-02T20:53:03.221727Z",
     "shell.execute_reply.started": "2023-05-02T20:53:03.058390Z"
    },
    "tags": []
   },
   "outputs": [
    {
     "name": "stdout",
     "output_type": "stream",
     "text": [
      "+-------+-----+\n",
      "|tailnum|count|\n",
      "+-------+-----+\n",
      "| N442AS|   38|\n",
      "| N102UW|    2|\n",
      "| N36472|    4|\n",
      "| N38451|    4|\n",
      "| N73283|    4|\n",
      "| N513UA|    2|\n",
      "| N954WN|    5|\n",
      "| N388DA|    3|\n",
      "| N567AA|    1|\n",
      "| N516UA|    2|\n",
      "| N927DN|    1|\n",
      "| N8322X|    1|\n",
      "| N466SW|    1|\n",
      "|  N6700|    1|\n",
      "| N607AS|   45|\n",
      "| N622SW|    4|\n",
      "| N584AS|   31|\n",
      "| N914WN|    4|\n",
      "| N654AW|    2|\n",
      "| N336NW|    1|\n",
      "+-------+-----+\n",
      "only showing top 20 rows\n",
      "\n"
     ]
    }
   ],
   "source": [
    "# Group by tailnum\n",
    "by_plane = flights.groupBy(\"tailnum\")\n",
    "# Number of flights each plane made\n",
    "by_plane.count().show()"
   ]
  },
  {
   "cell_type": "code",
   "execution_count": 46,
   "id": "094ca2c5-849f-465e-a019-e9c608eaa58c",
   "metadata": {
    "execution": {
     "iopub.execute_input": "2023-05-02T20:53:03.223129Z",
     "iopub.status.busy": "2023-05-02T20:53:03.222954Z",
     "iopub.status.idle": "2023-05-02T20:53:03.325414Z",
     "shell.execute_reply": "2023-05-02T20:53:03.324802Z",
     "shell.execute_reply.started": "2023-05-02T20:53:03.223112Z"
    },
    "tags": []
   },
   "outputs": [
    {
     "name": "stdout",
     "output_type": "stream",
     "text": [
      "+------+------------------+\n",
      "|origin|     avg(air_time)|\n",
      "+------+------------------+\n",
      "|   SEA| 160.4361496051259|\n",
      "|   PDX|137.11543248288737|\n",
      "+------+------------------+\n",
      "\n"
     ]
    }
   ],
   "source": [
    "# Group by origin\n",
    "by_origin = flights.na.drop(subset='air_time').groupBy(\"origin\")\n",
    "# Average duration of flights from PDX and SEA\n",
    "by_origin.avg(\"air_time\").show()"
   ]
  },
  {
   "cell_type": "markdown",
   "id": "4fc2d9cf-e79b-4fcf-963c-083d1cdbb9d4",
   "metadata": {},
   "source": [
    "## Grouping and Aggregating II"
   ]
  },
  {
   "cell_type": "code",
   "execution_count": 47,
   "id": "650419d9-a48e-41fe-b398-f2926098970c",
   "metadata": {
    "execution": {
     "iopub.execute_input": "2023-05-02T20:53:03.326132Z",
     "iopub.status.busy": "2023-05-02T20:53:03.325950Z",
     "iopub.status.idle": "2023-05-02T20:53:03.332339Z",
     "shell.execute_reply": "2023-05-02T20:53:03.331956Z",
     "shell.execute_reply.started": "2023-05-02T20:53:03.326115Z"
    },
    "tags": []
   },
   "outputs": [
    {
     "data": {
      "text/plain": [
       "<pyspark.sql.group.GroupedData at 0x7f25bc4aaa70>"
      ]
     },
     "execution_count": 47,
     "metadata": {},
     "output_type": "execute_result"
    }
   ],
   "source": [
    "# Import pyspark.sql.functions as F\n",
    "import pyspark.sql.functions as F\n",
    "\n",
    "# Group by month and dest\n",
    "by_month_dest = flights.groupBy('month', 'dest')\n",
    "by_month_dest"
   ]
  },
  {
   "cell_type": "code",
   "execution_count": 48,
   "id": "d7d937c7-5030-405d-87b3-9614c788a607",
   "metadata": {
    "execution": {
     "iopub.execute_input": "2023-05-02T20:53:03.332887Z",
     "iopub.status.busy": "2023-05-02T20:53:03.332770Z",
     "iopub.status.idle": "2023-05-02T20:53:03.448416Z",
     "shell.execute_reply": "2023-05-02T20:53:03.447993Z",
     "shell.execute_reply.started": "2023-05-02T20:53:03.332876Z"
    },
    "tags": []
   },
   "outputs": [
    {
     "name": "stdout",
     "output_type": "stream",
     "text": [
      "+-----+----+-------------------+\n",
      "|month|dest|     avg(dep_delay)|\n",
      "+-----+----+-------------------+\n",
      "|    4| PHX| 1.6833333333333333|\n",
      "|    1| RDM|             -1.625|\n",
      "|    5| ONT| 3.5555555555555554|\n",
      "|    7| OMA|               -6.5|\n",
      "|    8| MDW|               7.45|\n",
      "|    6| DEN|  5.418181818181818|\n",
      "|    5| IAD|               -4.0|\n",
      "|   12| COS|               -1.0|\n",
      "|   11| ANC|  7.529411764705882|\n",
      "|    5| AUS|              -0.75|\n",
      "|    5| COS| 11.666666666666666|\n",
      "|    2| PSP|                0.6|\n",
      "|    4| ORD|0.14285714285714285|\n",
      "|   10| DFW| 18.176470588235293|\n",
      "|   10| DCA|               -1.5|\n",
      "|    8| JNU|             18.125|\n",
      "|   11| KOA|               -1.0|\n",
      "|   10| OMA|-0.6666666666666666|\n",
      "|    6| ONT|              9.625|\n",
      "|    3| MSP|                3.2|\n",
      "+-----+----+-------------------+\n",
      "only showing top 20 rows\n",
      "\n"
     ]
    }
   ],
   "source": [
    "# Average departure delay by month and destination\n",
    "by_month_dest.avg('dep_delay').show()"
   ]
  },
  {
   "cell_type": "code",
   "execution_count": 49,
   "id": "fda4b161-24e3-4087-92e4-4fe0046c62c2",
   "metadata": {
    "execution": {
     "iopub.execute_input": "2023-05-02T20:53:03.449104Z",
     "iopub.status.busy": "2023-05-02T20:53:03.448939Z",
     "iopub.status.idle": "2023-05-02T20:53:03.581376Z",
     "shell.execute_reply": "2023-05-02T20:53:03.580918Z",
     "shell.execute_reply.started": "2023-05-02T20:53:03.449091Z"
    },
    "tags": []
   },
   "outputs": [
    {
     "name": "stdout",
     "output_type": "stream",
     "text": [
      "+-----+----+----------------------+\n",
      "|month|dest|stddev_samp(dep_delay)|\n",
      "+-----+----+----------------------+\n",
      "|    4| PHX|    15.003380033491737|\n",
      "|    1| RDM|     8.830749846821778|\n",
      "|    5| ONT|    18.895178691342874|\n",
      "|    7| OMA|    2.1213203435596424|\n",
      "|    8| MDW|    14.467659032985843|\n",
      "|    6| DEN|    13.536905534420026|\n",
      "|    5| IAD|    3.8078865529319543|\n",
      "|   12| COS|    1.4142135623730951|\n",
      "|   11| ANC|    18.604716401245316|\n",
      "|    5| AUS|     4.031128874149275|\n",
      "|    5| COS|     33.38163167571851|\n",
      "|    2| PSP|     4.878524367060187|\n",
      "|    4| ORD|    11.593882803741764|\n",
      "|   10| DFW|     45.53019017606675|\n",
      "|   10| DCA|    0.7071067811865476|\n",
      "|    8| JNU|     40.79368823727514|\n",
      "|   11| KOA|    1.8708286933869707|\n",
      "|   10| OMA|    5.8594652770823155|\n",
      "|    6| ONT|     25.98316762829351|\n",
      "|    3| MSP|    21.556779370817555|\n",
      "+-----+----+----------------------+\n",
      "only showing top 20 rows\n",
      "\n"
     ]
    }
   ],
   "source": [
    "# Standard deviation of departure delay\n",
    "by_month_dest.agg(F.stddev('dep_delay')).show()"
   ]
  },
  {
   "cell_type": "markdown",
   "id": "3d3c3dc4-1010-463b-87da-59b623e8c8b5",
   "metadata": {},
   "source": [
    "## Joining"
   ]
  },
  {
   "cell_type": "code",
   "execution_count": 50,
   "id": "e3c7863b-4cb5-41bb-827e-ed537a3a0d9d",
   "metadata": {
    "execution": {
     "iopub.execute_input": "2023-05-02T20:53:03.581952Z",
     "iopub.status.busy": "2023-05-02T20:53:03.581830Z",
     "iopub.status.idle": "2023-05-02T20:53:03.611994Z",
     "shell.execute_reply": "2023-05-02T20:53:03.611636Z",
     "shell.execute_reply.started": "2023-05-02T20:53:03.581941Z"
    },
    "tags": []
   },
   "outputs": [
    {
     "name": "stdout",
     "output_type": "stream",
     "text": [
      "+---+--------------------+----------------+-----------------+----+---+---+\n",
      "|faa|                name|             lat|              lon| alt| tz|dst|\n",
      "+---+--------------------+----------------+-----------------+----+---+---+\n",
      "|04G|   Lansdowne Airport|      41.1304722|      -80.6195833|1044| -5|  A|\n",
      "|06A|Moton Field Munic...|      32.4605722|      -85.6800278| 264| -5|  A|\n",
      "|06C| Schaumburg Regional|      41.9893408|      -88.1012428| 801| -6|  A|\n",
      "|06N|     Randall Airport|       41.431912|      -74.3915611| 523| -5|  A|\n",
      "|09J|Jekyll Island Air...|      31.0744722|      -81.4277778|  11| -4|  A|\n",
      "|0A9|Elizabethton Muni...|      36.3712222|      -82.1734167|1593| -4|  A|\n",
      "|0G6|Williams County A...|      41.4673056|      -84.5067778| 730| -5|  A|\n",
      "|0G7|Finger Lakes Regi...|      42.8835647|      -76.7812318| 492| -5|  A|\n",
      "|0P2|Shoestring Aviati...|      39.7948244|      -76.6471914|1000| -5|  U|\n",
      "|0S9|Jefferson County ...|      48.0538086|     -122.8106436| 108| -8|  A|\n",
      "|0W3|Harford County Ai...|      39.5668378|      -76.2024028| 409| -5|  A|\n",
      "|10C|  Galt Field Airport|      42.4028889|      -88.3751111| 875| -6|  U|\n",
      "|17G|Port Bucyrus-Craw...|      40.7815556|      -82.9748056|1003| -5|  A|\n",
      "|19A|Jackson County Ai...|      34.1758638|      -83.5615972| 951| -4|  U|\n",
      "|1A3|Martin Campbell F...|      35.0158056|      -84.3468333|1789| -4|  A|\n",
      "|1B9| Mansfield Municipal|      42.0001331|      -71.1967714| 122| -5|  A|\n",
      "|1C9|Frazier Lake Airpark|54.0133333333333|-124.768333333333| 152| -8|  A|\n",
      "|1CS|Clow Internationa...|      41.6959744|      -88.1292306| 670| -6|  U|\n",
      "|1G3|  Kent State Airport|      41.1513889|      -81.4151111|1134| -4|  A|\n",
      "|1OH|     Fortman Airport|      40.5553253|      -84.3866186| 885| -5|  U|\n",
      "+---+--------------------+----------------+-----------------+----+---+---+\n",
      "only showing top 20 rows\n",
      "\n"
     ]
    }
   ],
   "source": [
    "# Examine the data\n",
    "airports.show()"
   ]
  },
  {
   "cell_type": "code",
   "execution_count": 51,
   "id": "0b69266a-7d5d-4dda-99aa-6b45864de179",
   "metadata": {
    "execution": {
     "iopub.execute_input": "2023-05-02T20:53:03.612600Z",
     "iopub.status.busy": "2023-05-02T20:53:03.612409Z",
     "iopub.status.idle": "2023-05-02T20:53:03.645344Z",
     "shell.execute_reply": "2023-05-02T20:53:03.644963Z",
     "shell.execute_reply.started": "2023-05-02T20:53:03.612589Z"
    }
   },
   "outputs": [
    {
     "name": "stdout",
     "output_type": "stream",
     "text": [
      "+----+--------------------+----------------+-----------------+----+---+---+\n",
      "|dest|                name|             lat|              lon| alt| tz|dst|\n",
      "+----+--------------------+----------------+-----------------+----+---+---+\n",
      "| 04G|   Lansdowne Airport|      41.1304722|      -80.6195833|1044| -5|  A|\n",
      "| 06A|Moton Field Munic...|      32.4605722|      -85.6800278| 264| -5|  A|\n",
      "| 06C| Schaumburg Regional|      41.9893408|      -88.1012428| 801| -6|  A|\n",
      "| 06N|     Randall Airport|       41.431912|      -74.3915611| 523| -5|  A|\n",
      "| 09J|Jekyll Island Air...|      31.0744722|      -81.4277778|  11| -4|  A|\n",
      "| 0A9|Elizabethton Muni...|      36.3712222|      -82.1734167|1593| -4|  A|\n",
      "| 0G6|Williams County A...|      41.4673056|      -84.5067778| 730| -5|  A|\n",
      "| 0G7|Finger Lakes Regi...|      42.8835647|      -76.7812318| 492| -5|  A|\n",
      "| 0P2|Shoestring Aviati...|      39.7948244|      -76.6471914|1000| -5|  U|\n",
      "| 0S9|Jefferson County ...|      48.0538086|     -122.8106436| 108| -8|  A|\n",
      "| 0W3|Harford County Ai...|      39.5668378|      -76.2024028| 409| -5|  A|\n",
      "| 10C|  Galt Field Airport|      42.4028889|      -88.3751111| 875| -6|  U|\n",
      "| 17G|Port Bucyrus-Craw...|      40.7815556|      -82.9748056|1003| -5|  A|\n",
      "| 19A|Jackson County Ai...|      34.1758638|      -83.5615972| 951| -4|  U|\n",
      "| 1A3|Martin Campbell F...|      35.0158056|      -84.3468333|1789| -4|  A|\n",
      "| 1B9| Mansfield Municipal|      42.0001331|      -71.1967714| 122| -5|  A|\n",
      "| 1C9|Frazier Lake Airpark|54.0133333333333|-124.768333333333| 152| -8|  A|\n",
      "| 1CS|Clow Internationa...|      41.6959744|      -88.1292306| 670| -6|  U|\n",
      "| 1G3|  Kent State Airport|      41.1513889|      -81.4151111|1134| -4|  A|\n",
      "| 1OH|     Fortman Airport|      40.5553253|      -84.3866186| 885| -5|  U|\n",
      "+----+--------------------+----------------+-----------------+----+---+---+\n",
      "only showing top 20 rows\n",
      "\n"
     ]
    }
   ],
   "source": [
    "# Rename the faa column\n",
    "airports = airports.withColumnRenamed('faa', 'dest')\n",
    "airports.show()"
   ]
  },
  {
   "cell_type": "code",
   "execution_count": 52,
   "id": "5533c679-d26e-4278-ab5b-261d51341390",
   "metadata": {
    "execution": {
     "iopub.execute_input": "2023-05-02T20:53:03.645918Z",
     "iopub.status.busy": "2023-05-02T20:53:03.645727Z",
     "iopub.status.idle": "2023-05-02T20:53:03.796434Z",
     "shell.execute_reply": "2023-05-02T20:53:03.796097Z",
     "shell.execute_reply.started": "2023-05-02T20:53:03.645906Z"
    },
    "tags": []
   },
   "outputs": [
    {
     "name": "stdout",
     "output_type": "stream",
     "text": [
      "+----+----+-----+---+--------+---------+--------+---------+-------+-------+------+------+--------+--------+----+------+------------------+--------------------+---------+-----------+----+---+---+\n",
      "|dest|year|month|day|dep_time|dep_delay|arr_time|arr_delay|carrier|tailnum|flight|origin|air_time|distance|hour|minute|      duration_hrs|                name|      lat|        lon| alt| tz|dst|\n",
      "+----+----+-----+---+--------+---------+--------+---------+-------+-------+------+------+--------+--------+----+------+------------------+--------------------+---------+-----------+----+---+---+\n",
      "| LAX|2014|   12|  8|   658.0|     -7.0|   935.0|     -5.0|     VX| N846VA|  1780|   SEA|   132.0|     954| 6.0|  58.0|               2.2|    Los Angeles Intl|33.942536|-118.408075| 126| -8|  A|\n",
      "| HNL|2014|    1| 22|  1040.0|      5.0|  1505.0|      5.0|     AS| N559AS|   851|   SEA|   360.0|    2677|10.0|  40.0|               6.0|       Honolulu Intl|21.318681|-157.922428|  13|-10|  N|\n",
      "| SFO|2014|    3|  9|  1443.0|     -2.0|  1652.0|      2.0|     VX| N847VA|   755|   SEA|   111.0|     679|14.0|  43.0|              1.85|  San Francisco Intl|37.618972|-122.374889|  13| -8|  A|\n",
      "| SJC|2014|    4|  9|  1705.0|     45.0|  1839.0|     34.0|     WN| N360SW|   344|   PDX|    83.0|     569|17.0|   5.0|1.3833333333333333|Norman Y Mineta S...|  37.3626|-121.929022|  62| -8|  A|\n",
      "| BUR|2014|    3|  9|   754.0|     -1.0|  1015.0|      1.0|     AS| N612AS|   522|   SEA|   127.0|     937| 7.0|  54.0|2.1166666666666667|            Bob Hope|34.200667|-118.358667| 778| -8|  A|\n",
      "| DEN|2014|    1| 15|  1037.0|      7.0|  1352.0|      2.0|     WN| N646SW|    48|   PDX|   121.0|     991|10.0|  37.0|2.0166666666666666|         Denver Intl|39.861656|-104.673178|5431| -7|  A|\n",
      "| OAK|2014|    7|  2|   847.0|     42.0|  1041.0|     51.0|     WN| N422WN|  1520|   PDX|    90.0|     543| 8.0|  47.0|               1.5|Metropolitan Oakl...|37.721278|-122.220722|   9| -8|  A|\n",
      "| SFO|2014|    5| 12|  1655.0|     -5.0|  1842.0|    -18.0|     VX| N361VA|   755|   SEA|    98.0|     679|16.0|  55.0|1.6333333333333333|  San Francisco Intl|37.618972|-122.374889|  13| -8|  A|\n",
      "| SAN|2014|    4| 19|  1236.0|     -4.0|  1508.0|     -7.0|     AS| N309AS|   490|   SEA|   135.0|    1050|12.0|  36.0|              2.25|      San Diego Intl|32.733556|-117.189667|  17| -8|  A|\n",
      "| ORD|2014|   11| 19|  1812.0|     -3.0|  2352.0|     -4.0|     AS| N564AS|    26|   SEA|   198.0|    1721|18.0|  12.0|               3.3|  Chicago Ohare Intl|41.978603| -87.904842| 668| -6|  A|\n",
      "| LAX|2014|   11|  8|  1653.0|     -2.0|  1924.0|     -1.0|     AS| N323AS|   448|   SEA|   130.0|     954|16.0|  53.0|2.1666666666666665|    Los Angeles Intl|33.942536|-118.408075| 126| -8|  A|\n",
      "| PHX|2014|    8|  3|  1120.0|      0.0|  1415.0|      2.0|     AS| N305AS|   656|   SEA|   154.0|    1107|11.0|  20.0| 2.566666666666667|Phoenix Sky Harbo...|33.434278|-112.011583|1135| -7|  N|\n",
      "| LAS|2014|   10| 30|   811.0|     21.0|  1038.0|     29.0|     AS| N433AS|   608|   SEA|   127.0|     867| 8.0|  11.0|2.1166666666666667|      Mc Carran Intl|36.080056| -115.15225|2141| -8|  A|\n",
      "| ANC|2014|   11| 12|  2346.0|     -4.0|   217.0|    -28.0|     AS| N765AS|   121|   SEA|   183.0|    1448|23.0|  46.0|              3.05|Ted Stevens Ancho...|61.174361|-149.996361| 152| -9|  A|\n",
      "| SFO|2014|   10| 31|  1314.0|     89.0|  1544.0|    111.0|     AS| N713AS|   306|   SEA|   129.0|     679|13.0|  14.0|              2.15|  San Francisco Intl|37.618972|-122.374889|  13| -8|  A|\n",
      "| SFO|2014|    1| 29|  2009.0|      3.0|  2159.0|      9.0|     UA| N27205|  1458|   PDX|    90.0|     550|20.0|   9.0|               1.5|  San Francisco Intl|37.618972|-122.374889|  13| -8|  A|\n",
      "| SMF|2014|   12| 17|  2015.0|     50.0|  2150.0|     41.0|     AS| N626AS|   368|   SEA|    76.0|     605|20.0|  15.0|1.2666666666666666|     Sacramento Intl|38.695417|-121.590778|  27| -8|  A|\n",
      "| MDW|2014|    8| 11|  1017.0|     -3.0|  1613.0|     -7.0|     WN| N8634A|   827|   SEA|   216.0|    1733|10.0|  17.0|               3.6| Chicago Midway Intl|41.785972| -87.752417| 620| -6|  A|\n",
      "| BOS|2014|    1| 13|  2156.0|     -9.0|   607.0|    -15.0|     AS| N597AS|    24|   SEA|   290.0|    2496|21.0|  56.0| 4.833333333333333|General Edward La...|42.364347| -71.005181|  19| -5|  A|\n",
      "| BUR|2014|    6|  5|  1733.0|    -12.0|  1945.0|    -10.0|     OO| N215AG|  3488|   PDX|   111.0|     817|17.0|  33.0|              1.85|            Bob Hope|34.200667|-118.358667| 778| -8|  A|\n",
      "+----+----+-----+---+--------+---------+--------+---------+-------+-------+------+------+--------+--------+----+------+------------------+--------------------+---------+-----------+----+---+---+\n",
      "only showing top 20 rows\n",
      "\n"
     ]
    }
   ],
   "source": [
    "# Join the DataFrames\n",
    "flights_with_airports = flights.join(airports, on='dest', how='leftouter')\n",
    "# Examine the new DataFrame\n",
    "flights_with_airports.show()"
   ]
  },
  {
   "cell_type": "markdown",
   "id": "8d15e63b-ae7b-4484-895f-c3ffef8398cc",
   "metadata": {},
   "source": [
    "## Join the DataFrames"
   ]
  },
  {
   "cell_type": "markdown",
   "id": "5a4ca3cd-c575-4a84-91aa-2e4c26bacf89",
   "metadata": {
    "tags": []
   },
   "source": [
    "# Getting started with machine learning pipelines"
   ]
  },
  {
   "cell_type": "code",
   "execution_count": 53,
   "id": "4398874e-4943-4d3f-8d92-b5985cdb719a",
   "metadata": {
    "execution": {
     "iopub.execute_input": "2023-05-02T20:53:03.796904Z",
     "iopub.status.busy": "2023-05-02T20:53:03.796796Z",
     "iopub.status.idle": "2023-05-02T20:53:03.806711Z",
     "shell.execute_reply": "2023-05-02T20:53:03.806265Z",
     "shell.execute_reply.started": "2023-05-02T20:53:03.796894Z"
    },
    "tags": []
   },
   "outputs": [],
   "source": [
    "planes = spark.table('planes')\n",
    "# Rename year column\n",
    "planes = planes.withColumnRenamed('year', 'plane_year')\n",
    "# Join the DataFrames\n",
    "model_data = flights.join(planes, on='tailnum', how=\"leftouter\")"
   ]
  },
  {
   "cell_type": "code",
   "execution_count": 54,
   "id": "29dde80d-b9d0-44db-853b-d0babcce33de",
   "metadata": {
    "execution": {
     "iopub.execute_input": "2023-05-02T20:53:03.807247Z",
     "iopub.status.busy": "2023-05-02T20:53:03.807138Z",
     "iopub.status.idle": "2023-05-02T20:53:03.924466Z",
     "shell.execute_reply": "2023-05-02T20:53:03.924087Z",
     "shell.execute_reply.started": "2023-05-02T20:53:03.807236Z"
    },
    "tags": []
   },
   "outputs": [
    {
     "name": "stdout",
     "output_type": "stream",
     "text": [
      "+-------+----+-----+---+--------+---------+--------+---------+-------+------+------+----+--------+--------+----+------+------------------+----------+--------------------+--------------+-----------+-------+-----+-----+---------+\n",
      "|tailnum|year|month|day|dep_time|dep_delay|arr_time|arr_delay|carrier|flight|origin|dest|air_time|distance|hour|minute|      duration_hrs|plane_year|                type|  manufacturer|      model|engines|seats|speed|   engine|\n",
      "+-------+----+-----+---+--------+---------+--------+---------+-------+------+------+----+--------+--------+----+------+------------------+----------+--------------------+--------------+-----------+-------+-----+-----+---------+\n",
      "| N846VA|2014|   12|  8|   658.0|     -7.0|   935.0|     -5.0|     VX|  1780|   SEA| LAX|   132.0|     954| 6.0|  58.0|               2.2|    2011.0|Fixed wing multi ...|        AIRBUS|   A320-214|      2|  182|  NaN|Turbo-fan|\n",
      "| N559AS|2014|    1| 22|  1040.0|      5.0|  1505.0|      5.0|     AS|   851|   SEA| HNL|   360.0|    2677|10.0|  40.0|               6.0|    2006.0|Fixed wing multi ...|        BOEING|    737-890|      2|  149|  NaN|Turbo-fan|\n",
      "| N847VA|2014|    3|  9|  1443.0|     -2.0|  1652.0|      2.0|     VX|   755|   SEA| SFO|   111.0|     679|14.0|  43.0|              1.85|    2011.0|Fixed wing multi ...|        AIRBUS|   A320-214|      2|  182|  NaN|Turbo-fan|\n",
      "| N360SW|2014|    4|  9|  1705.0|     45.0|  1839.0|     34.0|     WN|   344|   PDX| SJC|    83.0|     569|17.0|   5.0|1.3833333333333333|    1992.0|Fixed wing multi ...|        BOEING|    737-3H4|      2|  149|  NaN|Turbo-fan|\n",
      "| N612AS|2014|    3|  9|   754.0|     -1.0|  1015.0|      1.0|     AS|   522|   SEA| BUR|   127.0|     937| 7.0|  54.0|2.1166666666666667|    1999.0|Fixed wing multi ...|        BOEING|    737-790|      2|  151|  NaN|Turbo-jet|\n",
      "| N646SW|2014|    1| 15|  1037.0|      7.0|  1352.0|      2.0|     WN|    48|   PDX| DEN|   121.0|     991|10.0|  37.0|2.0166666666666666|    1997.0|Fixed wing multi ...|        BOEING|    737-3H4|      2|  149|  NaN|Turbo-fan|\n",
      "| N422WN|2014|    7|  2|   847.0|     42.0|  1041.0|     51.0|     WN|  1520|   PDX| OAK|    90.0|     543| 8.0|  47.0|               1.5|    2002.0|Fixed wing multi ...|        BOEING|    737-7H4|      2|  140|  NaN|Turbo-fan|\n",
      "| N361VA|2014|    5| 12|  1655.0|     -5.0|  1842.0|    -18.0|     VX|   755|   SEA| SFO|    98.0|     679|16.0|  55.0|1.6333333333333333|    2013.0|Fixed wing multi ...|        AIRBUS|   A320-214|      2|  182|  NaN|Turbo-fan|\n",
      "| N309AS|2014|    4| 19|  1236.0|     -4.0|  1508.0|     -7.0|     AS|   490|   SEA| SAN|   135.0|    1050|12.0|  36.0|              2.25|    2001.0|Fixed wing multi ...|        BOEING|    737-990|      2|  149|  NaN|Turbo-jet|\n",
      "| N564AS|2014|   11| 19|  1812.0|     -3.0|  2352.0|     -4.0|     AS|    26|   SEA| ORD|   198.0|    1721|18.0|  12.0|               3.3|    2006.0|Fixed wing multi ...|        BOEING|    737-890|      2|  149|  NaN|Turbo-fan|\n",
      "| N323AS|2014|   11|  8|  1653.0|     -2.0|  1924.0|     -1.0|     AS|   448|   SEA| LAX|   130.0|     954|16.0|  53.0|2.1666666666666665|    2004.0|Fixed wing multi ...|        BOEING|    737-990|      2|  149|  NaN|Turbo-jet|\n",
      "| N305AS|2014|    8|  3|  1120.0|      0.0|  1415.0|      2.0|     AS|   656|   SEA| PHX|   154.0|    1107|11.0|  20.0| 2.566666666666667|    2001.0|Fixed wing multi ...|        BOEING|    737-990|      2|  149|  NaN|Turbo-jet|\n",
      "| N433AS|2014|   10| 30|   811.0|     21.0|  1038.0|     29.0|     AS|   608|   SEA| LAS|   127.0|     867| 8.0|  11.0|2.1166666666666667|    2013.0|Fixed wing multi ...|        BOEING|  737-990ER|      2|  222|  NaN|Turbo-fan|\n",
      "| N765AS|2014|   11| 12|  2346.0|     -4.0|   217.0|    -28.0|     AS|   121|   SEA| ANC|   183.0|    1448|23.0|  46.0|              3.05|    1992.0|Fixed wing multi ...|        BOEING|    737-4Q8|      2|  149|  NaN|Turbo-fan|\n",
      "| N713AS|2014|   10| 31|  1314.0|     89.0|  1544.0|    111.0|     AS|   306|   SEA| SFO|   129.0|     679|13.0|  14.0|              2.15|    1999.0|Fixed wing multi ...|        BOEING|    737-490|      2|  149|  NaN|Turbo-jet|\n",
      "| N27205|2014|    1| 29|  2009.0|      3.0|  2159.0|      9.0|     UA|  1458|   PDX| SFO|    90.0|     550|20.0|   9.0|               1.5|    2000.0|Fixed wing multi ...|        BOEING|    737-824|      2|  149|  NaN|Turbo-fan|\n",
      "| N626AS|2014|   12| 17|  2015.0|     50.0|  2150.0|     41.0|     AS|   368|   SEA| SMF|    76.0|     605|20.0|  15.0|1.2666666666666666|    2001.0|Fixed wing multi ...|        BOEING|    737-790|      2|  151|  NaN|Turbo-jet|\n",
      "| N8634A|2014|    8| 11|  1017.0|     -3.0|  1613.0|     -7.0|     WN|   827|   SEA| MDW|   216.0|    1733|10.0|  17.0|               3.6|    2014.0|Fixed wing multi ...|        BOEING|    737-8H4|      2|  140|  NaN|Turbo-fan|\n",
      "| N597AS|2014|    1| 13|  2156.0|     -9.0|   607.0|    -15.0|     AS|    24|   SEA| BOS|   290.0|    2496|21.0|  56.0| 4.833333333333333|    2008.0|Fixed wing multi ...|        BOEING|    737-890|      2|  149|  NaN|Turbo-fan|\n",
      "| N215AG|2014|    6|  5|  1733.0|    -12.0|  1945.0|    -10.0|     OO|  3488|   PDX| BUR|   111.0|     817|17.0|  33.0|              1.85|    2001.0|Fixed wing multi ...|BOMBARDIER INC|CL-600-2C10|      2|   80|  NaN|Turbo-fan|\n",
      "+-------+----+-----+---+--------+---------+--------+---------+-------+------+------+----+--------+--------+----+------+------------------+----------+--------------------+--------------+-----------+-------+-----+-----+---------+\n",
      "only showing top 20 rows\n",
      "\n"
     ]
    }
   ],
   "source": [
    "model_data.show()"
   ]
  },
  {
   "cell_type": "markdown",
   "id": "c5ea6989-9527-4ff1-b9f9-8d5c5963c4c5",
   "metadata": {},
   "source": [
    "## String to integer"
   ]
  },
  {
   "cell_type": "code",
   "execution_count": 55,
   "id": "e4a78c58-b59d-4c66-9280-52ea3df558fd",
   "metadata": {
    "execution": {
     "iopub.execute_input": "2023-05-02T20:53:03.925156Z",
     "iopub.status.busy": "2023-05-02T20:53:03.924880Z",
     "iopub.status.idle": "2023-05-02T20:53:03.946837Z",
     "shell.execute_reply": "2023-05-02T20:53:03.946448Z",
     "shell.execute_reply.started": "2023-05-02T20:53:03.925144Z"
    },
    "tags": []
   },
   "outputs": [],
   "source": [
    "# Cast the columns to integers\n",
    "model_data = model_data.withColumn(\"arr_delay\", model_data.arr_delay.cast('integer'))\n",
    "model_data = model_data.withColumn(\"air_time\", model_data.air_time.cast('integer'))\n",
    "model_data = model_data.withColumn(\"month\", model_data.month.cast('integer'))\n",
    "model_data = model_data.withColumn(\"plane_year\", model_data.plane_year.cast('integer'))"
   ]
  },
  {
   "cell_type": "markdown",
   "id": "8749802c-3e3a-401f-98ac-2825649e2e8f",
   "metadata": {},
   "source": [
    "## Create a new column"
   ]
  },
  {
   "cell_type": "code",
   "execution_count": 56,
   "id": "eaea983c-6a9c-40e3-99e6-7f1b0f1cebca",
   "metadata": {
    "execution": {
     "iopub.execute_input": "2023-05-02T20:53:03.947657Z",
     "iopub.status.busy": "2023-05-02T20:53:03.947380Z",
     "iopub.status.idle": "2023-05-02T20:53:03.953642Z",
     "shell.execute_reply": "2023-05-02T20:53:03.953234Z",
     "shell.execute_reply.started": "2023-05-02T20:53:03.947642Z"
    }
   },
   "outputs": [],
   "source": [
    "# Create the column plane_age\n",
    "model_data = model_data.withColumn(\"plane_age\", model_data.year - model_data.plane_year)"
   ]
  },
  {
   "cell_type": "markdown",
   "id": "6b30dd4d-dfd7-4bb7-a09b-776316f46fc3",
   "metadata": {},
   "source": [
    "## Making a Boolean"
   ]
  },
  {
   "cell_type": "code",
   "execution_count": 57,
   "id": "5ad82e76-f6a8-4d7b-8556-b807794b2f47",
   "metadata": {
    "execution": {
     "iopub.execute_input": "2023-05-02T20:53:03.954390Z",
     "iopub.status.busy": "2023-05-02T20:53:03.954218Z",
     "iopub.status.idle": "2023-05-02T20:53:03.971739Z",
     "shell.execute_reply": "2023-05-02T20:53:03.971356Z",
     "shell.execute_reply.started": "2023-05-02T20:53:03.954372Z"
    },
    "tags": []
   },
   "outputs": [],
   "source": [
    "# Create is_late\n",
    "model_data = model_data.withColumn(\"is_late\", model_data.arr_delay > 0)\n",
    "# Convert to an integer\n",
    "model_data = model_data.withColumn(\"label\", model_data.is_late.cast('integer'))\n",
    "# Remove missing values\n",
    "model_data = model_data.filter(\"arr_delay is not NULL and dep_delay is not NULL and air_time is not NULL and plane_year is not NULL\")"
   ]
  },
  {
   "cell_type": "markdown",
   "id": "56431657-46d6-4db4-a470-ae79665c580a",
   "metadata": {},
   "source": [
    "## Strings and factors"
   ]
  },
  {
   "cell_type": "code",
   "execution_count": 58,
   "id": "de86af55-2911-4c1d-a60b-ad2e41fed20f",
   "metadata": {
    "execution": {
     "iopub.execute_input": "2023-05-02T20:53:03.972583Z",
     "iopub.status.busy": "2023-05-02T20:53:03.972319Z",
     "iopub.status.idle": "2023-05-02T20:53:04.019348Z",
     "shell.execute_reply": "2023-05-02T20:53:04.018848Z",
     "shell.execute_reply.started": "2023-05-02T20:53:03.972566Z"
    },
    "tags": []
   },
   "outputs": [],
   "source": [
    "from pyspark.ml.feature import StringIndexer, OneHotEncoder"
   ]
  },
  {
   "cell_type": "markdown",
   "id": "6c213ec5-2aef-4a40-abc9-f1af9b3b81f2",
   "metadata": {},
   "source": [
    "### Carrier"
   ]
  },
  {
   "cell_type": "code",
   "execution_count": 59,
   "id": "37f34bb1-5943-4486-9896-6147bbe33575",
   "metadata": {
    "execution": {
     "iopub.execute_input": "2023-05-02T20:53:04.019971Z",
     "iopub.status.busy": "2023-05-02T20:53:04.019820Z",
     "iopub.status.idle": "2023-05-02T20:53:04.036265Z",
     "shell.execute_reply": "2023-05-02T20:53:04.035770Z",
     "shell.execute_reply.started": "2023-05-02T20:53:04.019955Z"
    },
    "tags": []
   },
   "outputs": [],
   "source": [
    "# Create a StringIndexer\n",
    "carr_indexer = StringIndexer(inputCol='carrier', outputCol='carrier_index')\n",
    "# Create a OneHotEncoder\n",
    "carr_encoder = OneHotEncoder(inputCol='carrier_index', outputCol='carrier_fact')"
   ]
  },
  {
   "cell_type": "markdown",
   "id": "b86f8059-637e-4772-bc7b-9fe414e56166",
   "metadata": {},
   "source": [
    "### Destination"
   ]
  },
  {
   "cell_type": "code",
   "execution_count": 60,
   "id": "b686de5e-6f75-4011-87f8-031971091edd",
   "metadata": {
    "execution": {
     "iopub.execute_input": "2023-05-02T20:53:04.037184Z",
     "iopub.status.busy": "2023-05-02T20:53:04.036821Z",
     "iopub.status.idle": "2023-05-02T20:53:04.043548Z",
     "shell.execute_reply": "2023-05-02T20:53:04.043132Z",
     "shell.execute_reply.started": "2023-05-02T20:53:04.037167Z"
    },
    "tags": []
   },
   "outputs": [],
   "source": [
    "# Create a StringIndexer\n",
    "dest_indexer = StringIndexer(inputCol='dest', outputCol='dest_index')\n",
    "# Create a OneHotEncoder\n",
    "dest_encoder = OneHotEncoder(inputCol='dest_index', outputCol='dest_fact')"
   ]
  },
  {
   "cell_type": "markdown",
   "id": "16f46e6c-0ca9-4e1c-a6f6-9f01c2c9c352",
   "metadata": {},
   "source": [
    "## Assemble a vector"
   ]
  },
  {
   "cell_type": "code",
   "execution_count": 61,
   "id": "8fc02d6b-5cd2-4fa2-926f-aa4b8cd606aa",
   "metadata": {
    "execution": {
     "iopub.execute_input": "2023-05-02T20:53:04.044043Z",
     "iopub.status.busy": "2023-05-02T20:53:04.043940Z",
     "iopub.status.idle": "2023-05-02T20:53:04.046019Z",
     "shell.execute_reply": "2023-05-02T20:53:04.045597Z",
     "shell.execute_reply.started": "2023-05-02T20:53:04.044033Z"
    }
   },
   "outputs": [],
   "source": [
    "from pyspark.ml.feature import VectorAssembler"
   ]
  },
  {
   "cell_type": "code",
   "execution_count": 62,
   "id": "7da093bb-6f25-4f76-bba9-ace4679a12f3",
   "metadata": {
    "execution": {
     "iopub.execute_input": "2023-05-02T20:53:04.046561Z",
     "iopub.status.busy": "2023-05-02T20:53:04.046399Z",
     "iopub.status.idle": "2023-05-02T20:53:04.052082Z",
     "shell.execute_reply": "2023-05-02T20:53:04.051687Z",
     "shell.execute_reply.started": "2023-05-02T20:53:04.046551Z"
    },
    "tags": []
   },
   "outputs": [],
   "source": [
    "# Make a VectorAssembler\n",
    "vec_assembler = VectorAssembler(inputCols=[\"month\", \"air_time\", \"carrier_fact\", \"dest_fact\", \"plane_age\"],\n",
    "                                outputCol='features')"
   ]
  },
  {
   "cell_type": "markdown",
   "id": "ae43a517-33de-4125-a52d-1196f26622f7",
   "metadata": {},
   "source": [
    "## Create the pipeline"
   ]
  },
  {
   "cell_type": "code",
   "execution_count": 63,
   "id": "952abc95-2e98-4d30-8491-b62d8b332945",
   "metadata": {
    "execution": {
     "iopub.execute_input": "2023-05-02T20:53:04.052896Z",
     "iopub.status.busy": "2023-05-02T20:53:04.052646Z",
     "iopub.status.idle": "2023-05-02T20:53:04.055168Z",
     "shell.execute_reply": "2023-05-02T20:53:04.054872Z",
     "shell.execute_reply.started": "2023-05-02T20:53:04.052879Z"
    }
   },
   "outputs": [],
   "source": [
    "# Import Pipeline\n",
    "from pyspark.ml import Pipeline\n",
    "\n",
    "# Make the pipeline\n",
    "flights_pipe = Pipeline(stages=[dest_indexer, dest_encoder, carr_indexer, carr_encoder, vec_assembler])"
   ]
  },
  {
   "cell_type": "markdown",
   "id": "9f2dd1d4-94ab-405d-9ef1-7e1d2ce20144",
   "metadata": {},
   "source": [
    "## Transform the data"
   ]
  },
  {
   "cell_type": "code",
   "execution_count": 64,
   "id": "729854de-4c82-43f6-b702-78b0c29f310b",
   "metadata": {
    "execution": {
     "iopub.execute_input": "2023-05-02T20:53:04.055821Z",
     "iopub.status.busy": "2023-05-02T20:53:04.055576Z",
     "iopub.status.idle": "2023-05-02T20:53:04.683653Z",
     "shell.execute_reply": "2023-05-02T20:53:04.683325Z",
     "shell.execute_reply.started": "2023-05-02T20:53:04.055809Z"
    }
   },
   "outputs": [],
   "source": [
    "# Fit and transform the data\n",
    "piped_data = flights_pipe.fit(model_data).transform(model_data)"
   ]
  },
  {
   "cell_type": "code",
   "execution_count": 65,
   "id": "af4dee19-9c4d-4859-b56b-8c4341370646",
   "metadata": {
    "execution": {
     "iopub.execute_input": "2023-05-02T20:53:04.684375Z",
     "iopub.status.busy": "2023-05-02T20:53:04.684122Z",
     "iopub.status.idle": "2023-05-02T20:53:04.942949Z",
     "shell.execute_reply": "2023-05-02T20:53:04.942380Z",
     "shell.execute_reply.started": "2023-05-02T20:53:04.684360Z"
    }
   },
   "outputs": [
    {
     "name": "stderr",
     "output_type": "stream",
     "text": [
      "23/05/02 17:53:04 WARN package: Truncated the string representation of a plan since it was too large. This behavior can be adjusted by setting 'spark.sql.debug.maxToStringFields'.\n"
     ]
    },
    {
     "name": "stdout",
     "output_type": "stream",
     "text": [
      "+-------+----+-----+---+--------+---------+--------+---------+-------+------+------+----+--------+--------+----+------+------------------+----------+--------------------+--------------+-----------+-------+-----+-----+---------+---------+-------+-----+----------+---------------+-------------+--------------+--------------------+\n",
      "|tailnum|year|month|day|dep_time|dep_delay|arr_time|arr_delay|carrier|flight|origin|dest|air_time|distance|hour|minute|      duration_hrs|plane_year|                type|  manufacturer|      model|engines|seats|speed|   engine|plane_age|is_late|label|dest_index|      dest_fact|carrier_index|  carrier_fact|            features|\n",
      "+-------+----+-----+---+--------+---------+--------+---------+-------+------+------+----+--------+--------+----+------+------------------+----------+--------------------+--------------+-----------+-------+-----+-----+---------+---------+-------+-----+----------+---------------+-------------+--------------+--------------------+\n",
      "| N846VA|2014|   12|  8|   658.0|     -7.0|   935.0|       -5|     VX|  1780|   SEA| LAX|     132|     954| 6.0|  58.0|               2.2|      2011|Fixed wing multi ...|        AIRBUS|   A320-214|      2|  182|  NaN|Turbo-fan|        3|  false|    0|       1.0| (68,[1],[1.0])|          7.0|(10,[7],[1.0])|(81,[0,1,9,13,80]...|\n",
      "| N559AS|2014|    1| 22|  1040.0|      5.0|  1505.0|        5|     AS|   851|   SEA| HNL|     360|    2677|10.0|  40.0|               6.0|      2006|Fixed wing multi ...|        BOEING|    737-890|      2|  149|  NaN|Turbo-fan|        8|   true|    1|      19.0|(68,[19],[1.0])|          0.0|(10,[0],[1.0])|(81,[0,1,2,31,80]...|\n",
      "| N847VA|2014|    3|  9|  1443.0|     -2.0|  1652.0|        2|     VX|   755|   SEA| SFO|     111|     679|14.0|  43.0|              1.85|      2011|Fixed wing multi ...|        AIRBUS|   A320-214|      2|  182|  NaN|Turbo-fan|        3|   true|    1|       0.0| (68,[0],[1.0])|          7.0|(10,[7],[1.0])|(81,[0,1,9,12,80]...|\n",
      "| N360SW|2014|    4|  9|  1705.0|     45.0|  1839.0|       34|     WN|   344|   PDX| SJC|      83|     569|17.0|   5.0|1.3833333333333333|      1992|Fixed wing multi ...|        BOEING|    737-3H4|      2|  149|  NaN|Turbo-fan|       22|   true|    1|       7.0| (68,[7],[1.0])|          1.0|(10,[1],[1.0])|(81,[0,1,3,19,80]...|\n",
      "| N612AS|2014|    3|  9|   754.0|     -1.0|  1015.0|        1|     AS|   522|   SEA| BUR|     127|     937| 7.0|  54.0|2.1166666666666667|      1999|Fixed wing multi ...|        BOEING|    737-790|      2|  151|  NaN|Turbo-jet|       15|   true|    1|      22.0|(68,[22],[1.0])|          0.0|(10,[0],[1.0])|(81,[0,1,2,34,80]...|\n",
      "| N646SW|2014|    1| 15|  1037.0|      7.0|  1352.0|        2|     WN|    48|   PDX| DEN|     121|     991|10.0|  37.0|2.0166666666666666|      1997|Fixed wing multi ...|        BOEING|    737-3H4|      2|  149|  NaN|Turbo-fan|       17|   true|    1|       2.0| (68,[2],[1.0])|          1.0|(10,[1],[1.0])|(81,[0,1,3,14,80]...|\n",
      "| N422WN|2014|    7|  2|   847.0|     42.0|  1041.0|       51|     WN|  1520|   PDX| OAK|      90|     543| 8.0|  47.0|               1.5|      2002|Fixed wing multi ...|        BOEING|    737-7H4|      2|  140|  NaN|Turbo-fan|       12|   true|    1|       8.0| (68,[8],[1.0])|          1.0|(10,[1],[1.0])|(81,[0,1,3,20,80]...|\n",
      "| N361VA|2014|    5| 12|  1655.0|     -5.0|  1842.0|      -18|     VX|   755|   SEA| SFO|      98|     679|16.0|  55.0|1.6333333333333333|      2013|Fixed wing multi ...|        AIRBUS|   A320-214|      2|  182|  NaN|Turbo-fan|        1|  false|    0|       0.0| (68,[0],[1.0])|          7.0|(10,[7],[1.0])|(81,[0,1,9,12,80]...|\n",
      "| N309AS|2014|    4| 19|  1236.0|     -4.0|  1508.0|       -7|     AS|   490|   SEA| SAN|     135|    1050|12.0|  36.0|              2.25|      2001|Fixed wing multi ...|        BOEING|    737-990|      2|  149|  NaN|Turbo-jet|       13|  false|    0|      11.0|(68,[11],[1.0])|          0.0|(10,[0],[1.0])|(81,[0,1,2,23,80]...|\n",
      "| N564AS|2014|   11| 19|  1812.0|     -3.0|  2352.0|       -4|     AS|    26|   SEA| ORD|     198|    1721|18.0|  12.0|               3.3|      2006|Fixed wing multi ...|        BOEING|    737-890|      2|  149|  NaN|Turbo-fan|        8|  false|    0|      10.0|(68,[10],[1.0])|          0.0|(10,[0],[1.0])|(81,[0,1,2,22,80]...|\n",
      "| N323AS|2014|   11|  8|  1653.0|     -2.0|  1924.0|       -1|     AS|   448|   SEA| LAX|     130|     954|16.0|  53.0|2.1666666666666665|      2004|Fixed wing multi ...|        BOEING|    737-990|      2|  149|  NaN|Turbo-jet|       10|  false|    0|       1.0| (68,[1],[1.0])|          0.0|(10,[0],[1.0])|(81,[0,1,2,13,80]...|\n",
      "| N305AS|2014|    8|  3|  1120.0|      0.0|  1415.0|        2|     AS|   656|   SEA| PHX|     154|    1107|11.0|  20.0| 2.566666666666667|      2001|Fixed wing multi ...|        BOEING|    737-990|      2|  149|  NaN|Turbo-jet|       13|   true|    1|       4.0| (68,[4],[1.0])|          0.0|(10,[0],[1.0])|(81,[0,1,2,16,80]...|\n",
      "| N433AS|2014|   10| 30|   811.0|     21.0|  1038.0|       29|     AS|   608|   SEA| LAS|     127|     867| 8.0|  11.0|2.1166666666666667|      2013|Fixed wing multi ...|        BOEING|  737-990ER|      2|  222|  NaN|Turbo-fan|        1|   true|    1|       3.0| (68,[3],[1.0])|          0.0|(10,[0],[1.0])|(81,[0,1,2,15,80]...|\n",
      "| N765AS|2014|   11| 12|  2346.0|     -4.0|   217.0|      -28|     AS|   121|   SEA| ANC|     183|    1448|23.0|  46.0|              3.05|      1992|Fixed wing multi ...|        BOEING|    737-4Q8|      2|  149|  NaN|Turbo-fan|       22|  false|    0|       5.0| (68,[5],[1.0])|          0.0|(10,[0],[1.0])|(81,[0,1,2,17,80]...|\n",
      "| N713AS|2014|   10| 31|  1314.0|     89.0|  1544.0|      111|     AS|   306|   SEA| SFO|     129|     679|13.0|  14.0|              2.15|      1999|Fixed wing multi ...|        BOEING|    737-490|      2|  149|  NaN|Turbo-jet|       15|   true|    1|       0.0| (68,[0],[1.0])|          0.0|(10,[0],[1.0])|(81,[0,1,2,12,80]...|\n",
      "| N27205|2014|    1| 29|  2009.0|      3.0|  2159.0|        9|     UA|  1458|   PDX| SFO|      90|     550|20.0|   9.0|               1.5|      2000|Fixed wing multi ...|        BOEING|    737-824|      2|  149|  NaN|Turbo-fan|       14|   true|    1|       0.0| (68,[0],[1.0])|          4.0|(10,[4],[1.0])|(81,[0,1,6,12,80]...|\n",
      "| N626AS|2014|   12| 17|  2015.0|     50.0|  2150.0|       41|     AS|   368|   SEA| SMF|      76|     605|20.0|  15.0|1.2666666666666666|      2001|Fixed wing multi ...|        BOEING|    737-790|      2|  151|  NaN|Turbo-jet|       13|   true|    1|       9.0| (68,[9],[1.0])|          0.0|(10,[0],[1.0])|(81,[0,1,2,21,80]...|\n",
      "| N8634A|2014|    8| 11|  1017.0|     -3.0|  1613.0|       -7|     WN|   827|   SEA| MDW|     216|    1733|10.0|  17.0|               3.6|      2014|Fixed wing multi ...|        BOEING|    737-8H4|      2|  140|  NaN|Turbo-fan|        0|  false|    0|      29.0|(68,[29],[1.0])|          1.0|(10,[1],[1.0])|(81,[0,1,3,41],[8...|\n",
      "| N597AS|2014|    1| 13|  2156.0|     -9.0|   607.0|      -15|     AS|    24|   SEA| BOS|     290|    2496|21.0|  56.0| 4.833333333333333|      2008|Fixed wing multi ...|        BOEING|    737-890|      2|  149|  NaN|Turbo-fan|        6|  false|    0|      23.0|(68,[23],[1.0])|          0.0|(10,[0],[1.0])|(81,[0,1,2,35,80]...|\n",
      "| N215AG|2014|    6|  5|  1733.0|    -12.0|  1945.0|      -10|     OO|  3488|   PDX| BUR|     111|     817|17.0|  33.0|              1.85|      2001|Fixed wing multi ...|BOMBARDIER INC|CL-600-2C10|      2|   80|  NaN|Turbo-fan|       13|  false|    0|      22.0|(68,[22],[1.0])|          2.0|(10,[2],[1.0])|(81,[0,1,4,34,80]...|\n",
      "+-------+----+-----+---+--------+---------+--------+---------+-------+------+------+----+--------+--------+----+------+------------------+----------+--------------------+--------------+-----------+-------+-----+-----+---------+---------+-------+-----+----------+---------------+-------------+--------------+--------------------+\n",
      "only showing top 20 rows\n",
      "\n"
     ]
    }
   ],
   "source": [
    "piped_data.show()"
   ]
  },
  {
   "cell_type": "markdown",
   "id": "8bba63e3-b0e5-472f-96e5-bb092ba0d252",
   "metadata": {},
   "source": [
    "## Split the data"
   ]
  },
  {
   "cell_type": "code",
   "execution_count": 66,
   "id": "76548188-8b63-4147-9191-60485241bdb7",
   "metadata": {
    "execution": {
     "iopub.execute_input": "2023-05-02T20:53:04.944179Z",
     "iopub.status.busy": "2023-05-02T20:53:04.943731Z",
     "iopub.status.idle": "2023-05-02T20:53:04.957439Z",
     "shell.execute_reply": "2023-05-02T20:53:04.956842Z",
     "shell.execute_reply.started": "2023-05-02T20:53:04.944156Z"
    }
   },
   "outputs": [],
   "source": [
    "# Split the data into training and test sets\n",
    "training, test = piped_data.randomSplit([.6, .4])"
   ]
  },
  {
   "cell_type": "markdown",
   "id": "4c0e5cfe-6694-4ed7-b0e8-cc742b08ce64",
   "metadata": {},
   "source": [
    "# Model tuning and selection"
   ]
  },
  {
   "cell_type": "markdown",
   "id": "ad2a8517-65e9-4e7a-8ec7-60fd88dc900e",
   "metadata": {},
   "source": [
    "## Create the modeler"
   ]
  },
  {
   "cell_type": "code",
   "execution_count": 67,
   "id": "a202cb16-234a-47b6-b19a-d81e9dd72df9",
   "metadata": {
    "execution": {
     "iopub.execute_input": "2023-05-02T20:53:04.958059Z",
     "iopub.status.busy": "2023-05-02T20:53:04.957935Z",
     "iopub.status.idle": "2023-05-02T20:53:04.984584Z",
     "shell.execute_reply": "2023-05-02T20:53:04.984286Z",
     "shell.execute_reply.started": "2023-05-02T20:53:04.958047Z"
    },
    "tags": []
   },
   "outputs": [],
   "source": [
    "# Import LogisticRegression\n",
    "from pyspark.ml.classification import LogisticRegression\n",
    "# Create a LogisticRegression Estimator\n",
    "lr = LogisticRegression()"
   ]
  },
  {
   "cell_type": "markdown",
   "id": "6c3962e7-96b1-4b3e-9a6c-70cae272f727",
   "metadata": {},
   "source": [
    "## Create the evaluator"
   ]
  },
  {
   "cell_type": "code",
   "execution_count": 68,
   "id": "0bcf7601-38dd-4d3a-9e84-57ebf570e76d",
   "metadata": {
    "execution": {
     "iopub.execute_input": "2023-05-02T20:53:04.985102Z",
     "iopub.status.busy": "2023-05-02T20:53:04.984988Z",
     "iopub.status.idle": "2023-05-02T20:53:04.990120Z",
     "shell.execute_reply": "2023-05-02T20:53:04.989846Z",
     "shell.execute_reply.started": "2023-05-02T20:53:04.985091Z"
    },
    "tags": []
   },
   "outputs": [],
   "source": [
    "# Import the evaluation submodule\n",
    "import pyspark.ml.evaluation as evals\n",
    "# Create a BinaryClassificationEvaluator\n",
    "evaluator = evals.BinaryClassificationEvaluator(metricName='areaUnderROC')"
   ]
  },
  {
   "cell_type": "markdown",
   "id": "c6cccd97-0aa9-4bda-afbc-68fafe8f4540",
   "metadata": {},
   "source": [
    "## Make a grid"
   ]
  },
  {
   "cell_type": "code",
   "execution_count": 69,
   "id": "ebbd9bf6-cc89-4faa-8d57-c6a55220d8e7",
   "metadata": {
    "execution": {
     "iopub.execute_input": "2023-05-02T20:53:04.990752Z",
     "iopub.status.busy": "2023-05-02T20:53:04.990473Z",
     "iopub.status.idle": "2023-05-02T20:53:04.992821Z",
     "shell.execute_reply": "2023-05-02T20:53:04.992472Z",
     "shell.execute_reply.started": "2023-05-02T20:53:04.990738Z"
    },
    "tags": []
   },
   "outputs": [],
   "source": [
    "# Import the tuning submodule\n",
    "import pyspark.ml.tuning as tune\n",
    "# Create the parameter grid\n",
    "grid = tune.ParamGridBuilder()\n",
    "# Add the hyperparameter\n",
    "grid = grid.addGrid(lr.regParam, np.arange(0, .1, .01))\n",
    "grid = grid.addGrid(lr.elasticNetParam, [0, 1])\n",
    "# Build the grid\n",
    "grid = grid.build()"
   ]
  },
  {
   "cell_type": "markdown",
   "id": "31cf9402-b15a-49b5-b0fb-87112ccb8aef",
   "metadata": {},
   "source": [
    "## Make the validator"
   ]
  },
  {
   "cell_type": "code",
   "execution_count": 70,
   "id": "95c3d692-97db-4a10-8ff3-8dd2e8840563",
   "metadata": {
    "execution": {
     "iopub.execute_input": "2023-05-02T20:53:04.993420Z",
     "iopub.status.busy": "2023-05-02T20:53:04.993201Z",
     "iopub.status.idle": "2023-05-02T20:53:04.995148Z",
     "shell.execute_reply": "2023-05-02T20:53:04.994873Z",
     "shell.execute_reply.started": "2023-05-02T20:53:04.993410Z"
    },
    "tags": []
   },
   "outputs": [],
   "source": [
    "# Create the CrossValidator\n",
    "cv = tune.CrossValidator(estimator=lr,\n",
    "                         estimatorParamMaps=grid,\n",
    "                         evaluator=evaluator)"
   ]
  },
  {
   "cell_type": "markdown",
   "id": "eb538417-c0b3-4ddf-8ff5-e8776408e46a",
   "metadata": {},
   "source": [
    "## Fit the model(s)"
   ]
  },
  {
   "cell_type": "code",
   "execution_count": 71,
   "id": "48469883-1540-4596-9395-ceda0c1fce2f",
   "metadata": {
    "execution": {
     "iopub.execute_input": "2023-05-02T20:53:04.995702Z",
     "iopub.status.busy": "2023-05-02T20:53:04.995501Z",
     "iopub.status.idle": "2023-05-02T20:53:32.702057Z",
     "shell.execute_reply": "2023-05-02T20:53:32.701710Z",
     "shell.execute_reply.started": "2023-05-02T20:53:04.995692Z"
    },
    "tags": []
   },
   "outputs": [
    {
     "name": "stdout",
     "output_type": "stream",
     "text": [
      "CrossValidatorModel_6bac4e8e9138\n"
     ]
    }
   ],
   "source": [
    "# Call lr.fit()\n",
    "best_lr = cv.fit(training)\n",
    "# Print best_lr\n",
    "print(best_lr)"
   ]
  },
  {
   "cell_type": "markdown",
   "id": "4462659d-5492-4529-bfda-0413baf97e11",
   "metadata": {},
   "source": [
    "## Evaluate the model"
   ]
  },
  {
   "cell_type": "code",
   "execution_count": 72,
   "id": "b293e946-9f95-4a65-859b-4bdebd278643",
   "metadata": {
    "execution": {
     "iopub.execute_input": "2023-05-02T20:53:32.702680Z",
     "iopub.status.busy": "2023-05-02T20:53:32.702466Z",
     "iopub.status.idle": "2023-05-02T20:53:32.931861Z",
     "shell.execute_reply": "2023-05-02T20:53:32.931463Z",
     "shell.execute_reply.started": "2023-05-02T20:53:32.702667Z"
    },
    "tags": []
   },
   "outputs": [
    {
     "name": "stdout",
     "output_type": "stream",
     "text": [
      "0.7035710145349763\n"
     ]
    }
   ],
   "source": [
    "# Use the model to predict the test set\n",
    "test_results = best_lr.transform(test)\n",
    "# Evaluate the predictions\n",
    "print(evaluator.evaluate(test_results))"
   ]
  }
 ],
 "metadata": {
  "kernelspec": {
   "display_name": "Python 3 (ipykernel)",
   "language": "python",
   "name": "python3"
  },
  "language_info": {
   "codemirror_mode": {
    "name": "ipython",
    "version": 3
   },
   "file_extension": ".py",
   "mimetype": "text/x-python",
   "name": "python",
   "nbconvert_exporter": "python",
   "pygments_lexer": "ipython3",
   "version": "3.10.10"
  },
  "toc-autonumbering": false
 },
 "nbformat": 4,
 "nbformat_minor": 5
}
