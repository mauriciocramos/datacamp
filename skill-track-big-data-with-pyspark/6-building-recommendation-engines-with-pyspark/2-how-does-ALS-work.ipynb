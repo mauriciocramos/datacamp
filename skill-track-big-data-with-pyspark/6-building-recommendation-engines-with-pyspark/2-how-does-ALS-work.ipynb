{
 "cells": [
  {
   "cell_type": "code",
   "execution_count": 1,
   "id": "16b6a4ee-2b7c-489a-bce4-36d12491af0d",
   "metadata": {
    "execution": {
     "iopub.execute_input": "2023-04-26T16:09:38.114844Z",
     "iopub.status.busy": "2023-04-26T16:09:38.114762Z",
     "iopub.status.idle": "2023-04-26T16:09:40.343878Z",
     "shell.execute_reply": "2023-04-26T16:09:40.343482Z",
     "shell.execute_reply.started": "2023-04-26T16:09:38.114834Z"
    },
    "tags": []
   },
   "outputs": [
    {
     "name": "stdout",
     "output_type": "stream",
     "text": [
      "23/04/26 13:09:39 WARN Utils: Your hostname, rig resolves to a loopback address: 127.0.1.1; using 192.168.0.105 instead (on interface enp6s0)\n",
      "23/04/26 13:09:39 WARN Utils: Set SPARK_LOCAL_IP if you need to bind to another address\n"
     ]
    },
    {
     "name": "stderr",
     "output_type": "stream",
     "text": [
      "Setting default log level to \"WARN\".\n",
      "To adjust logging level use sc.setLogLevel(newLevel). For SparkR, use setLogLevel(newLevel).\n"
     ]
    },
    {
     "name": "stdout",
     "output_type": "stream",
     "text": [
      "23/04/26 13:09:39 WARN NativeCodeLoader: Unable to load native-hadoop library for your platform... using builtin-java classes where applicable\n",
      "23/04/26 13:09:40 WARN Utils: Service 'SparkUI' could not bind on port 4040. Attempting port 4041.\n",
      "3.3.2\n"
     ]
    }
   ],
   "source": [
    "import matplotlib.pyplot as plt\n",
    "import seaborn as sns\n",
    "import pandas as pd\n",
    "import numpy as np\n",
    "import datetime\n",
    "plt.style.use('dark_background')\n",
    "import sys\n",
    "sys.path.insert(1, '/home/mauricio/code/mcr')\n",
    "from mcr.util import glimpse, plot_value_counts, plot_value_counts_timeseries, missing_report, plot_missing, plot_unique, plot_duplicates, size\n",
    "\n",
    "from pyspark import SparkContext\n",
    "# SparkContext.getOrCreate(conf: Optional[pyspark.conf.SparkConf] = None) -> 'SparkContext'\n",
    "sc = SparkContext.getOrCreate()\n",
    "# sc.setLogLevel('DEBUG')\n",
    "\n",
    "from pyspark.sql import SparkSession\n",
    "spark = SparkSession.builder.master('local[*]').appName('spark_application').getOrCreate()\n",
    "print(spark.version)\n",
    "\n",
    "from pyspark.sql import functions as F\n",
    "from pyspark.sql.types import *"
   ]
  },
  {
   "cell_type": "markdown",
   "id": "09d2fc00-9b23-4fcc-ae36-6d060fc9f404",
   "metadata": {},
   "source": [
    "# Matrix multiplication"
   ]
  },
  {
   "cell_type": "code",
   "execution_count": 2,
   "id": "79326e43-8864-495d-8dab-2911b4db397f",
   "metadata": {
    "execution": {
     "iopub.execute_input": "2023-04-26T16:09:40.344994Z",
     "iopub.status.busy": "2023-04-26T16:09:40.344707Z",
     "iopub.status.idle": "2023-04-26T16:09:40.347702Z",
     "shell.execute_reply": "2023-04-26T16:09:40.347283Z",
     "shell.execute_reply.started": "2023-04-26T16:09:40.344982Z"
    },
    "tags": []
   },
   "outputs": [],
   "source": [
    "U = np.array([[1,2,3],\n",
    "              [4,5,6],\n",
    "              [7,8,9]])\n",
    "P = np.array([[9,8,7],\n",
    "              [6,5,4],\n",
    "              [3,2,1]])"
   ]
  },
  {
   "cell_type": "code",
   "execution_count": 3,
   "id": "6695b401-2e1b-48a2-940b-cd32d9c47e11",
   "metadata": {
    "execution": {
     "iopub.execute_input": "2023-04-26T16:09:40.348293Z",
     "iopub.status.busy": "2023-04-26T16:09:40.348175Z",
     "iopub.status.idle": "2023-04-26T16:09:40.352539Z",
     "shell.execute_reply": "2023-04-26T16:09:40.352274Z",
     "shell.execute_reply.started": "2023-04-26T16:09:40.348282Z"
    },
    "tags": []
   },
   "outputs": [
    {
     "data": {
      "text/plain": [
       "array([[ 30,  24,  18],\n",
       "       [ 84,  69,  54],\n",
       "       [138, 114,  90]])"
      ]
     },
     "execution_count": 3,
     "metadata": {},
     "output_type": "execute_result"
    }
   ],
   "source": [
    "NP = np.array([[1*9+2*6+3*3, 1*8+2*5+3*2, 1*7+2*4+3*1],\n",
    "              [4*9+5*6+6*3, 4*8+5*5+6*2, 4*7+5*4+6*1],\n",
    "              [7*9+8*6+9*3, 7*8+8*5+9*2, 7*7+8*4+9*1]])\n",
    "NP"
   ]
  },
  {
   "cell_type": "code",
   "execution_count": 4,
   "id": "bb674d0e-ab6c-4fb5-b671-0b2ddac65438",
   "metadata": {
    "execution": {
     "iopub.execute_input": "2023-04-26T16:09:40.353083Z",
     "iopub.status.busy": "2023-04-26T16:09:40.352896Z",
     "iopub.status.idle": "2023-04-26T16:09:40.357272Z",
     "shell.execute_reply": "2023-04-26T16:09:40.356955Z",
     "shell.execute_reply.started": "2023-04-26T16:09:40.353072Z"
    },
    "tags": []
   },
   "outputs": [
    {
     "data": {
      "text/plain": [
       "array([[ 30,  24,  18],\n",
       "       [ 84,  69,  54],\n",
       "       [138, 114,  90]])"
      ]
     },
     "execution_count": 4,
     "metadata": {},
     "output_type": "execute_result"
    }
   ],
   "source": [
    "NP = np.array([\n",
    "    [U[0,0]*P[0,0] + U[0,1]*P[1,0] + U[0,2]*P[2,0], U[0,0]*P[0,1] + U[0,1]*P[1,1] + U[0,2]*P[2,1], U[0,0]*P[0,2] + U[0,1]*P[1,2] + U[0,2]*P[2,2]],\n",
    "    [U[1,0]*P[0,0] + U[1,1]*P[1,0] + U[1,2]*P[2,0], U[1,0]*P[0,1] + U[1,1]*P[1,1] + U[1,2]*P[2,1], U[1,0]*P[0,2] + U[1,1]*P[1,2] + U[1,2]*P[2,2]],\n",
    "    [U[2,0]*P[0,0] + U[2,1]*P[1,0] + U[2,2]*P[2,0], U[2,0]*P[0,1] + U[2,1]*P[1,1] + U[2,2]*P[2,1], U[2,0]*P[0,2] + U[2,1]*P[1,2] + U[2,2]*P[2,2]]\n",
    "])\n",
    "NP"
   ]
  },
  {
   "cell_type": "code",
   "execution_count": 5,
   "id": "dd2e7dff-d4e2-4cba-8d17-ee170425bf9a",
   "metadata": {
    "execution": {
     "iopub.execute_input": "2023-04-26T16:09:40.357831Z",
     "iopub.status.busy": "2023-04-26T16:09:40.357634Z",
     "iopub.status.idle": "2023-04-26T16:09:40.359903Z",
     "shell.execute_reply": "2023-04-26T16:09:40.359640Z",
     "shell.execute_reply.started": "2023-04-26T16:09:40.357820Z"
    },
    "tags": []
   },
   "outputs": [
    {
     "data": {
      "text/plain": [
       "array([[ 30,  24,  18],\n",
       "       [ 84,  69,  54],\n",
       "       [138, 114,  90]])"
      ]
     },
     "execution_count": 5,
     "metadata": {},
     "output_type": "execute_result"
    }
   ],
   "source": [
    "U @ P"
   ]
  },
  {
   "cell_type": "code",
   "execution_count": 6,
   "id": "0a8684bd-d59d-4354-b109-ebcb0f28d752",
   "metadata": {
    "execution": {
     "iopub.execute_input": "2023-04-26T16:09:40.360396Z",
     "iopub.status.busy": "2023-04-26T16:09:40.360241Z",
     "iopub.status.idle": "2023-04-26T16:09:40.362440Z",
     "shell.execute_reply": "2023-04-26T16:09:40.362183Z",
     "shell.execute_reply.started": "2023-04-26T16:09:40.360386Z"
    }
   },
   "outputs": [
    {
     "data": {
      "text/plain": [
       "array([[ 30,  24,  18],\n",
       "       [ 84,  69,  54],\n",
       "       [138, 114,  90]])"
      ]
     },
     "execution_count": 6,
     "metadata": {},
     "output_type": "execute_result"
    }
   ],
   "source": [
    "np.matmul(U, P)"
   ]
  },
  {
   "cell_type": "code",
   "execution_count": 7,
   "id": "a694d074-4d24-4dca-ba51-7881271a1dea",
   "metadata": {
    "execution": {
     "iopub.execute_input": "2023-04-26T16:09:40.363628Z",
     "iopub.status.busy": "2023-04-26T16:09:40.363437Z",
     "iopub.status.idle": "2023-04-26T16:09:40.365833Z",
     "shell.execute_reply": "2023-04-26T16:09:40.365537Z",
     "shell.execute_reply.started": "2023-04-26T16:09:40.363617Z"
    }
   },
   "outputs": [
    {
     "data": {
      "text/plain": [
       "array([[ 30,  24,  18],\n",
       "       [ 84,  69,  54],\n",
       "       [138, 114,  90]])"
      ]
     },
     "execution_count": 7,
     "metadata": {},
     "output_type": "execute_result"
    }
   ],
   "source": [
    "np.dot(U, P)"
   ]
  },
  {
   "cell_type": "markdown",
   "id": "f573c8b7-6a1a-4a07-b47c-dfaf2a196d3d",
   "metadata": {},
   "source": [
    "# Overview of matrix factorization"
   ]
  },
  {
   "cell_type": "markdown",
   "id": "afb4d83c-a805-4a73-a7a1-711e3cd89028",
   "metadata": {},
   "source": [
    "Matrix factorization, or matrix decomposition, is essentially the opposite of matrix multiplication. Rather than multiplying two matrices together to get one new matrix.\n",
    "\n",
    "Matrix factorization splits a matrix into two or more matrices which, when multiplied back together, produce an approximation of the original matrix.\n",
    "\n",
    "There are several different mathematical approaches for this, each of which has a different application. We aren't going to go into any of that here, we are simply going to review the factorization that ALS performs.\n",
    "\n",
    "Used in the context of collaborative filtering, ALS uses a factorization called non-negative matrix factorization (NMF). Because matrix factorization generally returns only approximations of the original matrix, in some cases, they can return negative values in the factor matrices, even when attempting to predict positive values. When predicting what rating a user will give to an item, negative values don't really make sense. Neither do they make sense in the context of latent features.\n",
    "\n",
    "**For this reason, the version of ALS that we will use will require that the factorization return only positive values**"
   ]
  },
  {
   "cell_type": "markdown",
   "id": "d90dfcf7-99ff-4915-9129-b7a473203571",
   "metadata": {},
   "source": [
    "## Exercises"
   ]
  },
  {
   "cell_type": "markdown",
   "id": "4e52517c-1578-4c5a-a44f-3256008fccad",
   "metadata": {},
   "source": [
    "### Non-negative matrix factorization\n",
    "\n",
    "It's possible for one matrix to have two equally close factorizations where one has all positive values and the other has some negative values.\n",
    "\n",
    "The matrix M has been factored twice using two different factorizations. Take a look at each pair of factor matrices L and U, and W and H to see the differences. Then use their products to see that they produce essentially the same product."
   ]
  },
  {
   "cell_type": "code",
   "execution_count": 8,
   "id": "8c7c589f-850e-4ef1-b7b7-5ff9021fe696",
   "metadata": {
    "execution": {
     "iopub.execute_input": "2023-04-26T16:09:40.366397Z",
     "iopub.status.busy": "2023-04-26T16:09:40.366195Z",
     "iopub.status.idle": "2023-04-26T16:09:40.368390Z",
     "shell.execute_reply": "2023-04-26T16:09:40.368131Z",
     "shell.execute_reply.started": "2023-04-26T16:09:40.366386Z"
    }
   },
   "outputs": [],
   "source": [
    "def getRMSE(pred, actual):\n",
    "    \"\"\"\n",
    "    Returns RMSE between predictions and actual observations\n",
    "    \n",
    "    Parameters: \n",
    "        predictions: pandas dataframe of value predictions\n",
    "        actual values: pandas dataframe of actual values that predictions are trying to predict\n",
    "        \n",
    "    Returns: RMSE value in decimal format\n",
    "    \"\"\"\n",
    "    RMSE =  (((pred - actual)**2).sum().sum()/(pred.shape[0]*pred.shape[1]))**.5\n",
    "    return round(RMSE,3)"
   ]
  },
  {
   "cell_type": "code",
   "execution_count": 9,
   "id": "9be4ca42-2790-4ffe-a3fc-bafb24f9e4a8",
   "metadata": {
    "execution": {
     "iopub.execute_input": "2023-04-26T16:09:40.368901Z",
     "iopub.status.busy": "2023-04-26T16:09:40.368757Z",
     "iopub.status.idle": "2023-04-26T16:09:40.372042Z",
     "shell.execute_reply": "2023-04-26T16:09:40.371792Z",
     "shell.execute_reply.started": "2023-04-26T16:09:40.368891Z"
    },
    "tags": []
   },
   "outputs": [],
   "source": [
    "M = pd.DataFrame(np.array([[1, 2, 1, 2],\n",
    "                           [0, 0, 0, 0],\n",
    "                           [1, 2, 2, 1],\n",
    "                           [0, 0, 0, 0]]))\n",
    "L = pd.DataFrame(np.array([[ 1.        ,  0.        ,  0.        ,  0.        ],\n",
    "                           [ 0.01      , -0.42105263,  0.09831579,  1.        ],\n",
    "                           [ 1.        ,  0.        ,  1.        ,  0.        ],\n",
    "                           [ 0.1       ,  1.        ,  0.        ,  0.        ]]))\n",
    "U = pd.DataFrame(np.array([[ 1.        ,  2.        ,  1.        ,  2.        ],\n",
    "                           [ 0.        , -0.19      , -0.099     , -0.198     ],\n",
    "                           [ 0.        ,  0.        ,  1.        , -1.        ],\n",
    "                           [ 0.        ,  0.        ,  0.        ,  0.19494737]]))\n",
    "W = pd.DataFrame(np.array([[2.61, 0.24, 0.  , 0.12],\n",
    "                           [0.  , 0.05, 0.02, 0.17],\n",
    "                           [1.97, 0.  , 0.58, 0.83],\n",
    "                           [0.05, 0.  , 0.  , 0.  ]]))\n",
    "H = pd.DataFrame(np.array([[0.38, 0.65, 0.34, 0.41],\n",
    "                           [0.  , 1.2 , 0.15, 3.72],\n",
    "                           [0.42, 1.09, 1.38, 0.07],\n",
    "                           [0.  , 0.11, 0.65, 0.17]]))"
   ]
  },
  {
   "cell_type": "code",
   "execution_count": 10,
   "id": "7ecdce5d-f810-4753-a23b-ed4d8c892190",
   "metadata": {
    "execution": {
     "iopub.execute_input": "2023-04-26T16:09:40.372533Z",
     "iopub.status.busy": "2023-04-26T16:09:40.372366Z",
     "iopub.status.idle": "2023-04-26T16:09:40.378769Z",
     "shell.execute_reply": "2023-04-26T16:09:40.378525Z",
     "shell.execute_reply.started": "2023-04-26T16:09:40.372524Z"
    },
    "tags": []
   },
   "outputs": [
    {
     "name": "stdout",
     "output_type": "stream",
     "text": [
      "Matrices L and U:\n",
      "      0         1         2    3\n",
      "0  1.00  0.000000  0.000000  0.0\n",
      "1  0.01 -0.421053  0.098316  1.0\n",
      "2  1.00  0.000000  1.000000  0.0\n",
      "3  0.10  1.000000  0.000000  0.0\n",
      "     0     1      2         3\n",
      "0  1.0  2.00  1.000  2.000000\n",
      "1  0.0 -0.19 -0.099 -0.198000\n",
      "2  0.0  0.00  1.000 -1.000000\n",
      "3  0.0  0.00  0.000  0.194947\n",
      "Matrix multiplication LU:\n",
      "      0     1      2      3\n",
      "0  1.00  2.00  1.000  2.000\n",
      "1  0.01  0.10  0.150  0.200\n",
      "2  1.00  2.00  2.000  1.000\n",
      "3  0.10  0.01  0.001  0.002\n",
      "Matrix M:\n",
      "   0  1  2  3\n",
      "0  1  2  1  2\n",
      "1  0  0  0  0\n",
      "2  1  2  2  1\n",
      "3  0  0  0  0\n",
      "RMSE of LU:  0.072\n"
     ]
    }
   ],
   "source": [
    "# View the L, U, W, and H matrices.\n",
    "print(\"Matrices L and U:\") \n",
    "print(L)\n",
    "print(U)\n",
    "print('Matrix multiplication LU:')\n",
    "print(L@U)\n",
    "print('Matrix M:')\n",
    "print(M)\n",
    "# Calculate RMSE between LU and M\n",
    "print(\"RMSE of LU: \", getRMSE(L@U, M))"
   ]
  },
  {
   "cell_type": "code",
   "execution_count": 11,
   "id": "8230ef64-756e-410a-958a-67eeba07f22a",
   "metadata": {
    "execution": {
     "iopub.execute_input": "2023-04-26T16:09:40.379199Z",
     "iopub.status.busy": "2023-04-26T16:09:40.379106Z",
     "iopub.status.idle": "2023-04-26T16:09:40.384600Z",
     "shell.execute_reply": "2023-04-26T16:09:40.384359Z",
     "shell.execute_reply.started": "2023-04-26T16:09:40.379190Z"
    },
    "tags": []
   },
   "outputs": [
    {
     "name": "stdout",
     "output_type": "stream",
     "text": [
      "Matrices W and H:\n",
      "      0     1     2     3\n",
      "0  2.61  0.24  0.00  0.12\n",
      "1  0.00  0.05  0.02  0.17\n",
      "2  1.97  0.00  0.58  0.83\n",
      "3  0.05  0.00  0.00  0.00\n",
      "      0     1     2     3\n",
      "0  0.38  0.65  0.34  0.41\n",
      "1  0.00  1.20  0.15  3.72\n",
      "2  0.42  1.09  1.38  0.07\n",
      "3  0.00  0.11  0.65  0.17\n",
      "Matrix multiplication WH:\n",
      "        0       1       2       3\n",
      "0  0.9918  1.9977  1.0014  1.9833\n",
      "1  0.0084  0.1005  0.1456  0.2163\n",
      "2  0.9922  2.0040  2.0097  0.9894\n",
      "3  0.0190  0.0325  0.0170  0.0205\n",
      "Matrix M:\n",
      "   0  1  2  3\n",
      "0  1  2  1  2\n",
      "1  0  0  0  0\n",
      "2  1  2  2  1\n",
      "3  0  0  0  0\n",
      "RMSE of WH:  0.071\n"
     ]
    }
   ],
   "source": [
    "print(\"Matrices W and H:\")\n",
    "print(W)\n",
    "print(H)\n",
    "print('Matrix multiplication WH:')\n",
    "print(W@H)\n",
    "print('Matrix M:')\n",
    "print(M)\n",
    "# Calculate RMSE between LU and M\n",
    "print(\"RMSE of WH: \", getRMSE(W@H, M))"
   ]
  },
  {
   "cell_type": "markdown",
   "id": "6f57f2e5-3fdd-4602-940a-7038a03af48e",
   "metadata": {
    "tags": []
   },
   "source": [
    "# How ALS alternates to generate predictions"
   ]
  },
  {
   "cell_type": "code",
   "execution_count": 12,
   "id": "090ba605-57f4-4665-913e-da98350680c2",
   "metadata": {
    "execution": {
     "iopub.execute_input": "2023-04-26T16:09:40.385147Z",
     "iopub.status.busy": "2023-04-26T16:09:40.384954Z",
     "iopub.status.idle": "2023-04-26T16:09:42.974670Z",
     "shell.execute_reply": "2023-04-26T16:09:42.974154Z",
     "shell.execute_reply.started": "2023-04-26T16:09:40.385137Z"
    },
    "tags": []
   },
   "outputs": [
    {
     "name": "stdout",
     "output_type": "stream",
     "text": [
      "The data contain 100004 records.\n",
      "+------+-------+------+----------+\n",
      "|userId|movieId|rating| timestamp|\n",
      "+------+-------+------+----------+\n",
      "|     1|     31|   2.5|1260759144|\n",
      "|     1|   1029|   3.0|1260759179|\n",
      "|     1|   1061|   3.0|1260759182|\n",
      "|     1|   1129|   2.0|1260759185|\n",
      "|     1|   1172|   4.0|1260759205|\n",
      "+------+-------+------+----------+\n",
      "only showing top 5 rows\n",
      "\n",
      "[('userId', 'int'), ('movieId', 'int'), ('rating', 'double'), ('timestamp', 'int')]\n"
     ]
    }
   ],
   "source": [
    "# Read data from CSV file\n",
    "ratings = spark.read.csv('ratings.csv',\n",
    "                         sep=',',\n",
    "                         header=True,\n",
    "                         inferSchema=True)\n",
    "\n",
    "# Get number of records\n",
    "print(\"The data contain %d records.\" % ratings.count())\n",
    "\n",
    "# View the first five records\n",
    "ratings.show(5)\n",
    "\n",
    "# Check column data types\n",
    "print(ratings.dtypes)"
   ]
  },
  {
   "cell_type": "markdown",
   "id": "7fa25ca8-b3a8-4487-9cee-9d545755f694",
   "metadata": {},
   "source": [
    "> In total, there are 671 users and 9066 movies. Of the 6.1 million possible ratings we could have in this matrix with this many users and movies, we only have about 100,000. That means that 98% percent of the matrix is totally blank. This makes sense because 9066 movies is far too many movies for any normal person to watch in their lifetime. One of the benefits of ALS is that it works well with sparse matrices like this."
   ]
  },
  {
   "cell_type": "code",
   "execution_count": 13,
   "id": "287393b2-9233-4907-abd2-b5babc7414d4",
   "metadata": {
    "execution": {
     "iopub.execute_input": "2023-04-26T16:09:42.975269Z",
     "iopub.status.busy": "2023-04-26T16:09:42.975148Z",
     "iopub.status.idle": "2023-04-26T16:09:43.587159Z",
     "shell.execute_reply": "2023-04-26T16:09:43.586600Z",
     "shell.execute_reply.started": "2023-04-26T16:09:42.975256Z"
    },
    "tags": []
   },
   "outputs": [
    {
     "name": "stdout",
     "output_type": "stream",
     "text": [
      "movie_count=9066\n",
      "user_count=671\n",
      "Possible ratings 6,083,286\n"
     ]
    }
   ],
   "source": [
    "movie_count = ratings.select('movieId').distinct().count()\n",
    "print(f'{movie_count=}')\n",
    "user_count = ratings.select('userId').distinct().count()\n",
    "print(f'{user_count=}')\n",
    "print(f'Possible ratings {movie_count*user_count:,}')"
   ]
  },
  {
   "cell_type": "code",
   "execution_count": 14,
   "id": "745b21ba-dc00-4015-aaee-4302399ef900",
   "metadata": {
    "execution": {
     "iopub.execute_input": "2023-04-26T16:09:43.588202Z",
     "iopub.status.busy": "2023-04-26T16:09:43.587853Z",
     "iopub.status.idle": "2023-04-26T16:09:43.684850Z",
     "shell.execute_reply": "2023-04-26T16:09:43.684472Z",
     "shell.execute_reply.started": "2023-04-26T16:09:43.588177Z"
    },
    "tags": []
   },
   "outputs": [
    {
     "name": "stdout",
     "output_type": "stream",
     "text": [
      "rating_count=100,004 (0.02%)\n"
     ]
    }
   ],
   "source": [
    "rating_count = ratings.count()\n",
    "print(f'{rating_count=:,} ({rating_count/(movie_count*user_count):.2f}%)')"
   ]
  },
  {
   "cell_type": "markdown",
   "id": "1239be5a-f806-47e3-a82c-de0b327ba225",
   "metadata": {},
   "source": [
    "Now, the first thing ALS does with a matrix like this is factor it into two different matrices.\n",
    "\n",
    "$$R-> U*P$$\n",
    "\n",
    "Remember that factorizations like this produce two matrices which, when multiplied back together, produce an approximation of the original matrix.\n",
    "\n",
    "In order to get the closest approximation of the original matrix R, ALS first fills in the factor matrices with random numbers and then makes slight adjustments to the matrices one at a time until it has the best approximation possible.\n",
    "\n",
    "In other words, ALS holds the matrix R and the matrix U constant, and makes adjustments to the matrix P. It then multiplies the two factor matrices together to see how far the predictions are from the original matrix using root means squared error or RMSE as an error metric.\n",
    "\n",
    "The RMSE basically tells you, on average, how far off your predictions are from the actual values. We'll talk more about this later in the course. Note that in calculating the RMSE, only the values that existed in the original matrix are considered. The missing values are not considered.\n",
    "\n",
    "It then holds P and R constant and adjusts values in the matrix U. The RMSE is calculated again, and ALS again switches, and calculates the RMSE again. ALS will continue to iterate until instructed to stop, at which point, ALS has the best possible approximation of the original matrix R.\n",
    "\n",
    "The beauty of all of this is that when the RMSE is fully minimized, ALS simply multiplies the matrices back together, and the blank cells are filled in with predictions.\n",
    "\n",
    "In other words, when we take a sparse matrix and factor it into two matrices $R -> U*P$, every rating in the original matrix must have a respective row and column full of values in the respective factor matrices that can be multiplied back together to approximate that original value. And since there is at least one rating in every row and at least one rating in every column of the original matrix, when ALS creates the two respective factor matrices, there are values in every cell of the two factor matrices, which allows us to then create predictions for the previously blank spaces.\n",
    "\n",
    "So when ALS iterates to make sure that it’s resulting product is as close to those original cells as possible, the result is that the previously blank cells are now filled in with values that are based on how each user has behaved in the past relative to the behavior of similar users. "
   ]
  },
  {
   "cell_type": "markdown",
   "id": "f0862568-a468-4452-a66b-9644af6ce4ca",
   "metadata": {},
   "source": [
    "## Exercises"
   ]
  },
  {
   "cell_type": "markdown",
   "id": "510aaaba-af34-4369-8776-22611fb3f19f",
   "metadata": {},
   "source": [
    "### Estimating recommendations"
   ]
  },
  {
   "cell_type": "code",
   "execution_count": 15,
   "id": "24c4dcbf-57e6-4551-b435-d4df759525c0",
   "metadata": {
    "execution": {
     "iopub.execute_input": "2023-04-26T16:09:43.685556Z",
     "iopub.status.busy": "2023-04-26T16:09:43.685268Z",
     "iopub.status.idle": "2023-04-26T16:09:43.692812Z",
     "shell.execute_reply": "2023-04-26T16:09:43.692439Z",
     "shell.execute_reply.started": "2023-04-26T16:09:43.685543Z"
    },
    "tags": []
   },
   "outputs": [
    {
     "data": {
      "text/html": [
       "<div>\n",
       "<style scoped>\n",
       "    .dataframe tbody tr th:only-of-type {\n",
       "        vertical-align: middle;\n",
       "    }\n",
       "\n",
       "    .dataframe tbody tr th {\n",
       "        vertical-align: top;\n",
       "    }\n",
       "\n",
       "    .dataframe thead th {\n",
       "        text-align: right;\n",
       "    }\n",
       "</style>\n",
       "<table border=\"1\" class=\"dataframe\">\n",
       "  <thead>\n",
       "    <tr style=\"text-align: right;\">\n",
       "      <th></th>\n",
       "      <th>U_LF_1</th>\n",
       "      <th>U_LF_2</th>\n",
       "      <th>U_LF_3</th>\n",
       "      <th>U_LF_4</th>\n",
       "    </tr>\n",
       "  </thead>\n",
       "  <tbody>\n",
       "    <tr>\n",
       "      <th>User_1</th>\n",
       "      <td>0.80</td>\n",
       "      <td>0.01</td>\n",
       "      <td>0.30</td>\n",
       "      <td>0.8</td>\n",
       "    </tr>\n",
       "    <tr>\n",
       "      <th>User_2</th>\n",
       "      <td>0.40</td>\n",
       "      <td>0.01</td>\n",
       "      <td>0.06</td>\n",
       "      <td>0.2</td>\n",
       "    </tr>\n",
       "    <tr>\n",
       "      <th>User_3</th>\n",
       "      <td>0.05</td>\n",
       "      <td>2.10</td>\n",
       "      <td>0.01</td>\n",
       "      <td>2.2</td>\n",
       "    </tr>\n",
       "    <tr>\n",
       "      <th>User_4</th>\n",
       "      <td>0.30</td>\n",
       "      <td>0.01</td>\n",
       "      <td>0.20</td>\n",
       "      <td>0.2</td>\n",
       "    </tr>\n",
       "    <tr>\n",
       "      <th>User_5</th>\n",
       "      <td>0.10</td>\n",
       "      <td>1.50</td>\n",
       "      <td>0.90</td>\n",
       "      <td>0.0</td>\n",
       "    </tr>\n",
       "    <tr>\n",
       "      <th>User_6</th>\n",
       "      <td>0.00</td>\n",
       "      <td>0.03</td>\n",
       "      <td>0.40</td>\n",
       "      <td>0.5</td>\n",
       "    </tr>\n",
       "    <tr>\n",
       "      <th>User_7</th>\n",
       "      <td>0.01</td>\n",
       "      <td>0.02</td>\n",
       "      <td>0.66</td>\n",
       "      <td>0.4</td>\n",
       "    </tr>\n",
       "    <tr>\n",
       "      <th>User_8</th>\n",
       "      <td>0.90</td>\n",
       "      <td>0.70</td>\n",
       "      <td>0.00</td>\n",
       "      <td>1.0</td>\n",
       "    </tr>\n",
       "    <tr>\n",
       "      <th>User_9</th>\n",
       "      <td>1.00</td>\n",
       "      <td>2.00</td>\n",
       "      <td>0.04</td>\n",
       "      <td>0.2</td>\n",
       "    </tr>\n",
       "  </tbody>\n",
       "</table>\n",
       "</div>"
      ],
      "text/plain": [
       "        U_LF_1  U_LF_2  U_LF_3  U_LF_4\n",
       "User_1    0.80    0.01    0.30     0.8\n",
       "User_2    0.40    0.01    0.06     0.2\n",
       "User_3    0.05    2.10    0.01     2.2\n",
       "User_4    0.30    0.01    0.20     0.2\n",
       "User_5    0.10    1.50    0.90     0.0\n",
       "User_6    0.00    0.03    0.40     0.5\n",
       "User_7    0.01    0.02    0.66     0.4\n",
       "User_8    0.90    0.70    0.00     1.0\n",
       "User_9    1.00    2.00    0.04     0.2"
      ]
     },
     "execution_count": 15,
     "metadata": {},
     "output_type": "execute_result"
    }
   ],
   "source": [
    "U = pd.DataFrame(np.array([[0.8, 0.01, 0.3, 0.8],\n",
    "                           [0.4, 0.01, 0.06, 0.2],\n",
    "                           [0.05, 2.1, 0.01, 2.2],\n",
    "                           [0.3, 0.01, 0.2, 0.2],\n",
    "                           [0.1, 1.5, 0.9, 0.0],\n",
    "                           [0.0, 0.03, 0.4, 0.5],\n",
    "                           [0.01, 0.02, 0.66, 0.4],\n",
    "                           [0.9, 0.7, 0.0, 1.0],\n",
    "                           [1.0, 2.0, 0.04, 0.2]]),\n",
    "                 index=['User_1', 'User_2', 'User_3', 'User_4', 'User_5', 'User_6', 'User_7', 'User_8', 'User_9'],\n",
    "                 columns=['U_LF_1', 'U_LF_2', 'U_LF_3', 'U_LF_4'])\n",
    "U"
   ]
  },
  {
   "cell_type": "code",
   "execution_count": 16,
   "id": "f30fd1c4-4a1d-4d3d-8987-857ee93c780f",
   "metadata": {
    "execution": {
     "iopub.execute_input": "2023-04-26T16:09:43.693438Z",
     "iopub.status.busy": "2023-04-26T16:09:43.693303Z",
     "iopub.status.idle": "2023-04-26T16:09:43.699001Z",
     "shell.execute_reply": "2023-04-26T16:09:43.698676Z",
     "shell.execute_reply.started": "2023-04-26T16:09:43.693426Z"
    },
    "tags": []
   },
   "outputs": [
    {
     "data": {
      "text/html": [
       "<div>\n",
       "<style scoped>\n",
       "    .dataframe tbody tr th:only-of-type {\n",
       "        vertical-align: middle;\n",
       "    }\n",
       "\n",
       "    .dataframe tbody tr th {\n",
       "        vertical-align: top;\n",
       "    }\n",
       "\n",
       "    .dataframe thead th {\n",
       "        text-align: right;\n",
       "    }\n",
       "</style>\n",
       "<table border=\"1\" class=\"dataframe\">\n",
       "  <thead>\n",
       "    <tr style=\"text-align: right;\">\n",
       "      <th></th>\n",
       "      <th>Movie_1</th>\n",
       "      <th>Movie_2</th>\n",
       "      <th>Movie_3</th>\n",
       "      <th>Movie_4</th>\n",
       "    </tr>\n",
       "  </thead>\n",
       "  <tbody>\n",
       "    <tr>\n",
       "      <th>P_LF_1</th>\n",
       "      <td>0.5</td>\n",
       "      <td>0.1</td>\n",
       "      <td>0.4</td>\n",
       "      <td>1.10</td>\n",
       "    </tr>\n",
       "    <tr>\n",
       "      <th>P_LF_2</th>\n",
       "      <td>0.2</td>\n",
       "      <td>2.0</td>\n",
       "      <td>0.0</td>\n",
       "      <td>0.01</td>\n",
       "    </tr>\n",
       "    <tr>\n",
       "      <th>P_LF_3</th>\n",
       "      <td>0.3</td>\n",
       "      <td>1.9</td>\n",
       "      <td>0.6</td>\n",
       "      <td>0.90</td>\n",
       "    </tr>\n",
       "    <tr>\n",
       "      <th>P_LF_4</th>\n",
       "      <td>1.0</td>\n",
       "      <td>0.2</td>\n",
       "      <td>1.0</td>\n",
       "      <td>0.89</td>\n",
       "    </tr>\n",
       "  </tbody>\n",
       "</table>\n",
       "</div>"
      ],
      "text/plain": [
       "        Movie_1  Movie_2  Movie_3  Movie_4\n",
       "P_LF_1      0.5      0.1      0.4     1.10\n",
       "P_LF_2      0.2      2.0      0.0     0.01\n",
       "P_LF_3      0.3      1.9      0.6     0.90\n",
       "P_LF_4      1.0      0.2      1.0     0.89"
      ]
     },
     "execution_count": 16,
     "metadata": {},
     "output_type": "execute_result"
    }
   ],
   "source": [
    "P = pd.DataFrame(np.array([[0.5, 0.1, 0.4, 1.1],\n",
    "                           [0.2, 2.0, 0.0, 0.01],\n",
    "                           [0.3, 1.9, 0.6, 0.9],\n",
    "                           [1.0, 0.2, 1.0, 0.89]]),\n",
    "                 index=[\"P_LF_1\", \"P_LF_2\", \"P_LF_3\", \"P_LF_4\"],\n",
    "                 columns=[\"Movie_1\", \"Movie_2\", \"Movie_3\", \"Movie_4\"])\n",
    "P"
   ]
  },
  {
   "cell_type": "markdown",
   "id": "1483b4ac-15f7-4826-a587-d29f01976189",
   "metadata": {},
   "source": [
    "Looking at U and P, which movie do you think will have the highest recommendation for User_3."
   ]
  },
  {
   "cell_type": "code",
   "execution_count": 17,
   "id": "b0f60c50-03be-42a0-90df-3ba410d65125",
   "metadata": {
    "execution": {
     "iopub.execute_input": "2023-04-26T16:09:43.699710Z",
     "iopub.status.busy": "2023-04-26T16:09:43.699446Z",
     "iopub.status.idle": "2023-04-26T16:09:43.741780Z",
     "shell.execute_reply": "2023-04-26T16:09:43.741407Z",
     "shell.execute_reply.started": "2023-04-26T16:09:43.699698Z"
    },
    "tags": []
   },
   "outputs": [
    {
     "data": {
      "text/html": [
       "<style type=\"text/css\">\n",
       "#T_e2109_row0_col0, #T_e2109_row0_col2 {\n",
       "  background-color: #d2d3e7;\n",
       "  color: #000000;\n",
       "}\n",
       "#T_e2109_row0_col1 {\n",
       "  background-color: #eae6f1;\n",
       "  color: #000000;\n",
       "}\n",
       "#T_e2109_row0_col3 {\n",
       "  background-color: #a9bfdc;\n",
       "  color: #000000;\n",
       "}\n",
       "#T_e2109_row1_col0, #T_e2109_row3_col0, #T_e2109_row3_col2 {\n",
       "  background-color: #f8f1f8;\n",
       "  color: #000000;\n",
       "}\n",
       "#T_e2109_row1_col1 {\n",
       "  background-color: #fff7fb;\n",
       "  color: #000000;\n",
       "}\n",
       "#T_e2109_row1_col2 {\n",
       "  background-color: #f9f2f8;\n",
       "  color: #000000;\n",
       "}\n",
       "#T_e2109_row1_col3, #T_e2109_row3_col3 {\n",
       "  background-color: #f0eaf4;\n",
       "  color: #000000;\n",
       "}\n",
       "#T_e2109_row2_col0 {\n",
       "  background-color: #60a1ca;\n",
       "  color: #f1f1f1;\n",
       "}\n",
       "#T_e2109_row2_col1 {\n",
       "  background-color: #023b5d;\n",
       "  color: #f1f1f1;\n",
       "}\n",
       "#T_e2109_row2_col2 {\n",
       "  background-color: #89b1d4;\n",
       "  color: #000000;\n",
       "}\n",
       "#T_e2109_row2_col3 {\n",
       "  background-color: #9ab8d8;\n",
       "  color: #000000;\n",
       "}\n",
       "#T_e2109_row3_col1 {\n",
       "  background-color: #f7f0f7;\n",
       "  color: #000000;\n",
       "}\n",
       "#T_e2109_row4_col0, #T_e2109_row5_col0, #T_e2109_row8_col2 {\n",
       "  background-color: #f1ebf5;\n",
       "  color: #000000;\n",
       "}\n",
       "#T_e2109_row4_col1 {\n",
       "  background-color: #023858;\n",
       "  color: #f1f1f1;\n",
       "}\n",
       "#T_e2109_row4_col2 {\n",
       "  background-color: #f3edf5;\n",
       "  color: #000000;\n",
       "}\n",
       "#T_e2109_row4_col3, #T_e2109_row5_col1 {\n",
       "  background-color: #e5e1ef;\n",
       "  color: #000000;\n",
       "}\n",
       "#T_e2109_row5_col2 {\n",
       "  background-color: #eee8f3;\n",
       "  color: #000000;\n",
       "}\n",
       "#T_e2109_row5_col3, #T_e2109_row6_col2 {\n",
       "  background-color: #ebe6f2;\n",
       "  color: #000000;\n",
       "}\n",
       "#T_e2109_row6_col0 {\n",
       "  background-color: #f2ecf5;\n",
       "  color: #000000;\n",
       "}\n",
       "#T_e2109_row6_col1, #T_e2109_row7_col2 {\n",
       "  background-color: #ced0e6;\n",
       "  color: #000000;\n",
       "}\n",
       "#T_e2109_row6_col3 {\n",
       "  background-color: #e3e0ee;\n",
       "  color: #000000;\n",
       "}\n",
       "#T_e2109_row7_col0 {\n",
       "  background-color: #bdc8e1;\n",
       "  color: #000000;\n",
       "}\n",
       "#T_e2109_row7_col1 {\n",
       "  background-color: #b7c5df;\n",
       "  color: #000000;\n",
       "}\n",
       "#T_e2109_row7_col3 {\n",
       "  background-color: #a7bddb;\n",
       "  color: #000000;\n",
       "}\n",
       "#T_e2109_row8_col0 {\n",
       "  background-color: #dbdaeb;\n",
       "  color: #000000;\n",
       "}\n",
       "#T_e2109_row8_col1 {\n",
       "  background-color: #045687;\n",
       "  color: #f1f1f1;\n",
       "}\n",
       "#T_e2109_row8_col3 {\n",
       "  background-color: #d1d2e6;\n",
       "  color: #000000;\n",
       "}\n",
       "</style>\n",
       "<table id=\"T_e2109\">\n",
       "  <thead>\n",
       "    <tr>\n",
       "      <th class=\"blank level0\" >&nbsp;</th>\n",
       "      <th id=\"T_e2109_level0_col0\" class=\"col_heading level0 col0\" >Movie_1</th>\n",
       "      <th id=\"T_e2109_level0_col1\" class=\"col_heading level0 col1\" >Movie_2</th>\n",
       "      <th id=\"T_e2109_level0_col2\" class=\"col_heading level0 col2\" >Movie_3</th>\n",
       "      <th id=\"T_e2109_level0_col3\" class=\"col_heading level0 col3\" >Movie_4</th>\n",
       "    </tr>\n",
       "  </thead>\n",
       "  <tbody>\n",
       "    <tr>\n",
       "      <th id=\"T_e2109_level0_row0\" class=\"row_heading level0 row0\" >User_1</th>\n",
       "      <td id=\"T_e2109_row0_col0\" class=\"data row0 col0\" >1.292000</td>\n",
       "      <td id=\"T_e2109_row0_col1\" class=\"data row0 col1\" >0.830000</td>\n",
       "      <td id=\"T_e2109_row0_col2\" class=\"data row0 col2\" >1.300000</td>\n",
       "      <td id=\"T_e2109_row0_col3\" class=\"data row0 col3\" >1.862100</td>\n",
       "    </tr>\n",
       "    <tr>\n",
       "      <th id=\"T_e2109_level0_row1\" class=\"row_heading level0 row1\" >User_2</th>\n",
       "      <td id=\"T_e2109_row1_col0\" class=\"data row1 col0\" >0.420000</td>\n",
       "      <td id=\"T_e2109_row1_col1\" class=\"data row1 col1\" >0.214000</td>\n",
       "      <td id=\"T_e2109_row1_col2\" class=\"data row1 col2\" >0.396000</td>\n",
       "      <td id=\"T_e2109_row1_col3\" class=\"data row1 col3\" >0.672100</td>\n",
       "    </tr>\n",
       "    <tr>\n",
       "      <th id=\"T_e2109_level0_row2\" class=\"row_heading level0 row2\" >User_3</th>\n",
       "      <td id=\"T_e2109_row2_col0\" class=\"data row2 col0\" >2.648000</td>\n",
       "      <td id=\"T_e2109_row2_col1\" class=\"data row2 col1\" >4.664000</td>\n",
       "      <td id=\"T_e2109_row2_col2\" class=\"data row2 col2\" >2.226000</td>\n",
       "      <td id=\"T_e2109_row2_col3\" class=\"data row2 col3\" >2.043000</td>\n",
       "    </tr>\n",
       "    <tr>\n",
       "      <th id=\"T_e2109_level0_row3\" class=\"row_heading level0 row3\" >User_4</th>\n",
       "      <td id=\"T_e2109_row3_col0\" class=\"data row3 col0\" >0.412000</td>\n",
       "      <td id=\"T_e2109_row3_col1\" class=\"data row3 col1\" >0.470000</td>\n",
       "      <td id=\"T_e2109_row3_col2\" class=\"data row3 col2\" >0.440000</td>\n",
       "      <td id=\"T_e2109_row3_col3\" class=\"data row3 col3\" >0.688100</td>\n",
       "    </tr>\n",
       "    <tr>\n",
       "      <th id=\"T_e2109_level0_row4\" class=\"row_heading level0 row4\" >User_5</th>\n",
       "      <td id=\"T_e2109_row4_col0\" class=\"data row4 col0\" >0.620000</td>\n",
       "      <td id=\"T_e2109_row4_col1\" class=\"data row4 col1\" >4.720000</td>\n",
       "      <td id=\"T_e2109_row4_col2\" class=\"data row4 col2\" >0.580000</td>\n",
       "      <td id=\"T_e2109_row4_col3\" class=\"data row4 col3\" >0.935000</td>\n",
       "    </tr>\n",
       "    <tr>\n",
       "      <th id=\"T_e2109_level0_row5\" class=\"row_heading level0 row5\" >User_6</th>\n",
       "      <td id=\"T_e2109_row5_col0\" class=\"data row5 col0\" >0.626000</td>\n",
       "      <td id=\"T_e2109_row5_col1\" class=\"data row5 col1\" >0.920000</td>\n",
       "      <td id=\"T_e2109_row5_col2\" class=\"data row5 col2\" >0.740000</td>\n",
       "      <td id=\"T_e2109_row5_col3\" class=\"data row5 col3\" >0.805300</td>\n",
       "    </tr>\n",
       "    <tr>\n",
       "      <th id=\"T_e2109_level0_row6\" class=\"row_heading level0 row6\" >User_7</th>\n",
       "      <td id=\"T_e2109_row6_col0\" class=\"data row6 col0\" >0.607000</td>\n",
       "      <td id=\"T_e2109_row6_col1\" class=\"data row6 col1\" >1.375000</td>\n",
       "      <td id=\"T_e2109_row6_col2\" class=\"data row6 col2\" >0.800000</td>\n",
       "      <td id=\"T_e2109_row6_col3\" class=\"data row6 col3\" >0.961200</td>\n",
       "    </tr>\n",
       "    <tr>\n",
       "      <th id=\"T_e2109_level0_row7\" class=\"row_heading level0 row7\" >User_8</th>\n",
       "      <td id=\"T_e2109_row7_col0\" class=\"data row7 col0\" >1.590000</td>\n",
       "      <td id=\"T_e2109_row7_col1\" class=\"data row7 col1\" >1.690000</td>\n",
       "      <td id=\"T_e2109_row7_col2\" class=\"data row7 col2\" >1.360000</td>\n",
       "      <td id=\"T_e2109_row7_col3\" class=\"data row7 col3\" >1.887000</td>\n",
       "    </tr>\n",
       "    <tr>\n",
       "      <th id=\"T_e2109_level0_row8\" class=\"row_heading level0 row8\" >User_9</th>\n",
       "      <td id=\"T_e2109_row8_col0\" class=\"data row8 col0\" >1.112000</td>\n",
       "      <td id=\"T_e2109_row8_col1\" class=\"data row8 col1\" >4.216000</td>\n",
       "      <td id=\"T_e2109_row8_col2\" class=\"data row8 col2\" >0.624000</td>\n",
       "      <td id=\"T_e2109_row8_col3\" class=\"data row8 col3\" >1.334000</td>\n",
       "    </tr>\n",
       "  </tbody>\n",
       "</table>\n"
      ],
      "text/plain": [
       "<pandas.io.formats.style.Styler at 0x7f2af3dbf100>"
      ]
     },
     "execution_count": 17,
     "metadata": {},
     "output_type": "execute_result"
    }
   ],
   "source": [
    "# Multiply factor matrices\n",
    "UP = np.matmul(U.values, P.values)\n",
    "\n",
    "# Convert to pandas DataFrame\n",
    "pd.DataFrame(UP, columns = P.columns, index = U.index).style.background_gradient(axis=None)"
   ]
  },
  {
   "cell_type": "markdown",
   "id": "b89bd006-1640-4eec-b097-148448a5f3bc",
   "metadata": {},
   "source": [
    "### RMSE and ALS alternates"
   ]
  },
  {
   "cell_type": "code",
   "execution_count": 18,
   "id": "8ec23217-2bbc-4093-b92e-e417de4904fe",
   "metadata": {
    "execution": {
     "iopub.execute_input": "2023-04-26T16:09:43.742553Z",
     "iopub.status.busy": "2023-04-26T16:09:43.742307Z",
     "iopub.status.idle": "2023-04-26T16:09:43.753283Z",
     "shell.execute_reply": "2023-04-26T16:09:43.752869Z",
     "shell.execute_reply.started": "2023-04-26T16:09:43.742539Z"
    },
    "tags": []
   },
   "outputs": [],
   "source": [
    "T = pd.DataFrame({0: {0: 1.292, 1: 0.42, 2: 0.08, 3: 0.412, 4: 0.62, 5: 0.626, 6: 0.0, 7: 1.59, 8: 0.0}, 1: {0: 0.0, 1: 0.0, 2: 4.664, 3: 0.47, 4: 0.0, 5: 0.0, 6: 1.375, 7: 1.69, 8: 4.216}, 2: {0: 1.3, 1: 0.396, 2: 2.226, 3: 0.0, 4: 0.58, 5: 0.0, 6: 0.8, 7: 1.36, 8: 0.624}, 3: {0: 0.0, 1: 0.6721, 2: 2.043, 3: 0.0, 4: 0.935, 5: 0.8053, 6: 0.9612, 7: 0.0, 8: 0.0}})\n",
    "F1 = pd.DataFrame({0: {0: 2, 1: 1, 2: 1, 3: 1, 4: 3, 5: 4, 6: 2, 7: 4, 8: 4}, 1: {0: 4, 1: 3, 2: 4, 3: 4, 4: 3, 5: 2, 6: 4, 7: 3, 8: 1}, 2: {0: 3, 1: 2, 2: 4, 3: 4, 4: 1, 5: 4, 6: 3, 7: 3, 8: 3}, 3: {0: 3, 1: 1, 2: 3, 3: 3, 4: 3, 5: 1, 6: 4, 7: 4, 8: 2}})\n",
    "F2 = pd.DataFrame({0: {0: 0.7276845605456583, 1: 0.2972162515949431, 2: 0.6684103841772332, 3: 0.10356292108571152, 4: 0.2788049127462368, 5: 0.1833175716784896, 6: 0.0, 7: 0.9819681824878523, 8: 0.0}, 1: {0: 0.0, 1: 0.0, 2: 5.133314382547687, 3: 0.4494655185366921, 4: 0.0, 5: 0.0, 6: 1.817580601657848, 7: 2.720610558441755, 8: 2.667366674847455}, 2: {0: 0.7816137663665544, 1: 0.2898334245675139, 2: 2.090947607279091, 3: 0.0, 4: 0.5643273601209946, 5: 0.0, 6: 0.7181012176124341, 7: 1.029218987922719, 8: 0.8200154534789706}, 3: {0: 0.0, 1: 0.1499720792763105, 2: 1.7276154180386931, 3: 0.0, 4: 0.32621995264108916, 5: 0.22984785075635933, 6: 0.6873269305813324, 7: 0.0, 8: 0.0}})\n",
    "F3 = pd.DataFrame({0: {0: 1.492244544405576, 1: 0.3971790359091946, 2: 0.1412048503383586, 3: 0.1092555086372637, 4: 0.6192730100600089, 5: 0.37792092895633184, 6: 0.0, 7: 1.391170523003995, 8: 0.0}, 1: {0: 0.0, 1: 0.0, 2: 4.940441255371812, 3: 0.3430329338282129, 4: 0.0, 5: 0.0, 6: 1.3506756720195645, 7: 1.8109451554711358, 8: 3.820890212142733}, 2: {0: 0.9906046679345504, 1: 0.43573289233260093, 2: 1.8814918023645575, 3: 0.0, 4: 0.6868592910926297, 5: 0.0, 6: 0.6762102891509367, 7: 1.3902807929383285, 8: 1.1602964864686154}, 3: {0: 0.0, 1: 0.5634621047651994, 2: 1.9051201248296687, 3: 0.0, 4: 0.9732927573503258, 5: 0.6082012051404062, 6: 0.8832044907058253, 7: 0.0, 8: 0.0}})\n",
    "F4 = pd.DataFrame({0: {0: 1.2328116960563509, 1: 0.3086750565288739, 2: 0.39914187738232604, 3: 0.2818453154193397, 4: 0.5314547994330507, 5: 0.3191773892685046, 6: 0.0, 7: 1.6153841993425948, 8: 0.0}, 1: {0: 0.0, 1: 0.0, 2: 4.868624864462818, 3: 0.41975332506620483, 4: 0.0, 5: 0.0, 6: 1.4883573519834, 7: 1.5536205404463495, 8: 4.01875305549703}, 2: {0: 0.9634322034866029, 1: 0.40656803594098884, 2: 1.9875103148593356, 3: 0.0, 4: 0.6268334544838284, 5: 0.0, 6: 0.7192897770862041, 7: 1.5268895114218426, 8: 0.8568217198229018}, 3: {0: 0.0, 1: 0.8277327520777978, 2: 1.6734205007276095, 3: 0.0, 4: 1.098207680580611, 5: 0.8558954578032543, 6: 0.8075196202801012, 7: 0.0, 8: 0.0}})\n",
    "F5 = pd.DataFrame({0: {0: 1.1918276586761334, 1: 0.48296043557884366, 2: 0.27082246932783494, 3: 0.3648945271982186, 4: 0.7038666570625396, 5: 0.8291173813793535, 6: 0.0, 7: 1.4762825249091456, 8: 0.0}, 1: {0: 0.0, 1: 0.0, 2: 4.665225281243459, 3: 0.4663077770482654, 4: 0.0, 5: 0.0, 6: 1.350147885750201, 7: 1.6329724133262897, 8: 4.086277241219637}, 2: {0: 0.7569023614052337, 1: 0.46694562856708427, 2: 2.179591287033028, 3: 0.0, 4: 0.6615227944651105, 5: 0.0, 6: 0.78887516819961, 7: 1.4576973259168429, 8: 0.7357222893419664}, 3: {0: 0.0, 1: 0.6349129096467335, 2: 2.058922581112409, 3: 0.0, 4: 0.8960993494430277, 5: 0.41369289143304633, 6: 1.0276194917678194, 7: 0.0, 8: 0.0}})\n",
    "F6 = pd.DataFrame({0: {0: 1.3925335702488837, 1: 0.4484334008021943, 2: 0.08601778758214597, 3: 0.24883534923607198, 4: 0.6595383383218987, 5: 0.611369099120054, 6: 0.0, 7: 1.5109305267866935, 8: 0.0}, 1: {0: 0.0, 1: 0.0, 2: 4.6288782331984715, 3: 0.43708137302705913, 4: 0.0, 5: 0.0, 6: 1.3386551785475418, 7: 1.681586567710403, 8: 4.21410842023286}, 2: {0: 1.1909538847011532, 1: 0.38891205376055604, 2: 2.2059278309456136, 3: 0.0, 4: 0.5709599432288439, 5: 0.0, 6: 0.8599375017858101, 7: 1.4450324091551967, 8: 0.6293274706160811}, 3: {0: 0.0, 1: 0.6541628872016827, 2: 2.0519239375916167, 3: 0.0, 4: 0.9099036222343462, 5: 0.8155947107816741, 6: 0.9447891763067716, 7: 0.0, 8: 0.0}})"
   ]
  },
  {
   "cell_type": "code",
   "execution_count": 19,
   "id": "7e2432a9-1ad7-426e-9cbb-3670426c9fa0",
   "metadata": {
    "execution": {
     "iopub.execute_input": "2023-04-26T16:09:43.754005Z",
     "iopub.status.busy": "2023-04-26T16:09:43.753876Z",
     "iopub.status.idle": "2023-04-26T16:09:43.759492Z",
     "shell.execute_reply": "2023-04-26T16:09:43.759176Z",
     "shell.execute_reply.started": "2023-04-26T16:09:43.753994Z"
    },
    "tags": []
   },
   "outputs": [
    {
     "data": {
      "text/plain": [
       "{'F1': 2.479, 'F2': 0.439, 'F3': 0.176, 'F4': 0.152, 'F5': 0.132, 'F6': 0.045}"
      ]
     },
     "execution_count": 19,
     "metadata": {},
     "output_type": "execute_result"
    }
   ],
   "source": [
    "{f'F{i+1}':getRMSE(preds, T) for i, preds in enumerate([F1,F2,F3,F4,F5,F6])}"
   ]
  },
  {
   "cell_type": "markdown",
   "id": "0f118268-0d98-4438-8510-422eba6d9bd0",
   "metadata": {},
   "source": [
    "# Data preparation for Spark ALS"
   ]
  },
  {
   "cell_type": "code",
   "execution_count": 20,
   "id": "b3216e20-536e-4b6d-a3b4-641802fe2549",
   "metadata": {
    "execution": {
     "iopub.execute_input": "2023-04-26T16:09:43.760115Z",
     "iopub.status.busy": "2023-04-26T16:09:43.759907Z",
     "iopub.status.idle": "2023-04-26T16:09:43.811494Z",
     "shell.execute_reply": "2023-04-26T16:09:43.810920Z",
     "shell.execute_reply.started": "2023-04-26T16:09:43.760103Z"
    },
    "tags": []
   },
   "outputs": [
    {
     "name": "stdout",
     "output_type": "stream",
     "text": [
      "+------+-------+------+----------+\n",
      "|userId|movieId|rating| timestamp|\n",
      "+------+-------+------+----------+\n",
      "|     1|     31|   2.5|1260759144|\n",
      "|     1|   1029|   3.0|1260759179|\n",
      "|     1|   1061|   3.0|1260759182|\n",
      "|     1|   1129|   2.0|1260759185|\n",
      "|     1|   1172|   4.0|1260759205|\n",
      "+------+-------+------+----------+\n",
      "only showing top 5 rows\n",
      "\n"
     ]
    }
   ],
   "source": [
    "ratings.show(5)"
   ]
  },
  {
   "cell_type": "code",
   "execution_count": 21,
   "id": "73976b33-6189-4836-804d-e5529f06c490",
   "metadata": {
    "execution": {
     "iopub.execute_input": "2023-04-26T16:09:43.812705Z",
     "iopub.status.busy": "2023-04-26T16:09:43.812238Z",
     "iopub.status.idle": "2023-04-26T16:09:44.540223Z",
     "shell.execute_reply": "2023-04-26T16:09:44.539723Z",
     "shell.execute_reply.started": "2023-04-26T16:09:43.812684Z"
    },
    "tags": []
   },
   "outputs": [
    {
     "name": "stdout",
     "output_type": "stream",
     "text": [
      "+------+----+----+----+----+----+----+\n",
      "|userId|   1|   2|   3|   4|   5|   6|\n",
      "+------+----+----+----+----+----+----+\n",
      "|   471| 3.5| 3.0|null|null|null|null|\n",
      "|   496|null| 4.0| 3.0|null|null| 5.0|\n",
      "|   463| 3.0|null|null|null|null|null|\n",
      "|   623| 4.5|null|null|null|null|null|\n",
      "|   516|null|null| 3.0|null| 3.0| 4.0|\n",
      "+------+----+----+----+----+----+----+\n",
      "only showing top 5 rows\n",
      "\n"
     ]
    }
   ],
   "source": [
    "ratings.where('movieId < 7').groupBy('userId').pivot('movieId').agg(F.coalesce(F.first('rating'))).show(5)"
   ]
  },
  {
   "cell_type": "markdown",
   "id": "dff0279e-64a9-49e1-9b04-2786a67ab04e",
   "metadata": {
    "tags": []
   },
   "source": [
    "## Steps to get integer ID's\n",
    "1. Extract unique userIds and movieIds\n",
    "2. Assign unique integers to each id\n",
    "3. Rejoin unique integer id's back to the ratings data"
   ]
  },
  {
   "cell_type": "code",
   "execution_count": 22,
   "id": "4979abce-ce1a-4c8e-949c-47488e99010a",
   "metadata": {
    "execution": {
     "iopub.execute_input": "2023-04-26T16:09:44.542321Z",
     "iopub.status.busy": "2023-04-26T16:09:44.541976Z",
     "iopub.status.idle": "2023-04-26T16:09:45.120126Z",
     "shell.execute_reply": "2023-04-26T16:09:45.119684Z",
     "shell.execute_reply.started": "2023-04-26T16:09:44.542305Z"
    },
    "tags": []
   },
   "outputs": [
    {
     "name": "stdout",
     "output_type": "stream",
     "text": [
      "+------+\n",
      "|userId|\n",
      "+------+\n",
      "|   148|\n",
      "|   463|\n",
      "|   471|\n",
      "+------+\n",
      "only showing top 3 rows\n",
      "\n",
      "+------+---------+\n",
      "|userId|userIntId|\n",
      "+------+---------+\n",
      "|   148|        0|\n",
      "|   463|        1|\n",
      "|   471|        2|\n",
      "+------+---------+\n",
      "only showing top 3 rows\n",
      "\n"
     ]
    }
   ],
   "source": [
    "# Extracting distinct user IDs\n",
    "users = ratings.select('userId').distinct()\n",
    "users.show(3)\n",
    "\n",
    "# Coalesce method to avoid duplicate ids in distinct partitions\n",
    "users = users.coalesce(1)\n",
    "\n",
    "# Persist method to keep these values thwe same across all dataframe operations\n",
    "users = users.withColumn(\"userIntId\", F.monotonically_increasing_id()).persist()\n",
    "users.show(3)"
   ]
  },
  {
   "cell_type": "markdown",
   "id": "8aa1649c-f710-4740-8ce9-6456a24bc868",
   "metadata": {},
   "source": [
    "## Movie integer IDs"
   ]
  },
  {
   "cell_type": "code",
   "execution_count": 23,
   "id": "46c4a03e-ab83-4ab2-a93f-08c5d52af126",
   "metadata": {
    "execution": {
     "iopub.execute_input": "2023-04-26T16:09:45.120965Z",
     "iopub.status.busy": "2023-04-26T16:09:45.120698Z",
     "iopub.status.idle": "2023-04-26T16:09:45.500890Z",
     "shell.execute_reply": "2023-04-26T16:09:45.500527Z",
     "shell.execute_reply.started": "2023-04-26T16:09:45.120948Z"
    },
    "tags": []
   },
   "outputs": [
    {
     "name": "stdout",
     "output_type": "stream",
     "text": [
      "+-------+----------+\n",
      "|movieId|movieIdInt|\n",
      "+-------+----------+\n",
      "|   1580|         0|\n",
      "|   2659|         1|\n",
      "|   3794|         2|\n",
      "+-------+----------+\n",
      "only showing top 3 rows\n",
      "\n"
     ]
    }
   ],
   "source": [
    "movies = ratings.select(\"movieId\").distinct()\n",
    "movies = movies.coalesce(1)\n",
    "movies = movies.withColumn(\"movieIdInt\", F.monotonically_increasing_id()).persist()\n",
    "movies.show(3)"
   ]
  },
  {
   "cell_type": "markdown",
   "id": "79f2fa2d-fcf4-48bb-9877-53bba7d7b755",
   "metadata": {},
   "source": [
    "## Joining UserIds and MovieIds"
   ]
  },
  {
   "cell_type": "code",
   "execution_count": 24,
   "id": "d24baf20-b270-4965-9285-542f4a742fc4",
   "metadata": {
    "execution": {
     "iopub.execute_input": "2023-04-26T16:09:45.501392Z",
     "iopub.status.busy": "2023-04-26T16:09:45.501278Z",
     "iopub.status.idle": "2023-04-26T16:09:45.531300Z",
     "shell.execute_reply": "2023-04-26T16:09:45.530838Z",
     "shell.execute_reply.started": "2023-04-26T16:09:45.501376Z"
    }
   },
   "outputs": [
    {
     "name": "stdout",
     "output_type": "stream",
     "text": [
      "+------+-------+------+----------+\n",
      "|userId|movieId|rating| timestamp|\n",
      "+------+-------+------+----------+\n",
      "|     1|     31|   2.5|1260759144|\n",
      "|     1|   1029|   3.0|1260759179|\n",
      "|     1|   1061|   3.0|1260759182|\n",
      "|     1|   1129|   2.0|1260759185|\n",
      "|     1|   1172|   4.0|1260759205|\n",
      "|     1|   1263|   2.0|1260759151|\n",
      "|     1|   1287|   2.0|1260759187|\n",
      "|     1|   1293|   2.0|1260759148|\n",
      "|     1|   1339|   3.5|1260759125|\n",
      "|     1|   1343|   2.0|1260759131|\n",
      "|     1|   1371|   2.5|1260759135|\n",
      "|     1|   1405|   1.0|1260759203|\n",
      "|     1|   1953|   4.0|1260759191|\n",
      "|     1|   2105|   4.0|1260759139|\n",
      "|     1|   2150|   3.0|1260759194|\n",
      "|     1|   2193|   2.0|1260759198|\n",
      "|     1|   2294|   2.0|1260759108|\n",
      "|     1|   2455|   2.5|1260759113|\n",
      "|     1|   2968|   1.0|1260759200|\n",
      "|     1|   3671|   3.0|1260759117|\n",
      "+------+-------+------+----------+\n",
      "only showing top 20 rows\n",
      "\n"
     ]
    }
   ],
   "source": [
    "ratings.show()"
   ]
  },
  {
   "cell_type": "code",
   "execution_count": 25,
   "id": "7ec63286-4dbe-4e40-81fe-7f0d95ed702e",
   "metadata": {
    "execution": {
     "iopub.execute_input": "2023-04-26T16:09:45.532159Z",
     "iopub.status.busy": "2023-04-26T16:09:45.531821Z",
     "iopub.status.idle": "2023-04-26T16:09:45.695516Z",
     "shell.execute_reply": "2023-04-26T16:09:45.695076Z",
     "shell.execute_reply.started": "2023-04-26T16:09:45.532140Z"
    }
   },
   "outputs": [
    {
     "name": "stdout",
     "output_type": "stream",
     "text": [
      "+-------+------+------+----------+---------+----------+\n",
      "|movieId|userId|rating| timestamp|userIntId|movieIdInt|\n",
      "+-------+------+------+----------+---------+----------+\n",
      "|     31|     1|   2.5|1260759144|      146|        88|\n",
      "|   1029|     1|   3.0|1260759179|      146|      2919|\n",
      "|   1061|     1|   3.0|1260759182|      146|      1484|\n",
      "|   1129|     1|   2.0|1260759185|      146|      7456|\n",
      "|   1172|     1|   4.0|1260759205|      146|      1955|\n",
      "|   1263|     1|   2.0|1260759151|      146|      3636|\n",
      "|   1287|     1|   2.0|1260759187|      146|      4852|\n",
      "|   1293|     1|   2.0|1260759148|      146|      4161|\n",
      "|   1339|     1|   3.5|1260759125|      146|        89|\n",
      "|   1343|     1|   2.0|1260759131|      146|      5705|\n",
      "|   1371|     1|   2.5|1260759135|      146|      8279|\n",
      "|   1405|     1|   1.0|1260759203|      146|      5827|\n",
      "|   1953|     1|   4.0|1260759191|      146|      7229|\n",
      "|   2105|     1|   4.0|1260759139|      146|      3086|\n",
      "|   2150|     1|   3.0|1260759194|      146|      3399|\n",
      "|   2193|     1|   2.0|1260759198|      146|      2476|\n",
      "|   2294|     1|   2.0|1260759108|      146|       433|\n",
      "|   2455|     1|   2.5|1260759113|      146|      2199|\n",
      "|   2968|     1|   1.0|1260759200|      146|      4006|\n",
      "|   3671|     1|   3.0|1260759117|      146|      4007|\n",
      "+-------+------+------+----------+---------+----------+\n",
      "only showing top 20 rows\n",
      "\n"
     ]
    }
   ],
   "source": [
    "ratings_w_int_ids = ratings.join(users, \"userId\", \"left\").join(movies, \"movieId\", \"left\")\n",
    "ratings_w_int_ids.show()"
   ]
  },
  {
   "cell_type": "code",
   "execution_count": 26,
   "id": "120c4bfb-7b6d-4546-b747-363f50d91076",
   "metadata": {
    "execution": {
     "iopub.execute_input": "2023-04-26T16:09:45.696087Z",
     "iopub.status.busy": "2023-04-26T16:09:45.695965Z",
     "iopub.status.idle": "2023-04-26T16:09:45.818254Z",
     "shell.execute_reply": "2023-04-26T16:09:45.817673Z",
     "shell.execute_reply.started": "2023-04-26T16:09:45.696075Z"
    },
    "tags": []
   },
   "outputs": [
    {
     "name": "stdout",
     "output_type": "stream",
     "text": [
      "+------+-------+------+\n",
      "|userid|movieId|rating|\n",
      "+------+-------+------+\n",
      "|   146|     88|   2.5|\n",
      "|   146|   2919|   3.0|\n",
      "|   146|   1484|   3.0|\n",
      "+------+-------+------+\n",
      "only showing top 3 rows\n",
      "\n"
     ]
    }
   ],
   "source": [
    "ratings_data = ratings_w_int_ids.select(F.col(\"userIntId\").alias(\"userid\"),\n",
    "                                        F.col(\"movieIdInt\").alias(\"movieId\"),\n",
    "                                        F.col(\"rating\"))\n",
    "ratings_data.show(3)"
   ]
  },
  {
   "cell_type": "code",
   "execution_count": 27,
   "id": "2530fa1d-8e0b-41c8-9228-7d2750f8d00e",
   "metadata": {
    "execution": {
     "iopub.execute_input": "2023-04-26T16:09:45.819310Z",
     "iopub.status.busy": "2023-04-26T16:09:45.818954Z",
     "iopub.status.idle": "2023-04-26T16:09:45.905079Z",
     "shell.execute_reply": "2023-04-26T16:09:45.904554Z",
     "shell.execute_reply.started": "2023-04-26T16:09:45.819284Z"
    }
   },
   "outputs": [
    {
     "data": {
      "text/plain": [
       "1"
      ]
     },
     "execution_count": 27,
     "metadata": {},
     "output_type": "execute_result"
    }
   ],
   "source": [
    "ratings_data.rdd.getNumPartitions()"
   ]
  },
  {
   "cell_type": "markdown",
   "id": "b0c89819-e32e-42b1-a49f-f576cd629748",
   "metadata": {},
   "source": [
    "## Exercises"
   ]
  },
  {
   "cell_type": "code",
   "execution_count": 28,
   "id": "abd88056-4bd3-44c4-9a94-6163191ad8b7",
   "metadata": {
    "execution": {
     "iopub.execute_input": "2023-04-26T16:09:45.905996Z",
     "iopub.status.busy": "2023-04-26T16:09:45.905649Z",
     "iopub.status.idle": "2023-04-26T16:09:45.909048Z",
     "shell.execute_reply": "2023-04-26T16:09:45.908636Z",
     "shell.execute_reply.started": "2023-04-26T16:09:45.905975Z"
    },
    "tags": []
   },
   "outputs": [],
   "source": [
    "def to_long(df, by=[\"User\"]):\n",
    "    \"\"\"\n",
    "    Converts traditional or \"wide\" dataframe into a \"row-based\" dataframe, also known as a \"dense\" or \"long\" dataframe.\n",
    "\n",
    "    Parameters:\n",
    "      - df: array of columns with column names\n",
    "      - by: name of column which serves as\n",
    "\n",
    "    Returns: Row-based dataframe with no null values\n",
    "    \"\"\"\n",
    "    cols = [c for c in df.columns if c not in by]\n",
    "    # Create and explode an array of (column_name, column_value) structs\n",
    "    kvs = F.explode(\n",
    "        F.array([F.struct(F.lit(c).alias(\"Movie\"), F.col(c).alias(\"Rating\")) for c in cols])\n",
    "    ).alias(\"kvs\")\n",
    "    return (\n",
    "        df.select(by + [kvs])\n",
    "        .select(by + [\"kvs.Movie\", \"kvs.Rating\"])\n",
    "        .filter(\"rating IS NOT NULL\")\n",
    "    )"
   ]
  },
  {
   "cell_type": "markdown",
   "id": "59c4b31c-94d4-4e9f-bc89-c8fc7360ca45",
   "metadata": {},
   "source": [
    "### Correct format and distinct users"
   ]
  },
  {
   "cell_type": "code",
   "execution_count": 29,
   "id": "45a8da1c-a13a-463c-8200-7fe67467c878",
   "metadata": {
    "execution": {
     "iopub.execute_input": "2023-04-26T16:09:45.909618Z",
     "iopub.status.busy": "2023-04-26T16:09:45.909485Z",
     "iopub.status.idle": "2023-04-26T16:09:46.467071Z",
     "shell.execute_reply": "2023-04-26T16:09:46.466646Z",
     "shell.execute_reply.started": "2023-04-26T16:09:45.909607Z"
    },
    "tags": []
   },
   "outputs": [
    {
     "name": "stderr",
     "output_type": "stream",
     "text": [
      "/home/mauricio/miniconda3/envs/dev/lib/python3.10/site-packages/pyspark/sql/pandas/conversion.py:474: FutureWarning: iteritems is deprecated and will be removed in a future version. Use .items instead.\n",
      "  for column, series in pdf.iteritems():\n",
      "/home/mauricio/miniconda3/envs/dev/lib/python3.10/site-packages/pyspark/sql/pandas/conversion.py:486: FutureWarning: iteritems is deprecated and will be removed in a future version. Use .items instead.\n",
      "  for column, series in pdf.iteritems():\n"
     ]
    },
    {
     "name": "stdout",
     "output_type": "stream",
     "text": [
      "+----+-----+--------+----------+----------------+\n",
      "|Coco|Shrek|Sneakers|Swing Kids|            User|\n",
      "+----+-----+--------+----------+----------------+\n",
      "|   4|    3|       3|         4|    James Alking|\n",
      "|   5|    4|       2|      null|Elvira Marroquin|\n",
      "|   2| null|       5|         2|      Jack Bauer|\n",
      "|null|    5|       2|         2|     Julia James|\n",
      "+----+-----+--------+----------+----------------+\n",
      "\n"
     ]
    }
   ],
   "source": [
    "R = pd.DataFrame.from_dict({\"Coco\": {0: \"4\", 1: \"5\", 2: \"2\", 3: None},\n",
    "                            \"Shrek\": {0: \"3\", 1: \"4\", 2: None, 3: \"5\"},\n",
    "                            \"Sneakers\": {0: \"3\", 1: \"2\", 2: \"5\", 3: \"2\"},\n",
    "                            \"Swing Kids\": {0: \"4\", 1: None, 2: \"2\", 3: \"2\"},\n",
    "                            \"User\": {0: \"James Alking\",\n",
    "                                     1: \"Elvira Marroquin\",\n",
    "                                     2: \"Jack Bauer\",\n",
    "                                     3: \"Julia James\"}})\n",
    "R = spark.createDataFrame(R)\n",
    "R.show()"
   ]
  },
  {
   "cell_type": "code",
   "execution_count": 30,
   "id": "10de928a-d083-458a-ae98-5385e3c580ea",
   "metadata": {
    "execution": {
     "iopub.execute_input": "2023-04-26T16:09:46.467639Z",
     "iopub.status.busy": "2023-04-26T16:09:46.467523Z",
     "iopub.status.idle": "2023-04-26T16:09:46.762731Z",
     "shell.execute_reply": "2023-04-26T16:09:46.762276Z",
     "shell.execute_reply.started": "2023-04-26T16:09:46.467629Z"
    },
    "tags": []
   },
   "outputs": [
    {
     "name": "stdout",
     "output_type": "stream",
     "text": [
      "+----------------+----------+------+\n",
      "|            User|     Movie|Rating|\n",
      "+----------------+----------+------+\n",
      "|    James Alking|      Coco|     4|\n",
      "|    James Alking|     Shrek|     3|\n",
      "|    James Alking|  Sneakers|     3|\n",
      "|    James Alking|Swing Kids|     4|\n",
      "|Elvira Marroquin|      Coco|     5|\n",
      "|Elvira Marroquin|     Shrek|     4|\n",
      "|Elvira Marroquin|  Sneakers|     2|\n",
      "|      Jack Bauer|      Coco|     2|\n",
      "|      Jack Bauer|  Sneakers|     5|\n",
      "|      Jack Bauer|Swing Kids|     2|\n",
      "|     Julia James|     Shrek|     5|\n",
      "|     Julia James|  Sneakers|     2|\n",
      "|     Julia James|Swing Kids|     2|\n",
      "+----------------+----------+------+\n",
      "\n"
     ]
    }
   ],
   "source": [
    "# Use the to_long() function to convert the dataframe to the \"long\" format.\n",
    "ratings = to_long(R)\n",
    "ratings.show()"
   ]
  },
  {
   "cell_type": "code",
   "execution_count": 31,
   "id": "5647ee8e-04ce-4af2-b32d-f90bba1c3d7e",
   "metadata": {
    "execution": {
     "iopub.execute_input": "2023-04-26T16:09:46.763388Z",
     "iopub.status.busy": "2023-04-26T16:09:46.763220Z",
     "iopub.status.idle": "2023-04-26T16:09:46.988841Z",
     "shell.execute_reply": "2023-04-26T16:09:46.988356Z",
     "shell.execute_reply.started": "2023-04-26T16:09:46.763370Z"
    },
    "tags": []
   },
   "outputs": [
    {
     "name": "stdout",
     "output_type": "stream",
     "text": [
      "+----------------+\n",
      "|            User|\n",
      "+----------------+\n",
      "|    James Alking|\n",
      "|Elvira Marroquin|\n",
      "|      Jack Bauer|\n",
      "|     Julia James|\n",
      "+----------------+\n",
      "\n"
     ]
    }
   ],
   "source": [
    "# Get unique users and repartition to 1 partition\n",
    "users = ratings.select(\"User\").distinct().coalesce(1)\n",
    "users.show()"
   ]
  },
  {
   "cell_type": "code",
   "execution_count": 32,
   "id": "9b12d438-b79d-4706-a844-86f1da1201aa",
   "metadata": {
    "execution": {
     "iopub.execute_input": "2023-04-26T16:09:46.989639Z",
     "iopub.status.busy": "2023-04-26T16:09:46.989445Z",
     "iopub.status.idle": "2023-04-26T16:09:47.297022Z",
     "shell.execute_reply": "2023-04-26T16:09:47.296562Z",
     "shell.execute_reply.started": "2023-04-26T16:09:46.989620Z"
    },
    "tags": []
   },
   "outputs": [
    {
     "name": "stdout",
     "output_type": "stream",
     "text": [
      "+----------------+------+\n",
      "|            User|userId|\n",
      "+----------------+------+\n",
      "|Elvira Marroquin|     0|\n",
      "|      Jack Bauer|     1|\n",
      "|    James Alking|     2|\n",
      "|     Julia James|     3|\n",
      "+----------------+------+\n",
      "\n"
     ]
    }
   ],
   "source": [
    "# Create a new column of unique integers called \"userId\" in the users dataframe.\n",
    "users = users.withColumn(\"userId\", F.monotonically_increasing_id()).persist()\n",
    "users.show()"
   ]
  },
  {
   "cell_type": "markdown",
   "id": "344e4d08-173f-4e5f-9ff5-4a1e34a78951",
   "metadata": {},
   "source": [
    "### Assigning integer id's to movies"
   ]
  },
  {
   "cell_type": "code",
   "execution_count": 33,
   "id": "549c7b75-ec26-4274-91eb-67e0b180c290",
   "metadata": {
    "execution": {
     "iopub.execute_input": "2023-04-26T16:09:47.297550Z",
     "iopub.status.busy": "2023-04-26T16:09:47.297432Z",
     "iopub.status.idle": "2023-04-26T16:09:47.706647Z",
     "shell.execute_reply": "2023-04-26T16:09:47.706262Z",
     "shell.execute_reply.started": "2023-04-26T16:09:47.297537Z"
    },
    "tags": []
   },
   "outputs": [
    {
     "name": "stdout",
     "output_type": "stream",
     "text": [
      "+----------+----------------+------+------+-------+\n",
      "|     Movie|            User|Rating|userId|movieId|\n",
      "+----------+----------------+------+------+-------+\n",
      "|  Sneakers|    James Alking|     3|     2|      0|\n",
      "|      Coco|    James Alking|     4|     2|      1|\n",
      "|Swing Kids|    James Alking|     4|     2|      2|\n",
      "|     Shrek|    James Alking|     3|     2|      3|\n",
      "|  Sneakers|Elvira Marroquin|     2|     0|      0|\n",
      "|      Coco|Elvira Marroquin|     5|     0|      1|\n",
      "|     Shrek|Elvira Marroquin|     4|     0|      3|\n",
      "|  Sneakers|      Jack Bauer|     5|     1|      0|\n",
      "|      Coco|      Jack Bauer|     2|     1|      1|\n",
      "|Swing Kids|      Jack Bauer|     2|     1|      2|\n",
      "|  Sneakers|     Julia James|     2|     3|      0|\n",
      "|Swing Kids|     Julia James|     2|     3|      2|\n",
      "|     Shrek|     Julia James|     5|     3|      3|\n",
      "+----------+----------------+------+------+-------+\n",
      "\n"
     ]
    }
   ],
   "source": [
    "# Extract the distinct movie id's\n",
    "movies = ratings.select(\"Movie\").distinct()\n",
    "\n",
    "# Repartition the data to have only one partition.\n",
    "movies = movies.coalesce(1) \n",
    "\n",
    "# Create a new column of movieId integers. \n",
    "movies = movies.withColumn(\"movieId\", F.monotonically_increasing_id()).persist() \n",
    "\n",
    "# Join the ratings, users and movies dataframes\n",
    "movie_ratings = ratings.join(users, \"User\", \"left\").join(movies, \"Movie\", \"left\")\n",
    "movie_ratings.show()"
   ]
  },
  {
   "cell_type": "markdown",
   "id": "9ae119be-7b6a-402c-98a2-7e4bbd8e5e26",
   "metadata": {},
   "source": [
    "# ALS parameters and hyperparameters"
   ]
  },
  {
   "cell_type": "markdown",
   "id": "429d5cfc-598b-42ad-963f-05dcf1edfc12",
   "metadata": {},
   "source": [
    "## Example ALS model code"
   ]
  },
  {
   "cell_type": "code",
   "execution_count": 34,
   "id": "da89d4ef-262a-4771-9387-4b3090b853e7",
   "metadata": {
    "execution": {
     "iopub.execute_input": "2023-04-26T16:09:47.707400Z",
     "iopub.status.busy": "2023-04-26T16:09:47.707057Z",
     "iopub.status.idle": "2023-04-26T16:09:47.755686Z",
     "shell.execute_reply": "2023-04-26T16:09:47.755314Z",
     "shell.execute_reply.started": "2023-04-26T16:09:47.707384Z"
    },
    "scrolled": true,
    "tags": []
   },
   "outputs": [
    {
     "data": {
      "text/plain": [
       "\u001b[0;31mInit signature:\u001b[0m\n",
       "\u001b[0mALS\u001b[0m\u001b[0;34m(\u001b[0m\u001b[0;34m\u001b[0m\n",
       "\u001b[0;34m\u001b[0m    \u001b[0;34m*\u001b[0m\u001b[0;34m,\u001b[0m\u001b[0;34m\u001b[0m\n",
       "\u001b[0;34m\u001b[0m    \u001b[0mrank\u001b[0m\u001b[0;34m:\u001b[0m \u001b[0mint\u001b[0m \u001b[0;34m=\u001b[0m \u001b[0;36m10\u001b[0m\u001b[0;34m,\u001b[0m\u001b[0;34m\u001b[0m\n",
       "\u001b[0;34m\u001b[0m    \u001b[0mmaxIter\u001b[0m\u001b[0;34m:\u001b[0m \u001b[0mint\u001b[0m \u001b[0;34m=\u001b[0m \u001b[0;36m10\u001b[0m\u001b[0;34m,\u001b[0m\u001b[0;34m\u001b[0m\n",
       "\u001b[0;34m\u001b[0m    \u001b[0mregParam\u001b[0m\u001b[0;34m:\u001b[0m \u001b[0mfloat\u001b[0m \u001b[0;34m=\u001b[0m \u001b[0;36m0.1\u001b[0m\u001b[0;34m,\u001b[0m\u001b[0;34m\u001b[0m\n",
       "\u001b[0;34m\u001b[0m    \u001b[0mnumUserBlocks\u001b[0m\u001b[0;34m:\u001b[0m \u001b[0mint\u001b[0m \u001b[0;34m=\u001b[0m \u001b[0;36m10\u001b[0m\u001b[0;34m,\u001b[0m\u001b[0;34m\u001b[0m\n",
       "\u001b[0;34m\u001b[0m    \u001b[0mnumItemBlocks\u001b[0m\u001b[0;34m:\u001b[0m \u001b[0mint\u001b[0m \u001b[0;34m=\u001b[0m \u001b[0;36m10\u001b[0m\u001b[0;34m,\u001b[0m\u001b[0;34m\u001b[0m\n",
       "\u001b[0;34m\u001b[0m    \u001b[0mimplicitPrefs\u001b[0m\u001b[0;34m:\u001b[0m \u001b[0mbool\u001b[0m \u001b[0;34m=\u001b[0m \u001b[0;32mFalse\u001b[0m\u001b[0;34m,\u001b[0m\u001b[0;34m\u001b[0m\n",
       "\u001b[0;34m\u001b[0m    \u001b[0malpha\u001b[0m\u001b[0;34m:\u001b[0m \u001b[0mfloat\u001b[0m \u001b[0;34m=\u001b[0m \u001b[0;36m1.0\u001b[0m\u001b[0;34m,\u001b[0m\u001b[0;34m\u001b[0m\n",
       "\u001b[0;34m\u001b[0m    \u001b[0muserCol\u001b[0m\u001b[0;34m:\u001b[0m \u001b[0mstr\u001b[0m \u001b[0;34m=\u001b[0m \u001b[0;34m'user'\u001b[0m\u001b[0;34m,\u001b[0m\u001b[0;34m\u001b[0m\n",
       "\u001b[0;34m\u001b[0m    \u001b[0mitemCol\u001b[0m\u001b[0;34m:\u001b[0m \u001b[0mstr\u001b[0m \u001b[0;34m=\u001b[0m \u001b[0;34m'item'\u001b[0m\u001b[0;34m,\u001b[0m\u001b[0;34m\u001b[0m\n",
       "\u001b[0;34m\u001b[0m    \u001b[0mseed\u001b[0m\u001b[0;34m:\u001b[0m \u001b[0mOptional\u001b[0m\u001b[0;34m[\u001b[0m\u001b[0mint\u001b[0m\u001b[0;34m]\u001b[0m \u001b[0;34m=\u001b[0m \u001b[0;32mNone\u001b[0m\u001b[0;34m,\u001b[0m\u001b[0;34m\u001b[0m\n",
       "\u001b[0;34m\u001b[0m    \u001b[0mratingCol\u001b[0m\u001b[0;34m:\u001b[0m \u001b[0mstr\u001b[0m \u001b[0;34m=\u001b[0m \u001b[0;34m'rating'\u001b[0m\u001b[0;34m,\u001b[0m\u001b[0;34m\u001b[0m\n",
       "\u001b[0;34m\u001b[0m    \u001b[0mnonnegative\u001b[0m\u001b[0;34m:\u001b[0m \u001b[0mbool\u001b[0m \u001b[0;34m=\u001b[0m \u001b[0;32mFalse\u001b[0m\u001b[0;34m,\u001b[0m\u001b[0;34m\u001b[0m\n",
       "\u001b[0;34m\u001b[0m    \u001b[0mcheckpointInterval\u001b[0m\u001b[0;34m:\u001b[0m \u001b[0mint\u001b[0m \u001b[0;34m=\u001b[0m \u001b[0;36m10\u001b[0m\u001b[0;34m,\u001b[0m\u001b[0;34m\u001b[0m\n",
       "\u001b[0;34m\u001b[0m    \u001b[0mintermediateStorageLevel\u001b[0m\u001b[0;34m:\u001b[0m \u001b[0mstr\u001b[0m \u001b[0;34m=\u001b[0m \u001b[0;34m'MEMORY_AND_DISK'\u001b[0m\u001b[0;34m,\u001b[0m\u001b[0;34m\u001b[0m\n",
       "\u001b[0;34m\u001b[0m    \u001b[0mfinalStorageLevel\u001b[0m\u001b[0;34m:\u001b[0m \u001b[0mstr\u001b[0m \u001b[0;34m=\u001b[0m \u001b[0;34m'MEMORY_AND_DISK'\u001b[0m\u001b[0;34m,\u001b[0m\u001b[0;34m\u001b[0m\n",
       "\u001b[0;34m\u001b[0m    \u001b[0mcoldStartStrategy\u001b[0m\u001b[0;34m:\u001b[0m \u001b[0mstr\u001b[0m \u001b[0;34m=\u001b[0m \u001b[0;34m'nan'\u001b[0m\u001b[0;34m,\u001b[0m\u001b[0;34m\u001b[0m\n",
       "\u001b[0;34m\u001b[0m    \u001b[0mblockSize\u001b[0m\u001b[0;34m:\u001b[0m \u001b[0mint\u001b[0m \u001b[0;34m=\u001b[0m \u001b[0;36m4096\u001b[0m\u001b[0;34m,\u001b[0m\u001b[0;34m\u001b[0m\n",
       "\u001b[0;34m\u001b[0m\u001b[0;34m)\u001b[0m\u001b[0;34m\u001b[0m\u001b[0;34m\u001b[0m\u001b[0m\n",
       "\u001b[0;31mDocstring:\u001b[0m     \n",
       "Alternating Least Squares (ALS) matrix factorization.\n",
       "\n",
       "ALS attempts to estimate the ratings matrix `R` as the product of\n",
       "two lower-rank matrices, `X` and `Y`, i.e. `X * Yt = R`. Typically\n",
       "these approximations are called 'factor' matrices. The general\n",
       "approach is iterative. During each iteration, one of the factor\n",
       "matrices is held constant, while the other is solved for using least\n",
       "squares. The newly-solved factor matrix is then held constant while\n",
       "solving for the other factor matrix.\n",
       "\n",
       "This is a blocked implementation of the ALS factorization algorithm\n",
       "that groups the two sets of factors (referred to as \"users\" and\n",
       "\"products\") into blocks and reduces communication by only sending\n",
       "one copy of each user vector to each product block on each\n",
       "iteration, and only for the product blocks that need that user's\n",
       "feature vector. This is achieved by pre-computing some information\n",
       "about the ratings matrix to determine the \"out-links\" of each user\n",
       "(which blocks of products it will contribute to) and \"in-link\"\n",
       "information for each product (which of the feature vectors it\n",
       "receives from each user block it will depend on). This allows us to\n",
       "send only an array of feature vectors between each user block and\n",
       "product block, and have the product block find the users' ratings\n",
       "and update the products based on these messages.\n",
       "\n",
       "For implicit preference data, the algorithm used is based on\n",
       "`\"Collaborative Filtering for Implicit Feedback Datasets\",\n",
       "<https://doi.org/10.1109/ICDM.2008.22>`_, adapted for the blocked\n",
       "approach used here.\n",
       "\n",
       "Essentially instead of finding the low-rank approximations to the\n",
       "rating matrix `R`, this finds the approximations for a preference\n",
       "matrix `P` where the elements of `P` are 1 if r > 0 and 0 if r <= 0.\n",
       "The ratings then act as 'confidence' values related to strength of\n",
       "indicated user preferences rather than explicit ratings given to\n",
       "items.\n",
       "\n",
       ".. versionadded:: 1.4.0\n",
       "\n",
       "Notes\n",
       "-----\n",
       "The input rating dataframe to the ALS implementation should be deterministic.\n",
       "Nondeterministic data can cause failure during fitting ALS model.\n",
       "For example, an order-sensitive operation like sampling after a repartition makes\n",
       "dataframe output nondeterministic, like `df.repartition(2).sample(False, 0.5, 1618)`.\n",
       "Checkpointing sampled dataframe or adding a sort before sampling can help make the\n",
       "dataframe deterministic.\n",
       "\n",
       "Examples\n",
       "--------\n",
       ">>> df = spark.createDataFrame(\n",
       "...     [(0, 0, 4.0), (0, 1, 2.0), (1, 1, 3.0), (1, 2, 4.0), (2, 1, 1.0), (2, 2, 5.0)],\n",
       "...     [\"user\", \"item\", \"rating\"])\n",
       ">>> als = ALS(rank=10, seed=0)\n",
       ">>> als.setMaxIter(5)\n",
       "ALS...\n",
       ">>> als.getMaxIter()\n",
       "5\n",
       ">>> als.setRegParam(0.1)\n",
       "ALS...\n",
       ">>> als.getRegParam()\n",
       "0.1\n",
       ">>> als.clear(als.regParam)\n",
       ">>> model = als.fit(df)\n",
       ">>> model.getBlockSize()\n",
       "4096\n",
       ">>> model.getUserCol()\n",
       "'user'\n",
       ">>> model.setUserCol(\"user\")\n",
       "ALSModel...\n",
       ">>> model.getItemCol()\n",
       "'item'\n",
       ">>> model.setPredictionCol(\"newPrediction\")\n",
       "ALS...\n",
       ">>> model.rank\n",
       "10\n",
       ">>> model.userFactors.orderBy(\"id\").collect()\n",
       "[Row(id=0, features=[...]), Row(id=1, ...), Row(id=2, ...)]\n",
       ">>> test = spark.createDataFrame([(0, 2), (1, 0), (2, 0)], [\"user\", \"item\"])\n",
       ">>> predictions = sorted(model.transform(test).collect(), key=lambda r: r[0])\n",
       ">>> predictions[0]\n",
       "Row(user=0, item=2, newPrediction=0.6929...)\n",
       ">>> predictions[1]\n",
       "Row(user=1, item=0, newPrediction=3.47356...)\n",
       ">>> predictions[2]\n",
       "Row(user=2, item=0, newPrediction=-0.899198...)\n",
       ">>> user_recs = model.recommendForAllUsers(3)\n",
       ">>> user_recs.where(user_recs.user == 0)        .select(\"recommendations.item\", \"recommendations.rating\").collect()\n",
       "[Row(item=[0, 1, 2], rating=[3.910..., 1.997..., 0.692...])]\n",
       ">>> item_recs = model.recommendForAllItems(3)\n",
       ">>> item_recs.where(item_recs.item == 2)        .select(\"recommendations.user\", \"recommendations.rating\").collect()\n",
       "[Row(user=[2, 1, 0], rating=[4.892..., 3.991..., 0.692...])]\n",
       ">>> user_subset = df.where(df.user == 2)\n",
       ">>> user_subset_recs = model.recommendForUserSubset(user_subset, 3)\n",
       ">>> user_subset_recs.select(\"recommendations.item\", \"recommendations.rating\").first()\n",
       "Row(item=[2, 1, 0], rating=[4.892..., 1.076..., -0.899...])\n",
       ">>> item_subset = df.where(df.item == 0)\n",
       ">>> item_subset_recs = model.recommendForItemSubset(item_subset, 3)\n",
       ">>> item_subset_recs.select(\"recommendations.user\", \"recommendations.rating\").first()\n",
       "Row(user=[0, 1, 2], rating=[3.910..., 3.473..., -0.899...])\n",
       ">>> als_path = temp_path + \"/als\"\n",
       ">>> als.save(als_path)\n",
       ">>> als2 = ALS.load(als_path)\n",
       ">>> als.getMaxIter()\n",
       "5\n",
       ">>> model_path = temp_path + \"/als_model\"\n",
       ">>> model.save(model_path)\n",
       ">>> model2 = ALSModel.load(model_path)\n",
       ">>> model.rank == model2.rank\n",
       "True\n",
       ">>> sorted(model.userFactors.collect()) == sorted(model2.userFactors.collect())\n",
       "True\n",
       ">>> sorted(model.itemFactors.collect()) == sorted(model2.itemFactors.collect())\n",
       "True\n",
       ">>> model.transform(test).take(1) == model2.transform(test).take(1)\n",
       "True\n",
       "\u001b[0;31mInit docstring:\u001b[0m\n",
       "__init__(self, \\*, rank=10, maxIter=10, regParam=0.1, numUserBlocks=10,\n",
       "         numItemBlocks=10, implicitPrefs=False, alpha=1.0, userCol=\"user\", itemCol=\"item\",                  seed=None, ratingCol=\"rating\", nonnegative=False, checkpointInterval=10,                  intermediateStorageLevel=\"MEMORY_AND_DISK\",                  finalStorageLevel=\"MEMORY_AND_DISK\", coldStartStrategy=\"nan\", blockSize=4096)\n",
       "\u001b[0;31mFile:\u001b[0m           ~/miniconda3/envs/dev/lib/python3.10/site-packages/pyspark/ml/recommendation.py\n",
       "\u001b[0;31mType:\u001b[0m           ABCMeta\n",
       "\u001b[0;31mSubclasses:\u001b[0m     "
      ]
     },
     "metadata": {},
     "output_type": "display_data"
    }
   ],
   "source": [
    "from pyspark.ml.recommendation import ALS\n",
    "?ALS"
   ]
  },
  {
   "cell_type": "markdown",
   "id": "b1fa8e4e-07f9-494d-9e39-c733524e1fe3",
   "metadata": {
    "tags": []
   },
   "source": [
    "        als_model = ALS(\n",
    "            userCol=\"userId\",\n",
    "            itemCol=\"movieId\",\n",
    "            ratingCol=\"rating\",\n",
    "            rank=25,\n",
    "            maxIter=100,\n",
    "            regParam=0.05,\n",
    "            alpha=40,\n",
    "            nonnegative=True,\n",
    "            coldStartStrategy=\"drop\",\n",
    "            implicitPrefs=False,\n",
    "        )\n",
    "\n",
    "Arguments:\n",
    "* userCol : Name of column that contains user id's\n",
    "* itemCol : Name of column that contains item id's\n",
    "* ratingCol : Name of column that contains ratings\n",
    "\n",
    "Hyperparameters:\n",
    "* rank , k: number of latent features\n",
    "* maxIter : number of iterations\n",
    "* regParam : Lambda is simply a number that is added to an error metric to keep the algorithm from converging too quickly and overfitting to the training data.\n",
    "* alpha : Discussed later. Only used with implicit ratings, and not used with explicit ratings.\n",
    "\n",
    "Additional Arguments:\n",
    "* nonnegative = True : Ensures positive numbers (as ratings should be only positive in our case)\n",
    "* coldStartStrategy = \"drop\" : Addresses issues with test/train split\n",
    "* implicitPrefs = True : True/False depending on ratings type"
   ]
  },
  {
   "cell_type": "markdown",
   "id": "35125af5-3009-46eb-9d69-38bd2907c3c3",
   "metadata": {
    "execution": {
     "iopub.execute_input": "2023-04-25T21:15:14.919530Z",
     "iopub.status.busy": "2023-04-25T21:15:14.919317Z",
     "iopub.status.idle": "2023-04-25T21:15:14.922858Z",
     "shell.execute_reply": "2023-04-25T21:15:14.922386Z",
     "shell.execute_reply.started": "2023-04-25T21:15:14.919512Z"
    }
   },
   "source": [
    "## Cold start strategy\n",
    "\n",
    "You might be familiar with the term coldStartStrategy already.\n",
    "\n",
    "In the context of ALS, when splitting data into test and train sets, it's possible for a user to have all of their ratings inadvertantly put into the test set, leaving nothing in the train set to be used for making a prediction.\n",
    "\n",
    "In this case, ALS can't make meaningful predictions for that user, or calculate an error metric.\n",
    "\n",
    "To avoid this, we set the `coldStartStrategy=\"drop\"` which tells Spark that when these situations arise, to not use them to calculate the RMSE, and to only use users that have ratings in both the test AND training set. "
   ]
  },
  {
   "cell_type": "markdown",
   "id": "0a141f3b-1b54-4403-be04-26af5eeed33b",
   "metadata": {},
   "source": [
    "## Exercises"
   ]
  },
  {
   "cell_type": "markdown",
   "id": "1d8c1eba-39b6-499e-967f-8911dfb35629",
   "metadata": {
    "tags": []
   },
   "source": [
    "### Build out an ALS model"
   ]
  },
  {
   "cell_type": "code",
   "execution_count": 35,
   "id": "797f1196-b11d-42c4-8a42-585862e33e41",
   "metadata": {
    "execution": {
     "iopub.execute_input": "2023-04-26T16:09:47.756288Z",
     "iopub.status.busy": "2023-04-26T16:09:47.756067Z",
     "iopub.status.idle": "2023-04-26T16:09:47.937035Z",
     "shell.execute_reply": "2023-04-26T16:09:47.936723Z",
     "shell.execute_reply.started": "2023-04-26T16:09:47.756278Z"
    },
    "tags": []
   },
   "outputs": [
    {
     "name": "stdout",
     "output_type": "stream",
     "text": [
      "+------+-------+------+\n",
      "|userId|movieId|rating|\n",
      "+------+-------+------+\n",
      "|     1|     31|   2.5|\n",
      "|     1|   1029|   3.0|\n",
      "|     1|   1061|   3.0|\n",
      "+------+-------+------+\n",
      "only showing top 3 rows\n",
      "\n"
     ]
    }
   ],
   "source": [
    "# Read data from CSV file\n",
    "ratings = spark.read.csv('ratings.csv',\n",
    "                         sep=',',\n",
    "                         header=True,\n",
    "                         inferSchema=True).drop('timestamp')\n",
    "ratings.show(3)"
   ]
  },
  {
   "cell_type": "code",
   "execution_count": 36,
   "id": "4b46b1fb-1a26-40f4-ab74-4bbce43ecba5",
   "metadata": {
    "execution": {
     "iopub.execute_input": "2023-04-26T16:09:47.937518Z",
     "iopub.status.busy": "2023-04-26T16:09:47.937409Z",
     "iopub.status.idle": "2023-04-26T16:09:48.211802Z",
     "shell.execute_reply": "2023-04-26T16:09:48.211427Z",
     "shell.execute_reply.started": "2023-04-26T16:09:47.937507Z"
    },
    "tags": []
   },
   "outputs": [
    {
     "name": "stdout",
     "output_type": "stream",
     "text": [
      "+------+-------+------+\n",
      "|userId|movieId|rating|\n",
      "+------+-------+------+\n",
      "|     1|     31|   2.5|\n",
      "|     1|   1029|   3.0|\n",
      "|     1|   1129|   2.0|\n",
      "+------+-------+------+\n",
      "only showing top 3 rows\n",
      "\n",
      "+------+-------+------+\n",
      "|userId|movieId|rating|\n",
      "+------+-------+------+\n",
      "|     1|   1061|   3.0|\n",
      "|     1|   1287|   2.0|\n",
      "|     1|   1339|   3.5|\n",
      "+------+-------+------+\n",
      "only showing top 3 rows\n",
      "\n"
     ]
    }
   ],
   "source": [
    "# Split the ratings dataframe into training and test data\n",
    "(training_data, test_data) = ratings.randomSplit([0.8, 0.2], seed=42)\n",
    "training_data.show(3)\n",
    "test_data.show(3)"
   ]
  },
  {
   "cell_type": "code",
   "execution_count": 37,
   "id": "e4ec0acc-73ab-412f-a017-ab8cc9a4168e",
   "metadata": {
    "execution": {
     "iopub.execute_input": "2023-04-26T16:09:48.212298Z",
     "iopub.status.busy": "2023-04-26T16:09:48.212198Z",
     "iopub.status.idle": "2023-04-26T16:09:48.244415Z",
     "shell.execute_reply": "2023-04-26T16:09:48.243968Z",
     "shell.execute_reply.started": "2023-04-26T16:09:48.212288Z"
    },
    "tags": []
   },
   "outputs": [],
   "source": [
    "# Set the ALS hyperparameters\n",
    "from pyspark.ml.recommendation import ALS\n",
    "als = ALS(userCol=\"userId\", itemCol=\"movieId\", ratingCol=\"rating\", rank =10, maxIter =15, regParam =.1,\n",
    "          coldStartStrategy=\"drop\", nonnegative=True, implicitPrefs=False)"
   ]
  },
  {
   "cell_type": "code",
   "execution_count": 38,
   "id": "c81a880c-c289-4d53-8806-fbd20376c96d",
   "metadata": {
    "execution": {
     "iopub.execute_input": "2023-04-26T16:09:48.245016Z",
     "iopub.status.busy": "2023-04-26T16:09:48.244899Z",
     "iopub.status.idle": "2023-04-26T16:09:50.189562Z",
     "shell.execute_reply": "2023-04-26T16:09:50.189243Z",
     "shell.execute_reply.started": "2023-04-26T16:09:48.245004Z"
    },
    "tags": []
   },
   "outputs": [],
   "source": [
    "# Fit the model to the training_data\n",
    "model = als.fit(training_data)"
   ]
  },
  {
   "cell_type": "code",
   "execution_count": 39,
   "id": "9b4fa9bd-58e5-486d-be37-237100835732",
   "metadata": {
    "execution": {
     "iopub.execute_input": "2023-04-26T16:09:50.190200Z",
     "iopub.status.busy": "2023-04-26T16:09:50.189956Z",
     "iopub.status.idle": "2023-04-26T16:09:50.484904Z",
     "shell.execute_reply": "2023-04-26T16:09:50.484563Z",
     "shell.execute_reply.started": "2023-04-26T16:09:50.190188Z"
    },
    "tags": []
   },
   "outputs": [
    {
     "name": "stdout",
     "output_type": "stream",
     "text": [
      "+------+-------+------+----------+\n",
      "|userId|movieId|rating|prediction|\n",
      "+------+-------+------+----------+\n",
      "|   148|    185|   3.0| 3.1130092|\n",
      "|   148|    364|   4.0|  4.105878|\n",
      "|   148|    596|   4.5| 3.8943558|\n",
      "+------+-------+------+----------+\n",
      "only showing top 3 rows\n",
      "\n"
     ]
    }
   ],
   "source": [
    "# Generate predictions on the test_data\n",
    "test_predictions = model.transform(test_data)\n",
    "test_predictions.show(3)"
   ]
  },
  {
   "cell_type": "code",
   "execution_count": 40,
   "id": "031edd87-5609-404b-af8e-8f0fa14608eb",
   "metadata": {
    "execution": {
     "iopub.execute_input": "2023-04-26T16:09:50.485430Z",
     "iopub.status.busy": "2023-04-26T16:09:50.485320Z",
     "iopub.status.idle": "2023-04-26T16:09:50.821677Z",
     "shell.execute_reply": "2023-04-26T16:09:50.821012Z",
     "shell.execute_reply.started": "2023-04-26T16:09:50.485420Z"
    },
    "tags": []
   },
   "outputs": [
    {
     "name": "stdout",
     "output_type": "stream",
     "text": [
      "+-------+------------------+------------------+-----------------+------------------+\n",
      "|summary|            userId|           movieId|           rating|        prediction|\n",
      "+-------+------------------+------------------+-----------------+------------------+\n",
      "|  count|             19403|             19403|            19403|             19403|\n",
      "|   mean|345.67453486574243|11384.022470751946|3.562232644436427| 3.386283258731197|\n",
      "| stddev|193.14067426101184|24609.191823329118|1.050488277009394|0.7296737404411373|\n",
      "|    min|                 1|                 1|              0.5|        0.08008587|\n",
      "|    max|               671|            160563|              5.0|          5.791388|\n",
      "+-------+------------------+------------------+-----------------+------------------+\n",
      "\n"
     ]
    }
   ],
   "source": [
    "test_predictions.describe().show()"
   ]
  },
  {
   "cell_type": "markdown",
   "id": "0b83c8a4-6536-47dd-a71e-0033b7d08e5e",
   "metadata": {},
   "source": [
    "### Build RMSE evaluator"
   ]
  },
  {
   "cell_type": "code",
   "execution_count": 41,
   "id": "fd5766fa-2af1-4ca4-b0fc-e17dcbe41210",
   "metadata": {
    "execution": {
     "iopub.execute_input": "2023-04-26T16:09:50.822589Z",
     "iopub.status.busy": "2023-04-26T16:09:50.822271Z",
     "iopub.status.idle": "2023-04-26T16:09:50.829810Z",
     "shell.execute_reply": "2023-04-26T16:09:50.829262Z",
     "shell.execute_reply.started": "2023-04-26T16:09:50.822569Z"
    }
   },
   "outputs": [
    {
     "name": "stdout",
     "output_type": "stream",
     "text": [
      "rmse\n",
      "rating\n",
      "prediction\n"
     ]
    }
   ],
   "source": [
    "# Import RegressionEvaluator\n",
    "from pyspark.ml.evaluation import RegressionEvaluator\n",
    "\n",
    "# Complete the evaluator code\n",
    "evaluator = RegressionEvaluator(metricName=\"rmse\", labelCol=\"rating\", predictionCol=\"prediction\")\n",
    "\n",
    "# Extract the 3 parameters\n",
    "print(evaluator.getMetricName())\n",
    "print(evaluator.getLabelCol())\n",
    "print(evaluator.getPredictionCol())"
   ]
  },
  {
   "cell_type": "markdown",
   "id": "1ef35103-f299-4e3b-93af-6db2484c9ad1",
   "metadata": {},
   "source": [
    "### Get RMSE"
   ]
  },
  {
   "cell_type": "code",
   "execution_count": 42,
   "id": "7bb99bab-985a-480b-b899-ef43913d1c54",
   "metadata": {
    "execution": {
     "iopub.execute_input": "2023-04-26T16:09:50.830826Z",
     "iopub.status.busy": "2023-04-26T16:09:50.830453Z",
     "iopub.status.idle": "2023-04-26T16:09:51.141040Z",
     "shell.execute_reply": "2023-04-26T16:09:51.140787Z",
     "shell.execute_reply.started": "2023-04-26T16:09:50.830806Z"
    },
    "tags": []
   },
   "outputs": [
    {
     "data": {
      "text/plain": [
       "0.9100062972496853"
      ]
     },
     "execution_count": 42,
     "metadata": {},
     "output_type": "execute_result"
    }
   ],
   "source": [
    "# Evaluate the \"test_predictions\" dataframe\n",
    "evaluator.evaluate(test_predictions)"
   ]
  },
  {
   "cell_type": "markdown",
   "id": "268da54e-14e9-4e13-be67-e4e3e4016943",
   "metadata": {},
   "source": [
    ">  This RMSE means that on average, the model's test predictions are about .91 off from the true values."
   ]
  }
 ],
 "metadata": {
  "kernelspec": {
   "display_name": "Python 3 (ipykernel)",
   "language": "python",
   "name": "python3"
  },
  "language_info": {
   "codemirror_mode": {
    "name": "ipython",
    "version": 3
   },
   "file_extension": ".py",
   "mimetype": "text/x-python",
   "name": "python",
   "nbconvert_exporter": "python",
   "pygments_lexer": "ipython3",
   "version": "3.10.10"
  }
 },
 "nbformat": 4,
 "nbformat_minor": 5
}
