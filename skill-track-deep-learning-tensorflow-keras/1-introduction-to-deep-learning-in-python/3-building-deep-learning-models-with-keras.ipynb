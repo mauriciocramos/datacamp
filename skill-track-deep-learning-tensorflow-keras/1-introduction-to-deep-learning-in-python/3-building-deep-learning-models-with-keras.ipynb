{
 "cells": [
  {
   "cell_type": "markdown",
   "id": "10d8f44c-069d-4224-b9ea-8c94b617c7bb",
   "metadata": {},
   "source": [
    "# Creating a Keras model"
   ]
  },
  {
   "cell_type": "markdown",
   "id": "e4ae3ddf-b7c7-4549-b9d8-3e01f53adbec",
   "metadata": {},
   "source": [
    "## Keras model building steps\n",
    "* Specify Architecture\n",
    "    * How many layers?\n",
    "    * How many nodes in each layer?\n",
    "    * What activation function to use in each layer?\n",
    "        * ReLU - Rectified Linear Unit\n",
    "        * Identity function\n",
    "        * Hyperbolic Tangent\n",
    "* Compile\n",
    "    * Specify loss function\n",
    "    * Optimization parameters\n",
    "* Fit\n",
    "    \n",
    "* Predict"
   ]
  },
  {
   "cell_type": "markdown",
   "id": "a97d2322-c37d-4192-88b3-3b7130d44f42",
   "metadata": {},
   "source": [
    "## Model specification"
   ]
  },
  {
   "cell_type": "code",
   "execution_count": 1,
   "id": "f00ba3e1-385d-464b-9205-055ee1732ac9",
   "metadata": {
    "execution": {
     "iopub.execute_input": "2023-01-23T22:10:01.170759Z",
     "iopub.status.busy": "2023-01-23T22:10:01.170675Z",
     "iopub.status.idle": "2023-01-23T22:10:02.135878Z",
     "shell.execute_reply": "2023-01-23T22:10:02.135435Z",
     "shell.execute_reply.started": "2023-01-23T22:10:01.170749Z"
    },
    "tags": []
   },
   "outputs": [
    {
     "name": "stdout",
     "output_type": "stream",
     "text": [
      "tf.config.list_physical_devices('GPU') = [PhysicalDevice(name='/physical_device:GPU:0', device_type='GPU')]\n"
     ]
    }
   ],
   "source": [
    "import os\n",
    "os.environ['TF_CPP_MIN_LOG_LEVEL'] = '1'\n",
    "import tensorflow as tf\n",
    "print(f\"{tf.config.list_physical_devices('GPU') = }\")"
   ]
  },
  {
   "cell_type": "code",
   "execution_count": 2,
   "id": "48d313ef-29c4-42e7-b9d6-bd3644008721",
   "metadata": {
    "execution": {
     "iopub.execute_input": "2023-01-23T22:10:02.137216Z",
     "iopub.status.busy": "2023-01-23T22:10:02.136938Z",
     "iopub.status.idle": "2023-01-23T22:10:02.142503Z",
     "shell.execute_reply": "2023-01-23T22:10:02.142218Z",
     "shell.execute_reply.started": "2023-01-23T22:10:02.137199Z"
    },
    "tags": []
   },
   "outputs": [
    {
     "data": {
      "text/plain": [
       "((534, 9), (534,))"
      ]
     },
     "execution_count": 2,
     "metadata": {},
     "output_type": "execute_result"
    }
   ],
   "source": [
    "import numpy as np\n",
    "#read data\n",
    "predictors = np.loadtxt('hourly_wages.csv', delimiter=',', skiprows=1, usecols=range(1,10))\n",
    "target = np.loadtxt('hourly_wages.csv', delimiter=',', skiprows=1, usecols=0)\n",
    "n_cols = predictors.shape[1]\n",
    "predictors.shape, target.shape"
   ]
  },
  {
   "cell_type": "markdown",
   "id": "57092418-9f5f-4024-8c01-fdee911aa6d0",
   "metadata": {},
   "source": [
    "* There are two ways to build up a model, and we will focus on sequential, which is the easier way to build a model.\n",
    "* Sequential models require that each layer has weights or connections only to the one layer coming directly after it in the network diagram.\n",
    "* There are more exotic models out there with complex patterns of connections, but Sequential will do the trick for everything we need here."
   ]
  },
  {
   "cell_type": "code",
   "execution_count": 3,
   "id": "23374b5b-100b-47eb-b005-01f63d3c4846",
   "metadata": {
    "execution": {
     "iopub.execute_input": "2023-01-23T22:10:02.142963Z",
     "iopub.status.busy": "2023-01-23T22:10:02.142859Z",
     "iopub.status.idle": "2023-01-23T22:10:02.526156Z",
     "shell.execute_reply": "2023-01-23T22:10:02.525824Z",
     "shell.execute_reply.started": "2023-01-23T22:10:02.142953Z"
    },
    "tags": []
   },
   "outputs": [],
   "source": [
    "from tensorflow.keras.layers import Dense\n",
    "from tensorflow.keras.models import Sequential\n",
    "\n",
    "# easier way to crate a model\n",
    "model = Sequential()\n",
    "model.add(Dense(100, activation='relu', input_shape = (n_cols,)))\n",
    "model.add(Dense(100, activation='relu'))\n",
    "model.add(Dense(1))"
   ]
  },
  {
   "cell_type": "markdown",
   "id": "850e5293-53ad-4e92-a849-ffd884a64a1e",
   "metadata": {},
   "source": [
    "* We start adding layers using the add method of the model.\n",
    "* The type of layer you have seen, that standard layer type, is called a Dense layer. It is called Dense because all of the nodes in the previous layer connect to all of the nodes in the current layer.\n",
    "* As you advance in deep learning, you may start using layers that aren't Dense.\n",
    "* In each layer, we specify the number of nodes as the first positional argument, and the activation function we want to use in that layer using the keyword argument activation.\n",
    "* Keras supports every activation function you will want in practice.\n",
    "* In the first layer, we need to specify input shapes as shown here. That says the input will have n_cols columns, and there is nothing after the comma, meaning it can have any number of rows, that is, any number of data points.\n",
    "* You'll notice the last layer has 1 node. That is the output layer, and it matches those diagrams where we ended with only a single node as the output or prediction of the model.\n",
    "* This model has 2 hidden layers, and an output layer.\n",
    "* You may be struck that each hidden layers has 100 nodes. Keras and TensorFlow do the math for us, so don't feel afraid to use much bigger networks than we've seen before. It's quite common to use 100 or 1000s nodes in a layer.\n",
    "* You'll learn more about choosing an appropriate number of nodes later. "
   ]
  },
  {
   "cell_type": "code",
   "execution_count": 4,
   "id": "11fc09f6-82d5-4b9c-a91b-72738f2f5a05",
   "metadata": {
    "execution": {
     "iopub.execute_input": "2023-01-23T22:10:02.526719Z",
     "iopub.status.busy": "2023-01-23T22:10:02.526606Z",
     "iopub.status.idle": "2023-01-23T22:10:02.532196Z",
     "shell.execute_reply": "2023-01-23T22:10:02.531945Z",
     "shell.execute_reply.started": "2023-01-23T22:10:02.526709Z"
    },
    "tags": []
   },
   "outputs": [
    {
     "name": "stdout",
     "output_type": "stream",
     "text": [
      "Model: \"sequential\"\n",
      "_________________________________________________________________\n",
      " Layer (type)                Output Shape              Param #   \n",
      "=================================================================\n",
      " dense (Dense)               (None, 100)               1000      \n",
      "                                                                 \n",
      " dense_1 (Dense)             (None, 100)               10100     \n",
      "                                                                 \n",
      " dense_2 (Dense)             (None, 1)                 101       \n",
      "                                                                 \n",
      "=================================================================\n",
      "Total params: 11,201\n",
      "Trainable params: 11,201\n",
      "Non-trainable params: 0\n",
      "_________________________________________________________________\n"
     ]
    }
   ],
   "source": [
    "model.summary()"
   ]
  },
  {
   "cell_type": "markdown",
   "id": "872e0525-eaa3-42e6-a96a-e2b273e08372",
   "metadata": {},
   "source": [
    "# Compiling and fitting a model"
   ]
  },
  {
   "cell_type": "markdown",
   "id": "f5c49261-a1ed-4b65-a598-f9a25cba73dd",
   "metadata": {},
   "source": [
    "## Why you need to compile your model\n",
    "* Specify the optimizer\n",
    "    * Many options and mathematically complex\n",
    "    * \"Adam\" is usually a good choice: **adjusts learning rate as it does gradient descent**\n",
    "* Loss function\n",
    "    * \"mean_squared_error\" common for regression"
   ]
  },
  {
   "cell_type": "markdown",
   "id": "f6d90f51-3825-4ff7-8a3f-31568edbaae3",
   "metadata": {},
   "source": [
    "## Compiling a model"
   ]
  },
  {
   "cell_type": "code",
   "execution_count": 5,
   "id": "06141352-83a2-4b5b-a336-84f50e2cb0dc",
   "metadata": {
    "execution": {
     "iopub.execute_input": "2023-01-23T22:10:02.532656Z",
     "iopub.status.busy": "2023-01-23T22:10:02.532555Z",
     "iopub.status.idle": "2023-01-23T22:10:02.538048Z",
     "shell.execute_reply": "2023-01-23T22:10:02.537767Z",
     "shell.execute_reply.started": "2023-01-23T22:10:02.532647Z"
    },
    "tags": []
   },
   "outputs": [],
   "source": [
    "model.compile(optimizer='adam', loss='mean_squared_error')"
   ]
  },
  {
   "cell_type": "markdown",
   "id": "07d75e9b-8e29-4044-bd40-08e38d11b23c",
   "metadata": {},
   "source": [
    "## What is fitting a model\n",
    "* Applying backpropagation and gradient descent with your data to update the weights\n",
    "* Scaling data before fitting can ease optimization"
   ]
  },
  {
   "cell_type": "markdown",
   "id": "26ba5b9c-62fc-4ba4-8e76-890420c97550",
   "metadata": {},
   "source": [
    "## Fitting a model"
   ]
  },
  {
   "cell_type": "code",
   "execution_count": 6,
   "id": "7efc0d48-08ff-4102-8d25-313e85b51d2c",
   "metadata": {
    "execution": {
     "iopub.execute_input": "2023-01-23T22:10:02.538535Z",
     "iopub.status.busy": "2023-01-23T22:10:02.538424Z",
     "iopub.status.idle": "2023-01-23T22:10:03.244384Z",
     "shell.execute_reply": "2023-01-23T22:10:03.244119Z",
     "shell.execute_reply.started": "2023-01-23T22:10:02.538525Z"
    },
    "tags": []
   },
   "outputs": [
    {
     "name": "stdout",
     "output_type": "stream",
     "text": [
      "17/17 [==============================] - 1s 839us/step - loss: 47.4773\n"
     ]
    },
    {
     "data": {
      "text/plain": [
       "<keras.callbacks.History at 0x7fcc90cf05b0>"
      ]
     },
     "execution_count": 6,
     "metadata": {},
     "output_type": "execute_result"
    }
   ],
   "source": [
    "model.fit(predictors, target)"
   ]
  },
  {
   "cell_type": "markdown",
   "id": "8d23291e-7141-4a95-bf07-8e38f1d73e47",
   "metadata": {},
   "source": [
    "# Classification models"
   ]
  },
  {
   "cell_type": "markdown",
   "id": "63c84bf9-3231-4981-9602-3f5575337181",
   "metadata": {},
   "source": [
    "## Classification\n",
    "* 'categorical_crossentropy' loss function: itś by far the most common\n",
    "    * Similar to log loss: Lower is better\n",
    "* Add `metrics = ['accuracy']` to compile step for easy-to-understand diagnostics\n",
    "* Output layer has separate node for each possible outcome, and uses 'softmax' activation\n",
    "    * The softmax activation function ensures the predictions sum to 1, so they can be intepreted as probabilities."
   ]
  },
  {
   "cell_type": "code",
   "execution_count": 7,
   "id": "e19a01d2-d2e9-4807-b048-ebbd99336569",
   "metadata": {
    "execution": {
     "iopub.execute_input": "2023-01-23T22:10:03.245543Z",
     "iopub.status.busy": "2023-01-23T22:10:03.245279Z",
     "iopub.status.idle": "2023-01-23T22:10:03.358318Z",
     "shell.execute_reply": "2023-01-23T22:10:03.357967Z",
     "shell.execute_reply.started": "2023-01-23T22:10:03.245532Z"
    },
    "tags": []
   },
   "outputs": [],
   "source": [
    "from tensorflow.keras.layers import Dense\n",
    "from tensorflow.keras.models import Sequential\n",
    "from tensorflow.keras.utils import to_categorical\n",
    "import pandas as pd\n",
    "from sklearn.model_selection import train_test_split"
   ]
  },
  {
   "cell_type": "code",
   "execution_count": 8,
   "id": "e570f593-f76f-43e6-aecf-a8d2a0f75bff",
   "metadata": {
    "execution": {
     "iopub.execute_input": "2023-01-23T22:10:03.358808Z",
     "iopub.status.busy": "2023-01-23T22:10:03.358706Z",
     "iopub.status.idle": "2023-01-23T22:10:03.368012Z",
     "shell.execute_reply": "2023-01-23T22:10:03.367762Z",
     "shell.execute_reply.started": "2023-01-23T22:10:03.358798Z"
    },
    "tags": []
   },
   "outputs": [
    {
     "data": {
      "text/html": [
       "<div>\n",
       "<style scoped>\n",
       "    .dataframe tbody tr th:only-of-type {\n",
       "        vertical-align: middle;\n",
       "    }\n",
       "\n",
       "    .dataframe tbody tr th {\n",
       "        vertical-align: top;\n",
       "    }\n",
       "\n",
       "    .dataframe thead th {\n",
       "        text-align: right;\n",
       "    }\n",
       "</style>\n",
       "<table border=\"1\" class=\"dataframe\">\n",
       "  <thead>\n",
       "    <tr style=\"text-align: right;\">\n",
       "      <th></th>\n",
       "      <th>survived</th>\n",
       "      <th>pclass</th>\n",
       "      <th>age</th>\n",
       "      <th>sibsp</th>\n",
       "      <th>parch</th>\n",
       "      <th>fare</th>\n",
       "      <th>male</th>\n",
       "      <th>age_was_missing</th>\n",
       "      <th>embarked_from_cherbourg</th>\n",
       "      <th>embarked_from_queenstown</th>\n",
       "      <th>embarked_from_southampton</th>\n",
       "    </tr>\n",
       "  </thead>\n",
       "  <tbody>\n",
       "    <tr>\n",
       "      <th>0</th>\n",
       "      <td>0</td>\n",
       "      <td>3</td>\n",
       "      <td>22.000000</td>\n",
       "      <td>1</td>\n",
       "      <td>0</td>\n",
       "      <td>7.2500</td>\n",
       "      <td>1</td>\n",
       "      <td>False</td>\n",
       "      <td>0</td>\n",
       "      <td>0</td>\n",
       "      <td>1</td>\n",
       "    </tr>\n",
       "    <tr>\n",
       "      <th>1</th>\n",
       "      <td>1</td>\n",
       "      <td>1</td>\n",
       "      <td>38.000000</td>\n",
       "      <td>1</td>\n",
       "      <td>0</td>\n",
       "      <td>71.2833</td>\n",
       "      <td>0</td>\n",
       "      <td>False</td>\n",
       "      <td>1</td>\n",
       "      <td>0</td>\n",
       "      <td>0</td>\n",
       "    </tr>\n",
       "    <tr>\n",
       "      <th>2</th>\n",
       "      <td>1</td>\n",
       "      <td>3</td>\n",
       "      <td>26.000000</td>\n",
       "      <td>0</td>\n",
       "      <td>0</td>\n",
       "      <td>7.9250</td>\n",
       "      <td>0</td>\n",
       "      <td>False</td>\n",
       "      <td>0</td>\n",
       "      <td>0</td>\n",
       "      <td>1</td>\n",
       "    </tr>\n",
       "    <tr>\n",
       "      <th>3</th>\n",
       "      <td>1</td>\n",
       "      <td>1</td>\n",
       "      <td>35.000000</td>\n",
       "      <td>1</td>\n",
       "      <td>0</td>\n",
       "      <td>53.1000</td>\n",
       "      <td>0</td>\n",
       "      <td>False</td>\n",
       "      <td>0</td>\n",
       "      <td>0</td>\n",
       "      <td>1</td>\n",
       "    </tr>\n",
       "    <tr>\n",
       "      <th>4</th>\n",
       "      <td>0</td>\n",
       "      <td>3</td>\n",
       "      <td>35.000000</td>\n",
       "      <td>0</td>\n",
       "      <td>0</td>\n",
       "      <td>8.0500</td>\n",
       "      <td>1</td>\n",
       "      <td>False</td>\n",
       "      <td>0</td>\n",
       "      <td>0</td>\n",
       "      <td>1</td>\n",
       "    </tr>\n",
       "    <tr>\n",
       "      <th>...</th>\n",
       "      <td>...</td>\n",
       "      <td>...</td>\n",
       "      <td>...</td>\n",
       "      <td>...</td>\n",
       "      <td>...</td>\n",
       "      <td>...</td>\n",
       "      <td>...</td>\n",
       "      <td>...</td>\n",
       "      <td>...</td>\n",
       "      <td>...</td>\n",
       "      <td>...</td>\n",
       "    </tr>\n",
       "    <tr>\n",
       "      <th>886</th>\n",
       "      <td>0</td>\n",
       "      <td>2</td>\n",
       "      <td>27.000000</td>\n",
       "      <td>0</td>\n",
       "      <td>0</td>\n",
       "      <td>13.0000</td>\n",
       "      <td>1</td>\n",
       "      <td>False</td>\n",
       "      <td>0</td>\n",
       "      <td>0</td>\n",
       "      <td>1</td>\n",
       "    </tr>\n",
       "    <tr>\n",
       "      <th>887</th>\n",
       "      <td>1</td>\n",
       "      <td>1</td>\n",
       "      <td>19.000000</td>\n",
       "      <td>0</td>\n",
       "      <td>0</td>\n",
       "      <td>30.0000</td>\n",
       "      <td>0</td>\n",
       "      <td>False</td>\n",
       "      <td>0</td>\n",
       "      <td>0</td>\n",
       "      <td>1</td>\n",
       "    </tr>\n",
       "    <tr>\n",
       "      <th>888</th>\n",
       "      <td>0</td>\n",
       "      <td>3</td>\n",
       "      <td>29.699118</td>\n",
       "      <td>1</td>\n",
       "      <td>2</td>\n",
       "      <td>23.4500</td>\n",
       "      <td>0</td>\n",
       "      <td>True</td>\n",
       "      <td>0</td>\n",
       "      <td>0</td>\n",
       "      <td>1</td>\n",
       "    </tr>\n",
       "    <tr>\n",
       "      <th>889</th>\n",
       "      <td>1</td>\n",
       "      <td>1</td>\n",
       "      <td>26.000000</td>\n",
       "      <td>0</td>\n",
       "      <td>0</td>\n",
       "      <td>30.0000</td>\n",
       "      <td>1</td>\n",
       "      <td>False</td>\n",
       "      <td>1</td>\n",
       "      <td>0</td>\n",
       "      <td>0</td>\n",
       "    </tr>\n",
       "    <tr>\n",
       "      <th>890</th>\n",
       "      <td>0</td>\n",
       "      <td>3</td>\n",
       "      <td>32.000000</td>\n",
       "      <td>0</td>\n",
       "      <td>0</td>\n",
       "      <td>7.7500</td>\n",
       "      <td>1</td>\n",
       "      <td>False</td>\n",
       "      <td>0</td>\n",
       "      <td>1</td>\n",
       "      <td>0</td>\n",
       "    </tr>\n",
       "  </tbody>\n",
       "</table>\n",
       "<p>891 rows × 11 columns</p>\n",
       "</div>"
      ],
      "text/plain": [
       "     survived  pclass        age  sibsp  parch     fare  male  \\\n",
       "0           0       3  22.000000      1      0   7.2500     1   \n",
       "1           1       1  38.000000      1      0  71.2833     0   \n",
       "2           1       3  26.000000      0      0   7.9250     0   \n",
       "3           1       1  35.000000      1      0  53.1000     0   \n",
       "4           0       3  35.000000      0      0   8.0500     1   \n",
       "..        ...     ...        ...    ...    ...      ...   ...   \n",
       "886         0       2  27.000000      0      0  13.0000     1   \n",
       "887         1       1  19.000000      0      0  30.0000     0   \n",
       "888         0       3  29.699118      1      2  23.4500     0   \n",
       "889         1       1  26.000000      0      0  30.0000     1   \n",
       "890         0       3  32.000000      0      0   7.7500     1   \n",
       "\n",
       "     age_was_missing  embarked_from_cherbourg  embarked_from_queenstown  \\\n",
       "0              False                        0                         0   \n",
       "1              False                        1                         0   \n",
       "2              False                        0                         0   \n",
       "3              False                        0                         0   \n",
       "4              False                        0                         0   \n",
       "..               ...                      ...                       ...   \n",
       "886            False                        0                         0   \n",
       "887            False                        0                         0   \n",
       "888             True                        0                         0   \n",
       "889            False                        1                         0   \n",
       "890            False                        0                         1   \n",
       "\n",
       "     embarked_from_southampton  \n",
       "0                            1  \n",
       "1                            0  \n",
       "2                            1  \n",
       "3                            1  \n",
       "4                            1  \n",
       "..                         ...  \n",
       "886                          1  \n",
       "887                          1  \n",
       "888                          1  \n",
       "889                          0  \n",
       "890                          0  \n",
       "\n",
       "[891 rows x 11 columns]"
      ]
     },
     "execution_count": 8,
     "metadata": {},
     "output_type": "execute_result"
    }
   ],
   "source": [
    "df = pd.read_csv('titanic_all_numeric.csv')\n",
    "df"
   ]
  },
  {
   "cell_type": "code",
   "execution_count": 9,
   "id": "27c5f75b-910a-470a-855a-b083a01c5d4d",
   "metadata": {
    "execution": {
     "iopub.execute_input": "2023-01-23T22:10:03.368454Z",
     "iopub.status.busy": "2023-01-23T22:10:03.368358Z",
     "iopub.status.idle": "2023-01-23T22:10:03.371598Z",
     "shell.execute_reply": "2023-01-23T22:10:03.371273Z",
     "shell.execute_reply.started": "2023-01-23T22:10:03.368444Z"
    },
    "tags": []
   },
   "outputs": [
    {
     "data": {
      "text/plain": [
       "array([[ 3.        , 22.        ,  1.        , ...,  0.        ,\n",
       "         0.        ,  1.        ],\n",
       "       [ 1.        , 38.        ,  1.        , ...,  1.        ,\n",
       "         0.        ,  0.        ],\n",
       "       [ 3.        , 26.        ,  0.        , ...,  0.        ,\n",
       "         0.        ,  1.        ],\n",
       "       ...,\n",
       "       [ 3.        , 29.69911765,  1.        , ...,  0.        ,\n",
       "         0.        ,  1.        ],\n",
       "       [ 1.        , 26.        ,  0.        , ...,  1.        ,\n",
       "         0.        ,  0.        ],\n",
       "       [ 3.        , 32.        ,  0.        , ...,  0.        ,\n",
       "         1.        ,  0.        ]])"
      ]
     },
     "execution_count": 9,
     "metadata": {},
     "output_type": "execute_result"
    }
   ],
   "source": [
    "X = df.drop(['survived'], axis=1).values.astype('float64')\n",
    "X"
   ]
  },
  {
   "cell_type": "code",
   "execution_count": 10,
   "id": "1571fa0f-e472-46c7-b01c-4d30479c3ddc",
   "metadata": {
    "execution": {
     "iopub.execute_input": "2023-01-23T22:10:03.372199Z",
     "iopub.status.busy": "2023-01-23T22:10:03.371975Z",
     "iopub.status.idle": "2023-01-23T22:10:03.374700Z",
     "shell.execute_reply": "2023-01-23T22:10:03.374374Z",
     "shell.execute_reply.started": "2023-01-23T22:10:03.372188Z"
    },
    "tags": []
   },
   "outputs": [
    {
     "data": {
      "text/plain": [
       "array([[1., 0.],\n",
       "       [0., 1.],\n",
       "       [0., 1.],\n",
       "       ...,\n",
       "       [1., 0.],\n",
       "       [0., 1.],\n",
       "       [1., 0.]], dtype=float32)"
      ]
     },
     "execution_count": 10,
     "metadata": {},
     "output_type": "execute_result"
    }
   ],
   "source": [
    "y = to_categorical(df.survived)\n",
    "y"
   ]
  },
  {
   "cell_type": "code",
   "execution_count": 11,
   "id": "fe38912a-1017-4ec8-b805-921cbb029106",
   "metadata": {
    "execution": {
     "iopub.execute_input": "2023-01-23T22:10:03.375180Z",
     "iopub.status.busy": "2023-01-23T22:10:03.375077Z",
     "iopub.status.idle": "2023-01-23T22:10:03.388016Z",
     "shell.execute_reply": "2023-01-23T22:10:03.387753Z",
     "shell.execute_reply.started": "2023-01-23T22:10:03.375169Z"
    },
    "tags": []
   },
   "outputs": [
    {
     "name": "stdout",
     "output_type": "stream",
     "text": [
      "Model: \"sequential_1\"\n",
      "_________________________________________________________________\n",
      " Layer (type)                Output Shape              Param #   \n",
      "=================================================================\n",
      " dense_3 (Dense)             (None, 32)                352       \n",
      "                                                                 \n",
      " dense_4 (Dense)             (None, 2)                 66        \n",
      "                                                                 \n",
      "=================================================================\n",
      "Total params: 418\n",
      "Trainable params: 418\n",
      "Non-trainable params: 0\n",
      "_________________________________________________________________\n"
     ]
    }
   ],
   "source": [
    "X_train, X_test, y_train, y_test = train_test_split(X, y, test_size=91, random_state=1)\n",
    "model = Sequential()\n",
    "model.add(Dense(32, activation='relu', input_shape=(X.shape[1],)))\n",
    "model.add(Dense(2, activation='softmax'))\n",
    "model.summary()"
   ]
  },
  {
   "cell_type": "code",
   "execution_count": 12,
   "id": "5f2af93d-4df9-4c46-9885-a145394f41fc",
   "metadata": {
    "execution": {
     "iopub.execute_input": "2023-01-23T22:10:03.388618Z",
     "iopub.status.busy": "2023-01-23T22:10:03.388375Z",
     "iopub.status.idle": "2023-01-23T22:10:03.531753Z",
     "shell.execute_reply": "2023-01-23T22:10:03.531497Z",
     "shell.execute_reply.started": "2023-01-23T22:10:03.388607Z"
    },
    "tags": []
   },
   "outputs": [
    {
     "name": "stdout",
     "output_type": "stream",
     "text": [
      "25/25 [==============================] - 0s 626us/step - loss: 2.1762 - accuracy: 0.6137\n"
     ]
    },
    {
     "data": {
      "text/plain": [
       "<keras.callbacks.History at 0x7fcbb8172c70>"
      ]
     },
     "execution_count": 12,
     "metadata": {},
     "output_type": "execute_result"
    }
   ],
   "source": [
    "model.compile(optimizer='sgd', loss='categorical_crossentropy', metrics=['accuracy'])\n",
    "model.fit(X_train, y_train)"
   ]
  },
  {
   "cell_type": "markdown",
   "id": "c4529c1e-ce81-4b5a-88d9-29c5f4389d9b",
   "metadata": {},
   "source": [
    "## Using models\n",
    "* Save\n",
    "* Reload\n",
    "* Make predictions"
   ]
  },
  {
   "cell_type": "markdown",
   "id": "229e671c-5f3f-4d4a-8cd3-f92cceb62b34",
   "metadata": {},
   "source": [
    "## Saving, reloading, and using your Model"
   ]
  },
  {
   "cell_type": "code",
   "execution_count": 13,
   "id": "9b630864-425e-4214-a762-f0fe839d39ee",
   "metadata": {
    "execution": {
     "iopub.execute_input": "2023-01-23T22:10:03.532372Z",
     "iopub.status.busy": "2023-01-23T22:10:03.532121Z",
     "iopub.status.idle": "2023-01-23T22:10:03.671694Z",
     "shell.execute_reply": "2023-01-23T22:10:03.671180Z",
     "shell.execute_reply.started": "2023-01-23T22:10:03.532361Z"
    },
    "tags": []
   },
   "outputs": [
    {
     "name": "stdout",
     "output_type": "stream",
     "text": [
      "-rw-rw-r-- 1 mauricio mauricio 18K Jan 23 19:10 model_file.h5\n"
     ]
    }
   ],
   "source": [
    "from tensorflow.keras.models import load_model\n",
    "\n",
    "model.save('model_file.h5')\n",
    "! ls -lh model_file.h5"
   ]
  },
  {
   "cell_type": "code",
   "execution_count": 14,
   "id": "ee0655d2-0581-4c32-b342-c4773501783f",
   "metadata": {
    "execution": {
     "iopub.execute_input": "2023-01-23T22:10:03.672248Z",
     "iopub.status.busy": "2023-01-23T22:10:03.672140Z",
     "iopub.status.idle": "2023-01-23T22:10:03.737832Z",
     "shell.execute_reply": "2023-01-23T22:10:03.737557Z",
     "shell.execute_reply.started": "2023-01-23T22:10:03.672238Z"
    },
    "tags": []
   },
   "outputs": [
    {
     "name": "stdout",
     "output_type": "stream",
     "text": [
      "3/3 [==============================] - 0s 703us/step\n"
     ]
    },
    {
     "data": {
      "text/plain": [
       "array([0.77579623, 0.18321379, 0.5985319 , 0.15043865, 0.93121475,\n",
       "       0.38392857, 0.8683316 , 0.9983882 , 0.9995751 , 0.4999679 ,\n",
       "       0.29096454, 0.23951885, 0.99485105, 0.47724587, 0.13835773,\n",
       "       0.9364748 , 0.9174745 , 0.7056046 , 0.11219339, 0.74623287,\n",
       "       0.16343929, 0.61775935, 0.99591535, 0.9977272 , 0.6218784 ,\n",
       "       0.28673714, 1.        , 0.1866011 , 0.44390872, 0.99998796,\n",
       "       0.4817563 , 0.96155417, 0.9087853 , 0.23576674, 0.06181916,\n",
       "       0.89824295, 0.8670105 , 0.1621944 , 0.99703515, 0.40954867,\n",
       "       0.22056195, 0.44707128, 0.99676526, 0.8617817 , 0.9437205 ,\n",
       "       0.10585638, 0.9686973 , 0.271681  , 1.        , 0.66503197,\n",
       "       0.5929783 , 0.5362141 , 0.62809694, 0.21482807, 0.28618413,\n",
       "       0.6430202 , 0.36666778, 0.839049  , 0.92063   , 0.41903684,\n",
       "       0.99853504, 0.15274681, 0.9762003 , 0.83809966, 0.99757046,\n",
       "       0.6298674 , 0.7006554 , 0.7443636 , 0.705439  , 0.82876956,\n",
       "       0.84886765, 0.95961213, 0.9999273 , 0.18321379, 0.03681011,\n",
       "       0.9773154 , 0.998226  , 0.15921435, 0.77911574, 0.9990213 ,\n",
       "       0.9967037 , 0.9984863 , 0.18911165, 0.1057381 , 0.61473566,\n",
       "       0.28532362, 0.18911165, 0.15260963, 0.9035713 , 0.7060873 ,\n",
       "       0.8100374 ], dtype=float32)"
      ]
     },
     "execution_count": 14,
     "metadata": {},
     "output_type": "execute_result"
    }
   ],
   "source": [
    "model = load_model('model_file.h5')\n",
    "yhat = model.predict(X_test)\n",
    "yhat[:,1]"
   ]
  },
  {
   "cell_type": "markdown",
   "id": "25681b46-9566-4a07-980a-2fe5fb43d24e",
   "metadata": {},
   "source": [
    "## Verifying model structure"
   ]
  },
  {
   "cell_type": "code",
   "execution_count": 15,
   "id": "d10e009b-5d00-450c-8145-5d8d8b91ec50",
   "metadata": {
    "execution": {
     "iopub.execute_input": "2023-01-23T22:10:03.738415Z",
     "iopub.status.busy": "2023-01-23T22:10:03.738210Z",
     "iopub.status.idle": "2023-01-23T22:10:03.742725Z",
     "shell.execute_reply": "2023-01-23T22:10:03.742475Z",
     "shell.execute_reply.started": "2023-01-23T22:10:03.738405Z"
    },
    "tags": []
   },
   "outputs": [
    {
     "name": "stdout",
     "output_type": "stream",
     "text": [
      "Model: \"sequential_1\"\n",
      "_________________________________________________________________\n",
      " Layer (type)                Output Shape              Param #   \n",
      "=================================================================\n",
      " dense_3 (Dense)             (None, 32)                352       \n",
      "                                                                 \n",
      " dense_4 (Dense)             (None, 2)                 66        \n",
      "                                                                 \n",
      "=================================================================\n",
      "Total params: 418\n",
      "Trainable params: 418\n",
      "Non-trainable params: 0\n",
      "_________________________________________________________________\n"
     ]
    }
   ],
   "source": [
    "model.summary()"
   ]
  }
 ],
 "metadata": {
  "kernelspec": {
   "display_name": "Python 3 (ipykernel)",
   "language": "python",
   "name": "python3"
  },
  "language_info": {
   "codemirror_mode": {
    "name": "ipython",
    "version": 3
   },
   "file_extension": ".py",
   "mimetype": "text/x-python",
   "name": "python",
   "nbconvert_exporter": "python",
   "pygments_lexer": "ipython3",
   "version": "3.9.15"
  },
  "toc-autonumbering": true
 },
 "nbformat": 4,
 "nbformat_minor": 5
}
