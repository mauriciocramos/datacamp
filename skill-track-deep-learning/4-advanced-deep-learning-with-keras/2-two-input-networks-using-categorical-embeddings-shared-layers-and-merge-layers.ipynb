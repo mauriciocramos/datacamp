{
 "cells": [
  {
   "cell_type": "code",
   "execution_count": 1,
   "id": "f458cca9-4842-42b4-ad18-3a7525c298eb",
   "metadata": {
    "execution": {
     "iopub.execute_input": "2023-02-14T03:34:33.284441Z",
     "iopub.status.busy": "2023-02-14T03:34:33.284349Z",
     "iopub.status.idle": "2023-02-14T03:34:35.169642Z",
     "shell.execute_reply": "2023-02-14T03:34:35.169210Z",
     "shell.execute_reply.started": "2023-02-14T03:34:33.284431Z"
    },
    "tags": []
   },
   "outputs": [],
   "source": [
    "import os\n",
    "os.environ['TF_CPP_MIN_LOG_LEVEL'] = '1'\n",
    "# os.environ['TF_ENABLE_ONEDNN_OPTS'] = '0'\n",
    "import numpy as np\n",
    "import pandas as pd\n",
    "from zipfile import ZipFile\n",
    "import tensorflow as tf\n",
    "import matplotlib.pyplot as plt\n",
    "plt.style.use('dark_background')\n",
    "from tensorflow.keras.utils import plot_model"
   ]
  },
  {
   "cell_type": "code",
   "execution_count": 2,
   "id": "77486b84-94dd-49b1-9ad0-7a2b0e538b38",
   "metadata": {
    "execution": {
     "iopub.execute_input": "2023-02-14T03:34:35.170544Z",
     "iopub.status.busy": "2023-02-14T03:34:35.170358Z",
     "iopub.status.idle": "2023-02-14T03:34:35.256108Z",
     "shell.execute_reply": "2023-02-14T03:34:35.255793Z",
     "shell.execute_reply.started": "2023-02-14T03:34:35.170532Z"
    },
    "tags": []
   },
   "outputs": [
    {
     "data": {
      "text/plain": [
       "((4234, 10), (312178, 8), (4234, 9))"
      ]
     },
     "execution_count": 2,
     "metadata": {},
     "output_type": "execute_result"
    }
   ],
   "source": [
    "zip_file = ZipFile('basketball_data.zip')\n",
    "games_season_enriched, games_season, games_tourney = \\\n",
    "[pd.read_csv(zip_file.open(text_file.filename))\n",
    " for text_file in zip_file.infolist()\n",
    " if text_file.filename.endswith('.csv')]\n",
    "\n",
    "games_season_enriched.shape, games_season.shape, games_tourney.shape"
   ]
  },
  {
   "cell_type": "markdown",
   "id": "881ac4c0-ed0e-4e3c-b391-809db6cfb41a",
   "metadata": {},
   "source": [
    "# Category embeddings"
   ]
  },
  {
   "cell_type": "markdown",
   "id": "2f58f428-059c-4b81-89bc-0493a0ca04c1",
   "metadata": {},
   "source": [
    "In chapter 1, our dataset of tournament games only contained about 4,000 rows. However, we have a much bigger dataset with over 300,000 regular season games. Let's see what we can learn from a much larger sample of data! In the 2 basketball datasets you will be using in this course, there are a little under 11,000 teams. Each team is coded as an integer starting with 1 and ending with 10,887. In this lesson, you will learn how to use those team IDs as inputs to a model that learns the strength of each team. "
   ]
  },
  {
   "cell_type": "code",
   "execution_count": 3,
   "id": "590c8b0d-89c1-4462-9ce8-2cc510ef7e3f",
   "metadata": {
    "execution": {
     "iopub.execute_input": "2023-02-14T03:34:35.256606Z",
     "iopub.status.busy": "2023-02-14T03:34:35.256495Z",
     "iopub.status.idle": "2023-02-14T03:34:35.281949Z",
     "shell.execute_reply": "2023-02-14T03:34:35.281551Z",
     "shell.execute_reply.started": "2023-02-14T03:34:35.256596Z"
    },
    "tags": []
   },
   "outputs": [
    {
     "data": {
      "text/plain": [
       "array([    0,     1,     2, ..., 10885, 10886, 10887])"
      ]
     },
     "execution_count": 3,
     "metadata": {},
     "output_type": "execute_result"
    }
   ],
   "source": [
    "games_season.team_1.sort_values().unique()"
   ]
  },
  {
   "cell_type": "code",
   "execution_count": 4,
   "id": "0350844a-c394-44cd-92ba-16fd259b3bcd",
   "metadata": {
    "execution": {
     "iopub.execute_input": "2023-02-14T03:34:35.282460Z",
     "iopub.status.busy": "2023-02-14T03:34:35.282356Z",
     "iopub.status.idle": "2023-02-14T03:34:35.285969Z",
     "shell.execute_reply": "2023-02-14T03:34:35.285705Z",
     "shell.execute_reply.started": "2023-02-14T03:34:35.282450Z"
    },
    "tags": []
   },
   "outputs": [
    {
     "data": {
      "text/plain": [
       "10888"
      ]
     },
     "execution_count": 4,
     "metadata": {},
     "output_type": "execute_result"
    }
   ],
   "source": [
    "len(games_season.team_1.unique())"
   ]
  },
  {
   "cell_type": "markdown",
   "id": "ee2ed6dd-42c7-4d59-89ef-8aedb25d0ffb",
   "metadata": {},
   "source": [
    "Categorical embeddings are an advanced type of layer, only available in deep learning libraries. They are extremely useful for dealing with high cardinality categorical data. In this dataset, the team ID variable has high cardinality. Embedding layers are also very useful for dealing with text data, such as in Word2vec models, but that is beyond the scope of this course. To model these teams in the basketball data, you'll use a very simple model that learns a \"strength\" rating for each team and uses those ratings to make predictions. To map the integer team IDs to a decimal rating, we will use an embedding layer. "
   ]
  },
  {
   "cell_type": "markdown",
   "id": "ad340f05-f340-456b-8436-f2103cdb79d9",
   "metadata": {},
   "source": [
    "* Input: integers\n",
    "* Output: floats\n",
    "* Note: Increased dimensionality: output layer flattens back to 2D\n",
    "\n",
    "Input layer (integer) -> Embedding Layer (lookup table) -> Output Layer (float)"
   ]
  },
  {
   "cell_type": "markdown",
   "id": "caca527b-3d48-472d-b677-ced144481865",
   "metadata": {},
   "source": [
    "## Inputs"
   ]
  },
  {
   "cell_type": "markdown",
   "id": "1728300b-827a-4e93-8885-96a7b9b1e29d",
   "metadata": {},
   "source": [
    "To get started with category embeddings, you will need an input layer. In this case, your input is a single number, ranging from 1 to 10,887, which represents each team's unique ID. Note that this dataset covers about 30 years of data, and has about 400 unique schools, giving us close to 12,000 IDs. We only have about 11,000 of those year/team combinations, because not every school has a basketball team every year. "
   ]
  },
  {
   "cell_type": "code",
   "execution_count": 5,
   "id": "89bd4ec4-a15a-4263-842d-b0ed9e7bbc5f",
   "metadata": {
    "execution": {
     "iopub.execute_input": "2023-02-14T03:34:35.286475Z",
     "iopub.status.busy": "2023-02-14T03:34:35.286355Z",
     "iopub.status.idle": "2023-02-14T03:34:35.293220Z",
     "shell.execute_reply": "2023-02-14T03:34:35.292975Z",
     "shell.execute_reply.started": "2023-02-14T03:34:35.286460Z"
    },
    "tags": []
   },
   "outputs": [
    {
     "data": {
      "text/plain": [
       "<KerasTensor: shape=(None, 1) dtype=float32 (created by layer 'input_1')>"
      ]
     },
     "execution_count": 5,
     "metadata": {},
     "output_type": "execute_result"
    }
   ],
   "source": [
    "from tensorflow.keras.layers import Input\n",
    "input_tensor = Input(shape=(1,))\n",
    "input_tensor"
   ]
  },
  {
   "cell_type": "markdown",
   "id": "0e210f2e-abb8-416b-be8c-c2acd4db11b7",
   "metadata": {},
   "source": [
    "## Embedding Layer"
   ]
  },
  {
   "cell_type": "markdown",
   "id": "543b7fab-d3f6-473b-b14c-e0b600159420",
   "metadata": {},
   "source": [
    "To create an embedding layer, use the Embedding() function from tensorflow.keras.layers. Since you have 10,887 unique teams in the dataset, you define the input dimension of the embedding layer as 10,887. As you are representing each team as a single integer, use an input length of 1. You want to produce a single team strength rating, so use an output dimension of 1. Finally, name your layer, so you can easily find it when looking at the model summary, or plot. To use the embedding layer, connect it to the tensor produced by the input layer. This will produce an embedding output tensor."
   ]
  },
  {
   "cell_type": "code",
   "execution_count": 6,
   "id": "20d602fe-e1c6-4d88-ab23-3f1718704d1c",
   "metadata": {
    "execution": {
     "iopub.execute_input": "2023-02-14T03:34:35.293731Z",
     "iopub.status.busy": "2023-02-14T03:34:35.293616Z",
     "iopub.status.idle": "2023-02-14T03:34:36.237992Z",
     "shell.execute_reply": "2023-02-14T03:34:36.237611Z",
     "shell.execute_reply.started": "2023-02-14T03:34:35.293720Z"
    },
    "tags": []
   },
   "outputs": [
    {
     "data": {
      "text/plain": [
       "<KerasTensor: shape=(None, 1, 1) dtype=float32 (created by layer 'Team-Strength-Lookup')>"
      ]
     },
     "execution_count": 6,
     "metadata": {},
     "output_type": "execute_result"
    }
   ],
   "source": [
    "from tensorflow.keras.layers import Embedding\n",
    "input_tensor = Input(shape=(1,))\n",
    "n_teams = len(games_season.team_1.unique()) # 10888 not 10887\n",
    "embed_layer = Embedding(input_dim=n_teams,\n",
    "                        input_length=1,\n",
    "                        output_dim=1,\n",
    "                        name='Team-Strength-Lookup')\n",
    "embed_tensor = embed_layer(input_tensor)\n",
    "embed_tensor"
   ]
  },
  {
   "cell_type": "markdown",
   "id": "0d7df94c-c7a6-4eff-bba7-02baca1c16d1",
   "metadata": {},
   "source": [
    "## Flattening"
   ]
  },
  {
   "cell_type": "markdown",
   "id": "e90694c3-60a0-4a67-80cd-5edacfa6ef54",
   "metadata": {},
   "source": [
    "Embedding layers increase the dimensionality of your data. The input CSV has two dimensions (rows and columns), but embedding layers add a third dimension. **This third dimension can be useful when dealing with images and text, so it is not as relevant to this course.** Therefore, we use the flatten layer to flatten the embeddings from 3D to 2D. The flatten layer is also the output layer for the embedding process. **Flatten layers are an advanced layer for deep learning models and can be used to transform data from multiple dimensions back down to two dimensions. They are useful for dealing with time series data, text data, and images.**"
   ]
  },
  {
   "cell_type": "code",
   "execution_count": 7,
   "id": "a2fd4569-f5e5-47f9-b3fd-735ad6d84ecc",
   "metadata": {
    "execution": {
     "iopub.execute_input": "2023-02-14T03:34:36.239794Z",
     "iopub.status.busy": "2023-02-14T03:34:36.239671Z",
     "iopub.status.idle": "2023-02-14T03:34:36.245454Z",
     "shell.execute_reply": "2023-02-14T03:34:36.245183Z",
     "shell.execute_reply.started": "2023-02-14T03:34:36.239783Z"
    },
    "tags": []
   },
   "outputs": [
    {
     "data": {
      "text/plain": [
       "<KerasTensor: shape=(None, 1) dtype=float32 (created by layer 'flatten')>"
      ]
     },
     "execution_count": 7,
     "metadata": {},
     "output_type": "execute_result"
    }
   ],
   "source": [
    "from tensorflow.keras.layers import Flatten\n",
    "flatten_tensor = Flatten()(embed_tensor)\n",
    "flatten_tensor"
   ]
  },
  {
   "cell_type": "markdown",
   "id": "d78b39c9-a5d4-4979-8764-354a18e77fb8",
   "metadata": {},
   "source": [
    "## Put it all together"
   ]
  },
  {
   "cell_type": "code",
   "execution_count": 8,
   "id": "bdd2b5fa-9f7e-4e06-8a82-5255292db4b3",
   "metadata": {
    "execution": {
     "iopub.execute_input": "2023-02-14T03:34:36.245927Z",
     "iopub.status.busy": "2023-02-14T03:34:36.245821Z",
     "iopub.status.idle": "2023-02-14T03:34:36.259348Z",
     "shell.execute_reply": "2023-02-14T03:34:36.259078Z",
     "shell.execute_reply.started": "2023-02-14T03:34:36.245917Z"
    },
    "tags": []
   },
   "outputs": [
    {
     "name": "stdout",
     "output_type": "stream",
     "text": [
      "Model: \"model\"\n",
      "_________________________________________________________________\n",
      " Layer (type)                Output Shape              Param #   \n",
      "=================================================================\n",
      " input_3 (InputLayer)        [(None, 1)]               0         \n",
      "                                                                 \n",
      " Team-Strength-Lookup (Embed  (None, 1, 1)             10888     \n",
      " ding)                                                           \n",
      "                                                                 \n",
      " flatten_1 (Flatten)         (None, 1)                 0         \n",
      "                                                                 \n",
      "=================================================================\n",
      "Total params: 10,888\n",
      "Trainable params: 10,888\n",
      "Non-trainable params: 0\n",
      "_________________________________________________________________\n"
     ]
    }
   ],
   "source": [
    "from tensorflow.keras.models import Model\n",
    "input_tensor = Input(shape=(1,))\n",
    "n_teams = len(games_season.team_1.unique()) # 10888 not 10887\n",
    "embed_layer = Embedding(input_dim=n_teams,\n",
    "                        input_length=1,\n",
    "                        output_dim=1,\n",
    "                        name='Team-Strength-Lookup')\n",
    "embed_tensor = embed_layer(input_tensor)\n",
    "flatten_tensor = Flatten()(embed_tensor)\n",
    "model = Model(input_tensor, flatten_tensor)\n",
    "model.summary()"
   ]
  },
  {
   "cell_type": "code",
   "execution_count": 9,
   "id": "baeb7594-30e0-4719-ab26-83fab8e87b1f",
   "metadata": {
    "execution": {
     "iopub.execute_input": "2023-02-14T03:34:36.259823Z",
     "iopub.status.busy": "2023-02-14T03:34:36.259718Z",
     "iopub.status.idle": "2023-02-14T03:34:36.338227Z",
     "shell.execute_reply": "2023-02-14T03:34:36.337721Z",
     "shell.execute_reply.started": "2023-02-14T03:34:36.259813Z"
    },
    "tags": []
   },
   "outputs": [
    {
     "data": {
      "image/png": "[encoded data removed]",
      "text/plain": [
       "<IPython.core.display.Image object>"
      ]
     },
     "execution_count": 9,
     "metadata": {},
     "output_type": "execute_result"
    }
   ],
   "source": [
    "plot_model(model,\n",
    "           to_file='model.png',\n",
    "           show_shapes=True,\n",
    "           show_dtype=True,\n",
    "           # show_layer_names=True, # default True, others False\n",
    "           expand_nested=True,\n",
    "           show_layer_activations=True)"
   ]
  },
  {
   "cell_type": "markdown",
   "id": "f5324bbc-e37a-4a71-9eee-daa73d83ce2a",
   "metadata": {},
   "source": [
    "## Exercises"
   ]
  },
  {
   "cell_type": "markdown",
   "id": "81959de1-8490-4083-b008-b546f2d43478",
   "metadata": {},
   "source": [
    "### Define team lookup\n",
    "\n",
    "Shared layers allow a model to use the same weight matrix for multiple steps. In this exercise, you will build a \"team strength\" layer that represents each team by a single number. You will use this number for both teams in the model. The model will learn a number for each team that works well both when the team is team_1 and when the team is team_2 in the input data.\n",
    "\n",
    "The games_season DataFrame is available in your workspace."
   ]
  },
  {
   "cell_type": "code",
   "execution_count": 10,
   "id": "8b1c811e-abff-4ecc-be80-1d8809f91342",
   "metadata": {
    "execution": {
     "iopub.execute_input": "2023-02-14T03:34:36.338994Z",
     "iopub.status.busy": "2023-02-14T03:34:36.338823Z",
     "iopub.status.idle": "2023-02-14T03:34:36.344322Z",
     "shell.execute_reply": "2023-02-14T03:34:36.343905Z",
     "shell.execute_reply.started": "2023-02-14T03:34:36.338976Z"
    },
    "tags": []
   },
   "outputs": [],
   "source": [
    "# Count the unique number of teams\n",
    "n_teams = games_season['team_1'].unique().shape[0]\n",
    "\n",
    "# Create an embedding layer\n",
    "team_lookup = Embedding(input_dim=n_teams,\n",
    "                        output_dim=1,\n",
    "                        input_length=1,\n",
    "                        name='Team-Strength')"
   ]
  },
  {
   "cell_type": "markdown",
   "id": "1ea0cec2-bf04-4556-9a47-5edabd372394",
   "metadata": {},
   "source": [
    "The embedding layer is a lot like a dictionary, but your model learns the values for each key."
   ]
  },
  {
   "cell_type": "markdown",
   "id": "e8876fb5-525d-43f2-8da6-ed7b608512e3",
   "metadata": {},
   "source": [
    "### Define team model\n",
    "\n",
    "The team strength lookup has three components: an input, an embedding layer, and a flatten layer that creates the output.\n",
    "\n",
    "If you wrap these three layers in a model with an input and output, you can re-use that stack of three layers at multiple places.\n",
    "\n",
    "Note again that the weights for all three layers will be shared everywhere we use them."
   ]
  },
  {
   "cell_type": "code",
   "execution_count": 11,
   "id": "97885e4a-fe99-4d29-abde-1afb3e7f14ed",
   "metadata": {
    "execution": {
     "iopub.execute_input": "2023-02-14T03:34:36.345110Z",
     "iopub.status.busy": "2023-02-14T03:34:36.344805Z",
     "iopub.status.idle": "2023-02-14T03:34:36.357217Z",
     "shell.execute_reply": "2023-02-14T03:34:36.356861Z",
     "shell.execute_reply.started": "2023-02-14T03:34:36.345094Z"
    },
    "tags": []
   },
   "outputs": [
    {
     "name": "stdout",
     "output_type": "stream",
     "text": [
      "Model: \"Team-Strength-Model\"\n",
      "_________________________________________________________________\n",
      " Layer (type)                Output Shape              Param #   \n",
      "=================================================================\n",
      " input_4 (InputLayer)        [(None, 1)]               0         \n",
      "                                                                 \n",
      " Team-Strength (Embedding)   (None, 1, 1)              10888     \n",
      "                                                                 \n",
      " flatten_2 (Flatten)         (None, 1)                 0         \n",
      "                                                                 \n",
      "=================================================================\n",
      "Total params: 10,888\n",
      "Trainable params: 10,888\n",
      "Non-trainable params: 0\n",
      "_________________________________________________________________\n"
     ]
    }
   ],
   "source": [
    "# Create an input layer for the team ID\n",
    "teamid_in = Input(shape=(1,))\n",
    "\n",
    "# Lookup the input in the team strength embedding layer\n",
    "strength_lookup = team_lookup(teamid_in)\n",
    "\n",
    "# Flatten the output\n",
    "strength_lookup_flat = Flatten()(strength_lookup)\n",
    "\n",
    "# Combine the operations into a single, re-usable model\n",
    "team_strength_model = Model(teamid_in, strength_lookup_flat, name='Team-Strength-Model')\n",
    "team_strength_model.summary()"
   ]
  },
  {
   "cell_type": "code",
   "execution_count": 12,
   "id": "29de7ced-5fa5-472c-a65f-f62ca0eccd41",
   "metadata": {
    "execution": {
     "iopub.execute_input": "2023-02-14T03:34:36.357993Z",
     "iopub.status.busy": "2023-02-14T03:34:36.357829Z",
     "iopub.status.idle": "2023-02-14T03:34:36.405270Z",
     "shell.execute_reply": "2023-02-14T03:34:36.404870Z",
     "shell.execute_reply.started": "2023-02-14T03:34:36.357976Z"
    },
    "tags": []
   },
   "outputs": [
    {
     "data": {
      "image/png": "[encoded data removed]",
      "text/plain": [
       "<IPython.core.display.Image object>"
      ]
     },
     "execution_count": 12,
     "metadata": {},
     "output_type": "execute_result"
    }
   ],
   "source": [
    "plot_model(model,\n",
    "           to_file='model.png',\n",
    "           show_shapes=True,\n",
    "           show_dtype=True,\n",
    "           # show_layer_names=True, # default True, others False\n",
    "           expand_nested=True,\n",
    "           show_layer_activations=True)"
   ]
  },
  {
   "cell_type": "markdown",
   "id": "a312b431-a2cf-40a1-bff3-b9c964a908bd",
   "metadata": {},
   "source": [
    "The model will be reusable, so you can use it in two places in your final model."
   ]
  },
  {
   "cell_type": "markdown",
   "id": "d910d8ee-8484-4b46-86e2-0f289eb2cf5b",
   "metadata": {},
   "source": [
    "# Shared layers\n",
    "* Require the functional API\n",
    "* Very flexible\n",
    "\n",
    "In this chapter, you will create a model with two inputs: one for each team in the basketball dataset. However, you want these two teams to each use the same embedding layer you defined in the previous lesson. Accomplishing this requires a shared layer. "
   ]
  },
  {
   "cell_type": "markdown",
   "id": "63ea5ff2-161a-4874-99f5-ba3d196228ad",
   "metadata": {},
   "source": [
    "## Shared layers"
   ]
  },
  {
   "cell_type": "markdown",
   "id": "110aae20-8d34-45db-966f-737424241f8b",
   "metadata": {},
   "source": [
    "To create a shared layer, you must first create two (or more) inputs, each of which will be passed to the shared layer. In this case, you will use two inputs."
   ]
  },
  {
   "cell_type": "code",
   "execution_count": 13,
   "id": "03ccdc6c-c832-44ed-993a-b80c892e4822",
   "metadata": {
    "execution": {
     "iopub.execute_input": "2023-02-14T03:34:36.406011Z",
     "iopub.status.busy": "2023-02-14T03:34:36.405845Z",
     "iopub.status.idle": "2023-02-14T03:34:36.409643Z",
     "shell.execute_reply": "2023-02-14T03:34:36.409251Z",
     "shell.execute_reply.started": "2023-02-14T03:34:36.405994Z"
    },
    "tags": []
   },
   "outputs": [],
   "source": [
    "input_tensor_1 = Input((1,))\n",
    "input_tensor_2 = Input((1,))"
   ]
  },
  {
   "cell_type": "markdown",
   "id": "88f94bd4-788f-4c2f-93ef-d81823561cca",
   "metadata": {},
   "source": [
    "Once you have two inputs, the magic of the Keras functional API becomes apparent. Recall from chapter 1 that the Dense() function returns a function as its output. This function, which Dense() outputs, takes a tensor as input and produces a tensor as output. You can use the same Dense() function to create a shared layer! Doing so is as simple as calling the function twice, with a different input tensor each time."
   ]
  },
  {
   "cell_type": "code",
   "execution_count": 14,
   "id": "82f9de73-848c-405e-ad5b-db30304cb8e9",
   "metadata": {
    "execution": {
     "iopub.execute_input": "2023-02-14T03:34:36.410473Z",
     "iopub.status.busy": "2023-02-14T03:34:36.410109Z",
     "iopub.status.idle": "2023-02-14T03:34:36.420494Z",
     "shell.execute_reply": "2023-02-14T03:34:36.420134Z",
     "shell.execute_reply.started": "2023-02-14T03:34:36.410456Z"
    },
    "tags": []
   },
   "outputs": [],
   "source": [
    "from tensorflow.keras.layers import Dense\n",
    "shared_layer = Dense(1)\n",
    "output_tensor_1 = shared_layer(input_tensor_1)\n",
    "output_tensor_2 = shared_layer(input_tensor_2)"
   ]
  },
  {
   "cell_type": "markdown",
   "id": "9ba2cab3-39b9-4c61-b3bf-ed397d19bdc5",
   "metadata": {},
   "source": [
    "## Sharing multiple layers as a model"
   ]
  },
  {
   "cell_type": "markdown",
   "id": "a6685d48-c40a-4478-b81a-e834f85926ed",
   "metadata": {},
   "source": [
    "Recall the category embedding model we made in the previous lesson. This model first embeds an input and then flattens it. You can also share models, not just layers. This is really cool and is part of what makes the functional API so useful. You can define modular components of models and then reuse them. We define an embedding layer and wrap it in a model. We then define 2 input tensors, and pass each one to the same model, producing 2 output tensors. This will use the same model, with the same layers and the same weights, for mapping each input to its corresponding output."
   ]
  },
  {
   "cell_type": "code",
   "execution_count": 15,
   "id": "d3c0e573-1f6e-42c4-bc3b-0cc5f63f470d",
   "metadata": {
    "execution": {
     "iopub.execute_input": "2023-02-14T03:34:36.421114Z",
     "iopub.status.busy": "2023-02-14T03:34:36.420959Z",
     "iopub.status.idle": "2023-02-14T03:34:36.436585Z",
     "shell.execute_reply": "2023-02-14T03:34:36.436234Z",
     "shell.execute_reply.started": "2023-02-14T03:34:36.421099Z"
    },
    "tags": []
   },
   "outputs": [],
   "source": [
    "input_tensor = Input(shape=(1,))\n",
    "n_teams = len(games_season.team_1.unique()) # 10888 not 10887\n",
    "embed_layer = Embedding(input_dim=n_teams,\n",
    "                        input_length=1,\n",
    "                        output_dim=1,\n",
    "                        name='Team-Strength-Lookup')\n",
    "\n",
    "embed_tensor = embed_layer(input_tensor)\n",
    "flatten_tensor = Flatten()(embed_tensor)\n",
    "model = Model(input_tensor, flatten_tensor)\n",
    "\n",
    "input_tensor_1 = Input((1,))\n",
    "input_tensor_2 = Input((1,))\n",
    "output_tensor_1 = model(input_tensor_1)\n",
    "output_tensor_2 = model(input_tensor_2)"
   ]
  },
  {
   "cell_type": "markdown",
   "id": "ed6585cf-8087-4851-8a38-3aa60e9a9cd2",
   "metadata": {},
   "source": [
    "## Exercises"
   ]
  },
  {
   "cell_type": "markdown",
   "id": "d6d564ea-f92b-4bab-8d32-022e13945764",
   "metadata": {
    "execution": {
     "iopub.execute_input": "2023-02-13T17:58:43.552328Z",
     "iopub.status.busy": "2023-02-13T17:58:43.552194Z",
     "iopub.status.idle": "2023-02-13T17:58:43.554367Z",
     "shell.execute_reply": "2023-02-13T17:58:43.554049Z",
     "shell.execute_reply.started": "2023-02-13T17:58:43.552318Z"
    },
    "tags": []
   },
   "source": [
    "### Defining two inputs\n",
    "\n",
    "In this exercise, you will define two input layers for the two teams in your model. This allows you to specify later in the model how the data from each team will be used differently."
   ]
  },
  {
   "cell_type": "code",
   "execution_count": 16,
   "id": "270f1e45-8b53-46e6-9568-238b887971f2",
   "metadata": {
    "execution": {
     "iopub.execute_input": "2023-02-14T03:34:36.437389Z",
     "iopub.status.busy": "2023-02-14T03:34:36.437083Z",
     "iopub.status.idle": "2023-02-14T03:34:36.440613Z",
     "shell.execute_reply": "2023-02-14T03:34:36.440366Z",
     "shell.execute_reply.started": "2023-02-14T03:34:36.437372Z"
    },
    "tags": []
   },
   "outputs": [],
   "source": [
    "# Input layer for team 1\n",
    "team_in_1 = Input((1,), name='Team-1-In')\n",
    "\n",
    "# Separate input layer for team 2\n",
    "team_in_2 = Input((1,), name='Team-2-In')"
   ]
  },
  {
   "cell_type": "markdown",
   "id": "e3f4416e-596b-4273-8ce7-8c00ddb861dd",
   "metadata": {},
   "source": [
    "These two inputs will be used later for the shared layer."
   ]
  },
  {
   "cell_type": "markdown",
   "id": "44c12568-1a1b-4913-bb0c-42c6d2bd3d2b",
   "metadata": {
    "execution": {
     "iopub.execute_input": "2023-02-13T17:58:52.472810Z",
     "iopub.status.busy": "2023-02-13T17:58:52.472673Z",
     "iopub.status.idle": "2023-02-13T17:58:52.474641Z",
     "shell.execute_reply": "2023-02-13T17:58:52.474372Z",
     "shell.execute_reply.started": "2023-02-13T17:58:52.472799Z"
    },
    "tags": []
   },
   "source": [
    "### Lookup both inputs in the same model\n",
    "\n",
    "Lookup both inputs in the same model\n",
    "\n",
    "Now that you have a team strength model and an input layer for each team, you can lookup the team inputs in the shared team strength model. The two inputs will share the same weights.\n",
    "\n",
    "In this dataset, you have 10,888 unique teams. **You want to learn a strength rating for each team, such that if any pair of teams plays each other, you can predict the score, even if those two teams have never played before**. Furthermore, you want the strength rating to be the same, regardless of whether the team is the home team or the away team.\n",
    "\n",
    "To achieve this, you use a shared layer, defined by the re-usable model (team_strength_model()) you built in exercise 3 and the two input layers (team_in_1 and team_in_2) from the previous exercise, all of which are available in your workspace."
   ]
  },
  {
   "cell_type": "code",
   "execution_count": 17,
   "id": "5410146a-6698-4f1a-85d3-65ade761f6a5",
   "metadata": {
    "execution": {
     "iopub.execute_input": "2023-02-14T03:34:36.441303Z",
     "iopub.status.busy": "2023-02-14T03:34:36.441061Z",
     "iopub.status.idle": "2023-02-14T03:34:36.448261Z",
     "shell.execute_reply": "2023-02-14T03:34:36.447958Z",
     "shell.execute_reply.started": "2023-02-14T03:34:36.441287Z"
    },
    "tags": []
   },
   "outputs": [],
   "source": [
    "# Lookup team 1 in the team strength model\n",
    "team_1_strength = team_strength_model(team_in_1)\n",
    "\n",
    "# Lookup team 2 in the team strength model\n",
    "team_2_strength = team_strength_model(team_in_2)"
   ]
  },
  {
   "cell_type": "markdown",
   "id": "df5e9979-0bde-4a02-afdc-2f35f5b8b434",
   "metadata": {},
   "source": [
    "Now your model knows how strong each team is."
   ]
  },
  {
   "cell_type": "markdown",
   "id": "36981923-72d5-414f-b415-2f32e173c3e3",
   "metadata": {},
   "source": [
    "# Merge layers\n",
    "\n",
    "Now that you've got multiple inputs and a shared layer, you need to combine your inputs into a single layer that you can use to predict a single output. This requires a Merge layer. Merge layers allow you to define advanced, non-sequential network topologies. This can give you a lot of flexibility to creatively design networks to solve specific problems.\n",
    "\n",
    "There are many kinds of merge layers available in Keras. Add, Subtract, and Multiply layers do simple arithmetic operations by element on the input layers, and require them to be the same shape. For example, if we wanted to multiply our team strength ratings together, we could use a Multiply layer. Concatenate layers simply append the 2 layers together, similar to the hstack() function from numpy. Unlike the other merge layers, the Concatenate layer can operate on layers with different numbers of columns.\n",
    "\n",
    "* Add\n",
    "* Subtract\n",
    "* Multiply\n",
    "* Concatenate"
   ]
  },
  {
   "cell_type": "markdown",
   "id": "c7202e4c-ce6c-4ac9-8291-bedbfe023343",
   "metadata": {},
   "source": [
    "Let's build a simple Keras model that takes in two numbers and adds them together. You accomplish this by defining two input layers and using the Add layer to add them together.  "
   ]
  },
  {
   "cell_type": "code",
   "execution_count": 18,
   "id": "71d10a46-4bc0-4339-aad5-356b72a181b6",
   "metadata": {
    "execution": {
     "iopub.execute_input": "2023-02-14T03:34:36.448892Z",
     "iopub.status.busy": "2023-02-14T03:34:36.448662Z",
     "iopub.status.idle": "2023-02-14T03:34:36.453925Z",
     "shell.execute_reply": "2023-02-14T03:34:36.453651Z",
     "shell.execute_reply.started": "2023-02-14T03:34:36.448876Z"
    },
    "tags": []
   },
   "outputs": [],
   "source": [
    "from tensorflow.keras.layers import Input, Add\n",
    "in_tensor_1 = Input((1,))\n",
    "in_tensor_2 = Input((1,))\n",
    "out_tensor = Add()([in_tensor_1, in_tensor_2])"
   ]
  },
  {
   "cell_type": "markdown",
   "id": "eab88143-e924-46f6-a78b-c6f90a3d677b",
   "metadata": {},
   "source": [
    "If you'd like to add together many inputs, you can pass a list with more than two elements to an Add layer. Note that all of the inputs are required to have the same shape, so they can be combined element-wise. The Subtract and Multiply layers work the same way."
   ]
  },
  {
   "cell_type": "code",
   "execution_count": 19,
   "id": "3cf31103-4720-43d5-bfe9-892a4446f083",
   "metadata": {
    "execution": {
     "iopub.execute_input": "2023-02-14T03:34:36.454534Z",
     "iopub.status.busy": "2023-02-14T03:34:36.454378Z",
     "iopub.status.idle": "2023-02-14T03:34:36.459618Z",
     "shell.execute_reply": "2023-02-14T03:34:36.459354Z",
     "shell.execute_reply.started": "2023-02-14T03:34:36.454518Z"
    },
    "tags": []
   },
   "outputs": [],
   "source": [
    "in_tensor_3 = Input((1,))\n",
    "out_tensor = Add()([in_tensor_1, in_tensor_2, in_tensor_3])"
   ]
  },
  {
   "cell_type": "markdown",
   "id": "9849ad12-0233-45e1-9be3-c66ee8a7b349",
   "metadata": {},
   "source": [
    "## Create the model"
   ]
  },
  {
   "cell_type": "markdown",
   "id": "3e460842-3664-4c45-a69c-85278fc0feb5",
   "metadata": {},
   "source": [
    "Now you can wrap the output from your Add layer inside a Model, which will then allow you to fit it to data. Note that the model takes in a list of inputs because it has more than one input. "
   ]
  },
  {
   "cell_type": "code",
   "execution_count": 20,
   "id": "dc0c55c4-9fad-4783-8ef2-22d735832915",
   "metadata": {
    "execution": {
     "iopub.execute_input": "2023-02-14T03:34:36.460358Z",
     "iopub.status.busy": "2023-02-14T03:34:36.460059Z",
     "iopub.status.idle": "2023-02-14T03:34:36.468474Z",
     "shell.execute_reply": "2023-02-14T03:34:36.468126Z",
     "shell.execute_reply.started": "2023-02-14T03:34:36.460342Z"
    },
    "tags": []
   },
   "outputs": [
    {
     "name": "stdout",
     "output_type": "stream",
     "text": [
      "Model: \"model_2\"\n",
      "__________________________________________________________________________________________________\n",
      " Layer (type)                   Output Shape         Param #     Connected to                     \n",
      "==================================================================================================\n",
      " input_10 (InputLayer)          [(None, 1)]          0           []                               \n",
      "                                                                                                  \n",
      " input_11 (InputLayer)          [(None, 1)]          0           []                               \n",
      "                                                                                                  \n",
      " input_12 (InputLayer)          [(None, 1)]          0           []                               \n",
      "                                                                                                  \n",
      " add_1 (Add)                    (None, 1)            0           ['input_10[0][0]',               \n",
      "                                                                  'input_11[0][0]',               \n",
      "                                                                  'input_12[0][0]']               \n",
      "                                                                                                  \n",
      "==================================================================================================\n",
      "Total params: 0\n",
      "Trainable params: 0\n",
      "Non-trainable params: 0\n",
      "__________________________________________________________________________________________________\n"
     ]
    }
   ],
   "source": [
    "from tensorflow.keras.models import Model\n",
    "model = Model([in_tensor_1, in_tensor_2, in_tensor_3], out_tensor)\n",
    "model.summary()"
   ]
  },
  {
   "cell_type": "code",
   "execution_count": 21,
   "id": "d67c8312-d2ba-463f-8e51-e5b0752d666b",
   "metadata": {
    "execution": {
     "iopub.execute_input": "2023-02-14T03:34:36.469333Z",
     "iopub.status.busy": "2023-02-14T03:34:36.469035Z",
     "iopub.status.idle": "2023-02-14T03:34:36.519822Z",
     "shell.execute_reply": "2023-02-14T03:34:36.519294Z",
     "shell.execute_reply.started": "2023-02-14T03:34:36.469315Z"
    },
    "tags": []
   },
   "outputs": [
    {
     "data": {
      "image/png": "[encoded data removed]",
      "text/plain": [
       "<IPython.core.display.Image object>"
      ]
     },
     "execution_count": 21,
     "metadata": {},
     "output_type": "execute_result"
    }
   ],
   "source": [
    "plot_model(model,\n",
    "           to_file='model.png',\n",
    "           show_shapes=True,\n",
    "           show_dtype=True,\n",
    "           # show_layer_names=True, # default True, others False\n",
    "           expand_nested=True,\n",
    "           show_layer_activations=True)"
   ]
  },
  {
   "cell_type": "markdown",
   "id": "de3bc4ca-46ab-4384-a8bf-880f054b9101",
   "metadata": {},
   "source": [
    "## Compile the model"
   ]
  },
  {
   "cell_type": "code",
   "execution_count": 22,
   "id": "fa2f7cc2-0357-431f-878c-401d17fff47c",
   "metadata": {
    "execution": {
     "iopub.execute_input": "2023-02-14T03:34:36.521520Z",
     "iopub.status.busy": "2023-02-14T03:34:36.521393Z",
     "iopub.status.idle": "2023-02-14T03:34:36.527805Z",
     "shell.execute_reply": "2023-02-14T03:34:36.527388Z",
     "shell.execute_reply.started": "2023-02-14T03:34:36.521508Z"
    },
    "tags": []
   },
   "outputs": [],
   "source": [
    "model.compile(optimizer='adam', loss='mean_absolute_error')"
   ]
  },
  {
   "cell_type": "markdown",
   "id": "6c8b2e1b-6f2a-4993-8de8-4463cc67710e",
   "metadata": {},
   "source": [
    "## Exercises"
   ]
  },
  {
   "cell_type": "markdown",
   "id": "7b31ef75-3d58-48ad-8da6-3855a80181f6",
   "metadata": {
    "execution": {
     "iopub.execute_input": "2023-02-13T17:59:21.671392Z",
     "iopub.status.busy": "2023-02-13T17:59:21.671257Z",
     "iopub.status.idle": "2023-02-13T17:59:21.673267Z",
     "shell.execute_reply": "2023-02-13T17:59:21.672995Z",
     "shell.execute_reply.started": "2023-02-13T17:59:21.671381Z"
    },
    "tags": []
   },
   "source": [
    "### Output layer using shared layer\n",
    "\n",
    "Now that you've looked up how \"strong\" each team is, subtract the team strengths to determine which team is expected to win the game.\n",
    "\n",
    "This is a bit like the seeds that the tournament committee uses, which are also a measure of team strength. But rather than using seed differences to predict score differences, you'll use the difference of your own team strength model to predict score differences.\n",
    "\n",
    "The subtract layer will combine the weights from the two layers by subtracting them."
   ]
  },
  {
   "cell_type": "code",
   "execution_count": 23,
   "id": "fc4626d6-51f7-49cf-8ada-70e6864551c5",
   "metadata": {
    "execution": {
     "iopub.execute_input": "2023-02-14T03:34:36.528258Z",
     "iopub.status.busy": "2023-02-14T03:34:36.528158Z",
     "iopub.status.idle": "2023-02-14T03:34:36.531870Z",
     "shell.execute_reply": "2023-02-14T03:34:36.531630Z",
     "shell.execute_reply.started": "2023-02-14T03:34:36.528248Z"
    },
    "tags": []
   },
   "outputs": [],
   "source": [
    "# Import the Subtract layer from tensorflow.keras\n",
    "from tensorflow.keras.layers import Subtract\n",
    "\n",
    "# Create a subtract layer using the inputs from the previous exercise\n",
    "score_diff = Subtract()([team_1_strength, team_2_strength])"
   ]
  },
  {
   "cell_type": "markdown",
   "id": "8a55ecd7-0fb8-4237-84eb-94bac7e88d1c",
   "metadata": {},
   "source": [
    "This setup subracts the team strength ratings to determine a winner."
   ]
  },
  {
   "cell_type": "markdown",
   "id": "d293c84e-ddce-4e61-b96f-d557b2a061ea",
   "metadata": {
    "execution": {
     "iopub.execute_input": "2023-02-13T19:20:17.296194Z",
     "iopub.status.busy": "2023-02-13T19:20:17.295730Z",
     "iopub.status.idle": "2023-02-13T19:20:17.298826Z",
     "shell.execute_reply": "2023-02-13T19:20:17.298346Z",
     "shell.execute_reply.started": "2023-02-13T19:20:17.296181Z"
    },
    "tags": []
   },
   "source": [
    "### Model using two inputs and one output\n",
    "\n",
    "Now that you have your two inputs (team id 1 and team id 2) and output (score difference), you can wrap them up in a model so you can use it later for fitting to data and evaluating on new data.\n",
    "\n",
    "Your model will look like the following diagram:"
   ]
  },
  {
   "cell_type": "code",
   "execution_count": 24,
   "id": "ab0498cf-8db8-4be1-a90b-aceffc10d714",
   "metadata": {
    "execution": {
     "iopub.execute_input": "2023-02-14T03:34:36.532476Z",
     "iopub.status.busy": "2023-02-14T03:34:36.532241Z",
     "iopub.status.idle": "2023-02-14T03:34:36.542817Z",
     "shell.execute_reply": "2023-02-14T03:34:36.542561Z",
     "shell.execute_reply.started": "2023-02-14T03:34:36.532466Z"
    },
    "tags": []
   },
   "outputs": [
    {
     "name": "stdout",
     "output_type": "stream",
     "text": [
      "Model: \"model_3\"\n",
      "__________________________________________________________________________________________________\n",
      " Layer (type)                   Output Shape         Param #     Connected to                     \n",
      "==================================================================================================\n",
      " Team-1-In (InputLayer)         [(None, 1)]          0           []                               \n",
      "                                                                                                  \n",
      " Team-2-In (InputLayer)         [(None, 1)]          0           []                               \n",
      "                                                                                                  \n",
      " Team-Strength-Model (Functiona  (None, 1)           10888       ['Team-1-In[0][0]',              \n",
      " l)                                                               'Team-2-In[0][0]']              \n",
      "                                                                                                  \n",
      " subtract_1 (Subtract)          (None, 1)            0           ['Team-Strength-Model[0][0]',    \n",
      "                                                                  'Team-Strength-Model[1][0]']    \n",
      "                                                                                                  \n",
      "==================================================================================================\n",
      "Total params: 10,888\n",
      "Trainable params: 10,888\n",
      "Non-trainable params: 0\n",
      "__________________________________________________________________________________________________\n"
     ]
    }
   ],
   "source": [
    "# Subtraction layer from previous exercise\n",
    "score_diff = Subtract()([team_1_strength, team_2_strength])\n",
    "\n",
    "# Create the model\n",
    "model = Model([team_in_1, team_in_2], score_diff)\n",
    "\n",
    "# Compile the model\n",
    "model.compile(optimizer='adam', loss='mean_absolute_error')\n",
    "model.summary()"
   ]
  },
  {
   "cell_type": "code",
   "execution_count": 25,
   "id": "201b144a-a6a9-4fe3-b8d6-184a545ec6c0",
   "metadata": {
    "execution": {
     "iopub.execute_input": "2023-02-14T03:34:36.543363Z",
     "iopub.status.busy": "2023-02-14T03:34:36.543177Z",
     "iopub.status.idle": "2023-02-14T03:34:36.604416Z",
     "shell.execute_reply": "2023-02-14T03:34:36.604069Z",
     "shell.execute_reply.started": "2023-02-14T03:34:36.543353Z"
    },
    "tags": []
   },
   "outputs": [
    {
     "data": {
      "image/png": "[encoded data removed]",
      "text/plain": [
       "<IPython.core.display.Image object>"
      ]
     },
     "execution_count": 25,
     "metadata": {},
     "output_type": "execute_result"
    }
   ],
   "source": [
    "plot_model(model,\n",
    "           to_file='model.png',\n",
    "           # show_shapes=True,\n",
    "           # show_dtype=True,\n",
    "           # show_layer_names=True, # default True, others False\n",
    "           expand_nested=True,\n",
    "           # show_layer_activations=True\n",
    "          )"
   ]
  },
  {
   "cell_type": "markdown",
   "id": "03eddaff-1d8b-448a-9e66-eda3603001f2",
   "metadata": {},
   "source": [
    "Now your model is finalized and ready to fit to data."
   ]
  },
  {
   "cell_type": "markdown",
   "id": "57fb6088-e4dd-4142-b01d-f54711348bdd",
   "metadata": {},
   "source": [
    "# Fitting and Predicting with multiple inputs"
   ]
  },
  {
   "cell_type": "markdown",
   "id": "ad433bca-fcef-411f-98f1-8d22adaeb98b",
   "metadata": {},
   "source": [
    "## Fit with multiple inputs"
   ]
  },
  {
   "cell_type": "markdown",
   "id": "14ec45fb-e4d2-42cc-938f-fe01cd1f274d",
   "metadata": {
    "execution": {
     "iopub.execute_input": "2023-02-13T17:54:38.194103Z",
     "iopub.status.busy": "2023-02-13T17:54:38.193968Z",
     "iopub.status.idle": "2023-02-13T17:54:38.201551Z",
     "shell.execute_reply": "2023-02-13T17:54:38.201071Z",
     "shell.execute_reply.started": "2023-02-13T17:54:38.194092Z"
    },
    "tags": []
   },
   "source": [
    "    model.fit([data_1, data_2], target)"
   ]
  },
  {
   "cell_type": "markdown",
   "id": "17f27b67-58cd-4139-988a-6adeb7431fcc",
   "metadata": {},
   "source": [
    "## Predict with multiple inputs"
   ]
  },
  {
   "cell_type": "markdown",
   "id": "c7571bb3-11e9-4ad6-9476-90521247bf31",
   "metadata": {},
   "source": [
    "    model.predict([np.array([[1]]), np.array([[2]])])\n",
    "    array([[3.]], dtype=float32)\n",
    "    model.predict([np.array([[42]]), np.array([[119]])])\n",
    "    array([[161.]], dtype=float32)"
   ]
  },
  {
   "cell_type": "markdown",
   "id": "9a2a0e21-e992-4d00-9cd3-f92df572440a",
   "metadata": {},
   "source": [
    "## Evaluate with multiple inputs"
   ]
  },
  {
   "cell_type": "markdown",
   "id": "692f8ca7-6c46-4b76-a84f-5d60c7dcf91a",
   "metadata": {
    "tags": []
   },
   "source": [
    "    model.evaluate([np.array([[-1]]), np.array([[-2]])], np.array([[-3]]))"
   ]
  },
  {
   "cell_type": "markdown",
   "id": "e9762c9d-342f-4970-b763-c136145449b4",
   "metadata": {},
   "source": [
    "**Multiple inputs let you do data pre-processing as part of the model you learn!**"
   ]
  },
  {
   "cell_type": "markdown",
   "id": "733b70e0-b693-49dd-b270-a09947fc7766",
   "metadata": {},
   "source": [
    "## Exercises"
   ]
  },
  {
   "cell_type": "markdown",
   "id": "15ea1561-58d3-418f-9cf9-4ae311ae5fd2",
   "metadata": {
    "execution": {
     "iopub.execute_input": "2023-02-13T18:00:07.251140Z",
     "iopub.status.busy": "2023-02-13T18:00:07.251008Z",
     "iopub.status.idle": "2023-02-13T18:00:07.253257Z",
     "shell.execute_reply": "2023-02-13T18:00:07.252866Z",
     "shell.execute_reply.started": "2023-02-13T18:00:07.251130Z"
    },
    "tags": []
   },
   "source": [
    "### Fit the model to the regular season training data\n",
    "\n",
    "Now that you've defined a complete team strength model, you can fit it to the basketball data! Since your model has two inputs now, you need to pass the input data as a list."
   ]
  },
  {
   "cell_type": "code",
   "execution_count": 26,
   "id": "d4bfb9f2-2cca-41f4-b349-93a0c2a54d0b",
   "metadata": {
    "execution": {
     "iopub.execute_input": "2023-02-14T03:34:36.605030Z",
     "iopub.status.busy": "2023-02-14T03:34:36.604889Z",
     "iopub.status.idle": "2023-02-14T03:34:37.048698Z",
     "shell.execute_reply": "2023-02-14T03:34:37.048437Z",
     "shell.execute_reply.started": "2023-02-14T03:34:36.605019Z"
    },
    "tags": []
   },
   "outputs": [
    {
     "name": "stdout",
     "output_type": "stream",
     "text": [
      "138/138 [==============================] - 0s 1ms/step - loss: 12.1203 - val_loss: 11.8382\n"
     ]
    },
    {
     "data": {
      "text/plain": [
       "<keras.callbacks.History at 0x7f5f414e1f10>"
      ]
     },
     "execution_count": 26,
     "metadata": {},
     "output_type": "execute_result"
    }
   ],
   "source": [
    "# Get the team_1 column from the regular season data\n",
    "input_1 = games_season['team_1']\n",
    "\n",
    "# Get the team_2 column from the regular season data\n",
    "input_2 = games_season['team_2']\n",
    "\n",
    "# Fit the model to input 1 and 2, using score diff as a target\n",
    "model.fit([input_1, input_2],\n",
    "          games_season['score_diff'],\n",
    "          epochs=1,\n",
    "          batch_size=2048,\n",
    "          validation_split= 0.1,\n",
    "          verbose=True)"
   ]
  },
  {
   "cell_type": "markdown",
   "id": "49cfff51-5f3b-4281-9f06-cf48d80e7275",
   "metadata": {
    "execution": {
     "iopub.execute_input": "2023-02-14T03:34:37.049187Z",
     "iopub.status.busy": "2023-02-14T03:34:37.049083Z",
     "iopub.status.idle": "2023-02-14T03:34:37.050944Z",
     "shell.execute_reply": "2023-02-14T03:34:37.050636Z",
     "shell.execute_reply.started": "2023-02-14T03:34:37.049177Z"
    },
    "tags": []
   },
   "source": [
    "### Evaluate the model on the tournament test data\n",
    "\n",
    "The model you fit to the regular season data (model) in the previous exercise and the tournament dataset (games_tourney) are available in your workspace.\n",
    "\n",
    "In this exercise, you will evaluate the model on this new dataset. This evaluation will tell you how well you can predict the tournament games, based on a model trained with the regular season data. This is interesting because many teams play each other in the tournament that did not play in the regular season, so this is a very good check that your model is not overfitting."
   ]
  },
  {
   "cell_type": "code",
   "execution_count": 30,
   "id": "103c4d0f-eb20-4b7d-9f28-5ee27065dbc4",
   "metadata": {
    "execution": {
     "iopub.execute_input": "2023-02-14T03:37:58.189516Z",
     "iopub.status.busy": "2023-02-14T03:37:58.189380Z",
     "iopub.status.idle": "2023-02-14T03:37:58.279068Z",
     "shell.execute_reply": "2023-02-14T03:37:58.278780Z",
     "shell.execute_reply.started": "2023-02-14T03:37:58.189505Z"
    },
    "tags": []
   },
   "outputs": [
    {
     "name": "stdout",
     "output_type": "stream",
     "text": [
      "11.682377815246582\n"
     ]
    }
   ],
   "source": [
    "# Get team_1 from the tournament data\n",
    "input_1 = games_tourney['team_1']\n",
    "\n",
    "# Get team_2 from the tournament data\n",
    "input_2 = games_tourney['team_2']\n",
    "\n",
    "# Evaluate the model using these inputs\n",
    "print(model.evaluate([input_1, input_2], games_tourney['score_diff'], verbose=False))"
   ]
  }
 ],
 "metadata": {
  "kernelspec": {
   "display_name": "Python 3 (ipykernel)",
   "language": "python",
   "name": "python3"
  },
  "language_info": {
   "codemirror_mode": {
    "name": "ipython",
    "version": 3
   },
   "file_extension": ".py",
   "mimetype": "text/x-python",
   "name": "python",
   "nbconvert_exporter": "python",
   "pygments_lexer": "ipython3",
   "version": "3.9.15"
  },
  "toc-autonumbering": true
 },
 "nbformat": 4,
 "nbformat_minor": 5
}
