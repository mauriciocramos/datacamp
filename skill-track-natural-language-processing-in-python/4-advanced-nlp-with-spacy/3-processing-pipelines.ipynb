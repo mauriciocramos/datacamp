{
 "cells": [
  {
   "cell_type": "markdown",
   "id": "96f29e7c-f427-463d-9f95-6b3d7cc53b73",
   "metadata": {},
   "source": [
    "# Pipeline"
   ]
  },
  {
   "cell_type": "code",
   "execution_count": 1,
   "id": "2ccfd8dc-12dd-43d1-b89a-e7abcf81b4e8",
   "metadata": {
    "execution": {
     "iopub.execute_input": "2022-12-28T14:37:23.829127Z",
     "iopub.status.busy": "2022-12-28T14:37:23.829034Z",
     "iopub.status.idle": "2022-12-28T14:37:27.141550Z",
     "shell.execute_reply": "2022-12-28T14:37:27.141118Z",
     "shell.execute_reply.started": "2022-12-28T14:37:23.829116Z"
    },
    "scrolled": true,
    "tags": []
   },
   "outputs": [
    {
     "data": {
      "text/plain": [
       "{'lang': 'en',\n",
       " 'name': 'core_web_lg',\n",
       " 'version': '3.4.1',\n",
       " 'description': 'English pipeline optimized for CPU. Components: tok2vec, tagger, parser, senter, ner, attribute_ruler, lemmatizer.',\n",
       " 'author': 'Explosion',\n",
       " 'email': 'contact@explosion.ai',\n",
       " 'url': 'https://explosion.ai',\n",
       " 'license': 'MIT',\n",
       " 'spacy_version': '>=3.4.0,<3.5.0',\n",
       " 'spacy_git_version': '2b5f955c2',\n",
       " 'vectors': {'width': 300,\n",
       "  'vectors': 514157,\n",
       "  'keys': 514157,\n",
       "  'name': 'en_vectors',\n",
       "  'mode': 'default'},\n",
       " 'labels': {'tok2vec': [],\n",
       "  'tagger': ['$',\n",
       "   \"''\",\n",
       "   ',',\n",
       "   '-LRB-',\n",
       "   '-RRB-',\n",
       "   '.',\n",
       "   ':',\n",
       "   'ADD',\n",
       "   'AFX',\n",
       "   'CC',\n",
       "   'CD',\n",
       "   'DT',\n",
       "   'EX',\n",
       "   'FW',\n",
       "   'HYPH',\n",
       "   'IN',\n",
       "   'JJ',\n",
       "   'JJR',\n",
       "   'JJS',\n",
       "   'LS',\n",
       "   'MD',\n",
       "   'NFP',\n",
       "   'NN',\n",
       "   'NNP',\n",
       "   'NNPS',\n",
       "   'NNS',\n",
       "   'PDT',\n",
       "   'POS',\n",
       "   'PRP',\n",
       "   'PRP$',\n",
       "   'RB',\n",
       "   'RBR',\n",
       "   'RBS',\n",
       "   'RP',\n",
       "   'SYM',\n",
       "   'TO',\n",
       "   'UH',\n",
       "   'VB',\n",
       "   'VBD',\n",
       "   'VBG',\n",
       "   'VBN',\n",
       "   'VBP',\n",
       "   'VBZ',\n",
       "   'WDT',\n",
       "   'WP',\n",
       "   'WP$',\n",
       "   'WRB',\n",
       "   'XX',\n",
       "   '_SP',\n",
       "   '``'],\n",
       "  'parser': ['ROOT',\n",
       "   'acl',\n",
       "   'acomp',\n",
       "   'advcl',\n",
       "   'advmod',\n",
       "   'agent',\n",
       "   'amod',\n",
       "   'appos',\n",
       "   'attr',\n",
       "   'aux',\n",
       "   'auxpass',\n",
       "   'case',\n",
       "   'cc',\n",
       "   'ccomp',\n",
       "   'compound',\n",
       "   'conj',\n",
       "   'csubj',\n",
       "   'csubjpass',\n",
       "   'dative',\n",
       "   'dep',\n",
       "   'det',\n",
       "   'dobj',\n",
       "   'expl',\n",
       "   'intj',\n",
       "   'mark',\n",
       "   'meta',\n",
       "   'neg',\n",
       "   'nmod',\n",
       "   'npadvmod',\n",
       "   'nsubj',\n",
       "   'nsubjpass',\n",
       "   'nummod',\n",
       "   'oprd',\n",
       "   'parataxis',\n",
       "   'pcomp',\n",
       "   'pobj',\n",
       "   'poss',\n",
       "   'preconj',\n",
       "   'predet',\n",
       "   'prep',\n",
       "   'prt',\n",
       "   'punct',\n",
       "   'quantmod',\n",
       "   'relcl',\n",
       "   'xcomp'],\n",
       "  'attribute_ruler': [],\n",
       "  'lemmatizer': [],\n",
       "  'ner': ['CARDINAL',\n",
       "   'DATE',\n",
       "   'EVENT',\n",
       "   'FAC',\n",
       "   'GPE',\n",
       "   'LANGUAGE',\n",
       "   'LAW',\n",
       "   'LOC',\n",
       "   'MONEY',\n",
       "   'NORP',\n",
       "   'ORDINAL',\n",
       "   'ORG',\n",
       "   'PERCENT',\n",
       "   'PERSON',\n",
       "   'PRODUCT',\n",
       "   'QUANTITY',\n",
       "   'TIME',\n",
       "   'WORK_OF_ART']},\n",
       " 'pipeline': ['tok2vec',\n",
       "  'tagger',\n",
       "  'parser',\n",
       "  'attribute_ruler',\n",
       "  'lemmatizer',\n",
       "  'ner'],\n",
       " 'components': ['tok2vec',\n",
       "  'tagger',\n",
       "  'parser',\n",
       "  'senter',\n",
       "  'attribute_ruler',\n",
       "  'lemmatizer',\n",
       "  'ner'],\n",
       " 'disabled': ['senter'],\n",
       " 'performance': {'token_acc': 0.9993092439000001,\n",
       "  'token_p': 0.9956819193,\n",
       "  'token_r': 0.9957659295000001,\n",
       "  'token_f': 0.9957239226000001,\n",
       "  'tag_acc': 0.9734404547000001,\n",
       "  'sents_p': 0.9179347826,\n",
       "  'sents_r': 0.8913516723,\n",
       "  'sents_f': 0.9044479400000001,\n",
       "  'dep_uas': 0.9204363007,\n",
       "  'dep_las': 0.9023174614,\n",
       "  'dep_las_per_type': {'prep': {'p': 0.8597877625,\n",
       "    'r': 0.8669322709,\n",
       "    'f': 0.8633452361},\n",
       "   'det': {'p': 0.9797074284, 'r': 0.9803066134, 'f': 0.9800069293},\n",
       "   'pobj': {'p': 0.963921354, 'r': 0.9683879835, 'f': 0.9661495063000001},\n",
       "   'nsubj': {'p': 0.9573359244, 'r': 0.94966046, 'f': 0.9534827457},\n",
       "   'aux': {'p': 0.9815950920000001,\n",
       "    'r': 0.9828184813,\n",
       "    'f': 0.9822064057000001},\n",
       "   'advmod': {'p': 0.8567202029000001, 'r': 0.8526838297, 'f': 0.8546972508},\n",
       "   'relcl': {'p': 0.7682926829000001,\n",
       "    'r': 0.7772133527,\n",
       "    'f': 0.7727272727000001},\n",
       "   'root': {'p': 0.9196058444, 'r': 0.8926710205, 'f': 0.9059382741},\n",
       "   'xcomp': {'p': 0.8853797019, 'r': 0.8955491744, 'f': 0.8904354033},\n",
       "   'amod': {'p': 0.9199114468, 'r': 0.9153223194000001, 'f': 0.9176111454},\n",
       "   'compound': {'p': 0.9198242724000001,\n",
       "    'r': 0.9328358209000001,\n",
       "    'f': 0.9262843555},\n",
       "   'poss': {'p': 0.9735205617, 'r': 0.9768518519, 'f': 0.9751833618},\n",
       "   'ccomp': {'p': 0.7757201646, 'r': 0.8446028513, 'f': 0.8086973479},\n",
       "   'attr': {'p': 0.9064542484, 'r': 0.93313709, 'f': 0.9196021550000001},\n",
       "   'case': {'p': 0.9797330697000001,\n",
       "    'r': 0.9919919920000001,\n",
       "    'f': 0.9858244218000001},\n",
       "   'mark': {'p': 0.9015624999999999,\n",
       "    'r': 0.9173290938,\n",
       "    'f': 0.9093774626000001},\n",
       "   'intj': {'p': 0.680533752, 'r': 0.6351648352, 'f': 0.6570670709},\n",
       "   'advcl': {'p': 0.6686002522000001,\n",
       "    'r': 0.6675900277,\n",
       "    'f': 0.6680947581000001},\n",
       "   'cc': {'p': 0.8381204182, 'r': 0.8341107523, 'f': 0.8361107781},\n",
       "   'neg': {'p': 0.9451371571, 'r': 0.9508278976000001, 'f': 0.947973987},\n",
       "   'conj': {'p': 0.7760468594000001, 'r': 0.7838620342, 'f': 0.7799348697},\n",
       "   'nsubjpass': {'p': 0.9234693878, 'r': 0.9282051282, 'f': 0.925831202},\n",
       "   'auxpass': {'p': 0.9468791501, 'r': 0.9744874715, 'f': 0.9604849573},\n",
       "   'dobj': {'p': 0.9278213166, 'r': 0.9434217866000001, 'f': 0.9355565214},\n",
       "   'nummod': {'p': 0.9377224199, 'r': 0.9315656566, 'f': 0.9346338992000001},\n",
       "   'npadvmod': {'p': 0.7837218189, 'r': 0.7285968028, 'f': 0.7551546392},\n",
       "   'prt': {'p': 0.8103025348, 'r': 0.8879928315000001, 'f': 0.8473706712},\n",
       "   'pcomp': {'p': 0.8873937677, 'r': 0.8774509804, 'f': 0.8823943662},\n",
       "   'expl': {'p': 0.9809725159, 'r': 0.9935760171, 'f': 0.9872340426},\n",
       "   'acl': {'p': 0.7534883721000001,\n",
       "    'r': 0.7070376432000001,\n",
       "    'f': 0.7295243456},\n",
       "   'agent': {'p': 0.9042735043000001, 'r': 0.9480286738, 'f': 0.9256342957},\n",
       "   'dative': {'p': 0.7725000000000001,\n",
       "    'r': 0.7087155963,\n",
       "    'f': 0.7392344498000001},\n",
       "   'acomp': {'p': 0.9080091533, 'r': 0.8997732426, 'f': 0.9038724374},\n",
       "   'dep': {'p': 0.3263473054, 'r': 0.17694805190000001, 'f': 0.2294736842},\n",
       "   'csubj': {'p': 0.7045454545000001, 'r': 0.7337278107, 'f': 0.7188405797},\n",
       "   'quantmod': {'p': 0.8531468531, 'r': 0.7928513404, 'f': 0.8218947368},\n",
       "   'nmod': {'p': 0.7539432177000001, 'r': 0.5825716027, 'f': 0.6572705397},\n",
       "   'appos': {'p': 0.6997270246, 'r': 0.6672451193000001, 'f': 0.6831001555},\n",
       "   'predet': {'p': 0.8524590164, 'r': 0.8927038627, 'f': 0.8721174004000001},\n",
       "   'preconj': {'p': 0.5684210526, 'r': 0.6279069767000001, 'f': 0.5966850829},\n",
       "   'oprd': {'p': 0.8322368421, 'r': 0.7552238806, 'f': 0.7918622848},\n",
       "   'parataxis': {'p': 0.6323119777,\n",
       "    'r': 0.49240780910000004,\n",
       "    'f': 0.5536585366},\n",
       "   'meta': {'p': 0.8461538462, 'r': 0.4230769231, 'f': 0.5641025641},\n",
       "   'csubjpass': {'p': 0.4285714286, 'r': 0.5, 'f': 0.4615384615}},\n",
       "  'ents_p': 0.8535469108,\n",
       "  'ents_r': 0.8592748397000001,\n",
       "  'ents_f': 0.8564012977000001,\n",
       "  'ents_per_type': {'DATE': {'p': 0.8657320872000001,\n",
       "    'r': 0.8822222222,\n",
       "    'f': 0.8738993711},\n",
       "   'GPE': {'p': 0.926199262, 'r': 0.9101813110000001, 'f': 0.9181204277},\n",
       "   'ORDINAL': {'p': 0.7826086957, 'r': 0.8385093168000001, 'f': 0.8095952024},\n",
       "   'LOC': {'p': 0.6990291262, 'r': 0.6878980892000001, 'f': 0.6934189406},\n",
       "   'ORG': {'p': 0.8197402597000001, 'r': 0.8366914104000001, 'f': 0.8281291},\n",
       "   'QUANTITY': {'p': 0.7866666667000001, 'r': 0.6483516484, 'f': 0.7108433735},\n",
       "   'CARDINAL': {'p': 0.8249158249, 'r': 0.8739595719000001, 'f': 0.8487297921},\n",
       "   'PERSON': {'p': 0.8759975445, 'r': 0.931462141, 'f': 0.9028788358000001},\n",
       "   'NORP': {'p': 0.921837228, 'r': 0.9152, 'f': 0.9185066238},\n",
       "   'FAC': {'p': 0.39583333330000003, 'r': 0.4384615385, 'f': 0.4160583942},\n",
       "   'TIME': {'p': 0.6994382022000001,\n",
       "    'r': 0.7280701754000001,\n",
       "    'f': 0.7134670487},\n",
       "   'WORK_OF_ART': {'p': 0.4285714286, 'r': 0.3556701031, 'f': 0.3887323944},\n",
       "   'MONEY': {'p': 0.9161676647, 'r': 0.9031877214, 'f': 0.9096313912},\n",
       "   'EVENT': {'p': 0.59, 'r': 0.3390804598, 'f': 0.4306569343},\n",
       "   'LAW': {'p': 0.5846153846000001, 'r': 0.59375, 'f': 0.5891472868000001},\n",
       "   'PERCENT': {'p': 0.9175911252000001,\n",
       "    'r': 0.886676876,\n",
       "    'f': 0.9018691589000001},\n",
       "   'PRODUCT': {'p': 0.44827586210000003, 'r': 0.2464454976, 'f': 0.3180428135},\n",
       "   'LANGUAGE': {'p': 0.7692307692, 'r': 0.625, 'f': 0.6896551724000001}},\n",
       "  'speed': 9221.3523549505},\n",
       " 'sources': [{'name': 'OntoNotes 5',\n",
       "   'url': 'https://catalog.ldc.upenn.edu/LDC2013T19',\n",
       "   'license': 'commercial (licensed by Explosion)',\n",
       "   'author': 'Ralph Weischedel, Martha Palmer, Mitchell Marcus, Eduard Hovy, Sameer Pradhan, Lance Ramshaw, Nianwen Xue, Ann Taylor, Jeff Kaufman, Michelle Franchini, Mohammed El-Bachouti, Robert Belvin, Ann Houston'},\n",
       "  {'name': 'ClearNLP Constituent-to-Dependency Conversion',\n",
       "   'url': 'https://github.com/clir/clearnlp-guidelines/blob/master/md/components/dependency_conversion.md',\n",
       "   'license': 'Citation provided for reference, no code packaged with model',\n",
       "   'author': 'Emory University'},\n",
       "  {'name': 'WordNet 3.0',\n",
       "   'url': 'https://wordnet.princeton.edu/',\n",
       "   'author': 'Princeton University',\n",
       "   'license': 'WordNet 3.0 License'},\n",
       "  {'name': 'Explosion Vectors (OSCAR 2109 + Wikipedia + OpenSubtitles + WMT News Crawl)',\n",
       "   'url': 'https://github.com/explosion/spacy-vectors-builder',\n",
       "   'license': 'CC0',\n",
       "   'author': 'Explosion'}],\n",
       " 'requirements': []}"
      ]
     },
     "execution_count": 1,
     "metadata": {},
     "output_type": "execute_result"
    }
   ],
   "source": [
    "import spacy\n",
    "spacy.require_gpu()\n",
    "nlp = spacy.load('en_core_web_lg')\n",
    "nlp.meta"
   ]
  },
  {
   "cell_type": "code",
   "execution_count": 2,
   "id": "6205eaa5-81dc-42e9-9098-9dd153a43cf1",
   "metadata": {
    "execution": {
     "iopub.execute_input": "2022-12-28T14:37:27.142519Z",
     "iopub.status.busy": "2022-12-28T14:37:27.142265Z",
     "iopub.status.idle": "2022-12-28T14:37:27.145052Z",
     "shell.execute_reply": "2022-12-28T14:37:27.144805Z",
     "shell.execute_reply.started": "2022-12-28T14:37:27.142506Z"
    }
   },
   "outputs": [
    {
     "data": {
      "text/plain": [
       "['tok2vec', 'tagger', 'parser', 'attribute_ruler', 'lemmatizer', 'ner']"
      ]
     },
     "execution_count": 2,
     "metadata": {},
     "output_type": "execute_result"
    }
   ],
   "source": [
    "nlp.pipe_names"
   ]
  },
  {
   "cell_type": "code",
   "execution_count": 3,
   "id": "ea1974c1-9e0a-48f5-b41b-fa8ab7049b93",
   "metadata": {
    "execution": {
     "iopub.execute_input": "2022-12-28T14:37:27.145507Z",
     "iopub.status.busy": "2022-12-28T14:37:27.145400Z",
     "iopub.status.idle": "2022-12-28T14:37:27.147988Z",
     "shell.execute_reply": "2022-12-28T14:37:27.147751Z",
     "shell.execute_reply.started": "2022-12-28T14:37:27.145493Z"
    },
    "tags": []
   },
   "outputs": [
    {
     "data": {
      "text/plain": [
       "[('tok2vec', <spacy.pipeline.tok2vec.Tok2Vec at 0x7ff4926ded60>),\n",
       " ('tagger', <spacy.pipeline.tagger.Tagger at 0x7ff4926deb80>),\n",
       " ('parser', <spacy.pipeline.dep_parser.DependencyParser at 0x7ff4926dd4a0>),\n",
       " ('attribute_ruler',\n",
       "  <spacy.pipeline.attributeruler.AttributeRuler at 0x7ff4925340c0>),\n",
       " ('lemmatizer',\n",
       "  <spacy.lang.en.lemmatizer.EnglishLemmatizer at 0x7ff4924e0700>),\n",
       " ('ner', <spacy.pipeline.ner.EntityRecognizer at 0x7ff4926dd2e0>)]"
      ]
     },
     "execution_count": 3,
     "metadata": {},
     "output_type": "execute_result"
    }
   ],
   "source": [
    "nlp.pipeline"
   ]
  },
  {
   "cell_type": "markdown",
   "id": "923465cf-c5ca-4234-be9c-69006603d20a",
   "metadata": {},
   "source": [
    "# Custom pipeline components"
   ]
  },
  {
   "cell_type": "code",
   "execution_count": 4,
   "id": "73ec2ef5-c0bf-465c-bc38-97101c403cc9",
   "metadata": {
    "execution": {
     "iopub.execute_input": "2022-12-28T14:37:27.148550Z",
     "iopub.status.busy": "2022-12-28T14:37:27.148324Z",
     "iopub.status.idle": "2022-12-28T14:37:28.366245Z",
     "shell.execute_reply": "2022-12-28T14:37:28.365831Z",
     "shell.execute_reply.started": "2022-12-28T14:37:27.148540Z"
    },
    "tags": []
   },
   "outputs": [
    {
     "name": "stdout",
     "output_type": "stream",
     "text": [
      "Pipeline: ['custom_component', 'tok2vec', 'tagger', 'parser', 'attribute_ruler', 'lemmatizer', 'ner']\n",
      "Doc length: 3\n"
     ]
    }
   ],
   "source": [
    "from spacy import Language\n",
    "nlp = spacy.load('en_core_web_lg')\n",
    "# Define a custom component\n",
    "@Language.component('custom_component')\n",
    "def custom_component(doc):\n",
    "    # Print the doc's length\n",
    "    print('Doc length:', len(doc))\n",
    "    # Return the doc object\n",
    "    return doc\n",
    "\n",
    "# Add the component first in the pipeline\n",
    "nlp.add_pipe('custom_component', first=True)\n",
    "# Print the pipeline component names\n",
    "print('Pipeline:', nlp.pipe_names)\n",
    "# run the custom pipeline\n",
    "doc = nlp('Hello world!')"
   ]
  },
  {
   "cell_type": "markdown",
   "id": "4809403b-062f-463e-b724-399a59776206",
   "metadata": {},
   "source": [
    "# Complex components"
   ]
  },
  {
   "cell_type": "code",
   "execution_count": 5,
   "id": "a87055ec-55c9-4dd7-9a9d-9db4a50a2f25",
   "metadata": {
    "execution": {
     "iopub.execute_input": "2022-12-28T14:37:28.366737Z",
     "iopub.status.busy": "2022-12-28T14:37:28.366635Z",
     "iopub.status.idle": "2022-12-28T14:37:29.118845Z",
     "shell.execute_reply": "2022-12-28T14:37:29.118461Z",
     "shell.execute_reply.started": "2022-12-28T14:37:28.366727Z"
    },
    "tags": []
   },
   "outputs": [
    {
     "name": "stdout",
     "output_type": "stream",
     "text": [
      "[('cat', 'ANIMAL'), ('Golden Retriever', 'ANIMAL')]\n"
     ]
    }
   ],
   "source": [
    "from spacy.matcher import PhraseMatcher\n",
    "from spacy.tokens import Span\n",
    "nlp = spacy.load('en_core_web_lg')\n",
    "# Define a custom component\n",
    "\n",
    "matcher = PhraseMatcher(nlp.vocab)\n",
    "matcher.add(\"ANIMAL\", [nlp('Golden Retriever')])\n",
    "matcher.add(\"ANIMAL\", [nlp('cat')])\n",
    "\n",
    "@Language.component('animal_component')\n",
    "def animal_component(doc):\n",
    "    # Create a Span for each match and assign the label 'ANIMAL'\n",
    "    # and overwrite the doc.ents with the matched spans\n",
    "    doc.ents = [Span(doc, start, end, label='ANIMAL')\n",
    "                for match_id, start, end in matcher(doc)]\n",
    "    return doc\n",
    "    \n",
    "# Add the component to the pipeline after the 'ner' component \n",
    "nlp.add_pipe('animal_component', after='ner')\n",
    "\n",
    "# Process the text and print the text and label for the doc.ents\n",
    "doc = nlp(\"I have a cat and a Golden Retriever\")\n",
    "print([(ent.text, ent.label_) for ent in doc.ents])"
   ]
  },
  {
   "cell_type": "code",
   "execution_count": 6,
   "id": "f9cae33d-e724-4b42-92bc-2d0261928fcc",
   "metadata": {
    "execution": {
     "iopub.execute_input": "2022-12-28T14:37:29.119322Z",
     "iopub.status.busy": "2022-12-28T14:37:29.119210Z",
     "iopub.status.idle": "2022-12-28T14:37:29.121802Z",
     "shell.execute_reply": "2022-12-28T14:37:29.121569Z",
     "shell.execute_reply.started": "2022-12-28T14:37:29.119311Z"
    },
    "tags": []
   },
   "outputs": [
    {
     "data": {
      "text/plain": [
       "['ANIMAL', 'ANIMAL']"
      ]
     },
     "execution_count": 6,
     "metadata": {},
     "output_type": "execute_result"
    }
   ],
   "source": [
    "[nlp.vocab.strings[match_id] for match_id, start, end in matcher(doc)]"
   ]
  },
  {
   "cell_type": "markdown",
   "id": "fe908967-5666-41aa-967a-d82b3f94fdbc",
   "metadata": {
    "execution": {
     "iopub.execute_input": "2022-12-28T12:54:59.864815Z",
     "iopub.status.busy": "2022-12-28T12:54:59.864675Z",
     "iopub.status.idle": "2022-12-28T12:54:59.867384Z",
     "shell.execute_reply": "2022-12-28T12:54:59.866990Z",
     "shell.execute_reply.started": "2022-12-28T12:54:59.864804Z"
    }
   },
   "source": [
    "# Extension attribute types\n",
    "1. Attribute extensions\n",
    "2. Property extensions\n",
    "3. Method extension"
   ]
  },
  {
   "cell_type": "markdown",
   "id": "dadc04e6-508b-4b66-be04-f872a8274bf8",
   "metadata": {
    "execution": {
     "iopub.execute_input": "2022-12-28T12:56:00.568881Z",
     "iopub.status.busy": "2022-12-28T12:56:00.568749Z",
     "iopub.status.idle": "2022-12-28T12:56:00.571372Z",
     "shell.execute_reply": "2022-12-28T12:56:00.570967Z",
     "shell.execute_reply.started": "2022-12-28T12:56:00.568871Z"
    }
   },
   "source": [
    "## Attribute extensions\n",
    "* Set a default value that can be overwritten"
   ]
  },
  {
   "cell_type": "code",
   "execution_count": 7,
   "id": "88655ca5-cb04-406b-bb59-7f6f53ea265f",
   "metadata": {
    "execution": {
     "iopub.execute_input": "2022-12-28T14:37:29.122842Z",
     "iopub.status.busy": "2022-12-28T14:37:29.122740Z",
     "iopub.status.idle": "2022-12-28T14:37:29.134470Z",
     "shell.execute_reply": "2022-12-28T14:37:29.134152Z",
     "shell.execute_reply.started": "2022-12-28T14:37:29.122832Z"
    },
    "tags": []
   },
   "outputs": [
    {
     "data": {
      "text/plain": [
       "('blue', True)"
      ]
     },
     "execution_count": 7,
     "metadata": {},
     "output_type": "execute_result"
    }
   ],
   "source": [
    "from spacy.tokens import Token\n",
    "# Set extension on the Token with default value\n",
    "Token.set_extension('is_color', default=False, force=True)\n",
    "doc = nlp(\"The sky is blue.\")\n",
    "# Overwrite extension attribute value\n",
    "doc[3]._.is_color = True\n",
    "doc[3].text, doc[3]._.is_color"
   ]
  },
  {
   "cell_type": "markdown",
   "id": "42580b50-3de0-4a1b-bb98-9da329c74da6",
   "metadata": {},
   "source": [
    "## Property extensions"
   ]
  },
  {
   "cell_type": "markdown",
   "id": "b2bea705-b19f-4b0f-a854-53dda613d8c6",
   "metadata": {},
   "source": [
    "* Define a getter and an optional setter function\n",
    "* Getter only called when you retrieve the attribute value"
   ]
  },
  {
   "cell_type": "code",
   "execution_count": 8,
   "id": "d5ece69b-c311-46b1-9c89-6e15246448a7",
   "metadata": {
    "execution": {
     "iopub.execute_input": "2022-12-28T14:37:29.135084Z",
     "iopub.status.busy": "2022-12-28T14:37:29.134875Z",
     "iopub.status.idle": "2022-12-28T14:37:29.146724Z",
     "shell.execute_reply": "2022-12-28T14:37:29.146324Z",
     "shell.execute_reply.started": "2022-12-28T14:37:29.135073Z"
    },
    "tags": []
   },
   "outputs": [
    {
     "name": "stdout",
     "output_type": "stream",
     "text": [
      "True - blue\n"
     ]
    }
   ],
   "source": [
    "# Define getter function\n",
    "def get_is_color(token):\n",
    "    colors = ['red', 'yellow', 'blue']\n",
    "    return token.text in colors\n",
    "\n",
    "# Set extension on the Token with getter\n",
    "Token.set_extension('is_color', getter=get_is_color, force=True)\n",
    "\n",
    "doc = nlp(\"The sky is blue.\")\n",
    "print(doc[3]._.is_color, '-', doc[3].text)"
   ]
  },
  {
   "cell_type": "markdown",
   "id": "d87aaf06-2206-4ba4-ba98-7c1ecb7c75fe",
   "metadata": {},
   "source": [
    "* Span extensions should always use a getter. Otherwise, you'd have to update *every possible span ever* by hand to set all the values."
   ]
  },
  {
   "cell_type": "code",
   "execution_count": 9,
   "id": "f1e50858-02d1-499b-b9b2-20e72cd269b1",
   "metadata": {
    "execution": {
     "iopub.execute_input": "2022-12-28T14:37:29.147232Z",
     "iopub.status.busy": "2022-12-28T14:37:29.147102Z",
     "iopub.status.idle": "2022-12-28T14:37:29.159556Z",
     "shell.execute_reply": "2022-12-28T14:37:29.159295Z",
     "shell.execute_reply.started": "2022-12-28T14:37:29.147222Z"
    },
    "tags": []
   },
   "outputs": [
    {
     "name": "stdout",
     "output_type": "stream",
     "text": [
      "True - sky is blue\n",
      "False - The sky\n"
     ]
    }
   ],
   "source": [
    "from spacy.tokens import Span\n",
    "\n",
    "# Define getter function\n",
    "def get_has_color(span):\n",
    "    colors = ['red', 'yellow', 'blue']\n",
    "    return any(token.text in colors for token in span)\n",
    "\n",
    "# Set extension on the Span with getter\n",
    "Span.set_extension('has_color', getter=get_has_color, force=True)\n",
    "\n",
    "doc = nlp(\"The sky is blue.\")\n",
    "print(doc[1:4]._.has_color, '-', doc[1:4].text)\n",
    "print(doc[0:2]._.has_color, '-', doc[0:2].text)"
   ]
  },
  {
   "cell_type": "markdown",
   "id": "24a87411-9035-43ea-bacf-28406b030059",
   "metadata": {},
   "source": [
    "## Method extensions\n",
    "* Assign a function that becomes available as an object method\n",
    "* Lets you pass arguments to the extension function"
   ]
  },
  {
   "cell_type": "code",
   "execution_count": 10,
   "id": "3f4eb65e-8394-49d5-9ff4-65002032f533",
   "metadata": {
    "execution": {
     "iopub.execute_input": "2022-12-28T14:37:29.160001Z",
     "iopub.status.busy": "2022-12-28T14:37:29.159902Z",
     "iopub.status.idle": "2022-12-28T14:37:29.170327Z",
     "shell.execute_reply": "2022-12-28T14:37:29.170067Z",
     "shell.execute_reply.started": "2022-12-28T14:37:29.159991Z"
    },
    "tags": []
   },
   "outputs": [
    {
     "name": "stdout",
     "output_type": "stream",
     "text": [
      "True - blue\n",
      "False - cloud\n"
     ]
    }
   ],
   "source": [
    "from spacy.tokens import Doc\n",
    "\n",
    "# Define method with arguments\n",
    "def has_token(doc, token_text):\n",
    "    return token_text in [token.text for token in doc] \n",
    "\n",
    "# Set extension on the Doc with method\n",
    "Doc.set_extension('has_token', method=has_token, force=True)\n",
    "\n",
    "doc = nlp(\"The sky is blue.\")\n",
    "print(doc._.has_token('blue'), '- blue')\n",
    "print(doc._.has_token('cloud'), '- cloud')"
   ]
  },
  {
   "cell_type": "markdown",
   "id": "a6026993-b3d4-4169-b1a2-334af60e2940",
   "metadata": {},
   "source": [
    "## Set extension attributes 1"
   ]
  },
  {
   "cell_type": "code",
   "execution_count": 11,
   "id": "6a73dfb6-679c-4cfa-8579-416f4e487220",
   "metadata": {
    "execution": {
     "iopub.execute_input": "2022-12-28T14:37:29.170790Z",
     "iopub.status.busy": "2022-12-28T14:37:29.170688Z",
     "iopub.status.idle": "2022-12-28T14:37:29.181328Z",
     "shell.execute_reply": "2022-12-28T14:37:29.181075Z",
     "shell.execute_reply.started": "2022-12-28T14:37:29.170780Z"
    }
   },
   "outputs": [
    {
     "name": "stdout",
     "output_type": "stream",
     "text": [
      "[('I', False), ('live', False), ('in', False), ('Spain', True), ('.', False)]\n"
     ]
    }
   ],
   "source": [
    "# Register the Token extension attribute 'is_country' with the default value False\n",
    "Token.set_extension('is_country', default=False, force=True)\n",
    "\n",
    "# Process the text and set the is_country attribute to True for the token \"Spain\"\n",
    "doc = nlp(\"I live in Spain.\")\n",
    "doc[3]._.is_country = True\n",
    "\n",
    "# Print the token text and the is_country attribute for all tokens\n",
    "print([(token.text, token._.is_country) for token in doc])"
   ]
  },
  {
   "cell_type": "code",
   "execution_count": 12,
   "id": "c25d5a5f-a152-428a-999b-e8f97d2a80fa",
   "metadata": {
    "execution": {
     "iopub.execute_input": "2022-12-28T14:37:29.181849Z",
     "iopub.status.busy": "2022-12-28T14:37:29.181667Z",
     "iopub.status.idle": "2022-12-28T14:37:29.192457Z",
     "shell.execute_reply": "2022-12-28T14:37:29.192213Z",
     "shell.execute_reply.started": "2022-12-28T14:37:29.181838Z"
    }
   },
   "outputs": [
    {
     "name": "stdout",
     "output_type": "stream",
     "text": [
      "reversed: llA\n",
      "reversed: snoitazilareneg\n",
      "reversed: era\n",
      "reversed: eslaf\n",
      "reversed: ,\n",
      "reversed: gnidulcni\n",
      "reversed: siht\n",
      "reversed: eno\n",
      "reversed: .\n"
     ]
    }
   ],
   "source": [
    "# Define the getter function that takes a token and returns its reversed text\n",
    "def get_reversed(token):\n",
    "    return token.text[::-1]\n",
    "  \n",
    "# Register the Token property extension 'reversed' with the getter get_reversed\n",
    "Token.set_extension('reversed', getter=get_reversed, force=True)\n",
    "\n",
    "# Process the text and print the reversed attribute for each token\n",
    "doc = nlp(\"All generalizations are false, including this one.\")\n",
    "for token in doc:\n",
    "    print('reversed:', token._.reversed)"
   ]
  },
  {
   "cell_type": "markdown",
   "id": "73f4f419-8f15-4473-a408-ab58058e0fcc",
   "metadata": {},
   "source": [
    "## Set extension attributes 2"
   ]
  },
  {
   "cell_type": "code",
   "execution_count": 13,
   "id": "4e672f9a-4459-4a5d-b401-4bc990eda8f2",
   "metadata": {
    "execution": {
     "iopub.execute_input": "2022-12-28T14:37:29.192898Z",
     "iopub.status.busy": "2022-12-28T14:37:29.192800Z",
     "iopub.status.idle": "2022-12-28T14:37:29.204197Z",
     "shell.execute_reply": "2022-12-28T14:37:29.203900Z",
     "shell.execute_reply.started": "2022-12-28T14:37:29.192889Z"
    }
   },
   "outputs": [
    {
     "name": "stdout",
     "output_type": "stream",
     "text": [
      "has_number: True\n"
     ]
    }
   ],
   "source": [
    "# Define the getter function\n",
    "def get_has_number(doc):\n",
    "    # Return if any of the tokens in the doc return True for token.like_num\n",
    "    return any(token.like_num for token in doc)\n",
    "\n",
    "# Register the Doc property extension 'has_number' with the getter get_has_number\n",
    "Doc.set_extension('has_number', getter=get_has_number, force=True)\n",
    "\n",
    "# Process the text and check the custom has_number attribute \n",
    "doc = nlp(\"The museum closed for five years in 2012.\")\n",
    "print('has_number:', doc._.has_number)"
   ]
  },
  {
   "cell_type": "code",
   "execution_count": 14,
   "id": "952c924e-33ec-41f0-976b-e86fc9c75f2e",
   "metadata": {
    "execution": {
     "iopub.execute_input": "2022-12-28T14:37:29.204658Z",
     "iopub.status.busy": "2022-12-28T14:37:29.204558Z",
     "iopub.status.idle": "2022-12-28T14:37:29.215765Z",
     "shell.execute_reply": "2022-12-28T14:37:29.215508Z",
     "shell.execute_reply.started": "2022-12-28T14:37:29.204648Z"
    }
   },
   "outputs": [
    {
     "name": "stdout",
     "output_type": "stream",
     "text": [
      "<strong>Hello world</strong>\n"
     ]
    }
   ],
   "source": [
    "# Define the method\n",
    "def to_html(span, tag):\n",
    "    # Wrap the span text in a HTML tag and return it\n",
    "    return '<{tag}>{text}</{tag}>'.format(tag=tag, text=span.text)\n",
    "\n",
    "# Register the Span property extension 'to_html' with the method to_html\n",
    "Span.set_extension('to_html', method=to_html)\n",
    "\n",
    "# Process the text and call the to_html method on the span with the tag name 'strong'\n",
    "doc = nlp(\"Hello world, this is a sentence.\")\n",
    "span = doc[0:2]\n",
    "print(span._.to_html('strong'))"
   ]
  },
  {
   "cell_type": "markdown",
   "id": "c3957afe-2afe-4f29-b13f-c80519230c02",
   "metadata": {},
   "source": [
    "## Entities and extensions"
   ]
  },
  {
   "cell_type": "code",
   "execution_count": 15,
   "id": "c0db0f73-1fcf-4449-8679-735fcb8cf4e1",
   "metadata": {
    "execution": {
     "iopub.execute_input": "2022-12-28T14:37:29.216217Z",
     "iopub.status.busy": "2022-12-28T14:37:29.216115Z",
     "iopub.status.idle": "2022-12-28T14:37:29.938486Z",
     "shell.execute_reply": "2022-12-28T14:37:29.938144Z",
     "shell.execute_reply.started": "2022-12-28T14:37:29.216207Z"
    },
    "tags": []
   },
   "outputs": [
    {
     "name": "stdout",
     "output_type": "stream",
     "text": [
      "over fifty years DATE None\n",
      "first ORDINAL None\n",
      "David Bowie PERSON https://en.wikipedia.org/w/index.php?search=David_Bowie\n"
     ]
    }
   ],
   "source": [
    "nlp = spacy.load('en_core_web_lg')\n",
    "\n",
    "def get_wikipedia_url(span):\n",
    "    # Get a Wikipedia URL if the span has one of the labels\n",
    "    if span.label_ in ('PERSON', 'ORG', 'GPE', 'LOCATION'):\n",
    "        entity_text = span.text.replace(' ', '_')\n",
    "        return \"https://en.wikipedia.org/w/index.php?search=\" + entity_text\n",
    "\n",
    "# Set the Span extension wikipedia_url using get getter get_wikipedia_url\n",
    "Span.set_extension('wikipedia_url', getter=get_wikipedia_url, force=True)\n",
    "\n",
    "doc = nlp(\"In over fifty years from his very first recordings right through to his last album, David Bowie was at the vanguard of contemporary culture.\")\n",
    "for ent in doc.ents:\n",
    "    # Print the text and Wikipedia URL of the entity\n",
    "    print(ent.text, ent.label_, ent._.wikipedia_url)"
   ]
  },
  {
   "cell_type": "markdown",
   "id": "2dce2330-775f-4032-b3eb-b1d5e30dde72",
   "metadata": {},
   "source": [
    "## Components with extensions"
   ]
  },
  {
   "cell_type": "code",
   "execution_count": 16,
   "id": "0ebd1fa0-d1c6-4af5-a8ef-68682ba27ef8",
   "metadata": {
    "execution": {
     "iopub.execute_input": "2022-12-28T14:37:29.939011Z",
     "iopub.status.busy": "2022-12-28T14:37:29.938908Z",
     "iopub.status.idle": "2022-12-28T14:37:29.945470Z",
     "shell.execute_reply": "2022-12-28T14:37:29.945025Z",
     "shell.execute_reply.started": "2022-12-28T14:37:29.939001Z"
    },
    "tags": []
   },
   "outputs": [],
   "source": [
    "COUNTRIES = [\n",
    "    \"Afghanistan\",\n",
    "    \"Åland Islands\",\n",
    "    \"Albania\",\n",
    "    \"Algeria\",\n",
    "    \"American Samoa\",\n",
    "    \"Andorra\",\n",
    "    \"Angola\",\n",
    "    \"Anguilla\",\n",
    "    \"Antarctica\",\n",
    "    \"Antigua and Barbuda\",\n",
    "    \"Argentina\",\n",
    "    \"Armenia\",\n",
    "    \"Aruba\",\n",
    "    \"Australia\",\n",
    "    \"Austria\",\n",
    "    \"Azerbaijan\",\n",
    "    \"Bahamas\",\n",
    "    \"Bahrain\",\n",
    "    \"Bangladesh\",\n",
    "    \"Barbados\",\n",
    "    \"Belarus\",\n",
    "    \"Belgium\",\n",
    "    \"Belize\",\n",
    "    \"Benin\",\n",
    "    \"Bermuda\",\n",
    "    \"Bhutan\",\n",
    "    \"Bolivia (Plurinational State of)\",\n",
    "    \"Bonaire, Sint Eustatius and Saba\",\n",
    "    \"Bosnia and Herzegovina\",\n",
    "    \"Botswana\",\n",
    "    \"Bouvet Island\",\n",
    "    \"Brasil\",\n",
    "    \"British Indian Ocean Territory\",\n",
    "    \"United States Minor Outlying Islands\",\n",
    "    \"Virgin Islands (British)\",\n",
    "    \"Virgin Islands (U.S.)\",\n",
    "    \"Brunei Darussalam\",\n",
    "    \"Bulgaria\",\n",
    "    \"Burkina Faso\",\n",
    "    \"Burundi\",\n",
    "    \"Cambodia\",\n",
    "    \"Cameroon\",\n",
    "    \"Canada\",\n",
    "    \"Cabo Verde\",\n",
    "    \"Cayman Islands\",\n",
    "    \"Central African Republic\",\n",
    "    \"Chad\",\n",
    "    \"Chile\",\n",
    "    \"China\",\n",
    "    \"Christmas Island\",\n",
    "    \"Cocos (Keeling) Islands\",\n",
    "    \"Colombia\",\n",
    "    \"Comoros\",\n",
    "    \"Congo\",\n",
    "    \"Congo (Democratic Republic of the)\",\n",
    "    \"Cook Islands\",\n",
    "    \"Costa Rica\",\n",
    "    \"Croatia\",\n",
    "    \"Cuba\",\n",
    "    \"Curaçao\",\n",
    "    \"Cyprus\",\n",
    "    \"Czech Republic\",\n",
    "    \"Denmark\",\n",
    "    \"Djibouti\",\n",
    "    \"Dominica\",\n",
    "    \"Dominican Republic\",\n",
    "    \"Ecuador\",\n",
    "    \"Egypt\",\n",
    "    \"El Salvador\",\n",
    "    \"Equatorial Guinea\",\n",
    "    \"Eritrea\",\n",
    "    \"Estonia\",\n",
    "    \"Ethiopia\",\n",
    "    \"Falkland Islands (Malvinas)\",\n",
    "    \"Faroe Islands\",\n",
    "    \"Fiji\",\n",
    "    \"Finland\",\n",
    "    \"France\",\n",
    "    \"French Guiana\",\n",
    "    \"French Polynesia\",\n",
    "    \"French Southern Territories\",\n",
    "    \"Gabon\",\n",
    "    \"Gambia\",\n",
    "    \"Georgia\",\n",
    "    \"Germany\",\n",
    "    \"Ghana\",\n",
    "    \"Gibraltar\",\n",
    "    \"Greece\",\n",
    "    \"Greenland\",\n",
    "    \"Grenada\",\n",
    "    \"Guadeloupe\",\n",
    "    \"Guam\",\n",
    "    \"Guatemala\",\n",
    "    \"Guernsey\",\n",
    "    \"Guinea\",\n",
    "    \"Guinea-Bissau\",\n",
    "    \"Guyana\",\n",
    "    \"Haiti\",\n",
    "    \"Heard Island and McDonald Islands\",\n",
    "    \"Holy See\",\n",
    "    \"Honduras\",\n",
    "    \"Hong Kong\",\n",
    "    \"Hungary\",\n",
    "    \"Iceland\",\n",
    "    \"India\",\n",
    "    \"Indonesia\",\n",
    "    \"Côte d'Ivoire\",\n",
    "    \"Iran (Islamic Republic of)\",\n",
    "    \"Iraq\",\n",
    "    \"Ireland\",\n",
    "    \"Isle of Man\",\n",
    "    \"Israel\",\n",
    "    \"Italy\",\n",
    "    \"Jamaica\",\n",
    "    \"Japan\",\n",
    "    \"Jersey\",\n",
    "    \"Jordan\",\n",
    "    \"Kazakhstan\",\n",
    "    \"Kenya\",\n",
    "    \"Kiribati\",\n",
    "    \"Kuwait\",\n",
    "    \"Kyrgyzstan\",\n",
    "    \"Lao People's Democratic Republic\",\n",
    "    \"Latvia\",\n",
    "    \"Lebanon\",\n",
    "    \"Lesotho\",\n",
    "    \"Liberia\",\n",
    "    \"Libya\",\n",
    "    \"Liechtenstein\",\n",
    "    \"Lithuania\",\n",
    "    \"Luxembourg\",\n",
    "    \"Macao\",\n",
    "    \"Macedonia (the former Yugoslav Republic of)\",\n",
    "    \"Madagascar\",\n",
    "    \"Malawi\",\n",
    "    \"Malaysia\",\n",
    "    \"Maldives\",\n",
    "    \"Mali\",\n",
    "    \"Malta\",\n",
    "    \"Marshall Islands\",\n",
    "    \"Martinique\",\n",
    "    \"Mauritania\",\n",
    "    \"Mauritius\",\n",
    "    \"Mayotte\",\n",
    "    \"Mexico\",\n",
    "    \"Micronesia (Federated States of)\",\n",
    "    \"Moldova (Republic of)\",\n",
    "    \"Monaco\",\n",
    "    \"Mongolia\",\n",
    "    \"Montenegro\",\n",
    "    \"Montserrat\",\n",
    "    \"Morocco\",\n",
    "    \"Mozambique\",\n",
    "    \"Myanmar\",\n",
    "    \"Namibia\",\n",
    "    \"Nauru\",\n",
    "    \"Nepal\",\n",
    "    \"Netherlands\",\n",
    "    \"New Caledonia\",\n",
    "    \"New Zealand\",\n",
    "    \"Nicaragua\",\n",
    "    \"Niger\",\n",
    "    \"Nigeria\",\n",
    "    \"Niue\",\n",
    "    \"Norfolk Island\",\n",
    "    \"Korea (Democratic People's Republic of)\",\n",
    "    \"Northern Mariana Islands\",\n",
    "    \"Norway\",\n",
    "    \"Oman\",\n",
    "    \"Pakistan\",\n",
    "    \"Palau\",\n",
    "    \"Palestine, State of\",\n",
    "    \"Panama\",\n",
    "    \"Papua New Guinea\",\n",
    "    \"Paraguay\",\n",
    "    \"Peru\",\n",
    "    \"Philippines\",\n",
    "    \"Pitcairn\",\n",
    "    \"Poland\",\n",
    "    \"Portugal\",\n",
    "    \"Puerto Rico\",\n",
    "    \"Qatar\",\n",
    "    \"Republic of Kosovo\",\n",
    "    \"Réunion\",\n",
    "    \"Romania\",\n",
    "    \"Russian Federation\",\n",
    "    \"Rwanda\",\n",
    "    \"Saint Barthélemy\",\n",
    "    \"Saint Helena, Ascension and Tristan da Cunha\",\n",
    "    \"Saint Kitts and Nevis\",\n",
    "    \"Saint Lucia\",\n",
    "    \"Saint Martin (French part)\",\n",
    "    \"Saint Pierre and Miquelon\",\n",
    "    \"Saint Vincent and the Grenadines\",\n",
    "    \"Samoa\",\n",
    "    \"San Marino\",\n",
    "    \"Sao Tome and Principe\",\n",
    "    \"Saudi Arabia\",\n",
    "    \"Senegal\",\n",
    "    \"Serbia\",\n",
    "    \"Seychelles\",\n",
    "    \"Sierra Leone\",\n",
    "    \"Singapore\",\n",
    "    \"Sint Maarten (Dutch part)\",\n",
    "    \"Slovakia\",\n",
    "    \"Slovenia\",\n",
    "    \"Solomon Islands\",\n",
    "    \"Somalia\",\n",
    "    \"South Africa\",\n",
    "    \"South Georgia and the South Sandwich Islands\",\n",
    "    \"Korea (Republic of)\",\n",
    "    \"South Sudan\",\n",
    "    \"Spain\",\n",
    "    \"Sri Lanka\",\n",
    "    \"Sudan\",\n",
    "    \"Suriname\",\n",
    "    \"Svalbard and Jan Mayen\",\n",
    "    \"Swaziland\",\n",
    "    \"Sweden\",\n",
    "    \"Switzerland\",\n",
    "    \"Syrian Arab Republic\",\n",
    "    \"Taiwan\",\n",
    "    \"Tajikistan\",\n",
    "    \"Tanzania, United Republic of\",\n",
    "    \"Thailand\",\n",
    "    \"Timor-Leste\",\n",
    "    \"Togo\",\n",
    "    \"Tokelau\",\n",
    "    \"Tonga\",\n",
    "    \"Trinidad and Tobago\",\n",
    "    \"Tunisia\",\n",
    "    \"Turkey\",\n",
    "    \"Turkmenistan\",\n",
    "    \"Turks and Caicos Islands\",\n",
    "    \"Tuvalu\",\n",
    "    \"Uganda\",\n",
    "    \"Ukraine\",\n",
    "    \"United Arab Emirates\",\n",
    "    \"United Kingdom of Great Britain and Northern Ireland\",\n",
    "    \"United States of America\",\n",
    "    \"Uruguay\",\n",
    "    \"Uzbekistan\",\n",
    "    \"Vanuatu\",\n",
    "    \"Venezuela (Bolivarian Republic of)\",\n",
    "    \"Viet Nam\",\n",
    "    \"Wallis and Futuna\",\n",
    "    \"Western Sahara\",\n",
    "    \"Yemen\",\n",
    "    \"Zambia\",\n",
    "    \"Zimbabwe\",\n",
    "]"
   ]
  },
  {
   "cell_type": "code",
   "execution_count": 17,
   "id": "611f1965-bc00-4e00-b549-ca141b0ba782",
   "metadata": {
    "execution": {
     "iopub.execute_input": "2022-12-28T14:37:29.946001Z",
     "iopub.status.busy": "2022-12-28T14:37:29.945902Z",
     "iopub.status.idle": "2022-12-28T14:37:30.078739Z",
     "shell.execute_reply": "2022-12-28T14:37:30.078399Z",
     "shell.execute_reply.started": "2022-12-28T14:37:29.945991Z"
    },
    "tags": []
   },
   "outputs": [],
   "source": [
    "matcher = PhraseMatcher(nlp.vocab)\n",
    "# Create pattern Doc objects and add them to the matcher\n",
    "# This is the faster version of: [nlp(country) for country in COUNTRIES]\n",
    "patterns = nlp.pipe(COUNTRIES)\n",
    "matcher.add('COUNTRY', patterns)"
   ]
  },
  {
   "cell_type": "code",
   "execution_count": 18,
   "id": "d8128adf-29d3-48db-830d-dad67f36cc49",
   "metadata": {
    "execution": {
     "iopub.execute_input": "2022-12-28T14:37:30.079214Z",
     "iopub.status.busy": "2022-12-28T14:37:30.079115Z",
     "iopub.status.idle": "2022-12-28T14:37:30.082944Z",
     "shell.execute_reply": "2022-12-28T14:37:30.082657Z",
     "shell.execute_reply.started": "2022-12-28T14:37:30.079205Z"
    },
    "tags": []
   },
   "outputs": [
    {
     "name": "stdout",
     "output_type": "stream",
     "text": [
      "['tok2vec', 'tagger', 'parser', 'attribute_ruler', 'lemmatizer', 'ner', 'countries_component']\n"
     ]
    }
   ],
   "source": [
    "@Language.component('countries_component')\n",
    "def countries_component(doc):\n",
    "    # Create an entity Span with the label 'GPE' for all matches\n",
    "    doc.ents = [Span(doc, start, end, label='GPE')\n",
    "                for match_id, start, end in matcher(doc)]\n",
    "    return doc\n",
    "\n",
    "# Add the component to the pipeline\n",
    "nlp.add_pipe('countries_component')\n",
    "print(nlp.pipe_names)"
   ]
  },
  {
   "cell_type": "code",
   "execution_count": 19,
   "id": "d19713f3-85e4-4c13-a144-1e41240b78f0",
   "metadata": {
    "execution": {
     "iopub.execute_input": "2022-12-28T14:37:30.083604Z",
     "iopub.status.busy": "2022-12-28T14:37:30.083438Z",
     "iopub.status.idle": "2022-12-28T14:37:30.093017Z",
     "shell.execute_reply": "2022-12-28T14:37:30.092744Z",
     "shell.execute_reply.started": "2022-12-28T14:37:30.083594Z"
    },
    "tags": []
   },
   "outputs": [],
   "source": [
    "capitals = {\n",
    "    \"Afghanistan\": \"Kabul\",\n",
    "    \"Albania\": \"Tirana\",\n",
    "    \"Algeria\": \"Algiers\",\n",
    "    \"American Samoa\": \"Pago Pago\",\n",
    "    \"Andorra\": \"Andorra la Vella\",\n",
    "    \"Angola\": \"Luanda\",\n",
    "    \"Anguilla\": \"The Valley\",\n",
    "    \"Antarctica\": \"\",\n",
    "    \"Antigua and Barbuda\": \"Saint John's\",\n",
    "    \"Argentina\": \"Buenos Aires\",\n",
    "    \"Armenia\": \"Yerevan\",\n",
    "    \"Aruba\": \"Oranjestad\",\n",
    "    \"Australia\": \"Canberra\",\n",
    "    \"Austria\": \"Vienna\",\n",
    "    \"Azerbaijan\": \"Baku\",\n",
    "    \"Bahamas\": \"Nassau\",\n",
    "    \"Bahrain\": \"Manama\",\n",
    "    \"Bangladesh\": \"Dhaka\",\n",
    "    \"Barbados\": \"Bridgetown\",\n",
    "    \"Belarus\": \"Minsk\",\n",
    "    \"Belgium\": \"Brussels\",\n",
    "    \"Belize\": \"Belmopan\",\n",
    "    \"Benin\": \"Porto-Novo\",\n",
    "    \"Bermuda\": \"Hamilton\",\n",
    "    \"Bhutan\": \"Thimphu\",\n",
    "    \"Bolivia (Plurinational State of)\": \"Sucre\",\n",
    "    \"Bonaire, Sint Eustatius and Saba\": \"Kralendijk\",\n",
    "    \"Bosnia and Herzegovina\": \"Sarajevo\",\n",
    "    \"Botswana\": \"Gaborone\",\n",
    "    \"Bouvet Island\": \"\",\n",
    "    \"Brazil\": \"Brasília\",\n",
    "    \"British Indian Ocean Territory\": \"Diego Garcia\",\n",
    "    \"Brunei Darussalam\": \"Bandar Seri Begawan\",\n",
    "    \"Bulgaria\": \"Sofia\",\n",
    "    \"Burkina Faso\": \"Ouagadougou\",\n",
    "    \"Burundi\": \"Bujumbura\",\n",
    "    \"Cabo Verde\": \"Praia\",\n",
    "    \"Cambodia\": \"Phnom Penh\",\n",
    "    \"Cameroon\": \"Yaoundé\",\n",
    "    \"Canada\": \"Ottawa\",\n",
    "    \"Cayman Islands\": \"George Town\",\n",
    "    \"Central African Republic\": \"Bangui\",\n",
    "    \"Chad\": \"N'Djamena\",\n",
    "    \"Chile\": \"Santiago\",\n",
    "    \"China\": \"Beijing\",\n",
    "    \"Christmas Island\": \"Flying Fish Cove\",\n",
    "    \"Cocos (Keeling) Islands\": \"West Island\",\n",
    "    \"Colombia\": \"Bogotá\",\n",
    "    \"Comoros\": \"Moroni\",\n",
    "    \"Congo\": \"Brazzaville\",\n",
    "    \"Congo (Democratic Republic of the)\": \"Kinshasa\",\n",
    "    \"Cook Islands\": \"Avarua\",\n",
    "    \"Costa Rica\": \"San José\",\n",
    "    \"Croatia\": \"Zagreb\",\n",
    "    \"Cuba\": \"Havana\",\n",
    "    \"Curaçao\": \"Willemstad\",\n",
    "    \"Cyprus\": \"Nicosia\",\n",
    "    \"Czech Republic\": \"Prague\",\n",
    "    \"Côte d'Ivoire\": \"Yamoussoukro\",\n",
    "    \"Denmark\": \"Copenhagen\",\n",
    "    \"Djibouti\": \"Djibouti\",\n",
    "    \"Dominica\": \"Roseau\",\n",
    "    \"Dominican Republic\": \"Santo Domingo\",\n",
    "    \"Ecuador\": \"Quito\",\n",
    "    \"Egypt\": \"Cairo\",\n",
    "    \"El Salvador\": \"San Salvador\",\n",
    "    \"Equatorial Guinea\": \"Malabo\",\n",
    "    \"Eritrea\": \"Asmara\",\n",
    "    \"Estonia\": \"Tallinn\",\n",
    "    \"Ethiopia\": \"Addis Ababa\",\n",
    "    \"Falkland Islands (Malvinas)\": \"Stanley\",\n",
    "    \"Faroe Islands\": \"Tórshavn\",\n",
    "    \"Fiji\": \"Suva\",\n",
    "    \"Finland\": \"Helsinki\",\n",
    "    \"France\": \"Paris\",\n",
    "    \"French Guiana\": \"Cayenne\",\n",
    "    \"French Polynesia\": \"Papeetē\",\n",
    "    \"French Southern Territories\": \"Port-aux-Français\",\n",
    "    \"Gabon\": \"Libreville\",\n",
    "    \"Gambia\": \"Banjul\",\n",
    "    \"Georgia\": \"Tbilisi\",\n",
    "    \"Germany\": \"Berlin\",\n",
    "    \"Ghana\": \"Accra\",\n",
    "    \"Gibraltar\": \"Gibraltar\",\n",
    "    \"Greece\": \"Athens\",\n",
    "    \"Greenland\": \"Nuuk\",\n",
    "    \"Grenada\": \"St. George's\",\n",
    "    \"Guadeloupe\": \"Basse-Terre\",\n",
    "    \"Guam\": \"Hagåtña\",\n",
    "    \"Guatemala\": \"Guatemala City\",\n",
    "    \"Guernsey\": \"St. Peter Port\",\n",
    "    \"Guinea\": \"Conakry\",\n",
    "    \"Guinea-Bissau\": \"Bissau\",\n",
    "    \"Guyana\": \"Georgetown\",\n",
    "    \"Haiti\": \"Port-au-Prince\",\n",
    "    \"Heard Island and McDonald Islands\": \"\",\n",
    "    \"Holy See\": \"Rome\",\n",
    "    \"Honduras\": \"Tegucigalpa\",\n",
    "    \"Hong Kong\": \"City of Victoria\",\n",
    "    \"Hungary\": \"Budapest\",\n",
    "    \"Iceland\": \"Reykjavík\",\n",
    "    \"India\": \"New Delhi\",\n",
    "    \"Indonesia\": \"Jakarta\",\n",
    "    \"Iran (Islamic Republic of)\": \"Tehran\",\n",
    "    \"Iraq\": \"Baghdad\",\n",
    "    \"Ireland\": \"Dublin\",\n",
    "    \"Isle of Man\": \"Douglas\",\n",
    "    \"Israel\": \"Jerusalem\",\n",
    "    \"Italy\": \"Rome\",\n",
    "    \"Jamaica\": \"Kingston\",\n",
    "    \"Japan\": \"Tokyo\",\n",
    "    \"Jersey\": \"Saint Helier\",\n",
    "    \"Jordan\": \"Amman\",\n",
    "    \"Kazakhstan\": \"Astana\",\n",
    "    \"Kenya\": \"Nairobi\",\n",
    "    \"Kiribati\": \"South Tarawa\",\n",
    "    \"Korea (Democratic People's Republic of)\": \"Pyongyang\",\n",
    "    \"Korea (Republic of)\": \"Seoul\",\n",
    "    \"Kuwait\": \"Kuwait City\",\n",
    "    \"Kyrgyzstan\": \"Bishkek\",\n",
    "    \"Lao People's Democratic Republic\": \"Vientiane\",\n",
    "    \"Latvia\": \"Riga\",\n",
    "    \"Lebanon\": \"Beirut\",\n",
    "    \"Lesotho\": \"Maseru\",\n",
    "    \"Liberia\": \"Monrovia\",\n",
    "    \"Libya\": \"Tripoli\",\n",
    "    \"Liechtenstein\": \"Vaduz\",\n",
    "    \"Lithuania\": \"Vilnius\",\n",
    "    \"Luxembourg\": \"Luxembourg\",\n",
    "    \"Macao\": \"\",\n",
    "    \"Macedonia (the former Yugoslav Republic of)\": \"Skopje\",\n",
    "    \"Madagascar\": \"Antananarivo\",\n",
    "    \"Malawi\": \"Lilongwe\",\n",
    "    \"Malaysia\": \"Kuala Lumpur\",\n",
    "    \"Maldives\": \"Malé\",\n",
    "    \"Mali\": \"Bamako\",\n",
    "    \"Malta\": \"Valletta\",\n",
    "    \"Marshall Islands\": \"Majuro\",\n",
    "    \"Martinique\": \"Fort-de-France\",\n",
    "    \"Mauritania\": \"Nouakchott\",\n",
    "    \"Mauritius\": \"Port Louis\",\n",
    "    \"Mayotte\": \"Mamoudzou\",\n",
    "    \"Mexico\": \"Mexico City\",\n",
    "    \"Micronesia (Federated States of)\": \"Palikir\",\n",
    "    \"Moldova (Republic of)\": \"Chișinău\",\n",
    "    \"Monaco\": \"Monaco\",\n",
    "    \"Mongolia\": \"Ulan Bator\",\n",
    "    \"Montenegro\": \"Podgorica\",\n",
    "    \"Montserrat\": \"Plymouth\",\n",
    "    \"Morocco\": \"Rabat\",\n",
    "    \"Mozambique\": \"Maputo\",\n",
    "    \"Myanmar\": \"Naypyidaw\",\n",
    "    \"Namibia\": \"Windhoek\",\n",
    "    \"Nauru\": \"Yaren\",\n",
    "    \"Nepal\": \"Kathmandu\",\n",
    "    \"Netherlands\": \"Amsterdam\",\n",
    "    \"New Caledonia\": \"Nouméa\",\n",
    "    \"New Zealand\": \"Wellington\",\n",
    "    \"Nicaragua\": \"Managua\",\n",
    "    \"Niger\": \"Niamey\",\n",
    "    \"Nigeria\": \"Abuja\",\n",
    "    \"Niue\": \"Alofi\",\n",
    "    \"Norfolk Island\": \"Kingston\",\n",
    "    \"Northern Mariana Islands\": \"Saipan\",\n",
    "    \"Norway\": \"Oslo\",\n",
    "    \"Oman\": \"Muscat\",\n",
    "    \"Pakistan\": \"Islamabad\",\n",
    "    \"Palau\": \"Ngerulmud\",\n",
    "    \"Palestine, State of\": \"Ramallah\",\n",
    "    \"Panama\": \"Panama City\",\n",
    "    \"Papua New Guinea\": \"Port Moresby\",\n",
    "    \"Paraguay\": \"Asunción\",\n",
    "    \"Peru\": \"Lima\",\n",
    "    \"Philippines\": \"Manila\",\n",
    "    \"Pitcairn\": \"Adamstown\",\n",
    "    \"Poland\": \"Warsaw\",\n",
    "    \"Portugal\": \"Lisbon\",\n",
    "    \"Puerto Rico\": \"San Juan\",\n",
    "    \"Qatar\": \"Doha\",\n",
    "    \"Republic of Kosovo\": \"Pristina\",\n",
    "    \"Romania\": \"Bucharest\",\n",
    "    \"Russian Federation\": \"Moscow\",\n",
    "    \"Rwanda\": \"Kigali\",\n",
    "    \"Réunion\": \"Saint-Denis\",\n",
    "    \"Saint Barthélemy\": \"Gustavia\",\n",
    "    \"Saint Helena, Ascension and Tristan da Cunha\": \"Jamestown\",\n",
    "    \"Saint Kitts and Nevis\": \"Basseterre\",\n",
    "    \"Saint Lucia\": \"Castries\",\n",
    "    \"Saint Martin (French part)\": \"Marigot\",\n",
    "    \"Saint Pierre and Miquelon\": \"Saint-Pierre\",\n",
    "    \"Saint Vincent and the Grenadines\": \"Kingstown\",\n",
    "    \"Samoa\": \"Apia\",\n",
    "    \"San Marino\": \"City of San Marino\",\n",
    "    \"Sao Tome and Principe\": \"São Tomé\",\n",
    "    \"Saudi Arabia\": \"Riyadh\",\n",
    "    \"Senegal\": \"Dakar\",\n",
    "    \"Serbia\": \"Belgrade\",\n",
    "    \"Seychelles\": \"Victoria\",\n",
    "    \"Sierra Leone\": \"Freetown\",\n",
    "    \"Singapore\": \"Singapore\",\n",
    "    \"Sint Maarten (Dutch part)\": \"Philipsburg\",\n",
    "    \"Slovakia\": \"Bratislava\",\n",
    "    \"Slovenia\": \"Ljubljana\",\n",
    "    \"Solomon Islands\": \"Honiara\",\n",
    "    \"Somalia\": \"Mogadishu\",\n",
    "    \"South Africa\": \"Pretoria\",\n",
    "    \"South Georgia and the South Sandwich Islands\": \"King Edward Point\",\n",
    "    \"South Sudan\": \"Juba\",\n",
    "    \"Spain\": \"Madrid\",\n",
    "    \"Sri Lanka\": \"Colombo\",\n",
    "    \"Sudan\": \"Khartoum\",\n",
    "    \"Suriname\": \"Paramaribo\",\n",
    "    \"Svalbard and Jan Mayen\": \"Longyearbyen\",\n",
    "    \"Swaziland\": \"Lobamba\",\n",
    "    \"Sweden\": \"Stockholm\",\n",
    "    \"Switzerland\": \"Bern\",\n",
    "    \"Syrian Arab Republic\": \"Damascus\",\n",
    "    \"Taiwan\": \"Taipei\",\n",
    "    \"Tajikistan\": \"Dushanbe\",\n",
    "    \"Tanzania, United Republic of\": \"Dodoma\",\n",
    "    \"Thailand\": \"Bangkok\",\n",
    "    \"Timor-Leste\": \"Dili\",\n",
    "    \"Togo\": \"Lomé\",\n",
    "    \"Tokelau\": \"Fakaofo\",\n",
    "    \"Tonga\": \"Nuku'alofa\",\n",
    "    \"Trinidad and Tobago\": \"Port of Spain\",\n",
    "    \"Tunisia\": \"Tunis\",\n",
    "    \"Turkey\": \"Ankara\",\n",
    "    \"Turkmenistan\": \"Ashgabat\",\n",
    "    \"Turks and Caicos Islands\": \"Cockburn Town\",\n",
    "    \"Tuvalu\": \"Funafuti\",\n",
    "    \"Uganda\": \"Kampala\",\n",
    "    \"Ukraine\": \"Kiev\",\n",
    "    \"United Arab Emirates\": \"Abu Dhabi\",\n",
    "    \"United Kingdom of Great Britain and Northern Ireland\": \"London\",\n",
    "    \"United States Minor Outlying Islands\": \"\",\n",
    "    \"United States of America\": \"Washington, D.C.\",\n",
    "    \"Uruguay\": \"Montevideo\",\n",
    "    \"Uzbekistan\": \"Tashkent\",\n",
    "    \"Vanuatu\": \"Port Vila\",\n",
    "    \"Venezuela (Bolivarian Republic of)\": \"Caracas\",\n",
    "    \"Viet Nam\": \"Hanoi\",\n",
    "    \"Virgin Islands (British)\": \"Road Town\",\n",
    "    \"Virgin Islands (U.S.)\": \"Charlotte Amalie\",\n",
    "    \"Wallis and Futuna\": \"Mata-Utu\",\n",
    "    \"Western Sahara\": \"El Aaiún\",\n",
    "    \"Yemen\": \"Sana'a\",\n",
    "    \"Zambia\": \"Lusaka\",\n",
    "    \"Zimbabwe\": \"Harare\",\n",
    "    \"Åland Islands\": \"Mariehamn\",\n",
    "}\n",
    "\n",
    "# Getter that looks up the span text in the dictionary of country capitals\n",
    "get_capital = lambda span: capitals.get(span.text)\n",
    "\n",
    "def get_capital(span):\n",
    "    return capitals.get(span.text)"
   ]
  },
  {
   "cell_type": "code",
   "execution_count": 20,
   "id": "dc5e873c-4697-4c1a-849b-c657d18dd1df",
   "metadata": {
    "execution": {
     "iopub.execute_input": "2022-12-28T14:37:30.093503Z",
     "iopub.status.busy": "2022-12-28T14:37:30.093404Z",
     "iopub.status.idle": "2022-12-28T14:37:30.095237Z",
     "shell.execute_reply": "2022-12-28T14:37:30.094993Z",
     "shell.execute_reply.started": "2022-12-28T14:37:30.093494Z"
    },
    "tags": []
   },
   "outputs": [],
   "source": [
    "# Register the Span extension attribute 'capital' with the getter get_capital \n",
    "Span.set_extension('capital', getter=get_capital, force=True)"
   ]
  },
  {
   "cell_type": "code",
   "execution_count": 21,
   "id": "aef0e78f-72eb-4123-9ef9-2d0b0e1ec8c6",
   "metadata": {
    "execution": {
     "iopub.execute_input": "2022-12-28T14:37:30.095713Z",
     "iopub.status.busy": "2022-12-28T14:37:30.095618Z",
     "iopub.status.idle": "2022-12-28T14:37:30.106598Z",
     "shell.execute_reply": "2022-12-28T14:37:30.106328Z",
     "shell.execute_reply.started": "2022-12-28T14:37:30.095704Z"
    },
    "tags": []
   },
   "outputs": [
    {
     "name": "stdout",
     "output_type": "stream",
     "text": [
      "[('Czech Republic', 'GPE', 'Prague'), ('Slovakia', 'GPE', 'Bratislava')]\n"
     ]
    }
   ],
   "source": [
    "# Process the text and print the entity text, label and capital attributes\n",
    "doc = nlp(\"Czech Republic may help Slovakia protect its airspace\")\n",
    "print([(ent.text, ent.label_, ent._.capital) for ent in doc.ents])"
   ]
  },
  {
   "cell_type": "markdown",
   "id": "5c4cf257-9a79-4841-85b7-6b7df0369220",
   "metadata": {},
   "source": [
    "# Scaling and performance"
   ]
  },
  {
   "cell_type": "markdown",
   "id": "f5d40072-78af-4cfa-8250-3863d5facd20",
   "metadata": {},
   "source": [
    "## Processing large volumes of text\n",
    "* Use nlp.pipe method\n",
    "* Processes texts as a stream, yields Doc objects\n",
    "* Much faster than calling nlp on each text"
   ]
  },
  {
   "cell_type": "markdown",
   "id": "54fecc6e-5736-4585-b8ce-a65cff5ce6de",
   "metadata": {},
   "source": [
    "BAD:  \n",
    "```docs = [nlp(text) for text in LOTS_OF_TEXTS]```   \n",
    "GOOD:  \n",
    "```docs = list(nlp.pipe(LOTS_OF_TEXTS)```"
   ]
  },
  {
   "cell_type": "markdown",
   "id": "21b215f9-0437-40f3-ac47-6e286d9545ae",
   "metadata": {
    "tags": []
   },
   "source": [
    "## Passing in context\n",
    "* Setting as_tuples=True on nlp.pipe lets you pass in (text, context) tuples\n",
    "* Yields (doc, context) tuples\n",
    "* Useful for associating metadata with the doc"
   ]
  },
  {
   "cell_type": "code",
   "execution_count": 22,
   "id": "147199b1-222f-419a-a0ae-8b72f0e644b7",
   "metadata": {
    "execution": {
     "iopub.execute_input": "2022-12-28T14:37:30.107955Z",
     "iopub.status.busy": "2022-12-28T14:37:30.107759Z",
     "iopub.status.idle": "2022-12-28T14:37:30.118778Z",
     "shell.execute_reply": "2022-12-28T14:37:30.118540Z",
     "shell.execute_reply.started": "2022-12-28T14:37:30.107945Z"
    },
    "tags": []
   },
   "outputs": [
    {
     "name": "stdout",
     "output_type": "stream",
     "text": [
      "This is a text id 1 at page 15\n",
      "And another text id 2 at page 16\n"
     ]
    }
   ],
   "source": [
    "data = [\n",
    "    (\"This is a text\", {\"id\": 1, \"page_number\": 15}),\n",
    "    (\"And another text\", {\"id\": 2, \"page_number\": 16}),\n",
    "]\n",
    "for doc, context in nlp.pipe(data, as_tuples=True):\n",
    "    print(doc.text, 'id', context['id'], 'at page', context[\"page_number\"])"
   ]
  },
  {
   "cell_type": "markdown",
   "id": "0cd70747-2a63-49c1-86fa-29375b204315",
   "metadata": {},
   "source": [
    "## Add the context meta data to custom attributes"
   ]
  },
  {
   "cell_type": "code",
   "execution_count": 23,
   "id": "24532eb9-a96a-4804-b6a4-fa5bde33b11e",
   "metadata": {
    "execution": {
     "iopub.execute_input": "2022-12-28T14:37:30.119187Z",
     "iopub.status.busy": "2022-12-28T14:37:30.119093Z",
     "iopub.status.idle": "2022-12-28T14:37:30.130860Z",
     "shell.execute_reply": "2022-12-28T14:37:30.130593Z",
     "shell.execute_reply.started": "2022-12-28T14:37:30.119177Z"
    },
    "tags": []
   },
   "outputs": [
    {
     "name": "stdout",
     "output_type": "stream",
     "text": [
      "This is a text id 1 at page 15\n",
      "And another text id 2 at page 16\n"
     ]
    }
   ],
   "source": [
    "Doc.set_extension(\"id\", default=None, force=True)\n",
    "Doc.set_extension(\"page_number\", default=None, force=True)\n",
    "\n",
    "data = [\n",
    "    (\"This is a text\", {\"id\": 1, \"page_number\": 15}),\n",
    "    (\"And another text\", {\"id\": 2, \"page_number\": 16}),\n",
    "]\n",
    "\n",
    "for doc, context in nlp.pipe(data, as_tuples=True):\n",
    "    doc._.id = context[\"id\"]\n",
    "    doc._.page_number = context[\"page_number\"]\n",
    "    print(doc.text, 'id', context['id'], 'at page', context[\"page_number\"])"
   ]
  },
  {
   "cell_type": "markdown",
   "id": "c7e4a55b-1a74-44c9-94aa-e580fe2443d2",
   "metadata": {},
   "source": [
    "## Using only the tokenizer\n",
    "Use `nlp.make_doc` to turn a text in to a Doc object  \n",
    "BAD:  \n",
    "```doc = nlp(\"Hello world\"```  \n",
    "GOOD:  \n",
    "```doc = nlp.make_doc(\"Hello world!\")```"
   ]
  },
  {
   "cell_type": "markdown",
   "id": "0d6e27da-5761-47a4-996c-8940a1aa8a22",
   "metadata": {},
   "source": [
    "## Disabling pipeline components\n",
    "Use `nlp.disable_pipes` to temporarily disable one or more pipeline components"
   ]
  },
  {
   "cell_type": "code",
   "execution_count": 29,
   "id": "a418e3cf-bcc8-42bf-a98f-9da093e76a8c",
   "metadata": {
    "execution": {
     "iopub.execute_input": "2022-12-28T14:39:26.041889Z",
     "iopub.status.busy": "2022-12-28T14:39:26.041753Z",
     "iopub.status.idle": "2022-12-28T14:39:26.759882Z",
     "shell.execute_reply": "2022-12-28T14:39:26.759564Z",
     "shell.execute_reply.started": "2022-12-28T14:39:26.041878Z"
    },
    "tags": []
   },
   "outputs": [
    {
     "data": {
      "text/plain": [
       "[('tok2vec', <spacy.pipeline.tok2vec.Tok2Vec at 0x7ff3d7e42b80>),\n",
       " ('tagger', <spacy.pipeline.tagger.Tagger at 0x7ff3d7e42ac0>),\n",
       " ('parser', <spacy.pipeline.dep_parser.DependencyParser at 0x7ff3d7e77d60>),\n",
       " ('attribute_ruler',\n",
       "  <spacy.pipeline.attributeruler.AttributeRuler at 0x7ff3d8789a40>),\n",
       " ('lemmatizer',\n",
       "  <spacy.lang.en.lemmatizer.EnglishLemmatizer at 0x7ff3d8827500>),\n",
       " ('ner', <spacy.pipeline.ner.EntityRecognizer at 0x7ff3d7e77c80>)]"
      ]
     },
     "execution_count": 29,
     "metadata": {},
     "output_type": "execute_result"
    }
   ],
   "source": [
    "nlp = spacy.load('en_core_web_lg')\n",
    "nlp.pipeline"
   ]
  },
  {
   "cell_type": "code",
   "execution_count": 32,
   "id": "346221d2-c51b-4ca0-a80e-2d8939a00a7b",
   "metadata": {
    "execution": {
     "iopub.execute_input": "2022-12-28T14:40:01.707299Z",
     "iopub.status.busy": "2022-12-28T14:40:01.707160Z",
     "iopub.status.idle": "2022-12-28T14:40:01.718586Z",
     "shell.execute_reply": "2022-12-28T14:40:01.718159Z",
     "shell.execute_reply.started": "2022-12-28T14:40:01.707288Z"
    },
    "tags": []
   },
   "outputs": [
    {
     "name": "stdout",
     "output_type": "stream",
     "text": [
      "(Brazil,)\n"
     ]
    }
   ],
   "source": [
    "# Disable tagger and parser\n",
    "with nlp.disable_pipes('tagger', 'parser'):\n",
    "    # Process the text and print the entities\n",
    "    doc = nlp('made in Brazil')\n",
    "    print(doc.ents)"
   ]
  },
  {
   "cell_type": "markdown",
   "id": "6bbcf9c4-8242-4c30-97fb-18a247f5758b",
   "metadata": {},
   "source": [
    "* restores them after the `with` block\n",
    "* only runs the remaining components"
   ]
  },
  {
   "cell_type": "markdown",
   "id": "7e465a9a-3e03-4689-9bc4-a27358843928",
   "metadata": {},
   "source": [
    "## Processing streams 1"
   ]
  },
  {
   "cell_type": "code",
   "execution_count": 33,
   "id": "5db71256-04f3-4826-a924-9a7a09703c40",
   "metadata": {
    "execution": {
     "iopub.execute_input": "2022-12-28T14:42:26.800748Z",
     "iopub.status.busy": "2022-12-28T14:42:26.800601Z",
     "iopub.status.idle": "2022-12-28T14:42:27.552025Z",
     "shell.execute_reply": "2022-12-28T14:42:27.551747Z",
     "shell.execute_reply.started": "2022-12-28T14:42:26.800736Z"
    }
   },
   "outputs": [],
   "source": [
    "nlp = spacy.load(\"en_core_web_lg\")\n",
    "TEXTS = [\n",
    "    \"McDonalds is my favorite restaurant.\",\n",
    "    \"Here I thought @McDonalds only had precooked burgers but it seems they only have not cooked ones?? I have no time to get sick..\",\n",
    "    \"People really still eat McDonalds :(\",\n",
    "    \"The McDonalds in Spain has chicken wings. My heart is so happy \",\n",
    "    \"@McDonalds Please bring back the most delicious fast food sandwich of all times!!....The Arch Deluxe :P\",\n",
    "    \"please hurry and open. I WANT A #McRib SANDWICH SO BAD! :D\",\n",
    "    \"This morning i made a terrible decision by gettin mcdonalds and now my stomach is payin for it\",\n",
    "]"
   ]
  },
  {
   "cell_type": "code",
   "execution_count": 35,
   "id": "aaf8be86-3d31-44cb-9f67-769f7a1931a9",
   "metadata": {
    "execution": {
     "iopub.execute_input": "2022-12-28T14:46:35.005097Z",
     "iopub.status.busy": "2022-12-28T14:46:35.004957Z",
     "iopub.status.idle": "2022-12-28T14:46:35.079145Z",
     "shell.execute_reply": "2022-12-28T14:46:35.078687Z",
     "shell.execute_reply.started": "2022-12-28T14:46:35.005086Z"
    },
    "tags": []
   },
   "outputs": [
    {
     "name": "stdout",
     "output_type": "stream",
     "text": [
      "['favorite']\n",
      "['sick']\n",
      "[]\n",
      "['happy']\n",
      "['delicious', 'fast']\n",
      "['open', 'BAD']\n",
      "['terrible', 'payin']\n"
     ]
    }
   ],
   "source": [
    "# BAD: Process the texts and print the adjectives\n",
    "for text in TEXTS:\n",
    "    doc = nlp(text)\n",
    "    print([token.text for token in doc if token.pos_ == 'ADJ'])"
   ]
  },
  {
   "cell_type": "code",
   "execution_count": 36,
   "id": "97fc7a1d-74eb-4e61-bbd8-d80f3ee7f93d",
   "metadata": {
    "execution": {
     "iopub.execute_input": "2022-12-28T14:46:59.520453Z",
     "iopub.status.busy": "2022-12-28T14:46:59.520251Z",
     "iopub.status.idle": "2022-12-28T14:46:59.546049Z",
     "shell.execute_reply": "2022-12-28T14:46:59.545638Z",
     "shell.execute_reply.started": "2022-12-28T14:46:59.520442Z"
    }
   },
   "outputs": [
    {
     "name": "stdout",
     "output_type": "stream",
     "text": [
      "['favorite']\n",
      "['sick']\n",
      "[]\n",
      "['happy']\n",
      "['delicious', 'fast']\n",
      "['open', 'BAD']\n",
      "['terrible', 'payin']\n"
     ]
    }
   ],
   "source": [
    "# GOOD: Process the texts and print the adjectives\n",
    "for doc in nlp.pipe(TEXTS):\n",
    "    print([token.text for token in doc if token.pos_ == 'ADJ'])"
   ]
  },
  {
   "cell_type": "markdown",
   "id": "3e6f2e30-c273-452f-a6bf-38026eb7b6b5",
   "metadata": {},
   "source": [
    "## Processing streams 1"
   ]
  },
  {
   "cell_type": "code",
   "execution_count": 38,
   "id": "6216bba0-dc10-4fc6-8ddd-b35bf2f41fba",
   "metadata": {
    "execution": {
     "iopub.execute_input": "2022-12-28T14:52:11.570979Z",
     "iopub.status.busy": "2022-12-28T14:52:11.570841Z",
     "iopub.status.idle": "2022-12-28T14:52:11.597313Z",
     "shell.execute_reply": "2022-12-28T14:52:11.596999Z",
     "shell.execute_reply.started": "2022-12-28T14:52:11.570967Z"
    },
    "tags": []
   },
   "outputs": [
    {
     "name": "stdout",
     "output_type": "stream",
     "text": [
      "(McDonalds,) (@McDonalds,) (McDonalds,) (McDonalds, Spain) (@McDonalds,) () (This morning, mcdonalds)\n"
     ]
    }
   ],
   "source": [
    "# Process the texts and print the entities\n",
    "docs = list(nlp.pipe(TEXTS))\n",
    "entities = [doc.ents for doc in docs]\n",
    "print(*entities)"
   ]
  },
  {
   "cell_type": "code",
   "execution_count": 40,
   "id": "e6913768-2050-490e-a64b-8cad37b853e6",
   "metadata": {
    "execution": {
     "iopub.execute_input": "2022-12-28T14:52:28.739477Z",
     "iopub.status.busy": "2022-12-28T14:52:28.739339Z",
     "iopub.status.idle": "2022-12-28T14:52:28.756393Z",
     "shell.execute_reply": "2022-12-28T14:52:28.756015Z",
     "shell.execute_reply.started": "2022-12-28T14:52:28.739467Z"
    },
    "tags": []
   },
   "outputs": [
    {
     "data": {
      "text/plain": [
       "[David Bowie, Angela Merkel, Lady Gaga]"
      ]
     },
     "execution_count": 40,
     "metadata": {},
     "output_type": "execute_result"
    }
   ],
   "source": [
    "people = ['David Bowie', 'Angela Merkel', 'Lady Gaga']\n",
    "# Create a list of patterns for the PhraseMatcher\n",
    "patterns = list(nlp.pipe(people))\n",
    "patterns"
   ]
  },
  {
   "cell_type": "markdown",
   "id": "e7bf4789-3065-42ce-bd9a-d2c63221eb96",
   "metadata": {},
   "source": [
    "## Processing data with context"
   ]
  },
  {
   "cell_type": "code",
   "execution_count": 42,
   "id": "ce7fdae4-1a25-45a8-94a1-2fee7e934da1",
   "metadata": {
    "execution": {
     "iopub.execute_input": "2022-12-28T14:58:39.161831Z",
     "iopub.status.busy": "2022-12-28T14:58:39.161693Z",
     "iopub.status.idle": "2022-12-28T14:58:39.164510Z",
     "shell.execute_reply": "2022-12-28T14:58:39.164164Z",
     "shell.execute_reply.started": "2022-12-28T14:58:39.161819Z"
    }
   },
   "outputs": [],
   "source": [
    "DATA = [\n",
    "    (\n",
    "        \"One morning, when Gregor Samsa woke from troubled dreams, he found himself transformed in his bed into a horrible vermin.\",\n",
    "        {\"author\": \"Franz Kafka\", \"book\": \"Metamorphosis\"},\n",
    "    ),\n",
    "    (\n",
    "        \"I know not all that may be coming, but be it what it will, I'll go to it laughing.\",\n",
    "        {\"author\": \"Herman Melville\", \"book\": \"Moby-Dick or, The Whale\"},\n",
    "    ),\n",
    "    (\n",
    "        \"It was the best of times, it was the worst of times.\",\n",
    "        {\"author\": \"Charles Dickens\", \"book\": \"A Tale of Two Cities\"},\n",
    "    ),\n",
    "    (\n",
    "        \"The only people for me are the mad ones, the ones who are mad to live, mad to talk, mad to be saved, desirous of everything at the same time, the ones who never yawn or say a commonplace thing, but burn, burn, burn like fabulous yellow roman candles exploding like spiders across the stars.\",\n",
    "        {\"author\": \"Jack Kerouac\", \"book\": \"On the Road\"},\n",
    "    ),\n",
    "    (\n",
    "        \"It was a bright cold day in April, and the clocks were striking thirteen.\",\n",
    "        {\"author\": \"George Orwell\", \"book\": \"1984\"},\n",
    "    ),\n",
    "    (\n",
    "        \"Nowadays people know the price of everything and the value of nothing.\",\n",
    "        {\"author\": \"Oscar Wilde\", \"book\": \"The Picture Of Dorian Gray\"},\n",
    "    ),\n",
    "]"
   ]
  },
  {
   "cell_type": "code",
   "execution_count": 43,
   "id": "693c8daa-13bb-43d6-a217-7cd70e87575b",
   "metadata": {
    "execution": {
     "iopub.execute_input": "2022-12-28T14:58:39.403119Z",
     "iopub.status.busy": "2022-12-28T14:58:39.402978Z",
     "iopub.status.idle": "2022-12-28T14:58:39.405187Z",
     "shell.execute_reply": "2022-12-28T14:58:39.404897Z",
     "shell.execute_reply.started": "2022-12-28T14:58:39.403108Z"
    },
    "tags": []
   },
   "outputs": [],
   "source": [
    "# Register the Doc extension 'author' (default None)\n",
    "Doc.set_extension('author', default=None, force=True)\n",
    "\n",
    "# Register the Doc extension 'book' (default None)\n",
    "Doc.set_extension('book', default=None, force=True)"
   ]
  },
  {
   "cell_type": "code",
   "execution_count": 45,
   "id": "fc7e962b-8b79-47dc-857f-4ae040cbeb0c",
   "metadata": {
    "execution": {
     "iopub.execute_input": "2022-12-28T15:01:10.262909Z",
     "iopub.status.busy": "2022-12-28T15:01:10.262770Z",
     "iopub.status.idle": "2022-12-28T15:01:10.296641Z",
     "shell.execute_reply": "2022-12-28T15:01:10.296344Z",
     "shell.execute_reply.started": "2022-12-28T15:01:10.262898Z"
    },
    "tags": []
   },
   "outputs": [
    {
     "name": "stdout",
     "output_type": "stream",
     "text": [
      "One morning, when Gregor Samsa woke from troubled dreams, he found himself transformed in his bed into a horrible vermin. \n",
      " — 'Metamorphosis' by Franz Kafka \n",
      "\n",
      "I know not all that may be coming, but be it what it will, I'll go to it laughing. \n",
      " — 'Moby-Dick or, The Whale' by Herman Melville \n",
      "\n",
      "It was the best of times, it was the worst of times. \n",
      " — 'A Tale of Two Cities' by Charles Dickens \n",
      "\n",
      "The only people for me are the mad ones, the ones who are mad to live, mad to talk, mad to be saved, desirous of everything at the same time, the ones who never yawn or say a commonplace thing, but burn, burn, burn like fabulous yellow roman candles exploding like spiders across the stars. \n",
      " — 'On the Road' by Jack Kerouac \n",
      "\n",
      "It was a bright cold day in April, and the clocks were striking thirteen. \n",
      " — '1984' by George Orwell \n",
      "\n",
      "Nowadays people know the price of everything and the value of nothing. \n",
      " — 'The Picture Of Dorian Gray' by Oscar Wilde \n",
      "\n"
     ]
    }
   ],
   "source": [
    "# Import the Doc class and register the extensions 'author' and 'book'\n",
    "from spacy.tokens import Doc\n",
    "Doc.set_extension('book', default=None, force=True)\n",
    "Doc.set_extension('author', default=None, force=True)\n",
    "\n",
    "for doc, context in nlp.pipe(DATA, as_tuples=True):\n",
    "    # Set the doc._.book and doc._.author attributes from the context\n",
    "    doc._.book = context['book']\n",
    "    doc._.author = context['author']\n",
    "    \n",
    "    # Print the text and custom attribute data\n",
    "    print(doc.text, '\\n', \"— '{}' by {}\".format(doc._.book, doc._.author), '\\n')"
   ]
  },
  {
   "cell_type": "markdown",
   "id": "14166ab3-5c1c-4573-b12e-db4a2ff09f40",
   "metadata": {},
   "source": [
    "## Selective processing"
   ]
  },
  {
   "cell_type": "code",
   "execution_count": 46,
   "id": "6913332e-8770-4978-a495-0489da98133b",
   "metadata": {
    "execution": {
     "iopub.execute_input": "2022-12-28T15:02:28.891098Z",
     "iopub.status.busy": "2022-12-28T15:02:28.890953Z",
     "iopub.status.idle": "2022-12-28T15:02:28.893671Z",
     "shell.execute_reply": "2022-12-28T15:02:28.893300Z",
     "shell.execute_reply.started": "2022-12-28T15:02:28.891086Z"
    }
   },
   "outputs": [
    {
     "name": "stdout",
     "output_type": "stream",
     "text": [
      "['Chick', '-', 'fil', '-', 'A', 'is', 'an', 'American', 'fast', 'food', 'restaurant', 'chain', 'headquartered', 'in', 'the', 'city', 'of', 'College', 'Park', ',', 'Georgia', ',', 'specializing', 'in', 'chicken', 'sandwiches', '.']\n"
     ]
    }
   ],
   "source": [
    "text = \"Chick-fil-A is an American fast food restaurant chain headquartered in the city of College Park, Georgia, specializing in chicken sandwiches.\"\n",
    "\n",
    "# Only tokenize the text\n",
    "doc = nlp.make_doc(text)\n",
    "\n",
    "print([token.text for token in doc])"
   ]
  },
  {
   "cell_type": "code",
   "execution_count": 47,
   "id": "e4a8dc9e-b257-46f0-b94d-f12ec1b88fce",
   "metadata": {
    "execution": {
     "iopub.execute_input": "2022-12-28T15:03:48.155357Z",
     "iopub.status.busy": "2022-12-28T15:03:48.155217Z",
     "iopub.status.idle": "2022-12-28T15:03:48.177584Z",
     "shell.execute_reply": "2022-12-28T15:03:48.177175Z",
     "shell.execute_reply.started": "2022-12-28T15:03:48.155346Z"
    }
   },
   "outputs": [
    {
     "name": "stdout",
     "output_type": "stream",
     "text": [
      "(Chick-fil-A, American, College Park, Georgia)\n"
     ]
    }
   ],
   "source": [
    "text = \"Chick-fil-A is an American fast food restaurant chain headquartered in the city of College Park, Georgia, specializing in chicken sandwiches.\"\n",
    "\n",
    "# Disable the tagger and parser\n",
    "with nlp.disable_pipes('tagger','parser'):\n",
    "    # Process the text\n",
    "    doc = nlp(text)\n",
    "    # Print the entities in the doc\n",
    "    print(doc.ents)"
   ]
  },
  {
   "cell_type": "code",
   "execution_count": null,
   "id": "5e0acf59-0efa-49d6-b83e-22d3b62d437d",
   "metadata": {},
   "outputs": [],
   "source": [
    "Selective processingSelective processing"
   ]
  }
 ],
 "metadata": {
  "kernelspec": {
   "display_name": "Python 3 (ipykernel)",
   "language": "python",
   "name": "python3"
  },
  "language_info": {
   "codemirror_mode": {
    "name": "ipython",
    "version": 3
   },
   "file_extension": ".py",
   "mimetype": "text/x-python",
   "name": "python",
   "nbconvert_exporter": "python",
   "pygments_lexer": "ipython3",
   "version": "3.9.15"
  },
  "toc-autonumbering": true
 },
 "nbformat": 4,
 "nbformat_minor": 5
}
