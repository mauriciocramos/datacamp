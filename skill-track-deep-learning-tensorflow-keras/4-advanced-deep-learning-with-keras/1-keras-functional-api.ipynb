{
 "cells": [
  {
   "cell_type": "code",
   "execution_count": 1,
   "id": "c8e2dd19-e423-409f-9919-d6b47335b1cc",
   "metadata": {
    "execution": {
     "iopub.execute_input": "2023-02-12T17:45:30.971239Z",
     "iopub.status.busy": "2023-02-12T17:45:30.971156Z",
     "iopub.status.idle": "2023-02-12T17:45:32.162186Z",
     "shell.execute_reply": "2023-02-12T17:45:32.161760Z",
     "shell.execute_reply.started": "2023-02-12T17:45:30.971229Z"
    },
    "tags": []
   },
   "outputs": [],
   "source": [
    "import os\n",
    "os.environ['TF_CPP_MIN_LOG_LEVEL'] = '1'\n",
    "# os.environ['TF_ENABLE_ONEDNN_OPTS'] = '0'\n",
    "import numpy as np\n",
    "import pandas as pd\n",
    "from zipfile import ZipFile\n",
    "import tensorflow as tf\n",
    "import matplotlib.pyplot as plt\n",
    "plt.style.use('dark_background')"
   ]
  },
  {
   "cell_type": "markdown",
   "id": "1257044a-9549-445d-8bdc-dda3e529ec5f",
   "metadata": {
    "tags": []
   },
   "source": [
    "# Keras input and dense layers"
   ]
  },
  {
   "cell_type": "markdown",
   "id": "f0a93d3c-7d50-4c59-8aa1-254125bb0d09",
   "metadata": {},
   "source": [
    "## Course outline\n",
    "* Chapter 1: Introduction to the Keras functional API (Refresher)\n",
    "* Chapter 2: Models with 2 inputs\n",
    "* Chapter 3: Models with 3 inputs\n",
    "* Chapter 4: Multiple outputs"
   ]
  },
  {
   "cell_type": "markdown",
   "id": "5c8b1b57-f22a-4fff-af01-fda0076d7596",
   "metadata": {},
   "source": [
    "## Course Datasets: College basketball data, 1989-2017\n",
    "* Dataset 1: Regular season\n",
    "    * Team ID 1\n",
    "    * Team ID 2\n",
    "    * Home vs Away\n",
    "    * Score Difference (Team 1 - Team 2)\n",
    "    * Team 1 Score\n",
    "    * Team 2 Score\n",
    "    * Won vs Lost\n",
    "* Dataset 2: Tournament games\n",
    "    * Same as Dataset 1\n",
    "    * Also has difference in seed"
   ]
  },
  {
   "cell_type": "code",
   "execution_count": 2,
   "id": "cc35e811-90e9-4354-adcc-85c40ac584ad",
   "metadata": {
    "execution": {
     "iopub.execute_input": "2023-02-12T17:45:32.163325Z",
     "iopub.status.busy": "2023-02-12T17:45:32.162910Z",
     "iopub.status.idle": "2023-02-12T17:45:32.275475Z",
     "shell.execute_reply": "2023-02-12T17:45:32.274854Z",
     "shell.execute_reply.started": "2023-02-12T17:45:32.163313Z"
    },
    "tags": []
   },
   "outputs": [
    {
     "name": "stdout",
     "output_type": "stream",
     "text": [
      "Archive:  basketball_data.zip\n",
      "  Length      Date    Time    Name\n",
      "---------  ---------- -----   ----\n",
      "   204355  2018-11-28 22:14   games_season_enriched.csv\n",
      "  8749326  2018-11-28 03:34   games_season.csv\n",
      "   130328  2018-11-28 03:34   games_tourney.csv\n",
      "---------                     -------\n",
      "  9084009                     3 files\n"
     ]
    }
   ],
   "source": [
    "! unzip -l basketball_data.zip"
   ]
  },
  {
   "cell_type": "code",
   "execution_count": 3,
   "id": "e87bfcbc-fcee-4ee5-b53d-5a4f85bc83fd",
   "metadata": {
    "execution": {
     "iopub.execute_input": "2023-02-12T17:45:32.276177Z",
     "iopub.status.busy": "2023-02-12T17:45:32.276008Z",
     "iopub.status.idle": "2023-02-12T17:45:32.361338Z",
     "shell.execute_reply": "2023-02-12T17:45:32.361079Z",
     "shell.execute_reply.started": "2023-02-12T17:45:32.276163Z"
    },
    "tags": []
   },
   "outputs": [
    {
     "data": {
      "text/plain": [
       "((4234, 10), (312178, 8), (4234, 9))"
      ]
     },
     "execution_count": 3,
     "metadata": {},
     "output_type": "execute_result"
    }
   ],
   "source": [
    "zip_file = ZipFile('basketball_data.zip')\n",
    "games_season_enriched, games_season, games_tourney = \\\n",
    "[pd.read_csv(zip_file.open(text_file.filename))\n",
    " for text_file in zip_file.infolist()\n",
    " if text_file.filename.endswith('.csv')]\n",
    "\n",
    "games_season_enriched.shape, games_season.shape, games_tourney.shape"
   ]
  },
  {
   "cell_type": "markdown",
   "id": "40be51f0-a5df-44f4-95d0-515acd1f57a1",
   "metadata": {},
   "source": [
    "The first dataset is from the regular season and has the following data: the IDs of the 2 teams that played, whether the first team was home or away, whether the first team won or lost the game, and by how many points the first team won or lost. "
   ]
  },
  {
   "cell_type": "code",
   "execution_count": 4,
   "id": "1a2227d6-b432-4ef2-a57f-e6edbf38b9ae",
   "metadata": {
    "execution": {
     "iopub.execute_input": "2023-02-12T17:45:32.361803Z",
     "iopub.status.busy": "2023-02-12T17:45:32.361702Z",
     "iopub.status.idle": "2023-02-12T17:45:32.403707Z",
     "shell.execute_reply": "2023-02-12T17:45:32.403318Z",
     "shell.execute_reply.started": "2023-02-12T17:45:32.361793Z"
    },
    "tags": []
   },
   "outputs": [
    {
     "data": {
      "text/html": [
       "<div>\n",
       "<style scoped>\n",
       "    .dataframe tbody tr th:only-of-type {\n",
       "        vertical-align: middle;\n",
       "    }\n",
       "\n",
       "    .dataframe tbody tr th {\n",
       "        vertical-align: top;\n",
       "    }\n",
       "\n",
       "    .dataframe thead th {\n",
       "        text-align: right;\n",
       "    }\n",
       "</style>\n",
       "<table border=\"1\" class=\"dataframe\">\n",
       "  <thead>\n",
       "    <tr style=\"text-align: right;\">\n",
       "      <th></th>\n",
       "      <th>season</th>\n",
       "      <th>team_1</th>\n",
       "      <th>team_2</th>\n",
       "      <th>home</th>\n",
       "      <th>score_diff</th>\n",
       "      <th>score_1</th>\n",
       "      <th>score_2</th>\n",
       "      <th>won</th>\n",
       "    </tr>\n",
       "  </thead>\n",
       "  <tbody>\n",
       "    <tr>\n",
       "      <th>407</th>\n",
       "      <td>1985</td>\n",
       "      <td>5</td>\n",
       "      <td>213</td>\n",
       "      <td>1</td>\n",
       "      <td>29</td>\n",
       "      <td>85</td>\n",
       "      <td>56</td>\n",
       "      <td>1</td>\n",
       "    </tr>\n",
       "    <tr>\n",
       "      <th>157160</th>\n",
       "      <td>1985</td>\n",
       "      <td>5</td>\n",
       "      <td>908</td>\n",
       "      <td>1</td>\n",
       "      <td>-10</td>\n",
       "      <td>59</td>\n",
       "      <td>69</td>\n",
       "      <td>0</td>\n",
       "    </tr>\n",
       "    <tr>\n",
       "      <th>3563</th>\n",
       "      <td>1985</td>\n",
       "      <td>5</td>\n",
       "      <td>1047</td>\n",
       "      <td>0</td>\n",
       "      <td>3</td>\n",
       "      <td>82</td>\n",
       "      <td>79</td>\n",
       "      <td>1</td>\n",
       "    </tr>\n",
       "    <tr>\n",
       "      <th>157765</th>\n",
       "      <td>1985</td>\n",
       "      <td>5</td>\n",
       "      <td>1047</td>\n",
       "      <td>1</td>\n",
       "      <td>-7</td>\n",
       "      <td>72</td>\n",
       "      <td>79</td>\n",
       "      <td>0</td>\n",
       "    </tr>\n",
       "    <tr>\n",
       "      <th>158980</th>\n",
       "      <td>1985</td>\n",
       "      <td>5</td>\n",
       "      <td>1047</td>\n",
       "      <td>0</td>\n",
       "      <td>-10</td>\n",
       "      <td>61</td>\n",
       "      <td>71</td>\n",
       "      <td>0</td>\n",
       "    </tr>\n",
       "  </tbody>\n",
       "</table>\n",
       "</div>"
      ],
      "text/plain": [
       "        season  team_1  team_2  home  score_diff  score_1  score_2  won\n",
       "407       1985       5     213     1          29       85       56    1\n",
       "157160    1985       5     908     1         -10       59       69    0\n",
       "3563      1985       5    1047     0           3       82       79    1\n",
       "157765    1985       5    1047     1          -7       72       79    0\n",
       "158980    1985       5    1047     0         -10       61       71    0"
      ]
     },
     "execution_count": 4,
     "metadata": {},
     "output_type": "execute_result"
    }
   ],
   "source": [
    "games_season.sort_values(['season', 'team_1', 'team_2']).head()"
   ]
  },
  {
   "cell_type": "markdown",
   "id": "21485e00-6bb5-4e4b-b3db-06b535d42834",
   "metadata": {},
   "source": [
    "For the tournament dataset, you also have the tournament \"seed\", which is a pre-tournament ranking for each team. These seeds range from 1 to 16, where the best 4 teams get a seed of 1, and the worst 4 teams get a seed of 16. You will use the difference in the two team's seeds as an input to your model. "
   ]
  },
  {
   "cell_type": "code",
   "execution_count": 5,
   "id": "ed7fb87b-4d25-4d6a-a11b-774dc9b3f85f",
   "metadata": {
    "execution": {
     "iopub.execute_input": "2023-02-12T17:45:32.404167Z",
     "iopub.status.busy": "2023-02-12T17:45:32.404073Z",
     "iopub.status.idle": "2023-02-12T17:45:32.409927Z",
     "shell.execute_reply": "2023-02-12T17:45:32.409686Z",
     "shell.execute_reply.started": "2023-02-12T17:45:32.404157Z"
    },
    "tags": []
   },
   "outputs": [
    {
     "data": {
      "text/html": [
       "<div>\n",
       "<style scoped>\n",
       "    .dataframe tbody tr th:only-of-type {\n",
       "        vertical-align: middle;\n",
       "    }\n",
       "\n",
       "    .dataframe tbody tr th {\n",
       "        vertical-align: top;\n",
       "    }\n",
       "\n",
       "    .dataframe thead th {\n",
       "        text-align: right;\n",
       "    }\n",
       "</style>\n",
       "<table border=\"1\" class=\"dataframe\">\n",
       "  <thead>\n",
       "    <tr style=\"text-align: right;\">\n",
       "      <th></th>\n",
       "      <th>season</th>\n",
       "      <th>team_1</th>\n",
       "      <th>team_2</th>\n",
       "      <th>home</th>\n",
       "      <th>seed_diff</th>\n",
       "      <th>score_diff</th>\n",
       "      <th>score_1</th>\n",
       "      <th>score_2</th>\n",
       "      <th>won</th>\n",
       "    </tr>\n",
       "  </thead>\n",
       "  <tbody>\n",
       "    <tr>\n",
       "      <th>3</th>\n",
       "      <td>1985</td>\n",
       "      <td>73</td>\n",
       "      <td>288</td>\n",
       "      <td>0</td>\n",
       "      <td>3</td>\n",
       "      <td>9</td>\n",
       "      <td>50</td>\n",
       "      <td>41</td>\n",
       "      <td>1</td>\n",
       "    </tr>\n",
       "    <tr>\n",
       "      <th>68</th>\n",
       "      <td>1985</td>\n",
       "      <td>73</td>\n",
       "      <td>5929</td>\n",
       "      <td>0</td>\n",
       "      <td>-4</td>\n",
       "      <td>-6</td>\n",
       "      <td>55</td>\n",
       "      <td>61</td>\n",
       "      <td>0</td>\n",
       "    </tr>\n",
       "    <tr>\n",
       "      <th>115</th>\n",
       "      <td>1985</td>\n",
       "      <td>73</td>\n",
       "      <td>9884</td>\n",
       "      <td>0</td>\n",
       "      <td>-5</td>\n",
       "      <td>4</td>\n",
       "      <td>63</td>\n",
       "      <td>59</td>\n",
       "      <td>1</td>\n",
       "    </tr>\n",
       "    <tr>\n",
       "      <th>0</th>\n",
       "      <td>1985</td>\n",
       "      <td>288</td>\n",
       "      <td>73</td>\n",
       "      <td>0</td>\n",
       "      <td>-3</td>\n",
       "      <td>-9</td>\n",
       "      <td>41</td>\n",
       "      <td>50</td>\n",
       "      <td>0</td>\n",
       "    </tr>\n",
       "    <tr>\n",
       "      <th>35</th>\n",
       "      <td>1985</td>\n",
       "      <td>410</td>\n",
       "      <td>3920</td>\n",
       "      <td>0</td>\n",
       "      <td>-1</td>\n",
       "      <td>9</td>\n",
       "      <td>63</td>\n",
       "      <td>54</td>\n",
       "      <td>1</td>\n",
       "    </tr>\n",
       "  </tbody>\n",
       "</table>\n",
       "</div>"
      ],
      "text/plain": [
       "     season  team_1  team_2  home  seed_diff  score_diff  score_1  score_2  \\\n",
       "3      1985      73     288     0          3           9       50       41   \n",
       "68     1985      73    5929     0         -4          -6       55       61   \n",
       "115    1985      73    9884     0         -5           4       63       59   \n",
       "0      1985     288      73     0         -3          -9       41       50   \n",
       "35     1985     410    3920     0         -1           9       63       54   \n",
       "\n",
       "     won  \n",
       "3      1  \n",
       "68     0  \n",
       "115    1  \n",
       "0      0  \n",
       "35     1  "
      ]
     },
     "execution_count": 5,
     "metadata": {},
     "output_type": "execute_result"
    }
   ],
   "source": [
    "games_tourney.sort_values(['season', 'team_1', 'team_2']).head()"
   ]
  },
  {
   "cell_type": "markdown",
   "id": "79e8f603-0b53-402a-9f95-655b6486d5bd",
   "metadata": {},
   "source": [
    "Other than the seed difference, the two datasets have identical columns.\n",
    "\n",
    "Within a given year, a team's roster stays relatively constant, but between years it can change a lot, as seniors graduate, and freshmen start.\n",
    "\n",
    "Therefore, for every year, each school is given a unique integer ID. "
   ]
  },
  {
   "cell_type": "markdown",
   "id": "22673775-619c-4593-902e-dd88d240844f",
   "metadata": {},
   "source": [
    "## Inputs and outputs\n",
    "Two fundamental parts:\n",
    "* Input layer\n",
    "* Output layer"
   ]
  },
  {
   "cell_type": "markdown",
   "id": "165c1bd4-2ce6-4003-a1c4-cdedc4eeffac",
   "metadata": {},
   "source": [
    "## Inputs"
   ]
  },
  {
   "cell_type": "markdown",
   "id": "af2c7f79-3847-40a6-8372-c83a492de955",
   "metadata": {},
   "source": [
    "To start, I'll define a very simple keras model, which only expects a single input. I specify this using the Input() function from the tensorflow.keras.layers module. The number of columns in the input is specified using the shape parameter. This tells the model how much data to expect. Note that the shape argument expects a tuple.\n",
    "\n",
    "The Input function returns a \"tensor\". If you print this tensor, you'll see that it is a KerasTensor object, which indicates it is ready to be used by our model as input. "
   ]
  },
  {
   "cell_type": "code",
   "execution_count": 6,
   "id": "e9305133-ab61-4a31-8354-144561f22fa0",
   "metadata": {
    "execution": {
     "iopub.execute_input": "2023-02-12T17:45:32.410487Z",
     "iopub.status.busy": "2023-02-12T17:45:32.410284Z",
     "iopub.status.idle": "2023-02-12T17:45:32.415577Z",
     "shell.execute_reply": "2023-02-12T17:45:32.415325Z",
     "shell.execute_reply.started": "2023-02-12T17:45:32.410476Z"
    },
    "tags": []
   },
   "outputs": [
    {
     "name": "stdout",
     "output_type": "stream",
     "text": [
      "KerasTensor(type_spec=TensorSpec(shape=(None, 1), dtype=tf.float32, name='input_1'), name='input_1', description=\"created by layer 'input_1'\")\n"
     ]
    }
   ],
   "source": [
    "from tensorflow.keras.layers import Input, Dense\n",
    "input_tensor = Input(shape=(1,))\n",
    "print(input_tensor)"
   ]
  },
  {
   "cell_type": "markdown",
   "id": "ff79ac37-5068-4fd3-af16-07657daea3c4",
   "metadata": {},
   "source": [
    "## Outputs"
   ]
  },
  {
   "cell_type": "markdown",
   "id": "5dd280e8-56bc-4fcc-b947-1351468a7e01",
   "metadata": {},
   "source": [
    "Now that we've defined our input layer, let's define the output layer. Outputs in keras are most commonly a single dense layer, which specifies the shape of the expected output. In this case, we are expecting our model to predict a single value, so we pass one unit to the dense layer.\n",
    "\n",
    "If you print the output layer, the result is NOT a tensorflow tensor.\n",
    "\n",
    "**It is a function, which takes a tensor as input and produces a tensor as output.**\n",
    "\n",
    "**The difference between layers and tensors is key to understanding the keras functional API.**\n",
    "\n",
    "**Layers are used to construct a deep learning model, and tensors are used to define the data flow through the model.**"
   ]
  },
  {
   "cell_type": "code",
   "execution_count": 7,
   "id": "33d36a7f-5860-4652-9de0-f4bb47261a4e",
   "metadata": {
    "execution": {
     "iopub.execute_input": "2023-02-12T17:45:32.416702Z",
     "iopub.status.busy": "2023-02-12T17:45:32.416596Z",
     "iopub.status.idle": "2023-02-12T17:45:32.419679Z",
     "shell.execute_reply": "2023-02-12T17:45:32.419428Z",
     "shell.execute_reply.started": "2023-02-12T17:45:32.416693Z"
    },
    "tags": []
   },
   "outputs": [
    {
     "name": "stdout",
     "output_type": "stream",
     "text": [
      "<keras.layers.core.dense.Dense object at 0x7fbbbacc8910>\n"
     ]
    }
   ],
   "source": [
    "output_layer = Dense(1)\n",
    "print(output_layer)"
   ]
  },
  {
   "cell_type": "markdown",
   "id": "967df0e3-5440-4e18-8df3-847e569f4184",
   "metadata": {},
   "source": [
    "## Connecting inputs to outputs"
   ]
  },
  {
   "cell_type": "markdown",
   "id": "d7a9199a-2e74-466a-a725-a65cc54d046c",
   "metadata": {},
   "source": [
    "In this case, the input layer defines a tensor, which we pass to the output_layer() function.\n",
    "\n",
    "The final output of our model is a KerasTensor. "
   ]
  },
  {
   "cell_type": "code",
   "execution_count": 8,
   "id": "076c5e94-16f2-4994-a3b6-fed877d1059c",
   "metadata": {
    "execution": {
     "iopub.execute_input": "2023-02-12T17:45:32.420180Z",
     "iopub.status.busy": "2023-02-12T17:45:32.420079Z",
     "iopub.status.idle": "2023-02-12T17:45:32.818053Z",
     "shell.execute_reply": "2023-02-12T17:45:32.817594Z",
     "shell.execute_reply.started": "2023-02-12T17:45:32.420170Z"
    },
    "tags": []
   },
   "outputs": [
    {
     "name": "stdout",
     "output_type": "stream",
     "text": [
      "KerasTensor(type_spec=TensorSpec(shape=(None, 1), dtype=tf.float32, name=None), name='dense/BiasAdd:0', description=\"created by layer 'dense'\")\n"
     ]
    }
   ],
   "source": [
    "output_tensor = output_layer(input_tensor)\n",
    "print(output_tensor)"
   ]
  },
  {
   "cell_type": "markdown",
   "id": "17cf3775-3ab0-416e-a5e4-b2d8f71ff825",
   "metadata": {},
   "source": [
    "## Exercise"
   ]
  },
  {
   "cell_type": "markdown",
   "id": "37704bb6-c4b2-4b6f-9d4d-ed3905596c7f",
   "metadata": {},
   "source": [
    "### Input layers\n",
    "\n",
    "The first step in creating a neural network model is to define the Input layer. This layer takes in raw data, usually in the form of numpy arrays. The shape of the Input layer defines how many variables your neural network will use. For example, if the input data has 10 columns, you define an Input layer with a shape of (10,).\n",
    "\n",
    "In this case, you are only using one input in your network."
   ]
  },
  {
   "cell_type": "code",
   "execution_count": 9,
   "id": "612a4000-a208-4271-9c86-c03f69e492c8",
   "metadata": {
    "execution": {
     "iopub.execute_input": "2023-02-12T17:45:32.818546Z",
     "iopub.status.busy": "2023-02-12T17:45:32.818427Z",
     "iopub.status.idle": "2023-02-12T17:45:32.820916Z",
     "shell.execute_reply": "2023-02-12T17:45:32.820580Z",
     "shell.execute_reply.started": "2023-02-12T17:45:32.818535Z"
    },
    "tags": []
   },
   "outputs": [],
   "source": [
    "# Create an input layer of shape 1\n",
    "input_tensor = Input(shape=(1,))"
   ]
  },
  {
   "cell_type": "markdown",
   "id": "280181d0-080f-4343-b802-5d5100d79826",
   "metadata": {},
   "source": [
    "### Dense layers\n",
    "\n",
    "Once you have an Input layer, the next step is to add a Dense layer.\n",
    "\n",
    "Dense layers learn a weight matrix, where the first dimension of the matrix is the dimension of the input data, and the second dimension is the dimension of the output data. Recall that your Input layer has a shape of 1. In this case, your output layer will also have a shape of 1. This means that the Dense layer will learn a 1x1 weight matrix.\n",
    "\n",
    "In this exercise, you will add a dense layer to your model, after the input layer."
   ]
  },
  {
   "cell_type": "code",
   "execution_count": 10,
   "id": "beaf22d4-a88f-4bf5-9804-64fcd2a88161",
   "metadata": {
    "execution": {
     "iopub.execute_input": "2023-02-12T17:45:32.821563Z",
     "iopub.status.busy": "2023-02-12T17:45:32.821456Z",
     "iopub.status.idle": "2023-02-12T17:45:32.826231Z",
     "shell.execute_reply": "2023-02-12T17:45:32.825975Z",
     "shell.execute_reply.started": "2023-02-12T17:45:32.821552Z"
    },
    "tags": []
   },
   "outputs": [],
   "source": [
    "# Dense layer\n",
    "output_layer = Dense(1)\n",
    "\n",
    "# Connect the dense layer to the input_tensor\n",
    "output_tensor = output_layer(input_tensor)"
   ]
  },
  {
   "cell_type": "markdown",
   "id": "9bd18638-12d0-4db0-92f9-0715d48a2ef5",
   "metadata": {},
   "source": [
    "### Output layers\n",
    "\n",
    "Output layers are simply Dense layers! Output layers are used to reduce the dimension of the inputs to the dimension of the outputs. You'll learn more about output dimensions in chapter 4, but for now, you'll always use a single output in your neural networks, which is equivalent to Dense(1) or a dense layer with a single unit."
   ]
  },
  {
   "cell_type": "code",
   "execution_count": 11,
   "id": "58b71add-7922-4cff-b4b8-bad92be5fa7c",
   "metadata": {
    "execution": {
     "iopub.execute_input": "2023-02-12T17:45:32.826812Z",
     "iopub.status.busy": "2023-02-12T17:45:32.826583Z",
     "iopub.status.idle": "2023-02-12T17:45:32.831459Z",
     "shell.execute_reply": "2023-02-12T17:45:32.831219Z",
     "shell.execute_reply.started": "2023-02-12T17:45:32.826802Z"
    },
    "tags": []
   },
   "outputs": [],
   "source": [
    "# Input layer\n",
    "input_tensor = Input(shape=(1,))\n",
    "\n",
    "# Create a dense layer and connect the dense layer to the input_tensor in one step\n",
    "# Note that we did this in 2 steps in the previous exercise, but are doing it in one step now\n",
    "output_tensor = Dense(1)(input_tensor)"
   ]
  },
  {
   "cell_type": "markdown",
   "id": "89631d9c-8ccf-4abd-8076-643b28625e25",
   "metadata": {},
   "source": [
    "# Keras models"
   ]
  },
  {
   "cell_type": "markdown",
   "id": "7233d1b5-5402-457e-9d9c-c5ef271d043b",
   "metadata": {},
   "source": [
    "## Keras models"
   ]
  },
  {
   "cell_type": "code",
   "execution_count": 12,
   "id": "7ae3bceb-89ec-40c3-b5f1-635857d3d1c4",
   "metadata": {
    "execution": {
     "iopub.execute_input": "2023-02-12T17:45:32.831858Z",
     "iopub.status.busy": "2023-02-12T17:45:32.831766Z",
     "iopub.status.idle": "2023-02-12T17:45:32.835420Z",
     "shell.execute_reply": "2023-02-12T17:45:32.835175Z",
     "shell.execute_reply.started": "2023-02-12T17:45:32.831849Z"
    },
    "tags": []
   },
   "outputs": [
    {
     "data": {
      "text/plain": [
       "<keras.engine.functional.Functional at 0x7fbbbaba2c40>"
      ]
     },
     "execution_count": 12,
     "metadata": {},
     "output_type": "execute_result"
    }
   ],
   "source": [
    "from tensorflow.keras.models import Model\n",
    "model = Model(input_tensor, output_tensor)\n",
    "model"
   ]
  },
  {
   "cell_type": "markdown",
   "id": "9cd14669-7a64-498b-88f6-8d5c9379abd6",
   "metadata": {},
   "source": [
    "## Compile a model"
   ]
  },
  {
   "cell_type": "markdown",
   "id": "5c00904a-6482-490f-9c57-282f7a04088a",
   "metadata": {},
   "source": [
    "The compilation step finalizes the model and gets it completely ready for use in fitting and predicting. During compilation, you select an optimizer. I almost always use the \"adam\" optimizer, and you will find it typically gives good results.\n",
    "\n",
    "During compilation, you also select a loss function. In this case, we use **mean absolute error, which is a good general-purpose error function for keras models, as it is a little bit less sensitive to outliers.**\n",
    "\n",
    "You could also use **mean squared error, which would be equivalent to traditional linear regression.**"
   ]
  },
  {
   "cell_type": "code",
   "execution_count": 13,
   "id": "a68eb58a-1da3-4bf8-a817-0b099f835e90",
   "metadata": {
    "execution": {
     "iopub.execute_input": "2023-02-12T17:45:32.835916Z",
     "iopub.status.busy": "2023-02-12T17:45:32.835761Z",
     "iopub.status.idle": "2023-02-12T17:45:32.841761Z",
     "shell.execute_reply": "2023-02-12T17:45:32.841513Z",
     "shell.execute_reply.started": "2023-02-12T17:45:32.835906Z"
    },
    "tags": []
   },
   "outputs": [
    {
     "name": "stdout",
     "output_type": "stream",
     "text": [
      "model.loss='mae'\n"
     ]
    },
    {
     "data": {
      "text/plain": [
       "{'name': 'Adam',\n",
       " 'learning_rate': 0.001,\n",
       " 'decay': 0.0,\n",
       " 'beta_1': 0.9,\n",
       " 'beta_2': 0.999,\n",
       " 'epsilon': 1e-07,\n",
       " 'amsgrad': False}"
      ]
     },
     "execution_count": 13,
     "metadata": {},
     "output_type": "execute_result"
    }
   ],
   "source": [
    "model.compile(optimizer='adam', loss='mae')\n",
    "print(f'{model.loss=}')\n",
    "model.optimizer.get_config()"
   ]
  },
  {
   "cell_type": "markdown",
   "id": "049b0e84-8c18-4cd7-8bc5-ec37d741ee6c",
   "metadata": {},
   "source": [
    "## Summarize the model"
   ]
  },
  {
   "cell_type": "markdown",
   "id": "aa794834-1ec6-40d9-8fdf-4a0212406f57",
   "metadata": {},
   "source": [
    "The output layer has 2 parameters, which makes sense, as you have 1 input and one output."
   ]
  },
  {
   "cell_type": "code",
   "execution_count": 14,
   "id": "27a84f9c-9c8d-4d5b-b87c-52843a6962cf",
   "metadata": {
    "execution": {
     "iopub.execute_input": "2023-02-12T17:45:32.842270Z",
     "iopub.status.busy": "2023-02-12T17:45:32.842110Z",
     "iopub.status.idle": "2023-02-12T17:45:32.846454Z",
     "shell.execute_reply": "2023-02-12T17:45:32.846156Z",
     "shell.execute_reply.started": "2023-02-12T17:45:32.842259Z"
    },
    "tags": []
   },
   "outputs": [
    {
     "name": "stdout",
     "output_type": "stream",
     "text": [
      "Model: \"model\"\n",
      "_________________________________________________________________\n",
      " Layer (type)                Output Shape              Param #   \n",
      "=================================================================\n",
      " input_3 (InputLayer)        [(None, 1)]               0         \n",
      "                                                                 \n",
      " dense_2 (Dense)             (None, 1)                 2         \n",
      "                                                                 \n",
      "=================================================================\n",
      "Total params: 2\n",
      "Trainable params: 2\n",
      "Non-trainable params: 0\n",
      "_________________________________________________________________\n"
     ]
    }
   ],
   "source": [
    "model.summary()"
   ]
  },
  {
   "cell_type": "markdown",
   "id": "696ec72e-1327-4643-9bcf-f5efbb55adb7",
   "metadata": {},
   "source": [
    "The model you have defined here is a standard linear regression model, equivalent to:\n",
    "\n",
    "$$y = m \\times x + b$$\n",
    "\n",
    "$m$ and $b$ are the 2 parameters.\n",
    "\n",
    "In the terminology of linear regression, $m$ is the **slope**, and $b$ is the **intercept**.\n",
    "\n",
    "In the terminology of keras, $m$ is the **weight of the dense layer**, and $b$ is the **bias of the dense layer**. "
   ]
  },
  {
   "cell_type": "code",
   "execution_count": 15,
   "id": "713e133c-e1ba-4f90-8969-6f225efadb41",
   "metadata": {
    "execution": {
     "iopub.execute_input": "2023-02-12T17:45:32.846964Z",
     "iopub.status.busy": "2023-02-12T17:45:32.846804Z",
     "iopub.status.idle": "2023-02-12T17:45:32.849830Z",
     "shell.execute_reply": "2023-02-12T17:45:32.849586Z",
     "shell.execute_reply.started": "2023-02-12T17:45:32.846954Z"
    },
    "tags": []
   },
   "outputs": [
    {
     "data": {
      "text/plain": [
       "[<tf.Variable 'dense_2/kernel:0' shape=(1, 1) dtype=float32, numpy=array([[1.4677638]], dtype=float32)>,\n",
       " <tf.Variable 'dense_2/bias:0' shape=(1,) dtype=float32, numpy=array([0.], dtype=float32)>]"
      ]
     },
     "execution_count": 15,
     "metadata": {},
     "output_type": "execute_result"
    }
   ],
   "source": [
    "model.layers[1].weights"
   ]
  },
  {
   "cell_type": "markdown",
   "id": "b03c1bef-7eed-436a-b67e-90b23ca3dde3",
   "metadata": {},
   "source": [
    "## Plot model using keras"
   ]
  },
  {
   "cell_type": "code",
   "execution_count": 16,
   "id": "4c7edcd4-63f5-4318-9221-847b8c226a44",
   "metadata": {
    "execution": {
     "iopub.execute_input": "2023-02-12T17:45:32.850378Z",
     "iopub.status.busy": "2023-02-12T17:45:32.850184Z",
     "iopub.status.idle": "2023-02-12T17:45:32.908110Z",
     "shell.execute_reply": "2023-02-12T17:45:32.907810Z",
     "shell.execute_reply.started": "2023-02-12T17:45:32.850368Z"
    },
    "tags": []
   },
   "outputs": [
    {
     "data": {
      "image/png": "[encoded data removed]",
      "text/plain": [
       "<IPython.core.display.Image object>"
      ]
     },
     "execution_count": 16,
     "metadata": {},
     "output_type": "execute_result"
    }
   ],
   "source": [
    "from tensorflow.keras.utils import plot_model\n",
    "\n",
    "input_tensor = Input(shape=(1,), name='input_1')\n",
    "output_layer = Dense(1, name='Predicted-Score-Diff')\n",
    "output_tensor = output_layer(input_tensor)\n",
    "model = Model(input_tensor, output_tensor)\n",
    "plot_model(model,\n",
    "           to_file='model.png',\n",
    "           show_shapes=True,\n",
    "           show_dtype=True,\n",
    "           # show_layer_names=True, # default True, others False\n",
    "           expand_nested=True,\n",
    "           show_layer_activations=True)"
   ]
  },
  {
   "cell_type": "code",
   "execution_count": 17,
   "id": "18f41368-1eae-4cdd-a3ab-46748804b4ff",
   "metadata": {
    "execution": {
     "iopub.execute_input": "2023-02-12T17:45:32.908692Z",
     "iopub.status.busy": "2023-02-12T17:45:32.908583Z",
     "iopub.status.idle": "2023-02-12T17:45:32.910425Z",
     "shell.execute_reply": "2023-02-12T17:45:32.910183Z",
     "shell.execute_reply.started": "2023-02-12T17:45:32.908680Z"
    },
    "tags": []
   },
   "outputs": [],
   "source": [
    "# To plot a saved image\n",
    "# img = plt.imread('model.png')\n",
    "# plt.imshow(img)\n",
    "# plt.axis('off')\n",
    "# plt.show()"
   ]
  },
  {
   "cell_type": "markdown",
   "id": "64a647f8-5848-4daa-b506-9cd84a86f807",
   "metadata": {},
   "source": [
    "## Exercises"
   ]
  },
  {
   "cell_type": "markdown",
   "id": "95991d54-0e19-46c2-a3b3-49b04d1a3471",
   "metadata": {},
   "source": [
    "### Build a model\n",
    "\n",
    "Once you've defined an input layer and an output layer, you can build a Keras model. The model object is how you tell Keras where the model starts and stops: where data comes in and where predictions come out."
   ]
  },
  {
   "cell_type": "code",
   "execution_count": 18,
   "id": "64283264-50f9-4158-8bc0-23e2ef5df951",
   "metadata": {
    "execution": {
     "iopub.execute_input": "2023-02-12T17:45:32.910958Z",
     "iopub.status.busy": "2023-02-12T17:45:32.910778Z",
     "iopub.status.idle": "2023-02-12T17:45:32.917741Z",
     "shell.execute_reply": "2023-02-12T17:45:32.917489Z",
     "shell.execute_reply.started": "2023-02-12T17:45:32.910948Z"
    },
    "tags": []
   },
   "outputs": [],
   "source": [
    "input_tensor = Input(shape=(1,))\n",
    "output_tensor = Dense(1)(input_tensor)\n",
    "# Build the model\n",
    "model = Model(input_tensor, output_tensor)"
   ]
  },
  {
   "cell_type": "markdown",
   "id": "792412d3-fec1-4eca-a5b6-4084be361a7e",
   "metadata": {},
   "source": [
    "### Compile a model\n",
    "\n",
    "The final step in creating a model is compiling it. Now that you've created a model, you have to compile it before you can fit it to data. This finalizes your model, freezes all its settings, and prepares it to meet some data!\n",
    "\n",
    "During compilation, you specify the optimizer to use for fitting the model to the data, and a loss function. 'adam' is a good default optimizer to use, and will generally work well. Loss function depends on the problem at hand. Mean squared error is a common loss function and will optimize for predicting the mean, as is done in least squares regression.\n",
    "\n",
    "Mean absolute error optimizes for the median and is used in quantile regression. For this dataset, 'mean_absolute_error' works pretty well, so use it as your loss function."
   ]
  },
  {
   "cell_type": "code",
   "execution_count": 19,
   "id": "4a71c39a-8fff-4a23-9d92-05cb3e58bc31",
   "metadata": {
    "execution": {
     "iopub.execute_input": "2023-02-12T17:45:32.918279Z",
     "iopub.status.busy": "2023-02-12T17:45:32.918089Z",
     "iopub.status.idle": "2023-02-12T17:45:32.921980Z",
     "shell.execute_reply": "2023-02-12T17:45:32.921709Z",
     "shell.execute_reply.started": "2023-02-12T17:45:32.918269Z"
    },
    "tags": []
   },
   "outputs": [],
   "source": [
    "# Compile the model\n",
    "model.compile(optimizer=f'adam', loss='mean_absolute_error')"
   ]
  },
  {
   "cell_type": "markdown",
   "id": "99237548-a756-4bf9-8605-759139669da3",
   "metadata": {},
   "source": [
    "### Visualize a model\n",
    "\n",
    "Now that you've compiled the model, take a look a the result of your hard work! You can do this by looking at the model summary, as well as its plot.\n",
    "\n",
    "The summary will tell you the names of the layers, as well as how many units they have and how many parameters are in the model.\n",
    "\n",
    "The plot will show how the layers connect to each other."
   ]
  },
  {
   "cell_type": "code",
   "execution_count": 20,
   "id": "10a296e9-870e-449d-9608-076025bdc407",
   "metadata": {
    "execution": {
     "iopub.execute_input": "2023-02-12T17:45:32.922582Z",
     "iopub.status.busy": "2023-02-12T17:45:32.922359Z",
     "iopub.status.idle": "2023-02-12T17:45:32.973311Z",
     "shell.execute_reply": "2023-02-12T17:45:32.972770Z",
     "shell.execute_reply.started": "2023-02-12T17:45:32.922571Z"
    },
    "tags": []
   },
   "outputs": [
    {
     "name": "stdout",
     "output_type": "stream",
     "text": [
      "Model: \"model_2\"\n",
      "_________________________________________________________________\n",
      " Layer (type)                Output Shape              Param #   \n",
      "=================================================================\n",
      " input_4 (InputLayer)        [(None, 1)]               0         \n",
      "                                                                 \n",
      " dense_3 (Dense)             (None, 1)                 2         \n",
      "                                                                 \n",
      "=================================================================\n",
      "Total params: 2\n",
      "Trainable params: 2\n",
      "Non-trainable params: 0\n",
      "_________________________________________________________________\n"
     ]
    },
    {
     "data": {
      "image/png": "[encoded data removed]",
      "text/plain": [
       "<IPython.core.display.Image object>"
      ]
     },
     "execution_count": 20,
     "metadata": {},
     "output_type": "execute_result"
    }
   ],
   "source": [
    "# Import the plotting function\n",
    "from tensorflow.keras.utils import plot_model\n",
    "import matplotlib.pyplot as plt\n",
    "\n",
    "# Summarize the model\n",
    "model.summary()\n",
    "\n",
    "# Plot the model\n",
    "plot_model(model, to_file='model.png')"
   ]
  },
  {
   "cell_type": "code",
   "execution_count": 21,
   "id": "24c9a354-c8cf-4b2e-8531-6cdb0873526e",
   "metadata": {
    "execution": {
     "iopub.execute_input": "2023-02-12T17:45:32.973887Z",
     "iopub.status.busy": "2023-02-12T17:45:32.973778Z",
     "iopub.status.idle": "2023-02-12T17:45:32.975635Z",
     "shell.execute_reply": "2023-02-12T17:45:32.975402Z",
     "shell.execute_reply.started": "2023-02-12T17:45:32.973876Z"
    },
    "tags": []
   },
   "outputs": [],
   "source": [
    "# # Display the image\n",
    "# data = plt.imread('model.png')\n",
    "# plt.imshow(data)\n",
    "# plt.show()"
   ]
  },
  {
   "cell_type": "markdown",
   "id": "fd41d511-3e0b-4855-800f-032e0eccb60b",
   "metadata": {
    "tags": []
   },
   "source": [
    "# Fit and evaluate a model"
   ]
  },
  {
   "cell_type": "markdown",
   "id": "4a7e5c7e-56eb-41dc-9573-c8577622cd00",
   "metadata": {},
   "source": [
    "## Basketball Data"
   ]
  },
  {
   "cell_type": "markdown",
   "id": "23abd0f3-20a1-404e-8d4f-40962ae37c1d",
   "metadata": {},
   "source": [
    "Goal: Predict tournament outcomes  \n",
    "Data available: team ratings from the tournament organizers"
   ]
  },
  {
   "cell_type": "code",
   "execution_count": 22,
   "id": "704011e1-e2cb-4c17-b5b2-de2cd8d5f157",
   "metadata": {
    "execution": {
     "iopub.execute_input": "2023-02-12T17:45:32.977199Z",
     "iopub.status.busy": "2023-02-12T17:45:32.977102Z",
     "iopub.status.idle": "2023-02-12T17:45:32.981651Z",
     "shell.execute_reply": "2023-02-12T17:45:32.981426Z",
     "shell.execute_reply.started": "2023-02-12T17:45:32.977190Z"
    },
    "tags": []
   },
   "outputs": [
    {
     "data": {
      "text/html": [
       "<div>\n",
       "<style scoped>\n",
       "    .dataframe tbody tr th:only-of-type {\n",
       "        vertical-align: middle;\n",
       "    }\n",
       "\n",
       "    .dataframe tbody tr th {\n",
       "        vertical-align: top;\n",
       "    }\n",
       "\n",
       "    .dataframe thead th {\n",
       "        text-align: right;\n",
       "    }\n",
       "</style>\n",
       "<table border=\"1\" class=\"dataframe\">\n",
       "  <thead>\n",
       "    <tr style=\"text-align: right;\">\n",
       "      <th></th>\n",
       "      <th>season</th>\n",
       "      <th>team_1</th>\n",
       "      <th>team_2</th>\n",
       "      <th>home</th>\n",
       "      <th>seed_diff</th>\n",
       "      <th>score_diff</th>\n",
       "      <th>score_1</th>\n",
       "      <th>score_2</th>\n",
       "      <th>won</th>\n",
       "    </tr>\n",
       "  </thead>\n",
       "  <tbody>\n",
       "    <tr>\n",
       "      <th>0</th>\n",
       "      <td>1985</td>\n",
       "      <td>288</td>\n",
       "      <td>73</td>\n",
       "      <td>0</td>\n",
       "      <td>-3</td>\n",
       "      <td>-9</td>\n",
       "      <td>41</td>\n",
       "      <td>50</td>\n",
       "      <td>0</td>\n",
       "    </tr>\n",
       "    <tr>\n",
       "      <th>1</th>\n",
       "      <td>1985</td>\n",
       "      <td>5929</td>\n",
       "      <td>73</td>\n",
       "      <td>0</td>\n",
       "      <td>4</td>\n",
       "      <td>6</td>\n",
       "      <td>61</td>\n",
       "      <td>55</td>\n",
       "      <td>1</td>\n",
       "    </tr>\n",
       "    <tr>\n",
       "      <th>2</th>\n",
       "      <td>1985</td>\n",
       "      <td>9884</td>\n",
       "      <td>73</td>\n",
       "      <td>0</td>\n",
       "      <td>5</td>\n",
       "      <td>-4</td>\n",
       "      <td>59</td>\n",
       "      <td>63</td>\n",
       "      <td>0</td>\n",
       "    </tr>\n",
       "    <tr>\n",
       "      <th>3</th>\n",
       "      <td>1985</td>\n",
       "      <td>73</td>\n",
       "      <td>288</td>\n",
       "      <td>0</td>\n",
       "      <td>3</td>\n",
       "      <td>9</td>\n",
       "      <td>50</td>\n",
       "      <td>41</td>\n",
       "      <td>1</td>\n",
       "    </tr>\n",
       "    <tr>\n",
       "      <th>4</th>\n",
       "      <td>1985</td>\n",
       "      <td>3920</td>\n",
       "      <td>410</td>\n",
       "      <td>0</td>\n",
       "      <td>1</td>\n",
       "      <td>-9</td>\n",
       "      <td>54</td>\n",
       "      <td>63</td>\n",
       "      <td>0</td>\n",
       "    </tr>\n",
       "  </tbody>\n",
       "</table>\n",
       "</div>"
      ],
      "text/plain": [
       "   season  team_1  team_2  home  seed_diff  score_diff  score_1  score_2  won\n",
       "0    1985     288      73     0         -3          -9       41       50    0\n",
       "1    1985    5929      73     0          4           6       61       55    1\n",
       "2    1985    9884      73     0          5          -4       59       63    0\n",
       "3    1985      73     288     0          3           9       50       41    1\n",
       "4    1985    3920     410     0          1          -9       54       63    0"
      ]
     },
     "execution_count": 22,
     "metadata": {},
     "output_type": "execute_result"
    }
   ],
   "source": [
    "games_tourney.head()"
   ]
  },
  {
   "cell_type": "markdown",
   "id": "83bcefbe-0db6-4f16-a37f-95bcac1b9702",
   "metadata": {},
   "source": [
    "Input:\n",
    "* Seed difference - one number: -15 to +15\n",
    "* Seed range from 1-16\n",
    "* Highest difference is 16-1 = +15\n",
    "* Lowest difference is 1-16 = -15\n",
    "\n",
    "Output:\n",
    "* Score difference - one number: -50 to +50"
   ]
  },
  {
   "cell_type": "markdown",
   "id": "7dcf6b48-1039-44b8-847d-ebd9f4e2c05e",
   "metadata": {},
   "source": [
    "## Seed difference\n",
    "* Seed difference: 15\n",
    "    * Team 1:16\n",
    "    * Team 2:1\n",
    "* Seed difference: -15\n",
    "    * Team 1:1\n",
    "    * Team 2:16"
   ]
  },
  {
   "cell_type": "markdown",
   "id": "2934a6db-d04a-4d19-a00c-b39219bbc529",
   "metadata": {},
   "source": [
    "A seed difference of positive 15 means that team 1 has a seed of 16 and is playing a team of seed of 1.\n",
    "\n",
    "This means team 1 is likely (though not certain) to lose.\n",
    "\n",
    "A seed difference of negative 15 means that team 1 has a seed of 1 and is playing a team of seed of 16.\n",
    "\n",
    "This means team 1 is likely (though not certain) to win.\n",
    "\n",
    "So a positive seed difference is usually predictive of a negative score difference, and a negative seed difference is usually predictive of a positive score difference. "
   ]
  },
  {
   "cell_type": "code",
   "execution_count": 23,
   "id": "4dac2ced-64f7-4fed-9c40-856b3b83e417",
   "metadata": {
    "execution": {
     "iopub.execute_input": "2023-02-12T17:45:32.982048Z",
     "iopub.status.busy": "2023-02-12T17:45:32.981957Z",
     "iopub.status.idle": "2023-02-12T17:45:33.122829Z",
     "shell.execute_reply": "2023-02-12T17:45:33.122556Z",
     "shell.execute_reply.started": "2023-02-12T17:45:32.982039Z"
    },
    "tags": []
   },
   "outputs": [
    {
     "data": {
      "image/png": "[encoded data removed]",
      "text/plain": [
       "<Figure size 1000x500 with 1 Axes>"
      ]
     },
     "metadata": {},
     "output_type": "display_data"
    }
   ],
   "source": [
    "_=games_tourney.groupby('seed_diff')['seed_diff'].count().plot.bar(rot=0, figsize=(10,5))"
   ]
  },
  {
   "cell_type": "markdown",
   "id": "3a60a59a-767b-4e2b-bb3b-198c3752f31d",
   "metadata": {},
   "source": [
    "## Score difference\n",
    "* Score difference: -9\n",
    "    * Team 1: 41\n",
    "    * Team 2: 50\n",
    "* Score difference: 6\n",
    "    * Team 1: 61\n",
    "    * Team 2: 55"
   ]
  },
  {
   "cell_type": "markdown",
   "id": "54ec8848-ee12-4945-8293-5e132f443007",
   "metadata": {},
   "source": [
    "Our target variable is the game's score difference and ranges from about negative 50 to positive 50.\n",
    "\n",
    "This means you have games where team 1 lost by 50 points and games where they won by 50 points."
   ]
  },
  {
   "cell_type": "code",
   "execution_count": 24,
   "id": "48b15fdb-1a04-4d00-8a7d-0bae34f77ab5",
   "metadata": {
    "execution": {
     "iopub.execute_input": "2023-02-12T17:45:33.123363Z",
     "iopub.status.busy": "2023-02-12T17:45:33.123177Z",
     "iopub.status.idle": "2023-02-12T17:45:33.537442Z",
     "shell.execute_reply": "2023-02-12T17:45:33.537112Z",
     "shell.execute_reply.started": "2023-02-12T17:45:33.123352Z"
    },
    "tags": []
   },
   "outputs": [
    {
     "data": {
      "text/plain": [
       "<AxesSubplot:xlabel='score_diff'>"
      ]
     },
     "execution_count": 24,
     "metadata": {},
     "output_type": "execute_result"
    },
    {
     "data": {
      "image/png": "[encoded data removed]",
      "text/plain": [
       "<Figure size 1500x500 with 1 Axes>"
      ]
     },
     "metadata": {},
     "output_type": "display_data"
    }
   ],
   "source": [
    "games_tourney.groupby('score_diff')['score_diff'].count().plot.bar(figsize=(15,5))"
   ]
  },
  {
   "cell_type": "markdown",
   "id": "4b98724e-e005-4efb-baa4-99bc575e7188",
   "metadata": {},
   "source": [
    "Note that both the regular season and the tournament datasets have 2 rows per game, where the second row has the opposite signs of the first row.\n",
    "\n",
    "In other words, for a given game where the first team won, there is also a row in the dataset where team_1 and team_2 are swapped, and the first team lost."
   ]
  },
  {
   "cell_type": "code",
   "execution_count": 25,
   "id": "6c65653a-12a3-4a2d-ae0c-c5a67bda8334",
   "metadata": {
    "execution": {
     "iopub.execute_input": "2023-02-12T17:45:33.537937Z",
     "iopub.status.busy": "2023-02-12T17:45:33.537832Z",
     "iopub.status.idle": "2023-02-12T17:45:33.544248Z",
     "shell.execute_reply": "2023-02-12T17:45:33.543938Z",
     "shell.execute_reply.started": "2023-02-12T17:45:33.537926Z"
    },
    "tags": []
   },
   "outputs": [
    {
     "data": {
      "text/html": [
       "<div>\n",
       "<style scoped>\n",
       "    .dataframe tbody tr th:only-of-type {\n",
       "        vertical-align: middle;\n",
       "    }\n",
       "\n",
       "    .dataframe tbody tr th {\n",
       "        vertical-align: top;\n",
       "    }\n",
       "\n",
       "    .dataframe thead th {\n",
       "        text-align: right;\n",
       "    }\n",
       "</style>\n",
       "<table border=\"1\" class=\"dataframe\">\n",
       "  <thead>\n",
       "    <tr style=\"text-align: right;\">\n",
       "      <th></th>\n",
       "      <th>season</th>\n",
       "      <th>team_1</th>\n",
       "      <th>team_2</th>\n",
       "      <th>home</th>\n",
       "      <th>score_diff</th>\n",
       "      <th>score_1</th>\n",
       "      <th>score_2</th>\n",
       "      <th>won</th>\n",
       "    </tr>\n",
       "  </thead>\n",
       "  <tbody>\n",
       "    <tr>\n",
       "      <th>0</th>\n",
       "      <td>1985</td>\n",
       "      <td>3745</td>\n",
       "      <td>6664</td>\n",
       "      <td>0</td>\n",
       "      <td>17</td>\n",
       "      <td>81</td>\n",
       "      <td>64</td>\n",
       "      <td>1</td>\n",
       "    </tr>\n",
       "    <tr>\n",
       "      <th>199</th>\n",
       "      <td>1985</td>\n",
       "      <td>3745</td>\n",
       "      <td>6664</td>\n",
       "      <td>1</td>\n",
       "      <td>3</td>\n",
       "      <td>73</td>\n",
       "      <td>70</td>\n",
       "      <td>1</td>\n",
       "    </tr>\n",
       "    <tr>\n",
       "      <th>156089</th>\n",
       "      <td>1985</td>\n",
       "      <td>6664</td>\n",
       "      <td>3745</td>\n",
       "      <td>1</td>\n",
       "      <td>-17</td>\n",
       "      <td>64</td>\n",
       "      <td>81</td>\n",
       "      <td>0</td>\n",
       "    </tr>\n",
       "    <tr>\n",
       "      <th>156288</th>\n",
       "      <td>1985</td>\n",
       "      <td>6664</td>\n",
       "      <td>3745</td>\n",
       "      <td>0</td>\n",
       "      <td>-3</td>\n",
       "      <td>70</td>\n",
       "      <td>73</td>\n",
       "      <td>0</td>\n",
       "    </tr>\n",
       "  </tbody>\n",
       "</table>\n",
       "</div>"
      ],
      "text/plain": [
       "        season  team_1  team_2  home  score_diff  score_1  score_2  won\n",
       "0         1985    3745    6664     0          17       81       64    1\n",
       "199       1985    3745    6664     1           3       73       70    1\n",
       "156089    1985    6664    3745     1         -17       64       81    0\n",
       "156288    1985    6664    3745     0          -3       70       73    0"
      ]
     },
     "execution_count": 25,
     "metadata": {},
     "output_type": "execute_result"
    }
   ],
   "source": [
    "games_season.loc[(games_season.season==1985) &\n",
    "                 (((games_season.team_1==3745) & (games_season.team_2==6664))\n",
    "                  |\n",
    "                  ((games_season.team_1==6664) & (games_season.team_2==3745)))]"
   ]
  },
  {
   "cell_type": "code",
   "execution_count": 26,
   "id": "07c5e046-8100-41a2-9d0b-b5648f90d9bd",
   "metadata": {
    "execution": {
     "iopub.execute_input": "2023-02-12T17:45:33.544719Z",
     "iopub.status.busy": "2023-02-12T17:45:33.544620Z",
     "iopub.status.idle": "2023-02-12T17:45:33.549591Z",
     "shell.execute_reply": "2023-02-12T17:45:33.549366Z",
     "shell.execute_reply.started": "2023-02-12T17:45:33.544709Z"
    },
    "tags": []
   },
   "outputs": [
    {
     "data": {
      "text/html": [
       "<div>\n",
       "<style scoped>\n",
       "    .dataframe tbody tr th:only-of-type {\n",
       "        vertical-align: middle;\n",
       "    }\n",
       "\n",
       "    .dataframe tbody tr th {\n",
       "        vertical-align: top;\n",
       "    }\n",
       "\n",
       "    .dataframe thead th {\n",
       "        text-align: right;\n",
       "    }\n",
       "</style>\n",
       "<table border=\"1\" class=\"dataframe\">\n",
       "  <thead>\n",
       "    <tr style=\"text-align: right;\">\n",
       "      <th></th>\n",
       "      <th>season</th>\n",
       "      <th>team_1</th>\n",
       "      <th>team_2</th>\n",
       "      <th>home</th>\n",
       "      <th>seed_diff</th>\n",
       "      <th>score_diff</th>\n",
       "      <th>score_1</th>\n",
       "      <th>score_2</th>\n",
       "      <th>won</th>\n",
       "    </tr>\n",
       "  </thead>\n",
       "  <tbody>\n",
       "    <tr>\n",
       "      <th>0</th>\n",
       "      <td>1985</td>\n",
       "      <td>288</td>\n",
       "      <td>73</td>\n",
       "      <td>0</td>\n",
       "      <td>-3</td>\n",
       "      <td>-9</td>\n",
       "      <td>41</td>\n",
       "      <td>50</td>\n",
       "      <td>0</td>\n",
       "    </tr>\n",
       "    <tr>\n",
       "      <th>1</th>\n",
       "      <td>1985</td>\n",
       "      <td>5929</td>\n",
       "      <td>73</td>\n",
       "      <td>0</td>\n",
       "      <td>4</td>\n",
       "      <td>6</td>\n",
       "      <td>61</td>\n",
       "      <td>55</td>\n",
       "      <td>1</td>\n",
       "    </tr>\n",
       "    <tr>\n",
       "      <th>2</th>\n",
       "      <td>1985</td>\n",
       "      <td>9884</td>\n",
       "      <td>73</td>\n",
       "      <td>0</td>\n",
       "      <td>5</td>\n",
       "      <td>-4</td>\n",
       "      <td>59</td>\n",
       "      <td>63</td>\n",
       "      <td>0</td>\n",
       "    </tr>\n",
       "    <tr>\n",
       "      <th>3</th>\n",
       "      <td>1985</td>\n",
       "      <td>73</td>\n",
       "      <td>288</td>\n",
       "      <td>0</td>\n",
       "      <td>3</td>\n",
       "      <td>9</td>\n",
       "      <td>50</td>\n",
       "      <td>41</td>\n",
       "      <td>1</td>\n",
       "    </tr>\n",
       "    <tr>\n",
       "      <th>4</th>\n",
       "      <td>1985</td>\n",
       "      <td>3920</td>\n",
       "      <td>410</td>\n",
       "      <td>0</td>\n",
       "      <td>1</td>\n",
       "      <td>-9</td>\n",
       "      <td>54</td>\n",
       "      <td>63</td>\n",
       "      <td>0</td>\n",
       "    </tr>\n",
       "    <tr>\n",
       "      <th>...</th>\n",
       "      <td>...</td>\n",
       "      <td>...</td>\n",
       "      <td>...</td>\n",
       "      <td>...</td>\n",
       "      <td>...</td>\n",
       "      <td>...</td>\n",
       "      <td>...</td>\n",
       "      <td>...</td>\n",
       "      <td>...</td>\n",
       "    </tr>\n",
       "    <tr>\n",
       "      <th>4229</th>\n",
       "      <td>2017</td>\n",
       "      <td>10120</td>\n",
       "      <td>10696</td>\n",
       "      <td>0</td>\n",
       "      <td>-1</td>\n",
       "      <td>-10</td>\n",
       "      <td>74</td>\n",
       "      <td>84</td>\n",
       "      <td>0</td>\n",
       "    </tr>\n",
       "    <tr>\n",
       "      <th>4230</th>\n",
       "      <td>2017</td>\n",
       "      <td>320</td>\n",
       "      <td>10818</td>\n",
       "      <td>0</td>\n",
       "      <td>9</td>\n",
       "      <td>-2</td>\n",
       "      <td>71</td>\n",
       "      <td>73</td>\n",
       "      <td>0</td>\n",
       "    </tr>\n",
       "    <tr>\n",
       "      <th>4231</th>\n",
       "      <td>2017</td>\n",
       "      <td>2910</td>\n",
       "      <td>10818</td>\n",
       "      <td>0</td>\n",
       "      <td>8</td>\n",
       "      <td>-25</td>\n",
       "      <td>66</td>\n",
       "      <td>91</td>\n",
       "      <td>0</td>\n",
       "    </tr>\n",
       "    <tr>\n",
       "      <th>4232</th>\n",
       "      <td>2017</td>\n",
       "      <td>3300</td>\n",
       "      <td>10818</td>\n",
       "      <td>0</td>\n",
       "      <td>10</td>\n",
       "      <td>24</td>\n",
       "      <td>83</td>\n",
       "      <td>59</td>\n",
       "      <td>1</td>\n",
       "    </tr>\n",
       "    <tr>\n",
       "      <th>4233</th>\n",
       "      <td>2017</td>\n",
       "      <td>4973</td>\n",
       "      <td>10818</td>\n",
       "      <td>0</td>\n",
       "      <td>5</td>\n",
       "      <td>-11</td>\n",
       "      <td>65</td>\n",
       "      <td>76</td>\n",
       "      <td>0</td>\n",
       "    </tr>\n",
       "  </tbody>\n",
       "</table>\n",
       "<p>4234 rows × 9 columns</p>\n",
       "</div>"
      ],
      "text/plain": [
       "      season  team_1  team_2  home  seed_diff  score_diff  score_1  score_2  \\\n",
       "0       1985     288      73     0         -3          -9       41       50   \n",
       "1       1985    5929      73     0          4           6       61       55   \n",
       "2       1985    9884      73     0          5          -4       59       63   \n",
       "3       1985      73     288     0          3           9       50       41   \n",
       "4       1985    3920     410     0          1          -9       54       63   \n",
       "...      ...     ...     ...   ...        ...         ...      ...      ...   \n",
       "4229    2017   10120   10696     0         -1         -10       74       84   \n",
       "4230    2017     320   10818     0          9          -2       71       73   \n",
       "4231    2017    2910   10818     0          8         -25       66       91   \n",
       "4232    2017    3300   10818     0         10          24       83       59   \n",
       "4233    2017    4973   10818     0          5         -11       65       76   \n",
       "\n",
       "      won  \n",
       "0       0  \n",
       "1       1  \n",
       "2       0  \n",
       "3       1  \n",
       "4       0  \n",
       "...   ...  \n",
       "4229    0  \n",
       "4230    0  \n",
       "4231    0  \n",
       "4232    1  \n",
       "4233    0  \n",
       "\n",
       "[4234 rows x 9 columns]"
      ]
     },
     "execution_count": 26,
     "metadata": {},
     "output_type": "execute_result"
    }
   ],
   "source": [
    "games_tourney"
   ]
  },
  {
   "cell_type": "code",
   "execution_count": 27,
   "id": "9523f6fd-7eac-4417-9fe1-239e635cee66",
   "metadata": {
    "execution": {
     "iopub.execute_input": "2023-02-12T17:45:33.550087Z",
     "iopub.status.busy": "2023-02-12T17:45:33.549905Z",
     "iopub.status.idle": "2023-02-12T17:45:33.555045Z",
     "shell.execute_reply": "2023-02-12T17:45:33.554792Z",
     "shell.execute_reply.started": "2023-02-12T17:45:33.550077Z"
    },
    "tags": []
   },
   "outputs": [
    {
     "data": {
      "text/html": [
       "<div>\n",
       "<style scoped>\n",
       "    .dataframe tbody tr th:only-of-type {\n",
       "        vertical-align: middle;\n",
       "    }\n",
       "\n",
       "    .dataframe tbody tr th {\n",
       "        vertical-align: top;\n",
       "    }\n",
       "\n",
       "    .dataframe thead th {\n",
       "        text-align: right;\n",
       "    }\n",
       "</style>\n",
       "<table border=\"1\" class=\"dataframe\">\n",
       "  <thead>\n",
       "    <tr style=\"text-align: right;\">\n",
       "      <th></th>\n",
       "      <th>season</th>\n",
       "      <th>team_1</th>\n",
       "      <th>team_2</th>\n",
       "      <th>home</th>\n",
       "      <th>seed_diff</th>\n",
       "      <th>score_diff</th>\n",
       "      <th>score_1</th>\n",
       "      <th>score_2</th>\n",
       "      <th>won</th>\n",
       "    </tr>\n",
       "  </thead>\n",
       "  <tbody>\n",
       "    <tr>\n",
       "      <th>0</th>\n",
       "      <td>1985</td>\n",
       "      <td>288</td>\n",
       "      <td>73</td>\n",
       "      <td>0</td>\n",
       "      <td>-3</td>\n",
       "      <td>-9</td>\n",
       "      <td>41</td>\n",
       "      <td>50</td>\n",
       "      <td>0</td>\n",
       "    </tr>\n",
       "    <tr>\n",
       "      <th>3</th>\n",
       "      <td>1985</td>\n",
       "      <td>73</td>\n",
       "      <td>288</td>\n",
       "      <td>0</td>\n",
       "      <td>3</td>\n",
       "      <td>9</td>\n",
       "      <td>50</td>\n",
       "      <td>41</td>\n",
       "      <td>1</td>\n",
       "    </tr>\n",
       "  </tbody>\n",
       "</table>\n",
       "</div>"
      ],
      "text/plain": [
       "   season  team_1  team_2  home  seed_diff  score_diff  score_1  score_2  won\n",
       "0    1985     288      73     0         -3          -9       41       50    0\n",
       "3    1985      73     288     0          3           9       50       41    1"
      ]
     },
     "execution_count": 27,
     "metadata": {},
     "output_type": "execute_result"
    }
   ],
   "source": [
    "games_tourney.loc[(games_tourney.season==1985) &\n",
    "                 (((games_tourney.team_1==288) & (games_tourney.team_2==73))\n",
    "                  |\n",
    "                  ((games_tourney.team_1==73) & (games_tourney.team_2==288)))]"
   ]
  },
  {
   "cell_type": "markdown",
   "id": "ea7b9556-97a8-46bc-9335-7d175e07c61d",
   "metadata": {},
   "source": [
    "## Build the model"
   ]
  },
  {
   "cell_type": "markdown",
   "id": "e2579d53-a0ea-4d13-8b4e-b3973c600516",
   "metadata": {},
   "source": [
    "Here is the model from lessons 1 and 2, defined in a single code chunk. This is a very basic keras regression model, with one input and one output. You could use this model for any regression problem with a single predictor and a single outcome."
   ]
  },
  {
   "cell_type": "code",
   "execution_count": 28,
   "id": "664cf2b4-2a9d-48ab-9438-e4b0219e1933",
   "metadata": {
    "execution": {
     "iopub.execute_input": "2023-02-12T17:45:33.555593Z",
     "iopub.status.busy": "2023-02-12T17:45:33.555404Z",
     "iopub.status.idle": "2023-02-12T17:45:33.564004Z",
     "shell.execute_reply": "2023-02-12T17:45:33.563755Z",
     "shell.execute_reply.started": "2023-02-12T17:45:33.555583Z"
    },
    "tags": []
   },
   "outputs": [],
   "source": [
    "input_tensor = Input(shape=(1,))\n",
    "output_tensor = Dense(1)(input_tensor)\n",
    "model = Model(input_tensor, output_tensor)\n",
    "model.compile(optimizer='adam', loss='mae')"
   ]
  },
  {
   "cell_type": "markdown",
   "id": "74fad440-dba6-471d-a00d-f51886947228",
   "metadata": {},
   "source": [
    "## Fit the model"
   ]
  },
  {
   "cell_type": "code",
   "execution_count": 29,
   "id": "90e97067-17f6-47fc-9b29-74019c7210c5",
   "metadata": {
    "execution": {
     "iopub.execute_input": "2023-02-12T17:45:33.564581Z",
     "iopub.status.busy": "2023-02-12T17:45:33.564349Z",
     "iopub.status.idle": "2023-02-12T17:45:34.289828Z",
     "shell.execute_reply": "2023-02-12T17:45:34.289561Z",
     "shell.execute_reply.started": "2023-02-12T17:45:33.564570Z"
    },
    "tags": []
   },
   "outputs": [
    {
     "name": "stdout",
     "output_type": "stream",
     "text": [
      "53/53 [==============================] - 1s 2ms/step - loss: 9.4272 - val_loss: 9.2398\n"
     ]
    },
    {
     "data": {
      "text/plain": [
       "<keras.callbacks.History at 0x7fbae8383880>"
      ]
     },
     "execution_count": 29,
     "metadata": {},
     "output_type": "execute_result"
    }
   ],
   "source": [
    "model.fit(games_tourney['seed_diff'],\n",
    "          games_tourney['score_diff'],\n",
    "          batch_size=64,\n",
    "          validation_split=.20,\n",
    "          verbose=True)"
   ]
  },
  {
   "cell_type": "markdown",
   "id": "6a4cc406-27a6-4467-8d63-eff6baf8367a",
   "metadata": {},
   "source": [
    "## Evaluate the model"
   ]
  },
  {
   "cell_type": "code",
   "execution_count": 30,
   "id": "308218fd-7ff6-4316-ab58-da94f2722a3b",
   "metadata": {
    "execution": {
     "iopub.execute_input": "2023-02-12T17:45:34.290315Z",
     "iopub.status.busy": "2023-02-12T17:45:34.290211Z",
     "iopub.status.idle": "2023-02-12T17:45:34.375260Z",
     "shell.execute_reply": "2023-02-12T17:45:34.374994Z",
     "shell.execute_reply.started": "2023-02-12T17:45:34.290304Z"
    },
    "tags": []
   },
   "outputs": [
    {
     "name": "stdout",
     "output_type": "stream",
     "text": [
      "133/133 [==============================] - 0s 469us/step - loss: 9.3617\n"
     ]
    },
    {
     "data": {
      "text/plain": [
       "9.36170768737793"
      ]
     },
     "execution_count": 30,
     "metadata": {},
     "output_type": "execute_result"
    }
   ],
   "source": [
    "model.evaluate(games_tourney['seed_diff'],\n",
    "               games_tourney['score_diff'])"
   ]
  },
  {
   "cell_type": "markdown",
   "id": "0b1adc8a-a005-484b-a044-911d3057c0b6",
   "metadata": {
    "tags": []
   },
   "source": [
    "## Exercises"
   ]
  },
  {
   "cell_type": "markdown",
   "id": "a0629e79-cbd0-4e55-9b98-6c5f992210d1",
   "metadata": {},
   "source": [
    "### Fit the model to the tournament basketball data\n",
    "\n",
    "Now that the model is compiled, you are ready to fit it to some data!\n",
    "\n",
    "In this exercise, you'll use a dataset of scores from US College Basketball tournament games. Each row of the dataset has the team ids: team_1 and team_2, as integers. It also has the seed difference between the teams (seeds are assigned by the tournament committee and represent a ranking of how strong the teams are) and the score difference of the game (e.g. if team_1 wins by 5 points, the score difference is 5).\n",
    "\n",
    "To fit the model, you provide a matrix of X variables (in this case one column: the seed difference) and a matrix of Y variables (in this case one column: the score difference).\n",
    "\n",
    "The games_tourney DataFrame along with the compiled model object is available in your workspace."
   ]
  },
  {
   "cell_type": "code",
   "execution_count": 31,
   "id": "df274931-13b4-4f23-be4d-5e06e7f33fa3",
   "metadata": {
    "execution": {
     "iopub.execute_input": "2023-02-12T17:45:34.375745Z",
     "iopub.status.busy": "2023-02-12T17:45:34.375637Z",
     "iopub.status.idle": "2023-02-12T17:45:34.548133Z",
     "shell.execute_reply": "2023-02-12T17:45:34.547777Z",
     "shell.execute_reply.started": "2023-02-12T17:45:34.375734Z"
    },
    "tags": []
   },
   "outputs": [],
   "source": [
    "from sklearn.model_selection import train_test_split\n",
    "games_tourney_train, games_tourney_test = train_test_split(games_tourney[['seed_diff', 'score_diff']], test_size=0.2)"
   ]
  },
  {
   "cell_type": "code",
   "execution_count": 32,
   "id": "f3917d8f-4e44-448b-af6b-21ab70b837c8",
   "metadata": {
    "execution": {
     "iopub.execute_input": "2023-02-12T17:45:34.548655Z",
     "iopub.status.busy": "2023-02-12T17:45:34.548547Z",
     "iopub.status.idle": "2023-02-12T17:45:34.609922Z",
     "shell.execute_reply": "2023-02-12T17:45:34.609670Z",
     "shell.execute_reply.started": "2023-02-12T17:45:34.548644Z"
    },
    "tags": []
   },
   "outputs": [
    {
     "name": "stdout",
     "output_type": "stream",
     "text": [
      "24/24 [==============================] - 0s 2ms/step - loss: 9.3917 - val_loss: 9.4022\n"
     ]
    },
    {
     "data": {
      "text/plain": [
       "<keras.callbacks.History at 0x7fba19497e80>"
      ]
     },
     "execution_count": 32,
     "metadata": {},
     "output_type": "execute_result"
    }
   ],
   "source": [
    "# Now fit the model\n",
    "model.fit(games_tourney_train['seed_diff'], games_tourney_train['score_diff'],\n",
    "          epochs=1,\n",
    "          batch_size=128,\n",
    "          validation_split=.1,\n",
    "          verbose=True)"
   ]
  },
  {
   "cell_type": "markdown",
   "id": "06b6ea6d-3b43-4557-afdf-4eafb3db5a96",
   "metadata": {},
   "source": [
    "### Evaluate the model on a test set\n",
    "\n",
    "After fitting the model, you can evaluate it on new data. You will give the model a new X matrix (also called test data), allow it to make predictions, and then compare to the known y variable (also called target data).\n",
    "\n",
    "In this case, you'll use data from the post-season tournament to evaluate your model. The tournament games happen after the regular season games you used to train our model, and are therefore a good evaluation of how well your model performs out-of-sample.\n",
    "\n",
    "The games_tourney_test DataFrame along with the fitted model object is available in your workspace."
   ]
  },
  {
   "cell_type": "code",
   "execution_count": 33,
   "id": "7d677d17-e011-45ae-8369-b43619b8ad35",
   "metadata": {
    "execution": {
     "iopub.execute_input": "2023-02-12T17:45:34.610376Z",
     "iopub.status.busy": "2023-02-12T17:45:34.610275Z",
     "iopub.status.idle": "2023-02-12T17:45:34.641998Z",
     "shell.execute_reply": "2023-02-12T17:45:34.641715Z",
     "shell.execute_reply.started": "2023-02-12T17:45:34.610366Z"
    },
    "tags": []
   },
   "outputs": [
    {
     "name": "stdout",
     "output_type": "stream",
     "text": [
      "9.153529167175293\n"
     ]
    }
   ],
   "source": [
    "# Evaluate the model on the test data\n",
    "print(model.evaluate(games_tourney_test['seed_diff'], games_tourney_test['score_diff'], verbose=False))"
   ]
  }
 ],
 "metadata": {
  "kernelspec": {
   "display_name": "Python 3 (ipykernel)",
   "language": "python",
   "name": "python3"
  },
  "language_info": {
   "codemirror_mode": {
    "name": "ipython",
    "version": 3
   },
   "file_extension": ".py",
   "mimetype": "text/x-python",
   "name": "python",
   "nbconvert_exporter": "python",
   "pygments_lexer": "ipython3",
   "version": "3.9.15"
  },
  "toc-autonumbering": true
 },
 "nbformat": 4,
 "nbformat_minor": 5
}
