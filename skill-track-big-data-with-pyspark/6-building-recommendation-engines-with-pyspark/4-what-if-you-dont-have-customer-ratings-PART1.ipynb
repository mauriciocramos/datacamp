{
 "cells": [
  {
   "cell_type": "markdown",
   "id": "87fd9394-9945-4ab4-85a4-4f3c73a2a2ff",
   "metadata": {
    "tags": []
   },
   "source": [
    "# Setup"
   ]
  },
  {
   "cell_type": "code",
   "execution_count": 1,
   "id": "bbe625f4-f805-41e3-a628-393a366e584c",
   "metadata": {
    "execution": {
     "iopub.execute_input": "2023-05-08T15:52:26.337902Z",
     "iopub.status.busy": "2023-05-08T15:52:26.337809Z",
     "iopub.status.idle": "2023-05-08T15:52:26.821697Z",
     "shell.execute_reply": "2023-05-08T15:52:26.821369Z",
     "shell.execute_reply.started": "2023-05-08T15:52:26.337890Z"
    },
    "tags": []
   },
   "outputs": [],
   "source": [
    "# base\n",
    "import matplotlib.pyplot as plt\n",
    "plt.style.use('dark_background')\n",
    "import seaborn as sns\n",
    "import pandas as pd\n",
    "import numpy as np\n",
    "import datetime"
   ]
  },
  {
   "cell_type": "code",
   "execution_count": 2,
   "id": "8a468230-0925-47d4-bcff-d6113dff4b10",
   "metadata": {
    "execution": {
     "iopub.execute_input": "2023-05-08T15:52:26.822228Z",
     "iopub.status.busy": "2023-05-08T15:52:26.822098Z",
     "iopub.status.idle": "2023-05-08T15:52:26.868600Z",
     "shell.execute_reply": "2023-05-08T15:52:26.868195Z",
     "shell.execute_reply.started": "2023-05-08T15:52:26.822218Z"
    },
    "tags": []
   },
   "outputs": [],
   "source": [
    "import sys\n",
    "sys.path.insert(1, '/home/mauricio/code/mcr')\n",
    "from mcr.util import glimpse, plot_value_counts, plot_value_counts_timeseries, missing_report, plot_missing, plot_unique, plot_duplicates, size\n",
    "from mcr.spark import roem"
   ]
  },
  {
   "cell_type": "code",
   "execution_count": 3,
   "id": "66c4129c-b82c-43f7-a495-65b4452b54ed",
   "metadata": {
    "execution": {
     "iopub.execute_input": "2023-05-08T15:52:26.869119Z",
     "iopub.status.busy": "2023-05-08T15:52:26.868969Z",
     "iopub.status.idle": "2023-05-08T15:52:28.505371Z",
     "shell.execute_reply": "2023-05-08T15:52:28.505090Z",
     "shell.execute_reply.started": "2023-05-08T15:52:26.869108Z"
    },
    "tags": []
   },
   "outputs": [
    {
     "name": "stderr",
     "output_type": "stream",
     "text": [
      "23/05/08 12:52:27 WARN Utils: Your hostname, rig resolves to a loopback address: 127.0.1.1; using 192.168.0.102 instead (on interface enp6s0)\n",
      "23/05/08 12:52:27 WARN Utils: Set SPARK_LOCAL_IP if you need to bind to another address\n",
      "Setting default log level to \"WARN\".\n",
      "To adjust logging level use sc.setLogLevel(newLevel). For SparkR, use setLogLevel(newLevel).\n",
      "23/05/08 12:52:27 WARN NativeCodeLoader: Unable to load native-hadoop library for your platform... using builtin-java classes where applicable\n",
      "23/05/08 12:52:28 WARN Utils: Service 'SparkUI' could not bind on port 4040. Attempting port 4041.\n"
     ]
    },
    {
     "data": {
      "text/plain": [
       "[('spark.executor.memory', '2g'),\n",
       " ('spark.executor.id', 'driver'),\n",
       " ('spark.driver.host', '192.168.0.102'),\n",
       " ('spark.app.name', 'pyspark-shell'),\n",
       " ('spark.app.id', 'local-1683561148303'),\n",
       " ('spark.driver.extraJavaOptions',\n",
       "  '-Djava.net.preferIPv6Addresses=false -XX:+IgnoreUnrecognizedVMOptions --add-opens=java.base/java.lang=ALL-UNNAMED --add-opens=java.base/java.lang.invoke=ALL-UNNAMED --add-opens=java.base/java.lang.reflect=ALL-UNNAMED --add-opens=java.base/java.io=ALL-UNNAMED --add-opens=java.base/java.net=ALL-UNNAMED --add-opens=java.base/java.nio=ALL-UNNAMED --add-opens=java.base/java.util=ALL-UNNAMED --add-opens=java.base/java.util.concurrent=ALL-UNNAMED --add-opens=java.base/java.util.concurrent.atomic=ALL-UNNAMED --add-opens=java.base/sun.nio.ch=ALL-UNNAMED --add-opens=java.base/sun.nio.cs=ALL-UNNAMED --add-opens=java.base/sun.security.action=ALL-UNNAMED --add-opens=java.base/sun.util.calendar=ALL-UNNAMED --add-opens=java.security.jgss/sun.security.krb5=ALL-UNNAMED -Djdk.reflect.useDirectMethodHandle=false'),\n",
       " ('spark.rdd.compress', 'True'),\n",
       " ('spark.serializer.objectStreamReset', '100'),\n",
       " ('spark.executor.cores', '16'),\n",
       " ('spark.master', 'local[*]'),\n",
       " ('spark.driver.port', '46475'),\n",
       " ('spark.submit.pyFiles', ''),\n",
       " ('spark.submit.deployMode', 'client'),\n",
       " ('spark.ui.showConsoleProgress', 'true'),\n",
       " ('spark.app.submitTime', '1683561147798'),\n",
       " ('spark.executor.extraJavaOptions',\n",
       "  '-Djava.net.preferIPv6Addresses=false -XX:+IgnoreUnrecognizedVMOptions --add-opens=java.base/java.lang=ALL-UNNAMED --add-opens=java.base/java.lang.invoke=ALL-UNNAMED --add-opens=java.base/java.lang.reflect=ALL-UNNAMED --add-opens=java.base/java.io=ALL-UNNAMED --add-opens=java.base/java.net=ALL-UNNAMED --add-opens=java.base/java.nio=ALL-UNNAMED --add-opens=java.base/java.util=ALL-UNNAMED --add-opens=java.base/java.util.concurrent=ALL-UNNAMED --add-opens=java.base/java.util.concurrent.atomic=ALL-UNNAMED --add-opens=java.base/sun.nio.ch=ALL-UNNAMED --add-opens=java.base/sun.nio.cs=ALL-UNNAMED --add-opens=java.base/sun.security.action=ALL-UNNAMED --add-opens=java.base/sun.util.calendar=ALL-UNNAMED --add-opens=java.security.jgss/sun.security.krb5=ALL-UNNAMED -Djdk.reflect.useDirectMethodHandle=false'),\n",
       " ('spark.app.startTime', '1683561147855')]"
      ]
     },
     "execution_count": 3,
     "metadata": {},
     "output_type": "execute_result"
    }
   ],
   "source": [
    "from pyspark import SparkContext\n",
    "# SparkContext.getOrCreate(conf: Optional[pyspark.conf.SparkConf] = None) -> 'SparkContext'\n",
    "SparkContext.setSystemProperty('spark.executor.memory', '2g')\n",
    "SparkContext.setSystemProperty('spark.executor.cores', '16')\n",
    "sc = SparkContext.getOrCreate()\n",
    "# sc.setLogLevel('DEBUG')\n",
    "# https://intellipaat.com/community/18452/spark-gives-a-stackoverflowerror-when-training-using-als\n",
    "sc.setCheckpointDir('checkpoint/')\n",
    "sc.getConf().getAll()"
   ]
  },
  {
   "cell_type": "code",
   "execution_count": 4,
   "id": "1b5c21a4-afe5-472c-a997-610b22cdb045",
   "metadata": {
    "execution": {
     "iopub.execute_input": "2023-05-08T15:52:28.506660Z",
     "iopub.status.busy": "2023-05-08T15:52:28.506398Z",
     "iopub.status.idle": "2023-05-08T15:52:28.569725Z",
     "shell.execute_reply": "2023-05-08T15:52:28.569381Z",
     "shell.execute_reply.started": "2023-05-08T15:52:28.506648Z"
    },
    "tags": []
   },
   "outputs": [
    {
     "name": "stdout",
     "output_type": "stream",
     "text": [
      "3.4.0\n"
     ]
    }
   ],
   "source": [
    "from pyspark.sql import functions as F\n",
    "from pyspark.sql.types import *\n",
    "from pyspark.sql import SparkSession\n",
    "spark = SparkSession.builder.master('local[*]').appName('spark_application').getOrCreate()\n",
    "print(spark.version)"
   ]
  },
  {
   "cell_type": "markdown",
   "id": "8b3e0f47-ca5c-427f-a698-c699bc212932",
   "metadata": {},
   "source": [
    "# Introduction to the Million Songs Dataset\n",
    "\n",
    "Thierry Bertin-Mahieux, Daniel P.W. Ellis, Brian Whitman, and Paul Lamere. The Million Song Dataset. In Proceedings of the 12th International Society for Music Information Retrieval Conference (SIMIR 2012), 2011.\n",
    "\n",
    "You're going to be using one file of this dataset called The Echo Nest Taste profile dataset. It contains information on over 1 million users including the number of times they've played nearly 400,000 songs. This is more data than we can use for this course, so we will only be using a portion of.\n",
    "\n",
    "We'll first examine the data, get summary statistics, and then build and evaluate our model. One thing to note here is that because the use of implicit ratings causes ALS to calculate a level of confidence that a user likes a song based on the number of times they've played it, the matrix will need to include zeros for the songs that each user has not yet listened to. In case your data doesn't already include the zeros, we'll walk through how to do this."
   ]
  },
  {
   "cell_type": "code",
   "execution_count": 5,
   "id": "bf60d64a-1a17-4560-b2ac-75adf54d731a",
   "metadata": {
    "execution": {
     "iopub.execute_input": "2023-05-08T15:52:28.570218Z",
     "iopub.status.busy": "2023-05-08T15:52:28.570114Z",
     "iopub.status.idle": "2023-05-08T15:52:31.461186Z",
     "shell.execute_reply": "2023-05-08T15:52:31.460693Z",
     "shell.execute_reply.started": "2023-05-08T15:52:28.570207Z"
    },
    "tags": []
   },
   "outputs": [
    {
     "name": "stdout",
     "output_type": "stream",
     "text": [
      "root\n",
      " |-- userId: integer (nullable = true)\n",
      " |-- songId: integer (nullable = true)\n",
      " |-- num_plays: integer (nullable = true)\n",
      "\n",
      "+------+------+---------+\n",
      "|userId|songId|num_plays|\n",
      "+------+------+---------+\n",
      "|   148|   148|        0|\n",
      "|   243|   496|        0|\n",
      "|    31|   471|        0|\n",
      "+------+------+---------+\n",
      "only showing top 3 rows\n",
      "\n"
     ]
    },
    {
     "data": {
      "text/plain": [
       "234009"
      ]
     },
     "execution_count": 5,
     "metadata": {},
     "output_type": "execute_result"
    }
   ],
   "source": [
    "msd = spark.read.csv('msd_ratings_w_zeros_16JUL2018.csv',\n",
    "                     sep=',',\n",
    "                     header=True,\n",
    "                     inferSchema=True)\n",
    "msd.printSchema()\n",
    "msd.show(3)\n",
    "msd.count()"
   ]
  },
  {
   "cell_type": "code",
   "execution_count": 6,
   "id": "75487544-a256-4a39-b9f4-25eda47db75f",
   "metadata": {
    "execution": {
     "iopub.execute_input": "2023-05-08T15:52:31.461805Z",
     "iopub.status.busy": "2023-05-08T15:52:31.461643Z",
     "iopub.status.idle": "2023-05-08T15:52:31.463779Z",
     "shell.execute_reply": "2023-05-08T15:52:31.463449Z",
     "shell.execute_reply.started": "2023-05-08T15:52:31.461792Z"
    },
    "tags": []
   },
   "outputs": [],
   "source": [
    "# Why msd has duplicated rows by userId, songId that was not consolidated reducing rows from 234009 fot 78003 \n",
    "# Why without consolidation the ROEM is improved?\n",
    "# msd = msd.groupby(['userId', 'songId']).agg({'num_plays': 'sum'}).withColumnRenamed('sum(num_plays)', 'num_plays')"
   ]
  },
  {
   "cell_type": "code",
   "execution_count": 7,
   "id": "bb2f2d49-1904-4330-8e64-0fbcb08f03ef",
   "metadata": {
    "execution": {
     "iopub.execute_input": "2023-05-08T15:52:31.464289Z",
     "iopub.status.busy": "2023-05-08T15:52:31.464177Z",
     "iopub.status.idle": "2023-05-08T15:52:31.671017Z",
     "shell.execute_reply": "2023-05-08T15:52:31.670694Z",
     "shell.execute_reply.started": "2023-05-08T15:52:31.464278Z"
    },
    "tags": []
   },
   "outputs": [
    {
     "name": "stdout",
     "output_type": "stream",
     "text": [
      "+------+------+---------+\n",
      "|userId|songId|num_plays|\n",
      "+------+------+---------+\n",
      "|   148|   148|        0|\n",
      "|   243|   496|        0|\n",
      "|    31|   471|        0|\n",
      "+------+------+---------+\n",
      "only showing top 3 rows\n",
      "\n"
     ]
    },
    {
     "data": {
      "text/plain": [
       "234009"
      ]
     },
     "execution_count": 7,
     "metadata": {},
     "output_type": "execute_result"
    }
   ],
   "source": [
    "msd.show(3)\n",
    "msd.count()"
   ]
  },
  {
   "cell_type": "markdown",
   "id": "36752b01-1b9d-4481-a011-c97a660029ae",
   "metadata": {},
   "source": [
    "## Cross join intro"
   ]
  },
  {
   "cell_type": "code",
   "execution_count": 8,
   "id": "0ec3e55b-2c5e-4d63-9ede-1f58ad1660cc",
   "metadata": {
    "execution": {
     "iopub.execute_input": "2023-05-08T15:52:31.671623Z",
     "iopub.status.busy": "2023-05-08T15:52:31.671440Z",
     "iopub.status.idle": "2023-05-08T15:52:32.485860Z",
     "shell.execute_reply": "2023-05-08T15:52:32.485331Z",
     "shell.execute_reply.started": "2023-05-08T15:52:31.671611Z"
    },
    "tags": []
   },
   "outputs": [
    {
     "name": "stdout",
     "output_type": "stream",
     "text": [
      "+------+\n",
      "|userId|\n",
      "+------+\n",
      "|     0|\n",
      "|     1|\n",
      "|     2|\n",
      "+------+\n",
      "only showing top 3 rows\n",
      "\n"
     ]
    },
    {
     "data": {
      "text/plain": [
       "321"
      ]
     },
     "execution_count": 8,
     "metadata": {},
     "output_type": "execute_result"
    }
   ],
   "source": [
    "users = msd.select(\"userId\").distinct().orderBy('userId')\n",
    "users.show(3)\n",
    "users.count()"
   ]
  },
  {
   "cell_type": "code",
   "execution_count": 9,
   "id": "75f0875d-7446-4ac2-990f-056e7973cac8",
   "metadata": {
    "execution": {
     "iopub.execute_input": "2023-05-08T15:52:32.486800Z",
     "iopub.status.busy": "2023-05-08T15:52:32.486475Z",
     "iopub.status.idle": "2023-05-08T15:52:32.920189Z",
     "shell.execute_reply": "2023-05-08T15:52:32.919747Z",
     "shell.execute_reply.started": "2023-05-08T15:52:32.486778Z"
    },
    "tags": []
   },
   "outputs": [
    {
     "name": "stdout",
     "output_type": "stream",
     "text": [
      "+------+\n",
      "|songId|\n",
      "+------+\n",
      "|     0|\n",
      "|     1|\n",
      "|     2|\n",
      "+------+\n",
      "only showing top 3 rows\n",
      "\n"
     ]
    },
    {
     "data": {
      "text/plain": [
       "729"
      ]
     },
     "execution_count": 9,
     "metadata": {},
     "output_type": "execute_result"
    }
   ],
   "source": [
    "songs = msd.select(\"songId\").distinct().orderBy('songId')\n",
    "songs.show(3)\n",
    "songs.count()"
   ]
  },
  {
   "cell_type": "markdown",
   "id": "89d9561d-b834-4f7a-bb5b-19dc29a2a783",
   "metadata": {},
   "source": [
    "## Cross join output\n",
    "\n",
    "Returns the cartesian product with another DataFrame"
   ]
  },
  {
   "cell_type": "code",
   "execution_count": 10,
   "id": "b2b9f43d-6f97-40cc-b852-edd3fb343fe0",
   "metadata": {
    "execution": {
     "iopub.execute_input": "2023-05-08T15:52:32.921129Z",
     "iopub.status.busy": "2023-05-08T15:52:32.920810Z",
     "iopub.status.idle": "2023-05-08T15:52:33.519809Z",
     "shell.execute_reply": "2023-05-08T15:52:33.519313Z",
     "shell.execute_reply.started": "2023-05-08T15:52:32.921111Z"
    },
    "tags": []
   },
   "outputs": [
    {
     "name": "stdout",
     "output_type": "stream",
     "text": [
      "+------+------+\n",
      "|userId|songId|\n",
      "+------+------+\n",
      "|   148|   148|\n",
      "|   243|   148|\n",
      "|    31|   148|\n",
      "+------+------+\n",
      "only showing top 3 rows\n",
      "\n"
     ]
    },
    {
     "data": {
      "text/plain": [
       "234009"
      ]
     },
     "execution_count": 10,
     "metadata": {},
     "output_type": "execute_result"
    }
   ],
   "source": [
    "cross_join = users.crossJoin(songs)\n",
    "cross_join.show(3)\n",
    "cross_join.count()"
   ]
  },
  {
   "cell_type": "markdown",
   "id": "d20981d4-5f96-47c7-b866-91e9211121b5",
   "metadata": {},
   "source": [
    "## Joining back original ratings data"
   ]
  },
  {
   "cell_type": "code",
   "execution_count": 11,
   "id": "ac2f4b38-666f-48c5-88bf-90f58fbbc257",
   "metadata": {
    "execution": {
     "iopub.execute_input": "2023-05-08T15:52:33.520875Z",
     "iopub.status.busy": "2023-05-08T15:52:33.520465Z",
     "iopub.status.idle": "2023-05-08T15:52:34.446605Z",
     "shell.execute_reply": "2023-05-08T15:52:34.446256Z",
     "shell.execute_reply.started": "2023-05-08T15:52:33.520853Z"
    },
    "tags": []
   },
   "outputs": [
    {
     "name": "stdout",
     "output_type": "stream",
     "text": [
      "+------+------+---------+\n",
      "|userId|songId|num_plays|\n",
      "+------+------+---------+\n",
      "|     0|     0|        2|\n",
      "|     0|     0|        2|\n",
      "|     0|     0|        2|\n",
      "+------+------+---------+\n",
      "only showing top 3 rows\n",
      "\n"
     ]
    },
    {
     "data": {
      "text/plain": [
       "390015"
      ]
     },
     "execution_count": 11,
     "metadata": {},
     "output_type": "execute_result"
    }
   ],
   "source": [
    "msd = cross_join\\\n",
    "    .join(msd, [\"userId\", \"songId\"], \"left\").orderBy(['userId', 'songId'])\n",
    "msd.show(3)\n",
    "msd.count()"
   ]
  },
  {
   "cell_type": "markdown",
   "id": "60d300b2-8bfe-4c33-995d-6d38f77c2010",
   "metadata": {},
   "source": [
    "## Filling in with zero"
   ]
  },
  {
   "cell_type": "code",
   "execution_count": 12,
   "id": "528b748e-b483-44b2-91b0-85855bf555d7",
   "metadata": {
    "execution": {
     "iopub.execute_input": "2023-05-08T15:52:34.447276Z",
     "iopub.status.busy": "2023-05-08T15:52:34.447008Z",
     "iopub.status.idle": "2023-05-08T15:52:35.929383Z",
     "shell.execute_reply": "2023-05-08T15:52:35.928754Z",
     "shell.execute_reply.started": "2023-05-08T15:52:34.447264Z"
    },
    "tags": []
   },
   "outputs": [
    {
     "name": "stdout",
     "output_type": "stream",
     "text": [
      "+------+------+---------+\n",
      "|userId|songId|num_plays|\n",
      "+------+------+---------+\n",
      "|     0|     0|        2|\n",
      "|     0|     0|        2|\n",
      "|     0|     0|        2|\n",
      "+------+------+---------+\n",
      "only showing top 3 rows\n",
      "\n"
     ]
    }
   ],
   "source": [
    "msd = msd.fillna(0, subset='num_plays').persist()\n",
    "msd.show(3)"
   ]
  },
  {
   "cell_type": "markdown",
   "id": "0f04d794-55fa-4d88-87e1-eb885889e6a3",
   "metadata": {},
   "source": [
    "## Add zeros function"
   ]
  },
  {
   "cell_type": "code",
   "execution_count": 13,
   "id": "f99b516b-188d-408b-8099-84f8c5eca317",
   "metadata": {
    "execution": {
     "iopub.execute_input": "2023-05-08T15:52:35.932251Z",
     "iopub.status.busy": "2023-05-08T15:52:35.931968Z",
     "iopub.status.idle": "2023-05-08T15:52:35.935626Z",
     "shell.execute_reply": "2023-05-08T15:52:35.935117Z",
     "shell.execute_reply.started": "2023-05-08T15:52:35.932232Z"
    },
    "tags": []
   },
   "outputs": [],
   "source": [
    "def add_zeros(df, user_col, item_col):\n",
    "    # Extracts distinct users\n",
    "    users = df.select(user_col).distinct()\n",
    "    # Extracts distinct songs\n",
    "    songs = df.select(item_col).distinct()\n",
    "    # Joins users and songs, fills blanks with 0\n",
    "    cross_join = users.crossJoin(songs) \\\n",
    "    .join(df, [user_col, item_col], \"left\").fillna(0)\n",
    "    return cross_join"
   ]
  },
  {
   "cell_type": "markdown",
   "id": "c697b345-34d0-4a67-90f3-b21fe7fa9265",
   "metadata": {},
   "source": [
    "## Exercises"
   ]
  },
  {
   "cell_type": "markdown",
   "id": "c8092c48-19b2-422e-8c28-ff9dfc4e2db9",
   "metadata": {},
   "source": [
    "### MSD summary statistics"
   ]
  },
  {
   "cell_type": "code",
   "execution_count": 14,
   "id": "619057f2-4221-49bc-a3f8-f4f567242e5a",
   "metadata": {
    "execution": {
     "iopub.execute_input": "2023-05-08T15:52:35.936496Z",
     "iopub.status.busy": "2023-05-08T15:52:35.936225Z",
     "iopub.status.idle": "2023-05-08T15:52:37.435272Z",
     "shell.execute_reply": "2023-05-08T15:52:37.435000Z",
     "shell.execute_reply.started": "2023-05-08T15:52:35.936479Z"
    },
    "tags": []
   },
   "outputs": [
    {
     "name": "stdout",
     "output_type": "stream",
     "text": [
      "+------+------+---------+\n",
      "|userId|songId|num_plays|\n",
      "+------+------+---------+\n",
      "|     0|     0|        2|\n",
      "|     0|     0|        2|\n",
      "|     0|     0|        2|\n",
      "+------+------+---------+\n",
      "only showing top 3 rows\n",
      "\n",
      "Number of users:  321\n"
     ]
    },
    {
     "name": "stderr",
     "output_type": "stream",
     "text": [
      "[Stage 87:==========================================>          (160 + 16) / 200]\r"
     ]
    },
    {
     "name": "stdout",
     "output_type": "stream",
     "text": [
      "Number of songs:  729\n"
     ]
    },
    {
     "name": "stderr",
     "output_type": "stream",
     "text": [
      "                                                                                \r"
     ]
    }
   ],
   "source": [
    "# Look at the data\n",
    "msd.show(3)\n",
    "# Count the number of distinct userIds\n",
    "user_count = msd.select(\"userId\").distinct().count()\n",
    "print(\"Number of users: \", user_count)\n",
    "# Count the number of distinct songIds\n",
    "song_count = msd.select(\"songId\").distinct().count()\n",
    "print(\"Number of songs: \", song_count)"
   ]
  },
  {
   "cell_type": "code",
   "execution_count": 15,
   "id": "3f009e34-91b8-4835-9489-9fc93ba1f581",
   "metadata": {
    "execution": {
     "iopub.execute_input": "2023-05-08T15:52:37.435744Z",
     "iopub.status.busy": "2023-05-08T15:52:37.435642Z",
     "iopub.status.idle": "2023-05-08T15:52:38.849110Z",
     "shell.execute_reply": "2023-05-08T15:52:38.848660Z",
     "shell.execute_reply.started": "2023-05-08T15:52:37.435733Z"
    },
    "tags": []
   },
   "outputs": [
    {
     "name": "stdout",
     "output_type": "stream",
     "text": [
      "Minimum implicit ratings for a song: \n",
      "+----------+\n",
      "|min(count)|\n",
      "+----------+\n",
      "|         3|\n",
      "+----------+\n",
      "\n",
      "Average implicit ratings per song: \n",
      "+------------------+\n",
      "|        avg(count)|\n",
      "+------------------+\n",
      "|35.251063829787235|\n",
      "+------------------+\n",
      "\n",
      "Minimum implicit ratings from a user: \n",
      "+----------+\n",
      "|min(count)|\n",
      "+----------+\n",
      "|        21|\n",
      "+----------+\n",
      "\n",
      "Average implicit ratings per user: \n",
      "+-----------------+\n",
      "|       avg(count)|\n",
      "+-----------------+\n",
      "|77.42056074766356|\n",
      "+-----------------+\n",
      "\n"
     ]
    }
   ],
   "source": [
    "# Min num implicit ratings for a song\n",
    "print(\"Minimum implicit ratings for a song: \")\n",
    "msd.filter(F.col(\"num_plays\") > 0).groupBy(\"songId\").count().select(F.min(\"count\")).show()\n",
    "\n",
    "# Avg num implicit ratings per songs\n",
    "print(\"Average implicit ratings per song: \")\n",
    "msd.filter(F.col(\"num_plays\") > 0).groupBy(\"songId\").count().select(F.avg(\"count\")).show()\n",
    "\n",
    "# Min num implicit ratings from a user\n",
    "print(\"Minimum implicit ratings from a user: \")\n",
    "msd.filter(F.col(\"num_plays\") > 0).groupBy(\"userId\").count().select(F.min(\"count\")).show()\n",
    "\n",
    "# Avg num implicit ratings for users\n",
    "print(\"Average implicit ratings per user: \")\n",
    "msd.filter(F.col(\"num_plays\") > 0).groupBy(\"userId\").count().select(F.avg('count')).show()"
   ]
  },
  {
   "cell_type": "markdown",
   "id": "59661e88-ab86-496c-813a-2bb4dd4f56bf",
   "metadata": {},
   "source": [
    "> Users have at least 21 implicit ratings with an average of 77 and each song has at least 3 implicit ratings with an average of 35."
   ]
  },
  {
   "cell_type": "markdown",
   "id": "8cd97ecc-2d17-4eae-a0a1-a345a0450cd4",
   "metadata": {},
   "source": [
    "### Add zeros"
   ]
  },
  {
   "cell_type": "code",
   "execution_count": 16,
   "id": "34371332-d8db-4e5b-bc5f-26fad0d2538d",
   "metadata": {
    "execution": {
     "iopub.execute_input": "2023-05-08T15:52:38.849646Z",
     "iopub.status.busy": "2023-05-08T15:52:38.849538Z",
     "iopub.status.idle": "2023-05-08T15:52:39.591978Z",
     "shell.execute_reply": "2023-05-08T15:52:39.591713Z",
     "shell.execute_reply.started": "2023-05-08T15:52:38.849635Z"
    },
    "tags": []
   },
   "outputs": [
    {
     "name": "stdout",
     "output_type": "stream",
     "text": [
      "+-------------+---------+------+\n",
      "|num_purchases|productId|userId|\n",
      "+-------------+---------+------+\n",
      "|            1|      777|  2112|\n",
      "|           23|       44|     7|\n",
      "|            9|      227|  1132|\n",
      "|            2|     1981|   686|\n",
      "|            5|     2390|    42|\n",
      "|           21|     1662|    13|\n",
      "|            8|     1492|  2112|\n",
      "|           96|     1811|    22|\n",
      "+-------------+---------+------+\n",
      "\n"
     ]
    },
    {
     "data": {
      "text/plain": [
       "8"
      ]
     },
     "execution_count": 16,
     "metadata": {},
     "output_type": "execute_result"
    }
   ],
   "source": [
    "Z = pd.DataFrame(\n",
    "    {\n",
    "        \"num_purchases\": {0: 1, 1: 23, 2: 9, 3: 2, 4: 5, 5: 21, 6: 8, 7: 96},\n",
    "        \"productId\": {\n",
    "            0: 777,\n",
    "            1: 44,\n",
    "            2: 227,\n",
    "            3: 1981,\n",
    "            4: 2390,\n",
    "            5: 1662,\n",
    "            6: 1492,\n",
    "            7: 1811,\n",
    "        },\n",
    "        \"userId\": {0: 2112, 1: 7, 2: 1132, 3: 686, 4: 42, 5: 13, 6: 2112, 7: 22},\n",
    "    }\n",
    ")\n",
    "Z = spark.createDataFrame(Z)\n",
    "Z.show()\n",
    "Z.count()"
   ]
  },
  {
   "cell_type": "code",
   "execution_count": 17,
   "id": "e090dec3-2fc7-4fac-80f6-d0ca10b7537c",
   "metadata": {
    "execution": {
     "iopub.execute_input": "2023-05-08T15:52:39.592447Z",
     "iopub.status.busy": "2023-05-08T15:52:39.592340Z",
     "iopub.status.idle": "2023-05-08T15:52:40.536988Z",
     "shell.execute_reply": "2023-05-08T15:52:40.536709Z",
     "shell.execute_reply.started": "2023-05-08T15:52:39.592437Z"
    },
    "tags": []
   },
   "outputs": [
    {
     "name": "stdout",
     "output_type": "stream",
     "text": [
      "+------+---------+-------------+\n",
      "|userId|productId|num_purchases|\n",
      "+------+---------+-------------+\n",
      "|    13|      777|            0|\n",
      "|    42|      227|            0|\n",
      "|     7|      227|            0|\n",
      "|  1132|      777|            0|\n",
      "|  2112|      777|            1|\n",
      "|    22|      227|            0|\n",
      "|    13|       44|            0|\n",
      "|   686|      227|            0|\n",
      "|    22|      777|            0|\n",
      "|    42|      777|            0|\n",
      "|   686|       44|            0|\n",
      "|     7|       44|           23|\n",
      "|  2112|       44|            0|\n",
      "|   686|      777|            0|\n",
      "|     7|      777|            0|\n",
      "|  2112|      227|            0|\n",
      "|    22|       44|            0|\n",
      "|  1132|      227|            9|\n",
      "|    42|       44|            0|\n",
      "|  1132|       44|            0|\n",
      "+------+---------+-------------+\n",
      "only showing top 20 rows\n",
      "\n"
     ]
    },
    {
     "data": {
      "text/plain": [
       "56"
      ]
     },
     "execution_count": 17,
     "metadata": {},
     "output_type": "execute_result"
    }
   ],
   "source": [
    "# Extract distinct userIds and productIds\n",
    "users = Z.select(\"userId\").distinct()\n",
    "products = Z.select(\"productId\").distinct()\n",
    "\n",
    "# Cross join users and products\n",
    "cj = users.crossJoin(products)\n",
    "\n",
    "# Join cj and Z\n",
    "Z_expanded = cj.join(Z, [\"userId\", \"productId\"], \"left\").fillna(0)\n",
    "\n",
    "# View Z_expanded\n",
    "Z_expanded.show()\n",
    "Z_expanded.count()"
   ]
  },
  {
   "cell_type": "markdown",
   "id": "77da788f-1177-4c66-b407-23f69ddafc56",
   "metadata": {
    "tags": []
   },
   "source": [
    "# Evaluating implicit ratings models"
   ]
  },
  {
   "cell_type": "markdown",
   "id": "4146e826-c99f-4d81-a062-96d9ca9711b9",
   "metadata": {},
   "source": [
    "## Evaluating implicit ratings models\n",
    "Now that we have an implicit ratings dataset, let's discuss these types of models. The first thing you should know is that implicit ratings models have an additional hyperparameter called alpha. Alpha is an integer value that tells Spark how much each additional song play should add to the model's confidence that a user actually likes a song. Like the other hyperparameters, this will need to be tuned through cross validation. The challenge of these models is the evaluation. With explicit ratings, we used was the RMSE. It made sense in that situation because we could match predictions back to a true measure of user preference. In the case of implicit ratings."
   ]
  },
  {
   "cell_type": "markdown",
   "id": "71b6ce83-3dc5-4544-8c2f-60f3ac618cac",
   "metadata": {},
   "source": [
    "## Why RMSE worked before\n",
    "\n",
    "Predictions reflect actual ratings, RMSE makes sense here."
   ]
  },
  {
   "cell_type": "markdown",
   "id": "a3302f44-bcdb-4d6a-b86e-8ecd56dfe411",
   "metadata": {},
   "source": [
    "## Why RMSE doesn't work now\n",
    "\n",
    "Different metrics, RMSE doesn't make sense here.\n",
    "\n",
    "We don’t have a true measure of user preference. We only have the number of times a user listened to a song and a measure of how confident our model is that that they like that song. These aren't the same thing and calculating an RMSE between them doesn't make sense. However, using a test set, we can see if our model is giving high predictions to the songs that users have actually listened to. The logic being that if our model is returning a high prediction for a song that the respective user has actually listened to, then the predictions make sense, especially if they've listened to it more than once. We can measure this using the **Rank Ordering Error Metric (ROEM)** "
   ]
  },
  {
   "cell_type": "markdown",
   "id": "6370c5e5-8bce-4f04-a26f-8443a9904019",
   "metadata": {},
   "source": [
    "## (ROEM) Rank Ordering Error Metric\n",
    "\n",
    "$$ROEM = \\frac{\\sum_{u,i} r_{u,i}^t rank_{u,i}}{\\sum_{u,i} r_{u,i}^t}$$\n",
    "\n",
    ">  Unfortunately Spark hasn't implemented an evaluator metric like this, so you'll need to build it manually. An ROEM function will be provided to you in subsequent exercises."
   ]
  },
  {
   "cell_type": "markdown",
   "id": "98899a3f-eac2-40aa-83f8-f5738c6a02c1",
   "metadata": {
    "tags": []
   },
   "source": [
    "## ROEM bad predictions"
   ]
  },
  {
   "cell_type": "code",
   "execution_count": 18,
   "id": "d5bde68e-8f0c-4e34-b404-5cf0ace568ae",
   "metadata": {
    "execution": {
     "iopub.execute_input": "2023-05-08T15:52:40.537540Z",
     "iopub.status.busy": "2023-05-08T15:52:40.537375Z",
     "iopub.status.idle": "2023-05-08T15:52:40.701183Z",
     "shell.execute_reply": "2023-05-08T15:52:40.700837Z",
     "shell.execute_reply.started": "2023-05-08T15:52:40.537529Z"
    },
    "tags": []
   },
   "outputs": [
    {
     "name": "stdout",
     "output_type": "stream",
     "text": [
      "+------+------+-----+----------+\n",
      "|userId|songId|plays|prediction|\n",
      "+------+------+-----+----------+\n",
      "|   111|     9|    0|     0.999|\n",
      "|   111|   321|    0|      0.08|\n",
      "|   111|    22|    3|    1.0E-4|\n",
      "|   222|   821|    2|      0.88|\n",
      "|   222|    91|    2|      0.73|\n",
      "|   222|    84|    0|    3.0E-6|\n",
      "|   333|  2112|    0|       0.9|\n",
      "|   333|    42|    2|       0.8|\n",
      "|   333|     6|    0|      0.01|\n",
      "+------+------+-----+----------+\n",
      "\n"
     ]
    }
   ],
   "source": [
    "bad_predictions = spark.createDataFrame(pd.DataFrame(\n",
    "    columns=[\"userId\", \"songId\", \"plays\", \"prediction\"],\n",
    "    data=[\n",
    "        [111, 22, 3, 0.0001],\n",
    "        [111, 9, 0, 0.999],\n",
    "        [111, 321, 0, 0.08],\n",
    "        [222, 84, 0, 0.000003],\n",
    "        [222, 821, 2, 0.88],\n",
    "        [222, 91, 2, 0.73],\n",
    "        [333, 2112, 0, 0.90],\n",
    "        [333, 42, 2, 0.80],\n",
    "        [333, 6, 0, 0.01],\n",
    "    ],\n",
    ")).sort(['userId', 'prediction'], ascending=[True, False])\n",
    "bad_predictions.show()"
   ]
  },
  {
   "cell_type": "markdown",
   "id": "02c31515-90f5-40bf-b89f-3a1c21558b22",
   "metadata": {},
   "source": [
    "### Percent Rank"
   ]
  },
  {
   "cell_type": "code",
   "execution_count": 19,
   "id": "452cc8e9-85bf-4a10-8e47-36f9651305c2",
   "metadata": {
    "execution": {
     "iopub.execute_input": "2023-05-08T15:52:40.701688Z",
     "iopub.status.busy": "2023-05-08T15:52:40.701587Z",
     "iopub.status.idle": "2023-05-08T15:52:41.180928Z",
     "shell.execute_reply": "2023-05-08T15:52:41.180627Z",
     "shell.execute_reply.started": "2023-05-08T15:52:40.701678Z"
    },
    "tags": []
   },
   "outputs": [
    {
     "name": "stdout",
     "output_type": "stream",
     "text": [
      "+------+------+-----+----------+--------+\n",
      "|userId|songId|plays|prediction|percRank|\n",
      "+------+------+-----+----------+--------+\n",
      "|   111|     9|    0|     0.999|     0.0|\n",
      "|   111|   321|    0|      0.08|     0.5|\n",
      "|   111|    22|    3|    1.0E-4|     1.0|\n",
      "|   222|   821|    2|      0.88|     0.0|\n",
      "|   222|    91|    2|      0.73|     0.5|\n",
      "|   222|    84|    0|    3.0E-6|     1.0|\n",
      "|   333|  2112|    0|       0.9|     0.0|\n",
      "|   333|    42|    2|       0.8|     0.5|\n",
      "|   333|     6|    0|      0.01|     1.0|\n",
      "+------+------+-----+----------+--------+\n",
      "\n"
     ]
    }
   ],
   "source": [
    "bad_predictions.createOrReplaceTempView(\"predictions\")\n",
    "#Calculating rankings of songs predictions by user\n",
    "spark.sql(\"SELECT userId, songId, plays, prediction, PERCENT_RANK() OVER (PARTITION BY userId ORDER BY prediction DESC) AS percRank FROM predictions\")\\\n",
    "     .createOrReplaceTempView(\"rankings\")\n",
    "spark.sql('SELECT * FROM rankings').show()"
   ]
  },
  {
   "cell_type": "markdown",
   "id": "7d506d3b-7150-475c-b92d-55a6f9f8a17b",
   "metadata": {},
   "source": [
    "### Number of plays X rank"
   ]
  },
  {
   "cell_type": "code",
   "execution_count": 20,
   "id": "ee35d8a0-2913-40eb-ab69-18b6f6ee3756",
   "metadata": {
    "execution": {
     "iopub.execute_input": "2023-05-08T15:52:41.181435Z",
     "iopub.status.busy": "2023-05-08T15:52:41.181326Z",
     "iopub.status.idle": "2023-05-08T15:52:41.591603Z",
     "shell.execute_reply": "2023-05-08T15:52:41.591291Z",
     "shell.execute_reply.started": "2023-05-08T15:52:41.181424Z"
    },
    "tags": []
   },
   "outputs": [
    {
     "name": "stdout",
     "output_type": "stream",
     "text": [
      "+------+------+-----+----------+--------+-------+\n",
      "|userId|songId|plays|prediction|percRank|np*rank|\n",
      "+------+------+-----+----------+--------+-------+\n",
      "|   111|     9|    0|     0.999|     0.0|    0.0|\n",
      "|   111|   321|    0|      0.08|     0.5|    0.0|\n",
      "|   111|    22|    3|    1.0E-4|     1.0|    3.0|\n",
      "|   222|   821|    2|      0.88|     0.0|    0.0|\n",
      "|   222|    91|    2|      0.73|     0.5|    1.0|\n",
      "|   222|    84|    0|    3.0E-6|     1.0|    0.0|\n",
      "|   333|  2112|    0|       0.9|     0.0|    0.0|\n",
      "|   333|    42|    2|       0.8|     0.5|    1.0|\n",
      "|   333|     6|    0|      0.01|     1.0|    0.0|\n",
      "+------+------+-----+----------+--------+-------+\n",
      "\n"
     ]
    }
   ],
   "source": [
    "spark.sql('SELECT *, plays*percRank as `np*rank` FROM rankings').createOrReplaceTempView(\"rankings\")\n",
    "spark.sql('SELECT * FROM rankings').show()"
   ]
  },
  {
   "cell_type": "markdown",
   "id": "90a082eb-8dfd-4263-b0b2-9724b8fa34c3",
   "metadata": {},
   "source": [
    "### ROEM calculation"
   ]
  },
  {
   "cell_type": "code",
   "execution_count": 21,
   "id": "f0401914-27d7-4571-88ac-d7836e284607",
   "metadata": {
    "execution": {
     "iopub.execute_input": "2023-05-08T15:52:41.592120Z",
     "iopub.status.busy": "2023-05-08T15:52:41.592009Z",
     "iopub.status.idle": "2023-05-08T15:52:42.082954Z",
     "shell.execute_reply": "2023-05-08T15:52:42.082651Z",
     "shell.execute_reply.started": "2023-05-08T15:52:41.592109Z"
    },
    "tags": []
   },
   "outputs": [
    {
     "data": {
      "text/plain": [
       "0.5555555555555556"
      ]
     },
     "execution_count": 21,
     "metadata": {},
     "output_type": "execute_result"
    }
   ],
   "source": [
    "numerator = spark.sql('SELECT SUM(plays * percRank) FROM rankings').collect()[0][0]\n",
    "denominator = bad_predictions.groupBy().sum('plays').collect()[0][0]\n",
    "numerator / denominator"
   ]
  },
  {
   "cell_type": "code",
   "execution_count": 22,
   "id": "2f9a323d-80a5-47ab-840e-b276a36ec5f6",
   "metadata": {
    "execution": {
     "iopub.execute_input": "2023-05-08T15:52:42.083543Z",
     "iopub.status.busy": "2023-05-08T15:52:42.083335Z",
     "iopub.status.idle": "2023-05-08T15:52:42.526235Z",
     "shell.execute_reply": "2023-05-08T15:52:42.525870Z",
     "shell.execute_reply.started": "2023-05-08T15:52:42.083532Z"
    },
    "tags": []
   },
   "outputs": [
    {
     "data": {
      "text/plain": [
       "0.5555555555555556"
      ]
     },
     "execution_count": 22,
     "metadata": {},
     "output_type": "execute_result"
    }
   ],
   "source": [
    "roem(spark, bad_predictions, userCol='userId', ratingCol='plays')"
   ]
  },
  {
   "cell_type": "markdown",
   "id": "87bcfa39-07b9-49c6-91a0-c56e18b8a253",
   "metadata": {},
   "source": [
    "## ROEM good predictions"
   ]
  },
  {
   "cell_type": "code",
   "execution_count": 23,
   "id": "a38a1372-2201-473b-97ac-eaff336273c1",
   "metadata": {
    "execution": {
     "iopub.execute_input": "2023-05-08T15:52:42.526758Z",
     "iopub.status.busy": "2023-05-08T15:52:42.526652Z",
     "iopub.status.idle": "2023-05-08T15:52:42.796768Z",
     "shell.execute_reply": "2023-05-08T15:52:42.795994Z",
     "shell.execute_reply.started": "2023-05-08T15:52:42.526748Z"
    },
    "tags": []
   },
   "outputs": [
    {
     "name": "stdout",
     "output_type": "stream",
     "text": [
      "+------+------+-----+----------+\n",
      "|userId|songId|plays|prediction|\n",
      "+------+------+-----+----------+\n",
      "|   111|    22|    3|       1.1|\n",
      "|   111|    77|    0|      0.01|\n",
      "|   111|    99|    0|     0.008|\n",
      "|   222|    22|    0|    3.0E-4|\n",
      "|   222|    77|    2|       1.5|\n",
      "|   222|    99|    2|       1.4|\n",
      "|   333|    22|    0|       0.9|\n",
      "|   333|    77|    2|       1.6|\n",
      "|   333|    99|    0|      0.01|\n",
      "+------+------+-----+----------+\n",
      "\n"
     ]
    }
   ],
   "source": [
    "good_predictions = spark.createDataFrame(pd.DataFrame(\n",
    "    columns=['userId' ,'songId','plays','prediction'],\n",
    "    data=[[111, 22, 3, 1.1],\n",
    "          [111, 77, 0, 0.01],\n",
    "          [111, 99, 0, 0.008],\n",
    "          [222, 22, 0, 0.0003],\n",
    "          [222, 77, 2, 1.5],\n",
    "          [222, 99, 2, 1.4],\n",
    "          [333, 22, 0, 0.90],\n",
    "          [333, 77, 2, 1.6],\n",
    "          [333, 99, 0, 0.01]]))\n",
    "good_predictions.show()"
   ]
  },
  {
   "cell_type": "markdown",
   "id": "5ba1b4df-0598-40fa-b110-da1d4f1b1321",
   "metadata": {},
   "source": [
    "### Percent Rank"
   ]
  },
  {
   "cell_type": "code",
   "execution_count": 24,
   "id": "f0dc7e68-0a18-4258-a4ad-0bb3bc4358b0",
   "metadata": {
    "execution": {
     "iopub.execute_input": "2023-05-08T15:52:42.797809Z",
     "iopub.status.busy": "2023-05-08T15:52:42.797432Z",
     "iopub.status.idle": "2023-05-08T15:52:42.992242Z",
     "shell.execute_reply": "2023-05-08T15:52:42.991824Z",
     "shell.execute_reply.started": "2023-05-08T15:52:42.797782Z"
    },
    "tags": []
   },
   "outputs": [
    {
     "name": "stdout",
     "output_type": "stream",
     "text": [
      "+------+------+-----+----------+--------+\n",
      "|userId|songId|plays|prediction|percRank|\n",
      "+------+------+-----+----------+--------+\n",
      "|   111|    22|    3|       1.1|     0.0|\n",
      "|   111|    77|    0|      0.01|     0.5|\n",
      "|   111|    99|    0|     0.008|     1.0|\n",
      "|   222|    77|    2|       1.5|     0.0|\n",
      "|   222|    99|    2|       1.4|     0.5|\n",
      "|   222|    22|    0|    3.0E-4|     1.0|\n",
      "|   333|    77|    2|       1.6|     0.0|\n",
      "|   333|    22|    0|       0.9|     0.5|\n",
      "|   333|    99|    0|      0.01|     1.0|\n",
      "+------+------+-----+----------+--------+\n",
      "\n"
     ]
    }
   ],
   "source": [
    "good_predictions.createOrReplaceTempView(\"predictions\")\n",
    "#Calculating rankings of songs predictions by user\n",
    "spark.sql(\"SELECT userId, songId, plays, prediction, PERCENT_RANK() OVER (PARTITION BY userId ORDER BY prediction DESC) AS percRank FROM predictions\")\\\n",
    "     .createOrReplaceTempView(\"rankings\")\n",
    "spark.sql('SELECT * FROM rankings').show()"
   ]
  },
  {
   "cell_type": "markdown",
   "id": "0aaabcb1-e12a-41b5-85a0-59fa44f82b60",
   "metadata": {},
   "source": [
    "### Number of plays X rank"
   ]
  },
  {
   "cell_type": "code",
   "execution_count": 25,
   "id": "7113a005-dedd-43e4-85ee-746dde602473",
   "metadata": {
    "execution": {
     "iopub.execute_input": "2023-05-08T15:52:42.992707Z",
     "iopub.status.busy": "2023-05-08T15:52:42.992607Z",
     "iopub.status.idle": "2023-05-08T15:52:43.152193Z",
     "shell.execute_reply": "2023-05-08T15:52:43.151757Z",
     "shell.execute_reply.started": "2023-05-08T15:52:42.992697Z"
    },
    "tags": []
   },
   "outputs": [
    {
     "name": "stdout",
     "output_type": "stream",
     "text": [
      "+------+------+-----+----------+--------+-------+\n",
      "|userId|songId|plays|prediction|percRank|np*rank|\n",
      "+------+------+-----+----------+--------+-------+\n",
      "|   111|    22|    3|       1.1|     0.0|    0.0|\n",
      "|   111|    77|    0|      0.01|     0.5|    0.0|\n",
      "|   111|    99|    0|     0.008|     1.0|    0.0|\n",
      "|   222|    77|    2|       1.5|     0.0|    0.0|\n",
      "|   222|    99|    2|       1.4|     0.5|    1.0|\n",
      "|   222|    22|    0|    3.0E-4|     1.0|    0.0|\n",
      "|   333|    77|    2|       1.6|     0.0|    0.0|\n",
      "|   333|    22|    0|       0.9|     0.5|    0.0|\n",
      "|   333|    99|    0|      0.01|     1.0|    0.0|\n",
      "+------+------+-----+----------+--------+-------+\n",
      "\n"
     ]
    }
   ],
   "source": [
    "spark.sql('SELECT *, plays*percRank as `np*rank` FROM rankings').createOrReplaceTempView(\"rankings\")\n",
    "spark.sql('SELECT * FROM rankings').show()"
   ]
  },
  {
   "cell_type": "markdown",
   "id": "65f5d807-bd98-498e-955b-fb45adc273cf",
   "metadata": {},
   "source": [
    "### ROEM calculation"
   ]
  },
  {
   "cell_type": "code",
   "execution_count": 26,
   "id": "6424137c-a840-4dd3-bbe7-a6c610bce04d",
   "metadata": {
    "execution": {
     "iopub.execute_input": "2023-05-08T15:52:43.152823Z",
     "iopub.status.busy": "2023-05-08T15:52:43.152631Z",
     "iopub.status.idle": "2023-05-08T15:52:43.461596Z",
     "shell.execute_reply": "2023-05-08T15:52:43.461306Z",
     "shell.execute_reply.started": "2023-05-08T15:52:43.152811Z"
    },
    "tags": []
   },
   "outputs": [
    {
     "data": {
      "text/plain": [
       "0.1111111111111111"
      ]
     },
     "execution_count": 26,
     "metadata": {},
     "output_type": "execute_result"
    }
   ],
   "source": [
    "numerator = spark.sql('SELECT SUM(plays * percRank) FROM rankings').collect()[0][0]\n",
    "denominator = good_predictions.groupBy().sum('plays').collect()[0][0]\n",
    "numerator / denominator"
   ]
  },
  {
   "cell_type": "code",
   "execution_count": 27,
   "id": "047f35ae-cb08-4079-a6c3-7b439eb96802",
   "metadata": {
    "execution": {
     "iopub.execute_input": "2023-05-08T15:52:43.462161Z",
     "iopub.status.busy": "2023-05-08T15:52:43.461962Z",
     "iopub.status.idle": "2023-05-08T15:52:43.766819Z",
     "shell.execute_reply": "2023-05-08T15:52:43.766554Z",
     "shell.execute_reply.started": "2023-05-08T15:52:43.462151Z"
    },
    "tags": []
   },
   "outputs": [
    {
     "data": {
      "text/plain": [
       "0.1111111111111111"
      ]
     },
     "execution_count": 27,
     "metadata": {},
     "output_type": "execute_result"
    }
   ],
   "source": [
    "roem(spark, good_predictions, userCol='userId', ratingCol='plays')"
   ]
  },
  {
   "cell_type": "markdown",
   "id": "e2457952-1f52-4a6d-8edc-054d62e42e5c",
   "metadata": {},
   "source": [
    "## Building several ROEM models"
   ]
  },
  {
   "cell_type": "code",
   "execution_count": 28,
   "id": "f5ae51f1-e428-407d-9fd1-e3f3f7368532",
   "metadata": {
    "execution": {
     "iopub.execute_input": "2023-05-08T15:52:43.767421Z",
     "iopub.status.busy": "2023-05-08T15:52:43.767192Z",
     "iopub.status.idle": "2023-05-08T15:52:43.807694Z",
     "shell.execute_reply": "2023-05-08T15:52:43.807355Z",
     "shell.execute_reply.started": "2023-05-08T15:52:43.767410Z"
    },
    "tags": []
   },
   "outputs": [],
   "source": [
    "from pyspark.ml.recommendation import ALS\n",
    "\n",
    "(train, test) = msd.randomSplit([.8, .2])"
   ]
  },
  {
   "cell_type": "code",
   "execution_count": 29,
   "id": "18a264be-0cba-4d34-9955-44227332f923",
   "metadata": {
    "execution": {
     "iopub.execute_input": "2023-05-08T15:52:43.808180Z",
     "iopub.status.busy": "2023-05-08T15:52:43.808077Z",
     "iopub.status.idle": "2023-05-08T15:52:44.018606Z",
     "shell.execute_reply": "2023-05-08T15:52:44.018099Z",
     "shell.execute_reply.started": "2023-05-08T15:52:43.808170Z"
    },
    "tags": []
   },
   "outputs": [
    {
     "name": "stdout",
     "output_type": "stream",
     "text": [
      "192\n"
     ]
    }
   ],
   "source": [
    "# Empty list to be filled with models\n",
    "model_list = []\n",
    "# Complete each of the hyperparameter value lists\n",
    "ranks = [10, 20, 30, 40]\n",
    "maxIters = [10, 20, 30, 40]\n",
    "regParams = [.05, .1, .15]\n",
    "alphas = [20, 40, 60, 80]\n",
    "# For loop will automatically create and store ALS models\n",
    "for r in ranks:\n",
    "    for mi in maxIters:\n",
    "        for rp in regParams:\n",
    "            for a in alphas:\n",
    "                model_list.append(ALS(userCol= \"userId\", itemCol= \"songId\",\n",
    "                                      ratingCol= \"num_plays\", rank = r, maxIter = mi, regParam = rp,\n",
    "                                      alpha = a, coldStartStrategy=\"drop\",nonnegative = True,\n",
    "                                      implicitPrefs = True))\n",
    "print(len(model_list))"
   ]
  },
  {
   "cell_type": "markdown",
   "id": "38c59ca6-ef42-4818-8dd5-ec0bc90c4659",
   "metadata": {},
   "source": [
    "## Error output"
   ]
  },
  {
   "cell_type": "code",
   "execution_count": 30,
   "id": "96ecbc36-1028-4393-b3a9-aa4f3cb90b5a",
   "metadata": {
    "execution": {
     "iopub.execute_input": "2023-05-08T15:52:44.019564Z",
     "iopub.status.busy": "2023-05-08T15:52:44.019245Z",
     "iopub.status.idle": "2023-05-08T16:02:46.360510Z",
     "shell.execute_reply": "2023-05-08T16:02:46.360141Z",
     "shell.execute_reply.started": "2023-05-08T15:52:44.019547Z"
    },
    "scrolled": true,
    "tags": []
   },
   "outputs": [
    {
     "name": "stdout",
     "output_type": "stream",
     "text": [
      "Training model #0 ROEM: 0.08874493046678647\n",
      "Training model #1 ROEM: 0.09663821944522209\n",
      "Training model #2 ROEM: 0.10328372095011613\n",
      "Training model #3 ROEM: 0.10724205888235687\n",
      "Training model #4 ROEM: 0.08848094911677111\n",
      "Training model #5 ROEM: 0.0957287518738229\n",
      "Training model #6 ROEM: 0.1017360736868199\n",
      "Training model #7 ROEM: 0.10580659792092394\n",
      "Training model #8 ROEM: 0.08738962956366758\n",
      "Training model #9 ROEM: 0.09497871384949229\n",
      "Training model #10 ROEM: 0.1002834323182076\n",
      "Training model #11 ROEM: 0.10478079704851734\n",
      "Training model #12 ROEM: 0.0883444365544352\n",
      "Training model #13 ROEM: 0.09465293298858045\n",
      "Training model #14 ROEM: 0.1003615999313152\n",
      "Training model #15 ROEM: 0.1008203990074308\n",
      "Training model #16 ROEM: 0.0875392856326891\n",
      "Training model #17 ROEM: 0.09363988542951324\n",
      "Training model #18 ROEM: 0.09732934410211465\n",
      "Training model #19 ROEM: 0.09712594484135964\n",
      "Training model #20 ROEM: 0.08690172940195626\n",
      "Training model #21 ROEM: 0.0934995323916171\n",
      "Training model #22 ROEM: 0.09599618605674103\n",
      "Training model #23 ROEM: 0.0943484488814228\n",
      "Training model #24 ROEM: 0.08949284722846806\n",
      "Training model #25 ROEM: 0.09452717245947172\n",
      "Training model #26 ROEM: 0.09790590808833582\n",
      "Training model #27 ROEM: 0.09831403962142375\n",
      "Training model #28 ROEM: 0.08786072648139592\n",
      "Training model #29 ROEM: 0.09318132891311118\n",
      "Training model #30 ROEM: 0.09747967075154632\n",
      "Training model #31 ROEM: 0.09504025253274546\n",
      "Training model #32 ROEM: 0.0873162012823823\n",
      "Training model #33 ROEM: 0.09298895119196969\n",
      "Training model #34 ROEM: 0.09543155834758892\n",
      "Training model #35 ROEM: 0.09427288862086175\n",
      "Training model #36 ROEM: 0.08908061844078508\n",
      "Training model #37 ROEM: 0.09413364411539926\n",
      "Training model #38 ROEM: 0.09667708028514223\n",
      "Training model #39 ROEM: 0.09873364114352251\n",
      "Training model #40 ROEM: 0.08811234174262912\n",
      "Training model #41 ROEM: 0.09292467112833395\n",
      "Training model #42 ROEM: 0.0975897814465724\n",
      "Training model #43 ROEM: 0.09603388692126154\n",
      "Training model #44 ROEM: 0.08755415501542946\n",
      "Training model #45 ROEM: 0.09304892826000537\n",
      "Training model #46 ROEM: 0.09513868926322933\n",
      "Training model #47 ROEM: 0.09459252218030338\n",
      "Training model #48 ROEM: 0.06894715882544636\n",
      "Training model #49 ROEM: 0.07108266435080907\n",
      "Training model #50 ROEM: 0.074343308858723\n",
      "Training model #51 ROEM: 0.07686246165740183\n",
      "Training model #52 ROEM: 0.06710216441661375\n",
      "Training model #53 ROEM: 0.07063143273051711\n",
      "Training model #54 ROEM: 0.07164602451313223\n",
      "Training model #55 ROEM: 0.07450559276627801\n",
      "Training model #56 ROEM: 0.06607240803819381\n",
      "Training model #57 ROEM: 0.06988009119390179\n",
      "Training model #58 ROEM: 0.07147235190599793\n",
      "Training model #59 ROEM: 0.07254099047332135\n",
      "Training model #60 ROEM: 0.06797879874497556\n",
      "Training model #61 ROEM: 0.06837244473615599\n",
      "Training model #62 ROEM: 0.07152594898876274\n",
      "Training model #63 ROEM: 0.07490143997683195\n",
      "Training model #64 ROEM: 0.06676671400553157\n",
      "Training model #65 ROEM: 0.06768759878993201\n",
      "Training model #66 ROEM: 0.0698596629688246\n",
      "Training model #67 ROEM: 0.07262787994845182\n",
      "Training model #68 ROEM: 0.06601589303537478\n",
      "Training model #69 ROEM: 0.06715871825191319\n",
      "Training model #70 ROEM: 0.06857473648399498\n",
      "Training model #71 ROEM: 0.07028748768445107\n",
      "Training model #72 ROEM: 0.06800159642713534\n",
      "Training model #73 ROEM: 0.06803764555373383\n",
      "Training model #74 ROEM: 0.07160451061033367\n",
      "Training model #75 ROEM: 0.07401251793841745\n",
      "Training model #76 ROEM: 0.0665807083635802\n",
      "Training model #77 ROEM: 0.06698737220925369\n",
      "Training model #78 ROEM: 0.06939608043359105\n",
      "Training model #79 ROEM: 0.07154346767729546\n",
      "Training model #80 ROEM: 0.06577445545472546\n",
      "Training model #81 ROEM: 0.06694582815554041\n",
      "Training model #82 ROEM: 0.067923604242749\n",
      "Training model #83 ROEM: 0.0699228026935274\n",
      "Training model #84 ROEM: 0.06859386852601325\n",
      "Training model #85 ROEM: 0.06779954777767831\n",
      "Training model #86 ROEM: 0.07095422572953138\n",
      "Training model #87 ROEM: 0.07333432753752303\n",
      "Training model #88 ROEM: 0.06720050664498439\n",
      "Training model #89 ROEM: 0.06623578918284283\n",
      "Training model #90 ROEM: 0.06845968091457577\n",
      "Training model #91 ROEM: 0.0701025241464383\n",
      "Training model #92 ROEM: 0.06606635422641331\n",
      "Training model #93 ROEM: 0.06627997397861995\n",
      "Training model #94 ROEM: 0.06791006426235208\n",
      "Training model #95 ROEM: 0.06892305699694784\n",
      "Training model #96 ROEM: 0.056976167937597896\n",
      "Training model #97 ROEM: 0.05762240976460793\n",
      "Training model #98 ROEM: 0.06089629736242302\n",
      "Training model #99 ROEM: 0.062485622419627504\n",
      "Training model #100 ROEM: 0.055026096253486874\n",
      "Training model #101 ROEM: 0.05648623710491181\n",
      "Training model #102 ROEM: 0.059763463287447666\n",
      "Training model #103 ROEM: 0.062140149582894745\n",
      "Training model #104 ROEM: 0.052924923993743406\n",
      "Training model #105 ROEM: 0.055147840421702614\n",
      "Training model #106 ROEM: 0.05826004919846182\n",
      "Training model #107 ROEM: 0.06118074759396873\n",
      "Training model #108 ROEM: 0.05844588683352186\n",
      "Training model #109 ROEM: 0.05869911541988449\n",
      "Training model #110 ROEM: 0.06040429364933113\n",
      "Training model #111 ROEM: 0.062018461407610734\n",
      "Training model #112 ROEM: 0.05628239478795184\n",
      "Training model #113 ROEM: 0.05669409083980464\n",
      "Training model #114 ROEM: 0.05901057156110368\n",
      "Training model #115 ROEM: 0.06065821217126697\n",
      "Training model #116 ROEM: 0.05426455405516051\n",
      "Training model #117 ROEM: 0.05404272934909877\n",
      "Training model #118 ROEM: 0.05759228922913497\n",
      "Training model #119 ROEM: 0.0583841975628198\n",
      "Training model #120 ROEM: 0.05810535747297283\n",
      "Training model #121 ROEM: 0.05747013846761924\n",
      "Training model #122 ROEM: 0.05982025731705988\n",
      "Training model #123 ROEM: 0.06167141129371083\n",
      "Training model #124 ROEM: 0.0568691290030769\n",
      "Training model #125 ROEM: 0.05676777851386693\n",
      "Training model #126 ROEM: 0.05923669997369492\n",
      "Training model #127 ROEM: 0.058861050712220274\n",
      "Training model #128 ROEM: 0.055343750180961715\n",
      "Training model #129 ROEM: 0.05489865162090475\n",
      "Training model #130 ROEM: 0.05665622249534939\n",
      "Training model #131 ROEM: 0.057311917872959285\n",
      "Training model #132 ROEM: 0.05755697064452228\n",
      "Training model #133 ROEM: 0.05783081686691385\n",
      "Training model #134 ROEM: 0.0594664394214437\n",
      "Training model #135 ROEM: 0.06109952044634703\n",
      "Training model #136 ROEM: 0.05722554561658813\n",
      "Training model #137 ROEM: 0.057478508515297844\n",
      "Training model #138 ROEM: 0.059174754875839015\n",
      "Training model #139 ROEM: 0.05910594006730972\n",
      "Training model #140 ROEM: 0.05627594168930931\n",
      "Training model #141 ROEM: 0.055351216371783314\n",
      "Training model #142 ROEM: 0.05626799678038899\n",
      "Training model #143 ROEM: 0.05701125439869265\n",
      "Training model #144 ROEM: 0.04910091695603503\n",
      "Training model #145 ROEM: 0.0514686290070094\n",
      "Training model #146 ROEM: 0.05289499951541757\n",
      "Training model #147 ROEM: 0.053457907169344565\n",
      "Training model #148 ROEM: 0.048109646761045274\n",
      "Training model #149 ROEM: 0.049251456262990295\n",
      "Training model #150 ROEM: 0.05015806015215303\n",
      "Training model #151 ROEM: 0.05016038604976247\n",
      "Training model #152 ROEM: 0.04733565274244826\n",
      "Training model #153 ROEM: 0.04868455087057523\n",
      "Training model #154 ROEM: 0.04804284177445293\n",
      "Training model #155 ROEM: 0.04896709727256286\n",
      "Training model #156 ROEM: 0.04843168949508157\n",
      "Training model #157 ROEM: 0.050471916589097894\n",
      "Training model #158 ROEM: 0.0517354294445598\n",
      "Training model #159 ROEM: 0.051075396953122736\n",
      "Training model #160 ROEM: 0.048251003371636556\n",
      "Training model #161 ROEM: 0.04904600526823379\n",
      "Training model #162 ROEM: 0.049728572990469073\n",
      "Training model #163 ROEM: 0.04820485064430668\n",
      "Training model #164 ROEM: 0.047887151832273676\n",
      "Training model #165 ROEM: 0.04765690563287949\n",
      "Training model #166 ROEM: 0.04788584427505523\n",
      "Training model #167 ROEM: 0.04746690547413159\n",
      "Training model #168 ROEM: 0.0491747193308291\n",
      "Training model #169 ROEM: 0.04985287073005\n",
      "Training model #170 ROEM: 0.051309034562431834\n",
      "Training model #171 ROEM: 0.050591122809006704\n",
      "Training model #172 ROEM: 0.04809892196087902\n",
      "Training model #173 ROEM: 0.04948400168228113\n",
      "Training model #174 ROEM: 0.0499567139595814\n",
      "Training model #175 ROEM: 0.048055387857982\n",
      "Training model #176 ROEM: 0.04869172894427289\n",
      "Training model #177 ROEM: 0.0480957244472107\n",
      "Training model #178 ROEM: 0.048036678227779475\n",
      "Training model #179 ROEM: 0.04745866845163346\n",
      "Training model #180 ROEM: 0.049198631846673\n",
      "Training model #181 ROEM: 0.04983693795530219\n",
      "Training model #182 ROEM: 0.05076269561288247\n",
      "Training model #183 ROEM: 0.05017519938456116\n",
      "Training model #184 ROEM: 0.04846031730390141\n",
      "Training model #185 ROEM: 0.0497224621666677\n",
      "Training model #186 ROEM: 0.04993738405797486\n",
      "Training model #187 ROEM: 0.04839746968814694\n",
      "Training model #188 ROEM: 0.04840632733186092\n",
      "Training model #189 ROEM: 0.04830782973975925\n",
      "Training model #190 ROEM: 0.04852043017267161\n",
      "Training model #191 ROEM: 0.04763155963923176\n"
     ]
    }
   ],
   "source": [
    "ROEMS = []\n",
    "for i, model in enumerate(model_list):\n",
    "    # Fits each model to the training data\n",
    "    print(f'Training model #{i} ', end='')\n",
    "    trained_model = model.fit(train)\n",
    "    # Generates test predictions\n",
    "    predictions = trained_model.transform(test)\n",
    "    # Evaluates each model's performance\n",
    "    ROEMS.append(roem(spark, predictions, 'userId', 'num_plays'))\n",
    "    print(f'ROEM:', ROEMS[-1])"
   ]
  },
  {
   "cell_type": "code",
   "execution_count": 31,
   "id": "89ed6d4d-0cfd-43ec-b17c-830dd48a064f",
   "metadata": {
    "execution": {
     "iopub.execute_input": "2023-05-08T16:02:46.361301Z",
     "iopub.status.busy": "2023-05-08T16:02:46.361040Z",
     "iopub.status.idle": "2023-05-08T16:02:46.363849Z",
     "shell.execute_reply": "2023-05-08T16:02:46.363454Z",
     "shell.execute_reply.started": "2023-05-08T16:02:46.361284Z"
    },
    "tags": []
   },
   "outputs": [
    {
     "name": "stdout",
     "output_type": "stream",
     "text": [
      "Index of smallest ROEM: 152\n",
      "Smallest ROEM:  0.04733565274244826\n"
     ]
    }
   ],
   "source": [
    "# Find the index of the smallest ROEM\n",
    "i = np.argmin(ROEMS)\n",
    "print(\"Index of smallest ROEM:\", i)\n",
    "\n",
    "# Find ith element of ROEMS\n",
    "print(\"Smallest ROEM: \", ROEMS[i])"
   ]
  },
  {
   "cell_type": "markdown",
   "id": "946f6257-5cad-4319-a933-eb04d5094a84",
   "metadata": {},
   "source": [
    "## Exercises"
   ]
  },
  {
   "cell_type": "markdown",
   "id": "38b60f96-9224-4899-bd3f-49503d876b9a",
   "metadata": {},
   "source": [
    "### Running a cross-validated implicit ALS model\n",
    "\n",
    "Now that we have several ALS models, each with a different set of hyperparameter values, we can train them on a training portion of the msd dataset using cross validation, and then run them on a test set of data and evaluate how well each one performs using the ROEM function discussed earlier. Unfortunately, this takes too much time for this exercise, so it has been done separately. But for your reference you can evaluate your model_list using the following loop (we are using the msd dataset in this case).\n",
    "\n",
    "For purposes of walking you through the steps, the test predictions for 192 models have already been generated, and their ROEM has been calculated. They are found in the ROEMS list provided. Because a list isn't unique to Pyspark, and because numpy works really well with lists, we're going to use numpy here. Follow the instructions below to find the best ROEM and the model that provided it."
   ]
  },
  {
   "cell_type": "code",
   "execution_count": 32,
   "id": "ce543fd0-b911-4663-9b17-07aaf19d813e",
   "metadata": {
    "execution": {
     "iopub.execute_input": "2023-05-08T16:02:46.364685Z",
     "iopub.status.busy": "2023-05-08T16:02:46.364378Z",
     "iopub.status.idle": "2023-05-08T17:32:57.062604Z",
     "shell.execute_reply": "2023-05-08T17:32:57.062116Z",
     "shell.execute_reply.started": "2023-05-08T16:02:46.364668Z"
    },
    "scrolled": true,
    "tags": []
   },
   "outputs": [
    {
     "name": "stderr",
     "output_type": "stream",
     "text": [
      "                                                                                \r"
     ]
    },
    {
     "name": "stdout",
     "output_type": "stream",
     "text": [
      "ROEM:  0.08617143998700197\n"
     ]
    },
    {
     "name": "stderr",
     "output_type": "stream",
     "text": [
      "                                                                                \r"
     ]
    },
    {
     "name": "stdout",
     "output_type": "stream",
     "text": [
      "ROEM:  0.08837538667608544\n"
     ]
    },
    {
     "name": "stderr",
     "output_type": "stream",
     "text": [
      "                                                                                \r"
     ]
    },
    {
     "name": "stdout",
     "output_type": "stream",
     "text": [
      "ROEM:  0.08583484653140143\n"
     ]
    },
    {
     "name": "stderr",
     "output_type": "stream",
     "text": [
      "                                                                                \r"
     ]
    },
    {
     "name": "stdout",
     "output_type": "stream",
     "text": [
      "ROEM:  0.0877753310739863\n"
     ]
    },
    {
     "name": "stderr",
     "output_type": "stream",
     "text": [
      "                                                                                \r"
     ]
    },
    {
     "name": "stdout",
     "output_type": "stream",
     "text": [
      "ROEM:  0.0886387865044038\n",
      "Validation ROEM:  0.08678498620088304\n"
     ]
    },
    {
     "name": "stderr",
     "output_type": "stream",
     "text": [
      "                                                                                \r"
     ]
    },
    {
     "name": "stdout",
     "output_type": "stream",
     "text": [
      "ROEM:  0.08922609752153714\n"
     ]
    },
    {
     "name": "stderr",
     "output_type": "stream",
     "text": [
      "                                                                                \r"
     ]
    },
    {
     "name": "stdout",
     "output_type": "stream",
     "text": [
      "ROEM:  0.09729879663887452\n"
     ]
    },
    {
     "name": "stderr",
     "output_type": "stream",
     "text": [
      "                                                                                \r"
     ]
    },
    {
     "name": "stdout",
     "output_type": "stream",
     "text": [
      "ROEM:  0.09382281883971622\n",
      "ROEM:  0.09383237432420558\n"
     ]
    },
    {
     "name": "stderr",
     "output_type": "stream",
     "text": [
      "                                                                                \r"
     ]
    },
    {
     "name": "stdout",
     "output_type": "stream",
     "text": [
      "ROEM:  0.09175231404624233\n",
      "Validation ROEM:  0.09206651503495351\n"
     ]
    },
    {
     "name": "stderr",
     "output_type": "stream",
     "text": [
      "                                                                                \r"
     ]
    },
    {
     "name": "stdout",
     "output_type": "stream",
     "text": [
      "ROEM:  0.09340372178520179\n",
      "ROEM:  0.09923608132093809\n"
     ]
    },
    {
     "name": "stderr",
     "output_type": "stream",
     "text": [
      "                                                                                \r"
     ]
    },
    {
     "name": "stdout",
     "output_type": "stream",
     "text": [
      "ROEM:  0.09996169302311418\n"
     ]
    },
    {
     "name": "stderr",
     "output_type": "stream",
     "text": [
      "                                                                                \r"
     ]
    },
    {
     "name": "stdout",
     "output_type": "stream",
     "text": [
      "ROEM:  0.10131481402099253\n"
     ]
    },
    {
     "name": "stderr",
     "output_type": "stream",
     "text": [
      "                                                                                \r"
     ]
    },
    {
     "name": "stdout",
     "output_type": "stream",
     "text": [
      "ROEM:  0.09918578895982279\n",
      "Validation ROEM:  0.09764225072719901\n"
     ]
    },
    {
     "name": "stderr",
     "output_type": "stream",
     "text": [
      "                                                                                \r"
     ]
    },
    {
     "name": "stdout",
     "output_type": "stream",
     "text": [
      "ROEM:  0.09884698729267681\n",
      "ROEM:  0.10145065349833773\n"
     ]
    },
    {
     "name": "stderr",
     "output_type": "stream",
     "text": [
      "                                                                                \r"
     ]
    },
    {
     "name": "stdout",
     "output_type": "stream",
     "text": [
      "ROEM:  0.1062097432403951\n",
      "ROEM:  0.10599039885643509\n"
     ]
    },
    {
     "name": "stderr",
     "output_type": "stream",
     "text": [
      "                                                                                \r"
     ]
    },
    {
     "name": "stdout",
     "output_type": "stream",
     "text": [
      "ROEM:  0.10489198480003074\n",
      "Validation ROEM:  0.10118575855518805\n",
      "ROEM:  0.08553496453961307\n",
      "ROEM:  0.08762839497160474\n",
      "ROEM:  0.08495741461512235\n",
      "ROEM:  0.08771657312263306\n",
      "ROEM:  0.08777772268318115\n",
      "Validation ROEM:  0.08604091005397228\n",
      "ROEM:  0.088248556428937\n",
      "ROEM:  0.09667168042486556\n"
     ]
    },
    {
     "name": "stderr",
     "output_type": "stream",
     "text": [
      "                                                                                \r"
     ]
    },
    {
     "name": "stdout",
     "output_type": "stream",
     "text": [
      "ROEM:  0.09296279308642807\n"
     ]
    },
    {
     "name": "stderr",
     "output_type": "stream",
     "text": [
      "                                                                                \r"
     ]
    },
    {
     "name": "stdout",
     "output_type": "stream",
     "text": [
      "ROEM:  0.09166698005556706\n"
     ]
    },
    {
     "name": "stderr",
     "output_type": "stream",
     "text": [
      "                                                                                \r"
     ]
    },
    {
     "name": "stdout",
     "output_type": "stream",
     "text": [
      "ROEM:  0.09115049123747115\n",
      "Validation ROEM:  0.09091206423481953\n"
     ]
    },
    {
     "name": "stderr",
     "output_type": "stream",
     "text": [
      "                                                                                \r"
     ]
    },
    {
     "name": "stdout",
     "output_type": "stream",
     "text": [
      "ROEM:  0.09135825622142833\n"
     ]
    },
    {
     "name": "stderr",
     "output_type": "stream",
     "text": [
      "                                                                                \r"
     ]
    },
    {
     "name": "stdout",
     "output_type": "stream",
     "text": [
      "ROEM:  0.09819130626549376\n",
      "ROEM:  0.09903012180565034\n",
      "ROEM:  0.09992313320368497\n"
     ]
    },
    {
     "name": "stderr",
     "output_type": "stream",
     "text": [
      "                                                                                \r"
     ]
    },
    {
     "name": "stdout",
     "output_type": "stream",
     "text": [
      "ROEM:  0.09774482305327797\n",
      "Validation ROEM:  0.09680596507205101\n",
      "ROEM:  0.09711321897946054\n",
      "ROEM:  0.09934751979403293\n"
     ]
    },
    {
     "name": "stderr",
     "output_type": "stream",
     "text": [
      "                                                                                \r"
     ]
    },
    {
     "name": "stdout",
     "output_type": "stream",
     "text": [
      "ROEM:  0.10532846142371495\n"
     ]
    },
    {
     "name": "stderr",
     "output_type": "stream",
     "text": [
      "                                                                                \r"
     ]
    },
    {
     "name": "stdout",
     "output_type": "stream",
     "text": [
      "ROEM:  0.10427888625350536\n"
     ]
    },
    {
     "name": "stderr",
     "output_type": "stream",
     "text": [
      "                                                                                \r"
     ]
    },
    {
     "name": "stdout",
     "output_type": "stream",
     "text": [
      "ROEM:  0.10367485863986069\n",
      "Validation ROEM:  0.10041399590133007\n"
     ]
    },
    {
     "name": "stderr",
     "output_type": "stream",
     "text": [
      "                                                                                \r"
     ]
    },
    {
     "name": "stdout",
     "output_type": "stream",
     "text": [
      "ROEM:  0.08469427675471097\n",
      "ROEM:  0.08721064783554591\n",
      "ROEM:  0.08422112751294447\n",
      "ROEM:  0.08760411323183047\n"
     ]
    },
    {
     "name": "stderr",
     "output_type": "stream",
     "text": [
      "                                                                                \r"
     ]
    },
    {
     "name": "stdout",
     "output_type": "stream",
     "text": [
      "ROEM:  0.0869421521216779\n",
      "Validation ROEM:  0.08578965692957162\n"
     ]
    },
    {
     "name": "stderr",
     "output_type": "stream",
     "text": [
      "                                                                                \r"
     ]
    },
    {
     "name": "stdout",
     "output_type": "stream",
     "text": [
      "ROEM:  0.08712574888376826\n",
      "ROEM:  0.09584503522892397\n"
     ]
    },
    {
     "name": "stderr",
     "output_type": "stream",
     "text": [
      "                                                                                \r"
     ]
    },
    {
     "name": "stdout",
     "output_type": "stream",
     "text": [
      "ROEM:  0.09223505945651289\n"
     ]
    },
    {
     "name": "stderr",
     "output_type": "stream",
     "text": [
      "                                                                                \r"
     ]
    },
    {
     "name": "stdout",
     "output_type": "stream",
     "text": [
      "ROEM:  0.08974537828378548\n",
      "ROEM:  0.0906086405518309\n",
      "Validation ROEM:  0.08939744142283139\n"
     ]
    },
    {
     "name": "stderr",
     "output_type": "stream",
     "text": [
      "                                                                                \r"
     ]
    },
    {
     "name": "stdout",
     "output_type": "stream",
     "text": [
      "ROEM:  0.08947293500923498\n"
     ]
    },
    {
     "name": "stderr",
     "output_type": "stream",
     "text": [
      "                                                                                \r"
     ]
    },
    {
     "name": "stdout",
     "output_type": "stream",
     "text": [
      "ROEM:  0.09656572119614325\n"
     ]
    },
    {
     "name": "stderr",
     "output_type": "stream",
     "text": [
      "                                                                                \r"
     ]
    },
    {
     "name": "stdout",
     "output_type": "stream",
     "text": [
      "ROEM:  0.09833276331496797\n",
      "ROEM:  0.09852073405126564\n"
     ]
    },
    {
     "name": "stderr",
     "output_type": "stream",
     "text": [
      "                                                                                \r"
     ]
    },
    {
     "name": "stdout",
     "output_type": "stream",
     "text": [
      "ROEM:  0.09674840147787288\n",
      "Validation ROEM:  0.09515625786762673\n"
     ]
    },
    {
     "name": "stderr",
     "output_type": "stream",
     "text": [
      "                                                                                \r"
     ]
    },
    {
     "name": "stdout",
     "output_type": "stream",
     "text": [
      "ROEM:  0.09650569080019432\n"
     ]
    },
    {
     "name": "stderr",
     "output_type": "stream",
     "text": [
      "                                                                                \r"
     ]
    },
    {
     "name": "stdout",
     "output_type": "stream",
     "text": [
      "ROEM:  0.09835916387250507\n"
     ]
    },
    {
     "name": "stderr",
     "output_type": "stream",
     "text": [
      "                                                                                \r"
     ]
    },
    {
     "name": "stdout",
     "output_type": "stream",
     "text": [
      "ROEM:  0.10465408896138337\n"
     ]
    },
    {
     "name": "stderr",
     "output_type": "stream",
     "text": [
      "                                                                                \r"
     ]
    },
    {
     "name": "stdout",
     "output_type": "stream",
     "text": [
      "ROEM:  0.10397635609001579\n"
     ]
    },
    {
     "name": "stderr",
     "output_type": "stream",
     "text": [
      "                                                                                \r"
     ]
    },
    {
     "name": "stdout",
     "output_type": "stream",
     "text": [
      "ROEM:  0.10284528264217568\n",
      "Validation ROEM:  0.09865829790148559\n"
     ]
    },
    {
     "name": "stderr",
     "output_type": "stream",
     "text": [
      "                                                                                \r"
     ]
    },
    {
     "name": "stdout",
     "output_type": "stream",
     "text": [
      "ROEM:  0.08488731957847104\n"
     ]
    },
    {
     "name": "stderr",
     "output_type": "stream",
     "text": [
      "                                                                                \r"
     ]
    },
    {
     "name": "stdout",
     "output_type": "stream",
     "text": [
      "ROEM:  0.08995864444487224\n"
     ]
    },
    {
     "name": "stderr",
     "output_type": "stream",
     "text": [
      "                                                                                \r"
     ]
    },
    {
     "name": "stdout",
     "output_type": "stream",
     "text": [
      "ROEM:  0.08316086409784666\n",
      "ROEM:  0.08949291184780482\n",
      "ROEM:  0.08970712573604765\n",
      "Validation ROEM:  0.08941151348919443\n"
     ]
    },
    {
     "name": "stderr",
     "output_type": "stream",
     "text": [
      "                                                                                \r"
     ]
    },
    {
     "name": "stdout",
     "output_type": "stream",
     "text": [
      "ROEM:  0.08816709494941491\n",
      "ROEM:  0.09338807046623118\n",
      "ROEM:  0.09125982834635267\n"
     ]
    },
    {
     "name": "stderr",
     "output_type": "stream",
     "text": [
      "                                                                                \r"
     ]
    },
    {
     "name": "stdout",
     "output_type": "stream",
     "text": [
      "ROEM:  0.0915294283559108\n",
      "ROEM:  0.0886014298079181\n",
      "Validation ROEM:  0.09243138805993611\n"
     ]
    },
    {
     "name": "stderr",
     "output_type": "stream",
     "text": [
      "                                                                                \r"
     ]
    },
    {
     "name": "stdout",
     "output_type": "stream",
     "text": [
      "ROEM:  0.09019468849279055\n"
     ]
    },
    {
     "name": "stderr",
     "output_type": "stream",
     "text": [
      "                                                                                \r"
     ]
    },
    {
     "name": "stdout",
     "output_type": "stream",
     "text": [
      "ROEM:  0.10004392353334317\n",
      "ROEM:  0.09457072717971567\n"
     ]
    },
    {
     "name": "stderr",
     "output_type": "stream",
     "text": [
      "                                                                                \r"
     ]
    },
    {
     "name": "stdout",
     "output_type": "stream",
     "text": [
      "ROEM:  0.09798645651248701\n",
      "ROEM:  0.09353859734875382\n",
      "Validation ROEM:  0.09631899433027395\n"
     ]
    },
    {
     "name": "stderr",
     "output_type": "stream",
     "text": [
      "                                                                                \r"
     ]
    },
    {
     "name": "stdout",
     "output_type": "stream",
     "text": [
      "ROEM:  0.09571493281991034\n"
     ]
    },
    {
     "name": "stderr",
     "output_type": "stream",
     "text": [
      "                                                                                \r"
     ]
    },
    {
     "name": "stdout",
     "output_type": "stream",
     "text": [
      "ROEM:  0.0996005906592521\n"
     ]
    },
    {
     "name": "stderr",
     "output_type": "stream",
     "text": [
      "                                                                                \r"
     ]
    },
    {
     "name": "stdout",
     "output_type": "stream",
     "text": [
      "ROEM:  0.09962256190570148\n",
      "ROEM:  0.10125807218710683\n"
     ]
    },
    {
     "name": "stderr",
     "output_type": "stream",
     "text": [
      "                                                                                \r"
     ]
    },
    {
     "name": "stdout",
     "output_type": "stream",
     "text": [
      "ROEM:  0.09841442093439752\n",
      "Validation ROEM:  0.09888684064897747\n"
     ]
    },
    {
     "name": "stderr",
     "output_type": "stream",
     "text": [
      "                                                                                \r"
     ]
    },
    {
     "name": "stdout",
     "output_type": "stream",
     "text": [
      "ROEM:  0.08393524883233629\n"
     ]
    },
    {
     "name": "stderr",
     "output_type": "stream",
     "text": [
      "                                                                                \r"
     ]
    },
    {
     "name": "stdout",
     "output_type": "stream",
     "text": [
      "ROEM:  0.08706381284554358\n"
     ]
    },
    {
     "name": "stderr",
     "output_type": "stream",
     "text": [
      "                                                                                \r"
     ]
    },
    {
     "name": "stdout",
     "output_type": "stream",
     "text": [
      "ROEM:  0.08214678157842255\n",
      "ROEM:  0.08839523207551978\n",
      "ROEM:  0.08949886774665976\n",
      "Validation ROEM:  0.0874467312251149\n"
     ]
    },
    {
     "name": "stderr",
     "output_type": "stream",
     "text": [
      "                                                                                \r"
     ]
    },
    {
     "name": "stdout",
     "output_type": "stream",
     "text": [
      "ROEM:  0.08743899941300581\n"
     ]
    },
    {
     "name": "stderr",
     "output_type": "stream",
     "text": [
      "                                                                                \r"
     ]
    },
    {
     "name": "stdout",
     "output_type": "stream",
     "text": [
      "ROEM:  0.09262783624876697\n"
     ]
    },
    {
     "name": "stderr",
     "output_type": "stream",
     "text": [
      "                                                                                \r"
     ]
    },
    {
     "name": "stdout",
     "output_type": "stream",
     "text": [
      "ROEM:  0.08909121909333717\n"
     ]
    },
    {
     "name": "stderr",
     "output_type": "stream",
     "text": [
      "                                                                                \r"
     ]
    },
    {
     "name": "stdout",
     "output_type": "stream",
     "text": [
      "ROEM:  0.0900821360716411\n",
      "ROEM:  0.08832611942178062\n",
      "Validation ROEM:  0.09012291769534005\n"
     ]
    },
    {
     "name": "stderr",
     "output_type": "stream",
     "text": [
      "                                                                                \r"
     ]
    },
    {
     "name": "stdout",
     "output_type": "stream",
     "text": [
      "ROEM:  0.0893121546717965\n"
     ]
    },
    {
     "name": "stderr",
     "output_type": "stream",
     "text": [
      "                                                                                \r"
     ]
    },
    {
     "name": "stdout",
     "output_type": "stream",
     "text": [
      "ROEM:  0.0983382716303877\n"
     ]
    },
    {
     "name": "stderr",
     "output_type": "stream",
     "text": [
      "                                                                                \r"
     ]
    },
    {
     "name": "stdout",
     "output_type": "stream",
     "text": [
      "ROEM:  0.09198112205896718\n",
      "ROEM:  0.09604191579883424\n"
     ]
    },
    {
     "name": "stderr",
     "output_type": "stream",
     "text": [
      "                                                                                \r"
     ]
    },
    {
     "name": "stdout",
     "output_type": "stream",
     "text": [
      "ROEM:  0.09233375980534098\n",
      "Validation ROEM:  0.09368799120182832\n"
     ]
    },
    {
     "name": "stderr",
     "output_type": "stream",
     "text": [
      "                                                                                \r"
     ]
    },
    {
     "name": "stdout",
     "output_type": "stream",
     "text": [
      "ROEM:  0.09394116467308852\n",
      "ROEM:  0.0971929802794813\n"
     ]
    },
    {
     "name": "stderr",
     "output_type": "stream",
     "text": [
      "                                                                                \r"
     ]
    },
    {
     "name": "stdout",
     "output_type": "stream",
     "text": [
      "ROEM:  0.0983627900553688\n",
      "ROEM:  0.09979790537211579\n"
     ]
    },
    {
     "name": "stderr",
     "output_type": "stream",
     "text": [
      "                                                                                \r"
     ]
    },
    {
     "name": "stdout",
     "output_type": "stream",
     "text": [
      "ROEM:  0.09647738682084209\n",
      "Validation ROEM:  0.09700262026464845\n"
     ]
    },
    {
     "name": "stderr",
     "output_type": "stream",
     "text": [
      "                                                                                \r"
     ]
    },
    {
     "name": "stdout",
     "output_type": "stream",
     "text": [
      "ROEM:  0.08350519208058557\n",
      "ROEM:  0.08651142409314314\n"
     ]
    },
    {
     "name": "stderr",
     "output_type": "stream",
     "text": [
      "                                                                                \r"
     ]
    },
    {
     "name": "stdout",
     "output_type": "stream",
     "text": [
      "ROEM:  0.08154561436810882\n",
      "ROEM:  0.08721989960694757\n"
     ]
    },
    {
     "name": "stderr",
     "output_type": "stream",
     "text": [
      "                                                                                \r"
     ]
    },
    {
     "name": "stdout",
     "output_type": "stream",
     "text": [
      "ROEM:  0.08822894972566708\n",
      "Validation ROEM:  0.08615536594660844\n"
     ]
    },
    {
     "name": "stderr",
     "output_type": "stream",
     "text": [
      "                                                                                \r"
     ]
    },
    {
     "name": "stdout",
     "output_type": "stream",
     "text": [
      "ROEM:  0.0859378172830633\n",
      "ROEM:  0.091622599221846\n",
      "ROEM:  0.08859671681722853\n",
      "ROEM:  0.08878353096724294\n"
     ]
    },
    {
     "name": "stderr",
     "output_type": "stream",
     "text": [
      "                                                                                \r"
     ]
    },
    {
     "name": "stdout",
     "output_type": "stream",
     "text": [
      "ROEM:  0.08898085236600539\n",
      "Validation ROEM:  0.09003673893231424\n",
      "ROEM:  0.08698178743446716\n",
      "ROEM:  0.09600277807391117\n"
     ]
    },
    {
     "name": "stderr",
     "output_type": "stream",
     "text": [
      "                                                                                \r"
     ]
    },
    {
     "name": "stdout",
     "output_type": "stream",
     "text": [
      "ROEM:  0.0903917037939171\n"
     ]
    },
    {
     "name": "stderr",
     "output_type": "stream",
     "text": [
      "                                                                                \r"
     ]
    },
    {
     "name": "stdout",
     "output_type": "stream",
     "text": [
      "ROEM:  0.09498314810662613\n"
     ]
    },
    {
     "name": "stderr",
     "output_type": "stream",
     "text": [
      "                                                                                \r"
     ]
    },
    {
     "name": "stdout",
     "output_type": "stream",
     "text": [
      "ROEM:  0.09086460986793739\n",
      "Validation ROEM:  0.09184803076375726\n"
     ]
    },
    {
     "name": "stderr",
     "output_type": "stream",
     "text": [
      "                                                                                \r"
     ]
    },
    {
     "name": "stdout",
     "output_type": "stream",
     "text": [
      "ROEM:  0.09302383177599377\n",
      "ROEM:  0.09513097282767906\n"
     ]
    },
    {
     "name": "stderr",
     "output_type": "stream",
     "text": [
      "                                                                                \r"
     ]
    },
    {
     "name": "stdout",
     "output_type": "stream",
     "text": [
      "ROEM:  0.09699742403614695\n",
      "ROEM:  0.0987889544236047\n"
     ]
    },
    {
     "name": "stderr",
     "output_type": "stream",
     "text": [
      "                                                                                \r"
     ]
    },
    {
     "name": "stdout",
     "output_type": "stream",
     "text": [
      "ROEM:  0.09613136571386321\n",
      "Validation ROEM:  0.09667819339758385\n"
     ]
    },
    {
     "name": "stderr",
     "output_type": "stream",
     "text": [
      "                                                                                \r"
     ]
    },
    {
     "name": "stdout",
     "output_type": "stream",
     "text": [
      "ROEM:  0.08374404397254154\n"
     ]
    },
    {
     "name": "stderr",
     "output_type": "stream",
     "text": [
      "                                                                                \r"
     ]
    },
    {
     "name": "stdout",
     "output_type": "stream",
     "text": [
      "ROEM:  0.08797164414306521\n"
     ]
    },
    {
     "name": "stderr",
     "output_type": "stream",
     "text": [
      "                                                                                \r"
     ]
    },
    {
     "name": "stdout",
     "output_type": "stream",
     "text": [
      "ROEM:  0.08331530752013391\n"
     ]
    },
    {
     "name": "stderr",
     "output_type": "stream",
     "text": [
      "                                                                                \r"
     ]
    },
    {
     "name": "stdout",
     "output_type": "stream",
     "text": [
      "ROEM:  0.08951416487349742\n"
     ]
    },
    {
     "name": "stderr",
     "output_type": "stream",
     "text": [
      "                                                                                \r"
     ]
    },
    {
     "name": "stdout",
     "output_type": "stream",
     "text": [
      "ROEM:  0.0894574534777273\n",
      "Validation ROEM:  0.09073794008414576\n"
     ]
    },
    {
     "name": "stderr",
     "output_type": "stream",
     "text": [
      "                                                                                \r"
     ]
    },
    {
     "name": "stdout",
     "output_type": "stream",
     "text": [
      "ROEM:  0.08745265142318044\n"
     ]
    },
    {
     "name": "stderr",
     "output_type": "stream",
     "text": [
      "                                                                                \r"
     ]
    },
    {
     "name": "stdout",
     "output_type": "stream",
     "text": [
      "ROEM:  0.09309441926606773\n"
     ]
    },
    {
     "name": "stderr",
     "output_type": "stream",
     "text": [
      "                                                                                \r"
     ]
    },
    {
     "name": "stdout",
     "output_type": "stream",
     "text": [
      "ROEM:  0.08947829178623495\n",
      "ROEM:  0.09119587643655744\n"
     ]
    },
    {
     "name": "stderr",
     "output_type": "stream",
     "text": [
      "                                                                                \r"
     ]
    },
    {
     "name": "stdout",
     "output_type": "stream",
     "text": [
      "ROEM:  0.08974791999609158\n",
      "Validation ROEM:  0.09513864415161302\n",
      "ROEM:  0.08967126883529812\n"
     ]
    },
    {
     "name": "stderr",
     "output_type": "stream",
     "text": [
      "                                                                                \r"
     ]
    },
    {
     "name": "stdout",
     "output_type": "stream",
     "text": [
      "ROEM:  0.09750117621048768\n"
     ]
    },
    {
     "name": "stderr",
     "output_type": "stream",
     "text": [
      "                                                                                \r"
     ]
    },
    {
     "name": "stdout",
     "output_type": "stream",
     "text": [
      "ROEM:  0.09075597795875881\n"
     ]
    },
    {
     "name": "stderr",
     "output_type": "stream",
     "text": [
      "                                                                                \r"
     ]
    },
    {
     "name": "stdout",
     "output_type": "stream",
     "text": [
      "ROEM:  0.09783098601152398\n",
      "ROEM:  0.09213820406258277\n",
      "Validation ROEM:  0.09481720223350887\n",
      "ROEM:  0.09477687847729871\n"
     ]
    },
    {
     "name": "stderr",
     "output_type": "stream",
     "text": [
      "                                                                                \r"
     ]
    },
    {
     "name": "stdout",
     "output_type": "stream",
     "text": [
      "ROEM:  0.09799925856777165\n",
      "ROEM:  0.0954967587998849\n"
     ]
    },
    {
     "name": "stderr",
     "output_type": "stream",
     "text": [
      "                                                                                \r"
     ]
    },
    {
     "name": "stdout",
     "output_type": "stream",
     "text": [
      "ROEM:  0.0999291801220139\n"
     ]
    },
    {
     "name": "stderr",
     "output_type": "stream",
     "text": [
      "                                                                                \r"
     ]
    },
    {
     "name": "stdout",
     "output_type": "stream",
     "text": [
      "ROEM:  0.09578912389469467\n",
      "Validation ROEM:  0.0979029495294047\n"
     ]
    },
    {
     "name": "stderr",
     "output_type": "stream",
     "text": [
      "                                                                                \r"
     ]
    },
    {
     "name": "stdout",
     "output_type": "stream",
     "text": [
      "ROEM:  0.08253439128725178\n"
     ]
    },
    {
     "name": "stderr",
     "output_type": "stream",
     "text": [
      "                                                                                \r"
     ]
    },
    {
     "name": "stdout",
     "output_type": "stream",
     "text": [
      "ROEM:  0.08637048483283868\n",
      "ROEM:  0.08204966941470605\n"
     ]
    },
    {
     "name": "stderr",
     "output_type": "stream",
     "text": [
      "                                                                                \r"
     ]
    },
    {
     "name": "stdout",
     "output_type": "stream",
     "text": [
      "ROEM:  0.08715207303601905\n"
     ]
    },
    {
     "name": "stderr",
     "output_type": "stream",
     "text": [
      "                                                                                \r"
     ]
    },
    {
     "name": "stdout",
     "output_type": "stream",
     "text": [
      "ROEM:  0.08915617996440386\n",
      "Validation ROEM:  0.08918934487107727\n"
     ]
    },
    {
     "name": "stderr",
     "output_type": "stream",
     "text": [
      "                                                                                \r"
     ]
    },
    {
     "name": "stdout",
     "output_type": "stream",
     "text": [
      "ROEM:  0.0865112144829407\n"
     ]
    },
    {
     "name": "stderr",
     "output_type": "stream",
     "text": [
      "                                                                                \r"
     ]
    },
    {
     "name": "stdout",
     "output_type": "stream",
     "text": [
      "ROEM:  0.09137972498811905\n"
     ]
    },
    {
     "name": "stderr",
     "output_type": "stream",
     "text": [
      "                                                                                \r"
     ]
    },
    {
     "name": "stdout",
     "output_type": "stream",
     "text": [
      "ROEM:  0.08797062602867957\n"
     ]
    },
    {
     "name": "stderr",
     "output_type": "stream",
     "text": [
      "                                                                                \r"
     ]
    },
    {
     "name": "stdout",
     "output_type": "stream",
     "text": [
      "ROEM:  0.08897089923103828\n"
     ]
    },
    {
     "name": "stderr",
     "output_type": "stream",
     "text": [
      "                                                                                \r"
     ]
    },
    {
     "name": "stdout",
     "output_type": "stream",
     "text": [
      "ROEM:  0.08927973162635885\n",
      "Validation ROEM:  0.0907666213610309\n"
     ]
    },
    {
     "name": "stderr",
     "output_type": "stream",
     "text": [
      "                                                                                \r"
     ]
    },
    {
     "name": "stdout",
     "output_type": "stream",
     "text": [
      "ROEM:  0.08934749937149297\n"
     ]
    },
    {
     "name": "stderr",
     "output_type": "stream",
     "text": [
      "                                                                                \r"
     ]
    },
    {
     "name": "stdout",
     "output_type": "stream",
     "text": [
      "ROEM:  0.09565550265995361\n",
      "ROEM:  0.0902031067715068\n"
     ]
    },
    {
     "name": "stderr",
     "output_type": "stream",
     "text": [
      "                                                                                \r"
     ]
    },
    {
     "name": "stdout",
     "output_type": "stream",
     "text": [
      "ROEM:  0.09639842749121502\n"
     ]
    },
    {
     "name": "stderr",
     "output_type": "stream",
     "text": [
      "                                                                                \r"
     ]
    },
    {
     "name": "stdout",
     "output_type": "stream",
     "text": [
      "ROEM:  0.09110654881347752\n",
      "Validation ROEM:  0.09332830684781944\n"
     ]
    },
    {
     "name": "stderr",
     "output_type": "stream",
     "text": [
      "                                                                                \r"
     ]
    },
    {
     "name": "stdout",
     "output_type": "stream",
     "text": [
      "ROEM:  0.09158334963350022\n",
      "ROEM:  0.09762955624965883\n"
     ]
    },
    {
     "name": "stderr",
     "output_type": "stream",
     "text": [
      "                                                                                \r"
     ]
    },
    {
     "name": "stdout",
     "output_type": "stream",
     "text": [
      "ROEM:  0.09417339717238268\n"
     ]
    },
    {
     "name": "stderr",
     "output_type": "stream",
     "text": [
      "                                                                                \r"
     ]
    },
    {
     "name": "stdout",
     "output_type": "stream",
     "text": [
      "ROEM:  0.09912065700379497\n"
     ]
    },
    {
     "name": "stderr",
     "output_type": "stream",
     "text": [
      "                                                                                \r"
     ]
    },
    {
     "name": "stdout",
     "output_type": "stream",
     "text": [
      "ROEM:  0.09561346902759382\n",
      "Validation ROEM:  0.09853481940257626\n"
     ]
    },
    {
     "name": "stderr",
     "output_type": "stream",
     "text": [
      "                                                                                \r"
     ]
    },
    {
     "name": "stdout",
     "output_type": "stream",
     "text": [
      "ROEM:  0.08287363281845257\n",
      "ROEM:  0.08553701043696554\n"
     ]
    },
    {
     "name": "stderr",
     "output_type": "stream",
     "text": [
      "                                                                                \r"
     ]
    },
    {
     "name": "stdout",
     "output_type": "stream",
     "text": [
      "ROEM:  0.08109346711721752\n"
     ]
    },
    {
     "name": "stderr",
     "output_type": "stream",
     "text": [
      "                                                                                \r"
     ]
    },
    {
     "name": "stdout",
     "output_type": "stream",
     "text": [
      "ROEM:  0.08625923547857338\n"
     ]
    },
    {
     "name": "stderr",
     "output_type": "stream",
     "text": [
      "                                                                                \r"
     ]
    },
    {
     "name": "stdout",
     "output_type": "stream",
     "text": [
      "ROEM:  0.08796291050418967\n",
      "Validation ROEM:  0.0871131868945286\n"
     ]
    },
    {
     "name": "stderr",
     "output_type": "stream",
     "text": [
      "                                                                                \r"
     ]
    },
    {
     "name": "stdout",
     "output_type": "stream",
     "text": [
      "ROEM:  0.08567400948392795\n",
      "ROEM:  0.09055563880797549\n"
     ]
    },
    {
     "name": "stderr",
     "output_type": "stream",
     "text": [
      "                                                                                \r"
     ]
    },
    {
     "name": "stdout",
     "output_type": "stream",
     "text": [
      "ROEM:  0.08789705550909416\n"
     ]
    },
    {
     "name": "stderr",
     "output_type": "stream",
     "text": [
      "                                                                                \r"
     ]
    },
    {
     "name": "stdout",
     "output_type": "stream",
     "text": [
      "ROEM:  0.08851316962896688\n",
      "ROEM:  0.08887853754267842\n",
      "Validation ROEM:  0.08944532711952946\n"
     ]
    },
    {
     "name": "stderr",
     "output_type": "stream",
     "text": [
      "                                                                                \r"
     ]
    },
    {
     "name": "stdout",
     "output_type": "stream",
     "text": [
      "ROEM:  0.0867732263807401\n"
     ]
    },
    {
     "name": "stderr",
     "output_type": "stream",
     "text": [
      "                                                                                \r"
     ]
    },
    {
     "name": "stdout",
     "output_type": "stream",
     "text": [
      "ROEM:  0.09367160733281445\n"
     ]
    },
    {
     "name": "stderr",
     "output_type": "stream",
     "text": [
      "                                                                                \r"
     ]
    },
    {
     "name": "stdout",
     "output_type": "stream",
     "text": [
      "ROEM:  0.08940957062234664\n"
     ]
    },
    {
     "name": "stderr",
     "output_type": "stream",
     "text": [
      "                                                                                \r"
     ]
    },
    {
     "name": "stdout",
     "output_type": "stream",
     "text": [
      "ROEM:  0.09674732679481056\n",
      "ROEM:  0.08853301193763513\n",
      "Validation ROEM:  0.09145264606530477\n",
      "ROEM:  0.09086441531805133\n"
     ]
    },
    {
     "name": "stderr",
     "output_type": "stream",
     "text": [
      "                                                                                \r"
     ]
    },
    {
     "name": "stdout",
     "output_type": "stream",
     "text": [
      "ROEM:  0.09529607193567625\n"
     ]
    },
    {
     "name": "stderr",
     "output_type": "stream",
     "text": [
      "                                                                                \r"
     ]
    },
    {
     "name": "stdout",
     "output_type": "stream",
     "text": [
      "ROEM:  0.09305652793668943\n",
      "ROEM:  0.09847985433150123\n",
      "ROEM:  0.09529815876410448\n",
      "Validation ROEM:  0.09708248866002056\n"
     ]
    },
    {
     "name": "stderr",
     "output_type": "stream",
     "text": [
      "                                                                                \r"
     ]
    },
    {
     "name": "stdout",
     "output_type": "stream",
     "text": [
      "ROEM:  0.08312153494219336\n",
      "ROEM:  0.08830339141856625\n"
     ]
    },
    {
     "name": "stderr",
     "output_type": "stream",
     "text": [
      "                                                                                \r"
     ]
    },
    {
     "name": "stdout",
     "output_type": "stream",
     "text": [
      "ROEM:  0.08289234447950296\n"
     ]
    },
    {
     "name": "stderr",
     "output_type": "stream",
     "text": [
      "                                                                                \r"
     ]
    },
    {
     "name": "stdout",
     "output_type": "stream",
     "text": [
      "ROEM:  0.0883142405394698\n"
     ]
    },
    {
     "name": "stderr",
     "output_type": "stream",
     "text": [
      "                                                                                \r"
     ]
    },
    {
     "name": "stdout",
     "output_type": "stream",
     "text": [
      "ROEM:  0.08892444631394626\n",
      "Validation ROEM:  0.09156062231526665\n"
     ]
    },
    {
     "name": "stderr",
     "output_type": "stream",
     "text": [
      "                                                                                \r"
     ]
    },
    {
     "name": "stdout",
     "output_type": "stream",
     "text": [
      "ROEM:  0.0869117778400156\n"
     ]
    },
    {
     "name": "stderr",
     "output_type": "stream",
     "text": [
      "                                                                                \r"
     ]
    },
    {
     "name": "stdout",
     "output_type": "stream",
     "text": [
      "ROEM:  0.09254692094804039\n"
     ]
    },
    {
     "name": "stderr",
     "output_type": "stream",
     "text": [
      "                                                                                \r"
     ]
    },
    {
     "name": "stdout",
     "output_type": "stream",
     "text": [
      "ROEM:  0.09077520881163108\n",
      "ROEM:  0.09170676701076765\n"
     ]
    },
    {
     "name": "stderr",
     "output_type": "stream",
     "text": [
      "                                                                                \r"
     ]
    },
    {
     "name": "stdout",
     "output_type": "stream",
     "text": [
      "ROEM:  0.09047588460860849\n",
      "Validation ROEM:  0.09426817847109663\n"
     ]
    },
    {
     "name": "stderr",
     "output_type": "stream",
     "text": [
      "                                                                                \r"
     ]
    },
    {
     "name": "stdout",
     "output_type": "stream",
     "text": [
      "ROEM:  0.09018221971301317\n"
     ]
    },
    {
     "name": "stderr",
     "output_type": "stream",
     "text": [
      "                                                                                \r"
     ]
    },
    {
     "name": "stdout",
     "output_type": "stream",
     "text": [
      "ROEM:  0.09604847772017479\n"
     ]
    },
    {
     "name": "stderr",
     "output_type": "stream",
     "text": [
      "                                                                                \r"
     ]
    },
    {
     "name": "stdout",
     "output_type": "stream",
     "text": [
      "ROEM:  0.09158753472190126\n"
     ]
    },
    {
     "name": "stderr",
     "output_type": "stream",
     "text": [
      "                                                                                \r"
     ]
    },
    {
     "name": "stdout",
     "output_type": "stream",
     "text": [
      "ROEM:  0.09796755902321212\n",
      "ROEM:  0.0910415315469979\n",
      "Validation ROEM:  0.0945612864230796\n"
     ]
    },
    {
     "name": "stderr",
     "output_type": "stream",
     "text": [
      "                                                                                \r"
     ]
    },
    {
     "name": "stdout",
     "output_type": "stream",
     "text": [
      "ROEM:  0.09324997541150273\n"
     ]
    },
    {
     "name": "stderr",
     "output_type": "stream",
     "text": [
      "                                                                                \r"
     ]
    },
    {
     "name": "stdout",
     "output_type": "stream",
     "text": [
      "ROEM:  0.09666941846361486\n"
     ]
    },
    {
     "name": "stderr",
     "output_type": "stream",
     "text": [
      "                                                                                \r"
     ]
    },
    {
     "name": "stdout",
     "output_type": "stream",
     "text": [
      "ROEM:  0.09283818467012304\n"
     ]
    },
    {
     "name": "stderr",
     "output_type": "stream",
     "text": [
      "                                                                                \r"
     ]
    },
    {
     "name": "stdout",
     "output_type": "stream",
     "text": [
      "ROEM:  0.09927698028578996\n"
     ]
    },
    {
     "name": "stderr",
     "output_type": "stream",
     "text": [
      "                                                                                \r"
     ]
    },
    {
     "name": "stdout",
     "output_type": "stream",
     "text": [
      "ROEM:  0.09481632573982654\n",
      "Validation ROEM:  0.09866003090165901\n"
     ]
    },
    {
     "name": "stderr",
     "output_type": "stream",
     "text": [
      "                                                                                \r"
     ]
    },
    {
     "name": "stdout",
     "output_type": "stream",
     "text": [
      "ROEM:  0.08233520218930654\n"
     ]
    },
    {
     "name": "stderr",
     "output_type": "stream",
     "text": [
      "                                                                                \r"
     ]
    },
    {
     "name": "stdout",
     "output_type": "stream",
     "text": [
      "ROEM:  0.08749580760027922\n"
     ]
    },
    {
     "name": "stderr",
     "output_type": "stream",
     "text": [
      "                                                                                \r"
     ]
    },
    {
     "name": "stdout",
     "output_type": "stream",
     "text": [
      "ROEM:  0.08219087037475205\n"
     ]
    },
    {
     "name": "stderr",
     "output_type": "stream",
     "text": [
      "                                                                                \r"
     ]
    },
    {
     "name": "stdout",
     "output_type": "stream",
     "text": [
      "ROEM:  0.08623158496662527\n"
     ]
    },
    {
     "name": "stderr",
     "output_type": "stream",
     "text": [
      "                                                                                \r"
     ]
    },
    {
     "name": "stdout",
     "output_type": "stream",
     "text": [
      "ROEM:  0.08789057198912092\n",
      "Validation ROEM:  0.09130582754200306\n"
     ]
    },
    {
     "name": "stderr",
     "output_type": "stream",
     "text": [
      "                                                                                \r"
     ]
    },
    {
     "name": "stdout",
     "output_type": "stream",
     "text": [
      "ROEM:  0.0869674730868039\n"
     ]
    },
    {
     "name": "stderr",
     "output_type": "stream",
     "text": [
      "                                                                                \r"
     ]
    },
    {
     "name": "stdout",
     "output_type": "stream",
     "text": [
      "ROEM:  0.08991858033435621\n"
     ]
    },
    {
     "name": "stderr",
     "output_type": "stream",
     "text": [
      "                                                                                \r"
     ]
    },
    {
     "name": "stdout",
     "output_type": "stream",
     "text": [
      "ROEM:  0.08788752325845452\n"
     ]
    },
    {
     "name": "stderr",
     "output_type": "stream",
     "text": [
      "                                                                                \r"
     ]
    },
    {
     "name": "stdout",
     "output_type": "stream",
     "text": [
      "ROEM:  0.09057116316727191\n"
     ]
    },
    {
     "name": "stderr",
     "output_type": "stream",
     "text": [
      "                                                                                \r"
     ]
    },
    {
     "name": "stdout",
     "output_type": "stream",
     "text": [
      "ROEM:  0.08976460609105852\n",
      "Validation ROEM:  0.0912630385038341\n"
     ]
    },
    {
     "name": "stderr",
     "output_type": "stream",
     "text": [
      "                                                                                \r"
     ]
    },
    {
     "name": "stdout",
     "output_type": "stream",
     "text": [
      "ROEM:  0.08979099601263357\n"
     ]
    },
    {
     "name": "stderr",
     "output_type": "stream",
     "text": [
      "                                                                                \r"
     ]
    },
    {
     "name": "stdout",
     "output_type": "stream",
     "text": [
      "ROEM:  0.09366452074985317\n"
     ]
    },
    {
     "name": "stderr",
     "output_type": "stream",
     "text": [
      "                                                                                \r"
     ]
    },
    {
     "name": "stdout",
     "output_type": "stream",
     "text": [
      "ROEM:  0.09004675468099507\n"
     ]
    },
    {
     "name": "stderr",
     "output_type": "stream",
     "text": [
      "                                                                                \r"
     ]
    },
    {
     "name": "stdout",
     "output_type": "stream",
     "text": [
      "ROEM:  0.09764703062167154\n"
     ]
    },
    {
     "name": "stderr",
     "output_type": "stream",
     "text": [
      "                                                                                \r"
     ]
    },
    {
     "name": "stdout",
     "output_type": "stream",
     "text": [
      "ROEM:  0.09123574661578884\n",
      "Validation ROEM:  0.09409569236514577\n"
     ]
    },
    {
     "name": "stderr",
     "output_type": "stream",
     "text": [
      "                                                                                \r"
     ]
    },
    {
     "name": "stdout",
     "output_type": "stream",
     "text": [
      "ROEM:  0.09170596140119361\n"
     ]
    },
    {
     "name": "stderr",
     "output_type": "stream",
     "text": [
      "                                                                                \r"
     ]
    },
    {
     "name": "stdout",
     "output_type": "stream",
     "text": [
      "ROEM:  0.09662673382845617\n"
     ]
    },
    {
     "name": "stderr",
     "output_type": "stream",
     "text": [
      "                                                                                \r"
     ]
    },
    {
     "name": "stdout",
     "output_type": "stream",
     "text": [
      "ROEM:  0.09254736257925966\n"
     ]
    },
    {
     "name": "stderr",
     "output_type": "stream",
     "text": [
      "                                                                                \r"
     ]
    },
    {
     "name": "stdout",
     "output_type": "stream",
     "text": [
      "ROEM:  0.09879077537955537\n"
     ]
    },
    {
     "name": "stderr",
     "output_type": "stream",
     "text": [
      "                                                                                \r"
     ]
    },
    {
     "name": "stdout",
     "output_type": "stream",
     "text": [
      "ROEM:  0.09549797072373536\n",
      "Validation ROEM:  0.09646561333754637\n"
     ]
    },
    {
     "name": "stderr",
     "output_type": "stream",
     "text": [
      "                                                                                \r"
     ]
    },
    {
     "name": "stdout",
     "output_type": "stream",
     "text": [
      "ROEM:  0.08198669256212932\n"
     ]
    },
    {
     "name": "stderr",
     "output_type": "stream",
     "text": [
      "                                                                                \r"
     ]
    },
    {
     "name": "stdout",
     "output_type": "stream",
     "text": [
      "ROEM:  0.08585481662581881\n"
     ]
    },
    {
     "name": "stderr",
     "output_type": "stream",
     "text": [
      "                                                                                \r"
     ]
    },
    {
     "name": "stdout",
     "output_type": "stream",
     "text": [
      "ROEM:  0.08071545336470959\n"
     ]
    },
    {
     "name": "stderr",
     "output_type": "stream",
     "text": [
      "                                                                                \r"
     ]
    },
    {
     "name": "stdout",
     "output_type": "stream",
     "text": [
      "ROEM:  0.08615903234899012\n"
     ]
    },
    {
     "name": "stderr",
     "output_type": "stream",
     "text": [
      "                                                                                \r"
     ]
    },
    {
     "name": "stdout",
     "output_type": "stream",
     "text": [
      "ROEM:  0.08711962552921847\n",
      "Validation ROEM:  0.08744146145769473\n"
     ]
    },
    {
     "name": "stderr",
     "output_type": "stream",
     "text": [
      "                                                                                \r"
     ]
    },
    {
     "name": "stdout",
     "output_type": "stream",
     "text": [
      "ROEM:  0.08544801323510479\n"
     ]
    },
    {
     "name": "stderr",
     "output_type": "stream",
     "text": [
      "                                                                                \r"
     ]
    },
    {
     "name": "stdout",
     "output_type": "stream",
     "text": [
      "ROEM:  0.08922416800717423\n"
     ]
    },
    {
     "name": "stderr",
     "output_type": "stream",
     "text": [
      "                                                                                \r"
     ]
    },
    {
     "name": "stdout",
     "output_type": "stream",
     "text": [
      "ROEM:  0.0881079780084663\n"
     ]
    },
    {
     "name": "stderr",
     "output_type": "stream",
     "text": [
      "                                                                                \r"
     ]
    },
    {
     "name": "stdout",
     "output_type": "stream",
     "text": [
      "ROEM:  0.08970975624481865\n"
     ]
    },
    {
     "name": "stderr",
     "output_type": "stream",
     "text": [
      "                                                                                \r"
     ]
    },
    {
     "name": "stdout",
     "output_type": "stream",
     "text": [
      "ROEM:  0.08923706834028242\n",
      "Validation ROEM:  0.09014324646323936\n",
      "ROEM:  0.08627094187267394\n"
     ]
    },
    {
     "name": "stderr",
     "output_type": "stream",
     "text": [
      "                                                                                \r"
     ]
    },
    {
     "name": "stdout",
     "output_type": "stream",
     "text": [
      "ROEM:  0.09306036290743637\n"
     ]
    },
    {
     "name": "stderr",
     "output_type": "stream",
     "text": [
      "                                                                                \r"
     ]
    },
    {
     "name": "stdout",
     "output_type": "stream",
     "text": [
      "ROEM:  0.08961512631291088\n"
     ]
    },
    {
     "name": "stderr",
     "output_type": "stream",
     "text": [
      "                                                                                \r"
     ]
    },
    {
     "name": "stdout",
     "output_type": "stream",
     "text": [
      "ROEM:  0.09668214249782732\n"
     ]
    },
    {
     "name": "stderr",
     "output_type": "stream",
     "text": [
      "                                                                                \r"
     ]
    },
    {
     "name": "stdout",
     "output_type": "stream",
     "text": [
      "ROEM:  0.0884650073147943\n",
      "Validation ROEM:  0.0923667330121221\n"
     ]
    },
    {
     "name": "stderr",
     "output_type": "stream",
     "text": [
      "                                                                                \r"
     ]
    },
    {
     "name": "stdout",
     "output_type": "stream",
     "text": [
      "ROEM:  0.09026165149253228\n",
      "ROEM:  0.0979824420486786\n"
     ]
    },
    {
     "name": "stderr",
     "output_type": "stream",
     "text": [
      "                                                                                \r"
     ]
    },
    {
     "name": "stdout",
     "output_type": "stream",
     "text": [
      "ROEM:  0.09185507895366903\n"
     ]
    },
    {
     "name": "stderr",
     "output_type": "stream",
     "text": [
      "                                                                                \r"
     ]
    },
    {
     "name": "stdout",
     "output_type": "stream",
     "text": [
      "ROEM:  0.09829971729105241\n"
     ]
    },
    {
     "name": "stderr",
     "output_type": "stream",
     "text": [
      "                                                                                \r"
     ]
    },
    {
     "name": "stdout",
     "output_type": "stream",
     "text": [
      "ROEM:  0.0953659238552808\n",
      "Validation ROEM:  0.09397088825504939\n"
     ]
    },
    {
     "name": "stderr",
     "output_type": "stream",
     "text": [
      "                                                                                \r"
     ]
    },
    {
     "name": "stdout",
     "output_type": "stream",
     "text": [
      "ROEM:  0.06849441945097012\n"
     ]
    },
    {
     "name": "stderr",
     "output_type": "stream",
     "text": [
      "                                                                                \r"
     ]
    },
    {
     "name": "stdout",
     "output_type": "stream",
     "text": [
      "ROEM:  0.07149692707428178\n",
      "ROEM:  0.07086726435539133\n"
     ]
    },
    {
     "name": "stderr",
     "output_type": "stream",
     "text": [
      "                                                                                \r"
     ]
    },
    {
     "name": "stdout",
     "output_type": "stream",
     "text": [
      "ROEM:  0.07316760216589259\n"
     ]
    },
    {
     "name": "stderr",
     "output_type": "stream",
     "text": [
      "                                                                                \r"
     ]
    },
    {
     "name": "stdout",
     "output_type": "stream",
     "text": [
      "ROEM:  0.07137150181500894\n",
      "Validation ROEM:  0.07001573289658256\n",
      "ROEM:  0.07269629509706094\n"
     ]
    },
    {
     "name": "stderr",
     "output_type": "stream",
     "text": [
      "                                                                                \r"
     ]
    },
    {
     "name": "stdout",
     "output_type": "stream",
     "text": [
      "ROEM:  0.07573160211189112\n"
     ]
    },
    {
     "name": "stderr",
     "output_type": "stream",
     "text": [
      "                                                                                \r"
     ]
    },
    {
     "name": "stdout",
     "output_type": "stream",
     "text": [
      "ROEM:  0.07551400160985573\n"
     ]
    },
    {
     "name": "stderr",
     "output_type": "stream",
     "text": [
      "                                                                                \r"
     ]
    },
    {
     "name": "stdout",
     "output_type": "stream",
     "text": [
      "ROEM:  0.07671457217205149\n"
     ]
    },
    {
     "name": "stderr",
     "output_type": "stream",
     "text": [
      "                                                                                \r"
     ]
    },
    {
     "name": "stdout",
     "output_type": "stream",
     "text": [
      "ROEM:  0.07475466109241398\n",
      "Validation ROEM:  0.07214403908264008\n"
     ]
    },
    {
     "name": "stderr",
     "output_type": "stream",
     "text": [
      "                                                                                \r"
     ]
    },
    {
     "name": "stdout",
     "output_type": "stream",
     "text": [
      "ROEM:  0.07914961193910373\n",
      "ROEM:  0.07897707806844675\n"
     ]
    },
    {
     "name": "stderr",
     "output_type": "stream",
     "text": [
      "                                                                                \r"
     ]
    },
    {
     "name": "stdout",
     "output_type": "stream",
     "text": [
      "ROEM:  0.07677608703527151\n"
     ]
    },
    {
     "name": "stderr",
     "output_type": "stream",
     "text": [
      "                                                                                \r"
     ]
    },
    {
     "name": "stdout",
     "output_type": "stream",
     "text": [
      "ROEM:  0.07945754389916598\n"
     ]
    },
    {
     "name": "stderr",
     "output_type": "stream",
     "text": [
      "                                                                                \r"
     ]
    },
    {
     "name": "stdout",
     "output_type": "stream",
     "text": [
      "ROEM:  0.07764232819074408\n",
      "Validation ROEM:  0.07474882611712741\n"
     ]
    },
    {
     "name": "stderr",
     "output_type": "stream",
     "text": [
      "                                                                                \r"
     ]
    },
    {
     "name": "stdout",
     "output_type": "stream",
     "text": [
      "ROEM:  0.08054946873744667\n"
     ]
    },
    {
     "name": "stderr",
     "output_type": "stream",
     "text": [
      "                                                                                \r"
     ]
    },
    {
     "name": "stdout",
     "output_type": "stream",
     "text": [
      "ROEM:  0.08188280890437503\n"
     ]
    },
    {
     "name": "stderr",
     "output_type": "stream",
     "text": [
      "                                                                                \r"
     ]
    },
    {
     "name": "stdout",
     "output_type": "stream",
     "text": [
      "ROEM:  0.07964104008293874\n"
     ]
    },
    {
     "name": "stderr",
     "output_type": "stream",
     "text": [
      "                                                                                \r"
     ]
    },
    {
     "name": "stdout",
     "output_type": "stream",
     "text": [
      "ROEM:  0.08157809548620688\n"
     ]
    },
    {
     "name": "stderr",
     "output_type": "stream",
     "text": [
      "                                                                                \r"
     ]
    },
    {
     "name": "stdout",
     "output_type": "stream",
     "text": [
      "ROEM:  0.08042770315382206\n",
      "Validation ROEM:  0.07589064208115703\n"
     ]
    },
    {
     "name": "stderr",
     "output_type": "stream",
     "text": [
      "                                                                                \r"
     ]
    },
    {
     "name": "stdout",
     "output_type": "stream",
     "text": [
      "ROEM:  0.06730215967509741\n",
      "ROEM:  0.06971597228359395\n"
     ]
    },
    {
     "name": "stderr",
     "output_type": "stream",
     "text": [
      "                                                                                \r"
     ]
    },
    {
     "name": "stdout",
     "output_type": "stream",
     "text": [
      "ROEM:  0.0673178041283671\n"
     ]
    },
    {
     "name": "stderr",
     "output_type": "stream",
     "text": [
      "                                                                                \r"
     ]
    },
    {
     "name": "stdout",
     "output_type": "stream",
     "text": [
      "ROEM:  0.07057099559403483\n"
     ]
    },
    {
     "name": "stderr",
     "output_type": "stream",
     "text": [
      "                                                                                \r"
     ]
    },
    {
     "name": "stdout",
     "output_type": "stream",
     "text": [
      "ROEM:  0.0698694726592084\n",
      "Validation ROEM:  0.06905256514616294\n"
     ]
    },
    {
     "name": "stderr",
     "output_type": "stream",
     "text": [
      "                                                                                \r"
     ]
    },
    {
     "name": "stdout",
     "output_type": "stream",
     "text": [
      "ROEM:  0.07203903716986637\n"
     ]
    },
    {
     "name": "stderr",
     "output_type": "stream",
     "text": [
      "                                                                                \r"
     ]
    },
    {
     "name": "stdout",
     "output_type": "stream",
     "text": [
      "ROEM:  0.07345796635031293\n"
     ]
    },
    {
     "name": "stderr",
     "output_type": "stream",
     "text": [
      "                                                                                \r"
     ]
    },
    {
     "name": "stdout",
     "output_type": "stream",
     "text": [
      "ROEM:  0.07368974313575778\n"
     ]
    },
    {
     "name": "stderr",
     "output_type": "stream",
     "text": [
      "                                                                                \r"
     ]
    },
    {
     "name": "stdout",
     "output_type": "stream",
     "text": [
      "ROEM:  0.07447899477454588\n"
     ]
    },
    {
     "name": "stderr",
     "output_type": "stream",
     "text": [
      "                                                                                \r"
     ]
    },
    {
     "name": "stdout",
     "output_type": "stream",
     "text": [
      "ROEM:  0.07255390053528774\n",
      "Validation ROEM:  0.07105910394466289\n",
      "ROEM:  0.07764434944212437\n"
     ]
    },
    {
     "name": "stderr",
     "output_type": "stream",
     "text": [
      "                                                                                \r"
     ]
    },
    {
     "name": "stdout",
     "output_type": "stream",
     "text": [
      "ROEM:  0.07755436391726446\n"
     ]
    },
    {
     "name": "stderr",
     "output_type": "stream",
     "text": [
      "                                                                                \r"
     ]
    },
    {
     "name": "stdout",
     "output_type": "stream",
     "text": [
      "ROEM:  0.07475008109575525\n"
     ]
    },
    {
     "name": "stderr",
     "output_type": "stream",
     "text": [
      "                                                                                \r"
     ]
    },
    {
     "name": "stdout",
     "output_type": "stream",
     "text": [
      "ROEM:  0.07709842140450861\n"
     ]
    },
    {
     "name": "stderr",
     "output_type": "stream",
     "text": [
      "                                                                                \r"
     ]
    },
    {
     "name": "stdout",
     "output_type": "stream",
     "text": [
      "ROEM:  0.07604429591008176\n",
      "Validation ROEM:  0.07359972500714929\n"
     ]
    },
    {
     "name": "stderr",
     "output_type": "stream",
     "text": [
      "                                                                                \r"
     ]
    },
    {
     "name": "stdout",
     "output_type": "stream",
     "text": [
      "ROEM:  0.07912260070685612\n"
     ]
    },
    {
     "name": "stderr",
     "output_type": "stream",
     "text": [
      "                                                                                \r"
     ]
    },
    {
     "name": "stdout",
     "output_type": "stream",
     "text": [
      "ROEM:  0.07906432467294848\n",
      "ROEM:  0.07817095499006611\n"
     ]
    },
    {
     "name": "stderr",
     "output_type": "stream",
     "text": [
      "                                                                                \r"
     ]
    },
    {
     "name": "stdout",
     "output_type": "stream",
     "text": [
      "ROEM:  0.07978352259222572\n"
     ]
    },
    {
     "name": "stderr",
     "output_type": "stream",
     "text": [
      "                                                                                \r"
     ]
    },
    {
     "name": "stdout",
     "output_type": "stream",
     "text": [
      "ROEM:  0.07808334005842633\n",
      "Validation ROEM:  0.07523113475346996\n"
     ]
    },
    {
     "name": "stderr",
     "output_type": "stream",
     "text": [
      "                                                                                \r"
     ]
    },
    {
     "name": "stdout",
     "output_type": "stream",
     "text": [
      "ROEM:  0.06654422707619106\n"
     ]
    },
    {
     "name": "stderr",
     "output_type": "stream",
     "text": [
      "                                                                                \r"
     ]
    },
    {
     "name": "stdout",
     "output_type": "stream",
     "text": [
      "ROEM:  0.06821105096022553\n"
     ]
    },
    {
     "name": "stderr",
     "output_type": "stream",
     "text": [
      "                                                                                \r"
     ]
    },
    {
     "name": "stdout",
     "output_type": "stream",
     "text": [
      "ROEM:  0.06606441965637062\n"
     ]
    },
    {
     "name": "stderr",
     "output_type": "stream",
     "text": [
      "                                                                                \r"
     ]
    },
    {
     "name": "stdout",
     "output_type": "stream",
     "text": [
      "ROEM:  0.06986323226373106\n"
     ]
    },
    {
     "name": "stderr",
     "output_type": "stream",
     "text": [
      "                                                                                \r"
     ]
    },
    {
     "name": "stdout",
     "output_type": "stream",
     "text": [
      "ROEM:  0.06935894251128248\n",
      "Validation ROEM:  0.06754877766901915\n"
     ]
    },
    {
     "name": "stderr",
     "output_type": "stream",
     "text": [
      "                                                                                \r"
     ]
    },
    {
     "name": "stdout",
     "output_type": "stream",
     "text": [
      "ROEM:  0.07092332421478521\n"
     ]
    },
    {
     "name": "stderr",
     "output_type": "stream",
     "text": [
      "                                                                                \r"
     ]
    },
    {
     "name": "stdout",
     "output_type": "stream",
     "text": [
      "ROEM:  0.07225330933914365\n"
     ]
    },
    {
     "name": "stderr",
     "output_type": "stream",
     "text": [
      "                                                                                \r"
     ]
    },
    {
     "name": "stdout",
     "output_type": "stream",
     "text": [
      "ROEM:  0.07210001119640856\n"
     ]
    },
    {
     "name": "stderr",
     "output_type": "stream",
     "text": [
      "                                                                                \r"
     ]
    },
    {
     "name": "stdout",
     "output_type": "stream",
     "text": [
      "ROEM:  0.07272653414124647\n"
     ]
    },
    {
     "name": "stderr",
     "output_type": "stream",
     "text": [
      "                                                                                \r"
     ]
    },
    {
     "name": "stdout",
     "output_type": "stream",
     "text": [
      "ROEM:  0.0713305358742568\n",
      "Validation ROEM:  0.06951278075934093\n",
      "ROEM:  0.0758667347681628\n"
     ]
    },
    {
     "name": "stderr",
     "output_type": "stream",
     "text": [
      "                                                                                \r"
     ]
    },
    {
     "name": "stdout",
     "output_type": "stream",
     "text": [
      "ROEM:  0.07605610710873087\n"
     ]
    },
    {
     "name": "stderr",
     "output_type": "stream",
     "text": [
      "                                                                                \r"
     ]
    },
    {
     "name": "stdout",
     "output_type": "stream",
     "text": [
      "ROEM:  0.07390690544455299\n"
     ]
    },
    {
     "name": "stderr",
     "output_type": "stream",
     "text": [
      "                                                                                \r"
     ]
    },
    {
     "name": "stdout",
     "output_type": "stream",
     "text": [
      "ROEM:  0.07521197503875611\n"
     ]
    },
    {
     "name": "stderr",
     "output_type": "stream",
     "text": [
      "                                                                                \r"
     ]
    },
    {
     "name": "stdout",
     "output_type": "stream",
     "text": [
      "ROEM:  0.07520055908345533\n",
      "Validation ROEM:  0.07214432005109472\n"
     ]
    },
    {
     "name": "stderr",
     "output_type": "stream",
     "text": [
      "                                                                                \r"
     ]
    },
    {
     "name": "stdout",
     "output_type": "stream",
     "text": [
      "ROEM:  0.07830307236568138\n"
     ]
    },
    {
     "name": "stderr",
     "output_type": "stream",
     "text": [
      "                                                                                \r"
     ]
    },
    {
     "name": "stdout",
     "output_type": "stream",
     "text": [
      "ROEM:  0.07716235722152524\n"
     ]
    },
    {
     "name": "stderr",
     "output_type": "stream",
     "text": [
      "                                                                                \r"
     ]
    },
    {
     "name": "stdout",
     "output_type": "stream",
     "text": [
      "ROEM:  0.07707590911725326\n"
     ]
    },
    {
     "name": "stderr",
     "output_type": "stream",
     "text": [
      "                                                                                \r"
     ]
    },
    {
     "name": "stdout",
     "output_type": "stream",
     "text": [
      "ROEM:  0.07824923060106505\n"
     ]
    },
    {
     "name": "stderr",
     "output_type": "stream",
     "text": [
      "                                                                                \r"
     ]
    },
    {
     "name": "stdout",
     "output_type": "stream",
     "text": [
      "ROEM:  0.07692003875824123\n",
      "Validation ROEM:  0.07519498400737513\n"
     ]
    },
    {
     "name": "stderr",
     "output_type": "stream",
     "text": [
      "                                                                                \r"
     ]
    },
    {
     "name": "stdout",
     "output_type": "stream",
     "text": [
      "ROEM:  0.066692361430224\n"
     ]
    },
    {
     "name": "stderr",
     "output_type": "stream",
     "text": [
      "                                                                                \r"
     ]
    },
    {
     "name": "stdout",
     "output_type": "stream",
     "text": [
      "ROEM:  0.071739887643362\n"
     ]
    },
    {
     "name": "stderr",
     "output_type": "stream",
     "text": [
      "                                                                                \r"
     ]
    },
    {
     "name": "stdout",
     "output_type": "stream",
     "text": [
      "ROEM:  0.06931087501165728\n"
     ]
    },
    {
     "name": "stderr",
     "output_type": "stream",
     "text": [
      "                                                                                \r"
     ]
    },
    {
     "name": "stdout",
     "output_type": "stream",
     "text": [
      "ROEM:  0.07244472301138148\n"
     ]
    },
    {
     "name": "stderr",
     "output_type": "stream",
     "text": [
      "                                                                                \r"
     ]
    },
    {
     "name": "stdout",
     "output_type": "stream",
     "text": [
      "ROEM:  0.07140073654259844\n",
      "Validation ROEM:  0.0698320100332564\n"
     ]
    },
    {
     "name": "stderr",
     "output_type": "stream",
     "text": [
      "                                                                                \r"
     ]
    },
    {
     "name": "stdout",
     "output_type": "stream",
     "text": [
      "ROEM:  0.07088496420069924\n"
     ]
    },
    {
     "name": "stderr",
     "output_type": "stream",
     "text": [
      "                                                                                \r"
     ]
    },
    {
     "name": "stdout",
     "output_type": "stream",
     "text": [
      "ROEM:  0.07370221715293415\n"
     ]
    },
    {
     "name": "stderr",
     "output_type": "stream",
     "text": [
      "                                                                                \r"
     ]
    },
    {
     "name": "stdout",
     "output_type": "stream",
     "text": [
      "ROEM:  0.07165268994804343\n"
     ]
    },
    {
     "name": "stderr",
     "output_type": "stream",
     "text": [
      "                                                                                \r"
     ]
    },
    {
     "name": "stdout",
     "output_type": "stream",
     "text": [
      "ROEM:  0.07533515311473443\n"
     ]
    },
    {
     "name": "stderr",
     "output_type": "stream",
     "text": [
      "                                                                                \r"
     ]
    },
    {
     "name": "stdout",
     "output_type": "stream",
     "text": [
      "ROEM:  0.0736192289882092\n",
      "Validation ROEM:  0.07007906500071949\n"
     ]
    },
    {
     "name": "stderr",
     "output_type": "stream",
     "text": [
      "                                                                                \r"
     ]
    },
    {
     "name": "stdout",
     "output_type": "stream",
     "text": [
      "ROEM:  0.07600508478607622\n",
      "ROEM:  0.0761023680403978\n"
     ]
    },
    {
     "name": "stderr",
     "output_type": "stream",
     "text": [
      "                                                                                \r"
     ]
    },
    {
     "name": "stdout",
     "output_type": "stream",
     "text": [
      "ROEM:  0.07318401257889717\n"
     ]
    },
    {
     "name": "stderr",
     "output_type": "stream",
     "text": [
      "                                                                                \r"
     ]
    },
    {
     "name": "stdout",
     "output_type": "stream",
     "text": [
      "ROEM:  0.07685694267291196\n"
     ]
    },
    {
     "name": "stderr",
     "output_type": "stream",
     "text": [
      "                                                                                \r"
     ]
    },
    {
     "name": "stdout",
     "output_type": "stream",
     "text": [
      "ROEM:  0.07588656426141972\n",
      "Validation ROEM:  0.0735118133428047\n"
     ]
    },
    {
     "name": "stderr",
     "output_type": "stream",
     "text": [
      "                                                                                \r"
     ]
    },
    {
     "name": "stdout",
     "output_type": "stream",
     "text": [
      "ROEM:  0.0757044787506528\n"
     ]
    },
    {
     "name": "stderr",
     "output_type": "stream",
     "text": [
      "                                                                                \r"
     ]
    },
    {
     "name": "stdout",
     "output_type": "stream",
     "text": [
      "ROEM:  0.0784878585096378\n"
     ]
    },
    {
     "name": "stderr",
     "output_type": "stream",
     "text": [
      "                                                                                \r"
     ]
    },
    {
     "name": "stdout",
     "output_type": "stream",
     "text": [
      "ROEM:  0.07778498949203441\n"
     ]
    },
    {
     "name": "stderr",
     "output_type": "stream",
     "text": [
      "                                                                                \r"
     ]
    },
    {
     "name": "stdout",
     "output_type": "stream",
     "text": [
      "ROEM:  0.07868841451564258\n"
     ]
    },
    {
     "name": "stderr",
     "output_type": "stream",
     "text": [
      "                                                                                \r"
     ]
    },
    {
     "name": "stdout",
     "output_type": "stream",
     "text": [
      "ROEM:  0.07804455085415697\n",
      "Validation ROEM:  0.07524590348806541\n"
     ]
    },
    {
     "name": "stderr",
     "output_type": "stream",
     "text": [
      "                                                                                \r"
     ]
    },
    {
     "name": "stdout",
     "output_type": "stream",
     "text": [
      "ROEM:  0.0650019312793189\n"
     ]
    },
    {
     "name": "stderr",
     "output_type": "stream",
     "text": [
      "                                                                                \r"
     ]
    },
    {
     "name": "stdout",
     "output_type": "stream",
     "text": [
      "ROEM:  0.0704574503954369\n",
      "ROEM:  0.06493933920542067\n"
     ]
    },
    {
     "name": "stderr",
     "output_type": "stream",
     "text": [
      "                                                                                \r"
     ]
    },
    {
     "name": "stdout",
     "output_type": "stream",
     "text": [
      "ROEM:  0.07076589881509936\n"
     ]
    },
    {
     "name": "stderr",
     "output_type": "stream",
     "text": [
      "                                                                                \r"
     ]
    },
    {
     "name": "stdout",
     "output_type": "stream",
     "text": [
      "ROEM:  0.07014909141553163\n",
      "Validation ROEM:  0.06851494777620483\n"
     ]
    },
    {
     "name": "stderr",
     "output_type": "stream",
     "text": [
      "                                                                                \r"
     ]
    },
    {
     "name": "stdout",
     "output_type": "stream",
     "text": [
      "ROEM:  0.0714526060968031\n"
     ]
    },
    {
     "name": "stderr",
     "output_type": "stream",
     "text": [
      "                                                                                \r"
     ]
    },
    {
     "name": "stdout",
     "output_type": "stream",
     "text": [
      "ROEM:  0.0720058583635069\n",
      "ROEM:  0.06977613176337326\n",
      "ROEM:  0.07495212829208502\n",
      "ROEM:  0.07054402146785423\n",
      "Validation ROEM:  0.06962915103230512\n"
     ]
    },
    {
     "name": "stderr",
     "output_type": "stream",
     "text": [
      "                                                                                \r"
     ]
    },
    {
     "name": "stdout",
     "output_type": "stream",
     "text": [
      "ROEM:  0.07508767401024445\n"
     ]
    },
    {
     "name": "stderr",
     "output_type": "stream",
     "text": [
      "                                                                                \r"
     ]
    },
    {
     "name": "stdout",
     "output_type": "stream",
     "text": [
      "ROEM:  0.07359373875523764\n"
     ]
    },
    {
     "name": "stderr",
     "output_type": "stream",
     "text": [
      "                                                                                \r"
     ]
    },
    {
     "name": "stdout",
     "output_type": "stream",
     "text": [
      "ROEM:  0.07131765855862254\n"
     ]
    },
    {
     "name": "stderr",
     "output_type": "stream",
     "text": [
      "                                                                                \r"
     ]
    },
    {
     "name": "stdout",
     "output_type": "stream",
     "text": [
      "ROEM:  0.07467311662128502\n"
     ]
    },
    {
     "name": "stderr",
     "output_type": "stream",
     "text": [
      "                                                                                \r"
     ]
    },
    {
     "name": "stdout",
     "output_type": "stream",
     "text": [
      "ROEM:  0.07391341664085169\n",
      "Validation ROEM:  0.07099120207153889\n"
     ]
    },
    {
     "name": "stderr",
     "output_type": "stream",
     "text": [
      "                                                                                \r"
     ]
    },
    {
     "name": "stdout",
     "output_type": "stream",
     "text": [
      "ROEM:  0.07389571546071502\n"
     ]
    },
    {
     "name": "stderr",
     "output_type": "stream",
     "text": [
      "                                                                                \r"
     ]
    },
    {
     "name": "stdout",
     "output_type": "stream",
     "text": [
      "ROEM:  0.07542946975863818\n"
     ]
    },
    {
     "name": "stderr",
     "output_type": "stream",
     "text": [
      "                                                                                \r"
     ]
    },
    {
     "name": "stdout",
     "output_type": "stream",
     "text": [
      "ROEM:  0.07555772451783284\n"
     ]
    },
    {
     "name": "stderr",
     "output_type": "stream",
     "text": [
      "                                                                                \r"
     ]
    },
    {
     "name": "stdout",
     "output_type": "stream",
     "text": [
      "ROEM:  0.07737235845344007\n"
     ]
    },
    {
     "name": "stderr",
     "output_type": "stream",
     "text": [
      "                                                                                \r"
     ]
    },
    {
     "name": "stdout",
     "output_type": "stream",
     "text": [
      "ROEM:  0.07559623369120091\n",
      "Validation ROEM:  0.0729349852987667\n"
     ]
    },
    {
     "name": "stderr",
     "output_type": "stream",
     "text": [
      "                                                                                \r"
     ]
    },
    {
     "name": "stdout",
     "output_type": "stream",
     "text": [
      "ROEM:  0.06500014504071151\n"
     ]
    },
    {
     "name": "stderr",
     "output_type": "stream",
     "text": [
      "                                                                                \r"
     ]
    },
    {
     "name": "stdout",
     "output_type": "stream",
     "text": [
      "ROEM:  0.06950975779252432\n"
     ]
    },
    {
     "name": "stderr",
     "output_type": "stream",
     "text": [
      "                                                                                \r"
     ]
    },
    {
     "name": "stdout",
     "output_type": "stream",
     "text": [
      "ROEM:  0.06433861546068609\n"
     ]
    },
    {
     "name": "stderr",
     "output_type": "stream",
     "text": [
      "                                                                                \r"
     ]
    },
    {
     "name": "stdout",
     "output_type": "stream",
     "text": [
      "ROEM:  0.06939046904487811\n"
     ]
    },
    {
     "name": "stderr",
     "output_type": "stream",
     "text": [
      "                                                                                \r"
     ]
    },
    {
     "name": "stdout",
     "output_type": "stream",
     "text": [
      "ROEM:  0.06890885782296705\n",
      "Validation ROEM:  0.06727929528343242\n"
     ]
    },
    {
     "name": "stderr",
     "output_type": "stream",
     "text": [
      "                                                                                \r"
     ]
    },
    {
     "name": "stdout",
     "output_type": "stream",
     "text": [
      "ROEM:  0.06986669737537334\n"
     ]
    },
    {
     "name": "stderr",
     "output_type": "stream",
     "text": [
      "                                                                                \r"
     ]
    },
    {
     "name": "stdout",
     "output_type": "stream",
     "text": [
      "ROEM:  0.07173872398717805\n"
     ]
    },
    {
     "name": "stderr",
     "output_type": "stream",
     "text": [
      "                                                                                \r"
     ]
    },
    {
     "name": "stdout",
     "output_type": "stream",
     "text": [
      "ROEM:  0.06767694491097613\n"
     ]
    },
    {
     "name": "stderr",
     "output_type": "stream",
     "text": [
      "                                                                                \r"
     ]
    },
    {
     "name": "stdout",
     "output_type": "stream",
     "text": [
      "ROEM:  0.0723399646920128\n"
     ]
    },
    {
     "name": "stderr",
     "output_type": "stream",
     "text": [
      "                                                                                \r"
     ]
    },
    {
     "name": "stdout",
     "output_type": "stream",
     "text": [
      "ROEM:  0.07018756668867042\n",
      "Validation ROEM:  0.06787465503188501\n"
     ]
    },
    {
     "name": "stderr",
     "output_type": "stream",
     "text": [
      "                                                                                \r"
     ]
    },
    {
     "name": "stdout",
     "output_type": "stream",
     "text": [
      "ROEM:  0.07354223245964714\n"
     ]
    },
    {
     "name": "stderr",
     "output_type": "stream",
     "text": [
      "                                                                                \r"
     ]
    },
    {
     "name": "stdout",
     "output_type": "stream",
     "text": [
      "ROEM:  0.07132482177568712\n"
     ]
    },
    {
     "name": "stderr",
     "output_type": "stream",
     "text": [
      "                                                                                \r"
     ]
    },
    {
     "name": "stdout",
     "output_type": "stream",
     "text": [
      "ROEM:  0.07044862379249224\n"
     ]
    },
    {
     "name": "stderr",
     "output_type": "stream",
     "text": [
      "                                                                                \r"
     ]
    },
    {
     "name": "stdout",
     "output_type": "stream",
     "text": [
      "ROEM:  0.07336500520900428\n",
      "ROEM:  0.07210597812030033\n",
      "Validation ROEM:  0.07045383163919516\n"
     ]
    },
    {
     "name": "stderr",
     "output_type": "stream",
     "text": [
      "                                                                                \r"
     ]
    },
    {
     "name": "stdout",
     "output_type": "stream",
     "text": [
      "ROEM:  0.07293447101435213\n"
     ]
    },
    {
     "name": "stderr",
     "output_type": "stream",
     "text": [
      "                                                                                \r"
     ]
    },
    {
     "name": "stdout",
     "output_type": "stream",
     "text": [
      "ROEM:  0.07336550913515412\n",
      "ROEM:  0.07376483425094614\n"
     ]
    },
    {
     "name": "stderr",
     "output_type": "stream",
     "text": [
      "                                                                                \r"
     ]
    },
    {
     "name": "stdout",
     "output_type": "stream",
     "text": [
      "ROEM:  0.07536352159262288\n"
     ]
    },
    {
     "name": "stderr",
     "output_type": "stream",
     "text": [
      "                                                                                \r"
     ]
    },
    {
     "name": "stdout",
     "output_type": "stream",
     "text": [
      "ROEM:  0.07400130747264454\n",
      "Validation ROEM:  0.07142740426835792\n"
     ]
    },
    {
     "name": "stderr",
     "output_type": "stream",
     "text": [
      "                                                                                \r"
     ]
    },
    {
     "name": "stdout",
     "output_type": "stream",
     "text": [
      "ROEM:  0.06674273104794452\n"
     ]
    },
    {
     "name": "stderr",
     "output_type": "stream",
     "text": [
      "                                                                                \r"
     ]
    },
    {
     "name": "stdout",
     "output_type": "stream",
     "text": [
      "ROEM:  0.07110379318696519\n"
     ]
    },
    {
     "name": "stderr",
     "output_type": "stream",
     "text": [
      "                                                                                \r"
     ]
    },
    {
     "name": "stdout",
     "output_type": "stream",
     "text": [
      "ROEM:  0.06826785269053642\n"
     ]
    },
    {
     "name": "stderr",
     "output_type": "stream",
     "text": [
      "                                                                                \r"
     ]
    },
    {
     "name": "stdout",
     "output_type": "stream",
     "text": [
      "ROEM:  0.07304644711781035\n"
     ]
    },
    {
     "name": "stderr",
     "output_type": "stream",
     "text": [
      "                                                                                \r"
     ]
    },
    {
     "name": "stdout",
     "output_type": "stream",
     "text": [
      "ROEM:  0.07164037556672043\n",
      "Validation ROEM:  0.07057385957212152\n"
     ]
    },
    {
     "name": "stderr",
     "output_type": "stream",
     "text": [
      "                                                                                \r"
     ]
    },
    {
     "name": "stdout",
     "output_type": "stream",
     "text": [
      "ROEM:  0.07026754465769718\n"
     ]
    },
    {
     "name": "stderr",
     "output_type": "stream",
     "text": [
      "                                                                                \r"
     ]
    },
    {
     "name": "stdout",
     "output_type": "stream",
     "text": [
      "ROEM:  0.0733504472709073\n"
     ]
    },
    {
     "name": "stderr",
     "output_type": "stream",
     "text": [
      "                                                                                \r"
     ]
    },
    {
     "name": "stdout",
     "output_type": "stream",
     "text": [
      "ROEM:  0.06914374585873861\n"
     ]
    },
    {
     "name": "stderr",
     "output_type": "stream",
     "text": [
      "                                                                                \r"
     ]
    },
    {
     "name": "stdout",
     "output_type": "stream",
     "text": [
      "ROEM:  0.07484336842640235\n"
     ]
    },
    {
     "name": "stderr",
     "output_type": "stream",
     "text": [
      "                                                                                \r"
     ]
    },
    {
     "name": "stdout",
     "output_type": "stream",
     "text": [
      "ROEM:  0.07308120888861827\n",
      "Validation ROEM:  0.07016034327986809\n"
     ]
    },
    {
     "name": "stderr",
     "output_type": "stream",
     "text": [
      "                                                                                \r"
     ]
    },
    {
     "name": "stdout",
     "output_type": "stream",
     "text": [
      "ROEM:  0.07448449767999657\n"
     ]
    },
    {
     "name": "stderr",
     "output_type": "stream",
     "text": [
      "                                                                                \r"
     ]
    },
    {
     "name": "stdout",
     "output_type": "stream",
     "text": [
      "ROEM:  0.07450643558088736\n"
     ]
    },
    {
     "name": "stderr",
     "output_type": "stream",
     "text": [
      "                                                                                \r"
     ]
    },
    {
     "name": "stdout",
     "output_type": "stream",
     "text": [
      "ROEM:  0.07142375601852238\n"
     ]
    },
    {
     "name": "stderr",
     "output_type": "stream",
     "text": [
      "                                                                                \r"
     ]
    },
    {
     "name": "stdout",
     "output_type": "stream",
     "text": [
      "ROEM:  0.07542972165711108\n"
     ]
    },
    {
     "name": "stderr",
     "output_type": "stream",
     "text": [
      "                                                                                \r"
     ]
    },
    {
     "name": "stdout",
     "output_type": "stream",
     "text": [
      "ROEM:  0.07525540653978299\n",
      "Validation ROEM:  0.07348612814313499\n"
     ]
    },
    {
     "name": "stderr",
     "output_type": "stream",
     "text": [
      "                                                                                \r"
     ]
    },
    {
     "name": "stdout",
     "output_type": "stream",
     "text": [
      "ROEM:  0.07386464872649252\n"
     ]
    },
    {
     "name": "stderr",
     "output_type": "stream",
     "text": [
      "                                                                                \r"
     ]
    },
    {
     "name": "stdout",
     "output_type": "stream",
     "text": [
      "ROEM:  0.07645948213950639\n"
     ]
    },
    {
     "name": "stderr",
     "output_type": "stream",
     "text": [
      "                                                                                \r"
     ]
    },
    {
     "name": "stdout",
     "output_type": "stream",
     "text": [
      "ROEM:  0.0777732804663009\n"
     ]
    },
    {
     "name": "stderr",
     "output_type": "stream",
     "text": [
      "                                                                                \r"
     ]
    },
    {
     "name": "stdout",
     "output_type": "stream",
     "text": [
      "ROEM:  0.07726812557541592\n"
     ]
    },
    {
     "name": "stderr",
     "output_type": "stream",
     "text": [
      "                                                                                \r"
     ]
    },
    {
     "name": "stdout",
     "output_type": "stream",
     "text": [
      "ROEM:  0.07645827268733393\n",
      "Validation ROEM:  0.07510425774553467\n"
     ]
    },
    {
     "name": "stderr",
     "output_type": "stream",
     "text": [
      "                                                                                \r"
     ]
    },
    {
     "name": "stdout",
     "output_type": "stream",
     "text": [
      "ROEM:  0.06460998196747339\n"
     ]
    },
    {
     "name": "stderr",
     "output_type": "stream",
     "text": [
      "                                                                                \r"
     ]
    },
    {
     "name": "stdout",
     "output_type": "stream",
     "text": [
      "ROEM:  0.07014242160072034\n"
     ]
    },
    {
     "name": "stderr",
     "output_type": "stream",
     "text": [
      "                                                                                \r"
     ]
    },
    {
     "name": "stdout",
     "output_type": "stream",
     "text": [
      "ROEM:  0.06441838846442377\n"
     ]
    },
    {
     "name": "stderr",
     "output_type": "stream",
     "text": [
      "                                                                                \r"
     ]
    },
    {
     "name": "stdout",
     "output_type": "stream",
     "text": [
      "ROEM:  0.0697172994740286\n"
     ]
    },
    {
     "name": "stderr",
     "output_type": "stream",
     "text": [
      "                                                                                \r"
     ]
    },
    {
     "name": "stdout",
     "output_type": "stream",
     "text": [
      "ROEM:  0.07002736726208117\n",
      "Validation ROEM:  0.06859692669203779\n"
     ]
    },
    {
     "name": "stderr",
     "output_type": "stream",
     "text": [
      "                                                                                \r"
     ]
    },
    {
     "name": "stdout",
     "output_type": "stream",
     "text": [
      "ROEM:  0.07087739205267661\n",
      "ROEM:  0.07151196112767431\n"
     ]
    },
    {
     "name": "stderr",
     "output_type": "stream",
     "text": [
      "                                                                                \r"
     ]
    },
    {
     "name": "stdout",
     "output_type": "stream",
     "text": [
      "ROEM:  0.06776564576223419\n"
     ]
    },
    {
     "name": "stderr",
     "output_type": "stream",
     "text": [
      "                                                                                \r"
     ]
    },
    {
     "name": "stdout",
     "output_type": "stream",
     "text": [
      "ROEM:  0.07441042086187477\n"
     ]
    },
    {
     "name": "stderr",
     "output_type": "stream",
     "text": [
      "                                                                                \r"
     ]
    },
    {
     "name": "stdout",
     "output_type": "stream",
     "text": [
      "ROEM:  0.0704183440096632\n",
      "Validation ROEM:  0.0675870684563409\n"
     ]
    },
    {
     "name": "stderr",
     "output_type": "stream",
     "text": [
      "                                                                                \r"
     ]
    },
    {
     "name": "stdout",
     "output_type": "stream",
     "text": [
      "ROEM:  0.07364094565810836\n"
     ]
    },
    {
     "name": "stderr",
     "output_type": "stream",
     "text": [
      "                                                                                \r"
     ]
    },
    {
     "name": "stdout",
     "output_type": "stream",
     "text": [
      "ROEM:  0.07358671541582115\n",
      "ROEM:  0.0707490772521151\n",
      "ROEM:  0.07363100884444138\n",
      "ROEM:  0.07306501093243091\n",
      "Validation ROEM:  0.06976396851969748\n"
     ]
    },
    {
     "name": "stderr",
     "output_type": "stream",
     "text": [
      "                                                                                \r"
     ]
    },
    {
     "name": "stdout",
     "output_type": "stream",
     "text": [
      "ROEM:  0.07084398963897781\n"
     ]
    },
    {
     "name": "stderr",
     "output_type": "stream",
     "text": [
      "                                                                                \r"
     ]
    },
    {
     "name": "stdout",
     "output_type": "stream",
     "text": [
      "ROEM:  0.07239208283004872\n"
     ]
    },
    {
     "name": "stderr",
     "output_type": "stream",
     "text": [
      "                                                                                \r"
     ]
    },
    {
     "name": "stdout",
     "output_type": "stream",
     "text": [
      "ROEM:  0.0738855604417757\n"
     ]
    },
    {
     "name": "stderr",
     "output_type": "stream",
     "text": [
      "                                                                                \r"
     ]
    },
    {
     "name": "stdout",
     "output_type": "stream",
     "text": [
      "ROEM:  0.07649645955024247\n"
     ]
    },
    {
     "name": "stderr",
     "output_type": "stream",
     "text": [
      "                                                                                \r"
     ]
    },
    {
     "name": "stdout",
     "output_type": "stream",
     "text": [
      "ROEM:  0.0740229009786734\n",
      "Validation ROEM:  0.07277854903965396\n"
     ]
    },
    {
     "name": "stderr",
     "output_type": "stream",
     "text": [
      "                                                                                \r"
     ]
    },
    {
     "name": "stdout",
     "output_type": "stream",
     "text": [
      "ROEM:  0.06513276910598834\n"
     ]
    },
    {
     "name": "stderr",
     "output_type": "stream",
     "text": [
      "                                                                                \r"
     ]
    },
    {
     "name": "stdout",
     "output_type": "stream",
     "text": [
      "ROEM:  0.06937343120316146\n"
     ]
    },
    {
     "name": "stderr",
     "output_type": "stream",
     "text": [
      "                                                                                \r"
     ]
    },
    {
     "name": "stdout",
     "output_type": "stream",
     "text": [
      "ROEM:  0.06351328596465355\n"
     ]
    },
    {
     "name": "stderr",
     "output_type": "stream",
     "text": [
      "                                                                                \r"
     ]
    },
    {
     "name": "stdout",
     "output_type": "stream",
     "text": [
      "ROEM:  0.06914163419329541\n"
     ]
    },
    {
     "name": "stderr",
     "output_type": "stream",
     "text": [
      "                                                                                \r"
     ]
    },
    {
     "name": "stdout",
     "output_type": "stream",
     "text": [
      "ROEM:  0.06904229821690744\n",
      "Validation ROEM:  0.06744877507313388\n"
     ]
    },
    {
     "name": "stderr",
     "output_type": "stream",
     "text": [
      "                                                                                \r"
     ]
    },
    {
     "name": "stdout",
     "output_type": "stream",
     "text": [
      "ROEM:  0.0694154321860627\n"
     ]
    },
    {
     "name": "stderr",
     "output_type": "stream",
     "text": [
      "                                                                                \r"
     ]
    },
    {
     "name": "stdout",
     "output_type": "stream",
     "text": [
      "ROEM:  0.07017109734986005\n"
     ]
    },
    {
     "name": "stderr",
     "output_type": "stream",
     "text": [
      "                                                                                \r"
     ]
    },
    {
     "name": "stdout",
     "output_type": "stream",
     "text": [
      "ROEM:  0.06648648258218019\n"
     ]
    },
    {
     "name": "stderr",
     "output_type": "stream",
     "text": [
      "                                                                                \r"
     ]
    },
    {
     "name": "stdout",
     "output_type": "stream",
     "text": [
      "ROEM:  0.07326918303575874\n"
     ]
    },
    {
     "name": "stderr",
     "output_type": "stream",
     "text": [
      "                                                                                \r"
     ]
    },
    {
     "name": "stdout",
     "output_type": "stream",
     "text": [
      "ROEM:  0.06947271031359731\n",
      "Validation ROEM:  0.06650327781434558\n"
     ]
    },
    {
     "name": "stderr",
     "output_type": "stream",
     "text": [
      "                                                                                \r"
     ]
    },
    {
     "name": "stdout",
     "output_type": "stream",
     "text": [
      "ROEM:  0.07235750920570268\n"
     ]
    },
    {
     "name": "stderr",
     "output_type": "stream",
     "text": [
      "                                                                                \r"
     ]
    },
    {
     "name": "stdout",
     "output_type": "stream",
     "text": [
      "ROEM:  0.06986353008112799\n"
     ]
    },
    {
     "name": "stderr",
     "output_type": "stream",
     "text": [
      "                                                                                \r"
     ]
    },
    {
     "name": "stdout",
     "output_type": "stream",
     "text": [
      "ROEM:  0.07034996399055576\n"
     ]
    },
    {
     "name": "stderr",
     "output_type": "stream",
     "text": [
      "                                                                                \r"
     ]
    },
    {
     "name": "stdout",
     "output_type": "stream",
     "text": [
      "ROEM:  0.07293626575288302\n"
     ]
    },
    {
     "name": "stderr",
     "output_type": "stream",
     "text": [
      "                                                                                \r"
     ]
    },
    {
     "name": "stdout",
     "output_type": "stream",
     "text": [
      "ROEM:  0.07070904758731802\n",
      "Validation ROEM:  0.06954226930668121\n"
     ]
    },
    {
     "name": "stderr",
     "output_type": "stream",
     "text": [
      "                                                                                \r"
     ]
    },
    {
     "name": "stdout",
     "output_type": "stream",
     "text": [
      "ROEM:  0.07086121260271346\n"
     ]
    },
    {
     "name": "stderr",
     "output_type": "stream",
     "text": [
      "                                                                                \r"
     ]
    },
    {
     "name": "stdout",
     "output_type": "stream",
     "text": [
      "ROEM:  0.07218081240906898\n"
     ]
    },
    {
     "name": "stderr",
     "output_type": "stream",
     "text": [
      "                                                                                \r"
     ]
    },
    {
     "name": "stdout",
     "output_type": "stream",
     "text": [
      "ROEM:  0.07289864043052187\n"
     ]
    },
    {
     "name": "stderr",
     "output_type": "stream",
     "text": [
      "                                                                                \r"
     ]
    },
    {
     "name": "stdout",
     "output_type": "stream",
     "text": [
      "ROEM:  0.07534880806072206\n"
     ]
    },
    {
     "name": "stderr",
     "output_type": "stream",
     "text": [
      "                                                                                \r"
     ]
    },
    {
     "name": "stdout",
     "output_type": "stream",
     "text": [
      "ROEM:  0.07236374891979974\n",
      "Validation ROEM:  0.07152704179534217\n"
     ]
    },
    {
     "name": "stderr",
     "output_type": "stream",
     "text": [
      "                                                                                \r"
     ]
    },
    {
     "name": "stdout",
     "output_type": "stream",
     "text": [
      "ROEM:  0.06807183335062475\n"
     ]
    },
    {
     "name": "stderr",
     "output_type": "stream",
     "text": [
      "                                                                                \r"
     ]
    },
    {
     "name": "stdout",
     "output_type": "stream",
     "text": [
      "ROEM:  0.07318336395861996\n"
     ]
    },
    {
     "name": "stderr",
     "output_type": "stream",
     "text": [
      "                                                                                \r"
     ]
    },
    {
     "name": "stdout",
     "output_type": "stream",
     "text": [
      "ROEM:  0.0679908892011976\n"
     ]
    },
    {
     "name": "stderr",
     "output_type": "stream",
     "text": [
      "                                                                                \r"
     ]
    },
    {
     "name": "stdout",
     "output_type": "stream",
     "text": [
      "ROEM:  0.07280953487074722\n"
     ]
    },
    {
     "name": "stderr",
     "output_type": "stream",
     "text": [
      "                                                                                \r"
     ]
    },
    {
     "name": "stdout",
     "output_type": "stream",
     "text": [
      "ROEM:  0.0716246006382442\n",
      "Validation ROEM:  0.07048263992899727\n"
     ]
    },
    {
     "name": "stderr",
     "output_type": "stream",
     "text": [
      "                                                                                \r"
     ]
    },
    {
     "name": "stdout",
     "output_type": "stream",
     "text": [
      "ROEM:  0.07089113369613781\n"
     ]
    },
    {
     "name": "stderr",
     "output_type": "stream",
     "text": [
      "                                                                                \r"
     ]
    },
    {
     "name": "stdout",
     "output_type": "stream",
     "text": [
      "ROEM:  0.07272906897996828\n"
     ]
    },
    {
     "name": "stderr",
     "output_type": "stream",
     "text": [
      "                                                                                \r"
     ]
    },
    {
     "name": "stdout",
     "output_type": "stream",
     "text": [
      "ROEM:  0.06821894329711954\n"
     ]
    },
    {
     "name": "stderr",
     "output_type": "stream",
     "text": [
      "                                                                                \r"
     ]
    },
    {
     "name": "stdout",
     "output_type": "stream",
     "text": [
      "ROEM:  0.07596769447728306\n"
     ]
    },
    {
     "name": "stderr",
     "output_type": "stream",
     "text": [
      "                                                                                \r"
     ]
    },
    {
     "name": "stdout",
     "output_type": "stream",
     "text": [
      "ROEM:  0.07293195625328874\n",
      "Validation ROEM:  0.07011974355762916\n"
     ]
    },
    {
     "name": "stderr",
     "output_type": "stream",
     "text": [
      "                                                                                \r"
     ]
    },
    {
     "name": "stdout",
     "output_type": "stream",
     "text": [
      "ROEM:  0.0742312658579994\n"
     ]
    },
    {
     "name": "stderr",
     "output_type": "stream",
     "text": [
      "                                                                                \r"
     ]
    },
    {
     "name": "stdout",
     "output_type": "stream",
     "text": [
      "ROEM:  0.0736378998216343\n",
      "ROEM:  0.0718882377447684\n"
     ]
    },
    {
     "name": "stderr",
     "output_type": "stream",
     "text": [
      "                                                                                \r"
     ]
    },
    {
     "name": "stdout",
     "output_type": "stream",
     "text": [
      "ROEM:  0.07583650733125799\n"
     ]
    },
    {
     "name": "stderr",
     "output_type": "stream",
     "text": [
      "                                                                                \r"
     ]
    },
    {
     "name": "stdout",
     "output_type": "stream",
     "text": [
      "ROEM:  0.07463708229641429\n",
      "Validation ROEM:  0.07206876823086308\n"
     ]
    },
    {
     "name": "stderr",
     "output_type": "stream",
     "text": [
      "                                                                                \r"
     ]
    },
    {
     "name": "stdout",
     "output_type": "stream",
     "text": [
      "ROEM:  0.0726125085789092\n"
     ]
    },
    {
     "name": "stderr",
     "output_type": "stream",
     "text": [
      "                                                                                \r"
     ]
    },
    {
     "name": "stdout",
     "output_type": "stream",
     "text": [
      "ROEM:  0.0751060174122215\n"
     ]
    },
    {
     "name": "stderr",
     "output_type": "stream",
     "text": [
      "                                                                                \r"
     ]
    },
    {
     "name": "stdout",
     "output_type": "stream",
     "text": [
      "ROEM:  0.07605683935783987\n"
     ]
    },
    {
     "name": "stderr",
     "output_type": "stream",
     "text": [
      "                                                                                \r"
     ]
    },
    {
     "name": "stdout",
     "output_type": "stream",
     "text": [
      "ROEM:  0.07695204270382408\n"
     ]
    },
    {
     "name": "stderr",
     "output_type": "stream",
     "text": [
      "                                                                                \r"
     ]
    },
    {
     "name": "stdout",
     "output_type": "stream",
     "text": [
      "ROEM:  0.07586209711271225\n",
      "Validation ROEM:  0.07407753370509597\n"
     ]
    },
    {
     "name": "stderr",
     "output_type": "stream",
     "text": [
      "                                                                                \r"
     ]
    },
    {
     "name": "stdout",
     "output_type": "stream",
     "text": [
      "ROEM:  0.06575902853163937\n"
     ]
    },
    {
     "name": "stderr",
     "output_type": "stream",
     "text": [
      "                                                                                \r"
     ]
    },
    {
     "name": "stdout",
     "output_type": "stream",
     "text": [
      "ROEM:  0.0700896876451916\n"
     ]
    },
    {
     "name": "stderr",
     "output_type": "stream",
     "text": [
      "                                                                                \r"
     ]
    },
    {
     "name": "stdout",
     "output_type": "stream",
     "text": [
      "ROEM:  0.06394686806764498\n"
     ]
    },
    {
     "name": "stderr",
     "output_type": "stream",
     "text": [
      "                                                                                \r"
     ]
    },
    {
     "name": "stdout",
     "output_type": "stream",
     "text": [
      "ROEM:  0.068935439490584\n"
     ]
    },
    {
     "name": "stderr",
     "output_type": "stream",
     "text": [
      "                                                                                \r"
     ]
    },
    {
     "name": "stdout",
     "output_type": "stream",
     "text": [
      "ROEM:  0.07101824535457622\n",
      "Validation ROEM:  0.06846592249427659\n"
     ]
    },
    {
     "name": "stderr",
     "output_type": "stream",
     "text": [
      "                                                                                \r"
     ]
    },
    {
     "name": "stdout",
     "output_type": "stream",
     "text": [
      "ROEM:  0.0710518240589525\n"
     ]
    },
    {
     "name": "stderr",
     "output_type": "stream",
     "text": [
      "                                                                                \r"
     ]
    },
    {
     "name": "stdout",
     "output_type": "stream",
     "text": [
      "ROEM:  0.07047631497443664\n"
     ]
    },
    {
     "name": "stderr",
     "output_type": "stream",
     "text": [
      "                                                                                \r"
     ]
    },
    {
     "name": "stdout",
     "output_type": "stream",
     "text": [
      "ROEM:  0.06817559161923695\n"
     ]
    },
    {
     "name": "stderr",
     "output_type": "stream",
     "text": [
      "                                                                                \r"
     ]
    },
    {
     "name": "stdout",
     "output_type": "stream",
     "text": [
      "ROEM:  0.07429410500659137\n"
     ]
    },
    {
     "name": "stderr",
     "output_type": "stream",
     "text": [
      "                                                                                \r"
     ]
    },
    {
     "name": "stdout",
     "output_type": "stream",
     "text": [
      "ROEM:  0.07107689175200105\n",
      "Validation ROEM:  0.06716535115618305\n"
     ]
    },
    {
     "name": "stderr",
     "output_type": "stream",
     "text": [
      "                                                                                \r"
     ]
    },
    {
     "name": "stdout",
     "output_type": "stream",
     "text": [
      "ROEM:  0.07298104600846354\n"
     ]
    },
    {
     "name": "stderr",
     "output_type": "stream",
     "text": [
      "                                                                                \r"
     ]
    },
    {
     "name": "stdout",
     "output_type": "stream",
     "text": [
      "ROEM:  0.07244460389322122\n"
     ]
    },
    {
     "name": "stderr",
     "output_type": "stream",
     "text": [
      "                                                                                \r"
     ]
    },
    {
     "name": "stdout",
     "output_type": "stream",
     "text": [
      "ROEM:  0.07098579792640254\n"
     ]
    },
    {
     "name": "stderr",
     "output_type": "stream",
     "text": [
      "                                                                                \r"
     ]
    },
    {
     "name": "stdout",
     "output_type": "stream",
     "text": [
      "ROEM:  0.07309911206564593\n"
     ]
    },
    {
     "name": "stderr",
     "output_type": "stream",
     "text": [
      "                                                                                \r"
     ]
    },
    {
     "name": "stdout",
     "output_type": "stream",
     "text": [
      "ROEM:  0.07270185963534971\n",
      "Validation ROEM:  0.06883340403811773\n"
     ]
    },
    {
     "name": "stderr",
     "output_type": "stream",
     "text": [
      "                                                                                \r"
     ]
    },
    {
     "name": "stdout",
     "output_type": "stream",
     "text": [
      "ROEM:  0.07050199301781994\n"
     ]
    },
    {
     "name": "stderr",
     "output_type": "stream",
     "text": [
      "                                                                                \r"
     ]
    },
    {
     "name": "stdout",
     "output_type": "stream",
     "text": [
      "ROEM:  0.07195236467514975\n"
     ]
    },
    {
     "name": "stderr",
     "output_type": "stream",
     "text": [
      "                                                                                \r"
     ]
    },
    {
     "name": "stdout",
     "output_type": "stream",
     "text": [
      "ROEM:  0.07285364380850783\n"
     ]
    },
    {
     "name": "stderr",
     "output_type": "stream",
     "text": [
      "                                                                                \r"
     ]
    },
    {
     "name": "stdout",
     "output_type": "stream",
     "text": [
      "ROEM:  0.07637405220947915\n"
     ]
    },
    {
     "name": "stderr",
     "output_type": "stream",
     "text": [
      "                                                                                \r"
     ]
    },
    {
     "name": "stdout",
     "output_type": "stream",
     "text": [
      "ROEM:  0.07245157920500285\n",
      "Validation ROEM:  0.07287271794474437\n"
     ]
    },
    {
     "name": "stderr",
     "output_type": "stream",
     "text": [
      "                                                                                \r"
     ]
    },
    {
     "name": "stdout",
     "output_type": "stream",
     "text": [
      "ROEM:  0.06522297335551112\n"
     ]
    },
    {
     "name": "stderr",
     "output_type": "stream",
     "text": [
      "                                                                                \r"
     ]
    },
    {
     "name": "stdout",
     "output_type": "stream",
     "text": [
      "ROEM:  0.06881169070429186\n",
      "ROEM:  0.06348324317765155\n"
     ]
    },
    {
     "name": "stderr",
     "output_type": "stream",
     "text": [
      "                                                                                \r"
     ]
    },
    {
     "name": "stdout",
     "output_type": "stream",
     "text": [
      "ROEM:  0.06900506073523612\n"
     ]
    },
    {
     "name": "stderr",
     "output_type": "stream",
     "text": [
      "                                                                                \r"
     ]
    },
    {
     "name": "stdout",
     "output_type": "stream",
     "text": [
      "ROEM:  0.06959734749571103\n",
      "Validation ROEM:  0.06806162833270475\n"
     ]
    },
    {
     "name": "stderr",
     "output_type": "stream",
     "text": [
      "                                                                                \r"
     ]
    },
    {
     "name": "stdout",
     "output_type": "stream",
     "text": [
      "ROEM:  0.06916423524347758\n",
      "ROEM:  0.06939234327824205\n"
     ]
    },
    {
     "name": "stderr",
     "output_type": "stream",
     "text": [
      "                                                                                \r"
     ]
    },
    {
     "name": "stdout",
     "output_type": "stream",
     "text": [
      "ROEM:  0.06678936165854472\n"
     ]
    },
    {
     "name": "stderr",
     "output_type": "stream",
     "text": [
      "                                                                                \r"
     ]
    },
    {
     "name": "stdout",
     "output_type": "stream",
     "text": [
      "ROEM:  0.07342557555700203\n"
     ]
    },
    {
     "name": "stderr",
     "output_type": "stream",
     "text": [
      "                                                                                \r"
     ]
    },
    {
     "name": "stdout",
     "output_type": "stream",
     "text": [
      "ROEM:  0.06936470180130126\n",
      "Validation ROEM:  0.06619751831400643\n"
     ]
    },
    {
     "name": "stderr",
     "output_type": "stream",
     "text": [
      "                                                                                \r"
     ]
    },
    {
     "name": "stdout",
     "output_type": "stream",
     "text": [
      "ROEM:  0.07242038123110123\n"
     ]
    },
    {
     "name": "stderr",
     "output_type": "stream",
     "text": [
      "                                                                                \r"
     ]
    },
    {
     "name": "stdout",
     "output_type": "stream",
     "text": [
      "ROEM:  0.07050015867167139\n"
     ]
    },
    {
     "name": "stderr",
     "output_type": "stream",
     "text": [
      "                                                                                \r"
     ]
    },
    {
     "name": "stdout",
     "output_type": "stream",
     "text": [
      "ROEM:  0.07102867222921967\n"
     ]
    },
    {
     "name": "stderr",
     "output_type": "stream",
     "text": [
      "                                                                                \r"
     ]
    },
    {
     "name": "stdout",
     "output_type": "stream",
     "text": [
      "ROEM:  0.07260001284847768\n"
     ]
    },
    {
     "name": "stderr",
     "output_type": "stream",
     "text": [
      "                                                                                \r"
     ]
    },
    {
     "name": "stdout",
     "output_type": "stream",
     "text": [
      "ROEM:  0.07102451321626244\n",
      "Validation ROEM:  0.06829920179649421\n"
     ]
    },
    {
     "name": "stderr",
     "output_type": "stream",
     "text": [
      "                                                                                \r"
     ]
    },
    {
     "name": "stdout",
     "output_type": "stream",
     "text": [
      "ROEM:  0.07038897281739208\n"
     ]
    },
    {
     "name": "stderr",
     "output_type": "stream",
     "text": [
      "                                                                                \r"
     ]
    },
    {
     "name": "stdout",
     "output_type": "stream",
     "text": [
      "ROEM:  0.071847455490439\n",
      "ROEM:  0.0718059231532587\n"
     ]
    },
    {
     "name": "stderr",
     "output_type": "stream",
     "text": [
      "                                                                                \r"
     ]
    },
    {
     "name": "stdout",
     "output_type": "stream",
     "text": [
      "ROEM:  0.07496120676288544\n",
      "ROEM:  0.07182958860688897\n",
      "Validation ROEM:  0.07135452786692334\n",
      "ROEM:  0.0599330964572337\n",
      "ROEM:  0.06146392865619323\n"
     ]
    },
    {
     "name": "stderr",
     "output_type": "stream",
     "text": [
      "                                                                                \r"
     ]
    },
    {
     "name": "stdout",
     "output_type": "stream",
     "text": [
      "ROEM:  0.06005037847234737\n"
     ]
    },
    {
     "name": "stderr",
     "output_type": "stream",
     "text": [
      "                                                                                \r"
     ]
    },
    {
     "name": "stdout",
     "output_type": "stream",
     "text": [
      "ROEM:  0.06224255110468043\n"
     ]
    },
    {
     "name": "stderr",
     "output_type": "stream",
     "text": [
      "                                                                                \r"
     ]
    },
    {
     "name": "stdout",
     "output_type": "stream",
     "text": [
      "ROEM:  0.06514440698396447\n",
      "Validation ROEM:  0.058507898311697136\n"
     ]
    },
    {
     "name": "stderr",
     "output_type": "stream",
     "text": [
      "                                                                                \r"
     ]
    },
    {
     "name": "stdout",
     "output_type": "stream",
     "text": [
      "ROEM:  0.06047111293533437\n"
     ]
    },
    {
     "name": "stderr",
     "output_type": "stream",
     "text": [
      "                                                                                \r"
     ]
    },
    {
     "name": "stdout",
     "output_type": "stream",
     "text": [
      "ROEM:  0.06212585990846027\n"
     ]
    },
    {
     "name": "stderr",
     "output_type": "stream",
     "text": [
      "                                                                                \r"
     ]
    },
    {
     "name": "stdout",
     "output_type": "stream",
     "text": [
      "ROEM:  0.0651322715376972\n"
     ]
    },
    {
     "name": "stderr",
     "output_type": "stream",
     "text": [
      "                                                                                \r"
     ]
    },
    {
     "name": "stdout",
     "output_type": "stream",
     "text": [
      "ROEM:  0.07009901376507553\n"
     ]
    },
    {
     "name": "stderr",
     "output_type": "stream",
     "text": [
      "                                                                                \r"
     ]
    },
    {
     "name": "stdout",
     "output_type": "stream",
     "text": [
      "ROEM:  0.06680230149669668\n",
      "Validation ROEM:  0.06211792004916256\n"
     ]
    },
    {
     "name": "stderr",
     "output_type": "stream",
     "text": [
      "                                                                                \r"
     ]
    },
    {
     "name": "stdout",
     "output_type": "stream",
     "text": [
      "ROEM:  0.06275571833084266\n"
     ]
    },
    {
     "name": "stderr",
     "output_type": "stream",
     "text": [
      "                                                                                \r"
     ]
    },
    {
     "name": "stdout",
     "output_type": "stream",
     "text": [
      "ROEM:  0.06493951927571845\n"
     ]
    },
    {
     "name": "stderr",
     "output_type": "stream",
     "text": [
      "                                                                                \r"
     ]
    },
    {
     "name": "stdout",
     "output_type": "stream",
     "text": [
      "ROEM:  0.06651983010582094\n"
     ]
    },
    {
     "name": "stderr",
     "output_type": "stream",
     "text": [
      "                                                                                \r"
     ]
    },
    {
     "name": "stdout",
     "output_type": "stream",
     "text": [
      "ROEM:  0.07273844782874567\n"
     ]
    },
    {
     "name": "stderr",
     "output_type": "stream",
     "text": [
      "                                                                                \r"
     ]
    },
    {
     "name": "stdout",
     "output_type": "stream",
     "text": [
      "ROEM:  0.0679102939636465\n",
      "Validation ROEM:  0.06348815364426216\n",
      "ROEM:  0.06532189026951937\n"
     ]
    },
    {
     "name": "stderr",
     "output_type": "stream",
     "text": [
      "                                                                                \r"
     ]
    },
    {
     "name": "stdout",
     "output_type": "stream",
     "text": [
      "ROEM:  0.07060853262268403\n"
     ]
    },
    {
     "name": "stderr",
     "output_type": "stream",
     "text": [
      "                                                                                \r"
     ]
    },
    {
     "name": "stdout",
     "output_type": "stream",
     "text": [
      "ROEM:  0.070062633013418\n"
     ]
    },
    {
     "name": "stderr",
     "output_type": "stream",
     "text": [
      "                                                                                \r"
     ]
    },
    {
     "name": "stdout",
     "output_type": "stream",
     "text": [
      "ROEM:  0.07448287450150709\n"
     ]
    },
    {
     "name": "stderr",
     "output_type": "stream",
     "text": [
      "                                                                                \r"
     ]
    },
    {
     "name": "stdout",
     "output_type": "stream",
     "text": [
      "ROEM:  0.07049957673735059\n",
      "Validation ROEM:  0.06409664203303121\n"
     ]
    },
    {
     "name": "stderr",
     "output_type": "stream",
     "text": [
      "                                                                                \r"
     ]
    },
    {
     "name": "stdout",
     "output_type": "stream",
     "text": [
      "ROEM:  0.058482963584374964\n"
     ]
    },
    {
     "name": "stderr",
     "output_type": "stream",
     "text": [
      "                                                                                \r"
     ]
    },
    {
     "name": "stdout",
     "output_type": "stream",
     "text": [
      "ROEM:  0.05910887053437356\n"
     ]
    },
    {
     "name": "stderr",
     "output_type": "stream",
     "text": [
      "                                                                                \r"
     ]
    },
    {
     "name": "stdout",
     "output_type": "stream",
     "text": [
      "ROEM:  0.059656478637053215\n"
     ]
    },
    {
     "name": "stderr",
     "output_type": "stream",
     "text": [
      "                                                                                \r"
     ]
    },
    {
     "name": "stdout",
     "output_type": "stream",
     "text": [
      "ROEM:  0.06128934808532393\n"
     ]
    },
    {
     "name": "stderr",
     "output_type": "stream",
     "text": [
      "                                                                                \r"
     ]
    },
    {
     "name": "stdout",
     "output_type": "stream",
     "text": [
      "ROEM:  0.062042001811429055\n",
      "Validation ROEM:  0.05766655702071457\n"
     ]
    },
    {
     "name": "stderr",
     "output_type": "stream",
     "text": [
      "                                                                                \r"
     ]
    },
    {
     "name": "stdout",
     "output_type": "stream",
     "text": [
      "ROEM:  0.05798594597682218\n"
     ]
    },
    {
     "name": "stderr",
     "output_type": "stream",
     "text": [
      "                                                                                \r"
     ]
    },
    {
     "name": "stdout",
     "output_type": "stream",
     "text": [
      "ROEM:  0.06047159732989644\n"
     ]
    },
    {
     "name": "stderr",
     "output_type": "stream",
     "text": [
      "                                                                                \r"
     ]
    },
    {
     "name": "stdout",
     "output_type": "stream",
     "text": [
      "ROEM:  0.06257045579337664\n"
     ]
    },
    {
     "name": "stderr",
     "output_type": "stream",
     "text": [
      "                                                                                \r"
     ]
    },
    {
     "name": "stdout",
     "output_type": "stream",
     "text": [
      "ROEM:  0.06605528496975663\n"
     ]
    },
    {
     "name": "stderr",
     "output_type": "stream",
     "text": [
      "                                                                                \r"
     ]
    },
    {
     "name": "stdout",
     "output_type": "stream",
     "text": [
      "ROEM:  0.06535048384420801\n",
      "Validation ROEM:  0.05888643870717509\n"
     ]
    },
    {
     "name": "stderr",
     "output_type": "stream",
     "text": [
      "                                                                                \r"
     ]
    },
    {
     "name": "stdout",
     "output_type": "stream",
     "text": [
      "ROEM:  0.06093339286342318\n"
     ]
    },
    {
     "name": "stderr",
     "output_type": "stream",
     "text": [
      "                                                                                \r"
     ]
    },
    {
     "name": "stdout",
     "output_type": "stream",
     "text": [
      "ROEM:  0.06391253659438312\n"
     ]
    },
    {
     "name": "stderr",
     "output_type": "stream",
     "text": [
      "                                                                                \r"
     ]
    },
    {
     "name": "stdout",
     "output_type": "stream",
     "text": [
      "ROEM:  0.06405175676627464\n"
     ]
    },
    {
     "name": "stderr",
     "output_type": "stream",
     "text": [
      "                                                                                \r"
     ]
    },
    {
     "name": "stdout",
     "output_type": "stream",
     "text": [
      "ROEM:  0.07126165594832437\n"
     ]
    },
    {
     "name": "stderr",
     "output_type": "stream",
     "text": [
      "                                                                                \r"
     ]
    },
    {
     "name": "stdout",
     "output_type": "stream",
     "text": [
      "ROEM:  0.06580252580591357\n",
      "Validation ROEM:  0.06140907683221327\n"
     ]
    },
    {
     "name": "stderr",
     "output_type": "stream",
     "text": [
      "                                                                                \r"
     ]
    },
    {
     "name": "stdout",
     "output_type": "stream",
     "text": [
      "ROEM:  0.06264584686892982\n"
     ]
    },
    {
     "name": "stderr",
     "output_type": "stream",
     "text": [
      "                                                                                \r"
     ]
    },
    {
     "name": "stdout",
     "output_type": "stream",
     "text": [
      "ROEM:  0.06635278682796689\n"
     ]
    },
    {
     "name": "stderr",
     "output_type": "stream",
     "text": [
      "                                                                                \r"
     ]
    },
    {
     "name": "stdout",
     "output_type": "stream",
     "text": [
      "ROEM:  0.06715584511661955\n"
     ]
    },
    {
     "name": "stderr",
     "output_type": "stream",
     "text": [
      "                                                                                \r"
     ]
    },
    {
     "name": "stdout",
     "output_type": "stream",
     "text": [
      "ROEM:  0.07183987445266628\n"
     ]
    },
    {
     "name": "stderr",
     "output_type": "stream",
     "text": [
      "                                                                                \r"
     ]
    },
    {
     "name": "stdout",
     "output_type": "stream",
     "text": [
      "ROEM:  0.06702713857590104\n",
      "Validation ROEM:  0.06188259748662725\n"
     ]
    },
    {
     "name": "stderr",
     "output_type": "stream",
     "text": [
      "                                                                                \r"
     ]
    },
    {
     "name": "stdout",
     "output_type": "stream",
     "text": [
      "ROEM:  0.057633389037291864\n"
     ]
    },
    {
     "name": "stderr",
     "output_type": "stream",
     "text": [
      "                                                                                \r"
     ]
    },
    {
     "name": "stdout",
     "output_type": "stream",
     "text": [
      "ROEM:  0.05781339764680457\n"
     ]
    },
    {
     "name": "stderr",
     "output_type": "stream",
     "text": [
      "                                                                                \r"
     ]
    },
    {
     "name": "stdout",
     "output_type": "stream",
     "text": [
      "ROEM:  0.05960876686173768\n",
      "ROEM:  0.06124307798309739\n",
      "ROEM:  0.060503301651438704\n",
      "Validation ROEM:  0.0564770817716647\n"
     ]
    },
    {
     "name": "stderr",
     "output_type": "stream",
     "text": [
      "                                                                                \r"
     ]
    },
    {
     "name": "stdout",
     "output_type": "stream",
     "text": [
      "ROEM:  0.05730272424932455\n"
     ]
    },
    {
     "name": "stderr",
     "output_type": "stream",
     "text": [
      "                                                                                \r"
     ]
    },
    {
     "name": "stdout",
     "output_type": "stream",
     "text": [
      "ROEM:  0.06054597780321689\n"
     ]
    },
    {
     "name": "stderr",
     "output_type": "stream",
     "text": [
      "                                                                                \r"
     ]
    },
    {
     "name": "stdout",
     "output_type": "stream",
     "text": [
      "ROEM:  0.06108020051220962\n"
     ]
    },
    {
     "name": "stderr",
     "output_type": "stream",
     "text": [
      "                                                                                \r"
     ]
    },
    {
     "name": "stdout",
     "output_type": "stream",
     "text": [
      "ROEM:  0.06441623888886204\n"
     ]
    },
    {
     "name": "stderr",
     "output_type": "stream",
     "text": [
      "                                                                                \r"
     ]
    },
    {
     "name": "stdout",
     "output_type": "stream",
     "text": [
      "ROEM:  0.06377374236132849\n",
      "Validation ROEM:  0.05710969160130639\n",
      "ROEM:  0.060283600856045685\n"
     ]
    },
    {
     "name": "stderr",
     "output_type": "stream",
     "text": [
      "                                                                                \r"
     ]
    },
    {
     "name": "stdout",
     "output_type": "stream",
     "text": [
      "ROEM:  0.06101244361435904\n"
     ]
    },
    {
     "name": "stderr",
     "output_type": "stream",
     "text": [
      "                                                                                \r"
     ]
    },
    {
     "name": "stdout",
     "output_type": "stream",
     "text": [
      "ROEM:  0.06293844015323384\n"
     ]
    },
    {
     "name": "stderr",
     "output_type": "stream",
     "text": [
      "                                                                                \r"
     ]
    },
    {
     "name": "stdout",
     "output_type": "stream",
     "text": [
      "ROEM:  0.06787892498104964\n"
     ]
    },
    {
     "name": "stderr",
     "output_type": "stream",
     "text": [
      "                                                                                \r"
     ]
    },
    {
     "name": "stdout",
     "output_type": "stream",
     "text": [
      "ROEM:  0.06512050097902253\n",
      "Validation ROEM:  0.06026587599898471\n"
     ]
    },
    {
     "name": "stderr",
     "output_type": "stream",
     "text": [
      "                                                                                \r"
     ]
    },
    {
     "name": "stdout",
     "output_type": "stream",
     "text": [
      "ROEM:  0.06239529231995784\n"
     ]
    },
    {
     "name": "stderr",
     "output_type": "stream",
     "text": [
      "                                                                                \r"
     ]
    },
    {
     "name": "stdout",
     "output_type": "stream",
     "text": [
      "ROEM:  0.0631627639893063\n",
      "ROEM:  0.0641835260964594\n"
     ]
    },
    {
     "name": "stderr",
     "output_type": "stream",
     "text": [
      "                                                                                \r"
     ]
    },
    {
     "name": "stdout",
     "output_type": "stream",
     "text": [
      "ROEM:  0.07040853414571534\n"
     ]
    },
    {
     "name": "stderr",
     "output_type": "stream",
     "text": [
      "                                                                                \r"
     ]
    },
    {
     "name": "stdout",
     "output_type": "stream",
     "text": [
      "ROEM:  0.06513050994189348\n",
      "Validation ROEM:  0.06128016624816688\n"
     ]
    },
    {
     "name": "stderr",
     "output_type": "stream",
     "text": [
      "                                                                                \r"
     ]
    },
    {
     "name": "stdout",
     "output_type": "stream",
     "text": [
      "ROEM:  0.0584777238279347\n",
      "ROEM:  0.060024324501095384\n"
     ]
    },
    {
     "name": "stderr",
     "output_type": "stream",
     "text": [
      "                                                                                \r"
     ]
    },
    {
     "name": "stdout",
     "output_type": "stream",
     "text": [
      "ROEM:  0.05983634024589644\n"
     ]
    },
    {
     "name": "stderr",
     "output_type": "stream",
     "text": [
      "                                                                                \r"
     ]
    },
    {
     "name": "stdout",
     "output_type": "stream",
     "text": [
      "ROEM:  0.061809216118923586\n"
     ]
    },
    {
     "name": "stderr",
     "output_type": "stream",
     "text": [
      "                                                                                \r"
     ]
    },
    {
     "name": "stdout",
     "output_type": "stream",
     "text": [
      "ROEM:  0.06403112260342825\n",
      "Validation ROEM:  0.059786985066185024\n"
     ]
    },
    {
     "name": "stderr",
     "output_type": "stream",
     "text": [
      "                                                                                \r"
     ]
    },
    {
     "name": "stdout",
     "output_type": "stream",
     "text": [
      "ROEM:  0.05995803096317418\n"
     ]
    },
    {
     "name": "stderr",
     "output_type": "stream",
     "text": [
      "                                                                                \r"
     ]
    },
    {
     "name": "stdout",
     "output_type": "stream",
     "text": [
      "ROEM:  0.061339354712000686\n"
     ]
    },
    {
     "name": "stderr",
     "output_type": "stream",
     "text": [
      "                                                                                \r"
     ]
    },
    {
     "name": "stdout",
     "output_type": "stream",
     "text": [
      "ROEM:  0.06477244108529044\n",
      "ROEM:  0.06754195592691886\n"
     ]
    },
    {
     "name": "stderr",
     "output_type": "stream",
     "text": [
      "                                                                                \r"
     ]
    },
    {
     "name": "stdout",
     "output_type": "stream",
     "text": [
      "ROEM:  0.06616517436172836\n",
      "Validation ROEM:  0.058552277145861066\n"
     ]
    },
    {
     "name": "stderr",
     "output_type": "stream",
     "text": [
      "                                                                                \r"
     ]
    },
    {
     "name": "stdout",
     "output_type": "stream",
     "text": [
      "ROEM:  0.06066712582874138\n"
     ]
    },
    {
     "name": "stderr",
     "output_type": "stream",
     "text": [
      "                                                                                \r"
     ]
    },
    {
     "name": "stdout",
     "output_type": "stream",
     "text": [
      "ROEM:  0.06202686523450442\n"
     ]
    },
    {
     "name": "stderr",
     "output_type": "stream",
     "text": [
      "                                                                                \r"
     ]
    },
    {
     "name": "stdout",
     "output_type": "stream",
     "text": [
      "ROEM:  0.06555310104339628\n",
      "ROEM:  0.07006312112060044\n"
     ]
    },
    {
     "name": "stderr",
     "output_type": "stream",
     "text": [
      "                                                                                \r"
     ]
    },
    {
     "name": "stdout",
     "output_type": "stream",
     "text": [
      "ROEM:  0.06689625331301254\n",
      "Validation ROEM:  0.06152199806562477\n"
     ]
    },
    {
     "name": "stderr",
     "output_type": "stream",
     "text": [
      "                                                                                \r"
     ]
    },
    {
     "name": "stdout",
     "output_type": "stream",
     "text": [
      "ROEM:  0.06398858835229944\n",
      "ROEM:  0.06615370285715788\n",
      "ROEM:  0.06587289615663382\n"
     ]
    },
    {
     "name": "stderr",
     "output_type": "stream",
     "text": [
      "                                                                                \r"
     ]
    },
    {
     "name": "stdout",
     "output_type": "stream",
     "text": [
      "ROEM:  0.07252503537166911\n",
      "ROEM:  0.06861049994732649\n",
      "Validation ROEM:  0.06339926437131896\n"
     ]
    },
    {
     "name": "stderr",
     "output_type": "stream",
     "text": [
      "                                                                                \r"
     ]
    },
    {
     "name": "stdout",
     "output_type": "stream",
     "text": [
      "ROEM:  0.05789560563048003\n"
     ]
    },
    {
     "name": "stderr",
     "output_type": "stream",
     "text": [
      "                                                                                \r"
     ]
    },
    {
     "name": "stdout",
     "output_type": "stream",
     "text": [
      "ROEM:  0.05701242329083001\n"
     ]
    },
    {
     "name": "stderr",
     "output_type": "stream",
     "text": [
      "                                                                                \r"
     ]
    },
    {
     "name": "stdout",
     "output_type": "stream",
     "text": [
      "ROEM:  0.058924170705467314\n"
     ]
    },
    {
     "name": "stderr",
     "output_type": "stream",
     "text": [
      "                                                                                \r"
     ]
    },
    {
     "name": "stdout",
     "output_type": "stream",
     "text": [
      "ROEM:  0.06221128565871038\n"
     ]
    },
    {
     "name": "stderr",
     "output_type": "stream",
     "text": [
      "                                                                                \r"
     ]
    },
    {
     "name": "stdout",
     "output_type": "stream",
     "text": [
      "ROEM:  0.06250429711552463\n",
      "Validation ROEM:  0.05856299173667054\n"
     ]
    },
    {
     "name": "stderr",
     "output_type": "stream",
     "text": [
      "                                                                                \r"
     ]
    },
    {
     "name": "stdout",
     "output_type": "stream",
     "text": [
      "ROEM:  0.058994669497949265\n"
     ]
    },
    {
     "name": "stderr",
     "output_type": "stream",
     "text": [
      "                                                                                \r"
     ]
    },
    {
     "name": "stdout",
     "output_type": "stream",
     "text": [
      "ROEM:  0.05891048770276689\n"
     ]
    },
    {
     "name": "stderr",
     "output_type": "stream",
     "text": [
      "                                                                                \r"
     ]
    },
    {
     "name": "stdout",
     "output_type": "stream",
     "text": [
      "ROEM:  0.062168413058362425\n"
     ]
    },
    {
     "name": "stderr",
     "output_type": "stream",
     "text": [
      "                                                                                \r"
     ]
    },
    {
     "name": "stdout",
     "output_type": "stream",
     "text": [
      "ROEM:  0.06512686294935038\n"
     ]
    },
    {
     "name": "stderr",
     "output_type": "stream",
     "text": [
      "                                                                                \r"
     ]
    },
    {
     "name": "stdout",
     "output_type": "stream",
     "text": [
      "ROEM:  0.06506216305447254\n",
      "Validation ROEM:  0.05825718330149835\n"
     ]
    },
    {
     "name": "stderr",
     "output_type": "stream",
     "text": [
      "                                                                                \r"
     ]
    },
    {
     "name": "stdout",
     "output_type": "stream",
     "text": [
      "ROEM:  0.05911442027298822\n"
     ]
    },
    {
     "name": "stderr",
     "output_type": "stream",
     "text": [
      "                                                                                \r"
     ]
    },
    {
     "name": "stdout",
     "output_type": "stream",
     "text": [
      "ROEM:  0.06132204315302137\n"
     ]
    },
    {
     "name": "stderr",
     "output_type": "stream",
     "text": [
      "                                                                                \r"
     ]
    },
    {
     "name": "stdout",
     "output_type": "stream",
     "text": [
      "ROEM:  0.06322491912874098\n"
     ]
    },
    {
     "name": "stderr",
     "output_type": "stream",
     "text": [
      "                                                                                \r"
     ]
    },
    {
     "name": "stdout",
     "output_type": "stream",
     "text": [
      "ROEM:  0.06840930415098004\n"
     ]
    },
    {
     "name": "stderr",
     "output_type": "stream",
     "text": [
      "                                                                                \r"
     ]
    },
    {
     "name": "stdout",
     "output_type": "stream",
     "text": [
      "ROEM:  0.066327926572162\n",
      "Validation ROEM:  0.059793124039794865\n"
     ]
    },
    {
     "name": "stderr",
     "output_type": "stream",
     "text": [
      "                                                                                \r"
     ]
    },
    {
     "name": "stdout",
     "output_type": "stream",
     "text": [
      "ROEM:  0.06157824677145308\n"
     ]
    },
    {
     "name": "stderr",
     "output_type": "stream",
     "text": [
      "                                                                                \r"
     ]
    },
    {
     "name": "stdout",
     "output_type": "stream",
     "text": [
      "ROEM:  0.06189827548162923\n"
     ]
    },
    {
     "name": "stderr",
     "output_type": "stream",
     "text": [
      "                                                                                \r"
     ]
    },
    {
     "name": "stdout",
     "output_type": "stream",
     "text": [
      "ROEM:  0.06201868777523589\n"
     ]
    },
    {
     "name": "stderr",
     "output_type": "stream",
     "text": [
      "                                                                                \r"
     ]
    },
    {
     "name": "stdout",
     "output_type": "stream",
     "text": [
      "ROEM:  0.06982813652210017\n"
     ]
    },
    {
     "name": "stderr",
     "output_type": "stream",
     "text": [
      "                                                                                \r"
     ]
    },
    {
     "name": "stdout",
     "output_type": "stream",
     "text": [
      "ROEM:  0.06642707917498111\n",
      "Validation ROEM:  0.06114294145678215\n",
      "ROEM:  0.05843169137946043\n"
     ]
    },
    {
     "name": "stderr",
     "output_type": "stream",
     "text": [
      "                                                                                \r"
     ]
    },
    {
     "name": "stdout",
     "output_type": "stream",
     "text": [
      "ROEM:  0.05542209677090418\n"
     ]
    },
    {
     "name": "stderr",
     "output_type": "stream",
     "text": [
      "                                                                                \r"
     ]
    },
    {
     "name": "stdout",
     "output_type": "stream",
     "text": [
      "ROEM:  0.05846280614404518\n"
     ]
    },
    {
     "name": "stderr",
     "output_type": "stream",
     "text": [
      "                                                                                \r"
     ]
    },
    {
     "name": "stdout",
     "output_type": "stream",
     "text": [
      "ROEM:  0.061285121585212626\n"
     ]
    },
    {
     "name": "stderr",
     "output_type": "stream",
     "text": [
      "                                                                                \r"
     ]
    },
    {
     "name": "stdout",
     "output_type": "stream",
     "text": [
      "ROEM:  0.06089134687631919\n",
      "Validation ROEM:  0.05713587735468085\n"
     ]
    },
    {
     "name": "stderr",
     "output_type": "stream",
     "text": [
      "                                                                                \r"
     ]
    },
    {
     "name": "stdout",
     "output_type": "stream",
     "text": [
      "ROEM:  0.0594030072884634\n"
     ]
    },
    {
     "name": "stderr",
     "output_type": "stream",
     "text": [
      "                                                                                \r"
     ]
    },
    {
     "name": "stdout",
     "output_type": "stream",
     "text": [
      "ROEM:  0.05974772299749142\n"
     ]
    },
    {
     "name": "stderr",
     "output_type": "stream",
     "text": [
      "                                                                                \r"
     ]
    },
    {
     "name": "stdout",
     "output_type": "stream",
     "text": [
      "ROEM:  0.06072154429461772\n"
     ]
    },
    {
     "name": "stderr",
     "output_type": "stream",
     "text": [
      "                                                                                \r"
     ]
    },
    {
     "name": "stdout",
     "output_type": "stream",
     "text": [
      "ROEM:  0.06373662805611166\n"
     ]
    },
    {
     "name": "stderr",
     "output_type": "stream",
     "text": [
      "                                                                                \r"
     ]
    },
    {
     "name": "stdout",
     "output_type": "stream",
     "text": [
      "ROEM:  0.06439376037109612\n",
      "Validation ROEM:  0.05715942272111182\n"
     ]
    },
    {
     "name": "stderr",
     "output_type": "stream",
     "text": [
      "                                                                                \r"
     ]
    },
    {
     "name": "stdout",
     "output_type": "stream",
     "text": [
      "ROEM:  0.058414834402111766\n"
     ]
    },
    {
     "name": "stderr",
     "output_type": "stream",
     "text": [
      "                                                                                \r"
     ]
    },
    {
     "name": "stdout",
     "output_type": "stream",
     "text": [
      "ROEM:  0.06125590847032469\n"
     ]
    },
    {
     "name": "stderr",
     "output_type": "stream",
     "text": [
      "                                                                                \r"
     ]
    },
    {
     "name": "stdout",
     "output_type": "stream",
     "text": [
      "ROEM:  0.061371900629031646\n"
     ]
    },
    {
     "name": "stderr",
     "output_type": "stream",
     "text": [
      "                                                                                \r"
     ]
    },
    {
     "name": "stdout",
     "output_type": "stream",
     "text": [
      "ROEM:  0.06705907731243975\n"
     ]
    },
    {
     "name": "stderr",
     "output_type": "stream",
     "text": [
      "                                                                                \r"
     ]
    },
    {
     "name": "stdout",
     "output_type": "stream",
     "text": [
      "ROEM:  0.06483371106154309\n",
      "Validation ROEM:  0.058889114958749086\n"
     ]
    },
    {
     "name": "stderr",
     "output_type": "stream",
     "text": [
      "                                                                                \r"
     ]
    },
    {
     "name": "stdout",
     "output_type": "stream",
     "text": [
      "ROEM:  0.06147982611913445\n"
     ]
    },
    {
     "name": "stderr",
     "output_type": "stream",
     "text": [
      "                                                                                \r"
     ]
    },
    {
     "name": "stdout",
     "output_type": "stream",
     "text": [
      "ROEM:  0.0603544425756023\n"
     ]
    },
    {
     "name": "stderr",
     "output_type": "stream",
     "text": [
      "                                                                                \r"
     ]
    },
    {
     "name": "stdout",
     "output_type": "stream",
     "text": [
      "ROEM:  0.06231073451834775\n"
     ]
    },
    {
     "name": "stderr",
     "output_type": "stream",
     "text": [
      "                                                                                \r"
     ]
    },
    {
     "name": "stdout",
     "output_type": "stream",
     "text": [
      "ROEM:  0.06775591281037886\n",
      "ROEM:  0.0659158700572589\n",
      "Validation ROEM:  0.05997854779492761\n"
     ]
    },
    {
     "name": "stderr",
     "output_type": "stream",
     "text": [
      "                                                                                \r"
     ]
    },
    {
     "name": "stdout",
     "output_type": "stream",
     "text": [
      "ROEM:  0.05892408672079893\n"
     ]
    },
    {
     "name": "stderr",
     "output_type": "stream",
     "text": [
      "                                                                                \r"
     ]
    },
    {
     "name": "stdout",
     "output_type": "stream",
     "text": [
      "ROEM:  0.05949021915851035\n"
     ]
    },
    {
     "name": "stderr",
     "output_type": "stream",
     "text": [
      "                                                                                \r"
     ]
    },
    {
     "name": "stdout",
     "output_type": "stream",
     "text": [
      "ROEM:  0.0588040313202961\n"
     ]
    },
    {
     "name": "stderr",
     "output_type": "stream",
     "text": [
      "                                                                                \r"
     ]
    },
    {
     "name": "stdout",
     "output_type": "stream",
     "text": [
      "ROEM:  0.06374030326190326\n"
     ]
    },
    {
     "name": "stderr",
     "output_type": "stream",
     "text": [
      "                                                                                \r"
     ]
    },
    {
     "name": "stdout",
     "output_type": "stream",
     "text": [
      "ROEM:  0.06470137945598538\n",
      "Validation ROEM:  0.06035131910436517\n"
     ]
    },
    {
     "name": "stderr",
     "output_type": "stream",
     "text": [
      "                                                                                \r"
     ]
    },
    {
     "name": "stdout",
     "output_type": "stream",
     "text": [
      "ROEM:  0.06082277166699591\n"
     ]
    },
    {
     "name": "stderr",
     "output_type": "stream",
     "text": [
      "                                                                                \r"
     ]
    },
    {
     "name": "stdout",
     "output_type": "stream",
     "text": [
      "ROEM:  0.06168403339119556\n"
     ]
    },
    {
     "name": "stderr",
     "output_type": "stream",
     "text": [
      "                                                                                \r"
     ]
    },
    {
     "name": "stdout",
     "output_type": "stream",
     "text": [
      "ROEM:  0.06358601971048362\n"
     ]
    },
    {
     "name": "stderr",
     "output_type": "stream",
     "text": [
      "                                                                                \r"
     ]
    },
    {
     "name": "stdout",
     "output_type": "stream",
     "text": [
      "ROEM:  0.06748735196545885\n"
     ]
    },
    {
     "name": "stderr",
     "output_type": "stream",
     "text": [
      "                                                                                \r"
     ]
    },
    {
     "name": "stdout",
     "output_type": "stream",
     "text": [
      "ROEM:  0.06638348359494085\n",
      "Validation ROEM:  0.05985692945794254\n"
     ]
    },
    {
     "name": "stderr",
     "output_type": "stream",
     "text": [
      "                                                                                \r"
     ]
    },
    {
     "name": "stdout",
     "output_type": "stream",
     "text": [
      "ROEM:  0.06022899839494673\n"
     ]
    },
    {
     "name": "stderr",
     "output_type": "stream",
     "text": [
      "                                                                                \r"
     ]
    },
    {
     "name": "stdout",
     "output_type": "stream",
     "text": [
      "ROEM:  0.0616450259455188\n",
      "ROEM:  0.06558593019254988\n"
     ]
    },
    {
     "name": "stderr",
     "output_type": "stream",
     "text": [
      "                                                                                \r"
     ]
    },
    {
     "name": "stdout",
     "output_type": "stream",
     "text": [
      "ROEM:  0.07029945097534473\n"
     ]
    },
    {
     "name": "stderr",
     "output_type": "stream",
     "text": [
      "                                                                                \r"
     ]
    },
    {
     "name": "stdout",
     "output_type": "stream",
     "text": [
      "ROEM:  0.0668406537300308\n",
      "Validation ROEM:  0.06022131488433199\n"
     ]
    },
    {
     "name": "stderr",
     "output_type": "stream",
     "text": [
      "                                                                                \r"
     ]
    },
    {
     "name": "stdout",
     "output_type": "stream",
     "text": [
      "ROEM:  0.061547817112922634\n"
     ]
    },
    {
     "name": "stderr",
     "output_type": "stream",
     "text": [
      "                                                                                \r"
     ]
    },
    {
     "name": "stdout",
     "output_type": "stream",
     "text": [
      "ROEM:  0.06605318486411581\n"
     ]
    },
    {
     "name": "stderr",
     "output_type": "stream",
     "text": [
      "                                                                                \r"
     ]
    },
    {
     "name": "stdout",
     "output_type": "stream",
     "text": [
      "ROEM:  0.06447880993890912\n"
     ]
    },
    {
     "name": "stderr",
     "output_type": "stream",
     "text": [
      "                                                                                \r"
     ]
    },
    {
     "name": "stdout",
     "output_type": "stream",
     "text": [
      "ROEM:  0.07140934900346053\n"
     ]
    },
    {
     "name": "stderr",
     "output_type": "stream",
     "text": [
      "                                                                                \r"
     ]
    },
    {
     "name": "stdout",
     "output_type": "stream",
     "text": [
      "ROEM:  0.06810380833297719\n",
      "Validation ROEM:  0.06348223133200873\n",
      "ROEM:  0.058353255233571696\n"
     ]
    },
    {
     "name": "stderr",
     "output_type": "stream",
     "text": [
      "                                                                                \r"
     ]
    },
    {
     "name": "stdout",
     "output_type": "stream",
     "text": [
      "ROEM:  0.057444967425511785\n"
     ]
    },
    {
     "name": "stderr",
     "output_type": "stream",
     "text": [
      "                                                                                \r"
     ]
    },
    {
     "name": "stdout",
     "output_type": "stream",
     "text": [
      "ROEM:  0.05864333828774179\n"
     ]
    },
    {
     "name": "stderr",
     "output_type": "stream",
     "text": [
      "                                                                                \r"
     ]
    },
    {
     "name": "stdout",
     "output_type": "stream",
     "text": [
      "ROEM:  0.0631464867507409\n",
      "ROEM:  0.06290909089685796\n",
      "Validation ROEM:  0.05820043581291026\n"
     ]
    },
    {
     "name": "stderr",
     "output_type": "stream",
     "text": [
      "                                                                                \r"
     ]
    },
    {
     "name": "stdout",
     "output_type": "stream",
     "text": [
      "ROEM:  0.059330466011993904\n"
     ]
    },
    {
     "name": "stderr",
     "output_type": "stream",
     "text": [
      "                                                                                \r"
     ]
    },
    {
     "name": "stdout",
     "output_type": "stream",
     "text": [
      "ROEM:  0.058864828293679866\n"
     ]
    },
    {
     "name": "stderr",
     "output_type": "stream",
     "text": [
      "                                                                                \r"
     ]
    },
    {
     "name": "stdout",
     "output_type": "stream",
     "text": [
      "ROEM:  0.06281089181622992\n"
     ]
    },
    {
     "name": "stderr",
     "output_type": "stream",
     "text": [
      "                                                                                \r"
     ]
    },
    {
     "name": "stdout",
     "output_type": "stream",
     "text": [
      "ROEM:  0.0649363759089195\n"
     ]
    },
    {
     "name": "stderr",
     "output_type": "stream",
     "text": [
      "                                                                                \r"
     ]
    },
    {
     "name": "stdout",
     "output_type": "stream",
     "text": [
      "ROEM:  0.06402969214044076\n",
      "Validation ROEM:  0.0586026763414957\n"
     ]
    },
    {
     "name": "stderr",
     "output_type": "stream",
     "text": [
      "                                                                                \r"
     ]
    },
    {
     "name": "stdout",
     "output_type": "stream",
     "text": [
      "ROEM:  0.05895418603591483\n"
     ]
    },
    {
     "name": "stderr",
     "output_type": "stream",
     "text": [
      "                                                                                \r"
     ]
    },
    {
     "name": "stdout",
     "output_type": "stream",
     "text": [
      "ROEM:  0.06061979711822713\n"
     ]
    },
    {
     "name": "stderr",
     "output_type": "stream",
     "text": [
      "                                                                                \r"
     ]
    },
    {
     "name": "stdout",
     "output_type": "stream",
     "text": [
      "ROEM:  0.06287518471845784\n"
     ]
    },
    {
     "name": "stderr",
     "output_type": "stream",
     "text": [
      "                                                                                \r"
     ]
    },
    {
     "name": "stdout",
     "output_type": "stream",
     "text": [
      "ROEM:  0.06708328474151572\n"
     ]
    },
    {
     "name": "stderr",
     "output_type": "stream",
     "text": [
      "                                                                                \r"
     ]
    },
    {
     "name": "stdout",
     "output_type": "stream",
     "text": [
      "ROEM:  0.06599004876320536\n",
      "Validation ROEM:  0.059592907914348466\n"
     ]
    },
    {
     "name": "stderr",
     "output_type": "stream",
     "text": [
      "                                                                                \r"
     ]
    },
    {
     "name": "stdout",
     "output_type": "stream",
     "text": [
      "ROEM:  0.06017227640201709\n"
     ]
    },
    {
     "name": "stderr",
     "output_type": "stream",
     "text": [
      "                                                                                \r"
     ]
    },
    {
     "name": "stdout",
     "output_type": "stream",
     "text": [
      "ROEM:  0.06207373685316676\n"
     ]
    },
    {
     "name": "stderr",
     "output_type": "stream",
     "text": [
      "                                                                                \r"
     ]
    },
    {
     "name": "stdout",
     "output_type": "stream",
     "text": [
      "ROEM:  0.061518709979773094\n"
     ]
    },
    {
     "name": "stderr",
     "output_type": "stream",
     "text": [
      "                                                                                \r"
     ]
    },
    {
     "name": "stdout",
     "output_type": "stream",
     "text": [
      "ROEM:  0.06860032008790933\n"
     ]
    },
    {
     "name": "stderr",
     "output_type": "stream",
     "text": [
      "                                                                                \r"
     ]
    },
    {
     "name": "stdout",
     "output_type": "stream",
     "text": [
      "ROEM:  0.06533636368550591\n",
      "Validation ROEM:  0.06093857631444795\n"
     ]
    },
    {
     "name": "stderr",
     "output_type": "stream",
     "text": [
      "                                                                                \r"
     ]
    },
    {
     "name": "stdout",
     "output_type": "stream",
     "text": [
      "ROEM:  0.059740798216070076\n"
     ]
    },
    {
     "name": "stderr",
     "output_type": "stream",
     "text": [
      "                                                                                \r"
     ]
    },
    {
     "name": "stdout",
     "output_type": "stream",
     "text": [
      "ROEM:  0.055878790652392304\n"
     ]
    },
    {
     "name": "stderr",
     "output_type": "stream",
     "text": [
      "                                                                                \r"
     ]
    },
    {
     "name": "stdout",
     "output_type": "stream",
     "text": [
      "ROEM:  0.05859827247443271\n"
     ]
    },
    {
     "name": "stderr",
     "output_type": "stream",
     "text": [
      "                                                                                \r"
     ]
    },
    {
     "name": "stdout",
     "output_type": "stream",
     "text": [
      "ROEM:  0.062293956330389595\n"
     ]
    },
    {
     "name": "stderr",
     "output_type": "stream",
     "text": [
      "                                                                                \r"
     ]
    },
    {
     "name": "stdout",
     "output_type": "stream",
     "text": [
      "ROEM:  0.061922373802679384\n",
      "Validation ROEM:  0.056896683893230146\n"
     ]
    },
    {
     "name": "stderr",
     "output_type": "stream",
     "text": [
      "                                                                                \r"
     ]
    },
    {
     "name": "stdout",
     "output_type": "stream",
     "text": [
      "ROEM:  0.05937704840381588\n"
     ]
    },
    {
     "name": "stderr",
     "output_type": "stream",
     "text": [
      "                                                                                \r"
     ]
    },
    {
     "name": "stdout",
     "output_type": "stream",
     "text": [
      "ROEM:  0.059745375832270596\n"
     ]
    },
    {
     "name": "stderr",
     "output_type": "stream",
     "text": [
      "                                                                                \r"
     ]
    },
    {
     "name": "stdout",
     "output_type": "stream",
     "text": [
      "ROEM:  0.06113884282377892\n"
     ]
    },
    {
     "name": "stderr",
     "output_type": "stream",
     "text": [
      "                                                                                \r"
     ]
    },
    {
     "name": "stdout",
     "output_type": "stream",
     "text": [
      "ROEM:  0.06408917938320405\n"
     ]
    },
    {
     "name": "stderr",
     "output_type": "stream",
     "text": [
      "                                                                                \r"
     ]
    },
    {
     "name": "stdout",
     "output_type": "stream",
     "text": [
      "ROEM:  0.06527162486202136\n",
      "Validation ROEM:  0.057685441180443116\n",
      "ROEM:  0.058658917083986656\n",
      "ROEM:  0.06165999638734249\n"
     ]
    },
    {
     "name": "stderr",
     "output_type": "stream",
     "text": [
      "                                                                                \r"
     ]
    },
    {
     "name": "stdout",
     "output_type": "stream",
     "text": [
      "ROEM:  0.061309218512251476\n"
     ]
    },
    {
     "name": "stderr",
     "output_type": "stream",
     "text": [
      "                                                                                \r"
     ]
    },
    {
     "name": "stdout",
     "output_type": "stream",
     "text": [
      "ROEM:  0.06667978014786917\n"
     ]
    },
    {
     "name": "stderr",
     "output_type": "stream",
     "text": [
      "                                                                                \r"
     ]
    },
    {
     "name": "stdout",
     "output_type": "stream",
     "text": [
      "ROEM:  0.06465370984571256\n",
      "Validation ROEM:  0.058347064588287194\n"
     ]
    },
    {
     "name": "stderr",
     "output_type": "stream",
     "text": [
      "                                                                                \r"
     ]
    },
    {
     "name": "stdout",
     "output_type": "stream",
     "text": [
      "ROEM:  0.06045693045498914\n"
     ]
    },
    {
     "name": "stderr",
     "output_type": "stream",
     "text": [
      "                                                                                \r"
     ]
    },
    {
     "name": "stdout",
     "output_type": "stream",
     "text": [
      "ROEM:  0.059706219509571355\n"
     ]
    },
    {
     "name": "stderr",
     "output_type": "stream",
     "text": [
      "                                                                                \r"
     ]
    },
    {
     "name": "stdout",
     "output_type": "stream",
     "text": [
      "ROEM:  0.06190739601210307\n"
     ]
    },
    {
     "name": "stderr",
     "output_type": "stream",
     "text": [
      "                                                                                \r"
     ]
    },
    {
     "name": "stdout",
     "output_type": "stream",
     "text": [
      "ROEM:  0.06763827125262183\n"
     ]
    },
    {
     "name": "stderr",
     "output_type": "stream",
     "text": [
      "                                                                                \r"
     ]
    },
    {
     "name": "stdout",
     "output_type": "stream",
     "text": [
      "ROEM:  0.06567095610339581\n",
      "Validation ROEM:  0.05935975056262684\n"
     ]
    },
    {
     "name": "stderr",
     "output_type": "stream",
     "text": [
      "                                                                                \r"
     ]
    },
    {
     "name": "stdout",
     "output_type": "stream",
     "text": [
      "ROEM:  0.059197965360642764\n"
     ]
    },
    {
     "name": "stderr",
     "output_type": "stream",
     "text": [
      "                                                                                \r"
     ]
    },
    {
     "name": "stdout",
     "output_type": "stream",
     "text": [
      "ROEM:  0.059091698713039764\n"
     ]
    },
    {
     "name": "stderr",
     "output_type": "stream",
     "text": [
      "                                                                                \r"
     ]
    },
    {
     "name": "stdout",
     "output_type": "stream",
     "text": [
      "ROEM:  0.05914462736449925\n"
     ]
    },
    {
     "name": "stderr",
     "output_type": "stream",
     "text": [
      "                                                                                \r"
     ]
    },
    {
     "name": "stdout",
     "output_type": "stream",
     "text": [
      "ROEM:  0.06460044097455256\n",
      "ROEM:  0.0642957324159114\n",
      "Validation ROEM:  0.060249984062521564\n"
     ]
    },
    {
     "name": "stderr",
     "output_type": "stream",
     "text": [
      "                                                                                \r"
     ]
    },
    {
     "name": "stdout",
     "output_type": "stream",
     "text": [
      "ROEM:  0.06026910568575324\n"
     ]
    },
    {
     "name": "stderr",
     "output_type": "stream",
     "text": [
      "                                                                                \r"
     ]
    },
    {
     "name": "stdout",
     "output_type": "stream",
     "text": [
      "ROEM:  0.06087033503609402\n"
     ]
    },
    {
     "name": "stderr",
     "output_type": "stream",
     "text": [
      "                                                                                \r"
     ]
    },
    {
     "name": "stdout",
     "output_type": "stream",
     "text": [
      "ROEM:  0.0634726791337921\n"
     ]
    },
    {
     "name": "stderr",
     "output_type": "stream",
     "text": [
      "                                                                                \r"
     ]
    },
    {
     "name": "stdout",
     "output_type": "stream",
     "text": [
      "ROEM:  0.06620525053261496\n"
     ]
    },
    {
     "name": "stderr",
     "output_type": "stream",
     "text": [
      "                                                                                \r"
     ]
    },
    {
     "name": "stdout",
     "output_type": "stream",
     "text": [
      "ROEM:  0.06679540256320032\n",
      "Validation ROEM:  0.060416884118524104\n"
     ]
    },
    {
     "name": "stderr",
     "output_type": "stream",
     "text": [
      "                                                                                \r"
     ]
    },
    {
     "name": "stdout",
     "output_type": "stream",
     "text": [
      "ROEM:  0.06127330921208848\n"
     ]
    },
    {
     "name": "stderr",
     "output_type": "stream",
     "text": [
      "                                                                                \r"
     ]
    },
    {
     "name": "stdout",
     "output_type": "stream",
     "text": [
      "ROEM:  0.061133690842179546\n"
     ]
    },
    {
     "name": "stderr",
     "output_type": "stream",
     "text": [
      "                                                                                \r"
     ]
    },
    {
     "name": "stdout",
     "output_type": "stream",
     "text": [
      "ROEM:  0.0651707797164681\n"
     ]
    },
    {
     "name": "stderr",
     "output_type": "stream",
     "text": [
      "                                                                                \r"
     ]
    },
    {
     "name": "stdout",
     "output_type": "stream",
     "text": [
      "ROEM:  0.069470708117442\n",
      "ROEM:  0.06581412404594064\n",
      "Validation ROEM:  0.05931912311754482\n"
     ]
    },
    {
     "name": "stderr",
     "output_type": "stream",
     "text": [
      "                                                                                \r"
     ]
    },
    {
     "name": "stdout",
     "output_type": "stream",
     "text": [
      "ROEM:  0.061425006438554225\n"
     ]
    },
    {
     "name": "stderr",
     "output_type": "stream",
     "text": [
      "                                                                                \r"
     ]
    },
    {
     "name": "stdout",
     "output_type": "stream",
     "text": [
      "ROEM:  0.06582563393012122\n"
     ]
    },
    {
     "name": "stderr",
     "output_type": "stream",
     "text": [
      "                                                                                \r"
     ]
    },
    {
     "name": "stdout",
     "output_type": "stream",
     "text": [
      "ROEM:  0.06411036899769025\n"
     ]
    },
    {
     "name": "stderr",
     "output_type": "stream",
     "text": [
      "                                                                                \r"
     ]
    },
    {
     "name": "stdout",
     "output_type": "stream",
     "text": [
      "ROEM:  0.07071437495276904\n"
     ]
    },
    {
     "name": "stderr",
     "output_type": "stream",
     "text": [
      "                                                                                \r"
     ]
    },
    {
     "name": "stdout",
     "output_type": "stream",
     "text": [
      "ROEM:  0.06751505901001371\n",
      "Validation ROEM:  0.06310512887483043\n"
     ]
    },
    {
     "name": "stderr",
     "output_type": "stream",
     "text": [
      "                                                                                \r"
     ]
    },
    {
     "name": "stdout",
     "output_type": "stream",
     "text": [
      "ROEM:  0.05838175510859693\n"
     ]
    },
    {
     "name": "stderr",
     "output_type": "stream",
     "text": [
      "                                                                                \r"
     ]
    },
    {
     "name": "stdout",
     "output_type": "stream",
     "text": [
      "ROEM:  0.0569116012388312\n"
     ]
    },
    {
     "name": "stderr",
     "output_type": "stream",
     "text": [
      "                                                                                \r"
     ]
    },
    {
     "name": "stdout",
     "output_type": "stream",
     "text": [
      "ROEM:  0.059053768163580794\n"
     ]
    },
    {
     "name": "stderr",
     "output_type": "stream",
     "text": [
      "                                                                                \r"
     ]
    },
    {
     "name": "stdout",
     "output_type": "stream",
     "text": [
      "ROEM:  0.06339795887400335\n"
     ]
    },
    {
     "name": "stderr",
     "output_type": "stream",
     "text": [
      "                                                                                \r"
     ]
    },
    {
     "name": "stdout",
     "output_type": "stream",
     "text": [
      "ROEM:  0.06298841856174643\n",
      "Validation ROEM:  0.05847044298806712\n"
     ]
    },
    {
     "name": "stderr",
     "output_type": "stream",
     "text": [
      "                                                                                \r"
     ]
    },
    {
     "name": "stdout",
     "output_type": "stream",
     "text": [
      "ROEM:  0.059242022588449655\n"
     ]
    },
    {
     "name": "stderr",
     "output_type": "stream",
     "text": [
      "                                                                                \r"
     ]
    },
    {
     "name": "stdout",
     "output_type": "stream",
     "text": [
      "ROEM:  0.059288057688091686\n"
     ]
    },
    {
     "name": "stderr",
     "output_type": "stream",
     "text": [
      "                                                                                \r"
     ]
    },
    {
     "name": "stdout",
     "output_type": "stream",
     "text": [
      "ROEM:  0.06206623145485083\n"
     ]
    },
    {
     "name": "stderr",
     "output_type": "stream",
     "text": [
      "                                                                                \r"
     ]
    },
    {
     "name": "stdout",
     "output_type": "stream",
     "text": [
      "ROEM:  0.06406209185269555\n"
     ]
    },
    {
     "name": "stderr",
     "output_type": "stream",
     "text": [
      "                                                                                \r"
     ]
    },
    {
     "name": "stdout",
     "output_type": "stream",
     "text": [
      "ROEM:  0.06470395626992967\n",
      "Validation ROEM:  0.058565922929348965\n"
     ]
    },
    {
     "name": "stderr",
     "output_type": "stream",
     "text": [
      "                                                                                \r"
     ]
    },
    {
     "name": "stdout",
     "output_type": "stream",
     "text": [
      "ROEM:  0.0602179324128204\n"
     ]
    },
    {
     "name": "stderr",
     "output_type": "stream",
     "text": [
      "                                                                                \r"
     ]
    },
    {
     "name": "stdout",
     "output_type": "stream",
     "text": [
      "ROEM:  0.06081786018906827\n"
     ]
    },
    {
     "name": "stderr",
     "output_type": "stream",
     "text": [
      "                                                                                \r"
     ]
    },
    {
     "name": "stdout",
     "output_type": "stream",
     "text": [
      "ROEM:  0.06329572195024415\n"
     ]
    },
    {
     "name": "stderr",
     "output_type": "stream",
     "text": [
      "                                                                                \r"
     ]
    },
    {
     "name": "stdout",
     "output_type": "stream",
     "text": [
      "ROEM:  0.06616494600286173\n"
     ]
    },
    {
     "name": "stderr",
     "output_type": "stream",
     "text": [
      "                                                                                \r"
     ]
    },
    {
     "name": "stdout",
     "output_type": "stream",
     "text": [
      "ROEM:  0.06564293636100188\n",
      "Validation ROEM:  0.05898618857139784\n"
     ]
    },
    {
     "name": "stderr",
     "output_type": "stream",
     "text": [
      "                                                                                \r"
     ]
    },
    {
     "name": "stdout",
     "output_type": "stream",
     "text": [
      "ROEM:  0.06003623092004336\n"
     ]
    },
    {
     "name": "stderr",
     "output_type": "stream",
     "text": [
      "                                                                                \r"
     ]
    },
    {
     "name": "stdout",
     "output_type": "stream",
     "text": [
      "ROEM:  0.06132689205999097\n"
     ]
    },
    {
     "name": "stderr",
     "output_type": "stream",
     "text": [
      "                                                                                \r"
     ]
    },
    {
     "name": "stdout",
     "output_type": "stream",
     "text": [
      "ROEM:  0.06083591497054892\n"
     ]
    },
    {
     "name": "stderr",
     "output_type": "stream",
     "text": [
      "                                                                                \r"
     ]
    },
    {
     "name": "stdout",
     "output_type": "stream",
     "text": [
      "ROEM:  0.06820453279597385\n"
     ]
    },
    {
     "name": "stderr",
     "output_type": "stream",
     "text": [
      "                                                                                \r"
     ]
    },
    {
     "name": "stdout",
     "output_type": "stream",
     "text": [
      "ROEM:  0.06517389943349197\n",
      "Validation ROEM:  0.0609306377450533\n"
     ]
    },
    {
     "name": "stderr",
     "output_type": "stream",
     "text": [
      "                                                                                \r"
     ]
    },
    {
     "name": "stdout",
     "output_type": "stream",
     "text": [
      "ROEM:  0.06097140305997995\n"
     ]
    },
    {
     "name": "stderr",
     "output_type": "stream",
     "text": [
      "                                                                                \r"
     ]
    },
    {
     "name": "stdout",
     "output_type": "stream",
     "text": [
      "ROEM:  0.056388630967477815\n"
     ]
    },
    {
     "name": "stderr",
     "output_type": "stream",
     "text": [
      "                                                                                \r"
     ]
    },
    {
     "name": "stdout",
     "output_type": "stream",
     "text": [
      "ROEM:  0.058837657424454196\n"
     ]
    },
    {
     "name": "stderr",
     "output_type": "stream",
     "text": [
      "                                                                                \r"
     ]
    },
    {
     "name": "stdout",
     "output_type": "stream",
     "text": [
      "ROEM:  0.0626193225855281\n"
     ]
    },
    {
     "name": "stderr",
     "output_type": "stream",
     "text": [
      "                                                                                \r"
     ]
    },
    {
     "name": "stdout",
     "output_type": "stream",
     "text": [
      "ROEM:  0.06204705879703992\n",
      "Validation ROEM:  0.057051857996645736\n"
     ]
    },
    {
     "name": "stderr",
     "output_type": "stream",
     "text": [
      "                                                                                \r"
     ]
    },
    {
     "name": "stdout",
     "output_type": "stream",
     "text": [
      "ROEM:  0.05926554941234011\n"
     ]
    },
    {
     "name": "stderr",
     "output_type": "stream",
     "text": [
      "                                                                                \r"
     ]
    },
    {
     "name": "stdout",
     "output_type": "stream",
     "text": [
      "ROEM:  0.06028696706679801\n"
     ]
    },
    {
     "name": "stderr",
     "output_type": "stream",
     "text": [
      "                                                                                \r"
     ]
    },
    {
     "name": "stdout",
     "output_type": "stream",
     "text": [
      "ROEM:  0.06121519640363653\n"
     ]
    },
    {
     "name": "stderr",
     "output_type": "stream",
     "text": [
      "                                                                                \r"
     ]
    },
    {
     "name": "stdout",
     "output_type": "stream",
     "text": [
      "ROEM:  0.06412827641328682\n"
     ]
    },
    {
     "name": "stderr",
     "output_type": "stream",
     "text": [
      "                                                                                \r"
     ]
    },
    {
     "name": "stdout",
     "output_type": "stream",
     "text": [
      "ROEM:  0.06544751858766731\n",
      "Validation ROEM:  0.05814483547997177\n"
     ]
    },
    {
     "name": "stderr",
     "output_type": "stream",
     "text": [
      "                                                                                \r"
     ]
    },
    {
     "name": "stdout",
     "output_type": "stream",
     "text": [
      "ROEM:  0.05877278463872816\n"
     ]
    },
    {
     "name": "stderr",
     "output_type": "stream",
     "text": [
      "                                                                                \r"
     ]
    },
    {
     "name": "stdout",
     "output_type": "stream",
     "text": [
      "ROEM:  0.062136525987950254\n"
     ]
    },
    {
     "name": "stderr",
     "output_type": "stream",
     "text": [
      "                                                                                \r"
     ]
    },
    {
     "name": "stdout",
     "output_type": "stream",
     "text": [
      "ROEM:  0.0597974198091546\n"
     ]
    },
    {
     "name": "stderr",
     "output_type": "stream",
     "text": [
      "                                                                                \r"
     ]
    },
    {
     "name": "stdout",
     "output_type": "stream",
     "text": [
      "ROEM:  0.06636939796850892\n"
     ]
    },
    {
     "name": "stderr",
     "output_type": "stream",
     "text": [
      "                                                                                \r"
     ]
    },
    {
     "name": "stdout",
     "output_type": "stream",
     "text": [
      "ROEM:  0.06486946760661183\n",
      "Validation ROEM:  0.05799195495001348\n"
     ]
    },
    {
     "name": "stderr",
     "output_type": "stream",
     "text": [
      "                                                                                \r"
     ]
    },
    {
     "name": "stdout",
     "output_type": "stream",
     "text": [
      "ROEM:  0.0601062779841199\n"
     ]
    },
    {
     "name": "stderr",
     "output_type": "stream",
     "text": [
      "                                                                                \r"
     ]
    },
    {
     "name": "stdout",
     "output_type": "stream",
     "text": [
      "ROEM:  0.06007644163683178\n"
     ]
    },
    {
     "name": "stderr",
     "output_type": "stream",
     "text": [
      "                                                                                \r"
     ]
    },
    {
     "name": "stdout",
     "output_type": "stream",
     "text": [
      "ROEM:  0.061390271305681254\n"
     ]
    },
    {
     "name": "stderr",
     "output_type": "stream",
     "text": [
      "                                                                                \r"
     ]
    },
    {
     "name": "stdout",
     "output_type": "stream",
     "text": [
      "ROEM:  0.06806504780861779\n"
     ]
    },
    {
     "name": "stderr",
     "output_type": "stream",
     "text": [
      "                                                                                \r"
     ]
    },
    {
     "name": "stdout",
     "output_type": "stream",
     "text": [
      "ROEM:  0.06539410001829829\n",
      "Validation ROEM:  0.05945166435997864\n"
     ]
    },
    {
     "name": "stderr",
     "output_type": "stream",
     "text": [
      "                                                                                \r"
     ]
    },
    {
     "name": "stdout",
     "output_type": "stream",
     "text": [
      "ROEM:  0.05239796699087031\n"
     ]
    },
    {
     "name": "stderr",
     "output_type": "stream",
     "text": [
      "                                                                                \r"
     ]
    },
    {
     "name": "stdout",
     "output_type": "stream",
     "text": [
      "ROEM:  0.05705259178513576\n"
     ]
    },
    {
     "name": "stderr",
     "output_type": "stream",
     "text": [
      "                                                                                \r"
     ]
    },
    {
     "name": "stdout",
     "output_type": "stream",
     "text": [
      "ROEM:  0.054225733421052025\n"
     ]
    },
    {
     "name": "stderr",
     "output_type": "stream",
     "text": [
      "                                                                                \r"
     ]
    },
    {
     "name": "stdout",
     "output_type": "stream",
     "text": [
      "ROEM:  0.05922106257132221\n"
     ]
    },
    {
     "name": "stderr",
     "output_type": "stream",
     "text": [
      "                                                                                \r"
     ]
    },
    {
     "name": "stdout",
     "output_type": "stream",
     "text": [
      "ROEM:  0.05704997886360201\n",
      "Validation ROEM:  0.05010519476024194\n"
     ]
    },
    {
     "name": "stderr",
     "output_type": "stream",
     "text": [
      "                                                                                \r"
     ]
    },
    {
     "name": "stdout",
     "output_type": "stream",
     "text": [
      "ROEM:  0.05491305643307378\n"
     ]
    },
    {
     "name": "stderr",
     "output_type": "stream",
     "text": [
      "                                                                                \r"
     ]
    },
    {
     "name": "stdout",
     "output_type": "stream",
     "text": [
      "ROEM:  0.058973021112995634\n"
     ]
    },
    {
     "name": "stderr",
     "output_type": "stream",
     "text": [
      "                                                                                \r"
     ]
    },
    {
     "name": "stdout",
     "output_type": "stream",
     "text": [
      "ROEM:  0.0534558626365575\n"
     ]
    },
    {
     "name": "stderr",
     "output_type": "stream",
     "text": [
      "                                                                                \r"
     ]
    },
    {
     "name": "stdout",
     "output_type": "stream",
     "text": [
      "ROEM:  0.060905284288631775\n"
     ]
    },
    {
     "name": "stderr",
     "output_type": "stream",
     "text": [
      "                                                                                \r"
     ]
    },
    {
     "name": "stdout",
     "output_type": "stream",
     "text": [
      "ROEM:  0.058220558609099374\n",
      "Validation ROEM:  0.05366738089240896\n"
     ]
    },
    {
     "name": "stderr",
     "output_type": "stream",
     "text": [
      "                                                                                \r"
     ]
    },
    {
     "name": "stdout",
     "output_type": "stream",
     "text": [
      "ROEM:  0.05749406323666367\n"
     ]
    },
    {
     "name": "stderr",
     "output_type": "stream",
     "text": [
      "                                                                                \r"
     ]
    },
    {
     "name": "stdout",
     "output_type": "stream",
     "text": [
      "ROEM:  0.05954427941777165\n"
     ]
    },
    {
     "name": "stderr",
     "output_type": "stream",
     "text": [
      "                                                                                \r"
     ]
    },
    {
     "name": "stdout",
     "output_type": "stream",
     "text": [
      "ROEM:  0.057018877782163274\n"
     ]
    },
    {
     "name": "stderr",
     "output_type": "stream",
     "text": [
      "                                                                                \r"
     ]
    },
    {
     "name": "stdout",
     "output_type": "stream",
     "text": [
      "ROEM:  0.06083535797772595\n"
     ]
    },
    {
     "name": "stderr",
     "output_type": "stream",
     "text": [
      "                                                                                \r"
     ]
    },
    {
     "name": "stdout",
     "output_type": "stream",
     "text": [
      "ROEM:  0.06003633437335608\n",
      "Validation ROEM:  0.054709797374302246\n"
     ]
    },
    {
     "name": "stderr",
     "output_type": "stream",
     "text": [
      "                                                                                \r"
     ]
    },
    {
     "name": "stdout",
     "output_type": "stream",
     "text": [
      "ROEM:  0.060119210990065924\n"
     ]
    },
    {
     "name": "stderr",
     "output_type": "stream",
     "text": [
      "                                                                                \r"
     ]
    },
    {
     "name": "stdout",
     "output_type": "stream",
     "text": [
      "ROEM:  0.062053038453363595\n"
     ]
    },
    {
     "name": "stderr",
     "output_type": "stream",
     "text": [
      "                                                                                \r"
     ]
    },
    {
     "name": "stdout",
     "output_type": "stream",
     "text": [
      "ROEM:  0.05948203631532353\n"
     ]
    },
    {
     "name": "stderr",
     "output_type": "stream",
     "text": [
      "                                                                                \r"
     ]
    },
    {
     "name": "stdout",
     "output_type": "stream",
     "text": [
      "ROEM:  0.06322448423763564\n"
     ]
    },
    {
     "name": "stderr",
     "output_type": "stream",
     "text": [
      "                                                                                \r"
     ]
    },
    {
     "name": "stdout",
     "output_type": "stream",
     "text": [
      "ROEM:  0.06209608068797205\n",
      "Validation ROEM:  0.05748706921210576\n"
     ]
    },
    {
     "name": "stderr",
     "output_type": "stream",
     "text": [
      "                                                                                \r"
     ]
    },
    {
     "name": "stdout",
     "output_type": "stream",
     "text": [
      "ROEM:  0.05158773224531147\n"
     ]
    },
    {
     "name": "stderr",
     "output_type": "stream",
     "text": [
      "                                                                                \r"
     ]
    },
    {
     "name": "stdout",
     "output_type": "stream",
     "text": [
      "ROEM:  0.05496313772839218\n"
     ]
    },
    {
     "name": "stderr",
     "output_type": "stream",
     "text": [
      "                                                                                \r"
     ]
    },
    {
     "name": "stdout",
     "output_type": "stream",
     "text": [
      "ROEM:  0.05377328547719537\n"
     ]
    },
    {
     "name": "stderr",
     "output_type": "stream",
     "text": [
      "                                                                                \r"
     ]
    },
    {
     "name": "stdout",
     "output_type": "stream",
     "text": [
      "ROEM:  0.05724334574834988\n"
     ]
    },
    {
     "name": "stderr",
     "output_type": "stream",
     "text": [
      "                                                                                \r"
     ]
    },
    {
     "name": "stdout",
     "output_type": "stream",
     "text": [
      "ROEM:  0.055413905792648134\n",
      "Validation ROEM:  0.04940505023215477\n"
     ]
    },
    {
     "name": "stderr",
     "output_type": "stream",
     "text": [
      "                                                                                \r"
     ]
    },
    {
     "name": "stdout",
     "output_type": "stream",
     "text": [
      "ROEM:  0.0538966195007317\n"
     ]
    },
    {
     "name": "stderr",
     "output_type": "stream",
     "text": [
      "                                                                                \r"
     ]
    },
    {
     "name": "stdout",
     "output_type": "stream",
     "text": [
      "ROEM:  0.058338288059712806\n"
     ]
    },
    {
     "name": "stderr",
     "output_type": "stream",
     "text": [
      "                                                                                \r"
     ]
    },
    {
     "name": "stdout",
     "output_type": "stream",
     "text": [
      "ROEM:  0.05207638480473757\n"
     ]
    },
    {
     "name": "stderr",
     "output_type": "stream",
     "text": [
      "                                                                                \r"
     ]
    },
    {
     "name": "stdout",
     "output_type": "stream",
     "text": [
      "ROEM:  0.05981749269281271\n"
     ]
    },
    {
     "name": "stderr",
     "output_type": "stream",
     "text": [
      "                                                                                \r"
     ]
    },
    {
     "name": "stdout",
     "output_type": "stream",
     "text": [
      "ROEM:  0.05604096427939102\n",
      "Validation ROEM:  0.051615679987268105\n"
     ]
    },
    {
     "name": "stderr",
     "output_type": "stream",
     "text": [
      "                                                                                \r"
     ]
    },
    {
     "name": "stdout",
     "output_type": "stream",
     "text": [
      "ROEM:  0.05529817656416648\n"
     ]
    },
    {
     "name": "stderr",
     "output_type": "stream",
     "text": [
      "                                                                                \r"
     ]
    },
    {
     "name": "stdout",
     "output_type": "stream",
     "text": [
      "ROEM:  0.057645109477889596\n"
     ]
    },
    {
     "name": "stderr",
     "output_type": "stream",
     "text": [
      "                                                                                \r"
     ]
    },
    {
     "name": "stdout",
     "output_type": "stream",
     "text": [
      "ROEM:  0.052825449498109855\n"
     ]
    },
    {
     "name": "stderr",
     "output_type": "stream",
     "text": [
      "                                                                                \r"
     ]
    },
    {
     "name": "stdout",
     "output_type": "stream",
     "text": [
      "ROEM:  0.05988712882327293\n"
     ]
    },
    {
     "name": "stderr",
     "output_type": "stream",
     "text": [
      "                                                                                \r"
     ]
    },
    {
     "name": "stdout",
     "output_type": "stream",
     "text": [
      "ROEM:  0.05810714063693332\n",
      "Validation ROEM:  0.05263149759148976\n"
     ]
    },
    {
     "name": "stderr",
     "output_type": "stream",
     "text": [
      "                                                                                \r"
     ]
    },
    {
     "name": "stdout",
     "output_type": "stream",
     "text": [
      "ROEM:  0.05867942010114534\n"
     ]
    },
    {
     "name": "stderr",
     "output_type": "stream",
     "text": [
      "                                                                                \r"
     ]
    },
    {
     "name": "stdout",
     "output_type": "stream",
     "text": [
      "ROEM:  0.05965000193839492\n"
     ]
    },
    {
     "name": "stderr",
     "output_type": "stream",
     "text": [
      "                                                                                \r"
     ]
    },
    {
     "name": "stdout",
     "output_type": "stream",
     "text": [
      "ROEM:  0.057475374217493755\n"
     ]
    },
    {
     "name": "stderr",
     "output_type": "stream",
     "text": [
      "                                                                                \r"
     ]
    },
    {
     "name": "stdout",
     "output_type": "stream",
     "text": [
      "ROEM:  0.060598484824913146\n"
     ]
    },
    {
     "name": "stderr",
     "output_type": "stream",
     "text": [
      "                                                                                \r"
     ]
    },
    {
     "name": "stdout",
     "output_type": "stream",
     "text": [
      "ROEM:  0.05939673158334147\n",
      "Validation ROEM:  0.05450509290942297\n"
     ]
    },
    {
     "name": "stderr",
     "output_type": "stream",
     "text": [
      "                                                                                \r"
     ]
    },
    {
     "name": "stdout",
     "output_type": "stream",
     "text": [
      "ROEM:  0.05171917573110131\n"
     ]
    },
    {
     "name": "stderr",
     "output_type": "stream",
     "text": [
      "                                                                                \r"
     ]
    },
    {
     "name": "stdout",
     "output_type": "stream",
     "text": [
      "ROEM:  0.05413366548762751\n"
     ]
    },
    {
     "name": "stderr",
     "output_type": "stream",
     "text": [
      "                                                                                \r"
     ]
    },
    {
     "name": "stdout",
     "output_type": "stream",
     "text": [
      "ROEM:  0.052672379214081286\n"
     ]
    },
    {
     "name": "stderr",
     "output_type": "stream",
     "text": [
      "                                                                                \r"
     ]
    },
    {
     "name": "stdout",
     "output_type": "stream",
     "text": [
      "ROEM:  0.05749865961850463\n"
     ]
    },
    {
     "name": "stderr",
     "output_type": "stream",
     "text": [
      "                                                                                \r"
     ]
    },
    {
     "name": "stdout",
     "output_type": "stream",
     "text": [
      "ROEM:  0.05480509052494088\n",
      "Validation ROEM:  0.04914297738899683\n"
     ]
    },
    {
     "name": "stderr",
     "output_type": "stream",
     "text": [
      "                                                                                \r"
     ]
    },
    {
     "name": "stdout",
     "output_type": "stream",
     "text": [
      "ROEM:  0.052562366293488864\n"
     ]
    },
    {
     "name": "stderr",
     "output_type": "stream",
     "text": [
      "                                                                                \r"
     ]
    },
    {
     "name": "stdout",
     "output_type": "stream",
     "text": [
      "ROEM:  0.055505421137346314\n"
     ]
    },
    {
     "name": "stderr",
     "output_type": "stream",
     "text": [
      "                                                                                \r"
     ]
    },
    {
     "name": "stdout",
     "output_type": "stream",
     "text": [
      "ROEM:  0.05184999850067487\n"
     ]
    },
    {
     "name": "stderr",
     "output_type": "stream",
     "text": [
      "                                                                                \r"
     ]
    },
    {
     "name": "stdout",
     "output_type": "stream",
     "text": [
      "ROEM:  0.058958659894409425\n"
     ]
    },
    {
     "name": "stderr",
     "output_type": "stream",
     "text": [
      "                                                                                \r"
     ]
    },
    {
     "name": "stdout",
     "output_type": "stream",
     "text": [
      "ROEM:  0.055505560628770274\n",
      "Validation ROEM:  0.05095301513736043\n"
     ]
    },
    {
     "name": "stderr",
     "output_type": "stream",
     "text": [
      "                                                                                \r"
     ]
    },
    {
     "name": "stdout",
     "output_type": "stream",
     "text": [
      "ROEM:  0.05461956293273687\n"
     ]
    },
    {
     "name": "stderr",
     "output_type": "stream",
     "text": [
      "                                                                                \r"
     ]
    },
    {
     "name": "stdout",
     "output_type": "stream",
     "text": [
      "ROEM:  0.05728155280463328\n"
     ]
    },
    {
     "name": "stderr",
     "output_type": "stream",
     "text": [
      "                                                                                \r"
     ]
    },
    {
     "name": "stdout",
     "output_type": "stream",
     "text": [
      "ROEM:  0.050902385214986065\n"
     ]
    },
    {
     "name": "stderr",
     "output_type": "stream",
     "text": [
      "                                                                                \r"
     ]
    },
    {
     "name": "stdout",
     "output_type": "stream",
     "text": [
      "ROEM:  0.05871715822146751\n"
     ]
    },
    {
     "name": "stderr",
     "output_type": "stream",
     "text": [
      "                                                                                \r"
     ]
    },
    {
     "name": "stdout",
     "output_type": "stream",
     "text": [
      "ROEM:  0.056801908113755274\n",
      "Validation ROEM:  0.051545089245957375\n"
     ]
    },
    {
     "name": "stderr",
     "output_type": "stream",
     "text": [
      "                                                                                \r"
     ]
    },
    {
     "name": "stdout",
     "output_type": "stream",
     "text": [
      "ROEM:  0.056843174566176505\n"
     ]
    },
    {
     "name": "stderr",
     "output_type": "stream",
     "text": [
      "                                                                                \r"
     ]
    },
    {
     "name": "stdout",
     "output_type": "stream",
     "text": [
      "ROEM:  0.05804291542531458\n"
     ]
    },
    {
     "name": "stderr",
     "output_type": "stream",
     "text": [
      "                                                                                \r"
     ]
    },
    {
     "name": "stdout",
     "output_type": "stream",
     "text": [
      "ROEM:  0.05452277845362127\n"
     ]
    },
    {
     "name": "stderr",
     "output_type": "stream",
     "text": [
      "                                                                                \r"
     ]
    },
    {
     "name": "stdout",
     "output_type": "stream",
     "text": [
      "ROEM:  0.06029711523445132\n"
     ]
    },
    {
     "name": "stderr",
     "output_type": "stream",
     "text": [
      "                                                                                \r"
     ]
    },
    {
     "name": "stdout",
     "output_type": "stream",
     "text": [
      "ROEM:  0.05739378319264108\n",
      "Validation ROEM:  0.05246729729464868\n"
     ]
    },
    {
     "name": "stderr",
     "output_type": "stream",
     "text": [
      "                                                                                \r"
     ]
    },
    {
     "name": "stdout",
     "output_type": "stream",
     "text": [
      "ROEM:  0.052780783914701423\n"
     ]
    },
    {
     "name": "stderr",
     "output_type": "stream",
     "text": [
      "                                                                                \r"
     ]
    },
    {
     "name": "stdout",
     "output_type": "stream",
     "text": [
      "ROEM:  0.05677993268819699\n"
     ]
    },
    {
     "name": "stderr",
     "output_type": "stream",
     "text": [
      "                                                                                \r"
     ]
    },
    {
     "name": "stdout",
     "output_type": "stream",
     "text": [
      "ROEM:  0.05454657236209129\n"
     ]
    },
    {
     "name": "stderr",
     "output_type": "stream",
     "text": [
      "                                                                                \r"
     ]
    },
    {
     "name": "stdout",
     "output_type": "stream",
     "text": [
      "ROEM:  0.058916591528614434\n"
     ]
    },
    {
     "name": "stderr",
     "output_type": "stream",
     "text": [
      "                                                                                \r"
     ]
    },
    {
     "name": "stdout",
     "output_type": "stream",
     "text": [
      "ROEM:  0.056854686334323105\n",
      "Validation ROEM:  0.05046129459071487\n"
     ]
    },
    {
     "name": "stderr",
     "output_type": "stream",
     "text": [
      "                                                                                \r"
     ]
    },
    {
     "name": "stdout",
     "output_type": "stream",
     "text": [
      "ROEM:  0.05379845853436582\n",
      "ROEM:  0.057335593860352585\n"
     ]
    },
    {
     "name": "stderr",
     "output_type": "stream",
     "text": [
      "                                                                                \r"
     ]
    },
    {
     "name": "stdout",
     "output_type": "stream",
     "text": [
      "ROEM:  0.051391345789655665\n"
     ]
    },
    {
     "name": "stderr",
     "output_type": "stream",
     "text": [
      "                                                                                \r"
     ]
    },
    {
     "name": "stdout",
     "output_type": "stream",
     "text": [
      "ROEM:  0.059926667232513386\n"
     ]
    },
    {
     "name": "stderr",
     "output_type": "stream",
     "text": [
      "                                                                                \r"
     ]
    },
    {
     "name": "stdout",
     "output_type": "stream",
     "text": [
      "ROEM:  0.05728512216345153\n",
      "Validation ROEM:  0.053323569571403114\n"
     ]
    },
    {
     "name": "stderr",
     "output_type": "stream",
     "text": [
      "                                                                                \r"
     ]
    },
    {
     "name": "stdout",
     "output_type": "stream",
     "text": [
      "ROEM:  0.05577079317997983\n"
     ]
    },
    {
     "name": "stderr",
     "output_type": "stream",
     "text": [
      "                                                                                \r"
     ]
    },
    {
     "name": "stdout",
     "output_type": "stream",
     "text": [
      "ROEM:  0.05695398694809639\n"
     ]
    },
    {
     "name": "stderr",
     "output_type": "stream",
     "text": [
      "                                                                                \r"
     ]
    },
    {
     "name": "stdout",
     "output_type": "stream",
     "text": [
      "ROEM:  0.055202005596121456\n"
     ]
    },
    {
     "name": "stderr",
     "output_type": "stream",
     "text": [
      "                                                                                \r"
     ]
    },
    {
     "name": "stdout",
     "output_type": "stream",
     "text": [
      "ROEM:  0.05961035696605433\n"
     ]
    },
    {
     "name": "stderr",
     "output_type": "stream",
     "text": [
      "                                                                                \r"
     ]
    },
    {
     "name": "stdout",
     "output_type": "stream",
     "text": [
      "ROEM:  0.05933854050996136\n",
      "Validation ROEM:  0.05377138896736909\n"
     ]
    },
    {
     "name": "stderr",
     "output_type": "stream",
     "text": [
      "                                                                                \r"
     ]
    },
    {
     "name": "stdout",
     "output_type": "stream",
     "text": [
      "ROEM:  0.05781076620477488\n"
     ]
    },
    {
     "name": "stderr",
     "output_type": "stream",
     "text": [
      "                                                                                \r"
     ]
    },
    {
     "name": "stdout",
     "output_type": "stream",
     "text": [
      "ROEM:  0.06117535339249486\n"
     ]
    },
    {
     "name": "stderr",
     "output_type": "stream",
     "text": [
      "                                                                                \r"
     ]
    },
    {
     "name": "stdout",
     "output_type": "stream",
     "text": [
      "ROEM:  0.05642076080309329\n"
     ]
    },
    {
     "name": "stderr",
     "output_type": "stream",
     "text": [
      "                                                                                \r"
     ]
    },
    {
     "name": "stdout",
     "output_type": "stream",
     "text": [
      "ROEM:  0.06142638227038403\n"
     ]
    },
    {
     "name": "stderr",
     "output_type": "stream",
     "text": [
      "                                                                                \r"
     ]
    },
    {
     "name": "stdout",
     "output_type": "stream",
     "text": [
      "ROEM:  0.059814890092371266\n",
      "Validation ROEM:  0.0545005214068089\n"
     ]
    },
    {
     "name": "stderr",
     "output_type": "stream",
     "text": [
      "                                                                                \r"
     ]
    },
    {
     "name": "stdout",
     "output_type": "stream",
     "text": [
      "ROEM:  0.051786796426148966\n"
     ]
    },
    {
     "name": "stderr",
     "output_type": "stream",
     "text": [
      "                                                                                \r"
     ]
    },
    {
     "name": "stdout",
     "output_type": "stream",
     "text": [
      "ROEM:  0.05536572248683962\n"
     ]
    },
    {
     "name": "stderr",
     "output_type": "stream",
     "text": [
      "                                                                                \r"
     ]
    },
    {
     "name": "stdout",
     "output_type": "stream",
     "text": [
      "ROEM:  0.05326987068295435\n"
     ]
    },
    {
     "name": "stderr",
     "output_type": "stream",
     "text": [
      "                                                                                \r"
     ]
    },
    {
     "name": "stdout",
     "output_type": "stream",
     "text": [
      "ROEM:  0.05744021867488754\n"
     ]
    },
    {
     "name": "stderr",
     "output_type": "stream",
     "text": [
      "                                                                                \r"
     ]
    },
    {
     "name": "stdout",
     "output_type": "stream",
     "text": [
      "ROEM:  0.05640577809095526\n",
      "Validation ROEM:  0.04990853846572004\n"
     ]
    },
    {
     "name": "stderr",
     "output_type": "stream",
     "text": [
      "                                                                                \r"
     ]
    },
    {
     "name": "stdout",
     "output_type": "stream",
     "text": [
      "ROEM:  0.05268335598350992\n"
     ]
    },
    {
     "name": "stderr",
     "output_type": "stream",
     "text": [
      "                                                                                \r"
     ]
    },
    {
     "name": "stdout",
     "output_type": "stream",
     "text": [
      "ROEM:  0.05689826336057494\n"
     ]
    },
    {
     "name": "stderr",
     "output_type": "stream",
     "text": [
      "                                                                                \r"
     ]
    },
    {
     "name": "stdout",
     "output_type": "stream",
     "text": [
      "ROEM:  0.05153180867342303\n"
     ]
    },
    {
     "name": "stderr",
     "output_type": "stream",
     "text": [
      "                                                                                \r"
     ]
    },
    {
     "name": "stdout",
     "output_type": "stream",
     "text": [
      "ROEM:  0.05933708699249885\n"
     ]
    },
    {
     "name": "stderr",
     "output_type": "stream",
     "text": [
      "                                                                                \r"
     ]
    },
    {
     "name": "stdout",
     "output_type": "stream",
     "text": [
      "ROEM:  0.0556969256374086\n",
      "Validation ROEM:  0.05055867049742194\n"
     ]
    },
    {
     "name": "stderr",
     "output_type": "stream",
     "text": [
      "                                                                                \r"
     ]
    },
    {
     "name": "stdout",
     "output_type": "stream",
     "text": [
      "ROEM:  0.05459413040720273\n"
     ]
    },
    {
     "name": "stderr",
     "output_type": "stream",
     "text": [
      "                                                                                \r"
     ]
    },
    {
     "name": "stdout",
     "output_type": "stream",
     "text": [
      "ROEM:  0.05653816483657628\n"
     ]
    },
    {
     "name": "stderr",
     "output_type": "stream",
     "text": [
      "                                                                                \r"
     ]
    },
    {
     "name": "stdout",
     "output_type": "stream",
     "text": [
      "ROEM:  0.053307468937655436\n"
     ]
    },
    {
     "name": "stderr",
     "output_type": "stream",
     "text": [
      "                                                                                \r"
     ]
    },
    {
     "name": "stdout",
     "output_type": "stream",
     "text": [
      "ROEM:  0.058812872302046064\n"
     ]
    },
    {
     "name": "stderr",
     "output_type": "stream",
     "text": [
      "                                                                                \r"
     ]
    },
    {
     "name": "stdout",
     "output_type": "stream",
     "text": [
      "ROEM:  0.05713311003300052\n",
      "Validation ROEM:  0.05266519578062024\n"
     ]
    },
    {
     "name": "stderr",
     "output_type": "stream",
     "text": [
      "                                                                                \r"
     ]
    },
    {
     "name": "stdout",
     "output_type": "stream",
     "text": [
      "ROEM:  0.057132090551018845\n"
     ]
    },
    {
     "name": "stderr",
     "output_type": "stream",
     "text": [
      "                                                                                \r"
     ]
    },
    {
     "name": "stdout",
     "output_type": "stream",
     "text": [
      "ROEM:  0.057900887721251036\n"
     ]
    },
    {
     "name": "stderr",
     "output_type": "stream",
     "text": [
      "                                                                                \r"
     ]
    },
    {
     "name": "stdout",
     "output_type": "stream",
     "text": [
      "ROEM:  0.05560489369375835\n"
     ]
    },
    {
     "name": "stderr",
     "output_type": "stream",
     "text": [
      "                                                                                \r"
     ]
    },
    {
     "name": "stdout",
     "output_type": "stream",
     "text": [
      "ROEM:  0.06052539824245526\n"
     ]
    },
    {
     "name": "stderr",
     "output_type": "stream",
     "text": [
      "                                                                                \r"
     ]
    },
    {
     "name": "stdout",
     "output_type": "stream",
     "text": [
      "ROEM:  0.0583787666731551\n",
      "Validation ROEM:  0.05385734466864538\n"
     ]
    },
    {
     "name": "stderr",
     "output_type": "stream",
     "text": [
      "                                                                                \r"
     ]
    },
    {
     "name": "stdout",
     "output_type": "stream",
     "text": [
      "ROEM:  0.05165932983094836\n"
     ]
    },
    {
     "name": "stderr",
     "output_type": "stream",
     "text": [
      "                                                                                \r"
     ]
    },
    {
     "name": "stdout",
     "output_type": "stream",
     "text": [
      "ROEM:  0.05512940724916963\n"
     ]
    },
    {
     "name": "stderr",
     "output_type": "stream",
     "text": [
      "                                                                                \r"
     ]
    },
    {
     "name": "stdout",
     "output_type": "stream",
     "text": [
      "ROEM:  0.05233759839692143\n"
     ]
    },
    {
     "name": "stderr",
     "output_type": "stream",
     "text": [
      "                                                                                \r"
     ]
    },
    {
     "name": "stdout",
     "output_type": "stream",
     "text": [
      "ROEM:  0.05648089873361396\n"
     ]
    },
    {
     "name": "stderr",
     "output_type": "stream",
     "text": [
      "                                                                                \r"
     ]
    },
    {
     "name": "stdout",
     "output_type": "stream",
     "text": [
      "ROEM:  0.05537487222301937\n",
      "Validation ROEM:  0.049110232501098576\n"
     ]
    },
    {
     "name": "stderr",
     "output_type": "stream",
     "text": [
      "                                                                                \r"
     ]
    },
    {
     "name": "stdout",
     "output_type": "stream",
     "text": [
      "ROEM:  0.051964510681153424\n"
     ]
    },
    {
     "name": "stderr",
     "output_type": "stream",
     "text": [
      "                                                                                \r"
     ]
    },
    {
     "name": "stdout",
     "output_type": "stream",
     "text": [
      "ROEM:  0.054178927525990815\n"
     ]
    },
    {
     "name": "stderr",
     "output_type": "stream",
     "text": [
      "                                                                                \r"
     ]
    },
    {
     "name": "stdout",
     "output_type": "stream",
     "text": [
      "ROEM:  0.052512669253479964\n",
      "ROEM:  0.05772673902713216\n"
     ]
    },
    {
     "name": "stderr",
     "output_type": "stream",
     "text": [
      "                                                                                \r"
     ]
    },
    {
     "name": "stdout",
     "output_type": "stream",
     "text": [
      "ROEM:  0.0547195160231256\n",
      "Validation ROEM:  0.05111663237095563\n"
     ]
    },
    {
     "name": "stderr",
     "output_type": "stream",
     "text": [
      "                                                                                \r"
     ]
    },
    {
     "name": "stdout",
     "output_type": "stream",
     "text": [
      "ROEM:  0.05371939974907224\n"
     ]
    },
    {
     "name": "stderr",
     "output_type": "stream",
     "text": [
      "                                                                                \r"
     ]
    },
    {
     "name": "stdout",
     "output_type": "stream",
     "text": [
      "ROEM:  0.055693756331284844\n"
     ]
    },
    {
     "name": "stderr",
     "output_type": "stream",
     "text": [
      "                                                                                \r"
     ]
    },
    {
     "name": "stdout",
     "output_type": "stream",
     "text": [
      "ROEM:  0.05080183030157639\n"
     ]
    },
    {
     "name": "stderr",
     "output_type": "stream",
     "text": [
      "                                                                                \r"
     ]
    },
    {
     "name": "stdout",
     "output_type": "stream",
     "text": [
      "ROEM:  0.05874627678082779\n"
     ]
    },
    {
     "name": "stderr",
     "output_type": "stream",
     "text": [
      "                                                                                \r"
     ]
    },
    {
     "name": "stdout",
     "output_type": "stream",
     "text": [
      "ROEM:  0.056247931126632414\n",
      "Validation ROEM:  0.05152626619331321\n"
     ]
    },
    {
     "name": "stderr",
     "output_type": "stream",
     "text": [
      "                                                                                \r"
     ]
    },
    {
     "name": "stdout",
     "output_type": "stream",
     "text": [
      "ROEM:  0.05582914029342948\n"
     ]
    },
    {
     "name": "stderr",
     "output_type": "stream",
     "text": [
      "                                                                                \r"
     ]
    },
    {
     "name": "stdout",
     "output_type": "stream",
     "text": [
      "ROEM:  0.05657597004582063\n"
     ]
    },
    {
     "name": "stderr",
     "output_type": "stream",
     "text": [
      "                                                                                \r"
     ]
    },
    {
     "name": "stdout",
     "output_type": "stream",
     "text": [
      "ROEM:  0.05271132651094566\n"
     ]
    },
    {
     "name": "stderr",
     "output_type": "stream",
     "text": [
      "                                                                                \r"
     ]
    },
    {
     "name": "stdout",
     "output_type": "stream",
     "text": [
      "ROEM:  0.05908026295048959\n",
      "ROEM:  0.05742287235460913\n",
      "Validation ROEM:  0.05226721043333518\n"
     ]
    },
    {
     "name": "stderr",
     "output_type": "stream",
     "text": [
      "                                                                                \r"
     ]
    },
    {
     "name": "stdout",
     "output_type": "stream",
     "text": [
      "ROEM:  0.053535020478563525\n"
     ]
    },
    {
     "name": "stderr",
     "output_type": "stream",
     "text": [
      "                                                                                \r"
     ]
    },
    {
     "name": "stdout",
     "output_type": "stream",
     "text": [
      "ROEM:  0.05689664228196669\n"
     ]
    },
    {
     "name": "stderr",
     "output_type": "stream",
     "text": [
      "                                                                                \r"
     ]
    },
    {
     "name": "stdout",
     "output_type": "stream",
     "text": [
      "ROEM:  0.05448551199084777\n"
     ]
    },
    {
     "name": "stderr",
     "output_type": "stream",
     "text": [
      "                                                                                \r"
     ]
    },
    {
     "name": "stdout",
     "output_type": "stream",
     "text": [
      "ROEM:  0.059653694430192854\n"
     ]
    },
    {
     "name": "stderr",
     "output_type": "stream",
     "text": [
      "                                                                                \r"
     ]
    },
    {
     "name": "stdout",
     "output_type": "stream",
     "text": [
      "ROEM:  0.05742267762309282\n",
      "Validation ROEM:  0.05097145288417213\n"
     ]
    },
    {
     "name": "stderr",
     "output_type": "stream",
     "text": [
      "                                                                                \r"
     ]
    },
    {
     "name": "stdout",
     "output_type": "stream",
     "text": [
      "ROEM:  0.05350510605633684\n"
     ]
    },
    {
     "name": "stderr",
     "output_type": "stream",
     "text": [
      "                                                                                \r"
     ]
    },
    {
     "name": "stdout",
     "output_type": "stream",
     "text": [
      "ROEM:  0.05701147248305899\n"
     ]
    },
    {
     "name": "stderr",
     "output_type": "stream",
     "text": [
      "                                                                                \r"
     ]
    },
    {
     "name": "stdout",
     "output_type": "stream",
     "text": [
      "ROEM:  0.05223097133214464\n"
     ]
    },
    {
     "name": "stderr",
     "output_type": "stream",
     "text": [
      "                                                                                \r"
     ]
    },
    {
     "name": "stdout",
     "output_type": "stream",
     "text": [
      "ROEM:  0.05970536175928732\n"
     ]
    },
    {
     "name": "stderr",
     "output_type": "stream",
     "text": [
      "                                                                                \r"
     ]
    },
    {
     "name": "stdout",
     "output_type": "stream",
     "text": [
      "ROEM:  0.05649666664648143\n",
      "Validation ROEM:  0.0528167652311043\n"
     ]
    },
    {
     "name": "stderr",
     "output_type": "stream",
     "text": [
      "                                                                                \r"
     ]
    },
    {
     "name": "stdout",
     "output_type": "stream",
     "text": [
      "ROEM:  0.05630400770988021\n"
     ]
    },
    {
     "name": "stderr",
     "output_type": "stream",
     "text": [
      "                                                                                \r"
     ]
    },
    {
     "name": "stdout",
     "output_type": "stream",
     "text": [
      "ROEM:  0.056920775439272174\n"
     ]
    },
    {
     "name": "stderr",
     "output_type": "stream",
     "text": [
      "                                                                                \r"
     ]
    },
    {
     "name": "stdout",
     "output_type": "stream",
     "text": [
      "ROEM:  0.05487884299814265\n"
     ]
    },
    {
     "name": "stderr",
     "output_type": "stream",
     "text": [
      "                                                                                \r"
     ]
    },
    {
     "name": "stdout",
     "output_type": "stream",
     "text": [
      "ROEM:  0.05979131979445404\n"
     ]
    },
    {
     "name": "stderr",
     "output_type": "stream",
     "text": [
      "                                                                                \r"
     ]
    },
    {
     "name": "stdout",
     "output_type": "stream",
     "text": [
      "ROEM:  0.05848400261344193\n",
      "Validation ROEM:  0.053404208132766126\n"
     ]
    },
    {
     "name": "stderr",
     "output_type": "stream",
     "text": [
      "                                                                                \r"
     ]
    },
    {
     "name": "stdout",
     "output_type": "stream",
     "text": [
      "ROEM:  0.05697581543050658\n"
     ]
    },
    {
     "name": "stderr",
     "output_type": "stream",
     "text": [
      "                                                                                \r"
     ]
    },
    {
     "name": "stdout",
     "output_type": "stream",
     "text": [
      "ROEM:  0.059963812989240924\n"
     ]
    },
    {
     "name": "stderr",
     "output_type": "stream",
     "text": [
      "                                                                                \r"
     ]
    },
    {
     "name": "stdout",
     "output_type": "stream",
     "text": [
      "ROEM:  0.05638773353648453\n"
     ]
    },
    {
     "name": "stderr",
     "output_type": "stream",
     "text": [
      "                                                                                \r"
     ]
    },
    {
     "name": "stdout",
     "output_type": "stream",
     "text": [
      "ROEM:  0.06107221736984123\n"
     ]
    },
    {
     "name": "stderr",
     "output_type": "stream",
     "text": [
      "                                                                                \r"
     ]
    },
    {
     "name": "stdout",
     "output_type": "stream",
     "text": [
      "ROEM:  0.05899818169543081\n",
      "Validation ROEM:  0.053613684363381243\n"
     ]
    },
    {
     "name": "stderr",
     "output_type": "stream",
     "text": [
      "                                                                                \r"
     ]
    },
    {
     "name": "stdout",
     "output_type": "stream",
     "text": [
      "ROEM:  0.05183572726564856\n"
     ]
    },
    {
     "name": "stderr",
     "output_type": "stream",
     "text": [
      "                                                                                \r"
     ]
    },
    {
     "name": "stdout",
     "output_type": "stream",
     "text": [
      "ROEM:  0.05699797639375165\n",
      "ROEM:  0.05318648731027015\n"
     ]
    },
    {
     "name": "stderr",
     "output_type": "stream",
     "text": [
      "                                                                                \r"
     ]
    },
    {
     "name": "stdout",
     "output_type": "stream",
     "text": [
      "ROEM:  0.05784900712239505\n"
     ]
    },
    {
     "name": "stderr",
     "output_type": "stream",
     "text": [
      "                                                                                \r"
     ]
    },
    {
     "name": "stdout",
     "output_type": "stream",
     "text": [
      "ROEM:  0.0564036264446535\n",
      "Validation ROEM:  0.05074170346569431\n"
     ]
    },
    {
     "name": "stderr",
     "output_type": "stream",
     "text": [
      "                                                                                \r"
     ]
    },
    {
     "name": "stdout",
     "output_type": "stream",
     "text": [
      "ROEM:  0.053238106698146756\n"
     ]
    },
    {
     "name": "stderr",
     "output_type": "stream",
     "text": [
      "                                                                                \r"
     ]
    },
    {
     "name": "stdout",
     "output_type": "stream",
     "text": [
      "ROEM:  0.05583717519296769\n"
     ]
    },
    {
     "name": "stderr",
     "output_type": "stream",
     "text": [
      "                                                                                \r"
     ]
    },
    {
     "name": "stdout",
     "output_type": "stream",
     "text": [
      "ROEM:  0.05239407801220802\n"
     ]
    },
    {
     "name": "stderr",
     "output_type": "stream",
     "text": [
      "                                                                                \r"
     ]
    },
    {
     "name": "stdout",
     "output_type": "stream",
     "text": [
      "ROEM:  0.05830642709538012\n"
     ]
    },
    {
     "name": "stderr",
     "output_type": "stream",
     "text": [
      "                                                                                \r"
     ]
    },
    {
     "name": "stdout",
     "output_type": "stream",
     "text": [
      "ROEM:  0.05554904270500931\n",
      "Validation ROEM:  0.05177870613862858\n"
     ]
    },
    {
     "name": "stderr",
     "output_type": "stream",
     "text": [
      "                                                                                \r"
     ]
    },
    {
     "name": "stdout",
     "output_type": "stream",
     "text": [
      "ROEM:  0.05478147459800452\n"
     ]
    },
    {
     "name": "stderr",
     "output_type": "stream",
     "text": [
      "                                                                                \r"
     ]
    },
    {
     "name": "stdout",
     "output_type": "stream",
     "text": [
      "ROEM:  0.056147653873895344\n"
     ]
    },
    {
     "name": "stderr",
     "output_type": "stream",
     "text": [
      "                                                                                \r"
     ]
    },
    {
     "name": "stdout",
     "output_type": "stream",
     "text": [
      "ROEM:  0.05444765219131293\n"
     ]
    },
    {
     "name": "stderr",
     "output_type": "stream",
     "text": [
      "                                                                                \r"
     ]
    },
    {
     "name": "stdout",
     "output_type": "stream",
     "text": [
      "ROEM:  0.05796013559482777\n"
     ]
    },
    {
     "name": "stderr",
     "output_type": "stream",
     "text": [
      "                                                                                \r"
     ]
    },
    {
     "name": "stdout",
     "output_type": "stream",
     "text": [
      "ROEM:  0.056614165209907606\n",
      "Validation ROEM:  0.05262334232978582\n"
     ]
    },
    {
     "name": "stderr",
     "output_type": "stream",
     "text": [
      "                                                                                \r"
     ]
    },
    {
     "name": "stdout",
     "output_type": "stream",
     "text": [
      "ROEM:  0.05623021120297131\n"
     ]
    },
    {
     "name": "stderr",
     "output_type": "stream",
     "text": [
      "                                                                                \r"
     ]
    },
    {
     "name": "stdout",
     "output_type": "stream",
     "text": [
      "ROEM:  0.05645697552182134\n"
     ]
    },
    {
     "name": "stderr",
     "output_type": "stream",
     "text": [
      "                                                                                \r"
     ]
    },
    {
     "name": "stdout",
     "output_type": "stream",
     "text": [
      "ROEM:  0.05428959844333533\n"
     ]
    },
    {
     "name": "stderr",
     "output_type": "stream",
     "text": [
      "                                                                                \r"
     ]
    },
    {
     "name": "stdout",
     "output_type": "stream",
     "text": [
      "ROEM:  0.06097150684430919\n"
     ]
    },
    {
     "name": "stderr",
     "output_type": "stream",
     "text": [
      "                                                                                \r"
     ]
    },
    {
     "name": "stdout",
     "output_type": "stream",
     "text": [
      "ROEM:  0.057793120200636976\n",
      "Validation ROEM:  0.05268036949168688\n"
     ]
    },
    {
     "name": "stderr",
     "output_type": "stream",
     "text": [
      "                                                                                \r"
     ]
    },
    {
     "name": "stdout",
     "output_type": "stream",
     "text": [
      "ROEM:  0.05280193012380983\n"
     ]
    },
    {
     "name": "stderr",
     "output_type": "stream",
     "text": [
      "                                                                                \r"
     ]
    },
    {
     "name": "stdout",
     "output_type": "stream",
     "text": [
      "ROEM:  0.05479885522745687\n"
     ]
    },
    {
     "name": "stderr",
     "output_type": "stream",
     "text": [
      "                                                                                \r"
     ]
    },
    {
     "name": "stdout",
     "output_type": "stream",
     "text": [
      "ROEM:  0.052221398928760175\n"
     ]
    },
    {
     "name": "stderr",
     "output_type": "stream",
     "text": [
      "                                                                                \r"
     ]
    },
    {
     "name": "stdout",
     "output_type": "stream",
     "text": [
      "ROEM:  0.05673533007217195\n"
     ]
    },
    {
     "name": "stderr",
     "output_type": "stream",
     "text": [
      "                                                                                \r"
     ]
    },
    {
     "name": "stdout",
     "output_type": "stream",
     "text": [
      "ROEM:  0.05539407299678601\n",
      "Validation ROEM:  0.049251552190427525\n"
     ]
    },
    {
     "name": "stderr",
     "output_type": "stream",
     "text": [
      "                                                                                \r"
     ]
    },
    {
     "name": "stdout",
     "output_type": "stream",
     "text": [
      "ROEM:  0.05111144381824526\n"
     ]
    },
    {
     "name": "stderr",
     "output_type": "stream",
     "text": [
      "                                                                                \r"
     ]
    },
    {
     "name": "stdout",
     "output_type": "stream",
     "text": [
      "ROEM:  0.054315328773466606\n"
     ]
    },
    {
     "name": "stderr",
     "output_type": "stream",
     "text": [
      "                                                                                \r"
     ]
    },
    {
     "name": "stdout",
     "output_type": "stream",
     "text": [
      "ROEM:  0.052615548513836125\n"
     ]
    },
    {
     "name": "stderr",
     "output_type": "stream",
     "text": [
      "                                                                                \r"
     ]
    },
    {
     "name": "stdout",
     "output_type": "stream",
     "text": [
      "ROEM:  0.05755906190382258\n"
     ]
    },
    {
     "name": "stderr",
     "output_type": "stream",
     "text": [
      "                                                                                \r"
     ]
    },
    {
     "name": "stdout",
     "output_type": "stream",
     "text": [
      "ROEM:  0.05471898703616676\n",
      "Validation ROEM:  0.05124713398784083\n"
     ]
    },
    {
     "name": "stderr",
     "output_type": "stream",
     "text": [
      "                                                                                \r"
     ]
    },
    {
     "name": "stdout",
     "output_type": "stream",
     "text": [
      "ROEM:  0.05430683970492732\n",
      "ROEM:  0.05445880039904909\n"
     ]
    },
    {
     "name": "stderr",
     "output_type": "stream",
     "text": [
      "                                                                                \r"
     ]
    },
    {
     "name": "stdout",
     "output_type": "stream",
     "text": [
      "ROEM:  0.05148297286261259\n"
     ]
    },
    {
     "name": "stderr",
     "output_type": "stream",
     "text": [
      "                                                                                \r"
     ]
    },
    {
     "name": "stdout",
     "output_type": "stream",
     "text": [
      "ROEM:  0.05844195476431922\n"
     ]
    },
    {
     "name": "stderr",
     "output_type": "stream",
     "text": [
      "                                                                                \r"
     ]
    },
    {
     "name": "stdout",
     "output_type": "stream",
     "text": [
      "ROEM:  0.05696755527769938\n",
      "Validation ROEM:  0.0509765300997309\n"
     ]
    },
    {
     "name": "stderr",
     "output_type": "stream",
     "text": [
      "                                                                                \r"
     ]
    },
    {
     "name": "stdout",
     "output_type": "stream",
     "text": [
      "ROEM:  0.0554221326908878\n"
     ]
    },
    {
     "name": "stderr",
     "output_type": "stream",
     "text": [
      "                                                                                \r"
     ]
    },
    {
     "name": "stdout",
     "output_type": "stream",
     "text": [
      "ROEM:  0.05652798867044578\n"
     ]
    },
    {
     "name": "stderr",
     "output_type": "stream",
     "text": [
      "                                                                                \r"
     ]
    },
    {
     "name": "stdout",
     "output_type": "stream",
     "text": [
      "ROEM:  0.05250671398348012\n"
     ]
    },
    {
     "name": "stderr",
     "output_type": "stream",
     "text": [
      "                                                                                \r"
     ]
    },
    {
     "name": "stdout",
     "output_type": "stream",
     "text": [
      "ROEM:  0.059228243356041745\n"
     ]
    },
    {
     "name": "stderr",
     "output_type": "stream",
     "text": [
      "                                                                                \r"
     ]
    },
    {
     "name": "stdout",
     "output_type": "stream",
     "text": [
      "ROEM:  0.057867256343615836\n",
      "Validation ROEM:  0.05208319650999998\n"
     ]
    },
    {
     "name": "stderr",
     "output_type": "stream",
     "text": [
      "                                                                                \r"
     ]
    },
    {
     "name": "stdout",
     "output_type": "stream",
     "text": [
      "ROEM:  0.05429739433358803\n"
     ]
    },
    {
     "name": "stderr",
     "output_type": "stream",
     "text": [
      "                                                                                \r"
     ]
    },
    {
     "name": "stdout",
     "output_type": "stream",
     "text": [
      "ROEM:  0.05695147498344686\n"
     ]
    },
    {
     "name": "stderr",
     "output_type": "stream",
     "text": [
      "                                                                                \r"
     ]
    },
    {
     "name": "stdout",
     "output_type": "stream",
     "text": [
      "ROEM:  0.0554715179997275\n"
     ]
    },
    {
     "name": "stderr",
     "output_type": "stream",
     "text": [
      "                                                                                \r"
     ]
    },
    {
     "name": "stdout",
     "output_type": "stream",
     "text": [
      "ROEM:  0.06010909410284255\n"
     ]
    },
    {
     "name": "stderr",
     "output_type": "stream",
     "text": [
      "                                                                                \r"
     ]
    },
    {
     "name": "stdout",
     "output_type": "stream",
     "text": [
      "ROEM:  0.05790830631465033\n",
      "Validation ROEM:  0.05170081695526577\n"
     ]
    },
    {
     "name": "stderr",
     "output_type": "stream",
     "text": [
      "                                                                                \r"
     ]
    },
    {
     "name": "stdout",
     "output_type": "stream",
     "text": [
      "ROEM:  0.05415734885026318\n"
     ]
    },
    {
     "name": "stderr",
     "output_type": "stream",
     "text": [
      "                                                                                \r"
     ]
    },
    {
     "name": "stdout",
     "output_type": "stream",
     "text": [
      "ROEM:  0.056407405218185845\n"
     ]
    },
    {
     "name": "stderr",
     "output_type": "stream",
     "text": [
      "                                                                                \r"
     ]
    },
    {
     "name": "stdout",
     "output_type": "stream",
     "text": [
      "ROEM:  0.05291096473020459\n"
     ]
    },
    {
     "name": "stderr",
     "output_type": "stream",
     "text": [
      "                                                                                \r"
     ]
    },
    {
     "name": "stdout",
     "output_type": "stream",
     "text": [
      "ROEM:  0.05993715191898928\n"
     ]
    },
    {
     "name": "stderr",
     "output_type": "stream",
     "text": [
      "                                                                                \r"
     ]
    },
    {
     "name": "stdout",
     "output_type": "stream",
     "text": [
      "ROEM:  0.05675015688961808\n",
      "Validation ROEM:  0.05205632711441303\n"
     ]
    },
    {
     "name": "stderr",
     "output_type": "stream",
     "text": [
      "                                                                                \r"
     ]
    },
    {
     "name": "stdout",
     "output_type": "stream",
     "text": [
      "ROEM:  0.05620762277832538\n"
     ]
    },
    {
     "name": "stderr",
     "output_type": "stream",
     "text": [
      "                                                                                \r"
     ]
    },
    {
     "name": "stdout",
     "output_type": "stream",
     "text": [
      "ROEM:  0.05590788532728013\n"
     ]
    },
    {
     "name": "stderr",
     "output_type": "stream",
     "text": [
      "                                                                                \r"
     ]
    },
    {
     "name": "stdout",
     "output_type": "stream",
     "text": [
      "ROEM:  0.0545211844651951\n"
     ]
    },
    {
     "name": "stderr",
     "output_type": "stream",
     "text": [
      "                                                                                \r"
     ]
    },
    {
     "name": "stdout",
     "output_type": "stream",
     "text": [
      "ROEM:  0.0598332957402353\n"
     ]
    },
    {
     "name": "stderr",
     "output_type": "stream",
     "text": [
      "                                                                                \r"
     ]
    },
    {
     "name": "stdout",
     "output_type": "stream",
     "text": [
      "ROEM:  0.059445633521864286\n",
      "Validation ROEM:  0.0533481155135179\n"
     ]
    },
    {
     "name": "stderr",
     "output_type": "stream",
     "text": [
      "                                                                                \r"
     ]
    },
    {
     "name": "stdout",
     "output_type": "stream",
     "text": [
      "ROEM:  0.057057440226869344\n"
     ]
    },
    {
     "name": "stderr",
     "output_type": "stream",
     "text": [
      "                                                                                \r"
     ]
    },
    {
     "name": "stdout",
     "output_type": "stream",
     "text": [
      "ROEM:  0.059278615798516815\n"
     ]
    },
    {
     "name": "stderr",
     "output_type": "stream",
     "text": [
      "                                                                                \r"
     ]
    },
    {
     "name": "stdout",
     "output_type": "stream",
     "text": [
      "ROEM:  0.05644822273046533\n"
     ]
    },
    {
     "name": "stderr",
     "output_type": "stream",
     "text": [
      "                                                                                \r"
     ]
    },
    {
     "name": "stdout",
     "output_type": "stream",
     "text": [
      "ROEM:  0.06061295723542736\n"
     ]
    },
    {
     "name": "stderr",
     "output_type": "stream",
     "text": [
      "                                                                                \r"
     ]
    },
    {
     "name": "stdout",
     "output_type": "stream",
     "text": [
      "ROEM:  0.059151116734398226\n",
      "Validation ROEM:  0.05400361760864049\n"
     ]
    },
    {
     "name": "stderr",
     "output_type": "stream",
     "text": [
      "                                                                                \r"
     ]
    },
    {
     "name": "stdout",
     "output_type": "stream",
     "text": [
      "ROEM:  0.05263249195007428\n"
     ]
    },
    {
     "name": "stderr",
     "output_type": "stream",
     "text": [
      "                                                                                \r"
     ]
    },
    {
     "name": "stdout",
     "output_type": "stream",
     "text": [
      "ROEM:  0.05712358299846846\n"
     ]
    },
    {
     "name": "stderr",
     "output_type": "stream",
     "text": [
      "                                                                                \r"
     ]
    },
    {
     "name": "stdout",
     "output_type": "stream",
     "text": [
      "ROEM:  0.05357080976491893\n"
     ]
    },
    {
     "name": "stderr",
     "output_type": "stream",
     "text": [
      "                                                                                \r"
     ]
    },
    {
     "name": "stdout",
     "output_type": "stream",
     "text": [
      "ROEM:  0.05849228363939012\n"
     ]
    },
    {
     "name": "stderr",
     "output_type": "stream",
     "text": [
      "                                                                                \r"
     ]
    },
    {
     "name": "stdout",
     "output_type": "stream",
     "text": [
      "ROEM:  0.05634214768420832\n",
      "Validation ROEM:  0.05117604462921908\n"
     ]
    },
    {
     "name": "stderr",
     "output_type": "stream",
     "text": [
      "                                                                                \r"
     ]
    },
    {
     "name": "stdout",
     "output_type": "stream",
     "text": [
      "ROEM:  0.05299104050792394\n"
     ]
    },
    {
     "name": "stderr",
     "output_type": "stream",
     "text": [
      "                                                                                \r"
     ]
    },
    {
     "name": "stdout",
     "output_type": "stream",
     "text": [
      "ROEM:  0.05627544433339322\n",
      "ROEM:  0.05301057417585315\n"
     ]
    },
    {
     "name": "stderr",
     "output_type": "stream",
     "text": [
      "                                                                                \r"
     ]
    },
    {
     "name": "stdout",
     "output_type": "stream",
     "text": [
      "ROEM:  0.058468715926826065\n"
     ]
    },
    {
     "name": "stderr",
     "output_type": "stream",
     "text": [
      "                                                                                \r"
     ]
    },
    {
     "name": "stdout",
     "output_type": "stream",
     "text": [
      "ROEM:  0.05593944813320857\n",
      "Validation ROEM:  0.05218409594830242\n",
      "ROEM:  0.05503001527389023\n"
     ]
    },
    {
     "name": "stderr",
     "output_type": "stream",
     "text": [
      "                                                                                \r"
     ]
    },
    {
     "name": "stdout",
     "output_type": "stream",
     "text": [
      "ROEM:  0.05496656553801523\n"
     ]
    },
    {
     "name": "stderr",
     "output_type": "stream",
     "text": [
      "                                                                                \r"
     ]
    },
    {
     "name": "stdout",
     "output_type": "stream",
     "text": [
      "ROEM:  0.05434956322863732\n"
     ]
    },
    {
     "name": "stderr",
     "output_type": "stream",
     "text": [
      "                                                                                \r"
     ]
    },
    {
     "name": "stdout",
     "output_type": "stream",
     "text": [
      "ROEM:  0.05848952388605504\n"
     ]
    },
    {
     "name": "stderr",
     "output_type": "stream",
     "text": [
      "                                                                                \r"
     ]
    },
    {
     "name": "stdout",
     "output_type": "stream",
     "text": [
      "ROEM:  0.056344301769365855\n",
      "Validation ROEM:  0.05211556212526388\n"
     ]
    },
    {
     "name": "stderr",
     "output_type": "stream",
     "text": [
      "                                                                                \r"
     ]
    },
    {
     "name": "stdout",
     "output_type": "stream",
     "text": [
      "ROEM:  0.05568354142380422\n",
      "ROEM:  0.05552570196998368\n"
     ]
    },
    {
     "name": "stderr",
     "output_type": "stream",
     "text": [
      "                                                                                \r"
     ]
    },
    {
     "name": "stdout",
     "output_type": "stream",
     "text": [
      "ROEM:  0.05456949885483665\n",
      "ROEM:  0.06133647162033824\n"
     ]
    },
    {
     "name": "stderr",
     "output_type": "stream",
     "text": [
      "                                                                                \r"
     ]
    },
    {
     "name": "stdout",
     "output_type": "stream",
     "text": [
      "ROEM:  0.05792954761735865\n",
      "Validation ROEM:  0.052579264968038594\n"
     ]
    },
    {
     "name": "stderr",
     "output_type": "stream",
     "text": [
      "                                                                                \r"
     ]
    },
    {
     "name": "stdout",
     "output_type": "stream",
     "text": [
      "ROEM:  0.053030912904051895\n"
     ]
    },
    {
     "name": "stderr",
     "output_type": "stream",
     "text": [
      "                                                                                \r"
     ]
    },
    {
     "name": "stdout",
     "output_type": "stream",
     "text": [
      "ROEM:  0.05437357829042285\n"
     ]
    },
    {
     "name": "stderr",
     "output_type": "stream",
     "text": [
      "                                                                                \r"
     ]
    },
    {
     "name": "stdout",
     "output_type": "stream",
     "text": [
      "ROEM:  0.05255007501485606\n",
      "ROEM:  0.05716885344407789\n"
     ]
    },
    {
     "name": "stderr",
     "output_type": "stream",
     "text": [
      "                                                                                \r"
     ]
    },
    {
     "name": "stdout",
     "output_type": "stream",
     "text": [
      "ROEM:  0.0556309814859046\n",
      "Validation ROEM:  0.05025571242466438\n",
      "ROEM:  0.05141289678687604\n"
     ]
    },
    {
     "name": "stderr",
     "output_type": "stream",
     "text": [
      "                                                                                \r"
     ]
    },
    {
     "name": "stdout",
     "output_type": "stream",
     "text": [
      "ROEM:  0.054266749819779046\n"
     ]
    },
    {
     "name": "stderr",
     "output_type": "stream",
     "text": [
      "                                                                                \r"
     ]
    },
    {
     "name": "stdout",
     "output_type": "stream",
     "text": [
      "ROEM:  0.05221823518942011\n"
     ]
    },
    {
     "name": "stderr",
     "output_type": "stream",
     "text": [
      "                                                                                \r"
     ]
    },
    {
     "name": "stdout",
     "output_type": "stream",
     "text": [
      "ROEM:  0.05731597613252354\n"
     ]
    },
    {
     "name": "stderr",
     "output_type": "stream",
     "text": [
      "                                                                                \r"
     ]
    },
    {
     "name": "stdout",
     "output_type": "stream",
     "text": [
      "ROEM:  0.05475556341488934\n",
      "Validation ROEM:  0.051249551327145496\n"
     ]
    },
    {
     "name": "stderr",
     "output_type": "stream",
     "text": [
      "                                                                                \r"
     ]
    },
    {
     "name": "stdout",
     "output_type": "stream",
     "text": [
      "ROEM:  0.05394595470239455\n"
     ]
    },
    {
     "name": "stderr",
     "output_type": "stream",
     "text": [
      "                                                                                \r"
     ]
    },
    {
     "name": "stdout",
     "output_type": "stream",
     "text": [
      "ROEM:  0.05369003265599861\n"
     ]
    },
    {
     "name": "stderr",
     "output_type": "stream",
     "text": [
      "                                                                                \r"
     ]
    },
    {
     "name": "stdout",
     "output_type": "stream",
     "text": [
      "ROEM:  0.051206287447104266\n"
     ]
    },
    {
     "name": "stderr",
     "output_type": "stream",
     "text": [
      "                                                                                \r"
     ]
    },
    {
     "name": "stdout",
     "output_type": "stream",
     "text": [
      "ROEM:  0.05817952598978772\n"
     ]
    },
    {
     "name": "stderr",
     "output_type": "stream",
     "text": [
      "                                                                                \r"
     ]
    },
    {
     "name": "stdout",
     "output_type": "stream",
     "text": [
      "ROEM:  0.05703874998154857\n",
      "Validation ROEM:  0.05127915871335019\n"
     ]
    },
    {
     "name": "stderr",
     "output_type": "stream",
     "text": [
      "                                                                                \r"
     ]
    },
    {
     "name": "stdout",
     "output_type": "stream",
     "text": [
      "ROEM:  0.05513256409507222\n"
     ]
    },
    {
     "name": "stderr",
     "output_type": "stream",
     "text": [
      "                                                                                \r"
     ]
    },
    {
     "name": "stdout",
     "output_type": "stream",
     "text": [
      "ROEM:  0.055628900450711845\n"
     ]
    },
    {
     "name": "stderr",
     "output_type": "stream",
     "text": [
      "                                                                                \r"
     ]
    },
    {
     "name": "stdout",
     "output_type": "stream",
     "text": [
      "ROEM:  0.05196429069014226\n"
     ]
    },
    {
     "name": "stderr",
     "output_type": "stream",
     "text": [
      "                                                                                \r"
     ]
    },
    {
     "name": "stdout",
     "output_type": "stream",
     "text": [
      "ROEM:  0.059512920839545104\n"
     ]
    },
    {
     "name": "stderr",
     "output_type": "stream",
     "text": [
      "                                                                                \r"
     ]
    },
    {
     "name": "stdout",
     "output_type": "stream",
     "text": [
      "ROEM:  0.05734069251731454\n",
      "Validation ROEM:  0.05180534913323652\n"
     ]
    }
   ],
   "source": [
    "# Split the data into training and test sets\n",
    "(training, test) = msd.randomSplit([0.8, 0.2])\n",
    "\n",
    "#Building 5 folds within the training set.\n",
    "train1, train2, train3, train4, train5 = training.randomSplit([0.2, 0.2, 0.2, 0.2, 0.2], seed = 1)\n",
    "fold1 = train2.union(train3).union(train4).union(train5)\n",
    "fold2 = train3.union(train4).union(train5).union(train1)\n",
    "fold3 = train4.union(train5).union(train1).union(train2)\n",
    "fold4 = train5.union(train1).union(train2).union(train3)\n",
    "fold5 = train1.union(train2).union(train3).union(train4)\n",
    "\n",
    "foldlist = [(fold1, train1), (fold2, train2), (fold3, train3), (fold4, train4), (fold5, train5)]\n",
    "\n",
    "ROEMS = []\n",
    "# Loops through all models and all folds\n",
    "for model in model_list:\n",
    "    for ft_pair in foldlist:\n",
    "        # Fits model to fold within training data\n",
    "        fitted_model = model.fit(ft_pair[0])\n",
    "        # Generates predictions using fitted_model on respective CV test data\n",
    "        predictions = fitted_model.transform(ft_pair[1])\n",
    "        # Generates and prints a ROEM metric CV test data\n",
    "        r = roem(spark, predictions, 'userId', 'num_plays')\n",
    "        print (\"ROEM: \", r)\n",
    "    # Fits model to all of training data and generates preds for test data\n",
    "    v_fitted_model = model.fit(training)\n",
    "    v_predictions = v_fitted_model.transform(test)\n",
    "    v_ROEM = roem(spark, v_predictions, 'userId', 'num_plays')\n",
    "    # Adds validation ROEM to ROEM list\n",
    "    ROEMS.append(v_ROEM)\n",
    "    print (\"Validation ROEM: \", v_ROEM)"
   ]
  },
  {
   "cell_type": "markdown",
   "id": "1d730a5e-35b5-4d45-ba21-bcaaa5cbbe20",
   "metadata": {},
   "source": [
    "> Last executed at 2023-05-05 20:02:54 in 1h 24m 53s"
   ]
  },
  {
   "cell_type": "code",
   "execution_count": 33,
   "id": "a030c352-7ee7-4459-9e05-3515b3e6ab4c",
   "metadata": {
    "execution": {
     "iopub.execute_input": "2023-05-08T17:32:57.063165Z",
     "iopub.status.busy": "2023-05-08T17:32:57.063044Z",
     "iopub.status.idle": "2023-05-08T17:32:57.065348Z",
     "shell.execute_reply": "2023-05-08T17:32:57.065038Z",
     "shell.execute_reply.started": "2023-05-08T17:32:57.063154Z"
    },
    "tags": []
   },
   "outputs": [
    {
     "name": "stdout",
     "output_type": "stream",
     "text": [
      "Smallest ROEM #164: 0.049110232501098576\n"
     ]
    }
   ],
   "source": [
    "# Find the index of the smallest ROEM\n",
    "i = np.argmin(ROEMS)\n",
    "print(f'Smallest ROEM #{i}: {ROEMS[i]}')"
   ]
  },
  {
   "cell_type": "markdown",
   "id": "a0dd35b3-fdbb-4341-a015-b42063d59b4b",
   "metadata": {},
   "source": [
    "### Extracting parameters"
   ]
  },
  {
   "cell_type": "code",
   "execution_count": 34,
   "id": "2e5d5ac5-2f59-4cfd-b116-8587a2ec2527",
   "metadata": {
    "execution": {
     "iopub.execute_input": "2023-05-08T17:32:57.066078Z",
     "iopub.status.busy": "2023-05-08T17:32:57.065831Z",
     "iopub.status.idle": "2023-05-08T17:32:57.082525Z",
     "shell.execute_reply": "2023-05-08T17:32:57.081993Z",
     "shell.execute_reply.started": "2023-05-08T17:32:57.066062Z"
    }
   },
   "outputs": [
    {
     "name": "stdout",
     "output_type": "stream",
     "text": [
      "Rank:  40\n",
      "MaxIter:  20\n",
      "RegParam:  0.15\n",
      "Alpha:  20.0\n"
     ]
    }
   ],
   "source": [
    "# Extract the best_model\n",
    "best_model = model_list[i]\n",
    "\n",
    "# Extract the Rank\n",
    "print (\"Rank: \", best_model.getRank())\n",
    "\n",
    "# Extract the MaxIter value\n",
    "print (\"MaxIter: \", best_model.getMaxIter())\n",
    "\n",
    "# Extract the RegParam value\n",
    "print (\"RegParam: \", best_model.getRegParam())\n",
    "\n",
    "# Extract the Alpha value\n",
    "print (\"Alpha: \", best_model.getAlpha())"
   ]
  },
  {
   "cell_type": "markdown",
   "id": "c4783b2c-be3e-4076-97d3-c370937ae4d1",
   "metadata": {},
   "source": [
    "> Great work. Looks like a low rank, a higher maxIter, a low regParam, and a medium-high alpha is keeping the ROEM low. Because some of these values are on the high and low ends of the values we tried, it would be worth adding some additional values to test in our hyperparameter values, and doing this step again. But for right now, you should understand the process."
   ]
  },
  {
   "cell_type": "code",
   "execution_count": null,
   "id": "8f8b8cfb-1e78-4c96-ae73-2eaf66105946",
   "metadata": {},
   "outputs": [],
   "source": []
  }
 ],
 "metadata": {
  "kernelspec": {
   "display_name": "Python 3 (ipykernel)",
   "language": "python",
   "name": "python3"
  },
  "language_info": {
   "codemirror_mode": {
    "name": "ipython",
    "version": 3
   },
   "file_extension": ".py",
   "mimetype": "text/x-python",
   "name": "python",
   "nbconvert_exporter": "python",
   "pygments_lexer": "ipython3",
   "version": "3.10.10"
  }
 },
 "nbformat": 4,
 "nbformat_minor": 5
}
