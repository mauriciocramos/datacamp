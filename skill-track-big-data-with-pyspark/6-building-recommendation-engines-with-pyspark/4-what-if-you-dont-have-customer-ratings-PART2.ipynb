{
 "cells": [
  {
   "cell_type": "markdown",
   "id": "87fd9394-9945-4ab4-85a4-4f3c73a2a2ff",
   "metadata": {
    "tags": []
   },
   "source": [
    "# Setup"
   ]
  },
  {
   "cell_type": "code",
   "execution_count": 1,
   "id": "bbe625f4-f805-41e3-a628-393a366e584c",
   "metadata": {
    "execution": {
     "iopub.execute_input": "2023-05-10T22:41:39.977610Z",
     "iopub.status.busy": "2023-05-10T22:41:39.977514Z",
     "iopub.status.idle": "2023-05-10T22:41:40.471010Z",
     "shell.execute_reply": "2023-05-10T22:41:40.470602Z",
     "shell.execute_reply.started": "2023-05-10T22:41:39.977600Z"
    },
    "tags": []
   },
   "outputs": [],
   "source": [
    "# base\n",
    "import matplotlib.pyplot as plt\n",
    "plt.style.use('dark_background')\n",
    "import seaborn as sns\n",
    "import pandas as pd\n",
    "import numpy as np\n",
    "import datetime"
   ]
  },
  {
   "cell_type": "code",
   "execution_count": 2,
   "id": "8a468230-0925-47d4-bcff-d6113dff4b10",
   "metadata": {
    "execution": {
     "iopub.execute_input": "2023-05-10T22:41:40.471665Z",
     "iopub.status.busy": "2023-05-10T22:41:40.471496Z",
     "iopub.status.idle": "2023-05-10T22:41:40.558929Z",
     "shell.execute_reply": "2023-05-10T22:41:40.558598Z",
     "shell.execute_reply.started": "2023-05-10T22:41:40.471653Z"
    },
    "tags": []
   },
   "outputs": [],
   "source": [
    "import sys\n",
    "sys.path.insert(1, '/home/mauricio/code/mcr')\n",
    "from mcr.util import glimpse, plot_value_counts, plot_value_counts_timeseries, missing_report, plot_missing, plot_unique, plot_duplicates, size\n",
    "from mcr.spark import roem"
   ]
  },
  {
   "cell_type": "code",
   "execution_count": 3,
   "id": "66c4129c-b82c-43f7-a495-65b4452b54ed",
   "metadata": {
    "execution": {
     "iopub.execute_input": "2023-05-10T22:41:40.559584Z",
     "iopub.status.busy": "2023-05-10T22:41:40.559359Z",
     "iopub.status.idle": "2023-05-10T22:41:42.228422Z",
     "shell.execute_reply": "2023-05-10T22:41:42.228130Z",
     "shell.execute_reply.started": "2023-05-10T22:41:40.559568Z"
    },
    "tags": []
   },
   "outputs": [
    {
     "name": "stderr",
     "output_type": "stream",
     "text": [
      "23/05/10 19:41:41 WARN Utils: Your hostname, rig resolves to a loopback address: 127.0.1.1; using 192.168.0.102 instead (on interface enp6s0)\n",
      "23/05/10 19:41:41 WARN Utils: Set SPARK_LOCAL_IP if you need to bind to another address\n",
      "Setting default log level to \"WARN\".\n",
      "To adjust logging level use sc.setLogLevel(newLevel). For SparkR, use setLogLevel(newLevel).\n",
      "23/05/10 19:41:41 WARN NativeCodeLoader: Unable to load native-hadoop library for your platform... using builtin-java classes where applicable\n"
     ]
    },
    {
     "data": {
      "text/plain": [
       "[('spark.app.id', 'local-1683758502026'),\n",
       " ('spark.executor.memory', '3g'),\n",
       " ('spark.app.submitTime', '1683758501528'),\n",
       " ('spark.executor.id', 'driver'),\n",
       " ('spark.driver.memory', '16g'),\n",
       " ('spark.driver.host', '192.168.0.102'),\n",
       " ('spark.app.name', 'pyspark-shell'),\n",
       " ('spark.driver.extraJavaOptions',\n",
       "  '-Djava.net.preferIPv6Addresses=false -XX:+IgnoreUnrecognizedVMOptions --add-opens=java.base/java.lang=ALL-UNNAMED --add-opens=java.base/java.lang.invoke=ALL-UNNAMED --add-opens=java.base/java.lang.reflect=ALL-UNNAMED --add-opens=java.base/java.io=ALL-UNNAMED --add-opens=java.base/java.net=ALL-UNNAMED --add-opens=java.base/java.nio=ALL-UNNAMED --add-opens=java.base/java.util=ALL-UNNAMED --add-opens=java.base/java.util.concurrent=ALL-UNNAMED --add-opens=java.base/java.util.concurrent.atomic=ALL-UNNAMED --add-opens=java.base/sun.nio.ch=ALL-UNNAMED --add-opens=java.base/sun.nio.cs=ALL-UNNAMED --add-opens=java.base/sun.security.action=ALL-UNNAMED --add-opens=java.base/sun.util.calendar=ALL-UNNAMED --add-opens=java.security.jgss/sun.security.krb5=ALL-UNNAMED -Djdk.reflect.useDirectMethodHandle=false'),\n",
       " ('spark.rdd.compress', 'True'),\n",
       " ('spark.serializer.objectStreamReset', '100'),\n",
       " ('spark.executor.cores', '16'),\n",
       " ('spark.master', 'local[*]'),\n",
       " ('spark.submit.pyFiles', ''),\n",
       " ('spark.submit.deployMode', 'client'),\n",
       " ('spark.driver.port', '33335'),\n",
       " ('spark.ui.showConsoleProgress', 'true'),\n",
       " ('spark.executor.extraJavaOptions',\n",
       "  '-Djava.net.preferIPv6Addresses=false -XX:+IgnoreUnrecognizedVMOptions --add-opens=java.base/java.lang=ALL-UNNAMED --add-opens=java.base/java.lang.invoke=ALL-UNNAMED --add-opens=java.base/java.lang.reflect=ALL-UNNAMED --add-opens=java.base/java.io=ALL-UNNAMED --add-opens=java.base/java.net=ALL-UNNAMED --add-opens=java.base/java.nio=ALL-UNNAMED --add-opens=java.base/java.util=ALL-UNNAMED --add-opens=java.base/java.util.concurrent=ALL-UNNAMED --add-opens=java.base/java.util.concurrent.atomic=ALL-UNNAMED --add-opens=java.base/sun.nio.ch=ALL-UNNAMED --add-opens=java.base/sun.nio.cs=ALL-UNNAMED --add-opens=java.base/sun.security.action=ALL-UNNAMED --add-opens=java.base/sun.util.calendar=ALL-UNNAMED --add-opens=java.security.jgss/sun.security.krb5=ALL-UNNAMED -Djdk.reflect.useDirectMethodHandle=false'),\n",
       " ('spark.app.startTime', '1683758501601')]"
      ]
     },
     "execution_count": 3,
     "metadata": {},
     "output_type": "execute_result"
    }
   ],
   "source": [
    "from pyspark import SparkContext\n",
    "# SparkContext.getOrCreate(conf: Optional[pyspark.conf.SparkConf] = None) -> 'SparkContext'\n",
    "# Amount of memory to use per executor process\n",
    "# SparkContext.setSystemProperty('spark.driver.cores', '1g') #only in cluster mode\n",
    "SparkContext.setSystemProperty('spark.driver.memory', '16g')\n",
    "SparkContext.setSystemProperty('spark.executor.memory', '3g')\n",
    "SparkContext.setSystemProperty('spark.executor.cores', '16')\n",
    "sc = SparkContext.getOrCreate()\n",
    "# sc.setLogLevel('ERROR')  # ALL, DEBUG, ERROR, FATAL, INFO, OFF, TRACE, WARN\n",
    "# https://intellipaat.com/community/18452/spark-gives-a-stackoverflowerror-when-training-using-als\n",
    "sc.setCheckpointDir('checkpoint/')\n",
    "sc.getConf().getAll()"
   ]
  },
  {
   "cell_type": "code",
   "execution_count": 4,
   "id": "1b5c21a4-afe5-472c-a997-610b22cdb045",
   "metadata": {
    "execution": {
     "iopub.execute_input": "2023-05-10T22:41:42.229479Z",
     "iopub.status.busy": "2023-05-10T22:41:42.229330Z",
     "iopub.status.idle": "2023-05-10T22:41:42.293269Z",
     "shell.execute_reply": "2023-05-10T22:41:42.292894Z",
     "shell.execute_reply.started": "2023-05-10T22:41:42.229467Z"
    },
    "tags": []
   },
   "outputs": [
    {
     "name": "stdout",
     "output_type": "stream",
     "text": [
      "3.4.0\n"
     ]
    }
   ],
   "source": [
    "from pyspark.sql import functions as F\n",
    "from pyspark.sql.types import *\n",
    "from pyspark.sql import SparkSession\n",
    "spark = SparkSession.builder.master('local[*]').appName('spark_application').getOrCreate()\n",
    "print(spark.version)"
   ]
  },
  {
   "cell_type": "markdown",
   "id": "835e0da8-e828-4951-b9ca-1021f87d1217",
   "metadata": {},
   "source": [
    "# Overview of binary, implicit ratings"
   ]
  },
  {
   "cell_type": "markdown",
   "id": "95792146-f75f-4697-8ca3-e239c5366396",
   "metadata": {},
   "source": [
    "## Binary ratings\n",
    "Notice that all ratings are either a 1 or a 0. We must treat binary ratings like these as implicit ratings. If we treated them like explicit ratings and didn't include the 0's, the best performing model would simply predict 1 for everything, and deliver a deceivingly ideal RMSE of 0.\n",
    "\n",
    "Also, as with our previous Million Songs model, we can't use the RMSE as a model evaluation metric.\n",
    "\n",
    "Ultimately, when our machine learning process holds out random observations in the test set, we want our model to generate high predictions for those movies that users have actually watched. For this reason, we'll use our ROEM metric again. We'll apply the same concepts we've covered previously on this binary dataset.\n",
    "\n",
    "The convenience of using the MovieLens dataset is that we can see how our binary model performs against the original, true preference ratings of the original MovieLens dataset. "
   ]
  },
  {
   "cell_type": "code",
   "execution_count": 5,
   "id": "55c74671-1ff2-414c-9ef2-e3971ddf30c1",
   "metadata": {
    "execution": {
     "iopub.execute_input": "2023-05-10T22:41:42.293872Z",
     "iopub.status.busy": "2023-05-10T22:41:42.293748Z",
     "iopub.status.idle": "2023-05-10T22:41:44.635839Z",
     "shell.execute_reply": "2023-05-10T22:41:44.635538Z",
     "shell.execute_reply.started": "2023-05-10T22:41:42.293861Z"
    },
    "tags": []
   },
   "outputs": [],
   "source": [
    "# Read data from CSV file\n",
    "movie_ratings = spark.read.csv('ratings.csv',\n",
    "                               sep=',',\n",
    "                               header=True,\n",
    "                               inferSchema=True).drop('timestamp')"
   ]
  },
  {
   "cell_type": "code",
   "execution_count": 6,
   "id": "fb2e7f59-a4d4-4c5f-8252-7791ecb085a6",
   "metadata": {
    "execution": {
     "iopub.execute_input": "2023-05-10T22:41:44.636333Z",
     "iopub.status.busy": "2023-05-10T22:41:44.636230Z",
     "iopub.status.idle": "2023-05-10T22:41:44.990829Z",
     "shell.execute_reply": "2023-05-10T22:41:44.990513Z",
     "shell.execute_reply.started": "2023-05-10T22:41:44.636322Z"
    },
    "tags": []
   },
   "outputs": [
    {
     "data": {
      "text/plain": [
       "(1, 100004)"
      ]
     },
     "execution_count": 6,
     "metadata": {},
     "output_type": "execute_result"
    }
   ],
   "source": [
    "movie_ratings.rdd.getNumPartitions(), movie_ratings.count()"
   ]
  },
  {
   "cell_type": "code",
   "execution_count": 7,
   "id": "c09a1925-4d2f-41eb-99e1-2d2fa29397ac",
   "metadata": {
    "execution": {
     "iopub.execute_input": "2023-05-10T22:41:44.991448Z",
     "iopub.status.busy": "2023-05-10T22:41:44.991292Z",
     "iopub.status.idle": "2023-05-10T22:41:45.010131Z",
     "shell.execute_reply": "2023-05-10T22:41:45.009841Z",
     "shell.execute_reply.started": "2023-05-10T22:41:44.991436Z"
    },
    "tags": []
   },
   "outputs": [],
   "source": [
    "users = movie_ratings.select(\"userId\").distinct().orderBy('userId')"
   ]
  },
  {
   "cell_type": "code",
   "execution_count": 8,
   "id": "a69932f0-783c-4187-9eff-702f27562545",
   "metadata": {
    "execution": {
     "iopub.execute_input": "2023-05-10T22:41:45.010891Z",
     "iopub.status.busy": "2023-05-10T22:41:45.010580Z",
     "iopub.status.idle": "2023-05-10T22:41:45.789343Z",
     "shell.execute_reply": "2023-05-10T22:41:45.788883Z",
     "shell.execute_reply.started": "2023-05-10T22:41:45.010874Z"
    },
    "tags": []
   },
   "outputs": [
    {
     "data": {
      "text/plain": [
       "(1, 671)"
      ]
     },
     "execution_count": 8,
     "metadata": {},
     "output_type": "execute_result"
    }
   ],
   "source": [
    "users.rdd.getNumPartitions(), users.count()"
   ]
  },
  {
   "cell_type": "code",
   "execution_count": 9,
   "id": "c2e50cb7-98ab-4d4b-b015-ce5fd2662390",
   "metadata": {
    "execution": {
     "iopub.execute_input": "2023-05-10T22:41:45.790235Z",
     "iopub.status.busy": "2023-05-10T22:41:45.789928Z",
     "iopub.status.idle": "2023-05-10T22:41:45.804007Z",
     "shell.execute_reply": "2023-05-10T22:41:45.803639Z",
     "shell.execute_reply.started": "2023-05-10T22:41:45.790215Z"
    },
    "tags": []
   },
   "outputs": [],
   "source": [
    "movies = movie_ratings.select(\"movieId\").distinct().orderBy('movieId')"
   ]
  },
  {
   "cell_type": "code",
   "execution_count": 10,
   "id": "6de34cba-edc8-4573-a504-c5f336cfcc62",
   "metadata": {
    "execution": {
     "iopub.execute_input": "2023-05-10T22:41:45.804871Z",
     "iopub.status.busy": "2023-05-10T22:41:45.804534Z",
     "iopub.status.idle": "2023-05-10T22:41:46.253455Z",
     "shell.execute_reply": "2023-05-10T22:41:46.253061Z",
     "shell.execute_reply.started": "2023-05-10T22:41:45.804854Z"
    },
    "tags": []
   },
   "outputs": [
    {
     "data": {
      "text/plain": [
       "(1, 9066)"
      ]
     },
     "execution_count": 10,
     "metadata": {},
     "output_type": "execute_result"
    }
   ],
   "source": [
    "movies.rdd.getNumPartitions(), movies.count()"
   ]
  },
  {
   "cell_type": "code",
   "execution_count": 11,
   "id": "c6c8a4f6-c691-428b-bd4c-3d9213db2f46",
   "metadata": {
    "execution": {
     "iopub.execute_input": "2023-05-10T22:41:46.254179Z",
     "iopub.status.busy": "2023-05-10T22:41:46.254017Z",
     "iopub.status.idle": "2023-05-10T22:41:46.264504Z",
     "shell.execute_reply": "2023-05-10T22:41:46.264135Z",
     "shell.execute_reply.started": "2023-05-10T22:41:46.254164Z"
    },
    "tags": []
   },
   "outputs": [],
   "source": [
    "cross_join = users.crossJoin(movies)"
   ]
  },
  {
   "cell_type": "code",
   "execution_count": 12,
   "id": "9ba68804-c2b9-4c51-98f5-1aec538f0175",
   "metadata": {
    "execution": {
     "iopub.execute_input": "2023-05-10T22:41:46.265378Z",
     "iopub.status.busy": "2023-05-10T22:41:46.265063Z",
     "iopub.status.idle": "2023-05-10T22:41:46.684013Z",
     "shell.execute_reply": "2023-05-10T22:41:46.683674Z",
     "shell.execute_reply.started": "2023-05-10T22:41:46.265362Z"
    },
    "tags": []
   },
   "outputs": [
    {
     "data": {
      "text/plain": [
       "(1, 6083286)"
      ]
     },
     "execution_count": 12,
     "metadata": {},
     "output_type": "execute_result"
    }
   ],
   "source": [
    "cross_join.rdd.getNumPartitions(), cross_join.count()"
   ]
  },
  {
   "cell_type": "code",
   "execution_count": 13,
   "id": "010286db-c365-4371-9282-298ee7b3a75e",
   "metadata": {
    "execution": {
     "iopub.execute_input": "2023-05-10T22:41:46.685783Z",
     "iopub.status.busy": "2023-05-10T22:41:46.685513Z",
     "iopub.status.idle": "2023-05-10T22:41:46.715737Z",
     "shell.execute_reply": "2023-05-10T22:41:46.715443Z",
     "shell.execute_reply.started": "2023-05-10T22:41:46.685763Z"
    },
    "tags": []
   },
   "outputs": [],
   "source": [
    "binary_movie_ratings = cross_join\\\n",
    "    .join(movie_ratings, [\"userId\", \"movieId\"], \"left\").distinct().orderBy(['userId', 'movieId'])\\\n",
    "    .fillna(0, subset='rating')"
   ]
  },
  {
   "cell_type": "code",
   "execution_count": 14,
   "id": "26678fb2-67a3-42f4-afd9-13d30d0eac25",
   "metadata": {
    "execution": {
     "iopub.execute_input": "2023-05-10T22:41:46.716284Z",
     "iopub.status.busy": "2023-05-10T22:41:46.716170Z",
     "iopub.status.idle": "2023-05-10T22:42:12.023417Z",
     "shell.execute_reply": "2023-05-10T22:42:12.023124Z",
     "shell.execute_reply.started": "2023-05-10T22:41:46.716272Z"
    },
    "tags": []
   },
   "outputs": [
    {
     "name": "stderr",
     "output_type": "stream",
     "text": [
      "                                                                                \r"
     ]
    },
    {
     "data": {
      "text/plain": [
       "(17, 6083286)"
      ]
     },
     "execution_count": 14,
     "metadata": {},
     "output_type": "execute_result"
    }
   ],
   "source": [
    "binary_movie_ratings.rdd.getNumPartitions(), binary_movie_ratings.count()"
   ]
  },
  {
   "cell_type": "code",
   "execution_count": 15,
   "id": "13d858e9-db7a-4c00-a03e-238cda33baef",
   "metadata": {
    "execution": {
     "iopub.execute_input": "2023-05-10T22:42:12.024054Z",
     "iopub.status.busy": "2023-05-10T22:42:12.023820Z",
     "iopub.status.idle": "2023-05-10T22:42:12.038743Z",
     "shell.execute_reply": "2023-05-10T22:42:12.038463Z",
     "shell.execute_reply.started": "2023-05-10T22:42:12.024043Z"
    },
    "tags": []
   },
   "outputs": [],
   "source": [
    "binary_movie_ratings = binary_movie_ratings\\\n",
    "    .withColumn('viewed', (F.col('rating')>0).cast('integer'))\\\n",
    "    .drop('rating')"
   ]
  },
  {
   "cell_type": "code",
   "execution_count": 16,
   "id": "f59dad83-f1de-4904-8534-68d4b26af97f",
   "metadata": {
    "execution": {
     "iopub.execute_input": "2023-05-10T22:42:12.039518Z",
     "iopub.status.busy": "2023-05-10T22:42:12.039205Z",
     "iopub.status.idle": "2023-05-10T22:42:36.662534Z",
     "shell.execute_reply": "2023-05-10T22:42:36.662101Z",
     "shell.execute_reply.started": "2023-05-10T22:42:12.039501Z"
    },
    "tags": []
   },
   "outputs": [
    {
     "name": "stderr",
     "output_type": "stream",
     "text": [
      "                                                                                \r"
     ]
    },
    {
     "data": {
      "text/plain": [
       "(17, 6083286)"
      ]
     },
     "execution_count": 16,
     "metadata": {},
     "output_type": "execute_result"
    }
   ],
   "source": [
    "binary_movie_ratings.rdd.getNumPartitions(), binary_movie_ratings.count()"
   ]
  },
  {
   "cell_type": "code",
   "execution_count": 17,
   "id": "3391fb85-ed5f-476e-872c-ba13c1fcbb7a",
   "metadata": {
    "execution": {
     "iopub.execute_input": "2023-05-10T22:42:36.663120Z",
     "iopub.status.busy": "2023-05-10T22:42:36.663003Z",
     "iopub.status.idle": "2023-05-10T22:42:36.694204Z",
     "shell.execute_reply": "2023-05-10T22:42:36.693930Z",
     "shell.execute_reply.started": "2023-05-10T22:42:36.663109Z"
    },
    "tags": []
   },
   "outputs": [],
   "source": [
    "binary_movie_ratings = binary_movie_ratings.coalesce(1).persist()"
   ]
  },
  {
   "cell_type": "code",
   "execution_count": 18,
   "id": "462fa6cf-1b2e-41f2-b349-205845bdd0fe",
   "metadata": {
    "execution": {
     "iopub.execute_input": "2023-05-10T22:42:36.694684Z",
     "iopub.status.busy": "2023-05-10T22:42:36.694582Z",
     "iopub.status.idle": "2023-05-10T22:42:42.388443Z",
     "shell.execute_reply": "2023-05-10T22:42:42.387961Z",
     "shell.execute_reply.started": "2023-05-10T22:42:36.694674Z"
    },
    "tags": []
   },
   "outputs": [
    {
     "name": "stderr",
     "output_type": "stream",
     "text": [
      "                                                                                \r"
     ]
    },
    {
     "data": {
      "text/plain": [
       "(1, 6083286)"
      ]
     },
     "execution_count": 18,
     "metadata": {},
     "output_type": "execute_result"
    }
   ],
   "source": [
    "binary_movie_ratings.rdd.getNumPartitions(), binary_movie_ratings.count()"
   ]
  },
  {
   "cell_type": "markdown",
   "id": "2c31de69-f081-4631-8ec1-7ef2c76d0f98",
   "metadata": {
    "tags": []
   },
   "source": [
    "## Class imbalance\n",
    "\n",
    "One word about binary models. While it's perfectly feasible to feed binary data like this into ALS and get meaningful recommendations, the data does have a sort of class imbalance where the vast majority of ratings are 0's with a small percentage of 1's.\n",
    "\n",
    "**Since implicit ratings models use customized error metrics like ROEM and not RMSE, the class imbalance doesn't really pose a problem like it might in classification problems.**\n",
    "\n",
    "ALS can still generate meaningful recommendations from this type of data but there are strategies that can be taken with the data to try and improve recommendations. "
   ]
  },
  {
   "cell_type": "code",
   "execution_count": 19,
   "id": "88366ace-672c-4108-af8c-2ace142430e1",
   "metadata": {
    "execution": {
     "iopub.execute_input": "2023-05-10T22:42:42.389245Z",
     "iopub.status.busy": "2023-05-10T22:42:42.389059Z",
     "iopub.status.idle": "2023-05-10T22:42:42.733743Z",
     "shell.execute_reply": "2023-05-10T22:42:42.733360Z",
     "shell.execute_reply.started": "2023-05-10T22:42:42.389226Z"
    },
    "tags": []
   },
   "outputs": [
    {
     "name": "stdout",
     "output_type": "stream",
     "text": [
      "Sparsity:  0.9835608583913366\n"
     ]
    }
   ],
   "source": [
    "print(\"Sparsity: \", 1 - (movie_ratings.count() / (users.count() * movies.count())))"
   ]
  },
  {
   "cell_type": "markdown",
   "id": "ce58381a-5b55-41ef-82fb-c82734dfbe1f",
   "metadata": {},
   "source": [
    "## Item weighting\n",
    "* Item Weighting: Movies with more user views = higher weight"
   ]
  },
  {
   "cell_type": "markdown",
   "id": "37873632-24c3-4531-9fa7-9ea4312ab68f",
   "metadata": {},
   "source": [
    "## Item weighting and user weighting\n",
    "* Item Weighting: Movies with more user views = higher weight\n",
    "* User Weighting: Users that have seen more movies will have lower weights applied to unseen movies"
   ]
  },
  {
   "cell_type": "markdown",
   "id": "a6746b2c-3071-48de-8047-0e8d08002833",
   "metadata": {},
   "source": [
    "## Exercises"
   ]
  },
  {
   "cell_type": "markdown",
   "id": "c43d3792-9546-4fd7-87fd-13ea8150d2ee",
   "metadata": {},
   "source": [
    "### Binary model performance"
   ]
  },
  {
   "cell_type": "code",
   "execution_count": 20,
   "id": "e72d774b-8992-4594-ab05-912fc53e0fd2",
   "metadata": {
    "execution": {
     "iopub.execute_input": "2023-05-10T22:42:42.734258Z",
     "iopub.status.busy": "2023-05-10T22:42:42.734140Z",
     "iopub.status.idle": "2023-05-10T22:42:42.783856Z",
     "shell.execute_reply": "2023-05-10T22:42:42.783501Z",
     "shell.execute_reply.started": "2023-05-10T22:42:42.734247Z"
    },
    "tags": []
   },
   "outputs": [],
   "source": [
    "from pyspark.ml.recommendation import ALS"
   ]
  },
  {
   "cell_type": "code",
   "execution_count": 21,
   "id": "355b66ee-0360-4cf0-8f80-9780b3c83b60",
   "metadata": {
    "execution": {
     "iopub.execute_input": "2023-05-10T22:42:42.784328Z",
     "iopub.status.busy": "2023-05-10T22:42:42.784230Z",
     "iopub.status.idle": "2023-05-10T22:42:42.997372Z",
     "shell.execute_reply": "2023-05-10T22:42:42.996950Z",
     "shell.execute_reply.started": "2023-05-10T22:42:42.784318Z"
    },
    "tags": []
   },
   "outputs": [
    {
     "name": "stdout",
     "output_type": "stream",
     "text": [
      "192\n"
     ]
    }
   ],
   "source": [
    "# Empty list to be filled with models\n",
    "model_list = []\n",
    "# Complete each of the hyperparameter value lists\n",
    "ranks = [10, 20, 30, 40]\n",
    "maxIters = [10, 20, 30, 40]\n",
    "regParams = [.05, .1, .15]\n",
    "alphas = [20, 40, 60, 80]\n",
    "# For loop will automatically create and store ALS models\n",
    "for r in ranks:\n",
    "    for mi in maxIters:\n",
    "        for rp in regParams:\n",
    "            for a in alphas:\n",
    "                model_list.append(ALS(userCol= \"userId\", itemCol= \"movieId\",\n",
    "                                      ratingCol= \"viewed\", rank = r, maxIter = mi, regParam = rp,\n",
    "                                      alpha = a, coldStartStrategy=\"drop\",nonnegative = True,\n",
    "                                      implicitPrefs = True))\n",
    "print(len(model_list))"
   ]
  },
  {
   "cell_type": "code",
   "execution_count": 22,
   "id": "894186c8-933b-451d-932b-97fb4e91efbb",
   "metadata": {
    "execution": {
     "iopub.execute_input": "2023-05-10T22:42:42.997896Z",
     "iopub.status.busy": "2023-05-10T22:42:42.997789Z",
     "iopub.status.idle": "2023-05-10T22:42:46.693865Z",
     "shell.execute_reply": "2023-05-10T22:42:46.693543Z",
     "shell.execute_reply.started": "2023-05-10T22:42:42.997886Z"
    },
    "tags": []
   },
   "outputs": [
    {
     "name": "stdout",
     "output_type": "stream",
     "text": [
      "Partitions: Data=1 Train=1 Test=1\n"
     ]
    },
    {
     "name": "stderr",
     "output_type": "stream",
     "text": [
      "[Stage 109:>                                                        (0 + 1) / 1]\r"
     ]
    },
    {
     "name": "stdout",
     "output_type": "stream",
     "text": [
      "Counts: Data=6083286 Train=4867485 Test=1215801 Difference=0\n"
     ]
    },
    {
     "name": "stderr",
     "output_type": "stream",
     "text": [
      "                                                                                \r"
     ]
    }
   ],
   "source": [
    "# Split the data into training and test sets\n",
    "(training, test) = binary_movie_ratings.randomSplit([0.8, 0.2], seed=1)\n",
    "training = training.persist()\n",
    "test = test.persist()\n",
    "print(f'Partitions: Data={binary_movie_ratings.rdd.getNumPartitions()} Train={training.rdd.getNumPartitions()} Test={test.rdd.getNumPartitions()}')\n",
    "data_count = binary_movie_ratings.count()\n",
    "training_count = training.count()\n",
    "test_count = test.count()\n",
    "print(f'Counts: Data={data_count} Train={training_count} Test={test_count} Difference={data_count-training_count-test_count}')"
   ]
  },
  {
   "cell_type": "code",
   "execution_count": 23,
   "id": "06b586a2-0584-4a24-9f69-ea5cb00c745b",
   "metadata": {
    "execution": {
     "iopub.execute_input": "2023-05-10T22:42:46.694381Z",
     "iopub.status.busy": "2023-05-10T22:42:46.694266Z",
     "iopub.status.idle": "2023-05-10T22:42:49.133245Z",
     "shell.execute_reply": "2023-05-10T22:42:49.132939Z",
     "shell.execute_reply.started": "2023-05-10T22:42:46.694369Z"
    },
    "tags": []
   },
   "outputs": [
    {
     "name": "stdout",
     "output_type": "stream",
     "text": [
      "Partitions: T1=1 T2=1 T3=1 T4=1 T5=1\n",
      "Counts: T1=974355 T2=972252 T3=975341 T4=973115 T5=972422 Difference=0\n"
     ]
    }
   ],
   "source": [
    "#Building 5 folds within the training set.\n",
    "train1, train2, train3, train4, train5 = training.randomSplit([0.2, 0.2, 0.2, 0.2, 0.2], seed=1)\n",
    "print(f'Partitions: T1={train1.rdd.getNumPartitions()} T2={train2.rdd.getNumPartitions()} T3={train3.rdd.getNumPartitions()} T4={train4.rdd.getNumPartitions()} T5={train5.rdd.getNumPartitions()}')\n",
    "train1_count = train1.count()\n",
    "train2_count = train2.count()\n",
    "train3_count = train3.count()\n",
    "train4_count = train4.count()\n",
    "train5_count = train5.count()\n",
    "print(f'Counts: T1={train1_count} T2={train2_count} T3={train3_count} T4={train4_count} T5={train5_count} Difference={training_count-train1_count-train2_count-train3_count-train4_count-train5_count}')"
   ]
  },
  {
   "cell_type": "code",
   "execution_count": 24,
   "id": "7e9b953b-8228-48ca-b78a-28236a54ac80",
   "metadata": {
    "execution": {
     "iopub.execute_input": "2023-05-10T22:42:49.133811Z",
     "iopub.status.busy": "2023-05-10T22:42:49.133645Z",
     "iopub.status.idle": "2023-05-10T22:42:56.126058Z",
     "shell.execute_reply": "2023-05-10T22:42:56.125672Z",
     "shell.execute_reply.started": "2023-05-10T22:42:49.133800Z"
    },
    "tags": []
   },
   "outputs": [
    {
     "name": "stdout",
     "output_type": "stream",
     "text": [
      "Partitions: F1=4 F2=4 F3=4 F4=4 F5=4\n"
     ]
    },
    {
     "name": "stderr",
     "output_type": "stream",
     "text": [
      "[Stage 155:>                                                        (0 + 4) / 4]\r"
     ]
    },
    {
     "name": "stdout",
     "output_type": "stream",
     "text": [
      "Counts: F1=3893130 F2=3895233 F3=3892144 F4=3894370 F5=3895063\n",
      "\n",
      "Differences: F1=0 F2=0 F3=0 F4=0 F5=0\n"
     ]
    },
    {
     "name": "stderr",
     "output_type": "stream",
     "text": [
      "                                                                                \r"
     ]
    }
   ],
   "source": [
    "fold1 = train2.union(train3).union(train4).union(train5).persist()\n",
    "fold2 = train3.union(train4).union(train5).union(train1).persist()\n",
    "fold3 = train4.union(train5).union(train1).union(train2).persist()\n",
    "fold4 = train5.union(train1).union(train2).union(train3).persist()\n",
    "fold5 = train1.union(train2).union(train3).union(train4).persist()\n",
    "foldlist = [(fold1, train1), (fold2, train2), (fold3, train3), (fold4, train4), (fold5, train5)]\n",
    "print(f'Partitions: F1={fold1.rdd.getNumPartitions()} F2={fold2.rdd.getNumPartitions()} F3={fold3.rdd.getNumPartitions()} F4={fold4.rdd.getNumPartitions()} F5={fold5.rdd.getNumPartitions()}')\n",
    "fold1_count = fold1.count()\n",
    "fold2_count = fold2.count()\n",
    "fold3_count = fold3.count()\n",
    "fold4_count = fold4.count()\n",
    "fold5_count = fold5.count()\n",
    "print(f'Counts: F1={fold1_count} F2={fold2_count} F3={fold3_count} F4={fold4_count} F5={fold5_count}\\n')\n",
    "print('Differences:', end=' ')\n",
    "print(f'F1={fold1_count-train2_count-train3_count-train4_count-train5_count}', end=' ')\n",
    "print(f'F2={fold2_count-train3_count-train4_count-train5_count-train1_count}', end=' ')\n",
    "print(f'F3={fold3_count-train4_count-train5_count-train1_count-train2_count}', end=' ')\n",
    "print(f'F4={fold4_count-train5_count-train1_count-train2_count-train3_count}', end=' ')\n",
    "print(f'F5={fold5_count-train1_count-train2_count-train3_count-train4_count}')"
   ]
  },
  {
   "cell_type": "code",
   "execution_count": 25,
   "id": "2312035f-891a-4361-bcd2-49b7c4eb86b4",
   "metadata": {
    "execution": {
     "iopub.execute_input": "2023-05-10T22:42:56.126565Z",
     "iopub.status.busy": "2023-05-10T22:42:56.126454Z",
     "iopub.status.idle": "2023-05-11T02:32:27.976768Z",
     "shell.execute_reply": "2023-05-11T02:32:27.976490Z",
     "shell.execute_reply.started": "2023-05-10T22:42:56.126555Z"
    },
    "tags": []
   },
   "outputs": [
    {
     "name": "stdout",
     "output_type": "stream",
     "text": [
      "Training model 0\n",
      "\tAverage ROEM 0.13504418790222456\n"
     ]
    },
    {
     "name": "stderr",
     "output_type": "stream",
     "text": [
      "                                                                                \r"
     ]
    },
    {
     "name": "stdout",
     "output_type": "stream",
     "text": [
      "\tValidation ROEM: 0.132365951689422\n",
      "\tElapsed 34s\n",
      "Training model 1\n",
      "\tAverage ROEM 0.13961932221069306\n",
      "\tValidation ROEM: 0.13781299079125872\n",
      "\tElapsed 30s\n",
      "Training model 2\n"
     ]
    },
    {
     "name": "stderr",
     "output_type": "stream",
     "text": [
      "                                                                                \r"
     ]
    },
    {
     "name": "stdout",
     "output_type": "stream",
     "text": [
      "\tAverage ROEM 0.1427257801109573\n",
      "\tValidation ROEM: 0.14193794703142493\n",
      "\tElapsed 32s\n",
      "Training model 3\n",
      "\tAverage ROEM 0.14527778463950947\n"
     ]
    },
    {
     "name": "stderr",
     "output_type": "stream",
     "text": [
      "                                                                                \r"
     ]
    },
    {
     "name": "stdout",
     "output_type": "stream",
     "text": [
      "\tValidation ROEM: 0.1462752625535619\n",
      "\tElapsed 32s\n",
      "Training model 4\n",
      "\tAverage ROEM 0.13487474275309044\n"
     ]
    },
    {
     "name": "stderr",
     "output_type": "stream",
     "text": [
      "                                                                                \r"
     ]
    },
    {
     "name": "stdout",
     "output_type": "stream",
     "text": [
      "\tValidation ROEM: 0.1316352504010507\n",
      "\tElapsed 31s\n",
      "Training model 5\n",
      "\tAverage ROEM 0.13957516725874347\n"
     ]
    },
    {
     "name": "stderr",
     "output_type": "stream",
     "text": [
      "                                                                                \r"
     ]
    },
    {
     "name": "stdout",
     "output_type": "stream",
     "text": [
      "\tValidation ROEM: 0.13747189014360245\n",
      "\tElapsed 31s\n",
      "Training model 6\n",
      "\tAverage ROEM 0.14264749928934797\n"
     ]
    },
    {
     "name": "stderr",
     "output_type": "stream",
     "text": [
      "                                                                                \r"
     ]
    },
    {
     "name": "stdout",
     "output_type": "stream",
     "text": [
      "\tValidation ROEM: 0.1418289510841638\n",
      "\tElapsed 30s\n",
      "Training model 7\n",
      "\tAverage ROEM 0.1451261460454578\n",
      "\tValidation ROEM: 0.14599876621927885\n",
      "\tElapsed 31s\n",
      "Training model 8\n"
     ]
    },
    {
     "name": "stderr",
     "output_type": "stream",
     "text": [
      "                                                                                \r"
     ]
    },
    {
     "name": "stdout",
     "output_type": "stream",
     "text": [
      "\tAverage ROEM 0.13471006992960177\n"
     ]
    },
    {
     "name": "stderr",
     "output_type": "stream",
     "text": [
      "                                                                                \r"
     ]
    },
    {
     "name": "stdout",
     "output_type": "stream",
     "text": [
      "\tValidation ROEM: 0.13126350976324697\n",
      "\tElapsed 31s\n",
      "Training model 9\n",
      "\tAverage ROEM 0.13944488773308988\n"
     ]
    },
    {
     "name": "stderr",
     "output_type": "stream",
     "text": [
      "                                                                                \r"
     ]
    },
    {
     "name": "stdout",
     "output_type": "stream",
     "text": [
      "\tValidation ROEM: 0.13723007780239074\n",
      "\tElapsed 31s\n",
      "Training model 10\n"
     ]
    },
    {
     "name": "stderr",
     "output_type": "stream",
     "text": [
      "                                                                                \r"
     ]
    },
    {
     "name": "stdout",
     "output_type": "stream",
     "text": [
      "\tAverage ROEM 0.14263967898876428\n"
     ]
    },
    {
     "name": "stderr",
     "output_type": "stream",
     "text": [
      "                                                                                \r"
     ]
    },
    {
     "name": "stdout",
     "output_type": "stream",
     "text": [
      "\tValidation ROEM: 0.14182939024529034\n",
      "\tElapsed 32s\n",
      "Training model 11\n",
      "\tAverage ROEM 0.145232709780321\n"
     ]
    },
    {
     "name": "stderr",
     "output_type": "stream",
     "text": [
      "                                                                                \r"
     ]
    },
    {
     "name": "stdout",
     "output_type": "stream",
     "text": [
      "\tValidation ROEM: 0.14578411494017285\n",
      "\tElapsed 32s\n",
      "Training model 12\n",
      "\tAverage ROEM 0.1340155870066262\n",
      "\tValidation ROEM: 0.1298693512110217\n",
      "\tElapsed 48s\n",
      "Training model 13\n",
      "\tAverage ROEM 0.13822653202894367\n"
     ]
    },
    {
     "name": "stderr",
     "output_type": "stream",
     "text": [
      "                                                                                \r"
     ]
    },
    {
     "name": "stdout",
     "output_type": "stream",
     "text": [
      "\tValidation ROEM: 0.13553050676368408\n",
      "\tElapsed 47s\n",
      "Training model 14\n",
      "\tAverage ROEM 0.14060848172796198\n",
      "\tValidation ROEM: 0.13976128374388586\n",
      "\tElapsed 46s\n",
      "Training model 15\n"
     ]
    },
    {
     "name": "stderr",
     "output_type": "stream",
     "text": [
      "                                                                                \r"
     ]
    },
    {
     "name": "stdout",
     "output_type": "stream",
     "text": [
      "\tAverage ROEM 0.14336945495793538\n"
     ]
    },
    {
     "name": "stderr",
     "output_type": "stream",
     "text": [
      "                                                                                \r"
     ]
    },
    {
     "name": "stdout",
     "output_type": "stream",
     "text": [
      "\tValidation ROEM: 0.1429918119483238\n",
      "\tElapsed 48s\n",
      "Training model 16\n",
      "\tAverage ROEM 0.13380683503988636\n"
     ]
    },
    {
     "name": "stderr",
     "output_type": "stream",
     "text": [
      "                                                                                \r"
     ]
    },
    {
     "name": "stdout",
     "output_type": "stream",
     "text": [
      "\tValidation ROEM: 0.12964626977217494\n",
      "\tElapsed 47s\n",
      "Training model 17\n",
      "\tAverage ROEM 0.13801698674035062\n",
      "\tValidation ROEM: 0.13511635206234934\n",
      "\tElapsed 47s\n",
      "Training model 18\n",
      "\tAverage ROEM 0.14079869951690413\n",
      "\tValidation ROEM: 0.13953707466494358\n",
      "\tElapsed 48s\n",
      "Training model 19\n"
     ]
    },
    {
     "name": "stderr",
     "output_type": "stream",
     "text": [
      "                                                                                \r"
     ]
    },
    {
     "name": "stdout",
     "output_type": "stream",
     "text": [
      "\tAverage ROEM 0.14326018509312802\n",
      "\tValidation ROEM: 0.1428304598665216\n",
      "\tElapsed 48s\n",
      "Training model 20\n"
     ]
    },
    {
     "name": "stderr",
     "output_type": "stream",
     "text": [
      "                                                                                \r"
     ]
    },
    {
     "name": "stdout",
     "output_type": "stream",
     "text": [
      "\tAverage ROEM 0.13388531973981457\n"
     ]
    },
    {
     "name": "stderr",
     "output_type": "stream",
     "text": [
      "                                                                                \r"
     ]
    },
    {
     "name": "stdout",
     "output_type": "stream",
     "text": [
      "\tValidation ROEM: 0.12952627225175295\n",
      "\tElapsed 48s\n",
      "Training model 21\n",
      "\tAverage ROEM 0.13805544735656244\n",
      "\tValidation ROEM: 0.13471902005121209\n",
      "\tElapsed 47s\n",
      "Training model 22\n"
     ]
    },
    {
     "name": "stderr",
     "output_type": "stream",
     "text": [
      "                                                                                \r"
     ]
    },
    {
     "name": "stdout",
     "output_type": "stream",
     "text": [
      "\tAverage ROEM 0.14089334239796175\n",
      "\tValidation ROEM: 0.13982916379175964\n",
      "\tElapsed 47s\n",
      "Training model 23\n"
     ]
    },
    {
     "name": "stderr",
     "output_type": "stream",
     "text": [
      "                                                                                \r"
     ]
    },
    {
     "name": "stdout",
     "output_type": "stream",
     "text": [
      "\tAverage ROEM 0.14342291595849951\n"
     ]
    },
    {
     "name": "stderr",
     "output_type": "stream",
     "text": [
      "                                                                                \r"
     ]
    },
    {
     "name": "stdout",
     "output_type": "stream",
     "text": [
      "\tValidation ROEM: 0.1430051362772585\n",
      "\tElapsed 48s\n",
      "Training model 24\n",
      "\tAverage ROEM 0.1336065884496756\n"
     ]
    },
    {
     "name": "stderr",
     "output_type": "stream",
     "text": [
      "                                                                                \r"
     ]
    },
    {
     "name": "stdout",
     "output_type": "stream",
     "text": [
      "\tValidation ROEM: 0.1291472337273522\n",
      "\tElapsed 65s\n",
      "Training model 25\n"
     ]
    },
    {
     "name": "stderr",
     "output_type": "stream",
     "text": [
      "                                                                                \r"
     ]
    },
    {
     "name": "stdout",
     "output_type": "stream",
     "text": [
      "\tAverage ROEM 0.13790419883157307\n"
     ]
    },
    {
     "name": "stderr",
     "output_type": "stream",
     "text": [
      "                                                                                \r"
     ]
    },
    {
     "name": "stdout",
     "output_type": "stream",
     "text": [
      "\tValidation ROEM: 0.13535642830695885\n",
      "\tElapsed 65s\n",
      "Training model 26\n"
     ]
    },
    {
     "name": "stderr",
     "output_type": "stream",
     "text": [
      "                                                                                \r"
     ]
    },
    {
     "name": "stdout",
     "output_type": "stream",
     "text": [
      "\tAverage ROEM 0.13982818565483854\n",
      "\tValidation ROEM: 0.1394512861096455\n",
      "\tElapsed 65s\n",
      "Training model 27\n"
     ]
    },
    {
     "name": "stderr",
     "output_type": "stream",
     "text": [
      "                                                                                \r"
     ]
    },
    {
     "name": "stdout",
     "output_type": "stream",
     "text": [
      "\tAverage ROEM 0.1422933004162892\n"
     ]
    },
    {
     "name": "stderr",
     "output_type": "stream",
     "text": [
      "                                                                                \r"
     ]
    },
    {
     "name": "stdout",
     "output_type": "stream",
     "text": [
      "\tValidation ROEM: 0.14279050218533654\n",
      "\tElapsed 65s\n",
      "Training model 28\n"
     ]
    },
    {
     "name": "stderr",
     "output_type": "stream",
     "text": [
      "                                                                                \r"
     ]
    },
    {
     "name": "stdout",
     "output_type": "stream",
     "text": [
      "\tAverage ROEM 0.13335430358535333\n"
     ]
    },
    {
     "name": "stderr",
     "output_type": "stream",
     "text": [
      "                                                                                \r"
     ]
    },
    {
     "name": "stdout",
     "output_type": "stream",
     "text": [
      "\tValidation ROEM: 0.12933422881842857\n",
      "\tElapsed 66s\n",
      "Training model 29\n"
     ]
    },
    {
     "name": "stderr",
     "output_type": "stream",
     "text": [
      "                                                                                \r"
     ]
    },
    {
     "name": "stdout",
     "output_type": "stream",
     "text": [
      "\tAverage ROEM 0.13806149911882365\n"
     ]
    },
    {
     "name": "stderr",
     "output_type": "stream",
     "text": [
      "                                                                                \r"
     ]
    },
    {
     "name": "stdout",
     "output_type": "stream",
     "text": [
      "\tValidation ROEM: 0.13494493316016734\n",
      "\tElapsed 65s\n",
      "Training model 30\n"
     ]
    },
    {
     "name": "stderr",
     "output_type": "stream",
     "text": [
      "                                                                                \r"
     ]
    },
    {
     "name": "stdout",
     "output_type": "stream",
     "text": [
      "\tAverage ROEM 0.14043838688505597\n"
     ]
    },
    {
     "name": "stderr",
     "output_type": "stream",
     "text": [
      "                                                                                \r"
     ]
    },
    {
     "name": "stdout",
     "output_type": "stream",
     "text": [
      "\tValidation ROEM: 0.13912253318376094\n",
      "\tElapsed 65s\n",
      "Training model 31\n"
     ]
    },
    {
     "name": "stderr",
     "output_type": "stream",
     "text": [
      "23/05/10 20:07:10 WARN TaskMemoryManager: Failed to allocate a page (134217728 bytes), try again.\n",
      "                                                                                \r"
     ]
    },
    {
     "name": "stdout",
     "output_type": "stream",
     "text": [
      "\tAverage ROEM 0.14250792138460158\n"
     ]
    },
    {
     "name": "stderr",
     "output_type": "stream",
     "text": [
      "                                                                                \r"
     ]
    },
    {
     "name": "stdout",
     "output_type": "stream",
     "text": [
      "\tValidation ROEM: 0.14231800474540512\n",
      "\tElapsed 67s\n",
      "Training model 32\n"
     ]
    },
    {
     "name": "stderr",
     "output_type": "stream",
     "text": [
      "                                                                                \r"
     ]
    },
    {
     "name": "stdout",
     "output_type": "stream",
     "text": [
      "\tAverage ROEM 0.13321379843365105\n"
     ]
    },
    {
     "name": "stderr",
     "output_type": "stream",
     "text": [
      "                                                                                \r"
     ]
    },
    {
     "name": "stdout",
     "output_type": "stream",
     "text": [
      "\tValidation ROEM: 0.12864592010228654\n",
      "\tElapsed 65s\n",
      "Training model 33\n"
     ]
    },
    {
     "name": "stderr",
     "output_type": "stream",
     "text": [
      "                                                                                \r"
     ]
    },
    {
     "name": "stdout",
     "output_type": "stream",
     "text": [
      "\tAverage ROEM 0.1378304598266539\n"
     ]
    },
    {
     "name": "stderr",
     "output_type": "stream",
     "text": [
      "                                                                                \r"
     ]
    },
    {
     "name": "stdout",
     "output_type": "stream",
     "text": [
      "\tValidation ROEM: 0.13484265844747717\n",
      "\tElapsed 66s\n",
      "Training model 34\n"
     ]
    },
    {
     "name": "stderr",
     "output_type": "stream",
     "text": [
      "                                                                                \r"
     ]
    },
    {
     "name": "stdout",
     "output_type": "stream",
     "text": [
      "\tAverage ROEM 0.14077177353205156\n"
     ]
    },
    {
     "name": "stderr",
     "output_type": "stream",
     "text": [
      "                                                                                \r"
     ]
    },
    {
     "name": "stdout",
     "output_type": "stream",
     "text": [
      "\tValidation ROEM: 0.13948520062582917\n",
      "\tElapsed 64s\n",
      "Training model 35\n",
      "[1747.648s][warning][gc,alloc] Executor task launch worker for task 0.0 in stage 161523.0 (TID 195930): Retried waiting for GCLocker too often allocating 4194306 words\n",
      "[1747.652s][warning][gc,alloc] Executor task launch worker for task 0.0 in stage 161523.0 (TID 195930): Retried waiting for GCLocker too often allocating 4194306 words\n"
     ]
    },
    {
     "name": "stderr",
     "output_type": "stream",
     "text": [
      "23/05/10 20:10:48 WARN TaskMemoryManager: Failed to allocate a page (33554432 bytes), try again.\n",
      "23/05/10 20:10:48 WARN TaskMemoryManager: Failed to allocate a page (33554432 bytes), try again.\n",
      "                                                                                \r"
     ]
    },
    {
     "name": "stdout",
     "output_type": "stream",
     "text": [
      "\tAverage ROEM 0.14288703034157763\n"
     ]
    },
    {
     "name": "stderr",
     "output_type": "stream",
     "text": [
      "                                                                                \r"
     ]
    },
    {
     "name": "stdout",
     "output_type": "stream",
     "text": [
      "\tValidation ROEM: 0.1424563225111516\n",
      "\tElapsed 65s\n",
      "Training model 36\n",
      "\tAverage ROEM 0.1334642941065499\n"
     ]
    },
    {
     "name": "stderr",
     "output_type": "stream",
     "text": [
      "                                                                                \r"
     ]
    },
    {
     "name": "stdout",
     "output_type": "stream",
     "text": [
      "\tValidation ROEM: 0.12878239021125443\n",
      "\tElapsed 82s\n",
      "Training model 37\n"
     ]
    },
    {
     "name": "stderr",
     "output_type": "stream",
     "text": [
      "                                                                                \r"
     ]
    },
    {
     "name": "stdout",
     "output_type": "stream",
     "text": [
      "\tAverage ROEM 0.13776618676188943\n"
     ]
    },
    {
     "name": "stderr",
     "output_type": "stream",
     "text": [
      "                                                                                \r"
     ]
    },
    {
     "name": "stdout",
     "output_type": "stream",
     "text": [
      "\tValidation ROEM: 0.13545331365826604\n",
      "\tElapsed 80s\n",
      "Training model 38\n"
     ]
    },
    {
     "name": "stderr",
     "output_type": "stream",
     "text": [
      "                                                                                \r"
     ]
    },
    {
     "name": "stdout",
     "output_type": "stream",
     "text": [
      "\tAverage ROEM 0.1395295799108238\n"
     ]
    },
    {
     "name": "stderr",
     "output_type": "stream",
     "text": [
      "                                                                                \r"
     ]
    },
    {
     "name": "stdout",
     "output_type": "stream",
     "text": [
      "\tValidation ROEM: 0.13912599097978623\n",
      "\tElapsed 81s\n",
      "Training model 39\n",
      "\tAverage ROEM 0.1416381550887822\n",
      "\tValidation ROEM: 0.14172242889384937\n",
      "\tElapsed 79s\n",
      "Training model 40\n",
      "\tAverage ROEM 0.13335071640449075\n"
     ]
    },
    {
     "name": "stderr",
     "output_type": "stream",
     "text": [
      "                                                                                \r"
     ]
    },
    {
     "name": "stdout",
     "output_type": "stream",
     "text": [
      "\tValidation ROEM: 0.12944547018983327\n",
      "\tElapsed 83s\n",
      "Training model 41\n",
      "\tAverage ROEM 0.1378295204388691\n"
     ]
    },
    {
     "name": "stderr",
     "output_type": "stream",
     "text": [
      "                                                                                \r"
     ]
    },
    {
     "name": "stdout",
     "output_type": "stream",
     "text": [
      "\tValidation ROEM: 0.13455689970645976\n",
      "\tElapsed 79s\n",
      "Training model 42\n"
     ]
    },
    {
     "name": "stderr",
     "output_type": "stream",
     "text": [
      "23/05/10 20:20:14 WARN TaskMemoryManager: Failed to allocate a page (134217728 bytes), try again.\n",
      "                                                                                \r"
     ]
    },
    {
     "name": "stdout",
     "output_type": "stream",
     "text": [
      "\tAverage ROEM 0.1405397468478953\n"
     ]
    },
    {
     "name": "stderr",
     "output_type": "stream",
     "text": [
      "                                                                                \r"
     ]
    },
    {
     "name": "stdout",
     "output_type": "stream",
     "text": [
      "\tValidation ROEM: 0.13954841178840854\n",
      "\tElapsed 82s\n",
      "Training model 43\n"
     ]
    },
    {
     "name": "stderr",
     "output_type": "stream",
     "text": [
      "                                                                                \r"
     ]
    },
    {
     "name": "stdout",
     "output_type": "stream",
     "text": [
      "\tAverage ROEM 0.14228932816064743\n"
     ]
    },
    {
     "name": "stderr",
     "output_type": "stream",
     "text": [
      "                                                                                \r"
     ]
    },
    {
     "name": "stdout",
     "output_type": "stream",
     "text": [
      "\tValidation ROEM: 0.1423045527313477\n",
      "\tElapsed 83s\n",
      "Training model 44\n",
      "\tAverage ROEM 0.13322878404843172\n"
     ]
    },
    {
     "name": "stderr",
     "output_type": "stream",
     "text": [
      "                                                                                \r"
     ]
    },
    {
     "name": "stdout",
     "output_type": "stream",
     "text": [
      "\tValidation ROEM: 0.12848390693085782\n",
      "\tElapsed 81s\n",
      "Training model 45\n"
     ]
    },
    {
     "name": "stderr",
     "output_type": "stream",
     "text": [
      "23/05/10 20:24:06 WARN TaskMemoryManager: Failed to allocate a page (134217728 bytes), try again.\n",
      "                                                                                \r"
     ]
    },
    {
     "name": "stdout",
     "output_type": "stream",
     "text": [
      "\tAverage ROEM 0.13748331801125663\n"
     ]
    },
    {
     "name": "stderr",
     "output_type": "stream",
     "text": [
      "                                                                                \r"
     ]
    },
    {
     "name": "stdout",
     "output_type": "stream",
     "text": [
      "\tValidation ROEM: 0.1341590639445566\n",
      "\tElapsed 81s\n",
      "Training model 46\n"
     ]
    },
    {
     "name": "stderr",
     "output_type": "stream",
     "text": [
      "                                                                                \r"
     ]
    },
    {
     "name": "stdout",
     "output_type": "stream",
     "text": [
      "\tAverage ROEM 0.14068853349587312\n"
     ]
    },
    {
     "name": "stderr",
     "output_type": "stream",
     "text": [
      "                                                                                \r"
     ]
    },
    {
     "name": "stdout",
     "output_type": "stream",
     "text": [
      "\tValidation ROEM: 0.13962459925715753\n",
      "\tElapsed 83s\n",
      "Training model 47\n"
     ]
    },
    {
     "name": "stderr",
     "output_type": "stream",
     "text": [
      "                                                                                \r"
     ]
    },
    {
     "name": "stdout",
     "output_type": "stream",
     "text": [
      "\tAverage ROEM 0.14239213804317358\n"
     ]
    },
    {
     "name": "stderr",
     "output_type": "stream",
     "text": [
      "                                                                                \r"
     ]
    },
    {
     "name": "stdout",
     "output_type": "stream",
     "text": [
      "\tValidation ROEM: 0.14246966657773447\n",
      "\tElapsed 82s\n",
      "Training model 48\n"
     ]
    },
    {
     "name": "stderr",
     "output_type": "stream",
     "text": [
      "                                                                                \r"
     ]
    },
    {
     "name": "stdout",
     "output_type": "stream",
     "text": [
      "\tAverage ROEM 0.13863042651546126\n"
     ]
    },
    {
     "name": "stderr",
     "output_type": "stream",
     "text": [
      "                                                                                \r"
     ]
    },
    {
     "name": "stdout",
     "output_type": "stream",
     "text": [
      "\tValidation ROEM: 0.13555247533780995\n",
      "\tElapsed 35s\n",
      "Training model 49\n"
     ]
    },
    {
     "name": "stderr",
     "output_type": "stream",
     "text": [
      "                                                                                \r"
     ]
    },
    {
     "name": "stdout",
     "output_type": "stream",
     "text": [
      "\tAverage ROEM 0.1436069428832361\n"
     ]
    },
    {
     "name": "stderr",
     "output_type": "stream",
     "text": [
      "                                                                                \r"
     ]
    },
    {
     "name": "stdout",
     "output_type": "stream",
     "text": [
      "\tValidation ROEM: 0.13989538430518494\n",
      "\tElapsed 35s\n",
      "Training model 50\n"
     ]
    },
    {
     "name": "stderr",
     "output_type": "stream",
     "text": [
      "                                                                                \r"
     ]
    },
    {
     "name": "stdout",
     "output_type": "stream",
     "text": [
      "\tAverage ROEM 0.14654290922886895\n",
      "\tValidation ROEM: 0.14341628958538777\n",
      "\tElapsed 35s\n",
      "Training model 51\n"
     ]
    },
    {
     "name": "stderr",
     "output_type": "stream",
     "text": [
      "                                                                                \r"
     ]
    },
    {
     "name": "stdout",
     "output_type": "stream",
     "text": [
      "\tAverage ROEM 0.1487606818046242\n",
      "\tValidation ROEM: 0.14538609710695313\n",
      "\tElapsed 35s\n",
      "Training model 52\n"
     ]
    },
    {
     "name": "stderr",
     "output_type": "stream",
     "text": [
      "                                                                                \r"
     ]
    },
    {
     "name": "stdout",
     "output_type": "stream",
     "text": [
      "\tAverage ROEM 0.13810282739410149\n"
     ]
    },
    {
     "name": "stderr",
     "output_type": "stream",
     "text": [
      "                                                                                \r"
     ]
    },
    {
     "name": "stdout",
     "output_type": "stream",
     "text": [
      "\tValidation ROEM: 0.13540570195224408\n",
      "\tElapsed 34s\n",
      "Training model 53\n"
     ]
    },
    {
     "name": "stderr",
     "output_type": "stream",
     "text": [
      "23/05/10 20:31:18 WARN TaskMemoryManager: Failed to allocate a page (134217728 bytes), try again.\n",
      "                                                                                \r"
     ]
    },
    {
     "name": "stdout",
     "output_type": "stream",
     "text": [
      "\tAverage ROEM 0.14316708379197313\n"
     ]
    },
    {
     "name": "stderr",
     "output_type": "stream",
     "text": [
      "                                                                                \r"
     ]
    },
    {
     "name": "stdout",
     "output_type": "stream",
     "text": [
      "\tValidation ROEM: 0.13936474378802371\n",
      "\tElapsed 37s\n",
      "Training model 54\n"
     ]
    },
    {
     "name": "stderr",
     "output_type": "stream",
     "text": [
      "                                                                                \r"
     ]
    },
    {
     "name": "stdout",
     "output_type": "stream",
     "text": [
      "\tAverage ROEM 0.1462378061235631\n"
     ]
    },
    {
     "name": "stderr",
     "output_type": "stream",
     "text": [
      "                                                                                \r"
     ]
    },
    {
     "name": "stdout",
     "output_type": "stream",
     "text": [
      "\tValidation ROEM: 0.14313497503931838\n",
      "\tElapsed 36s\n",
      "Training model 55\n"
     ]
    },
    {
     "name": "stderr",
     "output_type": "stream",
     "text": [
      "                                                                                \r"
     ]
    },
    {
     "name": "stdout",
     "output_type": "stream",
     "text": [
      "\tAverage ROEM 0.14841506107068483\n",
      "\tValidation ROEM: 0.14492869561591154\n",
      "\tElapsed 36s\n",
      "Training model 56\n"
     ]
    },
    {
     "name": "stderr",
     "output_type": "stream",
     "text": [
      "23/05/10 20:33:12 WARN TaskMemoryManager: Failed to allocate a page (134217728 bytes), try again.\n",
      "                                                                                \r"
     ]
    },
    {
     "name": "stdout",
     "output_type": "stream",
     "text": [
      "\tAverage ROEM 0.13746069870799113\n"
     ]
    },
    {
     "name": "stderr",
     "output_type": "stream",
     "text": [
      "                                                                                \r"
     ]
    },
    {
     "name": "stdout",
     "output_type": "stream",
     "text": [
      "\tValidation ROEM: 0.13472579276236038\n",
      "\tElapsed 36s\n",
      "Training model 57\n"
     ]
    },
    {
     "name": "stderr",
     "output_type": "stream",
     "text": [
      "                                                                                \r"
     ]
    },
    {
     "name": "stdout",
     "output_type": "stream",
     "text": [
      "\tAverage ROEM 0.14281227578244943\n",
      "\tValidation ROEM: 0.13908649979426227\n",
      "\tElapsed 36s\n",
      "Training model 58\n"
     ]
    },
    {
     "name": "stderr",
     "output_type": "stream",
     "text": [
      "23/05/10 20:34:06 WARN TaskMemoryManager: Failed to allocate a page (134217728 bytes), try again.\n",
      "                                                                                \r"
     ]
    },
    {
     "name": "stdout",
     "output_type": "stream",
     "text": [
      "\tAverage ROEM 0.14592227563708438\n",
      "\tValidation ROEM: 0.14280521256348508\n",
      "\tElapsed 36s\n",
      "Training model 59\n"
     ]
    },
    {
     "name": "stderr",
     "output_type": "stream",
     "text": [
      "23/05/10 20:34:48 WARN TaskMemoryManager: Failed to allocate a page (134217728 bytes), try again.\n",
      "23/05/10 20:34:55 WARN TaskMemoryManager: Failed to allocate a page (134217728 bytes), try again.\n",
      "                                                                                \r"
     ]
    },
    {
     "name": "stdout",
     "output_type": "stream",
     "text": [
      "\tAverage ROEM 0.14804686882748405\n"
     ]
    },
    {
     "name": "stderr",
     "output_type": "stream",
     "text": [
      "                                                                                \r"
     ]
    },
    {
     "name": "stdout",
     "output_type": "stream",
     "text": [
      "\tValidation ROEM: 0.1446871801416708\n",
      "\tElapsed 37s\n",
      "Training model 60\n"
     ]
    },
    {
     "name": "stderr",
     "output_type": "stream",
     "text": [
      "23/05/10 20:35:34 WARN TaskMemoryManager: Failed to allocate a page (134217728 bytes), try again.\n",
      "23/05/10 20:35:52 WARN TaskMemoryManager: Failed to allocate a page (134217728 bytes), try again.\n",
      "                                                                                \r"
     ]
    },
    {
     "name": "stdout",
     "output_type": "stream",
     "text": [
      "\tAverage ROEM 0.13694762840355662\n"
     ]
    },
    {
     "name": "stderr",
     "output_type": "stream",
     "text": [
      "                                                                                \r"
     ]
    },
    {
     "name": "stdout",
     "output_type": "stream",
     "text": [
      "\tValidation ROEM: 0.13374784029378356\n",
      "\tElapsed 55s\n",
      "Training model 61\n"
     ]
    },
    {
     "name": "stderr",
     "output_type": "stream",
     "text": [
      "                                                                                \r"
     ]
    },
    {
     "name": "stdout",
     "output_type": "stream",
     "text": [
      "\tAverage ROEM 0.14302015780451457\n"
     ]
    },
    {
     "name": "stderr",
     "output_type": "stream",
     "text": [
      "                                                                                \r"
     ]
    },
    {
     "name": "stdout",
     "output_type": "stream",
     "text": [
      "\tValidation ROEM: 0.13862140714071478\n",
      "\tElapsed 54s\n",
      "Training model 62\n"
     ]
    },
    {
     "name": "stderr",
     "output_type": "stream",
     "text": [
      "                                                                                \r"
     ]
    },
    {
     "name": "stdout",
     "output_type": "stream",
     "text": [
      "\tAverage ROEM 0.14697768328656363\n"
     ]
    },
    {
     "name": "stderr",
     "output_type": "stream",
     "text": [
      "                                                                                \r"
     ]
    },
    {
     "name": "stdout",
     "output_type": "stream",
     "text": [
      "\tValidation ROEM: 0.14141602653791432\n",
      "\tElapsed 55s\n",
      "Training model 63\n"
     ]
    },
    {
     "name": "stderr",
     "output_type": "stream",
     "text": [
      "                                                                                \r"
     ]
    },
    {
     "name": "stdout",
     "output_type": "stream",
     "text": [
      "\tAverage ROEM 0.14944587399152004\n",
      "\tValidation ROEM: 0.1445196186525905\n",
      "\tElapsed 55s\n",
      "Training model 64\n"
     ]
    },
    {
     "name": "stderr",
     "output_type": "stream",
     "text": [
      "                                                                                \r"
     ]
    },
    {
     "name": "stdout",
     "output_type": "stream",
     "text": [
      "\tAverage ROEM 0.13641230706490398\n"
     ]
    },
    {
     "name": "stderr",
     "output_type": "stream",
     "text": [
      "                                                                                \r"
     ]
    },
    {
     "name": "stdout",
     "output_type": "stream",
     "text": [
      "\tValidation ROEM: 0.13355472835801402\n",
      "\tElapsed 55s\n",
      "Training model 65\n"
     ]
    },
    {
     "name": "stderr",
     "output_type": "stream",
     "text": [
      "                                                                                \r"
     ]
    },
    {
     "name": "stdout",
     "output_type": "stream",
     "text": [
      "\tAverage ROEM 0.14246684559715003\n",
      "\tValidation ROEM: 0.1387184162361263\n",
      "\tElapsed 54s\n",
      "Training model 66\n"
     ]
    },
    {
     "name": "stderr",
     "output_type": "stream",
     "text": [
      "23/05/10 20:40:53 WARN TaskMemoryManager: Failed to allocate a page (134217728 bytes), try again.\n",
      "23/05/10 20:41:03 WARN TaskMemoryManager: Failed to allocate a page (134217728 bytes), try again.\n",
      "                                                                                \r"
     ]
    },
    {
     "name": "stdout",
     "output_type": "stream",
     "text": [
      "\tAverage ROEM 0.1465460834535203\n"
     ]
    },
    {
     "name": "stderr",
     "output_type": "stream",
     "text": [
      "                                                                                \r"
     ]
    },
    {
     "name": "stdout",
     "output_type": "stream",
     "text": [
      "\tValidation ROEM: 0.14143786892499763\n",
      "\tElapsed 56s\n",
      "Training model 67\n"
     ]
    },
    {
     "name": "stderr",
     "output_type": "stream",
     "text": [
      "                                                                                \r"
     ]
    },
    {
     "name": "stdout",
     "output_type": "stream",
     "text": [
      "\tAverage ROEM 0.14913464920170444\n"
     ]
    },
    {
     "name": "stderr",
     "output_type": "stream",
     "text": [
      "                                                                                \r"
     ]
    },
    {
     "name": "stdout",
     "output_type": "stream",
     "text": [
      "\tValidation ROEM: 0.14439722430936175\n",
      "\tElapsed 55s\n",
      "Training model 68\n"
     ]
    },
    {
     "name": "stderr",
     "output_type": "stream",
     "text": [
      "23/05/10 20:42:52 WARN TaskMemoryManager: Failed to allocate a page (134217728 bytes), try again.\n",
      "                                                                                \r"
     ]
    },
    {
     "name": "stdout",
     "output_type": "stream",
     "text": [
      "\tAverage ROEM 0.13579389618685456\n",
      "\tValidation ROEM: 0.1329786895143588\n",
      "\tElapsed 54s\n",
      "Training model 69\n"
     ]
    },
    {
     "name": "stderr",
     "output_type": "stream",
     "text": [
      "23/05/10 20:43:38 WARN TaskMemoryManager: Failed to allocate a page (134217728 bytes), try again.\n",
      "                                                                                \r"
     ]
    },
    {
     "name": "stdout",
     "output_type": "stream",
     "text": [
      "\tAverage ROEM 0.14186245204077497\n"
     ]
    },
    {
     "name": "stderr",
     "output_type": "stream",
     "text": [
      "                                                                                \r"
     ]
    },
    {
     "name": "stdout",
     "output_type": "stream",
     "text": [
      "\tValidation ROEM: 0.1383563174568765\n",
      "\tElapsed 56s\n",
      "Training model 70\n"
     ]
    },
    {
     "name": "stderr",
     "output_type": "stream",
     "text": [
      "                                                                                \r"
     ]
    },
    {
     "name": "stdout",
     "output_type": "stream",
     "text": [
      "\tAverage ROEM 0.14597027612863103\n",
      "\tValidation ROEM: 0.14155636899390028\n",
      "\tElapsed 56s\n",
      "Training model 71\n"
     ]
    },
    {
     "name": "stderr",
     "output_type": "stream",
     "text": [
      "                                                                                \r"
     ]
    },
    {
     "name": "stdout",
     "output_type": "stream",
     "text": [
      "\tAverage ROEM 0.14872276770630752\n",
      "\tValidation ROEM: 0.14407732037891588\n",
      "\tElapsed 56s\n",
      "Training model 72\n"
     ]
    },
    {
     "name": "stderr",
     "output_type": "stream",
     "text": [
      "                                                                                \r"
     ]
    },
    {
     "name": "stdout",
     "output_type": "stream",
     "text": [
      "\tAverage ROEM 0.13653267273033684\n"
     ]
    },
    {
     "name": "stderr",
     "output_type": "stream",
     "text": [
      "                                                                                \r"
     ]
    },
    {
     "name": "stdout",
     "output_type": "stream",
     "text": [
      "\tValidation ROEM: 0.1336239902226059\n",
      "\tElapsed 74s\n",
      "Training model 73\n"
     ]
    },
    {
     "name": "stderr",
     "output_type": "stream",
     "text": [
      "                                                                                \r"
     ]
    },
    {
     "name": "stdout",
     "output_type": "stream",
     "text": [
      "\tAverage ROEM 0.14228047398907145\n"
     ]
    },
    {
     "name": "stderr",
     "output_type": "stream",
     "text": [
      "                                                                                \r"
     ]
    },
    {
     "name": "stdout",
     "output_type": "stream",
     "text": [
      "\tValidation ROEM: 0.13844051022251286\n",
      "\tElapsed 75s\n",
      "Training model 74\n"
     ]
    },
    {
     "name": "stderr",
     "output_type": "stream",
     "text": [
      "                                                                                \r"
     ]
    },
    {
     "name": "stdout",
     "output_type": "stream",
     "text": [
      "\tAverage ROEM 0.14644516670859042\n",
      "\tValidation ROEM: 0.14161261520316756\n",
      "\tElapsed 77s\n",
      "Training model 75\n"
     ]
    },
    {
     "name": "stderr",
     "output_type": "stream",
     "text": [
      "                                                                                \r"
     ]
    },
    {
     "name": "stdout",
     "output_type": "stream",
     "text": [
      "\tAverage ROEM 0.14947379153477405\n"
     ]
    },
    {
     "name": "stderr",
     "output_type": "stream",
     "text": [
      "                                                                                \r"
     ]
    },
    {
     "name": "stdout",
     "output_type": "stream",
     "text": [
      "\tValidation ROEM: 0.14492334097200743\n",
      "\tElapsed 76s\n",
      "Training model 76\n"
     ]
    },
    {
     "name": "stderr",
     "output_type": "stream",
     "text": [
      "                                                                                \r"
     ]
    },
    {
     "name": "stdout",
     "output_type": "stream",
     "text": [
      "\tAverage ROEM 0.13624936520952707\n",
      "\tValidation ROEM: 0.13337095803067922\n",
      "\tElapsed 75s\n",
      "Training model 77\n"
     ]
    },
    {
     "name": "stderr",
     "output_type": "stream",
     "text": [
      "                                                                                \r"
     ]
    },
    {
     "name": "stdout",
     "output_type": "stream",
     "text": [
      "\tAverage ROEM 0.14207285733793112\n",
      "\tValidation ROEM: 0.13830164187312502\n",
      "\tElapsed 76s\n",
      "Training model 78\n"
     ]
    },
    {
     "name": "stderr",
     "output_type": "stream",
     "text": [
      "                                                                                \r"
     ]
    },
    {
     "name": "stdout",
     "output_type": "stream",
     "text": [
      "\tAverage ROEM 0.14628612932882806\n"
     ]
    },
    {
     "name": "stderr",
     "output_type": "stream",
     "text": [
      "                                                                                \r"
     ]
    },
    {
     "name": "stdout",
     "output_type": "stream",
     "text": [
      "\tValidation ROEM: 0.14110406038544224\n",
      "\tElapsed 76s\n",
      "Training model 79\n"
     ]
    },
    {
     "name": "stderr",
     "output_type": "stream",
     "text": [
      "23/05/10 20:56:00 WARN TaskMemoryManager: Failed to allocate a page (134217728 bytes), try again.\n",
      "                                                                                \r"
     ]
    },
    {
     "name": "stdout",
     "output_type": "stream",
     "text": [
      "\tAverage ROEM 0.14930945508149468\n",
      "\tValidation ROEM: 0.14476438472589093\n",
      "\tElapsed 77s\n",
      "Training model 80\n"
     ]
    },
    {
     "name": "stderr",
     "output_type": "stream",
     "text": [
      "                                                                                \r"
     ]
    },
    {
     "name": "stdout",
     "output_type": "stream",
     "text": [
      "\tAverage ROEM 0.13543618748689215\n"
     ]
    },
    {
     "name": "stderr",
     "output_type": "stream",
     "text": [
      "                                                                                \r"
     ]
    },
    {
     "name": "stdout",
     "output_type": "stream",
     "text": [
      "\tValidation ROEM: 0.13236172698879645\n",
      "\tElapsed 75s\n",
      "Training model 81\n"
     ]
    },
    {
     "name": "stderr",
     "output_type": "stream",
     "text": [
      "                                                                                \r"
     ]
    },
    {
     "name": "stdout",
     "output_type": "stream",
     "text": [
      "\tAverage ROEM 0.1415990703487202\n"
     ]
    },
    {
     "name": "stderr",
     "output_type": "stream",
     "text": [
      "                                                                                \r"
     ]
    },
    {
     "name": "stdout",
     "output_type": "stream",
     "text": [
      "\tValidation ROEM: 0.13789753020346093\n",
      "\tElapsed 76s\n",
      "Training model 82\n"
     ]
    },
    {
     "name": "stderr",
     "output_type": "stream",
     "text": [
      "                                                                                \r"
     ]
    },
    {
     "name": "stdout",
     "output_type": "stream",
     "text": [
      "\tAverage ROEM 0.14586128801673567\n"
     ]
    },
    {
     "name": "stderr",
     "output_type": "stream",
     "text": [
      "                                                                                \r"
     ]
    },
    {
     "name": "stdout",
     "output_type": "stream",
     "text": [
      "\tValidation ROEM: 0.1412655000912802\n",
      "\tElapsed 76s\n",
      "Training model 83\n"
     ]
    },
    {
     "name": "stderr",
     "output_type": "stream",
     "text": [
      "                                                                                \r"
     ]
    },
    {
     "name": "stdout",
     "output_type": "stream",
     "text": [
      "\tAverage ROEM 0.14901421083591346\n"
     ]
    },
    {
     "name": "stderr",
     "output_type": "stream",
     "text": [
      "                                                                                \r"
     ]
    },
    {
     "name": "stdout",
     "output_type": "stream",
     "text": [
      "\tValidation ROEM: 0.14440921280385807\n",
      "\tElapsed 78s\n",
      "Training model 84\n"
     ]
    },
    {
     "name": "stderr",
     "output_type": "stream",
     "text": [
      "                                                                                \r"
     ]
    },
    {
     "name": "stdout",
     "output_type": "stream",
     "text": [
      "\tAverage ROEM 0.13630959203316623\n"
     ]
    },
    {
     "name": "stderr",
     "output_type": "stream",
     "text": [
      "                                                                                \r"
     ]
    },
    {
     "name": "stdout",
     "output_type": "stream",
     "text": [
      "\tValidation ROEM: 0.13390318318356093\n",
      "\tElapsed 94s\n",
      "Training model 85\n"
     ]
    },
    {
     "name": "stderr",
     "output_type": "stream",
     "text": [
      "                                                                                \r"
     ]
    },
    {
     "name": "stdout",
     "output_type": "stream",
     "text": [
      "\tAverage ROEM 0.1419556785578616\n"
     ]
    },
    {
     "name": "stderr",
     "output_type": "stream",
     "text": [
      "                                                                                \r"
     ]
    },
    {
     "name": "stdout",
     "output_type": "stream",
     "text": [
      "\tValidation ROEM: 0.13897890521694944\n",
      "\tElapsed 95s\n",
      "Training model 86\n"
     ]
    },
    {
     "name": "stderr",
     "output_type": "stream",
     "text": [
      "                                                                                \r"
     ]
    },
    {
     "name": "stdout",
     "output_type": "stream",
     "text": [
      "\tAverage ROEM 0.14623343074644995\n"
     ]
    },
    {
     "name": "stderr",
     "output_type": "stream",
     "text": [
      "                                                                                \r"
     ]
    },
    {
     "name": "stdout",
     "output_type": "stream",
     "text": [
      "\tValidation ROEM: 0.14124639853465423\n",
      "\tElapsed 95s\n",
      "Training model 87\n"
     ]
    },
    {
     "name": "stderr",
     "output_type": "stream",
     "text": [
      "                                                                                \r"
     ]
    },
    {
     "name": "stdout",
     "output_type": "stream",
     "text": [
      "\tAverage ROEM 0.14926918200667255\n",
      "\tValidation ROEM: 0.1450032041354042\n",
      "\tElapsed 94s\n",
      "Training model 88\n"
     ]
    },
    {
     "name": "stderr",
     "output_type": "stream",
     "text": [
      "                                                                                \r"
     ]
    },
    {
     "name": "stdout",
     "output_type": "stream",
     "text": [
      "\tAverage ROEM 0.13635771590003548\n"
     ]
    },
    {
     "name": "stderr",
     "output_type": "stream",
     "text": [
      "                                                                                \r"
     ]
    },
    {
     "name": "stdout",
     "output_type": "stream",
     "text": [
      "\tValidation ROEM: 0.1334075714655216\n",
      "\tElapsed 95s\n",
      "Training model 89\n"
     ]
    },
    {
     "name": "stderr",
     "output_type": "stream",
     "text": [
      "                                                                                \r"
     ]
    },
    {
     "name": "stdout",
     "output_type": "stream",
     "text": [
      "\tAverage ROEM 0.141472910751435\n"
     ]
    },
    {
     "name": "stderr",
     "output_type": "stream",
     "text": [
      "                                                                                \r"
     ]
    },
    {
     "name": "stdout",
     "output_type": "stream",
     "text": [
      "\tValidation ROEM: 0.13804501477390113\n",
      "\tElapsed 95s\n",
      "Training model 90\n"
     ]
    },
    {
     "name": "stderr",
     "output_type": "stream",
     "text": [
      "                                                                                \r"
     ]
    },
    {
     "name": "stdout",
     "output_type": "stream",
     "text": [
      "\tAverage ROEM 0.14587998629687007\n"
     ]
    },
    {
     "name": "stderr",
     "output_type": "stream",
     "text": [
      "                                                                                \r"
     ]
    },
    {
     "name": "stdout",
     "output_type": "stream",
     "text": [
      "\tValidation ROEM: 0.1411850294072741\n",
      "\tElapsed 95s\n",
      "Training model 91\n"
     ]
    },
    {
     "name": "stderr",
     "output_type": "stream",
     "text": [
      "                                                                                \r"
     ]
    },
    {
     "name": "stdout",
     "output_type": "stream",
     "text": [
      "\tAverage ROEM 0.14918714439319472\n"
     ]
    },
    {
     "name": "stderr",
     "output_type": "stream",
     "text": [
      "                                                                                \r"
     ]
    },
    {
     "name": "stdout",
     "output_type": "stream",
     "text": [
      "\tValidation ROEM: 0.14484098858824698\n",
      "\tElapsed 94s\n",
      "Training model 92\n"
     ]
    },
    {
     "name": "stderr",
     "output_type": "stream",
     "text": [
      "                                                                                \r"
     ]
    },
    {
     "name": "stdout",
     "output_type": "stream",
     "text": [
      "\tAverage ROEM 0.13545251122941734\n",
      "\tValidation ROEM: 0.13234879246392922\n",
      "\tElapsed 94s\n",
      "Training model 93\n"
     ]
    },
    {
     "name": "stderr",
     "output_type": "stream",
     "text": [
      "                                                                                \r"
     ]
    },
    {
     "name": "stdout",
     "output_type": "stream",
     "text": [
      "\tAverage ROEM 0.14118351603956814\n"
     ]
    },
    {
     "name": "stderr",
     "output_type": "stream",
     "text": [
      "                                                                                \r"
     ]
    },
    {
     "name": "stdout",
     "output_type": "stream",
     "text": [
      "\tValidation ROEM: 0.1375734665004763\n",
      "\tElapsed 95s\n",
      "Training model 94\n"
     ]
    },
    {
     "name": "stderr",
     "output_type": "stream",
     "text": [
      "                                                                                \r"
     ]
    },
    {
     "name": "stdout",
     "output_type": "stream",
     "text": [
      "\tAverage ROEM 0.14514864980989128\n"
     ]
    },
    {
     "name": "stderr",
     "output_type": "stream",
     "text": [
      "                                                                                \r"
     ]
    },
    {
     "name": "stdout",
     "output_type": "stream",
     "text": [
      "\tValidation ROEM: 0.1410238101250071\n",
      "\tElapsed 96s\n",
      "Training model 95\n"
     ]
    },
    {
     "name": "stderr",
     "output_type": "stream",
     "text": [
      "                                                                                \r"
     ]
    },
    {
     "name": "stdout",
     "output_type": "stream",
     "text": [
      "\tAverage ROEM 0.1488484448020585\n"
     ]
    },
    {
     "name": "stderr",
     "output_type": "stream",
     "text": [
      "                                                                                \r"
     ]
    },
    {
     "name": "stdout",
     "output_type": "stream",
     "text": [
      "\tValidation ROEM: 0.14437537710506584\n",
      "\tElapsed 96s\n",
      "Training model 96\n"
     ]
    },
    {
     "name": "stderr",
     "output_type": "stream",
     "text": [
      "                                                                                \r"
     ]
    },
    {
     "name": "stdout",
     "output_type": "stream",
     "text": [
      "\tAverage ROEM 0.14222318138822204\n"
     ]
    },
    {
     "name": "stderr",
     "output_type": "stream",
     "text": [
      "                                                                                \r"
     ]
    },
    {
     "name": "stdout",
     "output_type": "stream",
     "text": [
      "\tValidation ROEM: 0.14034521704124034\n",
      "\tElapsed 43s\n",
      "Training model 97\n"
     ]
    },
    {
     "name": "stderr",
     "output_type": "stream",
     "text": [
      "                                                                                \r"
     ]
    },
    {
     "name": "stdout",
     "output_type": "stream",
     "text": [
      "\tAverage ROEM 0.14667514790945949\n"
     ]
    },
    {
     "name": "stderr",
     "output_type": "stream",
     "text": [
      "                                                                                \r"
     ]
    },
    {
     "name": "stdout",
     "output_type": "stream",
     "text": [
      "\tValidation ROEM: 0.14496173038015073\n",
      "\tElapsed 44s\n",
      "Training model 98\n"
     ]
    },
    {
     "name": "stderr",
     "output_type": "stream",
     "text": [
      "                                                                                \r"
     ]
    },
    {
     "name": "stdout",
     "output_type": "stream",
     "text": [
      "\tAverage ROEM 0.14957092727793758\n"
     ]
    },
    {
     "name": "stderr",
     "output_type": "stream",
     "text": [
      "                                                                                \r"
     ]
    },
    {
     "name": "stdout",
     "output_type": "stream",
     "text": [
      "\tValidation ROEM: 0.1471165695065454\n",
      "\tElapsed 44s\n",
      "Training model 99\n"
     ]
    },
    {
     "name": "stderr",
     "output_type": "stream",
     "text": [
      "                                                                                \r"
     ]
    },
    {
     "name": "stdout",
     "output_type": "stream",
     "text": [
      "\tAverage ROEM 0.15097051895295727\n"
     ]
    },
    {
     "name": "stderr",
     "output_type": "stream",
     "text": [
      "                                                                                \r"
     ]
    },
    {
     "name": "stdout",
     "output_type": "stream",
     "text": [
      "\tValidation ROEM: 0.1481925767964645\n",
      "\tElapsed 45s\n",
      "Training model 100\n"
     ]
    },
    {
     "name": "stderr",
     "output_type": "stream",
     "text": [
      "                                                                                \r"
     ]
    },
    {
     "name": "stdout",
     "output_type": "stream",
     "text": [
      "\tAverage ROEM 0.14132542050252006\n",
      "\tValidation ROEM: 0.13940476482316724\n",
      "\tElapsed 43s\n",
      "Training model 101\n"
     ]
    },
    {
     "name": "stderr",
     "output_type": "stream",
     "text": [
      "                                                                                \r"
     ]
    },
    {
     "name": "stdout",
     "output_type": "stream",
     "text": [
      "\tAverage ROEM 0.1460569945745009\n"
     ]
    },
    {
     "name": "stderr",
     "output_type": "stream",
     "text": [
      "                                                                                \r"
     ]
    },
    {
     "name": "stdout",
     "output_type": "stream",
     "text": [
      "\tValidation ROEM: 0.14402721766109514\n",
      "\tElapsed 44s\n",
      "Training model 102\n"
     ]
    },
    {
     "name": "stderr",
     "output_type": "stream",
     "text": [
      "                                                                                \r"
     ]
    },
    {
     "name": "stdout",
     "output_type": "stream",
     "text": [
      "\tAverage ROEM 0.1488929044943704\n"
     ]
    },
    {
     "name": "stderr",
     "output_type": "stream",
     "text": [
      "                                                                                \r"
     ]
    },
    {
     "name": "stdout",
     "output_type": "stream",
     "text": [
      "\tValidation ROEM: 0.1460011964897352\n",
      "\tElapsed 44s\n",
      "Training model 103\n"
     ]
    },
    {
     "name": "stderr",
     "output_type": "stream",
     "text": [
      "                                                                                \r"
     ]
    },
    {
     "name": "stdout",
     "output_type": "stream",
     "text": [
      "\tAverage ROEM 0.15039355677375238\n"
     ]
    },
    {
     "name": "stderr",
     "output_type": "stream",
     "text": [
      "                                                                                \r"
     ]
    },
    {
     "name": "stdout",
     "output_type": "stream",
     "text": [
      "\tValidation ROEM: 0.14742711826459934\n",
      "\tElapsed 44s\n",
      "Training model 104\n"
     ]
    },
    {
     "name": "stderr",
     "output_type": "stream",
     "text": [
      "                                                                                \r"
     ]
    },
    {
     "name": "stdout",
     "output_type": "stream",
     "text": [
      "\tAverage ROEM 0.14053886173189734\n"
     ]
    },
    {
     "name": "stderr",
     "output_type": "stream",
     "text": [
      "                                                                                \r"
     ]
    },
    {
     "name": "stdout",
     "output_type": "stream",
     "text": [
      "\tValidation ROEM: 0.13790207236912908\n",
      "\tElapsed 43s\n",
      "Training model 105\n"
     ]
    },
    {
     "name": "stderr",
     "output_type": "stream",
     "text": [
      "                                                                                \r"
     ]
    },
    {
     "name": "stdout",
     "output_type": "stream",
     "text": [
      "\tAverage ROEM 0.14548467998166156\n"
     ]
    },
    {
     "name": "stderr",
     "output_type": "stream",
     "text": [
      "                                                                                \r"
     ]
    },
    {
     "name": "stdout",
     "output_type": "stream",
     "text": [
      "\tValidation ROEM: 0.14322432299579163\n",
      "\tElapsed 44s\n",
      "Training model 106\n"
     ]
    },
    {
     "name": "stderr",
     "output_type": "stream",
     "text": [
      "                                                                                \r"
     ]
    },
    {
     "name": "stdout",
     "output_type": "stream",
     "text": [
      "\tAverage ROEM 0.14825187812140694\n"
     ]
    },
    {
     "name": "stderr",
     "output_type": "stream",
     "text": [
      "                                                                                \r"
     ]
    },
    {
     "name": "stdout",
     "output_type": "stream",
     "text": [
      "\tValidation ROEM: 0.1451798128936253\n",
      "\tElapsed 44s\n",
      "Training model 107\n"
     ]
    },
    {
     "name": "stderr",
     "output_type": "stream",
     "text": [
      "                                                                                \r"
     ]
    },
    {
     "name": "stdout",
     "output_type": "stream",
     "text": [
      "\tAverage ROEM 0.1497844585234276\n"
     ]
    },
    {
     "name": "stderr",
     "output_type": "stream",
     "text": [
      "                                                                                \r"
     ]
    },
    {
     "name": "stdout",
     "output_type": "stream",
     "text": [
      "\tValidation ROEM: 0.14670850855085305\n",
      "\tElapsed 44s\n",
      "Training model 108\n"
     ]
    },
    {
     "name": "stderr",
     "output_type": "stream",
     "text": [
      "                                                                                \r"
     ]
    },
    {
     "name": "stdout",
     "output_type": "stream",
     "text": [
      "\tAverage ROEM 0.13983758522207285\n"
     ]
    },
    {
     "name": "stderr",
     "output_type": "stream",
     "text": [
      "                                                                                \r"
     ]
    },
    {
     "name": "stdout",
     "output_type": "stream",
     "text": [
      "\tValidation ROEM: 0.13851447113166246\n",
      "\tElapsed 65s\n",
      "Training model 109\n"
     ]
    },
    {
     "name": "stderr",
     "output_type": "stream",
     "text": [
      "                                                                                \r"
     ]
    },
    {
     "name": "stdout",
     "output_type": "stream",
     "text": [
      "\tAverage ROEM 0.14578257710533032\n"
     ]
    },
    {
     "name": "stderr",
     "output_type": "stream",
     "text": [
      "                                                                                \r"
     ]
    },
    {
     "name": "stdout",
     "output_type": "stream",
     "text": [
      "\tValidation ROEM: 0.14460772161951801\n",
      "\tElapsed 65s\n",
      "Training model 110\n"
     ]
    },
    {
     "name": "stderr",
     "output_type": "stream",
     "text": [
      "                                                                                \r"
     ]
    },
    {
     "name": "stdout",
     "output_type": "stream",
     "text": [
      "\tAverage ROEM 0.14859199704468123\n"
     ]
    },
    {
     "name": "stderr",
     "output_type": "stream",
     "text": [
      "                                                                                \r"
     ]
    },
    {
     "name": "stdout",
     "output_type": "stream",
     "text": [
      "\tValidation ROEM: 0.14664831961141792\n",
      "\tElapsed 66s\n",
      "Training model 111\n"
     ]
    },
    {
     "name": "stderr",
     "output_type": "stream",
     "text": [
      "                                                                                \r"
     ]
    },
    {
     "name": "stdout",
     "output_type": "stream",
     "text": [
      "\tAverage ROEM 0.1502407404768053\n"
     ]
    },
    {
     "name": "stderr",
     "output_type": "stream",
     "text": [
      "                                                                                \r"
     ]
    },
    {
     "name": "stdout",
     "output_type": "stream",
     "text": [
      "\tValidation ROEM: 0.14788378493737986\n",
      "\tElapsed 67s\n",
      "Training model 112\n"
     ]
    },
    {
     "name": "stderr",
     "output_type": "stream",
     "text": [
      "                                                                                \r"
     ]
    },
    {
     "name": "stdout",
     "output_type": "stream",
     "text": [
      "\tAverage ROEM 0.13964520898781047\n"
     ]
    },
    {
     "name": "stderr",
     "output_type": "stream",
     "text": [
      "                                                                                \r"
     ]
    },
    {
     "name": "stdout",
     "output_type": "stream",
     "text": [
      "\tValidation ROEM: 0.1381442255016398\n",
      "\tElapsed 65s\n",
      "Training model 113\n"
     ]
    },
    {
     "name": "stderr",
     "output_type": "stream",
     "text": [
      "                                                                                \r"
     ]
    },
    {
     "name": "stdout",
     "output_type": "stream",
     "text": [
      "\tAverage ROEM 0.14494360411526802\n"
     ]
    },
    {
     "name": "stderr",
     "output_type": "stream",
     "text": [
      "                                                                                \r"
     ]
    },
    {
     "name": "stdout",
     "output_type": "stream",
     "text": [
      "\tValidation ROEM: 0.1427020510238676\n",
      "\tElapsed 66s\n",
      "Training model 114\n"
     ]
    },
    {
     "name": "stderr",
     "output_type": "stream",
     "text": [
      "                                                                                \r"
     ]
    },
    {
     "name": "stdout",
     "output_type": "stream",
     "text": [
      "\tAverage ROEM 0.14789934696958776\n"
     ]
    },
    {
     "name": "stderr",
     "output_type": "stream",
     "text": [
      "                                                                                \r"
     ]
    },
    {
     "name": "stdout",
     "output_type": "stream",
     "text": [
      "\tValidation ROEM: 0.14546092791178614\n",
      "\tElapsed 66s\n",
      "Training model 115\n"
     ]
    },
    {
     "name": "stderr",
     "output_type": "stream",
     "text": [
      "                                                                                \r"
     ]
    },
    {
     "name": "stdout",
     "output_type": "stream",
     "text": [
      "\tAverage ROEM 0.14977016766073922\n"
     ]
    },
    {
     "name": "stderr",
     "output_type": "stream",
     "text": [
      "                                                                                \r"
     ]
    },
    {
     "name": "stdout",
     "output_type": "stream",
     "text": [
      "\tValidation ROEM: 0.14679350927179502\n",
      "\tElapsed 66s\n",
      "Training model 116\n"
     ]
    },
    {
     "name": "stderr",
     "output_type": "stream",
     "text": [
      "                                                                                \r"
     ]
    },
    {
     "name": "stdout",
     "output_type": "stream",
     "text": [
      "\tAverage ROEM 0.13896274263346975\n"
     ]
    },
    {
     "name": "stderr",
     "output_type": "stream",
     "text": [
      "                                                                                \r"
     ]
    },
    {
     "name": "stdout",
     "output_type": "stream",
     "text": [
      "\tValidation ROEM: 0.13620332356295392\n",
      "\tElapsed 66s\n",
      "Training model 117\n"
     ]
    },
    {
     "name": "stderr",
     "output_type": "stream",
     "text": [
      "                                                                                \r"
     ]
    },
    {
     "name": "stdout",
     "output_type": "stream",
     "text": [
      "\tAverage ROEM 0.14423990751443141\n"
     ]
    },
    {
     "name": "stderr",
     "output_type": "stream",
     "text": [
      "                                                                                \r"
     ]
    },
    {
     "name": "stdout",
     "output_type": "stream",
     "text": [
      "\tValidation ROEM: 0.14215877082646208\n",
      "\tElapsed 66s\n",
      "Training model 118\n"
     ]
    },
    {
     "name": "stderr",
     "output_type": "stream",
     "text": [
      "                                                                                \r"
     ]
    },
    {
     "name": "stdout",
     "output_type": "stream",
     "text": [
      "\tAverage ROEM 0.14740353577356985\n"
     ]
    },
    {
     "name": "stderr",
     "output_type": "stream",
     "text": [
      "                                                                                \r"
     ]
    },
    {
     "name": "stdout",
     "output_type": "stream",
     "text": [
      "\tValidation ROEM: 0.14481523152132164\n",
      "\tElapsed 66s\n",
      "Training model 119\n"
     ]
    },
    {
     "name": "stderr",
     "output_type": "stream",
     "text": [
      "                                                                                \r"
     ]
    },
    {
     "name": "stdout",
     "output_type": "stream",
     "text": [
      "\tAverage ROEM 0.1491413336790713\n"
     ]
    },
    {
     "name": "stderr",
     "output_type": "stream",
     "text": [
      "                                                                                \r"
     ]
    },
    {
     "name": "stdout",
     "output_type": "stream",
     "text": [
      "\tValidation ROEM: 0.1459088892840836\n",
      "\tElapsed 66s\n",
      "Training model 120\n"
     ]
    },
    {
     "name": "stderr",
     "output_type": "stream",
     "text": [
      "                                                                                \r"
     ]
    },
    {
     "name": "stdout",
     "output_type": "stream",
     "text": [
      "\tAverage ROEM 0.1391800621049712\n"
     ]
    },
    {
     "name": "stderr",
     "output_type": "stream",
     "text": [
      "                                                                                \r"
     ]
    },
    {
     "name": "stdout",
     "output_type": "stream",
     "text": [
      "\tValidation ROEM: 0.1383131047850371\n",
      "\tElapsed 86s\n",
      "Training model 121\n"
     ]
    },
    {
     "name": "stderr",
     "output_type": "stream",
     "text": [
      "                                                                                \r"
     ]
    },
    {
     "name": "stdout",
     "output_type": "stream",
     "text": [
      "\tAverage ROEM 0.14521029363654542\n"
     ]
    },
    {
     "name": "stderr",
     "output_type": "stream",
     "text": [
      "                                                                                \r"
     ]
    },
    {
     "name": "stdout",
     "output_type": "stream",
     "text": [
      "\tValidation ROEM: 0.145369306784346\n",
      "\tElapsed 86s\n",
      "Training model 122\n"
     ]
    },
    {
     "name": "stderr",
     "output_type": "stream",
     "text": [
      "                                                                                \r"
     ]
    },
    {
     "name": "stdout",
     "output_type": "stream",
     "text": [
      "\tAverage ROEM 0.14817391472347066\n"
     ]
    },
    {
     "name": "stderr",
     "output_type": "stream",
     "text": [
      "                                                                                \r"
     ]
    },
    {
     "name": "stdout",
     "output_type": "stream",
     "text": [
      "\tValidation ROEM: 0.14679216660816072\n",
      "\tElapsed 89s\n",
      "Training model 123\n"
     ]
    },
    {
     "name": "stderr",
     "output_type": "stream",
     "text": [
      "                                                                                \r"
     ]
    },
    {
     "name": "stdout",
     "output_type": "stream",
     "text": [
      "\tAverage ROEM 0.15031466336962726\n"
     ]
    },
    {
     "name": "stderr",
     "output_type": "stream",
     "text": [
      "                                                                                \r"
     ]
    },
    {
     "name": "stdout",
     "output_type": "stream",
     "text": [
      "\tValidation ROEM: 0.14819415031795538\n",
      "\tElapsed 88s\n",
      "Training model 124\n"
     ]
    },
    {
     "name": "stderr",
     "output_type": "stream",
     "text": [
      "                                                                                \r"
     ]
    },
    {
     "name": "stdout",
     "output_type": "stream",
     "text": [
      "\tAverage ROEM 0.13925164475043061\n"
     ]
    },
    {
     "name": "stderr",
     "output_type": "stream",
     "text": [
      "                                                                                \r"
     ]
    },
    {
     "name": "stdout",
     "output_type": "stream",
     "text": [
      "\tValidation ROEM: 0.13796296502607064\n",
      "\tElapsed 86s\n",
      "Training model 125\n"
     ]
    },
    {
     "name": "stderr",
     "output_type": "stream",
     "text": [
      "                                                                                \r"
     ]
    },
    {
     "name": "stdout",
     "output_type": "stream",
     "text": [
      "\tAverage ROEM 0.1444788140220492\n"
     ]
    },
    {
     "name": "stderr",
     "output_type": "stream",
     "text": [
      "                                                                                \r"
     ]
    },
    {
     "name": "stdout",
     "output_type": "stream",
     "text": [
      "\tValidation ROEM: 0.14260525760037127\n",
      "\tElapsed 87s\n",
      "Training model 126\n"
     ]
    },
    {
     "name": "stderr",
     "output_type": "stream",
     "text": [
      "                                                                                \r"
     ]
    },
    {
     "name": "stdout",
     "output_type": "stream",
     "text": [
      "\tAverage ROEM 0.14781297527680948\n"
     ]
    },
    {
     "name": "stderr",
     "output_type": "stream",
     "text": [
      "                                                                                \r"
     ]
    },
    {
     "name": "stdout",
     "output_type": "stream",
     "text": [
      "\tValidation ROEM: 0.14561369383753003\n",
      "\tElapsed 88s\n",
      "Training model 127\n"
     ]
    },
    {
     "name": "stderr",
     "output_type": "stream",
     "text": [
      "                                                                                \r"
     ]
    },
    {
     "name": "stdout",
     "output_type": "stream",
     "text": [
      "\tAverage ROEM 0.14986064009865468\n"
     ]
    },
    {
     "name": "stderr",
     "output_type": "stream",
     "text": [
      "                                                                                \r"
     ]
    },
    {
     "name": "stdout",
     "output_type": "stream",
     "text": [
      "\tValidation ROEM: 0.1467178766397655\n",
      "\tElapsed 88s\n",
      "Training model 128\n"
     ]
    },
    {
     "name": "stderr",
     "output_type": "stream",
     "text": [
      "                                                                                \r"
     ]
    },
    {
     "name": "stdout",
     "output_type": "stream",
     "text": [
      "\tAverage ROEM 0.13842693599132772\n"
     ]
    },
    {
     "name": "stderr",
     "output_type": "stream",
     "text": [
      "                                                                                \r"
     ]
    },
    {
     "name": "stdout",
     "output_type": "stream",
     "text": [
      "\tValidation ROEM: 0.13603593299090494\n",
      "\tElapsed 86s\n",
      "Training model 129\n"
     ]
    },
    {
     "name": "stderr",
     "output_type": "stream",
     "text": [
      "                                                                                \r"
     ]
    },
    {
     "name": "stdout",
     "output_type": "stream",
     "text": [
      "\tAverage ROEM 0.14404492980877354\n"
     ]
    },
    {
     "name": "stderr",
     "output_type": "stream",
     "text": [
      "                                                                                \r"
     ]
    },
    {
     "name": "stdout",
     "output_type": "stream",
     "text": [
      "\tValidation ROEM: 0.14131894496731068\n",
      "\tElapsed 87s\n",
      "Training model 130\n"
     ]
    },
    {
     "name": "stderr",
     "output_type": "stream",
     "text": [
      "                                                                                \r"
     ]
    },
    {
     "name": "stdout",
     "output_type": "stream",
     "text": [
      "\tAverage ROEM 0.1473456017513409\n"
     ]
    },
    {
     "name": "stderr",
     "output_type": "stream",
     "text": [
      "                                                                                \r"
     ]
    },
    {
     "name": "stdout",
     "output_type": "stream",
     "text": [
      "\tValidation ROEM: 0.14487853203927228\n",
      "\tElapsed 88s\n",
      "Training model 131\n"
     ]
    },
    {
     "name": "stderr",
     "output_type": "stream",
     "text": [
      "                                                                                \r"
     ]
    },
    {
     "name": "stdout",
     "output_type": "stream",
     "text": [
      "\tAverage ROEM 0.14923947118488856\n"
     ]
    },
    {
     "name": "stderr",
     "output_type": "stream",
     "text": [
      "                                                                                \r"
     ]
    },
    {
     "name": "stdout",
     "output_type": "stream",
     "text": [
      "\tValidation ROEM: 0.1461707486642829\n",
      "\tElapsed 88s\n",
      "Training model 132\n"
     ]
    },
    {
     "name": "stderr",
     "output_type": "stream",
     "text": [
      "                                                                                \r"
     ]
    },
    {
     "name": "stdout",
     "output_type": "stream",
     "text": [
      "\tAverage ROEM 0.1391483120748031\n"
     ]
    },
    {
     "name": "stderr",
     "output_type": "stream",
     "text": [
      "                                                                                \r"
     ]
    },
    {
     "name": "stdout",
     "output_type": "stream",
     "text": [
      "\tValidation ROEM: 0.1377334604320532\n",
      "\tElapsed 106s\n",
      "Training model 133\n"
     ]
    },
    {
     "name": "stderr",
     "output_type": "stream",
     "text": [
      "                                                                                \r"
     ]
    },
    {
     "name": "stdout",
     "output_type": "stream",
     "text": [
      "\tAverage ROEM 0.14506629818936817\n",
      "\tValidation ROEM: 0.14522602920535113\n",
      "\tElapsed 108s\n",
      "Training model 134\n"
     ]
    },
    {
     "name": "stderr",
     "output_type": "stream",
     "text": [
      "                                                                                \r"
     ]
    },
    {
     "name": "stdout",
     "output_type": "stream",
     "text": [
      "\tAverage ROEM 0.14816466328623046\n"
     ]
    },
    {
     "name": "stderr",
     "output_type": "stream",
     "text": [
      "                                                                                \r"
     ]
    },
    {
     "name": "stdout",
     "output_type": "stream",
     "text": [
      "\tValidation ROEM: 0.14695763912159246\n",
      "\tElapsed 109s\n",
      "Training model 135\n"
     ]
    },
    {
     "name": "stderr",
     "output_type": "stream",
     "text": [
      "                                                                                \r"
     ]
    },
    {
     "name": "stdout",
     "output_type": "stream",
     "text": [
      "\tAverage ROEM 0.15042279386165705\n"
     ]
    },
    {
     "name": "stderr",
     "output_type": "stream",
     "text": [
      "                                                                                \r"
     ]
    },
    {
     "name": "stdout",
     "output_type": "stream",
     "text": [
      "\tValidation ROEM: 0.1487096975061543\n",
      "\tElapsed 109s\n",
      "Training model 136\n"
     ]
    },
    {
     "name": "stderr",
     "output_type": "stream",
     "text": [
      "                                                                                \r"
     ]
    },
    {
     "name": "stdout",
     "output_type": "stream",
     "text": [
      "\tAverage ROEM 0.13874073368094206\n"
     ]
    },
    {
     "name": "stderr",
     "output_type": "stream",
     "text": [
      "                                                                                \r"
     ]
    },
    {
     "name": "stdout",
     "output_type": "stream",
     "text": [
      "\tValidation ROEM: 0.13782755120980686\n",
      "\tElapsed 108s\n",
      "Training model 137\n"
     ]
    },
    {
     "name": "stderr",
     "output_type": "stream",
     "text": [
      "                                                                                \r"
     ]
    },
    {
     "name": "stdout",
     "output_type": "stream",
     "text": [
      "\tAverage ROEM 0.14456706736407615\n"
     ]
    },
    {
     "name": "stderr",
     "output_type": "stream",
     "text": [
      "                                                                                \r"
     ]
    },
    {
     "name": "stdout",
     "output_type": "stream",
     "text": [
      "\tValidation ROEM: 0.14281674661370505\n",
      "\tElapsed 108s\n",
      "Training model 138\n"
     ]
    },
    {
     "name": "stderr",
     "output_type": "stream",
     "text": [
      "23/05/10 22:11:43 WARN TaskMemoryManager: Failed to allocate a page (134217728 bytes), try again.\n",
      "                                                                                \r"
     ]
    },
    {
     "name": "stdout",
     "output_type": "stream",
     "text": [
      "\tAverage ROEM 0.14776984379401614\n"
     ]
    },
    {
     "name": "stderr",
     "output_type": "stream",
     "text": [
      "                                                                                \r"
     ]
    },
    {
     "name": "stdout",
     "output_type": "stream",
     "text": [
      "\tValidation ROEM: 0.14618044727271365\n",
      "\tElapsed 110s\n",
      "Training model 139\n"
     ]
    },
    {
     "name": "stderr",
     "output_type": "stream",
     "text": [
      "                                                                                \r"
     ]
    },
    {
     "name": "stdout",
     "output_type": "stream",
     "text": [
      "\tAverage ROEM 0.14985607839251092\n",
      "\tValidation ROEM: 0.14736399044765508\n",
      "\tElapsed 110s\n",
      "Training model 140\n"
     ]
    },
    {
     "name": "stderr",
     "output_type": "stream",
     "text": [
      "                                                                                \r"
     ]
    },
    {
     "name": "stdout",
     "output_type": "stream",
     "text": [
      "\tAverage ROEM 0.1382819340068474\n"
     ]
    },
    {
     "name": "stderr",
     "output_type": "stream",
     "text": [
      "                                                                                \r"
     ]
    },
    {
     "name": "stdout",
     "output_type": "stream",
     "text": [
      "\tValidation ROEM: 0.1358852856774993\n",
      "\tElapsed 109s\n",
      "Training model 141\n"
     ]
    },
    {
     "name": "stderr",
     "output_type": "stream",
     "text": [
      "                                                                                \r"
     ]
    },
    {
     "name": "stdout",
     "output_type": "stream",
     "text": [
      "\tAverage ROEM 0.1438340226707915\n"
     ]
    },
    {
     "name": "stderr",
     "output_type": "stream",
     "text": [
      "                                                                                \r"
     ]
    },
    {
     "name": "stdout",
     "output_type": "stream",
     "text": [
      "\tValidation ROEM: 0.14102615046846417\n",
      "\tElapsed 109s\n",
      "Training model 142\n"
     ]
    },
    {
     "name": "stderr",
     "output_type": "stream",
     "text": [
      "                                                                                \r"
     ]
    },
    {
     "name": "stdout",
     "output_type": "stream",
     "text": [
      "\tAverage ROEM 0.14723144843908315\n"
     ]
    },
    {
     "name": "stderr",
     "output_type": "stream",
     "text": [
      "                                                                                \r"
     ]
    },
    {
     "name": "stdout",
     "output_type": "stream",
     "text": [
      "\tValidation ROEM: 0.14501325967160286\n",
      "\tElapsed 109s\n",
      "Training model 143\n"
     ]
    },
    {
     "name": "stderr",
     "output_type": "stream",
     "text": [
      "                                                                                \r"
     ]
    },
    {
     "name": "stdout",
     "output_type": "stream",
     "text": [
      "\tAverage ROEM 0.14946293985126752\n"
     ]
    },
    {
     "name": "stderr",
     "output_type": "stream",
     "text": [
      "                                                                                \r"
     ]
    },
    {
     "name": "stdout",
     "output_type": "stream",
     "text": [
      "\tValidation ROEM: 0.14645468967190156\n",
      "\tElapsed 111s\n",
      "Training model 144\n"
     ]
    },
    {
     "name": "stderr",
     "output_type": "stream",
     "text": [
      "                                                                                \r"
     ]
    },
    {
     "name": "stdout",
     "output_type": "stream",
     "text": [
      "\tAverage ROEM 0.14637115864418337\n"
     ]
    },
    {
     "name": "stderr",
     "output_type": "stream",
     "text": [
      "                                                                                \r"
     ]
    },
    {
     "name": "stdout",
     "output_type": "stream",
     "text": [
      "\tValidation ROEM: 0.14190739172849462\n",
      "\tElapsed 50s\n",
      "Training model 145\n"
     ]
    },
    {
     "name": "stderr",
     "output_type": "stream",
     "text": [
      "                                                                                \r"
     ]
    },
    {
     "name": "stdout",
     "output_type": "stream",
     "text": [
      "\tAverage ROEM 0.15038965725774275\n"
     ]
    },
    {
     "name": "stderr",
     "output_type": "stream",
     "text": [
      "                                                                                \r"
     ]
    },
    {
     "name": "stdout",
     "output_type": "stream",
     "text": [
      "\tValidation ROEM: 0.14631747694824665\n",
      "\tElapsed 52s\n",
      "Training model 146\n"
     ]
    },
    {
     "name": "stderr",
     "output_type": "stream",
     "text": [
      "                                                                                \r"
     ]
    },
    {
     "name": "stdout",
     "output_type": "stream",
     "text": [
      "\tAverage ROEM 0.15216945942670695\n"
     ]
    },
    {
     "name": "stderr",
     "output_type": "stream",
     "text": [
      "                                                                                \r"
     ]
    },
    {
     "name": "stdout",
     "output_type": "stream",
     "text": [
      "\tValidation ROEM: 0.14865343572179313\n",
      "\tElapsed 51s\n",
      "Training model 147\n"
     ]
    },
    {
     "name": "stderr",
     "output_type": "stream",
     "text": [
      "                                                                                \r"
     ]
    },
    {
     "name": "stdout",
     "output_type": "stream",
     "text": [
      "\tAverage ROEM 0.15328887835589644\n"
     ]
    },
    {
     "name": "stderr",
     "output_type": "stream",
     "text": [
      "                                                                                \r"
     ]
    },
    {
     "name": "stdout",
     "output_type": "stream",
     "text": [
      "\tValidation ROEM: 0.14935498034910963\n",
      "\tElapsed 52s\n",
      "Training model 148\n"
     ]
    },
    {
     "name": "stderr",
     "output_type": "stream",
     "text": [
      "                                                                                \r"
     ]
    },
    {
     "name": "stdout",
     "output_type": "stream",
     "text": [
      "\tAverage ROEM 0.1453648657314218\n"
     ]
    },
    {
     "name": "stderr",
     "output_type": "stream",
     "text": [
      "                                                                                \r"
     ]
    },
    {
     "name": "stdout",
     "output_type": "stream",
     "text": [
      "\tValidation ROEM: 0.14161833751063796\n",
      "\tElapsed 50s\n",
      "Training model 149\n"
     ]
    },
    {
     "name": "stderr",
     "output_type": "stream",
     "text": [
      "                                                                                \r"
     ]
    },
    {
     "name": "stdout",
     "output_type": "stream",
     "text": [
      "\tAverage ROEM 0.14984364000956882\n"
     ]
    },
    {
     "name": "stderr",
     "output_type": "stream",
     "text": [
      "                                                                                \r"
     ]
    },
    {
     "name": "stdout",
     "output_type": "stream",
     "text": [
      "\tValidation ROEM: 0.1455448575462131\n",
      "\tElapsed 51s\n",
      "Training model 150\n"
     ]
    },
    {
     "name": "stderr",
     "output_type": "stream",
     "text": [
      "                                                                                \r"
     ]
    },
    {
     "name": "stdout",
     "output_type": "stream",
     "text": [
      "\tAverage ROEM 0.15152397975492118\n"
     ]
    },
    {
     "name": "stderr",
     "output_type": "stream",
     "text": [
      "                                                                                \r"
     ]
    },
    {
     "name": "stdout",
     "output_type": "stream",
     "text": [
      "\tValidation ROEM: 0.14758920791589494\n",
      "\tElapsed 51s\n",
      "Training model 151\n"
     ]
    },
    {
     "name": "stderr",
     "output_type": "stream",
     "text": [
      "                                                                                \r"
     ]
    },
    {
     "name": "stdout",
     "output_type": "stream",
     "text": [
      "\tAverage ROEM 0.15249051770870928\n"
     ]
    },
    {
     "name": "stderr",
     "output_type": "stream",
     "text": [
      "                                                                                \r"
     ]
    },
    {
     "name": "stdout",
     "output_type": "stream",
     "text": [
      "\tValidation ROEM: 0.1487525246909251\n",
      "\tElapsed 53s\n",
      "Training model 152\n"
     ]
    },
    {
     "name": "stderr",
     "output_type": "stream",
     "text": [
      "                                                                                \r"
     ]
    },
    {
     "name": "stdout",
     "output_type": "stream",
     "text": [
      "\tAverage ROEM 0.144301718381317\n"
     ]
    },
    {
     "name": "stderr",
     "output_type": "stream",
     "text": [
      "                                                                                \r"
     ]
    },
    {
     "name": "stdout",
     "output_type": "stream",
     "text": [
      "\tValidation ROEM: 0.14050644970964848\n",
      "\tElapsed 50s\n",
      "Training model 153\n"
     ]
    },
    {
     "name": "stderr",
     "output_type": "stream",
     "text": [
      "                                                                                \r"
     ]
    },
    {
     "name": "stdout",
     "output_type": "stream",
     "text": [
      "\tAverage ROEM 0.1490280782171008\n"
     ]
    },
    {
     "name": "stderr",
     "output_type": "stream",
     "text": [
      "                                                                                \r"
     ]
    },
    {
     "name": "stdout",
     "output_type": "stream",
     "text": [
      "\tValidation ROEM: 0.14455280442659052\n",
      "\tElapsed 52s\n",
      "Training model 154\n"
     ]
    },
    {
     "name": "stderr",
     "output_type": "stream",
     "text": [
      "                                                                                \r"
     ]
    },
    {
     "name": "stdout",
     "output_type": "stream",
     "text": [
      "\tAverage ROEM 0.15075200226507596\n"
     ]
    },
    {
     "name": "stderr",
     "output_type": "stream",
     "text": [
      "                                                                                \r"
     ]
    },
    {
     "name": "stdout",
     "output_type": "stream",
     "text": [
      "\tValidation ROEM: 0.14703256111706187\n",
      "\tElapsed 52s\n",
      "Training model 155\n"
     ]
    },
    {
     "name": "stderr",
     "output_type": "stream",
     "text": [
      "                                                                                \r"
     ]
    },
    {
     "name": "stdout",
     "output_type": "stream",
     "text": [
      "\tAverage ROEM 0.15174214773927605\n"
     ]
    },
    {
     "name": "stderr",
     "output_type": "stream",
     "text": [
      "                                                                                \r"
     ]
    },
    {
     "name": "stdout",
     "output_type": "stream",
     "text": [
      "\tValidation ROEM: 0.14771375583057086\n",
      "\tElapsed 52s\n",
      "Training model 156\n"
     ]
    },
    {
     "name": "stderr",
     "output_type": "stream",
     "text": [
      "                                                                                \r"
     ]
    },
    {
     "name": "stdout",
     "output_type": "stream",
     "text": [
      "\tAverage ROEM 0.14403880225772445\n"
     ]
    },
    {
     "name": "stderr",
     "output_type": "stream",
     "text": [
      "                                                                                \r"
     ]
    },
    {
     "name": "stdout",
     "output_type": "stream",
     "text": [
      "\tValidation ROEM: 0.14167038368983884\n",
      "\tElapsed 75s\n",
      "Training model 157\n"
     ]
    },
    {
     "name": "stderr",
     "output_type": "stream",
     "text": [
      "                                                                                \r"
     ]
    },
    {
     "name": "stdout",
     "output_type": "stream",
     "text": [
      "\tAverage ROEM 0.14903188014785845\n"
     ]
    },
    {
     "name": "stderr",
     "output_type": "stream",
     "text": [
      "                                                                                \r"
     ]
    },
    {
     "name": "stdout",
     "output_type": "stream",
     "text": [
      "\tValidation ROEM: 0.14595922045726034\n",
      "\tElapsed 76s\n",
      "Training model 158\n"
     ]
    },
    {
     "name": "stderr",
     "output_type": "stream",
     "text": [
      "                                                                                \r"
     ]
    },
    {
     "name": "stdout",
     "output_type": "stream",
     "text": [
      "\tAverage ROEM 0.15196674074258404\n"
     ]
    },
    {
     "name": "stderr",
     "output_type": "stream",
     "text": [
      "                                                                                \r"
     ]
    },
    {
     "name": "stdout",
     "output_type": "stream",
     "text": [
      "\tValidation ROEM: 0.14811393814095775\n",
      "\tElapsed 78s\n",
      "Training model 159\n"
     ]
    },
    {
     "name": "stderr",
     "output_type": "stream",
     "text": [
      "                                                                                \r"
     ]
    },
    {
     "name": "stdout",
     "output_type": "stream",
     "text": [
      "\tAverage ROEM 0.1529276921723461\n"
     ]
    },
    {
     "name": "stderr",
     "output_type": "stream",
     "text": [
      "                                                                                \r"
     ]
    },
    {
     "name": "stdout",
     "output_type": "stream",
     "text": [
      "\tValidation ROEM: 0.14979311345050375\n",
      "\tElapsed 79s\n",
      "Training model 160\n"
     ]
    },
    {
     "name": "stderr",
     "output_type": "stream",
     "text": [
      "                                                                                \r"
     ]
    },
    {
     "name": "stdout",
     "output_type": "stream",
     "text": [
      "\tAverage ROEM 0.1435101738081947\n"
     ]
    },
    {
     "name": "stderr",
     "output_type": "stream",
     "text": [
      "                                                                                \r"
     ]
    },
    {
     "name": "stdout",
     "output_type": "stream",
     "text": [
      "\tValidation ROEM: 0.14015425669583992\n",
      "\tElapsed 75s\n",
      "Training model 161\n"
     ]
    },
    {
     "name": "stderr",
     "output_type": "stream",
     "text": [
      "23/05/10 22:39:01 WARN TaskMemoryManager: Failed to allocate a page (134217728 bytes), try again.\n",
      "                                                                                \r"
     ]
    },
    {
     "name": "stdout",
     "output_type": "stream",
     "text": [
      "\tAverage ROEM 0.14851134321134604\n"
     ]
    },
    {
     "name": "stderr",
     "output_type": "stream",
     "text": [
      "                                                                                \r"
     ]
    },
    {
     "name": "stdout",
     "output_type": "stream",
     "text": [
      "\tValidation ROEM: 0.14506187090546988\n",
      "\tElapsed 77s\n",
      "Training model 162\n"
     ]
    },
    {
     "name": "stderr",
     "output_type": "stream",
     "text": [
      "                                                                                \r"
     ]
    },
    {
     "name": "stdout",
     "output_type": "stream",
     "text": [
      "\tAverage ROEM 0.15113450227167563\n"
     ]
    },
    {
     "name": "stderr",
     "output_type": "stream",
     "text": [
      "                                                                                \r"
     ]
    },
    {
     "name": "stdout",
     "output_type": "stream",
     "text": [
      "\tValidation ROEM: 0.14740060242123773\n",
      "\tElapsed 77s\n",
      "Training model 163\n"
     ]
    },
    {
     "name": "stderr",
     "output_type": "stream",
     "text": [
      "23/05/10 22:41:36 WARN TaskMemoryManager: Failed to allocate a page (134217728 bytes), try again.\n",
      "                                                                                \r"
     ]
    },
    {
     "name": "stdout",
     "output_type": "stream",
     "text": [
      "\tAverage ROEM 0.15254667814109965\n"
     ]
    },
    {
     "name": "stderr",
     "output_type": "stream",
     "text": [
      "                                                                                \r"
     ]
    },
    {
     "name": "stdout",
     "output_type": "stream",
     "text": [
      "\tValidation ROEM: 0.14953105761168217\n",
      "\tElapsed 78s\n",
      "Training model 164\n"
     ]
    },
    {
     "name": "stderr",
     "output_type": "stream",
     "text": [
      "                                                                                \r"
     ]
    },
    {
     "name": "stdout",
     "output_type": "stream",
     "text": [
      "\tAverage ROEM 0.14234902325321042\n"
     ]
    },
    {
     "name": "stderr",
     "output_type": "stream",
     "text": [
      "                                                                                \r"
     ]
    },
    {
     "name": "stdout",
     "output_type": "stream",
     "text": [
      "\tValidation ROEM: 0.13929464275603295\n",
      "\tElapsed 75s\n",
      "Training model 165\n"
     ]
    },
    {
     "name": "stderr",
     "output_type": "stream",
     "text": [
      "                                                                                \r"
     ]
    },
    {
     "name": "stdout",
     "output_type": "stream",
     "text": [
      "\tAverage ROEM 0.147791140082631\n"
     ]
    },
    {
     "name": "stderr",
     "output_type": "stream",
     "text": [
      "                                                                                \r"
     ]
    },
    {
     "name": "stdout",
     "output_type": "stream",
     "text": [
      "\tValidation ROEM: 0.14402219755693915\n",
      "\tElapsed 77s\n",
      "Training model 166\n"
     ]
    },
    {
     "name": "stderr",
     "output_type": "stream",
     "text": [
      "                                                                                \r"
     ]
    },
    {
     "name": "stdout",
     "output_type": "stream",
     "text": [
      "\tAverage ROEM 0.1506205717635226\n"
     ]
    },
    {
     "name": "stderr",
     "output_type": "stream",
     "text": [
      "                                                                                \r"
     ]
    },
    {
     "name": "stdout",
     "output_type": "stream",
     "text": [
      "\tValidation ROEM: 0.1467341470016498\n",
      "\tElapsed 77s\n",
      "Training model 167\n"
     ]
    },
    {
     "name": "stderr",
     "output_type": "stream",
     "text": [
      "                                                                                \r"
     ]
    },
    {
     "name": "stdout",
     "output_type": "stream",
     "text": [
      "\tAverage ROEM 0.15210238461276174\n"
     ]
    },
    {
     "name": "stderr",
     "output_type": "stream",
     "text": [
      "                                                                                \r"
     ]
    },
    {
     "name": "stdout",
     "output_type": "stream",
     "text": [
      "\tValidation ROEM: 0.14854690737941106\n",
      "\tElapsed 78s\n",
      "Training model 168\n"
     ]
    },
    {
     "name": "stderr",
     "output_type": "stream",
     "text": [
      "                                                                                \r"
     ]
    },
    {
     "name": "stdout",
     "output_type": "stream",
     "text": [
      "\tAverage ROEM 0.14338280394499747\n"
     ]
    },
    {
     "name": "stderr",
     "output_type": "stream",
     "text": [
      "                                                                                \r"
     ]
    },
    {
     "name": "stdout",
     "output_type": "stream",
     "text": [
      "\tValidation ROEM: 0.14158003264575356\n",
      "\tElapsed 99s\n",
      "Training model 169\n"
     ]
    },
    {
     "name": "stderr",
     "output_type": "stream",
     "text": [
      "                                                                                \r"
     ]
    },
    {
     "name": "stdout",
     "output_type": "stream",
     "text": [
      "\tAverage ROEM 0.1480755252292621\n"
     ]
    },
    {
     "name": "stderr",
     "output_type": "stream",
     "text": [
      "                                                                                \r"
     ]
    },
    {
     "name": "stdout",
     "output_type": "stream",
     "text": [
      "\tValidation ROEM: 0.14639187462273812\n",
      "\tElapsed 101s\n",
      "Training model 170\n"
     ]
    },
    {
     "name": "stderr",
     "output_type": "stream",
     "text": [
      "                                                                                \r"
     ]
    },
    {
     "name": "stdout",
     "output_type": "stream",
     "text": [
      "\tAverage ROEM 0.15185008374791162\n"
     ]
    },
    {
     "name": "stderr",
     "output_type": "stream",
     "text": [
      "                                                                                \r"
     ]
    },
    {
     "name": "stdout",
     "output_type": "stream",
     "text": [
      "\tValidation ROEM: 0.14899988047567211\n",
      "\tElapsed 102s\n",
      "Training model 171\n"
     ]
    },
    {
     "name": "stderr",
     "output_type": "stream",
     "text": [
      "                                                                                \r"
     ]
    },
    {
     "name": "stdout",
     "output_type": "stream",
     "text": [
      "\tAverage ROEM 0.1535917032427009\n"
     ]
    },
    {
     "name": "stderr",
     "output_type": "stream",
     "text": [
      "                                                                                \r"
     ]
    },
    {
     "name": "stdout",
     "output_type": "stream",
     "text": [
      "\tValidation ROEM: 0.15064019459988343\n",
      "\tElapsed 104s\n",
      "Training model 172\n"
     ]
    },
    {
     "name": "stderr",
     "output_type": "stream",
     "text": [
      "                                                                                \r"
     ]
    },
    {
     "name": "stdout",
     "output_type": "stream",
     "text": [
      "\tAverage ROEM 0.14280862533384642\n"
     ]
    },
    {
     "name": "stderr",
     "output_type": "stream",
     "text": [
      "                                                                                \r"
     ]
    },
    {
     "name": "stdout",
     "output_type": "stream",
     "text": [
      "\tValidation ROEM: 0.14003579302095215\n",
      "\tElapsed 100s\n",
      "Training model 173\n"
     ]
    },
    {
     "name": "stderr",
     "output_type": "stream",
     "text": [
      "                                                                                \r"
     ]
    },
    {
     "name": "stdout",
     "output_type": "stream",
     "text": [
      "\tAverage ROEM 0.1478502206410063\n"
     ]
    },
    {
     "name": "stderr",
     "output_type": "stream",
     "text": [
      "                                                                                \r"
     ]
    },
    {
     "name": "stdout",
     "output_type": "stream",
     "text": [
      "\tValidation ROEM: 0.14529138860570553\n",
      "\tElapsed 101s\n",
      "Training model 174\n"
     ]
    },
    {
     "name": "stderr",
     "output_type": "stream",
     "text": [
      "                                                                                \r"
     ]
    },
    {
     "name": "stdout",
     "output_type": "stream",
     "text": [
      "\tAverage ROEM 0.15090048524832916\n"
     ]
    },
    {
     "name": "stderr",
     "output_type": "stream",
     "text": [
      "                                                                                \r"
     ]
    },
    {
     "name": "stdout",
     "output_type": "stream",
     "text": [
      "\tValidation ROEM: 0.14824765074499444\n",
      "\tElapsed 103s\n",
      "Training model 175\n"
     ]
    },
    {
     "name": "stderr",
     "output_type": "stream",
     "text": [
      "                                                                                \r"
     ]
    },
    {
     "name": "stdout",
     "output_type": "stream",
     "text": [
      "\tAverage ROEM 0.15292103306271465\n"
     ]
    },
    {
     "name": "stderr",
     "output_type": "stream",
     "text": [
      "                                                                                \r"
     ]
    },
    {
     "name": "stdout",
     "output_type": "stream",
     "text": [
      "\tValidation ROEM: 0.14995190393827174\n",
      "\tElapsed 105s\n",
      "Training model 176\n"
     ]
    },
    {
     "name": "stderr",
     "output_type": "stream",
     "text": [
      "                                                                                \r"
     ]
    },
    {
     "name": "stdout",
     "output_type": "stream",
     "text": [
      "\tAverage ROEM 0.14175172976498093\n"
     ]
    },
    {
     "name": "stderr",
     "output_type": "stream",
     "text": [
      "                                                                                \r"
     ]
    },
    {
     "name": "stdout",
     "output_type": "stream",
     "text": [
      "\tValidation ROEM: 0.13871659592844426\n",
      "\tElapsed 100s\n",
      "Training model 177\n"
     ]
    },
    {
     "name": "stderr",
     "output_type": "stream",
     "text": [
      "                                                                                \r"
     ]
    },
    {
     "name": "stdout",
     "output_type": "stream",
     "text": [
      "\tAverage ROEM 0.14696587558448343\n"
     ]
    },
    {
     "name": "stderr",
     "output_type": "stream",
     "text": [
      "                                                                                \r"
     ]
    },
    {
     "name": "stdout",
     "output_type": "stream",
     "text": [
      "\tValidation ROEM: 0.14465845166517635\n",
      "\tElapsed 103s\n",
      "Training model 178\n"
     ]
    },
    {
     "name": "stderr",
     "output_type": "stream",
     "text": [
      "                                                                                \r"
     ]
    },
    {
     "name": "stdout",
     "output_type": "stream",
     "text": [
      "\tAverage ROEM 0.15049690865530443\n"
     ]
    },
    {
     "name": "stderr",
     "output_type": "stream",
     "text": [
      "                                                                                \r"
     ]
    },
    {
     "name": "stdout",
     "output_type": "stream",
     "text": [
      "\tValidation ROEM: 0.1470162181874785\n",
      "\tElapsed 101s\n",
      "Training model 179\n"
     ]
    },
    {
     "name": "stderr",
     "output_type": "stream",
     "text": [
      "                                                                                \r"
     ]
    },
    {
     "name": "stdout",
     "output_type": "stream",
     "text": [
      "\tAverage ROEM 0.1522688149868009\n"
     ]
    },
    {
     "name": "stderr",
     "output_type": "stream",
     "text": [
      "                                                                                \r"
     ]
    },
    {
     "name": "stdout",
     "output_type": "stream",
     "text": [
      "\tValidation ROEM: 0.14950713541690064\n",
      "\tElapsed 103s\n",
      "Training model 180\n"
     ]
    },
    {
     "name": "stderr",
     "output_type": "stream",
     "text": [
      "                                                                                \r"
     ]
    },
    {
     "name": "stdout",
     "output_type": "stream",
     "text": [
      "\tAverage ROEM 0.14308098719008375\n"
     ]
    },
    {
     "name": "stderr",
     "output_type": "stream",
     "text": [
      "                                                                                \r"
     ]
    },
    {
     "name": "stdout",
     "output_type": "stream",
     "text": [
      "\tValidation ROEM: 0.1419993211196451\n",
      "\tElapsed 123s\n",
      "Training model 181\n"
     ]
    },
    {
     "name": "stderr",
     "output_type": "stream",
     "text": [
      "                                                                                \r"
     ]
    },
    {
     "name": "stdout",
     "output_type": "stream",
     "text": [
      "\tAverage ROEM 0.14786410541983536\n"
     ]
    },
    {
     "name": "stderr",
     "output_type": "stream",
     "text": [
      "                                                                                \r"
     ]
    },
    {
     "name": "stdout",
     "output_type": "stream",
     "text": [
      "\tValidation ROEM: 0.14632083244266594\n",
      "\tElapsed 126s\n",
      "Training model 182\n"
     ]
    },
    {
     "name": "stderr",
     "output_type": "stream",
     "text": [
      "                                                                                \r"
     ]
    },
    {
     "name": "stdout",
     "output_type": "stream",
     "text": [
      "\tAverage ROEM 0.15166616827473067\n"
     ]
    },
    {
     "name": "stderr",
     "output_type": "stream",
     "text": [
      "                                                                                \r"
     ]
    },
    {
     "name": "stdout",
     "output_type": "stream",
     "text": [
      "\tValidation ROEM: 0.14904751890713652\n",
      "\tElapsed 128s\n",
      "Training model 183\n"
     ]
    },
    {
     "name": "stderr",
     "output_type": "stream",
     "text": [
      "                                                                                \r"
     ]
    },
    {
     "name": "stdout",
     "output_type": "stream",
     "text": [
      "\tAverage ROEM 0.15353412089656165\n"
     ]
    },
    {
     "name": "stderr",
     "output_type": "stream",
     "text": [
      "                                                                                \r"
     ]
    },
    {
     "name": "stdout",
     "output_type": "stream",
     "text": [
      "\tValidation ROEM: 0.15164052235629197\n",
      "\tElapsed 129s\n",
      "Training model 184\n"
     ]
    },
    {
     "name": "stderr",
     "output_type": "stream",
     "text": [
      "                                                                                \r"
     ]
    },
    {
     "name": "stdout",
     "output_type": "stream",
     "text": [
      "\tAverage ROEM 0.14224251011189018\n"
     ]
    },
    {
     "name": "stderr",
     "output_type": "stream",
     "text": [
      "                                                                                \r"
     ]
    },
    {
     "name": "stdout",
     "output_type": "stream",
     "text": [
      "\tValidation ROEM: 0.14008354181628113\n",
      "\tElapsed 126s\n",
      "Training model 185\n"
     ]
    },
    {
     "name": "stderr",
     "output_type": "stream",
     "text": [
      "                                                                                \r"
     ]
    },
    {
     "name": "stdout",
     "output_type": "stream",
     "text": [
      "\tAverage ROEM 0.1472235362893324\n"
     ]
    },
    {
     "name": "stderr",
     "output_type": "stream",
     "text": [
      "                                                                                \r"
     ]
    },
    {
     "name": "stdout",
     "output_type": "stream",
     "text": [
      "\tValidation ROEM: 0.1453560143180103\n",
      "\tElapsed 127s\n",
      "Training model 186\n"
     ]
    },
    {
     "name": "stderr",
     "output_type": "stream",
     "text": [
      "                                                                                \r"
     ]
    },
    {
     "name": "stdout",
     "output_type": "stream",
     "text": [
      "\tAverage ROEM 0.15038869331300642\n"
     ]
    },
    {
     "name": "stderr",
     "output_type": "stream",
     "text": [
      "                                                                                \r"
     ]
    },
    {
     "name": "stdout",
     "output_type": "stream",
     "text": [
      "\tValidation ROEM: 0.1488121974078903\n",
      "\tElapsed 129s\n",
      "Training model 187\n"
     ]
    },
    {
     "name": "stderr",
     "output_type": "stream",
     "text": [
      "                                                                                \r"
     ]
    },
    {
     "name": "stdout",
     "output_type": "stream",
     "text": [
      "\tAverage ROEM 0.152814560187487\n"
     ]
    },
    {
     "name": "stderr",
     "output_type": "stream",
     "text": [
      "                                                                                \r"
     ]
    },
    {
     "name": "stdout",
     "output_type": "stream",
     "text": [
      "\tValidation ROEM: 0.15124338400325887\n",
      "\tElapsed 127s\n",
      "Training model 188\n"
     ]
    },
    {
     "name": "stderr",
     "output_type": "stream",
     "text": [
      "                                                                                \r"
     ]
    },
    {
     "name": "stdout",
     "output_type": "stream",
     "text": [
      "\tAverage ROEM 0.14142760689563486\n"
     ]
    },
    {
     "name": "stderr",
     "output_type": "stream",
     "text": [
      "                                                                                \r"
     ]
    },
    {
     "name": "stdout",
     "output_type": "stream",
     "text": [
      "\tValidation ROEM: 0.13831972740037804\n",
      "\tElapsed 119s\n",
      "Training model 189\n"
     ]
    },
    {
     "name": "stderr",
     "output_type": "stream",
     "text": [
      "23/05/10 23:27:41 WARN TaskMemoryManager: Failed to allocate a page (134217728 bytes), try again.\n",
      "                                                                                \r"
     ]
    },
    {
     "name": "stdout",
     "output_type": "stream",
     "text": [
      "\tAverage ROEM 0.14671678145579986\n"
     ]
    },
    {
     "name": "stderr",
     "output_type": "stream",
     "text": [
      "                                                                                \r"
     ]
    },
    {
     "name": "stdout",
     "output_type": "stream",
     "text": [
      "\tValidation ROEM: 0.1447523930609863\n",
      "\tElapsed 117s\n",
      "Training model 190\n"
     ]
    },
    {
     "name": "stderr",
     "output_type": "stream",
     "text": [
      "                                                                                \r"
     ]
    },
    {
     "name": "stdout",
     "output_type": "stream",
     "text": [
      "\tAverage ROEM 0.15007043728413372\n"
     ]
    },
    {
     "name": "stderr",
     "output_type": "stream",
     "text": [
      "                                                                                \r"
     ]
    },
    {
     "name": "stdout",
     "output_type": "stream",
     "text": [
      "\tValidation ROEM: 0.1479646746276781\n",
      "\tElapsed 121s\n",
      "Training model 191\n"
     ]
    },
    {
     "name": "stderr",
     "output_type": "stream",
     "text": [
      "                                                                                \r"
     ]
    },
    {
     "name": "stdout",
     "output_type": "stream",
     "text": [
      "\tAverage ROEM 0.15248293101484625\n"
     ]
    },
    {
     "name": "stderr",
     "output_type": "stream",
     "text": [
      "[Stage 1096152:=============================================>       (6 + 1) / 7]\r"
     ]
    },
    {
     "name": "stdout",
     "output_type": "stream",
     "text": [
      "\tValidation ROEM: 0.15018115568720378\n",
      "\tElapsed 121s\n"
     ]
    },
    {
     "name": "stderr",
     "output_type": "stream",
     "text": [
      "                                                                                \r"
     ]
    }
   ],
   "source": [
    "from time import time\n",
    "ROEMS = []\n",
    "for model_num, model in enumerate(model_list):\n",
    "    print(f'Training model {model_num}')\n",
    "    fold_num = 1\n",
    "    roem_sum = 0\n",
    "    t = time()\n",
    "    for ft_pair in foldlist:\n",
    "        # Fits model to fold within training data\n",
    "        fitted_model = model.fit(ft_pair[0])\n",
    "        # Generates predictions using fitted_model on respective CV test data\n",
    "        predictions = fitted_model.transform(ft_pair[1])\n",
    "        # Generates and prints a ROEM metric CV test data\n",
    "        r = roem(spark, predictions, 'userId', 'viewed')\n",
    "        # print(f\"\\tROEM (fold #{fold_num}): {r}\")\n",
    "        roem_sum += r\n",
    "        fold_num += 1\n",
    "    print(f'\\tAverage ROEM {roem_sum/(fold_num-1)}')\n",
    "    # Fits model to all of training data and generates preds for test data\n",
    "    v_fitted_model = model.fit(training)\n",
    "    v_predictions = v_fitted_model.transform(test)\n",
    "    v_ROEM = roem(spark, v_predictions, 'userId', 'viewed')\n",
    "    # Adds validation ROEM to ROEM list\n",
    "    ROEMS.append(v_ROEM)\n",
    "    print (f'\\tValidation ROEM: {v_ROEM}')\n",
    "    print(f\"\\tElapsed {time()-t:.0f}s\")"
   ]
  },
  {
   "cell_type": "code",
   "execution_count": 26,
   "id": "36841f91-30e0-418d-a568-29b3bc53bd37",
   "metadata": {
    "execution": {
     "iopub.execute_input": "2023-05-11T02:32:27.977250Z",
     "iopub.status.busy": "2023-05-11T02:32:27.977148Z",
     "iopub.status.idle": "2023-05-11T02:32:27.979433Z",
     "shell.execute_reply": "2023-05-11T02:32:27.979170Z",
     "shell.execute_reply.started": "2023-05-11T02:32:27.977240Z"
    },
    "tags": []
   },
   "outputs": [
    {
     "name": "stdout",
     "output_type": "stream",
     "text": [
      "Smallest ROEM #44: 0.12848390693085782\n"
     ]
    }
   ],
   "source": [
    "# Find the index of the smallest ROEM\n",
    "i = np.argmin(ROEMS)\n",
    "print(f'Smallest ROEM #{i}: {ROEMS[i]}')"
   ]
  },
  {
   "cell_type": "code",
   "execution_count": 27,
   "id": "3cd47edb-02a5-480a-ac1f-fb64ba68c1e6",
   "metadata": {
    "execution": {
     "iopub.execute_input": "2023-05-11T02:32:27.979903Z",
     "iopub.status.busy": "2023-05-11T02:32:27.979800Z",
     "iopub.status.idle": "2023-05-11T02:32:27.982158Z",
     "shell.execute_reply": "2023-05-11T02:32:27.981893Z",
     "shell.execute_reply.started": "2023-05-11T02:32:27.979893Z"
    },
    "tags": []
   },
   "outputs": [
    {
     "name": "stdout",
     "output_type": "stream",
     "text": [
      "Rank:  10\n",
      "MaxIter:  40\n",
      "RegParam:  0.15\n",
      "Alpha:  20.0\n"
     ]
    }
   ],
   "source": [
    "# Extract the best_model\n",
    "best_model = model_list[i]\n",
    "# Extract the Rank\n",
    "print (\"Rank: \", best_model.getRank())\n",
    "# Extract the MaxIter value\n",
    "print (\"MaxIter: \", best_model.getMaxIter())\n",
    "# Extract the RegParam value\n",
    "print (\"RegParam: \", best_model.getRegParam())\n",
    "# Extract the Alpha value\n",
    "print (\"Alpha: \", best_model.getAlpha())"
   ]
  },
  {
   "cell_type": "code",
   "execution_count": 30,
   "id": "74309506-9889-409a-9c4f-edd9ab645b97",
   "metadata": {
    "execution": {
     "iopub.execute_input": "2023-05-11T02:44:47.204320Z",
     "iopub.status.busy": "2023-05-11T02:44:47.204105Z",
     "iopub.status.idle": "2023-05-11T02:45:02.860248Z",
     "shell.execute_reply": "2023-05-11T02:45:02.859878Z",
     "shell.execute_reply.started": "2023-05-11T02:44:47.204302Z"
    },
    "tags": []
   },
   "outputs": [
    {
     "name": "stderr",
     "output_type": "stream",
     "text": [
      "                                                                                \r"
     ]
    },
    {
     "name": "stdout",
     "output_type": "stream",
     "text": [
      "+------+-------+------+-----------+\n",
      "|userId|movieId|viewed| prediction|\n",
      "+------+-------+------+-----------+\n",
      "|   148|      5|     0| 0.42935294|\n",
      "|   148|      7|     0| 0.45020267|\n",
      "|   148|     11|     0|  0.4760792|\n",
      "|   148|     13|     0|0.102432765|\n",
      "|   148|     15|     0|0.092653215|\n",
      "|   148|     30|     0| 0.22208145|\n",
      "|   148|     34|     0| 0.78784674|\n",
      "|   148|     38|     0| 0.07041129|\n",
      "|   148|     42|     0| 0.13359056|\n",
      "|   148|     53|     0|        0.0|\n",
      "|   148|     54|     0|  0.0121748|\n",
      "|   148|     58|     1| 0.46741182|\n",
      "|   148|     60|     0| 0.19647813|\n",
      "|   148|     63|     0| 0.08127988|\n",
      "|   148|     74|     0| 0.18537197|\n",
      "|   148|     81|     0| 0.25807658|\n",
      "|   148|     93|     0|0.050872304|\n",
      "|   148|     97|     0| 0.12778923|\n",
      "|   148|    105|     0|  0.4534478|\n",
      "|   148|    121|     0|  0.1340127|\n",
      "+------+-------+------+-----------+\n",
      "only showing top 20 rows\n",
      "\n",
      "ROEM: 0.12848390693085782\n",
      "+------+-------+------+------------+\n",
      "|userId|movieId|viewed|  prediction|\n",
      "+------+-------+------+------------+\n",
      "|    42|    148|     0|         0.0|\n",
      "|    42|    463|     0|0.0023889113|\n",
      "|    42|    496|     0|         0.0|\n",
      "|    42|   1959|     0| 0.071304016|\n",
      "|    42|   3997|     0| 0.084656514|\n",
      "|    42|   5518|     0| 0.023985777|\n",
      "|    42|   6357|     0|         0.0|\n",
      "|    42|   6620|     0|         0.0|\n",
      "|    42|   7833|     0| 0.072658986|\n",
      "|    42|  32460|     0|         0.0|\n",
      "|    42|    737|     0| 0.036440376|\n",
      "|    42|   1084|     0|  0.22459537|\n",
      "|    42|   1507|     0|         0.0|\n",
      "|    42|   1896|     0|         0.0|\n",
      "|    42|   3179|     0|         0.0|\n",
      "|    42|  91690|     0|  0.12265396|\n",
      "|    42|   1322|     0|         0.0|\n",
      "|    42|   1699|     0|         0.0|\n",
      "|    42|   2996|     0|         0.0|\n",
      "|    42|   3704|     0|  0.22312525|\n",
      "+------+-------+------+------------+\n",
      "only showing top 20 rows\n",
      "\n"
     ]
    }
   ],
   "source": [
    "fitted_model = best_model.fit(training)\n",
    "binary_test_predictions = fitted_model.transform(test)\n",
    "# Look at the test predictions\n",
    "binary_test_predictions.show(3)\n",
    "# Evaluate ROEM on test predictions\n",
    "print(f\"ROEM: {roem(spark, binary_test_predictions, 'userId', 'viewed')}\")\n",
    "# Look at user 42's test predictions\n",
    "binary_test_predictions.filter(F.col(\"userId\") == 42).show(3)"
   ]
  },
  {
   "cell_type": "markdown",
   "id": "fe9145c6-f1e4-4be8-87c3-e4946fc574cf",
   "metadata": {},
   "source": [
    "> The model has a pretty low ROEM. Did you notice that the model predicted some high numbers for unseen movies? This indicates that the model is creating recommendations from the movies that users have not seen."
   ]
  },
  {
   "cell_type": "markdown",
   "id": "78e4bec3-1ca4-4699-bc98-7874113756aa",
   "metadata": {},
   "source": [
    "### Recommendations from binary data"
   ]
  },
  {
   "cell_type": "code",
   "execution_count": 45,
   "id": "47ab239f-67e8-4c29-8aa6-4d65903e783c",
   "metadata": {
    "execution": {
     "iopub.execute_input": "2023-05-11T03:09:57.828636Z",
     "iopub.status.busy": "2023-05-11T03:09:57.828299Z",
     "iopub.status.idle": "2023-05-11T03:09:57.883848Z",
     "shell.execute_reply": "2023-05-11T03:09:57.883539Z",
     "shell.execute_reply.started": "2023-05-11T03:09:57.828622Z"
    },
    "tags": []
   },
   "outputs": [],
   "source": [
    "# Read data from CSV file\n",
    "movies = spark.read.csv('movies.csv', sep=',', header=True, inferSchema=True)\n",
    "original_ratings = movie_ratings.join(movies, on='movieId')"
   ]
  },
  {
   "cell_type": "code",
   "execution_count": 46,
   "id": "b936cd9d-7df2-4377-a61c-d3aad9fd58e1",
   "metadata": {
    "execution": {
     "iopub.execute_input": "2023-05-11T03:09:58.763702Z",
     "iopub.status.busy": "2023-05-11T03:09:58.763555Z",
     "iopub.status.idle": "2023-05-11T03:09:58.820019Z",
     "shell.execute_reply": "2023-05-11T03:09:58.819601Z",
     "shell.execute_reply.started": "2023-05-11T03:09:58.763690Z"
    },
    "tags": []
   },
   "outputs": [
    {
     "name": "stdout",
     "output_type": "stream",
     "text": [
      "User 26 Original Ratings:\n",
      "+-------+------+------+--------------------+--------------------+\n",
      "|movieId|userId|rating|               title|              genres|\n",
      "+-------+------+------+--------------------+--------------------+\n",
      "|      1|    26|   5.0|    Toy Story (1995)|Adventure|Animati...|\n",
      "|     32|    26|   4.5|Twelve Monkeys (a...|Mystery|Sci-Fi|Th...|\n",
      "|     47|    26|   4.5|Seven (a.k.a. Se7...|    Mystery|Thriller|\n",
      "|     50|    26|   4.5|Usual Suspects, T...|Crime|Mystery|Thr...|\n",
      "|     63|    26|   0.5|Don't Be a Menace...|        Comedy|Crime|\n",
      "|     69|    26|   4.5|       Friday (1995)|              Comedy|\n",
      "|    153|    26|   3.5|Batman Forever (1...|Action|Adventure|...|\n",
      "|    165|    26|   2.5|Die Hard: With a ...|Action|Crime|Thri...|\n",
      "|    260|    26|   3.0|Star Wars: Episod...|Action|Adventure|...|\n",
      "|    296|    26|   3.5| Pulp Fiction (1994)|Comedy|Crime|Dram...|\n",
      "|    316|    26|   0.5|     Stargate (1994)|Action|Adventure|...|\n",
      "|    318|    26|   4.0|Shawshank Redempt...|         Crime|Drama|\n",
      "|    344|    26|   0.5|Ace Ventura: Pet ...|              Comedy|\n",
      "|    356|    26|   4.5| Forrest Gump (1994)|Comedy|Drama|Roma...|\n",
      "|    367|    26|   2.0|    Mask, The (1994)|Action|Comedy|Cri...|\n",
      "|    377|    26|   3.0|        Speed (1994)|Action|Romance|Th...|\n",
      "|    380|    26|   3.0|    True Lies (1994)|Action|Adventure|...|\n",
      "|    457|    26|   3.5|Fugitive, The (1993)|            Thriller|\n",
      "|    480|    26|   2.5|Jurassic Park (1993)|Action|Adventure|...|\n",
      "|    500|    26|   1.0|Mrs. Doubtfire (1...|        Comedy|Drama|\n",
      "+-------+------+------+--------------------+--------------------+\n",
      "only showing top 20 rows\n",
      "\n"
     ]
    }
   ],
   "source": [
    "# View user 26's original ratings\n",
    "print (\"User 26 Original Ratings:\")\n",
    "original_ratings.filter(F.col(\"userId\") == 26).show()"
   ]
  },
  {
   "cell_type": "code",
   "execution_count": 54,
   "id": "1ca1b7dc-0e6d-427b-99bc-4e09a37f9c7b",
   "metadata": {
    "execution": {
     "iopub.execute_input": "2023-05-11T03:13:36.032074Z",
     "iopub.status.busy": "2023-05-11T03:13:36.031937Z",
     "iopub.status.idle": "2023-05-11T03:13:36.229126Z",
     "shell.execute_reply": "2023-05-11T03:13:36.228713Z",
     "shell.execute_reply.started": "2023-05-11T03:13:36.032063Z"
    },
    "tags": []
   },
   "outputs": [
    {
     "name": "stdout",
     "output_type": "stream",
     "text": [
      "User 26 Recommendations:\n",
      "+-------+------+------+----------+--------------------+--------------------+\n",
      "|movieId|userId|viewed|prediction|               title|              genres|\n",
      "+-------+------+------+----------+--------------------+--------------------+\n",
      "|    318|    26|     1| 1.1315075|Shawshank Redempt...|         Crime|Drama|\n",
      "|    356|    26|     1| 1.1144809| Forrest Gump (1994)|Comedy|Drama|Roma...|\n",
      "|  58559|    26|     1| 1.1115212|Dark Knight, The ...|Action|Crime|Dram...|\n",
      "|    296|    26|     1| 1.0668908| Pulp Fiction (1994)|Comedy|Crime|Dram...|\n",
      "|    593|    26|     1| 1.0519606|Silence of the La...|Crime|Horror|Thri...|\n",
      "|  46578|    26|     0|  1.033709|Little Miss Sunsh...|Adventure|Comedy|...|\n",
      "|  60069|    26|     1| 1.0318687|       WALL·E (2008)|Adventure|Animati...|\n",
      "|   4993|    26|     0| 1.0294702|Lord of the Rings...|   Adventure|Fantasy|\n",
      "|  72998|    26|     1| 1.0273633|       Avatar (2009)|Action|Adventure|...|\n",
      "|  63082|    26|     1| 1.0272381|Slumdog Millionai...| Crime|Drama|Romance|\n",
      "|  56367|    26|     0| 1.0257918|         Juno (2007)|Comedy|Drama|Romance|\n",
      "|  79132|    26|     1| 1.0188352|    Inception (2010)|Action|Crime|Dram...|\n",
      "|  33794|    26|     1|  1.015176|Batman Begins (2005)|   Action|Crime|IMAX|\n",
      "|    527|    26|     0| 1.0138559|Schindler's List ...|           Drama|War|\n",
      "|   7153|    26|     0| 1.0090504|Lord of the Rings...|Action|Adventure|...|\n",
      "|  48516|    26|     1| 1.0067408|Departed, The (2006)|Crime|Drama|Thriller|\n",
      "|   8961|    26|     1| 1.0034012|Incredibles, The ...|Action|Adventure|...|\n",
      "|   6377|    26|     0| 0.9994131| Finding Nemo (2003)|Adventure|Animati...|\n",
      "|   4973|    26|     1| 0.9983344|Amelie (Fabuleux ...|      Comedy|Romance|\n",
      "|   4995|    26|     1|0.99524355|Beautiful Mind, A...|       Drama|Romance|\n",
      "+-------+------+------+----------+--------------------+--------------------+\n",
      "only showing top 20 rows\n",
      "\n"
     ]
    }
   ],
   "source": [
    "binary_recs = fitted_model.transform(binary_movie_ratings).join(movies, on='movieId')\n",
    "# View user 26's recommendations\n",
    "print (\"User 26 Recommendations:\")\n",
    "binary_recs.filter(F.col(\"userId\") == 26).orderBy('prediction', ascending=False).show()"
   ]
  },
  {
   "cell_type": "code",
   "execution_count": 55,
   "id": "229c1bd6-2248-4821-b6a6-dabc59f0df63",
   "metadata": {
    "execution": {
     "iopub.execute_input": "2023-05-11T03:13:59.154382Z",
     "iopub.status.busy": "2023-05-11T03:13:59.154082Z",
     "iopub.status.idle": "2023-05-11T03:13:59.232435Z",
     "shell.execute_reply": "2023-05-11T03:13:59.231925Z",
     "shell.execute_reply.started": "2023-05-11T03:13:59.154368Z"
    },
    "tags": []
   },
   "outputs": [
    {
     "name": "stdout",
     "output_type": "stream",
     "text": [
      "User 99 Original Ratings:\n",
      "+-------+------+------+--------------------+--------------------+\n",
      "|movieId|userId|rating|               title|              genres|\n",
      "+-------+------+------+--------------------+--------------------+\n",
      "|      1|    99|   4.0|    Toy Story (1995)|Adventure|Animati...|\n",
      "|      2|    99|   2.0|      Jumanji (1995)|Adventure|Childre...|\n",
      "|     17|    99|   3.0|Sense and Sensibi...|       Drama|Romance|\n",
      "|     28|    99|   3.0|   Persuasion (1995)|       Drama|Romance|\n",
      "|     39|    99|   4.0|     Clueless (1995)|      Comedy|Romance|\n",
      "|     47|    99|   1.0|Seven (a.k.a. Se7...|    Mystery|Thriller|\n",
      "|     50|    99|   4.0|Usual Suspects, T...|Crime|Mystery|Thr...|\n",
      "|    105|    99|   3.0|Bridges of Madiso...|       Drama|Romance|\n",
      "|    110|    99|   3.0|   Braveheart (1995)|    Action|Drama|War|\n",
      "|    154|    99|   3.0|Beauty of the Day...|               Drama|\n",
      "|    160|    99|   2.0|        Congo (1995)|Action|Adventure|...|\n",
      "|    170|    99|   2.0|      Hackers (1995)|Action|Adventure|...|\n",
      "|    208|    99|   2.0|   Waterworld (1995)|Action|Adventure|...|\n",
      "|    296|    99|   3.0| Pulp Fiction (1994)|Comedy|Crime|Dram...|\n",
      "|    316|    99|   1.0|     Stargate (1994)|Action|Adventure|...|\n",
      "|    318|    99|   5.0|Shawshank Redempt...|         Crime|Drama|\n",
      "|    356|    99|   5.0| Forrest Gump (1994)|Comedy|Drama|Roma...|\n",
      "|    357|    99|   5.0|Four Weddings and...|      Comedy|Romance|\n",
      "|    367|    99|   3.0|    Mask, The (1994)|Action|Comedy|Cri...|\n",
      "|    377|    99|   4.0|        Speed (1994)|Action|Romance|Th...|\n",
      "+-------+------+------+--------------------+--------------------+\n",
      "only showing top 20 rows\n",
      "\n"
     ]
    }
   ],
   "source": [
    "# View user 99's original ratings\n",
    "print (\"User 99 Original Ratings:\")\n",
    "original_ratings.filter(F.col(\"userId\") == 99).show()"
   ]
  },
  {
   "cell_type": "code",
   "execution_count": 56,
   "id": "ee5ee785-c2a3-42a8-bdb4-e1fe9802fd31",
   "metadata": {
    "execution": {
     "iopub.execute_input": "2023-05-11T03:14:14.847696Z",
     "iopub.status.busy": "2023-05-11T03:14:14.847560Z",
     "iopub.status.idle": "2023-05-11T03:14:14.988195Z",
     "shell.execute_reply": "2023-05-11T03:14:14.987863Z",
     "shell.execute_reply.started": "2023-05-11T03:14:14.847685Z"
    },
    "tags": []
   },
   "outputs": [
    {
     "name": "stdout",
     "output_type": "stream",
     "text": [
      "User 99 Recommendations:\n",
      "+-------+------+------+----------+--------------------+--------------------+\n",
      "|movieId|userId|viewed|prediction|               title|              genres|\n",
      "+-------+------+------+----------+--------------------+--------------------+\n",
      "|    608|    99|     1| 1.1151934|        Fargo (1996)|Comedy|Crime|Dram...|\n",
      "|    260|    99|     0| 1.1001455|Star Wars: Episod...|Action|Adventure|...|\n",
      "|    858|    99|     0| 1.0485737|Godfather, The (1...|         Crime|Drama|\n",
      "|     36|    99|     0| 1.0440861|Dead Man Walking ...|         Crime|Drama|\n",
      "|   1073|    99|     0| 1.0357492|Willy Wonka & the...|Children|Comedy|F...|\n",
      "|   1617|    99|     1|  1.029409|L.A. Confidential...|Crime|Film-Noir|M...|\n",
      "|    527|    99|     1| 1.0276374|Schindler's List ...|           Drama|War|\n",
      "|    780|    99|     0| 1.0226269|Independence Day ...|Action|Adventure|...|\n",
      "|   1225|    99|     0| 1.0222312|      Amadeus (1984)|               Drama|\n",
      "|   1097|    99|     0| 1.0154196|E.T. the Extra-Te...|Children|Drama|Sc...|\n",
      "|    593|    99|     1|  1.009232|Silence of the La...|Crime|Horror|Thri...|\n",
      "|   1198|    99|     0| 1.0054828|Raiders of the Lo...|    Action|Adventure|\n",
      "|      1|    99|     1| 1.0050048|    Toy Story (1995)|Adventure|Animati...|\n",
      "|   1210|    99|     1| 1.0019633|Star Wars: Episod...|Action|Adventure|...|\n",
      "|   1196|    99|     0| 1.0013262|Star Wars: Episod...|Action|Adventure|...|\n",
      "|    318|    99|     1| 1.0002517|Shawshank Redempt...|         Crime|Drama|\n",
      "|   1197|    99|     0| 0.9975637|Princess Bride, T...|Action|Adventure|...|\n",
      "|   1580|    99|     1|0.99751085|Men in Black (a.k...|Action|Comedy|Sci-Fi|\n",
      "|    648|    99|     0|0.99424076|Mission: Impossib...|Action|Adventure|...|\n",
      "|   1270|    99|     0|0.99154997|Back to the Futur...|Adventure|Comedy|...|\n",
      "+-------+------+------+----------+--------------------+--------------------+\n",
      "only showing top 20 rows\n",
      "\n"
     ]
    }
   ],
   "source": [
    "# View user 99's recommendations\n",
    "print (\"User 99 Recommendations:\")\n",
    "binary_recs.filter(F.col(\"userId\") == 99).orderBy('prediction', ascending=False).show()"
   ]
  },
  {
   "cell_type": "markdown",
   "id": "88a0a94b-681a-43c9-bd67-6f3f96a56da2",
   "metadata": {},
   "source": [
    "# Course recap"
   ]
  },
  {
   "cell_type": "markdown",
   "id": "ea8b9903-b3cd-4776-8251-da40cfdb7fe6",
   "metadata": {},
   "source": [
    "## Resources"
   ]
  },
  {
   "cell_type": "markdown",
   "id": "c21916fc-21c4-4132-afae-6b517c47dc6b",
   "metadata": {},
   "source": [
    "* [McKinsey&Company: \"How Retailers Can Keep Up With Consumers\"](https://www.mckinsey.com/industries/retail/our-insights/how-retailers-can-keep-up-with-consumers)\n",
    "\n",
    "    A paper published by McKinsey and Company discussing the power of recommendation engines like ALS based models.\n",
    "\n",
    "* [ALS Data Preparation: Wide to Long Function](https://github.com/jamenlong/ALS_expected_percent_rank_cv/blob/master/wide_to_long_function.py)\n",
    "\n",
    "    Code to build the wide_to_long function discussed in the section about preparing data for ALS.\n",
    "\n",
    "* [Hu, Koren, Volinsky: \"Collaborative Filtering for Implicit Feedback Datasets\"](http://yifanhu.net/PUB/cf.pdf)\n",
    "\n",
    "    White paper that provides the academic background for building ALS models using implicit ratings. I highly recommend reading this paper as it provides a lot of context and insight into how these models work and alternative ways to evaluate them.\n",
    "\n",
    "* [GitHub Repo: Cross Validation With Implicit Ratings in Pyspark](https://github.com/jamenlong/ALS_expected_percent_rank_cv/blob/master/ROEM_cv.py)\n",
    "\n",
    "    GitHub link for code that manages the cross validation and model evaluation for implicit ratings models using ALS in Pyspark\n",
    "\n",
    "* [Pan, Zhou, Cao, Liu, Lukose, Scholz, Yang: \"One Class Collaborative Filtering\"](http://citeseerx.ist.psu.edu/viewdoc/download?doi=10.1.1.306.4684&rep=rep1&type=pdf)\n",
    "\n",
    "    Paper that discusses the math and intuition behind the user-based weighting and item-based weighting methodologies for addressing the class imbalance present in binary ratings models."
   ]
  }
 ],
 "metadata": {
  "kernelspec": {
   "display_name": "Python 3 (ipykernel)",
   "language": "python",
   "name": "python3"
  },
  "language_info": {
   "codemirror_mode": {
    "name": "ipython",
    "version": 3
   },
   "file_extension": ".py",
   "mimetype": "text/x-python",
   "name": "python",
   "nbconvert_exporter": "python",
   "pygments_lexer": "ipython3",
   "version": "3.10.10"
  }
 },
 "nbformat": 4,
 "nbformat_minor": 5
}
