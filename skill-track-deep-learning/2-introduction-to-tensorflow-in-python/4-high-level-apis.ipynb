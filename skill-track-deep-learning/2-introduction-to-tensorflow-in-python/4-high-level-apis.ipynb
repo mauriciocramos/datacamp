{
 "cells": [
  {
   "cell_type": "code",
   "execution_count": 1,
   "id": "ba64ee9f-5dee-4bd2-af04-59181781390a",
   "metadata": {
    "execution": {
     "iopub.execute_input": "2023-02-03T17:00:57.400832Z",
     "iopub.status.busy": "2023-02-03T17:00:57.400631Z",
     "iopub.status.idle": "2023-02-03T17:00:58.656311Z",
     "shell.execute_reply": "2023-02-03T17:00:58.655863Z",
     "shell.execute_reply.started": "2023-02-03T17:00:57.400816Z"
    },
    "tags": []
   },
   "outputs": [],
   "source": [
    "import os\n",
    "os.environ['TF_CPP_MIN_LOG_LEVEL'] = '1'\n",
    "# os.environ['TF_ENABLE_ONEDNN_OPTS'] = '0'\n",
    "import numpy as np\n",
    "import pandas as pd\n",
    "import tensorflow as tf\n",
    "import matplotlib.pyplot as plt\n",
    "plt.style.use('dark_background')"
   ]
  },
  {
   "cell_type": "code",
   "execution_count": 2,
   "id": "a78a3568-a986-4a8c-a1f0-cbd2e3312bd4",
   "metadata": {
    "execution": {
     "iopub.execute_input": "2023-02-03T17:00:58.657696Z",
     "iopub.status.busy": "2023-02-03T17:00:58.657334Z",
     "iopub.status.idle": "2023-02-03T17:00:58.728628Z",
     "shell.execute_reply": "2023-02-03T17:00:58.728240Z",
     "shell.execute_reply.started": "2023-02-03T17:00:58.657679Z"
    },
    "tags": []
   },
   "outputs": [
    {
     "data": {
      "text/plain": [
       "(2000, 785)"
      ]
     },
     "execution_count": 2,
     "metadata": {},
     "output_type": "execute_result"
    }
   ],
   "source": [
    "mnist = pd.read_csv('slmnist.csv', header=None)\n",
    "mnist.shape"
   ]
  },
  {
   "cell_type": "code",
   "execution_count": 3,
   "id": "b83cfa89-7be9-405a-ad7b-da7fba87c232",
   "metadata": {
    "execution": {
     "iopub.execute_input": "2023-02-03T17:00:58.729273Z",
     "iopub.status.busy": "2023-02-03T17:00:58.729116Z",
     "iopub.status.idle": "2023-02-03T17:00:58.733300Z",
     "shell.execute_reply": "2023-02-03T17:00:58.732994Z",
     "shell.execute_reply.started": "2023-02-03T17:00:58.729257Z"
    },
    "tags": []
   },
   "outputs": [
    {
     "data": {
      "text/plain": [
       "1    500\n",
       "0    500\n",
       "3    500\n",
       "2    500\n",
       "Name: 0, dtype: int64"
      ]
     },
     "execution_count": 3,
     "metadata": {},
     "output_type": "execute_result"
    }
   ],
   "source": [
    "mnist[0].value_counts()"
   ]
  },
  {
   "cell_type": "code",
   "execution_count": 4,
   "id": "a416458c-131d-456c-b3b0-76b2ed539849",
   "metadata": {
    "execution": {
     "iopub.execute_input": "2023-02-03T17:00:58.733972Z",
     "iopub.status.busy": "2023-02-03T17:00:58.733743Z",
     "iopub.status.idle": "2023-02-03T17:00:59.139801Z",
     "shell.execute_reply": "2023-02-03T17:00:59.139396Z",
     "shell.execute_reply.started": "2023-02-03T17:00:58.733957Z"
    },
    "tags": []
   },
   "outputs": [
    {
     "data": {
      "text/plain": [
       "<tf.Tensor: shape=(2000, 784), dtype=float32, numpy=\n",
       "array([[142., 143., 146., ...,  65.,  38.,  23.],\n",
       "       [141., 142., 144., ..., 182., 183., 183.],\n",
       "       [156., 157., 160., ..., 198., 193., 182.],\n",
       "       ...,\n",
       "       [177., 179., 180., ..., 239., 233., 240.],\n",
       "       [121., 129., 138., ..., 197., 198., 211.],\n",
       "       [178., 178., 178., ..., 195., 194., 192.]], dtype=float32)>"
      ]
     },
     "execution_count": 4,
     "metadata": {},
     "output_type": "execute_result"
    }
   ],
   "source": [
    "features = tf.constant(mnist.iloc[:,1:].values, dtype='float32')\n",
    "features"
   ]
  },
  {
   "cell_type": "code",
   "execution_count": 5,
   "id": "bfd61262-d179-425a-a0ab-90c7eab0246c",
   "metadata": {
    "execution": {
     "iopub.execute_input": "2023-02-03T17:00:59.140522Z",
     "iopub.status.busy": "2023-02-03T17:00:59.140271Z",
     "iopub.status.idle": "2023-02-03T17:00:59.144685Z",
     "shell.execute_reply": "2023-02-03T17:00:59.144283Z",
     "shell.execute_reply.started": "2023-02-03T17:00:59.140506Z"
    },
    "tags": []
   },
   "outputs": [
    {
     "data": {
      "text/plain": [
       "<tf.Tensor: shape=(2000, 4), dtype=float32, numpy=\n",
       "array([[0., 1., 0., 0.],\n",
       "       [1., 0., 0., 0.],\n",
       "       [0., 1., 0., 0.],\n",
       "       ...,\n",
       "       [0., 0., 1., 0.],\n",
       "       [0., 0., 0., 1.],\n",
       "       [0., 0., 1., 0.]], dtype=float32)>"
      ]
     },
     "execution_count": 5,
     "metadata": {},
     "output_type": "execute_result"
    }
   ],
   "source": [
    "labels = tf.constant(tf.keras.utils.to_categorical(mnist[0].values))\n",
    "labels"
   ]
  },
  {
   "cell_type": "markdown",
   "id": "94244a0d-a1b3-4396-a324-f5d3e27688c4",
   "metadata": {},
   "source": [
    "# Defining neural network with Keras"
   ]
  },
  {
   "cell_type": "markdown",
   "id": "a6eb9867-e698-4e03-b1f8-ca968d561eeb",
   "metadata": {
    "tags": []
   },
   "source": [
    "## The sequential API\n",
    "* Input layer\n",
    "* Hidden layers\n",
    "* Output layer\n",
    "* Ordered in sequence"
   ]
  },
  {
   "cell_type": "markdown",
   "id": "c3e120ce-ae54-448b-a67a-3b2c84eb8ae9",
   "metadata": {},
   "source": [
    "## Building a sequential model"
   ]
  },
  {
   "cell_type": "code",
   "execution_count": 6,
   "id": "b8cdfa09-783d-49b8-b7a2-6c532a639c16",
   "metadata": {
    "execution": {
     "iopub.execute_input": "2023-02-03T17:00:59.145211Z",
     "iopub.status.busy": "2023-02-03T17:00:59.145102Z",
     "iopub.status.idle": "2023-02-03T17:00:59.149038Z",
     "shell.execute_reply": "2023-02-03T17:00:59.148793Z",
     "shell.execute_reply.started": "2023-02-03T17:00:59.145200Z"
    },
    "tags": []
   },
   "outputs": [
    {
     "data": {
      "text/plain": [
       "<keras.engine.sequential.Sequential at 0x7f5b7dff18b0>"
      ]
     },
     "execution_count": 6,
     "metadata": {},
     "output_type": "execute_result"
    }
   ],
   "source": [
    "# Import tensorflow\n",
    "from tensorflow import keras\n",
    "# Define a sequential model\n",
    "model = keras.Sequential()\n",
    "model"
   ]
  },
  {
   "cell_type": "code",
   "execution_count": 7,
   "id": "ca5ddd1c-8fa1-4996-b3bf-4ab4fee9195e",
   "metadata": {
    "execution": {
     "iopub.execute_input": "2023-02-03T17:00:59.150201Z",
     "iopub.status.busy": "2023-02-03T17:00:59.150002Z",
     "iopub.status.idle": "2023-02-03T17:00:59.162084Z",
     "shell.execute_reply": "2023-02-03T17:00:59.161822Z",
     "shell.execute_reply.started": "2023-02-03T17:00:59.150190Z"
    },
    "tags": []
   },
   "outputs": [
    {
     "name": "stdout",
     "output_type": "stream",
     "text": [
      "Model: \"sequential\"\n",
      "_________________________________________________________________\n",
      " Layer (type)                Output Shape              Param #   \n",
      "=================================================================\n",
      " dense (Dense)               (None, 16)                12560     \n",
      "                                                                 \n",
      "=================================================================\n",
      "Total params: 12,560\n",
      "Trainable params: 12,560\n",
      "Non-trainable params: 0\n",
      "_________________________________________________________________\n"
     ]
    }
   ],
   "source": [
    "# Define first hidden layer\n",
    "model.add(keras.layers.Dense(16, activation='relu', input_shape=(28*28,)))\n",
    "model.summary()"
   ]
  },
  {
   "cell_type": "code",
   "execution_count": 8,
   "id": "224a379b-05ce-4b4b-8ac7-2e229921d9ad",
   "metadata": {
    "execution": {
     "iopub.execute_input": "2023-02-03T17:00:59.162586Z",
     "iopub.status.busy": "2023-02-03T17:00:59.162456Z",
     "iopub.status.idle": "2023-02-03T17:00:59.178621Z",
     "shell.execute_reply": "2023-02-03T17:00:59.178332Z",
     "shell.execute_reply.started": "2023-02-03T17:00:59.162576Z"
    },
    "tags": []
   },
   "outputs": [
    {
     "name": "stdout",
     "output_type": "stream",
     "text": [
      "Model: \"sequential\"\n",
      "_________________________________________________________________\n",
      " Layer (type)                Output Shape              Param #   \n",
      "=================================================================\n",
      " dense (Dense)               (None, 16)                12560     \n",
      "                                                                 \n",
      " dense_1 (Dense)             (None, 8)                 136       \n",
      "                                                                 \n",
      " dense_2 (Dense)             (None, 4)                 36        \n",
      "                                                                 \n",
      "=================================================================\n",
      "Total params: 12,732\n",
      "Trainable params: 12,732\n",
      "Non-trainable params: 0\n",
      "_________________________________________________________________\n"
     ]
    }
   ],
   "source": [
    "# Define second hidden layer\n",
    "model.add(keras.layers.Dense(8, activation='relu'))\n",
    "# Define output layer\n",
    "model.add(keras.layers.Dense(4, activation='softmax'))\n",
    "# Compile the model\n",
    "model.compile('adam', loss='categorical_crossentropy')\n",
    "# Summarize the model\n",
    "model.summary()"
   ]
  },
  {
   "cell_type": "markdown",
   "id": "8ceb8aaa-58c4-4f28-b91e-83fd35c0c377",
   "metadata": {},
   "source": [
    "## Using the functional API"
   ]
  },
  {
   "cell_type": "markdown",
   "id": "fa942774-3bf9-4519-9eab-5843fe4a6b5c",
   "metadata": {},
   "source": [
    "But what if you want to train two models jointly to predict the same target? The functional API is for that."
   ]
  },
  {
   "cell_type": "code",
   "execution_count": 9,
   "id": "3b6c64b6-3096-4c7a-94d7-22625680c518",
   "metadata": {
    "execution": {
     "iopub.execute_input": "2023-02-03T17:00:59.179110Z",
     "iopub.status.busy": "2023-02-03T17:00:59.179005Z",
     "iopub.status.idle": "2023-02-03T17:00:59.181815Z",
     "shell.execute_reply": "2023-02-03T17:00:59.181539Z",
     "shell.execute_reply.started": "2023-02-03T17:00:59.179101Z"
    },
    "tags": []
   },
   "outputs": [],
   "source": [
    "# Define model 1 input layer shape\n",
    "model1_inputs = tf.keras.Input(shape=(28*28,))\n",
    "# Define model 2 input layer shape\n",
    "model2_inputs = tf.keras.Input(shape=(10,))"
   ]
  },
  {
   "cell_type": "code",
   "execution_count": 10,
   "id": "edbcb080-a326-4b26-a55d-8e707a3ac45a",
   "metadata": {
    "execution": {
     "iopub.execute_input": "2023-02-03T17:00:59.182364Z",
     "iopub.status.busy": "2023-02-03T17:00:59.182160Z",
     "iopub.status.idle": "2023-02-03T17:00:59.191897Z",
     "shell.execute_reply": "2023-02-03T17:00:59.191597Z",
     "shell.execute_reply.started": "2023-02-03T17:00:59.182353Z"
    },
    "tags": []
   },
   "outputs": [],
   "source": [
    "# Define layer 1 for model 1\n",
    "model1_layer1 = tf.keras.layers.Dense(12, activation='relu')(model1_inputs)\n",
    "# Define layer 2 for model 1\n",
    "model1_layer2 = tf.keras.layers.Dense(4, activation='softmax')(model1_layer1)"
   ]
  },
  {
   "cell_type": "code",
   "execution_count": 11,
   "id": "3765015d-87cb-4de1-95d3-aef3ea081e83",
   "metadata": {
    "execution": {
     "iopub.execute_input": "2023-02-03T17:00:59.192515Z",
     "iopub.status.busy": "2023-02-03T17:00:59.192304Z",
     "iopub.status.idle": "2023-02-03T17:00:59.200724Z",
     "shell.execute_reply": "2023-02-03T17:00:59.200452Z",
     "shell.execute_reply.started": "2023-02-03T17:00:59.192503Z"
    },
    "tags": []
   },
   "outputs": [],
   "source": [
    "# Define layer 1 for model 2\n",
    "model2_layer1 = tf.keras.layers.Dense(8, activation='relu')(model2_inputs)\n",
    "# Define layer 2 for model 2\n",
    "model2_layer2 = tf.keras.layers.Dense(4, activation='softmax')(model2_layer1)"
   ]
  },
  {
   "cell_type": "code",
   "execution_count": 12,
   "id": "55bb2950-1c18-4fe7-b7fd-36a9ab912d17",
   "metadata": {
    "execution": {
     "iopub.execute_input": "2023-02-03T17:00:59.201333Z",
     "iopub.status.busy": "2023-02-03T17:00:59.201115Z",
     "iopub.status.idle": "2023-02-03T17:00:59.206813Z",
     "shell.execute_reply": "2023-02-03T17:00:59.206520Z",
     "shell.execute_reply.started": "2023-02-03T17:00:59.201322Z"
    },
    "tags": []
   },
   "outputs": [
    {
     "data": {
      "text/plain": [
       "<keras.engine.functional.Functional at 0x7f5b700eddf0>"
      ]
     },
     "execution_count": 12,
     "metadata": {},
     "output_type": "execute_result"
    }
   ],
   "source": [
    "# Merge model 1 and model 2\n",
    "merged = tf.keras.layers.add([model1_layer2, model2_layer2])\n",
    "# Define a functional model\n",
    "model = tf.keras.Model(inputs=[model1_inputs, model2_inputs], outputs=merged)\n",
    "model"
   ]
  },
  {
   "cell_type": "code",
   "execution_count": 13,
   "id": "7333f69b-001d-4c8b-be03-e08a78d2467e",
   "metadata": {
    "execution": {
     "iopub.execute_input": "2023-02-03T17:00:59.207321Z",
     "iopub.status.busy": "2023-02-03T17:00:59.207210Z",
     "iopub.status.idle": "2023-02-03T17:00:59.213888Z",
     "shell.execute_reply": "2023-02-03T17:00:59.213643Z",
     "shell.execute_reply.started": "2023-02-03T17:00:59.207310Z"
    },
    "tags": []
   },
   "outputs": [
    {
     "name": "stdout",
     "output_type": "stream",
     "text": [
      "Model: \"model\"\n",
      "__________________________________________________________________________________________________\n",
      " Layer (type)                   Output Shape         Param #     Connected to                     \n",
      "==================================================================================================\n",
      " input_1 (InputLayer)           [(None, 784)]        0           []                               \n",
      "                                                                                                  \n",
      " input_2 (InputLayer)           [(None, 10)]         0           []                               \n",
      "                                                                                                  \n",
      " dense_3 (Dense)                (None, 12)           9420        ['input_1[0][0]']                \n",
      "                                                                                                  \n",
      " dense_5 (Dense)                (None, 8)            88          ['input_2[0][0]']                \n",
      "                                                                                                  \n",
      " dense_4 (Dense)                (None, 4)            52          ['dense_3[0][0]']                \n",
      "                                                                                                  \n",
      " dense_6 (Dense)                (None, 4)            36          ['dense_5[0][0]']                \n",
      "                                                                                                  \n",
      " add (Add)                      (None, 4)            0           ['dense_4[0][0]',                \n",
      "                                                                  'dense_6[0][0]']                \n",
      "                                                                                                  \n",
      "==================================================================================================\n",
      "Total params: 9,596\n",
      "Trainable params: 9,596\n",
      "Non-trainable params: 0\n",
      "__________________________________________________________________________________________________\n"
     ]
    }
   ],
   "source": [
    "model.summary()"
   ]
  },
  {
   "cell_type": "code",
   "execution_count": 14,
   "id": "f2940675-a3ef-4ab4-8709-5353f6099ccd",
   "metadata": {
    "execution": {
     "iopub.execute_input": "2023-02-03T17:00:59.214421Z",
     "iopub.status.busy": "2023-02-03T17:00:59.214257Z",
     "iopub.status.idle": "2023-02-03T17:00:59.218326Z",
     "shell.execute_reply": "2023-02-03T17:00:59.218069Z",
     "shell.execute_reply.started": "2023-02-03T17:00:59.214411Z"
    },
    "tags": []
   },
   "outputs": [
    {
     "data": {
      "text/plain": [
       "<keras.engine.functional.Functional at 0x7f5b700eddf0>"
      ]
     },
     "execution_count": 14,
     "metadata": {},
     "output_type": "execute_result"
    }
   ],
   "source": [
    "# Compile the model\n",
    "model.compile('adam', loss='categorical_crossentropy')\n",
    "model"
   ]
  },
  {
   "cell_type": "markdown",
   "id": "583c24dc-2714-454d-a74d-c1ba2791e0b8",
   "metadata": {},
   "source": [
    "## Exercises"
   ]
  },
  {
   "cell_type": "markdown",
   "id": "a970f8d4-d36c-48fc-b8b2-3f595886afd1",
   "metadata": {},
   "source": [
    "### The sequential model in Keras\n",
    "\n",
    "In chapter 3, we used components of the keras API in tensorflow to define a neural network, but we stopped short of using its full capabilities to streamline model definition and training. In this exercise, you will use the keras sequential model API to define a neural network that can be used to classify images of sign language letters. You will also use the .summary() method to print the model's architecture, including the shape and number of parameters associated with each layer."
   ]
  },
  {
   "cell_type": "code",
   "execution_count": 15,
   "id": "e9856432-215a-45bc-8afa-78b454a9525f",
   "metadata": {
    "execution": {
     "iopub.execute_input": "2023-02-03T17:00:59.218914Z",
     "iopub.status.busy": "2023-02-03T17:00:59.218682Z",
     "iopub.status.idle": "2023-02-03T17:00:59.235745Z",
     "shell.execute_reply": "2023-02-03T17:00:59.235454Z",
     "shell.execute_reply.started": "2023-02-03T17:00:59.218903Z"
    },
    "tags": []
   },
   "outputs": [
    {
     "name": "stdout",
     "output_type": "stream",
     "text": [
      "Model: \"sequential_1\"\n",
      "_________________________________________________________________\n",
      " Layer (type)                Output Shape              Param #   \n",
      "=================================================================\n",
      " dense_7 (Dense)             (None, 16)                12560     \n",
      "                                                                 \n",
      " dense_8 (Dense)             (None, 8)                 136       \n",
      "                                                                 \n",
      " dense_9 (Dense)             (None, 4)                 36        \n",
      "                                                                 \n",
      "=================================================================\n",
      "Total params: 12,732\n",
      "Trainable params: 12,732\n",
      "Non-trainable params: 0\n",
      "_________________________________________________________________\n",
      "None\n"
     ]
    }
   ],
   "source": [
    "# Define a Keras sequential model\n",
    "model = keras.Sequential()\n",
    "# Define the first dense layer\n",
    "model.add(keras.layers.Dense(16, activation='relu', input_shape=(784,)))\n",
    "# Define the second dense layer\n",
    "model.add(keras.layers.Dense(8, activation='relu'))\n",
    "# Define the output layer\n",
    "model.add(keras.layers.Dense(4, activation='softmax'))\n",
    "# Print the model architecture\n",
    "print(model.summary())"
   ]
  },
  {
   "cell_type": "markdown",
   "id": "0c1b972e-565b-4ed1-b6a4-57a22ae95bdd",
   "metadata": {},
   "source": [
    "Notice that we've defined a model, but we haven't compiled it.\n",
    "\n",
    "The compilation step in keras allows us to set the **optimizer, loss function, and other useful training parameters in a single line of code.**"
   ]
  },
  {
   "cell_type": "markdown",
   "id": "28e322e9-2f85-486f-a6fe-e24d0df5efaa",
   "metadata": {},
   "source": [
    "### Compiling a sequential model\n",
    "\n",
    "In this exercise, you will work towards classifying letters from the Sign Language MNIST dataset; however, you will adopt a different network architecture than what you used in the previous exercise. There will be fewer layers, but more nodes. You will also apply dropout to prevent overfitting. Finally, you will compile the model to use the adam optimizer and the categorical_crossentropy loss. You will also use a method in keras to summarize your model's architecture. Note that keras has been imported from tensorflow for you and a sequential keras model has been defined as model."
   ]
  },
  {
   "cell_type": "code",
   "execution_count": 16,
   "id": "7c1b80a6-e0ea-4b96-b8e8-a559443f8e9d",
   "metadata": {
    "execution": {
     "iopub.execute_input": "2023-02-03T17:00:59.236489Z",
     "iopub.status.busy": "2023-02-03T17:00:59.236227Z",
     "iopub.status.idle": "2023-02-03T17:00:59.253565Z",
     "shell.execute_reply": "2023-02-03T17:00:59.253156Z",
     "shell.execute_reply.started": "2023-02-03T17:00:59.236471Z"
    },
    "tags": []
   },
   "outputs": [
    {
     "name": "stdout",
     "output_type": "stream",
     "text": [
      "Model: \"sequential_2\"\n",
      "_________________________________________________________________\n",
      " Layer (type)                Output Shape              Param #   \n",
      "=================================================================\n",
      " dense_10 (Dense)            (None, 16)                12560     \n",
      "                                                                 \n",
      " dropout (Dropout)           (None, 16)                0         \n",
      "                                                                 \n",
      " dense_11 (Dense)            (None, 4)                 68        \n",
      "                                                                 \n",
      "=================================================================\n",
      "Total params: 12,628\n",
      "Trainable params: 12,628\n",
      "Non-trainable params: 0\n",
      "_________________________________________________________________\n"
     ]
    }
   ],
   "source": [
    "model = keras.Sequential()\n",
    "# Define the first dense layer\n",
    "model.add(keras.layers.Dense(16, activation='sigmoid', input_shape=(784,)))\n",
    "# Apply dropout to the first layer's output\n",
    "model.add(keras.layers.Dropout(0.25))\n",
    "# Define the output layer\n",
    "model.add(keras.layers.Dense(4, activation='softmax'))\n",
    "# Compile the model\n",
    "model.compile('adam', loss='categorical_crossentropy')\n",
    "# Print a model summary\n",
    "model.summary()"
   ]
  },
  {
   "cell_type": "markdown",
   "id": "4f0f38dc-49c5-4aad-98b7-7c5f13418f1a",
   "metadata": {},
   "source": [
    "### Defining a multiple input model\n",
    "\n",
    "In some cases, the sequential API will not be sufficiently flexible to accommodate your desired model architecture and you will need to use the functional API instead. If, for instance, you want to train two models with different architectures jointly, you will need to use the functional API to do this. In this exercise, we will see how to do this. We will also use the .summary() method to examine the joint model's architecture.\n",
    "\n",
    "Note that keras has been imported from tensorflow for you. Additionally, the input layers of the first and second models have been defined as m1_inputs and m2_inputs, respectively. Note that the two models have the same architecture, but one of them uses a sigmoid activation in the first layer and the other uses a relu."
   ]
  },
  {
   "cell_type": "code",
   "execution_count": 17,
   "id": "206ac03f-e217-4cdb-977d-4799f66b268d",
   "metadata": {
    "execution": {
     "iopub.execute_input": "2023-02-03T17:00:59.254403Z",
     "iopub.status.busy": "2023-02-03T17:00:59.254150Z",
     "iopub.status.idle": "2023-02-03T17:00:59.257542Z",
     "shell.execute_reply": "2023-02-03T17:00:59.257127Z",
     "shell.execute_reply.started": "2023-02-03T17:00:59.254391Z"
    },
    "tags": []
   },
   "outputs": [],
   "source": [
    "# Define model 1 input layer shape\n",
    "m1_inputs = tf.keras.Input(shape=(28*28,))\n",
    "# Define model 2 input layer shape\n",
    "m2_inputs = tf.keras.Input(shape=(10,))"
   ]
  },
  {
   "cell_type": "code",
   "execution_count": 18,
   "id": "98bdbc37-8ad6-4a78-a8f2-75626355d533",
   "metadata": {
    "execution": {
     "iopub.execute_input": "2023-02-03T17:00:59.258172Z",
     "iopub.status.busy": "2023-02-03T17:00:59.258047Z",
     "iopub.status.idle": "2023-02-03T17:00:59.280916Z",
     "shell.execute_reply": "2023-02-03T17:00:59.280642Z",
     "shell.execute_reply.started": "2023-02-03T17:00:59.258160Z"
    },
    "tags": []
   },
   "outputs": [
    {
     "name": "stdout",
     "output_type": "stream",
     "text": [
      "Model: \"model_1\"\n",
      "__________________________________________________________________________________________________\n",
      " Layer (type)                   Output Shape         Param #     Connected to                     \n",
      "==================================================================================================\n",
      " input_3 (InputLayer)           [(None, 784)]        0           []                               \n",
      "                                                                                                  \n",
      " input_4 (InputLayer)           [(None, 10)]         0           []                               \n",
      "                                                                                                  \n",
      " dense_12 (Dense)               (None, 12)           9420        ['input_3[0][0]']                \n",
      "                                                                                                  \n",
      " dense_14 (Dense)               (None, 12)           132         ['input_4[0][0]']                \n",
      "                                                                                                  \n",
      " dense_13 (Dense)               (None, 4)            52          ['dense_12[0][0]']               \n",
      "                                                                                                  \n",
      " dense_15 (Dense)               (None, 4)            52          ['dense_14[0][0]']               \n",
      "                                                                                                  \n",
      " add_1 (Add)                    (None, 4)            0           ['dense_13[0][0]',               \n",
      "                                                                  'dense_15[0][0]']               \n",
      "                                                                                                  \n",
      "==================================================================================================\n",
      "Total params: 9,656\n",
      "Trainable params: 9,656\n",
      "Non-trainable params: 0\n",
      "__________________________________________________________________________________________________\n"
     ]
    }
   ],
   "source": [
    "# For model 1, pass the input layer to layer 1 and layer 1 to layer 2\n",
    "m1_layer1 = keras.layers.Dense(12, activation='sigmoid')(m1_inputs)\n",
    "m1_layer2 = keras.layers.Dense(4, activation='softmax')(m1_layer1)\n",
    "# For model 2, pass the input layer to layer 1 and layer 1 to layer 2\n",
    "m2_layer1 = keras.layers.Dense(12, activation='relu')(m2_inputs)\n",
    "m2_layer2 = keras.layers.Dense(4, activation='softmax')(m2_layer1)\n",
    "# Merge model outputs and define a functional model\n",
    "merged = keras.layers.add([m1_layer2, m2_layer2])\n",
    "model = keras.Model(inputs=[m1_inputs, m2_inputs], outputs=merged)\n",
    "# Print a model summary\n",
    "model.summary()"
   ]
  },
  {
   "cell_type": "markdown",
   "id": "a07bac67-be9f-4a85-9251-e37d4f0641e7",
   "metadata": {},
   "source": [
    "Notice that the .summary() method yields a new column: connected to. This column tells you how layers connect to each other within the network."
   ]
  },
  {
   "cell_type": "markdown",
   "id": "bfcd5683-a9ee-454d-b176-e0f7b3e40616",
   "metadata": {
    "tags": []
   },
   "source": [
    "# Training and validation with Keras"
   ]
  },
  {
   "cell_type": "markdown",
   "id": "1d928456-ba35-4aa4-8639-3bec3c2255df",
   "metadata": {
    "tags": []
   },
   "source": [
    "## Overview of training and evaluation\n",
    "1. Load and clean data\n",
    "2. Define model\n",
    "3. Train and validate model\n",
    "4. Evaluate model"
   ]
  },
  {
   "cell_type": "markdown",
   "id": "583455c4-7840-4b20-8e8c-02ef139bb543",
   "metadata": {},
   "source": [
    "## How to train a model"
   ]
  },
  {
   "cell_type": "code",
   "execution_count": 19,
   "id": "ddc4fa03-4497-4659-ab7d-0ea6de940774",
   "metadata": {
    "execution": {
     "iopub.execute_input": "2023-02-03T17:00:59.281404Z",
     "iopub.status.busy": "2023-02-03T17:00:59.281293Z",
     "iopub.status.idle": "2023-02-03T17:00:59.283509Z",
     "shell.execute_reply": "2023-02-03T17:00:59.283277Z",
     "shell.execute_reply.started": "2023-02-03T17:00:59.281394Z"
    },
    "tags": []
   },
   "outputs": [
    {
     "data": {
      "text/plain": [
       "(TensorShape([2000, 784]), TensorShape([2000, 4]))"
      ]
     },
     "execution_count": 19,
     "metadata": {},
     "output_type": "execute_result"
    }
   ],
   "source": [
    "features.shape, labels.shape"
   ]
  },
  {
   "cell_type": "code",
   "execution_count": 20,
   "id": "b59d1968-c30d-4b9f-9e21-3e8a3c255ca7",
   "metadata": {
    "execution": {
     "iopub.execute_input": "2023-02-03T17:00:59.283972Z",
     "iopub.status.busy": "2023-02-03T17:00:59.283874Z",
     "iopub.status.idle": "2023-02-03T17:00:59.294801Z",
     "shell.execute_reply": "2023-02-03T17:00:59.294513Z",
     "shell.execute_reply.started": "2023-02-03T17:00:59.283963Z"
    },
    "tags": []
   },
   "outputs": [],
   "source": [
    "# Define a sequential model\n",
    "model = tf.keras.Sequential()\n",
    "# Define the hidden layer\n",
    "model.add(tf.keras.layers.Dense(16, activation='relu', input_shape=(784,)))\n",
    "# Define the output layer\n",
    "model.add(tf.keras.layers.Dense(4, activation='softmax'))"
   ]
  },
  {
   "cell_type": "code",
   "execution_count": 21,
   "id": "2c8cbd2e-c544-4681-a20b-d296838c47f1",
   "metadata": {
    "execution": {
     "iopub.execute_input": "2023-02-03T17:00:59.295283Z",
     "iopub.status.busy": "2023-02-03T17:00:59.295180Z",
     "iopub.status.idle": "2023-02-03T17:00:59.298815Z",
     "shell.execute_reply": "2023-02-03T17:00:59.298550Z",
     "shell.execute_reply.started": "2023-02-03T17:00:59.295272Z"
    },
    "tags": []
   },
   "outputs": [],
   "source": [
    "# Compile model\n",
    "model.compile('adam', loss='categorical_crossentropy')"
   ]
  },
  {
   "cell_type": "code",
   "execution_count": 22,
   "id": "dc7cc219-c4f3-403c-aff2-4219faa1488c",
   "metadata": {
    "execution": {
     "iopub.execute_input": "2023-02-03T17:00:59.300598Z",
     "iopub.status.busy": "2023-02-03T17:00:59.300408Z",
     "iopub.status.idle": "2023-02-03T17:00:59.980881Z",
     "shell.execute_reply": "2023-02-03T17:00:59.980524Z",
     "shell.execute_reply.started": "2023-02-03T17:00:59.300588Z"
    },
    "tags": []
   },
   "outputs": [
    {
     "name": "stdout",
     "output_type": "stream",
     "text": [
      "63/63 [==============================] - 1s 727us/step - loss: 8.9204\n"
     ]
    },
    {
     "data": {
      "text/plain": [
       "<keras.callbacks.History at 0x7f5b70091280>"
      ]
     },
     "execution_count": 22,
     "metadata": {},
     "output_type": "execute_result"
    }
   ],
   "source": [
    "# Train model\n",
    "model.fit(features, labels)"
   ]
  },
  {
   "cell_type": "markdown",
   "id": "1d911b69-1b48-439d-b746-889ac6018604",
   "metadata": {},
   "source": [
    "## The fit() operation\n",
    "* Required arguments\n",
    "    * features\n",
    "    * labels\n",
    "* Many optional arguments\n",
    "    * batch_size\n",
    "    * epochs\n",
    "    * validation_split"
   ]
  },
  {
   "cell_type": "markdown",
   "id": "ab746559-272a-4b7e-b903-d804df7b59d0",
   "metadata": {},
   "source": [
    "## Performing validation"
   ]
  },
  {
   "cell_type": "code",
   "execution_count": 23,
   "id": "834081b5-a162-438d-81ae-4a94045c0ec1",
   "metadata": {
    "execution": {
     "iopub.execute_input": "2023-02-03T17:00:59.981490Z",
     "iopub.status.busy": "2023-02-03T17:00:59.981383Z",
     "iopub.status.idle": "2023-02-03T17:01:00.569167Z",
     "shell.execute_reply": "2023-02-03T17:01:00.568813Z",
     "shell.execute_reply.started": "2023-02-03T17:00:59.981479Z"
    },
    "tags": []
   },
   "outputs": [
    {
     "name": "stdout",
     "output_type": "stream",
     "text": [
      "Epoch 1/10\n",
      "50/50 [==============================] - 0s 2ms/step - loss: 1.3863 - val_loss: 1.3870\n",
      "Epoch 2/10\n",
      "50/50 [==============================] - 0s 990us/step - loss: 1.3862 - val_loss: 1.3874\n",
      "Epoch 3/10\n",
      "50/50 [==============================] - 0s 1ms/step - loss: 1.3861 - val_loss: 1.3877\n",
      "Epoch 4/10\n",
      "50/50 [==============================] - 0s 981us/step - loss: 1.3860 - val_loss: 1.3883\n",
      "Epoch 5/10\n",
      "50/50 [==============================] - 0s 999us/step - loss: 1.3860 - val_loss: 1.3884\n",
      "Epoch 6/10\n",
      "50/50 [==============================] - 0s 984us/step - loss: 1.3860 - val_loss: 1.3887\n",
      "Epoch 7/10\n",
      "50/50 [==============================] - 0s 992us/step - loss: 1.3860 - val_loss: 1.3890\n",
      "Epoch 8/10\n",
      "50/50 [==============================] - 0s 979us/step - loss: 1.3859 - val_loss: 1.3892\n",
      "Epoch 9/10\n",
      "50/50 [==============================] - 0s 1ms/step - loss: 1.3859 - val_loss: 1.3895\n",
      "Epoch 10/10\n",
      "50/50 [==============================] - 0s 1ms/step - loss: 1.3860 - val_loss: 1.3895\n"
     ]
    },
    {
     "data": {
      "text/plain": [
       "<keras.callbacks.History at 0x7f5b4e6fedc0>"
      ]
     },
     "execution_count": 23,
     "metadata": {},
     "output_type": "execute_result"
    }
   ],
   "source": [
    "# Train model with validation split\n",
    "model.fit(features, labels, epochs=10, validation_split=0.20)"
   ]
  },
  {
   "cell_type": "markdown",
   "id": "a6aa4ff3-4490-4473-ad92-007f04d85012",
   "metadata": {},
   "source": [
    "## Changing the metric"
   ]
  },
  {
   "cell_type": "code",
   "execution_count": 24,
   "id": "b829e5ee-65fe-46f8-b68d-fcbeeb20d3f6",
   "metadata": {
    "execution": {
     "iopub.execute_input": "2023-02-03T17:01:00.569699Z",
     "iopub.status.busy": "2023-02-03T17:01:00.569560Z",
     "iopub.status.idle": "2023-02-03T17:01:01.246622Z",
     "shell.execute_reply": "2023-02-03T17:01:01.246278Z",
     "shell.execute_reply.started": "2023-02-03T17:01:00.569689Z"
    },
    "tags": []
   },
   "outputs": [
    {
     "name": "stdout",
     "output_type": "stream",
     "text": [
      "Epoch 1/10\n",
      "50/50 [==============================] - 0s 2ms/step - loss: 1.3860 - accuracy: 0.2569 - val_loss: 1.3897 - val_accuracy: 0.2225\n",
      "Epoch 2/10\n",
      "50/50 [==============================] - 0s 952us/step - loss: 1.3860 - accuracy: 0.2569 - val_loss: 1.3900 - val_accuracy: 0.2225\n",
      "Epoch 3/10\n",
      "50/50 [==============================] - 0s 945us/step - loss: 1.3860 - accuracy: 0.2569 - val_loss: 1.3897 - val_accuracy: 0.2225\n",
      "Epoch 4/10\n",
      "50/50 [==============================] - 0s 918us/step - loss: 1.3859 - accuracy: 0.2569 - val_loss: 1.3900 - val_accuracy: 0.2225\n",
      "Epoch 5/10\n",
      "50/50 [==============================] - 0s 923us/step - loss: 1.3859 - accuracy: 0.2569 - val_loss: 1.3900 - val_accuracy: 0.2225\n",
      "Epoch 6/10\n",
      "50/50 [==============================] - 0s 924us/step - loss: 1.3859 - accuracy: 0.2569 - val_loss: 1.3902 - val_accuracy: 0.2225\n",
      "Epoch 7/10\n",
      "50/50 [==============================] - 0s 932us/step - loss: 1.3859 - accuracy: 0.2569 - val_loss: 1.3904 - val_accuracy: 0.2225\n",
      "Epoch 8/10\n",
      "50/50 [==============================] - 0s 928us/step - loss: 1.3859 - accuracy: 0.2569 - val_loss: 1.3903 - val_accuracy: 0.2225\n",
      "Epoch 9/10\n",
      "50/50 [==============================] - 0s 969us/step - loss: 1.3859 - accuracy: 0.2569 - val_loss: 1.3906 - val_accuracy: 0.2225\n",
      "Epoch 10/10\n",
      "50/50 [==============================] - 0s 966us/step - loss: 1.3859 - accuracy: 0.2569 - val_loss: 1.3904 - val_accuracy: 0.2225\n"
     ]
    },
    {
     "data": {
      "text/plain": [
       "<keras.callbacks.History at 0x7f5b39794e50>"
      ]
     },
     "execution_count": 24,
     "metadata": {},
     "output_type": "execute_result"
    }
   ],
   "source": [
    "# Recompile the model with the accuracy metric\n",
    "model.compile('adam', loss='categorical_crossentropy', metrics=['accuracy'])\n",
    "# Train model with validation split\n",
    "model.fit(features, labels, epochs=10, validation_split=0.20)"
   ]
  },
  {
   "cell_type": "markdown",
   "id": "e6bfc8a0-0cfd-48e5-a8e5-01c7ef27f9a8",
   "metadata": {},
   "source": [
    "## Exercises"
   ]
  },
  {
   "cell_type": "markdown",
   "id": "85095013-5449-4ee9-a60f-d7cb8c5bd80b",
   "metadata": {},
   "source": [
    "#### Training with Keras\n",
    "\n",
    "In this exercise, we return to our sign language letter classification problem. We have 2000 images of four letters--A, B, C, and D--and we want to classify them with a high level of accuracy. We will complete all parts of the problem, including the model definition, compilation, and training.\n",
    "\n",
    "Note that keras has been imported from tensorflow for you. Additionally, the features are available as sign_language_features and the targets are available as sign_language_labels."
   ]
  },
  {
   "cell_type": "code",
   "execution_count": 25,
   "id": "b97ee9fc-7e8a-4662-973e-d9dff17ae933",
   "metadata": {
    "execution": {
     "iopub.execute_input": "2023-02-03T17:01:01.247114Z",
     "iopub.status.busy": "2023-02-03T17:01:01.247012Z",
     "iopub.status.idle": "2023-02-03T17:01:01.580131Z",
     "shell.execute_reply": "2023-02-03T17:01:01.579870Z",
     "shell.execute_reply.started": "2023-02-03T17:01:01.247104Z"
    },
    "tags": []
   },
   "outputs": [
    {
     "name": "stdout",
     "output_type": "stream",
     "text": [
      "Epoch 1/5\n",
      "63/63 [==============================] - 0s 683us/step - loss: 62376.4883\n",
      "Epoch 2/5\n",
      "63/63 [==============================] - 0s 634us/step - loss: 1.3864\n",
      "Epoch 3/5\n",
      "63/63 [==============================] - 0s 635us/step - loss: 1.3864\n",
      "Epoch 4/5\n",
      "63/63 [==============================] - 0s 622us/step - loss: 1.3864\n",
      "Epoch 5/5\n",
      "63/63 [==============================] - 0s 649us/step - loss: 1.3864\n"
     ]
    },
    {
     "data": {
      "text/plain": [
       "<keras.callbacks.History at 0x7f5b30bb0280>"
      ]
     },
     "execution_count": 25,
     "metadata": {},
     "output_type": "execute_result"
    }
   ],
   "source": [
    "# Define a sequential model\n",
    "model = keras.Sequential()\n",
    "# Define a hidden layer\n",
    "model.add(keras.layers.Dense(16, activation='relu', input_shape=(784,)))\n",
    "# Define the output layer\n",
    "model.add(keras.layers.Dense(4, activation='softmax'))\n",
    "# Compile the model\n",
    "model.compile('SGD', loss='categorical_crossentropy')\n",
    "\n",
    "# Complete the fitting operation\n",
    "model.fit(features, labels, epochs=5)"
   ]
  },
  {
   "cell_type": "markdown",
   "id": "7225ad96-2226-4498-811d-ee055deaf04c",
   "metadata": {},
   "source": [
    "#### Metrics and validation with Keras\n",
    "\n",
    "We trained a model to predict sign language letters in the previous exercise, but it is unclear how successful we were in doing so. In this exercise, we will try to improve upon the interpretability of our results. Since we did not use a validation split, we only observed performance improvements within the training set; however, it is unclear how much of that was due to overfitting. Furthermore, since we did not supply a metric, we only saw decreases in the loss function, which do not have any clear interpretation.\n",
    "\n",
    "Note that keras has been imported for you from tensorflow."
   ]
  },
  {
   "cell_type": "code",
   "execution_count": 26,
   "id": "366ad852-ea93-40e0-b295-86f0201e27c1",
   "metadata": {
    "execution": {
     "iopub.execute_input": "2023-02-03T17:01:01.580622Z",
     "iopub.status.busy": "2023-02-03T17:01:01.580516Z",
     "iopub.status.idle": "2023-02-03T17:01:02.383022Z",
     "shell.execute_reply": "2023-02-03T17:01:02.382755Z",
     "shell.execute_reply.started": "2023-02-03T17:01:01.580612Z"
    },
    "tags": []
   },
   "outputs": [
    {
     "name": "stdout",
     "output_type": "stream",
     "text": [
      "Epoch 1/10\n",
      "57/57 [==============================] - 0s 2ms/step - loss: 1.4584 - accuracy: 0.2472 - val_loss: 1.3975 - val_accuracy: 0.2800\n",
      "Epoch 2/10\n",
      "57/57 [==============================] - 0s 975us/step - loss: 1.3904 - accuracy: 0.2450 - val_loss: 1.3864 - val_accuracy: 0.2550\n",
      "Epoch 3/10\n",
      "57/57 [==============================] - 0s 965us/step - loss: 1.3882 - accuracy: 0.2400 - val_loss: 1.3874 - val_accuracy: 0.2150\n",
      "Epoch 4/10\n",
      "57/57 [==============================] - 0s 997us/step - loss: 1.3880 - accuracy: 0.2406 - val_loss: 1.3884 - val_accuracy: 0.2150\n",
      "Epoch 5/10\n",
      "57/57 [==============================] - 0s 945us/step - loss: 1.3875 - accuracy: 0.2494 - val_loss: 1.3895 - val_accuracy: 0.2150\n",
      "Epoch 6/10\n",
      "57/57 [==============================] - 0s 980us/step - loss: 1.3875 - accuracy: 0.2472 - val_loss: 1.3866 - val_accuracy: 0.2550\n",
      "Epoch 7/10\n",
      "57/57 [==============================] - 0s 985us/step - loss: 1.3877 - accuracy: 0.2567 - val_loss: 1.3942 - val_accuracy: 0.2150\n",
      "Epoch 8/10\n",
      "57/57 [==============================] - 0s 958us/step - loss: 1.3878 - accuracy: 0.2572 - val_loss: 1.3862 - val_accuracy: 0.2550\n",
      "Epoch 9/10\n",
      "57/57 [==============================] - 0s 963us/step - loss: 1.3882 - accuracy: 0.2333 - val_loss: 1.3878 - val_accuracy: 0.2550\n",
      "Epoch 10/10\n",
      "57/57 [==============================] - 0s 950us/step - loss: 1.3876 - accuracy: 0.2383 - val_loss: 1.3864 - val_accuracy: 0.2550\n"
     ]
    },
    {
     "data": {
      "text/plain": [
       "<keras.callbacks.History at 0x7f5b30adc070>"
      ]
     },
     "execution_count": 26,
     "metadata": {},
     "output_type": "execute_result"
    }
   ],
   "source": [
    "# Define sequential model\n",
    "model = keras.Sequential()\n",
    "# Define the first layer\n",
    "model.add(keras.layers.Dense(32, activation='sigmoid', input_shape=(784,)))\n",
    "# Add activation function to classifier\n",
    "model.add(keras.layers.Dense(4, activation='softmax'))\n",
    "# Set the optimizer, loss function, and metrics\n",
    "model.compile(optimizer='RMSprop', loss='categorical_crossentropy', metrics=['accuracy'])\n",
    "# Add the number of epochs and the validation split\n",
    "model.fit(features, labels, epochs=10, validation_split=0.1)"
   ]
  },
  {
   "cell_type": "markdown",
   "id": "209479f9-f49c-4d58-b4f2-afdaec5a802d",
   "metadata": {},
   "source": [
    "#### Overfitting detection\n",
    "\n",
    "In this exercise, we'll work with a small subset of the examples from the original sign language letters dataset. A small sample, coupled with a heavily-parameterized model, will generally lead to overfitting. This means that your model will simply memorize the class of each example, rather than identifying features that generalize to many examples.\n",
    "\n",
    "You will detect overfitting by checking whether the validation sample loss is substantially higher than the training sample loss and whether it increases with further training. With a small sample and a high learning rate, the model will struggle to converge on an optimum. You will set a low learning rate for the optimizer, which will make it easier to identify overfitting.\n",
    "\n",
    "Note that keras has been imported from tensorflow."
   ]
  },
  {
   "cell_type": "code",
   "execution_count": 27,
   "id": "ee9bab73-83fc-41c5-a951-9a23ddefc12b",
   "metadata": {
    "execution": {
     "iopub.execute_input": "2023-02-03T17:01:02.383550Z",
     "iopub.status.busy": "2023-02-03T17:01:02.383414Z",
     "iopub.status.idle": "2023-02-03T17:01:05.276743Z",
     "shell.execute_reply": "2023-02-03T17:01:05.276454Z",
     "shell.execute_reply.started": "2023-02-03T17:01:02.383539Z"
    },
    "tags": []
   },
   "outputs": [
    {
     "name": "stdout",
     "output_type": "stream",
     "text": [
      "Epoch 1/50\n",
      "32/32 [==============================] - 0s 3ms/step - loss: 455.6638 - accuracy: 0.3280 - val_loss: 47.0746 - val_accuracy: 0.3890\n",
      "Epoch 2/50\n",
      "32/32 [==============================] - 0s 2ms/step - loss: 24.6601 - accuracy: 0.6690 - val_loss: 2.5675 - val_accuracy: 0.8890\n",
      "Epoch 3/50\n",
      "32/32 [==============================] - 0s 2ms/step - loss: 2.5050 - accuracy: 0.9020 - val_loss: 1.5242 - val_accuracy: 0.9330\n",
      "Epoch 4/50\n",
      "32/32 [==============================] - 0s 2ms/step - loss: 0.7553 - accuracy: 0.9620 - val_loss: 1.0086 - val_accuracy: 0.9440\n",
      "Epoch 5/50\n",
      "32/32 [==============================] - 0s 2ms/step - loss: 1.6190 - accuracy: 0.9500 - val_loss: 0.3958 - val_accuracy: 0.9750\n",
      "Epoch 6/50\n",
      "32/32 [==============================] - 0s 2ms/step - loss: 0.2773 - accuracy: 0.9790 - val_loss: 0.1300 - val_accuracy: 0.9880\n",
      "Epoch 7/50\n",
      "32/32 [==============================] - 0s 2ms/step - loss: 1.1890 - accuracy: 0.9430 - val_loss: 0.7009 - val_accuracy: 0.9560\n",
      "Epoch 8/50\n",
      "32/32 [==============================] - 0s 2ms/step - loss: 4.8444 - accuracy: 0.8800 - val_loss: 0.5761 - val_accuracy: 0.9780\n",
      "Epoch 9/50\n",
      "32/32 [==============================] - 0s 2ms/step - loss: 2.4031 - accuracy: 0.9230 - val_loss: 0.5672 - val_accuracy: 0.9760\n",
      "Epoch 10/50\n",
      "32/32 [==============================] - 0s 2ms/step - loss: 4.2025 - accuracy: 0.9240 - val_loss: 0.7739 - val_accuracy: 0.9630\n",
      "Epoch 11/50\n",
      "32/32 [==============================] - 0s 2ms/step - loss: 0.1271 - accuracy: 0.9890 - val_loss: 0.6892 - val_accuracy: 0.9750\n",
      "Epoch 12/50\n",
      "32/32 [==============================] - 0s 2ms/step - loss: 1.8599e-04 - accuracy: 1.0000 - val_loss: 0.2459 - val_accuracy: 0.9890\n",
      "Epoch 13/50\n",
      "32/32 [==============================] - 0s 2ms/step - loss: 0.3223 - accuracy: 0.9870 - val_loss: 0.5782 - val_accuracy: 0.9770\n",
      "Epoch 14/50\n",
      "32/32 [==============================] - 0s 2ms/step - loss: 0.4509 - accuracy: 0.9820 - val_loss: 0.1913 - val_accuracy: 0.9920\n",
      "Epoch 15/50\n",
      "32/32 [==============================] - 0s 2ms/step - loss: 0.0174 - accuracy: 0.9980 - val_loss: 0.3454 - val_accuracy: 0.9820\n",
      "Epoch 16/50\n",
      "32/32 [==============================] - 0s 2ms/step - loss: 0.2051 - accuracy: 0.9890 - val_loss: 0.2169 - val_accuracy: 0.9850\n",
      "Epoch 17/50\n",
      "32/32 [==============================] - 0s 2ms/step - loss: 0.0097 - accuracy: 0.9960 - val_loss: 0.6506 - val_accuracy: 0.9570\n",
      "Epoch 18/50\n",
      "32/32 [==============================] - 0s 2ms/step - loss: 0.4432 - accuracy: 0.9800 - val_loss: 0.4534 - val_accuracy: 0.9760\n",
      "Epoch 19/50\n",
      "32/32 [==============================] - 0s 2ms/step - loss: 0.2176 - accuracy: 0.9890 - val_loss: 0.2147 - val_accuracy: 0.9920\n",
      "Epoch 20/50\n",
      "32/32 [==============================] - 0s 2ms/step - loss: 0.0967 - accuracy: 0.9920 - val_loss: 0.0266 - val_accuracy: 0.9960\n",
      "Epoch 21/50\n",
      "32/32 [==============================] - 0s 2ms/step - loss: 5.9691e-04 - accuracy: 1.0000 - val_loss: 0.1474 - val_accuracy: 0.9930\n",
      "Epoch 22/50\n",
      "32/32 [==============================] - 0s 2ms/step - loss: 4.2915e-09 - accuracy: 1.0000 - val_loss: 0.1427 - val_accuracy: 0.9930\n",
      "Epoch 23/50\n",
      "32/32 [==============================] - 0s 2ms/step - loss: 3.8147e-09 - accuracy: 1.0000 - val_loss: 0.1426 - val_accuracy: 0.9930\n",
      "Epoch 24/50\n",
      "32/32 [==============================] - 0s 2ms/step - loss: 3.8147e-09 - accuracy: 1.0000 - val_loss: 0.1426 - val_accuracy: 0.9930\n",
      "Epoch 25/50\n",
      "32/32 [==============================] - 0s 2ms/step - loss: 3.8147e-09 - accuracy: 1.0000 - val_loss: 0.1426 - val_accuracy: 0.9930\n",
      "Epoch 26/50\n",
      "32/32 [==============================] - 0s 2ms/step - loss: 3.8147e-09 - accuracy: 1.0000 - val_loss: 0.1426 - val_accuracy: 0.9930\n",
      "Epoch 27/50\n",
      "32/32 [==============================] - 0s 2ms/step - loss: 3.8147e-09 - accuracy: 1.0000 - val_loss: 0.1426 - val_accuracy: 0.9930\n",
      "Epoch 28/50\n",
      "32/32 [==============================] - 0s 2ms/step - loss: 3.8147e-09 - accuracy: 1.0000 - val_loss: 0.1426 - val_accuracy: 0.9930\n",
      "Epoch 29/50\n",
      "32/32 [==============================] - 0s 2ms/step - loss: 3.8147e-09 - accuracy: 1.0000 - val_loss: 0.1426 - val_accuracy: 0.9930\n",
      "Epoch 30/50\n",
      "32/32 [==============================] - 0s 2ms/step - loss: 3.8147e-09 - accuracy: 1.0000 - val_loss: 0.1426 - val_accuracy: 0.9930\n",
      "Epoch 31/50\n",
      "32/32 [==============================] - 0s 2ms/step - loss: 3.8147e-09 - accuracy: 1.0000 - val_loss: 0.1426 - val_accuracy: 0.9930\n",
      "Epoch 32/50\n",
      "32/32 [==============================] - 0s 2ms/step - loss: 3.8147e-09 - accuracy: 1.0000 - val_loss: 0.1426 - val_accuracy: 0.9930\n",
      "Epoch 33/50\n",
      "32/32 [==============================] - 0s 2ms/step - loss: 3.8147e-09 - accuracy: 1.0000 - val_loss: 0.1426 - val_accuracy: 0.9930\n",
      "Epoch 34/50\n",
      "32/32 [==============================] - 0s 2ms/step - loss: 3.8147e-09 - accuracy: 1.0000 - val_loss: 0.1426 - val_accuracy: 0.9930\n",
      "Epoch 35/50\n",
      "32/32 [==============================] - 0s 2ms/step - loss: 3.8147e-09 - accuracy: 1.0000 - val_loss: 0.1426 - val_accuracy: 0.9930\n",
      "Epoch 36/50\n",
      "32/32 [==============================] - 0s 2ms/step - loss: 3.8147e-09 - accuracy: 1.0000 - val_loss: 0.1426 - val_accuracy: 0.9930\n",
      "Epoch 37/50\n",
      "32/32 [==============================] - 0s 2ms/step - loss: 3.8147e-09 - accuracy: 1.0000 - val_loss: 0.1426 - val_accuracy: 0.9930\n",
      "Epoch 38/50\n",
      "32/32 [==============================] - 0s 2ms/step - loss: 3.8147e-09 - accuracy: 1.0000 - val_loss: 0.1426 - val_accuracy: 0.9930\n",
      "Epoch 39/50\n",
      "32/32 [==============================] - 0s 2ms/step - loss: 3.8147e-09 - accuracy: 1.0000 - val_loss: 0.1426 - val_accuracy: 0.9930\n",
      "Epoch 40/50\n",
      "32/32 [==============================] - 0s 2ms/step - loss: 3.8147e-09 - accuracy: 1.0000 - val_loss: 0.1426 - val_accuracy: 0.9930\n",
      "Epoch 41/50\n",
      "32/32 [==============================] - 0s 2ms/step - loss: 3.8147e-09 - accuracy: 1.0000 - val_loss: 0.1426 - val_accuracy: 0.9930\n",
      "Epoch 42/50\n",
      "32/32 [==============================] - 0s 2ms/step - loss: 3.8147e-09 - accuracy: 1.0000 - val_loss: 0.1426 - val_accuracy: 0.9930\n",
      "Epoch 43/50\n",
      "32/32 [==============================] - 0s 2ms/step - loss: 3.8147e-09 - accuracy: 1.0000 - val_loss: 0.1426 - val_accuracy: 0.9930\n",
      "Epoch 44/50\n",
      "32/32 [==============================] - 0s 2ms/step - loss: 3.8147e-09 - accuracy: 1.0000 - val_loss: 0.1426 - val_accuracy: 0.9930\n",
      "Epoch 45/50\n",
      "32/32 [==============================] - 0s 2ms/step - loss: 3.6955e-09 - accuracy: 1.0000 - val_loss: 0.1426 - val_accuracy: 0.9930\n",
      "Epoch 46/50\n",
      "32/32 [==============================] - 0s 2ms/step - loss: 3.6955e-09 - accuracy: 1.0000 - val_loss: 0.1426 - val_accuracy: 0.9930\n",
      "Epoch 47/50\n",
      "32/32 [==============================] - 0s 2ms/step - loss: 3.6955e-09 - accuracy: 1.0000 - val_loss: 0.1426 - val_accuracy: 0.9930\n",
      "Epoch 48/50\n",
      "32/32 [==============================] - 0s 2ms/step - loss: 3.6955e-09 - accuracy: 1.0000 - val_loss: 0.1426 - val_accuracy: 0.9930\n",
      "Epoch 49/50\n",
      "32/32 [==============================] - 0s 2ms/step - loss: 3.6955e-09 - accuracy: 1.0000 - val_loss: 0.1426 - val_accuracy: 0.9930\n",
      "Epoch 50/50\n",
      "32/32 [==============================] - 0s 2ms/step - loss: 3.6955e-09 - accuracy: 1.0000 - val_loss: 0.1426 - val_accuracy: 0.9930\n"
     ]
    },
    {
     "data": {
      "text/plain": [
       "<keras.callbacks.History at 0x7f5b2a5196d0>"
      ]
     },
     "execution_count": 27,
     "metadata": {},
     "output_type": "execute_result"
    }
   ],
   "source": [
    "# Define sequential model\n",
    "model = keras.Sequential()\n",
    "# Define the first layer\n",
    "model.add(keras.layers.Dense(1024, activation='relu', input_shape=(784,)))\n",
    "# Add activation function to classifier\n",
    "model.add(keras.layers.Dense(4, activation='softmax'))\n",
    "# Finish the model compilation\n",
    "model.compile(optimizer=keras.optimizers.Adam(learning_rate=0.001), \n",
    "              loss='categorical_crossentropy', metrics=['accuracy'])\n",
    "# Complete the model fit operation\n",
    "model.fit(features, labels, epochs=50, validation_split=0.5)"
   ]
  },
  {
   "cell_type": "markdown",
   "id": "05432aa2-2c6b-480f-a10e-ad7419a2e1e8",
   "metadata": {},
   "source": [
    "#### Evaluating models\n",
    "\n",
    "Two models have been trained and are available: large_model, which has many parameters; and small_model, which has fewer parameters. Both models have been trained using train_features and train_labels, which are available to you. A separate test set, which consists of test_features and test_labels, is also available.\n",
    "\n",
    "Your goal is to evaluate relative model performance and also determine whether either model exhibits signs of overfitting. You will do this by evaluating large_model and small_model on both the train and test sets. For each model, you can do this by applying the .evaluate(x, y) method to compute the loss for features x and labels y. You will then compare the four losses generated."
   ]
  },
  {
   "cell_type": "code",
   "execution_count": 28,
   "id": "b27cf26f-8f0b-4dfb-8e43-5ea9319a8247",
   "metadata": {
    "execution": {
     "iopub.execute_input": "2023-02-03T17:01:05.277332Z",
     "iopub.status.busy": "2023-02-03T17:01:05.277114Z",
     "iopub.status.idle": "2023-02-03T17:01:05.457674Z",
     "shell.execute_reply": "2023-02-03T17:01:05.457188Z",
     "shell.execute_reply.started": "2023-02-03T17:01:05.277321Z"
    },
    "tags": []
   },
   "outputs": [],
   "source": [
    "from sklearn.model_selection import train_test_split\n",
    "train_features, test_features, train_labels, test_labels = \\\n",
    "    train_test_split(mnist.iloc[:,1:], mnist[0], test_size=0.5)\n",
    "train_features = tf.constant(train_features, dtype='float32')\n",
    "test_features = tf.constant(test_features, dtype='float32')\n",
    "train_labels = tf.constant(tf.keras.utils.to_categorical(train_labels))\n",
    "test_labels = tf.constant(tf.keras.utils.to_categorical(test_labels))"
   ]
  },
  {
   "cell_type": "code",
   "execution_count": 29,
   "id": "43046248-c830-40d1-8ef7-934e3bc437e0",
   "metadata": {
    "execution": {
     "iopub.execute_input": "2023-02-03T17:01:05.458157Z",
     "iopub.status.busy": "2023-02-03T17:01:05.458052Z",
     "iopub.status.idle": "2023-02-03T17:01:05.692829Z",
     "shell.execute_reply": "2023-02-03T17:01:05.692544Z",
     "shell.execute_reply.started": "2023-02-03T17:01:05.458147Z"
    },
    "tags": []
   },
   "outputs": [
    {
     "name": "stdout",
     "output_type": "stream",
     "text": [
      "Epoch 1/5\n",
      "32/32 [==============================] - 0s 711us/step - loss: 25.0548\n",
      "Epoch 2/5\n",
      "32/32 [==============================] - 0s 619us/step - loss: 1.3862\n",
      "Epoch 3/5\n",
      "32/32 [==============================] - 0s 645us/step - loss: 1.3862\n",
      "Epoch 4/5\n",
      "32/32 [==============================] - 0s 644us/step - loss: 1.3862\n",
      "Epoch 5/5\n",
      "32/32 [==============================] - 0s 629us/step - loss: 1.3862\n"
     ]
    },
    {
     "data": {
      "text/plain": [
       "<keras.callbacks.History at 0x7f5ad4244ca0>"
      ]
     },
     "execution_count": 29,
     "metadata": {},
     "output_type": "execute_result"
    }
   ],
   "source": [
    "small_model = keras.Sequential()\n",
    "small_model.add(keras.layers.Dense(8, activation='relu', input_shape=(784,)))\n",
    "small_model.add(keras.layers.Dense(4, activation='softmax'))\n",
    "small_model.compile('SGD', loss='categorical_crossentropy')\n",
    "small_model.fit(train_features, train_labels, epochs=5)"
   ]
  },
  {
   "cell_type": "code",
   "execution_count": 30,
   "id": "c2e365d6-bb2b-445a-afac-6f0b0058b355",
   "metadata": {
    "execution": {
     "iopub.execute_input": "2023-02-03T17:01:05.693430Z",
     "iopub.status.busy": "2023-02-03T17:01:05.693198Z",
     "iopub.status.idle": "2023-02-03T17:01:05.929966Z",
     "shell.execute_reply": "2023-02-03T17:01:05.929680Z",
     "shell.execute_reply.started": "2023-02-03T17:01:05.693420Z"
    },
    "tags": []
   },
   "outputs": [
    {
     "name": "stdout",
     "output_type": "stream",
     "text": [
      "Epoch 1/5\n",
      "32/32 [==============================] - 0s 751us/step - loss: 7.8809\n",
      "Epoch 2/5\n",
      "32/32 [==============================] - 0s 630us/step - loss: 1.3864\n",
      "Epoch 3/5\n",
      "32/32 [==============================] - 0s 649us/step - loss: 1.3864\n",
      "Epoch 4/5\n",
      "32/32 [==============================] - 0s 670us/step - loss: 1.3863\n",
      "Epoch 5/5\n",
      "32/32 [==============================] - 0s 661us/step - loss: 1.3863\n"
     ]
    },
    {
     "data": {
      "text/plain": [
       "<keras.callbacks.History at 0x7f5ad4169340>"
      ]
     },
     "execution_count": 30,
     "metadata": {},
     "output_type": "execute_result"
    }
   ],
   "source": [
    "large_model = keras.Sequential()\n",
    "large_model.add(keras.layers.Dense(2, activation='relu', input_shape=(784,)))\n",
    "large_model.add(keras.layers.Dense(4, activation='softmax'))\n",
    "large_model.compile('SGD', loss='categorical_crossentropy')\n",
    "large_model.fit(train_features, train_labels, epochs=5)"
   ]
  },
  {
   "cell_type": "code",
   "execution_count": 31,
   "id": "cba171a0-bbd2-4c51-8b40-8a742c2e3bf3",
   "metadata": {
    "execution": {
     "iopub.execute_input": "2023-02-03T17:01:05.930550Z",
     "iopub.status.busy": "2023-02-03T17:01:05.930347Z",
     "iopub.status.idle": "2023-02-03T17:01:06.154500Z",
     "shell.execute_reply": "2023-02-03T17:01:06.154214Z",
     "shell.execute_reply.started": "2023-02-03T17:01:05.930539Z"
    },
    "tags": []
   },
   "outputs": [
    {
     "name": "stdout",
     "output_type": "stream",
     "text": [
      "32/32 [==============================] - 0s 631us/step - loss: 1.3861\n",
      "32/32 [==============================] - 0s 595us/step - loss: 1.3867\n",
      "32/32 [==============================] - 0s 649us/step - loss: 1.3861\n",
      "32/32 [==============================] - 0s 606us/step - loss: 1.3865\n",
      "\n",
      " Small - Train: 1.3860633373260498, Test: 1.386661171913147\n",
      "Large - Train: 1.3861362934112549, Test: 1.3865036964416504\n"
     ]
    }
   ],
   "source": [
    "# Evaluate the small model using the train data\n",
    "small_train = small_model.evaluate(train_features, train_labels)\n",
    "# Evaluate the small model using the test data\n",
    "small_test = small_model.evaluate(test_features, test_labels)\n",
    "# Evaluate the large model using the train data\n",
    "large_train = large_model.evaluate(train_features, train_labels)\n",
    "# Evaluate the large model using the test data\n",
    "large_test = large_model.evaluate(test_features, test_labels)\n",
    "# Print losses\n",
    "print('\\n Small - Train: {}, Test: {}'.format(small_train, small_test))\n",
    "print('Large - Train: {}, Test: {}'.format(large_train, large_test))"
   ]
  },
  {
   "cell_type": "markdown",
   "id": "79a0670e-6877-4cb4-97ed-2ad00859d74c",
   "metadata": {},
   "source": [
    "# Training models with the Estimators API"
   ]
  },
  {
   "cell_type": "markdown",
   "id": "ef938af4-707f-4973-9d70-d078097df8c3",
   "metadata": {},
   "source": [
    "## What is the Estimators API?\n",
    "* High level submodule\n",
    "* Less flexible\n",
    "* Enforces best practices\n",
    "* Faster deployment\n",
    "* Many premade models"
   ]
  },
  {
   "cell_type": "markdown",
   "id": "c8898cf1-4932-4ccf-823f-80148d8fe194",
   "metadata": {},
   "source": [
    "## Model specification and training\n",
    "1. Define feature columns\n",
    "2. Load and transform data\n",
    "3. Define an estimator\n",
    "4. Apply train operation"
   ]
  },
  {
   "cell_type": "markdown",
   "id": "41295c87-8d78-4778-958c-516dfb4e468f",
   "metadata": {},
   "source": [
    "## Defining feature columns"
   ]
  },
  {
   "cell_type": "code",
   "execution_count": 45,
   "id": "4d6812d7-5906-4561-9f38-1f5e710e7c30",
   "metadata": {
    "tags": []
   },
   "outputs": [
    {
     "data": {
      "text/plain": [
       "NumericColumn(key='size', shape=(1,), default_value=None, dtype=tf.float32, normalizer_fn=None)"
      ]
     },
     "execution_count": 45,
     "metadata": {},
     "output_type": "execute_result"
    }
   ],
   "source": [
    "# Define a numeric feature column\n",
    "size = tf.feature_column.numeric_column(\"size\")\n",
    "size"
   ]
  },
  {
   "cell_type": "code",
   "execution_count": 46,
   "id": "3c0ea2b7-9943-436f-98c0-39499fc57636",
   "metadata": {
    "tags": []
   },
   "outputs": [
    {
     "data": {
      "text/plain": [
       "VocabularyListCategoricalColumn(key='rooms', vocabulary_list=('1', '2', '3', '4', '5'), dtype=tf.string, default_value=-1, num_oov_buckets=0)"
      ]
     },
     "execution_count": 46,
     "metadata": {},
     "output_type": "execute_result"
    }
   ],
   "source": [
    "# Define a categorical feature column\n",
    "rooms = tf.feature_column.categorical_column_with_vocabulary_list(\"rooms\",\n",
    "                                                                  [\"1\", \"2\", \"3\", \"4\", \"5\"])\n",
    "rooms"
   ]
  },
  {
   "cell_type": "code",
   "execution_count": 47,
   "id": "1387119f-031a-401a-8575-daf23b98db11",
   "metadata": {
    "tags": []
   },
   "outputs": [
    {
     "data": {
      "text/plain": [
       "IndicatorColumn(categorical_column=VocabularyListCategoricalColumn(key='rooms', vocabulary_list=('1', '2', '3', '4', '5'), dtype=tf.string, default_value=-1, num_oov_buckets=0))"
      ]
     },
     "execution_count": 47,
     "metadata": {},
     "output_type": "execute_result"
    }
   ],
   "source": [
    "rooms = tf.feature_column.indicator_column(rooms)\n",
    "rooms"
   ]
  },
  {
   "cell_type": "code",
   "execution_count": 48,
   "id": "12abac7a-b6c8-4a23-82d5-8355e4dce471",
   "metadata": {
    "tags": []
   },
   "outputs": [
    {
     "data": {
      "text/plain": [
       "[NumericColumn(key='size', shape=(1,), default_value=None, dtype=tf.float32, normalizer_fn=None),\n",
       " IndicatorColumn(categorical_column=VocabularyListCategoricalColumn(key='rooms', vocabulary_list=('1', '2', '3', '4', '5'), dtype=tf.string, default_value=-1, num_oov_buckets=0))]"
      ]
     },
     "execution_count": 48,
     "metadata": {},
     "output_type": "execute_result"
    }
   ],
   "source": [
    "# Create feature column list\n",
    "features_list = [size, rooms]\n",
    "features_list"
   ]
  },
  {
   "cell_type": "code",
   "execution_count": 49,
   "id": "ce6db1f3-8544-4561-bff6-b6a34ea504db",
   "metadata": {
    "tags": []
   },
   "outputs": [
    {
     "data": {
      "text/plain": [
       "[NumericColumn(key='image', shape=(784,), default_value=None, dtype=tf.float32, normalizer_fn=None)]"
      ]
     },
     "execution_count": 49,
     "metadata": {},
     "output_type": "execute_result"
    }
   ],
   "source": [
    "# other case: Define a matrix feature column\n",
    "[tf.feature_column.numeric_column('image', shape=(784,))]"
   ]
  },
  {
   "cell_type": "markdown",
   "id": "21f9652b-483a-42bd-9e95-1ae7e1723e11",
   "metadata": {},
   "source": [
    "## Loading and transforming data"
   ]
  },
  {
   "cell_type": "code",
   "execution_count": 50,
   "id": "acac4a9f-3a33-439f-aa36-6225226624bf",
   "metadata": {
    "tags": []
   },
   "outputs": [],
   "source": [
    "# Define input data function\n",
    "def input_fn():\n",
    "    # Define feature dictionary\n",
    "    features = {\"size\": [1340, 1690, 2720], \"rooms\": [\"1\", \"3\", \"4\"]}\n",
    "    # Define labels\n",
    "    labels = [221900, 538000, 180000]\n",
    "    return features, labels"
   ]
  },
  {
   "cell_type": "code",
   "execution_count": 51,
   "id": "aad6b80e-71b6-40e7-9ed8-192917b8d3a5",
   "metadata": {
    "tags": []
   },
   "outputs": [
    {
     "data": {
      "text/plain": [
       "({'size': [1340, 1690, 2720], 'rooms': ['1', '3', '4']},\n",
       " [221900, 538000, 180000])"
      ]
     },
     "execution_count": 51,
     "metadata": {},
     "output_type": "execute_result"
    }
   ],
   "source": [
    "input_fn()"
   ]
  },
  {
   "cell_type": "markdown",
   "id": "b02a239b-ae95-4f68-8254-ab353bfc21b7",
   "metadata": {},
   "source": [
    "## Define and train a regression estimator"
   ]
  },
  {
   "cell_type": "code",
   "execution_count": 52,
   "id": "96589436-78af-4d9d-8f3e-8e0174a8d54d",
   "metadata": {
    "tags": []
   },
   "outputs": [
    {
     "name": "stdout",
     "output_type": "stream",
     "text": [
      "INFO:tensorflow:Using default config.\n",
      "WARNING:tensorflow:Using temporary folder as model directory: /tmp/tmp6hm96loe\n",
      "INFO:tensorflow:Using config: {'_model_dir': '/tmp/tmp6hm96loe', '_tf_random_seed': None, '_save_summary_steps': 100, '_save_checkpoints_steps': None, '_save_checkpoints_secs': 600, '_session_config': allow_soft_placement: true\n",
      "graph_options {\n",
      "  rewrite_options {\n",
      "    meta_optimizer_iterations: ONE\n",
      "  }\n",
      "}\n",
      ", '_keep_checkpoint_max': 5, '_keep_checkpoint_every_n_hours': 10000, '_log_step_count_steps': 100, '_train_distribute': None, '_device_fn': None, '_protocol': None, '_eval_distribute': None, '_experimental_distribute': None, '_experimental_max_worker_delay_secs': None, '_session_creation_timeout_secs': 7200, '_checkpoint_save_graph_def': True, '_service': None, '_cluster_spec': ClusterSpec({}), '_task_type': 'worker', '_task_id': 0, '_global_id_in_cluster': 0, '_master': '', '_evaluation_master': '', '_is_chief': True, '_num_ps_replicas': 0, '_num_worker_replicas': 1}\n"
     ]
    }
   ],
   "source": [
    "# Define a deep neural network regression\n",
    "model0 = tf.estimator.DNNRegressor(feature_columns=features_list,\n",
    "                                   hidden_units=[10, 6, 6, 3])"
   ]
  },
  {
   "cell_type": "code",
   "execution_count": 53,
   "id": "2b0f1314-8180-4c75-bf91-40e4083d3fe3",
   "metadata": {
    "tags": []
   },
   "outputs": [
    {
     "name": "stdout",
     "output_type": "stream",
     "text": [
      "INFO:tensorflow:Calling model_fn.\n",
      "INFO:tensorflow:Done calling model_fn.\n",
      "INFO:tensorflow:Create CheckpointSaverHook.\n",
      "INFO:tensorflow:Graph was finalized.\n",
      "INFO:tensorflow:Running local_init_op.\n",
      "INFO:tensorflow:Done running local_init_op.\n",
      "INFO:tensorflow:Calling checkpoint listeners before saving checkpoint 0...\n",
      "INFO:tensorflow:Saving checkpoints for 0 into /tmp/tmp6hm96loe/model.ckpt.\n",
      "INFO:tensorflow:/tmp/tmp6hm96loe/model.ckpt-0.index\n",
      "INFO:tensorflow:0\n",
      "INFO:tensorflow:/tmp/tmp6hm96loe/model.ckpt-0.data-00000-of-00001\n",
      "INFO:tensorflow:0\n",
      "INFO:tensorflow:/tmp/tmp6hm96loe/model.ckpt-0.meta\n",
      "INFO:tensorflow:200\n",
      "INFO:tensorflow:Calling checkpoint listeners after saving checkpoint 0...\n",
      "INFO:tensorflow:loss = 123695170000.0, step = 0\n",
      "INFO:tensorflow:Calling checkpoint listeners before saving checkpoint 20...\n",
      "INFO:tensorflow:Saving checkpoints for 20 into /tmp/tmp6hm96loe/model.ckpt.\n",
      "INFO:tensorflow:/tmp/tmp6hm96loe/model.ckpt-20.meta\n",
      "INFO:tensorflow:200\n",
      "INFO:tensorflow:/tmp/tmp6hm96loe/model.ckpt-20.index\n",
      "INFO:tensorflow:200\n",
      "INFO:tensorflow:/tmp/tmp6hm96loe/model.ckpt-20.data-00000-of-00001\n",
      "INFO:tensorflow:200\n",
      "INFO:tensorflow:Calling checkpoint listeners after saving checkpoint 20...\n",
      "INFO:tensorflow:Loss for final step: 123687790000.0.\n"
     ]
    },
    {
     "data": {
      "text/plain": [
       "<tensorflow_estimator.python.estimator.canned.dnn.DNNRegressorV2 at 0x7f5b70062700>"
      ]
     },
     "execution_count": 53,
     "metadata": {},
     "output_type": "execute_result"
    }
   ],
   "source": [
    "# Train the regression model\n",
    "model0.train(input_fn, steps=20)"
   ]
  },
  {
   "cell_type": "markdown",
   "id": "e1bdc45d-2d51-4dfa-a92c-8b1770ab7661",
   "metadata": {},
   "source": [
    "## Define and train a classifier estimator"
   ]
  },
  {
   "cell_type": "markdown",
   "id": "8c2b3597-6351-48a7-8023-36b8699c8b61",
   "metadata": {
    "execution": {
     "iopub.execute_input": "2023-02-03T16:19:37.289042Z",
     "iopub.status.busy": "2023-02-03T16:19:37.288902Z",
     "iopub.status.idle": "2023-02-03T16:19:37.958018Z",
     "shell.execute_reply": "2023-02-03T16:19:37.957466Z",
     "shell.execute_reply.started": "2023-02-03T16:19:37.289032Z"
    },
    "tags": []
   },
   "source": [
    "```\n",
    "# Define a deep neural network classifier\n",
    "model1 = tf.estimator.DNNClassifier(feature_columns=features_list,\n",
    "                                    hidden_units=[32, 16, 8], n_classes=4)\n",
    "\n",
    "# Train the classifier\n",
    "model1.train(inputfn, steps=20)\n",
    "``````"
   ]
  },
  {
   "cell_type": "markdown",
   "id": "e5c11607-a689-4976-ac05-43513f32e3db",
   "metadata": {},
   "source": [
    "https://www.tensorflow.org/guide/estimators"
   ]
  },
  {
   "cell_type": "markdown",
   "id": "50cb2a02-2c62-417b-ac47-efaf040d2884",
   "metadata": {},
   "source": [
    "## Exercises"
   ]
  },
  {
   "cell_type": "code",
   "execution_count": 54,
   "id": "bed4995f-ef81-4839-9340-66906f936447",
   "metadata": {
    "tags": []
   },
   "outputs": [
    {
     "data": {
      "text/html": [
       "<div>\n",
       "<style scoped>\n",
       "    .dataframe tbody tr th:only-of-type {\n",
       "        vertical-align: middle;\n",
       "    }\n",
       "\n",
       "    .dataframe tbody tr th {\n",
       "        vertical-align: top;\n",
       "    }\n",
       "\n",
       "    .dataframe thead th {\n",
       "        text-align: right;\n",
       "    }\n",
       "</style>\n",
       "<table border=\"1\" class=\"dataframe\">\n",
       "  <thead>\n",
       "    <tr style=\"text-align: right;\">\n",
       "      <th></th>\n",
       "      <th>id</th>\n",
       "      <th>date</th>\n",
       "      <th>price</th>\n",
       "      <th>bedrooms</th>\n",
       "      <th>bathrooms</th>\n",
       "      <th>sqft_living</th>\n",
       "      <th>sqft_lot</th>\n",
       "      <th>floors</th>\n",
       "      <th>waterfront</th>\n",
       "      <th>view</th>\n",
       "      <th>...</th>\n",
       "      <th>grade</th>\n",
       "      <th>sqft_above</th>\n",
       "      <th>sqft_basement</th>\n",
       "      <th>yr_built</th>\n",
       "      <th>yr_renovated</th>\n",
       "      <th>zipcode</th>\n",
       "      <th>lat</th>\n",
       "      <th>long</th>\n",
       "      <th>sqft_living15</th>\n",
       "      <th>sqft_lot15</th>\n",
       "    </tr>\n",
       "  </thead>\n",
       "  <tbody>\n",
       "    <tr>\n",
       "      <th>0</th>\n",
       "      <td>7129300520</td>\n",
       "      <td>20141013T000000</td>\n",
       "      <td>221900.0</td>\n",
       "      <td>3</td>\n",
       "      <td>1.00</td>\n",
       "      <td>1180</td>\n",
       "      <td>5650</td>\n",
       "      <td>1.0</td>\n",
       "      <td>0</td>\n",
       "      <td>0</td>\n",
       "      <td>...</td>\n",
       "      <td>7</td>\n",
       "      <td>1180</td>\n",
       "      <td>0</td>\n",
       "      <td>1955</td>\n",
       "      <td>0</td>\n",
       "      <td>98178</td>\n",
       "      <td>47.5112</td>\n",
       "      <td>-122.257</td>\n",
       "      <td>1340</td>\n",
       "      <td>5650</td>\n",
       "    </tr>\n",
       "    <tr>\n",
       "      <th>1</th>\n",
       "      <td>6414100192</td>\n",
       "      <td>20141209T000000</td>\n",
       "      <td>538000.0</td>\n",
       "      <td>3</td>\n",
       "      <td>2.25</td>\n",
       "      <td>2570</td>\n",
       "      <td>7242</td>\n",
       "      <td>2.0</td>\n",
       "      <td>0</td>\n",
       "      <td>0</td>\n",
       "      <td>...</td>\n",
       "      <td>7</td>\n",
       "      <td>2170</td>\n",
       "      <td>400</td>\n",
       "      <td>1951</td>\n",
       "      <td>1991</td>\n",
       "      <td>98125</td>\n",
       "      <td>47.7210</td>\n",
       "      <td>-122.319</td>\n",
       "      <td>1690</td>\n",
       "      <td>7639</td>\n",
       "    </tr>\n",
       "    <tr>\n",
       "      <th>2</th>\n",
       "      <td>5631500400</td>\n",
       "      <td>20150225T000000</td>\n",
       "      <td>180000.0</td>\n",
       "      <td>2</td>\n",
       "      <td>1.00</td>\n",
       "      <td>770</td>\n",
       "      <td>10000</td>\n",
       "      <td>1.0</td>\n",
       "      <td>0</td>\n",
       "      <td>0</td>\n",
       "      <td>...</td>\n",
       "      <td>6</td>\n",
       "      <td>770</td>\n",
       "      <td>0</td>\n",
       "      <td>1933</td>\n",
       "      <td>0</td>\n",
       "      <td>98028</td>\n",
       "      <td>47.7379</td>\n",
       "      <td>-122.233</td>\n",
       "      <td>2720</td>\n",
       "      <td>8062</td>\n",
       "    </tr>\n",
       "    <tr>\n",
       "      <th>3</th>\n",
       "      <td>2487200875</td>\n",
       "      <td>20141209T000000</td>\n",
       "      <td>604000.0</td>\n",
       "      <td>4</td>\n",
       "      <td>3.00</td>\n",
       "      <td>1960</td>\n",
       "      <td>5000</td>\n",
       "      <td>1.0</td>\n",
       "      <td>0</td>\n",
       "      <td>0</td>\n",
       "      <td>...</td>\n",
       "      <td>7</td>\n",
       "      <td>1050</td>\n",
       "      <td>910</td>\n",
       "      <td>1965</td>\n",
       "      <td>0</td>\n",
       "      <td>98136</td>\n",
       "      <td>47.5208</td>\n",
       "      <td>-122.393</td>\n",
       "      <td>1360</td>\n",
       "      <td>5000</td>\n",
       "    </tr>\n",
       "    <tr>\n",
       "      <th>4</th>\n",
       "      <td>1954400510</td>\n",
       "      <td>20150218T000000</td>\n",
       "      <td>510000.0</td>\n",
       "      <td>3</td>\n",
       "      <td>2.00</td>\n",
       "      <td>1680</td>\n",
       "      <td>8080</td>\n",
       "      <td>1.0</td>\n",
       "      <td>0</td>\n",
       "      <td>0</td>\n",
       "      <td>...</td>\n",
       "      <td>8</td>\n",
       "      <td>1680</td>\n",
       "      <td>0</td>\n",
       "      <td>1987</td>\n",
       "      <td>0</td>\n",
       "      <td>98074</td>\n",
       "      <td>47.6168</td>\n",
       "      <td>-122.045</td>\n",
       "      <td>1800</td>\n",
       "      <td>7503</td>\n",
       "    </tr>\n",
       "    <tr>\n",
       "      <th>...</th>\n",
       "      <td>...</td>\n",
       "      <td>...</td>\n",
       "      <td>...</td>\n",
       "      <td>...</td>\n",
       "      <td>...</td>\n",
       "      <td>...</td>\n",
       "      <td>...</td>\n",
       "      <td>...</td>\n",
       "      <td>...</td>\n",
       "      <td>...</td>\n",
       "      <td>...</td>\n",
       "      <td>...</td>\n",
       "      <td>...</td>\n",
       "      <td>...</td>\n",
       "      <td>...</td>\n",
       "      <td>...</td>\n",
       "      <td>...</td>\n",
       "      <td>...</td>\n",
       "      <td>...</td>\n",
       "      <td>...</td>\n",
       "      <td>...</td>\n",
       "    </tr>\n",
       "    <tr>\n",
       "      <th>21608</th>\n",
       "      <td>263000018</td>\n",
       "      <td>20140521T000000</td>\n",
       "      <td>360000.0</td>\n",
       "      <td>3</td>\n",
       "      <td>2.50</td>\n",
       "      <td>1530</td>\n",
       "      <td>1131</td>\n",
       "      <td>3.0</td>\n",
       "      <td>0</td>\n",
       "      <td>0</td>\n",
       "      <td>...</td>\n",
       "      <td>8</td>\n",
       "      <td>1530</td>\n",
       "      <td>0</td>\n",
       "      <td>2009</td>\n",
       "      <td>0</td>\n",
       "      <td>98103</td>\n",
       "      <td>47.6993</td>\n",
       "      <td>-122.346</td>\n",
       "      <td>1530</td>\n",
       "      <td>1509</td>\n",
       "    </tr>\n",
       "    <tr>\n",
       "      <th>21609</th>\n",
       "      <td>6600060120</td>\n",
       "      <td>20150223T000000</td>\n",
       "      <td>400000.0</td>\n",
       "      <td>4</td>\n",
       "      <td>2.50</td>\n",
       "      <td>2310</td>\n",
       "      <td>5813</td>\n",
       "      <td>2.0</td>\n",
       "      <td>0</td>\n",
       "      <td>0</td>\n",
       "      <td>...</td>\n",
       "      <td>8</td>\n",
       "      <td>2310</td>\n",
       "      <td>0</td>\n",
       "      <td>2014</td>\n",
       "      <td>0</td>\n",
       "      <td>98146</td>\n",
       "      <td>47.5107</td>\n",
       "      <td>-122.362</td>\n",
       "      <td>1830</td>\n",
       "      <td>7200</td>\n",
       "    </tr>\n",
       "    <tr>\n",
       "      <th>21610</th>\n",
       "      <td>1523300141</td>\n",
       "      <td>20140623T000000</td>\n",
       "      <td>402101.0</td>\n",
       "      <td>2</td>\n",
       "      <td>0.75</td>\n",
       "      <td>1020</td>\n",
       "      <td>1350</td>\n",
       "      <td>2.0</td>\n",
       "      <td>0</td>\n",
       "      <td>0</td>\n",
       "      <td>...</td>\n",
       "      <td>7</td>\n",
       "      <td>1020</td>\n",
       "      <td>0</td>\n",
       "      <td>2009</td>\n",
       "      <td>0</td>\n",
       "      <td>98144</td>\n",
       "      <td>47.5944</td>\n",
       "      <td>-122.299</td>\n",
       "      <td>1020</td>\n",
       "      <td>2007</td>\n",
       "    </tr>\n",
       "    <tr>\n",
       "      <th>21611</th>\n",
       "      <td>291310100</td>\n",
       "      <td>20150116T000000</td>\n",
       "      <td>400000.0</td>\n",
       "      <td>3</td>\n",
       "      <td>2.50</td>\n",
       "      <td>1600</td>\n",
       "      <td>2388</td>\n",
       "      <td>2.0</td>\n",
       "      <td>0</td>\n",
       "      <td>0</td>\n",
       "      <td>...</td>\n",
       "      <td>8</td>\n",
       "      <td>1600</td>\n",
       "      <td>0</td>\n",
       "      <td>2004</td>\n",
       "      <td>0</td>\n",
       "      <td>98027</td>\n",
       "      <td>47.5345</td>\n",
       "      <td>-122.069</td>\n",
       "      <td>1410</td>\n",
       "      <td>1287</td>\n",
       "    </tr>\n",
       "    <tr>\n",
       "      <th>21612</th>\n",
       "      <td>1523300157</td>\n",
       "      <td>20141015T000000</td>\n",
       "      <td>325000.0</td>\n",
       "      <td>2</td>\n",
       "      <td>0.75</td>\n",
       "      <td>1020</td>\n",
       "      <td>1076</td>\n",
       "      <td>2.0</td>\n",
       "      <td>0</td>\n",
       "      <td>0</td>\n",
       "      <td>...</td>\n",
       "      <td>7</td>\n",
       "      <td>1020</td>\n",
       "      <td>0</td>\n",
       "      <td>2008</td>\n",
       "      <td>0</td>\n",
       "      <td>98144</td>\n",
       "      <td>47.5941</td>\n",
       "      <td>-122.299</td>\n",
       "      <td>1020</td>\n",
       "      <td>1357</td>\n",
       "    </tr>\n",
       "  </tbody>\n",
       "</table>\n",
       "<p>21613 rows × 21 columns</p>\n",
       "</div>"
      ],
      "text/plain": [
       "               id             date     price  bedrooms  bathrooms  \\\n",
       "0      7129300520  20141013T000000  221900.0         3       1.00   \n",
       "1      6414100192  20141209T000000  538000.0         3       2.25   \n",
       "2      5631500400  20150225T000000  180000.0         2       1.00   \n",
       "3      2487200875  20141209T000000  604000.0         4       3.00   \n",
       "4      1954400510  20150218T000000  510000.0         3       2.00   \n",
       "...           ...              ...       ...       ...        ...   \n",
       "21608   263000018  20140521T000000  360000.0         3       2.50   \n",
       "21609  6600060120  20150223T000000  400000.0         4       2.50   \n",
       "21610  1523300141  20140623T000000  402101.0         2       0.75   \n",
       "21611   291310100  20150116T000000  400000.0         3       2.50   \n",
       "21612  1523300157  20141015T000000  325000.0         2       0.75   \n",
       "\n",
       "       sqft_living  sqft_lot  floors  waterfront  view  ...  grade  \\\n",
       "0             1180      5650     1.0           0     0  ...      7   \n",
       "1             2570      7242     2.0           0     0  ...      7   \n",
       "2              770     10000     1.0           0     0  ...      6   \n",
       "3             1960      5000     1.0           0     0  ...      7   \n",
       "4             1680      8080     1.0           0     0  ...      8   \n",
       "...            ...       ...     ...         ...   ...  ...    ...   \n",
       "21608         1530      1131     3.0           0     0  ...      8   \n",
       "21609         2310      5813     2.0           0     0  ...      8   \n",
       "21610         1020      1350     2.0           0     0  ...      7   \n",
       "21611         1600      2388     2.0           0     0  ...      8   \n",
       "21612         1020      1076     2.0           0     0  ...      7   \n",
       "\n",
       "       sqft_above  sqft_basement  yr_built  yr_renovated  zipcode      lat  \\\n",
       "0            1180              0      1955             0    98178  47.5112   \n",
       "1            2170            400      1951          1991    98125  47.7210   \n",
       "2             770              0      1933             0    98028  47.7379   \n",
       "3            1050            910      1965             0    98136  47.5208   \n",
       "4            1680              0      1987             0    98074  47.6168   \n",
       "...           ...            ...       ...           ...      ...      ...   \n",
       "21608        1530              0      2009             0    98103  47.6993   \n",
       "21609        2310              0      2014             0    98146  47.5107   \n",
       "21610        1020              0      2009             0    98144  47.5944   \n",
       "21611        1600              0      2004             0    98027  47.5345   \n",
       "21612        1020              0      2008             0    98144  47.5941   \n",
       "\n",
       "          long  sqft_living15  sqft_lot15  \n",
       "0     -122.257           1340        5650  \n",
       "1     -122.319           1690        7639  \n",
       "2     -122.233           2720        8062  \n",
       "3     -122.393           1360        5000  \n",
       "4     -122.045           1800        7503  \n",
       "...        ...            ...         ...  \n",
       "21608 -122.346           1530        1509  \n",
       "21609 -122.362           1830        7200  \n",
       "21610 -122.299           1020        2007  \n",
       "21611 -122.069           1410        1287  \n",
       "21612 -122.299           1020        1357  \n",
       "\n",
       "[21613 rows x 21 columns]"
      ]
     },
     "execution_count": 54,
     "metadata": {},
     "output_type": "execute_result"
    }
   ],
   "source": [
    "housing = pd.read_csv('kc_house_data.csv')\n",
    "housing"
   ]
  },
  {
   "cell_type": "markdown",
   "id": "bc6e28d9-8618-4340-adc6-04d31bb0c83a",
   "metadata": {},
   "source": [
    "### Preparing to train with Estimators\n",
    "\n",
    "For this exercise, we'll return to the King County housing transaction dataset from chapter 2. We will again develop and train a machine learning model to predict house prices; however, this time, we'll do it using the estimator API.\n",
    "\n",
    "Rather than completing everything in one step, we'll break this procedure down into parts. We'll begin by defining the feature columns and loading the data. In the next exercise, we'll define and train a premade estimator. Note that feature_column has been imported for you from tensorflow. Additionally, numpy has been imported as np, and the Kings County housing dataset is available as a pandas DataFrame: housing."
   ]
  },
  {
   "cell_type": "code",
   "execution_count": 55,
   "id": "12b535c6-285f-4437-ae8a-9d6fbf844041",
   "metadata": {
    "tags": []
   },
   "outputs": [],
   "source": [
    "# Define feature columns for bedrooms and bathrooms\n",
    "bedrooms = tf.feature_column.numeric_column(\"bedrooms\")\n",
    "bathrooms = tf.feature_column.numeric_column('bathrooms')\n",
    "\n",
    "# Define the list of feature columns\n",
    "feature_list = [bedrooms, bathrooms]\n",
    "\n",
    "def input_fn():\n",
    "\t# Define the labels\n",
    "\tlabels = np.array(housing['price'])\n",
    "\t# Define the features\n",
    "\tfeatures = {'bedrooms': np.array(housing['bedrooms']), \n",
    "                'bathrooms': np.array(housing['bathrooms'])}\n",
    "\treturn features, labels"
   ]
  },
  {
   "cell_type": "markdown",
   "id": "65affd56-74d2-4127-af25-4f51d71d0201",
   "metadata": {},
   "source": [
    "Use a deep neural network regressor with 2 nodes in both the first and second hidden layers and 1 training step."
   ]
  },
  {
   "cell_type": "markdown",
   "id": "97c44e32-50ae-45a3-82e6-a8154db0dd40",
   "metadata": {},
   "source": [
    "### Defining Estimators\n",
    "\n",
    "In the previous exercise, you defined a list of feature columns, feature_list, and a data input function, input_fn(). In this exercise, you will build on that work by defining an estimator that makes use of input data."
   ]
  },
  {
   "cell_type": "code",
   "execution_count": 56,
   "id": "88a9b5bb-0703-424d-bcd9-0a6c399a8a6f",
   "metadata": {
    "tags": []
   },
   "outputs": [
    {
     "name": "stdout",
     "output_type": "stream",
     "text": [
      "INFO:tensorflow:Using default config.\n",
      "WARNING:tensorflow:Using temporary folder as model directory: /tmp/tmp0yy1oqda\n",
      "INFO:tensorflow:Using config: {'_model_dir': '/tmp/tmp0yy1oqda', '_tf_random_seed': None, '_save_summary_steps': 100, '_save_checkpoints_steps': None, '_save_checkpoints_secs': 600, '_session_config': allow_soft_placement: true\n",
      "graph_options {\n",
      "  rewrite_options {\n",
      "    meta_optimizer_iterations: ONE\n",
      "  }\n",
      "}\n",
      ", '_keep_checkpoint_max': 5, '_keep_checkpoint_every_n_hours': 10000, '_log_step_count_steps': 100, '_train_distribute': None, '_device_fn': None, '_protocol': None, '_eval_distribute': None, '_experimental_distribute': None, '_experimental_max_worker_delay_secs': None, '_session_creation_timeout_secs': 7200, '_checkpoint_save_graph_def': True, '_service': None, '_cluster_spec': ClusterSpec({}), '_task_type': 'worker', '_task_id': 0, '_global_id_in_cluster': 0, '_master': '', '_evaluation_master': '', '_is_chief': True, '_num_ps_replicas': 0, '_num_worker_replicas': 1}\n",
      "INFO:tensorflow:Calling model_fn.\n",
      "INFO:tensorflow:Done calling model_fn.\n",
      "INFO:tensorflow:Create CheckpointSaverHook.\n",
      "INFO:tensorflow:Graph was finalized.\n",
      "INFO:tensorflow:Running local_init_op.\n",
      "INFO:tensorflow:Done running local_init_op.\n",
      "INFO:tensorflow:Calling checkpoint listeners before saving checkpoint 0...\n",
      "INFO:tensorflow:Saving checkpoints for 0 into /tmp/tmp0yy1oqda/model.ckpt.\n",
      "INFO:tensorflow:/tmp/tmp0yy1oqda/model.ckpt-0.index\n",
      "INFO:tensorflow:0\n",
      "INFO:tensorflow:/tmp/tmp0yy1oqda/model.ckpt-0.data-00000-of-00001\n",
      "INFO:tensorflow:0\n",
      "INFO:tensorflow:/tmp/tmp0yy1oqda/model.ckpt-0.meta\n",
      "INFO:tensorflow:600\n",
      "INFO:tensorflow:Calling checkpoint listeners after saving checkpoint 0...\n",
      "INFO:tensorflow:loss = 426469950000.0, step = 0\n",
      "INFO:tensorflow:Calling checkpoint listeners before saving checkpoint 1...\n",
      "INFO:tensorflow:Saving checkpoints for 1 into /tmp/tmp0yy1oqda/model.ckpt.\n",
      "INFO:tensorflow:/tmp/tmp0yy1oqda/model.ckpt-1.meta\n",
      "INFO:tensorflow:600\n",
      "INFO:tensorflow:/tmp/tmp0yy1oqda/model.ckpt-1.data-00000-of-00001\n",
      "INFO:tensorflow:600\n",
      "INFO:tensorflow:/tmp/tmp0yy1oqda/model.ckpt-1.index\n",
      "INFO:tensorflow:600\n",
      "INFO:tensorflow:Calling checkpoint listeners after saving checkpoint 1...\n",
      "INFO:tensorflow:Loss for final step: 426469950000.0.\n"
     ]
    },
    {
     "data": {
      "text/plain": [
       "<tensorflow_estimator.python.estimator.canned.dnn.DNNRegressorV2 at 0x7f5aa0648400>"
      ]
     },
     "execution_count": 56,
     "metadata": {},
     "output_type": "execute_result"
    }
   ],
   "source": [
    "# Define the model and set the number of steps\n",
    "model = tf.estimator.DNNRegressor(feature_columns=feature_list, hidden_units=[2,2])\n",
    "model.train(input_fn, steps=1)"
   ]
  },
  {
   "cell_type": "markdown",
   "id": "ecfeb7d8-d613-4e3b-826e-f88548e0f1ab",
   "metadata": {},
   "source": [
    "Modify the code to use a LinearRegressor(), remove the hidden_units, and set the number of steps to 2."
   ]
  },
  {
   "cell_type": "code",
   "execution_count": 57,
   "id": "e0ab7e27-a77d-4b00-906b-90fe4c6104c0",
   "metadata": {},
   "outputs": [
    {
     "name": "stdout",
     "output_type": "stream",
     "text": [
      "INFO:tensorflow:Using default config.\n",
      "WARNING:tensorflow:Using temporary folder as model directory: /tmp/tmp_v7m6m4n\n",
      "INFO:tensorflow:Using config: {'_model_dir': '/tmp/tmp_v7m6m4n', '_tf_random_seed': None, '_save_summary_steps': 100, '_save_checkpoints_steps': None, '_save_checkpoints_secs': 600, '_session_config': allow_soft_placement: true\n",
      "graph_options {\n",
      "  rewrite_options {\n",
      "    meta_optimizer_iterations: ONE\n",
      "  }\n",
      "}\n",
      ", '_keep_checkpoint_max': 5, '_keep_checkpoint_every_n_hours': 10000, '_log_step_count_steps': 100, '_train_distribute': None, '_device_fn': None, '_protocol': None, '_eval_distribute': None, '_experimental_distribute': None, '_experimental_max_worker_delay_secs': None, '_session_creation_timeout_secs': 7200, '_checkpoint_save_graph_def': True, '_service': None, '_cluster_spec': ClusterSpec({}), '_task_type': 'worker', '_task_id': 0, '_global_id_in_cluster': 0, '_master': '', '_evaluation_master': '', '_is_chief': True, '_num_ps_replicas': 0, '_num_worker_replicas': 1}\n",
      "INFO:tensorflow:Calling model_fn.\n",
      "INFO:tensorflow:Done calling model_fn.\n",
      "INFO:tensorflow:Create CheckpointSaverHook.\n",
      "INFO:tensorflow:Graph was finalized.\n",
      "INFO:tensorflow:Running local_init_op.\n",
      "INFO:tensorflow:Done running local_init_op.\n",
      "INFO:tensorflow:Calling checkpoint listeners before saving checkpoint 0...\n",
      "INFO:tensorflow:Saving checkpoints for 0 into /tmp/tmp_v7m6m4n/model.ckpt.\n",
      "INFO:tensorflow:/tmp/tmp_v7m6m4n/model.ckpt-0.index\n",
      "INFO:tensorflow:0\n",
      "INFO:tensorflow:/tmp/tmp_v7m6m4n/model.ckpt-0.data-00000-of-00001\n",
      "INFO:tensorflow:0\n",
      "INFO:tensorflow:/tmp/tmp_v7m6m4n/model.ckpt-0.meta\n",
      "INFO:tensorflow:600\n",
      "INFO:tensorflow:Calling checkpoint listeners after saving checkpoint 0...\n",
      "INFO:tensorflow:loss = 426471360000.0, step = 0\n",
      "INFO:tensorflow:Calling checkpoint listeners before saving checkpoint 2...\n",
      "INFO:tensorflow:Saving checkpoints for 2 into /tmp/tmp_v7m6m4n/model.ckpt.\n",
      "INFO:tensorflow:/tmp/tmp_v7m6m4n/model.ckpt-2.data-00000-of-00001\n",
      "INFO:tensorflow:0\n",
      "INFO:tensorflow:/tmp/tmp_v7m6m4n/model.ckpt-2.index\n",
      "INFO:tensorflow:0\n",
      "INFO:tensorflow:/tmp/tmp_v7m6m4n/model.ckpt-2.meta\n",
      "INFO:tensorflow:600\n",
      "INFO:tensorflow:Calling checkpoint listeners after saving checkpoint 2...\n",
      "INFO:tensorflow:Loss for final step: 426469820000.0.\n"
     ]
    },
    {
     "data": {
      "text/plain": [
       "<tensorflow_estimator.python.estimator.canned.linear.LinearRegressorV2 at 0x7f5aa018f430>"
      ]
     },
     "execution_count": 57,
     "metadata": {},
     "output_type": "execute_result"
    }
   ],
   "source": [
    "# Define the model and set the number of steps\n",
    "model = tf.estimator.LinearRegressor(feature_columns=feature_list)\n",
    "model.train(input_fn, steps=2)"
   ]
  },
  {
   "cell_type": "markdown",
   "id": "c173e4f2-db79-4f73-a825-86cbc84b28f8",
   "metadata": {},
   "source": [
    "# What you learned\n",
    "* Chapter 1\n",
    "    * Low-level, basic, and advanced operations\n",
    "    * Graph-based computation\n",
    "    * Gradient computation and optimization\n",
    "* Chapter 2\n",
    "    * Data loading and transformation\n",
    "    * Predefined and custom loss functions\n",
    "    * Linear models and batch training\n",
    "* Chapter 3\n",
    "    * Dense neural network layers\n",
    "    * Activation functions\n",
    "    * Optimization algorithms\n",
    "    * Training neural networks\n",
    "* Chapter 4\n",
    "    * Neural networks in Keras\n",
    "    * Training and validation\n",
    "    * The Estimators API"
   ]
  },
  {
   "cell_type": "markdown",
   "id": "6d25ae38-5eff-4291-9943-f0e5aba07ad7",
   "metadata": {
    "jp-MarkdownHeadingCollapsed": true,
    "tags": []
   },
   "source": [
    "# TensorFlow extensions\n",
    "\n",
    "In addition to what we covered, there are also a two important TensorFlow extensions that did not fit into the course, but may be worthwhile to explore on your own. The first is TensorFlow Hub, which allows users to import pretrained models that can then be used to perform transfer learning. This will be particularly useful when you want to train an image classifier with a small number of images, but want to make use of a feature-extractor trained on a much larger set of different images.\n",
    "\n",
    "TensorFlow Probability is another exciting extension, which is also currently available as a standalone module. One benefit of using TensorFlow Probability is that it provides additional statistical distributions that can be used for random number generation. It also enables you to incorporate trainable statistical distributions into your models. Finally, TensorFlow Probability provides an extended set of optimizers that are commonly used in statistical research. This gives you additional tools beyond what the core TensorFlow module provides. \n",
    "\n",
    "* TensorFlow Hub\n",
    "    * Pretrained models\n",
    "    * Transfer learning\n",
    "* TensorFlow Probability\n",
    "    * More statistical distributions\n",
    "    * Trainable distributions\n",
    "    * Extended set of optimizers"
   ]
  },
  {
   "cell_type": "markdown",
   "id": "6567fd48-6790-41b5-8e02-d54c2ba1714a",
   "metadata": {},
   "source": [
    "# TensorFlow 2.0\n",
    "\n",
    "Finally, I will say a few words about the difference between TensorFlow 2 and TensorFlow 1. If you primarily develop in 1, you may have noticed that you do not need to define static graphs or enable eager execution. This is done automatically in 2. Furthermore, TensorFlow 2 has substantially tighter integration with Keras. In fact, the core functionality of the TensorFlow 1 train module is handled by tf.Keras operations in 2. In addition to the centrality of Keras, the Estimators API also plays a more important role in TensorFlow 2. Finally, TensorFlow 2 also allows you to use static graphs, but they are available through the tf.function operation. \n",
    "\n",
    "* TensorFlow 2.0\n",
    "    * eager_execution()\n",
    "    * Tighter keras integration\n",
    "    * Estimators\n",
    "    * function()"
   ]
  }
 ],
 "metadata": {
  "kernelspec": {
   "display_name": "Python 3 (ipykernel)",
   "language": "python",
   "name": "python3"
  },
  "language_info": {
   "codemirror_mode": {
    "name": "ipython",
    "version": 3
   },
   "file_extension": ".py",
   "mimetype": "text/x-python",
   "name": "python",
   "nbconvert_exporter": "python",
   "pygments_lexer": "ipython3",
   "version": "3.9.15"
  }
 },
 "nbformat": 4,
 "nbformat_minor": 5
}
