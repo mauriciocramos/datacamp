{
 "cells": [
  {
   "cell_type": "code",
   "execution_count": 1,
   "id": "4f2dcd55-7ed0-4302-8cdf-3a2c7928e4b2",
   "metadata": {
    "execution": {
     "iopub.execute_input": "2023-02-10T22:58:23.822473Z",
     "iopub.status.busy": "2023-02-10T22:58:23.822385Z",
     "iopub.status.idle": "2023-02-10T22:58:25.074959Z",
     "shell.execute_reply": "2023-02-10T22:58:25.074496Z",
     "shell.execute_reply.started": "2023-02-10T22:58:23.822460Z"
    },
    "tags": []
   },
   "outputs": [],
   "source": [
    "import os\n",
    "os.environ['TF_CPP_MIN_LOG_LEVEL'] = '1'\n",
    "# os.environ['TF_ENABLE_ONEDNN_OPTS'] = '0'\n",
    "import numpy as np\n",
    "import pandas as pd\n",
    "import tensorflow as tf\n",
    "import matplotlib.pyplot as plt\n",
    "plt.style.use('dark_background')"
   ]
  },
  {
   "cell_type": "markdown",
   "id": "8a4db9e9-5a9d-497f-b580-98de85c8e663",
   "metadata": {},
   "source": [
    "# Tensors, layers and autoencoders"
   ]
  },
  {
   "cell_type": "markdown",
   "id": "72f6947c-dc2a-4cbd-8d40-6ee61addeaf3",
   "metadata": {},
   "source": [
    "## Accessing Keras layers"
   ]
  },
  {
   "cell_type": "code",
   "execution_count": 2,
   "id": "8053c926-46e6-4a93-aa16-81bb5da6ec14",
   "metadata": {
    "execution": {
     "iopub.execute_input": "2023-02-10T22:58:25.076257Z",
     "iopub.status.busy": "2023-02-10T22:58:25.076025Z",
     "iopub.status.idle": "2023-02-10T22:58:25.526448Z",
     "shell.execute_reply": "2023-02-10T22:58:25.526015Z",
     "shell.execute_reply.started": "2023-02-10T22:58:25.076243Z"
    },
    "tags": []
   },
   "outputs": [
    {
     "name": "stdout",
     "output_type": "stream",
     "text": [
      "Model: \"sequential\"\n",
      "_________________________________________________________________\n",
      " Layer (type)                Output Shape              Param #   \n",
      "=================================================================\n",
      " dense (Dense)               (None, 2)                 8         \n",
      "                                                                 \n",
      " dense_1 (Dense)             (None, 1)                 3         \n",
      "                                                                 \n",
      "=================================================================\n",
      "Total params: 11\n",
      "Trainable params: 11\n",
      "Non-trainable params: 0\n",
      "_________________________________________________________________\n"
     ]
    }
   ],
   "source": [
    "from tensorflow.keras.layers import Dense\n",
    "from tensorflow.keras.models import Sequential\n",
    "model = Sequential()\n",
    "model.add(Dense(2, activation='relu', input_shape=(3,)))\n",
    "model.add(Dense(1, activation='sigmoid'))\n",
    "# model.compile()\n",
    "model.summary()"
   ]
  },
  {
   "cell_type": "code",
   "execution_count": 3,
   "id": "7757bdb7-af0a-42a5-8ad9-28f41c42e468",
   "metadata": {
    "execution": {
     "iopub.execute_input": "2023-02-10T22:58:25.526966Z",
     "iopub.status.busy": "2023-02-10T22:58:25.526860Z",
     "iopub.status.idle": "2023-02-10T22:58:25.531139Z",
     "shell.execute_reply": "2023-02-10T22:58:25.530732Z",
     "shell.execute_reply.started": "2023-02-10T22:58:25.526956Z"
    },
    "tags": []
   },
   "outputs": [
    {
     "data": {
      "text/plain": [
       "<KerasTensor: shape=(None, 3) dtype=float32 (created by layer 'dense_input')>"
      ]
     },
     "execution_count": 3,
     "metadata": {},
     "output_type": "execute_result"
    }
   ],
   "source": [
    "# Acessing the first layer of a Keras model\n",
    "first_layer = model.layers[0]\n",
    "# Printing the layer, and its input, output and weights\n",
    "first_layer.input"
   ]
  },
  {
   "cell_type": "code",
   "execution_count": 4,
   "id": "b22b71d5-2318-4ffd-b931-73c38951a1cc",
   "metadata": {
    "execution": {
     "iopub.execute_input": "2023-02-10T22:58:25.531756Z",
     "iopub.status.busy": "2023-02-10T22:58:25.531564Z",
     "iopub.status.idle": "2023-02-10T22:58:25.534280Z",
     "shell.execute_reply": "2023-02-10T22:58:25.533901Z",
     "shell.execute_reply.started": "2023-02-10T22:58:25.531746Z"
    },
    "tags": []
   },
   "outputs": [
    {
     "data": {
      "text/plain": [
       "<KerasTensor: shape=(None, 2) dtype=float32 (created by layer 'dense')>"
      ]
     },
     "execution_count": 4,
     "metadata": {},
     "output_type": "execute_result"
    }
   ],
   "source": [
    "first_layer.output"
   ]
  },
  {
   "cell_type": "code",
   "execution_count": 5,
   "id": "52bd5389-1201-42d3-9232-5e4e16fdf4a1",
   "metadata": {
    "execution": {
     "iopub.execute_input": "2023-02-10T22:58:25.534877Z",
     "iopub.status.busy": "2023-02-10T22:58:25.534698Z",
     "iopub.status.idle": "2023-02-10T22:58:25.538179Z",
     "shell.execute_reply": "2023-02-10T22:58:25.537833Z",
     "shell.execute_reply.started": "2023-02-10T22:58:25.534867Z"
    },
    "tags": []
   },
   "outputs": [
    {
     "data": {
      "text/plain": [
       "[<tf.Variable 'dense/kernel:0' shape=(3, 2) dtype=float32, numpy=\n",
       " array([[-0.32764888, -0.57192147],\n",
       "        [ 0.1689825 ,  0.2951162 ],\n",
       "        [-0.30925095, -0.81393147]], dtype=float32)>,\n",
       " <tf.Variable 'dense/bias:0' shape=(2,) dtype=float32, numpy=array([0., 0.], dtype=float32)>]"
      ]
     },
     "execution_count": 5,
     "metadata": {},
     "output_type": "execute_result"
    }
   ],
   "source": [
    "first_layer.weights"
   ]
  },
  {
   "cell_type": "markdown",
   "id": "9f926ae8-1e43-42a7-9835-dd62a4cd3ff0",
   "metadata": {},
   "source": [
    "## What are tensors?"
   ]
  },
  {
   "cell_type": "code",
   "execution_count": 6,
   "id": "afc5e7f4-9a5f-48ef-bc5f-72b29862b3b6",
   "metadata": {
    "execution": {
     "iopub.execute_input": "2023-02-10T22:58:25.538660Z",
     "iopub.status.busy": "2023-02-10T22:58:25.538558Z",
     "iopub.status.idle": "2023-02-10T22:58:25.541052Z",
     "shell.execute_reply": "2023-02-10T22:58:25.540788Z",
     "shell.execute_reply.started": "2023-02-10T22:58:25.538651Z"
    },
    "tags": []
   },
   "outputs": [],
   "source": [
    "# Defining a rank 2 tensor (2 dimensions)\n",
    "T2 = np.array([[1, 2, 3], [4, 5, 6], [7, 8, 9]])\n",
    "# Defining a rank 3 tensor (3 dimensions)\n",
    "T3 = np.array(\n",
    "    [\n",
    "        [\n",
    "            [1, 2, 3],\n",
    "            [4, 5, 6],\n",
    "            [7, 8, 9]],\n",
    "        \n",
    "        [\n",
    "            [10, 11, 12],\n",
    "            [13, 14, 15],\n",
    "            [16, 17, 18]],\n",
    "        \n",
    "        [\n",
    "            [19, 20, 21],\n",
    "            [22, 23, 24],\n",
    "            [25, 26, 27]],\n",
    "    ]\n",
    ")"
   ]
  },
  {
   "cell_type": "code",
   "execution_count": 7,
   "id": "654d963f-7328-4b80-9800-cd5403062a74",
   "metadata": {
    "execution": {
     "iopub.execute_input": "2023-02-10T22:58:25.542259Z",
     "iopub.status.busy": "2023-02-10T22:58:25.542045Z",
     "iopub.status.idle": "2023-02-10T22:58:25.544984Z",
     "shell.execute_reply": "2023-02-10T22:58:25.544648Z",
     "shell.execute_reply.started": "2023-02-10T22:58:25.542243Z"
    },
    "tags": []
   },
   "outputs": [
    {
     "data": {
      "text/plain": [
       "((3, 3), (3, 3, 3))"
      ]
     },
     "execution_count": 7,
     "metadata": {},
     "output_type": "execute_result"
    }
   ],
   "source": [
    "T2.shape, T3.shape"
   ]
  },
  {
   "cell_type": "markdown",
   "id": "a0e85a5f-0928-43fa-a331-8c4716044104",
   "metadata": {},
   "source": [
    "## Keras backend (Tensorflow)"
   ]
  },
  {
   "cell_type": "markdown",
   "id": "fe33eec3-fb43-4832-b006-b2eb67080d28",
   "metadata": {},
   "source": [
    "If we import the Keras backend we can build a function that takes in an input tensor from a given layer and returns an output tensor from another or the same layer.\n",
    "\n",
    "Tensorflow is the backend Keras is using in this course, but it could be any other, like Theano.\n",
    "\n",
    "To define the function with our backend K we need to give it a list of inputs and outputs, even if we just want 1 input and 1 output.\n",
    "\n",
    "Then we can use it on a tensor with the same shape as the input layer given during its definition.\n",
    "\n",
    "If the weights of the layers between our input and outputs change the function output for the same input will change as well.\n",
    "\n",
    "We can use this to see how the output of certain layers change as weights are adjusted during training, we will check this in the exercises! "
   ]
  },
  {
   "cell_type": "code",
   "execution_count": 8,
   "id": "461af135-6b32-4110-9dfb-bb1c25957b6d",
   "metadata": {
    "execution": {
     "iopub.execute_input": "2023-02-10T22:58:25.545515Z",
     "iopub.status.busy": "2023-02-10T22:58:25.545408Z",
     "iopub.status.idle": "2023-02-10T22:58:25.549982Z",
     "shell.execute_reply": "2023-02-10T22:58:25.549608Z",
     "shell.execute_reply.started": "2023-02-10T22:58:25.545505Z"
    },
    "tags": []
   },
   "outputs": [
    {
     "data": {
      "text/plain": [
       "<function keras.backend.function.<locals>.func(model_inputs)>"
      ]
     },
     "execution_count": 8,
     "metadata": {},
     "output_type": "execute_result"
    }
   ],
   "source": [
    "# Import Keras backend\n",
    "import tensorflow.keras.backend as K\n",
    "# Get the input and output tensors of a model layer\n",
    "inp = model.layers[0].input\n",
    "out = model.layers[0].output\n",
    "# Function that maps layer inputs to outputs\n",
    "inp_to_out = K.function([inp], [out])\n",
    "inp_to_out"
   ]
  },
  {
   "cell_type": "code",
   "execution_count": 9,
   "id": "bb6efe77-c21a-4165-986e-43bf3b0a0a82",
   "metadata": {
    "execution": {
     "iopub.execute_input": "2023-02-10T22:58:25.550499Z",
     "iopub.status.busy": "2023-02-10T22:58:25.550389Z",
     "iopub.status.idle": "2023-02-10T22:58:26.011233Z",
     "shell.execute_reply": "2023-02-10T22:58:26.010880Z",
     "shell.execute_reply.started": "2023-02-10T22:58:25.550485Z"
    },
    "tags": []
   },
   "outputs": [
    {
     "data": {
      "text/plain": [
       "[array([[0., 0.],\n",
       "        [0., 0.],\n",
       "        [0., 0.]], dtype=float32)]"
      ]
     },
     "execution_count": 9,
     "metadata": {},
     "output_type": "execute_result"
    }
   ],
   "source": [
    "# We pass and input and get the output we'd get in that first layer\n",
    "X_train = np.array([[1, 2, 3], [4, 5, 6], [7, 8, 9]])\n",
    "inp_to_out([X_train])"
   ]
  },
  {
   "cell_type": "markdown",
   "id": "bbe58a3b-dd1c-4635-b116-95069195dbc2",
   "metadata": {},
   "source": [
    "## Autoencoders\n",
    "\n",
    "* Autoencoders are models that aim at producing the same inputs as outputs.\n",
    "\n",
    "* This task alone wouldn't be very useful, but since along the way we decrease the number of neurons, we are effectively making our network learn to compress its inputs into a small set of neurons. "
   ]
  },
  {
   "cell_type": "markdown",
   "id": "1eafc22e-f081-4829-9b46-abe9fbd28664",
   "metadata": {},
   "source": [
    "## Autoencoder use cases\n",
    "* Dimensionality reduction:\n",
    "    * Smaller dimensional space representation of our inputs.\n",
    "* De-noising data:\n",
    "    * If trained with clean data, irrelevant noise will be filtered out during reconstruction.\n",
    "* Anomaly detection:\n",
    "    * A porr reconstruction will result when the model is fed with unseen inputs.\n",
    "* ..."
   ]
  },
  {
   "cell_type": "markdown",
   "id": "746bc95a-f718-4957-bef8-c5c8ae561025",
   "metadata": {},
   "source": [
    "## Building a simple autoencoder"
   ]
  },
  {
   "cell_type": "code",
   "execution_count": 10,
   "id": "687d8b95-1c61-4233-ad74-ea33d1e29d61",
   "metadata": {
    "execution": {
     "iopub.execute_input": "2023-02-10T22:58:26.011692Z",
     "iopub.status.busy": "2023-02-10T22:58:26.011594Z",
     "iopub.status.idle": "2023-02-10T22:58:26.028941Z",
     "shell.execute_reply": "2023-02-10T22:58:26.028566Z",
     "shell.execute_reply.started": "2023-02-10T22:58:26.011682Z"
    },
    "tags": []
   },
   "outputs": [
    {
     "name": "stdout",
     "output_type": "stream",
     "text": [
      "Model: \"sequential_1\"\n",
      "_________________________________________________________________\n",
      " Layer (type)                Output Shape              Param #   \n",
      "=================================================================\n",
      " dense_2 (Dense)             (None, 4)                 404       \n",
      "                                                                 \n",
      " dense_3 (Dense)             (None, 100)               500       \n",
      "                                                                 \n",
      "=================================================================\n",
      "Total params: 904\n",
      "Trainable params: 904\n",
      "Non-trainable params: 0\n",
      "_________________________________________________________________\n"
     ]
    }
   ],
   "source": [
    "# Instantiate a sequential model\n",
    "autoencoder = Sequential()\n",
    "# Add a hidden layer of 4 neurons and an input layer of 100\n",
    "autoencoder.add(Dense(4, input_shape=(100,), activation='relu'))\n",
    "# Add an output layer of 100 neurons\n",
    "autoencoder.add(Dense(100, activation='sigmoid'))\n",
    "# Compile your model with the appropiate loss\n",
    "autoencoder.compile(optimizer='adam', loss='binary_crossentropy')\n",
    "autoencoder.summary()"
   ]
  },
  {
   "cell_type": "markdown",
   "id": "c24a6a80-d1cf-41b0-b883-b753f72c7338",
   "metadata": {},
   "source": [
    "## Breaking it into an encoder"
   ]
  },
  {
   "cell_type": "code",
   "execution_count": 11,
   "id": "857dda88-d6f9-458c-bafc-ffd23958de91",
   "metadata": {
    "execution": {
     "iopub.execute_input": "2023-02-10T22:58:26.029478Z",
     "iopub.status.busy": "2023-02-10T22:58:26.029376Z",
     "iopub.status.idle": "2023-02-10T22:58:26.038027Z",
     "shell.execute_reply": "2023-02-10T22:58:26.037763Z",
     "shell.execute_reply.started": "2023-02-10T22:58:26.029468Z"
    },
    "tags": []
   },
   "outputs": [
    {
     "name": "stdout",
     "output_type": "stream",
     "text": [
      "Model: \"sequential_2\"\n",
      "_________________________________________________________________\n",
      " Layer (type)                Output Shape              Param #   \n",
      "=================================================================\n",
      " dense_2 (Dense)             (None, 4)                 404       \n",
      "                                                                 \n",
      "=================================================================\n",
      "Total params: 404\n",
      "Trainable params: 404\n",
      "Non-trainable params: 0\n",
      "_________________________________________________________________\n"
     ]
    }
   ],
   "source": [
    "# Building a separate model to encode inputs\n",
    "encoder = Sequential()\n",
    "encoder.add(autoencoder.layers[0])\n",
    "encoder.summary()"
   ]
  },
  {
   "cell_type": "code",
   "execution_count": 12,
   "id": "e9d7b716-7eda-46ed-8178-15e568f8a5e0",
   "metadata": {
    "execution": {
     "iopub.execute_input": "2023-02-10T22:58:26.038598Z",
     "iopub.status.busy": "2023-02-10T22:58:26.038402Z",
     "iopub.status.idle": "2023-02-10T22:58:26.040892Z",
     "shell.execute_reply": "2023-02-10T22:58:26.040608Z",
     "shell.execute_reply.started": "2023-02-10T22:58:26.038587Z"
    },
    "tags": []
   },
   "outputs": [
    {
     "data": {
      "text/plain": [
       "array([[ 0,  1,  2,  3,  4,  5,  6,  7,  8,  9, 10, 11, 12, 13, 14, 15,\n",
       "        16, 17, 18, 19, 20, 21, 22, 23, 24, 25, 26, 27, 28, 29, 30, 31,\n",
       "        32, 33, 34, 35, 36, 37, 38, 39, 40, 41, 42, 43, 44, 45, 46, 47,\n",
       "        48, 49, 50, 51, 52, 53, 54, 55, 56, 57, 58, 59, 60, 61, 62, 63,\n",
       "        64, 65, 66, 67, 68, 69, 70, 71, 72, 73, 74, 75, 76, 77, 78, 79,\n",
       "        80, 81, 82, 83, 84, 85, 86, 87, 88, 89, 90, 91, 92, 93, 94, 95,\n",
       "        96, 97, 98, 99]])"
      ]
     },
     "execution_count": 12,
     "metadata": {},
     "output_type": "execute_result"
    }
   ],
   "source": [
    "X_test = np.array([range(0,100)])\n",
    "X_test"
   ]
  },
  {
   "cell_type": "code",
   "execution_count": 13,
   "id": "02c38557-9692-4c12-b52f-b6ee51569196",
   "metadata": {
    "execution": {
     "iopub.execute_input": "2023-02-10T22:58:26.041571Z",
     "iopub.status.busy": "2023-02-10T22:58:26.041258Z",
     "iopub.status.idle": "2023-02-10T22:58:26.099808Z",
     "shell.execute_reply": "2023-02-10T22:58:26.099528Z",
     "shell.execute_reply.started": "2023-02-10T22:58:26.041559Z"
    },
    "tags": []
   },
   "outputs": [
    {
     "name": "stdout",
     "output_type": "stream",
     "text": [
      "1/1 [==============================] - 0s 36ms/step\n"
     ]
    },
    {
     "data": {
      "text/plain": [
       "array([[ 7.7384605,  0.       , 22.450825 , 91.31498  ]], dtype=float32)"
      ]
     },
     "execution_count": 13,
     "metadata": {},
     "output_type": "execute_result"
    }
   ],
   "source": [
    "# Predicting returns the four hidden layer neuron outputs\n",
    "encoder.predict(X_test)"
   ]
  },
  {
   "cell_type": "markdown",
   "id": "718db116-eb08-4aa9-b980-1a03eb24c07e",
   "metadata": {},
   "source": [
    "## Exercises"
   ]
  },
  {
   "cell_type": "markdown",
   "id": "c2f5716e-8db3-4c76-8f8a-74ae078ffd29",
   "metadata": {},
   "source": [
    "### It's a flow of tensors\n",
    "\n",
    "If you have already built a model, you can use the model.layers and the tensorflow.keras.backend to build functions that, provided with a valid input tensor, return the corresponding output tensor.\n",
    "\n",
    "This is a useful tool when we want to obtain the output of a network at an intermediate layer.\n",
    "\n",
    "For instance, if you get the input and output from the first layer of a network, you can build an inp_to_out function that returns the result of carrying out forward propagation through only the first layer for a given input tensor.\n",
    "\n",
    "So that's what you're going to do right now!\n",
    "\n",
    "X_test from the Banknote Authentication dataset and its model are preloaded. Type model.summary() in the console to check it. "
   ]
  },
  {
   "cell_type": "code",
   "execution_count": 14,
   "id": "4fc1121b-ef4f-454c-836e-abbcc8e4e0a7",
   "metadata": {
    "execution": {
     "iopub.execute_input": "2023-02-10T22:58:26.100358Z",
     "iopub.status.busy": "2023-02-10T22:58:26.100192Z",
     "iopub.status.idle": "2023-02-10T22:58:26.221621Z",
     "shell.execute_reply": "2023-02-10T22:58:26.221327Z",
     "shell.execute_reply.started": "2023-02-10T22:58:26.100347Z"
    },
    "tags": []
   },
   "outputs": [
    {
     "data": {
      "text/plain": [
       "((960, 4), (412, 4), (960,), (412,))"
      ]
     },
     "execution_count": 14,
     "metadata": {},
     "output_type": "execute_result"
    }
   ],
   "source": [
    "banknotes = pd.read_csv('banknotes.csv')\n",
    "from sklearn.model_selection import train_test_split\n",
    "X_train, X_test, y_train, y_test = \\\n",
    "    train_test_split(banknotes.iloc[:, 0:-1], banknotes.iloc[:,-1], test_size=0.3)\n",
    "X_train, X_test, y_train, y_test = \\\n",
    "    X_train.values, X_test.values, y_train.values, y_test.values\n",
    "X_train.shape, X_test.shape, y_train.shape, y_test.shape"
   ]
  },
  {
   "cell_type": "code",
   "execution_count": 15,
   "id": "40fe0ea5-0ea4-4cb9-b313-c3d88440943f",
   "metadata": {
    "execution": {
     "iopub.execute_input": "2023-02-10T22:58:26.222135Z",
     "iopub.status.busy": "2023-02-10T22:58:26.222031Z",
     "iopub.status.idle": "2023-02-10T22:58:26.240283Z",
     "shell.execute_reply": "2023-02-10T22:58:26.240029Z",
     "shell.execute_reply.started": "2023-02-10T22:58:26.222125Z"
    },
    "tags": []
   },
   "outputs": [
    {
     "name": "stdout",
     "output_type": "stream",
     "text": [
      "Model: \"sequential_3\"\n",
      "_________________________________________________________________\n",
      " Layer (type)                Output Shape              Param #   \n",
      "=================================================================\n",
      " dense_4 (Dense)             (None, 2)                 10        \n",
      "                                                                 \n",
      " dense_5 (Dense)             (None, 1)                 3         \n",
      "                                                                 \n",
      "=================================================================\n",
      "Total params: 13\n",
      "Trainable params: 13\n",
      "Non-trainable params: 0\n",
      "_________________________________________________________________\n"
     ]
    },
    {
     "data": {
      "text/plain": [
       "{'name': 'SGD',\n",
       " 'learning_rate': 0.01,\n",
       " 'decay': 0.0,\n",
       " 'momentum': 0.0,\n",
       " 'nesterov': False}"
      ]
     },
     "execution_count": 15,
     "metadata": {},
     "output_type": "execute_result"
    }
   ],
   "source": [
    "model = Sequential()\n",
    "model.add(Dense(2, input_shape=(4,), activation='relu'))\n",
    "model.add(Dense(1, activation='sigmoid'))\n",
    "model.compile(optimizer='SGD', loss='binary_crossentropy', metrics=['accuracy'])\n",
    "model.summary()\n",
    "model.optimizer.get_config()"
   ]
  },
  {
   "cell_type": "code",
   "execution_count": 16,
   "id": "7b585ca7-0df4-4c21-98cd-a30bbc55dce9",
   "metadata": {
    "execution": {
     "iopub.execute_input": "2023-02-10T22:58:26.240779Z",
     "iopub.status.busy": "2023-02-10T22:58:26.240649Z",
     "iopub.status.idle": "2023-02-10T22:58:26.243455Z",
     "shell.execute_reply": "2023-02-10T22:58:26.242950Z",
     "shell.execute_reply.started": "2023-02-10T22:58:26.240769Z"
    },
    "tags": []
   },
   "outputs": [
    {
     "data": {
      "text/plain": [
       "<KerasTensor: shape=(None, 4) dtype=float32 (created by layer 'dense_4_input')>"
      ]
     },
     "execution_count": 16,
     "metadata": {},
     "output_type": "execute_result"
    }
   ],
   "source": [
    "# Input tensor from the 1st layer of the model\n",
    "inp = model.layers[0].input\n",
    "inp"
   ]
  },
  {
   "cell_type": "code",
   "execution_count": 17,
   "id": "682d96d2-7feb-41df-a201-525369869abd",
   "metadata": {
    "execution": {
     "iopub.execute_input": "2023-02-10T22:58:26.243952Z",
     "iopub.status.busy": "2023-02-10T22:58:26.243844Z",
     "iopub.status.idle": "2023-02-10T22:58:26.246495Z",
     "shell.execute_reply": "2023-02-10T22:58:26.246155Z",
     "shell.execute_reply.started": "2023-02-10T22:58:26.243942Z"
    },
    "tags": []
   },
   "outputs": [
    {
     "data": {
      "text/plain": [
       "<KerasTensor: shape=(None, 2) dtype=float32 (created by layer 'dense_4')>"
      ]
     },
     "execution_count": 17,
     "metadata": {},
     "output_type": "execute_result"
    }
   ],
   "source": [
    "# Output tensor from the 1st layer of the model\n",
    "out = model.layers[0].output\n",
    "out"
   ]
  },
  {
   "cell_type": "code",
   "execution_count": 18,
   "id": "274da7d1",
   "metadata": {
    "execution": {
     "iopub.execute_input": "2023-02-10T22:58:26.247072Z",
     "iopub.status.busy": "2023-02-10T22:58:26.246892Z",
     "iopub.status.idle": "2023-02-10T22:58:26.253477Z",
     "shell.execute_reply": "2023-02-10T22:58:26.253176Z",
     "shell.execute_reply.started": "2023-02-10T22:58:26.247062Z"
    },
    "scrolled": true,
    "tags": []
   },
   "outputs": [
    {
     "name": "stdout",
     "output_type": "stream",
     "text": [
      "[array([[ 0.        ,  0.        ],\n",
      "       [ 0.        ,  0.        ],\n",
      "       [ 0.        ,  0.        ],\n",
      "       [ 1.1096708 ,  0.05428107],\n",
      "       [ 0.        ,  0.        ],\n",
      "       [ 0.        ,  0.        ],\n",
      "       [ 0.        ,  0.        ],\n",
      "       [ 0.        ,  0.        ],\n",
      "       [ 0.        ,  0.        ],\n",
      "       [ 2.3757741 ,  1.1000274 ],\n",
      "       [ 0.        ,  0.        ],\n",
      "       [ 3.7494466 ,  0.8449466 ],\n",
      "       [ 0.5071011 ,  0.        ],\n",
      "       [ 0.        ,  4.285106  ],\n",
      "       [ 0.        ,  0.        ],\n",
      "       [ 0.        ,  0.        ],\n",
      "       [ 0.        ,  1.8789241 ],\n",
      "       [ 2.2024531 ,  0.54275537],\n",
      "       [ 2.1353226 ,  3.4637218 ],\n",
      "       [ 0.93391037,  0.        ],\n",
      "       [ 0.        ,  5.4661026 ],\n",
      "       [ 0.        ,  0.        ],\n",
      "       [ 0.        ,  3.7688603 ],\n",
      "       [ 2.5492413 ,  6.007365  ],\n",
      "       [ 0.        ,  8.3545    ],\n",
      "       [ 0.        ,  5.897619  ],\n",
      "       [ 0.        ,  3.4739256 ],\n",
      "       [ 0.        ,  0.27955875],\n",
      "       [ 0.        ,  0.        ],\n",
      "       [ 0.        ,  0.        ],\n",
      "       [ 0.        ,  0.        ],\n",
      "       [ 1.063346  ,  1.7841879 ],\n",
      "       [ 0.        ,  0.        ],\n",
      "       [ 0.        ,  0.        ],\n",
      "       [ 0.58590823,  0.        ],\n",
      "       [ 4.0982337 ,  0.26036328],\n",
      "       [ 1.0160142 ,  0.        ],\n",
      "       [ 0.        ,  1.9143898 ],\n",
      "       [ 0.        ,  2.176708  ],\n",
      "       [ 0.        ,  1.8595593 ],\n",
      "       [ 0.        , 14.802787  ],\n",
      "       [ 0.13555019, 10.755733  ],\n",
      "       [ 1.1995269 ,  2.1618164 ],\n",
      "       [ 0.        ,  0.3234914 ],\n",
      "       [ 0.        ,  0.        ],\n",
      "       [ 0.        ,  0.25227886],\n",
      "       [ 0.        ,  5.1127806 ],\n",
      "       [ 0.        ,  0.        ],\n",
      "       [ 2.3362017 ,  3.6627936 ],\n",
      "       [ 1.5403275 ,  0.        ],\n",
      "       [ 0.        ,  0.        ],\n",
      "       [ 0.        ,  1.2912943 ],\n",
      "       [ 0.        ,  0.        ],\n",
      "       [ 0.        ,  0.        ],\n",
      "       [ 0.        ,  2.491596  ],\n",
      "       [ 0.        , 10.9540615 ],\n",
      "       [ 0.        ,  1.75996   ],\n",
      "       [ 0.        ,  0.        ],\n",
      "       [ 0.        ,  0.        ],\n",
      "       [ 0.        ,  0.        ],\n",
      "       [ 0.        ,  0.        ],\n",
      "       [ 0.        ,  1.4999367 ],\n",
      "       [ 0.        ,  0.        ],\n",
      "       [ 0.        , 12.966216  ],\n",
      "       [ 2.6304603 ,  3.9224737 ],\n",
      "       [ 0.96494746,  0.        ],\n",
      "       [ 0.45211434,  1.2234371 ],\n",
      "       [ 0.        ,  0.27955088],\n",
      "       [ 1.5287572 ,  0.        ],\n",
      "       [ 0.7407973 ,  0.        ],\n",
      "       [ 0.        , 14.089293  ],\n",
      "       [ 0.        ,  0.        ],\n",
      "       [ 0.        ,  0.        ],\n",
      "       [ 1.1803703 ,  0.        ],\n",
      "       [ 0.        ,  1.8256041 ],\n",
      "       [ 1.315497  ,  0.08143382],\n",
      "       [ 2.0363812 ,  0.        ],\n",
      "       [ 0.13105786,  2.2926636 ],\n",
      "       [ 0.        ,  2.0434217 ],\n",
      "       [ 0.57923573,  2.7576492 ],\n",
      "       [ 0.7737312 ,  0.        ],\n",
      "       [ 1.0106848 ,  0.        ],\n",
      "       [ 2.2073972 ,  0.        ],\n",
      "       [ 0.        , 12.621654  ],\n",
      "       [ 0.        ,  0.        ],\n",
      "       [ 0.        ,  0.        ],\n",
      "       [ 0.        ,  0.        ],\n",
      "       [ 0.        ,  4.799416  ],\n",
      "       [ 0.        ,  1.2992578 ],\n",
      "       [ 0.        ,  0.        ],\n",
      "       [ 4.129715  ,  1.5686852 ],\n",
      "       [ 0.        ,  0.        ],\n",
      "       [ 3.247898  ,  4.5502553 ],\n",
      "       [ 0.        ,  0.        ],\n",
      "       [ 0.        ,  0.        ],\n",
      "       [ 0.        ,  0.        ],\n",
      "       [ 0.48682168,  1.4909823 ],\n",
      "       [ 0.        ,  0.        ],\n",
      "       [ 0.        ,  2.2905939 ],\n",
      "       [ 0.        ,  0.        ],\n",
      "       [ 2.651139  ,  1.2119564 ],\n",
      "       [ 0.        ,  0.        ],\n",
      "       [ 0.        ,  8.03345   ],\n",
      "       [ 0.        ,  0.        ],\n",
      "       [ 0.        ,  1.596599  ],\n",
      "       [ 0.70406926,  0.        ],\n",
      "       [ 0.        ,  0.        ],\n",
      "       [ 0.        ,  0.        ],\n",
      "       [ 0.90633297,  1.8675289 ],\n",
      "       [ 0.        ,  0.735056  ],\n",
      "       [ 0.3883456 ,  0.        ],\n",
      "       [ 2.469641  ,  1.3987428 ],\n",
      "       [ 0.        , 15.216411  ],\n",
      "       [ 0.        ,  0.        ],\n",
      "       [ 0.        ,  3.9272358 ],\n",
      "       [ 0.        ,  0.        ],\n",
      "       [ 1.9662719 ,  0.        ],\n",
      "       [ 3.1138594 ,  0.        ],\n",
      "       [ 0.66630864,  0.        ],\n",
      "       [ 0.86601436,  0.        ],\n",
      "       [ 0.        ,  0.43543112],\n",
      "       [ 0.        ,  8.007865  ],\n",
      "       [ 0.        ,  0.        ],\n",
      "       [ 0.        ,  0.        ],\n",
      "       [ 0.        ,  0.        ],\n",
      "       [ 0.45377016,  0.5425251 ],\n",
      "       [ 0.        ,  0.        ],\n",
      "       [ 0.        ,  0.        ],\n",
      "       [ 0.        ,  1.2808805 ],\n",
      "       [ 0.        ,  0.        ],\n",
      "       [ 0.        ,  0.        ],\n",
      "       [ 1.3059605 ,  0.13890363],\n",
      "       [ 0.        ,  0.        ],\n",
      "       [ 0.        ,  0.        ],\n",
      "       [ 0.        ,  0.        ],\n",
      "       [ 0.        ,  5.0494895 ],\n",
      "       [ 0.        ,  2.491596  ],\n",
      "       [ 0.        ,  2.1907792 ],\n",
      "       [ 0.        ,  2.491596  ],\n",
      "       [ 0.        ,  0.10368907],\n",
      "       [ 0.        ,  0.        ],\n",
      "       [ 0.        ,  0.        ],\n",
      "       [ 0.65587944,  1.7271936 ],\n",
      "       [ 1.8346796 ,  1.549684  ],\n",
      "       [ 0.        ,  0.        ],\n",
      "       [ 0.        ,  0.        ],\n",
      "       [ 1.0670288 ,  0.16937761],\n",
      "       [ 2.2476144 ,  4.215093  ],\n",
      "       [ 0.        ,  4.3646336 ],\n",
      "       [ 0.        ,  0.25760657],\n",
      "       [ 1.1023684 ,  0.        ],\n",
      "       [ 0.        ,  0.        ],\n",
      "       [ 3.2477982 ,  4.9185514 ],\n",
      "       [ 0.        ,  0.        ],\n",
      "       [ 0.        ,  1.5047812 ],\n",
      "       [ 2.6152978 ,  5.544326  ],\n",
      "       [ 1.8526614 ,  2.3447134 ],\n",
      "       [ 0.        ,  0.        ],\n",
      "       [ 0.        ,  5.4537344 ],\n",
      "       [ 0.        , 10.325605  ],\n",
      "       [ 1.4383454 ,  2.0309024 ],\n",
      "       [ 0.        ,  3.779332  ],\n",
      "       [ 0.        ,  0.        ],\n",
      "       [ 0.        ,  0.        ],\n",
      "       [ 0.        ,  0.        ],\n",
      "       [ 3.5702255 ,  0.        ],\n",
      "       [ 2.0593278 ,  1.7984046 ],\n",
      "       [ 0.        ,  0.        ],\n",
      "       [ 0.        ,  0.        ],\n",
      "       [ 0.        ,  0.        ],\n",
      "       [ 0.08618734,  0.        ],\n",
      "       [ 0.8208343 ,  0.        ],\n",
      "       [ 3.2755144 ,  0.6393096 ],\n",
      "       [ 0.        ,  0.        ],\n",
      "       [ 0.        ,  8.811569  ],\n",
      "       [ 0.        ,  0.        ],\n",
      "       [ 0.        ,  0.        ],\n",
      "       [ 0.        , 14.102169  ],\n",
      "       [ 0.81351554,  0.        ],\n",
      "       [ 2.11022   ,  0.        ],\n",
      "       [ 0.        ,  0.        ],\n",
      "       [ 0.        ,  0.        ],\n",
      "       [ 0.        ,  2.1033473 ],\n",
      "       [ 2.5590138 ,  3.757069  ],\n",
      "       [ 0.        ,  0.        ],\n",
      "       [ 2.4907312 ,  3.8952558 ],\n",
      "       [ 0.        ,  0.        ],\n",
      "       [ 0.37982967,  0.        ],\n",
      "       [ 1.3518356 ,  0.47365892],\n",
      "       [ 0.9323758 ,  0.        ],\n",
      "       [ 2.3006878 ,  0.8389609 ],\n",
      "       [ 1.9125736 ,  2.4963279 ],\n",
      "       [ 0.        ,  7.9764953 ],\n",
      "       [ 2.3522143 ,  0.        ],\n",
      "       [ 0.        ,  0.        ],\n",
      "       [ 0.        ,  1.3105805 ],\n",
      "       [ 0.        ,  0.        ],\n",
      "       [ 0.        ,  5.096659  ],\n",
      "       [ 0.        ,  0.27955088],\n",
      "       [ 0.        ,  0.        ],\n",
      "       [ 0.        ,  7.0615177 ],\n",
      "       [ 1.6411493 ,  0.        ],\n",
      "       [ 1.8321378 ,  0.3097847 ],\n",
      "       [ 0.        ,  0.        ],\n",
      "       [ 1.7803898 ,  0.        ],\n",
      "       [ 0.        ,  0.        ],\n",
      "       [ 0.        ,  0.        ],\n",
      "       [ 0.        ,  1.3434398 ],\n",
      "       [ 3.1550777 ,  4.7734513 ],\n",
      "       [ 0.        ,  1.504923  ],\n",
      "       [ 0.        ,  0.        ],\n",
      "       [ 0.        ,  0.        ],\n",
      "       [ 0.        ,  0.        ],\n",
      "       [ 0.        ,  0.        ],\n",
      "       [ 0.        ,  0.09025159],\n",
      "       [ 0.        ,  0.        ],\n",
      "       [ 0.        ,  5.0284567 ],\n",
      "       [ 0.        ,  0.        ],\n",
      "       [ 0.        ,  5.4196815 ],\n",
      "       [ 0.        ,  0.        ],\n",
      "       [ 3.4737952 ,  5.227554  ],\n",
      "       [ 0.        ,  2.0380251 ],\n",
      "       [ 0.        ,  1.655581  ],\n",
      "       [ 0.01712883,  0.        ],\n",
      "       [ 0.        ,  0.        ],\n",
      "       [ 0.        ,  0.        ],\n",
      "       [ 0.        ,  0.        ],\n",
      "       [ 0.6171763 ,  0.        ],\n",
      "       [ 0.        ,  1.017763  ],\n",
      "       [ 0.        , 10.0635805 ],\n",
      "       [ 0.        ,  0.        ],\n",
      "       [ 0.        ,  0.        ],\n",
      "       [ 5.081835  ,  0.8720303 ],\n",
      "       [ 0.        ,  0.27955088],\n",
      "       [ 0.9434402 ,  0.        ],\n",
      "       [ 0.        ,  0.        ],\n",
      "       [ 0.        ,  5.482536  ],\n",
      "       [ 0.        , 13.941284  ],\n",
      "       [ 0.        ,  7.7124634 ],\n",
      "       [ 0.        ,  0.        ],\n",
      "       [ 0.        ,  0.        ],\n",
      "       [ 0.        ,  0.        ],\n",
      "       [ 3.4412355 ,  0.        ],\n",
      "       [ 0.        ,  6.3964543 ],\n",
      "       [ 0.        ,  0.        ],\n",
      "       [ 2.1466954 ,  3.4332235 ],\n",
      "       [ 1.2474905 ,  0.        ],\n",
      "       [ 0.        ,  3.4162714 ],\n",
      "       [ 0.        ,  0.        ],\n",
      "       [ 0.        ,  6.121319  ],\n",
      "       [ 0.        ,  0.        ],\n",
      "       [ 0.        , 15.275687  ],\n",
      "       [ 0.        ,  4.179622  ],\n",
      "       [ 0.        ,  9.165715  ],\n",
      "       [ 0.        , 12.948055  ],\n",
      "       [ 0.        ,  0.        ],\n",
      "       [ 0.        ,  8.043718  ],\n",
      "       [ 0.        ,  2.645896  ],\n",
      "       [ 0.        ,  0.        ],\n",
      "       [ 3.4338703 ,  0.6065852 ],\n",
      "       [ 1.579808  ,  0.        ],\n",
      "       [ 0.        ,  0.        ],\n",
      "       [ 0.        ,  0.        ],\n",
      "       [ 0.        ,  0.        ],\n",
      "       [ 0.29958   ,  0.        ],\n",
      "       [ 1.8604318 ,  3.288444  ],\n",
      "       [ 0.        ,  0.        ],\n",
      "       [ 0.        ,  0.        ],\n",
      "       [ 0.        ,  8.658277  ],\n",
      "       [ 0.5098731 ,  1.0724565 ],\n",
      "       [ 0.        ,  0.        ],\n",
      "       [ 0.        ,  0.        ],\n",
      "       [ 0.        ,  0.        ],\n",
      "       [ 0.        ,  0.        ],\n",
      "       [ 0.        ,  0.        ],\n",
      "       [ 0.        ,  0.        ],\n",
      "       [ 1.0088681 ,  0.        ],\n",
      "       [ 0.        ,  5.272909  ],\n",
      "       [ 0.        ,  0.        ],\n",
      "       [ 0.        ,  8.301593  ],\n",
      "       [ 0.93374515,  0.        ],\n",
      "       [ 0.        ,  1.4648752 ],\n",
      "       [ 0.        ,  0.        ],\n",
      "       [ 1.9220608 ,  0.439723  ],\n",
      "       [ 0.        ,  0.        ],\n",
      "       [ 6.218614  ,  1.5914289 ],\n",
      "       [ 0.        ,  0.        ],\n",
      "       [ 0.        ,  0.        ],\n",
      "       [ 0.        ,  0.        ],\n",
      "       [ 0.        ,  0.        ],\n",
      "       [ 0.        ,  0.        ],\n",
      "       [ 0.6368049 ,  0.        ],\n",
      "       [ 0.7015247 ,  0.7188461 ],\n",
      "       [ 1.5165879 ,  0.        ],\n",
      "       [ 0.        ,  0.        ],\n",
      "       [ 0.        ,  0.        ],\n",
      "       [ 0.        ,  0.        ],\n",
      "       [ 0.        ,  0.        ],\n",
      "       [ 0.        ,  0.        ],\n",
      "       [ 4.63176   ,  1.0340714 ],\n",
      "       [ 0.        ,  1.9662527 ],\n",
      "       [ 1.1076741 ,  0.        ],\n",
      "       [ 2.540276  ,  0.        ],\n",
      "       [ 0.        ,  1.4238715 ],\n",
      "       [ 0.        ,  0.        ],\n",
      "       [ 0.        ,  0.        ],\n",
      "       [ 0.        ,  0.        ],\n",
      "       [ 0.        ,  9.710896  ],\n",
      "       [ 0.        ,  0.        ],\n",
      "       [ 1.676025  ,  1.9784027 ],\n",
      "       [ 0.        ,  0.        ],\n",
      "       [ 2.6889372 ,  0.        ],\n",
      "       [ 0.        ,  0.        ],\n",
      "       [ 0.        ,  0.        ],\n",
      "       [ 0.        ,  0.        ],\n",
      "       [ 0.        ,  0.        ],\n",
      "       [ 0.        ,  0.        ],\n",
      "       [ 0.        ,  0.        ],\n",
      "       [ 2.7694206 ,  5.6558495 ],\n",
      "       [ 0.        ,  2.4744496 ],\n",
      "       [ 0.        ,  7.309707  ],\n",
      "       [ 1.2572807 ,  0.        ],\n",
      "       [ 0.        ,  0.        ],\n",
      "       [ 0.        ,  0.        ],\n",
      "       [ 0.        ,  2.254882  ],\n",
      "       [ 0.        ,  0.        ],\n",
      "       [ 1.3619982 ,  1.1844109 ],\n",
      "       [ 0.07695025,  0.        ],\n",
      "       [ 1.2423595 ,  0.260739  ],\n",
      "       [ 3.094224  ,  0.        ],\n",
      "       [ 1.6993012 ,  3.3919349 ],\n",
      "       [ 0.        ,  0.        ],\n",
      "       [ 1.1441178 ,  0.        ],\n",
      "       [ 3.9543042 ,  1.2471572 ],\n",
      "       [ 0.        ,  0.        ],\n",
      "       [ 0.        ,  0.        ],\n",
      "       [ 0.        ,  0.        ],\n",
      "       [ 0.        ,  7.683859  ],\n",
      "       [ 0.79611987,  0.        ],\n",
      "       [ 0.        ,  0.        ],\n",
      "       [ 0.        ,  0.        ],\n",
      "       [ 0.        ,  0.09800342],\n",
      "       [ 0.9111407 ,  0.        ],\n",
      "       [ 0.        ,  1.0214816 ],\n",
      "       [ 1.8960564 ,  3.8967078 ],\n",
      "       [ 2.1396852 ,  0.        ],\n",
      "       [ 3.147181  ,  6.1230435 ],\n",
      "       [ 0.        ,  0.        ],\n",
      "       [ 0.        ,  0.        ],\n",
      "       [ 0.        ,  5.2700243 ],\n",
      "       [ 0.81351554,  0.        ],\n",
      "       [ 0.        ,  8.340272  ],\n",
      "       [ 1.1847137 ,  1.6610736 ],\n",
      "       [ 0.        ,  0.        ],\n",
      "       [ 0.        ,  4.0553594 ],\n",
      "       [ 0.        ,  5.8977532 ],\n",
      "       [ 0.        ,  0.        ],\n",
      "       [ 0.        ,  0.77442193],\n",
      "       [ 0.        ,  0.        ],\n",
      "       [ 0.        ,  7.722895  ],\n",
      "       [ 0.        ,  0.        ],\n",
      "       [ 0.        ,  0.        ],\n",
      "       [ 0.        ,  0.        ],\n",
      "       [ 0.        ,  0.        ],\n",
      "       [ 0.        ,  1.070721  ],\n",
      "       [ 0.        ,  4.9754663 ],\n",
      "       [ 0.07769956, 11.092149  ],\n",
      "       [ 1.4653986 ,  3.2426994 ],\n",
      "       [ 0.        , 14.6156845 ],\n",
      "       [ 0.60500157,  0.        ],\n",
      "       [ 0.        ,  0.        ],\n",
      "       [ 0.        ,  6.2920094 ],\n",
      "       [ 0.        ,  0.        ],\n",
      "       [ 0.        ,  0.        ],\n",
      "       [ 0.        , 14.139856  ],\n",
      "       [ 0.        ,  2.420948  ],\n",
      "       [ 0.        ,  9.139495  ],\n",
      "       [ 1.3260987 ,  0.        ],\n",
      "       [ 0.        ,  0.        ],\n",
      "       [ 1.4330198 ,  3.0905042 ],\n",
      "       [ 0.        ,  6.800233  ],\n",
      "       [ 0.        ,  4.545412  ],\n",
      "       [ 0.        ,  0.        ],\n",
      "       [ 0.        ,  0.        ],\n",
      "       [ 0.        , 15.57756   ],\n",
      "       [ 0.        ,  0.        ],\n",
      "       [ 2.1974697 ,  0.7961474 ],\n",
      "       [ 0.        , 14.147933  ],\n",
      "       [ 0.        ,  0.        ],\n",
      "       [ 3.0150976 ,  4.2823515 ],\n",
      "       [ 0.        ,  0.        ],\n",
      "       [ 0.        ,  0.        ],\n",
      "       [ 4.541543  ,  0.6417565 ],\n",
      "       [ 0.        ,  0.        ],\n",
      "       [ 0.26568708,  0.47712526],\n",
      "       [ 0.        ,  0.        ],\n",
      "       [ 1.3469751 ,  0.3032218 ],\n",
      "       [ 0.        ,  0.        ],\n",
      "       [ 1.6936834 ,  0.        ],\n",
      "       [ 0.        ,  0.        ],\n",
      "       [ 0.        , 10.21883   ],\n",
      "       [ 0.        ,  0.        ],\n",
      "       [ 0.33759174,  0.        ],\n",
      "       [ 0.03356411,  0.        ],\n",
      "       [ 0.        ,  0.        ],\n",
      "       [ 0.19227032,  0.        ],\n",
      "       [ 0.06979363,  0.        ],\n",
      "       [ 0.        ,  4.3318334 ],\n",
      "       [ 0.8368893 ,  0.        ],\n",
      "       [ 2.2663336 ,  0.        ],\n",
      "       [ 0.        ,  0.        ],\n",
      "       [ 0.        ,  1.2927738 ]], dtype=float32)]\n"
     ]
    }
   ],
   "source": [
    "# Define a function from inputs to outputs\n",
    "inp_to_out = K.function([inp], [out])\n",
    "# Print the results of passing X_test through the 1st layer\n",
    "print(inp_to_out(X_test))"
   ]
  },
  {
   "cell_type": "markdown",
   "id": "fe2550dc-b6fc-40fe-b3f5-150941a1172e",
   "metadata": {},
   "source": [
    "### Neural separation\n",
    "\n",
    "Put on your gloves because you're going to perform brain surgery!\n",
    "\n",
    "Neurons learn by updating their weights to output values that help them better distinguish between the different output classes in your dataset.\n",
    "\n",
    "**You will make use of the inp_to_out() function you just built to visualize the output of two neurons in the first layer of the Banknote Authentication model as it learns.**\n",
    "\n",
    "The model you built in chapter 2 is ready for you to use, just like X_test and y_test. Paste show_code(plot) in the console if you want to check plot().\n",
    "\n",
    "You're performing heavy duty, once all is done, click through the graphs to watch the separation live!"
   ]
  },
  {
   "cell_type": "code",
   "execution_count": 19,
   "id": "811e55d9-e48d-458a-9e70-a98fb8072e1e",
   "metadata": {
    "execution": {
     "iopub.execute_input": "2023-02-10T22:58:26.253957Z",
     "iopub.status.busy": "2023-02-10T22:58:26.253852Z",
     "iopub.status.idle": "2023-02-10T22:58:26.269718Z",
     "shell.execute_reply": "2023-02-10T22:58:26.269461Z",
     "shell.execute_reply.started": "2023-02-10T22:58:26.253947Z"
    },
    "tags": []
   },
   "outputs": [
    {
     "name": "stdout",
     "output_type": "stream",
     "text": [
      "Model: \"sequential_4\"\n",
      "_________________________________________________________________\n",
      " Layer (type)                Output Shape              Param #   \n",
      "=================================================================\n",
      " dense_6 (Dense)             (None, 2)                 10        \n",
      "                                                                 \n",
      " dense_7 (Dense)             (None, 1)                 3         \n",
      "                                                                 \n",
      "=================================================================\n",
      "Total params: 13\n",
      "Trainable params: 13\n",
      "Non-trainable params: 0\n",
      "_________________________________________________________________\n"
     ]
    },
    {
     "data": {
      "text/plain": [
       "{'name': 'SGD',\n",
       " 'learning_rate': 0.01,\n",
       " 'decay': 0.0,\n",
       " 'momentum': 0.0,\n",
       " 'nesterov': False}"
      ]
     },
     "execution_count": 19,
     "metadata": {},
     "output_type": "execute_result"
    }
   ],
   "source": [
    "model = Sequential()\n",
    "model.add(Dense(2, input_shape=(4,), activation='relu'))\n",
    "model.add(Dense(1, activation='sigmoid'))\n",
    "model.compile(optimizer='SGD', loss='binary_crossentropy', metrics=['accuracy'])\n",
    "model.summary()\n",
    "model.optimizer.get_config()"
   ]
  },
  {
   "cell_type": "code",
   "execution_count": 20,
   "id": "dc30ee7d-5daa-40f6-ad5a-9c1032ef9bbf",
   "metadata": {
    "execution": {
     "iopub.execute_input": "2023-02-10T22:58:26.270290Z",
     "iopub.status.busy": "2023-02-10T22:58:26.270086Z",
     "iopub.status.idle": "2023-02-10T22:58:26.273048Z",
     "shell.execute_reply": "2023-02-10T22:58:26.272773Z",
     "shell.execute_reply.started": "2023-02-10T22:58:26.270279Z"
    },
    "tags": []
   },
   "outputs": [],
   "source": [
    "# Define a function from inputs to outputs\n",
    "inp_to_out = K.function([model.layers[0].input], [model.layers[0].output])"
   ]
  },
  {
   "cell_type": "code",
   "execution_count": 21,
   "id": "47f070c1-5f32-471e-b519-fd731bdf1891",
   "metadata": {
    "execution": {
     "iopub.execute_input": "2023-02-10T22:58:26.273621Z",
     "iopub.status.busy": "2023-02-10T22:58:26.273393Z",
     "iopub.status.idle": "2023-02-10T22:58:26.277085Z",
     "shell.execute_reply": "2023-02-10T22:58:26.276761Z",
     "shell.execute_reply.started": "2023-02-10T22:58:26.273612Z"
    },
    "tags": []
   },
   "outputs": [
    {
     "data": {
      "text/plain": [
       "((1097, 4), (275, 4), (1097,), (275,))"
      ]
     },
     "execution_count": 21,
     "metadata": {},
     "output_type": "execute_result"
    }
   ],
   "source": [
    "X_train, X_test, y_train, y_test = \\\n",
    "    train_test_split(banknotes.iloc[:, 0:-1],\n",
    "                     banknotes.iloc[:,-1],\n",
    "                     test_size=0.2)\n",
    "X_train, X_test, y_train, y_test = \\\n",
    "    X_train.values, X_test.values, y_train.values, y_test.values\n",
    "X_train.shape, X_test.shape, y_train.shape, y_test.shape"
   ]
  },
  {
   "cell_type": "code",
   "execution_count": 22,
   "id": "b65692b4-5591-48b1-b4ed-02cda3953ef1",
   "metadata": {
    "execution": {
     "iopub.execute_input": "2023-02-10T22:58:26.279448Z",
     "iopub.status.busy": "2023-02-10T22:58:26.279225Z",
     "iopub.status.idle": "2023-02-10T22:58:26.281617Z",
     "shell.execute_reply": "2023-02-10T22:58:26.281334Z",
     "shell.execute_reply.started": "2023-02-10T22:58:26.279436Z"
    },
    "tags": []
   },
   "outputs": [],
   "source": [
    "def plot():\n",
    "    fig, ax = plt.subplots(figsize=(3,3))\n",
    "    plt.scatter(layer_output[:, 0], layer_output[:, 1], c=y_test, edgecolors='none', marker='.')\n",
    "    plt.title('Epoch: {}, Test Accuracy: {:3.1f} %'.format(i+1, test_accuracy * 100.0))\n",
    "    plt.show()"
   ]
  },
  {
   "cell_type": "code",
   "execution_count": 23,
   "id": "ab6d0365-f8e0-4a31-b7c5-74f2a4e408f2",
   "metadata": {
    "execution": {
     "iopub.execute_input": "2023-02-10T22:58:26.282181Z",
     "iopub.status.busy": "2023-02-10T22:58:26.281985Z",
     "iopub.status.idle": "2023-02-10T22:58:28.280822Z",
     "shell.execute_reply": "2023-02-10T22:58:28.280547Z",
     "shell.execute_reply.started": "2023-02-10T22:58:26.282170Z"
    },
    "tags": []
   },
   "outputs": [
    {
     "name": "stdout",
     "output_type": "stream",
     "text": [
      "9/9 [==============================] - 0s 839us/step - loss: 0.3323 - accuracy: 0.8582\n"
     ]
    },
    {
     "data": {
      "image/png": "[encoded data removed]",
      "text/plain": [
       "<Figure size 300x300 with 1 Axes>"
      ]
     },
     "metadata": {},
     "output_type": "display_data"
    },
    {
     "name": "stdout",
     "output_type": "stream",
     "text": [
      "9/9 [==============================] - 0s 680us/step - loss: 0.1468 - accuracy: 0.9964\n"
     ]
    },
    {
     "data": {
      "image/png": "[encoded data removed]",
      "text/plain": [
       "<Figure size 300x300 with 1 Axes>"
      ]
     },
     "metadata": {},
     "output_type": "display_data"
    },
    {
     "name": "stdout",
     "output_type": "stream",
     "text": [
      "9/9 [==============================] - 0s 630us/step - loss: 0.1102 - accuracy: 0.9964\n"
     ]
    },
    {
     "data": {
      "image/png": "[encoded data removed]",
      "text/plain": [
       "<Figure size 300x300 with 1 Axes>"
      ]
     },
     "metadata": {},
     "output_type": "display_data"
    },
    {
     "name": "stdout",
     "output_type": "stream",
     "text": [
      "9/9 [==============================] - 0s 836us/step - loss: 0.0890 - accuracy: 1.0000\n"
     ]
    },
    {
     "data": {
      "image/png": "[encoded data removed]",
      "text/plain": [
       "<Figure size 300x300 with 1 Axes>"
      ]
     },
     "metadata": {},
     "output_type": "display_data"
    },
    {
     "name": "stdout",
     "output_type": "stream",
     "text": [
      "9/9 [==============================] - 0s 618us/step - loss: 0.0743 - accuracy: 1.0000\n"
     ]
    },
    {
     "data": {
      "image/png": "[encoded data removed]",
      "text/plain": [
       "<Figure size 300x300 with 1 Axes>"
      ]
     },
     "metadata": {},
     "output_type": "display_data"
    },
    {
     "name": "stdout",
     "output_type": "stream",
     "text": [
      "9/9 [==============================] - 0s 657us/step - loss: 0.0645 - accuracy: 0.9964\n"
     ]
    },
    {
     "data": {
      "image/png": "[encoded data removed]",
      "text/plain": [
       "<Figure size 300x300 with 1 Axes>"
      ]
     },
     "metadata": {},
     "output_type": "display_data"
    }
   ],
   "source": [
    "for i in range(0, 21):\n",
    "    # Train model for 1 epoch\n",
    "    h = model.fit(X_train, y_train, batch_size = 16, epochs = 1, verbose = 0)\n",
    "    if i%4==0: \n",
    "        # Get the output of the first layer\n",
    "        layer_output = inp_to_out([X_test])[0]\n",
    "        # Evaluate model accuracy for this epoch\n",
    "        test_accuracy = model.evaluate(X_test, y_test)[1] \n",
    "        # Plot 1st vs 2nd neuron output\n",
    "        plot()"
   ]
  },
  {
   "cell_type": "markdown",
   "id": "a070d1c6-e409-4449-b5f0-147dd8681904",
   "metadata": {},
   "source": [
    "If you take a look at the graphs you can see how the neurons are learning to spread out the inputs based on whether they are fake or legit dollar bills.\n",
    "\n",
    "A single fake dollar bill is represented as a purple dot in the graph.\n",
    "\n",
    "At the start the outputs are closer to each other, the weights are learned as epochs go by so that fake and legit dollar bills get a different, further and further apart output."
   ]
  },
  {
   "cell_type": "markdown",
   "id": "2c4ada2b-2844-4deb-9722-466aae91af7e",
   "metadata": {},
   "source": [
    "### Building an autoencoder\n",
    "\n",
    "Autoencoders have several interesting applications like anomaly detection or image denoising. They aim at producing an output identical to its inputs. The input will be compressed into a lower dimensional space, encoded. The model then learns to decode it back to its original form.\n",
    "\n",
    "You will encode and decode the MNIST dataset of handwritten digits, the hidden layer will encode a 32-dimensional representation of the image, which originally consists of 784 pixels (28 x 28). The autoencoder will essentially learn to turn the 784 pixels original image into a compressed 32 pixels image and learn how to use that encoded representation to bring back the original 784 pixels image.\n",
    "\n",
    "The Sequential model and Dense layers are ready for you to use.\n",
    "\n",
    "Let's build an autoencoder!"
   ]
  },
  {
   "cell_type": "code",
   "execution_count": 24,
   "id": "ec132a67-9e19-417b-8166-33f090821631",
   "metadata": {
    "execution": {
     "iopub.execute_input": "2023-02-10T22:58:28.281313Z",
     "iopub.status.busy": "2023-02-10T22:58:28.281203Z",
     "iopub.status.idle": "2023-02-10T22:58:28.297816Z",
     "shell.execute_reply": "2023-02-10T22:58:28.297529Z",
     "shell.execute_reply.started": "2023-02-10T22:58:28.281302Z"
    },
    "tags": []
   },
   "outputs": [
    {
     "name": "stdout",
     "output_type": "stream",
     "text": [
      "Model: \"sequential_5\"\n",
      "_________________________________________________________________\n",
      " Layer (type)                Output Shape              Param #   \n",
      "=================================================================\n",
      " dense_8 (Dense)             (None, 32)                25120     \n",
      "                                                                 \n",
      " dense_9 (Dense)             (None, 784)               25872     \n",
      "                                                                 \n",
      "=================================================================\n",
      "Total params: 50,992\n",
      "Trainable params: 50,992\n",
      "Non-trainable params: 0\n",
      "_________________________________________________________________\n"
     ]
    },
    {
     "data": {
      "text/plain": [
       "{'name': 'Adadelta',\n",
       " 'learning_rate': 0.001,\n",
       " 'decay': 0.0,\n",
       " 'rho': 0.95,\n",
       " 'epsilon': 1e-07}"
      ]
     },
     "execution_count": 24,
     "metadata": {},
     "output_type": "execute_result"
    }
   ],
   "source": [
    "# Start with a sequential model\n",
    "autoencoder = Sequential()\n",
    "# Add a dense layer with input the original image pixels and neurons the encoded representation\n",
    "autoencoder.add(Dense(32, input_shape=(28*28, ), activation=\"relu\"))\n",
    "# Add an output layer with as many neurons as the orginal image pixels\n",
    "autoencoder.add(Dense(28*28, activation = \"sigmoid\"))\n",
    "# Compile your model with adadelta\n",
    "autoencoder.compile(optimizer = 'adadelta', loss = 'binary_crossentropy')\n",
    "# Summarize your model structure\n",
    "autoencoder.summary()\n",
    "autoencoder.optimizer.get_config()"
   ]
  },
  {
   "cell_type": "markdown",
   "id": "cb20ddf3-95ab-4903-8200-c020371efb91",
   "metadata": {},
   "source": [
    "### De-noising like an autoencoder\n",
    "\n",
    "Okay, you have just built an autoencoder model. Let's see how it handles a more challenging task.\n",
    "\n",
    "First, you will build a model that encodes images, and you will check how different digits are represented with show_encodings(). To build the encoder you will make use of your autoencoder, that has already being trained. You will just use the first half of the network, which contains the input and the bottleneck output. That way, you will obtain a 32 number output which represents the encoded version of the input image.\n",
    "\n",
    "Then, you will apply your autoencoder to noisy images from MNIST, it should be able to clean the noisy artifacts.\n",
    "\n",
    "Apply the power of the autoencoder!"
   ]
  },
  {
   "cell_type": "code",
   "execution_count": 25,
   "id": "725398b1-86cb-4605-b5df-5a20c4dd1802",
   "metadata": {
    "execution": {
     "iopub.execute_input": "2023-02-10T22:58:28.298352Z",
     "iopub.status.busy": "2023-02-10T22:58:28.298204Z",
     "iopub.status.idle": "2023-02-10T22:58:28.312888Z",
     "shell.execute_reply": "2023-02-10T22:58:28.312603Z",
     "shell.execute_reply.started": "2023-02-10T22:58:28.298342Z"
    },
    "tags": []
   },
   "outputs": [
    {
     "name": "stdout",
     "output_type": "stream",
     "text": [
      "Model: \"sequential_6\"\n",
      "_________________________________________________________________\n",
      " Layer (type)                Output Shape              Param #   \n",
      "=================================================================\n",
      " dense_10 (Dense)            (None, 32)                25120     \n",
      "                                                                 \n",
      " dense_11 (Dense)            (None, 784)               25872     \n",
      "                                                                 \n",
      "=================================================================\n",
      "Total params: 50,992\n",
      "Trainable params: 50,992\n",
      "Non-trainable params: 0\n",
      "_________________________________________________________________\n"
     ]
    },
    {
     "data": {
      "text/plain": [
       "{'name': 'Adadelta',\n",
       " 'learning_rate': 1.0,\n",
       " 'decay': 0.0,\n",
       " 'rho': 0.95,\n",
       " 'epsilon': 1e-07}"
      ]
     },
     "execution_count": 25,
     "metadata": {},
     "output_type": "execute_result"
    }
   ],
   "source": [
    "# course suddenly change Adadelta.learning rate shown in previous task\n",
    "autoencoder = Sequential()\n",
    "autoencoder.add(Dense(32, input_shape=(28*28, ), activation=\"relu\"))\n",
    "autoencoder.add(Dense(28*28, activation = \"sigmoid\"))\n",
    "autoencoder.compile(optimizer = tf.keras.optimizers.Adadelta(learning_rate=1.0),\n",
    "                    loss = 'binary_crossentropy')\n",
    "autoencoder.summary()\n",
    "autoencoder.optimizer.get_config()"
   ]
  },
  {
   "cell_type": "code",
   "execution_count": 26,
   "id": "3e96b78f-a63e-44e0-a130-180b2b8c76ca",
   "metadata": {
    "execution": {
     "iopub.execute_input": "2023-02-10T22:58:28.313375Z",
     "iopub.status.busy": "2023-02-10T22:58:28.313266Z",
     "iopub.status.idle": "2023-02-10T22:58:28.316906Z",
     "shell.execute_reply": "2023-02-10T22:58:28.316565Z",
     "shell.execute_reply.started": "2023-02-10T22:58:28.313364Z"
    },
    "tags": []
   },
   "outputs": [
    {
     "data": {
      "text/plain": [
       "((100, 784), (100, 784), (100,))"
      ]
     },
     "execution_count": 26,
     "metadata": {},
     "output_type": "execute_result"
    }
   ],
   "source": [
    "X_test = np.load('MNIST/X_test_MNIST.npy')\n",
    "X_test_noise = np.load('MNIST/X_test_MNIST_noise.npy')\n",
    "y_test  = np.load('MNIST/y_test_MNIST.npy')\n",
    "X_test.shape, X_test_noise.shape, y_test.shape"
   ]
  },
  {
   "cell_type": "code",
   "execution_count": 27,
   "id": "0fe1d0ab-b2a1-4b39-974a-f660da2adae9",
   "metadata": {
    "execution": {
     "iopub.execute_input": "2023-02-10T22:58:28.317371Z",
     "iopub.status.busy": "2023-02-10T22:58:28.317274Z",
     "iopub.status.idle": "2023-02-10T22:58:28.320839Z",
     "shell.execute_reply": "2023-02-10T22:58:28.320423Z",
     "shell.execute_reply.started": "2023-02-10T22:58:28.317362Z"
    },
    "tags": []
   },
   "outputs": [],
   "source": [
    "def show_encodings(encoded_imgs,number=1):\n",
    "    n = 5  # how many digits we will display\n",
    "    original = X_test_noise\n",
    "    original = original[np.where(y_test == number)]\n",
    "    encoded_imgs = encoded_imgs[np.where(y_test==number)]\n",
    "    plt.figure(figsize=(20, 4))\n",
    "    #plt.title('Original '+str(number)+' vs Encoded representation')\n",
    "    for i in range(min(n,len(original))):\n",
    "        # display original imgs\n",
    "        ax = plt.subplot(2, n, i + 1)\n",
    "        plt.imshow(original[i].reshape(28, 28))\n",
    "        plt.gray()\n",
    "        ax.get_xaxis().set_visible(False)\n",
    "        ax.get_yaxis().set_visible(False)\n",
    "\n",
    "        # display encoded imgs\n",
    "        ax = plt.subplot(2, n, i + 1 + n)\n",
    "        plt.imshow(np.tile(encoded_imgs[i],(32,1)))\n",
    "        plt.gray()\n",
    "        ax.get_xaxis().set_visible(False)\n",
    "        ax.get_yaxis().set_visible(False)\n",
    "    plt.show()"
   ]
  },
  {
   "cell_type": "code",
   "execution_count": 28,
   "id": "70094aa5-9db8-468c-a19f-afb93e609850",
   "metadata": {
    "execution": {
     "iopub.execute_input": "2023-02-10T22:58:28.321500Z",
     "iopub.status.busy": "2023-02-10T22:58:28.321248Z",
     "iopub.status.idle": "2023-02-10T22:58:28.471959Z",
     "shell.execute_reply": "2023-02-10T22:58:28.471585Z",
     "shell.execute_reply.started": "2023-02-10T22:58:28.321489Z"
    },
    "tags": []
   },
   "outputs": [
    {
     "name": "stdout",
     "output_type": "stream",
     "text": [
      "4/4 [==============================] - 0s 774us/step\n"
     ]
    },
    {
     "data": {
      "image/png": "[encoded data removed]",
      "text/plain": [
       "<Figure size 2000x400 with 10 Axes>"
      ]
     },
     "metadata": {},
     "output_type": "display_data"
    }
   ],
   "source": [
    "# Build your encoder by using the first layer of your autoencoder\n",
    "encoder = Sequential()\n",
    "encoder.add(autoencoder.layers[0])\n",
    "# Encode the noisy images and show the encodings for your favorite number [0-9]\n",
    "encodings = encoder.predict(X_test_noise)\n",
    "show_encodings(encodings, number = 1)"
   ]
  },
  {
   "cell_type": "markdown",
   "id": "f56634e5-e0d4-41a4-ad25-36b731c017c0",
   "metadata": {},
   "source": [
    "* Predict on X_test_noise with your autoencoder, this will effectively perform both the encoding and decoding.\n",
    "* Plot noisy vs decoded images with compare_plot()."
   ]
  },
  {
   "cell_type": "code",
   "execution_count": 29,
   "id": "5698b6e6-d092-4f33-b5f6-17874c165d79",
   "metadata": {
    "execution": {
     "iopub.execute_input": "2023-02-10T22:58:28.472448Z",
     "iopub.status.busy": "2023-02-10T22:58:28.472346Z",
     "iopub.status.idle": "2023-02-10T22:58:28.475710Z",
     "shell.execute_reply": "2023-02-10T22:58:28.475286Z",
     "shell.execute_reply.started": "2023-02-10T22:58:28.472438Z"
    },
    "tags": []
   },
   "outputs": [],
   "source": [
    "def compare_plot(original,decoded_imgs):\n",
    "    n = 10  # How many digits we will display\n",
    "    plt.figure(figsize=(20, 4))\n",
    "    for i in range(n):\n",
    "        # Display original\n",
    "        ax = plt.subplot(2, n, i + 1)\n",
    "        plt.imshow(original[i].reshape(28, 28))\n",
    "        plt.gray()\n",
    "        ax.get_xaxis().set_visible(False)\n",
    "        ax.get_yaxis().set_visible(False)\n",
    "\n",
    "        # Display reconstruction\n",
    "        ax = plt.subplot(2, n, i + 1 + n)\n",
    "        plt.imshow(decoded_imgs[i].reshape(28, 28))\n",
    "        plt.gray()\n",
    "        ax.get_xaxis().set_visible(False)\n",
    "        ax.get_yaxis().set_visible(False)\n",
    "    plt.title('Noisy vs Decoded images')\n",
    "    plt.show()"
   ]
  },
  {
   "cell_type": "code",
   "execution_count": 30,
   "id": "2e4ef912-a75d-4d0c-825b-dafe7a51e703",
   "metadata": {
    "execution": {
     "iopub.execute_input": "2023-02-10T22:58:28.476273Z",
     "iopub.status.busy": "2023-02-10T22:58:28.476109Z",
     "iopub.status.idle": "2023-02-10T22:58:31.347934Z",
     "shell.execute_reply": "2023-02-10T22:58:31.347461Z",
     "shell.execute_reply.started": "2023-02-10T22:58:28.476263Z"
    },
    "tags": []
   },
   "outputs": [
    {
     "data": {
      "image/png": "[encoded data removed]",
      "text/plain": [
       "<Figure size 640x480 with 1 Axes>"
      ]
     },
     "metadata": {},
     "output_type": "display_data"
    }
   ],
   "source": [
    "# training not mentioned in the course\n",
    "h = autoencoder.fit(X_test_noise, X_test, epochs=1000, verbose=0)\n",
    "_ = plt.plot(h.history['loss'])"
   ]
  },
  {
   "cell_type": "code",
   "execution_count": 31,
   "id": "6a6d16bb-effa-45df-a039-fe46547d1dcb",
   "metadata": {
    "execution": {
     "iopub.execute_input": "2023-02-10T22:58:31.348450Z",
     "iopub.status.busy": "2023-02-10T22:58:31.348345Z",
     "iopub.status.idle": "2023-02-10T22:58:31.618529Z",
     "shell.execute_reply": "2023-02-10T22:58:31.618102Z",
     "shell.execute_reply.started": "2023-02-10T22:58:31.348440Z"
    },
    "tags": []
   },
   "outputs": [
    {
     "data": {
      "image/png": "[encoded data removed]",
      "text/plain": [
       "<Figure size 2000x400 with 20 Axes>"
      ]
     },
     "metadata": {},
     "output_type": "display_data"
    }
   ],
   "source": [
    "# Predict on the noisy images with your autoencoder\n",
    "decoded_imgs = autoencoder.predict(X_test_noise, verbose=0)\n",
    "# Plot noisy vs decoded images\n",
    "compare_plot(X_test_noise, decoded_imgs)"
   ]
  },
  {
   "cell_type": "markdown",
   "id": "e7908629-489c-4e0e-9353-a4813e7c8d46",
   "metadata": {},
   "source": [
    "The noise is gone now! You could get a better reconstruction by using a convolutional autoencoder. I hope this new model opened up your mind to the many possible architectures and non-classical ML problems that neural networks can solve"
   ]
  },
  {
   "cell_type": "markdown",
   "id": "bfa44b13-52d4-4eb6-b13d-80d1640d5c60",
   "metadata": {
    "tags": []
   },
   "source": [
    "# Intro to CNNs"
   ]
  },
  {
   "cell_type": "markdown",
   "id": "f311ce37-6a84-4498-be9d-6f17a1e762e4",
   "metadata": {},
   "source": [
    "[From Wikipedia:](https://en.wikipedia.org/wiki/Convolutional_neural_network)\n",
    "In deep learning, a convolutional neural network (CNN, or ConvNet) is a class of artificial neural network (ANN), most commonly applied to analyze visual imagery. CNNs are also known as Shift Invariant or Space Invariant Artificial Neural Networks (SIANN), based on the shared-weight architecture of the convolution kernels or filters that slide along input features and provide translation-equivariant responses known as feature maps.\n",
    "\n",
    "They have applications in image and video recognition, recommender systems,[5] image classification, image segmentation, medical image analysis, natural language processing, brain–computer interfaces and financial time series."
   ]
  },
  {
   "cell_type": "markdown",
   "id": "75c9dc42-081d-4558-82b3-7005db615964",
   "metadata": {},
   "source": [
    "## How do they work?\n",
    "\n",
    "A convolutional model uses convolutional layers. A convolution is a simple mathematical operation that preserves spatial relationships. When applied to images it can detect relevant areas of interest like edges, corners, vertical lines, etc. "
   ]
  },
  {
   "cell_type": "markdown",
   "id": "c382c4b6-497d-44ca-9c5b-937e182f173c",
   "metadata": {},
   "source": [
    "## Convolutions demonstration\n",
    "\n",
    "It consists of applying a filter, also known as kernel, of a given size.\n",
    "\n",
    "In this image, we are applying a 3 by 3 kernel.\n",
    "\n",
    "We center the kernel matrix of numbers as we slide through each pixel in the image, multiplying the kernel and pixel values at each location and averaging the sum of values obtained.\n",
    "\n",
    "This effectively computes a new image where certain characteristics are amplified depending on the filter used.\n",
    "\n",
    "The secret sauce of CNNs resides in letting the network itself find the best filter values and to combine them to achieve a given task. "
   ]
  },
  {
   "cell_type": "code",
   "execution_count": 32,
   "id": "cb1696cc-cb0a-480e-b122-75db407e733e",
   "metadata": {
    "execution": {
     "iopub.execute_input": "2023-02-10T22:58:31.619013Z",
     "iopub.status.busy": "2023-02-10T22:58:31.618912Z",
     "iopub.status.idle": "2023-02-10T22:58:31.621899Z",
     "shell.execute_reply": "2023-02-10T22:58:31.621654Z",
     "shell.execute_reply.started": "2023-02-10T22:58:31.619003Z"
    },
    "tags": []
   },
   "outputs": [
    {
     "data": {
      "text/plain": [
       "array([[3, 3, 2, 1, 0],\n",
       "       [0, 0, 1, 3, 1],\n",
       "       [3, 1, 2, 2, 3],\n",
       "       [2, 0, 0, 2, 2],\n",
       "       [2, 0, 0, 0, 1]])"
      ]
     },
     "execution_count": 32,
     "metadata": {},
     "output_type": "execute_result"
    }
   ],
   "source": [
    "pixels = np.array(\n",
    "    [\n",
    "        [3, 3, 2, 1, 0],\n",
    "        [0, 0, 1, 3, 1],\n",
    "        [3, 1, 2, 2, 3],\n",
    "        [2, 0, 0, 2, 2],\n",
    "        [2, 0, 0, 0, 1],\n",
    "    ]\n",
    ")\n",
    "pixels"
   ]
  },
  {
   "cell_type": "code",
   "execution_count": 33,
   "id": "e4ee4ba3-8b2d-4202-9b1b-df7acfb8a2e6",
   "metadata": {
    "execution": {
     "iopub.execute_input": "2023-02-10T22:58:31.622375Z",
     "iopub.status.busy": "2023-02-10T22:58:31.622279Z",
     "iopub.status.idle": "2023-02-10T22:58:31.624714Z",
     "shell.execute_reply": "2023-02-10T22:58:31.624458Z",
     "shell.execute_reply.started": "2023-02-10T22:58:31.622366Z"
    },
    "tags": []
   },
   "outputs": [
    {
     "data": {
      "text/plain": [
       "array([[0, 1, 2],\n",
       "       [2, 2, 0],\n",
       "       [0, 1, 2]])"
      ]
     },
     "execution_count": 33,
     "metadata": {},
     "output_type": "execute_result"
    }
   ],
   "source": [
    "kernel = np.array(\n",
    "    [\n",
    "        [0, 1, 2],\n",
    "        [2, 2, 0],\n",
    "        [0, 1, 2]\n",
    "    ]\n",
    ")\n",
    "kernel"
   ]
  },
  {
   "cell_type": "code",
   "execution_count": 34,
   "id": "a86a30bd-e175-4ded-af80-e4e8839c8474",
   "metadata": {
    "execution": {
     "iopub.execute_input": "2023-02-10T22:58:31.625152Z",
     "iopub.status.busy": "2023-02-10T22:58:31.625052Z",
     "iopub.status.idle": "2023-02-10T22:58:31.628049Z",
     "shell.execute_reply": "2023-02-10T22:58:31.627814Z",
     "shell.execute_reply.started": "2023-02-10T22:58:31.625142Z"
    },
    "tags": []
   },
   "outputs": [
    {
     "data": {
      "text/plain": [
       "array([[12, 12, 17],\n",
       "       [10, 17, 19],\n",
       "       [ 9,  6, 14]])"
      ]
     },
     "execution_count": 34,
     "metadata": {},
     "output_type": "execute_result"
    }
   ],
   "source": [
    "convolution = np.array(\n",
    "    [\n",
    "        [\n",
    "            (pixels[i : i + kernel.shape[0], j : j + kernel.shape[1]] * kernel).sum()\n",
    "            for j in range(pixels.shape[1] - kernel.shape[1] + 1)\n",
    "        ]\n",
    "        for i in range(pixels.shape[0] - kernel.shape[0] + 1)\n",
    "    ]\n",
    ")\n",
    "convolution"
   ]
  },
  {
   "cell_type": "markdown",
   "id": "da98cb88-356d-4e73-8db5-c974e54f41d0",
   "metadata": {},
   "source": [
    "## Typical architectures\n",
    "\n",
    "For a classification problem with many possible classes, CNNs tend to become very deep.\n",
    "\n",
    "Architectures consist of concatenations of convolutional layers among other layers known as pooling layers, that we won't cover here.\n",
    "\n",
    "Convolutional layers perform feature learning, we then flatten the outputs into a unidimensional vector and pass it to fully connected layers that carry out classification.\n",
    "\n",
    "![Image](typical-cnn-architecture.png)"
   ]
  },
  {
   "cell_type": "markdown",
   "id": "e82e9896-14c0-4cbc-b9e8-0b4426289076",
   "metadata": {},
   "source": [
    "## Input shape to convolutional neural networks\n",
    "\n",
    "Images are 3D tensors, they have width, height, and depth.\n",
    "\n",
    "    input_shape = (WIDTH, HEIGHT, CHANNELS)\n",
    "\n",
    "This depth is given by the color channels.\n",
    "\n",
    "Color images have 3 channels\n",
    "\n",
    "    input_shape = (28,28,3)\n",
    "\n",
    "If we use black and white images we will just have one channel, so the depth will be 1.\n",
    "\n",
    "    input_shape = (28,28,1)"
   ]
  },
  {
   "cell_type": "markdown",
   "id": "a0f8119f-fa2e-4289-ba27-ef269bd9394f",
   "metadata": {},
   "source": [
    "## How to build a simple convolutional net in keras?"
   ]
  },
  {
   "cell_type": "markdown",
   "id": "8cb767a9-7a79-4d66-96c2-0c5100409457",
   "metadata": {},
   "source": [
    "We instantiate our model and add a convolutional layer.\n",
    "\n",
    "This first convolutional layer has 32 filters, this means it will learn 32 different convolutional masks.\n",
    "\n",
    "These masks will be squares of 3 by 3 as defined in the kernel_size.\n",
    "\n",
    "For 28 times 28 black and white images with only one channel, we use an input shape of (28, 28, 1). We can use any activation, as usual."
   ]
  },
  {
   "cell_type": "code",
   "execution_count": 35,
   "id": "3e5e7bfc-c42f-44b3-a6a4-d41cca086a28",
   "metadata": {
    "execution": {
     "iopub.execute_input": "2023-02-10T22:58:31.628592Z",
     "iopub.status.busy": "2023-02-10T22:58:31.628382Z",
     "iopub.status.idle": "2023-02-10T22:58:31.638059Z",
     "shell.execute_reply": "2023-02-10T22:58:31.637749Z",
     "shell.execute_reply.started": "2023-02-10T22:58:31.628582Z"
    },
    "tags": []
   },
   "outputs": [
    {
     "name": "stdout",
     "output_type": "stream",
     "text": [
      "Model: \"sequential_8\"\n",
      "_________________________________________________________________\n",
      " Layer (type)                Output Shape              Param #   \n",
      "=================================================================\n",
      " conv2d (Conv2D)             (None, 26, 26, 32)        320       \n",
      "                                                                 \n",
      "=================================================================\n",
      "Total params: 320\n",
      "Trainable params: 320\n",
      "Non-trainable params: 0\n",
      "_________________________________________________________________\n"
     ]
    }
   ],
   "source": [
    "# Import Conv2D layer and Flatten from tensorflow keras layers\n",
    "from tensorflow.keras.layers import Dense, Conv2D, Flatten\n",
    "# Instantiate your model as usual\n",
    "model = Sequential()\n",
    "# Add a convolutional layer with 32 filters of size 3x3\n",
    "model.add(Conv2D(filters=32, kernel_size=3, input_shape=(28, 28, 1), activation='relu'))\n",
    "model.summary()"
   ]
  },
  {
   "cell_type": "markdown",
   "id": "a08e2605-baf8-4ff0-8836-e958fdf8a247",
   "metadata": {},
   "source": [
    "* We then add another convolutional layer and end flattening this 2D layer into a unidimensional layer with the Flatten layer."
   ]
  },
  {
   "cell_type": "code",
   "execution_count": 36,
   "id": "c30a412e-b6e1-471d-a9e9-0ab0512ab16c",
   "metadata": {
    "execution": {
     "iopub.execute_input": "2023-02-10T22:58:31.638570Z",
     "iopub.status.busy": "2023-02-10T22:58:31.638459Z",
     "iopub.status.idle": "2023-02-10T22:58:31.647216Z",
     "shell.execute_reply": "2023-02-10T22:58:31.646954Z",
     "shell.execute_reply.started": "2023-02-10T22:58:31.638560Z"
    },
    "tags": []
   },
   "outputs": [
    {
     "name": "stdout",
     "output_type": "stream",
     "text": [
      "Model: \"sequential_8\"\n",
      "_________________________________________________________________\n",
      " Layer (type)                Output Shape              Param #   \n",
      "=================================================================\n",
      " conv2d (Conv2D)             (None, 26, 26, 32)        320       \n",
      "                                                                 \n",
      " conv2d_1 (Conv2D)           (None, 24, 24, 8)         2312      \n",
      "                                                                 \n",
      "=================================================================\n",
      "Total params: 2,632\n",
      "Trainable params: 2,632\n",
      "Non-trainable params: 0\n",
      "_________________________________________________________________\n"
     ]
    }
   ],
   "source": [
    "# Add another convolutional layer\n",
    "model.add(Conv2D(8, kernel_size=3, activation='relu'))\n",
    "model.summary()"
   ]
  },
  {
   "cell_type": "code",
   "execution_count": 37,
   "id": "e55c86df-c770-4197-991c-44ca15c6ccb7",
   "metadata": {
    "execution": {
     "iopub.execute_input": "2023-02-10T22:58:31.647802Z",
     "iopub.status.busy": "2023-02-10T22:58:31.647585Z",
     "iopub.status.idle": "2023-02-10T22:58:31.654812Z",
     "shell.execute_reply": "2023-02-10T22:58:31.654533Z",
     "shell.execute_reply.started": "2023-02-10T22:58:31.647792Z"
    },
    "tags": []
   },
   "outputs": [
    {
     "name": "stdout",
     "output_type": "stream",
     "text": [
      "Model: \"sequential_8\"\n",
      "_________________________________________________________________\n",
      " Layer (type)                Output Shape              Param #   \n",
      "=================================================================\n",
      " conv2d (Conv2D)             (None, 26, 26, 32)        320       \n",
      "                                                                 \n",
      " conv2d_1 (Conv2D)           (None, 24, 24, 8)         2312      \n",
      "                                                                 \n",
      " flatten (Flatten)           (None, 4608)              0         \n",
      "                                                                 \n",
      "=================================================================\n",
      "Total params: 2,632\n",
      "Trainable params: 2,632\n",
      "Non-trainable params: 0\n",
      "_________________________________________________________________\n"
     ]
    }
   ],
   "source": [
    "# Flatten the output of the previous layer\n",
    "model.add(Flatten())\n",
    "model.summary()"
   ]
  },
  {
   "cell_type": "markdown",
   "id": "2f99462d-5f0a-4633-b710-906bad18788d",
   "metadata": {},
   "source": [
    "* We finish with an output dense layer. "
   ]
  },
  {
   "cell_type": "code",
   "execution_count": 38,
   "id": "cc84da3d-f26d-435d-83cd-9a5597db01b7",
   "metadata": {
    "execution": {
     "iopub.execute_input": "2023-02-10T22:58:31.655308Z",
     "iopub.status.busy": "2023-02-10T22:58:31.655198Z",
     "iopub.status.idle": "2023-02-10T22:58:31.664266Z",
     "shell.execute_reply": "2023-02-10T22:58:31.663998Z",
     "shell.execute_reply.started": "2023-02-10T22:58:31.655297Z"
    },
    "tags": []
   },
   "outputs": [
    {
     "name": "stdout",
     "output_type": "stream",
     "text": [
      "Model: \"sequential_8\"\n",
      "_________________________________________________________________\n",
      " Layer (type)                Output Shape              Param #   \n",
      "=================================================================\n",
      " conv2d (Conv2D)             (None, 26, 26, 32)        320       \n",
      "                                                                 \n",
      " conv2d_1 (Conv2D)           (None, 24, 24, 8)         2312      \n",
      "                                                                 \n",
      " flatten (Flatten)           (None, 4608)              0         \n",
      "                                                                 \n",
      " dense_12 (Dense)            (None, 3)                 13827     \n",
      "                                                                 \n",
      "=================================================================\n",
      "Total params: 16,459\n",
      "Trainable params: 16,459\n",
      "Non-trainable params: 0\n",
      "_________________________________________________________________\n"
     ]
    }
   ],
   "source": [
    "# End this multiclass model with 3 outputs and softmax\n",
    "model.add(Dense(3, activation='softmax'))\n",
    "model.summary()"
   ]
  },
  {
   "cell_type": "markdown",
   "id": "0ab3d5e4-2c2f-4aae-a420-6cc2211bc01b",
   "metadata": {},
   "source": [
    "## Deep convolutional models\n",
    "\n",
    "ResNet50 is a 50 layer-deep model that performs well on the Imagenet Dataset, a huge dataset of more than 14 million images.\n",
    "\n",
    "ResNet50 can distinguish between 1000 different classes.\n",
    "\n",
    "This model would take too long to train on a regular computer, but Keras makes it easy for us to use it.\n",
    "\n",
    "We just need to prepare the image we want to classify for the model, predict the processed image, and decode the predictions!"
   ]
  },
  {
   "cell_type": "markdown",
   "id": "7dfb8baa-df80-4e9f-a811-7d0e0bb1c0ba",
   "metadata": {},
   "source": [
    "## Pre-processing images for ResNet50"
   ]
  },
  {
   "cell_type": "markdown",
   "id": "981a1b52-6423-4f1d-aa13-ffa8f43a5e3d",
   "metadata": {},
   "source": [
    "* To use pre-trained models to classify images, we first have to adapt these images so that they can be understood by the model. \n",
    "* To prepare images for ResNet50 we would do the following.\n",
    "    * First import the image from tensorflow.keras.preprocessing and preprocess_input from tensorflow.keras.applications.resnet50.\n",
    "    * We then load our image with load_img, providing the target size, for this particular model that is 224 by 224.\n",
    "    * We turn the image into a numpy array with img_to_array, we expand the dimensions of the array and preprocess the input in the same way the training images were.\n",
    "    * To use pre-trained models to classify images, we first have to adapt these images so that they can be understood by the model."
   ]
  },
  {
   "cell_type": "code",
   "execution_count": 39,
   "id": "8d89f439-6a5c-4cec-80de-5d7bd5f2acce",
   "metadata": {
    "execution": {
     "iopub.execute_input": "2023-02-10T22:58:31.664770Z",
     "iopub.status.busy": "2023-02-10T22:58:31.664636Z",
     "iopub.status.idle": "2023-02-10T22:58:31.784519Z",
     "shell.execute_reply": "2023-02-10T22:58:31.784160Z",
     "shell.execute_reply.started": "2023-02-10T22:58:31.664759Z"
    },
    "tags": []
   },
   "outputs": [
    {
     "name": "stdout",
     "output_type": "stream",
     "text": [
      "<PIL.Image.Image image mode=RGB size=224x224 at 0x7F591C29BA30>\n"
     ]
    },
    {
     "data": {
      "image/png": "[encoded data removed]",
      "text/plain": [
       "<Figure size 640x480 with 1 Axes>"
      ]
     },
     "metadata": {},
     "output_type": "display_data"
    }
   ],
   "source": [
    "img_path = 'cheeseburger.png'\n",
    "# Import image from keras preprocessing\n",
    "from tensorflow.keras.preprocessing import image\n",
    "# Import preprocess_input from tensorflow keras applications resnet50\n",
    "from tensorflow.keras.applications.resnet50 import preprocess_input\n",
    "# Load the image with the right target size for your model\n",
    "img = image.load_img(img_path, target_size=(224, 224))\n",
    "print(img)\n",
    "_=plt.imshow(img)"
   ]
  },
  {
   "cell_type": "code",
   "execution_count": 40,
   "id": "79090fd0-340b-49d6-af4b-0108cb440f96",
   "metadata": {
    "execution": {
     "iopub.execute_input": "2023-02-10T22:58:31.785275Z",
     "iopub.status.busy": "2023-02-10T22:58:31.785021Z",
     "iopub.status.idle": "2023-02-10T22:58:31.788577Z",
     "shell.execute_reply": "2023-02-10T22:58:31.788165Z",
     "shell.execute_reply.started": "2023-02-10T22:58:31.785257Z"
    },
    "tags": []
   },
   "outputs": [
    {
     "data": {
      "text/plain": [
       "(224, 224, 3)"
      ]
     },
     "execution_count": 40,
     "metadata": {},
     "output_type": "execute_result"
    }
   ],
   "source": [
    "# Turn it into an array\n",
    "img = image.img_to_array(img)\n",
    "img.shape"
   ]
  },
  {
   "cell_type": "code",
   "execution_count": 41,
   "id": "2bb4e02d-620b-49ff-b6ea-7d65efdea239",
   "metadata": {
    "execution": {
     "iopub.execute_input": "2023-02-10T22:58:31.789423Z",
     "iopub.status.busy": "2023-02-10T22:58:31.789103Z",
     "iopub.status.idle": "2023-02-10T22:58:31.792343Z",
     "shell.execute_reply": "2023-02-10T22:58:31.792002Z",
     "shell.execute_reply.started": "2023-02-10T22:58:31.789406Z"
    },
    "tags": []
   },
   "outputs": [
    {
     "data": {
      "text/plain": [
       "(1, 224, 224, 3)"
      ]
     },
     "execution_count": 41,
     "metadata": {},
     "output_type": "execute_result"
    }
   ],
   "source": [
    "# Expand the dimensions so that it's understood by our network:\n",
    "# img.shape turns from (224, 224, 3) into (1, 224, 224, 3)\n",
    "img = np.expand_dims(img, axis=0)\n",
    "img.shape"
   ]
  },
  {
   "cell_type": "code",
   "execution_count": 42,
   "id": "d40f933f-f862-47ba-91c9-22539a44dbce",
   "metadata": {
    "execution": {
     "iopub.execute_input": "2023-02-10T22:58:31.793075Z",
     "iopub.status.busy": "2023-02-10T22:58:31.792815Z",
     "iopub.status.idle": "2023-02-10T22:58:31.794981Z",
     "shell.execute_reply": "2023-02-10T22:58:31.794652Z",
     "shell.execute_reply.started": "2023-02-10T22:58:31.793060Z"
    },
    "tags": []
   },
   "outputs": [],
   "source": [
    "# Pre-process the img in the same way training images were\n",
    "img = preprocess_input(img)"
   ]
  },
  {
   "cell_type": "markdown",
   "id": "2e928308-e1de-4b70-93e1-9c3b412525eb",
   "metadata": {},
   "source": [
    "## Using the pre-trained ResNet50 model in Keras"
   ]
  },
  {
   "cell_type": "code",
   "execution_count": 43,
   "id": "605d3672-f07e-4e04-8b7f-318c666d542a",
   "metadata": {
    "execution": {
     "iopub.execute_input": "2023-02-10T22:58:31.795753Z",
     "iopub.status.busy": "2023-02-10T22:58:31.795467Z",
     "iopub.status.idle": "2023-02-10T22:58:32.600683Z",
     "shell.execute_reply": "2023-02-10T22:58:32.600327Z",
     "shell.execute_reply.started": "2023-02-10T22:58:31.795737Z"
    },
    "scrolled": true,
    "tags": []
   },
   "outputs": [
    {
     "name": "stdout",
     "output_type": "stream",
     "text": [
      "Model: \"resnet50\"\n",
      "__________________________________________________________________________________________________________________________\n",
      " Layer (type)                           Output Shape               Param #       Connected to                             \n",
      "==========================================================================================================================\n",
      " input_1 (InputLayer)                   [(None, 224, 224, 3)]      0             []                                       \n",
      "                                                                                                                          \n",
      " conv1_pad (ZeroPadding2D)              (None, 230, 230, 3)        0             ['input_1[0][0]']                        \n",
      "                                                                                                                          \n",
      " conv1_conv (Conv2D)                    (None, 112, 112, 64)       9472          ['conv1_pad[0][0]']                      \n",
      "                                                                                                                          \n",
      " conv1_bn (BatchNormalization)          (None, 112, 112, 64)       256           ['conv1_conv[0][0]']                     \n",
      "                                                                                                                          \n",
      " conv1_relu (Activation)                (None, 112, 112, 64)       0             ['conv1_bn[0][0]']                       \n",
      "                                                                                                                          \n",
      " pool1_pad (ZeroPadding2D)              (None, 114, 114, 64)       0             ['conv1_relu[0][0]']                     \n",
      "                                                                                                                          \n",
      " pool1_pool (MaxPooling2D)              (None, 56, 56, 64)         0             ['pool1_pad[0][0]']                      \n",
      "                                                                                                                          \n",
      " conv2_block1_1_conv (Conv2D)           (None, 56, 56, 64)         4160          ['pool1_pool[0][0]']                     \n",
      "                                                                                                                          \n",
      " conv2_block1_1_bn (BatchNormalization)  (None, 56, 56, 64)        256           ['conv2_block1_1_conv[0][0]']            \n",
      "                                                                                                                          \n",
      " conv2_block1_1_relu (Activation)       (None, 56, 56, 64)         0             ['conv2_block1_1_bn[0][0]']              \n",
      "                                                                                                                          \n",
      " conv2_block1_2_conv (Conv2D)           (None, 56, 56, 64)         36928         ['conv2_block1_1_relu[0][0]']            \n",
      "                                                                                                                          \n",
      " conv2_block1_2_bn (BatchNormalization)  (None, 56, 56, 64)        256           ['conv2_block1_2_conv[0][0]']            \n",
      "                                                                                                                          \n",
      " conv2_block1_2_relu (Activation)       (None, 56, 56, 64)         0             ['conv2_block1_2_bn[0][0]']              \n",
      "                                                                                                                          \n",
      " conv2_block1_0_conv (Conv2D)           (None, 56, 56, 256)        16640         ['pool1_pool[0][0]']                     \n",
      "                                                                                                                          \n",
      " conv2_block1_3_conv (Conv2D)           (None, 56, 56, 256)        16640         ['conv2_block1_2_relu[0][0]']            \n",
      "                                                                                                                          \n",
      " conv2_block1_0_bn (BatchNormalization)  (None, 56, 56, 256)       1024          ['conv2_block1_0_conv[0][0]']            \n",
      "                                                                                                                          \n",
      " conv2_block1_3_bn (BatchNormalization)  (None, 56, 56, 256)       1024          ['conv2_block1_3_conv[0][0]']            \n",
      "                                                                                                                          \n",
      " conv2_block1_add (Add)                 (None, 56, 56, 256)        0             ['conv2_block1_0_bn[0][0]',              \n",
      "                                                                                  'conv2_block1_3_bn[0][0]']              \n",
      "                                                                                                                          \n",
      " conv2_block1_out (Activation)          (None, 56, 56, 256)        0             ['conv2_block1_add[0][0]']               \n",
      "                                                                                                                          \n",
      " conv2_block2_1_conv (Conv2D)           (None, 56, 56, 64)         16448         ['conv2_block1_out[0][0]']               \n",
      "                                                                                                                          \n",
      " conv2_block2_1_bn (BatchNormalization)  (None, 56, 56, 64)        256           ['conv2_block2_1_conv[0][0]']            \n",
      "                                                                                                                          \n",
      " conv2_block2_1_relu (Activation)       (None, 56, 56, 64)         0             ['conv2_block2_1_bn[0][0]']              \n",
      "                                                                                                                          \n",
      " conv2_block2_2_conv (Conv2D)           (None, 56, 56, 64)         36928         ['conv2_block2_1_relu[0][0]']            \n",
      "                                                                                                                          \n",
      " conv2_block2_2_bn (BatchNormalization)  (None, 56, 56, 64)        256           ['conv2_block2_2_conv[0][0]']            \n",
      "                                                                                                                          \n",
      " conv2_block2_2_relu (Activation)       (None, 56, 56, 64)         0             ['conv2_block2_2_bn[0][0]']              \n",
      "                                                                                                                          \n",
      " conv2_block2_3_conv (Conv2D)           (None, 56, 56, 256)        16640         ['conv2_block2_2_relu[0][0]']            \n",
      "                                                                                                                          \n",
      " conv2_block2_3_bn (BatchNormalization)  (None, 56, 56, 256)       1024          ['conv2_block2_3_conv[0][0]']            \n",
      "                                                                                                                          \n",
      " conv2_block2_add (Add)                 (None, 56, 56, 256)        0             ['conv2_block1_out[0][0]',               \n",
      "                                                                                  'conv2_block2_3_bn[0][0]']              \n",
      "                                                                                                                          \n",
      " conv2_block2_out (Activation)          (None, 56, 56, 256)        0             ['conv2_block2_add[0][0]']               \n",
      "                                                                                                                          \n",
      " conv2_block3_1_conv (Conv2D)           (None, 56, 56, 64)         16448         ['conv2_block2_out[0][0]']               \n",
      "                                                                                                                          \n",
      " conv2_block3_1_bn (BatchNormalization)  (None, 56, 56, 64)        256           ['conv2_block3_1_conv[0][0]']            \n",
      "                                                                                                                          \n",
      " conv2_block3_1_relu (Activation)       (None, 56, 56, 64)         0             ['conv2_block3_1_bn[0][0]']              \n",
      "                                                                                                                          \n",
      " conv2_block3_2_conv (Conv2D)           (None, 56, 56, 64)         36928         ['conv2_block3_1_relu[0][0]']            \n",
      "                                                                                                                          \n",
      " conv2_block3_2_bn (BatchNormalization)  (None, 56, 56, 64)        256           ['conv2_block3_2_conv[0][0]']            \n",
      "                                                                                                                          \n",
      " conv2_block3_2_relu (Activation)       (None, 56, 56, 64)         0             ['conv2_block3_2_bn[0][0]']              \n",
      "                                                                                                                          \n",
      " conv2_block3_3_conv (Conv2D)           (None, 56, 56, 256)        16640         ['conv2_block3_2_relu[0][0]']            \n",
      "                                                                                                                          \n",
      " conv2_block3_3_bn (BatchNormalization)  (None, 56, 56, 256)       1024          ['conv2_block3_3_conv[0][0]']            \n",
      "                                                                                                                          \n",
      " conv2_block3_add (Add)                 (None, 56, 56, 256)        0             ['conv2_block2_out[0][0]',               \n",
      "                                                                                  'conv2_block3_3_bn[0][0]']              \n",
      "                                                                                                                          \n",
      " conv2_block3_out (Activation)          (None, 56, 56, 256)        0             ['conv2_block3_add[0][0]']               \n",
      "                                                                                                                          \n",
      " conv3_block1_1_conv (Conv2D)           (None, 28, 28, 128)        32896         ['conv2_block3_out[0][0]']               \n",
      "                                                                                                                          \n",
      " conv3_block1_1_bn (BatchNormalization)  (None, 28, 28, 128)       512           ['conv3_block1_1_conv[0][0]']            \n",
      "                                                                                                                          \n",
      " conv3_block1_1_relu (Activation)       (None, 28, 28, 128)        0             ['conv3_block1_1_bn[0][0]']              \n",
      "                                                                                                                          \n",
      " conv3_block1_2_conv (Conv2D)           (None, 28, 28, 128)        147584        ['conv3_block1_1_relu[0][0]']            \n",
      "                                                                                                                          \n",
      " conv3_block1_2_bn (BatchNormalization)  (None, 28, 28, 128)       512           ['conv3_block1_2_conv[0][0]']            \n",
      "                                                                                                                          \n",
      " conv3_block1_2_relu (Activation)       (None, 28, 28, 128)        0             ['conv3_block1_2_bn[0][0]']              \n",
      "                                                                                                                          \n",
      " conv3_block1_0_conv (Conv2D)           (None, 28, 28, 512)        131584        ['conv2_block3_out[0][0]']               \n",
      "                                                                                                                          \n",
      " conv3_block1_3_conv (Conv2D)           (None, 28, 28, 512)        66048         ['conv3_block1_2_relu[0][0]']            \n",
      "                                                                                                                          \n",
      " conv3_block1_0_bn (BatchNormalization)  (None, 28, 28, 512)       2048          ['conv3_block1_0_conv[0][0]']            \n",
      "                                                                                                                          \n",
      " conv3_block1_3_bn (BatchNormalization)  (None, 28, 28, 512)       2048          ['conv3_block1_3_conv[0][0]']            \n",
      "                                                                                                                          \n",
      " conv3_block1_add (Add)                 (None, 28, 28, 512)        0             ['conv3_block1_0_bn[0][0]',              \n",
      "                                                                                  'conv3_block1_3_bn[0][0]']              \n",
      "                                                                                                                          \n",
      " conv3_block1_out (Activation)          (None, 28, 28, 512)        0             ['conv3_block1_add[0][0]']               \n",
      "                                                                                                                          \n",
      " conv3_block2_1_conv (Conv2D)           (None, 28, 28, 128)        65664         ['conv3_block1_out[0][0]']               \n",
      "                                                                                                                          \n",
      " conv3_block2_1_bn (BatchNormalization)  (None, 28, 28, 128)       512           ['conv3_block2_1_conv[0][0]']            \n",
      "                                                                                                                          \n",
      " conv3_block2_1_relu (Activation)       (None, 28, 28, 128)        0             ['conv3_block2_1_bn[0][0]']              \n",
      "                                                                                                                          \n",
      " conv3_block2_2_conv (Conv2D)           (None, 28, 28, 128)        147584        ['conv3_block2_1_relu[0][0]']            \n",
      "                                                                                                                          \n",
      " conv3_block2_2_bn (BatchNormalization)  (None, 28, 28, 128)       512           ['conv3_block2_2_conv[0][0]']            \n",
      "                                                                                                                          \n",
      " conv3_block2_2_relu (Activation)       (None, 28, 28, 128)        0             ['conv3_block2_2_bn[0][0]']              \n",
      "                                                                                                                          \n",
      " conv3_block2_3_conv (Conv2D)           (None, 28, 28, 512)        66048         ['conv3_block2_2_relu[0][0]']            \n",
      "                                                                                                                          \n",
      " conv3_block2_3_bn (BatchNormalization)  (None, 28, 28, 512)       2048          ['conv3_block2_3_conv[0][0]']            \n",
      "                                                                                                                          \n",
      " conv3_block2_add (Add)                 (None, 28, 28, 512)        0             ['conv3_block1_out[0][0]',               \n",
      "                                                                                  'conv3_block2_3_bn[0][0]']              \n",
      "                                                                                                                          \n",
      " conv3_block2_out (Activation)          (None, 28, 28, 512)        0             ['conv3_block2_add[0][0]']               \n",
      "                                                                                                                          \n",
      " conv3_block3_1_conv (Conv2D)           (None, 28, 28, 128)        65664         ['conv3_block2_out[0][0]']               \n",
      "                                                                                                                          \n",
      " conv3_block3_1_bn (BatchNormalization)  (None, 28, 28, 128)       512           ['conv3_block3_1_conv[0][0]']            \n",
      "                                                                                                                          \n",
      " conv3_block3_1_relu (Activation)       (None, 28, 28, 128)        0             ['conv3_block3_1_bn[0][0]']              \n",
      "                                                                                                                          \n",
      " conv3_block3_2_conv (Conv2D)           (None, 28, 28, 128)        147584        ['conv3_block3_1_relu[0][0]']            \n",
      "                                                                                                                          \n",
      " conv3_block3_2_bn (BatchNormalization)  (None, 28, 28, 128)       512           ['conv3_block3_2_conv[0][0]']            \n",
      "                                                                                                                          \n",
      " conv3_block3_2_relu (Activation)       (None, 28, 28, 128)        0             ['conv3_block3_2_bn[0][0]']              \n",
      "                                                                                                                          \n",
      " conv3_block3_3_conv (Conv2D)           (None, 28, 28, 512)        66048         ['conv3_block3_2_relu[0][0]']            \n",
      "                                                                                                                          \n",
      " conv3_block3_3_bn (BatchNormalization)  (None, 28, 28, 512)       2048          ['conv3_block3_3_conv[0][0]']            \n",
      "                                                                                                                          \n",
      " conv3_block3_add (Add)                 (None, 28, 28, 512)        0             ['conv3_block2_out[0][0]',               \n",
      "                                                                                  'conv3_block3_3_bn[0][0]']              \n",
      "                                                                                                                          \n",
      " conv3_block3_out (Activation)          (None, 28, 28, 512)        0             ['conv3_block3_add[0][0]']               \n",
      "                                                                                                                          \n",
      " conv3_block4_1_conv (Conv2D)           (None, 28, 28, 128)        65664         ['conv3_block3_out[0][0]']               \n",
      "                                                                                                                          \n",
      " conv3_block4_1_bn (BatchNormalization)  (None, 28, 28, 128)       512           ['conv3_block4_1_conv[0][0]']            \n",
      "                                                                                                                          \n",
      " conv3_block4_1_relu (Activation)       (None, 28, 28, 128)        0             ['conv3_block4_1_bn[0][0]']              \n",
      "                                                                                                                          \n",
      " conv3_block4_2_conv (Conv2D)           (None, 28, 28, 128)        147584        ['conv3_block4_1_relu[0][0]']            \n",
      "                                                                                                                          \n",
      " conv3_block4_2_bn (BatchNormalization)  (None, 28, 28, 128)       512           ['conv3_block4_2_conv[0][0]']            \n",
      "                                                                                                                          \n",
      " conv3_block4_2_relu (Activation)       (None, 28, 28, 128)        0             ['conv3_block4_2_bn[0][0]']              \n",
      "                                                                                                                          \n",
      " conv3_block4_3_conv (Conv2D)           (None, 28, 28, 512)        66048         ['conv3_block4_2_relu[0][0]']            \n",
      "                                                                                                                          \n",
      " conv3_block4_3_bn (BatchNormalization)  (None, 28, 28, 512)       2048          ['conv3_block4_3_conv[0][0]']            \n",
      "                                                                                                                          \n",
      " conv3_block4_add (Add)                 (None, 28, 28, 512)        0             ['conv3_block3_out[0][0]',               \n",
      "                                                                                  'conv3_block4_3_bn[0][0]']              \n",
      "                                                                                                                          \n",
      " conv3_block4_out (Activation)          (None, 28, 28, 512)        0             ['conv3_block4_add[0][0]']               \n",
      "                                                                                                                          \n",
      " conv4_block1_1_conv (Conv2D)           (None, 14, 14, 256)        131328        ['conv3_block4_out[0][0]']               \n",
      "                                                                                                                          \n",
      " conv4_block1_1_bn (BatchNormalization)  (None, 14, 14, 256)       1024          ['conv4_block1_1_conv[0][0]']            \n",
      "                                                                                                                          \n",
      " conv4_block1_1_relu (Activation)       (None, 14, 14, 256)        0             ['conv4_block1_1_bn[0][0]']              \n",
      "                                                                                                                          \n",
      " conv4_block1_2_conv (Conv2D)           (None, 14, 14, 256)        590080        ['conv4_block1_1_relu[0][0]']            \n",
      "                                                                                                                          \n",
      " conv4_block1_2_bn (BatchNormalization)  (None, 14, 14, 256)       1024          ['conv4_block1_2_conv[0][0]']            \n",
      "                                                                                                                          \n",
      " conv4_block1_2_relu (Activation)       (None, 14, 14, 256)        0             ['conv4_block1_2_bn[0][0]']              \n",
      "                                                                                                                          \n",
      " conv4_block1_0_conv (Conv2D)           (None, 14, 14, 1024)       525312        ['conv3_block4_out[0][0]']               \n",
      "                                                                                                                          \n",
      " conv4_block1_3_conv (Conv2D)           (None, 14, 14, 1024)       263168        ['conv4_block1_2_relu[0][0]']            \n",
      "                                                                                                                          \n",
      " conv4_block1_0_bn (BatchNormalization)  (None, 14, 14, 1024)      4096          ['conv4_block1_0_conv[0][0]']            \n",
      "                                                                                                                          \n",
      " conv4_block1_3_bn (BatchNormalization)  (None, 14, 14, 1024)      4096          ['conv4_block1_3_conv[0][0]']            \n",
      "                                                                                                                          \n",
      " conv4_block1_add (Add)                 (None, 14, 14, 1024)       0             ['conv4_block1_0_bn[0][0]',              \n",
      "                                                                                  'conv4_block1_3_bn[0][0]']              \n",
      "                                                                                                                          \n",
      " conv4_block1_out (Activation)          (None, 14, 14, 1024)       0             ['conv4_block1_add[0][0]']               \n",
      "                                                                                                                          \n",
      " conv4_block2_1_conv (Conv2D)           (None, 14, 14, 256)        262400        ['conv4_block1_out[0][0]']               \n",
      "                                                                                                                          \n",
      " conv4_block2_1_bn (BatchNormalization)  (None, 14, 14, 256)       1024          ['conv4_block2_1_conv[0][0]']            \n",
      "                                                                                                                          \n",
      " conv4_block2_1_relu (Activation)       (None, 14, 14, 256)        0             ['conv4_block2_1_bn[0][0]']              \n",
      "                                                                                                                          \n",
      " conv4_block2_2_conv (Conv2D)           (None, 14, 14, 256)        590080        ['conv4_block2_1_relu[0][0]']            \n",
      "                                                                                                                          \n",
      " conv4_block2_2_bn (BatchNormalization)  (None, 14, 14, 256)       1024          ['conv4_block2_2_conv[0][0]']            \n",
      "                                                                                                                          \n",
      " conv4_block2_2_relu (Activation)       (None, 14, 14, 256)        0             ['conv4_block2_2_bn[0][0]']              \n",
      "                                                                                                                          \n",
      " conv4_block2_3_conv (Conv2D)           (None, 14, 14, 1024)       263168        ['conv4_block2_2_relu[0][0]']            \n",
      "                                                                                                                          \n",
      " conv4_block2_3_bn (BatchNormalization)  (None, 14, 14, 1024)      4096          ['conv4_block2_3_conv[0][0]']            \n",
      "                                                                                                                          \n",
      " conv4_block2_add (Add)                 (None, 14, 14, 1024)       0             ['conv4_block1_out[0][0]',               \n",
      "                                                                                  'conv4_block2_3_bn[0][0]']              \n",
      "                                                                                                                          \n",
      " conv4_block2_out (Activation)          (None, 14, 14, 1024)       0             ['conv4_block2_add[0][0]']               \n",
      "                                                                                                                          \n",
      " conv4_block3_1_conv (Conv2D)           (None, 14, 14, 256)        262400        ['conv4_block2_out[0][0]']               \n",
      "                                                                                                                          \n",
      " conv4_block3_1_bn (BatchNormalization)  (None, 14, 14, 256)       1024          ['conv4_block3_1_conv[0][0]']            \n",
      "                                                                                                                          \n",
      " conv4_block3_1_relu (Activation)       (None, 14, 14, 256)        0             ['conv4_block3_1_bn[0][0]']              \n",
      "                                                                                                                          \n",
      " conv4_block3_2_conv (Conv2D)           (None, 14, 14, 256)        590080        ['conv4_block3_1_relu[0][0]']            \n",
      "                                                                                                                          \n",
      " conv4_block3_2_bn (BatchNormalization)  (None, 14, 14, 256)       1024          ['conv4_block3_2_conv[0][0]']            \n",
      "                                                                                                                          \n",
      " conv4_block3_2_relu (Activation)       (None, 14, 14, 256)        0             ['conv4_block3_2_bn[0][0]']              \n",
      "                                                                                                                          \n",
      " conv4_block3_3_conv (Conv2D)           (None, 14, 14, 1024)       263168        ['conv4_block3_2_relu[0][0]']            \n",
      "                                                                                                                          \n",
      " conv4_block3_3_bn (BatchNormalization)  (None, 14, 14, 1024)      4096          ['conv4_block3_3_conv[0][0]']            \n",
      "                                                                                                                          \n",
      " conv4_block3_add (Add)                 (None, 14, 14, 1024)       0             ['conv4_block2_out[0][0]',               \n",
      "                                                                                  'conv4_block3_3_bn[0][0]']              \n",
      "                                                                                                                          \n",
      " conv4_block3_out (Activation)          (None, 14, 14, 1024)       0             ['conv4_block3_add[0][0]']               \n",
      "                                                                                                                          \n",
      " conv4_block4_1_conv (Conv2D)           (None, 14, 14, 256)        262400        ['conv4_block3_out[0][0]']               \n",
      "                                                                                                                          \n",
      " conv4_block4_1_bn (BatchNormalization)  (None, 14, 14, 256)       1024          ['conv4_block4_1_conv[0][0]']            \n",
      "                                                                                                                          \n",
      " conv4_block4_1_relu (Activation)       (None, 14, 14, 256)        0             ['conv4_block4_1_bn[0][0]']              \n",
      "                                                                                                                          \n",
      " conv4_block4_2_conv (Conv2D)           (None, 14, 14, 256)        590080        ['conv4_block4_1_relu[0][0]']            \n",
      "                                                                                                                          \n",
      " conv4_block4_2_bn (BatchNormalization)  (None, 14, 14, 256)       1024          ['conv4_block4_2_conv[0][0]']            \n",
      "                                                                                                                          \n",
      " conv4_block4_2_relu (Activation)       (None, 14, 14, 256)        0             ['conv4_block4_2_bn[0][0]']              \n",
      "                                                                                                                          \n",
      " conv4_block4_3_conv (Conv2D)           (None, 14, 14, 1024)       263168        ['conv4_block4_2_relu[0][0]']            \n",
      "                                                                                                                          \n",
      " conv4_block4_3_bn (BatchNormalization)  (None, 14, 14, 1024)      4096          ['conv4_block4_3_conv[0][0]']            \n",
      "                                                                                                                          \n",
      " conv4_block4_add (Add)                 (None, 14, 14, 1024)       0             ['conv4_block3_out[0][0]',               \n",
      "                                                                                  'conv4_block4_3_bn[0][0]']              \n",
      "                                                                                                                          \n",
      " conv4_block4_out (Activation)          (None, 14, 14, 1024)       0             ['conv4_block4_add[0][0]']               \n",
      "                                                                                                                          \n",
      " conv4_block5_1_conv (Conv2D)           (None, 14, 14, 256)        262400        ['conv4_block4_out[0][0]']               \n",
      "                                                                                                                          \n",
      " conv4_block5_1_bn (BatchNormalization)  (None, 14, 14, 256)       1024          ['conv4_block5_1_conv[0][0]']            \n",
      "                                                                                                                          \n",
      " conv4_block5_1_relu (Activation)       (None, 14, 14, 256)        0             ['conv4_block5_1_bn[0][0]']              \n",
      "                                                                                                                          \n",
      " conv4_block5_2_conv (Conv2D)           (None, 14, 14, 256)        590080        ['conv4_block5_1_relu[0][0]']            \n",
      "                                                                                                                          \n",
      " conv4_block5_2_bn (BatchNormalization)  (None, 14, 14, 256)       1024          ['conv4_block5_2_conv[0][0]']            \n",
      "                                                                                                                          \n",
      " conv4_block5_2_relu (Activation)       (None, 14, 14, 256)        0             ['conv4_block5_2_bn[0][0]']              \n",
      "                                                                                                                          \n",
      " conv4_block5_3_conv (Conv2D)           (None, 14, 14, 1024)       263168        ['conv4_block5_2_relu[0][0]']            \n",
      "                                                                                                                          \n",
      " conv4_block5_3_bn (BatchNormalization)  (None, 14, 14, 1024)      4096          ['conv4_block5_3_conv[0][0]']            \n",
      "                                                                                                                          \n",
      " conv4_block5_add (Add)                 (None, 14, 14, 1024)       0             ['conv4_block4_out[0][0]',               \n",
      "                                                                                  'conv4_block5_3_bn[0][0]']              \n",
      "                                                                                                                          \n",
      " conv4_block5_out (Activation)          (None, 14, 14, 1024)       0             ['conv4_block5_add[0][0]']               \n",
      "                                                                                                                          \n",
      " conv4_block6_1_conv (Conv2D)           (None, 14, 14, 256)        262400        ['conv4_block5_out[0][0]']               \n",
      "                                                                                                                          \n",
      " conv4_block6_1_bn (BatchNormalization)  (None, 14, 14, 256)       1024          ['conv4_block6_1_conv[0][0]']            \n",
      "                                                                                                                          \n",
      " conv4_block6_1_relu (Activation)       (None, 14, 14, 256)        0             ['conv4_block6_1_bn[0][0]']              \n",
      "                                                                                                                          \n",
      " conv4_block6_2_conv (Conv2D)           (None, 14, 14, 256)        590080        ['conv4_block6_1_relu[0][0]']            \n",
      "                                                                                                                          \n",
      " conv4_block6_2_bn (BatchNormalization)  (None, 14, 14, 256)       1024          ['conv4_block6_2_conv[0][0]']            \n",
      "                                                                                                                          \n",
      " conv4_block6_2_relu (Activation)       (None, 14, 14, 256)        0             ['conv4_block6_2_bn[0][0]']              \n",
      "                                                                                                                          \n",
      " conv4_block6_3_conv (Conv2D)           (None, 14, 14, 1024)       263168        ['conv4_block6_2_relu[0][0]']            \n",
      "                                                                                                                          \n",
      " conv4_block6_3_bn (BatchNormalization)  (None, 14, 14, 1024)      4096          ['conv4_block6_3_conv[0][0]']            \n",
      "                                                                                                                          \n",
      " conv4_block6_add (Add)                 (None, 14, 14, 1024)       0             ['conv4_block5_out[0][0]',               \n",
      "                                                                                  'conv4_block6_3_bn[0][0]']              \n",
      "                                                                                                                          \n",
      " conv4_block6_out (Activation)          (None, 14, 14, 1024)       0             ['conv4_block6_add[0][0]']               \n",
      "                                                                                                                          \n",
      " conv5_block1_1_conv (Conv2D)           (None, 7, 7, 512)          524800        ['conv4_block6_out[0][0]']               \n",
      "                                                                                                                          \n",
      " conv5_block1_1_bn (BatchNormalization)  (None, 7, 7, 512)         2048          ['conv5_block1_1_conv[0][0]']            \n",
      "                                                                                                                          \n",
      " conv5_block1_1_relu (Activation)       (None, 7, 7, 512)          0             ['conv5_block1_1_bn[0][0]']              \n",
      "                                                                                                                          \n",
      " conv5_block1_2_conv (Conv2D)           (None, 7, 7, 512)          2359808       ['conv5_block1_1_relu[0][0]']            \n",
      "                                                                                                                          \n",
      " conv5_block1_2_bn (BatchNormalization)  (None, 7, 7, 512)         2048          ['conv5_block1_2_conv[0][0]']            \n",
      "                                                                                                                          \n",
      " conv5_block1_2_relu (Activation)       (None, 7, 7, 512)          0             ['conv5_block1_2_bn[0][0]']              \n",
      "                                                                                                                          \n",
      " conv5_block1_0_conv (Conv2D)           (None, 7, 7, 2048)         2099200       ['conv4_block6_out[0][0]']               \n",
      "                                                                                                                          \n",
      " conv5_block1_3_conv (Conv2D)           (None, 7, 7, 2048)         1050624       ['conv5_block1_2_relu[0][0]']            \n",
      "                                                                                                                          \n",
      " conv5_block1_0_bn (BatchNormalization)  (None, 7, 7, 2048)        8192          ['conv5_block1_0_conv[0][0]']            \n",
      "                                                                                                                          \n",
      " conv5_block1_3_bn (BatchNormalization)  (None, 7, 7, 2048)        8192          ['conv5_block1_3_conv[0][0]']            \n",
      "                                                                                                                          \n",
      " conv5_block1_add (Add)                 (None, 7, 7, 2048)         0             ['conv5_block1_0_bn[0][0]',              \n",
      "                                                                                  'conv5_block1_3_bn[0][0]']              \n",
      "                                                                                                                          \n",
      " conv5_block1_out (Activation)          (None, 7, 7, 2048)         0             ['conv5_block1_add[0][0]']               \n",
      "                                                                                                                          \n",
      " conv5_block2_1_conv (Conv2D)           (None, 7, 7, 512)          1049088       ['conv5_block1_out[0][0]']               \n",
      "                                                                                                                          \n",
      " conv5_block2_1_bn (BatchNormalization)  (None, 7, 7, 512)         2048          ['conv5_block2_1_conv[0][0]']            \n",
      "                                                                                                                          \n",
      " conv5_block2_1_relu (Activation)       (None, 7, 7, 512)          0             ['conv5_block2_1_bn[0][0]']              \n",
      "                                                                                                                          \n",
      " conv5_block2_2_conv (Conv2D)           (None, 7, 7, 512)          2359808       ['conv5_block2_1_relu[0][0]']            \n",
      "                                                                                                                          \n",
      " conv5_block2_2_bn (BatchNormalization)  (None, 7, 7, 512)         2048          ['conv5_block2_2_conv[0][0]']            \n",
      "                                                                                                                          \n",
      " conv5_block2_2_relu (Activation)       (None, 7, 7, 512)          0             ['conv5_block2_2_bn[0][0]']              \n",
      "                                                                                                                          \n",
      " conv5_block2_3_conv (Conv2D)           (None, 7, 7, 2048)         1050624       ['conv5_block2_2_relu[0][0]']            \n",
      "                                                                                                                          \n",
      " conv5_block2_3_bn (BatchNormalization)  (None, 7, 7, 2048)        8192          ['conv5_block2_3_conv[0][0]']            \n",
      "                                                                                                                          \n",
      " conv5_block2_add (Add)                 (None, 7, 7, 2048)         0             ['conv5_block1_out[0][0]',               \n",
      "                                                                                  'conv5_block2_3_bn[0][0]']              \n",
      "                                                                                                                          \n",
      " conv5_block2_out (Activation)          (None, 7, 7, 2048)         0             ['conv5_block2_add[0][0]']               \n",
      "                                                                                                                          \n",
      " conv5_block3_1_conv (Conv2D)           (None, 7, 7, 512)          1049088       ['conv5_block2_out[0][0]']               \n",
      "                                                                                                                          \n",
      " conv5_block3_1_bn (BatchNormalization)  (None, 7, 7, 512)         2048          ['conv5_block3_1_conv[0][0]']            \n",
      "                                                                                                                          \n",
      " conv5_block3_1_relu (Activation)       (None, 7, 7, 512)          0             ['conv5_block3_1_bn[0][0]']              \n",
      "                                                                                                                          \n",
      " conv5_block3_2_conv (Conv2D)           (None, 7, 7, 512)          2359808       ['conv5_block3_1_relu[0][0]']            \n",
      "                                                                                                                          \n",
      " conv5_block3_2_bn (BatchNormalization)  (None, 7, 7, 512)         2048          ['conv5_block3_2_conv[0][0]']            \n",
      "                                                                                                                          \n",
      " conv5_block3_2_relu (Activation)       (None, 7, 7, 512)          0             ['conv5_block3_2_bn[0][0]']              \n",
      "                                                                                                                          \n",
      " conv5_block3_3_conv (Conv2D)           (None, 7, 7, 2048)         1050624       ['conv5_block3_2_relu[0][0]']            \n",
      "                                                                                                                          \n",
      " conv5_block3_3_bn (BatchNormalization)  (None, 7, 7, 2048)        8192          ['conv5_block3_3_conv[0][0]']            \n",
      "                                                                                                                          \n",
      " conv5_block3_add (Add)                 (None, 7, 7, 2048)         0             ['conv5_block2_out[0][0]',               \n",
      "                                                                                  'conv5_block3_3_bn[0][0]']              \n",
      "                                                                                                                          \n",
      " conv5_block3_out (Activation)          (None, 7, 7, 2048)         0             ['conv5_block3_add[0][0]']               \n",
      "                                                                                                                          \n",
      " avg_pool (GlobalAveragePooling2D)      (None, 2048)               0             ['conv5_block3_out[0][0]']               \n",
      "                                                                                                                          \n",
      " predictions (Dense)                    (None, 1000)               2049000       ['avg_pool[0][0]']                       \n",
      "                                                                                                                          \n",
      "==========================================================================================================================\n",
      "Total params: 25,636,712\n",
      "Trainable params: 25,583,592\n",
      "Non-trainable params: 53,120\n",
      "__________________________________________________________________________________________________________________________\n"
     ]
    }
   ],
   "source": [
    "# Import ResNet50 and decode_predictions from tensorflow.keras.applications.resnet50\n",
    "from tensorflow.keras.applications.resnet50 import ResNet50, decode_predictions\n",
    "# Instantiate a ResNet50 model with imagenet weights\n",
    "model = ResNet50(weights='imagenet')\n",
    "model.summary(line_length=122)"
   ]
  },
  {
   "cell_type": "code",
   "execution_count": 44,
   "id": "3b586202-6ba4-40c0-a45f-157a902fc7e7",
   "metadata": {
    "execution": {
     "iopub.execute_input": "2023-02-10T22:58:32.601421Z",
     "iopub.status.busy": "2023-02-10T22:58:32.601256Z",
     "iopub.status.idle": "2023-02-10T22:58:34.437646Z",
     "shell.execute_reply": "2023-02-10T22:58:34.437325Z",
     "shell.execute_reply.started": "2023-02-10T22:58:32.601406Z"
    },
    "tags": []
   },
   "outputs": [
    {
     "name": "stdout",
     "output_type": "stream",
     "text": [
      "1/1 [==============================] - 2s 2s/step\n"
     ]
    },
    {
     "data": {
      "text/plain": [
       "[('n07697313', 'cheeseburger', 0.98061347)]"
      ]
     },
     "execution_count": 44,
     "metadata": {},
     "output_type": "execute_result"
    }
   ],
   "source": [
    "# Predict with ResNet50 on our img array dimensions (1, 224, 224, 3)\n",
    "preds = model.predict(img)\n",
    "# Decode predictions and print it\n",
    "decode_predictions(preds, top=1)[0]"
   ]
  },
  {
   "cell_type": "markdown",
   "id": "ee9eec63-894b-4811-b3d9-d87ac00a63b0",
   "metadata": {},
   "source": [
    "## Exercises"
   ]
  },
  {
   "cell_type": "markdown",
   "id": "d656ac38-9f2c-4aae-aa5a-aa15ccf8f219",
   "metadata": {
    "tags": []
   },
   "source": [
    "### Building a CNN model\n",
    "\n",
    "Building a CNN model in Keras isn't much more difficult than building any of the models you've already built throughout the course! You just need to make use of convolutional layers.\n",
    "\n",
    "You're going to build a shallow convolutional model that classifies the MNIST digits dataset. The same one you de-noised with your autoencoder! The images are 28 x 28 pixels and just have one channel, since they are black and white pictures.\n",
    "\n",
    "Go ahead and build this small convolutional model!"
   ]
  },
  {
   "cell_type": "code",
   "execution_count": 45,
   "id": "77941da9-557d-44a2-9886-0b668a27ffc0",
   "metadata": {
    "execution": {
     "iopub.execute_input": "2023-02-10T22:58:34.438142Z",
     "iopub.status.busy": "2023-02-10T22:58:34.438035Z",
     "iopub.status.idle": "2023-02-10T22:58:34.454284Z",
     "shell.execute_reply": "2023-02-10T22:58:34.453848Z",
     "shell.execute_reply.started": "2023-02-10T22:58:34.438131Z"
    },
    "tags": []
   },
   "outputs": [],
   "source": [
    "# Import the Conv2D and Flatten layers and instantiate model\n",
    "from tensorflow.keras.layers import Conv2D, Flatten\n",
    "model = Sequential()\n",
    "# Add a convolutional layer of 32 filters of size 3x3\n",
    "model.add(Conv2D(filters=32, kernel_size=3, input_shape=(28, 28, 1), activation='relu'))\n",
    "# Add a convolutional layer of 16 filters of size 3x3\n",
    "model.add(Conv2D(filters=16, kernel_size=3, activation='relu'))\n",
    "# Flatten the previous layer output\n",
    "model.add(Flatten())\n",
    "# Add as many outputs as classes with softmax activation\n",
    "model.add(Dense(10, activation='softmax'))"
   ]
  },
  {
   "cell_type": "code",
   "execution_count": 46,
   "id": "f3d96b05-a38d-45f1-9fe1-318e7db772d0",
   "metadata": {
    "execution": {
     "iopub.execute_input": "2023-02-10T22:58:34.454737Z",
     "iopub.status.busy": "2023-02-10T22:58:34.454629Z",
     "iopub.status.idle": "2023-02-10T22:58:34.462913Z",
     "shell.execute_reply": "2023-02-10T22:58:34.462649Z",
     "shell.execute_reply.started": "2023-02-10T22:58:34.454727Z"
    },
    "tags": []
   },
   "outputs": [
    {
     "name": "stdout",
     "output_type": "stream",
     "text": [
      "Model: \"sequential_9\"\n",
      "_________________________________________________________________\n",
      " Layer (type)                Output Shape              Param #   \n",
      "=================================================================\n",
      " conv2d_2 (Conv2D)           (None, 26, 26, 32)        320       \n",
      "                                                                 \n",
      " conv2d_3 (Conv2D)           (None, 24, 24, 16)        4624      \n",
      "                                                                 \n",
      " flatten_1 (Flatten)         (None, 9216)              0         \n",
      "                                                                 \n",
      " dense_13 (Dense)            (None, 10)                92170     \n",
      "                                                                 \n",
      "=================================================================\n",
      "Total params: 97,114\n",
      "Trainable params: 97,114\n",
      "Non-trainable params: 0\n",
      "_________________________________________________________________\n"
     ]
    },
    {
     "data": {
      "text/plain": [
       "{'name': 'Adam',\n",
       " 'learning_rate': 0.001,\n",
       " 'decay': 0.0,\n",
       " 'beta_1': 0.9,\n",
       " 'beta_2': 0.999,\n",
       " 'epsilon': 1e-07,\n",
       " 'amsgrad': False}"
      ]
     },
     "execution_count": 46,
     "metadata": {},
     "output_type": "execute_result"
    }
   ],
   "source": [
    "model.compile(optimizer='adam', loss='categorical_crossentropy')\n",
    "model.summary()\n",
    "model.optimizer.get_config()"
   ]
  },
  {
   "cell_type": "markdown",
   "id": "c2cde99a-bf88-435f-83a3-442bc8fbae0d",
   "metadata": {
    "tags": []
   },
   "source": [
    "### Looking at convolutions\n",
    "\n",
    "Inspecting the activations of a convolutional layer is a cool thing. You have to do it at least once in your lifetime!\n",
    "\n",
    "To do so, you will build a new model with the Keras Model object, which takes in a list of inputs and a list of outputs. The outputs you will provide to this new model is the first convolutional layer outputs when given an MNIST digit as input image.\n",
    "\n",
    "The convolutional model you built in the previous exercise has already been trained for you. It can now correctly classify MNIST handwritten images. You can check it with model.summary() in the console.\n",
    "\n",
    "Let's look at the convolutional masks that were learned in the first convolutional layer of this model!"
   ]
  },
  {
   "cell_type": "code",
   "execution_count": 47,
   "id": "7529441c-76cc-48f4-971e-ed3f026f4213",
   "metadata": {
    "execution": {
     "iopub.execute_input": "2023-02-10T22:58:34.463415Z",
     "iopub.status.busy": "2023-02-10T22:58:34.463310Z",
     "iopub.status.idle": "2023-02-10T22:58:34.466667Z",
     "shell.execute_reply": "2023-02-10T22:58:34.466282Z",
     "shell.execute_reply.started": "2023-02-10T22:58:34.463405Z"
    },
    "tags": []
   },
   "outputs": [
    {
     "data": {
      "text/plain": [
       "((100, 784), (100, 784), (100,))"
      ]
     },
     "execution_count": 47,
     "metadata": {},
     "output_type": "execute_result"
    }
   ],
   "source": [
    "X_test = np.load('MNIST/X_test_MNIST.npy')\n",
    "X_test_noise = np.load('MNIST/X_test_MNIST_noise.npy')\n",
    "y_test  = np.load('MNIST/y_test_MNIST.npy')\n",
    "X_test.shape, X_test_noise.shape, y_test.shape"
   ]
  },
  {
   "cell_type": "code",
   "execution_count": 48,
   "id": "293740a9-7973-4d08-b085-e138a42a8c52",
   "metadata": {
    "execution": {
     "iopub.execute_input": "2023-02-10T22:58:34.467185Z",
     "iopub.status.busy": "2023-02-10T22:58:34.467080Z",
     "iopub.status.idle": "2023-02-10T22:58:34.470416Z",
     "shell.execute_reply": "2023-02-10T22:58:34.470099Z",
     "shell.execute_reply.started": "2023-02-10T22:58:34.467175Z"
    },
    "tags": []
   },
   "outputs": [
    {
     "data": {
      "text/plain": [
       "((100, 28, 28, 1), (100, 28, 28, 1), (100, 10))"
      ]
     },
     "execution_count": 48,
     "metadata": {},
     "output_type": "execute_result"
    }
   ],
   "source": [
    "from tensorflow.keras.utils import to_categorical\n",
    "y_test = to_categorical(y_test)\n",
    "X_test_noise = np.reshape(X_test_noise, (100, 28, 28, 1))\n",
    "X_test = np.reshape(X_test, (100, 28, 28, 1))\n",
    "X_test.shape, X_test_noise.shape, y_test.shape"
   ]
  },
  {
   "cell_type": "code",
   "execution_count": 49,
   "id": "707baa6f-3b4b-453d-aef2-aeb34da8d9bd",
   "metadata": {
    "execution": {
     "iopub.execute_input": "2023-02-10T22:58:34.470910Z",
     "iopub.status.busy": "2023-02-10T22:58:34.470804Z",
     "iopub.status.idle": "2023-02-10T22:58:34.940452Z",
     "shell.execute_reply": "2023-02-10T22:58:34.940164Z",
     "shell.execute_reply.started": "2023-02-10T22:58:34.470900Z"
    },
    "tags": []
   },
   "outputs": [],
   "source": [
    "h = model.fit(X_test, y_test, verbose=0)"
   ]
  },
  {
   "cell_type": "code",
   "execution_count": 50,
   "id": "f551757f-39f2-4203-af1d-b124b1b29528",
   "metadata": {
    "execution": {
     "iopub.execute_input": "2023-02-10T22:58:34.941136Z",
     "iopub.status.busy": "2023-02-10T22:58:34.940906Z",
     "iopub.status.idle": "2023-02-10T22:58:34.943441Z",
     "shell.execute_reply": "2023-02-10T22:58:34.943156Z",
     "shell.execute_reply.started": "2023-02-10T22:58:34.941125Z"
    },
    "tags": []
   },
   "outputs": [
    {
     "data": {
      "text/plain": [
       "(100, 28, 28, 1)"
      ]
     },
     "execution_count": 50,
     "metadata": {},
     "output_type": "execute_result"
    }
   ],
   "source": [
    "X_test.shape"
   ]
  },
  {
   "cell_type": "code",
   "execution_count": 51,
   "id": "d120db11-2872-47b3-9492-ff036edbc423",
   "metadata": {
    "execution": {
     "iopub.execute_input": "2023-02-10T22:58:34.943925Z",
     "iopub.status.busy": "2023-02-10T22:58:34.943824Z",
     "iopub.status.idle": "2023-02-10T22:58:37.545956Z",
     "shell.execute_reply": "2023-02-10T22:58:37.545508Z",
     "shell.execute_reply.started": "2023-02-10T22:58:34.943915Z"
    },
    "tags": []
   },
   "outputs": [
    {
     "name": "stdout",
     "output_type": "stream",
     "text": [
      "WARNING:tensorflow:5 out of the last 11 calls to <function Model.make_predict_function.<locals>.predict_function at 0x7f592c0f3310> triggered tf.function retracing. Tracing is expensive and the excessive number of tracings could be due to (1) creating @tf.function repeatedly in a loop, (2) passing tensors with different shapes, (3) passing Python objects instead of tensors. For (1), please define your @tf.function outside of the loop. For (2), @tf.function has reduce_retracing=True option that can avoid unnecessary retracing. For (3), please refer to https://www.tensorflow.org/guide/function#controlling_retracing and https://www.tensorflow.org/api_docs/python/tf/function for  more details.\n"
     ]
    },
    {
     "data": {
      "image/png": "[encoded data removed]",
      "text/plain": [
       "<Figure size 100x100 with 1 Axes>"
      ]
     },
     "metadata": {},
     "output_type": "display_data"
    },
    {
     "data": {
      "image/png": "[encoded data removed]",
      "text/plain": [
       "<Figure size 1000x500 with 32 Axes>"
      ]
     },
     "metadata": {},
     "output_type": "display_data"
    },
    {
     "data": {
      "image/png": "[encoded data removed]",
      "text/plain": [
       "<Figure size 100x100 with 1 Axes>"
      ]
     },
     "metadata": {},
     "output_type": "display_data"
    },
    {
     "data": {
      "image/png": "[encoded data removed]",
      "text/plain": [
       "<Figure size 1000x500 with 32 Axes>"
      ]
     },
     "metadata": {},
     "output_type": "display_data"
    },
    {
     "data": {
      "image/png": "[encoded data removed]",
      "text/plain": [
       "<Figure size 100x100 with 1 Axes>"
      ]
     },
     "metadata": {},
     "output_type": "display_data"
    },
    {
     "data": {
      "image/png": "[encoded data removed]",
      "text/plain": [
       "<Figure size 1000x500 with 32 Axes>"
      ]
     },
     "metadata": {},
     "output_type": "display_data"
    }
   ],
   "source": [
    "from tensorflow.keras.models import Model\n",
    "\n",
    "# Obtain a reference to the outputs of the first layer\n",
    "first_layer_output = model.layers[0].output\n",
    "# Build a model using the model's input and the first layer output\n",
    "first_layer_model = Model(inputs = model.layers[0].input, outputs = model.layers[0].output)\n",
    "# Use this model to predict on X_test\n",
    "activations = first_layer_model.predict(X_test, verbose=0)\n",
    "\n",
    "# plot first 3 X_test\n",
    "for d in range(3):\n",
    "    plt.figure(figsize=(1,1))\n",
    "    plt.matshow(X_test[d,:,:,0], cmap = 'viridis', fignum=1)\n",
    "    plt.axis('off')\n",
    "    plt.show()\n",
    "    fig, axs = plt.subplots(4,8, figsize=(10,5))\n",
    "    k=0\n",
    "    for i in range(4):\n",
    "        for j in range(8):\n",
    "            # Plot the activations of dth digit of X_test for 32 filters\n",
    "            axs[i,j].matshow(activations[d,:,:,k], cmap = 'viridis')\n",
    "            axs[i,j].axis('off')\n",
    "            k+=1\n",
    "    plt.show()"
   ]
  },
  {
   "cell_type": "markdown",
   "id": "b3f61273-73a1-4e0a-bc9d-f25e25632d4f",
   "metadata": {},
   "source": [
    "### Preparing your input image\n",
    "\n",
    "The original ResNet50 model was trained with images of size 224 x 224 pixels and a number of preprocessing operations; like the subtraction of the mean pixel value in the training set for all training images. You need to pre-process the images you want to predict on in the same way.\n",
    "\n",
    "When predicting on a single image you need it to fit the model's input shape, which in this case looks like this: (batch-size, width, height, channels),np.expand_dims with parameter axis = 0 adds the batch-size dimension, representing that a single image will be passed to predict. This batch-size dimension value is 1, since we are only predicting on one image.\n",
    "\n",
    "You will go over these preprocessing steps as you prepare this dog's (named Ivy) image into one that can be classified by ResNet50."
   ]
  },
  {
   "cell_type": "code",
   "execution_count": 52,
   "id": "167fb81b-5edd-471e-9632-f32fcfc72752",
   "metadata": {
    "execution": {
     "iopub.execute_input": "2023-02-10T22:58:37.546466Z",
     "iopub.status.busy": "2023-02-10T22:58:37.546360Z",
     "iopub.status.idle": "2023-02-10T22:58:37.562007Z",
     "shell.execute_reply": "2023-02-10T22:58:37.561562Z",
     "shell.execute_reply.started": "2023-02-10T22:58:37.546455Z"
    },
    "tags": []
   },
   "outputs": [],
   "source": [
    "# Import image and preprocess_input\n",
    "from tensorflow.keras.preprocessing import image\n",
    "from tensorflow.keras.applications.resnet50 import preprocess_input\n",
    "\n",
    "# Load the image with the right target size for your model\n",
    "img_path = 'dog.png'\n",
    "img = image.load_img(img_path, target_size=(224, 224))\n",
    "\n",
    "# Turn it into an array\n",
    "img_array = image.img_to_array(img)\n",
    "\n",
    "# Expand the dimensions of the image, this is so that it fits the expected model input format\n",
    "img_expanded = np.expand_dims(img_array, axis = 0)\n",
    "\n",
    "# Pre-process the img in the same way original images were\n",
    "img_ready = preprocess_input(img_expanded)"
   ]
  },
  {
   "cell_type": "code",
   "execution_count": 53,
   "id": "eb35ac58-d5b7-4a56-937c-e6173dc78ed8",
   "metadata": {
    "execution": {
     "iopub.execute_input": "2023-02-10T22:58:37.562502Z",
     "iopub.status.busy": "2023-02-10T22:58:37.562397Z",
     "iopub.status.idle": "2023-02-10T22:58:38.553789Z",
     "shell.execute_reply": "2023-02-10T22:58:38.553501Z",
     "shell.execute_reply.started": "2023-02-10T22:58:37.562492Z"
    },
    "tags": []
   },
   "outputs": [
    {
     "name": "stdout",
     "output_type": "stream",
     "text": [
      "WARNING:tensorflow:5 out of the last 14 calls to <function Model.make_predict_function.<locals>.predict_function at 0x7f592c61c4c0> triggered tf.function retracing. Tracing is expensive and the excessive number of tracings could be due to (1) creating @tf.function repeatedly in a loop, (2) passing tensors with different shapes, (3) passing Python objects instead of tensors. For (1), please define your @tf.function outside of the loop. For (2), @tf.function has reduce_retracing=True option that can avoid unnecessary retracing. For (3), please refer to https://www.tensorflow.org/guide/function#controlling_retracing and https://www.tensorflow.org/api_docs/python/tf/function for  more details.\n",
      "1/1 [==============================] - 0s 346ms/step\n",
      "Predicted: [('n02088364', 'beagle', 0.9072936), ('n02089867', 'Walker_hound', 0.066303246), ('n02089973', 'English_foxhound', 0.018889757)]\n"
     ]
    }
   ],
   "source": [
    "# Instantiate a ResNet50 model with 'imagenet' weights\n",
    "model = ResNet50(weights='imagenet')\n",
    "\n",
    "# Predict with ResNet50 on your already processed img\n",
    "preds = model.predict(img_ready)\n",
    "\n",
    "# Decode the first 3 predictions\n",
    "print('Predicted:', decode_predictions(preds, top=3)[0])"
   ]
  },
  {
   "cell_type": "markdown",
   "id": "901b8cbb-d3ad-44ec-96fc-d20660bb5354",
   "metadata": {
    "tags": []
   },
   "source": [
    "# Intro to LSTMs (Long short-term memory)"
   ]
  },
  {
   "cell_type": "markdown",
   "id": "cdecdbc6-0c62-4fe1-8bde-ce99043708f2",
   "metadata": {},
   "source": [
    "## What are RNNs?\n",
    "\n",
    "[From Wikipedia:](https://en.wikipedia.org/wiki/Recurrent_neural_network) A recurrent neural network (RNN) is a class of artificial neural networks where connections between nodes can create a cycle, allowing output from some nodes to affect subsequent input to the same nodes. This allows it to exhibit temporal dynamic behavior. Derived from feedforward neural networks, RNNs can use their internal state (memory) to process variable length sequences of inputs. This makes them applicable to tasks such as unsegmented, connected handwriting recognition or speech recognition.\n",
    "\n",
    "LSTMs are a type of recurrent neural network, RNN for short. A simple RNN is a neural network that can use past predictions in order to infer new ones. This allows us to solve problems where there is a dependence on past inputs."
   ]
  },
  {
   "cell_type": "markdown",
   "id": "a36ca051-a929-47ae-8c5e-eae552a23dfc",
   "metadata": {},
   "source": [
    "## What are LSTMs?\n",
    "\n",
    "LSTM neurons are pretty complex, they are actually called units or cells. They have an internal state that is passed between units, you can see this as a memory of past steps. A unit receives the internal state, an output from the previous unit, and a new input at time t. Then it updates the state and produces a new output that is returned, as well as passed as an input to the following unit.\n",
    "\n",
    "LSTM units perform several operations. They learn what to ignore, what to keep and to select the most important pieces of past information in order to predict the future. They tend to work better than simple RNNs for most problems. "
   ]
  },
  {
   "cell_type": "markdown",
   "id": "a5dc5205-aafc-4b6f-9a22-b17b4c73b55c",
   "metadata": {},
   "source": [
    "## When to use LSTMs?\n",
    "* Image captioning\n",
    "* Speech to text\n",
    "* Text translation\n",
    "* Document summarization\n",
    "* Text generation\n",
    "* Musical composition\n",
    "* ..."
   ]
  },
  {
   "cell_type": "code",
   "execution_count": null,
   "id": "f4182264-d211-4fa0-a37b-50f278d727a6",
   "metadata": {},
   "outputs": [],
   "source": []
  },
  {
   "cell_type": "markdown",
   "id": "66525495-42b5-48e7-b78b-2a09d01913ac",
   "metadata": {},
   "source": [
    "## Sequence preparation\n",
    "\n",
    "We first define some text and choose a sequence length. With a sequence length of 3 we will end up feeding our model with two words and it will predict the third one. We split the text into words with the split method. The output looks like this:"
   ]
  },
  {
   "cell_type": "markdown",
   "id": "c2461e1c",
   "metadata": {},
   "source": [
    "## Text preparation in Keras\n",
    "\n",
    "After that we turn our text sequences into numbers. We import Keras Tokenizer from the preprocessing text module. Instantiate it, fit it on lines, and then turn those lines into numeric sequences. This is how the 3-word lines look now. The tokenizer object stores the word-to-number mapping. There are two dictionaries, the index_word, and the word_index. Here, the index_word is printed, which shows the encoded word for each index. We can use this dictionary to decode our outputs, mapping numbers back to words. "
   ]
  },
  {
   "cell_type": "markdown",
   "id": "368a7916-661e-46dc-9aa5-8d061f8787f1",
   "metadata": {},
   "source": [
    "We then, need to turn these words into consecutive lines of 3 words each. We can loop from seq_len to the number of words + 1 and store each line. The end results look like this: "
   ]
  },
  {
   "cell_type": "code",
   "execution_count": 54,
   "id": "503dd68d-e4f9-40a9-abb0-b00befa6bd02",
   "metadata": {
    "execution": {
     "iopub.execute_input": "2023-02-10T22:58:38.554304Z",
     "iopub.status.busy": "2023-02-10T22:58:38.554184Z",
     "iopub.status.idle": "2023-02-10T22:58:38.556799Z",
     "shell.execute_reply": "2023-02-10T22:58:38.556458Z",
     "shell.execute_reply.started": "2023-02-10T22:58:38.554293Z"
    },
    "tags": []
   },
   "outputs": [
    {
     "data": {
      "text/plain": [
       "['Hi', 'this', 'is', 'a', 'small', 'sentence']"
      ]
     },
     "execution_count": 54,
     "metadata": {},
     "output_type": "execute_result"
    }
   ],
   "source": [
    "text = 'Hi this is a small sentence'\n",
    "# We choose a sequence length\n",
    "seq_len = 3\n",
    "# Split text into a list of words\n",
    "words = text.split()\n",
    "words"
   ]
  },
  {
   "cell_type": "markdown",
   "id": "1098cdce-7b04-423a-9f1c-f1ffbdc1e994",
   "metadata": {},
   "source": [
    "## Embeddings\n",
    "\n",
    "Neural networks can only deal with numbers, not text. We need to transform each unique word into a number. Then these numbers can be used as inputs to an embedding layer.\n",
    "\n",
    "Embedding layers learn to represent words as vectors of a predetermined size. These vectors encode meaning and are used by subsequent layers."
   ]
  },
  {
   "cell_type": "code",
   "execution_count": 55,
   "id": "43f1ddfb-28ac-4e75-80f3-0e924a227fd9",
   "metadata": {
    "execution": {
     "iopub.execute_input": "2023-02-10T22:58:38.557397Z",
     "iopub.status.busy": "2023-02-10T22:58:38.557180Z",
     "iopub.status.idle": "2023-02-10T22:58:38.559944Z",
     "shell.execute_reply": "2023-02-10T22:58:38.559634Z",
     "shell.execute_reply.started": "2023-02-10T22:58:38.557387Z"
    },
    "tags": []
   },
   "outputs": [
    {
     "data": {
      "text/plain": [
       "['Hi this is', 'this is a', 'is a small', 'a small sentence']"
      ]
     },
     "execution_count": 55,
     "metadata": {},
     "output_type": "execute_result"
    }
   ],
   "source": [
    "# Make lines\n",
    "lines = []\n",
    "for i in range(seq_len, len(words) + 1):\n",
    "    line = ' '.join(words[i-seq_len:i])\n",
    "    lines.append(line)\n",
    "lines"
   ]
  },
  {
   "cell_type": "markdown",
   "id": "abc1975a-e4c1-4b3a-be2b-555ed57255d1",
   "metadata": {},
   "source": [
    "The tokenizer object stores the word-to-number mapping."
   ]
  },
  {
   "cell_type": "code",
   "execution_count": 56,
   "id": "60848b8d-c411-457d-a774-1823975cd3bc",
   "metadata": {
    "execution": {
     "iopub.execute_input": "2023-02-10T22:58:38.560471Z",
     "iopub.status.busy": "2023-02-10T22:58:38.560370Z",
     "iopub.status.idle": "2023-02-10T22:58:38.563235Z",
     "shell.execute_reply": "2023-02-10T22:58:38.562965Z",
     "shell.execute_reply.started": "2023-02-10T22:58:38.560461Z"
    },
    "tags": []
   },
   "outputs": [
    {
     "data": {
      "text/plain": [
       "[[5, 3, 1], [3, 1, 2], [1, 2, 4], [2, 4, 6]]"
      ]
     },
     "execution_count": 56,
     "metadata": {},
     "output_type": "execute_result"
    }
   ],
   "source": [
    "# Import Tokenizer from keras preprocessing text\n",
    "from tensorflow.keras.preprocessing.text import Tokenizer\n",
    "# Instantiate Tokenizer\n",
    "tokenizer = Tokenizer()\n",
    "# Fit it on the previous lines\n",
    "tokenizer.fit_on_texts(lines)\n",
    "# Turn the lines into numeric sequences\n",
    "sequences = tokenizer.texts_to_sequences(lines)\n",
    "sequences"
   ]
  },
  {
   "cell_type": "code",
   "execution_count": 57,
   "id": "644910d8-4d00-4e0e-850c-78118ff69d83",
   "metadata": {
    "execution": {
     "iopub.execute_input": "2023-02-10T22:58:38.563793Z",
     "iopub.status.busy": "2023-02-10T22:58:38.563606Z",
     "iopub.status.idle": "2023-02-10T22:58:38.565538Z",
     "shell.execute_reply": "2023-02-10T22:58:38.565230Z",
     "shell.execute_reply.started": "2023-02-10T22:58:38.563782Z"
    },
    "tags": []
   },
   "outputs": [
    {
     "name": "stdout",
     "output_type": "stream",
     "text": [
      "{'is': 1, 'a': 2, 'this': 3, 'small': 4, 'hi': 5, 'sentence': 6}\n"
     ]
    }
   ],
   "source": [
    "print(tokenizer.word_index)"
   ]
  },
  {
   "cell_type": "markdown",
   "id": "84959f2f-f5ed-49a0-b059-07d2985d9ac6",
   "metadata": {},
   "source": [
    "## Building a LSTM model"
   ]
  },
  {
   "cell_type": "code",
   "execution_count": 58,
   "id": "f9e7a26a-5e47-4489-9161-97c323841acd",
   "metadata": {
    "execution": {
     "iopub.execute_input": "2023-02-10T22:58:38.565965Z",
     "iopub.status.busy": "2023-02-10T22:58:38.565865Z",
     "iopub.status.idle": "2023-02-10T22:58:38.568581Z",
     "shell.execute_reply": "2023-02-10T22:58:38.568299Z",
     "shell.execute_reply.started": "2023-02-10T22:58:38.565956Z"
    },
    "tags": []
   },
   "outputs": [],
   "source": [
    "# Import Dense, LSTM and Embedding layers\n",
    "from tensorflow.keras.layers import Dense, LSTM, Embedding\n",
    "model = Sequential()"
   ]
  },
  {
   "cell_type": "markdown",
   "id": "a7550538-cf75-447b-8077-5ad75542682a",
   "metadata": {},
   "source": [
    "The vocab_size is the length of the tokenizer dictionary plus one.\n",
    "\n",
    "The plus one is because we account for 0 as an integer reserved for special characters, as we saw, our dictionary starts at 1, not 0. "
   ]
  },
  {
   "cell_type": "code",
   "execution_count": 59,
   "id": "40ba9b69-d84c-4ea1-9f3d-249cc8387e95",
   "metadata": {
    "execution": {
     "iopub.execute_input": "2023-02-10T22:58:38.569139Z",
     "iopub.status.busy": "2023-02-10T22:58:38.568945Z",
     "iopub.status.idle": "2023-02-10T22:58:38.571267Z",
     "shell.execute_reply": "2023-02-10T22:58:38.570962Z",
     "shell.execute_reply.started": "2023-02-10T22:58:38.569128Z"
    },
    "tags": []
   },
   "outputs": [
    {
     "data": {
      "text/plain": [
       "7"
      ]
     },
     "execution_count": 59,
     "metadata": {},
     "output_type": "execute_result"
    }
   ],
   "source": [
    "# Vocabulary size\n",
    "vocab_size = len(tokenizer.index_word) + 1\n",
    "vocab_size"
   ]
  },
  {
   "cell_type": "markdown",
   "id": "a6e906bc-56f1-4c28-8a6b-3ab61975ec1e",
   "metadata": {},
   "source": [
    "We add an embedding layer, the input_dim is the vocab_size variable.\n",
    "\n",
    "We will turn our word numbers into 8-dimensional vectors.\n",
    "\n",
    "And need to declare the input_length so that our model understand that two words will be passed simultaneously as a sequence."
   ]
  },
  {
   "cell_type": "code",
   "execution_count": 60,
   "id": "9865aa1f-9bf5-4c7d-a67b-c41cf2266451",
   "metadata": {
    "execution": {
     "iopub.execute_input": "2023-02-10T22:58:38.571800Z",
     "iopub.status.busy": "2023-02-10T22:58:38.571619Z",
     "iopub.status.idle": "2023-02-10T22:58:38.577501Z",
     "shell.execute_reply": "2023-02-10T22:58:38.577237Z",
     "shell.execute_reply.started": "2023-02-10T22:58:38.571789Z"
    },
    "tags": []
   },
   "outputs": [],
   "source": [
    "# Starting with an embedding layer\n",
    "model.add(Embedding(input_dim=vocab_size, output_dim=8, input_length=2))\n",
    "# Adding an LSTM layer"
   ]
  },
  {
   "cell_type": "markdown",
   "id": "644129c0-9d7c-4033-8d22-903c195c99cc",
   "metadata": {},
   "source": [
    "We end by adding an LSTM layer of 8 units, a hidden layer, and an output layer with softmax and as many outputs as possible words. "
   ]
  },
  {
   "cell_type": "code",
   "execution_count": 61,
   "id": "30b47359-a0e1-4c12-b058-a4c91ba3442f",
   "metadata": {
    "execution": {
     "iopub.execute_input": "2023-02-10T22:58:38.578070Z",
     "iopub.status.busy": "2023-02-10T22:58:38.577857Z",
     "iopub.status.idle": "2023-02-10T22:58:38.674597Z",
     "shell.execute_reply": "2023-02-10T22:58:38.674329Z",
     "shell.execute_reply.started": "2023-02-10T22:58:38.578060Z"
    },
    "tags": []
   },
   "outputs": [
    {
     "name": "stdout",
     "output_type": "stream",
     "text": [
      "Model: \"sequential_10\"\n",
      "_________________________________________________________________\n",
      " Layer (type)                Output Shape              Param #   \n",
      "=================================================================\n",
      " embedding (Embedding)       (None, 2, 8)              56        \n",
      "                                                                 \n",
      " lstm (LSTM)                 (None, 8)                 544       \n",
      "                                                                 \n",
      " dense_14 (Dense)            (None, 8)                 72        \n",
      "                                                                 \n",
      " dense_15 (Dense)            (None, 7)                 63        \n",
      "                                                                 \n",
      "=================================================================\n",
      "Total params: 735\n",
      "Trainable params: 735\n",
      "Non-trainable params: 0\n",
      "_________________________________________________________________\n"
     ]
    }
   ],
   "source": [
    "model.add(LSTM(8))\n",
    "# Adding a Dense hidden layer\n",
    "model.add(Dense(8, activation='relu'))\n",
    "# Adding an output layer with softmax\n",
    "model.add(Dense(vocab_size, activation='softmax'))\n",
    "model.summary()"
   ]
  },
  {
   "cell_type": "markdown",
   "id": "5666e704-54c2-4306-aa46-8466ca2c0b84",
   "metadata": {},
   "source": [
    "## Exercises"
   ]
  },
  {
   "cell_type": "markdown",
   "id": "1d2ae67f-7359-4cbe-83c1-715322bfd248",
   "metadata": {},
   "source": [
    "### Text prediction with LSTMs\n",
    "\n",
    "During the following exercises you will build a toy LSTM model that is able to predict the next word using a small text dataset. This dataset consist of cleaned quotes from the The Lord of the Ring movies. You can find them in the text variable.\n",
    "\n",
    "You will turn this text into sequences of length 4 and make use of the Keras Tokenizer to prepare the features and labels for your model!"
   ]
  },
  {
   "cell_type": "code",
   "execution_count": 126,
   "id": "6dd97f0a-1810-4eca-90a9-019a68cff6c3",
   "metadata": {
    "tags": []
   },
   "outputs": [
    {
     "name": "stdout",
     "output_type": "stream",
     "text": [
      "it is not the strength of the body but the strength of the spirit it is useless to meet revenge with revenge it will heal nothing even the smallest person can change the course of history all we have to decide is what to do with the time that is given us the burned hand teaches best after that advice about fire goes to the heart\n"
     ]
    }
   ],
   "source": [
    "text = 'it is not the strength of the body but the strength of the spirit it is useless to meet revenge with revenge it will heal nothing even the smallest person can change the course of history all we have to decide is what to do with the time that is given us the burned hand teaches best after that advice about fire goes to the heart'\n",
    "print(text)"
   ]
  },
  {
   "cell_type": "code",
   "execution_count": 127,
   "id": "2fa41f0e-097d-4a52-874e-3c6d0ed7a0c5",
   "metadata": {
    "tags": []
   },
   "outputs": [],
   "source": [
    "# Split text into an array of words \n",
    "words = text.split()\n",
    "\n",
    "# Make sentences of 4 words each, moving one word at a time\n",
    "sentences = []\n",
    "for i in range(4, len(words)+1):\n",
    "    sentences.append(' '.join(words[i - 4: i]))"
   ]
  },
  {
   "cell_type": "code",
   "execution_count": 128,
   "id": "b0da2d17-96f3-49d9-90a3-dc8b96f3a021",
   "metadata": {
    "tags": []
   },
   "outputs": [],
   "source": [
    "# Instantiate a Tokenizer, then fit it on the sentences\n",
    "tokenizer = Tokenizer()\n",
    "tokenizer.fit_on_texts(sentences)\n",
    "\n",
    "# Turn sentences into a sequence of numbers\n",
    "sequences = tokenizer.texts_to_sequences(sentences)\n",
    "# print(\"Sentences: \\n {} \\n Sequences: \\n {}\".format(sentences[:5],sequences[:5]))"
   ]
  },
  {
   "cell_type": "markdown",
   "id": "31b693e4-ea8e-40d8-a17f-f548a189a32f",
   "metadata": {},
   "source": [
    "### Build your LSTM model\n",
    "\n",
    "You've already prepared your sequences of text. It's time to build your LSTM model!\n",
    "\n",
    "Remember your sequences had 4 words each, your model will be trained on the first three words of each sequence, predicting the 4th one. You are going to use an Embedding layer that will essentially learn to turn words into meaningful vectors. These vectors will then be passed to a simple LSTM layer. Our output is a Dense layer with as many neurons as words in the vocabulary and softmax activation. This is because we want to obtain the highest probable next word out of all possible words.\n",
    "\n",
    "The size of the vocabulary of words (the unique number of words) is stored in vocab_size."
   ]
  },
  {
   "cell_type": "code",
   "execution_count": 129,
   "id": "e53f34ea-eb08-4f4d-ba5e-8efaeeddcacb",
   "metadata": {
    "tags": []
   },
   "outputs": [
    {
     "data": {
      "text/plain": [
       "45"
      ]
     },
     "execution_count": 129,
     "metadata": {},
     "output_type": "execute_result"
    }
   ],
   "source": [
    "vocab_size = len(tokenizer.index_word) + 1\n",
    "vocab_size"
   ]
  },
  {
   "cell_type": "code",
   "execution_count": 130,
   "id": "26c11e59-75f9-4055-83b8-7edb337293d4",
   "metadata": {
    "tags": []
   },
   "outputs": [
    {
     "name": "stdout",
     "output_type": "stream",
     "text": [
      "Model: \"sequential_15\"\n",
      "_________________________________________________________________\n",
      " Layer (type)                Output Shape              Param #   \n",
      "=================================================================\n",
      " embedding_5 (Embedding)     (None, 3, 8)              360       \n",
      "                                                                 \n",
      " lstm_5 (LSTM)               (None, 32)                5248      \n",
      "                                                                 \n",
      " dense_24 (Dense)            (None, 32)                1056      \n",
      "                                                                 \n",
      " dense_25 (Dense)            (None, 45)                1485      \n",
      "                                                                 \n",
      "=================================================================\n",
      "Total params: 8,149\n",
      "Trainable params: 8,149\n",
      "Non-trainable params: 0\n",
      "_________________________________________________________________\n"
     ]
    }
   ],
   "source": [
    "# Import the Embedding, LSTM and Dense layer\n",
    "from tensorflow.keras.layers import Embedding, LSTM, Dense\n",
    "\n",
    "model = Sequential()\n",
    "# Add an Embedding layer with the right parameters\n",
    "model.add(Embedding(input_dim = vocab_size, input_length = 3, output_dim = 8))\n",
    "# Add a 32 unit LSTM layer\n",
    "model.add(LSTM(32))\n",
    "# Add a hidden Dense layer of 32 units and an output layer of vocab_size with softmax\n",
    "model.add(Dense(32, activation='relu'))\n",
    "model.add(Dense(vocab_size, activation='softmax'))\n",
    "model.summary()"
   ]
  },
  {
   "cell_type": "markdown",
   "id": "7693e818-74d1-4830-87b3-42af9568aeb3",
   "metadata": {},
   "source": [
    "You'll see that this model is powerful enough to learn text relationships, we aren't using a lot of text in this tiny example and our sequences are quite short.\n",
    "\n",
    "This model is to be trained as usual, you would just need to compile it with an optimizer like adam and use crossentropy loss.\n",
    "\n",
    "This is because we have modeled this next word prediction task as a classification problem with all the unique words in our vocabulary as candidate classes."
   ]
  },
  {
   "cell_type": "code",
   "execution_count": 131,
   "id": "e5a4d55c-e874-4816-ab2f-2271bca7c9df",
   "metadata": {
    "tags": []
   },
   "outputs": [
    {
     "data": {
      "text/plain": [
       "{'name': 'Adam',\n",
       " 'learning_rate': 0.01,\n",
       " 'decay': 0.0,\n",
       " 'beta_1': 0.9,\n",
       " 'beta_2': 0.999,\n",
       " 'epsilon': 1e-07,\n",
       " 'amsgrad': False}"
      ]
     },
     "execution_count": 131,
     "metadata": {},
     "output_type": "execute_result"
    }
   ],
   "source": [
    "# increased learning_rate because iterations are taking longer than the EarlyStopping\n",
    "optimizer = tf.keras.optimizers.Adam(learning_rate = 0.01)\n",
    "model.compile(optimizer=optimizer, loss='categorical_crossentropy', metrics=['accuracy'])\n",
    "model.optimizer.get_config()"
   ]
  },
  {
   "cell_type": "markdown",
   "id": "7a744d52-a504-406a-a384-e4d8a33297e2",
   "metadata": {
    "tags": []
   },
   "source": [
    "### Train (not shown in the course)"
   ]
  },
  {
   "cell_type": "markdown",
   "id": "a5cfd201-c3b0-4391-a23c-029d49ae3d5d",
   "metadata": {},
   "source": [
    "The course didn't reveal the training parameters and the training set."
   ]
  },
  {
   "cell_type": "code",
   "execution_count": 132,
   "id": "23ff2c0b-3f67-490b-8a62-1df9f37afc74",
   "metadata": {
    "tags": []
   },
   "outputs": [
    {
     "data": {
      "text/plain": [
       "((63, 3), (63, 45))"
      ]
     },
     "execution_count": 132,
     "metadata": {},
     "output_type": "execute_result"
    }
   ],
   "source": [
    "X_train = np.array(sequences)[:,0:3]\n",
    "y_train = to_categorical(np.array(sequences)[:,-1])\n",
    "X_train.shape, y_train.shape"
   ]
  },
  {
   "cell_type": "markdown",
   "id": "b0f88139-97b5-47f2-9772-8d39d8e6e4c4",
   "metadata": {
    "tags": []
   },
   "source": [
    "#### Train parameters inference"
   ]
  },
  {
   "cell_type": "markdown",
   "id": "ed6f4e53-ce9c-4eaa-9c32-66a917d62768",
   "metadata": {},
   "source": [
    "The `epochs` parameter to train this model was estimated this way:\n",
    "\n",
    "* The number of `model.optimizer.iterations` higher than 405 found in the live model object\n",
    "* A `batch_size`\n",
    "* The length of the training features `X_train`\n",
    "\n",
    "$ epochs = iterations \\div (train\\_size \\div batch size)$\n",
    "\n",
    "    epochs = np.ceil(model.optimizer.iterations.numpy() / np.ceil(len(X_train) / batch_size))"
   ]
  },
  {
   "cell_type": "code",
   "execution_count": 133,
   "id": "0e37141b-5f1a-46aa-80fc-2e05188cb729",
   "metadata": {
    "tags": []
   },
   "outputs": [
    {
     "data": {
      "text/plain": [
       "1000"
      ]
     },
     "execution_count": 133,
     "metadata": {},
     "output_type": "execute_result"
    }
   ],
   "source": [
    "iterations = 1000\n",
    "batch_size = len(X_train)  # because default 32 seems low for such small train set\n",
    "epochs = np.ceil(iterations / np.ceil(len(X_train) / batch_size)).astype('int')\n",
    "epochs"
   ]
  },
  {
   "cell_type": "code",
   "execution_count": 134,
   "id": "bd7d2293-bd2e-4e42-bd68-8ab66ce9b95b",
   "metadata": {
    "scrolled": true,
    "tags": []
   },
   "outputs": [],
   "source": [
    "from tensorflow.keras.callbacks import EarlyStopping, ModelCheckpoint\n",
    "patience = 3\n",
    "callbacks = [EarlyStopping(monitor='loss',\n",
    "                           patience=patience),\n",
    "             ModelCheckpoint('best_lstm_model.hdf5',\n",
    "                             monitor='loss',\n",
    "                             save_best_only = True)]\n",
    "# batch_size = len(X_train)\n",
    "h = model.fit(X_train, y_train,\n",
    "              epochs=epochs, # default 1\n",
    "              batch_size=batch_size, # default 32\n",
    "              callbacks = callbacks,\n",
    "              verbose=0)"
   ]
  },
  {
   "cell_type": "code",
   "execution_count": 135,
   "id": "1412c959-6d99-410d-8d14-ebe2599774c5",
   "metadata": {
    "tags": []
   },
   "outputs": [
    {
     "name": "stdout",
     "output_type": "stream",
     "text": [
      "history length: 254\n",
      "last 4 history:\n",
      "loss     : [0.022684330120682716, 0.02268524467945099, 0.022691799327731133, 0.022707456722855568]\n",
      "truncated: [0.0226843, 0.0226852, 0.0226918, 0.0227075]\n",
      "accuracy : [0.9841269850730896, 0.9841269850730896, 0.9841269850730896, 0.9841269850730896]\n"
     ]
    }
   ],
   "source": [
    "epsilon_power = np.log10(model.optimizer.get_config()['epsilon']).astype('int')\n",
    "print(f\"history length: {len(h.history['loss'])}\")\n",
    "print(f'last {patience+1} history:')\n",
    "print(f\"loss     : {h.history['loss'][-patience-1:]}\")\n",
    "print(f\"truncated: {[np.round(h, -epsilon_power) for h in h.history['loss'][-patience-1:]]}\")\n",
    "print(f\"accuracy : {h.history['accuracy'][-patience-1:]}\")"
   ]
  },
  {
   "cell_type": "markdown",
   "id": "be20f40e-1d70-4527-b739-fad1f12e87cd",
   "metadata": {},
   "source": [
    "Checking the number of iterations until the model is possibly checkpointed"
   ]
  },
  {
   "cell_type": "code",
   "execution_count": 136,
   "id": "c8a8f742-a43a-4beb-9956-845c38c0577e",
   "metadata": {
    "tags": []
   },
   "outputs": [
    {
     "data": {
      "text/plain": [
       "251"
      ]
     },
     "execution_count": 136,
     "metadata": {},
     "output_type": "execute_result"
    }
   ],
   "source": [
    "model = tf.keras.models.load_model('best_lstm_model.hdf5')\n",
    "model.optimizer.iterations.numpy()"
   ]
  },
  {
   "cell_type": "markdown",
   "id": "d637dadd-dacf-4ef1-a379-454cbd4dceee",
   "metadata": {},
   "source": [
    "#### simple prediction tests"
   ]
  },
  {
   "cell_type": "markdown",
   "id": "f28652af-a8bb-4c07-a489-ab115954257e",
   "metadata": {},
   "source": [
    "A test sample is produced by trasnforming each word in texts to a sequence of integers. Only top `num_words-1` most frequent words will be taken into account."
   ]
  },
  {
   "cell_type": "code",
   "execution_count": 137,
   "id": "00c0ac23-9290-4c03-8018-74f26a500159",
   "metadata": {
    "tags": []
   },
   "outputs": [
    {
     "data": {
      "text/plain": [
       "'the'"
      ]
     },
     "execution_count": 137,
     "metadata": {},
     "output_type": "execute_result"
    }
   ],
   "source": [
    "test = np.array(tokenizer.texts_to_sequences([\"it is not\"]))\n",
    "tokenizer.index_word[model.predict(test, verbose=0).argmax(axis = 1)[0]]"
   ]
  },
  {
   "cell_type": "markdown",
   "id": "1954b75c-ba57-44ee-a96a-9447801f0861",
   "metadata": {},
   "source": [
    "Only words known by the tokenizer will be taken into account."
   ]
  },
  {
   "cell_type": "code",
   "execution_count": 138,
   "id": "af191af5-83d7-41e6-a5b0-5cdc4556e740",
   "metadata": {
    "tags": []
   },
   "outputs": [
    {
     "data": {
      "text/plain": [
       "['it not']"
      ]
     },
     "execution_count": 138,
     "metadata": {},
     "output_type": "execute_result"
    }
   ],
   "source": [
    "test = np.array(tokenizer.texts_to_sequences([\"it was not\"]))\n",
    "tokenizer.sequences_to_texts(test)"
   ]
  },
  {
   "cell_type": "code",
   "execution_count": 139,
   "id": "1d99d4b7-435d-4971-a185-1dd8d08d81e8",
   "metadata": {
    "tags": []
   },
   "outputs": [
    {
     "data": {
      "text/plain": [
       "'the'"
      ]
     },
     "execution_count": 139,
     "metadata": {},
     "output_type": "execute_result"
    }
   ],
   "source": [
    "tokenizer.index_word[model.predict(test, verbose=0).argmax(axis = 1)[0]]"
   ]
  },
  {
   "cell_type": "markdown",
   "id": "5807c0e5-2726-4a6c-a122-67d3d7e0fb09",
   "metadata": {},
   "source": [
    "### Decode your predictions\n",
    "\n",
    "Your LSTM model has already been trained (details in the previous exercise success message) so that you don't have to wait. It's time to define a function that decodes its predictions. The trained model will be passed as a default parameter to this function.\n",
    "\n",
    "Since you are predicting on a model that uses the softmax function, numpy's argmax() can be used to obtain the index/position representing the most probable next word out of the output vector of probabilities.\n",
    "\n",
    "The tokenizer you previously created and fitted, is loaded for you. You will be making use of its internal index_word dictionary to turn the model's next word prediction (which is an integer) into the actual written word it represents. "
   ]
  },
  {
   "cell_type": "code",
   "execution_count": 140,
   "id": "812d7a46-2de5-4fc7-8b92-4127a332ee15",
   "metadata": {
    "tags": []
   },
   "outputs": [],
   "source": [
    "def predict_text(test_text, model = model):\n",
    "    if len(test_text.split()) != 3:\n",
    "        print('Text input should be 3 words!')\n",
    "        return False\n",
    "    # Turn the test_text into a sequence of numbers\n",
    "    test_seq = tokenizer.texts_to_sequences([test_text])\n",
    "    test_seq = np.array(test_seq)\n",
    "    # Use the model passed as a parameter to predict the next word\n",
    "    pred = model.predict(test_seq, verbose=0).argmax(axis = 1)[0]\n",
    "    # Return the word that maps to the prediction\n",
    "    return tokenizer.index_word[pred]"
   ]
  },
  {
   "cell_type": "markdown",
   "id": "cffba79e-0a03-4738-95f3-8ce51c3d74d7",
   "metadata": {},
   "source": [
    "### Test your model!\n",
    "\n",
    "The function you just built, predict_text(), is ready to use. Remember that the model object is already passed by default as the second parameter so you just need to provide the function with your 3 word sentences.\n",
    "\n",
    "Try out these strings on your LSTM model:\n",
    "\n",
    "    'meet revenge with'\n",
    "    'the course of'\n",
    "    'strength of the'\n",
    "\n",
    "Which sentence could be made with the word output from the sentences above?\n",
    "\n",
    "* [ ] A worthless gnome is king\n",
    "* [X] Revenge is your history and spirit\n",
    "* [ ] Take a sword and ride to Florida"
   ]
  },
  {
   "cell_type": "markdown",
   "id": "73732f12-bc84-41f6-813e-5a2db53fef86",
   "metadata": {},
   "source": [
    "Here we see that \"strength of the\" sentence can be followed either by 'body' or 'spirit' because both words have same probablity in the text.optimizeroptimizeroptimizer"
   ]
  },
  {
   "cell_type": "code",
   "execution_count": 141,
   "id": "5b385d0c-0dec-4a43-92d6-34d8b1ff51b0",
   "metadata": {
    "tags": []
   },
   "outputs": [
    {
     "data": {
      "text/plain": [
       "['revenge', 'history', 'body']"
      ]
     },
     "execution_count": 141,
     "metadata": {},
     "output_type": "execute_result"
    }
   ],
   "source": [
    "strings = ['meet revenge with',\n",
    "           'the course of',\n",
    "           'strength of the']\n",
    "[predict_text(text) for text in strings]"
   ]
  },
  {
   "cell_type": "markdown",
   "id": "52ce8a63-897c-4808-a917-44e16bbbb959",
   "metadata": {
    "tags": []
   },
   "source": [
    "# What you've learned\n",
    "* The basics of neural networks\n",
    "* Building sequential models\n",
    "* Building models for regression\n",
    "* Approaching binary classification, multi-class and multi-label problems with neural networks\n",
    "* Activation functions\n",
    "* Hyperparameter tuning\n",
    "* Autoencoders\n",
    "* De-noising images\n",
    "* CNN concepts\n",
    "* Use pre-trained models\n",
    "* Visualize convolutions\n",
    "* LSTMs concepts\n",
    "* Work with embedding layers and text\n",
    "* All of this by using many different datasets and learning plenty of Keras's utility functions. "
   ]
  },
  {
   "cell_type": "markdown",
   "id": "89ab27ad-4e30-4588-9c38-e08566ef975d",
   "metadata": {},
   "source": [
    "# What could you learn next?\n",
    "* Go deeper into CNNs\n",
    "* Go deeper into LSTMs\n",
    "* Keras Functional API\n",
    "* Models that share layers, models with several branches\n",
    "* GANs: Generative Adversarial Networks\n",
    "* Deeplearning projects"
   ]
  }
 ],
 "metadata": {
  "kernelspec": {
   "display_name": "Python 3 (ipykernel)",
   "language": "python",
   "name": "python3"
  },
  "language_info": {
   "codemirror_mode": {
    "name": "ipython",
    "version": 3
   },
   "file_extension": ".py",
   "mimetype": "text/x-python",
   "name": "python",
   "nbconvert_exporter": "python",
   "pygments_lexer": "ipython3",
   "version": "3.9.15"
  },
  "toc-autonumbering": true
 },
 "nbformat": 4,
 "nbformat_minor": 5
}
