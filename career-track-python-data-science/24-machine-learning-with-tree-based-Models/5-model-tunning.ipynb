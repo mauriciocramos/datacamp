{
 "cells": [
  {
   "cell_type": "markdown",
   "id": "b68f1bf0-1497-4080-aab2-dde9033051bf",
   "metadata": {},
   "source": [
    "# Tuning a CART's hyperparameters"
   ]
  },
  {
   "cell_type": "markdown",
   "id": "52b8c60c-59de-4539-af68-946d6ef47df0",
   "metadata": {},
   "source": [
    "## Hyperparameters\n",
    "Machine learning model:\n",
    "* parameters: learned from data\n",
    "    * CART example: split-point of a node, split-feature of a node, ...\n",
    "* hyperparameters: not learned from data, set prior to training\n",
    "    * CART example: max_depth , min_samples_leaf , splitting criterion, ..."
   ]
  },
  {
   "cell_type": "markdown",
   "id": "118abbac-8ea3-43c5-a192-8270576999ba",
   "metadata": {},
   "source": [
    "## What is hyperparameter tuning?\n",
    "* Problem: search for a set of optimal hyperparameters for a learning algorithm.\n",
    "* Solution: find a set of optimal hyperparameters that results in an optimal model.\n",
    "* Optimal model: yields an optimal score (given hyperparameters).\n",
    "* Score: in sklearn defaults to accuracy (classification) and $R^2$ (regression)\n",
    "* Cross validation is used to estimate the generalization performance"
   ]
  },
  {
   "cell_type": "markdown",
   "id": "a16b0d5e-c896-42bb-8084-7011a2d9a865",
   "metadata": {},
   "source": [
    "## Why tune hyperparameters?\n",
    "* In sklearn , a model's default hyperparameters are not optimal for all problems.\n",
    "* Hyperparameters should be tuned to obtain the best model performance."
   ]
  },
  {
   "cell_type": "markdown",
   "id": "517e9624-da1a-4cb3-a6a7-3e4db2e5b55b",
   "metadata": {},
   "source": [
    "## Approaches to hyperparameter tuning\n",
    "* Grid Search\n",
    "* Random Search\n",
    "* Bayesian Optimization\n",
    "* Genetic Algorithms\n",
    "* ..."
   ]
  },
  {
   "cell_type": "markdown",
   "id": "54d9902d-fd11-4aac-a5ba-a75360a899db",
   "metadata": {},
   "source": [
    "## Grid search cross validation\n",
    "* Manually set a grid of discrete hyperparameter values.\n",
    "* Set a metric for scoring model performance.\n",
    "* Search exhaustively through the grid.\n",
    "* For each set of hyperparameters, evaluate each model's CV score.\n",
    "* The optimal hyperparameters are those of the model achieving the best CV score.\n",
    "\n",
    "> Note that grid-search suffers from the curse of dimensionality, i.e., the bigger the grid, the longer it takes to find the solution. "
   ]
  },
  {
   "cell_type": "markdown",
   "id": "6d38eedd-aa11-43f9-8d3b-f0ec1117ec3a",
   "metadata": {},
   "source": [
    "## Grid search cross validation: example\n",
    "* Hyperparameters grids:\n",
    "    * max_depth = {2,3,4},\n",
    "    * min_samples_leaf = {0.05, 0.1}\n",
    "* hyperparameter space = { (2,0.05) , (2,0.1) , (3,0.05), ... }\n",
    "    * CV scores = { $score_{(2, 0.05)}$ , ... } (using k-fold CV for example)\n",
    "* optimal hyperparameters = set of hyperparameters corresponding to the best CV score"
   ]
  },
  {
   "cell_type": "markdown",
   "id": "b85392ad-e4e9-4eef-8b4b-b58641e1a967",
   "metadata": {},
   "source": [
    "## Tunning hyperparameters (Breast Cancer)"
   ]
  },
  {
   "cell_type": "markdown",
   "id": "a1c68d2e-fd28-4072-90fd-2357a5b4ce65",
   "metadata": {},
   "source": [
    "### Inspecting the hyperparameters of a CART in sklearn"
   ]
  },
  {
   "cell_type": "code",
   "execution_count": 1,
   "id": "2e4acb30-fc01-4f4a-ad9e-b31cf8068107",
   "metadata": {
    "execution": {
     "iopub.execute_input": "2023-09-02T18:52:21.605648Z",
     "iopub.status.busy": "2023-09-02T18:52:21.605451Z",
     "iopub.status.idle": "2023-09-02T18:52:22.052532Z",
     "shell.execute_reply": "2023-09-02T18:52:22.052258Z",
     "shell.execute_reply.started": "2023-09-02T18:52:21.605636Z"
    },
    "tags": []
   },
   "outputs": [
    {
     "data": {
      "text/plain": [
       "{'ccp_alpha': 0.0,\n",
       " 'class_weight': None,\n",
       " 'criterion': 'gini',\n",
       " 'max_depth': None,\n",
       " 'max_features': None,\n",
       " 'max_leaf_nodes': None,\n",
       " 'min_impurity_decrease': 0.0,\n",
       " 'min_samples_leaf': 1,\n",
       " 'min_samples_split': 2,\n",
       " 'min_weight_fraction_leaf': 0.0,\n",
       " 'random_state': 1,\n",
       " 'splitter': 'best'}"
      ]
     },
     "execution_count": 1,
     "metadata": {},
     "output_type": "execute_result"
    }
   ],
   "source": [
    "# Import DecisionTreeClassifier\n",
    "from sklearn.tree import DecisionTreeClassifier\n",
    "# Set seed to 1 for reproducibility\n",
    "SEED = 1\n",
    "# Instantiate a DecisionTreeClassifier 'dt'\n",
    "dt = DecisionTreeClassifier(random_state=SEED)\n",
    "# Print out 'dt's hyperparameters\n",
    "dt.get_params()"
   ]
  },
  {
   "cell_type": "code",
   "execution_count": 2,
   "id": "5a3898c2-3e63-4173-9020-12d6780d27a1",
   "metadata": {
    "execution": {
     "iopub.execute_input": "2023-09-02T18:52:22.053087Z",
     "iopub.status.busy": "2023-09-02T18:52:22.052947Z",
     "iopub.status.idle": "2023-09-02T18:52:22.201771Z",
     "shell.execute_reply": "2023-09-02T18:52:22.201346Z",
     "shell.execute_reply.started": "2023-09-02T18:52:22.053076Z"
    },
    "tags": []
   },
   "outputs": [],
   "source": [
    "import pandas as pd\n",
    "wbc = pd.read_csv('wbc.zip')\n",
    "X = wbc.iloc[:, 2:-1]\n",
    "y = pd.Categorical(wbc['diagnosis']).codes"
   ]
  },
  {
   "cell_type": "code",
   "execution_count": 3,
   "id": "5ff53e83-468f-4a2d-b312-7e1fa9fd9d0e",
   "metadata": {
    "execution": {
     "iopub.execute_input": "2023-09-02T18:52:22.202283Z",
     "iopub.status.busy": "2023-09-02T18:52:22.202179Z",
     "iopub.status.idle": "2023-09-02T18:52:22.205567Z",
     "shell.execute_reply": "2023-09-02T18:52:22.205253Z",
     "shell.execute_reply.started": "2023-09-02T18:52:22.202273Z"
    },
    "tags": []
   },
   "outputs": [],
   "source": [
    "from sklearn.model_selection import train_test_split\n",
    "X_train, X_test, y_train, y_test = train_test_split(X, y, test_size=0.3, stratify=y, random_state=1)"
   ]
  },
  {
   "cell_type": "code",
   "execution_count": 4,
   "id": "c6556fcf-dea6-4735-87dc-d62729ed3641",
   "metadata": {
    "execution": {
     "iopub.execute_input": "2023-09-02T18:52:22.206672Z",
     "iopub.status.busy": "2023-09-02T18:52:22.206528Z",
     "iopub.status.idle": "2023-09-02T18:52:23.369179Z",
     "shell.execute_reply": "2023-09-02T18:52:23.368742Z",
     "shell.execute_reply.started": "2023-09-02T18:52:22.206661Z"
    },
    "tags": []
   },
   "outputs": [
    {
     "data": {
      "text/html": [
       "<style>#sk-container-id-1 {color: black;}#sk-container-id-1 pre{padding: 0;}#sk-container-id-1 div.sk-toggleable {background-color: white;}#sk-container-id-1 label.sk-toggleable__label {cursor: pointer;display: block;width: 100%;margin-bottom: 0;padding: 0.3em;box-sizing: border-box;text-align: center;}#sk-container-id-1 label.sk-toggleable__label-arrow:before {content: \"▸\";float: left;margin-right: 0.25em;color: #696969;}#sk-container-id-1 label.sk-toggleable__label-arrow:hover:before {color: black;}#sk-container-id-1 div.sk-estimator:hover label.sk-toggleable__label-arrow:before {color: black;}#sk-container-id-1 div.sk-toggleable__content {max-height: 0;max-width: 0;overflow: hidden;text-align: left;background-color: #f0f8ff;}#sk-container-id-1 div.sk-toggleable__content pre {margin: 0.2em;color: black;border-radius: 0.25em;background-color: #f0f8ff;}#sk-container-id-1 input.sk-toggleable__control:checked~div.sk-toggleable__content {max-height: 200px;max-width: 100%;overflow: auto;}#sk-container-id-1 input.sk-toggleable__control:checked~label.sk-toggleable__label-arrow:before {content: \"▾\";}#sk-container-id-1 div.sk-estimator input.sk-toggleable__control:checked~label.sk-toggleable__label {background-color: #d4ebff;}#sk-container-id-1 div.sk-label input.sk-toggleable__control:checked~label.sk-toggleable__label {background-color: #d4ebff;}#sk-container-id-1 input.sk-hidden--visually {border: 0;clip: rect(1px 1px 1px 1px);clip: rect(1px, 1px, 1px, 1px);height: 1px;margin: -1px;overflow: hidden;padding: 0;position: absolute;width: 1px;}#sk-container-id-1 div.sk-estimator {font-family: monospace;background-color: #f0f8ff;border: 1px dotted black;border-radius: 0.25em;box-sizing: border-box;margin-bottom: 0.5em;}#sk-container-id-1 div.sk-estimator:hover {background-color: #d4ebff;}#sk-container-id-1 div.sk-parallel-item::after {content: \"\";width: 100%;border-bottom: 1px solid gray;flex-grow: 1;}#sk-container-id-1 div.sk-label:hover label.sk-toggleable__label {background-color: #d4ebff;}#sk-container-id-1 div.sk-serial::before {content: \"\";position: absolute;border-left: 1px solid gray;box-sizing: border-box;top: 0;bottom: 0;left: 50%;z-index: 0;}#sk-container-id-1 div.sk-serial {display: flex;flex-direction: column;align-items: center;background-color: white;padding-right: 0.2em;padding-left: 0.2em;position: relative;}#sk-container-id-1 div.sk-item {position: relative;z-index: 1;}#sk-container-id-1 div.sk-parallel {display: flex;align-items: stretch;justify-content: center;background-color: white;position: relative;}#sk-container-id-1 div.sk-item::before, #sk-container-id-1 div.sk-parallel-item::before {content: \"\";position: absolute;border-left: 1px solid gray;box-sizing: border-box;top: 0;bottom: 0;left: 50%;z-index: -1;}#sk-container-id-1 div.sk-parallel-item {display: flex;flex-direction: column;z-index: 1;position: relative;background-color: white;}#sk-container-id-1 div.sk-parallel-item:first-child::after {align-self: flex-end;width: 50%;}#sk-container-id-1 div.sk-parallel-item:last-child::after {align-self: flex-start;width: 50%;}#sk-container-id-1 div.sk-parallel-item:only-child::after {width: 0;}#sk-container-id-1 div.sk-dashed-wrapped {border: 1px dashed gray;margin: 0 0.4em 0.5em 0.4em;box-sizing: border-box;padding-bottom: 0.4em;background-color: white;}#sk-container-id-1 div.sk-label label {font-family: monospace;font-weight: bold;display: inline-block;line-height: 1.2em;}#sk-container-id-1 div.sk-label-container {text-align: center;}#sk-container-id-1 div.sk-container {/* jupyter's `normalize.less` sets `[hidden] { display: none; }` but bootstrap.min.css set `[hidden] { display: none !important; }` so we also need the `!important` here to be able to override the default hidden behavior on the sphinx rendered scikit-learn.org. See: https://github.com/scikit-learn/scikit-learn/issues/21755 */display: inline-block !important;position: relative;}#sk-container-id-1 div.sk-text-repr-fallback {display: none;}</style><div id=\"sk-container-id-1\" class=\"sk-top-container\"><div class=\"sk-text-repr-fallback\"><pre>GridSearchCV(cv=10, estimator=DecisionTreeClassifier(random_state=1), n_jobs=-1,\n",
       "             param_grid={&#x27;max_depth&#x27;: [3, 4, 5, 6],\n",
       "                         &#x27;max_features&#x27;: [0.2, 0.4, 0.6, 0.8],\n",
       "                         &#x27;min_samples_leaf&#x27;: [0.04, 0.06, 0.08]},\n",
       "             scoring=&#x27;accuracy&#x27;)</pre><b>In a Jupyter environment, please rerun this cell to show the HTML representation or trust the notebook. <br />On GitHub, the HTML representation is unable to render, please try loading this page with nbviewer.org.</b></div><div class=\"sk-container\" hidden><div class=\"sk-item sk-dashed-wrapped\"><div class=\"sk-label-container\"><div class=\"sk-label sk-toggleable\"><input class=\"sk-toggleable__control sk-hidden--visually\" id=\"sk-estimator-id-1\" type=\"checkbox\" ><label for=\"sk-estimator-id-1\" class=\"sk-toggleable__label sk-toggleable__label-arrow\">GridSearchCV</label><div class=\"sk-toggleable__content\"><pre>GridSearchCV(cv=10, estimator=DecisionTreeClassifier(random_state=1), n_jobs=-1,\n",
       "             param_grid={&#x27;max_depth&#x27;: [3, 4, 5, 6],\n",
       "                         &#x27;max_features&#x27;: [0.2, 0.4, 0.6, 0.8],\n",
       "                         &#x27;min_samples_leaf&#x27;: [0.04, 0.06, 0.08]},\n",
       "             scoring=&#x27;accuracy&#x27;)</pre></div></div></div><div class=\"sk-parallel\"><div class=\"sk-parallel-item\"><div class=\"sk-item\"><div class=\"sk-label-container\"><div class=\"sk-label sk-toggleable\"><input class=\"sk-toggleable__control sk-hidden--visually\" id=\"sk-estimator-id-2\" type=\"checkbox\" ><label for=\"sk-estimator-id-2\" class=\"sk-toggleable__label sk-toggleable__label-arrow\">estimator: DecisionTreeClassifier</label><div class=\"sk-toggleable__content\"><pre>DecisionTreeClassifier(random_state=1)</pre></div></div></div><div class=\"sk-serial\"><div class=\"sk-item\"><div class=\"sk-estimator sk-toggleable\"><input class=\"sk-toggleable__control sk-hidden--visually\" id=\"sk-estimator-id-3\" type=\"checkbox\" ><label for=\"sk-estimator-id-3\" class=\"sk-toggleable__label sk-toggleable__label-arrow\">DecisionTreeClassifier</label><div class=\"sk-toggleable__content\"><pre>DecisionTreeClassifier(random_state=1)</pre></div></div></div></div></div></div></div></div></div></div>"
      ],
      "text/plain": [
       "GridSearchCV(cv=10, estimator=DecisionTreeClassifier(random_state=1), n_jobs=-1,\n",
       "             param_grid={'max_depth': [3, 4, 5, 6],\n",
       "                         'max_features': [0.2, 0.4, 0.6, 0.8],\n",
       "                         'min_samples_leaf': [0.04, 0.06, 0.08]},\n",
       "             scoring='accuracy')"
      ]
     },
     "execution_count": 4,
     "metadata": {},
     "output_type": "execute_result"
    }
   ],
   "source": [
    "# Import GridSearchCV\n",
    "from sklearn.model_selection import GridSearchCV\n",
    "\n",
    "# Define the grid of hyperparameters 'params_dt'\n",
    "params_dt = {\n",
    "    \"max_depth\": [3, 4, 5, 6],\n",
    "    \"min_samples_leaf\": [0.04, 0.06, 0.08],\n",
    "    \"max_features\": [0.2, 0.4, 0.6, 0.8],\n",
    "}\n",
    "# Instantiate a 10-fold CV grid search object 'grid_dt'\n",
    "grid_dt = GridSearchCV(\n",
    "    estimator=dt, param_grid=params_dt, scoring=\"accuracy\", cv=10, n_jobs=-1\n",
    ")\n",
    "# Fit 'grid_dt' to the training data\n",
    "grid_dt.fit(X_train, y_train)"
   ]
  },
  {
   "cell_type": "markdown",
   "id": "611ae3ca-a544-4c41-b827-1c6c40c86ac9",
   "metadata": {},
   "source": [
    "### Extracting the best hyperparameters"
   ]
  },
  {
   "cell_type": "code",
   "execution_count": 5,
   "id": "48606cd4-2813-471c-ab1b-eb06fc917772",
   "metadata": {
    "execution": {
     "iopub.execute_input": "2023-09-02T18:52:23.370057Z",
     "iopub.status.busy": "2023-09-02T18:52:23.369885Z",
     "iopub.status.idle": "2023-09-02T18:52:23.372613Z",
     "shell.execute_reply": "2023-09-02T18:52:23.372309Z",
     "shell.execute_reply.started": "2023-09-02T18:52:23.370040Z"
    },
    "tags": []
   },
   "outputs": [
    {
     "name": "stdout",
     "output_type": "stream",
     "text": [
      "Best hyerparameters:\n",
      " {'max_depth': 4, 'max_features': 0.2, 'min_samples_leaf': 0.06}\n"
     ]
    }
   ],
   "source": [
    "# Extract best hyperparameters from 'grid_dt'\n",
    "best_hyperparams = grid_dt.best_params_\n",
    "print(\"Best hyerparameters:\\n\", best_hyperparams)"
   ]
  },
  {
   "cell_type": "code",
   "execution_count": 6,
   "id": "5374841a-72eb-4f4b-b6bd-3f512bd192df",
   "metadata": {
    "execution": {
     "iopub.execute_input": "2023-09-02T18:52:23.373095Z",
     "iopub.status.busy": "2023-09-02T18:52:23.372987Z",
     "iopub.status.idle": "2023-09-02T18:52:23.375224Z",
     "shell.execute_reply": "2023-09-02T18:52:23.374893Z",
     "shell.execute_reply.started": "2023-09-02T18:52:23.373080Z"
    },
    "tags": []
   },
   "outputs": [
    {
     "name": "stdout",
     "output_type": "stream",
     "text": [
      "Best CV accuracy 0.935\n"
     ]
    }
   ],
   "source": [
    "# Extract best CV score from 'grid_dt'\n",
    "best_CV_score = grid_dt.best_score_\n",
    "print(\"Best CV accuracy {:.3f}\".format(best_CV_score))"
   ]
  },
  {
   "cell_type": "markdown",
   "id": "9e856652-2571-401d-86f9-05c8634c90df",
   "metadata": {},
   "source": [
    "### Extracting the best estimator"
   ]
  },
  {
   "cell_type": "code",
   "execution_count": 7,
   "id": "6f514116-fd4a-4485-93ba-e19378644007",
   "metadata": {
    "execution": {
     "iopub.execute_input": "2023-09-02T18:52:23.375797Z",
     "iopub.status.busy": "2023-09-02T18:52:23.375679Z",
     "iopub.status.idle": "2023-09-02T18:52:23.379297Z",
     "shell.execute_reply": "2023-09-02T18:52:23.379009Z",
     "shell.execute_reply.started": "2023-09-02T18:52:23.375786Z"
    }
   },
   "outputs": [
    {
     "name": "stdout",
     "output_type": "stream",
     "text": [
      "Test set accuracy of best model: 0.906\n"
     ]
    }
   ],
   "source": [
    "# Extract best model from 'grid_dt'\n",
    "best_model = grid_dt.best_estimator_\n",
    "# Evaluate test set accuracy\n",
    "test_acc = best_model.score(X_test, y_test)\n",
    "# Print test set accuracy\n",
    "print(\"Test set accuracy of best model: {:.3f}\".format(test_acc))"
   ]
  },
  {
   "cell_type": "markdown",
   "id": "144d0c0d-1582-4047-87fb-c3349dda63a6",
   "metadata": {},
   "source": [
    "## Tunning hyperparameters (Indian Liver Patient)"
   ]
  },
  {
   "cell_type": "markdown",
   "id": "49888bb8-ed34-42d8-913d-f31ef9c90d16",
   "metadata": {},
   "source": [
    "> Your task is to tune the hyperparameters of a classification tree. Given that this dataset is imbalanced, you'll be using the ROC AUC score as a metric instead of accuracy."
   ]
  },
  {
   "cell_type": "code",
   "execution_count": 8,
   "id": "379a48a1-5c54-44e3-b0ac-cb386307d6c3",
   "metadata": {
    "execution": {
     "iopub.execute_input": "2023-09-02T18:52:23.379815Z",
     "iopub.status.busy": "2023-09-02T18:52:23.379697Z",
     "iopub.status.idle": "2023-09-02T18:52:23.384547Z",
     "shell.execute_reply": "2023-09-02T18:52:23.384201Z",
     "shell.execute_reply.started": "2023-09-02T18:52:23.379804Z"
    },
    "tags": []
   },
   "outputs": [],
   "source": [
    "indian = pd.read_csv('indian_liver_patient.zip').dropna()\n",
    "indian['Gender'] = pd.Categorical(indian['Gender']).codes\n",
    "X = indian.iloc[:, :-1]\n",
    "y = indian['Dataset']"
   ]
  },
  {
   "cell_type": "code",
   "execution_count": 9,
   "id": "c2e219c2-42b4-425a-97e0-7479c1797ea0",
   "metadata": {
    "execution": {
     "iopub.execute_input": "2023-09-02T18:52:23.385118Z",
     "iopub.status.busy": "2023-09-02T18:52:23.384984Z",
     "iopub.status.idle": "2023-09-02T18:52:23.388438Z",
     "shell.execute_reply": "2023-09-02T18:52:23.388151Z",
     "shell.execute_reply.started": "2023-09-02T18:52:23.385106Z"
    },
    "tags": []
   },
   "outputs": [],
   "source": [
    "X_train, X_test, y_train, y_test = train_test_split(X, y, test_size=0.2, stratify=y, random_state=1)"
   ]
  },
  {
   "cell_type": "code",
   "execution_count": 10,
   "id": "a86d0382-f507-470e-a0d8-06867d030474",
   "metadata": {
    "execution": {
     "iopub.execute_input": "2023-09-02T18:52:23.388951Z",
     "iopub.status.busy": "2023-09-02T18:52:23.388846Z",
     "iopub.status.idle": "2023-09-02T18:52:23.390777Z",
     "shell.execute_reply": "2023-09-02T18:52:23.390507Z",
     "shell.execute_reply.started": "2023-09-02T18:52:23.388941Z"
    },
    "tags": []
   },
   "outputs": [],
   "source": [
    "# Define params_dt\n",
    "params_dt = {'max_depth': [2,3,4], 'min_samples_leaf': [0.12, 0.14, 0.16, 0.18]}"
   ]
  },
  {
   "cell_type": "code",
   "execution_count": 11,
   "id": "98b0a02d-3d54-4fa3-956a-d204812823ff",
   "metadata": {
    "execution": {
     "iopub.execute_input": "2023-09-02T18:52:23.391321Z",
     "iopub.status.busy": "2023-09-02T18:52:23.391198Z",
     "iopub.status.idle": "2023-09-02T18:52:23.453583Z",
     "shell.execute_reply": "2023-09-02T18:52:23.453277Z",
     "shell.execute_reply.started": "2023-09-02T18:52:23.391310Z"
    },
    "tags": []
   },
   "outputs": [
    {
     "data": {
      "text/html": [
       "<style>#sk-container-id-2 {color: black;}#sk-container-id-2 pre{padding: 0;}#sk-container-id-2 div.sk-toggleable {background-color: white;}#sk-container-id-2 label.sk-toggleable__label {cursor: pointer;display: block;width: 100%;margin-bottom: 0;padding: 0.3em;box-sizing: border-box;text-align: center;}#sk-container-id-2 label.sk-toggleable__label-arrow:before {content: \"▸\";float: left;margin-right: 0.25em;color: #696969;}#sk-container-id-2 label.sk-toggleable__label-arrow:hover:before {color: black;}#sk-container-id-2 div.sk-estimator:hover label.sk-toggleable__label-arrow:before {color: black;}#sk-container-id-2 div.sk-toggleable__content {max-height: 0;max-width: 0;overflow: hidden;text-align: left;background-color: #f0f8ff;}#sk-container-id-2 div.sk-toggleable__content pre {margin: 0.2em;color: black;border-radius: 0.25em;background-color: #f0f8ff;}#sk-container-id-2 input.sk-toggleable__control:checked~div.sk-toggleable__content {max-height: 200px;max-width: 100%;overflow: auto;}#sk-container-id-2 input.sk-toggleable__control:checked~label.sk-toggleable__label-arrow:before {content: \"▾\";}#sk-container-id-2 div.sk-estimator input.sk-toggleable__control:checked~label.sk-toggleable__label {background-color: #d4ebff;}#sk-container-id-2 div.sk-label input.sk-toggleable__control:checked~label.sk-toggleable__label {background-color: #d4ebff;}#sk-container-id-2 input.sk-hidden--visually {border: 0;clip: rect(1px 1px 1px 1px);clip: rect(1px, 1px, 1px, 1px);height: 1px;margin: -1px;overflow: hidden;padding: 0;position: absolute;width: 1px;}#sk-container-id-2 div.sk-estimator {font-family: monospace;background-color: #f0f8ff;border: 1px dotted black;border-radius: 0.25em;box-sizing: border-box;margin-bottom: 0.5em;}#sk-container-id-2 div.sk-estimator:hover {background-color: #d4ebff;}#sk-container-id-2 div.sk-parallel-item::after {content: \"\";width: 100%;border-bottom: 1px solid gray;flex-grow: 1;}#sk-container-id-2 div.sk-label:hover label.sk-toggleable__label {background-color: #d4ebff;}#sk-container-id-2 div.sk-serial::before {content: \"\";position: absolute;border-left: 1px solid gray;box-sizing: border-box;top: 0;bottom: 0;left: 50%;z-index: 0;}#sk-container-id-2 div.sk-serial {display: flex;flex-direction: column;align-items: center;background-color: white;padding-right: 0.2em;padding-left: 0.2em;position: relative;}#sk-container-id-2 div.sk-item {position: relative;z-index: 1;}#sk-container-id-2 div.sk-parallel {display: flex;align-items: stretch;justify-content: center;background-color: white;position: relative;}#sk-container-id-2 div.sk-item::before, #sk-container-id-2 div.sk-parallel-item::before {content: \"\";position: absolute;border-left: 1px solid gray;box-sizing: border-box;top: 0;bottom: 0;left: 50%;z-index: -1;}#sk-container-id-2 div.sk-parallel-item {display: flex;flex-direction: column;z-index: 1;position: relative;background-color: white;}#sk-container-id-2 div.sk-parallel-item:first-child::after {align-self: flex-end;width: 50%;}#sk-container-id-2 div.sk-parallel-item:last-child::after {align-self: flex-start;width: 50%;}#sk-container-id-2 div.sk-parallel-item:only-child::after {width: 0;}#sk-container-id-2 div.sk-dashed-wrapped {border: 1px dashed gray;margin: 0 0.4em 0.5em 0.4em;box-sizing: border-box;padding-bottom: 0.4em;background-color: white;}#sk-container-id-2 div.sk-label label {font-family: monospace;font-weight: bold;display: inline-block;line-height: 1.2em;}#sk-container-id-2 div.sk-label-container {text-align: center;}#sk-container-id-2 div.sk-container {/* jupyter's `normalize.less` sets `[hidden] { display: none; }` but bootstrap.min.css set `[hidden] { display: none !important; }` so we also need the `!important` here to be able to override the default hidden behavior on the sphinx rendered scikit-learn.org. See: https://github.com/scikit-learn/scikit-learn/issues/21755 */display: inline-block !important;position: relative;}#sk-container-id-2 div.sk-text-repr-fallback {display: none;}</style><div id=\"sk-container-id-2\" class=\"sk-top-container\"><div class=\"sk-text-repr-fallback\"><pre>GridSearchCV(cv=5, estimator=DecisionTreeClassifier(random_state=1), n_jobs=-1,\n",
       "             param_grid={&#x27;max_depth&#x27;: [2, 3, 4],\n",
       "                         &#x27;min_samples_leaf&#x27;: [0.12, 0.14, 0.16, 0.18]},\n",
       "             scoring=&#x27;roc_auc&#x27;)</pre><b>In a Jupyter environment, please rerun this cell to show the HTML representation or trust the notebook. <br />On GitHub, the HTML representation is unable to render, please try loading this page with nbviewer.org.</b></div><div class=\"sk-container\" hidden><div class=\"sk-item sk-dashed-wrapped\"><div class=\"sk-label-container\"><div class=\"sk-label sk-toggleable\"><input class=\"sk-toggleable__control sk-hidden--visually\" id=\"sk-estimator-id-4\" type=\"checkbox\" ><label for=\"sk-estimator-id-4\" class=\"sk-toggleable__label sk-toggleable__label-arrow\">GridSearchCV</label><div class=\"sk-toggleable__content\"><pre>GridSearchCV(cv=5, estimator=DecisionTreeClassifier(random_state=1), n_jobs=-1,\n",
       "             param_grid={&#x27;max_depth&#x27;: [2, 3, 4],\n",
       "                         &#x27;min_samples_leaf&#x27;: [0.12, 0.14, 0.16, 0.18]},\n",
       "             scoring=&#x27;roc_auc&#x27;)</pre></div></div></div><div class=\"sk-parallel\"><div class=\"sk-parallel-item\"><div class=\"sk-item\"><div class=\"sk-label-container\"><div class=\"sk-label sk-toggleable\"><input class=\"sk-toggleable__control sk-hidden--visually\" id=\"sk-estimator-id-5\" type=\"checkbox\" ><label for=\"sk-estimator-id-5\" class=\"sk-toggleable__label sk-toggleable__label-arrow\">estimator: DecisionTreeClassifier</label><div class=\"sk-toggleable__content\"><pre>DecisionTreeClassifier(random_state=1)</pre></div></div></div><div class=\"sk-serial\"><div class=\"sk-item\"><div class=\"sk-estimator sk-toggleable\"><input class=\"sk-toggleable__control sk-hidden--visually\" id=\"sk-estimator-id-6\" type=\"checkbox\" ><label for=\"sk-estimator-id-6\" class=\"sk-toggleable__label sk-toggleable__label-arrow\">DecisionTreeClassifier</label><div class=\"sk-toggleable__content\"><pre>DecisionTreeClassifier(random_state=1)</pre></div></div></div></div></div></div></div></div></div></div>"
      ],
      "text/plain": [
       "GridSearchCV(cv=5, estimator=DecisionTreeClassifier(random_state=1), n_jobs=-1,\n",
       "             param_grid={'max_depth': [2, 3, 4],\n",
       "                         'min_samples_leaf': [0.12, 0.14, 0.16, 0.18]},\n",
       "             scoring='roc_auc')"
      ]
     },
     "execution_count": 11,
     "metadata": {},
     "output_type": "execute_result"
    }
   ],
   "source": [
    "# Import GridSearchCV\n",
    "from sklearn.model_selection import GridSearchCV\n",
    "\n",
    "# Instantiate grid_dt\n",
    "grid_dt = GridSearchCV(estimator=dt,\n",
    "                       param_grid=params_dt,\n",
    "                       scoring='roc_auc',\n",
    "                       cv=5,\n",
    "                       n_jobs=-1)\n",
    "\n",
    "grid_dt.fit(X_train, y_train)"
   ]
  },
  {
   "cell_type": "code",
   "execution_count": 12,
   "id": "8f5a8056-1139-406f-8549-3778157e19fc",
   "metadata": {
    "execution": {
     "iopub.execute_input": "2023-09-02T18:52:23.454083Z",
     "iopub.status.busy": "2023-09-02T18:52:23.453977Z",
     "iopub.status.idle": "2023-09-02T18:52:23.458621Z",
     "shell.execute_reply": "2023-09-02T18:52:23.458337Z",
     "shell.execute_reply.started": "2023-09-02T18:52:23.454073Z"
    },
    "tags": []
   },
   "outputs": [
    {
     "name": "stdout",
     "output_type": "stream",
     "text": [
      "Test set ROC AUC score: 0.728\n"
     ]
    }
   ],
   "source": [
    "# Import roc_auc_score from sklearn.metrics\n",
    "from sklearn.metrics import roc_auc_score\n",
    "\n",
    "# Extract the best estimator\n",
    "best_model = grid_dt.best_estimator_\n",
    "\n",
    "# Predict the test set probabilities of the positive class\n",
    "y_pred_proba = best_model.predict_proba(X_test)[:,1]\n",
    "\n",
    "# Compute test_roc_auc\n",
    "test_roc_auc = roc_auc_score(y_test, y_pred_proba)\n",
    "\n",
    "# Print test_roc_auc\n",
    "print('Test set ROC AUC score: {:.3f}'.format(test_roc_auc))"
   ]
  },
  {
   "cell_type": "markdown",
   "id": "37f58236-f0bb-455c-97b0-62b8dc6c0295",
   "metadata": {},
   "source": [
    "# Tuning an (Ensemble Model) RF's Hyperparameters"
   ]
  },
  {
   "cell_type": "markdown",
   "id": "db6abf4f-d4f5-4d17-b37f-52db1ad9de33",
   "metadata": {},
   "source": [
    "## Random Forests Hyperparameters\n",
    "* CART hyperparameters\n",
    "* number of estimators\n",
    "* bootstrap\n",
    "* ..."
   ]
  },
  {
   "cell_type": "markdown",
   "id": "3b014134-1e1f-4a85-92fb-9e6e101e68d6",
   "metadata": {},
   "source": [
    "## Tuning is expensive\n",
    "Hyperparameter tuning:\n",
    "* computationally expensive,\n",
    "* sometimes leads to very slight improvement,\n",
    "\n",
    "Weight the impact of tuning on the whole project."
   ]
  },
  {
   "cell_type": "markdown",
   "id": "0f843f8a-1c51-46f9-bb0c-7e0b7b092757",
   "metadata": {},
   "source": [
    "## Tunning hyperparameters (Auto-mpg dataset)"
   ]
  },
  {
   "cell_type": "code",
   "execution_count": 13,
   "id": "6c3aa752-ffdd-40d0-865d-577d39119317",
   "metadata": {
    "execution": {
     "iopub.execute_input": "2023-09-02T18:52:23.460421Z",
     "iopub.status.busy": "2023-09-02T18:52:23.460168Z",
     "iopub.status.idle": "2023-09-02T18:52:23.464253Z",
     "shell.execute_reply": "2023-09-02T18:52:23.463951Z",
     "shell.execute_reply.started": "2023-09-02T18:52:23.460408Z"
    },
    "tags": []
   },
   "outputs": [],
   "source": [
    "auto = pd.read_csv('auto.zip')\n",
    "X = auto.iloc[:, 1:]\n",
    "X['origin'] = pd.Categorical(X['origin']).codes\n",
    "y = auto['mpg']"
   ]
  },
  {
   "cell_type": "code",
   "execution_count": 14,
   "id": "e7cf4b25-4f01-49d1-a52f-e781578c270d",
   "metadata": {
    "execution": {
     "iopub.execute_input": "2023-09-02T18:52:23.464783Z",
     "iopub.status.busy": "2023-09-02T18:52:23.464673Z",
     "iopub.status.idle": "2023-09-02T18:52:23.467636Z",
     "shell.execute_reply": "2023-09-02T18:52:23.467252Z",
     "shell.execute_reply.started": "2023-09-02T18:52:23.464772Z"
    },
    "tags": []
   },
   "outputs": [],
   "source": [
    "# Split dataset into 70% train and 30% test\n",
    "X_train, X_test, y_train, y_test = train_test_split(X, y, test_size=0.2, random_state=1)"
   ]
  },
  {
   "cell_type": "markdown",
   "id": "707c9708-2137-4971-b01d-dcbaf44e3a64",
   "metadata": {},
   "source": [
    "### Inspecting RF Hyperparameters in sklearn"
   ]
  },
  {
   "cell_type": "code",
   "execution_count": 15,
   "id": "dd0a4b16-a22f-492f-a13f-8549438bb901",
   "metadata": {
    "execution": {
     "iopub.execute_input": "2023-09-02T18:52:23.468359Z",
     "iopub.status.busy": "2023-09-02T18:52:23.468068Z",
     "iopub.status.idle": "2023-09-02T18:52:23.479809Z",
     "shell.execute_reply": "2023-09-02T18:52:23.479492Z",
     "shell.execute_reply.started": "2023-09-02T18:52:23.468345Z"
    }
   },
   "outputs": [],
   "source": [
    "# Import RandomForestRegressor\n",
    "from sklearn.ensemble import RandomForestRegressor\n",
    "# Set seed for reproducibility\n",
    "SEED = 1\n",
    "# Instantiate a random forests regressor 'rf'\n",
    "rf = RandomForestRegressor(random_state= SEED)"
   ]
  },
  {
   "cell_type": "code",
   "execution_count": 16,
   "id": "46562700-59ba-46ae-99b6-14bcab4b8b7b",
   "metadata": {
    "execution": {
     "iopub.execute_input": "2023-09-02T18:52:23.480468Z",
     "iopub.status.busy": "2023-09-02T18:52:23.480231Z",
     "iopub.status.idle": "2023-09-02T18:52:23.483111Z",
     "shell.execute_reply": "2023-09-02T18:52:23.482716Z",
     "shell.execute_reply.started": "2023-09-02T18:52:23.480456Z"
    }
   },
   "outputs": [
    {
     "data": {
      "text/plain": [
       "{'bootstrap': True,\n",
       " 'ccp_alpha': 0.0,\n",
       " 'criterion': 'squared_error',\n",
       " 'max_depth': None,\n",
       " 'max_features': 1.0,\n",
       " 'max_leaf_nodes': None,\n",
       " 'max_samples': None,\n",
       " 'min_impurity_decrease': 0.0,\n",
       " 'min_samples_leaf': 1,\n",
       " 'min_samples_split': 2,\n",
       " 'min_weight_fraction_leaf': 0.0,\n",
       " 'n_estimators': 100,\n",
       " 'n_jobs': None,\n",
       " 'oob_score': False,\n",
       " 'random_state': 1,\n",
       " 'verbose': 0,\n",
       " 'warm_start': False}"
      ]
     },
     "execution_count": 16,
     "metadata": {},
     "output_type": "execute_result"
    }
   ],
   "source": [
    "# Inspect rf' s hyperparameters\n",
    "rf.get_params()"
   ]
  },
  {
   "cell_type": "code",
   "execution_count": 17,
   "id": "e4533535-1507-4d05-b51c-24036a675d81",
   "metadata": {
    "execution": {
     "iopub.execute_input": "2023-09-02T18:52:23.483714Z",
     "iopub.status.busy": "2023-09-02T18:52:23.483510Z",
     "iopub.status.idle": "2023-09-02T18:52:23.486071Z",
     "shell.execute_reply": "2023-09-02T18:52:23.485783Z",
     "shell.execute_reply.started": "2023-09-02T18:52:23.483703Z"
    }
   },
   "outputs": [],
   "source": [
    "# Basic imports\n",
    "from sklearn.metrics import mean_squared_error as MSE\n",
    "from sklearn.model_selection import GridSearchCV\n",
    "\n",
    "# Define a grid of hyperparameter 'params_rf'\n",
    "params_rf = {\n",
    "    \"n_estimators\": [300, 400, 500],\n",
    "    \"max_depth\": [4, 6, 8],\n",
    "    \"min_samples_leaf\": [0.1, 0.2],\n",
    "    \"max_features\": [\"log2\", \"sqrt\"],\n",
    "}\n",
    "# Instantiate 'grid_rf'\n",
    "grid_rf = GridSearchCV(\n",
    "    estimator=rf,\n",
    "    param_grid=params_rf,\n",
    "    cv=3,\n",
    "    scoring=\"neg_mean_squared_error\",\n",
    "    verbose=1,\n",
    "    n_jobs=-1,\n",
    ")"
   ]
  },
  {
   "cell_type": "markdown",
   "id": "a899eae6-12dd-4087-82b1-d5b0282cf62b",
   "metadata": {},
   "source": [
    "### Searching for the best hyperparameters"
   ]
  },
  {
   "cell_type": "code",
   "execution_count": 18,
   "id": "533a53ea-1ea5-451d-bee4-097faf68d587",
   "metadata": {
    "execution": {
     "iopub.execute_input": "2023-09-02T18:52:23.486669Z",
     "iopub.status.busy": "2023-09-02T18:52:23.486451Z",
     "iopub.status.idle": "2023-09-02T18:52:26.469781Z",
     "shell.execute_reply": "2023-09-02T18:52:26.469330Z",
     "shell.execute_reply.started": "2023-09-02T18:52:23.486659Z"
    },
    "tags": []
   },
   "outputs": [
    {
     "name": "stdout",
     "output_type": "stream",
     "text": [
      "Fitting 3 folds for each of 36 candidates, totalling 108 fits\n"
     ]
    },
    {
     "data": {
      "text/html": [
       "<style>#sk-container-id-3 {color: black;}#sk-container-id-3 pre{padding: 0;}#sk-container-id-3 div.sk-toggleable {background-color: white;}#sk-container-id-3 label.sk-toggleable__label {cursor: pointer;display: block;width: 100%;margin-bottom: 0;padding: 0.3em;box-sizing: border-box;text-align: center;}#sk-container-id-3 label.sk-toggleable__label-arrow:before {content: \"▸\";float: left;margin-right: 0.25em;color: #696969;}#sk-container-id-3 label.sk-toggleable__label-arrow:hover:before {color: black;}#sk-container-id-3 div.sk-estimator:hover label.sk-toggleable__label-arrow:before {color: black;}#sk-container-id-3 div.sk-toggleable__content {max-height: 0;max-width: 0;overflow: hidden;text-align: left;background-color: #f0f8ff;}#sk-container-id-3 div.sk-toggleable__content pre {margin: 0.2em;color: black;border-radius: 0.25em;background-color: #f0f8ff;}#sk-container-id-3 input.sk-toggleable__control:checked~div.sk-toggleable__content {max-height: 200px;max-width: 100%;overflow: auto;}#sk-container-id-3 input.sk-toggleable__control:checked~label.sk-toggleable__label-arrow:before {content: \"▾\";}#sk-container-id-3 div.sk-estimator input.sk-toggleable__control:checked~label.sk-toggleable__label {background-color: #d4ebff;}#sk-container-id-3 div.sk-label input.sk-toggleable__control:checked~label.sk-toggleable__label {background-color: #d4ebff;}#sk-container-id-3 input.sk-hidden--visually {border: 0;clip: rect(1px 1px 1px 1px);clip: rect(1px, 1px, 1px, 1px);height: 1px;margin: -1px;overflow: hidden;padding: 0;position: absolute;width: 1px;}#sk-container-id-3 div.sk-estimator {font-family: monospace;background-color: #f0f8ff;border: 1px dotted black;border-radius: 0.25em;box-sizing: border-box;margin-bottom: 0.5em;}#sk-container-id-3 div.sk-estimator:hover {background-color: #d4ebff;}#sk-container-id-3 div.sk-parallel-item::after {content: \"\";width: 100%;border-bottom: 1px solid gray;flex-grow: 1;}#sk-container-id-3 div.sk-label:hover label.sk-toggleable__label {background-color: #d4ebff;}#sk-container-id-3 div.sk-serial::before {content: \"\";position: absolute;border-left: 1px solid gray;box-sizing: border-box;top: 0;bottom: 0;left: 50%;z-index: 0;}#sk-container-id-3 div.sk-serial {display: flex;flex-direction: column;align-items: center;background-color: white;padding-right: 0.2em;padding-left: 0.2em;position: relative;}#sk-container-id-3 div.sk-item {position: relative;z-index: 1;}#sk-container-id-3 div.sk-parallel {display: flex;align-items: stretch;justify-content: center;background-color: white;position: relative;}#sk-container-id-3 div.sk-item::before, #sk-container-id-3 div.sk-parallel-item::before {content: \"\";position: absolute;border-left: 1px solid gray;box-sizing: border-box;top: 0;bottom: 0;left: 50%;z-index: -1;}#sk-container-id-3 div.sk-parallel-item {display: flex;flex-direction: column;z-index: 1;position: relative;background-color: white;}#sk-container-id-3 div.sk-parallel-item:first-child::after {align-self: flex-end;width: 50%;}#sk-container-id-3 div.sk-parallel-item:last-child::after {align-self: flex-start;width: 50%;}#sk-container-id-3 div.sk-parallel-item:only-child::after {width: 0;}#sk-container-id-3 div.sk-dashed-wrapped {border: 1px dashed gray;margin: 0 0.4em 0.5em 0.4em;box-sizing: border-box;padding-bottom: 0.4em;background-color: white;}#sk-container-id-3 div.sk-label label {font-family: monospace;font-weight: bold;display: inline-block;line-height: 1.2em;}#sk-container-id-3 div.sk-label-container {text-align: center;}#sk-container-id-3 div.sk-container {/* jupyter's `normalize.less` sets `[hidden] { display: none; }` but bootstrap.min.css set `[hidden] { display: none !important; }` so we also need the `!important` here to be able to override the default hidden behavior on the sphinx rendered scikit-learn.org. See: https://github.com/scikit-learn/scikit-learn/issues/21755 */display: inline-block !important;position: relative;}#sk-container-id-3 div.sk-text-repr-fallback {display: none;}</style><div id=\"sk-container-id-3\" class=\"sk-top-container\"><div class=\"sk-text-repr-fallback\"><pre>GridSearchCV(cv=3, estimator=RandomForestRegressor(random_state=1), n_jobs=-1,\n",
       "             param_grid={&#x27;max_depth&#x27;: [4, 6, 8],\n",
       "                         &#x27;max_features&#x27;: [&#x27;log2&#x27;, &#x27;sqrt&#x27;],\n",
       "                         &#x27;min_samples_leaf&#x27;: [0.1, 0.2],\n",
       "                         &#x27;n_estimators&#x27;: [300, 400, 500]},\n",
       "             scoring=&#x27;neg_mean_squared_error&#x27;, verbose=1)</pre><b>In a Jupyter environment, please rerun this cell to show the HTML representation or trust the notebook. <br />On GitHub, the HTML representation is unable to render, please try loading this page with nbviewer.org.</b></div><div class=\"sk-container\" hidden><div class=\"sk-item sk-dashed-wrapped\"><div class=\"sk-label-container\"><div class=\"sk-label sk-toggleable\"><input class=\"sk-toggleable__control sk-hidden--visually\" id=\"sk-estimator-id-7\" type=\"checkbox\" ><label for=\"sk-estimator-id-7\" class=\"sk-toggleable__label sk-toggleable__label-arrow\">GridSearchCV</label><div class=\"sk-toggleable__content\"><pre>GridSearchCV(cv=3, estimator=RandomForestRegressor(random_state=1), n_jobs=-1,\n",
       "             param_grid={&#x27;max_depth&#x27;: [4, 6, 8],\n",
       "                         &#x27;max_features&#x27;: [&#x27;log2&#x27;, &#x27;sqrt&#x27;],\n",
       "                         &#x27;min_samples_leaf&#x27;: [0.1, 0.2],\n",
       "                         &#x27;n_estimators&#x27;: [300, 400, 500]},\n",
       "             scoring=&#x27;neg_mean_squared_error&#x27;, verbose=1)</pre></div></div></div><div class=\"sk-parallel\"><div class=\"sk-parallel-item\"><div class=\"sk-item\"><div class=\"sk-label-container\"><div class=\"sk-label sk-toggleable\"><input class=\"sk-toggleable__control sk-hidden--visually\" id=\"sk-estimator-id-8\" type=\"checkbox\" ><label for=\"sk-estimator-id-8\" class=\"sk-toggleable__label sk-toggleable__label-arrow\">estimator: RandomForestRegressor</label><div class=\"sk-toggleable__content\"><pre>RandomForestRegressor(random_state=1)</pre></div></div></div><div class=\"sk-serial\"><div class=\"sk-item\"><div class=\"sk-estimator sk-toggleable\"><input class=\"sk-toggleable__control sk-hidden--visually\" id=\"sk-estimator-id-9\" type=\"checkbox\" ><label for=\"sk-estimator-id-9\" class=\"sk-toggleable__label sk-toggleable__label-arrow\">RandomForestRegressor</label><div class=\"sk-toggleable__content\"><pre>RandomForestRegressor(random_state=1)</pre></div></div></div></div></div></div></div></div></div></div>"
      ],
      "text/plain": [
       "GridSearchCV(cv=3, estimator=RandomForestRegressor(random_state=1), n_jobs=-1,\n",
       "             param_grid={'max_depth': [4, 6, 8],\n",
       "                         'max_features': ['log2', 'sqrt'],\n",
       "                         'min_samples_leaf': [0.1, 0.2],\n",
       "                         'n_estimators': [300, 400, 500]},\n",
       "             scoring='neg_mean_squared_error', verbose=1)"
      ]
     },
     "execution_count": 18,
     "metadata": {},
     "output_type": "execute_result"
    }
   ],
   "source": [
    "# Fit 'grid_rf' to the training set\n",
    "grid_rf.fit(X_train, y_train)"
   ]
  },
  {
   "cell_type": "markdown",
   "id": "910ab866-f4d9-42e5-8f60-a758c03d1570",
   "metadata": {},
   "source": [
    "### Extracting the best hyperparameters"
   ]
  },
  {
   "cell_type": "code",
   "execution_count": 19,
   "id": "63c30e86-d47d-4cc8-b290-eb72e75bddbf",
   "metadata": {
    "execution": {
     "iopub.execute_input": "2023-09-02T18:52:26.470305Z",
     "iopub.status.busy": "2023-09-02T18:52:26.470185Z",
     "iopub.status.idle": "2023-09-02T18:52:26.472374Z",
     "shell.execute_reply": "2023-09-02T18:52:26.472078Z",
     "shell.execute_reply.started": "2023-09-02T18:52:26.470295Z"
    },
    "tags": []
   },
   "outputs": [
    {
     "name": "stdout",
     "output_type": "stream",
     "text": [
      "Best hyperparameters:\n",
      " {'max_depth': 4, 'max_features': 'log2', 'min_samples_leaf': 0.1, 'n_estimators': 300}\n"
     ]
    }
   ],
   "source": [
    "# Extract the best hyperparameters from 'grid_rf'\n",
    "best_hyperparams = grid_rf.best_params_\n",
    "print('Best hyperparameters:\\n', best_hyperparams)"
   ]
  },
  {
   "cell_type": "markdown",
   "id": "3f0d07d0-ce0a-434d-894c-67999ca8d6d3",
   "metadata": {
    "tags": []
   },
   "source": [
    "### Evaluating the best model performance"
   ]
  },
  {
   "cell_type": "code",
   "execution_count": 20,
   "id": "8db8fab6-3bb0-41bb-90f5-7a79d87008cf",
   "metadata": {
    "execution": {
     "iopub.execute_input": "2023-09-02T18:52:26.473104Z",
     "iopub.status.busy": "2023-09-02T18:52:26.472871Z",
     "iopub.status.idle": "2023-09-02T18:52:26.483457Z",
     "shell.execute_reply": "2023-09-02T18:52:26.483001Z",
     "shell.execute_reply.started": "2023-09-02T18:52:26.473087Z"
    },
    "tags": []
   },
   "outputs": [
    {
     "name": "stdout",
     "output_type": "stream",
     "text": [
      "Test set RMSE of rf: 3.86\n"
     ]
    }
   ],
   "source": [
    "# Extract the best model from 'grid_rf'\n",
    "best_model = grid_rf.best_estimator_\n",
    "# Predict the test set labels\n",
    "y_pred = best_model.predict(X_test)\n",
    "# Evaluate the test set RMSE\n",
    "rmse_test = MSE(y_test, y_pred)**(1/2)\n",
    "# Print the test set RMSE\n",
    "print('Test set RMSE of rf: {:.2f}'.format(rmse_test))"
   ]
  },
  {
   "cell_type": "markdown",
   "id": "ccd6e72c-8572-4f83-869b-42270b317a2e",
   "metadata": {},
   "source": [
    "## Tunning hyperparameters (Bike Sharing Demand)"
   ]
  },
  {
   "cell_type": "code",
   "execution_count": 21,
   "id": "fd01b445-96cc-4381-8dad-406901b56650",
   "metadata": {
    "execution": {
     "iopub.execute_input": "2023-09-02T18:52:26.483996Z",
     "iopub.status.busy": "2023-09-02T18:52:26.483880Z",
     "iopub.status.idle": "2023-09-02T18:52:26.488322Z",
     "shell.execute_reply": "2023-09-02T18:52:26.488026Z",
     "shell.execute_reply.started": "2023-09-02T18:52:26.483986Z"
    },
    "tags": []
   },
   "outputs": [],
   "source": [
    "bikes = pd.read_csv('bikes.zip')\n",
    "X = bikes.drop(columns=['cnt'])\n",
    "y = bikes['cnt']"
   ]
  },
  {
   "cell_type": "code",
   "execution_count": 22,
   "id": "812cf6ab-6a68-4e83-b99d-0db7b524c961",
   "metadata": {
    "execution": {
     "iopub.execute_input": "2023-09-02T18:52:26.488931Z",
     "iopub.status.busy": "2023-09-02T18:52:26.488730Z",
     "iopub.status.idle": "2023-09-02T18:52:26.492011Z",
     "shell.execute_reply": "2023-09-02T18:52:26.491698Z",
     "shell.execute_reply.started": "2023-09-02T18:52:26.488920Z"
    },
    "tags": []
   },
   "outputs": [],
   "source": [
    "X_train, X_test, y_train, y_test = train_test_split(X, y, test_size=0.2, random_state=1)"
   ]
  },
  {
   "cell_type": "code",
   "execution_count": 23,
   "id": "7340e3cb-2d3b-4abc-9817-39e69db58e2b",
   "metadata": {
    "execution": {
     "iopub.execute_input": "2023-09-02T18:52:26.492617Z",
     "iopub.status.busy": "2023-09-02T18:52:26.492501Z",
     "iopub.status.idle": "2023-09-02T18:52:26.494635Z",
     "shell.execute_reply": "2023-09-02T18:52:26.494280Z",
     "shell.execute_reply.started": "2023-09-02T18:52:26.492607Z"
    },
    "tags": []
   },
   "outputs": [],
   "source": [
    "# Define the dictionary 'params_rf'\n",
    "params_rf = {\n",
    "    \"n_estimators\": [100, 350, 500],\n",
    "    \"max_features\": [\"log2\", 1.0, \"sqrt\"],\n",
    "    \"min_samples_leaf\": [2, 10, 30],\n",
    "}"
   ]
  },
  {
   "cell_type": "code",
   "execution_count": 24,
   "id": "d4be11e5-c226-4b5e-bdd2-7f0613ba550c",
   "metadata": {
    "execution": {
     "iopub.execute_input": "2023-09-02T18:52:26.495579Z",
     "iopub.status.busy": "2023-09-02T18:52:26.495338Z",
     "iopub.status.idle": "2023-09-02T18:52:26.497389Z",
     "shell.execute_reply": "2023-09-02T18:52:26.497008Z",
     "shell.execute_reply.started": "2023-09-02T18:52:26.495567Z"
    },
    "tags": []
   },
   "outputs": [],
   "source": [
    "rf = RandomForestRegressor(n_jobs=-1, random_state=2)"
   ]
  },
  {
   "cell_type": "code",
   "execution_count": 25,
   "id": "4cafdb0b-80b0-4c71-9650-db1e1a51be14",
   "metadata": {
    "execution": {
     "iopub.execute_input": "2023-09-02T18:52:26.498082Z",
     "iopub.status.busy": "2023-09-02T18:52:26.497852Z",
     "iopub.status.idle": "2023-09-02T18:52:30.282692Z",
     "shell.execute_reply": "2023-09-02T18:52:30.282337Z",
     "shell.execute_reply.started": "2023-09-02T18:52:26.498071Z"
    },
    "tags": []
   },
   "outputs": [
    {
     "name": "stdout",
     "output_type": "stream",
     "text": [
      "Fitting 3 folds for each of 27 candidates, totalling 81 fits\n"
     ]
    },
    {
     "data": {
      "text/html": [
       "<style>#sk-container-id-4 {color: black;}#sk-container-id-4 pre{padding: 0;}#sk-container-id-4 div.sk-toggleable {background-color: white;}#sk-container-id-4 label.sk-toggleable__label {cursor: pointer;display: block;width: 100%;margin-bottom: 0;padding: 0.3em;box-sizing: border-box;text-align: center;}#sk-container-id-4 label.sk-toggleable__label-arrow:before {content: \"▸\";float: left;margin-right: 0.25em;color: #696969;}#sk-container-id-4 label.sk-toggleable__label-arrow:hover:before {color: black;}#sk-container-id-4 div.sk-estimator:hover label.sk-toggleable__label-arrow:before {color: black;}#sk-container-id-4 div.sk-toggleable__content {max-height: 0;max-width: 0;overflow: hidden;text-align: left;background-color: #f0f8ff;}#sk-container-id-4 div.sk-toggleable__content pre {margin: 0.2em;color: black;border-radius: 0.25em;background-color: #f0f8ff;}#sk-container-id-4 input.sk-toggleable__control:checked~div.sk-toggleable__content {max-height: 200px;max-width: 100%;overflow: auto;}#sk-container-id-4 input.sk-toggleable__control:checked~label.sk-toggleable__label-arrow:before {content: \"▾\";}#sk-container-id-4 div.sk-estimator input.sk-toggleable__control:checked~label.sk-toggleable__label {background-color: #d4ebff;}#sk-container-id-4 div.sk-label input.sk-toggleable__control:checked~label.sk-toggleable__label {background-color: #d4ebff;}#sk-container-id-4 input.sk-hidden--visually {border: 0;clip: rect(1px 1px 1px 1px);clip: rect(1px, 1px, 1px, 1px);height: 1px;margin: -1px;overflow: hidden;padding: 0;position: absolute;width: 1px;}#sk-container-id-4 div.sk-estimator {font-family: monospace;background-color: #f0f8ff;border: 1px dotted black;border-radius: 0.25em;box-sizing: border-box;margin-bottom: 0.5em;}#sk-container-id-4 div.sk-estimator:hover {background-color: #d4ebff;}#sk-container-id-4 div.sk-parallel-item::after {content: \"\";width: 100%;border-bottom: 1px solid gray;flex-grow: 1;}#sk-container-id-4 div.sk-label:hover label.sk-toggleable__label {background-color: #d4ebff;}#sk-container-id-4 div.sk-serial::before {content: \"\";position: absolute;border-left: 1px solid gray;box-sizing: border-box;top: 0;bottom: 0;left: 50%;z-index: 0;}#sk-container-id-4 div.sk-serial {display: flex;flex-direction: column;align-items: center;background-color: white;padding-right: 0.2em;padding-left: 0.2em;position: relative;}#sk-container-id-4 div.sk-item {position: relative;z-index: 1;}#sk-container-id-4 div.sk-parallel {display: flex;align-items: stretch;justify-content: center;background-color: white;position: relative;}#sk-container-id-4 div.sk-item::before, #sk-container-id-4 div.sk-parallel-item::before {content: \"\";position: absolute;border-left: 1px solid gray;box-sizing: border-box;top: 0;bottom: 0;left: 50%;z-index: -1;}#sk-container-id-4 div.sk-parallel-item {display: flex;flex-direction: column;z-index: 1;position: relative;background-color: white;}#sk-container-id-4 div.sk-parallel-item:first-child::after {align-self: flex-end;width: 50%;}#sk-container-id-4 div.sk-parallel-item:last-child::after {align-self: flex-start;width: 50%;}#sk-container-id-4 div.sk-parallel-item:only-child::after {width: 0;}#sk-container-id-4 div.sk-dashed-wrapped {border: 1px dashed gray;margin: 0 0.4em 0.5em 0.4em;box-sizing: border-box;padding-bottom: 0.4em;background-color: white;}#sk-container-id-4 div.sk-label label {font-family: monospace;font-weight: bold;display: inline-block;line-height: 1.2em;}#sk-container-id-4 div.sk-label-container {text-align: center;}#sk-container-id-4 div.sk-container {/* jupyter's `normalize.less` sets `[hidden] { display: none; }` but bootstrap.min.css set `[hidden] { display: none !important; }` so we also need the `!important` here to be able to override the default hidden behavior on the sphinx rendered scikit-learn.org. See: https://github.com/scikit-learn/scikit-learn/issues/21755 */display: inline-block !important;position: relative;}#sk-container-id-4 div.sk-text-repr-fallback {display: none;}</style><div id=\"sk-container-id-4\" class=\"sk-top-container\"><div class=\"sk-text-repr-fallback\"><pre>GridSearchCV(cv=3, estimator=RandomForestRegressor(n_jobs=-1, random_state=2),\n",
       "             n_jobs=-1,\n",
       "             param_grid={&#x27;max_features&#x27;: [&#x27;log2&#x27;, 1.0, &#x27;sqrt&#x27;],\n",
       "                         &#x27;min_samples_leaf&#x27;: [2, 10, 30],\n",
       "                         &#x27;n_estimators&#x27;: [100, 350, 500]},\n",
       "             scoring=&#x27;neg_mean_squared_error&#x27;, verbose=1)</pre><b>In a Jupyter environment, please rerun this cell to show the HTML representation or trust the notebook. <br />On GitHub, the HTML representation is unable to render, please try loading this page with nbviewer.org.</b></div><div class=\"sk-container\" hidden><div class=\"sk-item sk-dashed-wrapped\"><div class=\"sk-label-container\"><div class=\"sk-label sk-toggleable\"><input class=\"sk-toggleable__control sk-hidden--visually\" id=\"sk-estimator-id-10\" type=\"checkbox\" ><label for=\"sk-estimator-id-10\" class=\"sk-toggleable__label sk-toggleable__label-arrow\">GridSearchCV</label><div class=\"sk-toggleable__content\"><pre>GridSearchCV(cv=3, estimator=RandomForestRegressor(n_jobs=-1, random_state=2),\n",
       "             n_jobs=-1,\n",
       "             param_grid={&#x27;max_features&#x27;: [&#x27;log2&#x27;, 1.0, &#x27;sqrt&#x27;],\n",
       "                         &#x27;min_samples_leaf&#x27;: [2, 10, 30],\n",
       "                         &#x27;n_estimators&#x27;: [100, 350, 500]},\n",
       "             scoring=&#x27;neg_mean_squared_error&#x27;, verbose=1)</pre></div></div></div><div class=\"sk-parallel\"><div class=\"sk-parallel-item\"><div class=\"sk-item\"><div class=\"sk-label-container\"><div class=\"sk-label sk-toggleable\"><input class=\"sk-toggleable__control sk-hidden--visually\" id=\"sk-estimator-id-11\" type=\"checkbox\" ><label for=\"sk-estimator-id-11\" class=\"sk-toggleable__label sk-toggleable__label-arrow\">estimator: RandomForestRegressor</label><div class=\"sk-toggleable__content\"><pre>RandomForestRegressor(n_jobs=-1, random_state=2)</pre></div></div></div><div class=\"sk-serial\"><div class=\"sk-item\"><div class=\"sk-estimator sk-toggleable\"><input class=\"sk-toggleable__control sk-hidden--visually\" id=\"sk-estimator-id-12\" type=\"checkbox\" ><label for=\"sk-estimator-id-12\" class=\"sk-toggleable__label sk-toggleable__label-arrow\">RandomForestRegressor</label><div class=\"sk-toggleable__content\"><pre>RandomForestRegressor(n_jobs=-1, random_state=2)</pre></div></div></div></div></div></div></div></div></div></div>"
      ],
      "text/plain": [
       "GridSearchCV(cv=3, estimator=RandomForestRegressor(n_jobs=-1, random_state=2),\n",
       "             n_jobs=-1,\n",
       "             param_grid={'max_features': ['log2', 1.0, 'sqrt'],\n",
       "                         'min_samples_leaf': [2, 10, 30],\n",
       "                         'n_estimators': [100, 350, 500]},\n",
       "             scoring='neg_mean_squared_error', verbose=1)"
      ]
     },
     "execution_count": 25,
     "metadata": {},
     "output_type": "execute_result"
    }
   ],
   "source": [
    "# Import GridSearchCV\n",
    "from sklearn.model_selection import GridSearchCV\n",
    "\n",
    "# Instantiate grid_rf\n",
    "grid_rf = GridSearchCV(estimator=rf,\n",
    "                       param_grid=params_rf,\n",
    "                       scoring='neg_mean_squared_error',\n",
    "                       cv=3,\n",
    "                       verbose=1,\n",
    "                       n_jobs=-1)\n",
    "\n",
    "grid_rf.fit(X_train, y_train)"
   ]
  },
  {
   "cell_type": "code",
   "execution_count": 26,
   "id": "c7ca981e-3197-4861-89be-c01c0cce0583",
   "metadata": {
    "execution": {
     "iopub.execute_input": "2023-09-02T18:52:30.283532Z",
     "iopub.status.busy": "2023-09-02T18:52:30.283253Z",
     "iopub.status.idle": "2023-09-02T18:52:30.322227Z",
     "shell.execute_reply": "2023-09-02T18:52:30.321923Z",
     "shell.execute_reply.started": "2023-09-02T18:52:30.283514Z"
    },
    "tags": []
   },
   "outputs": [
    {
     "name": "stdout",
     "output_type": "stream",
     "text": [
      "Test RMSE of best model: 51.755\n"
     ]
    }
   ],
   "source": [
    "# Import mean_squared_error from sklearn.metrics as MSE \n",
    "from sklearn.metrics import mean_squared_error as MSE\n",
    "# Extract the best estimator\n",
    "best_model = grid_rf.best_estimator_\n",
    "# Predict test set labels\n",
    "y_pred = best_model.predict(X_test)\n",
    "# Compute rmse_test\n",
    "rmse_test = MSE(y_test, y_pred) ** (1/2)\n",
    "# Print rmse_test\n",
    "print('Test RMSE of best model: {:.3f}'.format(rmse_test)) "
   ]
  },
  {
   "cell_type": "code",
   "execution_count": null,
   "id": "74432b0d-fc17-4775-8287-1c1b522b5463",
   "metadata": {},
   "outputs": [],
   "source": []
  }
 ],
 "metadata": {
  "kernelspec": {
   "display_name": "Python 3 (ipykernel)",
   "language": "python",
   "name": "python3"
  },
  "language_info": {
   "codemirror_mode": {
    "name": "ipython",
    "version": 3
   },
   "file_extension": ".py",
   "mimetype": "text/x-python",
   "name": "python",
   "nbconvert_exporter": "python",
   "pygments_lexer": "ipython3",
   "version": "3.10.12"
  }
 },
 "nbformat": 4,
 "nbformat_minor": 5
}
