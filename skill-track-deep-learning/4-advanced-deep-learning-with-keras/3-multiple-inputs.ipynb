{
 "cells": [
  {
   "cell_type": "code",
   "execution_count": 1,
   "id": "742c39b2-4229-4cab-9165-dbe530b4fa0b",
   "metadata": {
    "execution": {
     "iopub.execute_input": "2023-02-14T17:06:37.324420Z",
     "iopub.status.busy": "2023-02-14T17:06:37.324336Z",
     "iopub.status.idle": "2023-02-14T17:06:38.529355Z",
     "shell.execute_reply": "2023-02-14T17:06:38.529013Z",
     "shell.execute_reply.started": "2023-02-14T17:06:37.324410Z"
    },
    "tags": []
   },
   "outputs": [],
   "source": [
    "import os\n",
    "os.environ['TF_CPP_MIN_LOG_LEVEL'] = '1'\n",
    "# os.environ['TF_ENABLE_ONEDNN_OPTS'] = '0'\n",
    "import numpy as np\n",
    "import pandas as pd\n",
    "from zipfile import ZipFile\n",
    "import tensorflow as tf\n",
    "import matplotlib.pyplot as plt\n",
    "plt.style.use('dark_background')\n",
    "from tensorflow.keras.utils import plot_model"
   ]
  },
  {
   "cell_type": "code",
   "execution_count": 2,
   "id": "c7ea7eec-0303-45bd-91f7-4cf37a17d8d4",
   "metadata": {
    "execution": {
     "iopub.execute_input": "2023-02-14T17:06:38.530282Z",
     "iopub.status.busy": "2023-02-14T17:06:38.530074Z",
     "iopub.status.idle": "2023-02-14T17:06:38.615060Z",
     "shell.execute_reply": "2023-02-14T17:06:38.614800Z",
     "shell.execute_reply.started": "2023-02-14T17:06:38.530271Z"
    },
    "tags": []
   },
   "outputs": [
    {
     "data": {
      "text/plain": [
       "((4234, 10), (312178, 8), (4234, 9))"
      ]
     },
     "execution_count": 2,
     "metadata": {},
     "output_type": "execute_result"
    }
   ],
   "source": [
    "zip_file = ZipFile('basketball_data.zip')\n",
    "games_season_enriched, games_season, games_tourney = \\\n",
    "[pd.read_csv(zip_file.open(text_file.filename))\n",
    " for text_file in zip_file.infolist()\n",
    " if text_file.filename.endswith('.csv')]\n",
    "\n",
    "games_season_enriched.shape, games_season.shape, games_tourney.shape"
   ]
  },
  {
   "cell_type": "markdown",
   "id": "ed2a8ede-ec72-4f4b-943a-25e3d1b78001",
   "metadata": {},
   "source": [
    "# Three-input models"
   ]
  },
  {
   "cell_type": "markdown",
   "id": "c857ef0e-73b0-4c57-add1-5f15fbc8ec78",
   "metadata": {},
   "source": [
    "## Simple model with 3 inputs"
   ]
  },
  {
   "cell_type": "code",
   "execution_count": 3,
   "id": "8c8b2b2e-7458-4c6c-8f52-db14416cdd61",
   "metadata": {
    "execution": {
     "iopub.execute_input": "2023-02-14T17:06:38.615523Z",
     "iopub.status.busy": "2023-02-14T17:06:38.615420Z",
     "iopub.status.idle": "2023-02-14T17:06:38.650254Z",
     "shell.execute_reply": "2023-02-14T17:06:38.649978Z",
     "shell.execute_reply.started": "2023-02-14T17:06:38.615513Z"
    },
    "tags": []
   },
   "outputs": [
    {
     "name": "stderr",
     "output_type": "stream",
     "text": [
      "2023-02-14 14:06:38.644325: E tensorflow/stream_executor/cuda/cuda_driver.cc:271] failed call to cuInit: CUDA_ERROR_UNKNOWN: unknown error\n"
     ]
    }
   ],
   "source": [
    "from tensorflow.keras.layers import Input, Concatenate, Dense\n",
    "in_tensor_1 = Input(shape=(1,))\n",
    "in_tensor_2 = Input(shape=(1,))\n",
    "in_tensor_3 = Input(shape=(1,))\n",
    "out_tensor = Concatenate()([in_tensor_1, in_tensor_2, in_tensor_3])\n",
    "output_tensor = Dense(1)(out_tensor)"
   ]
  },
  {
   "cell_type": "code",
   "execution_count": 4,
   "id": "5b0f40c3-2aa1-44d0-be91-c80e0099a4f1",
   "metadata": {
    "execution": {
     "iopub.execute_input": "2023-02-14T17:06:38.650839Z",
     "iopub.status.busy": "2023-02-14T17:06:38.650633Z",
     "iopub.status.idle": "2023-02-14T17:06:38.690465Z",
     "shell.execute_reply": "2023-02-14T17:06:38.690144Z",
     "shell.execute_reply.started": "2023-02-14T17:06:38.650828Z"
    },
    "tags": []
   },
   "outputs": [
    {
     "name": "stdout",
     "output_type": "stream",
     "text": [
      "Model: \"model\"\n",
      "__________________________________________________________________________________________________\n",
      " Layer (type)                   Output Shape         Param #     Connected to                     \n",
      "==================================================================================================\n",
      " input_1 (InputLayer)           [(None, 1)]          0           []                               \n",
      "                                                                                                  \n",
      " input_2 (InputLayer)           [(None, 1)]          0           []                               \n",
      "                                                                                                  \n",
      " input_3 (InputLayer)           [(None, 1)]          0           []                               \n",
      "                                                                                                  \n",
      " concatenate (Concatenate)      (None, 3)            0           ['input_1[0][0]',                \n",
      "                                                                  'input_2[0][0]',                \n",
      "                                                                  'input_3[0][0]']                \n",
      "                                                                                                  \n",
      "==================================================================================================\n",
      "Total params: 0\n",
      "Trainable params: 0\n",
      "Non-trainable params: 0\n",
      "__________________________________________________________________________________________________\n"
     ]
    },
    {
     "data": {
      "image/png": "[encoded data removed]",
      "text/plain": [
       "<IPython.core.display.Image object>"
      ]
     },
     "execution_count": 4,
     "metadata": {},
     "output_type": "execute_result"
    }
   ],
   "source": [
    "from tensorflow.keras.models import Model\n",
    "model = Model([in_tensor_1, in_tensor_2, in_tensor_3], out_tensor)\n",
    "model.summary()\n",
    "plot_model(model, expand_nested=True, show_shapes=True)"
   ]
  },
  {
   "cell_type": "markdown",
   "id": "ec3dccef-d226-48a0-aedc-381b684c2808",
   "metadata": {},
   "source": [
    "## Shared layers with 3 inputs"
   ]
  },
  {
   "cell_type": "code",
   "execution_count": 5,
   "id": "88b98cfe-b9e2-4a64-b544-f75c2a877789",
   "metadata": {
    "execution": {
     "iopub.execute_input": "2023-02-14T17:06:38.691076Z",
     "iopub.status.busy": "2023-02-14T17:06:38.690959Z",
     "iopub.status.idle": "2023-02-14T17:06:38.703869Z",
     "shell.execute_reply": "2023-02-14T17:06:38.703529Z",
     "shell.execute_reply.started": "2023-02-14T17:06:38.691065Z"
    },
    "tags": []
   },
   "outputs": [],
   "source": [
    "shared_layer = Dense(1)\n",
    "shared_tensor_1 = shared_layer(in_tensor_1)\n",
    "shared_tensor_2 = shared_layer(in_tensor_2)\n",
    "out_tensor = Concatenate()([shared_tensor_1, shared_tensor_2, in_tensor_3])\n",
    "out_tensor = Dense(1)(out_tensor)"
   ]
  },
  {
   "cell_type": "code",
   "execution_count": 6,
   "id": "d49a012e-aff3-4707-9b5c-2ab054ea7150",
   "metadata": {
    "execution": {
     "iopub.execute_input": "2023-02-14T17:06:38.704355Z",
     "iopub.status.busy": "2023-02-14T17:06:38.704252Z",
     "iopub.status.idle": "2023-02-14T17:06:38.744354Z",
     "shell.execute_reply": "2023-02-14T17:06:38.743905Z",
     "shell.execute_reply.started": "2023-02-14T17:06:38.704346Z"
    },
    "tags": []
   },
   "outputs": [
    {
     "data": {
      "image/png": "[encoded data removed]",
      "text/plain": [
       "<IPython.core.display.Image object>"
      ]
     },
     "execution_count": 6,
     "metadata": {},
     "output_type": "execute_result"
    }
   ],
   "source": [
    "from tensorflow.keras.models import Model\n",
    "model = Model([in_tensor_1, in_tensor_2, in_tensor_3], out_tensor)\n",
    "plot_model(model, expand_nested=True, show_shapes=True)"
   ]
  },
  {
   "cell_type": "markdown",
   "id": "c82ec55e-e051-4cd5-867e-748b8bbca87e",
   "metadata": {},
   "source": [
    "## Fitting a 3 input model"
   ]
  },
  {
   "cell_type": "markdown",
   "id": "98571203-d2c9-4a0d-8399-8c99bfdad257",
   "metadata": {
    "execution": {
     "iopub.execute_input": "2023-02-14T03:47:04.236707Z",
     "iopub.status.busy": "2023-02-14T03:47:04.236567Z",
     "iopub.status.idle": "2023-02-14T03:47:04.264485Z",
     "shell.execute_reply": "2023-02-14T03:47:04.264005Z",
     "shell.execute_reply.started": "2023-02-14T03:47:04.236695Z"
    },
    "tags": []
   },
   "source": [
    "    from tensorflow.keras.models import Model\n",
    "    model = Model([in_tensor_1, in_tensor_2, in_tensor_3], out_tensor)\n",
    "    model.compile(loss='mae', optimizer='adam')\n",
    "    model.fit([train['col1'], train['col2'], train['col3']],\n",
    "               train_data['target'])\n",
    "    model.evaluate([test['col1'], test['col2'], test['col3']],\n",
    "                    test['target'])"
   ]
  },
  {
   "cell_type": "markdown",
   "id": "f3705fe5-ed7f-409c-82a5-ddc24d82da05",
   "metadata": {
    "tags": []
   },
   "source": [
    "## Exercises"
   ]
  },
  {
   "cell_type": "markdown",
   "id": "ed37e4bc-a19b-409d-98fd-9b6305e924d0",
   "metadata": {},
   "source": [
    "### Make an input layer for home vs. away\n",
    "\n",
    "Now you will make an improvement to the model you used in the previous chapter for regular season games. You know there is a well-documented home-team advantage in basketball, so you will add a new input to your model to capture this effect.\n",
    "\n",
    "This model will have three inputs: team_id_1, team_id_2, and home. The team IDs will be integers that you look up in your team strength model from the previous chapter, and home will be a binary variable, 1 if team_1 is playing at home, 0 if they are not.\n",
    "\n",
    "The team_strength_model you used in the previous chapter has been loaded into your workspace."
   ]
  },
  {
   "cell_type": "code",
   "execution_count": 7,
   "id": "0430bae5-ba13-4058-9336-c7edb56fc330",
   "metadata": {
    "execution": {
     "iopub.execute_input": "2023-02-14T17:06:38.746069Z",
     "iopub.status.busy": "2023-02-14T17:06:38.745893Z",
     "iopub.status.idle": "2023-02-14T17:06:38.758531Z",
     "shell.execute_reply": "2023-02-14T17:06:38.758141Z",
     "shell.execute_reply.started": "2023-02-14T17:06:38.746053Z"
    },
    "tags": []
   },
   "outputs": [],
   "source": [
    "from tensorflow.keras.layers import Embedding, Flatten\n",
    "n_teams = games_season['team_1'].unique().shape[0]\n",
    "team_lookup = Embedding(input_dim=n_teams,\n",
    "                        output_dim=1,\n",
    "                        input_length=1,\n",
    "                        name='Team-Strength')\n",
    "\n",
    "teamid_in = Input(shape=(1,))\n",
    "strength_lookup = team_lookup(teamid_in)\n",
    "strength_lookup_flat = Flatten()(strength_lookup)\n",
    "team_strength_model = Model(teamid_in, strength_lookup_flat, name='Team-Strength-Model')"
   ]
  },
  {
   "cell_type": "markdown",
   "id": "401baa2e-c1db-4e31-95b0-081514ddc515",
   "metadata": {},
   "source": [
    "After applying it to each input, use a Concatenate layer to join the two team strengths and with the home vs away variable, and pass the result to a Dense layer."
   ]
  },
  {
   "cell_type": "code",
   "execution_count": 8,
   "id": "fa0d7dd1-c5c0-4603-bd02-95b1c8983713",
   "metadata": {
    "execution": {
     "iopub.execute_input": "2023-02-14T17:06:38.759074Z",
     "iopub.status.busy": "2023-02-14T17:06:38.758967Z",
     "iopub.status.idle": "2023-02-14T17:06:38.772180Z",
     "shell.execute_reply": "2023-02-14T17:06:38.771841Z",
     "shell.execute_reply.started": "2023-02-14T17:06:38.759064Z"
    },
    "tags": []
   },
   "outputs": [],
   "source": [
    "# Create an Input for each team\n",
    "team_in_1 = Input(shape=(1,), name='Team-1-In')\n",
    "team_in_2 = Input(shape=(1,), name='Team-2-In')\n",
    "\n",
    "# Create an input for home vs away\n",
    "home_in = Input(shape=(1,), name='Home-In')\n",
    "\n",
    "# Lookup the team inputs in the team strength model\n",
    "team_1_strength = team_strength_model(team_in_1)\n",
    "team_2_strength = team_strength_model(team_in_2)\n",
    "\n",
    "# Combine the team strengths with the home input using a Concatenate layer, then add a Dense layer\n",
    "out = Concatenate()([team_1_strength, team_2_strength, home_in])\n",
    "out = Dense(1)(out)"
   ]
  },
  {
   "cell_type": "markdown",
   "id": "171ca554-c9da-4269-9d2a-b4d722d27afd",
   "metadata": {},
   "source": [
    "### Make a model and compile it\n",
    "\n",
    "Now that you've input and output layers for the 3-input model, wrap them up in a Keras model class, and then compile the model, so you can fit it to data and use it to make predictions on new data."
   ]
  },
  {
   "cell_type": "code",
   "execution_count": 9,
   "id": "7e30b4aa-6ac9-4dc8-9ec9-c2e75bb7785a",
   "metadata": {
    "execution": {
     "iopub.execute_input": "2023-02-14T17:06:38.772646Z",
     "iopub.status.busy": "2023-02-14T17:06:38.772547Z",
     "iopub.status.idle": "2023-02-14T17:06:38.779186Z",
     "shell.execute_reply": "2023-02-14T17:06:38.778646Z",
     "shell.execute_reply.started": "2023-02-14T17:06:38.772636Z"
    },
    "tags": []
   },
   "outputs": [],
   "source": [
    "# Make a Model\n",
    "model = Model([team_in_1, team_in_2, home_in], out)\n",
    "# Compile the model\n",
    "model.compile(optimizer='adam', loss='mean_absolute_error')"
   ]
  },
  {
   "cell_type": "markdown",
   "id": "22aac5f0-1331-431b-bca0-90855f26d390",
   "metadata": {},
   "source": [
    "### Fit the model and evaluate\n",
    "\n",
    "Now that you've defined a new model, fit it to the regular season basketball data.\n",
    "\n",
    "Use the model you fit in the previous exercise (which was trained on the regular season data) and evaluate the model on data for tournament games (games_tourney)."
   ]
  },
  {
   "cell_type": "code",
   "execution_count": 10,
   "id": "25adef44-7f44-4844-bbd9-094962c9ccac",
   "metadata": {
    "execution": {
     "iopub.execute_input": "2023-02-14T17:06:38.779752Z",
     "iopub.status.busy": "2023-02-14T17:06:38.779647Z",
     "iopub.status.idle": "2023-02-14T17:06:39.257110Z",
     "shell.execute_reply": "2023-02-14T17:06:39.256784Z",
     "shell.execute_reply.started": "2023-02-14T17:06:38.779742Z"
    },
    "tags": []
   },
   "outputs": [
    {
     "name": "stdout",
     "output_type": "stream",
     "text": [
      "138/138 [==============================] - 0s 1ms/step - loss: 12.1027 - val_loss: 12.0606\n",
      "11.68377685546875\n"
     ]
    }
   ],
   "source": [
    "# Fit the model to the games_season dataset\n",
    "model.fit([games_season['team_1'], games_season['team_2'], games_season['home']],\n",
    "          games_season['score_diff'],\n",
    "          epochs=1,\n",
    "          verbose=True,\n",
    "          validation_split=0.1,\n",
    "          batch_size=2048)\n",
    "\n",
    "# Evaluate the model on the games_tourney dataset\n",
    "print(model.evaluate([games_tourney['team_1'], games_tourney['team_2'], games_tourney['home']], games_tourney['score_diff'], verbose=False))"
   ]
  },
  {
   "cell_type": "markdown",
   "id": "36fa5422-7666-45f3-b6b4-7640875ae414",
   "metadata": {},
   "source": [
    "# Summarizing and plotting models"
   ]
  },
  {
   "cell_type": "code",
   "execution_count": 11,
   "id": "3f08737e-5bea-46ca-bc98-954b5c1b0d24",
   "metadata": {
    "execution": {
     "iopub.execute_input": "2023-02-14T17:06:39.257715Z",
     "iopub.status.busy": "2023-02-14T17:06:39.257518Z",
     "iopub.status.idle": "2023-02-14T17:06:39.264315Z",
     "shell.execute_reply": "2023-02-14T17:06:39.264049Z",
     "shell.execute_reply.started": "2023-02-14T17:06:39.257704Z"
    },
    "tags": []
   },
   "outputs": [
    {
     "name": "stdout",
     "output_type": "stream",
     "text": [
      "Model: \"model_2\"\n",
      "__________________________________________________________________________________________________\n",
      " Layer (type)                   Output Shape         Param #     Connected to                     \n",
      "==================================================================================================\n",
      " Team-1-In (InputLayer)         [(None, 1)]          0           []                               \n",
      "                                                                                                  \n",
      " Team-2-In (InputLayer)         [(None, 1)]          0           []                               \n",
      "                                                                                                  \n",
      " Team-Strength-Model (Functiona  (None, 1)           10888       ['Team-1-In[0][0]',              \n",
      " l)                                                               'Team-2-In[0][0]']              \n",
      "                                                                                                  \n",
      " Home-In (InputLayer)           [(None, 1)]          0           []                               \n",
      "                                                                                                  \n",
      " concatenate_2 (Concatenate)    (None, 3)            0           ['Team-Strength-Model[0][0]',    \n",
      "                                                                  'Team-Strength-Model[1][0]',    \n",
      "                                                                  'Home-In[0][0]']                \n",
      "                                                                                                  \n",
      " dense_3 (Dense)                (None, 1)            4           ['concatenate_2[0][0]']          \n",
      "                                                                                                  \n",
      "==================================================================================================\n",
      "Total params: 10,892\n",
      "Trainable params: 10,892\n",
      "Non-trainable params: 0\n",
      "__________________________________________________________________________________________________\n"
     ]
    }
   ],
   "source": [
    "model.summary()"
   ]
  },
  {
   "cell_type": "code",
   "execution_count": 12,
   "id": "92ad224b-2077-451d-a802-d91a844fd7f1",
   "metadata": {
    "execution": {
     "iopub.execute_input": "2023-02-14T17:06:39.264802Z",
     "iopub.status.busy": "2023-02-14T17:06:39.264692Z",
     "iopub.status.idle": "2023-02-14T17:06:39.318055Z",
     "shell.execute_reply": "2023-02-14T17:06:39.317750Z",
     "shell.execute_reply.started": "2023-02-14T17:06:39.264792Z"
    },
    "tags": []
   },
   "outputs": [
    {
     "data": {
      "image/png": "[encoded data removed]",
      "text/plain": [
       "<IPython.core.display.Image object>"
      ]
     },
     "execution_count": 12,
     "metadata": {},
     "output_type": "execute_result"
    }
   ],
   "source": [
    "plot_model(model, expand_nested=True)"
   ]
  },
  {
   "cell_type": "markdown",
   "id": "efe1cd35-2b72-4b16-a890-331c56854f43",
   "metadata": {},
   "source": [
    "# Stacking models"
   ]
  },
  {
   "cell_type": "markdown",
   "id": "5c2451ca-4ba2-4174-b55b-d75642442ac3",
   "metadata": {},
   "source": [
    "## Stacking models requires 2 datasets"
   ]
  },
  {
   "cell_type": "code",
   "execution_count": 13,
   "id": "9a0677cc-cfeb-4618-8e41-b5140a3be061",
   "metadata": {
    "execution": {
     "iopub.execute_input": "2023-02-14T17:06:39.318645Z",
     "iopub.status.busy": "2023-02-14T17:06:39.318535Z",
     "iopub.status.idle": "2023-02-14T17:06:39.326217Z",
     "shell.execute_reply": "2023-02-14T17:06:39.325929Z",
     "shell.execute_reply.started": "2023-02-14T17:06:39.318634Z"
    }
   },
   "outputs": [
    {
     "data": {
      "text/html": [
       "<div>\n",
       "<style scoped>\n",
       "    .dataframe tbody tr th:only-of-type {\n",
       "        vertical-align: middle;\n",
       "    }\n",
       "\n",
       "    .dataframe tbody tr th {\n",
       "        vertical-align: top;\n",
       "    }\n",
       "\n",
       "    .dataframe thead th {\n",
       "        text-align: right;\n",
       "    }\n",
       "</style>\n",
       "<table border=\"1\" class=\"dataframe\">\n",
       "  <thead>\n",
       "    <tr style=\"text-align: right;\">\n",
       "      <th></th>\n",
       "      <th>season</th>\n",
       "      <th>team_1</th>\n",
       "      <th>team_2</th>\n",
       "      <th>home</th>\n",
       "      <th>seed_diff</th>\n",
       "      <th>score_diff</th>\n",
       "      <th>score_1</th>\n",
       "      <th>score_2</th>\n",
       "      <th>won</th>\n",
       "      <th>pred</th>\n",
       "    </tr>\n",
       "  </thead>\n",
       "  <tbody>\n",
       "    <tr>\n",
       "      <th>0</th>\n",
       "      <td>1985</td>\n",
       "      <td>288</td>\n",
       "      <td>73</td>\n",
       "      <td>0</td>\n",
       "      <td>-3</td>\n",
       "      <td>-9</td>\n",
       "      <td>41</td>\n",
       "      <td>50</td>\n",
       "      <td>0</td>\n",
       "      <td>-3.601452</td>\n",
       "    </tr>\n",
       "    <tr>\n",
       "      <th>1</th>\n",
       "      <td>1985</td>\n",
       "      <td>5929</td>\n",
       "      <td>73</td>\n",
       "      <td>0</td>\n",
       "      <td>4</td>\n",
       "      <td>6</td>\n",
       "      <td>61</td>\n",
       "      <td>55</td>\n",
       "      <td>1</td>\n",
       "      <td>0.474164</td>\n",
       "    </tr>\n",
       "    <tr>\n",
       "      <th>2</th>\n",
       "      <td>1985</td>\n",
       "      <td>9884</td>\n",
       "      <td>73</td>\n",
       "      <td>0</td>\n",
       "      <td>5</td>\n",
       "      <td>-4</td>\n",
       "      <td>59</td>\n",
       "      <td>63</td>\n",
       "      <td>0</td>\n",
       "      <td>-0.414316</td>\n",
       "    </tr>\n",
       "    <tr>\n",
       "      <th>3</th>\n",
       "      <td>1985</td>\n",
       "      <td>73</td>\n",
       "      <td>288</td>\n",
       "      <td>0</td>\n",
       "      <td>3</td>\n",
       "      <td>9</td>\n",
       "      <td>50</td>\n",
       "      <td>41</td>\n",
       "      <td>1</td>\n",
       "      <td>3.601452</td>\n",
       "    </tr>\n",
       "    <tr>\n",
       "      <th>4</th>\n",
       "      <td>1985</td>\n",
       "      <td>3920</td>\n",
       "      <td>410</td>\n",
       "      <td>0</td>\n",
       "      <td>1</td>\n",
       "      <td>-9</td>\n",
       "      <td>54</td>\n",
       "      <td>63</td>\n",
       "      <td>0</td>\n",
       "      <td>8.176179</td>\n",
       "    </tr>\n",
       "    <tr>\n",
       "      <th>...</th>\n",
       "      <td>...</td>\n",
       "      <td>...</td>\n",
       "      <td>...</td>\n",
       "      <td>...</td>\n",
       "      <td>...</td>\n",
       "      <td>...</td>\n",
       "      <td>...</td>\n",
       "      <td>...</td>\n",
       "      <td>...</td>\n",
       "      <td>...</td>\n",
       "    </tr>\n",
       "    <tr>\n",
       "      <th>4229</th>\n",
       "      <td>2017</td>\n",
       "      <td>10120</td>\n",
       "      <td>10696</td>\n",
       "      <td>0</td>\n",
       "      <td>-1</td>\n",
       "      <td>-10</td>\n",
       "      <td>74</td>\n",
       "      <td>84</td>\n",
       "      <td>0</td>\n",
       "      <td>-5.840316</td>\n",
       "    </tr>\n",
       "    <tr>\n",
       "      <th>4230</th>\n",
       "      <td>2017</td>\n",
       "      <td>320</td>\n",
       "      <td>10818</td>\n",
       "      <td>0</td>\n",
       "      <td>9</td>\n",
       "      <td>-2</td>\n",
       "      <td>71</td>\n",
       "      <td>73</td>\n",
       "      <td>0</td>\n",
       "      <td>3.959683</td>\n",
       "    </tr>\n",
       "    <tr>\n",
       "      <th>4231</th>\n",
       "      <td>2017</td>\n",
       "      <td>2910</td>\n",
       "      <td>10818</td>\n",
       "      <td>0</td>\n",
       "      <td>8</td>\n",
       "      <td>-25</td>\n",
       "      <td>66</td>\n",
       "      <td>91</td>\n",
       "      <td>0</td>\n",
       "      <td>6.244301</td>\n",
       "    </tr>\n",
       "    <tr>\n",
       "      <th>4232</th>\n",
       "      <td>2017</td>\n",
       "      <td>3300</td>\n",
       "      <td>10818</td>\n",
       "      <td>0</td>\n",
       "      <td>10</td>\n",
       "      <td>24</td>\n",
       "      <td>83</td>\n",
       "      <td>59</td>\n",
       "      <td>1</td>\n",
       "      <td>11.307431</td>\n",
       "    </tr>\n",
       "    <tr>\n",
       "      <th>4233</th>\n",
       "      <td>2017</td>\n",
       "      <td>4973</td>\n",
       "      <td>10818</td>\n",
       "      <td>0</td>\n",
       "      <td>5</td>\n",
       "      <td>-11</td>\n",
       "      <td>65</td>\n",
       "      <td>76</td>\n",
       "      <td>0</td>\n",
       "      <td>-1.125914</td>\n",
       "    </tr>\n",
       "  </tbody>\n",
       "</table>\n",
       "<p>4234 rows × 10 columns</p>\n",
       "</div>"
      ],
      "text/plain": [
       "      season  team_1  team_2  home  seed_diff  score_diff  score_1  score_2  \\\n",
       "0       1985     288      73     0         -3          -9       41       50   \n",
       "1       1985    5929      73     0          4           6       61       55   \n",
       "2       1985    9884      73     0          5          -4       59       63   \n",
       "3       1985      73     288     0          3           9       50       41   \n",
       "4       1985    3920     410     0          1          -9       54       63   \n",
       "...      ...     ...     ...   ...        ...         ...      ...      ...   \n",
       "4229    2017   10120   10696     0         -1         -10       74       84   \n",
       "4230    2017     320   10818     0          9          -2       71       73   \n",
       "4231    2017    2910   10818     0          8         -25       66       91   \n",
       "4232    2017    3300   10818     0         10          24       83       59   \n",
       "4233    2017    4973   10818     0          5         -11       65       76   \n",
       "\n",
       "      won       pred  \n",
       "0       0  -3.601452  \n",
       "1       1   0.474164  \n",
       "2       0  -0.414316  \n",
       "3       1   3.601452  \n",
       "4       0   8.176179  \n",
       "...   ...        ...  \n",
       "4229    0  -5.840316  \n",
       "4230    0   3.959683  \n",
       "4231    0   6.244301  \n",
       "4232    1  11.307431  \n",
       "4233    0  -1.125914  \n",
       "\n",
       "[4234 rows x 10 columns]"
      ]
     },
     "execution_count": 13,
     "metadata": {},
     "output_type": "execute_result"
    }
   ],
   "source": [
    "games_season_enriched"
   ]
  },
  {
   "cell_type": "code",
   "execution_count": 14,
   "id": "6d945868-334c-424d-a53f-f73978a859f1",
   "metadata": {
    "execution": {
     "iopub.execute_input": "2023-02-14T17:06:39.326724Z",
     "iopub.status.busy": "2023-02-14T17:06:39.326618Z",
     "iopub.status.idle": "2023-02-14T17:06:39.332214Z",
     "shell.execute_reply": "2023-02-14T17:06:39.331854Z",
     "shell.execute_reply.started": "2023-02-14T17:06:39.326714Z"
    },
    "tags": []
   },
   "outputs": [
    {
     "data": {
      "text/html": [
       "<div>\n",
       "<style scoped>\n",
       "    .dataframe tbody tr th:only-of-type {\n",
       "        vertical-align: middle;\n",
       "    }\n",
       "\n",
       "    .dataframe tbody tr th {\n",
       "        vertical-align: top;\n",
       "    }\n",
       "\n",
       "    .dataframe thead th {\n",
       "        text-align: right;\n",
       "    }\n",
       "</style>\n",
       "<table border=\"1\" class=\"dataframe\">\n",
       "  <thead>\n",
       "    <tr style=\"text-align: right;\">\n",
       "      <th></th>\n",
       "      <th>season</th>\n",
       "      <th>team_1</th>\n",
       "      <th>team_2</th>\n",
       "      <th>home</th>\n",
       "      <th>score_diff</th>\n",
       "      <th>score_1</th>\n",
       "      <th>score_2</th>\n",
       "      <th>won</th>\n",
       "    </tr>\n",
       "  </thead>\n",
       "  <tbody>\n",
       "    <tr>\n",
       "      <th>0</th>\n",
       "      <td>1985</td>\n",
       "      <td>3745</td>\n",
       "      <td>6664</td>\n",
       "      <td>0</td>\n",
       "      <td>17</td>\n",
       "      <td>81</td>\n",
       "      <td>64</td>\n",
       "      <td>1</td>\n",
       "    </tr>\n",
       "    <tr>\n",
       "      <th>1</th>\n",
       "      <td>1985</td>\n",
       "      <td>126</td>\n",
       "      <td>7493</td>\n",
       "      <td>1</td>\n",
       "      <td>7</td>\n",
       "      <td>77</td>\n",
       "      <td>70</td>\n",
       "      <td>1</td>\n",
       "    </tr>\n",
       "    <tr>\n",
       "      <th>2</th>\n",
       "      <td>1985</td>\n",
       "      <td>288</td>\n",
       "      <td>3593</td>\n",
       "      <td>1</td>\n",
       "      <td>7</td>\n",
       "      <td>63</td>\n",
       "      <td>56</td>\n",
       "      <td>1</td>\n",
       "    </tr>\n",
       "    <tr>\n",
       "      <th>3</th>\n",
       "      <td>1985</td>\n",
       "      <td>1846</td>\n",
       "      <td>9881</td>\n",
       "      <td>1</td>\n",
       "      <td>16</td>\n",
       "      <td>70</td>\n",
       "      <td>54</td>\n",
       "      <td>1</td>\n",
       "    </tr>\n",
       "    <tr>\n",
       "      <th>4</th>\n",
       "      <td>1985</td>\n",
       "      <td>2675</td>\n",
       "      <td>10298</td>\n",
       "      <td>1</td>\n",
       "      <td>12</td>\n",
       "      <td>86</td>\n",
       "      <td>74</td>\n",
       "      <td>1</td>\n",
       "    </tr>\n",
       "    <tr>\n",
       "      <th>...</th>\n",
       "      <td>...</td>\n",
       "      <td>...</td>\n",
       "      <td>...</td>\n",
       "      <td>...</td>\n",
       "      <td>...</td>\n",
       "      <td>...</td>\n",
       "      <td>...</td>\n",
       "      <td>...</td>\n",
       "    </tr>\n",
       "    <tr>\n",
       "      <th>312173</th>\n",
       "      <td>2018</td>\n",
       "      <td>3592</td>\n",
       "      <td>1481</td>\n",
       "      <td>1</td>\n",
       "      <td>-1</td>\n",
       "      <td>55</td>\n",
       "      <td>56</td>\n",
       "      <td>0</td>\n",
       "    </tr>\n",
       "    <tr>\n",
       "      <th>312174</th>\n",
       "      <td>2018</td>\n",
       "      <td>7322</td>\n",
       "      <td>2081</td>\n",
       "      <td>1</td>\n",
       "      <td>-1</td>\n",
       "      <td>57</td>\n",
       "      <td>58</td>\n",
       "      <td>0</td>\n",
       "    </tr>\n",
       "    <tr>\n",
       "      <th>312175</th>\n",
       "      <td>2018</td>\n",
       "      <td>9730</td>\n",
       "      <td>3233</td>\n",
       "      <td>1</td>\n",
       "      <td>-13</td>\n",
       "      <td>61</td>\n",
       "      <td>74</td>\n",
       "      <td>0</td>\n",
       "    </tr>\n",
       "    <tr>\n",
       "      <th>312176</th>\n",
       "      <td>2018</td>\n",
       "      <td>8813</td>\n",
       "      <td>4297</td>\n",
       "      <td>1</td>\n",
       "      <td>-5</td>\n",
       "      <td>72</td>\n",
       "      <td>77</td>\n",
       "      <td>0</td>\n",
       "    </tr>\n",
       "    <tr>\n",
       "      <th>312177</th>\n",
       "      <td>2018</td>\n",
       "      <td>3437</td>\n",
       "      <td>6931</td>\n",
       "      <td>1</td>\n",
       "      <td>-3</td>\n",
       "      <td>65</td>\n",
       "      <td>68</td>\n",
       "      <td>0</td>\n",
       "    </tr>\n",
       "  </tbody>\n",
       "</table>\n",
       "<p>312178 rows × 8 columns</p>\n",
       "</div>"
      ],
      "text/plain": [
       "        season  team_1  team_2  home  score_diff  score_1  score_2  won\n",
       "0         1985    3745    6664     0          17       81       64    1\n",
       "1         1985     126    7493     1           7       77       70    1\n",
       "2         1985     288    3593     1           7       63       56    1\n",
       "3         1985    1846    9881     1          16       70       54    1\n",
       "4         1985    2675   10298     1          12       86       74    1\n",
       "...        ...     ...     ...   ...         ...      ...      ...  ...\n",
       "312173    2018    3592    1481     1          -1       55       56    0\n",
       "312174    2018    7322    2081     1          -1       57       58    0\n",
       "312175    2018    9730    3233     1         -13       61       74    0\n",
       "312176    2018    8813    4297     1          -5       72       77    0\n",
       "312177    2018    3437    6931     1          -3       65       68    0\n",
       "\n",
       "[312178 rows x 8 columns]"
      ]
     },
     "execution_count": 14,
     "metadata": {},
     "output_type": "execute_result"
    }
   ],
   "source": [
    "games_season"
   ]
  },
  {
   "cell_type": "code",
   "execution_count": 15,
   "id": "ec96bf80-eefd-4861-bb5f-5cc24234fa48",
   "metadata": {
    "execution": {
     "iopub.execute_input": "2023-02-14T17:06:39.332677Z",
     "iopub.status.busy": "2023-02-14T17:06:39.332581Z",
     "iopub.status.idle": "2023-02-14T17:06:39.337649Z",
     "shell.execute_reply": "2023-02-14T17:06:39.337307Z",
     "shell.execute_reply.started": "2023-02-14T17:06:39.332668Z"
    },
    "tags": []
   },
   "outputs": [
    {
     "data": {
      "text/html": [
       "<div>\n",
       "<style scoped>\n",
       "    .dataframe tbody tr th:only-of-type {\n",
       "        vertical-align: middle;\n",
       "    }\n",
       "\n",
       "    .dataframe tbody tr th {\n",
       "        vertical-align: top;\n",
       "    }\n",
       "\n",
       "    .dataframe thead th {\n",
       "        text-align: right;\n",
       "    }\n",
       "</style>\n",
       "<table border=\"1\" class=\"dataframe\">\n",
       "  <thead>\n",
       "    <tr style=\"text-align: right;\">\n",
       "      <th></th>\n",
       "      <th>season</th>\n",
       "      <th>team_1</th>\n",
       "      <th>team_2</th>\n",
       "      <th>home</th>\n",
       "      <th>seed_diff</th>\n",
       "      <th>score_diff</th>\n",
       "      <th>score_1</th>\n",
       "      <th>score_2</th>\n",
       "      <th>won</th>\n",
       "    </tr>\n",
       "  </thead>\n",
       "  <tbody>\n",
       "    <tr>\n",
       "      <th>0</th>\n",
       "      <td>1985</td>\n",
       "      <td>288</td>\n",
       "      <td>73</td>\n",
       "      <td>0</td>\n",
       "      <td>-3</td>\n",
       "      <td>-9</td>\n",
       "      <td>41</td>\n",
       "      <td>50</td>\n",
       "      <td>0</td>\n",
       "    </tr>\n",
       "    <tr>\n",
       "      <th>1</th>\n",
       "      <td>1985</td>\n",
       "      <td>5929</td>\n",
       "      <td>73</td>\n",
       "      <td>0</td>\n",
       "      <td>4</td>\n",
       "      <td>6</td>\n",
       "      <td>61</td>\n",
       "      <td>55</td>\n",
       "      <td>1</td>\n",
       "    </tr>\n",
       "    <tr>\n",
       "      <th>2</th>\n",
       "      <td>1985</td>\n",
       "      <td>9884</td>\n",
       "      <td>73</td>\n",
       "      <td>0</td>\n",
       "      <td>5</td>\n",
       "      <td>-4</td>\n",
       "      <td>59</td>\n",
       "      <td>63</td>\n",
       "      <td>0</td>\n",
       "    </tr>\n",
       "    <tr>\n",
       "      <th>3</th>\n",
       "      <td>1985</td>\n",
       "      <td>73</td>\n",
       "      <td>288</td>\n",
       "      <td>0</td>\n",
       "      <td>3</td>\n",
       "      <td>9</td>\n",
       "      <td>50</td>\n",
       "      <td>41</td>\n",
       "      <td>1</td>\n",
       "    </tr>\n",
       "    <tr>\n",
       "      <th>4</th>\n",
       "      <td>1985</td>\n",
       "      <td>3920</td>\n",
       "      <td>410</td>\n",
       "      <td>0</td>\n",
       "      <td>1</td>\n",
       "      <td>-9</td>\n",
       "      <td>54</td>\n",
       "      <td>63</td>\n",
       "      <td>0</td>\n",
       "    </tr>\n",
       "    <tr>\n",
       "      <th>...</th>\n",
       "      <td>...</td>\n",
       "      <td>...</td>\n",
       "      <td>...</td>\n",
       "      <td>...</td>\n",
       "      <td>...</td>\n",
       "      <td>...</td>\n",
       "      <td>...</td>\n",
       "      <td>...</td>\n",
       "      <td>...</td>\n",
       "    </tr>\n",
       "    <tr>\n",
       "      <th>4229</th>\n",
       "      <td>2017</td>\n",
       "      <td>10120</td>\n",
       "      <td>10696</td>\n",
       "      <td>0</td>\n",
       "      <td>-1</td>\n",
       "      <td>-10</td>\n",
       "      <td>74</td>\n",
       "      <td>84</td>\n",
       "      <td>0</td>\n",
       "    </tr>\n",
       "    <tr>\n",
       "      <th>4230</th>\n",
       "      <td>2017</td>\n",
       "      <td>320</td>\n",
       "      <td>10818</td>\n",
       "      <td>0</td>\n",
       "      <td>9</td>\n",
       "      <td>-2</td>\n",
       "      <td>71</td>\n",
       "      <td>73</td>\n",
       "      <td>0</td>\n",
       "    </tr>\n",
       "    <tr>\n",
       "      <th>4231</th>\n",
       "      <td>2017</td>\n",
       "      <td>2910</td>\n",
       "      <td>10818</td>\n",
       "      <td>0</td>\n",
       "      <td>8</td>\n",
       "      <td>-25</td>\n",
       "      <td>66</td>\n",
       "      <td>91</td>\n",
       "      <td>0</td>\n",
       "    </tr>\n",
       "    <tr>\n",
       "      <th>4232</th>\n",
       "      <td>2017</td>\n",
       "      <td>3300</td>\n",
       "      <td>10818</td>\n",
       "      <td>0</td>\n",
       "      <td>10</td>\n",
       "      <td>24</td>\n",
       "      <td>83</td>\n",
       "      <td>59</td>\n",
       "      <td>1</td>\n",
       "    </tr>\n",
       "    <tr>\n",
       "      <th>4233</th>\n",
       "      <td>2017</td>\n",
       "      <td>4973</td>\n",
       "      <td>10818</td>\n",
       "      <td>0</td>\n",
       "      <td>5</td>\n",
       "      <td>-11</td>\n",
       "      <td>65</td>\n",
       "      <td>76</td>\n",
       "      <td>0</td>\n",
       "    </tr>\n",
       "  </tbody>\n",
       "</table>\n",
       "<p>4234 rows × 9 columns</p>\n",
       "</div>"
      ],
      "text/plain": [
       "      season  team_1  team_2  home  seed_diff  score_diff  score_1  score_2  \\\n",
       "0       1985     288      73     0         -3          -9       41       50   \n",
       "1       1985    5929      73     0          4           6       61       55   \n",
       "2       1985    9884      73     0          5          -4       59       63   \n",
       "3       1985      73     288     0          3           9       50       41   \n",
       "4       1985    3920     410     0          1          -9       54       63   \n",
       "...      ...     ...     ...   ...        ...         ...      ...      ...   \n",
       "4229    2017   10120   10696     0         -1         -10       74       84   \n",
       "4230    2017     320   10818     0          9          -2       71       73   \n",
       "4231    2017    2910   10818     0          8         -25       66       91   \n",
       "4232    2017    3300   10818     0         10          24       83       59   \n",
       "4233    2017    4973   10818     0          5         -11       65       76   \n",
       "\n",
       "      won  \n",
       "0       0  \n",
       "1       1  \n",
       "2       0  \n",
       "3       1  \n",
       "4       0  \n",
       "...   ...  \n",
       "4229    0  \n",
       "4230    0  \n",
       "4231    0  \n",
       "4232    1  \n",
       "4233    0  \n",
       "\n",
       "[4234 rows x 9 columns]"
      ]
     },
     "execution_count": 15,
     "metadata": {},
     "output_type": "execute_result"
    }
   ],
   "source": [
    "games_tourney"
   ]
  },
  {
   "cell_type": "markdown",
   "id": "2bd9fcdd-91d0-4d02-9b53-542a5537e45d",
   "metadata": {
    "tags": []
   },
   "source": [
    "## Enrich the tournament data"
   ]
  },
  {
   "cell_type": "markdown",
   "id": "0c4a65d7-9691-448d-96db-976c34bce70b",
   "metadata": {},
   "source": [
    "Recall that our embedding layer has about 11,000 inputs. 4,000 rows of data is not enough to learn all 11,000 parameters in our embedding layer. In the previous lesson, you built a three-input model on the regular season data. You can re-use this model to add predictions from the regular season model to the tournament dataset. "
   ]
  },
  {
   "cell_type": "markdown",
   "id": "40d577a3-bfc6-4e7d-8973-0311e9bed4f4",
   "metadata": {},
   "source": [
    "You start with the regular season dataset and fit a model to it. You then predict on the tournament dataset, using this model. This gives you predicted tournament outcomes, which you can now use to build a better model of the actual tournament outcomes. You additionally use the tournament seeds when modeling the tournament. These tournament seeds come from a committee, and are intended to, like your model, capture each team's \"strength,\" without using an embedding layer. The tournament seeds can be thought of as a simplified version of your team strength model, determined by a human rather than a computer. "
   ]
  },
  {
   "cell_type": "code",
   "execution_count": 16,
   "id": "e0fb36c6-3be3-4a51-934b-d816b52bc237",
   "metadata": {
    "execution": {
     "iopub.execute_input": "2023-02-14T17:06:39.338133Z",
     "iopub.status.busy": "2023-02-14T17:06:39.338042Z",
     "iopub.status.idle": "2023-02-14T17:06:39.443735Z",
     "shell.execute_reply": "2023-02-14T17:06:39.443464Z",
     "shell.execute_reply.started": "2023-02-14T17:06:39.338125Z"
    },
    "tags": []
   },
   "outputs": [
    {
     "name": "stdout",
     "output_type": "stream",
     "text": [
      "133/133 [==============================] - 0s 289us/step\n"
     ]
    },
    {
     "data": {
      "text/html": [
       "<div>\n",
       "<style scoped>\n",
       "    .dataframe tbody tr th:only-of-type {\n",
       "        vertical-align: middle;\n",
       "    }\n",
       "\n",
       "    .dataframe tbody tr th {\n",
       "        vertical-align: top;\n",
       "    }\n",
       "\n",
       "    .dataframe thead th {\n",
       "        text-align: right;\n",
       "    }\n",
       "</style>\n",
       "<table border=\"1\" class=\"dataframe\">\n",
       "  <thead>\n",
       "    <tr style=\"text-align: right;\">\n",
       "      <th></th>\n",
       "      <th>season</th>\n",
       "      <th>team_1</th>\n",
       "      <th>team_2</th>\n",
       "      <th>home</th>\n",
       "      <th>seed_diff</th>\n",
       "      <th>score_diff</th>\n",
       "      <th>score_1</th>\n",
       "      <th>score_2</th>\n",
       "      <th>won</th>\n",
       "      <th>pred</th>\n",
       "    </tr>\n",
       "  </thead>\n",
       "  <tbody>\n",
       "    <tr>\n",
       "      <th>0</th>\n",
       "      <td>1985</td>\n",
       "      <td>288</td>\n",
       "      <td>73</td>\n",
       "      <td>0</td>\n",
       "      <td>-3</td>\n",
       "      <td>-9</td>\n",
       "      <td>41</td>\n",
       "      <td>50</td>\n",
       "      <td>0</td>\n",
       "      <td>0.094227</td>\n",
       "    </tr>\n",
       "    <tr>\n",
       "      <th>1</th>\n",
       "      <td>1985</td>\n",
       "      <td>5929</td>\n",
       "      <td>73</td>\n",
       "      <td>0</td>\n",
       "      <td>4</td>\n",
       "      <td>6</td>\n",
       "      <td>61</td>\n",
       "      <td>55</td>\n",
       "      <td>1</td>\n",
       "      <td>0.104661</td>\n",
       "    </tr>\n",
       "    <tr>\n",
       "      <th>2</th>\n",
       "      <td>1985</td>\n",
       "      <td>9884</td>\n",
       "      <td>73</td>\n",
       "      <td>0</td>\n",
       "      <td>5</td>\n",
       "      <td>-4</td>\n",
       "      <td>59</td>\n",
       "      <td>63</td>\n",
       "      <td>0</td>\n",
       "      <td>0.083564</td>\n",
       "    </tr>\n",
       "    <tr>\n",
       "      <th>3</th>\n",
       "      <td>1985</td>\n",
       "      <td>73</td>\n",
       "      <td>288</td>\n",
       "      <td>0</td>\n",
       "      <td>3</td>\n",
       "      <td>9</td>\n",
       "      <td>50</td>\n",
       "      <td>41</td>\n",
       "      <td>1</td>\n",
       "      <td>0.111055</td>\n",
       "    </tr>\n",
       "    <tr>\n",
       "      <th>4</th>\n",
       "      <td>1985</td>\n",
       "      <td>3920</td>\n",
       "      <td>410</td>\n",
       "      <td>0</td>\n",
       "      <td>1</td>\n",
       "      <td>-9</td>\n",
       "      <td>54</td>\n",
       "      <td>63</td>\n",
       "      <td>0</td>\n",
       "      <td>0.174674</td>\n",
       "    </tr>\n",
       "  </tbody>\n",
       "</table>\n",
       "</div>"
      ],
      "text/plain": [
       "   season  team_1  team_2  home  seed_diff  score_diff  score_1  score_2  won  \\\n",
       "0    1985     288      73     0         -3          -9       41       50    0   \n",
       "1    1985    5929      73     0          4           6       61       55    1   \n",
       "2    1985    9884      73     0          5          -4       59       63    0   \n",
       "3    1985      73     288     0          3           9       50       41    1   \n",
       "4    1985    3920     410     0          1          -9       54       63    0   \n",
       "\n",
       "       pred  \n",
       "0  0.094227  \n",
       "1  0.104661  \n",
       "2  0.083564  \n",
       "3  0.111055  \n",
       "4  0.174674  "
      ]
     },
     "execution_count": 16,
     "metadata": {},
     "output_type": "execute_result"
    }
   ],
   "source": [
    "in_data_1 = games_tourney['team_1']\n",
    "in_data_2 = games_tourney['team_2']\n",
    "in_data_3 = games_tourney['home']\n",
    "pred = model.predict([in_data_1, in_data_2, in_data_3])\n",
    "games_tourney['pred'] = pred\n",
    "games_tourney.head()"
   ]
  },
  {
   "cell_type": "markdown",
   "id": "a84d45cc-a6d1-49d5-b21b-680bc931fdaa",
   "metadata": {},
   "source": [
    "## 3 input model with pure numeric data"
   ]
  },
  {
   "cell_type": "markdown",
   "id": "eec7b000-cc8a-49ae-a36c-746949a04fbf",
   "metadata": {},
   "source": [
    "The prediction from the regular season model captures the effects of team_1 and team_2, which means you now don't need to use those two variables in the tournament model, and can avoid the use of an embedding layer. You can focus your modeling efforts on the purely numeric data, which is a little easier to work with. With purely numeric inputs, you can pass all of them to a single input layer.\n",
    "\n",
    "In other words, an input layer with a shape of 3 is another way of defining a 3 input model. The only drawback of this approach is that all the inputs must be numeric.\n",
    "\n",
    "A huge advantage of this approach is simplicity. You can create a model with a single input tensor and an output tensor, and fit it using a single dataset. Similarly, evaluating the model requires a single dataset, rather than a list. As you can see, this stacked model is pretty accurate! It's off, on average, by about 9 points in a given game. "
   ]
  },
  {
   "cell_type": "code",
   "execution_count": 17,
   "id": "ffb7cb4b-d290-4ab6-b638-76998d4f156d",
   "metadata": {
    "execution": {
     "iopub.execute_input": "2023-02-14T17:06:39.444237Z",
     "iopub.status.busy": "2023-02-14T17:06:39.444120Z",
     "iopub.status.idle": "2023-02-14T17:06:39.448442Z",
     "shell.execute_reply": "2023-02-14T17:06:39.448189Z",
     "shell.execute_reply.started": "2023-02-14T17:06:39.444226Z"
    },
    "tags": []
   },
   "outputs": [
    {
     "data": {
      "text/html": [
       "<div>\n",
       "<style scoped>\n",
       "    .dataframe tbody tr th:only-of-type {\n",
       "        vertical-align: middle;\n",
       "    }\n",
       "\n",
       "    .dataframe tbody tr th {\n",
       "        vertical-align: top;\n",
       "    }\n",
       "\n",
       "    .dataframe thead th {\n",
       "        text-align: right;\n",
       "    }\n",
       "</style>\n",
       "<table border=\"1\" class=\"dataframe\">\n",
       "  <thead>\n",
       "    <tr style=\"text-align: right;\">\n",
       "      <th></th>\n",
       "      <th>home</th>\n",
       "      <th>seed_diff</th>\n",
       "      <th>pred</th>\n",
       "    </tr>\n",
       "  </thead>\n",
       "  <tbody>\n",
       "    <tr>\n",
       "      <th>0</th>\n",
       "      <td>0</td>\n",
       "      <td>-3</td>\n",
       "      <td>0.094227</td>\n",
       "    </tr>\n",
       "    <tr>\n",
       "      <th>1</th>\n",
       "      <td>0</td>\n",
       "      <td>4</td>\n",
       "      <td>0.104661</td>\n",
       "    </tr>\n",
       "    <tr>\n",
       "      <th>2</th>\n",
       "      <td>0</td>\n",
       "      <td>5</td>\n",
       "      <td>0.083564</td>\n",
       "    </tr>\n",
       "    <tr>\n",
       "      <th>3</th>\n",
       "      <td>0</td>\n",
       "      <td>3</td>\n",
       "      <td>0.111055</td>\n",
       "    </tr>\n",
       "    <tr>\n",
       "      <th>4</th>\n",
       "      <td>0</td>\n",
       "      <td>1</td>\n",
       "      <td>0.174674</td>\n",
       "    </tr>\n",
       "  </tbody>\n",
       "</table>\n",
       "</div>"
      ],
      "text/plain": [
       "   home  seed_diff      pred\n",
       "0     0         -3  0.094227\n",
       "1     0          4  0.104661\n",
       "2     0          5  0.083564\n",
       "3     0          3  0.111055\n",
       "4     0          1  0.174674"
      ]
     },
     "execution_count": 17,
     "metadata": {},
     "output_type": "execute_result"
    }
   ],
   "source": [
    "games_tourney[['home','seed_diff','pred']].head()"
   ]
  },
  {
   "cell_type": "markdown",
   "id": "2263a0cb-efc5-4bf3-84dc-275af5e0bbd2",
   "metadata": {
    "execution": {
     "iopub.execute_input": "2023-02-14T17:04:22.032992Z",
     "iopub.status.busy": "2023-02-14T17:04:22.032879Z",
     "iopub.status.idle": "2023-02-14T17:04:22.702196Z",
     "shell.execute_reply": "2023-02-14T17:04:22.701918Z",
     "shell.execute_reply.started": "2023-02-14T17:04:22.032981Z"
    },
    "tags": []
   },
   "source": [
    "    in_tensor = Input(shape=(3,))\n",
    "    out_tensor = Dense(1)(in_tensor)\n",
    "\n",
    "    model = Model(in_tensor, out_tensor)\n",
    "    model.compile(optimizer='adam', loss='mae')\n",
    "\n",
    "    train_X = train_data[['home','seed_diff','pred']]\n",
    "    train_y = train_data['score_diff']\n",
    "    model.fit(train_X,train_y, epochs=10, validation_split=.10)\n",
    "\n",
    "    test_X = test_data[['home','seed_diff','pred']]\n",
    "    test_y = test_data['score_diff']\n",
    "    model.evaluate(test_X, test_y)"
   ]
  },
  {
   "cell_type": "markdown",
   "id": "da2de99e-5bd1-4cda-b713-8bab19784806",
   "metadata": {},
   "source": [
    "To recap: stacking keras models means using the predictions from one model as an input to a second model. When stacking, it's important to use different datasets for each model. In this case, you use the regular season data for one model and the tournament dataset for the second model. Finally, if your input dataset is purely numeric, you can put multiple inputs in a single input layer. Lets practice using these concepts! "
   ]
  },
  {
   "cell_type": "markdown",
   "id": "f1f90b27-c435-4ad2-9cdf-0e22e9a9a65c",
   "metadata": {},
   "source": [
    "## Exercises"
   ]
  },
  {
   "cell_type": "markdown",
   "id": "8a3991fe-0a73-4fb5-bace-1142b140ec2d",
   "metadata": {},
   "source": [
    "### Add the model predictions to the tournament data\n",
    "\n",
    "In lesson 1 of this chapter, you used the regular season model to make predictions on the tournament dataset, and got pretty good results! Try to improve your predictions for the tournament by modeling it specifically.\n",
    "\n",
    "You'll use the prediction from the regular season model as an input to the tournament model. This is a form of \"model stacking.\"\n",
    "\n",
    "To start, take the regular season model from the previous lesson, and predict on the tournament data. Add this prediction to the tournament data as a new column."
   ]
  },
  {
   "cell_type": "code",
   "execution_count": null,
   "id": "7911ca48-b043-4d7a-8b6d-a4400ab749f0",
   "metadata": {
    "tags": []
   },
   "outputs": [
    {
     "name": "stdout",
     "output_type": "stream",
     "text": [
      "133/133 [==============================] - 0s 322us/step\n"
     ]
    }
   ],
   "source": [
    "# Predict\n",
    "games_tourney['pred'] = model.predict([games_tourney['team_1'], games_tourney['team_2'], games_tourney['home']])"
   ]
  },
  {
   "cell_type": "markdown",
   "id": "65374197-e238-4b2d-a8f7-532e11ccdd8e",
   "metadata": {},
   "source": [
    "Now you can try building a model for the tournament data based on your regular season predictions."
   ]
  },
  {
   "cell_type": "markdown",
   "id": "71c3ba34-deab-4e70-82f1-c80c5ce6e0a4",
   "metadata": {},
   "source": [
    "### Create an input layer with multiple columns\n",
    "\n",
    "In this exercise, you will look at a different way to create models with multiple inputs. This method only works for purely numeric data, but its a much simpler approach to making multi-variate neural networks.\n",
    "\n",
    "Now you have three numeric columns in the tournament dataset: 'seed_diff', 'home', and 'pred'. In this exercise, you will create a neural network that uses a single input layer to process all three of these numeric inputs.\n",
    "\n",
    "This model should have a single output to predict the tournament game score difference."
   ]
  },
  {
   "cell_type": "code",
   "execution_count": 21,
   "id": "2b970c2f-11d0-4495-a99c-6ba9d07faff3",
   "metadata": {
    "execution": {
     "iopub.execute_input": "2023-02-14T17:15:12.392740Z",
     "iopub.status.busy": "2023-02-14T17:15:12.392595Z",
     "iopub.status.idle": "2023-02-14T17:15:12.402290Z",
     "shell.execute_reply": "2023-02-14T17:15:12.401982Z",
     "shell.execute_reply.started": "2023-02-14T17:15:12.392728Z"
    },
    "tags": []
   },
   "outputs": [],
   "source": [
    "# Create an input layer with 3 columns\n",
    "input_tensor = Input((3,))\n",
    "\n",
    "# Pass it to a Dense layer with 1 unit\n",
    "output_tensor = Dense(1)(input_tensor)\n",
    "\n",
    "# Create a model\n",
    "model = Model(input_tensor, output_tensor)\n",
    "\n",
    "# Compile the model\n",
    "model.compile(optimizer='adam', loss='mean_absolute_error')"
   ]
  },
  {
   "cell_type": "markdown",
   "id": "88c011ba-948a-4abd-82c7-9f78b1194858",
   "metadata": {},
   "source": [
    "Now your model is ready to meet some data!"
   ]
  },
  {
   "cell_type": "markdown",
   "id": "d7be8dff-743b-418b-bb9a-bf8115d3ab23",
   "metadata": {},
   "source": [
    "### Fit the model\n",
    "\n",
    "Now that you've enriched the tournament dataset and built a model to make use of the new data, fit that model to the tournament data.\n",
    "\n",
    "Note that this model has only one input layer that is capable of handling all 3 inputs, so it's inputs and outputs do not need to be a list.\n",
    "\n",
    "Tournament games are split into a training set and a test set. The tournament games before 2010 are in the training set, and the ones after 2010 are in the test set."
   ]
  },
  {
   "cell_type": "code",
   "execution_count": 28,
   "id": "7a30a31c-c6ef-44ab-868f-d2e7d037e78b",
   "metadata": {
    "execution": {
     "iopub.execute_input": "2023-02-14T17:21:26.443893Z",
     "iopub.status.busy": "2023-02-14T17:21:26.443754Z",
     "iopub.status.idle": "2023-02-14T17:21:26.446847Z",
     "shell.execute_reply": "2023-02-14T17:21:26.446574Z",
     "shell.execute_reply.started": "2023-02-14T17:21:26.443883Z"
    },
    "tags": []
   },
   "outputs": [],
   "source": [
    "games_tourney_train = games_tourney[games_tourney['season']<2010]\n",
    "games_tourney_test = games_tourney[ games_tourney['season']>=2010]"
   ]
  },
  {
   "cell_type": "code",
   "execution_count": 30,
   "id": "efd2341e-55be-4829-b437-96d892c5323a",
   "metadata": {
    "execution": {
     "iopub.execute_input": "2023-02-14T17:22:22.608708Z",
     "iopub.status.busy": "2023-02-14T17:22:22.608570Z",
     "iopub.status.idle": "2023-02-14T17:22:22.746571Z",
     "shell.execute_reply": "2023-02-14T17:22:22.746288Z",
     "shell.execute_reply.started": "2023-02-14T17:22:22.608696Z"
    },
    "tags": []
   },
   "outputs": [
    {
     "name": "stdout",
     "output_type": "stream",
     "text": [
      "99/99 [==============================] - 0s 325us/step - loss: 9.2064\n"
     ]
    },
    {
     "data": {
      "text/plain": [
       "<keras.callbacks.History at 0x7f7bc01435e0>"
      ]
     },
     "execution_count": 30,
     "metadata": {},
     "output_type": "execute_result"
    }
   ],
   "source": [
    "# Fit the model\n",
    "model.fit(games_tourney_train[['home', 'seed_diff', 'pred']],\n",
    "          games_tourney_train['score_diff'],\n",
    "          epochs=1,\n",
    "          verbose=True)"
   ]
  },
  {
   "cell_type": "markdown",
   "id": "1224b70a-99c1-4d08-8fa7-b341e0d23641",
   "metadata": {},
   "source": [
    "In the next exercise, you'll see if our model is any good!"
   ]
  },
  {
   "cell_type": "markdown",
   "id": "ba1547f6-1452-43b9-a429-ed39b3b362f6",
   "metadata": {
    "tags": []
   },
   "source": [
    "### Evaluate the model\n",
    "\n",
    "Now that you've fit your model to the tournament training data, evaluate it on the tournament test data. Recall that the tournament test data contains games from after 2010."
   ]
  },
  {
   "cell_type": "code",
   "execution_count": 32,
   "id": "d44fb591-6bea-4875-b88d-b3bdf652f6bf",
   "metadata": {
    "execution": {
     "iopub.execute_input": "2023-02-14T17:24:56.711692Z",
     "iopub.status.busy": "2023-02-14T17:24:56.711554Z",
     "iopub.status.idle": "2023-02-14T17:24:56.745899Z",
     "shell.execute_reply": "2023-02-14T17:24:56.745603Z",
     "shell.execute_reply.started": "2023-02-14T17:24:56.711681Z"
    },
    "tags": []
   },
   "outputs": [
    {
     "name": "stdout",
     "output_type": "stream",
     "text": [
      "9.075745582580566\n"
     ]
    }
   ],
   "source": [
    "# Evaluate the model on the games_tourney_test dataset\n",
    "print(model.evaluate(games_tourney_test[['home', 'seed_diff', 'pred']],\n",
    "                     games_tourney_test['score_diff'], verbose=False))"
   ]
  }
 ],
 "metadata": {
  "kernelspec": {
   "display_name": "Python 3 (ipykernel)",
   "language": "python",
   "name": "python3"
  },
  "language_info": {
   "codemirror_mode": {
    "name": "ipython",
    "version": 3
   },
   "file_extension": ".py",
   "mimetype": "text/x-python",
   "name": "python",
   "nbconvert_exporter": "python",
   "pygments_lexer": "ipython3",
   "version": "3.9.15"
  },
  "toc-autonumbering": true
 },
 "nbformat": 4,
 "nbformat_minor": 5
}
