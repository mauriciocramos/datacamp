{
 "cells": [
  {
   "cell_type": "code",
   "execution_count": 1,
   "id": "54b9678b-8f2f-47d8-a247-fecda33bd25e",
   "metadata": {
    "execution": {
     "iopub.execute_input": "2023-01-24T02:33:11.655313Z",
     "iopub.status.busy": "2023-01-24T02:33:11.655228Z",
     "iopub.status.idle": "2023-01-24T02:33:12.640884Z",
     "shell.execute_reply": "2023-01-24T02:33:12.640546Z",
     "shell.execute_reply.started": "2023-01-24T02:33:11.655303Z"
    },
    "tags": []
   },
   "outputs": [
    {
     "name": "stdout",
     "output_type": "stream",
     "text": [
      "2.9.1\n",
      "True\n",
      "[PhysicalDevice(name='/physical_device:GPU:0', device_type='GPU')]\n"
     ]
    }
   ],
   "source": [
    "import os\n",
    "os.environ['TF_CPP_MIN_LOG_LEVEL'] = '1'\n",
    "import tensorflow as tf\n",
    "print(tf.__version__)\n",
    "print(tf.test.is_built_with_cuda())\n",
    "print(tf.config.list_physical_devices('GPU'))"
   ]
  },
  {
   "cell_type": "markdown",
   "id": "d3b110a7-d953-4bf7-9302-f93c381e722e",
   "metadata": {},
   "source": [
    "# Linear Models"
   ]
  },
  {
   "cell_type": "markdown",
   "id": "a22516ca-5e98-41a0-b6f8-bdd3f7c1609a",
   "metadata": {},
   "source": [
    "## Input data"
   ]
  },
  {
   "cell_type": "markdown",
   "id": "2ce59dfa-0cbe-4c66-bf21-c3b2cc259b40",
   "metadata": {},
   "source": [
    "### How to import and convert data"
   ]
  },
  {
   "cell_type": "code",
   "execution_count": 2,
   "id": "7f4afe7c-f9b3-43f1-a261-d071aea20790",
   "metadata": {
    "execution": {
     "iopub.execute_input": "2023-01-24T02:33:12.641769Z",
     "iopub.status.busy": "2023-01-24T02:33:12.641586Z",
     "iopub.status.idle": "2023-01-24T02:33:12.674588Z",
     "shell.execute_reply": "2023-01-24T02:33:12.674282Z",
     "shell.execute_reply.started": "2023-01-24T02:33:12.641758Z"
    },
    "tags": []
   },
   "outputs": [
    {
     "data": {
      "text/html": [
       "<div>\n",
       "<style scoped>\n",
       "    .dataframe tbody tr th:only-of-type {\n",
       "        vertical-align: middle;\n",
       "    }\n",
       "\n",
       "    .dataframe tbody tr th {\n",
       "        vertical-align: top;\n",
       "    }\n",
       "\n",
       "    .dataframe thead th {\n",
       "        text-align: right;\n",
       "    }\n",
       "</style>\n",
       "<table border=\"1\" class=\"dataframe\">\n",
       "  <thead>\n",
       "    <tr style=\"text-align: right;\">\n",
       "      <th></th>\n",
       "      <th>id</th>\n",
       "      <th>date</th>\n",
       "      <th>price</th>\n",
       "      <th>bedrooms</th>\n",
       "      <th>bathrooms</th>\n",
       "      <th>sqft_living</th>\n",
       "      <th>sqft_lot</th>\n",
       "      <th>floors</th>\n",
       "      <th>waterfront</th>\n",
       "      <th>view</th>\n",
       "      <th>...</th>\n",
       "      <th>grade</th>\n",
       "      <th>sqft_above</th>\n",
       "      <th>sqft_basement</th>\n",
       "      <th>yr_built</th>\n",
       "      <th>yr_renovated</th>\n",
       "      <th>zipcode</th>\n",
       "      <th>lat</th>\n",
       "      <th>long</th>\n",
       "      <th>sqft_living15</th>\n",
       "      <th>sqft_lot15</th>\n",
       "    </tr>\n",
       "  </thead>\n",
       "  <tbody>\n",
       "    <tr>\n",
       "      <th>0</th>\n",
       "      <td>7129300520</td>\n",
       "      <td>20141013T000000</td>\n",
       "      <td>221900.0</td>\n",
       "      <td>3</td>\n",
       "      <td>1.00</td>\n",
       "      <td>1180</td>\n",
       "      <td>5650</td>\n",
       "      <td>1.0</td>\n",
       "      <td>0</td>\n",
       "      <td>0</td>\n",
       "      <td>...</td>\n",
       "      <td>7</td>\n",
       "      <td>1180</td>\n",
       "      <td>0</td>\n",
       "      <td>1955</td>\n",
       "      <td>0</td>\n",
       "      <td>98178</td>\n",
       "      <td>47.5112</td>\n",
       "      <td>-122.257</td>\n",
       "      <td>1340</td>\n",
       "      <td>5650</td>\n",
       "    </tr>\n",
       "    <tr>\n",
       "      <th>1</th>\n",
       "      <td>6414100192</td>\n",
       "      <td>20141209T000000</td>\n",
       "      <td>538000.0</td>\n",
       "      <td>3</td>\n",
       "      <td>2.25</td>\n",
       "      <td>2570</td>\n",
       "      <td>7242</td>\n",
       "      <td>2.0</td>\n",
       "      <td>0</td>\n",
       "      <td>0</td>\n",
       "      <td>...</td>\n",
       "      <td>7</td>\n",
       "      <td>2170</td>\n",
       "      <td>400</td>\n",
       "      <td>1951</td>\n",
       "      <td>1991</td>\n",
       "      <td>98125</td>\n",
       "      <td>47.7210</td>\n",
       "      <td>-122.319</td>\n",
       "      <td>1690</td>\n",
       "      <td>7639</td>\n",
       "    </tr>\n",
       "    <tr>\n",
       "      <th>2</th>\n",
       "      <td>5631500400</td>\n",
       "      <td>20150225T000000</td>\n",
       "      <td>180000.0</td>\n",
       "      <td>2</td>\n",
       "      <td>1.00</td>\n",
       "      <td>770</td>\n",
       "      <td>10000</td>\n",
       "      <td>1.0</td>\n",
       "      <td>0</td>\n",
       "      <td>0</td>\n",
       "      <td>...</td>\n",
       "      <td>6</td>\n",
       "      <td>770</td>\n",
       "      <td>0</td>\n",
       "      <td>1933</td>\n",
       "      <td>0</td>\n",
       "      <td>98028</td>\n",
       "      <td>47.7379</td>\n",
       "      <td>-122.233</td>\n",
       "      <td>2720</td>\n",
       "      <td>8062</td>\n",
       "    </tr>\n",
       "    <tr>\n",
       "      <th>3</th>\n",
       "      <td>2487200875</td>\n",
       "      <td>20141209T000000</td>\n",
       "      <td>604000.0</td>\n",
       "      <td>4</td>\n",
       "      <td>3.00</td>\n",
       "      <td>1960</td>\n",
       "      <td>5000</td>\n",
       "      <td>1.0</td>\n",
       "      <td>0</td>\n",
       "      <td>0</td>\n",
       "      <td>...</td>\n",
       "      <td>7</td>\n",
       "      <td>1050</td>\n",
       "      <td>910</td>\n",
       "      <td>1965</td>\n",
       "      <td>0</td>\n",
       "      <td>98136</td>\n",
       "      <td>47.5208</td>\n",
       "      <td>-122.393</td>\n",
       "      <td>1360</td>\n",
       "      <td>5000</td>\n",
       "    </tr>\n",
       "    <tr>\n",
       "      <th>4</th>\n",
       "      <td>1954400510</td>\n",
       "      <td>20150218T000000</td>\n",
       "      <td>510000.0</td>\n",
       "      <td>3</td>\n",
       "      <td>2.00</td>\n",
       "      <td>1680</td>\n",
       "      <td>8080</td>\n",
       "      <td>1.0</td>\n",
       "      <td>0</td>\n",
       "      <td>0</td>\n",
       "      <td>...</td>\n",
       "      <td>8</td>\n",
       "      <td>1680</td>\n",
       "      <td>0</td>\n",
       "      <td>1987</td>\n",
       "      <td>0</td>\n",
       "      <td>98074</td>\n",
       "      <td>47.6168</td>\n",
       "      <td>-122.045</td>\n",
       "      <td>1800</td>\n",
       "      <td>7503</td>\n",
       "    </tr>\n",
       "    <tr>\n",
       "      <th>...</th>\n",
       "      <td>...</td>\n",
       "      <td>...</td>\n",
       "      <td>...</td>\n",
       "      <td>...</td>\n",
       "      <td>...</td>\n",
       "      <td>...</td>\n",
       "      <td>...</td>\n",
       "      <td>...</td>\n",
       "      <td>...</td>\n",
       "      <td>...</td>\n",
       "      <td>...</td>\n",
       "      <td>...</td>\n",
       "      <td>...</td>\n",
       "      <td>...</td>\n",
       "      <td>...</td>\n",
       "      <td>...</td>\n",
       "      <td>...</td>\n",
       "      <td>...</td>\n",
       "      <td>...</td>\n",
       "      <td>...</td>\n",
       "      <td>...</td>\n",
       "    </tr>\n",
       "    <tr>\n",
       "      <th>21608</th>\n",
       "      <td>263000018</td>\n",
       "      <td>20140521T000000</td>\n",
       "      <td>360000.0</td>\n",
       "      <td>3</td>\n",
       "      <td>2.50</td>\n",
       "      <td>1530</td>\n",
       "      <td>1131</td>\n",
       "      <td>3.0</td>\n",
       "      <td>0</td>\n",
       "      <td>0</td>\n",
       "      <td>...</td>\n",
       "      <td>8</td>\n",
       "      <td>1530</td>\n",
       "      <td>0</td>\n",
       "      <td>2009</td>\n",
       "      <td>0</td>\n",
       "      <td>98103</td>\n",
       "      <td>47.6993</td>\n",
       "      <td>-122.346</td>\n",
       "      <td>1530</td>\n",
       "      <td>1509</td>\n",
       "    </tr>\n",
       "    <tr>\n",
       "      <th>21609</th>\n",
       "      <td>6600060120</td>\n",
       "      <td>20150223T000000</td>\n",
       "      <td>400000.0</td>\n",
       "      <td>4</td>\n",
       "      <td>2.50</td>\n",
       "      <td>2310</td>\n",
       "      <td>5813</td>\n",
       "      <td>2.0</td>\n",
       "      <td>0</td>\n",
       "      <td>0</td>\n",
       "      <td>...</td>\n",
       "      <td>8</td>\n",
       "      <td>2310</td>\n",
       "      <td>0</td>\n",
       "      <td>2014</td>\n",
       "      <td>0</td>\n",
       "      <td>98146</td>\n",
       "      <td>47.5107</td>\n",
       "      <td>-122.362</td>\n",
       "      <td>1830</td>\n",
       "      <td>7200</td>\n",
       "    </tr>\n",
       "    <tr>\n",
       "      <th>21610</th>\n",
       "      <td>1523300141</td>\n",
       "      <td>20140623T000000</td>\n",
       "      <td>402101.0</td>\n",
       "      <td>2</td>\n",
       "      <td>0.75</td>\n",
       "      <td>1020</td>\n",
       "      <td>1350</td>\n",
       "      <td>2.0</td>\n",
       "      <td>0</td>\n",
       "      <td>0</td>\n",
       "      <td>...</td>\n",
       "      <td>7</td>\n",
       "      <td>1020</td>\n",
       "      <td>0</td>\n",
       "      <td>2009</td>\n",
       "      <td>0</td>\n",
       "      <td>98144</td>\n",
       "      <td>47.5944</td>\n",
       "      <td>-122.299</td>\n",
       "      <td>1020</td>\n",
       "      <td>2007</td>\n",
       "    </tr>\n",
       "    <tr>\n",
       "      <th>21611</th>\n",
       "      <td>291310100</td>\n",
       "      <td>20150116T000000</td>\n",
       "      <td>400000.0</td>\n",
       "      <td>3</td>\n",
       "      <td>2.50</td>\n",
       "      <td>1600</td>\n",
       "      <td>2388</td>\n",
       "      <td>2.0</td>\n",
       "      <td>0</td>\n",
       "      <td>0</td>\n",
       "      <td>...</td>\n",
       "      <td>8</td>\n",
       "      <td>1600</td>\n",
       "      <td>0</td>\n",
       "      <td>2004</td>\n",
       "      <td>0</td>\n",
       "      <td>98027</td>\n",
       "      <td>47.5345</td>\n",
       "      <td>-122.069</td>\n",
       "      <td>1410</td>\n",
       "      <td>1287</td>\n",
       "    </tr>\n",
       "    <tr>\n",
       "      <th>21612</th>\n",
       "      <td>1523300157</td>\n",
       "      <td>20141015T000000</td>\n",
       "      <td>325000.0</td>\n",
       "      <td>2</td>\n",
       "      <td>0.75</td>\n",
       "      <td>1020</td>\n",
       "      <td>1076</td>\n",
       "      <td>2.0</td>\n",
       "      <td>0</td>\n",
       "      <td>0</td>\n",
       "      <td>...</td>\n",
       "      <td>7</td>\n",
       "      <td>1020</td>\n",
       "      <td>0</td>\n",
       "      <td>2008</td>\n",
       "      <td>0</td>\n",
       "      <td>98144</td>\n",
       "      <td>47.5941</td>\n",
       "      <td>-122.299</td>\n",
       "      <td>1020</td>\n",
       "      <td>1357</td>\n",
       "    </tr>\n",
       "  </tbody>\n",
       "</table>\n",
       "<p>21613 rows × 21 columns</p>\n",
       "</div>"
      ],
      "text/plain": [
       "               id             date     price  bedrooms  bathrooms  \\\n",
       "0      7129300520  20141013T000000  221900.0         3       1.00   \n",
       "1      6414100192  20141209T000000  538000.0         3       2.25   \n",
       "2      5631500400  20150225T000000  180000.0         2       1.00   \n",
       "3      2487200875  20141209T000000  604000.0         4       3.00   \n",
       "4      1954400510  20150218T000000  510000.0         3       2.00   \n",
       "...           ...              ...       ...       ...        ...   \n",
       "21608   263000018  20140521T000000  360000.0         3       2.50   \n",
       "21609  6600060120  20150223T000000  400000.0         4       2.50   \n",
       "21610  1523300141  20140623T000000  402101.0         2       0.75   \n",
       "21611   291310100  20150116T000000  400000.0         3       2.50   \n",
       "21612  1523300157  20141015T000000  325000.0         2       0.75   \n",
       "\n",
       "       sqft_living  sqft_lot  floors  waterfront  view  ...  grade  \\\n",
       "0             1180      5650     1.0           0     0  ...      7   \n",
       "1             2570      7242     2.0           0     0  ...      7   \n",
       "2              770     10000     1.0           0     0  ...      6   \n",
       "3             1960      5000     1.0           0     0  ...      7   \n",
       "4             1680      8080     1.0           0     0  ...      8   \n",
       "...            ...       ...     ...         ...   ...  ...    ...   \n",
       "21608         1530      1131     3.0           0     0  ...      8   \n",
       "21609         2310      5813     2.0           0     0  ...      8   \n",
       "21610         1020      1350     2.0           0     0  ...      7   \n",
       "21611         1600      2388     2.0           0     0  ...      8   \n",
       "21612         1020      1076     2.0           0     0  ...      7   \n",
       "\n",
       "       sqft_above  sqft_basement  yr_built  yr_renovated  zipcode      lat  \\\n",
       "0            1180              0      1955             0    98178  47.5112   \n",
       "1            2170            400      1951          1991    98125  47.7210   \n",
       "2             770              0      1933             0    98028  47.7379   \n",
       "3            1050            910      1965             0    98136  47.5208   \n",
       "4            1680              0      1987             0    98074  47.6168   \n",
       "...           ...            ...       ...           ...      ...      ...   \n",
       "21608        1530              0      2009             0    98103  47.6993   \n",
       "21609        2310              0      2014             0    98146  47.5107   \n",
       "21610        1020              0      2009             0    98144  47.5944   \n",
       "21611        1600              0      2004             0    98027  47.5345   \n",
       "21612        1020              0      2008             0    98144  47.5941   \n",
       "\n",
       "          long  sqft_living15  sqft_lot15  \n",
       "0     -122.257           1340        5650  \n",
       "1     -122.319           1690        7639  \n",
       "2     -122.233           2720        8062  \n",
       "3     -122.393           1360        5000  \n",
       "4     -122.045           1800        7503  \n",
       "...        ...            ...         ...  \n",
       "21608 -122.346           1530        1509  \n",
       "21609 -122.362           1830        7200  \n",
       "21610 -122.299           1020        2007  \n",
       "21611 -122.069           1410        1287  \n",
       "21612 -122.299           1020        1357  \n",
       "\n",
       "[21613 rows x 21 columns]"
      ]
     },
     "execution_count": 2,
     "metadata": {},
     "output_type": "execute_result"
    }
   ],
   "source": [
    "# Import numpy and pandas\n",
    "import numpy as np\n",
    "import pandas as pd\n",
    "# Load data from csv\n",
    "housing = pd.read_csv('kc_house_data.csv')\n",
    "housing"
   ]
  },
  {
   "cell_type": "markdown",
   "id": "e9caf6af-0f3d-4b1e-8283-8fefde3a71e2",
   "metadata": {},
   "source": [
    "### Setting the data type"
   ]
  },
  {
   "cell_type": "code",
   "execution_count": 3,
   "id": "ae3d9ec9-914a-43f9-87d1-316b5270ef86",
   "metadata": {
    "execution": {
     "iopub.execute_input": "2023-01-24T02:33:12.675083Z",
     "iopub.status.busy": "2023-01-24T02:33:12.674971Z",
     "iopub.status.idle": "2023-01-24T02:33:12.678267Z",
     "shell.execute_reply": "2023-01-24T02:33:12.678008Z",
     "shell.execute_reply.started": "2023-01-24T02:33:12.675073Z"
    },
    "tags": []
   },
   "outputs": [
    {
     "data": {
      "text/plain": [
       "((21613,),\n",
       " array([221900., 538000., 180000., ..., 402101., 400000., 325000.],\n",
       "       dtype=float32))"
      ]
     },
     "execution_count": 3,
     "metadata": {},
     "output_type": "execute_result"
    }
   ],
   "source": [
    "# Convert price column to float32\n",
    "price = np.array(housing['price'], np.float32)\n",
    "price.shape, price"
   ]
  },
  {
   "cell_type": "code",
   "execution_count": 4,
   "id": "a6bbba5c-424f-4279-beb5-2846b68ec05d",
   "metadata": {
    "execution": {
     "iopub.execute_input": "2023-01-24T02:33:12.678757Z",
     "iopub.status.busy": "2023-01-24T02:33:12.678654Z",
     "iopub.status.idle": "2023-01-24T02:33:13.049748Z",
     "shell.execute_reply": "2023-01-24T02:33:13.049347Z",
     "shell.execute_reply.started": "2023-01-24T02:33:12.678747Z"
    },
    "tags": []
   },
   "outputs": [
    {
     "data": {
      "text/plain": [
       "<tf.Tensor: shape=(21613,), dtype=float32, numpy=\n",
       "array([221900., 538000., 180000., ..., 402101., 400000., 325000.],\n",
       "      dtype=float32)>"
      ]
     },
     "execution_count": 4,
     "metadata": {},
     "output_type": "execute_result"
    }
   ],
   "source": [
    "# Convert price column to float32 tensor\n",
    "price = tf.cast(housing['price'], tf.float32)\n",
    "price"
   ]
  },
  {
   "cell_type": "code",
   "execution_count": 5,
   "id": "469d497e-741e-44f4-babc-596fe85a9e0c",
   "metadata": {
    "execution": {
     "iopub.execute_input": "2023-01-24T02:33:13.050210Z",
     "iopub.status.busy": "2023-01-24T02:33:13.050108Z",
     "iopub.status.idle": "2023-01-24T02:33:13.052971Z",
     "shell.execute_reply": "2023-01-24T02:33:13.052711Z",
     "shell.execute_reply.started": "2023-01-24T02:33:13.050200Z"
    },
    "tags": []
   },
   "outputs": [
    {
     "data": {
      "text/plain": [
       "((21613,), array([False, False, False, ..., False, False, False]))"
      ]
     },
     "execution_count": 5,
     "metadata": {},
     "output_type": "execute_result"
    }
   ],
   "source": [
    "# Convert waterfront column to Boolean\n",
    "waterfront = np.array(housing['waterfront'], 'bool')\n",
    "waterfront.shape, waterfront"
   ]
  },
  {
   "cell_type": "code",
   "execution_count": 6,
   "id": "879093a6-a2bf-4249-bcc6-23bd5159507c",
   "metadata": {
    "execution": {
     "iopub.execute_input": "2023-01-24T02:33:13.053461Z",
     "iopub.status.busy": "2023-01-24T02:33:13.053355Z",
     "iopub.status.idle": "2023-01-24T02:33:13.056228Z",
     "shell.execute_reply": "2023-01-24T02:33:13.055975Z",
     "shell.execute_reply.started": "2023-01-24T02:33:13.053451Z"
    },
    "tags": []
   },
   "outputs": [
    {
     "data": {
      "text/plain": [
       "<tf.Tensor: shape=(21613,), dtype=bool, numpy=array([False, False, False, ..., False, False, False])>"
      ]
     },
     "execution_count": 6,
     "metadata": {},
     "output_type": "execute_result"
    }
   ],
   "source": [
    "# Convert waterfront column to Boolean tensor\n",
    "waterfront = tf.cast(housing['waterfront'], tf.bool)\n",
    "waterfront"
   ]
  },
  {
   "cell_type": "markdown",
   "id": "167f5990-70e0-48bc-8f42-cb854fe8363f",
   "metadata": {},
   "source": [
    "## Loss functions"
   ]
  },
  {
   "cell_type": "markdown",
   "id": "97658808-67d1-4aac-a219-5959d80f1c89",
   "metadata": {
    "tags": []
   },
   "source": [
    "### Why do we care about loss functions?\n",
    "* MSE\n",
    "    * Strongly penalizes outliers\n",
    "    * High (gradient) sensitivity near minimum\n",
    "* MAE\n",
    "    * Scales linearly with size of error\n",
    "    * Low sensitivity near minimum\n",
    "* Huber\n",
    "    * Similar to MSE near minimum\n",
    "    * Similar to MAE away from minimum\n",
    "\n",
    "> For greater sensitivity near the minimum, you will want to use the MSE or Huber loss.  \n",
    "> To minimize the impact of outliers, you will want to use the MAE or Huber loss. "
   ]
  },
  {
   "cell_type": "markdown",
   "id": "71a70d8f-7fae-4852-9d3f-cd408203ac30",
   "metadata": {},
   "source": [
    "### Defining a loss function"
   ]
  },
  {
   "cell_type": "code",
   "execution_count": 7,
   "id": "eed0dc2a-8101-479f-bd2d-674748fd7628",
   "metadata": {
    "execution": {
     "iopub.execute_input": "2023-01-24T02:33:13.057369Z",
     "iopub.status.busy": "2023-01-24T02:33:13.057264Z",
     "iopub.status.idle": "2023-01-24T02:33:13.059743Z",
     "shell.execute_reply": "2023-01-24T02:33:13.059392Z",
     "shell.execute_reply.started": "2023-01-24T02:33:13.057359Z"
    },
    "tags": []
   },
   "outputs": [],
   "source": [
    "# Define a linear regression model\n",
    "def linear_regression(intercept, slope, features):\n",
    "    return intercept + features * slope\n",
    "\n",
    "# Define a loss function to compute the MSE\n",
    "def loss_function(intercept, slope, targets, features):\n",
    "    # Compute the predictions for a linear model\n",
    "    predictions = linear_regression(intercept, slope)\n",
    "    # Return the loss\n",
    "    return tf.keras.losses.mse(targets, predictions)"
   ]
  },
  {
   "cell_type": "markdown",
   "id": "f1677404-2de6-49b2-a4d9-df7c250dc101",
   "metadata": {},
   "source": [
    "## Linear regression"
   ]
  },
  {
   "cell_type": "markdown",
   "id": "caa1c720-a56f-43ba-9a28-d83acfb4be6b",
   "metadata": {},
   "source": [
    "### What is a linear regression?"
   ]
  },
  {
   "cell_type": "markdown",
   "id": "7c440ad4-9956-43aa-9331-b6758731b0ca",
   "metadata": {},
   "source": [
    "> Note that we've actually plotted the relationship after taking the natural logarithm of each variable, which is useful when we suspect that the relationship is proportional.  That is, we might expect an x percent increase in size to be associated with a y percent increase in price."
   ]
  },
  {
   "cell_type": "code",
   "execution_count": 8,
   "id": "ada7ec7a-e271-4017-b20d-f640901433b9",
   "metadata": {
    "execution": {
     "iopub.execute_input": "2023-01-24T02:33:13.060332Z",
     "iopub.status.busy": "2023-01-24T02:33:13.060215Z",
     "iopub.status.idle": "2023-01-24T02:33:14.290071Z",
     "shell.execute_reply": "2023-01-24T02:33:14.289815Z",
     "shell.execute_reply.started": "2023-01-24T02:33:13.060322Z"
    },
    "tags": []
   },
   "outputs": [
    {
     "data": {
      "image/png": "[encoded data removed]",
      "text/plain": [
       "<Figure size 1000x500 with 2 Axes>"
      ]
     },
     "metadata": {},
     "output_type": "display_data"
    }
   ],
   "source": [
    "import matplotlib.pyplot as plt\n",
    "plt.style.use('dark_background')\n",
    "import seaborn as sns\n",
    "plt.figure(figsize=(10,5))\n",
    "plt.subplot(1,2,1)\n",
    "sns.regplot(data=None, x=housing['sqft_lot'], y=housing['price'], line_kws={\"color\": \"red\"})\n",
    "plt.xlabel('size'); plt.ylabel('price')\n",
    "plt.subplot(1,2,2)\n",
    "sns.regplot(data=None, x=np.log(housing['sqft_lot']), y=np.log(housing['price']), line_kws={\"color\": \"red\"})\n",
    "plt.xlabel('log(size)'); plt.ylabel('log(price)')\n",
    "plt.tight_layout()\n",
    "plt.show()"
   ]
  },
  {
   "cell_type": "markdown",
   "id": "54d8dfd5-6b1e-4a85-b4a4-ec106d4c0649",
   "metadata": {},
   "source": [
    "> In our case, we've assumed that the relationship is linear after taking natural logarithms. "
   ]
  },
  {
   "cell_type": "markdown",
   "id": "db14a714-c3ed-43c2-a822-39545be15384",
   "metadata": {
    "execution": {
     "iopub.execute_input": "2023-01-16T20:25:45.222399Z",
     "iopub.status.busy": "2023-01-16T20:25:45.222248Z",
     "iopub.status.idle": "2023-01-16T20:25:45.225009Z",
     "shell.execute_reply": "2023-01-16T20:25:45.224674Z",
     "shell.execute_reply.started": "2023-01-16T20:25:45.222388Z"
    }
   },
   "source": [
    "* A linear regression model assumes a linear relationship:\n",
    "    * $ price = intercept + size \\times slope + error$\n",
    "* This is an example of a univariate regression.\n",
    "    * There is only one feature, size .\n",
    "* Multiple regression models have more than one feature.\n",
    "    * E.g. size and location"
   ]
  },
  {
   "cell_type": "markdown",
   "id": "643b4702-f210-49a2-98c6-831aa24158f9",
   "metadata": {},
   "source": [
    "### Linear regression in TensorFlow"
   ]
  },
  {
   "cell_type": "code",
   "execution_count": 9,
   "id": "f8e2dd78-0360-44cb-a05c-6538f37004b9",
   "metadata": {
    "execution": {
     "iopub.execute_input": "2023-01-24T02:33:14.290648Z",
     "iopub.status.busy": "2023-01-24T02:33:14.290444Z",
     "iopub.status.idle": "2023-01-24T02:33:14.293162Z",
     "shell.execute_reply": "2023-01-24T02:33:14.292742Z",
     "shell.execute_reply.started": "2023-01-24T02:33:14.290637Z"
    },
    "tags": []
   },
   "outputs": [],
   "source": [
    "# Define the targets and features\n",
    "size_log = np.log(np.array(housing['sqft_lot'], np.float32))\n",
    "price_log = np.log(np.array(housing['price'], np.float32))"
   ]
  },
  {
   "cell_type": "code",
   "execution_count": 10,
   "id": "cf2bf7a8-1231-48e9-9c41-ef00b84581e7",
   "metadata": {
    "execution": {
     "iopub.execute_input": "2023-01-24T02:33:14.293740Z",
     "iopub.status.busy": "2023-01-24T02:33:14.293626Z",
     "iopub.status.idle": "2023-01-24T02:33:14.297526Z",
     "shell.execute_reply": "2023-01-24T02:33:14.297266Z",
     "shell.execute_reply.started": "2023-01-24T02:33:14.293730Z"
    },
    "tags": []
   },
   "outputs": [
    {
     "data": {
      "text/plain": [
       "(<tf.Variable 'Variable:0' shape=() dtype=float32, numpy=5.0>,\n",
       " <tf.Variable 'Variable:0' shape=() dtype=float32, numpy=0.001>)"
      ]
     },
     "execution_count": 10,
     "metadata": {},
     "output_type": "execute_result"
    }
   ],
   "source": [
    "# Initialize the intercept and slope variables\n",
    "intercept = tf.Variable(5.0, np.float32)\n",
    "slope = tf.Variable(0.001, np.float32)\n",
    "intercept, slope"
   ]
  },
  {
   "cell_type": "code",
   "execution_count": 11,
   "id": "e43baf3a-6878-4da0-9303-37e9987d94db",
   "metadata": {
    "execution": {
     "iopub.execute_input": "2023-01-24T02:33:14.297978Z",
     "iopub.status.busy": "2023-01-24T02:33:14.297875Z",
     "iopub.status.idle": "2023-01-24T02:33:14.302435Z",
     "shell.execute_reply": "2023-01-24T02:33:14.302150Z",
     "shell.execute_reply.started": "2023-01-24T02:33:14.297967Z"
    },
    "tags": []
   },
   "outputs": [
    {
     "name": "stdout",
     "output_type": "stream",
     "text": [
      "145.44653\n",
      "71.866\n"
     ]
    }
   ],
   "source": [
    "# Define a linear regression model\n",
    "def linear_regression(intercept, slope, features = size_log):\n",
    "\treturn intercept + slope * features\n",
    "\n",
    "# Set loss_function() to take the variables as arguments\n",
    "def loss_function(intercept, slope, features, targets):\n",
    "\t# Set the predicted values\n",
    "\tpredictions = linear_regression(intercept=intercept, slope=slope, features=features)\n",
    "    \n",
    "    # Return the mean squared error loss\n",
    "\treturn tf.keras.losses.mse(y_true=targets, y_pred=predictions)\n",
    "\n",
    "# Compute the loss for different slope and intercept values\n",
    "print(loss_function(intercept=0.1, slope=0.1, features=size_log, targets=price_log).numpy())\n",
    "print(loss_function(intercept=0.1, slope=0.5, features=size_log, targets=price_log).numpy())"
   ]
  },
  {
   "cell_type": "code",
   "execution_count": 12,
   "id": "2c831c33-7e8f-4105-9867-23745e090095",
   "metadata": {
    "execution": {
     "iopub.execute_input": "2023-01-24T02:33:14.303041Z",
     "iopub.status.busy": "2023-01-24T02:33:14.302815Z",
     "iopub.status.idle": "2023-01-24T02:33:14.305251Z",
     "shell.execute_reply": "2023-01-24T02:33:14.304966Z",
     "shell.execute_reply.started": "2023-01-24T02:33:14.303030Z"
    },
    "tags": []
   },
   "outputs": [],
   "source": [
    "def plot_results(intercept, slope):\n",
    "\t# size_range = np.linspace(6,14,100)\n",
    "\t# price_pred = [intercept+slope*s for s in size_range]\n",
    "\tprice_pred = [intercept + slope * size for size in size_log]\n",
    "\tplt.scatter(size_log, price_log, color = 'gray')\n",
    "\t# plt.plot(size_range, price_pred, linewidth=3.0, color='red')\n",
    "\tplt.plot(size_log, price_pred, linewidth=3.0, color='red')\n",
    "\tplt.xlabel('log(size)')\n",
    "\tplt.ylabel('log(price)')\n",
    "\tplt.title('Scatterplot of data and fitted regression line')\n",
    "\tplt.show()"
   ]
  },
  {
   "cell_type": "code",
   "execution_count": 13,
   "id": "79d79913-c8b6-42a6-8d83-77d6d7e6f121",
   "metadata": {
    "execution": {
     "iopub.execute_input": "2023-01-24T02:33:14.305893Z",
     "iopub.status.busy": "2023-01-24T02:33:14.305646Z",
     "iopub.status.idle": "2023-01-24T02:33:14.307603Z",
     "shell.execute_reply": "2023-01-24T02:33:14.307272Z",
     "shell.execute_reply.started": "2023-01-24T02:33:14.305881Z"
    }
   },
   "outputs": [],
   "source": [
    "# Initialize an Adam optimizer with 0.5 learning rate\n",
    "opt = tf.keras.optimizers.Adam(0.5)"
   ]
  },
  {
   "cell_type": "code",
   "execution_count": 14,
   "id": "bdfaed9b-9724-45f8-ae57-ac98601c8da4",
   "metadata": {
    "execution": {
     "iopub.execute_input": "2023-01-24T02:33:14.308453Z",
     "iopub.status.busy": "2023-01-24T02:33:14.308172Z",
     "iopub.status.idle": "2023-01-24T02:33:14.501333Z",
     "shell.execute_reply": "2023-01-24T02:33:14.500965Z",
     "shell.execute_reply.started": "2023-01-24T02:33:14.308440Z"
    },
    "tags": []
   },
   "outputs": [
    {
     "name": "stdout",
     "output_type": "stream",
     "text": [
      "j=10 intercept=5.5283522605896, slope=0.4754737913608551, loss=10.929107666015625\n",
      "j=20 intercept=6.075632095336914, slope=0.9313344359397888, loss=2.823115825653076\n",
      "j=30 intercept=6.093385696411133, slope=0.8380051851272583, loss=1.0750147104263306\n",
      "j=40 intercept=6.078200817108154, slope=0.6951261162757874, loss=1.0989338159561157\n",
      "j=50 intercept=6.240671634674072, slope=0.7161364555358887, loss=0.7375045418739319\n",
      "j=60 intercept=6.419623374938965, slope=0.7418065071105957, loss=0.6300281286239624\n",
      "j=70 intercept=6.57301664352417, slope=0.7319847345352173, loss=0.6290514469146729\n",
      "j=80 intercept=6.721395492553711, slope=0.7089128494262695, loss=0.5960037708282471\n",
      "j=90 intercept=6.876579284667969, slope=0.685921311378479, loss=0.5707435011863708\n",
      "j=100 intercept=7.039300918579102, slope=0.6650958061218262, loss=0.5513952374458313\n"
     ]
    }
   ],
   "source": [
    "for j in range(1, 101):\n",
    "\t# Apply minimize, pass the loss function, and supply the variables\n",
    "\topt.minimize(lambda: loss_function(intercept=intercept, slope=slope, features=size_log, targets=price_log), var_list=[intercept, slope])\n",
    " \t# Print every 10th value of the loss\n",
    "\tif j % 10 == 0:\n",
    "\t\tprint(f'{j=} intercept={intercept.numpy()}, slope={slope.numpy()}, loss={loss_function(intercept, slope, features=size_log, targets=price_log).numpy()}')"
   ]
  },
  {
   "cell_type": "code",
   "execution_count": 15,
   "id": "40584ab2-b9c8-40a3-8c4e-50f683524163",
   "metadata": {
    "execution": {
     "iopub.execute_input": "2023-01-24T02:33:14.501857Z",
     "iopub.status.busy": "2023-01-24T02:33:14.501736Z",
     "iopub.status.idle": "2023-01-24T02:33:14.504764Z",
     "shell.execute_reply": "2023-01-24T02:33:14.504465Z",
     "shell.execute_reply.started": "2023-01-24T02:33:14.501843Z"
    }
   },
   "outputs": [
    {
     "data": {
      "text/plain": [
       "(<tf.Variable 'Variable:0' shape=() dtype=float32, numpy=7.039301>,\n",
       " <tf.Variable 'Variable:0' shape=() dtype=float32, numpy=0.6650958>)"
      ]
     },
     "execution_count": 15,
     "metadata": {},
     "output_type": "execute_result"
    }
   ],
   "source": [
    "intercept, slope"
   ]
  },
  {
   "cell_type": "code",
   "execution_count": 16,
   "id": "ebb937f8-4d3e-403c-82e2-f5f4d9a5e70f",
   "metadata": {
    "execution": {
     "iopub.execute_input": "2023-01-24T02:33:14.505284Z",
     "iopub.status.busy": "2023-01-24T02:33:14.505149Z",
     "iopub.status.idle": "2023-01-24T02:33:17.950859Z",
     "shell.execute_reply": "2023-01-24T02:33:17.950511Z",
     "shell.execute_reply.started": "2023-01-24T02:33:14.505273Z"
    },
    "tags": []
   },
   "outputs": [
    {
     "data": {
      "image/png": "[encoded data removed]",
      "text/plain": [
       "<Figure size 640x480 with 1 Axes>"
      ]
     },
     "metadata": {},
     "output_type": "display_data"
    }
   ],
   "source": [
    "# Plot data and regression line\n",
    "plot_results(intercept, slope)"
   ]
  },
  {
   "cell_type": "markdown",
   "id": "353ecf6a-f348-4e37-9f13-037e122c0e0d",
   "metadata": {},
   "source": [
    "### Multiple linear regression"
   ]
  },
  {
   "cell_type": "code",
   "execution_count": 86,
   "id": "fd8a1e3f-c966-4397-949b-ac1a47e88e86",
   "metadata": {
    "tags": []
   },
   "outputs": [],
   "source": [
    "size_log = np.log(np.array(housing['sqft_lot'], np.float32))\n",
    "price_log = np.log(np.array(housing['price'], np.float32))\n",
    "bedrooms = np.array(housing.bedrooms, np.float32)"
   ]
  },
  {
   "cell_type": "markdown",
   "id": "8ea43175-8e26-4d2b-8116-7b896cefeb59",
   "metadata": {},
   "source": [
    "Here, params[0] is the intercept and params[1] and params[2] are the slopes."
   ]
  },
  {
   "cell_type": "code",
   "execution_count": 87,
   "id": "e36fcd4d-ac78-4c26-a138-4dce80975a11",
   "metadata": {
    "tags": []
   },
   "outputs": [
    {
     "data": {
      "text/plain": [
       "<tf.Variable 'Variable:0' shape=(3,) dtype=float32, numpy=array([0.1 , 0.05, 0.02], dtype=float32)>"
      ]
     },
     "execution_count": 87,
     "metadata": {},
     "output_type": "execute_result"
    }
   ],
   "source": [
    "params = tf.Variable([0.1 , 0.05, 0.02], np.float32)\n",
    "params"
   ]
  },
  {
   "cell_type": "code",
   "execution_count": 88,
   "id": "ca30cb11-f628-49f8-b63c-d62d7efa4243",
   "metadata": {
    "tags": []
   },
   "outputs": [],
   "source": [
    "# Define the linear regression model\n",
    "def linear_regression(params, feature1, feature2):\n",
    "\treturn params[0] + feature1*params[1] + feature2*params[2]"
   ]
  },
  {
   "cell_type": "code",
   "execution_count": 89,
   "id": "4ef6f6d8-f46e-41c2-aa7d-41cd893adff7",
   "metadata": {
    "tags": []
   },
   "outputs": [],
   "source": [
    "# Define the loss function\n",
    "def loss_function(params, targets, feature1, feature2):\n",
    "\t# Set the predicted values\n",
    "\tpredictions = linear_regression(params=params, feature1=feature1, feature2=feature2)\n",
    "  \n",
    "\t# Use the mean absolute error loss\n",
    "\treturn tf.keras.losses.mae(y_true=targets, y_pred=predictions)"
   ]
  },
  {
   "cell_type": "code",
   "execution_count": 90,
   "id": "f50fb598-cb33-438a-bd93-7d9a6e7a3412",
   "metadata": {
    "tags": []
   },
   "outputs": [],
   "source": [
    "# Define the optimize operation\n",
    "opt = tf.keras.optimizers.Adam()"
   ]
  },
  {
   "cell_type": "code",
   "execution_count": 91,
   "id": "091d8182-622c-4b56-a6d8-466858e80cfa",
   "metadata": {
    "tags": []
   },
   "outputs": [
    {
     "name": "stdout",
     "output_type": "stream",
     "text": [
      "loss: 11.095, intercept: 0.200, slope_1: 0.150, slope_2: 0.120\n",
      "loss: 9.759, intercept: 0.300, slope_1: 0.250, slope_2: 0.220\n",
      "loss: 8.423, intercept: 0.400, slope_1: 0.350, slope_2: 0.320\n",
      "loss: 7.087, intercept: 0.500, slope_1: 0.450, slope_2: 0.420\n",
      "loss: 5.752, intercept: 0.600, slope_1: 0.550, slope_2: 0.520\n",
      "loss: 4.416, intercept: 0.700, slope_1: 0.650, slope_2: 0.620\n",
      "loss: 3.087, intercept: 0.800, slope_1: 0.750, slope_2: 0.720\n",
      "loss: 1.865, intercept: 0.897, slope_1: 0.846, slope_2: 0.815\n",
      "loss: 1.139, intercept: 0.976, slope_1: 0.922, slope_2: 0.888\n",
      "loss: 0.982, intercept: 1.018, slope_1: 0.959, slope_2: 0.918\n"
     ]
    }
   ],
   "source": [
    "# Perform minimization and print trainable variables\n",
    "for j in range(1, 1001):\n",
    "    opt.minimize(lambda: loss_function(params=params, targets=price_log, feature1=size_log, feature2=bedrooms), var_list=[params])\n",
    "    loss = loss_function(params=params, targets=price_log, feature1=size_log, feature2=bedrooms)\n",
    "    if j % 100 == 0:\n",
    "        print('loss: {:0.3f}, intercept: {:0.3f}, slope_1: {:0.3f}, slope_2: {:0.3f}'.format(loss.numpy(), params[0].numpy(), params[1].numpy(), params[2].numpy()))    "
   ]
  },
  {
   "cell_type": "markdown",
   "id": "bd280398-8c96-409f-ac03-1d1a37f5c88c",
   "metadata": {},
   "source": [
    "> Note that params[2] tells us how much the price will increase in percentage terms if we add one more bedroom. You could train params[2] and the other model parameters by increasing the number of times we iterate over opt."
   ]
  },
  {
   "cell_type": "code",
   "execution_count": 93,
   "id": "715ae920-a80c-4aa7-beab-87116535dc32",
   "metadata": {
    "execution": {
     "iopub.execute_input": "2023-01-24T02:43:03.935590Z",
     "iopub.status.busy": "2023-01-24T02:43:03.935451Z",
     "iopub.status.idle": "2023-01-24T02:43:03.950404Z",
     "shell.execute_reply": "2023-01-24T02:43:03.950091Z",
     "shell.execute_reply.started": "2023-01-24T02:43:03.935578Z"
    },
    "tags": []
   },
   "outputs": [
    {
     "data": {
      "text/plain": [
       "<tf.Variable 'Variable:0' shape=(3,) dtype=float32, numpy=array([1.0180898, 0.9594548, 0.9179167], dtype=float32)>"
      ]
     },
     "execution_count": 93,
     "metadata": {},
     "output_type": "execute_result"
    }
   ],
   "source": [
    "params"
   ]
  },
  {
   "cell_type": "markdown",
   "id": "84f06a94-2fdc-4958-978d-376eefc1214a",
   "metadata": {
    "tags": []
   },
   "source": [
    "## Batch training"
   ]
  },
  {
   "cell_type": "markdown",
   "id": "5436bed3-c6cd-4c46-b2de-ebe5177e59c5",
   "metadata": {},
   "source": [
    "### What is batch training?"
   ]
  },
  {
   "cell_type": "code",
   "execution_count": 96,
   "id": "bbc274c4-e91e-4e83-b123-085cd48132c1",
   "metadata": {
    "execution": {
     "iopub.execute_input": "2023-01-24T02:50:57.616017Z",
     "iopub.status.busy": "2023-01-24T02:50:57.615880Z",
     "iopub.status.idle": "2023-01-24T02:50:57.639540Z",
     "shell.execute_reply": "2023-01-24T02:50:57.639219Z",
     "shell.execute_reply.started": "2023-01-24T02:50:57.616006Z"
    },
    "tags": []
   },
   "outputs": [
    {
     "data": {
      "text/html": [
       "<div>\n",
       "<style scoped>\n",
       "    .dataframe tbody tr th:only-of-type {\n",
       "        vertical-align: middle;\n",
       "    }\n",
       "\n",
       "    .dataframe tbody tr th {\n",
       "        vertical-align: top;\n",
       "    }\n",
       "\n",
       "    .dataframe thead th {\n",
       "        text-align: right;\n",
       "    }\n",
       "</style>\n",
       "<table border=\"1\" class=\"dataframe\">\n",
       "  <thead>\n",
       "    <tr style=\"text-align: right;\">\n",
       "      <th></th>\n",
       "      <th>price</th>\n",
       "      <th>sqft_lot</th>\n",
       "      <th>bedrooms</th>\n",
       "    </tr>\n",
       "  </thead>\n",
       "  <tbody>\n",
       "    <tr>\n",
       "      <th>0</th>\n",
       "      <td>221900.0</td>\n",
       "      <td>5650</td>\n",
       "      <td>3</td>\n",
       "    </tr>\n",
       "    <tr>\n",
       "      <th>1</th>\n",
       "      <td>538000.0</td>\n",
       "      <td>7242</td>\n",
       "      <td>3</td>\n",
       "    </tr>\n",
       "    <tr>\n",
       "      <th>2</th>\n",
       "      <td>180000.0</td>\n",
       "      <td>10000</td>\n",
       "      <td>2</td>\n",
       "    </tr>\n",
       "    <tr>\n",
       "      <th>3</th>\n",
       "      <td>604000.0</td>\n",
       "      <td>5000</td>\n",
       "      <td>4</td>\n",
       "    </tr>\n",
       "    <tr>\n",
       "      <th>4</th>\n",
       "      <td>510000.0</td>\n",
       "      <td>8080</td>\n",
       "      <td>3</td>\n",
       "    </tr>\n",
       "    <tr>\n",
       "      <th>...</th>\n",
       "      <td>...</td>\n",
       "      <td>...</td>\n",
       "      <td>...</td>\n",
       "    </tr>\n",
       "    <tr>\n",
       "      <th>21608</th>\n",
       "      <td>360000.0</td>\n",
       "      <td>1131</td>\n",
       "      <td>3</td>\n",
       "    </tr>\n",
       "    <tr>\n",
       "      <th>21609</th>\n",
       "      <td>400000.0</td>\n",
       "      <td>5813</td>\n",
       "      <td>4</td>\n",
       "    </tr>\n",
       "    <tr>\n",
       "      <th>21610</th>\n",
       "      <td>402101.0</td>\n",
       "      <td>1350</td>\n",
       "      <td>2</td>\n",
       "    </tr>\n",
       "    <tr>\n",
       "      <th>21611</th>\n",
       "      <td>400000.0</td>\n",
       "      <td>2388</td>\n",
       "      <td>3</td>\n",
       "    </tr>\n",
       "    <tr>\n",
       "      <th>21612</th>\n",
       "      <td>325000.0</td>\n",
       "      <td>1076</td>\n",
       "      <td>2</td>\n",
       "    </tr>\n",
       "  </tbody>\n",
       "</table>\n",
       "<p>21613 rows × 3 columns</p>\n",
       "</div>"
      ],
      "text/plain": [
       "          price  sqft_lot  bedrooms\n",
       "0      221900.0      5650         3\n",
       "1      538000.0      7242         3\n",
       "2      180000.0     10000         2\n",
       "3      604000.0      5000         4\n",
       "4      510000.0      8080         3\n",
       "...         ...       ...       ...\n",
       "21608  360000.0      1131         3\n",
       "21609  400000.0      5813         4\n",
       "21610  402101.0      1350         2\n",
       "21611  400000.0      2388         3\n",
       "21612  325000.0      1076         2\n",
       "\n",
       "[21613 rows x 3 columns]"
      ]
     },
     "execution_count": 96,
     "metadata": {},
     "output_type": "execute_result"
    }
   ],
   "source": [
    "housing = pd.read_csv('kc_house_data.csv')\n",
    "housing[['price', 'sqft_lot', 'bedrooms']]"
   ]
  },
  {
   "cell_type": "markdown",
   "id": "556c550f-dfc5-428e-b66d-cb63b259b35a",
   "metadata": {},
   "source": [
    "* This time, let's say the dataset is much larger and you want to perform the training on a GPU, which has only small amount of memory.\n",
    "* Since you can't fit the entire dataset in memory, you will instead divide it into batches and train on those batches sequentially.\n",
    "* A single pass over all of the batches is called an epoch and the process itself is called batch training.\n",
    "* It will be quite useful when you work with large image datasets.\n",
    "* Beyond alleviating memory constraints, batch training will also allow you to update model weights and optimizer parameters after each batch, rather than at the end of the epoch. "
   ]
  },
  {
   "cell_type": "markdown",
   "id": "b7911ac8-103e-4b6b-8f34-8a498c0073e9",
   "metadata": {},
   "source": [
    "### The chunksize parameter\n",
    "* `pd.read_csv()` allows us to load data in batches\n",
    "    * Avoid loading entire dataset\n",
    "    * `chunksize` parameter provides batch size"
   ]
  },
  {
   "cell_type": "code",
   "execution_count": 101,
   "id": "1492c59a-91c8-4189-8765-4889af7ff6de",
   "metadata": {
    "execution": {
     "iopub.execute_input": "2023-01-24T02:56:10.051821Z",
     "iopub.status.busy": "2023-01-24T02:56:10.051684Z",
     "iopub.status.idle": "2023-01-24T02:56:10.227644Z",
     "shell.execute_reply": "2023-01-24T02:56:10.227197Z",
     "shell.execute_reply.started": "2023-01-24T02:56:10.051810Z"
    },
    "tags": []
   },
   "outputs": [],
   "source": [
    "# Load data in batches\n",
    "for batch in pd.read_csv('kc_house_data.csv', chunksize=100):\n",
    "    # Extract price column\n",
    "    price = np.array(batch['price'], np.float32)\n",
    "    # Extract size column\n",
    "    size = np.array(batch['sqft_lot'], np.float32)"
   ]
  },
  {
   "cell_type": "markdown",
   "id": "5847e13e-ed57-4872-a5dc-a8e57c37565f",
   "metadata": {},
   "source": [
    "### Training a linear model in batches"
   ]
  },
  {
   "cell_type": "code",
   "execution_count": 109,
   "id": "a6cb86d2-c151-490b-bf33-943756089503",
   "metadata": {
    "execution": {
     "iopub.execute_input": "2023-01-24T03:04:40.683563Z",
     "iopub.status.busy": "2023-01-24T03:04:40.683427Z",
     "iopub.status.idle": "2023-01-24T03:04:41.243490Z",
     "shell.execute_reply": "2023-01-24T03:04:41.242996Z",
     "shell.execute_reply.started": "2023-01-24T03:04:40.683553Z"
    },
    "tags": []
   },
   "outputs": [
    {
     "name": "stdout",
     "output_type": "stream",
     "text": [
      "intercept 0.10000000149011612 slope 0.10000000149011612\n",
      "intercept 0.3178192377090454 slope 0.2983102798461914\n"
     ]
    }
   ],
   "source": [
    "# Define trainable variables\n",
    "intercept = tf.Variable(0.1, tf.float32)\n",
    "slope = tf.Variable(0.1, tf.float32)\n",
    "print(f'intercept {intercept.numpy()} slope {slope.numpy()}')\n",
    "\n",
    "# Define the model\n",
    "def linear_regression(intercept, slope, features):\n",
    "    return intercept + features * slope\n",
    "\n",
    "# Compute predicted values and return loss function\n",
    "def loss_function(intercept, slope, targets, features):\n",
    "    predictions = linear_regression(intercept, slope, features)\n",
    "    return tf.keras.losses.mse(targets, predictions)\n",
    "\n",
    "# Define optimization operation\n",
    "opt = tf.keras.optimizers.Adam()\n",
    "\n",
    "# Load the data in batches from pandas\n",
    "for batch in pd.read_csv('kc_house_data.csv', chunksize=100):\n",
    "    # Extract the target and feature columns\n",
    "    price_batch = np.array(batch['price'], np.float32)\n",
    "    size_batch = np.array(batch['sqft_lot'], np.float32)\n",
    "    # Minimize the loss function\n",
    "    opt.minimize(lambda: loss_function(intercept, slope, price_batch, size_batch),\n",
    "                 var_list=[intercept, slope])\n",
    "# Print parameter values\n",
    "print(f'intercept {intercept.numpy()} slope {slope.numpy()}')"
   ]
  },
  {
   "cell_type": "markdown",
   "id": "10067b54-dc3c-4e90-acc9-09a968b47808",
   "metadata": {},
   "source": [
    "### Full sample versus batch training\n",
    "* Full Sample\n",
    "    1. One update per epoch\n",
    "    2. Accepts dataset without modification\n",
    "    3. Limited by memory\n",
    "* Batch Training\n",
    "    1. Multiple updates per epoch\n",
    "    2. Requires division of dataset\n",
    "    3. No limit on dataset size"
   ]
  },
  {
   "cell_type": "markdown",
   "id": "0805cc3b-f8d2-44cf-acaf-1cdcae5a7686",
   "metadata": {},
   "source": [
    "### Preparing to batch train"
   ]
  },
  {
   "cell_type": "code",
   "execution_count": 116,
   "id": "524b7997-d98d-4773-92a1-9866a69e1269",
   "metadata": {
    "execution": {
     "iopub.execute_input": "2023-01-24T03:18:28.211155Z",
     "iopub.status.busy": "2023-01-24T03:18:28.211017Z",
     "iopub.status.idle": "2023-01-24T03:18:28.214373Z",
     "shell.execute_reply": "2023-01-24T03:18:28.214028Z",
     "shell.execute_reply.started": "2023-01-24T03:18:28.211145Z"
    },
    "tags": []
   },
   "outputs": [],
   "source": [
    "# Define the intercept and slope\n",
    "intercept = tf.Variable(10.0, np.float32)\n",
    "slope = tf.Variable(0.5, np.float32)\n",
    "\n",
    "# Define the model\n",
    "def linear_regression(intercept, slope, features):\n",
    "\t# Define the predicted values\n",
    "\treturn intercept + slope * features\n",
    "\n",
    "# Define the loss function\n",
    "def loss_function(intercept, slope, targets, features):\n",
    "\t# Define the predicted values\n",
    "\tpredictions = linear_regression(intercept, slope, features)\n",
    "    \n",
    " \t# Define the MSE loss\n",
    "\treturn tf.keras.losses.mse(targets, predictions)"
   ]
  },
  {
   "cell_type": "markdown",
   "id": "e31079a2-270d-499b-863d-515b3018ec42",
   "metadata": {},
   "source": [
    "### Training a linear model in batches"
   ]
  },
  {
   "cell_type": "code",
   "execution_count": 117,
   "id": "c206982e-66ab-4613-b403-a0ed741812eb",
   "metadata": {
    "execution": {
     "iopub.execute_input": "2023-01-24T03:18:29.666100Z",
     "iopub.status.busy": "2023-01-24T03:18:29.665929Z",
     "iopub.status.idle": "2023-01-24T03:18:30.226585Z",
     "shell.execute_reply": "2023-01-24T03:18:30.226242Z",
     "shell.execute_reply.started": "2023-01-24T03:18:29.666089Z"
    },
    "tags": []
   },
   "outputs": [
    {
     "name": "stdout",
     "output_type": "stream",
     "text": [
      "10.217888 0.7016001\n"
     ]
    }
   ],
   "source": [
    "# Initialize Adam optimizer\n",
    "opt = tf.keras.optimizers.Adam()\n",
    "\n",
    "# Load data in batches\n",
    "for batch in pd.read_csv('kc_house_data.csv', chunksize=100):\n",
    "\tsize_batch = np.array(batch['sqft_lot'], np.float32)\n",
    "\n",
    "\t# Extract the price values for the current batch\n",
    "\tprice_batch = np.array(batch['price'], np.float32)\n",
    "\n",
    "\t# Complete the loss, fill in the variable list, and minimize\n",
    "\topt.minimize(lambda: loss_function(intercept, slope, price_batch, size_batch),\n",
    "                 var_list=[intercept, slope])\n",
    "\n",
    "# Print trained parameters\n",
    "print(intercept.numpy(), slope.numpy())"
   ]
  }
 ],
 "metadata": {
  "kernelspec": {
   "display_name": "Python 3 (ipykernel)",
   "language": "python",
   "name": "python3"
  },
  "language_info": {
   "codemirror_mode": {
    "name": "ipython",
    "version": 3
   },
   "file_extension": ".py",
   "mimetype": "text/x-python",
   "name": "python",
   "nbconvert_exporter": "python",
   "pygments_lexer": "ipython3",
   "version": "3.9.15"
  }
 },
 "nbformat": 4,
 "nbformat_minor": 5
}
