{
 "cells": [
  {
   "cell_type": "markdown",
   "id": "9155d60b-745b-4657-a0dc-df20894bfc4d",
   "metadata": {},
   "source": [
    "# Introduction to PyTorch, a Deep Learning Library"
   ]
  },
  {
   "cell_type": "markdown",
   "id": "8cff7064-5b3e-4fff-bbfd-9888060fe310",
   "metadata": {},
   "source": [
    "## Checking GPU"
   ]
  },
  {
   "cell_type": "code",
   "execution_count": 1,
   "id": "e3b7e2e2-ee89-42bb-92ec-8fb1dde8fcb5",
   "metadata": {
    "execution": {
     "iopub.execute_input": "2025-03-09T17:54:44.214597Z",
     "iopub.status.busy": "2025-03-09T17:54:44.214496Z",
     "iopub.status.idle": "2025-03-09T17:54:45.087002Z",
     "shell.execute_reply": "2025-03-09T17:54:45.086400Z",
     "shell.execute_reply.started": "2025-03-09T17:54:44.214587Z"
    }
   },
   "outputs": [
    {
     "name": "stdout",
     "output_type": "stream",
     "text": [
      "torch.cuda.is_available()=True\n",
      "torch.cuda.device_count()=1\n",
      "torch.cuda.current_device()=0\n",
      "torch.cuda.get_device_name(torch.cuda.current_device())='NVIDIA GeForce RTX 3060'\n",
      "torch.cuda.get_device_capability()=(8, 6)\n",
      "torch.cuda.get_device_properties(torch.cuda.current_device())=_CudaDeviceProperties(name='NVIDIA GeForce RTX 3060', major=8, minor=6, total_memory=12029MB, multi_processor_count=28, uuid=98296e77-6627-0015-8843-02f73d4ccdf4, L2_cache_size=2MB)\n"
     ]
    }
   ],
   "source": [
    "import torch\n",
    "print(f'{torch.cuda.is_available()=}')\n",
    "print(f'{torch.cuda.device_count()=}')\n",
    "print(f'{torch.cuda.current_device()=}')\n",
    "print(f'{torch.cuda.get_device_name(torch.cuda.current_device())=}')\n",
    "print(f'{torch.cuda.get_device_capability()=}')\n",
    "print(f'{torch.cuda.get_device_properties(torch.cuda.current_device())=}')"
   ]
  },
  {
   "cell_type": "markdown",
   "id": "ab0eb293-8c73-4d0c-bf21-3890a5e46797",
   "metadata": {},
   "source": [
    "## Linear layer network"
   ]
  },
  {
   "cell_type": "code",
   "execution_count": 2,
   "id": "91fdc373-ed44-41ea-849a-27ba95d8e3a7",
   "metadata": {
    "execution": {
     "iopub.execute_input": "2025-03-09T17:54:45.087906Z",
     "iopub.status.busy": "2025-03-09T17:54:45.087633Z",
     "iopub.status.idle": "2025-03-09T17:54:45.096474Z",
     "shell.execute_reply": "2025-03-09T17:54:45.095652Z",
     "shell.execute_reply.started": "2025-03-09T17:54:45.087885Z"
    }
   },
   "outputs": [
    {
     "name": "stdout",
     "output_type": "stream",
     "text": [
      "tensor([[ 0.4906, -0.4656]], grad_fn=<AddmmBackward0>)\n"
     ]
    }
   ],
   "source": [
    "from torch import nn\n",
    "input_tensor = torch.tensor([[0.3471, 0.4547, -0.2356]])\n",
    "\n",
    "# Create a linear layer\n",
    "linear_layer = nn.Linear(\n",
    "    in_features=3,\n",
    "    out_features=2)\n",
    "\n",
    "# Pass input_tensor through linear layer\n",
    "output = linear_layer(input_tensor)\n",
    "print(output)"
   ]
  },
  {
   "cell_type": "markdown",
   "id": "806ffd0e-415a-4155-811d-d6929c075897",
   "metadata": {},
   "source": [
    "## Your first neural network "
   ]
  },
  {
   "cell_type": "code",
   "execution_count": 3,
   "id": "cd5daaee-f2fd-4f72-a07f-6adb635fe9b2",
   "metadata": {
    "execution": {
     "iopub.execute_input": "2025-03-09T17:54:45.097596Z",
     "iopub.status.busy": "2025-03-09T17:54:45.097303Z",
     "iopub.status.idle": "2025-03-09T17:54:45.102738Z",
     "shell.execute_reply": "2025-03-09T17:54:45.101459Z",
     "shell.execute_reply.started": "2025-03-09T17:54:45.097569Z"
    }
   },
   "outputs": [
    {
     "name": "stdout",
     "output_type": "stream",
     "text": [
      "tensor([[2.2474]], grad_fn=<AddmmBackward0>)\n"
     ]
    }
   ],
   "source": [
    "import torch\n",
    "import torch.nn as nn\n",
    "\n",
    "input_tensor = torch.Tensor([[2, 3, 6, 7, 9, 3, 2, 1]])\n",
    "# Create a container for stacking linear layers\n",
    "model = nn.Sequential(nn.Linear(8, 4),\n",
    "                      nn.Linear(4, 1))\n",
    "output = model(input_tensor)\n",
    "print(output)"
   ]
  },
  {
   "cell_type": "markdown",
   "id": "4052d2e9-eb2d-4cc7-8baa-2b519e69b429",
   "metadata": {},
   "source": [
    "## Counting the number of parameters"
   ]
  },
  {
   "cell_type": "code",
   "execution_count": 4,
   "id": "e9166294-fdc5-44d3-a321-acaf1c0128e1",
   "metadata": {
    "execution": {
     "iopub.execute_input": "2025-03-09T17:54:45.103282Z",
     "iopub.status.busy": "2025-03-09T17:54:45.103170Z",
     "iopub.status.idle": "2025-03-09T17:54:45.107171Z",
     "shell.execute_reply": "2025-03-09T17:54:45.106931Z",
     "shell.execute_reply.started": "2025-03-09T17:54:45.103272Z"
    }
   },
   "outputs": [
    {
     "data": {
      "text/plain": [
       "53"
      ]
     },
     "execution_count": 4,
     "metadata": {},
     "output_type": "execute_result"
    }
   ],
   "source": [
    "model = nn.Sequential(nn.Linear(9, 4),\n",
    "                      nn.Linear(4, 2),\n",
    "                      nn.Linear(2, 1))\n",
    "sum([p.numel() for p in model.parameters()])"
   ]
  },
  {
   "cell_type": "markdown",
   "id": "a4abad54-ab5b-466d-8725-27d2e25bf67a",
   "metadata": {},
   "source": [
    "# Neural Network Architecture and Hyperparameters"
   ]
  },
  {
   "cell_type": "markdown",
   "id": "8d9791a7-e892-49c9-a346-3a52b74d88fa",
   "metadata": {},
   "source": [
    "## The sigmoid and softmax functions"
   ]
  },
  {
   "cell_type": "markdown",
   "id": "ab3a8f85-93cb-479a-b7ea-81ebf7870add",
   "metadata": {},
   "source": [
    "Create a sigmoid function and apply it on input_tensor to generate a probability for a binary classification task."
   ]
  },
  {
   "cell_type": "code",
   "execution_count": 5,
   "id": "b6426df1-2e8a-477d-9902-6e06a61f3b33",
   "metadata": {
    "execution": {
     "iopub.execute_input": "2025-03-09T17:54:45.107562Z",
     "iopub.status.busy": "2025-03-09T17:54:45.107463Z",
     "iopub.status.idle": "2025-03-09T17:54:45.109831Z",
     "shell.execute_reply": "2025-03-09T17:54:45.109563Z",
     "shell.execute_reply.started": "2025-03-09T17:54:45.107552Z"
    }
   },
   "outputs": [
    {
     "name": "stdout",
     "output_type": "stream",
     "text": [
      "tensor([[0.9168]])\n"
     ]
    }
   ],
   "source": [
    "input_tensor = torch.tensor([[2.4]])\n",
    "# Create a sigmoid function and apply it on input_tensor\n",
    "sigmoid = nn.Sigmoid()\n",
    "probability = sigmoid(input_tensor)\n",
    "print(probability)"
   ]
  },
  {
   "cell_type": "markdown",
   "id": "8e4c27c9-7000-4819-a1c9-50fb13dde9f6",
   "metadata": {
    "execution": {
     "iopub.execute_input": "2025-03-06T17:57:26.468290Z",
     "iopub.status.busy": "2025-03-06T17:57:26.467621Z",
     "iopub.status.idle": "2025-03-06T17:57:26.480427Z",
     "shell.execute_reply": "2025-03-06T17:57:26.478426Z",
     "shell.execute_reply.started": "2025-03-06T17:57:26.468207Z"
    }
   },
   "source": [
    "Create a softmax function and apply it on input_tensor to generate a probability for a multi-class classification task."
   ]
  },
  {
   "cell_type": "code",
   "execution_count": 6,
   "id": "d50e2a63-0152-4ef1-883a-e7933e843d5e",
   "metadata": {
    "execution": {
     "iopub.execute_input": "2025-03-09T17:54:45.110896Z",
     "iopub.status.busy": "2025-03-09T17:54:45.110647Z",
     "iopub.status.idle": "2025-03-09T17:54:45.113991Z",
     "shell.execute_reply": "2025-03-09T17:54:45.113738Z",
     "shell.execute_reply.started": "2025-03-09T17:54:45.110883Z"
    }
   },
   "outputs": [
    {
     "name": "stdout",
     "output_type": "stream",
     "text": [
      "tensor([[1.2828e-01, 1.1698e-04, 5.7492e-01, 3.4961e-02, 1.5669e-01, 1.0503e-01]])\n"
     ]
    }
   ],
   "source": [
    "input_tensor = torch.tensor([[1.0, -6.0, 2.5, -0.3, 1.2, 0.8]])\n",
    "# Create a softmax function and apply it on input_tensor\n",
    "softmax = nn.Softmax(dim=-1)\n",
    "probabilities = softmax(input_tensor)\n",
    "print(probabilities)"
   ]
  },
  {
   "cell_type": "markdown",
   "id": "116952d0-25bf-4661-910f-da6fa8520a00",
   "metadata": {},
   "source": [
    "## Building a binary classifier in PyTorch"
   ]
  },
  {
   "cell_type": "markdown",
   "id": "2dbc9501-9393-446a-a882-51d1089dedc0",
   "metadata": {},
   "source": [
    "* Create a neural network that takes a 1x8 tensor as input and outputs a single value for binary classification.\n",
    "* Pass the output of the linear layer to a sigmoid to produce a probability."
   ]
  },
  {
   "cell_type": "code",
   "execution_count": 7,
   "id": "531e092c-cfc6-456d-b73d-ffd50ce46007",
   "metadata": {
    "execution": {
     "iopub.execute_input": "2025-03-09T17:54:45.114476Z",
     "iopub.status.busy": "2025-03-09T17:54:45.114345Z",
     "iopub.status.idle": "2025-03-09T17:54:45.117248Z",
     "shell.execute_reply": "2025-03-09T17:54:45.116997Z",
     "shell.execute_reply.started": "2025-03-09T17:54:45.114464Z"
    }
   },
   "outputs": [
    {
     "name": "stdout",
     "output_type": "stream",
     "text": [
      "tensor([[0.5335]], grad_fn=<SigmoidBackward0>)\n"
     ]
    }
   ],
   "source": [
    "input_tensor = torch.Tensor([[3, 4, 6, 2, 3, 6, 8, 9]])\n",
    "# Implement a small neural network for binary classification\n",
    "model = nn.Sequential(\n",
    "  nn.Linear(8,1),\n",
    "  nn.Sigmoid())\n",
    "output = model(input_tensor)\n",
    "print(output)"
   ]
  },
  {
   "cell_type": "markdown",
   "id": "c595ff82-95d9-4010-84ae-632c3acc9ed7",
   "metadata": {},
   "source": [
    "## From regression to multi-class classification"
   ]
  },
  {
   "cell_type": "markdown",
   "id": "30cbedc1-f5ea-4169-a678-d202da1a351a",
   "metadata": {
    "execution": {
     "iopub.execute_input": "2025-03-06T18:22:37.174363Z",
     "iopub.status.busy": "2025-03-06T18:22:37.173724Z",
     "iopub.status.idle": "2025-03-06T18:22:37.208121Z",
     "shell.execute_reply": "2025-03-06T18:22:37.205758Z",
     "shell.execute_reply.started": "2025-03-06T18:22:37.174306Z"
    }
   },
   "source": [
    "Create a 4-layer linear network that takes 11 input features from input_tensor and produces a single regression output."
   ]
  },
  {
   "cell_type": "code",
   "execution_count": 8,
   "id": "2d333279-95e2-4e13-850f-66ce3d36aaa9",
   "metadata": {
    "execution": {
     "iopub.execute_input": "2025-03-09T17:54:45.117697Z",
     "iopub.status.busy": "2025-03-09T17:54:45.117527Z",
     "iopub.status.idle": "2025-03-09T17:54:45.120339Z",
     "shell.execute_reply": "2025-03-09T17:54:45.120072Z",
     "shell.execute_reply.started": "2025-03-09T17:54:45.117687Z"
    }
   },
   "outputs": [
    {
     "name": "stdout",
     "output_type": "stream",
     "text": [
      "tensor([[0.1768]], grad_fn=<AddmmBackward0>)\n"
     ]
    }
   ],
   "source": [
    "input_tensor = torch.Tensor([[3, 4, 6, 7, 10, 12, 2, 3, 6, 8, 9]])\n",
    "# Implement a neural network with exactly four linear layers\n",
    "model = nn.Sequential(\n",
    "  nn.Linear(11,11),\n",
    "  nn.Linear(11,11),\n",
    "  nn.Linear(11,11),\n",
    "  nn.Linear(11,1))\n",
    "output = model(input_tensor)\n",
    "print(output)"
   ]
  },
  {
   "cell_type": "markdown",
   "id": "7dbcb742-aec2-4832-8838-1bee0de3a98c",
   "metadata": {},
   "source": [
    "Update the network provided to perform a multi-class classification with four outputs."
   ]
  },
  {
   "cell_type": "code",
   "execution_count": 9,
   "id": "31d70126-50ee-4243-a765-408ab147dbd2",
   "metadata": {
    "execution": {
     "iopub.execute_input": "2025-03-09T17:54:45.120726Z",
     "iopub.status.busy": "2025-03-09T17:54:45.120627Z",
     "iopub.status.idle": "2025-03-09T17:54:45.123442Z",
     "shell.execute_reply": "2025-03-09T17:54:45.123176Z",
     "shell.execute_reply.started": "2025-03-09T17:54:45.120716Z"
    }
   },
   "outputs": [
    {
     "name": "stdout",
     "output_type": "stream",
     "text": [
      "tensor([[0.4106, 0.2250, 0.1616, 0.2027]], grad_fn=<SoftmaxBackward0>)\n"
     ]
    }
   ],
   "source": [
    "input_tensor = torch.Tensor([[3, 4, 6, 7, 10, 12, 2, 3, 6, 8, 9]])\n",
    "# Update network below to perform a multi-class classification with four labels\n",
    "model = nn.Sequential(\n",
    "  nn.Linear(11, 20),\n",
    "  nn.Linear(20, 12),\n",
    "  nn.Linear(12, 6),\n",
    "  nn.Linear(6, 4),\n",
    "  nn.Softmax(dim=-1))\n",
    "output = model(input_tensor)\n",
    "print(output)"
   ]
  },
  {
   "cell_type": "markdown",
   "id": "a713e21d-76d7-4167-bd5f-d0b826a8382a",
   "metadata": {},
   "source": [
    "## Creating one-hot encoded labels"
   ]
  },
  {
   "cell_type": "markdown",
   "id": "eb00a221-4c63-4f71-8fc2-49cd0da8c508",
   "metadata": {},
   "source": [
    "* Manually one-hot encode the ground truth label y using the provided NumPy array and save it as one_hot_numpy.\n",
    "* Use PyTorch to one-hot encode y and save it as one_hot_pytorch."
   ]
  },
  {
   "cell_type": "code",
   "execution_count": 10,
   "id": "8f1418d6-9ad3-4762-985c-2b07376d21c9",
   "metadata": {
    "execution": {
     "iopub.execute_input": "2025-03-09T17:54:45.123820Z",
     "iopub.status.busy": "2025-03-09T17:54:45.123717Z",
     "iopub.status.idle": "2025-03-09T17:54:45.126315Z",
     "shell.execute_reply": "2025-03-09T17:54:45.126072Z",
     "shell.execute_reply.started": "2025-03-09T17:54:45.123811Z"
    }
   },
   "outputs": [
    {
     "name": "stdout",
     "output_type": "stream",
     "text": [
      "One-hot vector using NumPy: [0 1 0]\n",
      "One-hot vector using PyTorch: tensor([0, 1, 0])\n"
     ]
    }
   ],
   "source": [
    "import numpy as np\n",
    "import torch.nn.functional as F\n",
    "\n",
    "y = 1\n",
    "num_classes = 3\n",
    "# Create the one-hot encoded vector using NumPy\n",
    "one_hot_numpy = np.array([0,1,0])\n",
    "# Create the one-hot encoded vector using PyTorch\n",
    "one_hot_pytorch = F.one_hot(torch.tensor(y), num_classes=3)\n",
    "print(\"One-hot vector using NumPy:\", one_hot_numpy)\n",
    "print(\"One-hot vector using PyTorch:\", one_hot_pytorch)"
   ]
  },
  {
   "cell_type": "markdown",
   "id": "73cfc4ed-7e57-4ad4-b3a8-25207f8726aa",
   "metadata": {},
   "source": [
    "## Calculating cross entropy loss"
   ]
  },
  {
   "cell_type": "markdown",
   "id": "ccde2531-625b-4a8f-b912-d13e3f96ce8a",
   "metadata": {},
   "source": [
    "Create the one-hot encoded vector of the ground truth label y, with 4 features (one for each class), and assign it to one_hot_label."
   ]
  },
  {
   "cell_type": "code",
   "execution_count": 11,
   "id": "d5201f47-b267-4195-acca-3bf8a1a7705b",
   "metadata": {
    "execution": {
     "iopub.execute_input": "2025-03-09T17:54:45.126696Z",
     "iopub.status.busy": "2025-03-09T17:54:45.126594Z",
     "iopub.status.idle": "2025-03-09T17:54:45.128550Z",
     "shell.execute_reply": "2025-03-09T17:54:45.128330Z",
     "shell.execute_reply.started": "2025-03-09T17:54:45.126687Z"
    }
   },
   "outputs": [],
   "source": [
    "from torch.nn import CrossEntropyLoss\n",
    "\n",
    "y = [2]\n",
    "scores = torch.tensor([[0.1, 6.0, -2.0, 3.2]])\n",
    "# Create a one-hot encoded vector of the label y\n",
    "one_hot_label = F.one_hot(torch.tensor(y), num_classes=4)"
   ]
  },
  {
   "cell_type": "markdown",
   "id": "17840a60-64d0-4a48-aeeb-aff2a554f8a5",
   "metadata": {},
   "source": [
    "Create the cross entropy loss function and store it as criterion."
   ]
  },
  {
   "cell_type": "code",
   "execution_count": 12,
   "id": "a23a6769-a5a3-4dc0-b4d1-632d8cd2caf4",
   "metadata": {
    "execution": {
     "iopub.execute_input": "2025-03-09T17:54:45.129155Z",
     "iopub.status.busy": "2025-03-09T17:54:45.128868Z",
     "iopub.status.idle": "2025-03-09T17:54:45.131018Z",
     "shell.execute_reply": "2025-03-09T17:54:45.130767Z",
     "shell.execute_reply.started": "2025-03-09T17:54:45.129137Z"
    }
   },
   "outputs": [],
   "source": [
    "criterion = CrossEntropyLoss()"
   ]
  },
  {
   "cell_type": "markdown",
   "id": "ad8f225f-7134-47a8-b3f9-3aac4b0a2d32",
   "metadata": {},
   "source": [
    "Calculate the cross entropy loss using the one_hot_label vector and the scores vector, by calling the loss_function you created."
   ]
  },
  {
   "cell_type": "code",
   "execution_count": 13,
   "id": "157226f3-f0ef-485e-baa1-b23f1b6c3c60",
   "metadata": {
    "execution": {
     "iopub.execute_input": "2025-03-09T17:54:45.131615Z",
     "iopub.status.busy": "2025-03-09T17:54:45.131416Z",
     "iopub.status.idle": "2025-03-09T17:54:45.133825Z",
     "shell.execute_reply": "2025-03-09T17:54:45.133579Z",
     "shell.execute_reply.started": "2025-03-09T17:54:45.131604Z"
    }
   },
   "outputs": [
    {
     "name": "stdout",
     "output_type": "stream",
     "text": [
      "tensor(8.0619, dtype=torch.float64)\n"
     ]
    }
   ],
   "source": [
    "# Calculate the cross entropy loss\n",
    "loss = criterion(scores.double(), one_hot_label.double())\n",
    "print(loss)"
   ]
  },
  {
   "cell_type": "markdown",
   "id": "7af24174-b6fa-42a8-a79d-2126344455e7",
   "metadata": {},
   "source": [
    "## Accessing the model parameters"
   ]
  },
  {
   "cell_type": "markdown",
   "id": "7c75d310-2bb4-4af1-abf5-79b1a5a69c83",
   "metadata": {},
   "source": [
    "* Access the weight parameter of the first linear layer.\n",
    "* Access the bias parameter of the second linear layer."
   ]
  },
  {
   "cell_type": "code",
   "execution_count": 14,
   "id": "f55a277c-b94d-467c-b969-aecbfc1e0f91",
   "metadata": {
    "execution": {
     "iopub.execute_input": "2025-03-09T17:54:45.134223Z",
     "iopub.status.busy": "2025-03-09T17:54:45.134124Z",
     "iopub.status.idle": "2025-03-09T17:54:45.137414Z",
     "shell.execute_reply": "2025-03-09T17:54:45.137163Z",
     "shell.execute_reply.started": "2025-03-09T17:54:45.134213Z"
    }
   },
   "outputs": [
    {
     "name": "stdout",
     "output_type": "stream",
     "text": [
      "Weight of the first layer: Parameter containing:\n",
      "tensor([[-0.1161, -0.1069,  0.0501,  0.0906, -0.0890, -0.1346, -0.2064, -0.0218,\n",
      "          0.1172,  0.2490, -0.0881, -0.0640, -0.0323,  0.1147, -0.1973, -0.0303],\n",
      "        [-0.1568,  0.2272,  0.1784, -0.2005, -0.1163, -0.0813, -0.1004, -0.1978,\n",
      "          0.1658, -0.1336,  0.0271,  0.1607, -0.1330,  0.0210, -0.2316, -0.0828],\n",
      "        [-0.1706, -0.1272, -0.0136,  0.0128, -0.0507,  0.0900,  0.1022,  0.2342,\n",
      "          0.1173,  0.0245,  0.0520,  0.0473,  0.0349,  0.1384,  0.2441, -0.2250],\n",
      "        [ 0.0950,  0.0321,  0.1646, -0.0119, -0.1167, -0.0131, -0.1455, -0.2087,\n",
      "          0.0446, -0.0676,  0.2409,  0.1338, -0.0535, -0.0624, -0.1875,  0.0012],\n",
      "        [ 0.1948, -0.1375, -0.1034, -0.2344,  0.2127,  0.0889, -0.0700,  0.2228,\n",
      "          0.2394, -0.1671, -0.0480,  0.1769, -0.0035,  0.0597,  0.1529,  0.0152],\n",
      "        [-0.0911,  0.1576, -0.0916,  0.0318,  0.1702,  0.2163, -0.1061, -0.1831,\n",
      "          0.2420,  0.1429, -0.0926, -0.0710,  0.1090,  0.2443,  0.2372, -0.0023],\n",
      "        [-0.1951, -0.2210, -0.1290, -0.2296,  0.2027,  0.1712, -0.0212, -0.0009,\n",
      "          0.1642, -0.2272,  0.0483,  0.1802, -0.1311,  0.1839, -0.0114, -0.0910],\n",
      "        [-0.2457,  0.0990,  0.0174,  0.0310, -0.0731, -0.2004, -0.0458,  0.0087,\n",
      "          0.2465,  0.0469,  0.1204,  0.1092, -0.0901,  0.1530,  0.0022,  0.2075]],\n",
      "       requires_grad=True)\n",
      "Bias of the second layer: Parameter containing:\n",
      "tensor([-0.1240,  0.3459], requires_grad=True)\n"
     ]
    }
   ],
   "source": [
    "model = nn.Sequential(nn.Linear(16, 8),\n",
    "                      nn.Linear(8, 2)                     )\n",
    "# Access the weight of the first linear layer\n",
    "weight_0 = model[0].weight\n",
    "print(\"Weight of the first layer:\", weight_0)\n",
    "# Access the bias of the second linear layer\n",
    "bias_1 = model[1].bias\n",
    "print(\"Bias of the second layer:\", bias_1)"
   ]
  },
  {
   "cell_type": "markdown",
   "id": "0bee1d79-cb65-4caa-8f52-8000b110d768",
   "metadata": {},
   "source": [
    "## Updating the weights manually"
   ]
  },
  {
   "cell_type": "markdown",
   "id": "3b582013-aa5a-44da-bbdd-e8be523469c2",
   "metadata": {},
   "source": [
    "Creating the model and calculate gradients that the course didn't provide"
   ]
  },
  {
   "cell_type": "code",
   "execution_count": 15,
   "id": "819dbd15-65ec-40d4-ae46-c4e746c01a36",
   "metadata": {
    "execution": {
     "iopub.execute_input": "2025-03-09T17:54:45.137854Z",
     "iopub.status.busy": "2025-03-09T17:54:45.137693Z",
     "iopub.status.idle": "2025-03-09T17:54:45.141439Z",
     "shell.execute_reply": "2025-03-09T17:54:45.141188Z",
     "shell.execute_reply.started": "2025-03-09T17:54:45.137844Z"
    }
   },
   "outputs": [],
   "source": [
    "# Run a forward pass\n",
    "sample = torch.tensor([[-1.1258, -1.1524, -0.2506, -0.4339,  0.8487,  0.6920, -0.3160, -2.1152,\n",
    "                         0.3223, -1.2633,  0.3500,  0.3081,  0.1198,  1.2377,  1.1168, -0.2473]])\n",
    "target = torch.tensor([[1., 0.]])\n",
    "model = nn.Sequential(nn.Linear(in_features=16, out_features=8, bias=True),\n",
    "                      nn.Linear(in_features=8, out_features=4, bias=True),\n",
    "                      nn.Linear(in_features=4, out_features=2, bias=True))\n",
    "prediction = model(sample)\n",
    "\n",
    "# Calculate the loss and gradients\n",
    "criterion = CrossEntropyLoss()\n",
    "loss = criterion(prediction, target)\n",
    "loss.backward()"
   ]
  },
  {
   "cell_type": "markdown",
   "id": "d94ba09e-ff6c-4d65-928b-f84d62a3baf6",
   "metadata": {},
   "source": [
    "* Create the gradient variables by accessing the local gradients of each weight tensor."
   ]
  },
  {
   "cell_type": "code",
   "execution_count": 16,
   "id": "e8fd0520-e4b1-42e4-95f0-bc7f6900f0f4",
   "metadata": {
    "execution": {
     "iopub.execute_input": "2025-03-09T17:54:45.141894Z",
     "iopub.status.busy": "2025-03-09T17:54:45.141733Z",
     "iopub.status.idle": "2025-03-09T17:54:45.143710Z",
     "shell.execute_reply": "2025-03-09T17:54:45.143397Z",
     "shell.execute_reply.started": "2025-03-09T17:54:45.141884Z"
    }
   },
   "outputs": [],
   "source": [
    "weight0 = model[0].weight\n",
    "weight1 = model[1].weight\n",
    "weight2 = model[2].weight\n",
    "\n",
    "# Access the gradients of the weight of each linear layer\n",
    "grads0 = weight0.grad\n",
    "grads1 = weight1.grad\n",
    "grads2 = weight2.grad"
   ]
  },
  {
   "cell_type": "markdown",
   "id": "79539ad4-c49b-4988-9a8b-9f74962c3580",
   "metadata": {},
   "source": [
    "* Update the weights using the gradients scaled by the learning rate."
   ]
  },
  {
   "cell_type": "code",
   "execution_count": 17,
   "id": "0882336a-a826-4501-b89c-bef878e40f4d",
   "metadata": {
    "execution": {
     "iopub.execute_input": "2025-03-09T17:54:45.144143Z",
     "iopub.status.busy": "2025-03-09T17:54:45.144039Z",
     "iopub.status.idle": "2025-03-09T17:54:45.146444Z",
     "shell.execute_reply": "2025-03-09T17:54:45.145674Z",
     "shell.execute_reply.started": "2025-03-09T17:54:45.144134Z"
    }
   },
   "outputs": [],
   "source": [
    "# Update the weights using the learning rate and the gradients\n",
    "lr = 0.001\n",
    "weight0 = weight0 - lr * grads0\n",
    "weight1 = weight1 - lr * grads1\n",
    "weight2 = weight2 - lr * grads2"
   ]
  },
  {
   "cell_type": "markdown",
   "id": "32fec96b-120b-410b-ba70-92cc968d4a1d",
   "metadata": {},
   "source": [
    "## Using the PyTorch optimizer"
   ]
  },
  {
   "cell_type": "markdown",
   "id": "2c9fb4e1-68e9-49ff-a8c8-43fa5fd23854",
   "metadata": {},
   "source": [
    "A neural network has been created and provided as the model variable. This model was used to run a forward pass and create the tensor of predictions pred. The one-hot encoded tensor is named target and the cross entropy loss function is stored as criterion. "
   ]
  },
  {
   "cell_type": "code",
   "execution_count": 18,
   "id": "e3193039-a74e-4026-ab51-6de544c9f06f",
   "metadata": {
    "execution": {
     "iopub.execute_input": "2025-03-09T17:54:45.146924Z",
     "iopub.status.busy": "2025-03-09T17:54:45.146809Z",
     "iopub.status.idle": "2025-03-09T17:54:45.149711Z",
     "shell.execute_reply": "2025-03-09T17:54:45.149458Z",
     "shell.execute_reply.started": "2025-03-09T17:54:45.146914Z"
    }
   },
   "outputs": [],
   "source": [
    "sample = torch.tensor([[-0.4366,  0.5472, -0.0548, -1.2576,  0.0348,  0.2104,  1.0398,  1.1759,\n",
    "                  -0.9359,  0.1180,  0.1164, -1.5253,  1.1035,  0.9738,  0.5884,  0.9601]])\n",
    "model = nn.Sequential(nn.Linear(in_features=16, out_features=8, bias=True),\n",
    "                      nn.Linear(in_features=8, out_features=4, bias=True),\n",
    "                      nn.Linear(in_features=4, out_features=2, bias=True))\n",
    "pred = model(sample)\n",
    "\n",
    "target = torch.tensor([[1., 0.]])"
   ]
  },
  {
   "cell_type": "markdown",
   "id": "0e2f68f5-5778-4dc5-8a22-41bad90fe686",
   "metadata": {},
   "source": [
    "Use optim to create an SGD optimizer with a learning rate of your choice (must be less than one) for the model provided."
   ]
  },
  {
   "cell_type": "code",
   "execution_count": 19,
   "id": "ceb562ec-e05f-49d7-9701-1b23819155c8",
   "metadata": {
    "execution": {
     "iopub.execute_input": "2025-03-09T17:54:45.150111Z",
     "iopub.status.busy": "2025-03-09T17:54:45.150002Z",
     "iopub.status.idle": "2025-03-09T17:54:45.911805Z",
     "shell.execute_reply": "2025-03-09T17:54:45.911356Z",
     "shell.execute_reply.started": "2025-03-09T17:54:45.150101Z"
    }
   },
   "outputs": [],
   "source": [
    "# Create the optimizer\n",
    "import torch.optim as optim\n",
    "optimizer = optim.SGD(model.parameters(), lr=0.001)"
   ]
  },
  {
   "cell_type": "code",
   "execution_count": 20,
   "id": "48fbacf0-0051-40c7-87dc-1c4bf9bce5c3",
   "metadata": {
    "execution": {
     "iopub.execute_input": "2025-03-09T17:54:45.912448Z",
     "iopub.status.busy": "2025-03-09T17:54:45.912189Z",
     "iopub.status.idle": "2025-03-09T17:54:45.914996Z",
     "shell.execute_reply": "2025-03-09T17:54:45.914676Z",
     "shell.execute_reply.started": "2025-03-09T17:54:45.912437Z"
    }
   },
   "outputs": [],
   "source": [
    "# loss calculation and Backwards pass\n",
    "criterion = CrossEntropyLoss()\n",
    "loss = criterion(pred, target)\n",
    "loss.backward()"
   ]
  },
  {
   "cell_type": "markdown",
   "id": "41050e17-9478-48fa-a77f-8b8a3fb80013",
   "metadata": {},
   "source": [
    "Update the model's parameters using the optimizer."
   ]
  },
  {
   "cell_type": "code",
   "execution_count": 21,
   "id": "b7d2b851-0b8f-4fe0-8c07-cfaa83696380",
   "metadata": {
    "execution": {
     "iopub.execute_input": "2025-03-09T17:54:45.916887Z",
     "iopub.status.busy": "2025-03-09T17:54:45.916664Z",
     "iopub.status.idle": "2025-03-09T17:54:45.918939Z",
     "shell.execute_reply": "2025-03-09T17:54:45.918693Z",
     "shell.execute_reply.started": "2025-03-09T17:54:45.916860Z"
    }
   },
   "outputs": [],
   "source": [
    "optimizer.step()"
   ]
  },
  {
   "cell_type": "markdown",
   "id": "aec2d474-d2cf-4576-a0b1-e854e15045bb",
   "metadata": {},
   "source": [
    "# Training a Neural Network with PyTorch"
   ]
  },
  {
   "cell_type": "markdown",
   "id": "9b431e02-d59a-48c6-8f75-2a04cb6c7369",
   "metadata": {},
   "source": [
    "## Using TensorDataset"
   ]
  },
  {
   "cell_type": "code",
   "execution_count": 22,
   "id": "aef2ffca-bdea-46db-9270-4cf27aabe052",
   "metadata": {
    "execution": {
     "iopub.execute_input": "2025-03-09T17:54:45.919544Z",
     "iopub.status.busy": "2025-03-09T17:54:45.919327Z",
     "iopub.status.idle": "2025-03-09T17:54:46.104557Z",
     "shell.execute_reply": "2025-03-09T17:54:46.104254Z",
     "shell.execute_reply.started": "2025-03-09T17:54:45.919533Z"
    }
   },
   "outputs": [],
   "source": [
    "import pandas as pd\n",
    "\n",
    "animals = pd.DataFrame.from_dict(\n",
    "    {\n",
    "        \"animal_name\": {0: \"sparrow\", 1: \"eagle\", 2: \"cat\", 3: \"dog\", 4: \"lizard\"},\n",
    "        \"hair\": {0: 0, 1: 0, 2: 1, 3: 1, 4: 0},\n",
    "        \"feathers\": {0: 1, 1: 1, 2: 0, 3: 0, 4: 0},\n",
    "        \"eggs\": {0: 1, 1: 1, 2: 0, 3: 0, 4: 1},\n",
    "        \"milk\": {0: 0, 1: 0, 2: 1, 3: 1, 4: 0},\n",
    "        \"predator\": {0: 0, 1: 1, 2: 1, 3: 0, 4: 1},\n",
    "        \"legs\": {0: 2, 1: 2, 2: 4, 3: 4, 4: 4},\n",
    "        \"tail\": {0: 1, 1: 1, 2: 1, 3: 1, 4: 1},\n",
    "        \"type\": {0: 0, 1: 0, 2: 1, 3: 1, 4: 2},\n",
    "    }\n",
    ")"
   ]
  },
  {
   "cell_type": "markdown",
   "id": "94169345-30ba-4b12-bfe9-80a39c5817d5",
   "metadata": {},
   "source": [
    "* Convert X and y into tensors and create a TensorDataset.\n",
    "* Access and print the first sample."
   ]
  },
  {
   "cell_type": "code",
   "execution_count": 23,
   "id": "aecb485f-fef1-498d-81ee-b233304ffa25",
   "metadata": {
    "execution": {
     "iopub.execute_input": "2025-03-09T17:54:46.105197Z",
     "iopub.status.busy": "2025-03-09T17:54:46.104930Z",
     "iopub.status.idle": "2025-03-09T17:54:46.108222Z",
     "shell.execute_reply": "2025-03-09T17:54:46.107969Z",
     "shell.execute_reply.started": "2025-03-09T17:54:46.105186Z"
    }
   },
   "outputs": [
    {
     "name": "stdout",
     "output_type": "stream",
     "text": [
      "Input sample: tensor([0, 1, 1, 0, 0, 2, 1])\n",
      "Label sample: tensor(0)\n"
     ]
    }
   ],
   "source": [
    "import torch\n",
    "from torch.utils.data import TensorDataset\n",
    "\n",
    "X = animals.iloc[:, 1:-1].to_numpy()  \n",
    "y = animals.iloc[:, -1].to_numpy()\n",
    "\n",
    "# Create a dataset\n",
    "dataset = TensorDataset(torch.tensor(X), torch.tensor(y))\n",
    "\n",
    "# Print the first sample\n",
    "input_sample, label_sample = dataset[0]\n",
    "print('Input sample:', input_sample)\n",
    "print('Label sample:', label_sample)"
   ]
  },
  {
   "cell_type": "markdown",
   "id": "a2a704a4-09a5-4b47-8b77-66ed6ef63ced",
   "metadata": {},
   "source": [
    "* Import the required module.\n",
    "* Create a DataLoader using dataset, setting a batch size of two and enabling shuffling.\n",
    "* Iterate through the DataLoader and print each batch of inputs and labels."
   ]
  },
  {
   "cell_type": "code",
   "execution_count": 24,
   "id": "a34ed573-12be-4aaa-9626-8574fea1e806",
   "metadata": {
    "execution": {
     "iopub.execute_input": "2025-03-09T17:54:46.108781Z",
     "iopub.status.busy": "2025-03-09T17:54:46.108610Z",
     "iopub.status.idle": "2025-03-09T17:54:46.112085Z",
     "shell.execute_reply": "2025-03-09T17:54:46.111812Z",
     "shell.execute_reply.started": "2025-03-09T17:54:46.108771Z"
    }
   },
   "outputs": [
    {
     "name": "stdout",
     "output_type": "stream",
     "text": [
      "batch_inputs: tensor([[1, 0, 0, 1, 0, 4, 1],\n",
      "        [0, 1, 1, 0, 1, 2, 1]])\n",
      "batch_labels: tensor([1, 0])\n",
      "batch_inputs: tensor([[0, 1, 1, 0, 0, 2, 1],\n",
      "        [0, 0, 1, 0, 1, 4, 1]])\n",
      "batch_labels: tensor([0, 2])\n",
      "batch_inputs: tensor([[1, 0, 0, 1, 1, 4, 1]])\n",
      "batch_labels: tensor([1])\n"
     ]
    }
   ],
   "source": [
    "from torch.utils.data import DataLoader\n",
    "\n",
    "# Create a DataLoader\n",
    "dataloader = DataLoader(dataset, batch_size=2, shuffle=True)\n",
    "\n",
    "# Iterate over the dataloader\n",
    "for batch_inputs, batch_labels in dataloader:\n",
    "    print('batch_inputs:', batch_inputs)\n",
    "    print('batch_labels:', batch_labels)"
   ]
  },
  {
   "cell_type": "markdown",
   "id": "2ba26863-22bd-49d1-bad0-d4b8daf44e2c",
   "metadata": {},
   "source": [
    "## Using the MSELoss"
   ]
  },
  {
   "cell_type": "markdown",
   "id": "b1098fa7-8894-499a-8dc8-62f20ef555ad",
   "metadata": {},
   "source": [
    "* Calculate the MSE loss using NumPy.\n",
    "* Create an MSE loss function using PyTorch.\n",
    "* Convert y_pred and y to tensors, then calculate the MSE loss as mse_pytorch."
   ]
  },
  {
   "cell_type": "code",
   "execution_count": 25,
   "id": "3b0dfe47-bb56-4dbf-afe2-0e2a039a057d",
   "metadata": {
    "execution": {
     "iopub.execute_input": "2025-03-09T17:54:46.112520Z",
     "iopub.status.busy": "2025-03-09T17:54:46.112409Z",
     "iopub.status.idle": "2025-03-09T17:54:46.115731Z",
     "shell.execute_reply": "2025-03-09T17:54:46.115440Z",
     "shell.execute_reply.started": "2025-03-09T17:54:46.112510Z"
    }
   },
   "outputs": [
    {
     "name": "stdout",
     "output_type": "stream",
     "text": [
      "MSE (NumPy): 0.375\n",
      "MSE (PyTorch): tensor(0.3750, dtype=torch.float64)\n"
     ]
    }
   ],
   "source": [
    "y_pred = np.array([3, 5.0, 2.5, 7.0])  \n",
    "y = np.array([3.0, 4.5, 2.0, 8.0])     \n",
    "\n",
    "# Calculate MSE using NumPy\n",
    "mse_numpy = np.mean((y_pred - y)**2)\n",
    "\n",
    "# Create the MSELoss function in PyTorch\n",
    "criterion = nn.MSELoss()\n",
    "\n",
    "# Calculate MSE using PyTorch\n",
    "mse_pytorch = criterion(torch.tensor(y_pred), torch.tensor(y))\n",
    "\n",
    "print(\"MSE (NumPy):\", mse_numpy)\n",
    "print(\"MSE (PyTorch):\", mse_pytorch)"
   ]
  },
  {
   "cell_type": "markdown",
   "id": "35d547e2-4a12-4fae-aabf-44a83e30af48",
   "metadata": {},
   "source": [
    "## Writing a training loop"
   ]
  },
  {
   "cell_type": "markdown",
   "id": "0c76f23a-1b8f-439b-84bb-0e0ff2a14d50",
   "metadata": {},
   "source": [
    "The show_results() function is provided to help you visualize some sample predictions."
   ]
  },
  {
   "cell_type": "code",
   "execution_count": 26,
   "id": "3fbce466-ed03-459b-af29-65c37402a06a",
   "metadata": {
    "execution": {
     "iopub.execute_input": "2025-03-09T17:54:46.116243Z",
     "iopub.status.busy": "2025-03-09T17:54:46.116122Z",
     "iopub.status.idle": "2025-03-09T17:54:46.118272Z",
     "shell.execute_reply": "2025-03-09T17:54:46.118025Z",
     "shell.execute_reply.started": "2025-03-09T17:54:46.116234Z"
    }
   },
   "outputs": [],
   "source": [
    "def show_results(model, dataloader):\n",
    "    model.eval()\n",
    "    iter_loader = iter(dataloader)\n",
    "    for _ in range(3):\n",
    "        feature, target = next(iter_loader)\n",
    "        preds = model(feature)\n",
    "        for p, t in zip(preds, target):\n",
    "            print(f'Ground truth salary: {t.item():.3f}. Predicted salary: {p.item():.3f}.')"
   ]
  },
  {
   "cell_type": "markdown",
   "id": "f23dfb58-5ffb-41e9-86f7-ddb9075623e0",
   "metadata": {},
   "source": [
    "The following variables have been created:\n",
    "* num_epochs, containing the number of epochs (set to 5)\n",
    "* dataloader, containing the dataloader\n",
    "* model, containing the neural network\n",
    "* criterion, containing the loss function, nn.MSELoss()\n",
    "* optimizer, containing the SGD optimizer"
   ]
  },
  {
   "cell_type": "code",
   "execution_count": 27,
   "id": "3ce05cda-9b64-4bf2-a0c4-624772315e63",
   "metadata": {
    "execution": {
     "iopub.execute_input": "2025-03-09T17:54:46.118622Z",
     "iopub.status.busy": "2025-03-09T17:54:46.118514Z",
     "iopub.status.idle": "2025-03-09T17:54:46.124488Z",
     "shell.execute_reply": "2025-03-09T17:54:46.124160Z",
     "shell.execute_reply.started": "2025-03-09T17:54:46.118612Z"
    }
   },
   "outputs": [],
   "source": [
    "salaries = pd.read_csv('salaries.csv')\n",
    "X = salaries.iloc[:, 1:-1].to_numpy(dtype='float32')\n",
    "y = salaries.iloc[:, [-1]].to_numpy(dtype='float32')\n",
    "dataset = TensorDataset(torch.tensor(X), torch.tensor(y))\n",
    "dataloader = DataLoader(dataset, batch_size=4, shuffle=True)\n",
    "num_epochs = 5\n",
    "model = nn.Sequential(\n",
    "    nn.Linear(in_features=4, out_features=2, bias=True),\n",
    "    nn.Sigmoid(),\n",
    "    nn.Linear(in_features=2, out_features=1, bias=True)\n",
    ")\n",
    "criterion = nn.MSELoss()\n",
    "optimizer = optim.SGD(model.parameters(), lr=0.001)"
   ]
  },
  {
   "cell_type": "markdown",
   "id": "fbb6dfa9-cb54-4779-9335-f7deb53bc7d9",
   "metadata": {},
   "source": [
    "* Write a for loop that iterates over the dataloader; this should be nested within a for loop that iterates over a range equal to the number of epochs.\n",
    "* Set the gradients of the optimizer to zero."
   ]
  },
  {
   "cell_type": "code",
   "execution_count": 28,
   "id": "6d90f084-7749-483c-bd94-16ffcdf9a15b",
   "metadata": {
    "execution": {
     "iopub.execute_input": "2025-03-09T17:54:46.124979Z",
     "iopub.status.busy": "2025-03-09T17:54:46.124873Z",
     "iopub.status.idle": "2025-03-09T17:54:46.311296Z",
     "shell.execute_reply": "2025-03-09T17:54:46.311030Z",
     "shell.execute_reply.started": "2025-03-09T17:54:46.124969Z"
    }
   },
   "outputs": [
    {
     "name": "stdout",
     "output_type": "stream",
     "text": [
      "loss=tensor(0.0453, grad_fn=<MseLossBackward0>)\n",
      "Ground truth salary: 0.005. Predicted salary: 0.058.\n",
      "Ground truth salary: 0.159. Predicted salary: 0.075.\n",
      "Ground truth salary: 0.194. Predicted salary: 0.106.\n",
      "Ground truth salary: 0.183. Predicted salary: -0.015.\n",
      "Ground truth salary: 0.126. Predicted salary: 0.062.\n",
      "Ground truth salary: 1.000. Predicted salary: 0.117.\n",
      "Ground truth salary: 0.120. Predicted salary: 0.043.\n",
      "Ground truth salary: 0.050. Predicted salary: 0.007.\n",
      "Ground truth salary: 0.312. Predicted salary: 0.062.\n",
      "Ground truth salary: 0.131. Predicted salary: 0.077.\n",
      "Ground truth salary: 0.128. Predicted salary: -0.015.\n",
      "Ground truth salary: 0.177. Predicted salary: 0.040.\n"
     ]
    }
   ],
   "source": [
    "# Loop over the number of epochs and the dataloader\n",
    "for i in range(num_epochs):\n",
    "    for data in dataloader:\n",
    "        # Set the gradients to zero\n",
    "        optimizer.zero_grad()\n",
    "        # Run a forward pass\n",
    "        feature, target = data\n",
    "        # print(f'{feature.shape=} {target.shape=}', end=' ')\n",
    "        prediction = model(feature)\n",
    "        # print(f'{prediction.shape=}')\n",
    "        # Compute the loss\n",
    "        loss = criterion(prediction, target)\n",
    "        # Compute the gradients\n",
    "        loss.backward()\n",
    "        # Update the model's parameters\n",
    "        optimizer.step()\n",
    "print(f'{loss=}')\n",
    "show_results(model, dataloader)"
   ]
  },
  {
   "cell_type": "markdown",
   "id": "76d12103-d0fa-45c4-af19-3ba4024f3b22",
   "metadata": {},
   "source": [
    "## Implementing ReLU"
   ]
  },
  {
   "cell_type": "code",
   "execution_count": 29,
   "id": "2689aac1-9d5c-4635-bf95-51e9373fda27",
   "metadata": {
    "execution": {
     "iopub.execute_input": "2025-03-09T17:54:46.311713Z",
     "iopub.status.busy": "2025-03-09T17:54:46.311596Z",
     "iopub.status.idle": "2025-03-09T17:54:46.314316Z",
     "shell.execute_reply": "2025-03-09T17:54:46.314081Z",
     "shell.execute_reply.started": "2025-03-09T17:54:46.311703Z"
    }
   },
   "outputs": [
    {
     "name": "stdout",
     "output_type": "stream",
     "text": [
      "ReLU applied to positive value: tensor(2.)\n",
      "ReLU applied to negative value: tensor(0.)\n"
     ]
    }
   ],
   "source": [
    "# Create a ReLU function with PyTorch\n",
    "relu_pytorch = nn.ReLU()\n",
    "\n",
    "x_pos = torch.tensor(2.0)\n",
    "x_neg = torch.tensor(-3.0)\n",
    "\n",
    "# Apply the ReLU function to the tensors\n",
    "output_pos = relu_pytorch(x_pos)\n",
    "output_neg = relu_pytorch(x_neg)\n",
    "\n",
    "print(\"ReLU applied to positive value:\", output_pos)\n",
    "print(\"ReLU applied to negative value:\", output_neg)"
   ]
  },
  {
   "cell_type": "markdown",
   "id": "757004e0-0e4c-4e1a-980d-535665d32c39",
   "metadata": {},
   "source": [
    "## Implementing leaky ReLU"
   ]
  },
  {
   "cell_type": "code",
   "execution_count": 30,
   "id": "7475954b-6fd2-4492-ad67-574098274c20",
   "metadata": {
    "execution": {
     "iopub.execute_input": "2025-03-09T17:54:46.314732Z",
     "iopub.status.busy": "2025-03-09T17:54:46.314575Z",
     "iopub.status.idle": "2025-03-09T17:54:46.317011Z",
     "shell.execute_reply": "2025-03-09T17:54:46.316754Z",
     "shell.execute_reply.started": "2025-03-09T17:54:46.314723Z"
    }
   },
   "outputs": [
    {
     "name": "stdout",
     "output_type": "stream",
     "text": [
      "tensor(-0.1000)\n"
     ]
    }
   ],
   "source": [
    "# Create a leaky relu function in PyTorch\n",
    "leaky_relu_pytorch = nn.LeakyReLU(negative_slope=0.05)\n",
    "\n",
    "x = torch.tensor(-2.0)\n",
    "# Call the above function on the tensor x\n",
    "output = leaky_relu_pytorch(x)\n",
    "print(output)"
   ]
  },
  {
   "cell_type": "markdown",
   "id": "191c8a8b-dc9d-4fce-93f9-985ce427d8c1",
   "metadata": {},
   "source": [
    "## Experimenting with learning rate"
   ]
  },
  {
   "cell_type": "markdown",
   "id": "39f32570-3513-435c-aed7-8f93b9bf524e",
   "metadata": {},
   "source": [
    "In this exercise, your goal is to find the optimal learning rate such that the optimizer can find the minimum of the non-convex function\n",
    "$x^4 + x^3 - 5x^2$ in ten steps."
   ]
  },
  {
   "cell_type": "code",
   "execution_count": 31,
   "id": "281d531b-efac-42fa-be04-f9b5f7d7bab1",
   "metadata": {
    "execution": {
     "iopub.execute_input": "2025-03-09T17:54:46.317436Z",
     "iopub.status.busy": "2025-03-09T17:54:46.317288Z",
     "iopub.status.idle": "2025-03-09T17:54:46.319079Z",
     "shell.execute_reply": "2025-03-09T17:54:46.318821Z",
     "shell.execute_reply.started": "2025-03-09T17:54:46.317426Z"
    }
   },
   "outputs": [],
   "source": [
    "def function(x):\n",
    "    return x**4 + x**3 - 5 * x**2"
   ]
  },
  {
   "cell_type": "markdown",
   "id": "44b9b685-1e07-4a03-885c-a82a09401dc8",
   "metadata": {},
   "source": [
    "You will experiment with three different learning rate values. For this problem, try learning rate values between 0.001 to 0.1.\n",
    "\n",
    "You are provided with the optimize_and_plot() function that takes the learning rate for the first argument. This function will run 10 steps of the SGD optimizer and display the results."
   ]
  },
  {
   "cell_type": "code",
   "execution_count": 32,
   "id": "f5dc56e5-3aa9-4bbb-9c3b-a0606c5a2edf",
   "metadata": {
    "execution": {
     "iopub.execute_input": "2025-03-09T17:54:46.319483Z",
     "iopub.status.busy": "2025-03-09T17:54:46.319390Z",
     "iopub.status.idle": "2025-03-09T17:54:46.487669Z",
     "shell.execute_reply": "2025-03-09T17:54:46.487368Z",
     "shell.execute_reply.started": "2025-03-09T17:54:46.319474Z"
    }
   },
   "outputs": [],
   "source": [
    "import matplotlib.pyplot as plt\n",
    "def optimize_and_plot(lr=0.01, momentum=0.0):\n",
    "\n",
    "    x = torch.tensor(2.0, requires_grad=True)\n",
    "    buffer = torch.zeros_like(x.data)\n",
    "    values = []\n",
    "    for i in range(10):\n",
    "\n",
    "        y = function(x)\n",
    "        # values.append((x.clone(), y.clone()))\n",
    "        # work-around previous line\n",
    "        values.append((x.clone().detach(), y.clone().detach()))\n",
    "        y.backward()\n",
    "\n",
    "        d_p = x.grad.data\n",
    "        if momentum != 0:\n",
    "            buffer.mul_(momentum).add_(d_p)\n",
    "            d_p = buffer\n",
    "\n",
    "        x.data.add_(d_p, alpha=-lr)\n",
    "        x.grad.zero_()\n",
    "\n",
    "    x = np.arange(-3, 2, 0.001)\n",
    "    y = function(x)\n",
    "\n",
    "    plt.figure(figsize=(10, 5))\n",
    "    plt.plot(\n",
    "        [v[0].detach().numpy() for v in values],\n",
    "        [v[1].detach().numpy() for v in values],\n",
    "        \"r-X\",\n",
    "        linewidth=2,\n",
    "        markersize=7,\n",
    "    )\n",
    "    for i in range(10):\n",
    "        plt.text(values[i][0] + 0.1, values[i][1], f\"step {i}\", fontdict={\"color\": \"r\"})\n",
    "    plt.plot(x, y, linewidth=2)\n",
    "    plt.grid()\n",
    "    plt.tick_params(axis=\"both\", which=\"major\", labelsize=12)\n",
    "    plt.legend([\"Optimizer steps\", \"Square function\"])\n",
    "    plt.show()"
   ]
  },
  {
   "cell_type": "markdown",
   "id": "f0e6fea8-ccf9-4fb8-a841-3bf6e3b2c80d",
   "metadata": {},
   "source": [
    "Try a small learning rate value such that the optimizer isn't able to get past the first minimum on the right."
   ]
  },
  {
   "cell_type": "code",
   "execution_count": 33,
   "id": "eaa6270e-f493-4375-9ce0-8f7b43588146",
   "metadata": {
    "execution": {
     "iopub.execute_input": "2025-03-09T17:54:46.488089Z",
     "iopub.status.busy": "2025-03-09T17:54:46.487975Z",
     "iopub.status.idle": "2025-03-09T17:54:46.573331Z",
     "shell.execute_reply": "2025-03-09T17:54:46.573082Z",
     "shell.execute_reply.started": "2025-03-09T17:54:46.488079Z"
    }
   },
   "outputs": [
    {
     "data": {
      "image/png": "[encoded data removed]",
      "text/plain": [
       "<Figure size 1000x500 with 1 Axes>"
      ]
     },
     "metadata": {},
     "output_type": "display_data"
    }
   ],
   "source": [
    "# Try a first learning rate value\n",
    "lr0 = 0.08\n",
    "optimize_and_plot(lr=lr0)"
   ]
  },
  {
   "cell_type": "markdown",
   "id": "f39d6b07-5a50-4186-8ce7-08ab935182b4",
   "metadata": {},
   "source": [
    "Try a large learning rate value such that the optimizer skips past the global minimum at -2."
   ]
  },
  {
   "cell_type": "code",
   "execution_count": 34,
   "id": "85635e2a-bd8e-43c7-9f87-b1bbcf276c46",
   "metadata": {
    "execution": {
     "iopub.execute_input": "2025-03-09T17:54:46.573741Z",
     "iopub.status.busy": "2025-03-09T17:54:46.573645Z",
     "iopub.status.idle": "2025-03-09T17:54:46.649956Z",
     "shell.execute_reply": "2025-03-09T17:54:46.649712Z",
     "shell.execute_reply.started": "2025-03-09T17:54:46.573731Z"
    }
   },
   "outputs": [
    {
     "data": {
      "image/png": "[encoded data removed]",
      "text/plain": [
       "<Figure size 1000x500 with 1 Axes>"
      ]
     },
     "metadata": {},
     "output_type": "display_data"
    }
   ],
   "source": [
    "# Try a second learning rate value\n",
    "lr1 = .1\n",
    "optimize_and_plot(lr=lr1)"
   ]
  },
  {
   "cell_type": "markdown",
   "id": "4c84e20b-1bc6-4044-9a8b-c25ff4b17dcc",
   "metadata": {},
   "source": [
    "Based on the previous results, try a better learning rate value."
   ]
  },
  {
   "cell_type": "code",
   "execution_count": 35,
   "id": "0d35a464-332f-4ea7-bcf0-8189212f341c",
   "metadata": {
    "execution": {
     "iopub.execute_input": "2025-03-09T17:54:46.650370Z",
     "iopub.status.busy": "2025-03-09T17:54:46.650272Z",
     "iopub.status.idle": "2025-03-09T17:54:46.725010Z",
     "shell.execute_reply": "2025-03-09T17:54:46.724733Z",
     "shell.execute_reply.started": "2025-03-09T17:54:46.650361Z"
    }
   },
   "outputs": [
    {
     "data": {
      "image/png": "[encoded data removed]",
      "text/plain": [
       "<Figure size 1000x500 with 1 Axes>"
      ]
     },
     "metadata": {},
     "output_type": "display_data"
    }
   ],
   "source": [
    "# Try a third learning rate value\n",
    "lr2 = 0.09\n",
    "optimize_and_plot(lr=lr2)"
   ]
  },
  {
   "cell_type": "markdown",
   "id": "f2d59f47-5bba-4181-958d-d91a16aaf122",
   "metadata": {},
   "source": [
    "## Experimenting with momentum"
   ]
  },
  {
   "cell_type": "markdown",
   "id": "0c693a7c-4d88-454f-bd48-cf0673c0f8fb",
   "metadata": {},
   "source": [
    "In this exercise, your goal is to find the optimal momentum such that the optimizer can find the minimum of the following non-convex function $x^4 + x^3 - 5x^2$ in 20 steps. You will experiment with two different momentum values. For this problem, the learning rate is fixed at 0.01. \n",
    "\n",
    "You are provided with the optimize_and_plot() function that accepts as input the momentum parameter. This function will run 20 steps of the SGD optimizer and display the results."
   ]
  },
  {
   "cell_type": "code",
   "execution_count": 36,
   "id": "43958050-a614-4463-8a0a-877b458f15fc",
   "metadata": {
    "execution": {
     "iopub.execute_input": "2025-03-09T17:54:46.725516Z",
     "iopub.status.busy": "2025-03-09T17:54:46.725416Z",
     "iopub.status.idle": "2025-03-09T17:54:46.729045Z",
     "shell.execute_reply": "2025-03-09T17:54:46.728726Z",
     "shell.execute_reply.started": "2025-03-09T17:54:46.725507Z"
    }
   },
   "outputs": [],
   "source": [
    "def optimize_and_plot(lr=0.01, momentum=0.0):\n",
    "    if lr > 0.05:\n",
    "        raise ValueError(\"Choose a learning <= 0.05\")\n",
    "    x = torch.tensor(2.0, requires_grad=True)\n",
    "    buffer = torch.zeros_like(x.data)\n",
    "    values = []\n",
    "    for i in range(20):\n",
    "\n",
    "        y = function(x)\n",
    "        values.append((x.clone().detach(), y.clone().detach()))\n",
    "        y.backward()\n",
    "\n",
    "        d_p = x.grad.data\n",
    "        if momentum != 0:\n",
    "            buffer.mul_(momentum).add_(d_p)\n",
    "            d_p = buffer\n",
    "\n",
    "        x.data.add_(d_p, alpha=-lr)\n",
    "        x.grad.zero_()\n",
    "\n",
    "    x = np.arange(-3, 2, 0.001)\n",
    "    y = function(x)\n",
    "\n",
    "    plt.figure(figsize=(10, 5))\n",
    "    plt.plot(\n",
    "        [v[0].detach().numpy() for v in values],\n",
    "        [v[1].detach().numpy() for v in values],\n",
    "        \"r-X\",\n",
    "        linewidth=2,\n",
    "        markersize=7,\n",
    "    )\n",
    "    for i in range(20):\n",
    "        plt.text(values[i][0] + 0.1, values[i][1], f\"step {i}\", fontdict={\"color\": \"r\"})\n",
    "    plt.plot(x, y, linewidth=2)\n",
    "    plt.grid()\n",
    "    plt.tick_params(axis=\"both\", which=\"major\", labelsize=12)\n",
    "    plt.legend([\"Optimizer steps\", \"Square function\"])\n",
    "    plt.show()"
   ]
  },
  {
   "cell_type": "markdown",
   "id": "b574074a-925f-483e-932c-e711e76eb3f1",
   "metadata": {
    "execution": {
     "iopub.execute_input": "2025-03-08T03:03:55.543550Z",
     "iopub.status.busy": "2025-03-08T03:03:55.542946Z",
     "iopub.status.idle": "2025-03-08T03:03:55.580346Z",
     "shell.execute_reply": "2025-03-08T03:03:55.577439Z",
     "shell.execute_reply.started": "2025-03-08T03:03:55.543495Z"
    }
   },
   "source": [
    "Try a first value for the momentum such that the optimizer gets stuck in the first minimum."
   ]
  },
  {
   "cell_type": "code",
   "execution_count": 37,
   "id": "d53902ca-44ac-4fd2-9649-f14bdd41af25",
   "metadata": {
    "execution": {
     "iopub.execute_input": "2025-03-09T17:54:46.729488Z",
     "iopub.status.busy": "2025-03-09T17:54:46.729381Z",
     "iopub.status.idle": "2025-03-09T17:54:46.817224Z",
     "shell.execute_reply": "2025-03-09T17:54:46.816940Z",
     "shell.execute_reply.started": "2025-03-09T17:54:46.729478Z"
    }
   },
   "outputs": [
    {
     "data": {
      "image/png": "[encoded data removed]",
      "text/plain": [
       "<Figure size 1000x500 with 1 Axes>"
      ]
     },
     "metadata": {},
     "output_type": "display_data"
    }
   ],
   "source": [
    "# Try a first value for momentum\n",
    "mom0 = 0\n",
    "optimize_and_plot(momentum=mom0)"
   ]
  },
  {
   "cell_type": "markdown",
   "id": "0a6e239d-9490-4224-bb97-d059b8306363",
   "metadata": {},
   "source": [
    "Try a second value for the momentum such that the optimizer finds the global optimum."
   ]
  },
  {
   "cell_type": "code",
   "execution_count": 38,
   "id": "7b5f6241-59a6-46aa-93cf-a3108176cc67",
   "metadata": {
    "execution": {
     "iopub.execute_input": "2025-03-09T17:54:46.817737Z",
     "iopub.status.busy": "2025-03-09T17:54:46.817592Z",
     "iopub.status.idle": "2025-03-09T17:54:46.907521Z",
     "shell.execute_reply": "2025-03-09T17:54:46.907279Z",
     "shell.execute_reply.started": "2025-03-09T17:54:46.817728Z"
    }
   },
   "outputs": [
    {
     "data": {
      "image/png": "[encoded data removed]",
      "text/plain": [
       "<Figure size 1000x500 with 1 Axes>"
      ]
     },
     "metadata": {},
     "output_type": "display_data"
    }
   ],
   "source": [
    "# Try a second value for momentum\n",
    "mom1 = 0.92\n",
    "optimize_and_plot(momentum=mom1)"
   ]
  },
  {
   "cell_type": "markdown",
   "id": "2cb91343-be54-44bb-bd5a-f5fe031c5e2c",
   "metadata": {},
   "source": [
    "> Momentum and learning rate are critical to the training of your neural network. A good rule of thumb is to start with a learning rate of 0.001 and a momentum of 0.95."
   ]
  },
  {
   "cell_type": "markdown",
   "id": "78f034c0-97b7-49f7-a749-3e08d0b6af03",
   "metadata": {},
   "source": [
    "# Evaluating and Improving Models"
   ]
  },
  {
   "cell_type": "markdown",
   "id": "860e2668-982a-4fab-8c8e-083c72432d51",
   "metadata": {},
   "source": [
    "## Freeze layers of a model\n",
    "\n",
    "You are about to fine-tune a model on a new task after loading pre-trained weights. The model contains three linear layers. However, because your dataset is small, you only want to train the last linear layer of this model and freeze the first two linear layers.\n",
    "\n",
    "The model has already been created and exists under the variable model. You will be using the named_parameters method of the model to list the parameters of the model. Each parameter is described by a name. This name is a string with the following naming convention: x.name where x is the index of the layer.\n",
    "\n",
    "Remember that a linear layer has two parameters: the weight and the bias."
   ]
  },
  {
   "cell_type": "code",
   "execution_count": 39,
   "id": "c6aa11af-97e0-43a6-a161-48d159ee4131",
   "metadata": {
    "execution": {
     "iopub.execute_input": "2025-03-09T17:54:46.907987Z",
     "iopub.status.busy": "2025-03-09T17:54:46.907857Z",
     "iopub.status.idle": "2025-03-09T17:54:46.910161Z",
     "shell.execute_reply": "2025-03-09T17:54:46.909905Z",
     "shell.execute_reply.started": "2025-03-09T17:54:46.907978Z"
    }
   },
   "outputs": [],
   "source": [
    "model = nn.Sequential(\n",
    "    nn.Linear(in_features=8, out_features=16, bias=True),\n",
    "    nn.Linear(in_features=16, out_features=32, bias=True),\n",
    "    nn.Linear(in_features=32, out_features=10, bias=True))"
   ]
  },
  {
   "cell_type": "code",
   "execution_count": 40,
   "id": "7b3c64e5-689c-404e-be01-50c71a6d0fe2",
   "metadata": {
    "execution": {
     "iopub.execute_input": "2025-03-09T17:54:46.910598Z",
     "iopub.status.busy": "2025-03-09T17:54:46.910453Z",
     "iopub.status.idle": "2025-03-09T17:54:46.912579Z",
     "shell.execute_reply": "2025-03-09T17:54:46.912254Z",
     "shell.execute_reply.started": "2025-03-09T17:54:46.910588Z"
    }
   },
   "outputs": [],
   "source": [
    "for name, param in model.named_parameters():\n",
    "    # Check if the parameters belong to the first layer\n",
    "    if name == \"0.weight\":\n",
    "        # Freeze the parameters\n",
    "        param.requires_grad = False\n",
    "    # Check if the parameters belong to the second layer\n",
    "    if name == \"1.weight\":\n",
    "        # Freeze the parameters\n",
    "        param.requires_grad = False"
   ]
  },
  {
   "cell_type": "markdown",
   "id": "384f0fcd-7ffa-4528-bd25-41deb67a4481",
   "metadata": {},
   "source": [
    "## Layer initialization"
   ]
  },
  {
   "cell_type": "code",
   "execution_count": 41,
   "id": "03138e2f-db38-4baa-836d-5485877f4785",
   "metadata": {
    "execution": {
     "iopub.execute_input": "2025-03-09T17:54:46.913083Z",
     "iopub.status.busy": "2025-03-09T17:54:46.912959Z",
     "iopub.status.idle": "2025-03-09T17:54:46.915685Z",
     "shell.execute_reply": "2025-03-09T17:54:46.915381Z",
     "shell.execute_reply.started": "2025-03-09T17:54:46.913067Z"
    }
   },
   "outputs": [],
   "source": [
    "layer0 = nn.Linear(16, 32)\n",
    "layer1 = nn.Linear(32, 64)\n",
    "\n",
    "# Use uniform initialization for layer0 and layer1 weights\n",
    "nn.init.uniform_(layer0.weight)\n",
    "nn.init.uniform_(layer1.weight)\n",
    "\n",
    "model = nn.Sequential(layer0, layer1)"
   ]
  },
  {
   "cell_type": "markdown",
   "id": "720216e6-4fbb-4b34-a753-5842abcd8491",
   "metadata": {},
   "source": [
    "## Writing the evaluation loop"
   ]
  },
  {
   "cell_type": "markdown",
   "id": "251058c0-8f50-4eb8-af65-f504c2459fb1",
   "metadata": {},
   "source": [
    "In this exercise, you will write an evaluation loop to compute validation loss. The evaluation loop follows a similar structure to the training loop but without gradient calculations or weight updates.\n",
    "\n",
    "model, validationloader, and loss function criterion have already been defined to handle predictions, data loading, and loss calculation."
   ]
  },
  {
   "cell_type": "code",
   "execution_count": 42,
   "id": "963dad6e-1312-4835-ac98-338cbc95ff82",
   "metadata": {
    "execution": {
     "iopub.execute_input": "2025-03-09T17:54:46.916114Z",
     "iopub.status.busy": "2025-03-09T17:54:46.916002Z",
     "iopub.status.idle": "2025-03-09T17:54:47.092227Z",
     "shell.execute_reply": "2025-03-09T17:54:47.091929Z",
     "shell.execute_reply.started": "2025-03-09T17:54:46.916104Z"
    }
   },
   "outputs": [],
   "source": [
    "# recreating the exercise model datacamp didn't provide\n",
    "from torchvision.transforms import Normalize\n",
    "model = nn.Sequential(\n",
    "    Normalize(\n",
    "        mean=[0.51378129, 0.44999619, 0.42258797],\n",
    "        std=[0.25081163, 0.24213039, 0.24616128],\n",
    "    ),\n",
    "    nn.Flatten(start_dim=1, end_dim=-1),\n",
    "    nn.Linear(in_features=3072, out_features=3, bias=True),\n",
    ")\n",
    "# recreating the validation dataset datacamp didn't provide\n",
    "X = pd.read_csv('chapter4_evaluation_loop_dataset_X.csv', dtype='float32').values.reshape(71,3,32,32)\n",
    "y = pd.read_csv('chapter4_evaluation_loop_dataset_y.csv', dtype='float32').values\n",
    "valdataset = TensorDataset(torch.tensor(X), torch.tensor(y))\n",
    "# recreating a DataLoader datacamp didn't provide\n",
    "validationloader = DataLoader(valdataset, batch_size=1, shuffle=True)\n",
    "criterion = CrossEntropyLoss()"
   ]
  },
  {
   "attachments": {},
   "cell_type": "markdown",
   "id": "4f415999-abcb-44d8-be49-3e61583acc8e",
   "metadata": {},
   "source": [
    "* Set the model to evaluation mode.\n",
    "* Sum the current batch loss to the validation_loss variable.\n",
    "* Calculate the mean loss value for the epoch.\n",
    "* Set the model back to training mode."
   ]
  },
  {
   "cell_type": "code",
   "execution_count": 43,
   "id": "5f511c8a-907a-4a1b-8c7b-1615a2c6d0d6",
   "metadata": {
    "execution": {
     "iopub.execute_input": "2025-03-09T17:54:47.092650Z",
     "iopub.status.busy": "2025-03-09T17:54:47.092546Z",
     "iopub.status.idle": "2025-03-09T17:54:47.105928Z",
     "shell.execute_reply": "2025-03-09T17:54:47.105589Z",
     "shell.execute_reply.started": "2025-03-09T17:54:47.092640Z"
    }
   },
   "outputs": [
    {
     "name": "stdout",
     "output_type": "stream",
     "text": [
      "1.4624017124444666\n"
     ]
    },
    {
     "data": {
      "text/plain": [
       "Sequential(\n",
       "  (0): Normalize(mean=[0.51378129, 0.44999619, 0.42258797], std=[0.25081163, 0.24213039, 0.24616128])\n",
       "  (1): Flatten(start_dim=1, end_dim=-1)\n",
       "  (2): Linear(in_features=3072, out_features=3, bias=True)\n",
       ")"
      ]
     },
     "execution_count": 43,
     "metadata": {},
     "output_type": "execute_result"
    }
   ],
   "source": [
    "# Set the model to evaluation mode\n",
    "model.eval()\n",
    "validation_loss = 0.0\n",
    "\n",
    "with torch.no_grad():\n",
    "  for features, labels in validationloader:\n",
    "      outputs = model(features)\n",
    "      loss = criterion(outputs, labels)\n",
    "      # Sum the current loss to the validation_loss variable\n",
    "      validation_loss += loss.item()\n",
    "      \n",
    "# Calculate the mean loss value\n",
    "validation_loss_epoch = validation_loss / len(validationloader)\n",
    "print(validation_loss_epoch)\n",
    "\n",
    "# Set the model back to training mode\n",
    "model.train()"
   ]
  },
  {
   "cell_type": "markdown",
   "id": "01ed49ab-3330-41e2-8fb8-09bec80818b2",
   "metadata": {},
   "source": [
    "## Calculating accuracy using torchmetrics"
   ]
  },
  {
   "cell_type": "markdown",
   "id": "a6941e81-06da-44d7-9cb1-59aed8ff61cc",
   "metadata": {},
   "source": [
    "Tracking accuracy during training helps identify the best-performing epoch.\n",
    "\n",
    "In this exercise, you'll use torchmetrics to calculate accuracy on a facemask dataset with three classes. The plot_errors function will highlight misclassified samples, helping you analyze model errors.\n",
    "\n",
    "torchmetrics package is already imported. Model outputs are softmax probabilities, and labels are one-hot encoded vector"
   ]
  },
  {
   "cell_type": "code",
   "execution_count": 44,
   "id": "b2b7a1a4-f324-4c3f-9981-6de9263c222d",
   "metadata": {
    "execution": {
     "iopub.execute_input": "2025-03-09T17:54:47.106564Z",
     "iopub.status.busy": "2025-03-09T17:54:47.106327Z",
     "iopub.status.idle": "2025-03-09T17:54:47.108357Z",
     "shell.execute_reply": "2025-03-09T17:54:47.108085Z",
     "shell.execute_reply.started": "2025-03-09T17:54:47.106549Z"
    }
   },
   "outputs": [],
   "source": [
    "dataloader = DataLoader(valdataset, batch_size=1, shuffle=True)"
   ]
  },
  {
   "cell_type": "code",
   "execution_count": 45,
   "id": "5b5c2b8d-2eed-4d29-b41c-ced4b5de3257",
   "metadata": {
    "execution": {
     "iopub.execute_input": "2025-03-09T17:54:47.108751Z",
     "iopub.status.busy": "2025-03-09T17:54:47.108654Z",
     "iopub.status.idle": "2025-03-09T17:54:47.117353Z",
     "shell.execute_reply": "2025-03-09T17:54:47.117079Z",
     "shell.execute_reply.started": "2025-03-09T17:54:47.108742Z"
    }
   },
   "outputs": [],
   "source": [
    "from mpl_toolkits.axes_grid1 import ImageGrid\n",
    "def plot_errors(model, dataloader): \n",
    "    # find mismatches\n",
    "    mismatches = []\n",
    "    for data in dataloader:\n",
    "        if len(mismatches) > 8:\n",
    "            break\n",
    "        features, labels = data\n",
    "        outputs = model(features)\n",
    "        gt = labels.argmax(-1)\n",
    "        pred = outputs.argmax(-1)\n",
    "        for f, g, p in zip(features, gt, pred):\n",
    "            if g != p:\n",
    "                mismatches.append((f, g, p))\n",
    "    \n",
    "    \n",
    "    fig = plt.figure(figsize=(8, 8))\n",
    "    grid = ImageGrid(fig, 111,  # similar to subplot(111)\n",
    "                     nrows_ncols=(2, 4),  # creates 2x2 grid of axes\n",
    "                     axes_pad=0.5,  # pad between axes in inch.\n",
    "                     )\n",
    "    mapping = {0: 'No mask', 1: 'Mask', 2: 'Incorrect'}\n",
    "    for idx, ax in enumerate(grid):\n",
    "        ax.imshow(mismatches[idx][0].permute(1, 2, 0))\n",
    "        ax.set_title(f'GT: {mapping[mismatches[idx][1].item()]} \\n PRED: {mapping[mismatches[idx][2].item()]}')\n",
    "        ax.axis('off')\n",
    "    plt.show()"
   ]
  },
  {
   "cell_type": "code",
   "execution_count": 46,
   "id": "bada9699-4fbd-4b57-b2b6-4d2541529b79",
   "metadata": {
    "execution": {
     "iopub.execute_input": "2025-03-09T17:54:47.117782Z",
     "iopub.status.busy": "2025-03-09T17:54:47.117680Z",
     "iopub.status.idle": "2025-03-09T17:54:47.864680Z",
     "shell.execute_reply": "2025-03-09T17:54:47.864382Z",
     "shell.execute_reply.started": "2025-03-09T17:54:47.117772Z"
    }
   },
   "outputs": [
    {
     "name": "stderr",
     "output_type": "stream",
     "text": [
      "/home/mauricio/miniconda3/envs/dev/lib/python3.12/site-packages/transformers/utils/generic.py:441: FutureWarning: `torch.utils._pytree._register_pytree_node` is deprecated. Please use `torch.utils._pytree.register_pytree_node` instead.\n",
      "  _torch_pytree._register_pytree_node(\n"
     ]
    },
    {
     "name": "stdout",
     "output_type": "stream",
     "text": [
      "Accuracy on all data: 0.15492957830429077\n"
     ]
    },
    {
     "data": {
      "image/png": "[encoded data removed]",
      "text/plain": [
       "<Figure size 800x800 with 16 Axes>"
      ]
     },
     "metadata": {},
     "output_type": "display_data"
    }
   ],
   "source": [
    "import torchmetrics\n",
    "# Create accuracy metric\n",
    "metric = torchmetrics.Accuracy(task='multiclass', num_classes=3)\n",
    "for features, labels in dataloader:\n",
    "    outputs = model(features)\n",
    "    # Calculate accuracy over the batch\n",
    "    # (keeping argmax for one-hot labels)\n",
    "    metric.update(outputs, labels.argmax(dim=-1))\n",
    "# Calculate accuracy over the whole epoch\n",
    "accuracy = metric.compute()\n",
    "print(f\"Accuracy on all data: {accuracy}\")\n",
    "# Reset metric for the next epoch\n",
    "metric.reset()\n",
    "plot_errors(model, dataloader)"
   ]
  },
  {
   "cell_type": "markdown",
   "id": "3c6f9b42-69e2-4a9b-bbd5-3a2174f48118",
   "metadata": {},
   "source": [
    "## Experimenting with dropout\n",
    "\n",
    "Dropout helps prevent overfitting by randomly setting some output values to zero during training. In this exercise, you'll build a simple neural network with dropout and observe how it behaves in training and evaluation modes.\n",
    "\n",
    "torch.nn package is preloaded as nn, and features is already defined for you."
   ]
  },
  {
   "cell_type": "code",
   "execution_count": 47,
   "id": "de489779-2c95-43c5-9438-1d5abcb5e92b",
   "metadata": {
    "execution": {
     "iopub.execute_input": "2025-03-09T17:54:47.865286Z",
     "iopub.status.busy": "2025-03-09T17:54:47.865043Z",
     "iopub.status.idle": "2025-03-09T17:54:47.867512Z",
     "shell.execute_reply": "2025-03-09T17:54:47.867243Z",
     "shell.execute_reply.started": "2025-03-09T17:54:47.865275Z"
    }
   },
   "outputs": [
    {
     "name": "stdout",
     "output_type": "stream",
     "text": [
      "[[-1.0137436   0.39073732  0.13375203 -1.607832   -0.6986631  -0.7432301\n",
      "  -0.6056541   0.14528863]]\n"
     ]
    }
   ],
   "source": [
    "features = torch.randn((1, 8))\n",
    "print(features.numpy())"
   ]
  },
  {
   "cell_type": "markdown",
   "id": "7640aa1f-eeb5-4303-b93a-07c3e5940d3f",
   "metadata": {},
   "source": [
    "* Add a dropout layer to the model with a 50% probability of zeroing out elements.\n",
    "* Set the model to training mode and generate predictions using features, storing the output as output_train."
   ]
  },
  {
   "cell_type": "code",
   "execution_count": 48,
   "id": "b6de78de-77e9-4318-a104-a6259edb9ce6",
   "metadata": {
    "execution": {
     "iopub.execute_input": "2025-03-09T17:54:47.868024Z",
     "iopub.status.busy": "2025-03-09T17:54:47.867813Z",
     "iopub.status.idle": "2025-03-09T17:54:47.870892Z",
     "shell.execute_reply": "2025-03-09T17:54:47.870623Z",
     "shell.execute_reply.started": "2025-03-09T17:54:47.868013Z"
    }
   },
   "outputs": [
    {
     "name": "stdout",
     "output_type": "stream",
     "text": [
      "[[ 0.          0.3790476  -0.10633576 -0.        ]]\n"
     ]
    }
   ],
   "source": [
    "# Model with Dropout\n",
    "model = nn.Sequential(\n",
    "    nn.Linear(8, 6),\n",
    "    nn.Linear(6, 4),\n",
    "    nn.Dropout(p=0.5))\n",
    "# Forward pass in training mode (Dropout active)\n",
    "model.train()\n",
    "output_train = model(features)\n",
    "print(output_train.detach().numpy())"
   ]
  },
  {
   "cell_type": "markdown",
   "id": "b697a255-a52e-4c5b-8647-106da7cd6819",
   "metadata": {},
   "source": [
    "* Set the model to evaluation mode to disable dropout.\n",
    "* Generate predictions using features, storing the output as output_eval."
   ]
  },
  {
   "cell_type": "code",
   "execution_count": 49,
   "id": "3ef4fd52-6fb7-4b52-a30f-8a935c5bab3b",
   "metadata": {
    "execution": {
     "iopub.execute_input": "2025-03-09T17:54:47.871385Z",
     "iopub.status.busy": "2025-03-09T17:54:47.871199Z",
     "iopub.status.idle": "2025-03-09T17:54:47.873993Z",
     "shell.execute_reply": "2025-03-09T17:54:47.873732Z",
     "shell.execute_reply.started": "2025-03-09T17:54:47.871374Z"
    }
   },
   "outputs": [
    {
     "name": "stdout",
     "output_type": "stream",
     "text": [
      "Output in train mode: tensor([[ 0.0000,  0.3790, -0.1063, -0.0000]], grad_fn=<MulBackward0>)\n",
      "Output in eval mode: tensor([[ 0.1090,  0.1895, -0.0532, -0.0147]], grad_fn=<AddmmBackward0>)\n"
     ]
    }
   ],
   "source": [
    "# Forward pass in evaluation mode (Dropout disabled)\n",
    "model.eval()\n",
    "output_eval = model(features)\n",
    "\n",
    "# Print results\n",
    "print(\"Output in train mode:\", output_train)\n",
    "print(\"Output in eval mode:\", output_eval)"
   ]
  },
  {
   "cell_type": "markdown",
   "id": "ae473a7d-6830-489a-8cad-86653a985a9b",
   "metadata": {},
   "source": [
    "## Implementing random search\n",
    "\n",
    "Hyperparameter search is a computationally costly approach to experiment with different hyperparameter values. However, it can lead to performance improvements. In this exercise, you will implement a random search algorithm.\n",
    "\n",
    "You will randomly sample 10 values of the learning rate and momentum from the uniform distribution. To do so, you will use the np.random.uniform() function.\n",
    "\n",
    "numpy package has already been imported as np, and a plot_hyperparameter_search() function has been created to visualize your results."
   ]
  },
  {
   "cell_type": "code",
   "execution_count": 50,
   "id": "40ef1f15-2554-49f3-933d-0d1269f626b7",
   "metadata": {
    "execution": {
     "iopub.execute_input": "2025-03-09T17:54:47.874512Z",
     "iopub.status.busy": "2025-03-09T17:54:47.874311Z",
     "iopub.status.idle": "2025-03-09T17:54:47.876692Z",
     "shell.execute_reply": "2025-03-09T17:54:47.876431Z",
     "shell.execute_reply.started": "2025-03-09T17:54:47.874502Z"
    }
   },
   "outputs": [],
   "source": [
    "def plot_hyperparameter_search(values):\n",
    "    lrs, momentums = zip(*values)\n",
    "\n",
    "    plt.figure(figsize=(8, 6))\n",
    "    plt.scatter(lrs, momentums)\n",
    "    plt.xscale(\"log\")  # Use log scale for learning rate\n",
    "    plt.xlabel(\"Learning Rate\")\n",
    "    plt.ylabel(\"Momentum\")\n",
    "    # plt.title(\"Randomly Sampled Learning Rates and Momentum\")\n",
    "    plt.grid(True, which=\"both\", linestyle=\"--\", linewidth=0.5)\n",
    "\n",
    "    # Set specific tick marks on the x-axis\n",
    "    plt.xticks([10**-2, 10**-3, 10**-4], \n",
    "               [r'$10^{-2}$', r'$10^{-3}$', r'$10^{-4}$'])\n",
    "\n",
    "    plt.show()"
   ]
  },
  {
   "cell_type": "markdown",
   "id": "8b1ab819-1324-439b-ab36-b52f6210dba9",
   "metadata": {},
   "source": [
    "Randomly sample a learning rate factor between 2 and 4 so that the learning rate (lr) is bounded between and\n",
    ".\n",
    "Randomly sample a momentum between 0.85 and 0.99."
   ]
  },
  {
   "cell_type": "code",
   "execution_count": 51,
   "id": "b171225e-6f11-4b12-b0ff-5c1680a8329e",
   "metadata": {
    "execution": {
     "iopub.execute_input": "2025-03-09T17:54:47.877164Z",
     "iopub.status.busy": "2025-03-09T17:54:47.876983Z",
     "iopub.status.idle": "2025-03-09T17:54:48.031208Z",
     "shell.execute_reply": "2025-03-09T17:54:48.030868Z",
     "shell.execute_reply.started": "2025-03-09T17:54:47.877154Z"
    }
   },
   "outputs": [
    {
     "data": {
      "image/png": "[encoded data removed]",
      "text/plain": [
       "<Figure size 800x600 with 1 Axes>"
      ]
     },
     "metadata": {},
     "output_type": "display_data"
    }
   ],
   "source": [
    "values = []\n",
    "for idx in range(10):\n",
    "    # Randomly sample a learning rate factor between 2 and 4\n",
    "    factor = np.random.uniform(2,4)\n",
    "    lr = 10 ** -factor\n",
    "    # Randomly select a momentum between 0.85 and 0.99\n",
    "    momentum = np.random.uniform(0.85, 0.99)\n",
    "    values.append((lr, momentum))\n",
    "  \n",
    "plot_hyperparameter_search(values)"
   ]
  }
 ],
 "metadata": {
  "kernelspec": {
   "display_name": "Python 3 (ipykernel)",
   "language": "python",
   "name": "python3"
  },
  "language_info": {
   "codemirror_mode": {
    "name": "ipython",
    "version": 3
   },
   "file_extension": ".py",
   "mimetype": "text/x-python",
   "name": "python",
   "nbconvert_exporter": "python",
   "pygments_lexer": "ipython3",
   "version": "3.12.9"
  }
 },
 "nbformat": 4,
 "nbformat_minor": 5
}
