{
 "cells": [
  {
   "cell_type": "markdown",
   "id": "f399781e-638a-4dcd-a644-f1b2ccb929b9",
   "metadata": {},
   "source": [
    "# Intro"
   ]
  },
  {
   "cell_type": "code",
   "execution_count": 61,
   "id": "31fdbb5d-dfd9-475b-81c7-4da8264ff9bb",
   "metadata": {
    "execution": {
     "iopub.execute_input": "2022-12-27T17:33:22.873370Z",
     "iopub.status.busy": "2022-12-27T17:33:22.873234Z",
     "iopub.status.idle": "2022-12-27T17:33:22.930971Z",
     "shell.execute_reply": "2022-12-27T17:33:22.930555Z",
     "shell.execute_reply.started": "2022-12-27T17:33:22.873360Z"
    },
    "tags": []
   },
   "outputs": [],
   "source": [
    "# Import the English language class\n",
    "from spacy.lang.en import English\n",
    "# Create the nlp object\n",
    "nlp = English()"
   ]
  },
  {
   "cell_type": "code",
   "execution_count": 66,
   "id": "e80086f2-b013-42d7-a78f-cb037f28b9ac",
   "metadata": {
    "execution": {
     "iopub.execute_input": "2022-12-27T17:34:11.117291Z",
     "iopub.status.busy": "2022-12-27T17:34:11.117153Z",
     "iopub.status.idle": "2022-12-27T17:34:11.123525Z",
     "shell.execute_reply": "2022-12-27T17:34:11.123110Z",
     "shell.execute_reply.started": "2022-12-27T17:34:11.117280Z"
    },
    "scrolled": true,
    "tags": []
   },
   "outputs": [
    {
     "data": {
      "text/plain": [
       "{'lang': 'en',\n",
       " 'name': 'core_web_sm',\n",
       " 'version': '3.4.1',\n",
       " 'description': 'English pipeline optimized for CPU. Components: tok2vec, tagger, parser, senter, ner, attribute_ruler, lemmatizer.',\n",
       " 'author': 'Explosion',\n",
       " 'email': 'contact@explosion.ai',\n",
       " 'url': 'https://explosion.ai',\n",
       " 'license': 'MIT',\n",
       " 'spacy_version': '>=3.4.0,<3.5.0',\n",
       " 'spacy_git_version': '2b5f955c2',\n",
       " 'vectors': {'width': 0,\n",
       "  'vectors': 0,\n",
       "  'keys': 0,\n",
       "  'name': None,\n",
       "  'mode': 'default'},\n",
       " 'labels': {'tok2vec': [],\n",
       "  'tagger': ['$',\n",
       "   \"''\",\n",
       "   ',',\n",
       "   '-LRB-',\n",
       "   '-RRB-',\n",
       "   '.',\n",
       "   ':',\n",
       "   'ADD',\n",
       "   'AFX',\n",
       "   'CC',\n",
       "   'CD',\n",
       "   'DT',\n",
       "   'EX',\n",
       "   'FW',\n",
       "   'HYPH',\n",
       "   'IN',\n",
       "   'JJ',\n",
       "   'JJR',\n",
       "   'JJS',\n",
       "   'LS',\n",
       "   'MD',\n",
       "   'NFP',\n",
       "   'NN',\n",
       "   'NNP',\n",
       "   'NNPS',\n",
       "   'NNS',\n",
       "   'PDT',\n",
       "   'POS',\n",
       "   'PRP',\n",
       "   'PRP$',\n",
       "   'RB',\n",
       "   'RBR',\n",
       "   'RBS',\n",
       "   'RP',\n",
       "   'SYM',\n",
       "   'TO',\n",
       "   'UH',\n",
       "   'VB',\n",
       "   'VBD',\n",
       "   'VBG',\n",
       "   'VBN',\n",
       "   'VBP',\n",
       "   'VBZ',\n",
       "   'WDT',\n",
       "   'WP',\n",
       "   'WP$',\n",
       "   'WRB',\n",
       "   'XX',\n",
       "   '_SP',\n",
       "   '``'],\n",
       "  'parser': ['ROOT',\n",
       "   'acl',\n",
       "   'acomp',\n",
       "   'advcl',\n",
       "   'advmod',\n",
       "   'agent',\n",
       "   'amod',\n",
       "   'appos',\n",
       "   'attr',\n",
       "   'aux',\n",
       "   'auxpass',\n",
       "   'case',\n",
       "   'cc',\n",
       "   'ccomp',\n",
       "   'compound',\n",
       "   'conj',\n",
       "   'csubj',\n",
       "   'csubjpass',\n",
       "   'dative',\n",
       "   'dep',\n",
       "   'det',\n",
       "   'dobj',\n",
       "   'expl',\n",
       "   'intj',\n",
       "   'mark',\n",
       "   'meta',\n",
       "   'neg',\n",
       "   'nmod',\n",
       "   'npadvmod',\n",
       "   'nsubj',\n",
       "   'nsubjpass',\n",
       "   'nummod',\n",
       "   'oprd',\n",
       "   'parataxis',\n",
       "   'pcomp',\n",
       "   'pobj',\n",
       "   'poss',\n",
       "   'preconj',\n",
       "   'predet',\n",
       "   'prep',\n",
       "   'prt',\n",
       "   'punct',\n",
       "   'quantmod',\n",
       "   'relcl',\n",
       "   'xcomp'],\n",
       "  'attribute_ruler': [],\n",
       "  'lemmatizer': [],\n",
       "  'ner': ['CARDINAL',\n",
       "   'DATE',\n",
       "   'EVENT',\n",
       "   'FAC',\n",
       "   'GPE',\n",
       "   'LANGUAGE',\n",
       "   'LAW',\n",
       "   'LOC',\n",
       "   'MONEY',\n",
       "   'NORP',\n",
       "   'ORDINAL',\n",
       "   'ORG',\n",
       "   'PERCENT',\n",
       "   'PERSON',\n",
       "   'PRODUCT',\n",
       "   'QUANTITY',\n",
       "   'TIME',\n",
       "   'WORK_OF_ART']},\n",
       " 'pipeline': ['tok2vec',\n",
       "  'tagger',\n",
       "  'parser',\n",
       "  'attribute_ruler',\n",
       "  'lemmatizer',\n",
       "  'ner'],\n",
       " 'components': ['tok2vec',\n",
       "  'tagger',\n",
       "  'parser',\n",
       "  'senter',\n",
       "  'attribute_ruler',\n",
       "  'lemmatizer',\n",
       "  'ner'],\n",
       " 'disabled': ['senter'],\n",
       " 'performance': {'token_acc': 0.9993092439000001,\n",
       "  'token_p': 0.9956819193,\n",
       "  'token_r': 0.9957659295000001,\n",
       "  'token_f': 0.9957239226000001,\n",
       "  'tag_acc': 0.9726250474,\n",
       "  'sents_p': 0.9191788296000001,\n",
       "  'sents_r': 0.8890428129,\n",
       "  'sents_f': 0.9038596962000001,\n",
       "  'dep_uas': 0.9165718428,\n",
       "  'dep_las': 0.8978441095,\n",
       "  'dep_las_per_type': {'prep': {'p': 0.8546376267,\n",
       "    'r': 0.8635553026,\n",
       "    'f': 0.8590733226},\n",
       "   'det': {'p': 0.9768701389000001,\n",
       "    'r': 0.9781048683,\n",
       "    'f': 0.9774871137000001},\n",
       "   'pobj': {'p': 0.9605592002000001, 'r': 0.9659532692, 'f': 0.9632486833},\n",
       "   'nsubj': {'p': 0.9545715675,\n",
       "    'r': 0.9463745893000001,\n",
       "    'f': 0.9504554055000001},\n",
       "   'aux': {'p': 0.9798401421, 'r': 0.9821953174, 'f': 0.9810163162000001},\n",
       "   'advmod': {'p': 0.8545653823, 'r': 0.8527679623000001, 'f': 0.8536657262},\n",
       "   'relcl': {'p': 0.7656695157000001,\n",
       "    'r': 0.7801161103,\n",
       "    'f': 0.7728253055000001},\n",
       "   'root': {'p': 0.9177651800000001,\n",
       "    'r': 0.8864041164,\n",
       "    'f': 0.9018120805000001},\n",
       "   'xcomp': {'p': 0.882290562,\n",
       "    'r': 0.8959081120000001,\n",
       "    'f': 0.8890471950000001},\n",
       "   'amod': {'p': 0.9154102213, 'r': 0.908649174, 'f': 0.9120171674},\n",
       "   'compound': {'p': 0.9121588361, 'r': 0.9287703275, 'f': 0.9203896355000001},\n",
       "   'poss': {'p': 0.9735258724, 'r': 0.9770531401, 'f': 0.9752863171},\n",
       "   'ccomp': {'p': 0.7657557167, 'r': 0.8389002037000001, 'f': 0.8006609},\n",
       "   'attr': {'p': 0.9032126881, 'r': 0.9339781329, 'f': 0.9183378127},\n",
       "   'case': {'p': 0.9773063641, 'r': 0.9914914915, 'f': 0.9843478261},\n",
       "   'mark': {'p': 0.9002893975, 'r': 0.9067302597, 'f': 0.9034983498},\n",
       "   'intj': {'p': 0.6514555468000001, 'r': 0.6065934066, 'f': 0.6282245827},\n",
       "   'advcl': {'p': 0.6653050804, 'r': 0.6562578696, 'f': 0.6607505071},\n",
       "   'cc': {'p': 0.8285611165000001, 'r': 0.8237052984000001, 'f': 0.8261260721},\n",
       "   'neg': {'p': 0.9452191235, 'r': 0.9523331661000001, 'f': 0.9487628093},\n",
       "   'conj': {'p': 0.7577601192000001, 'r': 0.7682527694, 'f': 0.7629703713},\n",
       "   'nsubjpass': {'p': 0.9216589862000001,\n",
       "    'r': 0.9230769231,\n",
       "    'f': 0.9223674097000001},\n",
       "   'auxpass': {'p': 0.9468749999999999, 'r': 0.9662870159, 'f': 0.9564825254},\n",
       "   'dobj': {'p': 0.9192052980000001, 'r': 0.940154594, 'f': 0.9295619288},\n",
       "   'nummod': {'p': 0.9373886485, 'r': 0.9300505051, 'f': 0.9337051591000001},\n",
       "   'npadvmod': {'p': 0.7748549323, 'r': 0.7115452931, 'f': 0.7418518519},\n",
       "   'prt': {'p': 0.8097199341, 'r': 0.8808243728, 'f': 0.8437768240000001},\n",
       "   'pcomp': {'p': 0.8756183746, 'r': 0.8676470588, 'f': 0.8716144917},\n",
       "   'expl': {'p': 0.9809322034000001, 'r': 0.9914346895, 'f': 0.9861554846},\n",
       "   'acl': {'p': 0.7327887981, 'r': 0.6852154937, 'f': 0.7082041162},\n",
       "   'agent': {'p': 0.8959044369, 'r': 0.9408602151000001, 'f': 0.9178321678},\n",
       "   'dative': {'p': 0.7846153846, 'r': 0.7018348624, 'f': 0.7409200969},\n",
       "   'acomp': {'p': 0.9127423823, 'r': 0.8965986395000001, 'f': 0.90459849},\n",
       "   'dep': {'p': 0.37867647060000004, 'r': 0.1672077922, 'f': 0.231981982},\n",
       "   'csubj': {'p': 0.7393939394, 'r': 0.7218934911, 'f': 0.7305389222},\n",
       "   'quantmod': {'p': 0.8694493783, 'r': 0.7952883834000001, 'f': 0.8307170132},\n",
       "   'nmod': {'p': 0.7147169811, 'r': 0.577087142, 'f': 0.6385704653000001},\n",
       "   'appos': {'p': 0.7100509495, 'r': 0.6650759219, 'f': 0.686827957},\n",
       "   'predet': {'p': 0.8636363636000001, 'r': 0.8969957082000001, 'f': 0.88},\n",
       "   'preconj': {'p': 0.5769230769, 'r': 0.6976744186, 'f': 0.6315789474},\n",
       "   'oprd': {'p': 0.8160535117000001, 'r': 0.728358209, 'f': 0.7697160883},\n",
       "   'parataxis': {'p': 0.5835694051, 'r': 0.4468546638, 'f': 0.5061425061},\n",
       "   'meta': {'p': 0.8666666667, 'r': 0.5, 'f': 0.6341463415},\n",
       "   'csubjpass': {'p': 0.5, 'r': 0.6666666667000001, 'f': 0.5714285714}},\n",
       "  'ents_p': 0.8410860451000001,\n",
       "  'ents_r': 0.8439503205000001,\n",
       "  'ents_f': 0.8425157484,\n",
       "  'ents_per_type': {'DATE': {'p': 0.8602484472,\n",
       "    'r': 0.8793650794000001,\n",
       "    'f': 0.8697017268},\n",
       "   'GPE': {'p': 0.9056603774, 'r': 0.8970711297, 'f': 0.9013452915},\n",
       "   'ORDINAL': {'p': 0.7703081232000001, 'r': 0.8540372671, 'f': 0.8100147275},\n",
       "   'ORG': {'p': 0.7932975185000001,\n",
       "    'r': 0.8221102863,\n",
       "    'f': 0.8074469470000001},\n",
       "   'CARDINAL': {'p': 0.8078409718, 'r': 0.8697978597, 'f': 0.8376753507},\n",
       "   'LOC': {'p': 0.7148148148, 'r': 0.6146496815, 'f': 0.6609589041},\n",
       "   'PERSON': {'p': 0.8480543545,\n",
       "    'r': 0.8962140992000001,\n",
       "    'f': 0.8714693748000001},\n",
       "   'NORP': {'p': 0.91230893, 'r': 0.9072, 'f': 0.9097472924000001},\n",
       "   'QUANTITY': {'p': 0.7954545455, 'r': 0.5769230769, 'f': 0.6687898089000001},\n",
       "   'FAC': {'p': 0.37735849060000004, 'r': 0.3076923077, 'f': 0.3389830508},\n",
       "   'TIME': {'p': 0.7477744807000001, 'r': 0.7368421053, 'f': 0.7422680412},\n",
       "   'EVENT': {'p': 0.5851063830000001,\n",
       "    'r': 0.316091954,\n",
       "    'f': 0.41044776120000004},\n",
       "   'WORK_OF_ART': {'p': 0.5, 'r': 0.3608247423, 'f': 0.41916167660000003},\n",
       "   'LAW': {'p': 0.435483871, 'r': 0.421875, 'f': 0.4285714286},\n",
       "   'MONEY': {'p': 0.9240048251, 'r': 0.9043683589, 'f': 0.9140811456},\n",
       "   'PRODUCT': {'p': 0.5333333333, 'r': 0.2274881517, 'f': 0.3189368771},\n",
       "   'PERCENT': {'p': 0.9154704944000001,\n",
       "    'r': 0.8790199081000001,\n",
       "    'f': 0.896875},\n",
       "   'LANGUAGE': {'p': 0.85, 'r': 0.53125, 'f': 0.6538461538}},\n",
       "  'speed': 9602.8922159566},\n",
       " 'sources': [{'name': 'OntoNotes 5',\n",
       "   'url': 'https://catalog.ldc.upenn.edu/LDC2013T19',\n",
       "   'license': 'commercial (licensed by Explosion)',\n",
       "   'author': 'Ralph Weischedel, Martha Palmer, Mitchell Marcus, Eduard Hovy, Sameer Pradhan, Lance Ramshaw, Nianwen Xue, Ann Taylor, Jeff Kaufman, Michelle Franchini, Mohammed El-Bachouti, Robert Belvin, Ann Houston'},\n",
       "  {'name': 'ClearNLP Constituent-to-Dependency Conversion',\n",
       "   'url': 'https://github.com/clir/clearnlp-guidelines/blob/master/md/components/dependency_conversion.md',\n",
       "   'license': 'Citation provided for reference, no code packaged with model',\n",
       "   'author': 'Emory University'},\n",
       "  {'name': 'WordNet 3.0',\n",
       "   'url': 'https://wordnet.princeton.edu/',\n",
       "   'author': 'Princeton University',\n",
       "   'license': 'WordNet 3.0 License'}],\n",
       " 'requirements': []}"
      ]
     },
     "execution_count": 66,
     "metadata": {},
     "output_type": "execute_result"
    }
   ],
   "source": [
    "nlp.meta"
   ]
  },
  {
   "cell_type": "code",
   "execution_count": 3,
   "id": "6572b3bb-d659-4bd5-abea-99b1f21ef0d3",
   "metadata": {
    "execution": {
     "iopub.execute_input": "2022-12-27T16:30:49.190957Z",
     "iopub.status.busy": "2022-12-27T16:30:49.190451Z",
     "iopub.status.idle": "2022-12-27T16:30:49.193433Z",
     "shell.execute_reply": "2022-12-27T16:30:49.193146Z",
     "shell.execute_reply.started": "2022-12-27T16:30:49.190943Z"
    },
    "tags": []
   },
   "outputs": [
    {
     "name": "stdout",
     "output_type": "stream",
     "text": [
      "Hello\n",
      "world\n",
      "!\n"
     ]
    }
   ],
   "source": [
    "# Created by processing a string of text with the nlp object\n",
    "doc = nlp(\"Hello world!\")\n",
    "# Iterate over tokens in a Doc\n",
    "for token in doc:\n",
    "    print(token.text)"
   ]
  },
  {
   "cell_type": "code",
   "execution_count": 4,
   "id": "17e0b784-31b2-45c7-899a-b6612d01f52d",
   "metadata": {
    "execution": {
     "iopub.execute_input": "2022-12-27T16:31:21.442950Z",
     "iopub.status.busy": "2022-12-27T16:31:21.442817Z",
     "iopub.status.idle": "2022-12-27T16:31:21.445570Z",
     "shell.execute_reply": "2022-12-27T16:31:21.445205Z",
     "shell.execute_reply.started": "2022-12-27T16:31:21.442939Z"
    }
   },
   "outputs": [
    {
     "name": "stdout",
     "output_type": "stream",
     "text": [
      "world\n"
     ]
    }
   ],
   "source": [
    "doc = nlp(\"Hello world!\")\n",
    "# Index into the Doc to get a single Token\n",
    "token = doc[1]\n",
    "# Get the token text via the .text attribute\n",
    "print(token.text)"
   ]
  },
  {
   "cell_type": "code",
   "execution_count": 8,
   "id": "312bda46-3f88-40d0-9e1b-923d2f6799bb",
   "metadata": {
    "execution": {
     "iopub.execute_input": "2022-12-27T16:32:37.838146Z",
     "iopub.status.busy": "2022-12-27T16:32:37.837946Z",
     "iopub.status.idle": "2022-12-27T16:32:37.840595Z",
     "shell.execute_reply": "2022-12-27T16:32:37.840191Z",
     "shell.execute_reply.started": "2022-12-27T16:32:37.838135Z"
    },
    "tags": []
   },
   "outputs": [
    {
     "name": "stdout",
     "output_type": "stream",
     "text": [
      "world!\n"
     ]
    }
   ],
   "source": [
    "doc = nlp(\"Hello world!\")\n",
    "# A slice from the Doc is a Span object\n",
    "span = doc[1:3]\n",
    "# Get the span text via the .text attribute\n",
    "print(span.text)"
   ]
  },
  {
   "cell_type": "code",
   "execution_count": 9,
   "id": "54f111c2-e46c-49d5-92c7-2c1630b51891",
   "metadata": {
    "execution": {
     "iopub.execute_input": "2022-12-27T16:32:54.636220Z",
     "iopub.status.busy": "2022-12-27T16:32:54.636089Z",
     "iopub.status.idle": "2022-12-27T16:32:54.639019Z",
     "shell.execute_reply": "2022-12-27T16:32:54.638700Z",
     "shell.execute_reply.started": "2022-12-27T16:32:54.636210Z"
    }
   },
   "outputs": [
    {
     "name": "stdout",
     "output_type": "stream",
     "text": [
      "Index:  [0, 1, 2, 3, 4]\n",
      "Text:  ['It', 'costs', '$', '5', '.']\n",
      "is_alpha: [True, True, False, False, False]\n",
      "is_punct: [False, False, False, False, True]\n",
      "like_num: [False, False, False, True, False]\n"
     ]
    }
   ],
   "source": [
    "doc = nlp(\"It costs $5.\")\n",
    "print('Index: ', [token.i for token in doc])\n",
    "print('Text: ', [token.text for token in doc])\n",
    "print('is_alpha:', [token.is_alpha for token in doc])\n",
    "print('is_punct:', [token.is_punct for token in doc])\n",
    "print('like_num:', [token.like_num for token in doc])"
   ]
  },
  {
   "cell_type": "code",
   "execution_count": 10,
   "id": "ebe5d287-af71-4f41-9946-6fd66ced31cd",
   "metadata": {
    "execution": {
     "iopub.execute_input": "2022-12-27T16:36:54.044397Z",
     "iopub.status.busy": "2022-12-27T16:36:54.044261Z",
     "iopub.status.idle": "2022-12-27T16:36:54.102810Z",
     "shell.execute_reply": "2022-12-27T16:36:54.102472Z",
     "shell.execute_reply.started": "2022-12-27T16:36:54.044386Z"
    }
   },
   "outputs": [
    {
     "name": "stdout",
     "output_type": "stream",
     "text": [
      "This is a sentence.\n"
     ]
    }
   ],
   "source": [
    "# Import the English language class\n",
    "from spacy.lang.en import English\n",
    "# Create the nlp object\n",
    "nlp = English()\n",
    "# Process a text\n",
    "doc = nlp(\"This is a sentence.\")\n",
    "# Print the document text\n",
    "print(doc.text)"
   ]
  },
  {
   "cell_type": "code",
   "execution_count": 11,
   "id": "1986f4d2-ba35-45a7-8ae2-3b718075c24c",
   "metadata": {
    "execution": {
     "iopub.execute_input": "2022-12-27T16:37:00.972277Z",
     "iopub.status.busy": "2022-12-27T16:37:00.972143Z",
     "iopub.status.idle": "2022-12-27T16:37:01.030814Z",
     "shell.execute_reply": "2022-12-27T16:37:01.030487Z",
     "shell.execute_reply.started": "2022-12-27T16:37:00.972266Z"
    }
   },
   "outputs": [
    {
     "name": "stdout",
     "output_type": "stream",
     "text": [
      "Liebe Grüße!\n"
     ]
    }
   ],
   "source": [
    "# Import the German language class\n",
    "from spacy.lang.de import German\n",
    "# Create the nlp object\n",
    "nlp = German()\n",
    "# Process a text (this is German for: \"Kind regards!\")\n",
    "doc = nlp(\"Liebe Grüße!\")\n",
    "# Print the document text\n",
    "print(doc.text)"
   ]
  },
  {
   "cell_type": "code",
   "execution_count": 12,
   "id": "9a8d3ff2-9e1b-4f38-8702-c40d4ca4d36e",
   "metadata": {
    "execution": {
     "iopub.execute_input": "2022-12-27T16:37:08.540291Z",
     "iopub.status.busy": "2022-12-27T16:37:08.540064Z",
     "iopub.status.idle": "2022-12-27T16:37:08.579073Z",
     "shell.execute_reply": "2022-12-27T16:37:08.578641Z",
     "shell.execute_reply.started": "2022-12-27T16:37:08.540278Z"
    }
   },
   "outputs": [
    {
     "name": "stdout",
     "output_type": "stream",
     "text": [
      "¿Cómo estás?\n"
     ]
    }
   ],
   "source": [
    "# Import the Spanish language class\n",
    "from spacy.lang.es import Spanish\n",
    "# Create the nlp object\n",
    "nlp = Spanish()\n",
    "# Process a text (this is Spanish for: \"How are you?\")\n",
    "doc = nlp(\"¿Cómo estás?\")\n",
    "# Print the document text\n",
    "print(doc.text)"
   ]
  },
  {
   "cell_type": "code",
   "execution_count": 16,
   "id": "60175e33-2e9a-4a3c-863c-cd2be45e4214",
   "metadata": {
    "execution": {
     "iopub.execute_input": "2022-12-27T16:49:48.099734Z",
     "iopub.status.busy": "2022-12-27T16:49:48.099597Z",
     "iopub.status.idle": "2022-12-27T16:49:48.158485Z",
     "shell.execute_reply": "2022-12-27T16:49:48.158184Z",
     "shell.execute_reply.started": "2022-12-27T16:49:48.099722Z"
    }
   },
   "outputs": [
    {
     "name": "stdout",
     "output_type": "stream",
     "text": [
      "I\n"
     ]
    }
   ],
   "source": [
    "# Import the English language class and create the nlp object\n",
    "from spacy.lang.en import English\n",
    "nlp = English()\n",
    "\n",
    "# Process the text\n",
    "doc = nlp(\"I like tree kangaroos and narwhals.\")\n",
    "\n",
    "# Select the first token\n",
    "first_token = doc[0]\n",
    "\n",
    "# Print the first token's text\n",
    "print(first_token.text)"
   ]
  },
  {
   "cell_type": "code",
   "execution_count": 17,
   "id": "98877691-44a1-45e9-afe3-e181b04d76c9",
   "metadata": {
    "execution": {
     "iopub.execute_input": "2022-12-27T16:49:56.950048Z",
     "iopub.status.busy": "2022-12-27T16:49:56.949913Z",
     "iopub.status.idle": "2022-12-27T16:49:57.009881Z",
     "shell.execute_reply": "2022-12-27T16:49:57.009478Z",
     "shell.execute_reply.started": "2022-12-27T16:49:56.950038Z"
    }
   },
   "outputs": [
    {
     "name": "stdout",
     "output_type": "stream",
     "text": [
      "tree kangaroos\n",
      "tree kangaroos and narwhals\n"
     ]
    }
   ],
   "source": [
    "# Import the English language class and create the nlp object\n",
    "from spacy.lang.en import English\n",
    "nlp = English()\n",
    "\n",
    "# Process the text\n",
    "doc = nlp(\"I like tree kangaroos and narwhals.\")\n",
    "\n",
    "# A slice of the Doc for \"tree kangaroos\"\n",
    "tree_kangaroos = doc[2:4]\n",
    "print(tree_kangaroos.text)\n",
    "\n",
    "# A slice of the Doc for \"tree kangaroos and narwhals\" (without the \".\")\n",
    "tree_kangaroos_and_narwhals = doc[2:6]\n",
    "print(tree_kangaroos_and_narwhals.text)"
   ]
  },
  {
   "cell_type": "code",
   "execution_count": 15,
   "id": "edb5ae34-6b32-4391-91bb-031d7b9337f7",
   "metadata": {
    "execution": {
     "iopub.execute_input": "2022-12-27T16:49:30.791713Z",
     "iopub.status.busy": "2022-12-27T16:49:30.791581Z",
     "iopub.status.idle": "2022-12-27T16:49:30.794710Z",
     "shell.execute_reply": "2022-12-27T16:49:30.794426Z",
     "shell.execute_reply.started": "2022-12-27T16:49:30.791703Z"
    }
   },
   "outputs": [
    {
     "name": "stdout",
     "output_type": "stream",
     "text": [
      "Percentage found: 60\n",
      "Percentage found: 4\n"
     ]
    }
   ],
   "source": [
    "# Process the text\n",
    "doc = nlp(\"In 1990, more than 60% of people in East Asia were in extreme poverty. Now less than 4% are.\")\n",
    "\n",
    "# Iterate over the tokens in the doc\n",
    "for token in doc:\n",
    "    # Check if the token resembles a number\n",
    "    if token.like_num:\n",
    "        # Get the next token in the document\n",
    "        next_token = doc[token.i+1]\n",
    "        # Check if the next token's text equals '%'\n",
    "        if next_token.text == '%':\n",
    "            print('Percentage found:', token.text)"
   ]
  },
  {
   "cell_type": "markdown",
   "id": "14cff23c-25d9-45f5-a359-c2b3922f4622",
   "metadata": {},
   "source": [
    "# Model Packages"
   ]
  },
  {
   "cell_type": "markdown",
   "id": "00e5da39-a494-451d-acdb-9c9a45e6be5b",
   "metadata": {
    "execution": {
     "iopub.execute_input": "2022-12-27T16:54:21.604842Z",
     "iopub.status.busy": "2022-12-27T16:54:21.604709Z",
     "iopub.status.idle": "2022-12-27T16:54:21.607059Z",
     "shell.execute_reply": "2022-12-27T16:54:21.606760Z",
     "shell.execute_reply.started": "2022-12-27T16:54:21.604831Z"
    }
   },
   "source": [
    "* Binary weights that enable spaCy to make predictions.\n",
    "* Vocabulary\n",
    "* Meta information (language, pipeline) to tell spaCy which language class to use and how to configure the processing pipeline."
   ]
  },
  {
   "cell_type": "code",
   "execution_count": 67,
   "id": "1c7da074-4947-4196-b15d-0eb6512ed564",
   "metadata": {
    "execution": {
     "iopub.execute_input": "2022-12-27T17:34:57.347477Z",
     "iopub.status.busy": "2022-12-27T17:34:57.347340Z",
     "iopub.status.idle": "2022-12-27T17:34:57.592940Z",
     "shell.execute_reply": "2022-12-27T17:34:57.592537Z",
     "shell.execute_reply.started": "2022-12-27T17:34:57.347466Z"
    },
    "tags": []
   },
   "outputs": [],
   "source": [
    "import spacy\n",
    "nlp = spacy.load('en_core_web_sm')"
   ]
  },
  {
   "cell_type": "code",
   "execution_count": 68,
   "id": "361da746-a3dd-48b2-8fdd-a4ff44e1d03f",
   "metadata": {
    "execution": {
     "iopub.execute_input": "2022-12-27T17:34:57.593605Z",
     "iopub.status.busy": "2022-12-27T17:34:57.593497Z",
     "iopub.status.idle": "2022-12-27T17:34:57.599506Z",
     "shell.execute_reply": "2022-12-27T17:34:57.599263Z",
     "shell.execute_reply.started": "2022-12-27T17:34:57.593595Z"
    },
    "scrolled": true,
    "tags": []
   },
   "outputs": [
    {
     "data": {
      "text/plain": [
       "{'lang': 'en',\n",
       " 'name': 'core_web_sm',\n",
       " 'version': '3.4.1',\n",
       " 'description': 'English pipeline optimized for CPU. Components: tok2vec, tagger, parser, senter, ner, attribute_ruler, lemmatizer.',\n",
       " 'author': 'Explosion',\n",
       " 'email': 'contact@explosion.ai',\n",
       " 'url': 'https://explosion.ai',\n",
       " 'license': 'MIT',\n",
       " 'spacy_version': '>=3.4.0,<3.5.0',\n",
       " 'spacy_git_version': '2b5f955c2',\n",
       " 'vectors': {'width': 0,\n",
       "  'vectors': 0,\n",
       "  'keys': 0,\n",
       "  'name': None,\n",
       "  'mode': 'default'},\n",
       " 'labels': {'tok2vec': [],\n",
       "  'tagger': ['$',\n",
       "   \"''\",\n",
       "   ',',\n",
       "   '-LRB-',\n",
       "   '-RRB-',\n",
       "   '.',\n",
       "   ':',\n",
       "   'ADD',\n",
       "   'AFX',\n",
       "   'CC',\n",
       "   'CD',\n",
       "   'DT',\n",
       "   'EX',\n",
       "   'FW',\n",
       "   'HYPH',\n",
       "   'IN',\n",
       "   'JJ',\n",
       "   'JJR',\n",
       "   'JJS',\n",
       "   'LS',\n",
       "   'MD',\n",
       "   'NFP',\n",
       "   'NN',\n",
       "   'NNP',\n",
       "   'NNPS',\n",
       "   'NNS',\n",
       "   'PDT',\n",
       "   'POS',\n",
       "   'PRP',\n",
       "   'PRP$',\n",
       "   'RB',\n",
       "   'RBR',\n",
       "   'RBS',\n",
       "   'RP',\n",
       "   'SYM',\n",
       "   'TO',\n",
       "   'UH',\n",
       "   'VB',\n",
       "   'VBD',\n",
       "   'VBG',\n",
       "   'VBN',\n",
       "   'VBP',\n",
       "   'VBZ',\n",
       "   'WDT',\n",
       "   'WP',\n",
       "   'WP$',\n",
       "   'WRB',\n",
       "   'XX',\n",
       "   '_SP',\n",
       "   '``'],\n",
       "  'parser': ['ROOT',\n",
       "   'acl',\n",
       "   'acomp',\n",
       "   'advcl',\n",
       "   'advmod',\n",
       "   'agent',\n",
       "   'amod',\n",
       "   'appos',\n",
       "   'attr',\n",
       "   'aux',\n",
       "   'auxpass',\n",
       "   'case',\n",
       "   'cc',\n",
       "   'ccomp',\n",
       "   'compound',\n",
       "   'conj',\n",
       "   'csubj',\n",
       "   'csubjpass',\n",
       "   'dative',\n",
       "   'dep',\n",
       "   'det',\n",
       "   'dobj',\n",
       "   'expl',\n",
       "   'intj',\n",
       "   'mark',\n",
       "   'meta',\n",
       "   'neg',\n",
       "   'nmod',\n",
       "   'npadvmod',\n",
       "   'nsubj',\n",
       "   'nsubjpass',\n",
       "   'nummod',\n",
       "   'oprd',\n",
       "   'parataxis',\n",
       "   'pcomp',\n",
       "   'pobj',\n",
       "   'poss',\n",
       "   'preconj',\n",
       "   'predet',\n",
       "   'prep',\n",
       "   'prt',\n",
       "   'punct',\n",
       "   'quantmod',\n",
       "   'relcl',\n",
       "   'xcomp'],\n",
       "  'attribute_ruler': [],\n",
       "  'lemmatizer': [],\n",
       "  'ner': ['CARDINAL',\n",
       "   'DATE',\n",
       "   'EVENT',\n",
       "   'FAC',\n",
       "   'GPE',\n",
       "   'LANGUAGE',\n",
       "   'LAW',\n",
       "   'LOC',\n",
       "   'MONEY',\n",
       "   'NORP',\n",
       "   'ORDINAL',\n",
       "   'ORG',\n",
       "   'PERCENT',\n",
       "   'PERSON',\n",
       "   'PRODUCT',\n",
       "   'QUANTITY',\n",
       "   'TIME',\n",
       "   'WORK_OF_ART']},\n",
       " 'pipeline': ['tok2vec',\n",
       "  'tagger',\n",
       "  'parser',\n",
       "  'attribute_ruler',\n",
       "  'lemmatizer',\n",
       "  'ner'],\n",
       " 'components': ['tok2vec',\n",
       "  'tagger',\n",
       "  'parser',\n",
       "  'senter',\n",
       "  'attribute_ruler',\n",
       "  'lemmatizer',\n",
       "  'ner'],\n",
       " 'disabled': ['senter'],\n",
       " 'performance': {'token_acc': 0.9993092439000001,\n",
       "  'token_p': 0.9956819193,\n",
       "  'token_r': 0.9957659295000001,\n",
       "  'token_f': 0.9957239226000001,\n",
       "  'tag_acc': 0.9726250474,\n",
       "  'sents_p': 0.9191788296000001,\n",
       "  'sents_r': 0.8890428129,\n",
       "  'sents_f': 0.9038596962000001,\n",
       "  'dep_uas': 0.9165718428,\n",
       "  'dep_las': 0.8978441095,\n",
       "  'dep_las_per_type': {'prep': {'p': 0.8546376267,\n",
       "    'r': 0.8635553026,\n",
       "    'f': 0.8590733226},\n",
       "   'det': {'p': 0.9768701389000001,\n",
       "    'r': 0.9781048683,\n",
       "    'f': 0.9774871137000001},\n",
       "   'pobj': {'p': 0.9605592002000001, 'r': 0.9659532692, 'f': 0.9632486833},\n",
       "   'nsubj': {'p': 0.9545715675,\n",
       "    'r': 0.9463745893000001,\n",
       "    'f': 0.9504554055000001},\n",
       "   'aux': {'p': 0.9798401421, 'r': 0.9821953174, 'f': 0.9810163162000001},\n",
       "   'advmod': {'p': 0.8545653823, 'r': 0.8527679623000001, 'f': 0.8536657262},\n",
       "   'relcl': {'p': 0.7656695157000001,\n",
       "    'r': 0.7801161103,\n",
       "    'f': 0.7728253055000001},\n",
       "   'root': {'p': 0.9177651800000001,\n",
       "    'r': 0.8864041164,\n",
       "    'f': 0.9018120805000001},\n",
       "   'xcomp': {'p': 0.882290562,\n",
       "    'r': 0.8959081120000001,\n",
       "    'f': 0.8890471950000001},\n",
       "   'amod': {'p': 0.9154102213, 'r': 0.908649174, 'f': 0.9120171674},\n",
       "   'compound': {'p': 0.9121588361, 'r': 0.9287703275, 'f': 0.9203896355000001},\n",
       "   'poss': {'p': 0.9735258724, 'r': 0.9770531401, 'f': 0.9752863171},\n",
       "   'ccomp': {'p': 0.7657557167, 'r': 0.8389002037000001, 'f': 0.8006609},\n",
       "   'attr': {'p': 0.9032126881, 'r': 0.9339781329, 'f': 0.9183378127},\n",
       "   'case': {'p': 0.9773063641, 'r': 0.9914914915, 'f': 0.9843478261},\n",
       "   'mark': {'p': 0.9002893975, 'r': 0.9067302597, 'f': 0.9034983498},\n",
       "   'intj': {'p': 0.6514555468000001, 'r': 0.6065934066, 'f': 0.6282245827},\n",
       "   'advcl': {'p': 0.6653050804, 'r': 0.6562578696, 'f': 0.6607505071},\n",
       "   'cc': {'p': 0.8285611165000001, 'r': 0.8237052984000001, 'f': 0.8261260721},\n",
       "   'neg': {'p': 0.9452191235, 'r': 0.9523331661000001, 'f': 0.9487628093},\n",
       "   'conj': {'p': 0.7577601192000001, 'r': 0.7682527694, 'f': 0.7629703713},\n",
       "   'nsubjpass': {'p': 0.9216589862000001,\n",
       "    'r': 0.9230769231,\n",
       "    'f': 0.9223674097000001},\n",
       "   'auxpass': {'p': 0.9468749999999999, 'r': 0.9662870159, 'f': 0.9564825254},\n",
       "   'dobj': {'p': 0.9192052980000001, 'r': 0.940154594, 'f': 0.9295619288},\n",
       "   'nummod': {'p': 0.9373886485, 'r': 0.9300505051, 'f': 0.9337051591000001},\n",
       "   'npadvmod': {'p': 0.7748549323, 'r': 0.7115452931, 'f': 0.7418518519},\n",
       "   'prt': {'p': 0.8097199341, 'r': 0.8808243728, 'f': 0.8437768240000001},\n",
       "   'pcomp': {'p': 0.8756183746, 'r': 0.8676470588, 'f': 0.8716144917},\n",
       "   'expl': {'p': 0.9809322034000001, 'r': 0.9914346895, 'f': 0.9861554846},\n",
       "   'acl': {'p': 0.7327887981, 'r': 0.6852154937, 'f': 0.7082041162},\n",
       "   'agent': {'p': 0.8959044369, 'r': 0.9408602151000001, 'f': 0.9178321678},\n",
       "   'dative': {'p': 0.7846153846, 'r': 0.7018348624, 'f': 0.7409200969},\n",
       "   'acomp': {'p': 0.9127423823, 'r': 0.8965986395000001, 'f': 0.90459849},\n",
       "   'dep': {'p': 0.37867647060000004, 'r': 0.1672077922, 'f': 0.231981982},\n",
       "   'csubj': {'p': 0.7393939394, 'r': 0.7218934911, 'f': 0.7305389222},\n",
       "   'quantmod': {'p': 0.8694493783, 'r': 0.7952883834000001, 'f': 0.8307170132},\n",
       "   'nmod': {'p': 0.7147169811, 'r': 0.577087142, 'f': 0.6385704653000001},\n",
       "   'appos': {'p': 0.7100509495, 'r': 0.6650759219, 'f': 0.686827957},\n",
       "   'predet': {'p': 0.8636363636000001, 'r': 0.8969957082000001, 'f': 0.88},\n",
       "   'preconj': {'p': 0.5769230769, 'r': 0.6976744186, 'f': 0.6315789474},\n",
       "   'oprd': {'p': 0.8160535117000001, 'r': 0.728358209, 'f': 0.7697160883},\n",
       "   'parataxis': {'p': 0.5835694051, 'r': 0.4468546638, 'f': 0.5061425061},\n",
       "   'meta': {'p': 0.8666666667, 'r': 0.5, 'f': 0.6341463415},\n",
       "   'csubjpass': {'p': 0.5, 'r': 0.6666666667000001, 'f': 0.5714285714}},\n",
       "  'ents_p': 0.8410860451000001,\n",
       "  'ents_r': 0.8439503205000001,\n",
       "  'ents_f': 0.8425157484,\n",
       "  'ents_per_type': {'DATE': {'p': 0.8602484472,\n",
       "    'r': 0.8793650794000001,\n",
       "    'f': 0.8697017268},\n",
       "   'GPE': {'p': 0.9056603774, 'r': 0.8970711297, 'f': 0.9013452915},\n",
       "   'ORDINAL': {'p': 0.7703081232000001, 'r': 0.8540372671, 'f': 0.8100147275},\n",
       "   'ORG': {'p': 0.7932975185000001,\n",
       "    'r': 0.8221102863,\n",
       "    'f': 0.8074469470000001},\n",
       "   'CARDINAL': {'p': 0.8078409718, 'r': 0.8697978597, 'f': 0.8376753507},\n",
       "   'LOC': {'p': 0.7148148148, 'r': 0.6146496815, 'f': 0.6609589041},\n",
       "   'PERSON': {'p': 0.8480543545,\n",
       "    'r': 0.8962140992000001,\n",
       "    'f': 0.8714693748000001},\n",
       "   'NORP': {'p': 0.91230893, 'r': 0.9072, 'f': 0.9097472924000001},\n",
       "   'QUANTITY': {'p': 0.7954545455, 'r': 0.5769230769, 'f': 0.6687898089000001},\n",
       "   'FAC': {'p': 0.37735849060000004, 'r': 0.3076923077, 'f': 0.3389830508},\n",
       "   'TIME': {'p': 0.7477744807000001, 'r': 0.7368421053, 'f': 0.7422680412},\n",
       "   'EVENT': {'p': 0.5851063830000001,\n",
       "    'r': 0.316091954,\n",
       "    'f': 0.41044776120000004},\n",
       "   'WORK_OF_ART': {'p': 0.5, 'r': 0.3608247423, 'f': 0.41916167660000003},\n",
       "   'LAW': {'p': 0.435483871, 'r': 0.421875, 'f': 0.4285714286},\n",
       "   'MONEY': {'p': 0.9240048251, 'r': 0.9043683589, 'f': 0.9140811456},\n",
       "   'PRODUCT': {'p': 0.5333333333, 'r': 0.2274881517, 'f': 0.3189368771},\n",
       "   'PERCENT': {'p': 0.9154704944000001,\n",
       "    'r': 0.8790199081000001,\n",
       "    'f': 0.896875},\n",
       "   'LANGUAGE': {'p': 0.85, 'r': 0.53125, 'f': 0.6538461538}},\n",
       "  'speed': 9602.8922159566},\n",
       " 'sources': [{'name': 'OntoNotes 5',\n",
       "   'url': 'https://catalog.ldc.upenn.edu/LDC2013T19',\n",
       "   'license': 'commercial (licensed by Explosion)',\n",
       "   'author': 'Ralph Weischedel, Martha Palmer, Mitchell Marcus, Eduard Hovy, Sameer Pradhan, Lance Ramshaw, Nianwen Xue, Ann Taylor, Jeff Kaufman, Michelle Franchini, Mohammed El-Bachouti, Robert Belvin, Ann Houston'},\n",
       "  {'name': 'ClearNLP Constituent-to-Dependency Conversion',\n",
       "   'url': 'https://github.com/clir/clearnlp-guidelines/blob/master/md/components/dependency_conversion.md',\n",
       "   'license': 'Citation provided for reference, no code packaged with model',\n",
       "   'author': 'Emory University'},\n",
       "  {'name': 'WordNet 3.0',\n",
       "   'url': 'https://wordnet.princeton.edu/',\n",
       "   'author': 'Princeton University',\n",
       "   'license': 'WordNet 3.0 License'}],\n",
       " 'requirements': []}"
      ]
     },
     "execution_count": 68,
     "metadata": {},
     "output_type": "execute_result"
    }
   ],
   "source": [
    "nlp.meta"
   ]
  },
  {
   "cell_type": "markdown",
   "id": "2b515ab2-712d-41c9-adde-98a50746207e",
   "metadata": {},
   "source": [
    "# Predicting Part-of-speech Tags"
   ]
  },
  {
   "cell_type": "code",
   "execution_count": 113,
   "id": "5f717369-ce1f-47ab-8d6a-f04dfa39f68a",
   "metadata": {
    "execution": {
     "iopub.execute_input": "2022-12-27T18:31:07.027901Z",
     "iopub.status.busy": "2022-12-27T18:31:07.027768Z",
     "iopub.status.idle": "2022-12-27T18:31:07.367800Z",
     "shell.execute_reply": "2022-12-27T18:31:07.367438Z",
     "shell.execute_reply.started": "2022-12-27T18:31:07.027890Z"
    },
    "tags": []
   },
   "outputs": [
    {
     "name": "stdout",
     "output_type": "stream",
     "text": [
      "She ('PRON', 'PRONOUN')\n",
      "ate ('VERB', 'VERB')\n",
      "the ('DET', 'DETERMINER')\n",
      "pizza ('NOUN', 'NOUN')\n"
     ]
    }
   ],
   "source": [
    "import spacy\n",
    "# Load the small English model\n",
    "nlp = spacy.load('en_core_web_sm')\n",
    "# Process a text\n",
    "doc = nlp(\"She ate the pizza\")\n",
    "# Iterate over the tokens\n",
    "for token in doc:\n",
    "    # Print the text and the predicted part-of-speech tag\n",
    "    print(token.text, f'{token.pos_, spacy.explain(token.pos_).upper()}')"
   ]
  },
  {
   "cell_type": "markdown",
   "id": "32de14f1-8c2f-4a86-b604-fa420063ecf8",
   "metadata": {},
   "source": [
    "# Predicting Syntactic Dependencies"
   ]
  },
  {
   "cell_type": "code",
   "execution_count": 47,
   "id": "9ac7f26f-31e5-4407-9ddd-eb75751fe628",
   "metadata": {
    "execution": {
     "iopub.execute_input": "2022-12-27T17:26:49.165729Z",
     "iopub.status.busy": "2022-12-27T17:26:49.165591Z",
     "iopub.status.idle": "2022-12-27T17:26:49.168096Z",
     "shell.execute_reply": "2022-12-27T17:26:49.167721Z",
     "shell.execute_reply.started": "2022-12-27T17:26:49.165718Z"
    },
    "tags": []
   },
   "outputs": [
    {
     "name": "stdout",
     "output_type": "stream",
     "text": [
      "She ('PRON', 'PRONOUN') ('nsubj', 'NOMINAL SUBJECT') ate\n",
      "ate ('VERB', 'VERB') ('ROOT', 'ROOT') ate\n",
      "the ('DET', 'DETERMINER') ('det', 'DETERMINER') pizza\n",
      "pizza ('NOUN', 'NOUN') ('dobj', 'DIRECT OBJECT') ate\n"
     ]
    }
   ],
   "source": [
    "for token in doc:\n",
    "    print(token.text, f'{token.pos_, spacy.explain(token.pos_).upper()}', f'{token.dep_, spacy.explain(token.dep_).upper()}', token.head.text)"
   ]
  },
  {
   "cell_type": "markdown",
   "id": "deb2dde1-a052-4e85-808e-34566b865769",
   "metadata": {},
   "source": [
    "# Predicting Named Entities"
   ]
  },
  {
   "cell_type": "code",
   "execution_count": 48,
   "id": "c5ec7718-a6be-40d4-882e-0b37459a9723",
   "metadata": {
    "execution": {
     "iopub.execute_input": "2022-12-27T17:26:52.819955Z",
     "iopub.status.busy": "2022-12-27T17:26:52.819819Z",
     "iopub.status.idle": "2022-12-27T17:26:52.826780Z",
     "shell.execute_reply": "2022-12-27T17:26:52.826403Z",
     "shell.execute_reply.started": "2022-12-27T17:26:52.819944Z"
    },
    "tags": []
   },
   "outputs": [
    {
     "name": "stdout",
     "output_type": "stream",
     "text": [
      "Apple [ORG] : Companies, agencies, institutions, etc.\n",
      "U.K. [GPE] : Countries, cities, states\n",
      "$1 billion [MONEY] : Monetary values, including unit\n"
     ]
    }
   ],
   "source": [
    "# Process a text\n",
    "doc = nlp(u\"Apple is looking at buying U.K. startup for $1 billion\")\n",
    "# Iterate over the predicted entities\n",
    "for ent in doc.ents:\n",
    "    # Print the entity text and its label\n",
    "    print(ent.text, f'[{ent.label_}]', ':', spacy.explain(ent.label_) )"
   ]
  },
  {
   "cell_type": "markdown",
   "id": "e75313b2-ee97-4486-82c1-0c5b080f71ca",
   "metadata": {},
   "source": [
    "# Missing Entities with a token span"
   ]
  },
  {
   "cell_type": "code",
   "execution_count": 70,
   "id": "dee93055-d422-4a1a-88fe-099d644ccd5f",
   "metadata": {
    "execution": {
     "iopub.execute_input": "2022-12-27T17:42:54.989059Z",
     "iopub.status.busy": "2022-12-27T17:42:54.988921Z",
     "iopub.status.idle": "2022-12-27T17:42:54.995302Z",
     "shell.execute_reply": "2022-12-27T17:42:54.995011Z",
     "shell.execute_reply.started": "2022-12-27T17:42:54.989048Z"
    },
    "tags": []
   },
   "outputs": [
    {
     "name": "stdout",
     "output_type": "stream",
     "text": [
      "Apple ORG\n",
      "Missing entity: iPhone X\n"
     ]
    }
   ],
   "source": [
    "text = \"New iPhone X release date leaked as Apple reveals pre-orders by mistake\"\n",
    "\n",
    "# Process the text\n",
    "doc = nlp(text)\n",
    "\n",
    "# Iterate over the entities\n",
    "for ent in doc.ents:\n",
    "    # print the entity text and label\n",
    "    print(ent.text, ent.label_)\n",
    "\n",
    "# Get the span for \"iPhone X\"\n",
    "iphone_x = doc[1:3]\n",
    "\n",
    "# Print the span text\n",
    "print('Missing entity:', iphone_x.text)# "
   ]
  },
  {
   "cell_type": "markdown",
   "id": "7c13c95c-4e9c-418f-b08a-ac65c458bc2d",
   "metadata": {},
   "source": [
    "# Rule-base matching"
   ]
  },
  {
   "cell_type": "markdown",
   "id": "24689d99-f348-4af0-91a6-c0360e86bdde",
   "metadata": {},
   "source": [
    "## Using the Matcher"
   ]
  },
  {
   "cell_type": "code",
   "execution_count": 95,
   "id": "1d4d8778-fb92-4689-a5bf-fc9772054040",
   "metadata": {
    "execution": {
     "iopub.execute_input": "2022-12-27T18:09:46.743677Z",
     "iopub.status.busy": "2022-12-27T18:09:46.743540Z",
     "iopub.status.idle": "2022-12-27T18:09:47.001759Z",
     "shell.execute_reply": "2022-12-27T18:09:47.001336Z",
     "shell.execute_reply.started": "2022-12-27T18:09:46.743667Z"
    },
    "tags": []
   },
   "outputs": [],
   "source": [
    "import spacy\n",
    "# Import the Matcher\n",
    "from spacy.matcher import Matcher\n",
    "# Load a model and create the nlp object\n",
    "nlp = spacy.load('en_core_web_sm')\n",
    "# Initialize the matcher with the shared vocab\n",
    "matcher = Matcher(nlp.vocab)\n",
    "# Add the pattern to the matcher\n",
    "pattern = [{'ORTH': 'iPhone'}, {'ORTH': 'X'}]\n",
    "matcher.add('IPHONE_PATTERN', [pattern])\n",
    "# Process some text\n",
    "doc = nlp(\"New iPhone X release date leaked\")\n",
    "# Call the matcher on the doc\n",
    "matches = matcher(doc)"
   ]
  },
  {
   "cell_type": "code",
   "execution_count": 96,
   "id": "4be6901d-5f3f-4f38-819c-a8a8c7a779d0",
   "metadata": {
    "execution": {
     "iopub.execute_input": "2022-12-27T18:09:48.299518Z",
     "iopub.status.busy": "2022-12-27T18:09:48.299380Z",
     "iopub.status.idle": "2022-12-27T18:09:48.301849Z",
     "shell.execute_reply": "2022-12-27T18:09:48.301510Z",
     "shell.execute_reply.started": "2022-12-27T18:09:48.299508Z"
    },
    "tags": []
   },
   "outputs": [
    {
     "name": "stdout",
     "output_type": "stream",
     "text": [
      "id 9528407286733565721: iPhone X\n"
     ]
    }
   ],
   "source": [
    "# Iterate over the matches\n",
    "for match_id, start, end in matches:\n",
    "    # Get the matched span\n",
    "    matched_span = doc[start:end]\n",
    "    print(f'id {match_id}:', matched_span.text)"
   ]
  },
  {
   "cell_type": "markdown",
   "id": "26d8b6d2-60e8-45ff-97b1-1b9a2e170d9d",
   "metadata": {
    "execution": {
     "iopub.execute_input": "2022-12-27T17:59:04.603958Z",
     "iopub.status.busy": "2022-12-27T17:59:04.603823Z",
     "iopub.status.idle": "2022-12-27T17:59:04.606602Z",
     "shell.execute_reply": "2022-12-27T17:59:04.606288Z",
     "shell.execute_reply.started": "2022-12-27T17:59:04.603947Z"
    }
   },
   "source": [
    "* match_id : hash value of the pattern name\n",
    "* start : start index of matched span\n",
    "* end : end index of matched span"
   ]
  },
  {
   "cell_type": "markdown",
   "id": "433a4760-ba80-4174-97c1-75378c16f3f5",
   "metadata": {},
   "source": [
    "## Matching lexical attributes"
   ]
  },
  {
   "cell_type": "code",
   "execution_count": 97,
   "id": "e6c96255-5ffc-4c13-b186-58dbe9e87569",
   "metadata": {
    "execution": {
     "iopub.execute_input": "2022-12-27T18:09:51.995311Z",
     "iopub.status.busy": "2022-12-27T18:09:51.995173Z",
     "iopub.status.idle": "2022-12-27T18:09:52.002236Z",
     "shell.execute_reply": "2022-12-27T18:09:52.001968Z",
     "shell.execute_reply.started": "2022-12-27T18:09:51.995299Z"
    },
    "tags": []
   },
   "outputs": [
    {
     "name": "stdout",
     "output_type": "stream",
     "text": [
      "id 851579294197118795: 2018 FIFA World Cup:\n"
     ]
    }
   ],
   "source": [
    "pattern = [{'IS_DIGIT': True},\n",
    "           {'LOWER': 'fifa'},\n",
    "           {'LOWER': 'world'},\n",
    "           {'LOWER': 'cup'},\n",
    "           {'IS_PUNCT': True}]\n",
    "doc = nlp(\"2018 FIFA World Cup: France won!\")\n",
    "\n",
    "matcher = Matcher(nlp.vocab)\n",
    "matcher.add('FIFA_PATTERN', [pattern])\n",
    "matches = matcher(doc)\n",
    "for match_id, start, end in matches:\n",
    "    # Get the matched span\n",
    "    matched_span = doc[start:end]\n",
    "    print(f'id {match_id}:', matched_span.text)"
   ]
  },
  {
   "cell_type": "markdown",
   "id": "854ecd3c-f634-4fd4-86eb-c320afadf7e3",
   "metadata": {},
   "source": [
    "## Matching other token attributes"
   ]
  },
  {
   "cell_type": "code",
   "execution_count": 99,
   "id": "359805bc-b90f-4f4b-bc39-b4d1acc1e947",
   "metadata": {
    "execution": {
     "iopub.execute_input": "2022-12-27T18:11:23.005912Z",
     "iopub.status.busy": "2022-12-27T18:11:23.005688Z",
     "iopub.status.idle": "2022-12-27T18:11:23.012593Z",
     "shell.execute_reply": "2022-12-27T18:11:23.012263Z",
     "shell.execute_reply.started": "2022-12-27T18:11:23.005898Z"
    },
    "tags": []
   },
   "outputs": [
    {
     "name": "stdout",
     "output_type": "stream",
     "text": [
      "id 17032343184651558613: loved dogs\n",
      "id 17032343184651558613: love cats\n"
     ]
    }
   ],
   "source": [
    "pattern = [{'LEMMA': 'love', 'POS': 'VERB'},\n",
    "           {'POS': 'NOUN'}]\n",
    "doc = nlp(\"I loved dogs but now I love cats more.\")\n",
    "\n",
    "matcher = Matcher(nlp.vocab)\n",
    "matcher.add('PETS', [pattern])\n",
    "matches = matcher(doc)\n",
    "for match_id, start, end in matches:\n",
    "    # Get the matched span\n",
    "    matched_span = doc[start:end]\n",
    "    print(f'id {match_id}:', matched_span.text)"
   ]
  },
  {
   "cell_type": "markdown",
   "id": "e0e3f926-4a8e-496a-ac05-3fda009b7b90",
   "metadata": {},
   "source": [
    "## Using operators (\"OP\" key) and quantifiers"
   ]
  },
  {
   "cell_type": "markdown",
   "id": "df4923a6-d462-46d7-b62b-95bae07669e7",
   "metadata": {},
   "source": [
    "    {'OP': '!'} Negation: match 0 times\n",
    "    {'OP': '?'} Optional: match 0 or 1 times\n",
    "    {'OP': '+'} Match 1 or more times\n",
    "    {'OP': '*'} Match 0 or more times"
   ]
  },
  {
   "cell_type": "code",
   "execution_count": 100,
   "id": "6aaeafc8-c226-4f37-ae8e-c005cd5257d2",
   "metadata": {
    "execution": {
     "iopub.execute_input": "2022-12-27T18:12:15.452470Z",
     "iopub.status.busy": "2022-12-27T18:12:15.452333Z",
     "iopub.status.idle": "2022-12-27T18:12:15.459551Z",
     "shell.execute_reply": "2022-12-27T18:12:15.459227Z",
     "shell.execute_reply.started": "2022-12-27T18:12:15.452459Z"
    }
   },
   "outputs": [
    {
     "name": "stdout",
     "output_type": "stream",
     "text": [
      "id 225095504979660923: bought a smartphone\n",
      "id 225095504979660923: buying apps\n"
     ]
    }
   ],
   "source": [
    "pattern = [{'LEMMA': 'buy'},\n",
    "           {'POS': 'DET', 'OP': '?'}, # optional: match 0 or 1 times\n",
    "           {'POS': 'NOUN'}]\n",
    "doc = nlp(\"I bought a smartphone. Now I'm buying apps.\")\n",
    "\n",
    "matcher = Matcher(nlp.vocab)\n",
    "matcher.add('OPERATORS', [pattern])\n",
    "matches = matcher(doc)\n",
    "for match_id, start, end in matches:\n",
    "    # Get the matched span\n",
    "    matched_span = doc[start:end]\n",
    "    print(f'id {match_id}:', matched_span.text)"
   ]
  },
  {
   "cell_type": "code",
   "execution_count": 102,
   "id": "fd555fdf-bf24-4633-9867-4fbc341b5812",
   "metadata": {
    "execution": {
     "iopub.execute_input": "2022-12-27T18:22:38.426477Z",
     "iopub.status.busy": "2022-12-27T18:22:38.426271Z",
     "iopub.status.idle": "2022-12-27T18:22:38.436358Z",
     "shell.execute_reply": "2022-12-27T18:22:38.436076Z",
     "shell.execute_reply.started": "2022-12-27T18:22:38.426465Z"
    },
    "tags": []
   },
   "outputs": [
    {
     "name": "stdout",
     "output_type": "stream",
     "text": [
      "id 9528407286733565721: iPhone X\n"
     ]
    }
   ],
   "source": [
    "doc = nlp('New iPhone X release date leaked as Apple reveals pre-orders by mistake')\n",
    "matcher = Matcher(nlp.vocab)\n",
    "# Add the pattern to the matcher\n",
    "pattern = [{'ORTH': 'iPhone'}, {'ORTH': 'X'}]\n",
    "matcher.add('IPHONE_PATTERN', [pattern])\n",
    "# Process some text\n",
    "doc = nlp(\"New iPhone X release date leaked\")\n",
    "# Call the matcher on the doc\n",
    "matches = matcher(doc)\n",
    "for match_id, start, end in matches:\n",
    "    # Get the matched span\n",
    "    matched_span = doc[start:end]\n",
    "    print(f'id {match_id}:', matched_span.text)"
   ]
  },
  {
   "cell_type": "code",
   "execution_count": 106,
   "id": "ea18f845-3369-4aaa-b99a-3bcaaa5b5dbb",
   "metadata": {
    "execution": {
     "iopub.execute_input": "2022-12-27T18:24:35.735613Z",
     "iopub.status.busy": "2022-12-27T18:24:35.735476Z",
     "iopub.status.idle": "2022-12-27T18:24:35.738553Z",
     "shell.execute_reply": "2022-12-27T18:24:35.738288Z",
     "shell.execute_reply.started": "2022-12-27T18:24:35.735602Z"
    },
    "tags": []
   },
   "outputs": [
    {
     "data": {
      "text/plain": [
       "['iPhone X']"
      ]
     },
     "execution_count": 106,
     "metadata": {},
     "output_type": "execute_result"
    }
   ],
   "source": [
    "[doc[start:end].text for match_id, start, end in matches]"
   ]
  },
  {
   "cell_type": "markdown",
   "id": "6d575ace-2c0d-47e5-b90d-1888390f9317",
   "metadata": {},
   "source": [
    "## Writing more complex match patterns"
   ]
  },
  {
   "cell_type": "markdown",
   "id": "ed245c82-d265-4031-bde6-6ef8812cba19",
   "metadata": {},
   "source": [
    "Write one pattern that only matches mentions of the full iOS versions: \"iOS 7\", \"iOS 11\" and \"iOS 10\"."
   ]
  },
  {
   "cell_type": "code",
   "execution_count": 109,
   "id": "df2fa224-10b1-495b-b146-873a1950d294",
   "metadata": {
    "execution": {
     "iopub.execute_input": "2022-12-27T18:28:53.613914Z",
     "iopub.status.busy": "2022-12-27T18:28:53.613778Z",
     "iopub.status.idle": "2022-12-27T18:28:53.624202Z",
     "shell.execute_reply": "2022-12-27T18:28:53.623756Z",
     "shell.execute_reply.started": "2022-12-27T18:28:53.613903Z"
    },
    "tags": []
   },
   "outputs": [
    {
     "name": "stdout",
     "output_type": "stream",
     "text": [
      "Total matches found: 3\n",
      "Match found: iOS 7\n",
      "Match found: iOS 11\n",
      "Match found: iOS 10\n"
     ]
    }
   ],
   "source": [
    "doc = nlp(\"After making the iOS update you won't notice a radical system-wide redesign: nothing like the aesthetic upheaval we got with iOS 7. Most of iOS 11's furniture remains the same as in iOS 10. But you will discover some tweaks once you delve a little deeper.\")\n",
    "\n",
    "# Write a pattern for full iOS versions (\"iOS 7\", \"iOS 11\", \"iOS 10\")\n",
    "pattern = [{'TEXT': 'iOS'}, {'IS_DIGIT': True}]\n",
    "\n",
    "# Add the pattern to the matcher and apply the matcher to the doc\n",
    "matcher.add('IOS_VERSION_PATTERN', [pattern])\n",
    "matches = matcher(doc)\n",
    "print('Total matches found:', len(matches))\n",
    "\n",
    "# Iterate over the matches and print the span text\n",
    "for match_id, start, end in matches:\n",
    "    print('Match found:', doc[start:end].text)"
   ]
  },
  {
   "cell_type": "markdown",
   "id": "e6c6009e-454f-42fa-99e3-a69bb4f542b2",
   "metadata": {},
   "source": [
    "Write one pattern that only matches forms of \"download\" (tokens with the lemma \"download\"), followed by a token with the part-of-speech tag 'PROPN' (proper noun)."
   ]
  },
  {
   "cell_type": "code",
   "execution_count": 114,
   "id": "198827c7-9eba-4cf3-af2b-6ce0097af197",
   "metadata": {
    "execution": {
     "iopub.execute_input": "2022-12-27T18:31:12.061212Z",
     "iopub.status.busy": "2022-12-27T18:31:12.061073Z",
     "iopub.status.idle": "2022-12-27T18:31:12.072828Z",
     "shell.execute_reply": "2022-12-27T18:31:12.072456Z",
     "shell.execute_reply.started": "2022-12-27T18:31:12.061201Z"
    },
    "tags": []
   },
   "outputs": [
    {
     "name": "stdout",
     "output_type": "stream",
     "text": [
      "Total matches found: 3\n",
      "Match found: downloaded Fortnite\n",
      "Match found: downloading Minecraft\n",
      "Match found: download Winzip\n"
     ]
    }
   ],
   "source": [
    "doc = nlp(\"i downloaded Fortnite on my laptop and can't open the game at all. Help? so when I was downloading Minecraft, I got the Windows version where it is the '.zip' folder and I used the default program to unpack it... do I also need to download Winzip?\")\n",
    "\n",
    "# Write a pattern that matches a form of \"download\" plus proper noun\n",
    "pattern = [{'LEMMA': 'download'}, {'POS': 'PROPN'}]\n",
    "\n",
    "# Add the pattern to the matcher and apply the matcher to the doc\n",
    "matcher.add('DOWNLOAD_THINGS_PATTERN', [pattern])\n",
    "matches = matcher(doc)\n",
    "print('Total matches found:', len(matches))\n",
    "\n",
    "# Iterate over the matches and print the span text\n",
    "for match_id, start, end in matches:\n",
    "    print('Match found:', doc[start:end].text)"
   ]
  },
  {
   "cell_type": "markdown",
   "id": "59215bef-50e5-4ef5-80f2-249e75ea6efb",
   "metadata": {},
   "source": [
    "Write one pattern that matches adjectives ('ADJ') followed by one or two 'NOUN's (one noun and one optional noun)."
   ]
  },
  {
   "cell_type": "code",
   "execution_count": 116,
   "id": "29787ac1-eed8-4130-8801-10b0c2628aff",
   "metadata": {
    "execution": {
     "iopub.execute_input": "2022-12-27T18:35:11.492278Z",
     "iopub.status.busy": "2022-12-27T18:35:11.492142Z",
     "iopub.status.idle": "2022-12-27T18:35:11.500255Z",
     "shell.execute_reply": "2022-12-27T18:35:11.499807Z",
     "shell.execute_reply.started": "2022-12-27T18:35:11.492267Z"
    },
    "tags": []
   },
   "outputs": [
    {
     "name": "stdout",
     "output_type": "stream",
     "text": [
      "Total matches found: 5\n",
      "Match found: beautiful design\n",
      "Match found: smart search\n",
      "Match found: automatic labels\n",
      "Match found: optional voice\n",
      "Match found: optional voice responses\n"
     ]
    }
   ],
   "source": [
    "doc = nlp(\"Features of the app include a beautiful design, smart search, automatic labels and optional voice responses.\")\n",
    "\n",
    "# Write a pattern for adjective plus one or two nouns\n",
    "pattern = [{'POS': 'ADJ'}, {'POS': 'NOUN'}, {'POS': 'NOUN', 'OP': '?'}]\n",
    "\n",
    "# Add the pattern to the matcher and apply the matcher to the doc\n",
    "matcher.add('ADJ_NOUN_PATTERN', [pattern])\n",
    "matches = matcher(doc)\n",
    "print('Total matches found:', len(matches))\n",
    "\n",
    "# Iterate over the matches and print the span text\n",
    "for match_id, start, end in matches:\n",
    "    print('Match found:', doc[start:end].text)"
   ]
  },
  {
   "cell_type": "code",
   "execution_count": null,
   "id": "c5968df6-6afc-44d1-ade8-ac0aaf14f3f0",
   "metadata": {},
   "outputs": [],
   "source": []
  }
 ],
 "metadata": {
  "kernelspec": {
   "display_name": "Python 3 (ipykernel)",
   "language": "python",
   "name": "python3"
  },
  "language_info": {
   "codemirror_mode": {
    "name": "ipython",
    "version": 3
   },
   "file_extension": ".py",
   "mimetype": "text/x-python",
   "name": "python",
   "nbconvert_exporter": "python",
   "pygments_lexer": "ipython3",
   "version": "3.9.15"
  }
 },
 "nbformat": 4,
 "nbformat_minor": 5
}
