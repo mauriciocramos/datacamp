{
 "cells": [
  {
   "cell_type": "code",
   "execution_count": 1,
   "id": "8262a7ef-4715-4828-b398-501c8dc5c357",
   "metadata": {
    "execution": {
     "iopub.execute_input": "2023-05-02T21:58:40.097012Z",
     "iopub.status.busy": "2023-05-02T21:58:40.096918Z",
     "iopub.status.idle": "2023-05-02T21:58:40.434184Z",
     "shell.execute_reply": "2023-05-02T21:58:40.433844Z",
     "shell.execute_reply.started": "2023-05-02T21:58:40.097001Z"
    },
    "tags": []
   },
   "outputs": [],
   "source": [
    "import matplotlib.pyplot as plt\n",
    "import pandas as pd\n",
    "import numpy as np\n",
    "plt.style.use('dark_background')"
   ]
  },
  {
   "cell_type": "code",
   "execution_count": 2,
   "id": "556eb1c8-0684-47db-afb0-b491ad1829fc",
   "metadata": {
    "execution": {
     "iopub.execute_input": "2023-05-02T21:58:40.434762Z",
     "iopub.status.busy": "2023-05-02T21:58:40.434575Z",
     "iopub.status.idle": "2023-05-02T21:58:42.166062Z",
     "shell.execute_reply": "2023-05-02T21:58:42.165549Z",
     "shell.execute_reply.started": "2023-05-02T21:58:40.434751Z"
    },
    "tags": []
   },
   "outputs": [
    {
     "name": "stderr",
     "output_type": "stream",
     "text": [
      "23/05/02 18:58:41 WARN Utils: Your hostname, rig resolves to a loopback address: 127.0.1.1; using 192.168.0.102 instead (on interface enp6s0)\n",
      "23/05/02 18:58:41 WARN Utils: Set SPARK_LOCAL_IP if you need to bind to another address\n",
      "Setting default log level to \"WARN\".\n",
      "To adjust logging level use sc.setLogLevel(newLevel). For SparkR, use setLogLevel(newLevel).\n",
      "23/05/02 18:58:41 WARN NativeCodeLoader: Unable to load native-hadoop library for your platform... using builtin-java classes where applicable\n"
     ]
    }
   ],
   "source": [
    "from pyspark import SparkContext\n",
    "sc = SparkContext.getOrCreate()\n",
    "from pyspark.sql import SparkSession\n",
    "spark = SparkSession.builder.getOrCreate()"
   ]
  },
  {
   "cell_type": "markdown",
   "id": "10b099cd-cf05-43a2-b4b7-d8b8b63d1471",
   "metadata": {},
   "source": [
    "# PySpark MLlib Algorithms\n",
    "* **Classiffication (Binary and Multiclass) and Regression:** Linear SVMs, logistic regression,\n",
    "decision trees, random forests, gradient-boosted trees, naive Bayes, linear least squares, Lasso, ridge regression, isotonic regression\n",
    "* **Collaborative filtering:** Alternating least squares (ALS)\n",
    "* **Clustering:** K-means, Gaussian mixture, Bisecting K-means and Streaming K-Means"
   ]
  },
  {
   "cell_type": "markdown",
   "id": "343231b7-acaf-4ba3-bb8a-8c8d702522f2",
   "metadata": {},
   "source": [
    "# The three C's of machine learning in PySpark MLlib\n",
    "* Collaborative filtering (recommender engines): Produce recommendations\n",
    "    * Collaborative filtering produces recommendations based on past behavior, preferences, or similarities to known entities/users.\n",
    "* Classification: identifying to which of a set of categories a new observation\n",
    "* Clustering: Groups data based on similar characteristics"
   ]
  },
  {
   "cell_type": "markdown",
   "id": "b42e1dbd-f458-4312-b39d-70315b92632d",
   "metadata": {},
   "source": [
    "# PySpark MLlib imports\n",
    "* pyspark.mllib.recommendation  \n",
    "`from pyspark.mllib.recommendation import ALS`\n",
    "* pyspark.mllib.classification  \n",
    "`from pyspark.mllib.classification import LogisticRegressionWithLBFGS`\n",
    "* pyspark.mllib.clustering  \n",
    "`from pyspark.mllib.clustering import KMeans`"
   ]
  },
  {
   "cell_type": "code",
   "execution_count": 3,
   "id": "8f71bf1e-6551-41da-8d8b-373d7468c2d5",
   "metadata": {
    "execution": {
     "iopub.execute_input": "2023-05-02T21:58:42.166662Z",
     "iopub.status.busy": "2023-05-02T21:58:42.166555Z",
     "iopub.status.idle": "2023-05-02T21:58:42.238634Z",
     "shell.execute_reply": "2023-05-02T21:58:42.238306Z",
     "shell.execute_reply.started": "2023-05-02T21:58:42.166651Z"
    },
    "tags": []
   },
   "outputs": [],
   "source": [
    "# Import the library for ALS\n",
    "from pyspark.mllib.recommendation import ALS\n",
    "# Import the library for Logistic Regression\n",
    "from pyspark.mllib.classification import LogisticRegressionWithLBFGS\n",
    "# Import the library for Kmeans\n",
    "from pyspark.mllib.clustering import KMeans"
   ]
  },
  {
   "cell_type": "markdown",
   "id": "ddf9dc2e-94ae-4459-944e-9d576efef313",
   "metadata": {},
   "source": [
    "# Introduction to Collaborative filtering"
   ]
  },
  {
   "cell_type": "markdown",
   "id": "cd6d1291-d08e-4d7b-96fd-74cd633146c0",
   "metadata": {
    "execution": {
     "iopub.execute_input": "2023-03-31T14:50:34.213878Z",
     "iopub.status.busy": "2023-03-31T14:50:34.213548Z",
     "iopub.status.idle": "2023-03-31T14:50:34.216691Z",
     "shell.execute_reply": "2023-03-31T14:50:34.216309Z",
     "shell.execute_reply.started": "2023-03-31T14:50:34.213864Z"
    }
   },
   "source": [
    "## Rating class in pyspark.mllib.recommendation submodule\n",
    "* The Rating class is a wrapper around tuple (user, product and rating)\n",
    "* Useful for parsing the RDD and creating a tuple of user, product and rating"
   ]
  },
  {
   "cell_type": "code",
   "execution_count": 4,
   "id": "4a1896c8-e26e-4bc1-976c-0872ca0ed956",
   "metadata": {
    "execution": {
     "iopub.execute_input": "2023-05-02T21:58:42.239648Z",
     "iopub.status.busy": "2023-05-02T21:58:42.239512Z",
     "iopub.status.idle": "2023-05-02T21:58:42.244080Z",
     "shell.execute_reply": "2023-05-02T21:58:42.243724Z",
     "shell.execute_reply.started": "2023-05-02T21:58:42.239633Z"
    },
    "tags": []
   },
   "outputs": [
    {
     "data": {
      "text/plain": [
       "Rating(user=1, product=2, rating=5.0)"
      ]
     },
     "execution_count": 4,
     "metadata": {},
     "output_type": "execute_result"
    }
   ],
   "source": [
    "from pyspark.mllib.recommendation import Rating\n",
    "r = Rating(user=1, product=2, rating=5.0)\n",
    "r"
   ]
  },
  {
   "cell_type": "code",
   "execution_count": 5,
   "id": "404e3ebf-7b4b-436f-babc-e3b1741b9e7a",
   "metadata": {
    "execution": {
     "iopub.execute_input": "2023-05-02T21:58:42.244759Z",
     "iopub.status.busy": "2023-05-02T21:58:42.244524Z",
     "iopub.status.idle": "2023-05-02T21:58:42.247464Z",
     "shell.execute_reply": "2023-05-02T21:58:42.247128Z",
     "shell.execute_reply.started": "2023-05-02T21:58:42.244743Z"
    },
    "tags": []
   },
   "outputs": [
    {
     "data": {
      "text/plain": [
       "(1, 2, 5.0)"
      ]
     },
     "execution_count": 5,
     "metadata": {},
     "output_type": "execute_result"
    }
   ],
   "source": [
    "r[0], r[1], r[2]"
   ]
  },
  {
   "cell_type": "markdown",
   "id": "68ac0718-9daa-42dd-9914-2a093e5d2b77",
   "metadata": {
    "tags": []
   },
   "source": [
    "## Splitting the data using randomSplit()\n",
    "* Splitting data into training and testing sets is important for evaluating predictive modeling\n",
    "* Typically a large portion of data is assigned to training compared to testing data\n",
    "* PySpark's randomSplit() method randomly splits with the provided weights and returns multiple RDDs"
   ]
  },
  {
   "cell_type": "code",
   "execution_count": 6,
   "id": "0349f1ff-f331-4edd-b281-e74a8fa288b3",
   "metadata": {
    "execution": {
     "iopub.execute_input": "2023-05-02T21:58:42.248089Z",
     "iopub.status.busy": "2023-05-02T21:58:42.247848Z",
     "iopub.status.idle": "2023-05-02T21:58:43.053250Z",
     "shell.execute_reply": "2023-05-02T21:58:43.052987Z",
     "shell.execute_reply.started": "2023-05-02T21:58:42.248074Z"
    },
    "tags": []
   },
   "outputs": [
    {
     "data": {
      "text/plain": [
       "[1, 3, 6, 7, 8, 9]"
      ]
     },
     "execution_count": 6,
     "metadata": {},
     "output_type": "execute_result"
    }
   ],
   "source": [
    "data = sc.parallelize([1, 2, 3, 4, 5, 6, 7, 8, 9, 10])\n",
    "training, test = data.randomSplit([0.6, 0.4])\n",
    "training.collect()"
   ]
  },
  {
   "cell_type": "code",
   "execution_count": 7,
   "id": "96c5999f-df41-4da2-b276-2e1df53291ca",
   "metadata": {
    "execution": {
     "iopub.execute_input": "2023-05-02T21:58:43.053729Z",
     "iopub.status.busy": "2023-05-02T21:58:43.053626Z",
     "iopub.status.idle": "2023-05-02T21:58:43.202729Z",
     "shell.execute_reply": "2023-05-02T21:58:43.202274Z",
     "shell.execute_reply.started": "2023-05-02T21:58:43.053719Z"
    },
    "tags": []
   },
   "outputs": [
    {
     "data": {
      "text/plain": [
       "[2, 4, 5, 10]"
      ]
     },
     "execution_count": 7,
     "metadata": {},
     "output_type": "execute_result"
    }
   ],
   "source": [
    "test.collect()"
   ]
  },
  {
   "cell_type": "markdown",
   "id": "09eec422-7a98-4778-9976-a34c9277b801",
   "metadata": {},
   "source": [
    "## Alternating Least Squares (ALS)\n",
    "* Alternating Least Squares (ALS) algorithm in spark.mllib provides collaborative filtering\n",
    "* ALS.train(ratings, rank, iterations)\n",
    "\n",
    "The ALS.train() method requires that we represent:\n",
    "* `ratings` objects as (UserId, ItemId, Rating) tuples along with training parameters rank and iterations.\n",
    "* `rank` represents the number of features.\n",
    "* `iterations` represent the number of iterations to run the least squares computation. "
   ]
  },
  {
   "cell_type": "code",
   "execution_count": 8,
   "id": "7834829f-5e89-4887-a69c-29187d4a4f43",
   "metadata": {
    "execution": {
     "iopub.execute_input": "2023-05-02T21:58:43.203584Z",
     "iopub.status.busy": "2023-05-02T21:58:43.203315Z",
     "iopub.status.idle": "2023-05-02T21:58:43.238341Z",
     "shell.execute_reply": "2023-05-02T21:58:43.237970Z",
     "shell.execute_reply.started": "2023-05-02T21:58:43.203567Z"
    },
    "tags": []
   },
   "outputs": [
    {
     "data": {
      "text/plain": [
       "[Rating(user=1, product=1, rating=1.0),\n",
       " Rating(user=1, product=2, rating=2.0),\n",
       " Rating(user=2, product=1, rating=2.0)]"
      ]
     },
     "execution_count": 8,
     "metadata": {},
     "output_type": "execute_result"
    }
   ],
   "source": [
    "r1 = Rating(1, 1, 1.0)\n",
    "r2 = Rating(1, 2, 2.0)\n",
    "r3 = Rating(2, 1, 2.0)\n",
    "ratings = sc.parallelize([r1, r2, r3])\n",
    "ratings.collect()"
   ]
  },
  {
   "cell_type": "code",
   "execution_count": 9,
   "id": "5e11eb2e-1897-4006-a402-c202ecf95265",
   "metadata": {
    "execution": {
     "iopub.execute_input": "2023-05-02T21:58:43.239229Z",
     "iopub.status.busy": "2023-05-02T21:58:43.238937Z",
     "iopub.status.idle": "2023-05-02T21:58:46.546610Z",
     "shell.execute_reply": "2023-05-02T21:58:46.546295Z",
     "shell.execute_reply.started": "2023-05-02T21:58:43.239211Z"
    },
    "tags": []
   },
   "outputs": [
    {
     "data": {
      "text/plain": [
       "<pyspark.mllib.recommendation.MatrixFactorizationModel at 0x7fda3d82f400>"
      ]
     },
     "execution_count": 9,
     "metadata": {},
     "output_type": "execute_result"
    }
   ],
   "source": [
    "model = ALS.train(ratings, rank=10, iterations=10)\n",
    "model"
   ]
  },
  {
   "cell_type": "markdown",
   "id": "b622aecb-4ffe-4985-913b-5e9d149a8167",
   "metadata": {},
   "source": [
    "## predictAll() – Returns RDD of Rating Objects\n",
    "* The predictAll() method returns a list of predicted ratings for input user and product pair\n",
    "* The method takes in an RDD without ratings to generate the ratings"
   ]
  },
  {
   "cell_type": "code",
   "execution_count": 10,
   "id": "43806118-b5d3-4259-888b-166a33a85696",
   "metadata": {
    "execution": {
     "iopub.execute_input": "2023-05-02T21:58:46.547443Z",
     "iopub.status.busy": "2023-05-02T21:58:46.547176Z",
     "iopub.status.idle": "2023-05-02T21:58:47.115014Z",
     "shell.execute_reply": "2023-05-02T21:58:47.114628Z",
     "shell.execute_reply.started": "2023-05-02T21:58:46.547426Z"
    },
    "tags": []
   },
   "outputs": [
    {
     "data": {
      "text/plain": [
       "[Rating(user=1, product=1, rating=1.0000155759593812),\n",
       " Rating(user=1, product=2, rating=1.9890390699464213)]"
      ]
     },
     "execution_count": 10,
     "metadata": {},
     "output_type": "execute_result"
    }
   ],
   "source": [
    "unrated_RDD = sc.parallelize([(1, 2), (1, 1)])\n",
    "predictions = model.predictAll(unrated_RDD)\n",
    "predictions.collect()"
   ]
  },
  {
   "cell_type": "markdown",
   "id": "0d0d6403-f9ef-4d75-96fd-96f5e680b30d",
   "metadata": {},
   "source": [
    "## Model evaluation using MSE\n",
    "The MSE is the average value of the square of (actual rating - predicted rating)"
   ]
  },
  {
   "cell_type": "code",
   "execution_count": 11,
   "id": "ca237052-7a11-42a1-8053-3ec583f72649",
   "metadata": {
    "execution": {
     "iopub.execute_input": "2023-05-02T21:58:47.115520Z",
     "iopub.status.busy": "2023-05-02T21:58:47.115402Z",
     "iopub.status.idle": "2023-05-02T21:58:47.492726Z",
     "shell.execute_reply": "2023-05-02T21:58:47.492238Z",
     "shell.execute_reply.started": "2023-05-02T21:58:47.115509Z"
    },
    "tags": []
   },
   "outputs": [
    {
     "data": {
      "text/plain": [
       "[((1, 1), 1.0), ((1, 2), 2.0), ((2, 1), 2.0)]"
      ]
     },
     "execution_count": 11,
     "metadata": {},
     "output_type": "execute_result"
    }
   ],
   "source": [
    "rates = ratings.map(lambda x: ((x[0], x[1]), x[2]))\n",
    "rates.collect()"
   ]
  },
  {
   "cell_type": "code",
   "execution_count": 12,
   "id": "b0793018-81df-4471-b9a2-e4c749a1a796",
   "metadata": {
    "execution": {
     "iopub.execute_input": "2023-05-02T21:58:47.493271Z",
     "iopub.status.busy": "2023-05-02T21:58:47.493157Z",
     "iopub.status.idle": "2023-05-02T21:58:47.646364Z",
     "shell.execute_reply": "2023-05-02T21:58:47.645974Z",
     "shell.execute_reply.started": "2023-05-02T21:58:47.493261Z"
    },
    "tags": []
   },
   "outputs": [
    {
     "data": {
      "text/plain": [
       "[((1, 1), 1.0000155759593812), ((1, 2), 1.9890390699464213)]"
      ]
     },
     "execution_count": 12,
     "metadata": {},
     "output_type": "execute_result"
    }
   ],
   "source": [
    "preds = predictions.map(lambda x: ((x[0], x[1]), x[2]))\n",
    "preds.collect()"
   ]
  },
  {
   "cell_type": "code",
   "execution_count": 13,
   "id": "13216aa9-2061-40c7-9f36-649391a8021e",
   "metadata": {
    "execution": {
     "iopub.execute_input": "2023-05-02T21:58:47.649639Z",
     "iopub.status.busy": "2023-05-02T21:58:47.649286Z",
     "iopub.status.idle": "2023-05-02T21:58:48.696921Z",
     "shell.execute_reply": "2023-05-02T21:58:48.696540Z",
     "shell.execute_reply.started": "2023-05-02T21:58:47.649625Z"
    },
    "tags": []
   },
   "outputs": [
    {
     "name": "stderr",
     "output_type": "stream",
     "text": [
      "                                                                                \r"
     ]
    },
    {
     "data": {
      "text/plain": [
       "[((1, 2), (2.0, 1.9890390699464213)), ((1, 1), (1.0, 1.0000155759593812))]"
      ]
     },
     "execution_count": 13,
     "metadata": {},
     "output_type": "execute_result"
    }
   ],
   "source": [
    "rates_preds = rates.join(preds)\n",
    "rates_preds.collect()"
   ]
  },
  {
   "cell_type": "code",
   "execution_count": 14,
   "id": "cfbdd920-9538-4ea4-916e-54292ac2d287",
   "metadata": {
    "execution": {
     "iopub.execute_input": "2023-05-02T21:58:48.697501Z",
     "iopub.status.busy": "2023-05-02T21:58:48.697376Z",
     "iopub.status.idle": "2023-05-02T21:58:48.995973Z",
     "shell.execute_reply": "2023-05-02T21:58:48.995504Z",
     "shell.execute_reply.started": "2023-05-02T21:58:48.697487Z"
    },
    "tags": []
   },
   "outputs": [
    {
     "data": {
      "text/plain": [
       "6.007111512497745e-05"
      ]
     },
     "execution_count": 14,
     "metadata": {},
     "output_type": "execute_result"
    }
   ],
   "source": [
    "MSE = rates_preds.map(lambda r: (r[1][0] - r[1][1])**2).mean()\n",
    "MSE"
   ]
  },
  {
   "cell_type": "markdown",
   "id": "4b974d76-09b7-4200-aeb4-448ecc805cd0",
   "metadata": {},
   "source": [
    "## Loading Movie Lens dataset into RDDs"
   ]
  },
  {
   "cell_type": "markdown",
   "id": "b4da7725-71d7-42d6-9d56-01fbebdf452f",
   "metadata": {},
   "source": [
    "https://grouplens.org/datasets/movielens/100k/"
   ]
  },
  {
   "cell_type": "code",
   "execution_count": 15,
   "id": "40e13dc1-c20d-4727-912a-c3acf99d8ef9",
   "metadata": {
    "execution": {
     "iopub.execute_input": "2023-05-02T21:58:48.996815Z",
     "iopub.status.busy": "2023-05-02T21:58:48.996507Z",
     "iopub.status.idle": "2023-05-02T21:58:49.574625Z",
     "shell.execute_reply": "2023-05-02T21:58:49.574128Z",
     "shell.execute_reply.started": "2023-05-02T21:58:48.996798Z"
    },
    "tags": []
   },
   "outputs": [
    {
     "data": {
      "text/plain": [
       "(80010, 19994)"
      ]
     },
     "execution_count": 15,
     "metadata": {},
     "output_type": "execute_result"
    }
   ],
   "source": [
    "# Load the data into RDD\n",
    "data = sc.textFile('ratings.csv')\n",
    "# Split the RDD \n",
    "ratings = data.map(lambda l: l.split(','))\n",
    "# Transform the ratings RDD \n",
    "ratings_final = ratings.map(lambda line: Rating(int(line[0]), int(line[1]), float(line[2])))\n",
    "# Split the data into training and test\n",
    "training_data, test_data = ratings_final.randomSplit([0.8, 0.2])\n",
    "training_data.count(), test_data. count()"
   ]
  },
  {
   "cell_type": "markdown",
   "id": "9de56fe0-d7ea-4450-b5d7-fb8f9ccd50f5",
   "metadata": {
    "tags": []
   },
   "source": [
    "## Model training and predictions\n",
    "\n",
    "After splitting the data into training and test data, in the second part of the exercise, you'll train the ALS algorithm using the training data. PySpark MLlib's ALS algorithm has the following mandatory parameters - rank (the number of latent factors in the model) and iterations (number of iterations to run). After training the ALS model, you can use the model to predict the ratings from the test data. For this, you will provide the user and item columns from the test dataset and finally return the list of 2 rows of predictAll() output. "
   ]
  },
  {
   "cell_type": "code",
   "execution_count": 16,
   "id": "2bd7ccd2-df97-4311-9858-4255c0a1f3a0",
   "metadata": {
    "execution": {
     "iopub.execute_input": "2023-05-02T21:58:49.575392Z",
     "iopub.status.busy": "2023-05-02T21:58:49.575214Z",
     "iopub.status.idle": "2023-05-02T21:58:51.903570Z",
     "shell.execute_reply": "2023-05-02T21:58:51.903051Z",
     "shell.execute_reply.started": "2023-05-02T21:58:49.575373Z"
    },
    "tags": []
   },
   "outputs": [
    {
     "data": {
      "text/plain": [
       "19994"
      ]
     },
     "execution_count": 16,
     "metadata": {},
     "output_type": "execute_result"
    }
   ],
   "source": [
    "# Create the ALS model on the training data\n",
    "model = ALS.train(training_data, rank=10, iterations=10)\n",
    "# Drop the ratings column \n",
    "testdata_no_rating = test_data.map(lambda p: (p[0], p[1]))\n",
    "testdata_no_rating.count()"
   ]
  },
  {
   "cell_type": "code",
   "execution_count": 17,
   "id": "ce03676d-b9a3-4ad9-8aff-4ce2eb4c5be7",
   "metadata": {
    "execution": {
     "iopub.execute_input": "2023-05-02T21:58:51.904037Z",
     "iopub.status.busy": "2023-05-02T21:58:51.903927Z",
     "iopub.status.idle": "2023-05-02T21:58:53.498177Z",
     "shell.execute_reply": "2023-05-02T21:58:53.497899Z",
     "shell.execute_reply.started": "2023-05-02T21:58:51.904027Z"
    },
    "tags": []
   },
   "outputs": [
    {
     "data": {
      "text/plain": [
       "19236"
      ]
     },
     "execution_count": 17,
     "metadata": {},
     "output_type": "execute_result"
    }
   ],
   "source": [
    "# Predict the model  \n",
    "predictions = model.predictAll(testdata_no_rating)\n",
    "predictions.count()"
   ]
  },
  {
   "cell_type": "markdown",
   "id": "83398147-f30e-4207-8f59-e2e3d28e3a3e",
   "metadata": {},
   "source": [
    "`predictAll` retuns fewer rows because of missing training users/products"
   ]
  },
  {
   "cell_type": "code",
   "execution_count": 18,
   "id": "9d772ce2-12a5-48cf-bca6-be975ed53176",
   "metadata": {
    "execution": {
     "iopub.execute_input": "2023-05-02T21:58:53.498786Z",
     "iopub.status.busy": "2023-05-02T21:58:53.498590Z",
     "iopub.status.idle": "2023-05-02T21:58:55.888726Z",
     "shell.execute_reply": "2023-05-02T21:58:55.888112Z",
     "shell.execute_reply.started": "2023-05-02T21:58:53.498772Z"
    },
    "tags": []
   },
   "outputs": [
    {
     "data": {
      "text/plain": [
       "758"
      ]
     },
     "execution_count": 18,
     "metadata": {},
     "output_type": "execute_result"
    }
   ],
   "source": [
    "testdata_df = test_data.map(lambda r: ((r[0], r[1]), r[2])).toDF()\n",
    "predictions_df = predictions.map(lambda r: ((r[0], r[1]), r[2])).toDF()\n",
    "testdata_df.join(predictions_df, on='_1', how='leftanti').count()"
   ]
  },
  {
   "cell_type": "code",
   "execution_count": 19,
   "id": "582c7d28-0544-416f-8a40-c45ee828b54d",
   "metadata": {
    "execution": {
     "iopub.execute_input": "2023-05-02T21:58:55.889925Z",
     "iopub.status.busy": "2023-05-02T21:58:55.889426Z",
     "iopub.status.idle": "2023-05-02T21:58:55.971675Z",
     "shell.execute_reply": "2023-05-02T21:58:55.971399Z",
     "shell.execute_reply.started": "2023-05-02T21:58:55.889899Z"
    },
    "tags": []
   },
   "outputs": [
    {
     "data": {
      "text/plain": [
       "[Rating(user=529, product=3456, rating=1.455122761716467),\n",
       " Rating(user=564, product=320, rating=3.0595998349677433)]"
      ]
     },
     "execution_count": 19,
     "metadata": {},
     "output_type": "execute_result"
    }
   ],
   "source": [
    "# Return the first 2 rows of the RDD\n",
    "predictions.take(2)"
   ]
  },
  {
   "cell_type": "markdown",
   "id": "056daf56-c1a4-4b3a-b729-788004ceddd4",
   "metadata": {},
   "source": [
    "## Model evaluation using MSE\n",
    "\n",
    "After generating the predicted ratings from the test data using ALS model, in this final part of the exercise, you'll prepare the data for calculating Mean Square Error (MSE) of the model. The MSE is the average value of (original rating – predicted rating)**2 for all users and indicates the absolute fit of the model to the data. To do this, first, you'll organize both the ratings and prediction RDDs to make a tuple of ((user, product), rating)), then join the ratings RDD with prediction RDD and finally apply a squared difference function along with mean() to get the MSE."
   ]
  },
  {
   "cell_type": "code",
   "execution_count": 20,
   "id": "279f31e6-5e94-47b6-afde-0576487d2e31",
   "metadata": {
    "execution": {
     "iopub.execute_input": "2023-05-02T21:58:55.972145Z",
     "iopub.status.busy": "2023-05-02T21:58:55.972043Z",
     "iopub.status.idle": "2023-05-02T21:58:56.751942Z",
     "shell.execute_reply": "2023-05-02T21:58:56.751512Z",
     "shell.execute_reply.started": "2023-05-02T21:58:55.972135Z"
    },
    "tags": []
   },
   "outputs": [
    {
     "name": "stderr",
     "output_type": "stream",
     "text": [
      "[Stage 682:================================================>      (16 + 2) / 18]\r"
     ]
    },
    {
     "name": "stdout",
     "output_type": "stream",
     "text": [
      "Mean Squared Error of the model for the test data = 1.31\n"
     ]
    },
    {
     "name": "stderr",
     "output_type": "stream",
     "text": [
      "                                                                                \r"
     ]
    }
   ],
   "source": [
    "# Prepare ratings data\n",
    "# rates = ratings_final.map(lambda r: ((r[0], r[1]), r[2]))\n",
    "rates = test_data.map(lambda r: ((r[0], r[1]), r[2]))\n",
    "# Prepare predictions data\n",
    "preds = predictions.map(lambda r: ((r[0], r[1]), r[2]))\n",
    "# (Inner) join the ratings data with predictions data\n",
    "rates_and_preds = rates.join(preds)\n",
    "# Calculate and print MSE\n",
    "MSE = rates_and_preds.map(lambda r: (r[1][0] - r[1][1])**2).mean()\n",
    "print(\"Mean Squared Error of the model for the test data = {:.2f}\".format(MSE))"
   ]
  },
  {
   "cell_type": "markdown",
   "id": "2c616aaf-1683-4885-ba7f-f452fae9105a",
   "metadata": {},
   "source": [
    "# Classification"
   ]
  },
  {
   "cell_type": "markdown",
   "id": "c7bad728-133e-4fd2-ba4f-cdfde2b137a9",
   "metadata": {},
   "source": [
    "## Working with Vectors\n",
    "* PySpark MLlib contains specific data types Vectors and LabelledPoint\n",
    "* Two types of Vectors\n",
    "    * Dense Vector: store all their entries in an array of floating point numbers\n",
    "    * Sparse Vector: store only the nonzero values and their indices"
   ]
  },
  {
   "cell_type": "code",
   "execution_count": 21,
   "id": "4fe960f3-4ffb-4e84-a25f-fd867e4e2b96",
   "metadata": {
    "execution": {
     "iopub.execute_input": "2023-05-02T21:58:56.752701Z",
     "iopub.status.busy": "2023-05-02T21:58:56.752531Z",
     "iopub.status.idle": "2023-05-02T21:58:56.756035Z",
     "shell.execute_reply": "2023-05-02T21:58:56.755579Z",
     "shell.execute_reply.started": "2023-05-02T21:58:56.752685Z"
    }
   },
   "outputs": [],
   "source": [
    "from pyspark.mllib.feature import Vectors"
   ]
  },
  {
   "cell_type": "code",
   "execution_count": 22,
   "id": "c7a0d087-f126-4580-a795-5a5bd60ff899",
   "metadata": {
    "execution": {
     "iopub.execute_input": "2023-05-02T21:58:56.756936Z",
     "iopub.status.busy": "2023-05-02T21:58:56.756615Z",
     "iopub.status.idle": "2023-05-02T21:58:56.759797Z",
     "shell.execute_reply": "2023-05-02T21:58:56.759435Z",
     "shell.execute_reply.started": "2023-05-02T21:58:56.756917Z"
    },
    "tags": []
   },
   "outputs": [
    {
     "data": {
      "text/plain": [
       "DenseVector([1.0, 2.0, 3.0])"
      ]
     },
     "execution_count": 22,
     "metadata": {},
     "output_type": "execute_result"
    }
   ],
   "source": [
    "denseVec = Vectors.dense([1.0, 2.0, 3.0])\n",
    "denseVec"
   ]
  },
  {
   "cell_type": "code",
   "execution_count": 23,
   "id": "9ce33cc6-e581-4822-ba1c-d213a6a6b1b5",
   "metadata": {
    "execution": {
     "iopub.execute_input": "2023-05-02T21:58:56.760585Z",
     "iopub.status.busy": "2023-05-02T21:58:56.760338Z",
     "iopub.status.idle": "2023-05-02T21:58:56.763353Z",
     "shell.execute_reply": "2023-05-02T21:58:56.763061Z",
     "shell.execute_reply.started": "2023-05-02T21:58:56.760569Z"
    },
    "tags": []
   },
   "outputs": [
    {
     "data": {
      "text/plain": [
       "SparseVector(4, {1: 1.0, 3: 5.5})"
      ]
     },
     "execution_count": 23,
     "metadata": {},
     "output_type": "execute_result"
    }
   ],
   "source": [
    "sparseVec = Vectors.sparse(4, {1: 1.0, 3: 5.5})\n",
    "sparseVec"
   ]
  },
  {
   "cell_type": "markdown",
   "id": "fdca4a8a-8547-4ec3-8024-69dd38c72f4b",
   "metadata": {},
   "source": [
    "## LabelledPoint() in PySpark MLlib\n",
    "* A LabeledPoint is a wrapper for input features and predicted value\n",
    "* For binary classification of Logistic Regression, a label is either 0 (negative) or 1 (positive)"
   ]
  },
  {
   "cell_type": "code",
   "execution_count": 24,
   "id": "2dd793f7-bf6a-49f6-a2c9-5c174fa3eb68",
   "metadata": {
    "execution": {
     "iopub.execute_input": "2023-05-02T21:58:56.763849Z",
     "iopub.status.busy": "2023-05-02T21:58:56.763739Z",
     "iopub.status.idle": "2023-05-02T21:58:56.765512Z",
     "shell.execute_reply": "2023-05-02T21:58:56.765247Z",
     "shell.execute_reply.started": "2023-05-02T21:58:56.763838Z"
    },
    "tags": []
   },
   "outputs": [],
   "source": [
    "from pyspark.mllib.feature import LabeledPoint"
   ]
  },
  {
   "cell_type": "code",
   "execution_count": 25,
   "id": "f2c15bc2-f07b-4394-a352-6891116e5867",
   "metadata": {
    "execution": {
     "iopub.execute_input": "2023-05-02T21:58:56.765953Z",
     "iopub.status.busy": "2023-05-02T21:58:56.765855Z",
     "iopub.status.idle": "2023-05-02T21:58:56.767941Z",
     "shell.execute_reply": "2023-05-02T21:58:56.767655Z",
     "shell.execute_reply.started": "2023-05-02T21:58:56.765944Z"
    },
    "tags": []
   },
   "outputs": [
    {
     "name": "stdout",
     "output_type": "stream",
     "text": [
      "(1.0,[1.0,0.0,3.0])\n",
      "(0.0,[2.0,1.0,1.0])\n"
     ]
    }
   ],
   "source": [
    "positive = LabeledPoint(1.0, [1.0, 0.0, 3.0])\n",
    "negative = LabeledPoint(0.0, [2.0, 1.0, 1.0])\n",
    "print(positive)\n",
    "print(negative)"
   ]
  },
  {
   "cell_type": "markdown",
   "id": "e947186e-baa1-460d-b8a4-79eebf2b80d5",
   "metadata": {},
   "source": [
    "## HashingTF() in PySpark MLlib\n",
    "* HashingTF() algorithm is used to map feature value to indices in the feature vector"
   ]
  },
  {
   "cell_type": "code",
   "execution_count": 26,
   "id": "73cd38b9-e16f-495e-97c5-a171beff4603",
   "metadata": {
    "execution": {
     "iopub.execute_input": "2023-05-02T21:58:56.768507Z",
     "iopub.status.busy": "2023-05-02T21:58:56.768375Z",
     "iopub.status.idle": "2023-05-02T21:58:56.770191Z",
     "shell.execute_reply": "2023-05-02T21:58:56.769951Z",
     "shell.execute_reply.started": "2023-05-02T21:58:56.768496Z"
    },
    "tags": []
   },
   "outputs": [],
   "source": [
    "from pyspark.mllib.feature import HashingTF"
   ]
  },
  {
   "cell_type": "code",
   "execution_count": 27,
   "id": "f125f11b-9e28-4f42-8b2e-7e2427c99c1d",
   "metadata": {
    "execution": {
     "iopub.execute_input": "2023-05-02T21:58:56.770645Z",
     "iopub.status.busy": "2023-05-02T21:58:56.770545Z",
     "iopub.status.idle": "2023-05-02T21:58:56.772924Z",
     "shell.execute_reply": "2023-05-02T21:58:56.772683Z",
     "shell.execute_reply.started": "2023-05-02T21:58:56.770636Z"
    },
    "tags": []
   },
   "outputs": [
    {
     "data": {
      "text/plain": [
       "SparseVector(10000, {1550: 2.0, 3823: 1.0})"
      ]
     },
     "execution_count": 27,
     "metadata": {},
     "output_type": "execute_result"
    }
   ],
   "source": [
    "sentence = \"hello hello world\"\n",
    "words = sentence.split()\n",
    "tf = HashingTF(numFeatures=10000)\n",
    "tf.transform(words)"
   ]
  },
  {
   "cell_type": "markdown",
   "id": "12618c51-2847-4132-9e6c-62b76427a8c9",
   "metadata": {
    "execution": {
     "iopub.execute_input": "2023-03-31T20:23:03.173518Z",
     "iopub.status.busy": "2023-03-31T20:23:03.173381Z",
     "iopub.status.idle": "2023-03-31T20:23:03.176001Z",
     "shell.execute_reply": "2023-03-31T20:23:03.175653Z",
     "shell.execute_reply.started": "2023-03-31T20:23:03.173507Z"
    }
   },
   "source": [
    "## Logistic Regression using `LogisticRegressionWithLBFGS`\n",
    "* Logistic Regression using Pyspark MLlib is achieved using LogisticRegressionWithLBFGS class"
   ]
  },
  {
   "cell_type": "code",
   "execution_count": 28,
   "id": "ed9dba87-2284-45f7-abd1-471898c88836",
   "metadata": {
    "execution": {
     "iopub.execute_input": "2023-05-02T21:58:56.773394Z",
     "iopub.status.busy": "2023-05-02T21:58:56.773293Z",
     "iopub.status.idle": "2023-05-02T21:58:59.921169Z",
     "shell.execute_reply": "2023-05-02T21:58:59.920732Z",
     "shell.execute_reply.started": "2023-05-02T21:58:56.773384Z"
    },
    "tags": []
   },
   "outputs": [
    {
     "name": "stderr",
     "output_type": "stream",
     "text": [
      "23/05/02 18:58:59 WARN Instrumentation: [0a0a04a4] Initial coefficients will be ignored! Its dimensions (1, 2) did not match the expected size (1, 2)\n"
     ]
    }
   ],
   "source": [
    "data = [\n",
    "    LabeledPoint(0.0, [0.0, 1.0]),\n",
    "    LabeledPoint(1.0, [1.0, 0.0]),\n",
    "]\n",
    "RDD = sc.parallelize(data)\n",
    "lrm = LogisticRegressionWithLBFGS.train(RDD)"
   ]
  },
  {
   "cell_type": "code",
   "execution_count": 29,
   "id": "497a9123-450a-4c21-8742-f79a83be36eb",
   "metadata": {
    "execution": {
     "iopub.execute_input": "2023-05-02T21:58:59.922039Z",
     "iopub.status.busy": "2023-05-02T21:58:59.921764Z",
     "iopub.status.idle": "2023-05-02T21:58:59.925335Z",
     "shell.execute_reply": "2023-05-02T21:58:59.924858Z",
     "shell.execute_reply.started": "2023-05-02T21:58:59.922021Z"
    },
    "tags": []
   },
   "outputs": [
    {
     "data": {
      "text/plain": [
       "1"
      ]
     },
     "execution_count": 29,
     "metadata": {},
     "output_type": "execute_result"
    }
   ],
   "source": [
    "lrm.predict([1.0, 0.0])"
   ]
  },
  {
   "cell_type": "code",
   "execution_count": 30,
   "id": "ceae9b62-0370-454a-ade5-23b83fbe36d7",
   "metadata": {
    "execution": {
     "iopub.execute_input": "2023-05-02T21:58:59.925901Z",
     "iopub.status.busy": "2023-05-02T21:58:59.925784Z",
     "iopub.status.idle": "2023-05-02T21:58:59.928428Z",
     "shell.execute_reply": "2023-05-02T21:58:59.928131Z",
     "shell.execute_reply.started": "2023-05-02T21:58:59.925890Z"
    },
    "tags": []
   },
   "outputs": [
    {
     "data": {
      "text/plain": [
       "0"
      ]
     },
     "execution_count": 30,
     "metadata": {},
     "output_type": "execute_result"
    }
   ],
   "source": [
    "lrm.predict([0.0, 1.0])"
   ]
  },
  {
   "cell_type": "markdown",
   "id": "814d30c7-eba9-465e-baea-f24b70c729b7",
   "metadata": {},
   "source": [
    "## Loading spam and non-spam data"
   ]
  },
  {
   "cell_type": "code",
   "execution_count": 31,
   "id": "834334d0-4154-4c0c-b055-6300b255c134",
   "metadata": {
    "execution": {
     "iopub.execute_input": "2023-05-02T21:58:59.928977Z",
     "iopub.status.busy": "2023-05-02T21:58:59.928856Z",
     "iopub.status.idle": "2023-05-02T21:59:00.070435Z",
     "shell.execute_reply": "2023-05-02T21:59:00.070015Z",
     "shell.execute_reply.started": "2023-05-02T21:58:59.928965Z"
    },
    "tags": []
   },
   "outputs": [
    {
     "data": {
      "text/plain": [
       "(747, 4827)"
      ]
     },
     "execution_count": 31,
     "metadata": {},
     "output_type": "execute_result"
    }
   ],
   "source": [
    "# Load the datasets into RDDs\n",
    "spam_rdd = sc.textFile('spam.txt')\n",
    "non_spam_rdd = sc.textFile('ham.txt')\n",
    "spam_rdd.count(), non_spam_rdd.count()"
   ]
  },
  {
   "cell_type": "code",
   "execution_count": 32,
   "id": "37a4a55f-1c05-4c3a-ab52-fc5cd949a204",
   "metadata": {
    "execution": {
     "iopub.execute_input": "2023-05-02T21:59:00.070917Z",
     "iopub.status.busy": "2023-05-02T21:59:00.070811Z",
     "iopub.status.idle": "2023-05-02T21:59:00.177563Z",
     "shell.execute_reply": "2023-05-02T21:59:00.177283Z",
     "shell.execute_reply.started": "2023-05-02T21:59:00.070907Z"
    },
    "tags": []
   },
   "outputs": [
    {
     "name": "stdout",
     "output_type": "stream",
     "text": [
      "The first element in spam_words is You\n",
      "The first element in non_spam_words is Rofl.\n"
     ]
    }
   ],
   "source": [
    "# Split the email messages into words\n",
    "spam_words = spam_rdd.flatMap(lambda email: email.split(' '))\n",
    "non_spam_words = non_spam_rdd.flatMap(lambda email: email.split(' '))\n",
    "\n",
    "# Print the first element in the split RDD\n",
    "print(\"The first element in spam_words is\", spam_words.first())\n",
    "print(\"The first element in non_spam_words is\", non_spam_words.first())"
   ]
  },
  {
   "cell_type": "markdown",
   "id": "2f5ad266-b892-4942-99f9-d599c6d49b52",
   "metadata": {},
   "source": [
    "## Feature hashing and LabelPoint"
   ]
  },
  {
   "cell_type": "code",
   "execution_count": 33,
   "id": "2c1007e8-5af0-4eeb-b30d-b7853b5c8cfe",
   "metadata": {
    "execution": {
     "iopub.execute_input": "2023-05-02T21:59:00.178054Z",
     "iopub.status.busy": "2023-05-02T21:59:00.177950Z",
     "iopub.status.idle": "2023-05-02T21:59:00.484759Z",
     "shell.execute_reply": "2023-05-02T21:59:00.484394Z",
     "shell.execute_reply.started": "2023-05-02T21:59:00.178044Z"
    },
    "tags": []
   },
   "outputs": [
    {
     "data": {
      "text/plain": [
       "(17893, 69642)"
      ]
     },
     "execution_count": 33,
     "metadata": {},
     "output_type": "execute_result"
    }
   ],
   "source": [
    "# Create a HashingTf instance with 200 features\n",
    "tf = HashingTF(numFeatures=200)\n",
    "\n",
    "# Map each word to one feature\n",
    "spam_features = tf.transform(spam_words)\n",
    "non_spam_features = tf.transform(non_spam_words)\n",
    "spam_features.count(), non_spam_features.count()"
   ]
  },
  {
   "cell_type": "code",
   "execution_count": 34,
   "id": "eb65969a-1542-483e-a8df-7a2b7e7de434",
   "metadata": {
    "execution": {
     "iopub.execute_input": "2023-05-02T21:59:00.485318Z",
     "iopub.status.busy": "2023-05-02T21:59:00.485198Z",
     "iopub.status.idle": "2023-05-02T21:59:00.491750Z",
     "shell.execute_reply": "2023-05-02T21:59:00.491458Z",
     "shell.execute_reply.started": "2023-05-02T21:59:00.485308Z"
    },
    "tags": []
   },
   "outputs": [],
   "source": [
    "# Label the features: 1 for spam, 0 for non-spam\n",
    "spam_samples = spam_features.map(lambda features: LabeledPoint(1, features))\n",
    "non_spam_samples = non_spam_features.map(lambda features: LabeledPoint(0, features))\n",
    "\n",
    "# Combine the two datasets\n",
    "# samples = spam_samples.join(non_spam_samples)\n",
    "samples = spam_samples.union(non_spam_samples)"
   ]
  },
  {
   "cell_type": "markdown",
   "id": "b299a797-357d-464d-a0a9-b2222c203fcc",
   "metadata": {},
   "source": [
    "## Logistic Regression model training"
   ]
  },
  {
   "cell_type": "code",
   "execution_count": 35,
   "id": "9b364131-c738-4c29-8bc1-15fd9e5409a3",
   "metadata": {
    "execution": {
     "iopub.execute_input": "2023-05-02T21:59:00.492357Z",
     "iopub.status.busy": "2023-05-02T21:59:00.492155Z",
     "iopub.status.idle": "2023-05-02T21:59:03.233287Z",
     "shell.execute_reply": "2023-05-02T21:59:03.232763Z",
     "shell.execute_reply.started": "2023-05-02T21:59:00.492346Z"
    },
    "scrolled": true,
    "tags": []
   },
   "outputs": [
    {
     "name": "stderr",
     "output_type": "stream",
     "text": [
      "23/05/02 18:59:01 WARN Instrumentation: [90c54ba9] Initial coefficients will be ignored! Its dimensions (1, 200) did not match the expected size (1, 200)\n"
     ]
    },
    {
     "name": "stdout",
     "output_type": "stream",
     "text": [
      "Model accuracy : 0.82\n"
     ]
    }
   ],
   "source": [
    "# Split the data into training and testing\n",
    "train_samples,test_samples = samples.randomSplit([0.8, 0.2])\n",
    "\n",
    "# Train the model\n",
    "model = LogisticRegressionWithLBFGS.train(train_samples) # <<<<< TypeError: 'LabeledPoint' object is not subscriptable\n",
    "\n",
    "# Create a prediction label from the test data\n",
    "predictions = model.predict(test_samples.map(lambda x: x.features))\n",
    "\n",
    "# Combine original labels with the predicted labels\n",
    "labels_and_preds = test_samples.map(lambda x: x.label).zip(predictions)\n",
    "\n",
    "# Check the accuracy of the model on the test data\n",
    "accuracy = labels_and_preds.filter(lambda x: x[0] == x[1]).count() / float(test_samples.count())\n",
    "print(\"Model accuracy : {:.2f}\".format(accuracy))"
   ]
  },
  {
   "cell_type": "markdown",
   "id": "3a394e0c-ca22-438f-b922-0d45756f7f92",
   "metadata": {},
   "source": [
    "# Introduction to Clustering"
   ]
  },
  {
   "cell_type": "markdown",
   "id": "0190727a-6b8a-4f7f-a23a-1e2576b4722a",
   "metadata": {},
   "source": [
    "## What is Clustering?\n",
    "* Clustering is the unsupervised learning task to organize a collection of data into groups\n",
    "* PySpark MLlib library currently supports the following clustering models\n",
    "    * K-means (most popular method)\n",
    "    * Gaussian mixture\n",
    "    * Power iteration clustering (PIC)\n",
    "    * Bisecting k-means\n",
    "    * Streaming k-means"
   ]
  },
  {
   "cell_type": "markdown",
   "id": "6a85b038-d652-4096-8c76-bc518e240470",
   "metadata": {},
   "source": [
    "## K-means with Spark MLLib"
   ]
  },
  {
   "cell_type": "code",
   "execution_count": 36,
   "id": "28457b4e-65e8-4eaf-ab85-493baffc2c55",
   "metadata": {
    "execution": {
     "iopub.execute_input": "2023-05-02T21:59:03.233945Z",
     "iopub.status.busy": "2023-05-02T21:59:03.233787Z",
     "iopub.status.idle": "2023-05-02T21:59:03.298211Z",
     "shell.execute_reply": "2023-05-02T21:59:03.297948Z",
     "shell.execute_reply.started": "2023-05-02T21:59:03.233930Z"
    },
    "tags": []
   },
   "outputs": [
    {
     "data": {
      "text/plain": [
       "[[7.4, 0.7], [7.8, 0.88], [7.8, 0.76], [11.2, 0.28], [7.4, 0.7]]"
      ]
     },
     "execution_count": 36,
     "metadata": {},
     "output_type": "execute_result"
    }
   ],
   "source": [
    "from itertools import islice\n",
    "skip_rows = 1\n",
    "RDD = sc.textFile('WineData.csv')\\\n",
    "        .mapPartitionsWithIndex(lambda i, iter: islice(iter, skip_rows, None) if i == 0 else iter)\\\n",
    "        .map(lambda x: x.split(\",\"))\\\n",
    "        .map(lambda x: [float(x[0]), float(x[1])])\n",
    "    \n",
    "RDD.take(5)"
   ]
  },
  {
   "cell_type": "markdown",
   "id": "d8e8a1d3-fa51-437b-a6b7-517cdb883ad3",
   "metadata": {},
   "source": [
    "## Train a K-means clustering model\n",
    "* Training K-means model is done using KMeans.train() method"
   ]
  },
  {
   "cell_type": "code",
   "execution_count": 37,
   "id": "79bd0fad-75e4-4416-ac68-a2709d3c25d1",
   "metadata": {
    "execution": {
     "iopub.execute_input": "2023-05-02T21:59:03.298782Z",
     "iopub.status.busy": "2023-05-02T21:59:03.298575Z",
     "iopub.status.idle": "2023-05-02T21:59:03.743991Z",
     "shell.execute_reply": "2023-05-02T21:59:03.743705Z",
     "shell.execute_reply.started": "2023-05-02T21:59:03.298768Z"
    },
    "tags": []
   },
   "outputs": [
    {
     "data": {
      "text/plain": [
       "[array([7.44568221, 0.55474957]), array([10.61451247,  0.45710884])]"
      ]
     },
     "execution_count": 37,
     "metadata": {},
     "output_type": "execute_result"
    }
   ],
   "source": [
    "from pyspark.mllib.clustering import KMeans\n",
    "model = KMeans.train(RDD, k = 2, maxIterations = 10)\n",
    "model.clusterCenters"
   ]
  },
  {
   "cell_type": "markdown",
   "id": "dbabcbc0-f5a2-437f-a4d9-d411c2a90464",
   "metadata": {},
   "source": [
    "## Evaluating the K-means Model"
   ]
  },
  {
   "cell_type": "code",
   "execution_count": 38,
   "id": "0186f127-2991-4d07-b33c-7a23b9a9ba16",
   "metadata": {
    "execution": {
     "iopub.execute_input": "2023-05-02T21:59:03.744489Z",
     "iopub.status.busy": "2023-05-02T21:59:03.744369Z",
     "iopub.status.idle": "2023-05-02T21:59:03.836942Z",
     "shell.execute_reply": "2023-05-02T21:59:03.836542Z",
     "shell.execute_reply.started": "2023-05-02T21:59:03.744478Z"
    },
    "tags": []
   },
   "outputs": [
    {
     "name": "stdout",
     "output_type": "stream",
     "text": [
      "Within Set Sum of Squared Error = 1315.4149702508378\n"
     ]
    }
   ],
   "source": [
    "from math import sqrt\n",
    "def error(point):\n",
    "    center = model.centers[model.predict(point)]\n",
    "    return sqrt(sum([x**2 for x in (point - center)]))\n",
    "\n",
    "WSSSE = RDD.map(lambda point: error(point)).reduce(lambda x, y: x + y)\n",
    "print(\"Within Set Sum of Squared Error = \" + str(WSSSE))"
   ]
  },
  {
   "cell_type": "markdown",
   "id": "c00eb3ba-b60d-4057-bd89-d919df2e633a",
   "metadata": {},
   "source": [
    "## Visualizing clusters"
   ]
  },
  {
   "cell_type": "code",
   "execution_count": 39,
   "id": "afdb9290-8eb4-405b-ad0f-ae91719dca7d",
   "metadata": {
    "execution": {
     "iopub.execute_input": "2023-05-02T21:59:03.837511Z",
     "iopub.status.busy": "2023-05-02T21:59:03.837398Z",
     "iopub.status.idle": "2023-05-02T21:59:03.989980Z",
     "shell.execute_reply": "2023-05-02T21:59:03.989702Z",
     "shell.execute_reply.started": "2023-05-02T21:59:03.837501Z"
    },
    "tags": []
   },
   "outputs": [
    {
     "data": {
      "text/html": [
       "<div>\n",
       "<style scoped>\n",
       "    .dataframe tbody tr th:only-of-type {\n",
       "        vertical-align: middle;\n",
       "    }\n",
       "\n",
       "    .dataframe tbody tr th {\n",
       "        vertical-align: top;\n",
       "    }\n",
       "\n",
       "    .dataframe thead th {\n",
       "        text-align: right;\n",
       "    }\n",
       "</style>\n",
       "<table border=\"1\" class=\"dataframe\">\n",
       "  <thead>\n",
       "    <tr style=\"text-align: right;\">\n",
       "      <th></th>\n",
       "      <th>col1</th>\n",
       "      <th>col2</th>\n",
       "    </tr>\n",
       "  </thead>\n",
       "  <tbody>\n",
       "    <tr>\n",
       "      <th>0</th>\n",
       "      <td>7.4</td>\n",
       "      <td>0.700</td>\n",
       "    </tr>\n",
       "    <tr>\n",
       "      <th>1</th>\n",
       "      <td>7.8</td>\n",
       "      <td>0.880</td>\n",
       "    </tr>\n",
       "    <tr>\n",
       "      <th>2</th>\n",
       "      <td>7.8</td>\n",
       "      <td>0.760</td>\n",
       "    </tr>\n",
       "    <tr>\n",
       "      <th>3</th>\n",
       "      <td>11.2</td>\n",
       "      <td>0.280</td>\n",
       "    </tr>\n",
       "    <tr>\n",
       "      <th>4</th>\n",
       "      <td>7.4</td>\n",
       "      <td>0.700</td>\n",
       "    </tr>\n",
       "    <tr>\n",
       "      <th>...</th>\n",
       "      <td>...</td>\n",
       "      <td>...</td>\n",
       "    </tr>\n",
       "    <tr>\n",
       "      <th>1594</th>\n",
       "      <td>6.2</td>\n",
       "      <td>0.600</td>\n",
       "    </tr>\n",
       "    <tr>\n",
       "      <th>1595</th>\n",
       "      <td>5.9</td>\n",
       "      <td>0.550</td>\n",
       "    </tr>\n",
       "    <tr>\n",
       "      <th>1596</th>\n",
       "      <td>6.3</td>\n",
       "      <td>0.510</td>\n",
       "    </tr>\n",
       "    <tr>\n",
       "      <th>1597</th>\n",
       "      <td>5.9</td>\n",
       "      <td>0.645</td>\n",
       "    </tr>\n",
       "    <tr>\n",
       "      <th>1598</th>\n",
       "      <td>6.0</td>\n",
       "      <td>0.310</td>\n",
       "    </tr>\n",
       "  </tbody>\n",
       "</table>\n",
       "<p>1599 rows × 2 columns</p>\n",
       "</div>"
      ],
      "text/plain": [
       "      col1   col2\n",
       "0      7.4  0.700\n",
       "1      7.8  0.880\n",
       "2      7.8  0.760\n",
       "3     11.2  0.280\n",
       "4      7.4  0.700\n",
       "...    ...    ...\n",
       "1594   6.2  0.600\n",
       "1595   5.9  0.550\n",
       "1596   6.3  0.510\n",
       "1597   5.9  0.645\n",
       "1598   6.0  0.310\n",
       "\n",
       "[1599 rows x 2 columns]"
      ]
     },
     "execution_count": 39,
     "metadata": {},
     "output_type": "execute_result"
    }
   ],
   "source": [
    "wine_data_df = spark.createDataFrame(RDD, schema=[\"col1\", \"col2\"])\n",
    "wine_data_df_pandas = wine_data_df.toPandas()\n",
    "wine_data_df_pandas"
   ]
  },
  {
   "cell_type": "code",
   "execution_count": 40,
   "id": "150df8fc-49de-4b25-88cf-7cd97cf2fc11",
   "metadata": {
    "execution": {
     "iopub.execute_input": "2023-05-02T21:59:03.991975Z",
     "iopub.status.busy": "2023-05-02T21:59:03.991832Z",
     "iopub.status.idle": "2023-05-02T21:59:03.996274Z",
     "shell.execute_reply": "2023-05-02T21:59:03.995923Z",
     "shell.execute_reply.started": "2023-05-02T21:59:03.991963Z"
    },
    "tags": []
   },
   "outputs": [
    {
     "data": {
      "text/html": [
       "<div>\n",
       "<style scoped>\n",
       "    .dataframe tbody tr th:only-of-type {\n",
       "        vertical-align: middle;\n",
       "    }\n",
       "\n",
       "    .dataframe tbody tr th {\n",
       "        vertical-align: top;\n",
       "    }\n",
       "\n",
       "    .dataframe thead th {\n",
       "        text-align: right;\n",
       "    }\n",
       "</style>\n",
       "<table border=\"1\" class=\"dataframe\">\n",
       "  <thead>\n",
       "    <tr style=\"text-align: right;\">\n",
       "      <th></th>\n",
       "      <th>col1</th>\n",
       "      <th>col2</th>\n",
       "    </tr>\n",
       "  </thead>\n",
       "  <tbody>\n",
       "    <tr>\n",
       "      <th>0</th>\n",
       "      <td>7.445682</td>\n",
       "      <td>0.554750</td>\n",
       "    </tr>\n",
       "    <tr>\n",
       "      <th>1</th>\n",
       "      <td>10.614512</td>\n",
       "      <td>0.457109</td>\n",
       "    </tr>\n",
       "  </tbody>\n",
       "</table>\n",
       "</div>"
      ],
      "text/plain": [
       "        col1      col2\n",
       "0   7.445682  0.554750\n",
       "1  10.614512  0.457109"
      ]
     },
     "execution_count": 40,
     "metadata": {},
     "output_type": "execute_result"
    }
   ],
   "source": [
    "cluster_centers_pandas = pd.DataFrame(model.clusterCenters, columns=[\"col1\", \"col2\"])\n",
    "cluster_centers_pandas.head()"
   ]
  },
  {
   "cell_type": "code",
   "execution_count": 41,
   "id": "010a0a04-b1fc-49a2-a8ff-d5de338f13b1",
   "metadata": {
    "execution": {
     "iopub.execute_input": "2023-05-02T21:59:03.996874Z",
     "iopub.status.busy": "2023-05-02T21:59:03.996729Z",
     "iopub.status.idle": "2023-05-02T21:59:04.110683Z",
     "shell.execute_reply": "2023-05-02T21:59:04.110363Z",
     "shell.execute_reply.started": "2023-05-02T21:59:03.996863Z"
    },
    "tags": []
   },
   "outputs": [
    {
     "data": {
      "text/plain": [
       "<matplotlib.collections.PathCollection at 0x7fda3d60f460>"
      ]
     },
     "execution_count": 41,
     "metadata": {},
     "output_type": "execute_result"
    },
    {
     "data": {
      "image/png": "[encoded data removed]",
      "text/plain": [
       "<Figure size 640x480 with 1 Axes>"
      ]
     },
     "metadata": {},
     "output_type": "display_data"
    }
   ],
   "source": [
    "plt.scatter(wine_data_df_pandas[\"col1\"], wine_data_df_pandas[\"col2\"]);\n",
    "plt.scatter(cluster_centers_pandas[\"col1\"], cluster_centers_pandas[\"col2\"], color=\"red\", marker=\"x\")"
   ]
  },
  {
   "cell_type": "markdown",
   "id": "29591783-6916-4787-8c28-3278ae990d27",
   "metadata": {},
   "source": [
    "## Exercises"
   ]
  },
  {
   "cell_type": "markdown",
   "id": "07033837-85f2-4cfd-8930-de34b6ad56f5",
   "metadata": {},
   "source": [
    "### Loading and parsing the 5000 points data"
   ]
  },
  {
   "cell_type": "code",
   "execution_count": 42,
   "id": "8a5deb65-77f5-4631-9823-10995e514f79",
   "metadata": {
    "execution": {
     "iopub.execute_input": "2023-05-02T21:59:04.111124Z",
     "iopub.status.busy": "2023-05-02T21:59:04.111014Z",
     "iopub.status.idle": "2023-05-02T21:59:04.178661Z",
     "shell.execute_reply": "2023-05-02T21:59:04.178158Z",
     "shell.execute_reply.started": "2023-05-02T21:59:04.111114Z"
    }
   },
   "outputs": [
    {
     "name": "stdout",
     "output_type": "stream",
     "text": [
      "There are 5000 rows in the rdd_split_int dataset\n"
     ]
    }
   ],
   "source": [
    "# Load the dataset into an RDD\n",
    "clusterRDD = sc.textFile('5000_points.txt')\n",
    "# Split the RDD based on tab\n",
    "rdd_split = clusterRDD.map(lambda x: x.split('\\t'))\n",
    "# Transform the split RDD by creating a list of integers\n",
    "rdd_split_int = rdd_split.map(lambda x: [int(x[0]), int(x[1])])\n",
    "# Count the number of rows in RDD \n",
    "print(\"There are {} rows in the rdd_split_int dataset\".format(rdd_split_int.count()))"
   ]
  },
  {
   "cell_type": "markdown",
   "id": "94cd2c99-166c-446d-a04a-e0108bd3ea36",
   "metadata": {},
   "source": [
    "### K-means training"
   ]
  },
  {
   "cell_type": "code",
   "execution_count": 43,
   "id": "3c22b651-ea20-4b30-8900-a68abacba2fb",
   "metadata": {
    "execution": {
     "iopub.execute_input": "2023-05-02T21:59:04.179480Z",
     "iopub.status.busy": "2023-05-02T21:59:04.179191Z",
     "iopub.status.idle": "2023-05-02T21:59:05.916808Z",
     "shell.execute_reply": "2023-05-02T21:59:05.916412Z",
     "shell.execute_reply.started": "2023-05-02T21:59:04.179467Z"
    },
    "tags": []
   },
   "outputs": [
    {
     "name": "stdout",
     "output_type": "stream",
     "text": [
      "The cluster 13 has Within Set Sum of Squared Error 276964198.80208665\n",
      "The cluster 14 has Within Set Sum of Squared Error 249534250.41062492\n",
      "The cluster 15 has Within Set Sum of Squared Error 207349106.10454482\n",
      "The cluster 16 has Within Set Sum of Squared Error 167880388.56492716\n"
     ]
    }
   ],
   "source": [
    "# Train the model with clusters from 13 to 16 and compute WSSSE\n",
    "for clst in range(13, 17):\n",
    "    model = KMeans.train(rdd_split_int, clst)\n",
    "    WSSSE = rdd_split_int.map(lambda point: error(point)).reduce(lambda x, y: x + y)\n",
    "    print(\"The cluster {} has Within Set Sum of Squared Error {}\".format(clst, WSSSE))"
   ]
  },
  {
   "cell_type": "code",
   "execution_count": 44,
   "id": "b5a0ee94-0a31-4e9b-ba13-0115eac5c16f",
   "metadata": {
    "execution": {
     "iopub.execute_input": "2023-05-02T21:59:05.917343Z",
     "iopub.status.busy": "2023-05-02T21:59:05.917231Z",
     "iopub.status.idle": "2023-05-02T21:59:06.106737Z",
     "shell.execute_reply": "2023-05-02T21:59:06.106348Z",
     "shell.execute_reply.started": "2023-05-02T21:59:05.917332Z"
    },
    "tags": []
   },
   "outputs": [
    {
     "data": {
      "text/plain": [
       "[array([417799.69426752, 787001.99363057]),\n",
       " array([852058.45259939, 157685.52293578]),\n",
       " array([858947.9713467 , 546259.65902579]),\n",
       " array([398555.94857143, 404855.06857143]),\n",
       " array([507818.31339031, 175610.41595442]),\n",
       " array([167856.14071856, 347812.71556886]),\n",
       " array([337565.11890244, 562157.17682927]),\n",
       " array([139682.37572254, 558123.40462428]),\n",
       " array([320602.55, 161521.85]),\n",
       " array([244654.8856305 , 847642.04105572]),\n",
       " array([801616.78164557, 321123.34177215]),\n",
       " array([606574.95622896, 574455.16835017]),\n",
       " array([823421.2507837 , 731145.27272727]),\n",
       " array([617601.91071429, 399504.21428571]),\n",
       " array([670929.06818182, 862765.73295455])]"
      ]
     },
     "execution_count": 44,
     "metadata": {},
     "output_type": "execute_result"
    }
   ],
   "source": [
    "# Train the model again with the best k\n",
    "model = KMeans.train(rdd_split_int, k=15, seed=1)\n",
    "# Get cluster centers\n",
    "cluster_centers = model.clusterCenters\n",
    "cluster_centers"
   ]
  },
  {
   "cell_type": "markdown",
   "id": "2691c6c6-2293-4c61-bdb5-a6c065f8b9b6",
   "metadata": {},
   "source": [
    "## Visualizing clusters"
   ]
  },
  {
   "cell_type": "code",
   "execution_count": 45,
   "id": "d4b4727d-193c-4935-9a02-55c9cc0f2141",
   "metadata": {
    "execution": {
     "iopub.execute_input": "2023-05-02T21:59:06.107599Z",
     "iopub.status.busy": "2023-05-02T21:59:06.107316Z",
     "iopub.status.idle": "2023-05-02T21:59:06.340958Z",
     "shell.execute_reply": "2023-05-02T21:59:06.340634Z",
     "shell.execute_reply.started": "2023-05-02T21:59:06.107582Z"
    },
    "tags": []
   },
   "outputs": [
    {
     "data": {
      "image/png": "[encoded data removed]",
      "text/plain": [
       "<Figure size 640x480 with 1 Axes>"
      ]
     },
     "metadata": {},
     "output_type": "display_data"
    }
   ],
   "source": [
    "# Convert rdd_split_int RDD into Spark DataFrame and then to Pandas DataFrame\n",
    "rdd_split_int_df_pandas = spark.createDataFrame(rdd_split_int, schema=[\"col1\", \"col2\"]).toPandas()\n",
    "# Convert cluster_centers to a pandas DataFrame\n",
    "cluster_centers_pandas = pd.DataFrame(model.clusterCenters, columns=[\"col1\", \"col2\"])\n",
    "# Create an overlaid scatter plot of clusters and centroids\n",
    "plt.scatter(rdd_split_int_df_pandas[\"col1\"], rdd_split_int_df_pandas[\"col2\"])\n",
    "plt.scatter(cluster_centers_pandas[\"col1\"], cluster_centers_pandas[\"col2\"], color=\"red\", marker=\"x\")\n",
    "plt.show()"
   ]
  }
 ],
 "metadata": {
  "kernelspec": {
   "display_name": "Python 3 (ipykernel)",
   "language": "python",
   "name": "python3"
  },
  "language_info": {
   "codemirror_mode": {
    "name": "ipython",
    "version": 3
   },
   "file_extension": ".py",
   "mimetype": "text/x-python",
   "name": "python",
   "nbconvert_exporter": "python",
   "pygments_lexer": "ipython3",
   "version": "3.10.10"
  },
  "toc-autonumbering": true
 },
 "nbformat": 4,
 "nbformat_minor": 5
}
